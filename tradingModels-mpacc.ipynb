{
 "cells": [
  {
   "cell_type": "code",
   "execution_count": 2,
   "metadata": {
    "slideshow": {
     "slide_type": "notes"
    }
   },
   "outputs": [
    {
     "name": "stderr",
     "output_type": "stream",
     "text": [
      "/home/VENV36/lib/python3.6/site-packages/pandas/compat/__init__.py:117: UserWarning: Could not import the lzma module. Your installed Python is incomplete. Attempting to use lzma compression will result in a RuntimeError.\n",
      "  warnings.warn(msg)\n"
     ]
    }
   ],
   "source": [
    "import pandas as pd\n",
    "import numpy as np\n",
    "import talib\n",
    "from datetime import datetime\n",
    "import mplfinance as mpf\n",
    "import matplotlib.pyplot as plt\n",
    "import pandas_datareader.data as web\n",
    "import statsmodels.api as sm\n",
    "from IPython.core.interactiveshell import InteractiveShell\n",
    "InteractiveShell.ast_node_interactivity = \"all\"\n",
    "from pandas.plotting import register_matplotlib_converters\n",
    "register_matplotlib_converters()"
   ]
  },
  {
   "cell_type": "markdown",
   "metadata": {
    "slideshow": {
     "slide_type": "slide"
    }
   },
   "source": [
    "<div class=\"jumbotron\">\n",
    "    <p class=\"display-1 h1\">量化交易策略与模型</p>\n",
    "    <hr class=\"my-4\">\n",
    "    <p>主讲：李岩</p>\n",
    "    <p>管理学院</p>\n",
    "    <p>liyan@cumtb.edu.cn</p>\n",
    "</div>"
   ]
  },
  {
   "cell_type": "markdown",
   "metadata": {
    "slideshow": {
     "slide_type": "slide"
    }
   },
   "source": [
    "# 交易基础"
   ]
  },
  {
   "cell_type": "markdown",
   "metadata": {
    "slideshow": {
     "slide_type": "fragment"
    }
   },
   "source": [
    "## 交易操作"
   ]
  },
  {
   "cell_type": "markdown",
   "metadata": {
    "slideshow": {
     "slide_type": "fragment"
    }
   },
   "source": [
    "<dl class=\"row text-info\">\n",
    "    <dt class=\"col-md-2\">开仓</dt>\n",
    "    <dd class=\"col-md-10\">交易者<strong>新</strong>买入或<strong>新</strong>卖出一定数量的交易标的</dd>\n",
    "</dl>"
   ]
  },
  {
   "cell_type": "markdown",
   "metadata": {
    "slideshow": {
     "slide_type": "fragment"
    }
   },
   "source": [
    "- 例如，以3500元/吨的价格在期货市场上卖出10手rb2101合约"
   ]
  },
  {
   "cell_type": "markdown",
   "metadata": {
    "slideshow": {
     "slide_type": "fragment"
    }
   },
   "source": [
    "<dl class=\"row text-danger\">\n",
    "    <dt class=\"col-md-2\">平仓</dt>\n",
    "    <dd class=\"col-md-10\">交易者通过<strong>笔数相等</strong>、<strong>方向相反</strong>的交易来对冲原来持有的交易标的的过程</dd>\n",
    "</dl>"
   ]
  },
  {
   "cell_type": "markdown",
   "metadata": {
    "slideshow": {
     "slide_type": "fragment"
    }
   },
   "source": [
    "- 以3500元/吨的价格在期货市场上卖出10手rb2101合约，则须在2021年1月之前**买进10手**该月份合约对冲平仓"
   ]
  },
  {
   "cell_type": "markdown",
   "metadata": {
    "slideshow": {
     "slide_type": "slide"
    }
   },
   "source": [
    "<dl class=\"row\">\n",
    "    <dt class=\"col-md-2\">持仓</dt>\n",
    "    <dd class=\"col-md-10\">开仓之后尚没有平仓的交易标的，是交易者持有交易标的的过程</dd>\n",
    "</dl>"
   ]
  },
  {
   "cell_type": "markdown",
   "metadata": {
    "slideshow": {
     "slide_type": "fragment"
    }
   },
   "source": [
    "- 多头头寸：**买入**交易标的后持有的头寸，也被称为***多头***"
   ]
  },
  {
   "cell_type": "markdown",
   "metadata": {
    "slideshow": {
     "slide_type": "fragment"
    }
   },
   "source": [
    "- 空头头寸：**卖出**交易标的后持有的头寸，也被称为***空头***"
   ]
  },
  {
   "cell_type": "markdown",
   "metadata": {
    "slideshow": {
     "slide_type": "slide"
    }
   },
   "source": [
    "## 交易量"
   ]
  },
  {
   "cell_type": "markdown",
   "metadata": {
    "slideshow": {
     "slide_type": "fragment"
    }
   },
   "source": [
    "<dl class=\"row text-info\">\n",
    "    <dt class=\"col-md-2\">成交量</dt>\n",
    "    <dd class=\"col-md-10\">在一个交易时段内买卖某种交易标的的数量</dd>\n",
    "</dl>"
   ]
  },
  {
   "cell_type": "markdown",
   "metadata": {
    "slideshow": {
     "slide_type": "fragment"
    }
   },
   "source": [
    "<dl class=\"row text-danger\">\n",
    "    <dt class=\"col-md-2\">持仓量</dt>\n",
    "    <dd class=\"col-md-10\">所有投资者持仓的总数，是所有多头与空头数之和</dd>\n",
    "</dl>"
   ]
  },
  {
   "cell_type": "markdown",
   "metadata": {
    "slideshow": {
     "slide_type": "slide"
    }
   },
   "source": [
    "## 价格"
   ]
  },
  {
   "cell_type": "markdown",
   "metadata": {
    "slideshow": {
     "slide_type": "fragment"
    }
   },
   "source": [
    "### 形态描述类价格"
   ]
  },
  {
   "cell_type": "markdown",
   "metadata": {
    "slideshow": {
     "slide_type": "fragment"
    }
   },
   "source": [
    "- 开盘价：某一交易标的在某一时间段内**第一笔**成交的价格\n",
    "- 收盘价：某一交易标的在某一时间段内**最后一笔**成交的价格\n",
    "- 最高价：某一交易标的在某一时间段内成交的**最高**价格\n",
    "- 最低价：某一交易标的在某一时间段内成交的**最低**价格"
   ]
  },
  {
   "cell_type": "markdown",
   "metadata": {
    "slideshow": {
     "slide_type": "slide"
    }
   },
   "source": [
    "#### 时间长度"
   ]
  },
  {
   "cell_type": "markdown",
   "metadata": {
    "slideshow": {
     "slide_type": "fragment"
    }
   },
   "source": [
    "- 不同的时间长度对应着不同长度的趋势\n",
    "    - 例如，1分钟、5分钟、15分钟、1小时、1天、1周、1月、半年、1年等"
   ]
  },
  {
   "cell_type": "markdown",
   "metadata": {
    "slideshow": {
     "slide_type": "fragment"
    }
   },
   "source": [
    "<center><img src=\"./img/tradingBasics/timescale.jpg\" width=100%></center>"
   ]
  },
  {
   "cell_type": "markdown",
   "metadata": {
    "slideshow": {
     "slide_type": "slide"
    }
   },
   "source": [
    "#### K线图(candlestick)"
   ]
  },
  {
   "cell_type": "markdown",
   "metadata": {
    "slideshow": {
     "slide_type": "fragment"
    }
   },
   "source": [
    "- 选取一个时间长度，然后用该时间长度内的**开盘价、收盘价、最高价、最低价**构成的图形"
   ]
  },
  {
   "cell_type": "markdown",
   "metadata": {
    "slideshow": {
     "slide_type": "fragment"
    }
   },
   "source": [
    "<center><img src=\"./img/tradingBasics/candlestick.png\" width=70%></center>"
   ]
  },
  {
   "cell_type": "markdown",
   "metadata": {
    "slideshow": {
     "slide_type": "slide"
    }
   },
   "source": [
    "##### 获取数据"
   ]
  },
  {
   "cell_type": "markdown",
   "metadata": {
    "slideshow": {
     "slide_type": "fragment"
    }
   },
   "source": [
    "```python\n",
    "pip install pandas-datareader\n",
    "```"
   ]
  },
  {
   "cell_type": "markdown",
   "metadata": {
    "slideshow": {
     "slide_type": "fragment"
    }
   },
   "source": [
    "```python\n",
    "import pandas_datareader.data as web\n",
    "web.DataReader(symbols=None,start=None,end=None,freq='d')\n",
    "```\n",
    "- `symbols`：标的物代码，字符串\n",
    "- `start`：起始日期\n",
    "- `end`：结束日期\n",
    "- `freq`：频率，字符串，d, w, m ,q, y 对应日、周、月、季度、年\n",
    "- 返回`dataframe`格式数据"
   ]
  },
  {
   "cell_type": "markdown",
   "metadata": {
    "slideshow": {
     "slide_type": "fragment"
    }
   },
   "source": [
    "- 国内股票代码\n",
    "    - 上证股票代码+'.SS'\n",
    "    - 深证股票代码+'.SZ'"
   ]
  },
  {
   "cell_type": "markdown",
   "metadata": {
    "slideshow": {
     "slide_type": "fragment"
    }
   },
   "source": [
    "- 国内股票代码汇总\n",
    "    - [https://s.askci.com/stock/a/](https://s.askci.com/stock/a/)"
   ]
  },
  {
   "cell_type": "code",
   "execution_count": 7,
   "metadata": {
    "slideshow": {
     "slide_type": "slide"
    }
   },
   "outputs": [
    {
     "data": {
      "text/html": [
       "<div>\n",
       "<style scoped>\n",
       "    .dataframe tbody tr th:only-of-type {\n",
       "        vertical-align: middle;\n",
       "    }\n",
       "\n",
       "    .dataframe tbody tr th {\n",
       "        vertical-align: top;\n",
       "    }\n",
       "\n",
       "    .dataframe thead th {\n",
       "        text-align: right;\n",
       "    }\n",
       "</style>\n",
       "<table border=\"1\" class=\"dataframe\">\n",
       "  <thead>\n",
       "    <tr style=\"text-align: right;\">\n",
       "      <th></th>\n",
       "      <th>High</th>\n",
       "      <th>Low</th>\n",
       "      <th>Open</th>\n",
       "      <th>Close</th>\n",
       "      <th>Volume</th>\n",
       "      <th>Adj Close</th>\n",
       "    </tr>\n",
       "    <tr>\n",
       "      <th>Date</th>\n",
       "      <th></th>\n",
       "      <th></th>\n",
       "      <th></th>\n",
       "      <th></th>\n",
       "      <th></th>\n",
       "      <th></th>\n",
       "    </tr>\n",
       "  </thead>\n",
       "  <tbody>\n",
       "    <tr>\n",
       "      <th>2020-11-09</th>\n",
       "      <td>4.04</td>\n",
       "      <td>3.98</td>\n",
       "      <td>3.99</td>\n",
       "      <td>4.01</td>\n",
       "      <td>118274467.0</td>\n",
       "      <td>4.01</td>\n",
       "    </tr>\n",
       "    <tr>\n",
       "      <th>2020-11-10</th>\n",
       "      <td>4.14</td>\n",
       "      <td>4.03</td>\n",
       "      <td>4.10</td>\n",
       "      <td>4.04</td>\n",
       "      <td>275912937.0</td>\n",
       "      <td>4.04</td>\n",
       "    </tr>\n",
       "    <tr>\n",
       "      <th>2020-11-11</th>\n",
       "      <td>4.13</td>\n",
       "      <td>4.05</td>\n",
       "      <td>4.05</td>\n",
       "      <td>4.12</td>\n",
       "      <td>210512178.0</td>\n",
       "      <td>4.12</td>\n",
       "    </tr>\n",
       "    <tr>\n",
       "      <th>2020-11-12</th>\n",
       "      <td>4.12</td>\n",
       "      <td>4.04</td>\n",
       "      <td>4.12</td>\n",
       "      <td>4.06</td>\n",
       "      <td>117668522.0</td>\n",
       "      <td>4.06</td>\n",
       "    </tr>\n",
       "    <tr>\n",
       "      <th>2020-11-13</th>\n",
       "      <td>4.06</td>\n",
       "      <td>4.00</td>\n",
       "      <td>4.05</td>\n",
       "      <td>4.02</td>\n",
       "      <td>100156431.0</td>\n",
       "      <td>4.02</td>\n",
       "    </tr>\n",
       "  </tbody>\n",
       "</table>\n",
       "</div>"
      ],
      "text/plain": [
       "            High   Low  Open  Close       Volume  Adj Close\n",
       "Date                                                       \n",
       "2020-11-09  4.04  3.98  3.99   4.01  118274467.0       4.01\n",
       "2020-11-10  4.14  4.03  4.10   4.04  275912937.0       4.04\n",
       "2020-11-11  4.13  4.05  4.05   4.12  210512178.0       4.12\n",
       "2020-11-12  4.12  4.04  4.12   4.06  117668522.0       4.06\n",
       "2020-11-13  4.06  4.00  4.05   4.02  100156431.0       4.02"
      ]
     },
     "execution_count": 7,
     "metadata": {},
     "output_type": "execute_result"
    },
    {
     "data": {
      "text/plain": [
       "(451, 6)"
      ]
     },
     "execution_count": 7,
     "metadata": {},
     "output_type": "execute_result"
    }
   ],
   "source": [
    "# 中国石化\n",
    "stockPrice = web.DataReader('600028.SS','yahoo',start='2019-1-1',end='2020-11-13')\n",
    "stockPrice.tail()\n",
    "stockPrice.shape"
   ]
  },
  {
   "cell_type": "markdown",
   "metadata": {
    "slideshow": {
     "slide_type": "slide"
    }
   },
   "source": [
    "### 结算类价格"
   ]
  },
  {
   "cell_type": "markdown",
   "metadata": {
    "slideshow": {
     "slide_type": "fragment"
    }
   },
   "source": [
    "<dl class=\"row\">\n",
    "    <dt class=\"col-md-2\">结算价</dt>\n",
    "    <dd class=\"col-md-10\">某一期货合约当天的成交价格按照<strong>成交量</strong>的<strong>加权平均</strong>。</dd>\n",
    "</dl>"
   ]
  },
  {
   "cell_type": "markdown",
   "metadata": {
    "slideshow": {
     "slide_type": "fragment"
    }
   },
   "source": [
    "- 用来计算保证金账户每天盈亏的价格"
   ]
  },
  {
   "cell_type": "markdown",
   "metadata": {
    "slideshow": {
     "slide_type": "slide"
    }
   },
   "source": [
    "### 交易类价格"
   ]
  },
  {
   "cell_type": "markdown",
   "metadata": {
    "slideshow": {
     "slide_type": "fragment"
    }
   },
   "source": [
    "- Ask：卖价\n",
    "- Bid：买价"
   ]
  },
  {
   "cell_type": "markdown",
   "metadata": {
    "slideshow": {
     "slide_type": "fragment"
    }
   },
   "source": [
    "<div align=\"center\">\n",
    "    <img src=\"./img/tradingBasics/askbid.png\" width=200>\n",
    "</div>"
   ]
  },
  {
   "cell_type": "markdown",
   "metadata": {
    "slideshow": {
     "slide_type": "slide"
    }
   },
   "source": [
    "## 交易指令"
   ]
  },
  {
   "cell_type": "markdown",
   "metadata": {
    "slideshow": {
     "slide_type": "fragment"
    }
   },
   "source": [
    "- 在委托单上注明：投资者名称、投资者编码、投资者产品名称、合约到期月份、开仓或平仓的数量、买卖价格、执行方式、下单时间、投资者签名"
   ]
  },
  {
   "cell_type": "markdown",
   "metadata": {
    "slideshow": {
     "slide_type": "slide"
    }
   },
   "source": [
    "### 市价委托单"
   ]
  },
  {
   "cell_type": "markdown",
   "metadata": {
    "slideshow": {
     "slide_type": "fragment"
    }
   },
   "source": [
    "- 投资者在提交委托单时只规定数量而不规定价格，经纪商在接到该市价委托单后应以最快的速度，并尽可能以当时市场上最好的价格执行该委托单"
   ]
  },
  {
   "cell_type": "markdown",
   "metadata": {
    "slideshow": {
     "slide_type": "fragment"
    }
   },
   "source": [
    "- 市价**买进**委托单：以当时市场上**最低**的卖价成交\n",
    "- 市价**卖出**委托单：以当时市场上**最高**的买价成交"
   ]
  },
  {
   "cell_type": "markdown",
   "metadata": {
    "slideshow": {
     "slide_type": "fragment"
    }
   },
   "source": [
    "- 特点：能够确保成交，单不能保证成交价格"
   ]
  },
  {
   "cell_type": "markdown",
   "metadata": {
    "slideshow": {
     "slide_type": "slide"
    }
   },
   "source": [
    "### 限价委托单"
   ]
  },
  {
   "cell_type": "markdown",
   "metadata": {
    "slideshow": {
     "slide_type": "fragment"
    }
   },
   "source": [
    "- 下单时不仅规定数量，而且规定价格"
   ]
  },
  {
   "cell_type": "markdown",
   "metadata": {
    "slideshow": {
     "slide_type": "fragment"
    }
   },
   "source": [
    "> 例如，卖出限价为3500元/吨的rb2005螺纹钢10手"
   ]
  },
  {
   "cell_type": "markdown",
   "metadata": {
    "slideshow": {
     "slide_type": "fragment"
    }
   },
   "source": [
    "- 限价买进委托单：买入成交价应**不高于**指定的限价\n",
    "- 限价卖出委托单：卖出成交价应**不低于**指定的限价"
   ]
  },
  {
   "cell_type": "markdown",
   "metadata": {
    "slideshow": {
     "slide_type": "fragment"
    }
   },
   "source": [
    "- 特点：不能确保成交，但是一旦成交能够保证成交价格"
   ]
  },
  {
   "cell_type": "markdown",
   "metadata": {
    "slideshow": {
     "slide_type": "slide"
    }
   },
   "source": [
    "### 止损委托单"
   ]
  },
  {
   "cell_type": "markdown",
   "metadata": {
    "slideshow": {
     "slide_type": "fragment"
    }
   },
   "source": [
    "- 在委托单中设置一个触发价格，当市场价格上升或者下降到该触发价格的时候，止损委托单被激活，转化成市价委托单"
   ]
  },
  {
   "cell_type": "markdown",
   "metadata": {
    "slideshow": {
     "slide_type": "fragment"
    }
   },
   "source": [
    "- 多头：当市场价格等于或低于指定的止损价格，则执行市价卖出委托单\n",
    "- 空头：当市场价格等于或高于指定的止损价格，则执行市价买进委托单"
   ]
  },
  {
   "cell_type": "markdown",
   "metadata": {
    "slideshow": {
     "slide_type": "slide"
    }
   },
   "source": [
    "# 量化交易策略的组成"
   ]
  },
  {
   "cell_type": "markdown",
   "metadata": {
    "slideshow": {
     "slide_type": "fragment"
    }
   },
   "source": [
    "<dl class=\"row text-danger\">\n",
    "    <dt class=\"col-md-4\">交易策略</dt>\n",
    "    <dd class=\"col-md-8\">交易策略是交易员进行交易时遵循的交易规则</dd>\n",
    "</dl>"
   ]
  },
  {
   "cell_type": "markdown",
   "metadata": {
    "slideshow": {
     "slide_type": "fragment"
    }
   },
   "source": [
    "<center><img src=\"./img/strategy/strategyComp.png\" width=100%></center>"
   ]
  },
  {
   "cell_type": "markdown",
   "metadata": {
    "slideshow": {
     "slide_type": "slide"
    }
   },
   "source": [
    "## 交易标的"
   ]
  },
  {
   "cell_type": "markdown",
   "metadata": {
    "slideshow": {
     "slide_type": "fragment"
    }
   },
   "source": [
    "<dl class=\"row\">\n",
    "    <dt class=\"col-lg-4\">交易标的</dt>\n",
    "    <dd class=\"col-lg-8\">应当买卖哪些产品</dd>\n",
    "</dl>"
   ]
  },
  {
   "cell_type": "markdown",
   "metadata": {
    "slideshow": {
     "slide_type": "fragment"
    }
   },
   "source": [
    "- 只交易少数几个产品?\n",
    "- 交易全部产品？"
   ]
  },
  {
   "cell_type": "markdown",
   "metadata": {
    "slideshow": {
     "slide_type": "slide"
    }
   },
   "source": [
    "<center><img src=\"./img/strategy/rbContracts.png\"  width=100%></center>"
   ]
  },
  {
   "cell_type": "markdown",
   "metadata": {
    "slideshow": {
     "slide_type": "fragment"
    }
   },
   "source": [
    "- 对于每个品种，最好交易**主力**合约"
   ]
  },
  {
   "cell_type": "markdown",
   "metadata": {
    "slideshow": {
     "slide_type": "slide"
    }
   },
   "source": [
    "<center><img src=\"./img/strategy/majorContracts.png\" width=100% /></center>"
   ]
  },
  {
   "cell_type": "markdown",
   "metadata": {
    "slideshow": {
     "slide_type": "fragment"
    }
   },
   "source": [
    "- 在所有主力合约中，最好选择**成交量**最大的"
   ]
  },
  {
   "cell_type": "markdown",
   "metadata": {
    "slideshow": {
     "slide_type": "slide"
    }
   },
   "source": [
    "##### 如何选择交易标的？"
   ]
  },
  {
   "cell_type": "markdown",
   "metadata": {
    "slideshow": {
     "slide_type": "fragment"
    }
   },
   "source": [
    "- 选择交易标的的原则\n",
    "> 选择交易**活跃**（成交量大）的品种合约"
   ]
  },
  {
   "cell_type": "markdown",
   "metadata": {
    "slideshow": {
     "slide_type": "fragment"
    }
   },
   "source": [
    "- 设定投资组合\n",
    "    - 总有某个市场或某些产品出现趋势\n",
    "    - 有些交易不明朗的市场或产品可以先观望\n",
    "    - 当一些突发事件造成市场波动时，可以对冲风险"
   ]
  },
  {
   "cell_type": "markdown",
   "metadata": {
    "slideshow": {
     "slide_type": "slide"
    }
   },
   "source": [
    "## 头寸规模"
   ]
  },
  {
   "cell_type": "markdown",
   "metadata": {
    "slideshow": {
     "slide_type": "fragment"
    }
   },
   "source": [
    "<dl class=\"row\">\n",
    "    <dt class=\"col-md-4\">头寸规模</dt>\n",
    "    <dd class=\"col-md-8\">应当持有的交易标的的数量</dd>\n",
    "</dl>"
   ]
  },
  {
   "cell_type": "markdown",
   "metadata": {
    "slideshow": {
     "slide_type": "slide"
    }
   },
   "source": [
    "### 决定头寸规模的因素"
   ]
  },
  {
   "cell_type": "markdown",
   "metadata": {
    "slideshow": {
     "slide_type": "fragment"
    }
   },
   "source": [
    "- 可用资金量\n",
    "    + **全仓**：用全部可用资金购入交易标的\n",
    "    + **半仓**：用一半资金购入交易标的"
   ]
  },
  {
   "cell_type": "markdown",
   "metadata": {
    "slideshow": {
     "slide_type": "fragment"
    }
   },
   "source": [
    "- 交易标的的价格"
   ]
  },
  {
   "cell_type": "markdown",
   "metadata": {
    "slideshow": {
     "slide_type": "fragment"
    }
   },
   "source": [
    "- 市场的波动幅度\n",
    "    - 波动**强**的市场，头寸规模适当**减小**\n",
    "    - 波动**弱**的市场，头寸规模适当**增大**"
   ]
  },
  {
   "cell_type": "markdown",
   "metadata": {
    "slideshow": {
     "slide_type": "slide"
    }
   },
   "source": [
    "## 入场信号"
   ]
  },
  {
   "cell_type": "markdown",
   "metadata": {
    "slideshow": {
     "slide_type": "fragment"
    }
   },
   "source": [
    "<dl class=\"row\">\n",
    "    <dt class=\"col-md-4\">入场信号</dt>\n",
    "    <dd class=\"col-md-8\">决定何时开始建仓（加仓）的信号</dd>\n",
    "</dl>"
   ]
  },
  {
   "cell_type": "markdown",
   "metadata": {
    "slideshow": {
     "slide_type": "fragment"
    }
   },
   "source": [
    "### 信号的含义"
   ]
  },
  {
   "cell_type": "markdown",
   "metadata": {
    "slideshow": {
     "slide_type": "fragment"
    }
   },
   "source": [
    "- 趋势交易策略：价格形成**突破**"
   ]
  },
  {
   "cell_type": "markdown",
   "metadata": {
    "slideshow": {
     "slide_type": "fragment"
    }
   },
   "source": [
    "- 统计套利策略：价格差出现**异常**"
   ]
  },
  {
   "cell_type": "markdown",
   "metadata": {
    "slideshow": {
     "slide_type": "slide"
    }
   },
   "source": [
    "### 入场信号包含两种情形"
   ]
  },
  {
   "cell_type": "markdown",
   "metadata": {
    "slideshow": {
     "slide_type": "fragment"
    }
   },
   "source": [
    "- 初次建立仓位\n",
    "    - 趋势交易策略：技术分析指标\n",
    "    - 统计套利策略：价格差超过稳定阈值"
   ]
  },
  {
   "cell_type": "markdown",
   "metadata": {
    "slideshow": {
     "slide_type": "fragment"
    }
   },
   "source": [
    "- 加仓\n",
    "    - 盈利加仓？亏损加仓？"
   ]
  },
  {
   "cell_type": "markdown",
   "metadata": {
    "slideshow": {
     "slide_type": "slide"
    }
   },
   "source": [
    "- 盈利加仓"
   ]
  },
  {
   "cell_type": "markdown",
   "metadata": {
    "slideshow": {
     "slide_type": "fragment"
    }
   },
   "source": [
    "<center><img src=\"./img/strategy/winAdd.png\" width=100% /></center>"
   ]
  },
  {
   "cell_type": "markdown",
   "metadata": {
    "slideshow": {
     "slide_type": "slide"
    }
   },
   "source": [
    "- 亏损加仓"
   ]
  },
  {
   "cell_type": "markdown",
   "metadata": {
    "slideshow": {
     "slide_type": "fragment"
    }
   },
   "source": [
    "<center><img src=\"./img/strategy/lossAdd.png\" width=100%/></center>"
   ]
  },
  {
   "cell_type": "markdown",
   "metadata": {
    "slideshow": {
     "slide_type": "skip"
    }
   },
   "source": [
    "- 程序化交易的入市信号是由交易策略产生的\n",
    "\n",
    "自动运行的系统产生入市信号，这些信号说明了进入市场买卖的明确的价位和市场条件。"
   ]
  },
  {
   "cell_type": "markdown",
   "metadata": {
    "slideshow": {
     "slide_type": "slide"
    }
   },
   "source": [
    "## 离场信号"
   ]
  },
  {
   "cell_type": "markdown",
   "metadata": {
    "slideshow": {
     "slide_type": "fragment"
    }
   },
   "source": [
    "<dl class=\"row\">\n",
    "    <dt class=\"col-md-4\">离场信号</dt>\n",
    "    <dd class=\"col-md-8\">决定何时平调持有的头寸</dd>\n",
    "</dl>"
   ]
  },
  {
   "cell_type": "markdown",
   "metadata": {
    "slideshow": {
     "slide_type": "fragment"
    }
   },
   "source": [
    "- 离场信号包含\n",
    "    - 止盈\n",
    "    - 止损"
   ]
  },
  {
   "cell_type": "markdown",
   "metadata": {
    "slideshow": {
     "slide_type": "slide"
    }
   },
   "source": [
    "### 止盈"
   ]
  },
  {
   "cell_type": "markdown",
   "metadata": {
    "slideshow": {
     "slide_type": "fragment"
    }
   },
   "source": [
    "> 决定何时平掉持有的盈利头寸"
   ]
  },
  {
   "cell_type": "markdown",
   "metadata": {
    "slideshow": {
     "slide_type": "fragment"
    }
   },
   "source": [
    "- 是否有必要止盈？"
   ]
  },
  {
   "cell_type": "markdown",
   "metadata": {
    "slideshow": {
     "slide_type": "slide"
    }
   },
   "source": [
    "#### 止盈时机的选择"
   ]
  },
  {
   "cell_type": "markdown",
   "metadata": {
    "slideshow": {
     "slide_type": "fragment"
    }
   },
   "source": [
    "- 过早止盈：不能赚满整个趋势"
   ]
  },
  {
   "cell_type": "markdown",
   "metadata": {
    "slideshow": {
     "slide_type": "fragment"
    }
   },
   "source": [
    "<center><img src=\"./img/strategy/earlyWinExit.png\" width=100% /></center>"
   ]
  },
  {
   "cell_type": "markdown",
   "metadata": {
    "slideshow": {
     "slide_type": "slide"
    }
   },
   "source": [
    "- 过晚止盈：不能保住已经赚取的利润"
   ]
  },
  {
   "cell_type": "markdown",
   "metadata": {
    "slideshow": {
     "slide_type": "fragment"
    }
   },
   "source": [
    "<center><img src=\"./img/strategy/lateWinExit.png\" width=100% /></center>"
   ]
  },
  {
   "cell_type": "markdown",
   "metadata": {
    "slideshow": {
     "slide_type": "slide"
    }
   },
   "source": [
    "### 止损"
   ]
  },
  {
   "cell_type": "markdown",
   "metadata": {
    "slideshow": {
     "slide_type": "fragment"
    }
   },
   "source": [
    "> 决定何时平掉持有的亏损头寸"
   ]
  },
  {
   "cell_type": "markdown",
   "metadata": {
    "slideshow": {
     "slide_type": "fragment"
    }
   },
   "source": [
    "- 止损是在建立头寸之前，**预先**确定退出的价格位置"
   ]
  },
  {
   "cell_type": "markdown",
   "metadata": {
    "slideshow": {
     "slide_type": "fragment"
    }
   },
   "source": [
    "- 如果市场的波动触及止损价位，必须**每一次都毫无例外**退出"
   ]
  },
  {
   "cell_type": "markdown",
   "metadata": {
    "slideshow": {
     "slide_type": "fragment"
    }
   },
   "source": [
    "<center><img src=\"./img/strategy/stopLoss.png\" width=100%></center>"
   ]
  },
  {
   "cell_type": "markdown",
   "metadata": {
    "slideshow": {
     "slide_type": "skip"
    }
   },
   "source": [
    "长期来看，不会止住亏损的交易员不会取得成功。关于止亏，最重要的是在\n",
    "你建立头寸之前预先设定退出的点位。"
   ]
  },
  {
   "cell_type": "markdown",
   "metadata": {
    "slideshow": {
     "slide_type": "slide"
    }
   },
   "source": [
    "## “海龟”交易策略"
   ]
  },
  {
   "cell_type": "markdown",
   "metadata": {
    "slideshow": {
     "slide_type": "slide"
    }
   },
   "source": [
    "### 背景"
   ]
  },
  {
   "cell_type": "markdown",
   "metadata": {
    "slideshow": {
     "slide_type": "fragment"
    }
   },
   "source": [
    "> 伟大的交易员是天生造就还是后天培养的?\n"
   ]
  },
  {
   "cell_type": "markdown",
   "metadata": {
    "slideshow": {
     "slide_type": "fragment"
    }
   },
   "source": [
    "<center> <img src=\"./img/strategy/richard_dennis.jpg\" width=40%> </center>"
   ]
  },
  {
   "cell_type": "markdown",
   "metadata": {
    "slideshow": {
     "slide_type": "skip"
    }
   },
   "source": [
    "Richard Dennis是一个成功的交易员，他在1980年左右已经将他不到5000$的初始投资变成了1亿。\n",
    "他的合作伙伴William Eckhardt认为他的成功来自于他作为一个交易员的天分。\n",
    "但是Dennis不这样认为，他认为他的交易是建立在一套交易法则基础上的，任何人掌握了这套交易法则，将能够复制他的成功。\n",
    "最后他们决定做个实验来证实到底谁是对的。"
   ]
  },
  {
   "cell_type": "markdown",
   "metadata": {
    "slideshow": {
     "slide_type": "skip"
    }
   },
   "source": [
    "他们在《巴伦氏》、《华尔街期刊》和《纽约时报》上刊登了大幅广告，招聘交易学员。\n",
    "因为Richard或许是当时世界上最著名的交易员，所以有1000 多位申请人前来投奔他。他会见了其中的 80 位。\n",
    "这一群人精选出 13 个人。1983 年 12 月底，学员们\n",
    "被邀请到芝加哥进行两周的培训，到 1984 年 1 月初，学员们开始用小帐户进行交\n",
    "易。到了 2 月初，Richard给其中的大多数人提供了 50 万$\\sim$ 200 万美元的资金帐户。\n"
   ]
  },
  {
   "cell_type": "markdown",
   "metadata": {
    "slideshow": {
     "slide_type": "fragment"
    }
   },
   "source": [
    "- 从1000名报名者中挑选出13人\n",
    "- 1983 年 12 月底，学员们被邀请到芝加哥进行两周的培训\n",
    "- 1984 年初，Richard给其中的大多数人提供了 50 万$\\sim$ 200 万美元的资金帐用于交易\n",
    "- 学员们被称为“海龟”\n",
    "- 在随后的四年中海龟们取得了年均复利80%的收益"
   ]
  },
  {
   "cell_type": "markdown",
   "metadata": {
    "slideshow": {
     "slide_type": "skip"
    }
   },
   "source": [
    "\n",
    "学员们被称为“海龟”，因为Dennis相信他可以迅速的培养出交易员，就像新加坡的海龟培养员能迅速高效的培养出海龟一样。\n",
    "Dennis教授这些海龟们依靠科学的方法进行交易，以减少交易对心理的冲击，因为心理的脆弱最可能使得人们犯错误从而损失惨重。\n",
    "海龟成为交易史上最著名的实验，因为在随后的四年中海龟们取得了年均复利80%的收益。\n",
    "\n",
    "> Denniss证明了交易可以被传授。他证明了用一套简单的法则，他可以仅有很少或根本没有交易经验的人成为优秀的交易员。"
   ]
  },
  {
   "cell_type": "markdown",
   "metadata": {
    "slideshow": {
     "slide_type": "slide"
    }
   },
   "source": [
    "### 交易产品"
   ]
  },
  {
   "cell_type": "markdown",
   "metadata": {
    "slideshow": {
     "slide_type": "fragment"
    }
   },
   "source": [
    "- 芝加哥期货交易所（CBOT）    \n",
    "    - 30 年期美国长期国债（Treasury Bond）、10 年期美国中期国库券（Treasury Note）\n",
    "- 纽约咖啡可可与原糖交易所（NYCSC）    \n",
    "    - 咖啡、可可、原糖、棉花\n",
    "- 芝加哥商品交易所（CME）    \n",
    "    - 瑞士法郎、德国马克、英镑、法国法郎、日圆、加拿大元、标准普尔500股票指数、欧洲美元、天美国短期国库券（Treasury Bill）  \n",
    "- 纽约商品期货交易所（COMEX）    \n",
    "    - 黄金、白银、铜  \n",
    "- 纽约商业期货交易所（NYMEX）    \n",
    "    - 原油、燃油、无铅汽油 "
   ]
  },
  {
   "cell_type": "markdown",
   "metadata": {
    "slideshow": {
     "slide_type": "slide"
    }
   },
   "source": [
    "### 头寸规模"
   ]
  },
  {
   "cell_type": "markdown",
   "metadata": {
    "slideshow": {
     "slide_type": "fragment"
    }
   },
   "source": [
    "#### 单位建仓量"
   ]
  },
  {
   "cell_type": "markdown",
   "metadata": {
    "slideshow": {
     "slide_type": "fragment"
    }
   },
   "source": [
    "- 计算当日实际波动范围（TR, True Range）：  \n",
    "  $$ \\text{TR} = \\max\\{\\text{H}-\\text{L}, \\lvert\\text{H}-\\text{PDC}\\rvert, \\lvert\\text{PDC}-\\text{L}\\rvert\\} $$\n",
    "  其中：  H——当日最高价，L——当日最低价，PDC——前个交易日的收盘价"
   ]
  },
  {
   "cell_type": "markdown",
   "metadata": {
    "slideshow": {
     "slide_type": "fragment"
    }
   },
   "source": [
    "<center><img src=\"./img/strategy/atr1.png\" width=80%></center>"
   ]
  },
  {
   "cell_type": "markdown",
   "metadata": {
    "slideshow": {
     "slide_type": "fragment"
    }
   },
   "source": [
    "- 计算 ATR (TR的20日平均）：  \n",
    "  $$ \\text{ATR}_t = (19\\times\\text{ATR}_{t-1} + \\text{TR})/20  $$ \n",
    "  其中：TR——当日的实际波动范围 "
   ]
  },
  {
   "cell_type": "markdown",
   "metadata": {
    "slideshow": {
     "slide_type": "slide"
    }
   },
   "source": [
    "<center><img src=\"./img/strategy/atr.png\" width=100%></center>"
   ]
  },
  {
   "cell_type": "markdown",
   "metadata": {
    "slideshow": {
     "slide_type": "slide"
    }
   },
   "source": [
    "- 计算单位建仓量\n",
    "   $$ \\text{1个建仓单位} = \\frac{\\text{帐户资金金额的}1\\%}{\\text{ATR}\\times\\text{每点价值量（交易单位）}} $$ "
   ]
  },
  {
   "cell_type": "markdown",
   "metadata": {
    "slideshow": {
     "slide_type": "slide"
    }
   },
   "source": [
    "#### 最大头寸限制"
   ]
  },
  {
   "cell_type": "markdown",
   "metadata": {
    "slideshow": {
     "slide_type": "fragment"
    }
   },
   "source": [
    "<center>\n",
    "\n",
    "级别|类型|最大单位\n",
    "---|---|---   \n",
    "1|单一市场|4个单位\n",
    "2|高度相关市场|6个单位\n",
    "3|低度相关市场|10个单位  \n",
    "4|单向交易（多头或空头）|12个单位\n",
    "    \n",
    "</center>"
   ]
  },
  {
   "cell_type": "markdown",
   "metadata": {
    "slideshow": {
     "slide_type": "slide"
    }
   },
   "source": [
    "### 入市时机"
   ]
  },
  {
   "cell_type": "markdown",
   "metadata": {
    "slideshow": {
     "slide_type": "fragment"
    }
   },
   "source": [
    "> 以唐奇安通道(Donchian’s channel)突破作为入市时机"
   ]
  },
  {
   "cell_type": "markdown",
   "metadata": {
    "slideshow": {
     "slide_type": "fragment"
    }
   },
   "source": [
    "<dl class=\"row\"> \n",
    "    <dt class=\"col-md-4\">唐奇安通道</dt>\n",
    "    <dd class=\"col-md-8\">特定天数内的最高价和最低价组成的通道</dd>\n",
    "</dl>"
   ]
  },
  {
   "cell_type": "markdown",
   "metadata": {
    "slideshow": {
     "slide_type": "fragment"
    }
   },
   "source": [
    "<center><img src=\"./img/strategy/donchian.png\" width=100%></center>"
   ]
  },
  {
   "cell_type": "markdown",
   "metadata": {
    "slideshow": {
     "slide_type": "slide"
    }
   },
   "source": [
    "- 上线=$\\max（前T个交易日的最高价）$\n",
    "- 下线=$\\min（前T个交易日的最低价）$\n",
    "- 中线=（上线+下线）/2"
   ]
  },
  {
   "cell_type": "markdown",
   "metadata": {
    "slideshow": {
     "slide_type": "fragment"
    }
   },
   "source": [
    "- $T=20$，每个交易日结束之后更新当天的数据"
   ]
  },
  {
   "cell_type": "markdown",
   "metadata": {
    "slideshow": {
     "slide_type": "slide"
    }
   },
   "source": [
    "##### 初始建仓"
   ]
  },
  {
   "cell_type": "markdown",
   "metadata": {
    "slideshow": {
     "slide_type": "fragment"
    }
   },
   "source": [
    "- 如果当前价格<font color=\"red\"><strong>涨过</strong></font>了前20日的<font color=\"red\"><strong>最高价</strong></font>，建立1个单位**多头**寸\n",
    "- 如果当前价格<font color=\"green\"><strong>跌过</strong></font>了前20日的<font color=\"green\"><strong>最低价</strong></font>，建立1个单位**空头**寸。"
   ]
  },
  {
   "cell_type": "markdown",
   "metadata": {
    "slideshow": {
     "slide_type": "fragment"
    }
   },
   "source": [
    "> 在日间**突破发生时**进行交易，而不会等到每日收盘或次日开盘"
   ]
  },
  {
   "cell_type": "markdown",
   "metadata": {
    "slideshow": {
     "slide_type": "slide"
    }
   },
   "source": [
    "##### 加仓 "
   ]
  },
  {
   "cell_type": "markdown",
   "metadata": {
    "slideshow": {
     "slide_type": "fragment"
    }
   },
   "source": [
    "- 在上一次实际成交价格的基础上，以$\\frac{1}{2}$ATR的间隔增加头寸"
   ]
  },
  {
   "cell_type": "markdown",
   "metadata": {
    "slideshow": {
     "slide_type": "fragment"
    }
   },
   "source": [
    "- 假设rb的建仓价格为3800，ATR=46\n",
    "    - 第1个单位头寸：$3800$\n",
    "    - 第2个单位头寸：$3800+1/2*46=3823$\n",
    "    - 第3个单位头寸：$3823+1/2*46=3846$\n",
    "    - 第4个单位头寸：$3846+1/2*46=3869$"
   ]
  },
  {
   "cell_type": "markdown",
   "metadata": {
    "slideshow": {
     "slide_type": "slide"
    }
   },
   "source": [
    "### 离场信号"
   ]
  },
  {
   "cell_type": "markdown",
   "metadata": {
    "slideshow": {
     "slide_type": "fragment"
    }
   },
   "source": [
    "#### 止损"
   ]
  },
  {
   "cell_type": "markdown",
   "metadata": {
    "slideshow": {
     "slide_type": "fragment"
    }
   },
   "source": [
    "> 以头寸风险为基础设置止损，任何一笔交易都不能出现 2%以上的风险"
   ]
  },
  {
   "cell_type": "markdown",
   "metadata": {
    "slideshow": {
     "slide_type": "fragment"
    }
   },
   "source": [
    "- 因为1个ATR对应的价格波动代表1%的账户权益，因此2%的风险对应价格相对于建仓方向反向波动**2个ATR**"
   ]
  },
  {
   "cell_type": "markdown",
   "metadata": {
    "slideshow": {
     "slide_type": "fragment"
    }
   },
   "source": [
    "- 例如，在3800元/吨建立第一个单位的rb头寸，则止损价位为：\n",
    "    - $3800-2\\times 46=3708$"
   ]
  },
  {
   "cell_type": "markdown",
   "metadata": {
    "slideshow": {
     "slide_type": "slide"
    }
   },
   "source": [
    "> 海龟系统的止损能够适应市场的波动性"
   ]
  },
  {
   "cell_type": "markdown",
   "metadata": {
    "slideshow": {
     "slide_type": "fragment"
    }
   },
   "source": [
    "- 加仓之后，前面仓位的止损价格增加$\\frac{1}{2}$ATR，导致所有仓位的止损价格距离最近加仓价格的距离为2ATR"
   ]
  },
  {
   "cell_type": "markdown",
   "metadata": {
    "slideshow": {
     "slide_type": "fragment"
    }
   },
   "source": [
    "<center><img src=\"./img/strategy/stopLevel.png\" width=80%></center>"
   ]
  },
  {
   "cell_type": "markdown",
   "metadata": {
    "slideshow": {
     "slide_type": "slide"
    }
   },
   "source": [
    "#### 止盈"
   ]
  },
  {
   "cell_type": "markdown",
   "metadata": {
    "slideshow": {
     "slide_type": "fragment"
    }
   },
   "source": [
    "- 如果持有多头头寸，则当价格跌破 10 日最低价的时候离场\n",
    "- 如果持有空头头寸，则当价格涨过10 日最高价的时候离场"
   ]
  },
  {
   "cell_type": "markdown",
   "metadata": {
    "slideshow": {
     "slide_type": "skip"
    }
   },
   "source": [
    "海龟交易系统是一个完整的交易系统，它包括了交易的各个方面，实际上没\n",
    "有给交易员留下一点主观想象决策的余地。\n",
    "海龟策略从本质上讲是一个趋势跟随模型，通过唐安奇通道等突破方法确定入场和离场信号。海龟交易法则与其说是策略，不如说是一套系统，它不仅决定买卖什么、买卖多少、什么时候买卖、什么时候止损，还决定具体怎么买卖。"
   ]
  },
  {
   "cell_type": "markdown",
   "metadata": {
    "slideshow": {
     "slide_type": "slide"
    }
   },
   "source": [
    "# 量化交易系统"
   ]
  },
  {
   "cell_type": "markdown",
   "metadata": {
    "slideshow": {
     "slide_type": "fragment"
    }
   },
   "source": [
    "- 量化交易系统由**量化交易模型**驱动"
   ]
  },
  {
   "cell_type": "markdown",
   "metadata": {
    "slideshow": {
     "slide_type": "fragment"
    }
   },
   "source": [
    "<center><img src=\"./img/models/tradingSystem.png\" width=100%></center>"
   ]
  },
  {
   "cell_type": "markdown",
   "metadata": {
    "slideshow": {
     "slide_type": "slide"
    }
   },
   "source": [
    "- 数据模型\n",
    "    - 数据的获取、存储、处理等"
   ]
  },
  {
   "cell_type": "markdown",
   "metadata": {
    "slideshow": {
     "slide_type": "fragment"
    }
   },
   "source": [
    "- Alpha模型\n",
    "    - 决定入场、离场的时机"
   ]
  },
  {
   "cell_type": "markdown",
   "metadata": {
    "slideshow": {
     "slide_type": "fragment"
    }
   },
   "source": [
    "- 风险控制模型\n",
    "    - 控制损失"
   ]
  },
  {
   "cell_type": "markdown",
   "metadata": {
    "slideshow": {
     "slide_type": "fragment"
    }
   },
   "source": [
    "- 交易成本模型\n",
    "    - 估计交易成本（交易手续费等）与收益"
   ]
  },
  {
   "cell_type": "markdown",
   "metadata": {
    "slideshow": {
     "slide_type": "slide"
    }
   },
   "source": [
    "- 投资组合模型\n",
    "    - 决定希望持有的品种与头寸规模"
   ]
  },
  {
   "cell_type": "markdown",
   "metadata": {
    "slideshow": {
     "slide_type": "fragment"
    }
   },
   "source": [
    "- 交易执行模型\n",
    "    - 有效率、低成本的执行买卖交易指令"
   ]
  },
  {
   "cell_type": "markdown",
   "metadata": {
    "slideshow": {
     "slide_type": "slide"
    }
   },
   "source": [
    "# 数据模型"
   ]
  },
  {
   "cell_type": "markdown",
   "metadata": {
    "slideshow": {
     "slide_type": "fragment"
    }
   },
   "source": [
    "> 数据是量化交易模型的基础"
   ]
  },
  {
   "cell_type": "markdown",
   "metadata": {
    "slideshow": {
     "slide_type": "fragment"
    }
   },
   "source": [
    "## 数据类型"
   ]
  },
  {
   "cell_type": "markdown",
   "metadata": {
    "slideshow": {
     "slide_type": "fragment"
    }
   },
   "source": [
    "<center><img src=\"./img/models/dataType.png\" width=100%></center>"
   ]
  },
  {
   "cell_type": "markdown",
   "metadata": {
    "slideshow": {
     "slide_type": "slide"
    }
   },
   "source": [
    "## 数据的获取"
   ]
  },
  {
   "cell_type": "markdown",
   "metadata": {
    "slideshow": {
     "slide_type": "fragment"
    }
   },
   "source": [
    "### 从第三方终端获取数据"
   ]
  },
  {
   "cell_type": "markdown",
   "metadata": {
    "slideshow": {
     "slide_type": "fragment"
    }
   },
   "source": [
    "- 典型平台\n",
    "    - Wind数据库\n",
    "    - [TuShare https://tushare.pro/](https://tushare.pro/)\n",
    "        - 注册获得token\n",
    "    - [JointQuant https://www.joinquant.com/](https://www.joinquant.com/)\n",
    "        - 注册获得一年的免费使用权限"
   ]
  },
  {
   "cell_type": "markdown",
   "metadata": {
    "slideshow": {
     "slide_type": "fragment"
    }
   },
   "source": [
    "- 优缺点：\n",
    "    - 优点：数据经过加工处理\n",
    "    - 缺点：速度慢"
   ]
  },
  {
   "cell_type": "markdown",
   "metadata": {
    "slideshow": {
     "slide_type": "slide"
    }
   },
   "source": [
    "### 从交易所获取数据"
   ]
  },
  {
   "cell_type": "markdown",
   "metadata": {
    "slideshow": {
     "slide_type": "fragment"
    }
   },
   "source": [
    "- 典型接口\n",
    "    - 交易接口CTP（Comprehensive Transaction Platform）[http://www.sfit.com.cn/](http://www.sfit.com.cn/)\n",
    "    - 基于CTP的`Python`量化框架：[vn.py https://www.vnpy.com/](https://www.vnpy.com/)"
   ]
  },
  {
   "cell_type": "markdown",
   "metadata": {
    "slideshow": {
     "slide_type": "fragment"
    }
   },
   "source": [
    "- 优缺点：\n",
    "    - 优点：速度快、原始数据\n",
    "    - 缺点：需要自己学习接口使用，清理数据"
   ]
  },
  {
   "cell_type": "markdown",
   "metadata": {
    "slideshow": {
     "slide_type": "slide"
    }
   },
   "source": [
    "## 数据处理"
   ]
  },
  {
   "cell_type": "markdown",
   "metadata": {
    "slideshow": {
     "slide_type": "fragment"
    }
   },
   "source": [
    "- 噪声数据，即无意义的或错误的数据，既浪费存储空间，更严重的是导致错误的分析结果"
   ]
  },
  {
   "cell_type": "markdown",
   "metadata": {
    "slideshow": {
     "slide_type": "fragment"
    }
   },
   "source": [
    "### 缺失数据"
   ]
  },
  {
   "cell_type": "markdown",
   "metadata": {
    "slideshow": {
     "slide_type": "fragment"
    }
   },
   "source": [
    "#### 检查是否含有缺失值"
   ]
  },
  {
   "cell_type": "markdown",
   "metadata": {
    "slideshow": {
     "slide_type": "fragment"
    }
   },
   "source": [
    "- 在Python中用`NaN`（Not a Number）表示缺失值"
   ]
  },
  {
   "cell_type": "code",
   "execution_count": 8,
   "metadata": {
    "slideshow": {
     "slide_type": "fragment"
    }
   },
   "outputs": [
    {
     "data": {
      "text/html": [
       "<div>\n",
       "<style scoped>\n",
       "    .dataframe tbody tr th:only-of-type {\n",
       "        vertical-align: middle;\n",
       "    }\n",
       "\n",
       "    .dataframe tbody tr th {\n",
       "        vertical-align: top;\n",
       "    }\n",
       "\n",
       "    .dataframe thead th {\n",
       "        text-align: right;\n",
       "    }\n",
       "</style>\n",
       "<table border=\"1\" class=\"dataframe\">\n",
       "  <thead>\n",
       "    <tr style=\"text-align: right;\">\n",
       "      <th></th>\n",
       "      <th>Close</th>\n",
       "      <th>High</th>\n",
       "      <th>Low</th>\n",
       "    </tr>\n",
       "    <tr>\n",
       "      <th>ActionDay</th>\n",
       "      <th></th>\n",
       "      <th></th>\n",
       "      <th></th>\n",
       "    </tr>\n",
       "  </thead>\n",
       "  <tbody>\n",
       "    <tr>\n",
       "      <th>20160104</th>\n",
       "      <td>1775.0</td>\n",
       "      <td>1806.0</td>\n",
       "      <td>1773.0</td>\n",
       "    </tr>\n",
       "    <tr>\n",
       "      <th>20160105</th>\n",
       "      <td>1779.0</td>\n",
       "      <td>NaN</td>\n",
       "      <td>1761.0</td>\n",
       "    </tr>\n",
       "    <tr>\n",
       "      <th>20160106</th>\n",
       "      <td>1783.0</td>\n",
       "      <td>1786.0</td>\n",
       "      <td>1766.0</td>\n",
       "    </tr>\n",
       "    <tr>\n",
       "      <th>20160107</th>\n",
       "      <td>NaN</td>\n",
       "      <td>1786.0</td>\n",
       "      <td>1747.0</td>\n",
       "    </tr>\n",
       "    <tr>\n",
       "      <th>20160108</th>\n",
       "      <td>1752.0</td>\n",
       "      <td>1775.0</td>\n",
       "      <td>NaN</td>\n",
       "    </tr>\n",
       "  </tbody>\n",
       "</table>\n",
       "</div>"
      ],
      "text/plain": [
       "            Close    High     Low\n",
       "ActionDay                        \n",
       "20160104   1775.0  1806.0  1773.0\n",
       "20160105   1779.0     NaN  1761.0\n",
       "20160106   1783.0  1786.0  1766.0\n",
       "20160107      NaN  1786.0  1747.0\n",
       "20160108   1752.0  1775.0     NaN"
      ]
     },
     "execution_count": 8,
     "metadata": {},
     "output_type": "execute_result"
    },
    {
     "data": {
      "text/plain": [
       "(1150, 3)"
      ]
     },
     "execution_count": 8,
     "metadata": {},
     "output_type": "execute_result"
    }
   ],
   "source": [
    "rbDat = pd.read_csv('./data/models/rbNan.csv',index_col=0)\n",
    "rbDat.head()\n",
    "rbDat.shape"
   ]
  },
  {
   "cell_type": "markdown",
   "metadata": {
    "slideshow": {
     "slide_type": "slide"
    }
   },
   "source": [
    "- 对于`pandas`的`DataFrame`结构，检验是否含有缺失值的方法\n",
    "    - `DataFrame.isna()`"
   ]
  },
  {
   "cell_type": "code",
   "execution_count": 14,
   "metadata": {
    "slideshow": {
     "slide_type": "fragment"
    }
   },
   "outputs": [
    {
     "data": {
      "text/html": [
       "<div>\n",
       "<style scoped>\n",
       "    .dataframe tbody tr th:only-of-type {\n",
       "        vertical-align: middle;\n",
       "    }\n",
       "\n",
       "    .dataframe tbody tr th {\n",
       "        vertical-align: top;\n",
       "    }\n",
       "\n",
       "    .dataframe thead th {\n",
       "        text-align: right;\n",
       "    }\n",
       "</style>\n",
       "<table border=\"1\" class=\"dataframe\">\n",
       "  <thead>\n",
       "    <tr style=\"text-align: right;\">\n",
       "      <th></th>\n",
       "      <th>Close</th>\n",
       "      <th>High</th>\n",
       "      <th>Low</th>\n",
       "    </tr>\n",
       "    <tr>\n",
       "      <th>ActionDay</th>\n",
       "      <th></th>\n",
       "      <th></th>\n",
       "      <th></th>\n",
       "    </tr>\n",
       "  </thead>\n",
       "  <tbody>\n",
       "    <tr>\n",
       "      <th>20160104</th>\n",
       "      <td>False</td>\n",
       "      <td>False</td>\n",
       "      <td>False</td>\n",
       "    </tr>\n",
       "    <tr>\n",
       "      <th>20160105</th>\n",
       "      <td>False</td>\n",
       "      <td>True</td>\n",
       "      <td>False</td>\n",
       "    </tr>\n",
       "    <tr>\n",
       "      <th>20160106</th>\n",
       "      <td>False</td>\n",
       "      <td>False</td>\n",
       "      <td>False</td>\n",
       "    </tr>\n",
       "    <tr>\n",
       "      <th>20160107</th>\n",
       "      <td>True</td>\n",
       "      <td>False</td>\n",
       "      <td>False</td>\n",
       "    </tr>\n",
       "    <tr>\n",
       "      <th>20160108</th>\n",
       "      <td>False</td>\n",
       "      <td>False</td>\n",
       "      <td>True</td>\n",
       "    </tr>\n",
       "    <tr>\n",
       "      <th>...</th>\n",
       "      <td>...</td>\n",
       "      <td>...</td>\n",
       "      <td>...</td>\n",
       "    </tr>\n",
       "    <tr>\n",
       "      <th>20200826</th>\n",
       "      <td>False</td>\n",
       "      <td>False</td>\n",
       "      <td>False</td>\n",
       "    </tr>\n",
       "    <tr>\n",
       "      <th>20200827</th>\n",
       "      <td>False</td>\n",
       "      <td>False</td>\n",
       "      <td>False</td>\n",
       "    </tr>\n",
       "    <tr>\n",
       "      <th>20200828</th>\n",
       "      <td>False</td>\n",
       "      <td>False</td>\n",
       "      <td>False</td>\n",
       "    </tr>\n",
       "    <tr>\n",
       "      <th>20200831</th>\n",
       "      <td>False</td>\n",
       "      <td>False</td>\n",
       "      <td>False</td>\n",
       "    </tr>\n",
       "    <tr>\n",
       "      <th>20200901</th>\n",
       "      <td>False</td>\n",
       "      <td>False</td>\n",
       "      <td>False</td>\n",
       "    </tr>\n",
       "  </tbody>\n",
       "</table>\n",
       "<p>1150 rows × 3 columns</p>\n",
       "</div>"
      ],
      "text/plain": [
       "           Close   High    Low\n",
       "ActionDay                     \n",
       "20160104   False  False  False\n",
       "20160105   False   True  False\n",
       "20160106   False  False  False\n",
       "20160107    True  False  False\n",
       "20160108   False  False   True\n",
       "...          ...    ...    ...\n",
       "20200826   False  False  False\n",
       "20200827   False  False  False\n",
       "20200828   False  False  False\n",
       "20200831   False  False  False\n",
       "20200901   False  False  False\n",
       "\n",
       "[1150 rows x 3 columns]"
      ]
     },
     "execution_count": 14,
     "metadata": {},
     "output_type": "execute_result"
    }
   ],
   "source": [
    "rbDat.isna()"
   ]
  },
  {
   "cell_type": "markdown",
   "metadata": {
    "slideshow": {
     "slide_type": "slide"
    }
   },
   "source": [
    "- 显示含有缺失值的行"
   ]
  },
  {
   "cell_type": "code",
   "execution_count": 16,
   "metadata": {
    "scrolled": true,
    "slideshow": {
     "slide_type": "fragment"
    }
   },
   "outputs": [
    {
     "data": {
      "text/html": [
       "<div>\n",
       "<style scoped>\n",
       "    .dataframe tbody tr th:only-of-type {\n",
       "        vertical-align: middle;\n",
       "    }\n",
       "\n",
       "    .dataframe tbody tr th {\n",
       "        vertical-align: top;\n",
       "    }\n",
       "\n",
       "    .dataframe thead th {\n",
       "        text-align: right;\n",
       "    }\n",
       "</style>\n",
       "<table border=\"1\" class=\"dataframe\">\n",
       "  <thead>\n",
       "    <tr style=\"text-align: right;\">\n",
       "      <th></th>\n",
       "      <th>Close</th>\n",
       "      <th>High</th>\n",
       "      <th>Low</th>\n",
       "    </tr>\n",
       "    <tr>\n",
       "      <th>ActionDay</th>\n",
       "      <th></th>\n",
       "      <th></th>\n",
       "      <th></th>\n",
       "    </tr>\n",
       "  </thead>\n",
       "  <tbody>\n",
       "    <tr>\n",
       "      <th>20160105</th>\n",
       "      <td>1779.0</td>\n",
       "      <td>NaN</td>\n",
       "      <td>1761.0</td>\n",
       "    </tr>\n",
       "    <tr>\n",
       "      <th>20160107</th>\n",
       "      <td>NaN</td>\n",
       "      <td>1786.0</td>\n",
       "      <td>1747.0</td>\n",
       "    </tr>\n",
       "    <tr>\n",
       "      <th>20160108</th>\n",
       "      <td>1752.0</td>\n",
       "      <td>1775.0</td>\n",
       "      <td>NaN</td>\n",
       "    </tr>\n",
       "    <tr>\n",
       "      <th>20160513</th>\n",
       "      <td>NaN</td>\n",
       "      <td>2064.0</td>\n",
       "      <td>2001.0</td>\n",
       "    </tr>\n",
       "    <tr>\n",
       "      <th>20161013</th>\n",
       "      <td>2354.0</td>\n",
       "      <td>NaN</td>\n",
       "      <td>2331.0</td>\n",
       "    </tr>\n",
       "    <tr>\n",
       "      <th>20170314</th>\n",
       "      <td>3597.0</td>\n",
       "      <td>3624.0</td>\n",
       "      <td>NaN</td>\n",
       "    </tr>\n",
       "    <tr>\n",
       "      <th>20170919</th>\n",
       "      <td>NaN</td>\n",
       "      <td>NaN</td>\n",
       "      <td>NaN</td>\n",
       "    </tr>\n",
       "    <tr>\n",
       "      <th>20180702</th>\n",
       "      <td>NaN</td>\n",
       "      <td>3807.0</td>\n",
       "      <td>3737.0</td>\n",
       "    </tr>\n",
       "    <tr>\n",
       "      <th>20190920</th>\n",
       "      <td>3392.0</td>\n",
       "      <td>NaN</td>\n",
       "      <td>3378.0</td>\n",
       "    </tr>\n",
       "    <tr>\n",
       "      <th>20200225</th>\n",
       "      <td>3489.0</td>\n",
       "      <td>3494.0</td>\n",
       "      <td>NaN</td>\n",
       "    </tr>\n",
       "    <tr>\n",
       "      <th>20200622</th>\n",
       "      <td>3610.0</td>\n",
       "      <td>3658.0</td>\n",
       "      <td>NaN</td>\n",
       "    </tr>\n",
       "  </tbody>\n",
       "</table>\n",
       "</div>"
      ],
      "text/plain": [
       "            Close    High     Low\n",
       "ActionDay                        \n",
       "20160105   1779.0     NaN  1761.0\n",
       "20160107      NaN  1786.0  1747.0\n",
       "20160108   1752.0  1775.0     NaN\n",
       "20160513      NaN  2064.0  2001.0\n",
       "20161013   2354.0     NaN  2331.0\n",
       "20170314   3597.0  3624.0     NaN\n",
       "20170919      NaN     NaN     NaN\n",
       "20180702      NaN  3807.0  3737.0\n",
       "20190920   3392.0     NaN  3378.0\n",
       "20200225   3489.0  3494.0     NaN\n",
       "20200622   3610.0  3658.0     NaN"
      ]
     },
     "execution_count": 16,
     "metadata": {},
     "output_type": "execute_result"
    }
   ],
   "source": [
    "rbDat.loc[rbDat.isna().sum(axis=1)>0]"
   ]
  },
  {
   "cell_type": "markdown",
   "metadata": {
    "slideshow": {
     "slide_type": "slide"
    }
   },
   "source": [
    "#### 删除缺失值"
   ]
  },
  {
   "cell_type": "markdown",
   "metadata": {
    "slideshow": {
     "slide_type": "fragment"
    }
   },
   "source": [
    "- `DataFrame`删除缺失值的方法\n",
    "    - `DataFrame.dropna(axis=0, how='any', inplace=False)`\n",
    "        - `axis`：取值为0，删除含有缺失值的行；取值为1，删除含有缺失值的列\n",
    "        - `how`：取值为`any`，只要含有缺失值，就删除相应的行或列；取值为`all`，只有行或列的所有元素都是缺失值，才会删除该行或列\n",
    "        - `inplace`：是否更新原始的`DataFrame`"
   ]
  },
  {
   "cell_type": "code",
   "execution_count": 203,
   "metadata": {
    "slideshow": {
     "slide_type": "fragment"
    }
   },
   "outputs": [
    {
     "data": {
      "text/plain": [
       "(1149, 3)"
      ]
     },
     "execution_count": 203,
     "metadata": {},
     "output_type": "execute_result"
    }
   ],
   "source": [
    "rbRem = rbDat.dropna(how='all')\n",
    "rbRem.shape"
   ]
  },
  {
   "cell_type": "markdown",
   "metadata": {
    "slideshow": {
     "slide_type": "slide"
    }
   },
   "source": [
    "# Alpha模型"
   ]
  },
  {
   "cell_type": "markdown",
   "metadata": {
    "slideshow": {
     "slide_type": "fragment"
    }
   },
   "source": [
    "- Alpha意味着获取**超额收益**"
   ]
  },
  {
   "cell_type": "markdown",
   "metadata": {
    "slideshow": {
     "slide_type": "fragment"
    }
   },
   "source": [
    "<center><img src=\"./img/models/alphaModels.png\" width=100%></center>"
   ]
  },
  {
   "cell_type": "markdown",
   "metadata": {
    "slideshow": {
     "slide_type": "slide"
    }
   },
   "source": [
    "## 趋势追踪模型"
   ]
  },
  {
   "cell_type": "markdown",
   "metadata": {
    "slideshow": {
     "slide_type": "fragment"
    }
   },
   "source": [
    "- 在趋势初期入场，在趋势末期离场"
   ]
  },
  {
   "cell_type": "markdown",
   "metadata": {
    "slideshow": {
     "slide_type": "fragment"
    }
   },
   "source": [
    "- 技术指标是识别趋势的重要方法"
   ]
  },
  {
   "cell_type": "markdown",
   "metadata": {
    "slideshow": {
     "slide_type": "slide"
    }
   },
   "source": [
    "### 技术指标的概念"
   ]
  },
  {
   "cell_type": "markdown",
   "metadata": {
    "slideshow": {
     "slide_type": "fragment"
    }
   },
   "source": [
    "> 基于价格、成交量、持仓量等的历史数据而构建的启发式或数学计算指标\n"
   ]
  },
  {
   "cell_type": "markdown",
   "metadata": {
    "slideshow": {
     "slide_type": "skip"
    }
   },
   "source": [
    "- [https://www.visualcapitalist.com/12-types-technical-indicators-stocks/](https://www.visualcapitalist.com/12-types-technical-indicators-stocks/)\n",
    "- [https://www.theforexchronicles.com/the-4-different-types-of-technical-indicators-that-you-can-use/](https://www.theforexchronicles.com/the-4-different-types-of-technical-indicators-that-you-can-use/)"
   ]
  },
  {
   "cell_type": "markdown",
   "metadata": {
    "slideshow": {
     "slide_type": "slide"
    }
   },
   "source": [
    "### 技术指标的分类"
   ]
  },
  {
   "cell_type": "markdown",
   "metadata": {
    "slideshow": {
     "slide_type": "fragment"
    }
   },
   "source": [
    "- 根据技术指标的具体内容\n",
    "    - 趋势指标\n",
    "    - 能量指标\n",
    "    - 波动性指标\n",
    "    - 交易量指标"
   ]
  },
  {
   "cell_type": "markdown",
   "metadata": {
    "slideshow": {
     "slide_type": "slide"
    }
   },
   "source": [
    "#### 趋势指标（trend indicators）"
   ]
  },
  {
   "cell_type": "markdown",
   "metadata": {
    "slideshow": {
     "slide_type": "fragment"
    }
   },
   "source": [
    "- 通过将标的资产的价格与基准比较（通常是均值），判断趋势的方向与强度\n",
    "    - 价格超过均值，上升趋势\n",
    "    - 价格跌破均值，下跌趋势"
   ]
  },
  {
   "cell_type": "markdown",
   "metadata": {
    "slideshow": {
     "slide_type": "fragment"
    }
   },
   "source": [
    "- 包括\n",
    "    - 简单移动平均\n",
    "    - 指数移动平均\n",
    "    - MACD\n",
    "    - 。。。"
   ]
  },
  {
   "cell_type": "markdown",
   "metadata": {
    "slideshow": {
     "slide_type": "slide"
    }
   },
   "source": [
    "##### 简单移动平均（simple moving average, SMA)"
   ]
  },
  {
   "cell_type": "markdown",
   "metadata": {
    "slideshow": {
     "slide_type": "fragment"
    }
   },
   "source": [
    "$$SMA_t(n)=\\frac{1}{n}\\sum_{i=0}^{n-1}p_{t-i}$$\n",
    "\n",
    "- 其中, $p_t$是$t$时刻的价格，$n$可以取3分钟、5分钟、15分钟，60分钟等。"
   ]
  },
  {
   "cell_type": "markdown",
   "metadata": {
    "slideshow": {
     "slide_type": "slide"
    }
   },
   "source": [
    "- TA-Lib金融软件包是目前最常用的技术指标函数库，包括150多个技术指标"
   ]
  },
  {
   "cell_type": "markdown",
   "metadata": {
    "slideshow": {
     "slide_type": "fragment"
    }
   },
   "source": [
    "- 下载安装包[https://www.lfd.uci.edu/~gohlke/pythonlibs/#ta-lib](https://www.lfd.uci.edu/~gohlke/pythonlibs/#ta-lib)\n",
    "\n",
    "- 从本地安装TA-Lib，\n",
    "\n",
    "```python\n",
    "pip install d:/TA_Lib-0.4.19-cp39-cp39-win_amd64.whl\n",
    "```\n",
    "- 使用TA-Lib包的方法，\n",
    "\n",
    "``` python\n",
    "import talib\n",
    "```"
   ]
  },
  {
   "cell_type": "code",
   "execution_count": 56,
   "metadata": {
    "slideshow": {
     "slide_type": "slide"
    }
   },
   "outputs": [
    {
     "data": {
      "text/plain": [
       "(452, 6)"
      ]
     },
     "execution_count": 56,
     "metadata": {},
     "output_type": "execute_result"
    },
    {
     "data": {
      "text/html": [
       "<div>\n",
       "<style scoped>\n",
       "    .dataframe tbody tr th:only-of-type {\n",
       "        vertical-align: middle;\n",
       "    }\n",
       "\n",
       "    .dataframe tbody tr th {\n",
       "        vertical-align: top;\n",
       "    }\n",
       "\n",
       "    .dataframe thead th {\n",
       "        text-align: right;\n",
       "    }\n",
       "</style>\n",
       "<table border=\"1\" class=\"dataframe\">\n",
       "  <thead>\n",
       "    <tr style=\"text-align: right;\">\n",
       "      <th></th>\n",
       "      <th>High</th>\n",
       "      <th>Low</th>\n",
       "      <th>Open</th>\n",
       "      <th>Close</th>\n",
       "      <th>Volume</th>\n",
       "      <th>Adj Close</th>\n",
       "    </tr>\n",
       "    <tr>\n",
       "      <th>Date</th>\n",
       "      <th></th>\n",
       "      <th></th>\n",
       "      <th></th>\n",
       "      <th></th>\n",
       "      <th></th>\n",
       "      <th></th>\n",
       "    </tr>\n",
       "  </thead>\n",
       "  <tbody>\n",
       "    <tr>\n",
       "      <th>2019-01-02</th>\n",
       "      <td>612.000000</td>\n",
       "      <td>595.010010</td>\n",
       "      <td>609.979980</td>\n",
       "      <td>598.979980</td>\n",
       "      <td>6228649.0</td>\n",
       "      <td>583.424377</td>\n",
       "    </tr>\n",
       "    <tr>\n",
       "      <th>2019-01-03</th>\n",
       "      <td>601.659973</td>\n",
       "      <td>585.799988</td>\n",
       "      <td>599.969971</td>\n",
       "      <td>590.000000</td>\n",
       "      <td>3097735.0</td>\n",
       "      <td>574.677612</td>\n",
       "    </tr>\n",
       "    <tr>\n",
       "      <th>2019-01-04</th>\n",
       "      <td>607.669983</td>\n",
       "      <td>582.020020</td>\n",
       "      <td>587.280029</td>\n",
       "      <td>602.000000</td>\n",
       "      <td>3768347.0</td>\n",
       "      <td>586.366028</td>\n",
       "    </tr>\n",
       "    <tr>\n",
       "      <th>2019-01-07</th>\n",
       "      <td>610.299988</td>\n",
       "      <td>602.219971</td>\n",
       "      <td>587.280029</td>\n",
       "      <td>605.489990</td>\n",
       "      <td>3475013.0</td>\n",
       "      <td>589.765381</td>\n",
       "    </tr>\n",
       "    <tr>\n",
       "      <th>2019-01-08</th>\n",
       "      <td>612.000000</td>\n",
       "      <td>600.280029</td>\n",
       "      <td>605.500000</td>\n",
       "      <td>604.789978</td>\n",
       "      <td>2883813.0</td>\n",
       "      <td>589.083496</td>\n",
       "    </tr>\n",
       "  </tbody>\n",
       "</table>\n",
       "</div>"
      ],
      "text/plain": [
       "                  High         Low        Open       Close     Volume  \\\n",
       "Date                                                                    \n",
       "2019-01-02  612.000000  595.010010  609.979980  598.979980  6228649.0   \n",
       "2019-01-03  601.659973  585.799988  599.969971  590.000000  3097735.0   \n",
       "2019-01-04  607.669983  582.020020  587.280029  602.000000  3768347.0   \n",
       "2019-01-07  610.299988  602.219971  587.280029  605.489990  3475013.0   \n",
       "2019-01-08  612.000000  600.280029  605.500000  604.789978  2883813.0   \n",
       "\n",
       "             Adj Close  \n",
       "Date                    \n",
       "2019-01-02  583.424377  \n",
       "2019-01-03  574.677612  \n",
       "2019-01-04  586.366028  \n",
       "2019-01-07  589.765381  \n",
       "2019-01-08  589.083496  "
      ]
     },
     "execution_count": 56,
     "metadata": {},
     "output_type": "execute_result"
    }
   ],
   "source": [
    "hsdf = web.DataReader('600519.SS','yahoo',start='2019-1-1',end='2020-11-16')\n",
    "hsdf.shape\n",
    "hsdf.head()"
   ]
  },
  {
   "cell_type": "code",
   "execution_count": 57,
   "metadata": {
    "scrolled": true,
    "slideshow": {
     "slide_type": "slide"
    }
   },
   "outputs": [
    {
     "data": {
      "text/plain": [
       "Date\n",
       "2019-01-02            NaN\n",
       "2019-01-03            NaN\n",
       "2019-01-04            NaN\n",
       "2019-01-07            NaN\n",
       "2019-01-08            NaN\n",
       "                 ...     \n",
       "2020-11-10    1693.172660\n",
       "2020-11-11    1695.361328\n",
       "2020-11-12    1698.188330\n",
       "2020-11-13    1700.710999\n",
       "2020-11-16    1703.875667\n",
       "Length: 452, dtype: float64"
      ]
     },
     "execution_count": 57,
     "metadata": {},
     "output_type": "execute_result"
    }
   ],
   "source": [
    "rSMA = talib.SMA(hsdf['Close'], timeperiod=30)\n",
    "rSMA"
   ]
  },
  {
   "cell_type": "code",
   "execution_count": 58,
   "metadata": {
    "scrolled": true,
    "slideshow": {
     "slide_type": "slide"
    }
   },
   "outputs": [
    {
     "data": {
      "image/png": "[encoded data removed]",
      "text/plain": [
       "<Figure size 1150x575 with 2 Axes>"
      ]
     },
     "metadata": {},
     "output_type": "display_data"
    }
   ],
   "source": [
    "mc = mpf.make_marketcolors(up='#fe3032', down='#00b060', inherit=True)\n",
    "sty = mpf.make_mpf_style(base_mpf_style='yahoo',marketcolors=mc,rc={'font.family':'HYQuanTangShiJ'})\n",
    "smaFig = mpf.make_addplot(rSMA)\n",
    "mpf.plot(hsdf,type='candle',style=sty,addplot=smaFig,figratio=(12,6),figscale=1,tight_layout=True)"
   ]
  },
  {
   "cell_type": "markdown",
   "metadata": {
    "slideshow": {
     "slide_type": "slide"
    }
   },
   "source": [
    "##### 指数移动平均（exponential moving average, EMA）"
   ]
  },
  {
   "cell_type": "markdown",
   "metadata": {
    "slideshow": {
     "slide_type": "fragment"
    }
   },
   "source": [
    "$$EMA_t(\\alpha)=\\alpha EMA_{t-1}+(1-\\alpha)p_t$$\n",
    "\n",
    "- 其中，$\\alpha\\in(0,1)$，$p_t$为$t$时刻价格"
   ]
  },
  {
   "cell_type": "code",
   "execution_count": 59,
   "metadata": {
    "scrolled": false,
    "slideshow": {
     "slide_type": "fragment"
    }
   },
   "outputs": [],
   "source": [
    "rEMA = talib.EMA(hsdf['Close'], timeperiod=30)"
   ]
  },
  {
   "cell_type": "code",
   "execution_count": 60,
   "metadata": {
    "scrolled": true,
    "slideshow": {
     "slide_type": "slide"
    }
   },
   "outputs": [
    {
     "data": {
      "text/plain": [
       "<matplotlib.legend.Legend at 0x7efd56eb6358>"
      ]
     },
     "execution_count": 60,
     "metadata": {},
     "output_type": "execute_result"
    },
    {
     "data": {
      "image/png": "[encoded data removed]",
      "text/plain": [
       "<Figure size 1150x575 with 2 Axes>"
      ]
     },
     "metadata": {},
     "output_type": "display_data"
    }
   ],
   "source": [
    "mvFig = [mpf.make_addplot(rSMA),\n",
    "          mpf.make_addplot(rEMA)]\n",
    "fig,ax = mpf.plot(hsdf,type='candle',style=sty,addplot=mvFig,figratio=(12,6),figscale=1, returnfig=True,tight_layout=True)\n",
    "ax[0].legend(['SMA','EMA'],loc='upper left')"
   ]
  },
  {
   "cell_type": "markdown",
   "metadata": {
    "slideshow": {
     "slide_type": "slide"
    }
   },
   "source": [
    "##### EMA与SMA比较"
   ]
  },
  {
   "cell_type": "markdown",
   "metadata": {
    "slideshow": {
     "slide_type": "fragment"
    }
   },
   "source": [
    "- EMA给最新价格和历史价格不同的权重，而SMA同等对待每个价格"
   ]
  },
  {
   "cell_type": "markdown",
   "metadata": {
    "slideshow": {
     "slide_type": "fragment"
    }
   },
   "source": [
    "- EMA利用所有历史价格信息，只是随着时间推移，历史价格信息的影响在逐渐减少，而SMA只用到了时间窗口内的价格信息"
   ]
  },
  {
   "cell_type": "markdown",
   "metadata": {
    "slideshow": {
     "slide_type": "slide"
    }
   },
   "source": [
    "##### MACD（Moving Average Convergence and Divergence)"
   ]
  },
  {
   "cell_type": "markdown",
   "metadata": {
    "slideshow": {
     "slide_type": "fragment"
    }
   },
   "source": [
    "- MACD称为异同移动平均线，由双指数移动平均线构成。\n",
    "- 利用收盘价的短期（常用为12日）指数移动平均线与长期（常用为26日）指数移动平均线之间的聚合与分离状况，对买进、卖出时机作出研判。"
   ]
  },
  {
   "cell_type": "markdown",
   "metadata": {
    "slideshow": {
     "slide_type": "fragment"
    }
   },
   "source": [
    "- **MACD线**： $12\\text{-day 价格EMA} - 26\\text{-day 价格EMA}$\n",
    "- **信号线**： $9\\text{-day MACD线的EMA}$\n",
    "\n",
    "- **MACD 柱状图**： $\\text{MACD线} - \\text{Signal线}$"
   ]
  },
  {
   "cell_type": "code",
   "execution_count": 61,
   "metadata": {
    "slideshow": {
     "slide_type": "fragment"
    }
   },
   "outputs": [],
   "source": [
    "macd, macdsignal, macdhist = talib.MACD(hsdf['Close'], fastperiod=12, slowperiod=26, signalperiod=9)"
   ]
  },
  {
   "cell_type": "code",
   "execution_count": 62,
   "metadata": {
    "slideshow": {
     "slide_type": "slide"
    }
   },
   "outputs": [
    {
     "name": "stderr",
     "output_type": "stream",
     "text": [
      "/home/VENV36/lib/python3.6/site-packages/matplotlib/backends/backend_agg.py:211: RuntimeWarning: Glyph 8722 missing from current font.\n",
      "  font.set_text(s, 0.0, flags=flags)\n",
      "/home/VENV36/lib/python3.6/site-packages/matplotlib/backends/backend_agg.py:180: RuntimeWarning: Glyph 8722 missing from current font.\n",
      "  font.set_text(s, 0, flags=flags)\n"
     ]
    },
    {
     "data": {
      "image/png": "[encoded data removed]",
      "text/plain": [
       "<Figure size 1150x575 with 4 Axes>"
      ]
     },
     "metadata": {},
     "output_type": "display_data"
    }
   ],
   "source": [
    "macdFig = [mpf.make_addplot(macd,panel=1,color='orange',ylabel='MACD'),\n",
    "          mpf.make_addplot(macdsignal,panel=1,color='blue'),\n",
    "          mpf.make_addplot(macdhist,type='bar',color='green',panel=1)]\n",
    "mpf.plot(hsdf,type='candle',style=sty,addplot=macdFig,figratio=(12,6),figscale=1,tight_layout=True)"
   ]
  },
  {
   "cell_type": "markdown",
   "metadata": {
    "slideshow": {
     "slide_type": "fragment"
    }
   },
   "source": [
    "- 当**MACD线**向上穿越**信号线**，做多信号\n",
    "- 当**MADC线**向下穿越**信号线**，做空信号"
   ]
  },
  {
   "cell_type": "markdown",
   "metadata": {
    "slideshow": {
     "slide_type": "slide"
    }
   },
   "source": [
    "#### 能量指标（momentum indicators）"
   ]
  },
  {
   "cell_type": "markdown",
   "metadata": {
    "slideshow": {
     "slide_type": "fragment"
    }
   },
   "source": [
    "- 通过衡量价格上涨或下跌的变化幅度\n",
    "- 帮助判别趋势的强度"
   ]
  },
  {
   "cell_type": "markdown",
   "metadata": {
    "slideshow": {
     "slide_type": "slide"
    }
   },
   "source": [
    "##### 相对强度指数（relative strength index, RSI）"
   ]
  },
  {
   "cell_type": "markdown",
   "metadata": {
    "slideshow": {
     "slide_type": "fragment"
    }
   },
   "source": [
    "- 计算一段时间内价格向上波动占价格绝对波动的比例"
   ]
  },
  {
   "cell_type": "markdown",
   "metadata": {
    "slideshow": {
     "slide_type": "fragment"
    }
   },
   "source": [
    "```python\n",
    "if close(t) > close(t-1):\n",
    "    up = close(t)-close(t-1)\n",
    "    dn = 0\n",
    "else:\n",
    "    up = 0\n",
    "    dn = close(t-1)-close(t)\n",
    "# close(t)是t时刻的收盘价\n",
    "```"
   ]
  },
  {
   "cell_type": "markdown",
   "metadata": {
    "slideshow": {
     "slide_type": "fragment"
    }
   },
   "source": [
    "\\begin{align}\n",
    "  upavg = \\frac{upavg\\times(t-1)+up}{t} \\\\\n",
    "  dnavg = \\frac{dnavg\\times(t-1)+dn}{t} \\\\\n",
    "  RSI = \\frac{upavg}{upavg+dnavg}\\times100\n",
    "\\end{align}\n",
    "- 其中，$upavg$是价格上涨幅度的均值，$dnavg$价格下跌幅度的均值"
   ]
  },
  {
   "cell_type": "markdown",
   "metadata": {
    "slideshow": {
     "slide_type": "fragment"
    }
   },
   "source": [
    "- 波动范围是$[0,100]$"
   ]
  },
  {
   "cell_type": "code",
   "execution_count": 63,
   "metadata": {
    "slideshow": {
     "slide_type": "slide"
    }
   },
   "outputs": [],
   "source": [
    "rRSI = talib.RSI(hsdf['Close'], timeperiod=14)"
   ]
  },
  {
   "cell_type": "code",
   "execution_count": 64,
   "metadata": {
    "slideshow": {
     "slide_type": "slide"
    }
   },
   "outputs": [
    {
     "data": {
      "image/png": "[encoded data removed]",
      "text/plain": [
       "<Figure size 1150x575 with 4 Axes>"
      ]
     },
     "metadata": {},
     "output_type": "display_data"
    }
   ],
   "source": [
    "line70 = np.ones(hsdf.shape[0])*70\n",
    "line30 = np.ones(hsdf.shape[0])*30\n",
    "rsiFig = [mpf.make_addplot(rRSI,panel=1,ylabel='RSI'),\n",
    "          mpf.make_addplot(line70,panel=1,color='red',secondary_y=False),\n",
    "          mpf.make_addplot(line30,panel=1,color='green',secondary_y=False),         \n",
    "         ]\n",
    "mpf.plot(hsdf,type='candle',style=sty,addplot=rsiFig,figratio=(12,6),figscale=1,tight_layout=True)"
   ]
  },
  {
   "cell_type": "markdown",
   "metadata": {
    "slideshow": {
     "slide_type": "fragment"
    }
   },
   "source": [
    "- $\\text{RSI}>70$：超买(overbought)，标的的**交易价格**<font color=\"red\">超过</font>其**内在价值**(intrinsic value)或市场价值，意味着价格近期将会调整\n",
    "- $\\text{RSI}<30$：超卖(oversold)，标的**交易价格**<font color=\"green\">低于</font>其**内在价值**或市场价值，意味着价格近期将会调整"
   ]
  },
  {
   "cell_type": "markdown",
   "metadata": {
    "slideshow": {
     "slide_type": "fragment"
    }
   },
   "source": [
    "- 在上升区间，RSI应当稳定在30以上，并且经常触碰70\n",
    "- 在下跌区间，RSI应当几乎不超过70，并且经常触碰30"
   ]
  },
  {
   "cell_type": "markdown",
   "metadata": {
    "slideshow": {
     "slide_type": "slide"
    }
   },
   "source": [
    "##### 商品通道指数（commodity channel index）"
   ]
  },
  {
   "cell_type": "markdown",
   "metadata": {
    "slideshow": {
     "slide_type": "fragment"
    }
   },
   "source": [
    "- 用来识别趋势的开始点与结束点"
   ]
  },
  {
   "cell_type": "markdown",
   "metadata": {
    "slideshow": {
     "slide_type": "fragment"
    }
   },
   "source": [
    "$$\n",
    "\\text{CCI}=\\frac{\\text{TP}-\\text{ATP}}{0.015\\times\\text{MD}}\n",
    "$$\n",
    "\n",
    "- $\\text{TP}=\\frac{high_n+low_n+close}{3}$：典型价格（typical price）\n",
    "- $high_n$：$n$个周期内的最高价\n",
    "- $low_n$：$n$个周期内的最低价\n",
    "- $\\text{ATP}$：典型价格的简单移动平均\n",
    "- $MD=\\frac{\\sum_n|\\text{TP}-\\text{ATP}|}{n}$：典型价格平均离差"
   ]
  },
  {
   "cell_type": "code",
   "execution_count": 65,
   "metadata": {
    "slideshow": {
     "slide_type": "slide"
    }
   },
   "outputs": [],
   "source": [
    "rCCI = talib.CCI(hsdf['High'], hsdf['Low'], hsdf['Close'], timeperiod=14)"
   ]
  },
  {
   "cell_type": "code",
   "execution_count": 66,
   "metadata": {
    "slideshow": {
     "slide_type": "fragment"
    }
   },
   "outputs": [
    {
     "name": "stderr",
     "output_type": "stream",
     "text": [
      "/home/VENV36/lib/python3.6/site-packages/matplotlib/backends/backend_agg.py:211: RuntimeWarning: Glyph 8722 missing from current font.\n",
      "  font.set_text(s, 0.0, flags=flags)\n",
      "/home/VENV36/lib/python3.6/site-packages/matplotlib/backends/backend_agg.py:180: RuntimeWarning: Glyph 8722 missing from current font.\n",
      "  font.set_text(s, 0, flags=flags)\n"
     ]
    },
    {
     "data": {
      "image/png": "[encoded data removed]",
      "text/plain": [
       "<Figure size 1150x575 with 4 Axes>"
      ]
     },
     "metadata": {},
     "output_type": "display_data"
    }
   ],
   "source": [
    "line100 = np.ones(hsdf.shape[0])*100\n",
    "linen100 = np.ones(hsdf.shape[0])*(-100)\n",
    "cciFig = [mpf.make_addplot(rCCI,panel=1,ylabel='CCI'),\n",
    "          mpf.make_addplot(line100,panel=1,color='red',secondary_y=False),\n",
    "          mpf.make_addplot(linen100,panel=1,color='green',secondary_y=False),         \n",
    "         ]\n",
    "mpf.plot(hsdf,type='candle',style=sty,addplot=cciFig,figratio=(12,6),figscale=1,tight_layout=True)"
   ]
  },
  {
   "cell_type": "markdown",
   "metadata": {
    "slideshow": {
     "slide_type": "fragment"
    }
   },
   "source": [
    "- 当CCI由负值超过100，意味着出现上升趋势\n",
    "- 当CCI由正值跌破-100，意味着出现下跌趋势"
   ]
  },
  {
   "cell_type": "markdown",
   "metadata": {
    "slideshow": {
     "slide_type": "slide"
    }
   },
   "source": [
    "#### 波动性指标（volatility indicators）"
   ]
  },
  {
   "cell_type": "markdown",
   "metadata": {
    "slideshow": {
     "slide_type": "fragment"
    }
   },
   "source": [
    "- 衡量价格波动程度"
   ]
  },
  {
   "cell_type": "markdown",
   "metadata": {
    "slideshow": {
     "slide_type": "slide"
    }
   },
   "source": [
    "##### 平均真实变动范围（average true range）"
   ]
  },
  {
   "cell_type": "code",
   "execution_count": 67,
   "metadata": {
    "slideshow": {
     "slide_type": "fragment"
    }
   },
   "outputs": [
    {
     "data": {
      "text/plain": [
       "Date\n",
       "2019-01-02          NaN\n",
       "2019-01-03          NaN\n",
       "2019-01-04          NaN\n",
       "2019-01-07          NaN\n",
       "2019-01-08          NaN\n",
       "                ...    \n",
       "2020-11-10    37.223778\n",
       "2020-11-11    37.886365\n",
       "2020-11-12    37.160909\n",
       "2020-11-13    37.634419\n",
       "2020-11-16    37.288391\n",
       "Length: 452, dtype: float64"
      ]
     },
     "execution_count": 67,
     "metadata": {},
     "output_type": "execute_result"
    }
   ],
   "source": [
    "rATR = talib.ATR(hsdf['High'], hsdf['Low'], hsdf['Close'], timeperiod=14)\n",
    "rATR"
   ]
  },
  {
   "cell_type": "markdown",
   "metadata": {
    "slideshow": {
     "slide_type": "slide"
    }
   },
   "source": [
    "##### 布林带（Bollinger Bands）"
   ]
  },
  {
   "cell_type": "markdown",
   "metadata": {
    "slideshow": {
     "slide_type": "fragment"
    }
   },
   "source": [
    "> 价格在移动均线上下附近增加了波动性的带状图形。其中波动性的计算是基于不断变化的标准差\n",
    "\n",
    "- 中线（Middle Band） = 20天移动平均\n",
    "- 上线（Upper Band） = 中线 + 2倍20天价格标准差\n",
    "- 下线（Lower Band） = 中线 - 2倍20天价格标准差"
   ]
  },
  {
   "cell_type": "code",
   "execution_count": 68,
   "metadata": {
    "slideshow": {
     "slide_type": "slide"
    }
   },
   "outputs": [],
   "source": [
    "upperband, middleband, lowerband = talib.BBANDS(hsdf['Close'], timeperiod=5, nbdevup=2, nbdevdn=2, matype=0)"
   ]
  },
  {
   "cell_type": "code",
   "execution_count": 69,
   "metadata": {
    "slideshow": {
     "slide_type": "fragment"
    }
   },
   "outputs": [
    {
     "data": {
      "image/png": "[encoded data removed]",
      "text/plain": [
       "<Figure size 1150x575 with 2 Axes>"
      ]
     },
     "metadata": {},
     "output_type": "display_data"
    }
   ],
   "source": [
    "bbandsFig = [mpf.make_addplot(upperband),\n",
    "          mpf.make_addplot(middleband),\n",
    "          mpf.make_addplot(lowerband),         \n",
    "         ]\n",
    "mpf.plot(hsdf,type='candle',style=sty,addplot=bbandsFig,figratio=(12,6),figscale=1,tight_layout=True)"
   ]
  },
  {
   "cell_type": "markdown",
   "metadata": {
    "slideshow": {
     "slide_type": "fragment"
    }
   },
   "source": [
    "- 如果价格波动性增加，布林带就会变宽；相反，价格波动性降低，布林带就会收缩"
   ]
  },
  {
   "cell_type": "markdown",
   "metadata": {
    "slideshow": {
     "slide_type": "fragment"
    }
   },
   "source": [
    "- 在价格上升阶段，价格会在**中线**和**上线**之间波动\n",
    "    - 一旦价格跌破中线，有可能开始下跌\n",
    "    - 下线即为下跌的目标价位"
   ]
  },
  {
   "cell_type": "markdown",
   "metadata": {
    "slideshow": {
     "slide_type": "fragment"
    }
   },
   "source": [
    "- 在价格下跌阶段，价格会在**中线**和**下线**之间波动\n",
    "    - 一旦价格突破中线，有可能开始上涨\n",
    "    - 上线即为上涨的目标价位"
   ]
  },
  {
   "cell_type": "markdown",
   "metadata": {
    "slideshow": {
     "slide_type": "slide"
    }
   },
   "source": [
    "#### 交易量指标（volume indicators）"
   ]
  },
  {
   "cell_type": "markdown",
   "metadata": {
    "slideshow": {
     "slide_type": "fragment"
    }
   },
   "source": [
    "- 利用交易量衡量价格趋势的强度，以及对价格方向的确认"
   ]
  },
  {
   "cell_type": "markdown",
   "metadata": {
    "slideshow": {
     "slide_type": "slide"
    }
   },
   "source": [
    "##### On-balance volume (OBV)"
   ]
  },
  {
   "cell_type": "markdown",
   "metadata": {
    "slideshow": {
     "slide_type": "fragment"
    }
   },
   "source": [
    "- 做多与做空成交量的累计和\n",
    "\n",
    "```python\n",
    "if close(t)>close(t-1):\n",
    "    OBV(t) = OBV(t-1) + volume\n",
    "elif close(t)<close(t-1):\n",
    "    OBV(t) = OBV(t-1) - volume\n",
    "else:\n",
    "    OBV(t) = OBV(t-1)\n",
    "```"
   ]
  },
  {
   "cell_type": "code",
   "execution_count": 70,
   "metadata": {
    "slideshow": {
     "slide_type": "fragment"
    }
   },
   "outputs": [
    {
     "data": {
      "image/png": "[encoded data removed]",
      "text/plain": [
       "<Figure size 1150x575 with 4 Axes>"
      ]
     },
     "metadata": {},
     "output_type": "display_data"
    }
   ],
   "source": [
    "rOBV = talib.OBV(hsdf['Close'], hsdf['Volume'])\n",
    "obvFig = mpf.make_addplot(rOBV,panel=1,ylabel='OBV')\n",
    "mpf.plot(hsdf,type='candle',style=sty,addplot=obvFig,figratio=(12,6),figscale=1,tight_layout=True)"
   ]
  },
  {
   "cell_type": "markdown",
   "metadata": {
    "slideshow": {
     "slide_type": "fragment"
    }
   },
   "source": [
    "- OBV显示出一系列上升的尖峰，表明较强的上涨趋势\n",
    "- OBV显示出一系列下跌的谷底，表明较强的下跌趋势"
   ]
  },
  {
   "cell_type": "markdown",
   "metadata": {
    "slideshow": {
     "slide_type": "slide"
    }
   },
   "source": [
    "##### Chaikin oscillator"
   ]
  },
  {
   "cell_type": "markdown",
   "metadata": {
    "slideshow": {
     "slide_type": "fragment"
    }
   },
   "source": [
    "- Accumulation/Distribution Line （ADL）：类似于OBV，只是累加或减去的是$\\text{当期成交量}\\times \\text{收盘价位置指数}$\n",
    "- 收盘价位置指数（close location value, CLV)的计算方法为\n",
    "\n",
    "$$\\text{CLV} = \\frac{(\\text{close}-\\text{low})-(\\text{high}-\\text{close})}{\\text{high}-\\text{low}}$$\n",
    "- Chaikin oscillator：ADL的$n$周期移动平均$-$ADL的$m$周期移动平均"
   ]
  },
  {
   "cell_type": "code",
   "execution_count": 71,
   "metadata": {
    "slideshow": {
     "slide_type": "fragment"
    }
   },
   "outputs": [
    {
     "name": "stderr",
     "output_type": "stream",
     "text": [
      "/home/VENV36/lib/python3.6/site-packages/matplotlib/backends/backend_agg.py:211: RuntimeWarning: Glyph 8722 missing from current font.\n",
      "  font.set_text(s, 0.0, flags=flags)\n",
      "/home/VENV36/lib/python3.6/site-packages/matplotlib/backends/backend_agg.py:180: RuntimeWarning: Glyph 8722 missing from current font.\n",
      "  font.set_text(s, 0, flags=flags)\n"
     ]
    },
    {
     "data": {
      "image/png": "[encoded data removed]",
      "text/plain": [
       "<Figure size 1150x575 with 4 Axes>"
      ]
     },
     "metadata": {},
     "output_type": "display_data"
    }
   ],
   "source": [
    "rCHO = talib.ADOSC(hsdf['High'], hsdf['Low'], hsdf['Close'], hsdf['Volume'], fastperiod=3, slowperiod=10)\n",
    "choFig = mpf.make_addplot(rCHO,panel=1,ylabel='CHO')\n",
    "mpf.plot(hsdf,type='candle',style=sty,addplot=choFig,figratio=(12,6),figscale=1,tight_layout=True)"
   ]
  },
  {
   "cell_type": "markdown",
   "metadata": {
    "slideshow": {
     "slide_type": "fragment"
    }
   },
   "source": [
    "- 当Chaikin oscillator为正值，表明买方压力积聚，意味着上涨趋势\n",
    "- 当Chaikin oscillator为负值，表明卖方压力积聚，意味着下跌趋势"
   ]
  },
  {
   "cell_type": "markdown",
   "metadata": {
    "slideshow": {
     "slide_type": "slide"
    }
   },
   "source": [
    "## 均值回归模型"
   ]
  },
  {
   "cell_type": "markdown",
   "metadata": {
    "slideshow": {
     "slide_type": "fragment"
    }
   },
   "source": [
    "<div class=\"row\">\n",
    "    <div class=\"col-md-6\">\n",
    "        <img src=\"./img/models/trend.jpg\" width=90%>\n",
    "    </div>\n",
    "    <div class=\"col-md-6\">\n",
    "        <img src=\"./img/models/arbitrage.jpg\" width=90%>\n",
    "    </div>\n",
    "</div>"
   ]
  },
  {
   "cell_type": "markdown",
   "metadata": {
    "slideshow": {
     "slide_type": "slide"
    }
   },
   "source": [
    "- 理论基础\n",
    "    > 标的资产的价格总是围绕着其内在价值波动，一旦趋势结束，价格必然出现反方向运动，回到价值附近"
   ]
  },
  {
   "cell_type": "markdown",
   "metadata": {
    "slideshow": {
     "slide_type": "fragment"
    }
   },
   "source": [
    "- 常用的实现方式\n",
    "    > 配对交易（套利）"
   ]
  },
  {
   "cell_type": "markdown",
   "metadata": {
    "slideshow": {
     "slide_type": "fragment"
    }
   },
   "source": [
    "- 原因\n",
    "    - 单一资产的内在价值较难确定\n",
    "    - 对于两个高度相关资产，一种资产的价格就可以近似成为另一种资产的内在价值"
   ]
  },
  {
   "cell_type": "markdown",
   "metadata": {
    "slideshow": {
     "slide_type": "slide"
    }
   },
   "source": [
    "### 协整分析"
   ]
  },
  {
   "cell_type": "markdown",
   "metadata": {
    "slideshow": {
     "slide_type": "skip"
    }
   },
   "source": [
    "平稳（时间）序列是包括均值、方差和自相关等在内的统计特性不随时间发生变化的时间序列。\n",
    "非平稳序列数据可能包含趋势（trend）、季节性（seasonality)，或者随机游走（random walk）。\n",
    "随机游走是一种随机过程，每个时刻的数据只跟前一个数据和各自的随机误差有关。\n",
    "几乎所有的原始价格时间序列数据都是非平稳的。"
   ]
  },
  {
   "cell_type": "markdown",
   "metadata": {
    "slideshow": {
     "slide_type": "fragment"
    }
   },
   "source": [
    "<dl class=\"row\">\n",
    "    <dt class=\"col-md-4\">协整(cointegration)</dt>\n",
    "    <dd class=\"col-md-8\">两个时间序列各自都是<strong>非平稳过程</strong>，但是它们的线性组合是<strong>平稳过程</strong></dd>\n",
    "</dl>"
   ]
  },
  {
   "cell_type": "markdown",
   "metadata": {
    "slideshow": {
     "slide_type": "fragment"
    }
   },
   "source": [
    "<dl class=\"row\">\n",
    "    <dt class=\"col-md-4\">平稳过程</dt>\n",
    "    <dd class=\"col-md-8\">统计特性在时间平移下不变的随机过程</dd>\n",
    "</dl>"
   ]
  },
  {
   "cell_type": "markdown",
   "metadata": {
    "slideshow": {
     "slide_type": "slide"
    }
   },
   "source": [
    "- 假设有一个时间序列$\\{X_t\\}$，则该序列是平稳过程需要满足下面的条件：\n",
    "\n",
    "\n",
    "1. $E[X_t] = \\mu$\n",
    "2. $Var[X_t] = \\sigma^2$\n",
    "3. $Cov(X_t, X_{t+k}) = r(k)$"
   ]
  },
  {
   "cell_type": "markdown",
   "metadata": {
    "slideshow": {
     "slide_type": "fragment"
    }
   },
   "source": [
    "<center><img src=\"./img/strategy/stationary.png\" width=60%></center>"
   ]
  },
  {
   "cell_type": "markdown",
   "metadata": {
    "slideshow": {
     "slide_type": "slide"
    }
   },
   "source": [
    "##### 检验协整关系"
   ]
  },
  {
   "cell_type": "markdown",
   "metadata": {
    "slideshow": {
     "slide_type": "fragment"
    }
   },
   "source": [
    "- 设有两个时间序列$\\{X_t\\}$ 和 $\\{Y_t\\}$,\n",
    "\n",
    "\n",
    "1. 利用最小二乘（OLS）法估计$X_t$ 和 $Y_t$ 的长期均衡关系式$Y_t=\\alpha_0+\\alpha_1X_t+e_t$，并计算误差：\n",
    "\\begin{align}\n",
    "  \\hat{Y}_t &= \\hat{\\alpha}_0 + \\hat{\\alpha}_1 X_t \\\\\n",
    "  \\hat{e}_t &= Y_t - \\hat{Y}_t \\\\\n",
    "\\end{align}"
   ]
  },
  {
   "cell_type": "markdown",
   "metadata": {
    "slideshow": {
     "slide_type": "fragment"
    }
   },
   "source": [
    "2. 检验残差序列$\\{\\hat{e}_t\\}$的平稳性。可用ADF检验，如果通过检验，说明$X_t$ 和 $Y_t$具有协整关系。"
   ]
  },
  {
   "cell_type": "markdown",
   "metadata": {
    "slideshow": {
     "slide_type": "slide"
    }
   },
   "source": [
    "### `Python`实现"
   ]
  },
  {
   "cell_type": "markdown",
   "metadata": {
    "slideshow": {
     "slide_type": "fragment"
    }
   },
   "source": [
    "```python\n",
    "pip install statsmodels\n",
    "import statsmodels.api as sm\n",
    "coint_t, pvalue, crit_value = sm.tsa.stattools.coint(y0, y1)\n",
    "```\n",
    "- `y0`与`y1`：需要检验的两个价格序列\n",
    "- `coint_t`：对回归残差单位根检验的`t`统计量\n",
    "- `pvalue`：单位根检验的显著性水平\n",
    "- `crit_value`：单位根检验分别在1%、5%、10%上的临界值"
   ]
  },
  {
   "cell_type": "code",
   "execution_count": 258,
   "metadata": {
    "slideshow": {
     "slide_type": "slide"
    }
   },
   "outputs": [
    {
     "data": {
      "text/html": [
       "<div>\n",
       "<style scoped>\n",
       "    .dataframe tbody tr th:only-of-type {\n",
       "        vertical-align: middle;\n",
       "    }\n",
       "\n",
       "    .dataframe tbody tr th {\n",
       "        vertical-align: top;\n",
       "    }\n",
       "\n",
       "    .dataframe thead th {\n",
       "        text-align: right;\n",
       "    }\n",
       "</style>\n",
       "<table border=\"1\" class=\"dataframe\">\n",
       "  <thead>\n",
       "    <tr style=\"text-align: right;\">\n",
       "      <th></th>\n",
       "      <th>Open</th>\n",
       "      <th>High</th>\n",
       "      <th>Low</th>\n",
       "      <th>Close</th>\n",
       "      <th>Volume</th>\n",
       "    </tr>\n",
       "    <tr>\n",
       "      <th>Date</th>\n",
       "      <th></th>\n",
       "      <th></th>\n",
       "      <th></th>\n",
       "      <th></th>\n",
       "      <th></th>\n",
       "    </tr>\n",
       "  </thead>\n",
       "  <tbody>\n",
       "    <tr>\n",
       "      <th>2020-09-22</th>\n",
       "      <td>112.68</td>\n",
       "      <td>112.86</td>\n",
       "      <td>109.16</td>\n",
       "      <td>111.81</td>\n",
       "      <td>183055373</td>\n",
       "    </tr>\n",
       "    <tr>\n",
       "      <th>2020-09-21</th>\n",
       "      <td>104.54</td>\n",
       "      <td>110.19</td>\n",
       "      <td>103.10</td>\n",
       "      <td>110.08</td>\n",
       "      <td>195713815</td>\n",
       "    </tr>\n",
       "    <tr>\n",
       "      <th>2020-09-18</th>\n",
       "      <td>110.40</td>\n",
       "      <td>110.88</td>\n",
       "      <td>106.09</td>\n",
       "      <td>106.84</td>\n",
       "      <td>287104882</td>\n",
       "    </tr>\n",
       "    <tr>\n",
       "      <th>2020-09-17</th>\n",
       "      <td>109.72</td>\n",
       "      <td>112.20</td>\n",
       "      <td>108.71</td>\n",
       "      <td>110.34</td>\n",
       "      <td>178010968</td>\n",
       "    </tr>\n",
       "    <tr>\n",
       "      <th>2020-09-16</th>\n",
       "      <td>115.23</td>\n",
       "      <td>116.00</td>\n",
       "      <td>112.04</td>\n",
       "      <td>112.13</td>\n",
       "      <td>155026675</td>\n",
       "    </tr>\n",
       "  </tbody>\n",
       "</table>\n",
       "</div>"
      ],
      "text/plain": [
       "              Open    High     Low   Close     Volume\n",
       "Date                                                 \n",
       "2020-09-22  112.68  112.86  109.16  111.81  183055373\n",
       "2020-09-21  104.54  110.19  103.10  110.08  195713815\n",
       "2020-09-18  110.40  110.88  106.09  106.84  287104882\n",
       "2020-09-17  109.72  112.20  108.71  110.34  178010968\n",
       "2020-09-16  115.23  116.00  112.04  112.13  155026675"
      ]
     },
     "execution_count": 258,
     "metadata": {},
     "output_type": "execute_result"
    },
    {
     "data": {
      "text/html": [
       "<div>\n",
       "<style scoped>\n",
       "    .dataframe tbody tr th:only-of-type {\n",
       "        vertical-align: middle;\n",
       "    }\n",
       "\n",
       "    .dataframe tbody tr th {\n",
       "        vertical-align: top;\n",
       "    }\n",
       "\n",
       "    .dataframe thead th {\n",
       "        text-align: right;\n",
       "    }\n",
       "</style>\n",
       "<table border=\"1\" class=\"dataframe\">\n",
       "  <thead>\n",
       "    <tr style=\"text-align: right;\">\n",
       "      <th></th>\n",
       "      <th>Open</th>\n",
       "      <th>High</th>\n",
       "      <th>Low</th>\n",
       "      <th>Close</th>\n",
       "      <th>Volume</th>\n",
       "    </tr>\n",
       "    <tr>\n",
       "      <th>Date</th>\n",
       "      <th></th>\n",
       "      <th></th>\n",
       "      <th></th>\n",
       "      <th></th>\n",
       "      <th></th>\n",
       "    </tr>\n",
       "  </thead>\n",
       "  <tbody>\n",
       "    <tr>\n",
       "      <th>2020-09-22</th>\n",
       "      <td>1450.09</td>\n",
       "      <td>1469.5200</td>\n",
       "      <td>1434.5300</td>\n",
       "      <td>1465.46</td>\n",
       "      <td>1583201</td>\n",
       "    </tr>\n",
       "    <tr>\n",
       "      <th>2020-09-21</th>\n",
       "      <td>1440.06</td>\n",
       "      <td>1448.3600</td>\n",
       "      <td>1406.5500</td>\n",
       "      <td>1431.16</td>\n",
       "      <td>2888827</td>\n",
       "    </tr>\n",
       "    <tr>\n",
       "      <th>2020-09-18</th>\n",
       "      <td>1498.01</td>\n",
       "      <td>1503.0032</td>\n",
       "      <td>1437.1300</td>\n",
       "      <td>1459.99</td>\n",
       "      <td>3103882</td>\n",
       "    </tr>\n",
       "    <tr>\n",
       "      <th>2020-09-17</th>\n",
       "      <td>1496.00</td>\n",
       "      <td>1508.2984</td>\n",
       "      <td>1470.0001</td>\n",
       "      <td>1495.53</td>\n",
       "      <td>1879751</td>\n",
       "    </tr>\n",
       "    <tr>\n",
       "      <th>2020-09-16</th>\n",
       "      <td>1555.54</td>\n",
       "      <td>1562.0000</td>\n",
       "      <td>1519.8200</td>\n",
       "      <td>1520.90</td>\n",
       "      <td>1312299</td>\n",
       "    </tr>\n",
       "  </tbody>\n",
       "</table>\n",
       "</div>"
      ],
      "text/plain": [
       "               Open       High        Low    Close   Volume\n",
       "Date                                                       \n",
       "2020-09-22  1450.09  1469.5200  1434.5300  1465.46  1583201\n",
       "2020-09-21  1440.06  1448.3600  1406.5500  1431.16  2888827\n",
       "2020-09-18  1498.01  1503.0032  1437.1300  1459.99  3103882\n",
       "2020-09-17  1496.00  1508.2984  1470.0001  1495.53  1879751\n",
       "2020-09-16  1555.54  1562.0000  1519.8200  1520.90  1312299"
      ]
     },
     "execution_count": 258,
     "metadata": {},
     "output_type": "execute_result"
    }
   ],
   "source": [
    "retAapl = web.DataReader('AAPL',start='2018-1-1',end='2020-9-23',data_source='stooq')\n",
    "retAapl.head()\n",
    "retGoog = web.DataReader('GOOG',start='2018-1-1',end='2020-9-23',data_source='stooq')\n",
    "retGoog.head()"
   ]
  },
  {
   "cell_type": "code",
   "execution_count": 259,
   "metadata": {
    "slideshow": {
     "slide_type": "fragment"
    }
   },
   "outputs": [
    {
     "data": {
      "text/html": [
       "<div>\n",
       "<style scoped>\n",
       "    .dataframe tbody tr th:only-of-type {\n",
       "        vertical-align: middle;\n",
       "    }\n",
       "\n",
       "    .dataframe tbody tr th {\n",
       "        vertical-align: top;\n",
       "    }\n",
       "\n",
       "    .dataframe thead th {\n",
       "        text-align: right;\n",
       "    }\n",
       "</style>\n",
       "<table border=\"1\" class=\"dataframe\">\n",
       "  <thead>\n",
       "    <tr style=\"text-align: right;\">\n",
       "      <th></th>\n",
       "      <th>Open</th>\n",
       "      <th>High</th>\n",
       "      <th>Low</th>\n",
       "      <th>Close</th>\n",
       "      <th>Volume</th>\n",
       "    </tr>\n",
       "    <tr>\n",
       "      <th>Date</th>\n",
       "      <th></th>\n",
       "      <th></th>\n",
       "      <th></th>\n",
       "      <th></th>\n",
       "      <th></th>\n",
       "    </tr>\n",
       "  </thead>\n",
       "  <tbody>\n",
       "    <tr>\n",
       "      <th>2018-01-02</th>\n",
       "      <td>41.008</td>\n",
       "      <td>41.522</td>\n",
       "      <td>40.790</td>\n",
       "      <td>41.512</td>\n",
       "      <td>105892200</td>\n",
       "    </tr>\n",
       "    <tr>\n",
       "      <th>2018-01-03</th>\n",
       "      <td>41.578</td>\n",
       "      <td>42.062</td>\n",
       "      <td>41.438</td>\n",
       "      <td>41.505</td>\n",
       "      <td>122271476</td>\n",
       "    </tr>\n",
       "    <tr>\n",
       "      <th>2018-01-04</th>\n",
       "      <td>41.580</td>\n",
       "      <td>41.808</td>\n",
       "      <td>41.468</td>\n",
       "      <td>41.702</td>\n",
       "      <td>92736404</td>\n",
       "    </tr>\n",
       "    <tr>\n",
       "      <th>2018-01-05</th>\n",
       "      <td>41.800</td>\n",
       "      <td>42.265</td>\n",
       "      <td>41.708</td>\n",
       "      <td>42.172</td>\n",
       "      <td>97913124</td>\n",
       "    </tr>\n",
       "    <tr>\n",
       "      <th>2018-01-08</th>\n",
       "      <td>42.018</td>\n",
       "      <td>42.322</td>\n",
       "      <td>41.918</td>\n",
       "      <td>42.028</td>\n",
       "      <td>85190420</td>\n",
       "    </tr>\n",
       "  </tbody>\n",
       "</table>\n",
       "</div>"
      ],
      "text/plain": [
       "              Open    High     Low   Close     Volume\n",
       "Date                                                 \n",
       "2018-01-02  41.008  41.522  40.790  41.512  105892200\n",
       "2018-01-03  41.578  42.062  41.438  41.505  122271476\n",
       "2018-01-04  41.580  41.808  41.468  41.702   92736404\n",
       "2018-01-05  41.800  42.265  41.708  42.172   97913124\n",
       "2018-01-08  42.018  42.322  41.918  42.028   85190420"
      ]
     },
     "execution_count": 259,
     "metadata": {},
     "output_type": "execute_result"
    },
    {
     "data": {
      "text/html": [
       "<div>\n",
       "<style scoped>\n",
       "    .dataframe tbody tr th:only-of-type {\n",
       "        vertical-align: middle;\n",
       "    }\n",
       "\n",
       "    .dataframe tbody tr th {\n",
       "        vertical-align: top;\n",
       "    }\n",
       "\n",
       "    .dataframe thead th {\n",
       "        text-align: right;\n",
       "    }\n",
       "</style>\n",
       "<table border=\"1\" class=\"dataframe\">\n",
       "  <thead>\n",
       "    <tr style=\"text-align: right;\">\n",
       "      <th></th>\n",
       "      <th>Open</th>\n",
       "      <th>High</th>\n",
       "      <th>Low</th>\n",
       "      <th>Close</th>\n",
       "      <th>Volume</th>\n",
       "    </tr>\n",
       "    <tr>\n",
       "      <th>Date</th>\n",
       "      <th></th>\n",
       "      <th></th>\n",
       "      <th></th>\n",
       "      <th></th>\n",
       "      <th></th>\n",
       "    </tr>\n",
       "  </thead>\n",
       "  <tbody>\n",
       "    <tr>\n",
       "      <th>2018-01-02</th>\n",
       "      <td>1048.34</td>\n",
       "      <td>1066.94</td>\n",
       "      <td>1045.23</td>\n",
       "      <td>1064.90</td>\n",
       "      <td>1236401</td>\n",
       "    </tr>\n",
       "    <tr>\n",
       "      <th>2018-01-03</th>\n",
       "      <td>1064.31</td>\n",
       "      <td>1086.29</td>\n",
       "      <td>1063.21</td>\n",
       "      <td>1082.48</td>\n",
       "      <td>1429883</td>\n",
       "    </tr>\n",
       "    <tr>\n",
       "      <th>2018-01-04</th>\n",
       "      <td>1088.00</td>\n",
       "      <td>1093.57</td>\n",
       "      <td>1084.00</td>\n",
       "      <td>1086.40</td>\n",
       "      <td>1003740</td>\n",
       "    </tr>\n",
       "    <tr>\n",
       "      <th>2018-01-05</th>\n",
       "      <td>1094.00</td>\n",
       "      <td>1104.25</td>\n",
       "      <td>1092.00</td>\n",
       "      <td>1102.23</td>\n",
       "      <td>1278921</td>\n",
       "    </tr>\n",
       "    <tr>\n",
       "      <th>2018-01-08</th>\n",
       "      <td>1102.23</td>\n",
       "      <td>1111.27</td>\n",
       "      <td>1101.62</td>\n",
       "      <td>1106.94</td>\n",
       "      <td>1046769</td>\n",
       "    </tr>\n",
       "  </tbody>\n",
       "</table>\n",
       "</div>"
      ],
      "text/plain": [
       "               Open     High      Low    Close   Volume\n",
       "Date                                                   \n",
       "2018-01-02  1048.34  1066.94  1045.23  1064.90  1236401\n",
       "2018-01-03  1064.31  1086.29  1063.21  1082.48  1429883\n",
       "2018-01-04  1088.00  1093.57  1084.00  1086.40  1003740\n",
       "2018-01-05  1094.00  1104.25  1092.00  1102.23  1278921\n",
       "2018-01-08  1102.23  1111.27  1101.62  1106.94  1046769"
      ]
     },
     "execution_count": 259,
     "metadata": {},
     "output_type": "execute_result"
    }
   ],
   "source": [
    "retAapl.sort_index(inplace=True)\n",
    "retAapl.head()\n",
    "retGoog.sort_index(inplace=True)\n",
    "retGoog.head()"
   ]
  },
  {
   "cell_type": "code",
   "execution_count": 269,
   "metadata": {
    "slideshow": {
     "slide_type": "slide"
    }
   },
   "outputs": [
    {
     "data": {
      "image/png": "[encoded data removed]",
      "text/plain": [
       "<Figure size 1150x575 with 2 Axes>"
      ]
     },
     "metadata": {},
     "output_type": "display_data"
    }
   ],
   "source": [
    "subfig = mpf.make_addplot(retGoog['Close'],color='red')\n",
    "mpf.plot(retAapl,type='line',style='yahoo',addplot=subfig,figratio=(12,6),figscale=1)"
   ]
  },
  {
   "cell_type": "code",
   "execution_count": 270,
   "metadata": {
    "slideshow": {
     "slide_type": "fragment"
    }
   },
   "outputs": [
    {
     "name": "stdout",
     "output_type": "stream",
     "text": [
      "t_val -3.465079997579618, p_val 0.03561907897134225, crit_val [-3.91249963 -3.3450644  -3.05064733]\n"
     ]
    }
   ],
   "source": [
    "res = sm.tsa.stattools.coint(np.log(retAapl['Close']), np.log(retGoog['Close']))\n",
    "print(f't_val {res[0]}, p_val {res[1]}, crit_val {res[2]}')"
   ]
  },
  {
   "cell_type": "markdown",
   "metadata": {
    "slideshow": {
     "slide_type": "fragment"
    }
   },
   "source": [
    "- 在95%的置信水平上拒绝原假设，可以认为两个价格序列之间具有协整关系"
   ]
  },
  {
   "cell_type": "markdown",
   "metadata": {
    "slideshow": {
     "slide_type": "slide"
    }
   },
   "source": [
    "## 多因子模型"
   ]
  },
  {
   "cell_type": "markdown",
   "metadata": {
    "slideshow": {
     "slide_type": "fragment"
    }
   },
   "source": [
    "<dl class=\"row\">\n",
    "    <dt class=\"col-md-4\">多因子模型</dt>\n",
    "    <dd class=\"col-md-8\">利用<strong>多个</strong>对资产价格（例如，股票价格、期货价格等）走势有显著且有效的因子建立的量化模型，以解释和预测均衡资产价格</dd>\n",
    "</dl>"
   ]
  },
  {
   "cell_type": "markdown",
   "metadata": {
    "slideshow": {
     "slide_type": "fragment"
    }
   },
   "source": [
    "<dl class=\"row\">\n",
    "    <dt class=\"col-md-4\">因子（factor）</dt>\n",
    "    <dd class=\"col-md-8\">一个现象产生后，对于下周期收益率有影响</dd>\n",
    "</dl>"
   ]
  },
  {
   "cell_type": "markdown",
   "metadata": {
    "slideshow": {
     "slide_type": "slide"
    }
   },
   "source": [
    "### CAPM模型"
   ]
  },
  {
   "cell_type": "markdown",
   "metadata": {
    "slideshow": {
     "slide_type": "fragment"
    }
   },
   "source": [
    "\\begin{equation}\n",
    "  E(r_i)=r_f+\\beta_i\\left(E(r_m)-r_f\\right)\n",
    "\\end{equation}\n",
    "\n",
    "- $\\beta_i$：风险系数\n",
    "- $E(r_i)$：第$i$个资产的期望价格（收益）\n",
    "- $r_f$：无风险收益\n",
    "- $E(r_m)$：市场组合的期望收益"
   ]
  },
  {
   "cell_type": "markdown",
   "metadata": {
    "slideshow": {
     "slide_type": "fragment"
    }
   },
   "source": [
    "- 假设\n",
    "    1. 所有投资者都希望获得最大收益\n",
    "    2. 所有投资者在投资期内的预期收益服从**相同**的概率分布\n",
    "    3. 所有投资者对风险都具有**相同**的偏好和估计\n",
    "    4. 所有投资者都使用风险化收益模型进行投资\n",
    "    5. 资者都具有**风险相同的情况下偏好高收益**，**收益相同的情况下偏好低风险**的投资风格"
   ]
  },
  {
   "cell_type": "markdown",
   "metadata": {
    "slideshow": {
     "slide_type": "fragment"
    }
   },
   "source": [
    "> 假设过于严格，尤其2-5与实际情况不符"
   ]
  },
  {
   "cell_type": "markdown",
   "metadata": {
    "slideshow": {
     "slide_type": "slide"
    }
   },
   "source": [
    "### APT模型"
   ]
  },
  {
   "cell_type": "markdown",
   "metadata": {
    "slideshow": {
     "slide_type": "fragment"
    }
   },
   "source": [
    "- APT(Arbitrage Pricing Theory)套利定价理论"
   ]
  },
  {
   "cell_type": "markdown",
   "metadata": {
    "slideshow": {
     "slide_type": "fragment"
    }
   },
   "source": [
    "\\begin{equation}\n",
    "  E(r_i)=r_f+\\beta_{i1}\\times RP_1+\\beta_{i2}\\times RP_2+\\cdots+\\beta_{in}\\times RP_n\n",
    "\\end{equation}\n",
    "\n",
    "- $\\beta_{ij}$：资产$i$对第$j$个因素的敏感度\n",
    "- $RP_j$：影响资产价格（收益）的第$j$个因子"
   ]
  },
  {
   "cell_type": "markdown",
   "metadata": {
    "slideshow": {
     "slide_type": "fragment"
    }
   },
   "source": [
    "- 相对于CAPM模型，APT模型\n",
    "    - 不需要假设所有投资者对市场的预期一致\n",
    "    - 没有假设市场是完全有效的，存在价格扭曲"
   ]
  },
  {
   "cell_type": "markdown",
   "metadata": {
    "slideshow": {
     "slide_type": "fragment"
    }
   },
   "source": [
    "- APT模型的局限\n",
    "    - 不知道有多少个因子\n",
    "    - 不知道哪些因子能够对资产价格（收益）产生显著影响"
   ]
  },
  {
   "cell_type": "markdown",
   "metadata": {
    "slideshow": {
     "slide_type": "slide"
    }
   },
   "source": [
    "### Fama-French三因子模型"
   ]
  },
  {
   "cell_type": "markdown",
   "metadata": {
    "slideshow": {
     "slide_type": "fragment"
    }
   },
   "source": [
    "\\begin{equation}\n",
    "  E(r_i)=r_f+\\beta_1\\left(E(r_m)-r_f\\right)+\\beta_2E(SMB)+\\beta_3E(HML)\n",
    "\\end{equation}"
   ]
  },
  {
   "cell_type": "markdown",
   "metadata": {
    "slideshow": {
     "slide_type": "fragment"
    }
   },
   "source": [
    "#### $SMB$"
   ]
  },
  {
   "cell_type": "markdown",
   "metadata": {
    "slideshow": {
     "slide_type": "fragment"
    }
   },
   "source": [
    "- Small Minus Big，市值因子"
   ]
  },
  {
   "cell_type": "markdown",
   "metadata": {
    "slideshow": {
     "slide_type": "fragment"
    }
   },
   "source": [
    "- 小市值（market captilization）公司的股票回报会超过大市值公司的股票回报"
   ]
  },
  {
   "cell_type": "markdown",
   "metadata": {
    "slideshow": {
     "slide_type": "slide"
    }
   },
   "source": [
    "#### $HML$"
   ]
  },
  {
   "cell_type": "markdown",
   "metadata": {
    "slideshow": {
     "slide_type": "fragment"
    }
   },
   "source": [
    "- High Minus Low，账面市值比"
   ]
  },
  {
   "cell_type": "markdown",
   "metadata": {
    "slideshow": {
     "slide_type": "fragment"
    }
   },
   "source": [
    "- 高账面市值比（价值股）公司的股票回报会超过低账面市值比（成长股）公司的股票回报"
   ]
  },
  {
   "cell_type": "markdown",
   "metadata": {
    "slideshow": {
     "slide_type": "slide"
    }
   },
   "source": [
    "### 因子的分类"
   ]
  },
  {
   "cell_type": "markdown",
   "metadata": {
    "slideshow": {
     "slide_type": "fragment"
    }
   },
   "source": [
    "#### 股票交易相关因子"
   ]
  },
  {
   "cell_type": "markdown",
   "metadata": {
    "slideshow": {
     "slide_type": "fragment"
    }
   },
   "source": [
    "##### 价值因子"
   ]
  },
  {
   "cell_type": "markdown",
   "metadata": {
    "slideshow": {
     "slide_type": "fragment"
    }
   },
   "source": [
    "- 对应价值型投资，买入便宜的资产长期持有以获得超额收益"
   ]
  },
  {
   "cell_type": "markdown",
   "metadata": {
    "slideshow": {
     "slide_type": "fragment"
    }
   },
   "source": [
    "- 典型指标\n",
    "    - 盈利收益率，$E/P$\n",
    "    - 市净率"
   ]
  },
  {
   "cell_type": "markdown",
   "metadata": {
    "slideshow": {
     "slide_type": "slide"
    }
   },
   "source": [
    "##### 成长因子"
   ]
  },
  {
   "cell_type": "markdown",
   "metadata": {
    "slideshow": {
     "slide_type": "fragment"
    }
   },
   "source": [
    "- 对应成长型投资，依据资产的历史增长水平对未来预测"
   ]
  },
  {
   "cell_type": "markdown",
   "metadata": {
    "slideshow": {
     "slide_type": "fragment"
    }
   },
   "source": [
    "- 典型指标\n",
    "    - 净资产收益率（ROE）\n",
    "    - 总资产收益率（ROA）\n",
    "    - 主营收入增长率\n",
    "    - 市盈率相对盈利增长比例，$PEG=\\frac{PE}{年盈利增长率}$"
   ]
  },
  {
   "cell_type": "markdown",
   "metadata": {
    "slideshow": {
     "slide_type": "slide"
    }
   },
   "source": [
    "##### 品质因子"
   ]
  },
  {
   "cell_type": "markdown",
   "metadata": {
    "slideshow": {
     "slide_type": "fragment"
    }
   },
   "source": [
    "- 持有高品质的资产，风险较低，较好保护投资者利益"
   ]
  },
  {
   "cell_type": "markdown",
   "metadata": {
    "slideshow": {
     "slide_type": "fragment"
    }
   },
   "source": [
    "- 典型指标\n",
    "    - 资产负债率\n",
    "    - 固定资产比例"
   ]
  },
  {
   "cell_type": "markdown",
   "metadata": {
    "slideshow": {
     "slide_type": "slide"
    }
   },
   "source": [
    "#### 期货交易相关因子"
   ]
  },
  {
   "cell_type": "markdown",
   "metadata": {
    "slideshow": {
     "slide_type": "fragment"
    }
   },
   "source": [
    "<center><img src=\"./img/models/futureMultiFactors.png\" width=100%></center>"
   ]
  },
  {
   "cell_type": "markdown",
   "metadata": {
    "slideshow": {
     "slide_type": "fragment"
    }
   },
   "source": [
    "- 近月收益：近月合约价格对数的增量，衡量捕捉当前价格波动的收益\n",
    "- 持有收益：远月合约价格对数的增量，衡量捕捉长期持有的收益"
   ]
  },
  {
   "cell_type": "markdown",
   "metadata": {
    "slideshow": {
     "slide_type": "slide"
    }
   },
   "source": [
    "##### 动量因子（momentum factor）"
   ]
  },
  {
   "cell_type": "markdown",
   "metadata": {
    "slideshow": {
     "slide_type": "fragment"
    }
   },
   "source": [
    "- 原理：过去上涨良好的商品未来还会上涨；过去下跌的商品未来还会下跌"
   ]
  },
  {
   "cell_type": "markdown",
   "metadata": {
    "slideshow": {
     "slide_type": "fragment"
    }
   },
   "source": [
    "- 因子构成\n",
    "    - 商品的超额收益在过去12个月内的均值"
   ]
  },
  {
   "cell_type": "markdown",
   "metadata": {
    "slideshow": {
     "slide_type": "slide"
    }
   },
   "source": [
    "##### 期限结构因子（term structure）"
   ]
  },
  {
   "cell_type": "markdown",
   "metadata": {
    "slideshow": {
     "slide_type": "fragment"
    }
   },
   "source": [
    "- 原理：存储理论（the theory of storage），该理论将期限结构与库存水平以及持有实物商品的的成本与收益联系起来"
   ]
  },
  {
   "cell_type": "markdown",
   "metadata": {
    "slideshow": {
     "slide_type": "fragment"
    }
   },
   "source": [
    "- 持有稀缺的商品，卖出供应充足的商品"
   ]
  },
  {
   "cell_type": "markdown",
   "metadata": {
    "slideshow": {
     "slide_type": "fragment"
    }
   },
   "source": [
    "- 因子构成\n",
    "    $$ln(f_{t,Front})-ln(f_{t,Second})$$\n",
    "    \n",
    "    - 其中，$ln(f_{t,Front})为准备建立仓位时候的近月合约价格$"
   ]
  },
  {
   "cell_type": "markdown",
   "metadata": {
    "slideshow": {
     "slide_type": "slide"
    }
   },
   "source": [
    "##### 波动率因子（volatility factor）"
   ]
  },
  {
   "cell_type": "markdown",
   "metadata": {
    "slideshow": {
     "slide_type": "fragment"
    }
   },
   "source": [
    "- 原理：价格波动性高的商品对外来的冲击更为敏感，但同时，也对跨期风险的承受能力弱，因此，持有这类商品的投资者会要求一个更高的回报"
   ]
  },
  {
   "cell_type": "markdown",
   "metadata": {
    "slideshow": {
     "slide_type": "fragment"
    }
   },
   "source": [
    "- 因子构成：变异系数\n",
    "\\begin{align}\n",
    "  &\\frac{\\sigma^2}{|\\mu|}\\\\\n",
    "  &\\sigma^2=\\frac{1}{D-1}\\sum_{d=1}^D(r_{d,Front}-\\mu)^2\\\\\n",
    "  &\\mu = \\frac{1}{D}\\sum_{d=1}^Dr_{d,Front}\n",
    "\\end{align}"
   ]
  },
  {
   "cell_type": "markdown",
   "metadata": {
    "slideshow": {
     "slide_type": "slide"
    }
   },
   "source": [
    "##### 价值因子（value factor）"
   ]
  },
  {
   "cell_type": "markdown",
   "metadata": {
    "slideshow": {
     "slide_type": "fragment"
    }
   },
   "source": [
    "- 原理：投资者的有限理性偏差导致价格出现异动，但是之后价格会向平均水平回归"
   ]
  },
  {
   "cell_type": "markdown",
   "metadata": {
    "slideshow": {
     "slide_type": "fragment"
    }
   },
   "source": [
    "- 长期盈利的商品在未来价格会下跌；长期低迷的商品在未来价格会上涨"
   ]
  },
  {
   "cell_type": "markdown",
   "metadata": {
    "slideshow": {
     "slide_type": "fragment"
    }
   },
   "source": [
    "- 因子构成\n",
    "\n",
    "\\begin{equation}\n",
    "  ln\\frac{\\frac{1}{D}\\sum_{d=1}^D f_{d,Front}}{f_{t,Front}}\n",
    "\\end{equation}"
   ]
  },
  {
   "cell_type": "markdown",
   "metadata": {
    "slideshow": {
     "slide_type": "slide"
    }
   },
   "source": [
    "##### 流动性因子（liquidity factor）"
   ]
  },
  {
   "cell_type": "markdown",
   "metadata": {
    "slideshow": {
     "slide_type": "fragment"
    }
   },
   "source": [
    "- 原理：持有流动性低的商品的投资者要求一个更高的期望回报"
   ]
  },
  {
   "cell_type": "markdown",
   "metadata": {
    "slideshow": {
     "slide_type": "fragment"
    }
   },
   "source": [
    "- 因子构成\n",
    "\\begin{equation}\n",
    "  LR=\\frac{1}{D}\\sum_{d=1}^D\\frac{Volume_d}{|r_d|}\n",
    "\\end{equation}"
   ]
  },
  {
   "cell_type": "markdown",
   "metadata": {
    "slideshow": {
     "slide_type": "slide"
    }
   },
   "source": [
    "##### 汇率因子"
   ]
  },
  {
   "cell_type": "markdown",
   "metadata": {
    "slideshow": {
     "slide_type": "fragment"
    }
   },
   "source": [
    "- 原理：美元币值与商品价格呈现负相关关系"
   ]
  },
  {
   "cell_type": "markdown",
   "metadata": {
    "slideshow": {
     "slide_type": "fragment"
    }
   },
   "source": [
    "- 因子构成\n",
    "    - $期货的月收益=\\beta\\times 美元对主要货币的汇率变动+\\varepsilon$"
   ]
  },
  {
   "cell_type": "markdown",
   "metadata": {
    "slideshow": {
     "slide_type": "fragment"
    }
   },
   "source": [
    "- 对于美元$\\beta$系数更小的商品，投资者会要求一个更高的回报"
   ]
  },
  {
   "cell_type": "markdown",
   "metadata": {
    "slideshow": {
     "slide_type": "slide"
    }
   },
   "source": [
    "##### 通胀因子"
   ]
  },
  {
   "cell_type": "markdown",
   "metadata": {
    "slideshow": {
     "slide_type": "fragment"
    }
   },
   "source": [
    "- 原理：商品是对通胀的对冲"
   ]
  },
  {
   "cell_type": "markdown",
   "metadata": {
    "slideshow": {
     "slide_type": "fragment"
    }
   },
   "source": [
    "- 因子构成\n",
    "    - $期货的月收益=\\beta\\times 通胀率的变动+\\varepsilon$"
   ]
  },
  {
   "cell_type": "markdown",
   "metadata": {
    "slideshow": {
     "slide_type": "fragment"
    }
   },
   "source": [
    "- 对于通胀$\\beta$系数更大的商品，投资者会要求一个更高的回报"
   ]
  }
 ],
 "metadata": {
  "celltoolbar": "Slideshow",
  "hide_input": false,
  "kernelspec": {
   "display_name": "Python 3",
   "language": "python",
   "name": "python3"
  },
  "language_info": {
   "codemirror_mode": {
    "name": "ipython",
    "version": 3
   },
   "file_extension": ".py",
   "mimetype": "text/x-python",
   "name": "python",
   "nbconvert_exporter": "python",
   "pygments_lexer": "ipython3",
   "version": "3.6.8"
  },
  "toc": {
   "base_numbering": 1,
   "nav_menu": {},
   "number_sections": true,
   "sideBar": true,
   "skip_h1_title": false,
   "title_cell": "Table of Contents",
   "title_sidebar": "Contents",
   "toc_cell": false,
   "toc_position": {
    "height": "666.977px",
    "left": "46px",
    "top": "0px",
    "width": "307.484px"
   },
   "toc_section_display": true,
   "toc_window_display": true
  }
 },
 "nbformat": 4,
 "nbformat_minor": 2
}
