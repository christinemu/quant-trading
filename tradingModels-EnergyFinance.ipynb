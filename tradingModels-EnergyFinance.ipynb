{
 "cells": [
  {
   "cell_type": "code",
   "execution_count": 73,
   "metadata": {
    "slideshow": {
     "slide_type": "notes"
    }
   },
   "outputs": [],
   "source": [
    "import pandas as pd\n",
    "import numpy as np\n",
    "import talib\n",
    "from datetime import datetime\n",
    "import mplfinance as mpf\n",
    "import matplotlib.pyplot as plt\n",
    "import pandas_datareader.data as web\n",
    "import statsmodels.api as sm\n",
    "from IPython.core.interactiveshell import InteractiveShell\n",
    "InteractiveShell.ast_node_interactivity = \"all\"\n",
    "from pandas.plotting import register_matplotlib_converters\n",
    "register_matplotlib_converters()"
   ]
  },
  {
   "cell_type": "markdown",
   "metadata": {
    "slideshow": {
     "slide_type": "slide"
    }
   },
   "source": [
    "<div class=\"jumbotron\">\n",
    "    <p class=\"display-1 h1\">量化交易策略与模型</p>\n",
    "    <hr class=\"my-4\">\n",
    "    <p>主讲：李岩</p>\n",
    "    <p>管理学院</p>\n",
    "    <p>liyan@cumtb.edu.cn</p>\n",
    "</div>"
   ]
  },
  {
   "cell_type": "markdown",
   "metadata": {
    "slideshow": {
     "slide_type": "slide"
    }
   },
   "source": [
    "# 交易基础"
   ]
  },
  {
   "cell_type": "markdown",
   "metadata": {
    "slideshow": {
     "slide_type": "fragment"
    }
   },
   "source": [
    "## 交易操作"
   ]
  },
  {
   "cell_type": "markdown",
   "metadata": {
    "slideshow": {
     "slide_type": "fragment"
    }
   },
   "source": [
    "<dl class=\"row text-info\">\n",
    "    <dt class=\"col-md-2\">开仓</dt>\n",
    "    <dd class=\"col-md-10\">交易者<strong>新</strong>买入或<strong>新</strong>卖出一定数量的交易标的</dd>\n",
    "</dl>"
   ]
  },
  {
   "cell_type": "markdown",
   "metadata": {
    "slideshow": {
     "slide_type": "fragment"
    }
   },
   "source": [
    "- 例如，以3500元/吨的价格在期货市场上卖出10手rb2101合约"
   ]
  },
  {
   "cell_type": "markdown",
   "metadata": {
    "slideshow": {
     "slide_type": "fragment"
    }
   },
   "source": [
    "<dl class=\"row text-danger\">\n",
    "    <dt class=\"col-md-2\">平仓</dt>\n",
    "    <dd class=\"col-md-10\">交易者通过<strong>笔数相等</strong>、<strong>方向相反</strong>的交易来对冲原来持有的交易标的的过程</dd>\n",
    "</dl>"
   ]
  },
  {
   "cell_type": "markdown",
   "metadata": {
    "slideshow": {
     "slide_type": "fragment"
    }
   },
   "source": [
    "- 以3500元/吨的价格在期货市场上卖出10手rb2101合约，则须在2021年1月之前**买进10手**该月份合约对冲平仓"
   ]
  },
  {
   "cell_type": "markdown",
   "metadata": {
    "slideshow": {
     "slide_type": "slide"
    }
   },
   "source": [
    "<dl class=\"row\">\n",
    "    <dt class=\"col-md-2\">持仓</dt>\n",
    "    <dd class=\"col-md-10\">开仓之后尚没有平仓的交易标的，是交易者持有交易标的的过程</dd>\n",
    "</dl>"
   ]
  },
  {
   "cell_type": "markdown",
   "metadata": {
    "slideshow": {
     "slide_type": "fragment"
    }
   },
   "source": [
    "- 多头头寸：**买入**交易标的后持有的头寸，也被称为***多头***"
   ]
  },
  {
   "cell_type": "markdown",
   "metadata": {
    "slideshow": {
     "slide_type": "fragment"
    }
   },
   "source": [
    "- 空头头寸：**卖出**交易标的后持有的头寸，也被称为***空头***"
   ]
  },
  {
   "cell_type": "markdown",
   "metadata": {
    "slideshow": {
     "slide_type": "slide"
    }
   },
   "source": [
    "## 交易量"
   ]
  },
  {
   "cell_type": "markdown",
   "metadata": {
    "slideshow": {
     "slide_type": "fragment"
    }
   },
   "source": [
    "<dl class=\"row text-info\">\n",
    "    <dt class=\"col-md-2\">成交量</dt>\n",
    "    <dd class=\"col-md-10\">在一个交易时段内买卖某种交易标的的数量</dd>\n",
    "</dl>"
   ]
  },
  {
   "cell_type": "markdown",
   "metadata": {
    "slideshow": {
     "slide_type": "fragment"
    }
   },
   "source": [
    "<dl class=\"row text-danger\">\n",
    "    <dt class=\"col-md-2\">持仓量</dt>\n",
    "    <dd class=\"col-md-10\">所有投资者持仓的总数，是所有多头与空头数之和</dd>\n",
    "</dl>"
   ]
  },
  {
   "cell_type": "markdown",
   "metadata": {
    "slideshow": {
     "slide_type": "slide"
    }
   },
   "source": [
    "## 价格"
   ]
  },
  {
   "cell_type": "markdown",
   "metadata": {
    "slideshow": {
     "slide_type": "fragment"
    }
   },
   "source": [
    "### 形态描述类价格"
   ]
  },
  {
   "cell_type": "markdown",
   "metadata": {
    "slideshow": {
     "slide_type": "fragment"
    }
   },
   "source": [
    "- 开盘价：某一交易标的在某一时间段内**第一笔**成交的价格\n",
    "- 收盘价：某一交易标的在某一时间段内**最后一笔**成交的价格\n",
    "- 最高价：某一交易标的在某一时间段内成交的**最高**价格\n",
    "- 最低价：某一交易标的在某一时间段内成交的**最低**价格"
   ]
  },
  {
   "cell_type": "markdown",
   "metadata": {
    "slideshow": {
     "slide_type": "slide"
    }
   },
   "source": [
    "#### 时间长度"
   ]
  },
  {
   "cell_type": "markdown",
   "metadata": {
    "slideshow": {
     "slide_type": "fragment"
    }
   },
   "source": [
    "- 不同的时间长度对应着不同长度的趋势\n",
    "    - 例如，1分钟、5分钟、15分钟、1小时、1天、1周、1月、半年、1年等"
   ]
  },
  {
   "cell_type": "markdown",
   "metadata": {
    "slideshow": {
     "slide_type": "fragment"
    }
   },
   "source": [
    "<center><img src=\"./img/tradingBasics/timescale.jpg\" width=100%></center>"
   ]
  },
  {
   "cell_type": "markdown",
   "metadata": {
    "slideshow": {
     "slide_type": "slide"
    }
   },
   "source": [
    "#### K线图(candlestick)"
   ]
  },
  {
   "cell_type": "markdown",
   "metadata": {
    "slideshow": {
     "slide_type": "fragment"
    }
   },
   "source": [
    "- 选取一个时间长度，然后用该时间长度内的**开盘价、收盘价、最高价、最低价**构成的图形"
   ]
  },
  {
   "cell_type": "markdown",
   "metadata": {
    "slideshow": {
     "slide_type": "fragment"
    }
   },
   "source": [
    "<center><img src=\"./img/tradingBasics/candlestick.png\" width=70%></center>"
   ]
  },
  {
   "cell_type": "markdown",
   "metadata": {
    "slideshow": {
     "slide_type": "slide"
    }
   },
   "source": [
    "# 量化交易策略及交易系统"
   ]
  },
  {
   "cell_type": "markdown",
   "metadata": {
    "slideshow": {
     "slide_type": "fragment"
    }
   },
   "source": [
    "## 量化交易策略组成"
   ]
  },
  {
   "cell_type": "markdown",
   "metadata": {
    "slideshow": {
     "slide_type": "fragment"
    }
   },
   "source": [
    "<dl class=\"row text-danger\">\n",
    "    <dt class=\"col-md-4\">交易策略</dt>\n",
    "    <dd class=\"col-md-8\">交易策略是交易员进行交易时遵循的交易规则</dd>\n",
    "</dl>"
   ]
  },
  {
   "cell_type": "markdown",
   "metadata": {
    "slideshow": {
     "slide_type": "fragment"
    }
   },
   "source": [
    "<center><img src=\"./img/strategy/strategyComp.png\" width=100%></center>"
   ]
  },
  {
   "cell_type": "markdown",
   "metadata": {
    "slideshow": {
     "slide_type": "slide"
    }
   },
   "source": [
    "## 量化交易系统"
   ]
  },
  {
   "cell_type": "markdown",
   "metadata": {
    "slideshow": {
     "slide_type": "fragment"
    }
   },
   "source": [
    "- 量化交易系统由**量化交易模型**驱动"
   ]
  },
  {
   "cell_type": "markdown",
   "metadata": {
    "slideshow": {
     "slide_type": "fragment"
    }
   },
   "source": [
    "<center><img src=\"./img/models/tradingSystem.png\" width=100%></center>"
   ]
  },
  {
   "cell_type": "markdown",
   "metadata": {
    "slideshow": {
     "slide_type": "slide"
    }
   },
   "source": [
    "- 数据模型\n",
    "    - 数据的获取、存储、处理等"
   ]
  },
  {
   "cell_type": "markdown",
   "metadata": {
    "slideshow": {
     "slide_type": "fragment"
    }
   },
   "source": [
    "- Alpha模型\n",
    "    - 决定入场、离场的时机"
   ]
  },
  {
   "cell_type": "markdown",
   "metadata": {
    "slideshow": {
     "slide_type": "fragment"
    }
   },
   "source": [
    "- 风险控制模型\n",
    "    - 控制损失"
   ]
  },
  {
   "cell_type": "markdown",
   "metadata": {
    "slideshow": {
     "slide_type": "fragment"
    }
   },
   "source": [
    "- 交易成本模型\n",
    "    - 估计交易成本（交易手续费等）与收益"
   ]
  },
  {
   "cell_type": "markdown",
   "metadata": {
    "slideshow": {
     "slide_type": "slide"
    }
   },
   "source": [
    "- 投资组合模型\n",
    "    - 决定希望持有的品种与头寸规模"
   ]
  },
  {
   "cell_type": "markdown",
   "metadata": {
    "slideshow": {
     "slide_type": "fragment"
    }
   },
   "source": [
    "- 交易执行模型\n",
    "    - 有效率、低成本的执行买卖交易指令"
   ]
  },
  {
   "cell_type": "markdown",
   "metadata": {
    "slideshow": {
     "slide_type": "slide"
    }
   },
   "source": [
    "# 数据模型"
   ]
  },
  {
   "cell_type": "markdown",
   "metadata": {
    "slideshow": {
     "slide_type": "fragment"
    }
   },
   "source": [
    "> 数据是量化交易模型的基础"
   ]
  },
  {
   "cell_type": "markdown",
   "metadata": {
    "slideshow": {
     "slide_type": "fragment"
    }
   },
   "source": [
    "## 数据类型"
   ]
  },
  {
   "cell_type": "markdown",
   "metadata": {
    "slideshow": {
     "slide_type": "fragment"
    }
   },
   "source": [
    "<center><img src=\"./img/models/dataType.png\" width=100%></center>"
   ]
  },
  {
   "cell_type": "markdown",
   "metadata": {
    "slideshow": {
     "slide_type": "slide"
    }
   },
   "source": [
    "## 数据的获取"
   ]
  },
  {
   "cell_type": "markdown",
   "metadata": {
    "slideshow": {
     "slide_type": "fragment"
    }
   },
   "source": [
    "### 从第三方终端获取数据"
   ]
  },
  {
   "cell_type": "markdown",
   "metadata": {
    "slideshow": {
     "slide_type": "fragment"
    }
   },
   "source": [
    "- 典型平台\n",
    "    - Wind数据库\n",
    "    - [TuShare https://tushare.pro/](https://tushare.pro/)\n",
    "        - 注册获得token\n",
    "    - [JointQuant https://www.joinquant.com/](https://www.joinquant.com/)\n",
    "        - 注册获得一年的免费使用权限\n",
    "    - [BaoStock http://baostock.com/baostock/index.php/首页](http://baostock.com/baostock/index.php/首页)"
   ]
  },
  {
   "cell_type": "markdown",
   "metadata": {
    "slideshow": {
     "slide_type": "fragment"
    }
   },
   "source": [
    "- 优缺点：\n",
    "    - 优点：数据经过加工处理\n",
    "    - 缺点：速度慢"
   ]
  },
  {
   "cell_type": "markdown",
   "metadata": {
    "slideshow": {
     "slide_type": "slide"
    }
   },
   "source": [
    "### 从交易所获取数据"
   ]
  },
  {
   "cell_type": "markdown",
   "metadata": {
    "slideshow": {
     "slide_type": "fragment"
    }
   },
   "source": [
    "- 典型接口\n",
    "    - 交易接口CTP（Comprehensive Transaction Platform）[http://www.sfit.com.cn/](http://www.sfit.com.cn/)\n",
    "    - 基于CTP的`Python`量化框架：[vn.py https://www.vnpy.com/](https://www.vnpy.com/)"
   ]
  },
  {
   "cell_type": "markdown",
   "metadata": {
    "slideshow": {
     "slide_type": "fragment"
    }
   },
   "source": [
    "- 优缺点：\n",
    "    - 优点：速度快、原始数据\n",
    "    - 缺点：需要自己学习接口使用，清理数据"
   ]
  },
  {
   "cell_type": "markdown",
   "metadata": {
    "slideshow": {
     "slide_type": "slide"
    }
   },
   "source": [
    "# Alpha模型"
   ]
  },
  {
   "cell_type": "markdown",
   "metadata": {
    "slideshow": {
     "slide_type": "fragment"
    }
   },
   "source": [
    "- Alpha意味着获取**超额收益**"
   ]
  },
  {
   "cell_type": "markdown",
   "metadata": {
    "slideshow": {
     "slide_type": "fragment"
    }
   },
   "source": [
    "<center><img src=\"./img/models/alphaModels.png\" width=100%></center>"
   ]
  },
  {
   "cell_type": "markdown",
   "metadata": {
    "slideshow": {
     "slide_type": "slide"
    }
   },
   "source": [
    "## 趋势追踪模型"
   ]
  },
  {
   "cell_type": "markdown",
   "metadata": {
    "slideshow": {
     "slide_type": "fragment"
    }
   },
   "source": [
    "- 在趋势初期入场，在趋势末期离场"
   ]
  },
  {
   "cell_type": "markdown",
   "metadata": {
    "slideshow": {
     "slide_type": "fragment"
    }
   },
   "source": [
    "- 技术指标是识别趋势的重要方法"
   ]
  },
  {
   "cell_type": "markdown",
   "metadata": {
    "slideshow": {
     "slide_type": "fragment"
    }
   },
   "source": [
    "> 基于价格、成交量、持仓量等的历史数据而构建的启发式或数学计算指标\n"
   ]
  },
  {
   "cell_type": "markdown",
   "metadata": {
    "slideshow": {
     "slide_type": "skip"
    }
   },
   "source": [
    "- [https://www.visualcapitalist.com/12-types-technical-indicators-stocks/](https://www.visualcapitalist.com/12-types-technical-indicators-stocks/)\n",
    "- [https://www.theforexchronicles.com/the-4-different-types-of-technical-indicators-that-you-can-use/](https://www.theforexchronicles.com/the-4-different-types-of-technical-indicators-that-you-can-use/)"
   ]
  },
  {
   "cell_type": "markdown",
   "metadata": {
    "slideshow": {
     "slide_type": "slide"
    }
   },
   "source": [
    "## 均值回归模型"
   ]
  },
  {
   "cell_type": "markdown",
   "metadata": {
    "slideshow": {
     "slide_type": "fragment"
    }
   },
   "source": [
    "<div class=\"row\">\n",
    "    <div class=\"col-md-6\">\n",
    "        <img src=\"./img/models/trend.jpg\" width=90%>\n",
    "    </div>\n",
    "    <div class=\"col-md-6\">\n",
    "        <img src=\"./img/models/arbitrage.jpg\" width=90%>\n",
    "    </div>\n",
    "</div>"
   ]
  },
  {
   "cell_type": "markdown",
   "metadata": {
    "slideshow": {
     "slide_type": "slide"
    }
   },
   "source": [
    "- 理论基础\n",
    "    > 标的资产的价格总是围绕着其内在价值波动，一旦趋势结束，价格必然出现反方向运动，回到价值附近"
   ]
  },
  {
   "cell_type": "markdown",
   "metadata": {
    "slideshow": {
     "slide_type": "fragment"
    }
   },
   "source": [
    "- 常用的实现方式\n",
    "    > 配对交易（套利）"
   ]
  },
  {
   "cell_type": "markdown",
   "metadata": {
    "slideshow": {
     "slide_type": "fragment"
    }
   },
   "source": [
    "- 原因\n",
    "    - 单一资产的内在价值较难确定\n",
    "    - 对于两个高度相关资产，一种资产的价格就可以近似成为另一种资产的内在价值"
   ]
  },
  {
   "cell_type": "markdown",
   "metadata": {
    "slideshow": {
     "slide_type": "slide"
    }
   },
   "source": [
    "### 协整分析"
   ]
  },
  {
   "cell_type": "markdown",
   "metadata": {
    "slideshow": {
     "slide_type": "skip"
    }
   },
   "source": [
    "平稳（时间）序列是包括均值、方差和自相关等在内的统计特性不随时间发生变化的时间序列。\n",
    "非平稳序列数据可能包含趋势（trend）、季节性（seasonality)，或者随机游走（random walk）。\n",
    "随机游走是一种随机过程，每个时刻的数据只跟前一个数据和各自的随机误差有关。\n",
    "几乎所有的原始价格时间序列数据都是非平稳的。"
   ]
  },
  {
   "cell_type": "markdown",
   "metadata": {
    "slideshow": {
     "slide_type": "fragment"
    }
   },
   "source": [
    "<dl class=\"row\">\n",
    "    <dt class=\"col-md-4\">协整(cointegration)</dt>\n",
    "    <dd class=\"col-md-8\">两个时间序列各自都是<strong>非平稳过程</strong>，但是它们的线性组合是<strong>平稳过程</strong></dd>\n",
    "</dl>"
   ]
  },
  {
   "cell_type": "markdown",
   "metadata": {
    "slideshow": {
     "slide_type": "fragment"
    }
   },
   "source": [
    "<dl class=\"row\">\n",
    "    <dt class=\"col-md-4\">平稳过程</dt>\n",
    "    <dd class=\"col-md-8\">统计特性在时间平移下不变的随机过程</dd>\n",
    "</dl>"
   ]
  },
  {
   "cell_type": "markdown",
   "metadata": {
    "slideshow": {
     "slide_type": "slide"
    }
   },
   "source": [
    "- 假设有一个时间序列$\\{X_t\\}$，则该序列是平稳过程需要满足下面的条件：\n",
    "\n",
    "\n",
    "1. $E[X_t] = \\mu$\n",
    "2. $Var[X_t] = \\sigma^2$\n",
    "3. $Cov(X_t, X_{t+k}) = r(k)$"
   ]
  },
  {
   "cell_type": "markdown",
   "metadata": {
    "slideshow": {
     "slide_type": "fragment"
    }
   },
   "source": [
    "<center><img src=\"./img/strategy/stationary.png\" width=60%></center>"
   ]
  },
  {
   "cell_type": "markdown",
   "metadata": {
    "slideshow": {
     "slide_type": "slide"
    }
   },
   "source": [
    "##### 检验协整关系"
   ]
  },
  {
   "cell_type": "markdown",
   "metadata": {
    "slideshow": {
     "slide_type": "fragment"
    }
   },
   "source": [
    "- 设有两个非平稳的时间序列$\\{X_t\\}$ 和 $\\{Y_t\\}$均是1阶单整,\n",
    "\n",
    "\n",
    "1. 利用最小二乘（OLS）法估计$X_t$ 和 $Y_t$ 的长期均衡关系式$Y_t=\\alpha_0+\\alpha_1X_t+e_t$，并计算误差：\n",
    "\\begin{align}\n",
    "  \\hat{Y}_t &= \\hat{\\alpha}_0 + \\hat{\\alpha}_1 X_t \\\\\n",
    "  \\hat{e}_t &= Y_t - \\hat{Y}_t \\\\\n",
    "\\end{align}"
   ]
  },
  {
   "cell_type": "markdown",
   "metadata": {
    "slideshow": {
     "slide_type": "fragment"
    }
   },
   "source": [
    "2. 检验残差序列$\\{\\hat{e}_t\\}$的平稳性。可用ADF(Augmented Dickey-Fuller)检验，如果通过检验，说明$X_t$ 和 $Y_t$具有协整关系。"
   ]
  },
  {
   "cell_type": "markdown",
   "metadata": {
    "slideshow": {
     "slide_type": "slide"
    }
   },
   "source": [
    "### `Python`实现"
   ]
  },
  {
   "cell_type": "markdown",
   "metadata": {
    "slideshow": {
     "slide_type": "fragment"
    }
   },
   "source": [
    "```python\n",
    "pip install statsmodels\n",
    "import statsmodels.api as sm\n",
    "```"
   ]
  },
  {
   "cell_type": "markdown",
   "metadata": {
    "slideshow": {
     "slide_type": "fragment"
    }
   },
   "source": [
    "#### 单个时间序列平稳性检验"
   ]
  },
  {
   "cell_type": "markdown",
   "metadata": {
    "slideshow": {
     "slide_type": "fragment"
    }
   },
   "source": [
    "```python\n",
    "    adfres = sm.tsa.stattools.adfuller(x)\n",
    "```\n",
    "- `x`：需要检验的时间序列\n",
    "- `adfres[0]`：检验的统计量值\n",
    "- `adfres[1]`：pvalue，显著性水平\n",
    "- `adfres[4]`：临界值，字典类型，键分别是1%、5%、10%"
   ]
  },
  {
   "cell_type": "markdown",
   "metadata": {
    "slideshow": {
     "slide_type": "fragment"
    }
   },
   "source": [
    "- ADF原假设：时间序列是**非平稳的**"
   ]
  },
  {
   "cell_type": "code",
   "execution_count": 3,
   "metadata": {
    "slideshow": {
     "slide_type": "slide"
    }
   },
   "outputs": [
    {
     "data": {
      "text/html": [
       "<div>\n",
       "<style scoped>\n",
       "    .dataframe tbody tr th:only-of-type {\n",
       "        vertical-align: middle;\n",
       "    }\n",
       "\n",
       "    .dataframe tbody tr th {\n",
       "        vertical-align: top;\n",
       "    }\n",
       "\n",
       "    .dataframe thead th {\n",
       "        text-align: right;\n",
       "    }\n",
       "</style>\n",
       "<table border=\"1\" class=\"dataframe\">\n",
       "  <thead>\n",
       "    <tr style=\"text-align: right;\">\n",
       "      <th></th>\n",
       "      <th>High</th>\n",
       "      <th>Low</th>\n",
       "      <th>Open</th>\n",
       "      <th>Close</th>\n",
       "      <th>Volume</th>\n",
       "      <th>Adj Close</th>\n",
       "    </tr>\n",
       "    <tr>\n",
       "      <th>Date</th>\n",
       "      <th></th>\n",
       "      <th></th>\n",
       "      <th></th>\n",
       "      <th></th>\n",
       "      <th></th>\n",
       "      <th></th>\n",
       "    </tr>\n",
       "  </thead>\n",
       "  <tbody>\n",
       "    <tr>\n",
       "      <th>2018-01-02</th>\n",
       "      <td>43.075001</td>\n",
       "      <td>42.314999</td>\n",
       "      <td>42.540001</td>\n",
       "      <td>43.064999</td>\n",
       "      <td>102223600.0</td>\n",
       "      <td>41.105534</td>\n",
       "    </tr>\n",
       "    <tr>\n",
       "      <th>2018-01-03</th>\n",
       "      <td>43.637501</td>\n",
       "      <td>42.990002</td>\n",
       "      <td>43.132500</td>\n",
       "      <td>43.057499</td>\n",
       "      <td>118071600.0</td>\n",
       "      <td>41.098373</td>\n",
       "    </tr>\n",
       "    <tr>\n",
       "      <th>2018-01-04</th>\n",
       "      <td>43.367500</td>\n",
       "      <td>43.020000</td>\n",
       "      <td>43.134998</td>\n",
       "      <td>43.257500</td>\n",
       "      <td>89738400.0</td>\n",
       "      <td>41.289268</td>\n",
       "    </tr>\n",
       "    <tr>\n",
       "      <th>2018-01-05</th>\n",
       "      <td>43.842499</td>\n",
       "      <td>43.262501</td>\n",
       "      <td>43.360001</td>\n",
       "      <td>43.750000</td>\n",
       "      <td>94640000.0</td>\n",
       "      <td>41.759361</td>\n",
       "    </tr>\n",
       "    <tr>\n",
       "      <th>2018-01-08</th>\n",
       "      <td>43.902500</td>\n",
       "      <td>43.482498</td>\n",
       "      <td>43.587502</td>\n",
       "      <td>43.587502</td>\n",
       "      <td>82271200.0</td>\n",
       "      <td>41.604263</td>\n",
       "    </tr>\n",
       "  </tbody>\n",
       "</table>\n",
       "</div>"
      ],
      "text/plain": [
       "                 High        Low       Open      Close       Volume  Adj Close\n",
       "Date                                                                          \n",
       "2018-01-02  43.075001  42.314999  42.540001  43.064999  102223600.0  41.105534\n",
       "2018-01-03  43.637501  42.990002  43.132500  43.057499  118071600.0  41.098373\n",
       "2018-01-04  43.367500  43.020000  43.134998  43.257500   89738400.0  41.289268\n",
       "2018-01-05  43.842499  43.262501  43.360001  43.750000   94640000.0  41.759361\n",
       "2018-01-08  43.902500  43.482498  43.587502  43.587502   82271200.0  41.604263"
      ]
     },
     "execution_count": 3,
     "metadata": {},
     "output_type": "execute_result"
    },
    {
     "data": {
      "text/html": [
       "<div>\n",
       "<style scoped>\n",
       "    .dataframe tbody tr th:only-of-type {\n",
       "        vertical-align: middle;\n",
       "    }\n",
       "\n",
       "    .dataframe tbody tr th {\n",
       "        vertical-align: top;\n",
       "    }\n",
       "\n",
       "    .dataframe thead th {\n",
       "        text-align: right;\n",
       "    }\n",
       "</style>\n",
       "<table border=\"1\" class=\"dataframe\">\n",
       "  <thead>\n",
       "    <tr style=\"text-align: right;\">\n",
       "      <th></th>\n",
       "      <th>High</th>\n",
       "      <th>Low</th>\n",
       "      <th>Open</th>\n",
       "      <th>Close</th>\n",
       "      <th>Volume</th>\n",
       "      <th>Adj Close</th>\n",
       "    </tr>\n",
       "    <tr>\n",
       "      <th>Date</th>\n",
       "      <th></th>\n",
       "      <th></th>\n",
       "      <th></th>\n",
       "      <th></th>\n",
       "      <th></th>\n",
       "      <th></th>\n",
       "    </tr>\n",
       "  </thead>\n",
       "  <tbody>\n",
       "    <tr>\n",
       "      <th>2018-01-02</th>\n",
       "      <td>1066.939941</td>\n",
       "      <td>1045.229980</td>\n",
       "      <td>1048.339966</td>\n",
       "      <td>1065.000000</td>\n",
       "      <td>1237600</td>\n",
       "      <td>1065.000000</td>\n",
       "    </tr>\n",
       "    <tr>\n",
       "      <th>2018-01-03</th>\n",
       "      <td>1086.290039</td>\n",
       "      <td>1063.209961</td>\n",
       "      <td>1064.310059</td>\n",
       "      <td>1082.479980</td>\n",
       "      <td>1430200</td>\n",
       "      <td>1082.479980</td>\n",
       "    </tr>\n",
       "    <tr>\n",
       "      <th>2018-01-04</th>\n",
       "      <td>1093.569946</td>\n",
       "      <td>1084.001953</td>\n",
       "      <td>1088.000000</td>\n",
       "      <td>1086.400024</td>\n",
       "      <td>1004600</td>\n",
       "      <td>1086.400024</td>\n",
       "    </tr>\n",
       "    <tr>\n",
       "      <th>2018-01-05</th>\n",
       "      <td>1104.250000</td>\n",
       "      <td>1092.000000</td>\n",
       "      <td>1094.000000</td>\n",
       "      <td>1102.229980</td>\n",
       "      <td>1279100</td>\n",
       "      <td>1102.229980</td>\n",
       "    </tr>\n",
       "    <tr>\n",
       "      <th>2018-01-08</th>\n",
       "      <td>1111.270020</td>\n",
       "      <td>1101.619995</td>\n",
       "      <td>1102.229980</td>\n",
       "      <td>1106.939941</td>\n",
       "      <td>1047600</td>\n",
       "      <td>1106.939941</td>\n",
       "    </tr>\n",
       "  </tbody>\n",
       "</table>\n",
       "</div>"
      ],
      "text/plain": [
       "                   High          Low         Open        Close   Volume  \\\n",
       "Date                                                                      \n",
       "2018-01-02  1066.939941  1045.229980  1048.339966  1065.000000  1237600   \n",
       "2018-01-03  1086.290039  1063.209961  1064.310059  1082.479980  1430200   \n",
       "2018-01-04  1093.569946  1084.001953  1088.000000  1086.400024  1004600   \n",
       "2018-01-05  1104.250000  1092.000000  1094.000000  1102.229980  1279100   \n",
       "2018-01-08  1111.270020  1101.619995  1102.229980  1106.939941  1047600   \n",
       "\n",
       "              Adj Close  \n",
       "Date                     \n",
       "2018-01-02  1065.000000  \n",
       "2018-01-03  1082.479980  \n",
       "2018-01-04  1086.400024  \n",
       "2018-01-05  1102.229980  \n",
       "2018-01-08  1106.939941  "
      ]
     },
     "execution_count": 3,
     "metadata": {},
     "output_type": "execute_result"
    }
   ],
   "source": [
    "retAapl = web.DataReader('AAPL',start='2018-1-1',end='2020-11-20',data_source='yahoo')\n",
    "retAapl.head()\n",
    "retGoog = web.DataReader('GOOG',start='2018-1-1',end='2020-11-20',data_source='yahoo')\n",
    "retGoog.head()"
   ]
  },
  {
   "cell_type": "code",
   "execution_count": 11,
   "metadata": {
    "slideshow": {
     "slide_type": "slide"
    }
   },
   "outputs": [
    {
     "data": {
      "image/png": "[encoded data removed]",
      "text/plain": [
       "<Figure size 1150x575 with 2 Axes>"
      ]
     },
     "metadata": {},
     "output_type": "display_data"
    }
   ],
   "source": [
    "subfig = mpf.make_addplot(retGoog['Close'],color='red')\n",
    "mpf.plot(retAapl,type='line',style='yahoo',addplot=subfig,figratio=(12,6),figscale=1)"
   ]
  },
  {
   "cell_type": "code",
   "execution_count": 70,
   "metadata": {
    "slideshow": {
     "slide_type": "slide"
    }
   },
   "outputs": [
    {
     "name": "stdout",
     "output_type": "stream",
     "text": [
      "统计量0.403\n",
      " p值0.982\n",
      "1%临界值-3.439\n",
      "5%临界值-2.866\n",
      "10%临界值-2.569\n"
     ]
    }
   ],
   "source": [
    "adfresApple = sm.tsa.stattools.adfuller(retAapl['Close'])\n",
    "print(f\"统计量{adfresApple[0]:.3f}\\n p值{adfresApple[1]:.3f}\")\n",
    "for key, val in adfresApple[4].items():\n",
    "    print(f\"{key}临界值{val:.3f}\")"
   ]
  },
  {
   "cell_type": "markdown",
   "metadata": {
    "slideshow": {
     "slide_type": "fragment"
    }
   },
   "source": [
    "- 接受原假设，Apple股价序列是**非平稳**序列"
   ]
  },
  {
   "cell_type": "markdown",
   "metadata": {
    "slideshow": {
     "slide_type": "fragment"
    }
   },
   "source": [
    "- 继续检验一阶差分的平稳性"
   ]
  },
  {
   "cell_type": "code",
   "execution_count": 20,
   "metadata": {
    "slideshow": {
     "slide_type": "fragment"
    }
   },
   "outputs": [],
   "source": [
    "aapleDiff = retAapl['Close'].diff()"
   ]
  },
  {
   "cell_type": "code",
   "execution_count": 23,
   "metadata": {
    "scrolled": true,
    "slideshow": {
     "slide_type": "fragment"
    }
   },
   "outputs": [
    {
     "data": {
      "image/png": "[encoded data removed]",
      "text/plain": [
       "<Figure size 1150x575 with 4 Axes>"
      ]
     },
     "metadata": {},
     "output_type": "display_data"
    }
   ],
   "source": [
    "mpf.plot(retAapl,type='line',style='yahoo',addplot=mpf.make_addplot(aapleDiff,color='red',panel=1,ylabel='Diff'),figratio=(12,6),figscale=1)"
   ]
  },
  {
   "cell_type": "code",
   "execution_count": 69,
   "metadata": {
    "slideshow": {
     "slide_type": "slide"
    }
   },
   "outputs": [
    {
     "name": "stdout",
     "output_type": "stream",
     "text": [
      "统计量-8.117\n",
      " p值0.000\n",
      "1%临界值-3.439\n",
      "5%临界值-2.866\n",
      "10%临界值-2.569\n"
     ]
    }
   ],
   "source": [
    "adfresAppleDiff = sm.tsa.stattools.adfuller(aapleDiff[1:])\n",
    "print(f\"统计量{adfresAppleDiff[0]:.3f}\\n p值{adfresAppleDiff[1]:.3f}\")\n",
    "for key, val in adfresAppleDiff[4].items():\n",
    "    print(f\"{key}临界值{val:.3f}\")"
   ]
  },
  {
   "cell_type": "markdown",
   "metadata": {
    "slideshow": {
     "slide_type": "fragment"
    }
   },
   "source": [
    "- 在1%水平上拒绝原假设，即Apple股价序列的1阶差分是**平稳**序列"
   ]
  },
  {
   "cell_type": "markdown",
   "metadata": {
    "slideshow": {
     "slide_type": "fragment"
    }
   },
   "source": [
    "- Apple股价序列是**1阶单整**"
   ]
  },
  {
   "cell_type": "code",
   "execution_count": 68,
   "metadata": {
    "slideshow": {
     "slide_type": "slide"
    }
   },
   "outputs": [
    {
     "name": "stdout",
     "output_type": "stream",
     "text": [
      "统计量-0.729\n",
      " p值0.839\n",
      "1%临界值-3.439\n",
      "5%临界值-2.866\n",
      "10%临界值-2.569\n"
     ]
    }
   ],
   "source": [
    "adfresGoogle = sm.tsa.stattools.adfuller(retGoog['Close'])\n",
    "print(f\"统计量{adfresGoogle[0]:.3f}\\n p值{adfresGoogle[1]:.3f}\")\n",
    "for key, val in adfresGoogle[4].items():\n",
    "    print(f\"{key}临界值{val:.3f}\")"
   ]
  },
  {
   "cell_type": "markdown",
   "metadata": {
    "slideshow": {
     "slide_type": "fragment"
    }
   },
   "source": [
    "- 接受原假设，Google股价序列是**非平稳**序列"
   ]
  },
  {
   "cell_type": "code",
   "execution_count": 27,
   "metadata": {
    "scrolled": true,
    "slideshow": {
     "slide_type": "fragment"
    }
   },
   "outputs": [
    {
     "data": {
      "image/png": "[encoded data removed]",
      "text/plain": [
       "<Figure size 1150x575 with 4 Axes>"
      ]
     },
     "metadata": {},
     "output_type": "display_data"
    }
   ],
   "source": [
    "googleDiff = retGoog['Close'].diff()\n",
    "mpf.plot(retGoog,type='line',style='yahoo',addplot=mpf.make_addplot(googleDiff,color='red',panel=1,ylabel='Diff'),figratio=(12,6),figscale=1)"
   ]
  },
  {
   "cell_type": "code",
   "execution_count": 67,
   "metadata": {
    "slideshow": {
     "slide_type": "slide"
    }
   },
   "outputs": [
    {
     "name": "stdout",
     "output_type": "stream",
     "text": [
      "统计量-8.229\n",
      " p值0.000\n",
      "1%临界值-3.439\n",
      "5%临界值-2.866\n",
      "10%临界值-2.569\n"
     ]
    }
   ],
   "source": [
    "adfresGoogleDiff = sm.tsa.stattools.adfuller(googleDiff[1:])\n",
    "print(f\"统计量{adfresGoogleDiff[0]:.3f}\\n p值{adfresGoogleDiff[1]:.3f}\")\n",
    "for key, val in adfresGoogleDiff[4].items():\n",
    "    print(f\"{key}临界值{val:.3f}\")"
   ]
  },
  {
   "cell_type": "markdown",
   "metadata": {
    "slideshow": {
     "slide_type": "fragment"
    }
   },
   "source": [
    "- 在1%水平上拒绝原假设，即Google股价序列的1阶差分是**平稳**序列"
   ]
  },
  {
   "cell_type": "markdown",
   "metadata": {
    "slideshow": {
     "slide_type": "fragment"
    }
   },
   "source": [
    "- Google股价序列是**1阶单整**"
   ]
  },
  {
   "cell_type": "markdown",
   "metadata": {
    "slideshow": {
     "slide_type": "slide"
    }
   },
   "source": [
    "#### 协整检验"
   ]
  },
  {
   "cell_type": "markdown",
   "metadata": {
    "slideshow": {
     "slide_type": "fragment"
    }
   },
   "source": [
    "```python\n",
    "coint_t, pvalue, crit_value = sm.tsa.stattools.coint(y0, y1)\n",
    "```\n",
    "- `y0`与`y1`：需要检验的两个时间序列\n",
    "- `coint_t`：对回归残差单位根检验的统计量\n",
    "- `pvalue`：单位根检验的显著性水平\n",
    "- `crit_value`：单位根检验分别在1%、5%、10%上的临界值，列表类型"
   ]
  },
  {
   "cell_type": "markdown",
   "metadata": {
    "slideshow": {
     "slide_type": "fragment"
    }
   },
   "source": [
    "- 原假设：**不存在**协整关系"
   ]
  },
  {
   "cell_type": "code",
   "execution_count": 40,
   "metadata": {
    "slideshow": {
     "slide_type": "slide"
    }
   },
   "outputs": [
    {
     "name": "stdout",
     "output_type": "stream",
     "text": [
      "统计量 -3.714\n",
      " p值 0.018\n",
      " 1%临界值 -3.912\n",
      " 5%临界值 -3.345\n",
      " 10%临界值 -3.050\n"
     ]
    }
   ],
   "source": [
    "coint_t,pvalue,crit_val = sm.tsa.stattools.coint(retAapl['Close'], retGoog['Close'])\n",
    "print(f\"统计量 {coint_t:.3f}\\n p值 {pvalue:.3f}\\n 1%临界值 {crit_val[0]:.3f}\\n 5%临界值 {crit_val[1]:.3f}\\n 10%临界值 {crit_val[2]:.3f}\")"
   ]
  },
  {
   "cell_type": "markdown",
   "metadata": {
    "slideshow": {
     "slide_type": "fragment"
    }
   },
   "source": [
    "- 在5%的显著性水平上拒绝原假设，即两个价格序列之间**具有协整关系**"
   ]
  },
  {
   "cell_type": "markdown",
   "metadata": {
    "slideshow": {
     "slide_type": "slide"
    }
   },
   "source": [
    "#### 计算协整方程"
   ]
  },
  {
   "cell_type": "markdown",
   "metadata": {
    "slideshow": {
     "slide_type": "fragment"
    }
   },
   "source": [
    "- 具有协整关系的两个时间序列，可以通过最小二乘线性回归构建协整方程"
   ]
  },
  {
   "cell_type": "markdown",
   "metadata": {
    "slideshow": {
     "slide_type": "fragment"
    }
   },
   "source": [
    "```python\n",
    "    model = sm.OLS(y,X)\n",
    "    result = model.fit()   #模型拟合\n",
    "```\n",
    "- `y`：被解释变量\n",
    "- `X`：解释变量\n",
    "- `model`：构建的最小二乘回归模型\n",
    "- `result`：拟合结果"
   ]
  },
  {
   "cell_type": "markdown",
   "metadata": {
    "slideshow": {
     "slide_type": "fragment"
    }
   },
   "source": [
    "```python\n",
    "    X = sm.add_constant(x)\n",
    "```\n",
    "- 增加截距项"
   ]
  },
  {
   "cell_type": "code",
   "execution_count": 41,
   "metadata": {
    "slideshow": {
     "slide_type": "slide"
    }
   },
   "outputs": [],
   "source": [
    "x = retAapl['Close']\n",
    "y = retGoog['Close']"
   ]
  },
  {
   "cell_type": "code",
   "execution_count": 42,
   "metadata": {
    "slideshow": {
     "slide_type": "fragment"
    }
   },
   "outputs": [],
   "source": [
    "X = sm.add_constant(x)"
   ]
  },
  {
   "cell_type": "code",
   "execution_count": 43,
   "metadata": {
    "slideshow": {
     "slide_type": "fragment"
    }
   },
   "outputs": [],
   "source": [
    "model = sm.OLS(y,X)\n",
    "result = model.fit()"
   ]
  },
  {
   "cell_type": "code",
   "execution_count": 45,
   "metadata": {
    "slideshow": {
     "slide_type": "fragment"
    }
   },
   "outputs": [
    {
     "data": {
      "text/html": [
       "<table class=\"simpletable\">\n",
       "<caption>OLS Regression Results</caption>\n",
       "<tr>\n",
       "  <th>Dep. Variable:</th>          <td>Close</td>      <th>  R-squared:         </th> <td>   0.869</td> \n",
       "</tr>\n",
       "<tr>\n",
       "  <th>Model:</th>                   <td>OLS</td>       <th>  Adj. R-squared:    </th> <td>   0.869</td> \n",
       "</tr>\n",
       "<tr>\n",
       "  <th>Method:</th>             <td>Least Squares</td>  <th>  F-statistic:       </th> <td>   4811.</td> \n",
       "</tr>\n",
       "<tr>\n",
       "  <th>Date:</th>             <td>Sat, 21 Nov 2020</td> <th>  Prob (F-statistic):</th> <td>9.39e-323</td>\n",
       "</tr>\n",
       "<tr>\n",
       "  <th>Time:</th>                 <td>11:40:09</td>     <th>  Log-Likelihood:    </th> <td> -4060.9</td> \n",
       "</tr>\n",
       "<tr>\n",
       "  <th>No. Observations:</th>      <td>   729</td>      <th>  AIC:               </th> <td>   8126.</td> \n",
       "</tr>\n",
       "<tr>\n",
       "  <th>Df Residuals:</th>          <td>   727</td>      <th>  BIC:               </th> <td>   8135.</td> \n",
       "</tr>\n",
       "<tr>\n",
       "  <th>Df Model:</th>              <td>     1</td>      <th>                     </th>     <td> </td>    \n",
       "</tr>\n",
       "<tr>\n",
       "  <th>Covariance Type:</th>      <td>nonrobust</td>    <th>                     </th>     <td> </td>    \n",
       "</tr>\n",
       "</table>\n",
       "<table class=\"simpletable\">\n",
       "<tr>\n",
       "    <td></td>       <th>coef</th>     <th>std err</th>      <th>t</th>      <th>P>|t|</th>  <th>[0.025</th>    <th>0.975]</th>  \n",
       "</tr>\n",
       "<tr>\n",
       "  <th>const</th> <td>  803.1261</td> <td>    6.760</td> <td>  118.799</td> <td> 0.000</td> <td>  789.854</td> <td>  816.398</td>\n",
       "</tr>\n",
       "<tr>\n",
       "  <th>Close</th> <td>    7.0069</td> <td>    0.101</td> <td>   69.360</td> <td> 0.000</td> <td>    6.809</td> <td>    7.205</td>\n",
       "</tr>\n",
       "</table>\n",
       "<table class=\"simpletable\">\n",
       "<tr>\n",
       "  <th>Omnibus:</th>       <td> 9.591</td> <th>  Durbin-Watson:     </th> <td>   0.091</td>\n",
       "</tr>\n",
       "<tr>\n",
       "  <th>Prob(Omnibus):</th> <td> 0.008</td> <th>  Jarque-Bera (JB):  </th> <td>   7.095</td>\n",
       "</tr>\n",
       "<tr>\n",
       "  <th>Skew:</th>          <td>-0.128</td> <th>  Prob(JB):          </th> <td>  0.0288</td>\n",
       "</tr>\n",
       "<tr>\n",
       "  <th>Kurtosis:</th>      <td> 2.590</td> <th>  Cond. No.          </th> <td>    192.</td>\n",
       "</tr>\n",
       "</table><br/><br/>Warnings:<br/>[1] Standard Errors assume that the covariance matrix of the errors is correctly specified."
      ],
      "text/plain": [
       "<class 'statsmodels.iolib.summary.Summary'>\n",
       "\"\"\"\n",
       "                            OLS Regression Results                            \n",
       "==============================================================================\n",
       "Dep. Variable:                  Close   R-squared:                       0.869\n",
       "Model:                            OLS   Adj. R-squared:                  0.869\n",
       "Method:                 Least Squares   F-statistic:                     4811.\n",
       "Date:                Sat, 21 Nov 2020   Prob (F-statistic):          9.39e-323\n",
       "Time:                        11:40:09   Log-Likelihood:                -4060.9\n",
       "No. Observations:                 729   AIC:                             8126.\n",
       "Df Residuals:                     727   BIC:                             8135.\n",
       "Df Model:                           1                                         \n",
       "Covariance Type:            nonrobust                                         \n",
       "==============================================================================\n",
       "                 coef    std err          t      P>|t|      [0.025      0.975]\n",
       "------------------------------------------------------------------------------\n",
       "const        803.1261      6.760    118.799      0.000     789.854     816.398\n",
       "Close          7.0069      0.101     69.360      0.000       6.809       7.205\n",
       "==============================================================================\n",
       "Omnibus:                        9.591   Durbin-Watson:                   0.091\n",
       "Prob(Omnibus):                  0.008   Jarque-Bera (JB):                7.095\n",
       "Skew:                          -0.128   Prob(JB):                       0.0288\n",
       "Kurtosis:                       2.590   Cond. No.                         192.\n",
       "==============================================================================\n",
       "\n",
       "Warnings:\n",
       "[1] Standard Errors assume that the covariance matrix of the errors is correctly specified.\n",
       "\"\"\""
      ]
     },
     "execution_count": 45,
     "metadata": {},
     "output_type": "execute_result"
    }
   ],
   "source": [
    "result.summary()    # 显示回归结果"
   ]
  },
  {
   "cell_type": "code",
   "execution_count": 63,
   "metadata": {
    "slideshow": {
     "slide_type": "slide"
    }
   },
   "outputs": [
    {
     "data": {
      "text/plain": [
       "const    803.126076\n",
       "Close      7.006930\n",
       "dtype: float64"
      ]
     },
     "execution_count": 63,
     "metadata": {},
     "output_type": "execute_result"
    }
   ],
   "source": [
    "result.params # 显示回归系数"
   ]
  },
  {
   "cell_type": "markdown",
   "metadata": {
    "slideshow": {
     "slide_type": "slide"
    }
   },
   "source": [
    "#### 计算价格序列差"
   ]
  },
  {
   "cell_type": "code",
   "execution_count": 76,
   "metadata": {
    "slideshow": {
     "slide_type": "fragment"
    }
   },
   "outputs": [
    {
     "data": {
      "text/plain": [
       "pandas.core.series.Series"
      ]
     },
     "execution_count": 76,
     "metadata": {},
     "output_type": "execute_result"
    }
   ],
   "source": [
    "residual = y-result.params[1]*x\n",
    "type(residual)"
   ]
  },
  {
   "cell_type": "code",
   "execution_count": 75,
   "metadata": {
    "scrolled": true,
    "slideshow": {
     "slide_type": "fragment"
    }
   },
   "outputs": [
    {
     "data": {
      "text/plain": [
       "<matplotlib.axes._subplots.AxesSubplot at 0x7f90d9fcab00>"
      ]
     },
     "execution_count": 75,
     "metadata": {},
     "output_type": "execute_result"
    },
    {
     "data": {
      "image/png": "[encoded data removed]",
      "text/plain": [
       "<Figure size 1200x600 with 1 Axes>"
      ]
     },
     "metadata": {},
     "output_type": "display_data"
    }
   ],
   "source": [
    "residual.plot(kind='line',figsize=(12,6))"
   ]
  },
  {
   "cell_type": "code",
   "execution_count": 83,
   "metadata": {
    "slideshow": {
     "slide_type": "fragment"
    }
   },
   "outputs": [
    {
     "name": "stdout",
     "output_type": "stream",
     "text": [
      "价格序列差的均值803.126\n"
     ]
    }
   ],
   "source": [
    "# 价格序列差的均值\n",
    "resMean = residual.mean()\n",
    "print(f\"价格序列差的均值{resMean:.3f}\")"
   ]
  },
  {
   "cell_type": "code",
   "execution_count": 84,
   "metadata": {
    "slideshow": {
     "slide_type": "fragment"
    }
   },
   "outputs": [
    {
     "name": "stdout",
     "output_type": "stream",
     "text": [
      "价格序列差的标准差63.578\n"
     ]
    }
   ],
   "source": [
    "# 价格序列差的标准差\n",
    "resStd = residual.std()\n",
    "print(f\"价格序列差的标准差{resStd:.3f}\")"
   ]
  },
  {
   "cell_type": "code",
   "execution_count": 97,
   "metadata": {
    "slideshow": {
     "slide_type": "fragment"
    }
   },
   "outputs": [
    {
     "name": "stdout",
     "output_type": "stream",
     "text": [
      "正1.2倍标准差为879.420，负1.2倍标准差为726.832\n"
     ]
    }
   ],
   "source": [
    "# 2倍标准差距离\n",
    "dist = 1.2\n",
    "resUpper = resMean+dist*resStd\n",
    "resLower = resMean-dist*resStd\n",
    "print(f\"正{dist}倍标准差为{resUpper:.3f}，负{dist}倍标准差为{resLower:.3f}\")"
   ]
  },
  {
   "cell_type": "code",
   "execution_count": 98,
   "metadata": {
    "slideshow": {
     "slide_type": "slide"
    }
   },
   "outputs": [
    {
     "data": {
      "text/plain": [
       "<matplotlib.lines.Line2D at 0x7f90d9a55dd8>"
      ]
     },
     "execution_count": 98,
     "metadata": {},
     "output_type": "execute_result"
    },
    {
     "data": {
      "text/plain": [
       "<matplotlib.lines.Line2D at 0x7f90e3e20668>"
      ]
     },
     "execution_count": 98,
     "metadata": {},
     "output_type": "execute_result"
    },
    {
     "data": {
      "image/png": "[encoded data removed]",
      "text/plain": [
       "<Figure size 1200x600 with 1 Axes>"
      ]
     },
     "metadata": {},
     "output_type": "display_data"
    }
   ],
   "source": [
    "ax = residual.plot(kind='line',figsize=(12,6))\n",
    "ax.axhline(resUpper,color='r',linestyle='--')\n",
    "ax.axhline(resLower,color='g',linestyle='--')"
   ]
  },
  {
   "cell_type": "markdown",
   "metadata": {
    "slideshow": {
     "slide_type": "fragment"
    }
   },
   "source": [
    "#### 均值回归交易策略"
   ]
  },
  {
   "cell_type": "markdown",
   "metadata": {
    "slideshow": {
     "slide_type": "fragment"
    }
   },
   "source": [
    "- 选定一个时间窗口长度$d$，比如15天\n",
    "- 每天计算$d$日的*Google股票收盘价-协整方程的系数$\\times$Apple股票收盘价*的价格差序列$dif$\n",
    "- 计算$dif$的均值与标准差，得到上下界\n",
    "- 如果价格差超过**上界**，**做空**Google股票，**做多**Apple股票\n",
    "- 如果价格差跌破**下界**，**做多**Google股票，**做空**Apple股票"
   ]
  },
  {
   "cell_type": "markdown",
   "metadata": {
    "slideshow": {
     "slide_type": "slide"
    }
   },
   "source": [
    "### 更多参考文献"
   ]
  },
  {
   "cell_type": "markdown",
   "metadata": {
    "slideshow": {
     "slide_type": "fragment"
    }
   },
   "source": [
    "- Avellaneda, Marco and Lee, Jeong-Hyun. [Statistical arbitrage in the US equities market](https://math.cims.nyu.edu/faculty/avellane/AvellanedaLeeStatArb071108.pdf)[J]. Quantitative Finance, 2010, 10(7):761-782.[]\n",
    "- Gatev E, Goetzmann W N, Rouwenhorst K G, et al. [Pairs Trading: Performance of a Relative Value Arbitrage Rule](http://stat.wharton.upenn.edu/~steele/Courses/434/434Context/PairsTrading/PairsTradingGGR.pdf)[J]. Review of Financial Studies, 2006, 19(3): 797-827."
   ]
  },
  {
   "cell_type": "markdown",
   "metadata": {
    "slideshow": {
     "slide_type": "slide"
    }
   },
   "source": [
    "## 多因子模型"
   ]
  },
  {
   "cell_type": "markdown",
   "metadata": {
    "slideshow": {
     "slide_type": "fragment"
    }
   },
   "source": [
    "<dl class=\"row\">\n",
    "    <dt class=\"col-md-4\">多因子模型</dt>\n",
    "    <dd class=\"col-md-8\">利用<strong>多个</strong>对资产收益率（例如，股票、期货）有显著影响的<b>因子（factor）</b>建立的量化模型，以解释和预测均衡资产收益率的变化</dd>\n",
    "</dl>"
   ]
  },
  {
   "cell_type": "markdown",
   "metadata": {
    "slideshow": {
     "slide_type": "slide"
    }
   },
   "source": [
    "### 收益率"
   ]
  },
  {
   "cell_type": "markdown",
   "metadata": {
    "slideshow": {
     "slide_type": "fragment"
    }
   },
   "source": [
    "- 假设$P_t$是$t$时刻资产的价格，**单周期收益率**为\n",
    "$$\n",
    "    R_t = \\frac{P_t-P_{t-1}}{P_{t-1}}\n",
    "$$"
   ]
  },
  {
   "cell_type": "markdown",
   "metadata": {
    "slideshow": {
     "slide_type": "fragment"
    }
   },
   "source": [
    "- 对数收益率\n",
    "$$\n",
    "    r_t = \\ln(\\frac{P_t}{P_{t-1}})\n",
    "$$"
   ]
  },
  {
   "cell_type": "markdown",
   "metadata": {
    "slideshow": {
     "slide_type": "fragment"
    }
   },
   "source": [
    "- 当$t$与$t-1$的间隔趋向0的时候，\n",
    "$$\n",
    "    r_t=\\ln(\\frac{P_t}{P_{t-1}})=\\ln(1+R_t)\\approx R_t\n",
    "$$"
   ]
  },
  {
   "cell_type": "markdown",
   "metadata": {
    "slideshow": {
     "slide_type": "slide"
    }
   },
   "source": [
    "### CAPM模型"
   ]
  },
  {
   "cell_type": "markdown",
   "metadata": {
    "slideshow": {
     "slide_type": "fragment"
    }
   },
   "source": [
    "\\begin{equation}\n",
    "  r_i=r_f+\\beta_i\\left(r_m-r_f\\right)+\\varepsilon_i\n",
    "\\end{equation}\n",
    "\n",
    "- $\\beta_i$：风险系数\n",
    "- $r_i$：第$i$个资产的收益率\n",
    "- $r_f$：无风险收益\n",
    "- $r_m$：市场组合的收益率\n",
    "- $\\varepsilon_i$：误差"
   ]
  },
  {
   "cell_type": "markdown",
   "metadata": {
    "slideshow": {
     "slide_type": "fragment"
    }
   },
   "source": [
    "- 假设\n",
    "    1. 所有投资者都希望获得最大收益\n",
    "    2. 所有投资者在投资期内的预期收益服从**相同**的概率分布\n",
    "    3. 所有投资者对风险都具有**相同**的偏好和估计\n",
    "    4. 所有投资者都使用风险化收益模型进行投资\n",
    "    5. 资者都具有**风险相同的情况下偏好高收益**，**收益相同的情况下偏好低风险**的投资风格"
   ]
  },
  {
   "cell_type": "markdown",
   "metadata": {
    "slideshow": {
     "slide_type": "fragment"
    }
   },
   "source": [
    "> 假设过于严格，尤其2-5与实际情况不符"
   ]
  },
  {
   "cell_type": "markdown",
   "metadata": {
    "slideshow": {
     "slide_type": "slide"
    }
   },
   "source": [
    "### APT模型"
   ]
  },
  {
   "cell_type": "markdown",
   "metadata": {
    "slideshow": {
     "slide_type": "fragment"
    }
   },
   "source": [
    "- APT(Arbitrage Pricing Theory)套利定价理论"
   ]
  },
  {
   "cell_type": "markdown",
   "metadata": {
    "slideshow": {
     "slide_type": "fragment"
    }
   },
   "source": [
    "\\begin{equation}\n",
    "  r_i=\\lambda_0+\\beta_{i1}\\times RP_1+\\beta_{i2}\\times RP_2+\\cdots+\\beta_{in}\\times RP_n+\\varepsilon_i\n",
    "\\end{equation}\n",
    "\n",
    "- $\\beta_{ij}$：资产$i$对第$j$个因素的敏感度\n",
    "- $RP_j$：影响资产收益率的第$j$个因子"
   ]
  },
  {
   "cell_type": "markdown",
   "metadata": {
    "slideshow": {
     "slide_type": "fragment"
    }
   },
   "source": [
    "- CAPM模型是APT模型的特例，即单因子模型\n",
    "    - $\\lambda_0=r_f$\n",
    "    - $RP_1=r_m-r_f$"
   ]
  },
  {
   "cell_type": "markdown",
   "metadata": {
    "slideshow": {
     "slide_type": "slide"
    }
   },
   "source": [
    "- 相对于CAPM模型，APT模型\n",
    "    - 不需要假设所有投资者对市场的预期一致\n",
    "    - 没有假设市场是完全有效的，存在价格扭曲"
   ]
  },
  {
   "cell_type": "markdown",
   "metadata": {
    "slideshow": {
     "slide_type": "fragment"
    }
   },
   "source": [
    "- APT模型的局限\n",
    "    - 不知道有多少个因子\n",
    "    - 不知道哪些因子能够对资产收益率产生显著影响"
   ]
  },
  {
   "cell_type": "markdown",
   "metadata": {
    "slideshow": {
     "slide_type": "fragment"
    }
   },
   "source": [
    "- 如何获得因子？\n",
    "    - 从经济学角度识别\n",
    "    - 利用统计方法识别，例如主成分分析、因子分析"
   ]
  },
  {
   "cell_type": "markdown",
   "metadata": {
    "slideshow": {
     "slide_type": "slide"
    }
   },
   "source": [
    "### Fama-French三因子模型"
   ]
  },
  {
   "cell_type": "markdown",
   "metadata": {
    "slideshow": {
     "slide_type": "fragment"
    }
   },
   "source": [
    "- 从经济学角度识别因子"
   ]
  },
  {
   "cell_type": "markdown",
   "metadata": {
    "slideshow": {
     "slide_type": "fragment"
    }
   },
   "source": [
    "\\begin{equation}\n",
    "  E(r_i)=r_f+\\beta_1\\left(r_m-r_f\\right)+\\beta_2SMB+\\beta_3HML\n",
    "\\end{equation}"
   ]
  },
  {
   "cell_type": "markdown",
   "metadata": {
    "slideshow": {
     "slide_type": "fragment"
    }
   },
   "source": [
    "#### $SMB$"
   ]
  },
  {
   "cell_type": "markdown",
   "metadata": {
    "slideshow": {
     "slide_type": "fragment"
    }
   },
   "source": [
    "- Small Minus Big，市值因子"
   ]
  },
  {
   "cell_type": "markdown",
   "metadata": {
    "slideshow": {
     "slide_type": "fragment"
    }
   },
   "source": [
    "- 小市值（market captilization）公司的股票收益率会超过大市值公司的股票收益率"
   ]
  },
  {
   "cell_type": "markdown",
   "metadata": {
    "slideshow": {
     "slide_type": "fragment"
    }
   },
   "source": [
    "$$\n",
    "    SMB = 小市值公司股票组合的收益率-大市值公司股票组合的收益率\n",
    "$$"
   ]
  },
  {
   "cell_type": "markdown",
   "metadata": {
    "slideshow": {
     "slide_type": "slide"
    }
   },
   "source": [
    "#### $HML$"
   ]
  },
  {
   "cell_type": "markdown",
   "metadata": {
    "slideshow": {
     "slide_type": "fragment"
    }
   },
   "source": [
    "- High Minus Low，账面市值比"
   ]
  },
  {
   "cell_type": "markdown",
   "metadata": {
    "slideshow": {
     "slide_type": "fragment"
    }
   },
   "source": [
    "- 高账面市值比（价值股）公司的股票收益率会超过低账面市值比（成长股）公司的股票收益率"
   ]
  },
  {
   "cell_type": "markdown",
   "metadata": {
    "slideshow": {
     "slide_type": "fragment"
    }
   },
   "source": [
    "$$\n",
    "    HML= 高账面市值比公司股票组合的收益率-低账面市值比公司股票组合的收益率\n",
    "$$"
   ]
  },
  {
   "cell_type": "markdown",
   "metadata": {
    "slideshow": {
     "slide_type": "slide"
    }
   },
   "source": [
    "##### 读入三因子"
   ]
  },
  {
   "cell_type": "code",
   "execution_count": 100,
   "metadata": {
    "slideshow": {
     "slide_type": "fragment"
    }
   },
   "outputs": [
    {
     "data": {
      "text/html": [
       "<div>\n",
       "<style scoped>\n",
       "    .dataframe tbody tr th:only-of-type {\n",
       "        vertical-align: middle;\n",
       "    }\n",
       "\n",
       "    .dataframe tbody tr th {\n",
       "        vertical-align: top;\n",
       "    }\n",
       "\n",
       "    .dataframe thead th {\n",
       "        text-align: right;\n",
       "    }\n",
       "</style>\n",
       "<table border=\"1\" class=\"dataframe\">\n",
       "  <thead>\n",
       "    <tr style=\"text-align: right;\">\n",
       "      <th></th>\n",
       "      <th>Exchflg</th>\n",
       "      <th>Mktflg</th>\n",
       "      <th>Date</th>\n",
       "      <th>Rmrf</th>\n",
       "      <th>Smb</th>\n",
       "      <th>Hml</th>\n",
       "    </tr>\n",
       "  </thead>\n",
       "  <tbody>\n",
       "    <tr>\n",
       "      <th>0</th>\n",
       "      <td>0</td>\n",
       "      <td>A</td>\n",
       "      <td>1992-07-01</td>\n",
       "      <td>-0.0337</td>\n",
       "      <td>-0.0123</td>\n",
       "      <td>0.0373</td>\n",
       "    </tr>\n",
       "    <tr>\n",
       "      <th>1</th>\n",
       "      <td>0</td>\n",
       "      <td>A</td>\n",
       "      <td>1992-07-02</td>\n",
       "      <td>-0.0015</td>\n",
       "      <td>0.0109</td>\n",
       "      <td>0.0054</td>\n",
       "    </tr>\n",
       "    <tr>\n",
       "      <th>2</th>\n",
       "      <td>0</td>\n",
       "      <td>A</td>\n",
       "      <td>1992-07-03</td>\n",
       "      <td>0.0180</td>\n",
       "      <td>0.0034</td>\n",
       "      <td>-0.0142</td>\n",
       "    </tr>\n",
       "    <tr>\n",
       "      <th>3</th>\n",
       "      <td>0</td>\n",
       "      <td>A</td>\n",
       "      <td>1992-07-06</td>\n",
       "      <td>0.0008</td>\n",
       "      <td>-0.1811</td>\n",
       "      <td>-0.1275</td>\n",
       "    </tr>\n",
       "    <tr>\n",
       "      <th>4</th>\n",
       "      <td>0</td>\n",
       "      <td>A</td>\n",
       "      <td>1992-07-07</td>\n",
       "      <td>0.0071</td>\n",
       "      <td>-0.0043</td>\n",
       "      <td>-0.0468</td>\n",
       "    </tr>\n",
       "  </tbody>\n",
       "</table>\n",
       "</div>"
      ],
      "text/plain": [
       "   Exchflg Mktflg        Date    Rmrf     Smb     Hml\n",
       "0        0      A  1992-07-01 -0.0337 -0.0123  0.0373\n",
       "1        0      A  1992-07-02 -0.0015  0.0109  0.0054\n",
       "2        0      A  1992-07-03  0.0180  0.0034 -0.0142\n",
       "3        0      A  1992-07-06  0.0008 -0.1811 -0.1275\n",
       "4        0      A  1992-07-07  0.0071 -0.0043 -0.0468"
      ]
     },
     "execution_count": 100,
     "metadata": {},
     "output_type": "execute_result"
    },
    {
     "data": {
      "text/html": [
       "<div>\n",
       "<style scoped>\n",
       "    .dataframe tbody tr th:only-of-type {\n",
       "        vertical-align: middle;\n",
       "    }\n",
       "\n",
       "    .dataframe tbody tr th {\n",
       "        vertical-align: top;\n",
       "    }\n",
       "\n",
       "    .dataframe thead th {\n",
       "        text-align: right;\n",
       "    }\n",
       "</style>\n",
       "<table border=\"1\" class=\"dataframe\">\n",
       "  <thead>\n",
       "    <tr style=\"text-align: right;\">\n",
       "      <th></th>\n",
       "      <th>Exchflg</th>\n",
       "      <th>Mktflg</th>\n",
       "      <th>Date</th>\n",
       "      <th>Rmrf</th>\n",
       "      <th>Smb</th>\n",
       "      <th>Hml</th>\n",
       "    </tr>\n",
       "  </thead>\n",
       "  <tbody>\n",
       "    <tr>\n",
       "      <th>6885</th>\n",
       "      <td>0</td>\n",
       "      <td>A</td>\n",
       "      <td>2020-09-24</td>\n",
       "      <td>-0.0203</td>\n",
       "      <td>-0.0075</td>\n",
       "      <td>0.0020</td>\n",
       "    </tr>\n",
       "    <tr>\n",
       "      <th>6886</th>\n",
       "      <td>0</td>\n",
       "      <td>A</td>\n",
       "      <td>2020-09-25</td>\n",
       "      <td>-0.0013</td>\n",
       "      <td>-0.0033</td>\n",
       "      <td>-0.0024</td>\n",
       "    </tr>\n",
       "    <tr>\n",
       "      <th>6887</th>\n",
       "      <td>0</td>\n",
       "      <td>A</td>\n",
       "      <td>2020-09-28</td>\n",
       "      <td>-0.0031</td>\n",
       "      <td>-0.0141</td>\n",
       "      <td>0.0028</td>\n",
       "    </tr>\n",
       "    <tr>\n",
       "      <th>6888</th>\n",
       "      <td>0</td>\n",
       "      <td>A</td>\n",
       "      <td>2020-09-29</td>\n",
       "      <td>0.0045</td>\n",
       "      <td>0.0013</td>\n",
       "      <td>-0.0063</td>\n",
       "    </tr>\n",
       "    <tr>\n",
       "      <th>6889</th>\n",
       "      <td>0</td>\n",
       "      <td>A</td>\n",
       "      <td>2020-09-30</td>\n",
       "      <td>-0.0009</td>\n",
       "      <td>-0.0017</td>\n",
       "      <td>-0.0045</td>\n",
       "    </tr>\n",
       "  </tbody>\n",
       "</table>\n",
       "</div>"
      ],
      "text/plain": [
       "      Exchflg Mktflg        Date    Rmrf     Smb     Hml\n",
       "6885        0      A  2020-09-24 -0.0203 -0.0075  0.0020\n",
       "6886        0      A  2020-09-25 -0.0013 -0.0033 -0.0024\n",
       "6887        0      A  2020-09-28 -0.0031 -0.0141  0.0028\n",
       "6888        0      A  2020-09-29  0.0045  0.0013 -0.0063\n",
       "6889        0      A  2020-09-30 -0.0009 -0.0017 -0.0045"
      ]
     },
     "execution_count": 100,
     "metadata": {},
     "output_type": "execute_result"
    }
   ],
   "source": [
    "threeFct = pd.read_csv('./data/models/RESSET_ThreeFactors_DAILY.csv')\n",
    "threeFct.head()\n",
    "threeFct.tail()"
   ]
  },
  {
   "cell_type": "markdown",
   "metadata": {
    "slideshow": {
     "slide_type": "fragment"
    }
   },
   "source": [
    "变量名|含义\n",
    "---|---\n",
    "Exchflg|交易所标识\n",
    "Mktflg|股票市场标识\n",
    "Date|日期\n",
    "Rmrf|市场溢酬因子\n",
    "Smb|市值因子\n",
    "Hml|账面市值比因子"
   ]
  },
  {
   "cell_type": "code",
   "execution_count": 105,
   "metadata": {
    "scrolled": true,
    "slideshow": {
     "slide_type": "slide"
    }
   },
   "outputs": [
    {
     "data": {
      "text/html": [
       "<div>\n",
       "<style scoped>\n",
       "    .dataframe tbody tr th:only-of-type {\n",
       "        vertical-align: middle;\n",
       "    }\n",
       "\n",
       "    .dataframe tbody tr th {\n",
       "        vertical-align: top;\n",
       "    }\n",
       "\n",
       "    .dataframe thead th {\n",
       "        text-align: right;\n",
       "    }\n",
       "</style>\n",
       "<table border=\"1\" class=\"dataframe\">\n",
       "  <thead>\n",
       "    <tr style=\"text-align: right;\">\n",
       "      <th></th>\n",
       "      <th>Exchflg</th>\n",
       "      <th>Mktflg</th>\n",
       "      <th>Rmrf</th>\n",
       "      <th>Smb</th>\n",
       "      <th>Hml</th>\n",
       "    </tr>\n",
       "    <tr>\n",
       "      <th>Date</th>\n",
       "      <th></th>\n",
       "      <th></th>\n",
       "      <th></th>\n",
       "      <th></th>\n",
       "      <th></th>\n",
       "    </tr>\n",
       "  </thead>\n",
       "  <tbody>\n",
       "    <tr>\n",
       "      <th>1992-07-01</th>\n",
       "      <td>0</td>\n",
       "      <td>A</td>\n",
       "      <td>-0.0337</td>\n",
       "      <td>-0.0123</td>\n",
       "      <td>0.0373</td>\n",
       "    </tr>\n",
       "    <tr>\n",
       "      <th>1992-07-02</th>\n",
       "      <td>0</td>\n",
       "      <td>A</td>\n",
       "      <td>-0.0015</td>\n",
       "      <td>0.0109</td>\n",
       "      <td>0.0054</td>\n",
       "    </tr>\n",
       "    <tr>\n",
       "      <th>1992-07-03</th>\n",
       "      <td>0</td>\n",
       "      <td>A</td>\n",
       "      <td>0.0180</td>\n",
       "      <td>0.0034</td>\n",
       "      <td>-0.0142</td>\n",
       "    </tr>\n",
       "    <tr>\n",
       "      <th>1992-07-06</th>\n",
       "      <td>0</td>\n",
       "      <td>A</td>\n",
       "      <td>0.0008</td>\n",
       "      <td>-0.1811</td>\n",
       "      <td>-0.1275</td>\n",
       "    </tr>\n",
       "    <tr>\n",
       "      <th>1992-07-07</th>\n",
       "      <td>0</td>\n",
       "      <td>A</td>\n",
       "      <td>0.0071</td>\n",
       "      <td>-0.0043</td>\n",
       "      <td>-0.0468</td>\n",
       "    </tr>\n",
       "    <tr>\n",
       "      <th>...</th>\n",
       "      <td>...</td>\n",
       "      <td>...</td>\n",
       "      <td>...</td>\n",
       "      <td>...</td>\n",
       "      <td>...</td>\n",
       "    </tr>\n",
       "    <tr>\n",
       "      <th>2020-09-24</th>\n",
       "      <td>0</td>\n",
       "      <td>A</td>\n",
       "      <td>-0.0203</td>\n",
       "      <td>-0.0075</td>\n",
       "      <td>0.0020</td>\n",
       "    </tr>\n",
       "    <tr>\n",
       "      <th>2020-09-25</th>\n",
       "      <td>0</td>\n",
       "      <td>A</td>\n",
       "      <td>-0.0013</td>\n",
       "      <td>-0.0033</td>\n",
       "      <td>-0.0024</td>\n",
       "    </tr>\n",
       "    <tr>\n",
       "      <th>2020-09-28</th>\n",
       "      <td>0</td>\n",
       "      <td>A</td>\n",
       "      <td>-0.0031</td>\n",
       "      <td>-0.0141</td>\n",
       "      <td>0.0028</td>\n",
       "    </tr>\n",
       "    <tr>\n",
       "      <th>2020-09-29</th>\n",
       "      <td>0</td>\n",
       "      <td>A</td>\n",
       "      <td>0.0045</td>\n",
       "      <td>0.0013</td>\n",
       "      <td>-0.0063</td>\n",
       "    </tr>\n",
       "    <tr>\n",
       "      <th>2020-09-30</th>\n",
       "      <td>0</td>\n",
       "      <td>A</td>\n",
       "      <td>-0.0009</td>\n",
       "      <td>-0.0017</td>\n",
       "      <td>-0.0045</td>\n",
       "    </tr>\n",
       "  </tbody>\n",
       "</table>\n",
       "<p>6890 rows × 5 columns</p>\n",
       "</div>"
      ],
      "text/plain": [
       "            Exchflg Mktflg    Rmrf     Smb     Hml\n",
       "Date                                              \n",
       "1992-07-01        0      A -0.0337 -0.0123  0.0373\n",
       "1992-07-02        0      A -0.0015  0.0109  0.0054\n",
       "1992-07-03        0      A  0.0180  0.0034 -0.0142\n",
       "1992-07-06        0      A  0.0008 -0.1811 -0.1275\n",
       "1992-07-07        0      A  0.0071 -0.0043 -0.0468\n",
       "...             ...    ...     ...     ...     ...\n",
       "2020-09-24        0      A -0.0203 -0.0075  0.0020\n",
       "2020-09-25        0      A -0.0013 -0.0033 -0.0024\n",
       "2020-09-28        0      A -0.0031 -0.0141  0.0028\n",
       "2020-09-29        0      A  0.0045  0.0013 -0.0063\n",
       "2020-09-30        0      A -0.0009 -0.0017 -0.0045\n",
       "\n",
       "[6890 rows x 5 columns]"
      ]
     },
     "execution_count": 105,
     "metadata": {},
     "output_type": "execute_result"
    }
   ],
   "source": [
    "threeFct.set_index('Date',inplace=True)\n",
    "threeFct"
   ]
  },
  {
   "cell_type": "markdown",
   "metadata": {
    "slideshow": {
     "slide_type": "slide"
    }
   },
   "source": [
    "##### 读入个股股价数据"
   ]
  },
  {
   "cell_type": "code",
   "execution_count": 106,
   "metadata": {
    "slideshow": {
     "slide_type": "fragment"
    }
   },
   "outputs": [
    {
     "data": {
      "text/html": [
       "<div>\n",
       "<style scoped>\n",
       "    .dataframe tbody tr th:only-of-type {\n",
       "        vertical-align: middle;\n",
       "    }\n",
       "\n",
       "    .dataframe tbody tr th {\n",
       "        vertical-align: top;\n",
       "    }\n",
       "\n",
       "    .dataframe thead th {\n",
       "        text-align: right;\n",
       "    }\n",
       "</style>\n",
       "<table border=\"1\" class=\"dataframe\">\n",
       "  <thead>\n",
       "    <tr style=\"text-align: right;\">\n",
       "      <th></th>\n",
       "      <th>High</th>\n",
       "      <th>Low</th>\n",
       "      <th>Open</th>\n",
       "      <th>Close</th>\n",
       "      <th>Volume</th>\n",
       "      <th>Adj Close</th>\n",
       "    </tr>\n",
       "    <tr>\n",
       "      <th>Date</th>\n",
       "      <th></th>\n",
       "      <th></th>\n",
       "      <th></th>\n",
       "      <th></th>\n",
       "      <th></th>\n",
       "      <th></th>\n",
       "    </tr>\n",
       "  </thead>\n",
       "  <tbody>\n",
       "    <tr>\n",
       "      <th>2012-06-18</th>\n",
       "      <td>5.50853</td>\n",
       "      <td>5.44705</td>\n",
       "      <td>5.47598</td>\n",
       "      <td>5.50130</td>\n",
       "      <td>54945796.0</td>\n",
       "      <td>4.868801</td>\n",
       "    </tr>\n",
       "    <tr>\n",
       "      <th>2012-06-19</th>\n",
       "      <td>5.55917</td>\n",
       "      <td>5.46513</td>\n",
       "      <td>5.47960</td>\n",
       "      <td>5.51577</td>\n",
       "      <td>41451153.0</td>\n",
       "      <td>4.881608</td>\n",
       "    </tr>\n",
       "    <tr>\n",
       "      <th>2012-06-20</th>\n",
       "      <td>5.60619</td>\n",
       "      <td>5.49768</td>\n",
       "      <td>5.54470</td>\n",
       "      <td>5.50853</td>\n",
       "      <td>39732147.0</td>\n",
       "      <td>4.875200</td>\n",
       "    </tr>\n",
       "    <tr>\n",
       "      <th>2012-06-21</th>\n",
       "      <td>5.50853</td>\n",
       "      <td>5.37471</td>\n",
       "      <td>5.50492</td>\n",
       "      <td>5.38918</td>\n",
       "      <td>40043416.0</td>\n",
       "      <td>4.769572</td>\n",
       "    </tr>\n",
       "    <tr>\n",
       "      <th>2012-06-25</th>\n",
       "      <td>5.44705</td>\n",
       "      <td>5.34216</td>\n",
       "      <td>5.38194</td>\n",
       "      <td>5.34216</td>\n",
       "      <td>45441793.0</td>\n",
       "      <td>4.727959</td>\n",
       "    </tr>\n",
       "    <tr>\n",
       "      <th>...</th>\n",
       "      <td>...</td>\n",
       "      <td>...</td>\n",
       "      <td>...</td>\n",
       "      <td>...</td>\n",
       "      <td>...</td>\n",
       "      <td>...</td>\n",
       "    </tr>\n",
       "    <tr>\n",
       "      <th>2020-09-24</th>\n",
       "      <td>15.61000</td>\n",
       "      <td>15.12000</td>\n",
       "      <td>15.59000</td>\n",
       "      <td>15.14000</td>\n",
       "      <td>104553645.0</td>\n",
       "      <td>15.140000</td>\n",
       "    </tr>\n",
       "    <tr>\n",
       "      <th>2020-09-25</th>\n",
       "      <td>15.31000</td>\n",
       "      <td>15.11000</td>\n",
       "      <td>15.20000</td>\n",
       "      <td>15.18000</td>\n",
       "      <td>60779133.0</td>\n",
       "      <td>15.180000</td>\n",
       "    </tr>\n",
       "    <tr>\n",
       "      <th>2020-09-28</th>\n",
       "      <td>15.37000</td>\n",
       "      <td>14.98000</td>\n",
       "      <td>15.19000</td>\n",
       "      <td>15.30000</td>\n",
       "      <td>60859711.0</td>\n",
       "      <td>15.300000</td>\n",
       "    </tr>\n",
       "    <tr>\n",
       "      <th>2020-09-29</th>\n",
       "      <td>15.41000</td>\n",
       "      <td>14.76000</td>\n",
       "      <td>15.39000</td>\n",
       "      <td>14.82000</td>\n",
       "      <td>116554714.0</td>\n",
       "      <td>14.820000</td>\n",
       "    </tr>\n",
       "    <tr>\n",
       "      <th>2020-09-30</th>\n",
       "      <td>15.27000</td>\n",
       "      <td>14.80000</td>\n",
       "      <td>14.80000</td>\n",
       "      <td>15.13000</td>\n",
       "      <td>120908482.0</td>\n",
       "      <td>15.130000</td>\n",
       "    </tr>\n",
       "  </tbody>\n",
       "</table>\n",
       "<p>2018 rows × 6 columns</p>\n",
       "</div>"
      ],
      "text/plain": [
       "                High       Low      Open     Close       Volume  Adj Close\n",
       "Date                                                                      \n",
       "2012-06-18   5.50853   5.44705   5.47598   5.50130   54945796.0   4.868801\n",
       "2012-06-19   5.55917   5.46513   5.47960   5.51577   41451153.0   4.881608\n",
       "2012-06-20   5.60619   5.49768   5.54470   5.50853   39732147.0   4.875200\n",
       "2012-06-21   5.50853   5.37471   5.50492   5.38918   40043416.0   4.769572\n",
       "2012-06-25   5.44705   5.34216   5.38194   5.34216   45441793.0   4.727959\n",
       "...              ...       ...       ...       ...          ...        ...\n",
       "2020-09-24  15.61000  15.12000  15.59000  15.14000  104553645.0  15.140000\n",
       "2020-09-25  15.31000  15.11000  15.20000  15.18000   60779133.0  15.180000\n",
       "2020-09-28  15.37000  14.98000  15.19000  15.30000   60859711.0  15.300000\n",
       "2020-09-29  15.41000  14.76000  15.39000  14.82000  116554714.0  14.820000\n",
       "2020-09-30  15.27000  14.80000  14.80000  15.13000  120908482.0  15.130000\n",
       "\n",
       "[2018 rows x 6 columns]"
      ]
     },
     "execution_count": 106,
     "metadata": {},
     "output_type": "execute_result"
    }
   ],
   "source": [
    "stock1 = web.DataReader('000001.SZ','yahoo',start='1992-7-1',end='2020-9-30')\n",
    "stock1"
   ]
  },
  {
   "cell_type": "markdown",
   "metadata": {
    "slideshow": {
     "slide_type": "slide"
    }
   },
   "source": [
    "##### 将股价数据和三因子数据合并"
   ]
  },
  {
   "cell_type": "code",
   "execution_count": 113,
   "metadata": {
    "slideshow": {
     "slide_type": "fragment"
    }
   },
   "outputs": [
    {
     "data": {
      "text/html": [
       "<div>\n",
       "<style scoped>\n",
       "    .dataframe tbody tr th:only-of-type {\n",
       "        vertical-align: middle;\n",
       "    }\n",
       "\n",
       "    .dataframe tbody tr th {\n",
       "        vertical-align: top;\n",
       "    }\n",
       "\n",
       "    .dataframe thead th {\n",
       "        text-align: right;\n",
       "    }\n",
       "</style>\n",
       "<table border=\"1\" class=\"dataframe\">\n",
       "  <thead>\n",
       "    <tr style=\"text-align: right;\">\n",
       "      <th></th>\n",
       "      <th>High</th>\n",
       "      <th>Low</th>\n",
       "      <th>Open</th>\n",
       "      <th>Close</th>\n",
       "      <th>Volume</th>\n",
       "      <th>Adj Close</th>\n",
       "      <th>Exchflg</th>\n",
       "      <th>Mktflg</th>\n",
       "      <th>Rmrf</th>\n",
       "      <th>Smb</th>\n",
       "      <th>Hml</th>\n",
       "    </tr>\n",
       "    <tr>\n",
       "      <th>Date</th>\n",
       "      <th></th>\n",
       "      <th></th>\n",
       "      <th></th>\n",
       "      <th></th>\n",
       "      <th></th>\n",
       "      <th></th>\n",
       "      <th></th>\n",
       "      <th></th>\n",
       "      <th></th>\n",
       "      <th></th>\n",
       "      <th></th>\n",
       "    </tr>\n",
       "  </thead>\n",
       "  <tbody>\n",
       "    <tr>\n",
       "      <th>2012-06-18</th>\n",
       "      <td>5.50853</td>\n",
       "      <td>5.44705</td>\n",
       "      <td>5.47598</td>\n",
       "      <td>5.50130</td>\n",
       "      <td>54945796.0</td>\n",
       "      <td>4.868801</td>\n",
       "      <td>0</td>\n",
       "      <td>A</td>\n",
       "      <td>0.0053</td>\n",
       "      <td>0.0034</td>\n",
       "      <td>-0.0057</td>\n",
       "    </tr>\n",
       "    <tr>\n",
       "      <th>2012-06-19</th>\n",
       "      <td>5.55917</td>\n",
       "      <td>5.46513</td>\n",
       "      <td>5.47960</td>\n",
       "      <td>5.51577</td>\n",
       "      <td>41451153.0</td>\n",
       "      <td>4.881608</td>\n",
       "      <td>0</td>\n",
       "      <td>A</td>\n",
       "      <td>-0.0071</td>\n",
       "      <td>0.0030</td>\n",
       "      <td>-0.0009</td>\n",
       "    </tr>\n",
       "    <tr>\n",
       "      <th>2012-06-20</th>\n",
       "      <td>5.60619</td>\n",
       "      <td>5.49768</td>\n",
       "      <td>5.54470</td>\n",
       "      <td>5.50853</td>\n",
       "      <td>39732147.0</td>\n",
       "      <td>4.875200</td>\n",
       "      <td>0</td>\n",
       "      <td>A</td>\n",
       "      <td>-0.0013</td>\n",
       "      <td>-0.0014</td>\n",
       "      <td>0.0034</td>\n",
       "    </tr>\n",
       "    <tr>\n",
       "      <th>2012-06-21</th>\n",
       "      <td>5.50853</td>\n",
       "      <td>5.37471</td>\n",
       "      <td>5.50492</td>\n",
       "      <td>5.38918</td>\n",
       "      <td>40043416.0</td>\n",
       "      <td>4.769572</td>\n",
       "      <td>0</td>\n",
       "      <td>A</td>\n",
       "      <td>-0.0144</td>\n",
       "      <td>0.0013</td>\n",
       "      <td>0.0013</td>\n",
       "    </tr>\n",
       "    <tr>\n",
       "      <th>2012-06-25</th>\n",
       "      <td>5.44705</td>\n",
       "      <td>5.34216</td>\n",
       "      <td>5.38194</td>\n",
       "      <td>5.34216</td>\n",
       "      <td>45441793.0</td>\n",
       "      <td>4.727959</td>\n",
       "      <td>0</td>\n",
       "      <td>A</td>\n",
       "      <td>-0.0187</td>\n",
       "      <td>-0.0032</td>\n",
       "      <td>0.0053</td>\n",
       "    </tr>\n",
       "    <tr>\n",
       "      <th>...</th>\n",
       "      <td>...</td>\n",
       "      <td>...</td>\n",
       "      <td>...</td>\n",
       "      <td>...</td>\n",
       "      <td>...</td>\n",
       "      <td>...</td>\n",
       "      <td>...</td>\n",
       "      <td>...</td>\n",
       "      <td>...</td>\n",
       "      <td>...</td>\n",
       "      <td>...</td>\n",
       "    </tr>\n",
       "    <tr>\n",
       "      <th>2020-09-24</th>\n",
       "      <td>15.61000</td>\n",
       "      <td>15.12000</td>\n",
       "      <td>15.59000</td>\n",
       "      <td>15.14000</td>\n",
       "      <td>104553645.0</td>\n",
       "      <td>15.140000</td>\n",
       "      <td>0</td>\n",
       "      <td>A</td>\n",
       "      <td>-0.0203</td>\n",
       "      <td>-0.0075</td>\n",
       "      <td>0.0020</td>\n",
       "    </tr>\n",
       "    <tr>\n",
       "      <th>2020-09-25</th>\n",
       "      <td>15.31000</td>\n",
       "      <td>15.11000</td>\n",
       "      <td>15.20000</td>\n",
       "      <td>15.18000</td>\n",
       "      <td>60779133.0</td>\n",
       "      <td>15.180000</td>\n",
       "      <td>0</td>\n",
       "      <td>A</td>\n",
       "      <td>-0.0013</td>\n",
       "      <td>-0.0033</td>\n",
       "      <td>-0.0024</td>\n",
       "    </tr>\n",
       "    <tr>\n",
       "      <th>2020-09-28</th>\n",
       "      <td>15.37000</td>\n",
       "      <td>14.98000</td>\n",
       "      <td>15.19000</td>\n",
       "      <td>15.30000</td>\n",
       "      <td>60859711.0</td>\n",
       "      <td>15.300000</td>\n",
       "      <td>0</td>\n",
       "      <td>A</td>\n",
       "      <td>-0.0031</td>\n",
       "      <td>-0.0141</td>\n",
       "      <td>0.0028</td>\n",
       "    </tr>\n",
       "    <tr>\n",
       "      <th>2020-09-29</th>\n",
       "      <td>15.41000</td>\n",
       "      <td>14.76000</td>\n",
       "      <td>15.39000</td>\n",
       "      <td>14.82000</td>\n",
       "      <td>116554714.0</td>\n",
       "      <td>14.820000</td>\n",
       "      <td>0</td>\n",
       "      <td>A</td>\n",
       "      <td>0.0045</td>\n",
       "      <td>0.0013</td>\n",
       "      <td>-0.0063</td>\n",
       "    </tr>\n",
       "    <tr>\n",
       "      <th>2020-09-30</th>\n",
       "      <td>15.27000</td>\n",
       "      <td>14.80000</td>\n",
       "      <td>14.80000</td>\n",
       "      <td>15.13000</td>\n",
       "      <td>120908482.0</td>\n",
       "      <td>15.130000</td>\n",
       "      <td>0</td>\n",
       "      <td>A</td>\n",
       "      <td>-0.0009</td>\n",
       "      <td>-0.0017</td>\n",
       "      <td>-0.0045</td>\n",
       "    </tr>\n",
       "  </tbody>\n",
       "</table>\n",
       "<p>2018 rows × 11 columns</p>\n",
       "</div>"
      ],
      "text/plain": [
       "                High       Low      Open     Close       Volume  Adj Close  \\\n",
       "Date                                                                         \n",
       "2012-06-18   5.50853   5.44705   5.47598   5.50130   54945796.0   4.868801   \n",
       "2012-06-19   5.55917   5.46513   5.47960   5.51577   41451153.0   4.881608   \n",
       "2012-06-20   5.60619   5.49768   5.54470   5.50853   39732147.0   4.875200   \n",
       "2012-06-21   5.50853   5.37471   5.50492   5.38918   40043416.0   4.769572   \n",
       "2012-06-25   5.44705   5.34216   5.38194   5.34216   45441793.0   4.727959   \n",
       "...              ...       ...       ...       ...          ...        ...   \n",
       "2020-09-24  15.61000  15.12000  15.59000  15.14000  104553645.0  15.140000   \n",
       "2020-09-25  15.31000  15.11000  15.20000  15.18000   60779133.0  15.180000   \n",
       "2020-09-28  15.37000  14.98000  15.19000  15.30000   60859711.0  15.300000   \n",
       "2020-09-29  15.41000  14.76000  15.39000  14.82000  116554714.0  14.820000   \n",
       "2020-09-30  15.27000  14.80000  14.80000  15.13000  120908482.0  15.130000   \n",
       "\n",
       "            Exchflg Mktflg    Rmrf     Smb     Hml  \n",
       "Date                                                \n",
       "2012-06-18        0      A  0.0053  0.0034 -0.0057  \n",
       "2012-06-19        0      A -0.0071  0.0030 -0.0009  \n",
       "2012-06-20        0      A -0.0013 -0.0014  0.0034  \n",
       "2012-06-21        0      A -0.0144  0.0013  0.0013  \n",
       "2012-06-25        0      A -0.0187 -0.0032  0.0053  \n",
       "...             ...    ...     ...     ...     ...  \n",
       "2020-09-24        0      A -0.0203 -0.0075  0.0020  \n",
       "2020-09-25        0      A -0.0013 -0.0033 -0.0024  \n",
       "2020-09-28        0      A -0.0031 -0.0141  0.0028  \n",
       "2020-09-29        0      A  0.0045  0.0013 -0.0063  \n",
       "2020-09-30        0      A -0.0009 -0.0017 -0.0045  \n",
       "\n",
       "[2018 rows x 11 columns]"
      ]
     },
     "execution_count": 113,
     "metadata": {},
     "output_type": "execute_result"
    }
   ],
   "source": [
    "stk1 = pd.merge(stock1,threeFct,left_index=True,right_index=True)\n",
    "stk1"
   ]
  },
  {
   "cell_type": "markdown",
   "metadata": {
    "slideshow": {
     "slide_type": "slide"
    }
   },
   "source": [
    "##### 计算每日收益率"
   ]
  },
  {
   "cell_type": "code",
   "execution_count": 116,
   "metadata": {
    "slideshow": {
     "slide_type": "fragment"
    }
   },
   "outputs": [
    {
     "data": {
      "text/html": [
       "<div>\n",
       "<style scoped>\n",
       "    .dataframe tbody tr th:only-of-type {\n",
       "        vertical-align: middle;\n",
       "    }\n",
       "\n",
       "    .dataframe tbody tr th {\n",
       "        vertical-align: top;\n",
       "    }\n",
       "\n",
       "    .dataframe thead th {\n",
       "        text-align: right;\n",
       "    }\n",
       "</style>\n",
       "<table border=\"1\" class=\"dataframe\">\n",
       "  <thead>\n",
       "    <tr style=\"text-align: right;\">\n",
       "      <th></th>\n",
       "      <th>High</th>\n",
       "      <th>Low</th>\n",
       "      <th>Open</th>\n",
       "      <th>Close</th>\n",
       "      <th>Volume</th>\n",
       "      <th>Adj Close</th>\n",
       "      <th>Exchflg</th>\n",
       "      <th>Mktflg</th>\n",
       "      <th>Rmrf</th>\n",
       "      <th>Smb</th>\n",
       "      <th>Hml</th>\n",
       "      <th>ret</th>\n",
       "    </tr>\n",
       "    <tr>\n",
       "      <th>Date</th>\n",
       "      <th></th>\n",
       "      <th></th>\n",
       "      <th></th>\n",
       "      <th></th>\n",
       "      <th></th>\n",
       "      <th></th>\n",
       "      <th></th>\n",
       "      <th></th>\n",
       "      <th></th>\n",
       "      <th></th>\n",
       "      <th></th>\n",
       "      <th></th>\n",
       "    </tr>\n",
       "  </thead>\n",
       "  <tbody>\n",
       "    <tr>\n",
       "      <th>2012-06-18</th>\n",
       "      <td>5.50853</td>\n",
       "      <td>5.44705</td>\n",
       "      <td>5.47598</td>\n",
       "      <td>5.50130</td>\n",
       "      <td>54945796.0</td>\n",
       "      <td>4.868801</td>\n",
       "      <td>0</td>\n",
       "      <td>A</td>\n",
       "      <td>0.0053</td>\n",
       "      <td>0.0034</td>\n",
       "      <td>-0.0057</td>\n",
       "      <td>NaN</td>\n",
       "    </tr>\n",
       "    <tr>\n",
       "      <th>2012-06-19</th>\n",
       "      <td>5.55917</td>\n",
       "      <td>5.46513</td>\n",
       "      <td>5.47960</td>\n",
       "      <td>5.51577</td>\n",
       "      <td>41451153.0</td>\n",
       "      <td>4.881608</td>\n",
       "      <td>0</td>\n",
       "      <td>A</td>\n",
       "      <td>-0.0071</td>\n",
       "      <td>0.0030</td>\n",
       "      <td>-0.0009</td>\n",
       "      <td>0.002630</td>\n",
       "    </tr>\n",
       "    <tr>\n",
       "      <th>2012-06-20</th>\n",
       "      <td>5.60619</td>\n",
       "      <td>5.49768</td>\n",
       "      <td>5.54470</td>\n",
       "      <td>5.50853</td>\n",
       "      <td>39732147.0</td>\n",
       "      <td>4.875200</td>\n",
       "      <td>0</td>\n",
       "      <td>A</td>\n",
       "      <td>-0.0013</td>\n",
       "      <td>-0.0014</td>\n",
       "      <td>0.0034</td>\n",
       "      <td>-0.001313</td>\n",
       "    </tr>\n",
       "    <tr>\n",
       "      <th>2012-06-21</th>\n",
       "      <td>5.50853</td>\n",
       "      <td>5.37471</td>\n",
       "      <td>5.50492</td>\n",
       "      <td>5.38918</td>\n",
       "      <td>40043416.0</td>\n",
       "      <td>4.769572</td>\n",
       "      <td>0</td>\n",
       "      <td>A</td>\n",
       "      <td>-0.0144</td>\n",
       "      <td>0.0013</td>\n",
       "      <td>0.0013</td>\n",
       "      <td>-0.021666</td>\n",
       "    </tr>\n",
       "    <tr>\n",
       "      <th>2012-06-25</th>\n",
       "      <td>5.44705</td>\n",
       "      <td>5.34216</td>\n",
       "      <td>5.38194</td>\n",
       "      <td>5.34216</td>\n",
       "      <td>45441793.0</td>\n",
       "      <td>4.727959</td>\n",
       "      <td>0</td>\n",
       "      <td>A</td>\n",
       "      <td>-0.0187</td>\n",
       "      <td>-0.0032</td>\n",
       "      <td>0.0053</td>\n",
       "      <td>-0.008725</td>\n",
       "    </tr>\n",
       "    <tr>\n",
       "      <th>...</th>\n",
       "      <td>...</td>\n",
       "      <td>...</td>\n",
       "      <td>...</td>\n",
       "      <td>...</td>\n",
       "      <td>...</td>\n",
       "      <td>...</td>\n",
       "      <td>...</td>\n",
       "      <td>...</td>\n",
       "      <td>...</td>\n",
       "      <td>...</td>\n",
       "      <td>...</td>\n",
       "      <td>...</td>\n",
       "    </tr>\n",
       "    <tr>\n",
       "      <th>2020-09-24</th>\n",
       "      <td>15.61000</td>\n",
       "      <td>15.12000</td>\n",
       "      <td>15.59000</td>\n",
       "      <td>15.14000</td>\n",
       "      <td>104553645.0</td>\n",
       "      <td>15.140000</td>\n",
       "      <td>0</td>\n",
       "      <td>A</td>\n",
       "      <td>-0.0203</td>\n",
       "      <td>-0.0075</td>\n",
       "      <td>0.0020</td>\n",
       "      <td>-0.031969</td>\n",
       "    </tr>\n",
       "    <tr>\n",
       "      <th>2020-09-25</th>\n",
       "      <td>15.31000</td>\n",
       "      <td>15.11000</td>\n",
       "      <td>15.20000</td>\n",
       "      <td>15.18000</td>\n",
       "      <td>60779133.0</td>\n",
       "      <td>15.180000</td>\n",
       "      <td>0</td>\n",
       "      <td>A</td>\n",
       "      <td>-0.0013</td>\n",
       "      <td>-0.0033</td>\n",
       "      <td>-0.0024</td>\n",
       "      <td>0.002642</td>\n",
       "    </tr>\n",
       "    <tr>\n",
       "      <th>2020-09-28</th>\n",
       "      <td>15.37000</td>\n",
       "      <td>14.98000</td>\n",
       "      <td>15.19000</td>\n",
       "      <td>15.30000</td>\n",
       "      <td>60859711.0</td>\n",
       "      <td>15.300000</td>\n",
       "      <td>0</td>\n",
       "      <td>A</td>\n",
       "      <td>-0.0031</td>\n",
       "      <td>-0.0141</td>\n",
       "      <td>0.0028</td>\n",
       "      <td>0.007905</td>\n",
       "    </tr>\n",
       "    <tr>\n",
       "      <th>2020-09-29</th>\n",
       "      <td>15.41000</td>\n",
       "      <td>14.76000</td>\n",
       "      <td>15.39000</td>\n",
       "      <td>14.82000</td>\n",
       "      <td>116554714.0</td>\n",
       "      <td>14.820000</td>\n",
       "      <td>0</td>\n",
       "      <td>A</td>\n",
       "      <td>0.0045</td>\n",
       "      <td>0.0013</td>\n",
       "      <td>-0.0063</td>\n",
       "      <td>-0.031373</td>\n",
       "    </tr>\n",
       "    <tr>\n",
       "      <th>2020-09-30</th>\n",
       "      <td>15.27000</td>\n",
       "      <td>14.80000</td>\n",
       "      <td>14.80000</td>\n",
       "      <td>15.13000</td>\n",
       "      <td>120908482.0</td>\n",
       "      <td>15.130000</td>\n",
       "      <td>0</td>\n",
       "      <td>A</td>\n",
       "      <td>-0.0009</td>\n",
       "      <td>-0.0017</td>\n",
       "      <td>-0.0045</td>\n",
       "      <td>0.020918</td>\n",
       "    </tr>\n",
       "  </tbody>\n",
       "</table>\n",
       "<p>2018 rows × 12 columns</p>\n",
       "</div>"
      ],
      "text/plain": [
       "                High       Low      Open     Close       Volume  Adj Close  \\\n",
       "Date                                                                         \n",
       "2012-06-18   5.50853   5.44705   5.47598   5.50130   54945796.0   4.868801   \n",
       "2012-06-19   5.55917   5.46513   5.47960   5.51577   41451153.0   4.881608   \n",
       "2012-06-20   5.60619   5.49768   5.54470   5.50853   39732147.0   4.875200   \n",
       "2012-06-21   5.50853   5.37471   5.50492   5.38918   40043416.0   4.769572   \n",
       "2012-06-25   5.44705   5.34216   5.38194   5.34216   45441793.0   4.727959   \n",
       "...              ...       ...       ...       ...          ...        ...   \n",
       "2020-09-24  15.61000  15.12000  15.59000  15.14000  104553645.0  15.140000   \n",
       "2020-09-25  15.31000  15.11000  15.20000  15.18000   60779133.0  15.180000   \n",
       "2020-09-28  15.37000  14.98000  15.19000  15.30000   60859711.0  15.300000   \n",
       "2020-09-29  15.41000  14.76000  15.39000  14.82000  116554714.0  14.820000   \n",
       "2020-09-30  15.27000  14.80000  14.80000  15.13000  120908482.0  15.130000   \n",
       "\n",
       "            Exchflg Mktflg    Rmrf     Smb     Hml       ret  \n",
       "Date                                                          \n",
       "2012-06-18        0      A  0.0053  0.0034 -0.0057       NaN  \n",
       "2012-06-19        0      A -0.0071  0.0030 -0.0009  0.002630  \n",
       "2012-06-20        0      A -0.0013 -0.0014  0.0034 -0.001313  \n",
       "2012-06-21        0      A -0.0144  0.0013  0.0013 -0.021666  \n",
       "2012-06-25        0      A -0.0187 -0.0032  0.0053 -0.008725  \n",
       "...             ...    ...     ...     ...     ...       ...  \n",
       "2020-09-24        0      A -0.0203 -0.0075  0.0020 -0.031969  \n",
       "2020-09-25        0      A -0.0013 -0.0033 -0.0024  0.002642  \n",
       "2020-09-28        0      A -0.0031 -0.0141  0.0028  0.007905  \n",
       "2020-09-29        0      A  0.0045  0.0013 -0.0063 -0.031373  \n",
       "2020-09-30        0      A -0.0009 -0.0017 -0.0045  0.020918  \n",
       "\n",
       "[2018 rows x 12 columns]"
      ]
     },
     "execution_count": 116,
     "metadata": {},
     "output_type": "execute_result"
    }
   ],
   "source": [
    "stk1['ret'] = stk1['Close'].pct_change()\n",
    "stk1"
   ]
  },
  {
   "cell_type": "code",
   "execution_count": 118,
   "metadata": {
    "slideshow": {
     "slide_type": "fragment"
    }
   },
   "outputs": [
    {
     "data": {
      "text/html": [
       "<div>\n",
       "<style scoped>\n",
       "    .dataframe tbody tr th:only-of-type {\n",
       "        vertical-align: middle;\n",
       "    }\n",
       "\n",
       "    .dataframe tbody tr th {\n",
       "        vertical-align: top;\n",
       "    }\n",
       "\n",
       "    .dataframe thead th {\n",
       "        text-align: right;\n",
       "    }\n",
       "</style>\n",
       "<table border=\"1\" class=\"dataframe\">\n",
       "  <thead>\n",
       "    <tr style=\"text-align: right;\">\n",
       "      <th></th>\n",
       "      <th>High</th>\n",
       "      <th>Low</th>\n",
       "      <th>Open</th>\n",
       "      <th>Close</th>\n",
       "      <th>Volume</th>\n",
       "      <th>Adj Close</th>\n",
       "      <th>Exchflg</th>\n",
       "      <th>Mktflg</th>\n",
       "      <th>Rmrf</th>\n",
       "      <th>Smb</th>\n",
       "      <th>Hml</th>\n",
       "      <th>ret</th>\n",
       "    </tr>\n",
       "    <tr>\n",
       "      <th>Date</th>\n",
       "      <th></th>\n",
       "      <th></th>\n",
       "      <th></th>\n",
       "      <th></th>\n",
       "      <th></th>\n",
       "      <th></th>\n",
       "      <th></th>\n",
       "      <th></th>\n",
       "      <th></th>\n",
       "      <th></th>\n",
       "      <th></th>\n",
       "      <th></th>\n",
       "    </tr>\n",
       "  </thead>\n",
       "  <tbody>\n",
       "    <tr>\n",
       "      <th>2012-06-19</th>\n",
       "      <td>5.55917</td>\n",
       "      <td>5.46513</td>\n",
       "      <td>5.47960</td>\n",
       "      <td>5.51577</td>\n",
       "      <td>41451153.0</td>\n",
       "      <td>4.881608</td>\n",
       "      <td>0</td>\n",
       "      <td>A</td>\n",
       "      <td>-0.0071</td>\n",
       "      <td>0.0030</td>\n",
       "      <td>-0.0009</td>\n",
       "      <td>0.002630</td>\n",
       "    </tr>\n",
       "    <tr>\n",
       "      <th>2012-06-20</th>\n",
       "      <td>5.60619</td>\n",
       "      <td>5.49768</td>\n",
       "      <td>5.54470</td>\n",
       "      <td>5.50853</td>\n",
       "      <td>39732147.0</td>\n",
       "      <td>4.875200</td>\n",
       "      <td>0</td>\n",
       "      <td>A</td>\n",
       "      <td>-0.0013</td>\n",
       "      <td>-0.0014</td>\n",
       "      <td>0.0034</td>\n",
       "      <td>-0.001313</td>\n",
       "    </tr>\n",
       "    <tr>\n",
       "      <th>2012-06-21</th>\n",
       "      <td>5.50853</td>\n",
       "      <td>5.37471</td>\n",
       "      <td>5.50492</td>\n",
       "      <td>5.38918</td>\n",
       "      <td>40043416.0</td>\n",
       "      <td>4.769572</td>\n",
       "      <td>0</td>\n",
       "      <td>A</td>\n",
       "      <td>-0.0144</td>\n",
       "      <td>0.0013</td>\n",
       "      <td>0.0013</td>\n",
       "      <td>-0.021666</td>\n",
       "    </tr>\n",
       "    <tr>\n",
       "      <th>2012-06-25</th>\n",
       "      <td>5.44705</td>\n",
       "      <td>5.34216</td>\n",
       "      <td>5.38194</td>\n",
       "      <td>5.34216</td>\n",
       "      <td>45441793.0</td>\n",
       "      <td>4.727959</td>\n",
       "      <td>0</td>\n",
       "      <td>A</td>\n",
       "      <td>-0.0187</td>\n",
       "      <td>-0.0032</td>\n",
       "      <td>0.0053</td>\n",
       "      <td>-0.008725</td>\n",
       "    </tr>\n",
       "    <tr>\n",
       "      <th>2012-06-26</th>\n",
       "      <td>5.42896</td>\n",
       "      <td>5.34939</td>\n",
       "      <td>5.35663</td>\n",
       "      <td>5.38918</td>\n",
       "      <td>37303685.0</td>\n",
       "      <td>4.769572</td>\n",
       "      <td>0</td>\n",
       "      <td>A</td>\n",
       "      <td>-0.0005</td>\n",
       "      <td>0.0012</td>\n",
       "      <td>0.0006</td>\n",
       "      <td>0.008802</td>\n",
       "    </tr>\n",
       "    <tr>\n",
       "      <th>...</th>\n",
       "      <td>...</td>\n",
       "      <td>...</td>\n",
       "      <td>...</td>\n",
       "      <td>...</td>\n",
       "      <td>...</td>\n",
       "      <td>...</td>\n",
       "      <td>...</td>\n",
       "      <td>...</td>\n",
       "      <td>...</td>\n",
       "      <td>...</td>\n",
       "      <td>...</td>\n",
       "      <td>...</td>\n",
       "    </tr>\n",
       "    <tr>\n",
       "      <th>2020-09-24</th>\n",
       "      <td>15.61000</td>\n",
       "      <td>15.12000</td>\n",
       "      <td>15.59000</td>\n",
       "      <td>15.14000</td>\n",
       "      <td>104553645.0</td>\n",
       "      <td>15.140000</td>\n",
       "      <td>0</td>\n",
       "      <td>A</td>\n",
       "      <td>-0.0203</td>\n",
       "      <td>-0.0075</td>\n",
       "      <td>0.0020</td>\n",
       "      <td>-0.031969</td>\n",
       "    </tr>\n",
       "    <tr>\n",
       "      <th>2020-09-25</th>\n",
       "      <td>15.31000</td>\n",
       "      <td>15.11000</td>\n",
       "      <td>15.20000</td>\n",
       "      <td>15.18000</td>\n",
       "      <td>60779133.0</td>\n",
       "      <td>15.180000</td>\n",
       "      <td>0</td>\n",
       "      <td>A</td>\n",
       "      <td>-0.0013</td>\n",
       "      <td>-0.0033</td>\n",
       "      <td>-0.0024</td>\n",
       "      <td>0.002642</td>\n",
       "    </tr>\n",
       "    <tr>\n",
       "      <th>2020-09-28</th>\n",
       "      <td>15.37000</td>\n",
       "      <td>14.98000</td>\n",
       "      <td>15.19000</td>\n",
       "      <td>15.30000</td>\n",
       "      <td>60859711.0</td>\n",
       "      <td>15.300000</td>\n",
       "      <td>0</td>\n",
       "      <td>A</td>\n",
       "      <td>-0.0031</td>\n",
       "      <td>-0.0141</td>\n",
       "      <td>0.0028</td>\n",
       "      <td>0.007905</td>\n",
       "    </tr>\n",
       "    <tr>\n",
       "      <th>2020-09-29</th>\n",
       "      <td>15.41000</td>\n",
       "      <td>14.76000</td>\n",
       "      <td>15.39000</td>\n",
       "      <td>14.82000</td>\n",
       "      <td>116554714.0</td>\n",
       "      <td>14.820000</td>\n",
       "      <td>0</td>\n",
       "      <td>A</td>\n",
       "      <td>0.0045</td>\n",
       "      <td>0.0013</td>\n",
       "      <td>-0.0063</td>\n",
       "      <td>-0.031373</td>\n",
       "    </tr>\n",
       "    <tr>\n",
       "      <th>2020-09-30</th>\n",
       "      <td>15.27000</td>\n",
       "      <td>14.80000</td>\n",
       "      <td>14.80000</td>\n",
       "      <td>15.13000</td>\n",
       "      <td>120908482.0</td>\n",
       "      <td>15.130000</td>\n",
       "      <td>0</td>\n",
       "      <td>A</td>\n",
       "      <td>-0.0009</td>\n",
       "      <td>-0.0017</td>\n",
       "      <td>-0.0045</td>\n",
       "      <td>0.020918</td>\n",
       "    </tr>\n",
       "  </tbody>\n",
       "</table>\n",
       "<p>2017 rows × 12 columns</p>\n",
       "</div>"
      ],
      "text/plain": [
       "                High       Low      Open     Close       Volume  Adj Close  \\\n",
       "Date                                                                         \n",
       "2012-06-19   5.55917   5.46513   5.47960   5.51577   41451153.0   4.881608   \n",
       "2012-06-20   5.60619   5.49768   5.54470   5.50853   39732147.0   4.875200   \n",
       "2012-06-21   5.50853   5.37471   5.50492   5.38918   40043416.0   4.769572   \n",
       "2012-06-25   5.44705   5.34216   5.38194   5.34216   45441793.0   4.727959   \n",
       "2012-06-26   5.42896   5.34939   5.35663   5.38918   37303685.0   4.769572   \n",
       "...              ...       ...       ...       ...          ...        ...   \n",
       "2020-09-24  15.61000  15.12000  15.59000  15.14000  104553645.0  15.140000   \n",
       "2020-09-25  15.31000  15.11000  15.20000  15.18000   60779133.0  15.180000   \n",
       "2020-09-28  15.37000  14.98000  15.19000  15.30000   60859711.0  15.300000   \n",
       "2020-09-29  15.41000  14.76000  15.39000  14.82000  116554714.0  14.820000   \n",
       "2020-09-30  15.27000  14.80000  14.80000  15.13000  120908482.0  15.130000   \n",
       "\n",
       "            Exchflg Mktflg    Rmrf     Smb     Hml       ret  \n",
       "Date                                                          \n",
       "2012-06-19        0      A -0.0071  0.0030 -0.0009  0.002630  \n",
       "2012-06-20        0      A -0.0013 -0.0014  0.0034 -0.001313  \n",
       "2012-06-21        0      A -0.0144  0.0013  0.0013 -0.021666  \n",
       "2012-06-25        0      A -0.0187 -0.0032  0.0053 -0.008725  \n",
       "2012-06-26        0      A -0.0005  0.0012  0.0006  0.008802  \n",
       "...             ...    ...     ...     ...     ...       ...  \n",
       "2020-09-24        0      A -0.0203 -0.0075  0.0020 -0.031969  \n",
       "2020-09-25        0      A -0.0013 -0.0033 -0.0024  0.002642  \n",
       "2020-09-28        0      A -0.0031 -0.0141  0.0028  0.007905  \n",
       "2020-09-29        0      A  0.0045  0.0013 -0.0063 -0.031373  \n",
       "2020-09-30        0      A -0.0009 -0.0017 -0.0045  0.020918  \n",
       "\n",
       "[2017 rows x 12 columns]"
      ]
     },
     "execution_count": 118,
     "metadata": {},
     "output_type": "execute_result"
    }
   ],
   "source": [
    "stk1.dropna(how='any',inplace=True)\n",
    "stk1"
   ]
  },
  {
   "cell_type": "markdown",
   "metadata": {
    "slideshow": {
     "slide_type": "slide"
    }
   },
   "source": [
    "##### 股票每日收益率对三因子回归"
   ]
  },
  {
   "cell_type": "code",
   "execution_count": 120,
   "metadata": {
    "slideshow": {
     "slide_type": "fragment"
    }
   },
   "outputs": [
    {
     "data": {
      "text/html": [
       "<table class=\"simpletable\">\n",
       "<caption>OLS Regression Results</caption>\n",
       "<tr>\n",
       "  <th>Dep. Variable:</th>           <td>ret</td>       <th>  R-squared:         </th>  <td>   0.536</td> \n",
       "</tr>\n",
       "<tr>\n",
       "  <th>Model:</th>                   <td>OLS</td>       <th>  Adj. R-squared:    </th>  <td>   0.536</td> \n",
       "</tr>\n",
       "<tr>\n",
       "  <th>Method:</th>             <td>Least Squares</td>  <th>  F-statistic:       </th>  <td>   776.0</td> \n",
       "</tr>\n",
       "<tr>\n",
       "  <th>Date:</th>             <td>Sat, 21 Nov 2020</td> <th>  Prob (F-statistic):</th>   <td>  0.00</td>  \n",
       "</tr>\n",
       "<tr>\n",
       "  <th>Time:</th>                 <td>19:54:13</td>     <th>  Log-Likelihood:    </th>  <td>  5627.1</td> \n",
       "</tr>\n",
       "<tr>\n",
       "  <th>No. Observations:</th>      <td>  2017</td>      <th>  AIC:               </th> <td>-1.125e+04</td>\n",
       "</tr>\n",
       "<tr>\n",
       "  <th>Df Residuals:</th>          <td>  2013</td>      <th>  BIC:               </th> <td>-1.122e+04</td>\n",
       "</tr>\n",
       "<tr>\n",
       "  <th>Df Model:</th>              <td>     3</td>      <th>                     </th>      <td> </td>    \n",
       "</tr>\n",
       "<tr>\n",
       "  <th>Covariance Type:</th>      <td>nonrobust</td>    <th>                     </th>      <td> </td>    \n",
       "</tr>\n",
       "</table>\n",
       "<table class=\"simpletable\">\n",
       "<tr>\n",
       "    <td></td>       <th>coef</th>     <th>std err</th>      <th>t</th>      <th>P>|t|</th>  <th>[0.025</th>    <th>0.975]</th>  \n",
       "</tr>\n",
       "<tr>\n",
       "  <th>const</th> <td>    0.0007</td> <td>    0.000</td> <td>    1.990</td> <td> 0.047</td> <td>  9.6e-06</td> <td>    0.001</td>\n",
       "</tr>\n",
       "<tr>\n",
       "  <th>Rmrf</th>  <td>    1.0581</td> <td>    0.022</td> <td>   47.034</td> <td> 0.000</td> <td>    1.014</td> <td>    1.102</td>\n",
       "</tr>\n",
       "<tr>\n",
       "  <th>Smb</th>   <td>   -0.6830</td> <td>    0.052</td> <td>  -13.248</td> <td> 0.000</td> <td>   -0.784</td> <td>   -0.582</td>\n",
       "</tr>\n",
       "<tr>\n",
       "  <th>Hml</th>   <td>    0.5485</td> <td>    0.063</td> <td>    8.652</td> <td> 0.000</td> <td>    0.424</td> <td>    0.673</td>\n",
       "</tr>\n",
       "</table>\n",
       "<table class=\"simpletable\">\n",
       "<tr>\n",
       "  <th>Omnibus:</th>       <td>419.895</td> <th>  Durbin-Watson:     </th> <td>   1.976</td>\n",
       "</tr>\n",
       "<tr>\n",
       "  <th>Prob(Omnibus):</th> <td> 0.000</td>  <th>  Jarque-Bera (JB):  </th> <td>1875.321</td>\n",
       "</tr>\n",
       "<tr>\n",
       "  <th>Skew:</th>          <td> 0.929</td>  <th>  Prob(JB):          </th> <td>    0.00</td>\n",
       "</tr>\n",
       "<tr>\n",
       "  <th>Kurtosis:</th>      <td> 7.343</td>  <th>  Cond. No.          </th> <td>    216.</td>\n",
       "</tr>\n",
       "</table><br/><br/>Warnings:<br/>[1] Standard Errors assume that the covariance matrix of the errors is correctly specified."
      ],
      "text/plain": [
       "<class 'statsmodels.iolib.summary.Summary'>\n",
       "\"\"\"\n",
       "                            OLS Regression Results                            \n",
       "==============================================================================\n",
       "Dep. Variable:                    ret   R-squared:                       0.536\n",
       "Model:                            OLS   Adj. R-squared:                  0.536\n",
       "Method:                 Least Squares   F-statistic:                     776.0\n",
       "Date:                Sat, 21 Nov 2020   Prob (F-statistic):               0.00\n",
       "Time:                        19:54:13   Log-Likelihood:                 5627.1\n",
       "No. Observations:                2017   AIC:                        -1.125e+04\n",
       "Df Residuals:                    2013   BIC:                        -1.122e+04\n",
       "Df Model:                           3                                         \n",
       "Covariance Type:            nonrobust                                         \n",
       "==============================================================================\n",
       "                 coef    std err          t      P>|t|      [0.025      0.975]\n",
       "------------------------------------------------------------------------------\n",
       "const          0.0007      0.000      1.990      0.047     9.6e-06       0.001\n",
       "Rmrf           1.0581      0.022     47.034      0.000       1.014       1.102\n",
       "Smb           -0.6830      0.052    -13.248      0.000      -0.784      -0.582\n",
       "Hml            0.5485      0.063      8.652      0.000       0.424       0.673\n",
       "==============================================================================\n",
       "Omnibus:                      419.895   Durbin-Watson:                   1.976\n",
       "Prob(Omnibus):                  0.000   Jarque-Bera (JB):             1875.321\n",
       "Skew:                           0.929   Prob(JB):                         0.00\n",
       "Kurtosis:                       7.343   Cond. No.                         216.\n",
       "==============================================================================\n",
       "\n",
       "Warnings:\n",
       "[1] Standard Errors assume that the covariance matrix of the errors is correctly specified.\n",
       "\"\"\""
      ]
     },
     "execution_count": 120,
     "metadata": {},
     "output_type": "execute_result"
    }
   ],
   "source": [
    "stk1Fct = sm.add_constant(stk1[['Rmrf','Smb','Hml']])\n",
    "stk1RegModel = sm.OLS(stk1['ret'],stk1Fct)\n",
    "stk1RegRes = stk1RegModel.fit()\n",
    "stk1RegRes.summary()"
   ]
  },
  {
   "cell_type": "markdown",
   "metadata": {
    "slideshow": {
     "slide_type": "fragment"
    }
   },
   "source": [
    "- `Rmrf`、`Smb`、`Hml`的**系数**称为`00001.SZ`股票在三个因子上的**风险暴露**\n",
    "- 截距成为`000001.SZ`股票的$\\alpha$值"
   ]
  },
  {
   "cell_type": "markdown",
   "metadata": {
    "slideshow": {
     "slide_type": "slide"
    }
   },
   "source": [
    "### 因子模型策略设计"
   ]
  },
  {
   "cell_type": "markdown",
   "metadata": {
    "slideshow": {
     "slide_type": "fragment"
    }
   },
   "source": [
    "#### 候选因子与因子的分类"
   ]
  },
  {
   "cell_type": "markdown",
   "metadata": {
    "slideshow": {
     "slide_type": "fragment"
    }
   },
   "source": [
    "- 候选因子越全面越好"
   ]
  },
  {
   "cell_type": "markdown",
   "metadata": {
    "slideshow": {
     "slide_type": "slide"
    }
   },
   "source": [
    "##### 股票交易相关因子"
   ]
  },
  {
   "cell_type": "markdown",
   "metadata": {
    "slideshow": {
     "slide_type": "fragment"
    }
   },
   "source": [
    "###### 价值因子"
   ]
  },
  {
   "cell_type": "markdown",
   "metadata": {
    "slideshow": {
     "slide_type": "fragment"
    }
   },
   "source": [
    "- 对应价值型投资，买入便宜的资产长期持有以获得超额收益"
   ]
  },
  {
   "cell_type": "markdown",
   "metadata": {
    "slideshow": {
     "slide_type": "fragment"
    }
   },
   "source": [
    "- 典型指标\n",
    "    - 盈利收益率，$E/P$\n",
    "    - 市净率"
   ]
  },
  {
   "cell_type": "markdown",
   "metadata": {
    "slideshow": {
     "slide_type": "slide"
    }
   },
   "source": [
    "###### 成长因子"
   ]
  },
  {
   "cell_type": "markdown",
   "metadata": {
    "slideshow": {
     "slide_type": "fragment"
    }
   },
   "source": [
    "- 对应成长型投资，依据资产的历史增长水平对未来预测"
   ]
  },
  {
   "cell_type": "markdown",
   "metadata": {
    "slideshow": {
     "slide_type": "fragment"
    }
   },
   "source": [
    "- 典型指标\n",
    "    - 净资产收益率（ROE）\n",
    "    - 总资产收益率（ROA）\n",
    "    - 主营收入增长率\n",
    "    - 市盈率相对盈利增长比例，$PEG=\\frac{PE}{年盈利增长率}$"
   ]
  },
  {
   "cell_type": "markdown",
   "metadata": {
    "slideshow": {
     "slide_type": "slide"
    }
   },
   "source": [
    "###### 品质因子"
   ]
  },
  {
   "cell_type": "markdown",
   "metadata": {
    "slideshow": {
     "slide_type": "fragment"
    }
   },
   "source": [
    "- 持有高品质的资产，风险较低，较好保护投资者利益"
   ]
  },
  {
   "cell_type": "markdown",
   "metadata": {
    "slideshow": {
     "slide_type": "fragment"
    }
   },
   "source": [
    "- 典型指标\n",
    "    - 资产负债率\n",
    "    - 固定资产比例"
   ]
  },
  {
   "cell_type": "markdown",
   "metadata": {
    "slideshow": {
     "slide_type": "slide"
    }
   },
   "source": [
    "##### 期货交易相关因子"
   ]
  },
  {
   "cell_type": "markdown",
   "metadata": {
    "slideshow": {
     "slide_type": "fragment"
    }
   },
   "source": [
    "<center><img src=\"./img/models/futureMultiFactors.png\" width=100%></center>"
   ]
  },
  {
   "cell_type": "markdown",
   "metadata": {
    "slideshow": {
     "slide_type": "fragment"
    }
   },
   "source": [
    "- 近月收益率：近月合约的对数收益率，衡量捕捉当前价格波动的收益\n",
    "- 持有收益率：远月合约的对数收益率，衡量捕捉长期持有的收益"
   ]
  },
  {
   "cell_type": "markdown",
   "metadata": {
    "slideshow": {
     "slide_type": "slide"
    }
   },
   "source": [
    "###### 动量因子（momentum factor）"
   ]
  },
  {
   "cell_type": "markdown",
   "metadata": {
    "slideshow": {
     "slide_type": "fragment"
    }
   },
   "source": [
    "- 原理：过去上涨良好的商品未来还会上涨；过去下跌的商品未来还会下跌"
   ]
  },
  {
   "cell_type": "markdown",
   "metadata": {
    "slideshow": {
     "slide_type": "fragment"
    }
   },
   "source": [
    "- 因子构成\n",
    "    - 商品的超额收益在过去12个月内的均值"
   ]
  },
  {
   "cell_type": "markdown",
   "metadata": {
    "slideshow": {
     "slide_type": "slide"
    }
   },
   "source": [
    "###### 期限结构因子（term structure）"
   ]
  },
  {
   "cell_type": "markdown",
   "metadata": {
    "slideshow": {
     "slide_type": "fragment"
    }
   },
   "source": [
    "- 原理：存储理论（the theory of storage），该理论将期限结构与库存水平以及持有实物商品的的成本与收益联系起来"
   ]
  },
  {
   "cell_type": "markdown",
   "metadata": {
    "slideshow": {
     "slide_type": "fragment"
    }
   },
   "source": [
    "- 持有稀缺的商品，卖出供应充足的商品"
   ]
  },
  {
   "cell_type": "markdown",
   "metadata": {
    "slideshow": {
     "slide_type": "fragment"
    }
   },
   "source": [
    "- 因子构成\n",
    "    $$\\ln(f_{t,Front})-\\ln(f_{t,Second})$$\n",
    "    \n",
    "    - 其中，$\\ln(f_{t,Front})为准备建立仓位时候的近月合约价格对数$"
   ]
  },
  {
   "cell_type": "markdown",
   "metadata": {
    "slideshow": {
     "slide_type": "slide"
    }
   },
   "source": [
    "###### 波动率因子（volatility factor）"
   ]
  },
  {
   "cell_type": "markdown",
   "metadata": {
    "slideshow": {
     "slide_type": "fragment"
    }
   },
   "source": [
    "- 原理：价格波动性高的商品对外来的冲击更为敏感，但同时，也对跨期风险的承受能力弱，因此，持有这类商品的投资者会要求一个更高的回报"
   ]
  },
  {
   "cell_type": "markdown",
   "metadata": {
    "slideshow": {
     "slide_type": "fragment"
    }
   },
   "source": [
    "- 因子构成：变异系数\n",
    "\\begin{align}\n",
    "  &\\frac{\\sigma^2}{|\\mu|}\\\\\n",
    "  &\\sigma^2=\\frac{1}{D-1}\\sum_{d=1}^D(r_{d,Front}-\\mu)^2\\\\\n",
    "  &\\mu = \\frac{1}{D}\\sum_{d=1}^Dr_{d,Front}\n",
    "\\end{align}"
   ]
  },
  {
   "cell_type": "markdown",
   "metadata": {
    "slideshow": {
     "slide_type": "slide"
    }
   },
   "source": [
    "###### 价值因子（value factor）"
   ]
  },
  {
   "cell_type": "markdown",
   "metadata": {
    "slideshow": {
     "slide_type": "fragment"
    }
   },
   "source": [
    "- 原理：投资者的有限理性偏差导致价格出现异动，但是之后价格会向平均水平回归"
   ]
  },
  {
   "cell_type": "markdown",
   "metadata": {
    "slideshow": {
     "slide_type": "fragment"
    }
   },
   "source": [
    "- 长期盈利的商品在未来价格会下跌；长期低迷的商品在未来价格会上涨"
   ]
  },
  {
   "cell_type": "markdown",
   "metadata": {
    "slideshow": {
     "slide_type": "fragment"
    }
   },
   "source": [
    "- 因子构成\n",
    "\n",
    "\\begin{equation}\n",
    "  \\ln\\frac{\\frac{1}{D}\\sum_{d=1}^D f_{d,Front}}{f_{t,Front}}\n",
    "\\end{equation}"
   ]
  },
  {
   "cell_type": "markdown",
   "metadata": {
    "slideshow": {
     "slide_type": "slide"
    }
   },
   "source": [
    "###### 流动性因子（liquidity factor）"
   ]
  },
  {
   "cell_type": "markdown",
   "metadata": {
    "slideshow": {
     "slide_type": "fragment"
    }
   },
   "source": [
    "- 原理：持有流动性低的商品的投资者要求一个更高的期望回报"
   ]
  },
  {
   "cell_type": "markdown",
   "metadata": {
    "slideshow": {
     "slide_type": "fragment"
    }
   },
   "source": [
    "- 因子构成\n",
    "\\begin{equation}\n",
    "  LR=\\frac{1}{D}\\sum_{d=1}^D\\frac{Volume_d}{|r_d|}\n",
    "\\end{equation}"
   ]
  },
  {
   "cell_type": "markdown",
   "metadata": {
    "slideshow": {
     "slide_type": "slide"
    }
   },
   "source": [
    "###### 汇率因子"
   ]
  },
  {
   "cell_type": "markdown",
   "metadata": {
    "slideshow": {
     "slide_type": "fragment"
    }
   },
   "source": [
    "- 原理：美元币值与商品价格呈现负相关关系"
   ]
  },
  {
   "cell_type": "markdown",
   "metadata": {
    "slideshow": {
     "slide_type": "fragment"
    }
   },
   "source": [
    "- 因子构成\n",
    "    - $期货的月收益率=\\beta\\times 美元对主要货币的汇率变动+\\varepsilon$"
   ]
  },
  {
   "cell_type": "markdown",
   "metadata": {
    "slideshow": {
     "slide_type": "fragment"
    }
   },
   "source": [
    "- 对于美元$\\beta$系数更小的商品，投资者会要求一个更高的回报"
   ]
  },
  {
   "cell_type": "markdown",
   "metadata": {
    "slideshow": {
     "slide_type": "slide"
    }
   },
   "source": [
    "###### 通胀因子"
   ]
  },
  {
   "cell_type": "markdown",
   "metadata": {
    "slideshow": {
     "slide_type": "fragment"
    }
   },
   "source": [
    "- 原理：商品是对通胀的对冲"
   ]
  },
  {
   "cell_type": "markdown",
   "metadata": {
    "slideshow": {
     "slide_type": "fragment"
    }
   },
   "source": [
    "- 因子构成\n",
    "    - $期货的月收益率=\\beta\\times 通胀率的变动+\\varepsilon$"
   ]
  },
  {
   "cell_type": "markdown",
   "metadata": {
    "slideshow": {
     "slide_type": "fragment"
    }
   },
   "source": [
    "- 对于通胀$\\beta$系数更大的商品，投资者会要求一个更高的回报"
   ]
  },
  {
   "cell_type": "markdown",
   "metadata": {
    "slideshow": {
     "slide_type": "slide"
    }
   },
   "source": [
    "#### 有效因子识别"
   ]
  },
  {
   "cell_type": "markdown",
   "metadata": {
    "slideshow": {
     "slide_type": "fragment"
    }
   },
   "source": [
    "- 能够将公司股票收益率高低明显区别出来的因子"
   ]
  },
  {
   "cell_type": "markdown",
   "metadata": {
    "slideshow": {
     "slide_type": "fragment"
    }
   },
   "source": [
    "- 方法：两阶段回归方法，假设有$n$个股票、$T$个周期、$k$个因子 "
   ]
  },
  {
   "cell_type": "markdown",
   "metadata": {
    "slideshow": {
     "slide_type": "fragment"
    }
   },
   "source": [
    "1. 对于每个股票在时间序列上进行回归\n",
    "$$\n",
    "    r_{it}=a_i+\\beta_{i1}RP_1+\\beta_{i2}RP_2+\\cdots+\\beta_{ik}RP_k+\\varepsilon_{it}, t= 1,2,\\cdots,T, i=1,2,\\cdots,n\n",
    "$$\n",
    "    - $\\beta_{ik}$：股票$i$在因子$RP_k$上的风险暴露"
   ]
  },
  {
   "cell_type": "markdown",
   "metadata": {
    "slideshow": {
     "slide_type": "fragment"
    }
   },
   "source": [
    "2. 截面回归\n",
    "$$\n",
    "    E[r_{it}]=\\alpha_i+\\lambda_1\\beta_{i1}+\\lambda_2\\beta_{i2}+\\cdots+\\lambda_k\\beta_{ik}, i=1,2,\\cdots,n\n",
    "$$\n",
    "    - $E[r_{it}]$：股票$i$的收益率在$T$周期内的均值\n",
    "    - $\\lambda_k$：因子$RP_k$对个股收益率的影响作用\n",
    "    - 根据$\\lambda_k$大小确定因子"
   ]
  },
  {
   "cell_type": "markdown",
   "metadata": {
    "slideshow": {
     "slide_type": "slide"
    }
   },
   "source": [
    "#### 计算因子得分"
   ]
  },
  {
   "cell_type": "markdown",
   "metadata": {
    "slideshow": {
     "slide_type": "fragment"
    }
   },
   "source": [
    "- 针对每个筛选出来的因子，将所有股票在该因子上的风险暴露按照从大到小排序打分\n",
    "- 对每个因子设置一个权重\n",
    "- 计算每个股票在所有筛选出来的因子上得分的加权和，即每个股票的因子得分"
   ]
  },
  {
   "cell_type": "markdown",
   "metadata": {
    "slideshow": {
     "slide_type": "slide"
    }
   },
   "source": [
    "#### 选股策略"
   ]
  },
  {
   "cell_type": "markdown",
   "metadata": {
    "slideshow": {
     "slide_type": "fragment"
    }
   },
   "source": [
    "- 设定一个调整股票池的时间频率\n",
    "- 计算过去$T$个周期内，各个股票在因子上的风险暴露，加权得到因子得分\n",
    "- 将因子得分按照从大到小排序，选出前$m$个股票进入股票池，原先股票池中的股票因子得分较低的，剔出股票池"
   ]
  }
 ],
 "metadata": {
  "celltoolbar": "Slideshow",
  "hide_input": false,
  "kernelspec": {
   "display_name": "Python 3",
   "language": "python",
   "name": "python3"
  },
  "language_info": {
   "codemirror_mode": {
    "name": "ipython",
    "version": 3
   },
   "file_extension": ".py",
   "mimetype": "text/x-python",
   "name": "python",
   "nbconvert_exporter": "python",
   "pygments_lexer": "ipython3",
   "version": "3.6.8"
  },
  "toc": {
   "base_numbering": 1,
   "nav_menu": {},
   "number_sections": true,
   "sideBar": true,
   "skip_h1_title": false,
   "title_cell": "Table of Contents",
   "title_sidebar": "Contents",
   "toc_cell": false,
   "toc_position": {
    "height": "666.977px",
    "left": "46px",
    "top": "0px",
    "width": "307.453px"
   },
   "toc_section_display": true,
   "toc_window_display": false
  }
 },
 "nbformat": 4,
 "nbformat_minor": 2
}
