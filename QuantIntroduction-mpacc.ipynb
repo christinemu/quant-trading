{
 "cells": [
  {
   "cell_type": "code",
   "execution_count": 4,
   "metadata": {
    "init_cell": true,
    "slideshow": {
     "slide_type": "notes"
    }
   },
   "outputs": [],
   "source": [
    "import pandas as pd\n",
    "import pandas_datareader.data as web\n",
    "from datetime import datetime\n",
    "from IPython.core.interactiveshell import InteractiveShell \n",
    "InteractiveShell.ast_node_interactivity = 'all' #默认为'last'\n",
    "import matplotlib.pyplot as plt\n",
    "plt.rcParams['font.family']=['HYQuanTangShiJ']\n",
    "import mplfinance as mpf\n",
    "%matplotlib inline"
   ]
  },
  {
   "cell_type": "markdown",
   "metadata": {
    "slideshow": {
     "slide_type": "slide"
    }
   },
   "source": [
    "<div class=\"jumbotron\">\n",
    "    <p class=\"display-1 h1\"><font face=\"Source Han Serif CN SemiBold\">量化投资与交易<font></p>\n",
    "    <hr class=\"my-4\">\n",
    "    <p>主讲：李岩</p>\n",
    "    <p>管理学院</p>\n",
    "    <p>liyan@cumtb.edu.cn</p>\n",
    "</div>"
   ]
  },
  {
   "cell_type": "markdown",
   "metadata": {
    "slideshow": {
     "slide_type": "slide"
    }
   },
   "source": [
    "# 什么是量化交易？"
   ]
  },
  {
   "cell_type": "markdown",
   "metadata": {
    "slideshow": {
     "slide_type": "fragment"
    }
   },
   "source": [
    "## 量化交易的定义"
   ]
  },
  {
   "cell_type": "markdown",
   "metadata": {
    "slideshow": {
     "slide_type": "fragment"
    }
   },
   "source": [
    "<dl class=\"row text-info\">\n",
    "    <dt class=\"col-md-4\">量化</dt>\n",
    "    <dd class=\"col-md-8\">将抽象的逻辑关系用<strong>数学方式</strong>表达出来</dd>\n",
    "<dl>"
   ]
  },
  {
   "cell_type": "markdown",
   "metadata": {
    "slideshow": {
     "slide_type": "fragment"
    }
   },
   "source": [
    "<dl class=\"row text-danger\">\n",
    "    <dt class=\"col-md-4\"><span class=\"text-muted\">(金融)</span>交易</dt>\n",
    "    <dd class=\"col-md-8\">根据投资决策创立或者改变投资组合头寸的证券交易</dd>\n",
    "<dl>"
   ]
  },
  {
   "cell_type": "markdown",
   "metadata": {
    "slideshow": {
     "slide_type": "fragment"
    }
   },
   "source": [
    "- 头寸(position)：持有的特定商品、证券、货币等的数量"
   ]
  },
  {
   "cell_type": "markdown",
   "metadata": {
    "slideshow": {
     "slide_type": "slide"
    }
   },
   "source": [
    "<dl class=\"row\">\n",
    "    <dt class=\"col-md-4\">量化交易</dt>\n",
    "    <dd class=\"col-md-8\">运用数学模型(统计学、机器学习等)对历史数据进行量化分析以开发交易策略，利用计算机按照交易策略执行交易决策</dd>\n",
    "<dl>"
   ]
  },
  {
   "cell_type": "markdown",
   "metadata": {
    "slideshow": {
     "slide_type": "fragment"
    }
   },
   "source": [
    "- 数学模型：统计模型(回归模型、时间序列分析等)、机器学习(分类模型、聚类模型、文本挖掘等)"
   ]
  },
  {
   "cell_type": "markdown",
   "metadata": {
    "slideshow": {
     "slide_type": "fragment"
    }
   },
   "source": [
    "- 计算机技术：编程语言(Python、C++等)、数据存储技术(mysql、MongoDB、hdf5等)"
   ]
  },
  {
   "cell_type": "markdown",
   "metadata": {
    "slideshow": {
     "slide_type": "slide"
    }
   },
   "source": [
    "## 主观交易"
   ]
  },
  {
   "cell_type": "markdown",
   "metadata": {
    "slideshow": {
     "slide_type": "fragment"
    }
   },
   "source": [
    "<dl class=\"row\">\n",
    "    <dt class=\"col-md-4\">主观交易</dt>\n",
    "    <dd class=\"col-md-8\">投资者利用主观判断做出投资决策</dd>\n",
    "<dl>"
   ]
  },
  {
   "cell_type": "markdown",
   "metadata": {
    "slideshow": {
     "slide_type": "slide"
    }
   },
   "source": [
    "### 主观判断从哪儿来？"
   ]
  },
  {
   "cell_type": "markdown",
   "metadata": {
    "slideshow": {
     "slide_type": "fragment"
    }
   },
   "source": [
    "- 历史K线图"
   ]
  },
  {
   "cell_type": "code",
   "execution_count": 33,
   "metadata": {
    "slideshow": {
     "slide_type": "skip"
    }
   },
   "outputs": [
    {
     "data": {
      "text/html": [
       "<div>\n",
       "<style scoped>\n",
       "    .dataframe tbody tr th:only-of-type {\n",
       "        vertical-align: middle;\n",
       "    }\n",
       "\n",
       "    .dataframe tbody tr th {\n",
       "        vertical-align: top;\n",
       "    }\n",
       "\n",
       "    .dataframe thead th {\n",
       "        text-align: right;\n",
       "    }\n",
       "</style>\n",
       "<table border=\"1\" class=\"dataframe\">\n",
       "  <thead>\n",
       "    <tr style=\"text-align: right;\">\n",
       "      <th></th>\n",
       "      <th>High</th>\n",
       "      <th>Low</th>\n",
       "      <th>Open</th>\n",
       "      <th>Close</th>\n",
       "      <th>Volume</th>\n",
       "      <th>Adj Close</th>\n",
       "    </tr>\n",
       "    <tr>\n",
       "      <th>Date</th>\n",
       "      <th></th>\n",
       "      <th></th>\n",
       "      <th></th>\n",
       "      <th></th>\n",
       "      <th></th>\n",
       "      <th></th>\n",
       "    </tr>\n",
       "  </thead>\n",
       "  <tbody>\n",
       "    <tr>\n",
       "      <th>2019-01-02</th>\n",
       "      <td>612.000000</td>\n",
       "      <td>595.010010</td>\n",
       "      <td>609.979980</td>\n",
       "      <td>598.979980</td>\n",
       "      <td>6228649.0</td>\n",
       "      <td>583.424377</td>\n",
       "    </tr>\n",
       "    <tr>\n",
       "      <th>2019-01-03</th>\n",
       "      <td>601.659973</td>\n",
       "      <td>585.799988</td>\n",
       "      <td>599.969971</td>\n",
       "      <td>590.000000</td>\n",
       "      <td>3097735.0</td>\n",
       "      <td>574.677612</td>\n",
       "    </tr>\n",
       "    <tr>\n",
       "      <th>2019-01-04</th>\n",
       "      <td>607.669983</td>\n",
       "      <td>582.020020</td>\n",
       "      <td>587.280029</td>\n",
       "      <td>602.000000</td>\n",
       "      <td>3768347.0</td>\n",
       "      <td>586.366028</td>\n",
       "    </tr>\n",
       "    <tr>\n",
       "      <th>2019-01-07</th>\n",
       "      <td>610.299988</td>\n",
       "      <td>602.219971</td>\n",
       "      <td>587.280029</td>\n",
       "      <td>605.489990</td>\n",
       "      <td>3475013.0</td>\n",
       "      <td>589.765381</td>\n",
       "    </tr>\n",
       "    <tr>\n",
       "      <th>2019-01-08</th>\n",
       "      <td>612.000000</td>\n",
       "      <td>600.280029</td>\n",
       "      <td>605.500000</td>\n",
       "      <td>604.789978</td>\n",
       "      <td>2883813.0</td>\n",
       "      <td>589.083496</td>\n",
       "    </tr>\n",
       "    <tr>\n",
       "      <th>...</th>\n",
       "      <td>...</td>\n",
       "      <td>...</td>\n",
       "      <td>...</td>\n",
       "      <td>...</td>\n",
       "      <td>...</td>\n",
       "      <td>...</td>\n",
       "    </tr>\n",
       "    <tr>\n",
       "      <th>2020-11-04</th>\n",
       "      <td>1704.000000</td>\n",
       "      <td>1685.000000</td>\n",
       "      <td>1700.000000</td>\n",
       "      <td>1699.579956</td>\n",
       "      <td>1644371.0</td>\n",
       "      <td>1699.579956</td>\n",
       "    </tr>\n",
       "    <tr>\n",
       "      <th>2020-11-05</th>\n",
       "      <td>1732.479980</td>\n",
       "      <td>1712.099976</td>\n",
       "      <td>1717.000000</td>\n",
       "      <td>1721.900024</td>\n",
       "      <td>2352414.0</td>\n",
       "      <td>1721.900024</td>\n",
       "    </tr>\n",
       "    <tr>\n",
       "      <th>2020-11-06</th>\n",
       "      <td>1731.589966</td>\n",
       "      <td>1690.000000</td>\n",
       "      <td>1730.550049</td>\n",
       "      <td>1700.619995</td>\n",
       "      <td>2305153.0</td>\n",
       "      <td>1700.619995</td>\n",
       "    </tr>\n",
       "    <tr>\n",
       "      <th>2020-11-09</th>\n",
       "      <td>1750.680054</td>\n",
       "      <td>1700.619995</td>\n",
       "      <td>1701.380005</td>\n",
       "      <td>1742.569946</td>\n",
       "      <td>4146970.0</td>\n",
       "      <td>1742.569946</td>\n",
       "    </tr>\n",
       "    <tr>\n",
       "      <th>2020-11-10</th>\n",
       "      <td>1753.000000</td>\n",
       "      <td>1736.010010</td>\n",
       "      <td>1752.920044</td>\n",
       "      <td>1741.800049</td>\n",
       "      <td>595358.0</td>\n",
       "      <td>1741.800049</td>\n",
       "    </tr>\n",
       "  </tbody>\n",
       "</table>\n",
       "<p>448 rows × 6 columns</p>\n",
       "</div>"
      ],
      "text/plain": [
       "                   High          Low         Open        Close     Volume  \\\n",
       "Date                                                                        \n",
       "2019-01-02   612.000000   595.010010   609.979980   598.979980  6228649.0   \n",
       "2019-01-03   601.659973   585.799988   599.969971   590.000000  3097735.0   \n",
       "2019-01-04   607.669983   582.020020   587.280029   602.000000  3768347.0   \n",
       "2019-01-07   610.299988   602.219971   587.280029   605.489990  3475013.0   \n",
       "2019-01-08   612.000000   600.280029   605.500000   604.789978  2883813.0   \n",
       "...                 ...          ...          ...          ...        ...   \n",
       "2020-11-04  1704.000000  1685.000000  1700.000000  1699.579956  1644371.0   \n",
       "2020-11-05  1732.479980  1712.099976  1717.000000  1721.900024  2352414.0   \n",
       "2020-11-06  1731.589966  1690.000000  1730.550049  1700.619995  2305153.0   \n",
       "2020-11-09  1750.680054  1700.619995  1701.380005  1742.569946  4146970.0   \n",
       "2020-11-10  1753.000000  1736.010010  1752.920044  1741.800049   595358.0   \n",
       "\n",
       "              Adj Close  \n",
       "Date                     \n",
       "2019-01-02   583.424377  \n",
       "2019-01-03   574.677612  \n",
       "2019-01-04   586.366028  \n",
       "2019-01-07   589.765381  \n",
       "2019-01-08   589.083496  \n",
       "...                 ...  \n",
       "2020-11-04  1699.579956  \n",
       "2020-11-05  1721.900024  \n",
       "2020-11-06  1700.619995  \n",
       "2020-11-09  1742.569946  \n",
       "2020-11-10  1741.800049  \n",
       "\n",
       "[448 rows x 6 columns]"
      ]
     },
     "execution_count": 33,
     "metadata": {},
     "output_type": "execute_result"
    }
   ],
   "source": [
    "stockdf = web.DataReader('600519.SS','yahoo',start='2019-1-1',end='2020-11-11')\n",
    "stockdf"
   ]
  },
  {
   "cell_type": "code",
   "execution_count": 43,
   "metadata": {
    "slideshow": {
     "slide_type": "fragment"
    }
   },
   "outputs": [
    {
     "data": {
      "image/png": "[encoded data removed]",
      "text/plain": [
       "<Figure size 1150x575 with 4 Axes>"
      ]
     },
     "metadata": {},
     "output_type": "display_data"
    }
   ],
   "source": [
    "mc = mpf.make_marketcolors(up='#fe3032', down='#00b060', inherit=True)\n",
    "sty = mpf.make_mpf_style(base_mpf_style='yahoo',marketcolors=mc,rc={'font.family':'HYQuanTangShiJ'})\n",
    "mpf.plot(stockdf,type='candle',style=sty,volume=True,figratio=(12,6),figscale=1,title='贵州茅台600519',tight_layout=True,mav=(5,30))"
   ]
  },
  {
   "cell_type": "markdown",
   "metadata": {
    "slideshow": {
     "slide_type": "slide"
    }
   },
   "source": [
    "### 主观判断从哪儿来？<span class=\"text-muted\">(续)</span>"
   ]
  },
  {
   "cell_type": "markdown",
   "metadata": {
    "slideshow": {
     "slide_type": "fragment"
    }
   },
   "source": [
    "- 国际环境、财经新闻"
   ]
  },
  {
   "cell_type": "markdown",
   "metadata": {
    "slideshow": {
     "slide_type": "fragment"
    }
   },
   "source": [
    "<center><img src=\"./img/introduction/news.jpg\" width=100%></center>"
   ]
  },
  {
   "cell_type": "markdown",
   "metadata": {
    "slideshow": {
     "slide_type": "slide"
    }
   },
   "source": [
    "- 券商的研究报告"
   ]
  },
  {
   "cell_type": "markdown",
   "metadata": {
    "slideshow": {
     "slide_type": "fragment"
    }
   },
   "source": [
    "<center>\n",
    "    <div class=\"row\">\n",
    "        <div class=\"col-md-6\">\n",
    "            <img src=\"./img/introduction/instRep20190.jpg\" width=60%>\n",
    "        </div>\n",
    "        <div class=\"col-md-6\">\n",
    "            <img src=\"./img/introduction/instRep2019.jpg\" width=60%>\n",
    "        </div>\n",
    "    </div>\n",
    "</center>"
   ]
  },
  {
   "cell_type": "markdown",
   "metadata": {
    "slideshow": {
     "slide_type": "slide"
    }
   },
   "source": [
    "- 公司的财务报告"
   ]
  },
  {
   "cell_type": "markdown",
   "metadata": {
    "slideshow": {
     "slide_type": "fragment"
    }
   },
   "source": [
    "<center><img src=\"./img/introduction/financialReport.jpg\" width=100%></center>"
   ]
  },
  {
   "cell_type": "markdown",
   "metadata": {
    "slideshow": {
     "slide_type": "slide"
    }
   },
   "source": [
    "### 主观判断从哪儿来？<span class=\"text-muted\">(续)</span>"
   ]
  },
  {
   "cell_type": "markdown",
   "metadata": {
    "slideshow": {
     "slide_type": "fragment"
    }
   },
   "source": [
    "- 著名人物的演讲"
   ]
  },
  {
   "cell_type": "markdown",
   "metadata": {
    "slideshow": {
     "slide_type": "fragment"
    }
   },
   "source": [
    "<center><img src=\"./img/introduction/people.jpg\" width=100%></center>"
   ]
  },
  {
   "cell_type": "markdown",
   "metadata": {
    "slideshow": {
     "slide_type": "slide"
    }
   },
   "source": [
    "- 论坛、朋友圈等社交媒体"
   ]
  },
  {
   "cell_type": "markdown",
   "metadata": {
    "slideshow": {
     "slide_type": "fragment"
    }
   },
   "source": [
    "<center><img src=\"./img/introduction/snowBall.png\" width=50%></center>"
   ]
  },
  {
   "cell_type": "markdown",
   "metadata": {
    "slideshow": {
     "slide_type": "slide"
    }
   },
   "source": [
    "- 小道消息"
   ]
  },
  {
   "cell_type": "markdown",
   "metadata": {
    "slideshow": {
     "slide_type": "fragment"
    }
   },
   "source": [
    "<center><img src=\"./img/introduction/rumor.png\" width=100%></center>"
   ]
  },
  {
   "cell_type": "markdown",
   "metadata": {
    "slideshow": {
     "slide_type": "slide"
    }
   },
   "source": [
    "### 交易员"
   ]
  },
  {
   "cell_type": "markdown",
   "metadata": {
    "slideshow": {
     "slide_type": "fragment"
    }
   },
   "source": [
    "<dl class=\"row\">\n",
    "    <dt class=\"col-md-4\">交易员(trader)</dt>\n",
    "    <dd class=\"col-md-8\">\n",
    "        <p>在金融市场从事金融资产买卖的个体</p>\n",
    "        <p>可以代表自己、他人，或者机构交易</p>\n",
    "    </dd>\n",
    "<dl>"
   ]
  },
  {
   "cell_type": "markdown",
   "metadata": {
    "slideshow": {
     "slide_type": "fragment"
    }
   },
   "source": [
    "> 优秀的交易员是银行、证券公司（投资银行）、上市公司、基金、专业交易公司最舍得花重金招募的人才"
   ]
  },
  {
   "cell_type": "markdown",
   "metadata": {
    "slideshow": {
     "slide_type": "subslide"
    }
   },
   "source": [
    "<center><img src=\"./img/introduction/goldmansachs.png\" width=100%></center>"
   ]
  },
  {
   "cell_type": "markdown",
   "metadata": {
    "slideshow": {
     "slide_type": "slide"
    }
   },
   "source": [
    "##### 优秀的交易员"
   ]
  },
  {
   "cell_type": "markdown",
   "metadata": {
    "slideshow": {
     "slide_type": "fragment"
    }
   },
   "source": [
    "- 交易员应当具有的素质\n",
    "     - 果断\n",
    "     - 谨慎\n",
    "     - 耐得住寂寞\n",
    "     - 能够一定程度上克服人类固有的有限理性(bounded rationality)"
   ]
  },
  {
   "cell_type": "markdown",
   "metadata": {
    "slideshow": {
     "slide_type": "slide"
    }
   },
   "source": [
    "##### 典型的有限理性"
   ]
  },
  {
   "cell_type": "markdown",
   "metadata": {
    "slideshow": {
     "slide_type": "fragment"
    }
   },
   "source": [
    "###### 前景理论(prospect theory)"
   ]
  },
  {
   "cell_type": "markdown",
   "metadata": {
    "slideshow": {
     "slide_type": "fragment"
    }
   },
   "source": [
    "<center><img src=\"./img/introduction/prospecttest.jpeg\" width=100%></center>"
   ]
  },
  {
   "cell_type": "markdown",
   "metadata": {
    "slideshow": {
     "slide_type": "slide"
    }
   },
   "source": [
    "<center><img src=\"./img/introduction/prospect-theory.jpg\" width=100%></center>"
   ]
  },
  {
   "cell_type": "markdown",
   "metadata": {
    "slideshow": {
     "slide_type": "fragment"
    }
   },
   "source": [
    "- 大多数人在面临**获利**的时候是风险**规避**的"
   ]
  },
  {
   "cell_type": "markdown",
   "metadata": {
    "slideshow": {
     "slide_type": "fragment"
    }
   },
   "source": [
    "- 大多数人在面临**损失**的时候是风险**偏好**的"
   ]
  },
  {
   "cell_type": "markdown",
   "metadata": {
    "slideshow": {
     "slide_type": "fragment"
    }
   },
   "source": [
    "- 大多数人在损失的时候比盈利的时候更愿意承受风险，愿意承受较长时间的损失和较短时间的盈利"
   ]
  },
  {
   "cell_type": "markdown",
   "metadata": {
    "slideshow": {
     "slide_type": "slide"
    }
   },
   "source": [
    "###### 后见之明（Hindsight Bias）"
   ]
  },
  {
   "cell_type": "markdown",
   "metadata": {
    "slideshow": {
     "slide_type": "fragment"
    }
   },
   "source": [
    "- 当某个事件发生后，即使该事件是我们之前不能预测的，我们也觉得该事件是可以被预测到的"
   ]
  },
  {
   "cell_type": "markdown",
   "metadata": {
    "slideshow": {
     "slide_type": "fragment"
    }
   },
   "source": [
    "<center><img src=\"./img/introduction/hindsight.jfif\" width=50%></center>"
   ]
  },
  {
   "cell_type": "markdown",
   "metadata": {
    "slideshow": {
     "slide_type": "slide"
    }
   },
   "source": [
    "###### 过度自信(overconfidence)"
   ]
  },
  {
   "cell_type": "markdown",
   "metadata": {
    "slideshow": {
     "slide_type": "fragment"
    }
   },
   "source": [
    "<center><img src=\"./img/introduction/overconfidence.png\" width=40%></center>"
   ]
  },
  {
   "cell_type": "markdown",
   "metadata": {
    "slideshow": {
     "slide_type": "fragment"
    }
   },
   "source": [
    "- 高估自己的技术、能力，认为真实的自己比现在的自己要好"
   ]
  },
  {
   "cell_type": "markdown",
   "metadata": {
    "slideshow": {
     "slide_type": "slide"
    }
   },
   "source": [
    "- 表现\n",
    "    - 高于平均水平(better than average)\n",
    "    - 一切尽在掌控(illusion of control)\n",
    "    - 乐观的时间估计(timing optimism)：高估自己能在限定时间内完成任务，却低估任务需要花费的真实时间\n",
    "    - 需求效应(desirability effect)：高估自己希望发生的结果的出现概率"
   ]
  },
  {
   "cell_type": "markdown",
   "metadata": {
    "slideshow": {
     "slide_type": "slide"
    }
   },
   "source": [
    "###### 代表性法则(representativeness heuristic)"
   ]
  },
  {
   "cell_type": "markdown",
   "metadata": {
    "slideshow": {
     "slide_type": "fragment"
    }
   },
   "source": [
    "<center><img src=\"./img/introduction/represent.png\" width=50%></center>"
   ]
  },
  {
   "cell_type": "markdown",
   "metadata": {
    "slideshow": {
     "slide_type": "fragment"
    }
   },
   "source": [
    "- 基于面对的情况与我们头脑中的原型(prototype)之间的相似程度做出决策"
   ]
  },
  {
   "cell_type": "markdown",
   "metadata": {
    "slideshow": {
     "slide_type": "slide"
    }
   },
   "source": [
    "###### 羊群效应(herding mentality)"
   ]
  },
  {
   "cell_type": "markdown",
   "metadata": {
    "slideshow": {
     "slide_type": "fragment"
    }
   },
   "source": [
    "- 跟随或者复制他人的做法"
   ]
  },
  {
   "cell_type": "markdown",
   "metadata": {
    "slideshow": {
     "slide_type": "fragment"
    }
   },
   "source": [
    "- 原因：与大众相反在情感上和心理上都会不舒服"
   ]
  },
  {
   "cell_type": "markdown",
   "metadata": {
    "slideshow": {
     "slide_type": "slide"
    }
   },
   "source": [
    "###### 锚定效应(anchoring effects)"
   ]
  },
  {
   "cell_type": "markdown",
   "metadata": {
    "slideshow": {
     "slide_type": "fragment"
    }
   },
   "source": [
    "<center><img src=\"./img/introduction/anchoring.jfif\" width=50%></center>"
   ]
  },
  {
   "cell_type": "markdown",
   "metadata": {
    "slideshow": {
     "slide_type": "fragment"
    }
   },
   "source": [
    "- 当需要对某个事件做定量估计时，会将某些**特定数值**作为起始值，起始值像锚一样**制约**着估计值。在做决策的时候，会不自觉地给予**最初**获得的信息过多的重视"
   ]
  },
  {
   "cell_type": "markdown",
   "metadata": {
    "slideshow": {
     "slide_type": "slide"
    }
   },
   "source": [
    "##### 著名交易员"
   ]
  },
  {
   "cell_type": "markdown",
   "metadata": {
    "slideshow": {
     "slide_type": "fragment"
    }
   },
   "source": [
    "<ul class=\"list-inline\">\n",
    "    <li class=\"list-inline-item display-1\"><strong>乔治·索罗斯(George Soros)</strong></li>\n",
    "</ul>"
   ]
  },
  {
   "cell_type": "markdown",
   "metadata": {
    "slideshow": {
     "slide_type": "fragment"
    }
   },
   "source": [
    "<center><img src=\"./img/introduction/Soros.jpg\" width=50%></center>"
   ]
  },
  {
   "cell_type": "markdown",
   "metadata": {
    "slideshow": {
     "slide_type": "slide"
    }
   },
   "source": [
    "<ul class=\"list-inline\">\n",
    "    <li class=\"list-inline-item\"><strong>做空英镑</strong></li>\n",
    "</ul>"
   ]
  },
  {
   "cell_type": "markdown",
   "metadata": {
    "slideshow": {
     "slide_type": "fragment"
    }
   },
   "source": [
    "- 机会：英国要加入欧洲汇率机制，紧盯德国马克，施行固定汇率制，但是英国经济疲软"
   ]
  },
  {
   "cell_type": "markdown",
   "metadata": {
    "slideshow": {
     "slide_type": "fragment"
    }
   },
   "source": [
    "- 用100亿美元做空英镑，盈利至少10亿美元，迫使英国退出欧洲汇率机制"
   ]
  },
  {
   "cell_type": "code",
   "execution_count": 61,
   "metadata": {
    "slideshow": {
     "slide_type": "skip"
    }
   },
   "outputs": [
    {
     "data": {
      "text/html": [
       "<div>\n",
       "<style scoped>\n",
       "    .dataframe tbody tr th:only-of-type {\n",
       "        vertical-align: middle;\n",
       "    }\n",
       "\n",
       "    .dataframe tbody tr th {\n",
       "        vertical-align: top;\n",
       "    }\n",
       "\n",
       "    .dataframe thead th {\n",
       "        text-align: right;\n",
       "    }\n",
       "</style>\n",
       "<table border=\"1\" class=\"dataframe\">\n",
       "  <thead>\n",
       "    <tr style=\"text-align: right;\">\n",
       "      <th></th>\n",
       "      <th>DEXUSUK</th>\n",
       "    </tr>\n",
       "    <tr>\n",
       "      <th>DATE</th>\n",
       "      <th></th>\n",
       "    </tr>\n",
       "  </thead>\n",
       "  <tbody>\n",
       "    <tr>\n",
       "      <th>1992-01-01</th>\n",
       "      <td>NaN</td>\n",
       "    </tr>\n",
       "    <tr>\n",
       "      <th>1992-01-02</th>\n",
       "      <td>1.8680</td>\n",
       "    </tr>\n",
       "    <tr>\n",
       "      <th>1992-01-03</th>\n",
       "      <td>1.8450</td>\n",
       "    </tr>\n",
       "    <tr>\n",
       "      <th>1992-01-06</th>\n",
       "      <td>1.8770</td>\n",
       "    </tr>\n",
       "    <tr>\n",
       "      <th>1992-01-07</th>\n",
       "      <td>1.8710</td>\n",
       "    </tr>\n",
       "    <tr>\n",
       "      <th>...</th>\n",
       "      <td>...</td>\n",
       "    </tr>\n",
       "    <tr>\n",
       "      <th>1992-12-25</th>\n",
       "      <td>NaN</td>\n",
       "    </tr>\n",
       "    <tr>\n",
       "      <th>1992-12-28</th>\n",
       "      <td>1.5115</td>\n",
       "    </tr>\n",
       "    <tr>\n",
       "      <th>1992-12-29</th>\n",
       "      <td>1.5125</td>\n",
       "    </tr>\n",
       "    <tr>\n",
       "      <th>1992-12-30</th>\n",
       "      <td>1.5120</td>\n",
       "    </tr>\n",
       "    <tr>\n",
       "      <th>1992-12-31</th>\n",
       "      <td>1.5130</td>\n",
       "    </tr>\n",
       "  </tbody>\n",
       "</table>\n",
       "<p>262 rows × 1 columns</p>\n",
       "</div>"
      ],
      "text/plain": [
       "            DEXUSUK\n",
       "DATE               \n",
       "1992-01-01      NaN\n",
       "1992-01-02   1.8680\n",
       "1992-01-03   1.8450\n",
       "1992-01-06   1.8770\n",
       "1992-01-07   1.8710\n",
       "...             ...\n",
       "1992-12-25      NaN\n",
       "1992-12-28   1.5115\n",
       "1992-12-29   1.5125\n",
       "1992-12-30   1.5120\n",
       "1992-12-31   1.5130\n",
       "\n",
       "[262 rows x 1 columns]"
      ]
     },
     "execution_count": 61,
     "metadata": {},
     "output_type": "execute_result"
    }
   ],
   "source": [
    "gbp = web.DataReader('DEXUSUK','fred',start='1992-1-1',end='1992-12-31')\n",
    "gbp"
   ]
  },
  {
   "cell_type": "code",
   "execution_count": 69,
   "metadata": {
    "slideshow": {
     "slide_type": "skip"
    }
   },
   "outputs": [
    {
     "data": {
      "text/html": [
       "<div>\n",
       "<style scoped>\n",
       "    .dataframe tbody tr th:only-of-type {\n",
       "        vertical-align: middle;\n",
       "    }\n",
       "\n",
       "    .dataframe tbody tr th {\n",
       "        vertical-align: top;\n",
       "    }\n",
       "\n",
       "    .dataframe thead th {\n",
       "        text-align: right;\n",
       "    }\n",
       "</style>\n",
       "<table border=\"1\" class=\"dataframe\">\n",
       "  <thead>\n",
       "    <tr style=\"text-align: right;\">\n",
       "      <th></th>\n",
       "      <th>open</th>\n",
       "      <th>high</th>\n",
       "      <th>low</th>\n",
       "      <th>close</th>\n",
       "    </tr>\n",
       "    <tr>\n",
       "      <th>DATE</th>\n",
       "      <th></th>\n",
       "      <th></th>\n",
       "      <th></th>\n",
       "      <th></th>\n",
       "    </tr>\n",
       "  </thead>\n",
       "  <tbody>\n",
       "    <tr>\n",
       "      <th>1992-01-01</th>\n",
       "      <td>NaN</td>\n",
       "      <td>NaN</td>\n",
       "      <td>NaN</td>\n",
       "      <td>NaN</td>\n",
       "    </tr>\n",
       "    <tr>\n",
       "      <th>1992-01-02</th>\n",
       "      <td>1.8680</td>\n",
       "      <td>1.8680</td>\n",
       "      <td>1.8680</td>\n",
       "      <td>1.8680</td>\n",
       "    </tr>\n",
       "    <tr>\n",
       "      <th>1992-01-03</th>\n",
       "      <td>1.8450</td>\n",
       "      <td>1.8450</td>\n",
       "      <td>1.8450</td>\n",
       "      <td>1.8450</td>\n",
       "    </tr>\n",
       "    <tr>\n",
       "      <th>1992-01-06</th>\n",
       "      <td>1.8770</td>\n",
       "      <td>1.8770</td>\n",
       "      <td>1.8770</td>\n",
       "      <td>1.8770</td>\n",
       "    </tr>\n",
       "    <tr>\n",
       "      <th>1992-01-07</th>\n",
       "      <td>1.8710</td>\n",
       "      <td>1.8710</td>\n",
       "      <td>1.8710</td>\n",
       "      <td>1.8710</td>\n",
       "    </tr>\n",
       "    <tr>\n",
       "      <th>...</th>\n",
       "      <td>...</td>\n",
       "      <td>...</td>\n",
       "      <td>...</td>\n",
       "      <td>...</td>\n",
       "    </tr>\n",
       "    <tr>\n",
       "      <th>1992-12-25</th>\n",
       "      <td>NaN</td>\n",
       "      <td>NaN</td>\n",
       "      <td>NaN</td>\n",
       "      <td>NaN</td>\n",
       "    </tr>\n",
       "    <tr>\n",
       "      <th>1992-12-28</th>\n",
       "      <td>1.5115</td>\n",
       "      <td>1.5115</td>\n",
       "      <td>1.5115</td>\n",
       "      <td>1.5115</td>\n",
       "    </tr>\n",
       "    <tr>\n",
       "      <th>1992-12-29</th>\n",
       "      <td>1.5125</td>\n",
       "      <td>1.5125</td>\n",
       "      <td>1.5125</td>\n",
       "      <td>1.5125</td>\n",
       "    </tr>\n",
       "    <tr>\n",
       "      <th>1992-12-30</th>\n",
       "      <td>1.5120</td>\n",
       "      <td>1.5120</td>\n",
       "      <td>1.5120</td>\n",
       "      <td>1.5120</td>\n",
       "    </tr>\n",
       "    <tr>\n",
       "      <th>1992-12-31</th>\n",
       "      <td>1.5130</td>\n",
       "      <td>1.5130</td>\n",
       "      <td>1.5130</td>\n",
       "      <td>1.5130</td>\n",
       "    </tr>\n",
       "  </tbody>\n",
       "</table>\n",
       "<p>262 rows × 4 columns</p>\n",
       "</div>"
      ],
      "text/plain": [
       "              open    high     low   close\n",
       "DATE                                      \n",
       "1992-01-01     NaN     NaN     NaN     NaN\n",
       "1992-01-02  1.8680  1.8680  1.8680  1.8680\n",
       "1992-01-03  1.8450  1.8450  1.8450  1.8450\n",
       "1992-01-06  1.8770  1.8770  1.8770  1.8770\n",
       "1992-01-07  1.8710  1.8710  1.8710  1.8710\n",
       "...            ...     ...     ...     ...\n",
       "1992-12-25     NaN     NaN     NaN     NaN\n",
       "1992-12-28  1.5115  1.5115  1.5115  1.5115\n",
       "1992-12-29  1.5125  1.5125  1.5125  1.5125\n",
       "1992-12-30  1.5120  1.5120  1.5120  1.5120\n",
       "1992-12-31  1.5130  1.5130  1.5130  1.5130\n",
       "\n",
       "[262 rows x 4 columns]"
      ]
     },
     "execution_count": 69,
     "metadata": {},
     "output_type": "execute_result"
    }
   ],
   "source": [
    "gbpOhlc = gbp.resample('B').ohlc()\n",
    "gbpOhlc.columns = gbpOhlc.columns.get_level_values(1)\n",
    "gbpOhlc"
   ]
  },
  {
   "cell_type": "code",
   "execution_count": 75,
   "metadata": {
    "slideshow": {
     "slide_type": "fragment"
    }
   },
   "outputs": [
    {
     "data": {
      "image/png": "[encoded data removed]",
      "text/plain": [
       "<Figure size 1150x575 with 2 Axes>"
      ]
     },
     "metadata": {},
     "output_type": "display_data"
    }
   ],
   "source": [
    "mc = mpf.make_mpf_style(base_mpf_style='yahoo',rc={'font.family':'HYQuanTangShiJ'})\n",
    "mpf.plot(gbpOhlc,type='line',style=mc,figratio=(12,6),figscale=1,tight_layout=True,title='英镑兑美元',vlines={'vlines':'1992-9-16','linewidths':3,'colors':'r'})"
   ]
  },
  {
   "cell_type": "markdown",
   "metadata": {
    "slideshow": {
     "slide_type": "fragment"
    }
   },
   "source": [
    "<center><img src=\"./img/introduction/poundBkWed.jpg\" width=60%></center>"
   ]
  },
  {
   "cell_type": "markdown",
   "metadata": {
    "slideshow": {
     "slide_type": "slide"
    }
   },
   "source": [
    "<ul class=\"list-inline\">\n",
    "    <li class=\"list-inline-item display-1\"><strong>约翰·保尔森(John Paulson)</strong></li>\n",
    "</ul>"
   ]
  },
  {
   "cell_type": "markdown",
   "metadata": {
    "slideshow": {
     "slide_type": "fragment"
    }
   },
   "source": [
    "<center><img src=\"./img/introduction/Paulson.jpg\" width=40%></center>"
   ]
  },
  {
   "cell_type": "markdown",
   "metadata": {
    "slideshow": {
     "slide_type": "slide"
    }
   },
   "source": [
    "<ul class=\"list-inline\">\n",
    "    <li class=\"list-inline-item\"><strong>做空次贷</strong></li>\n",
    "</ul>"
   ]
  },
  {
   "cell_type": "markdown",
   "metadata": {
    "slideshow": {
     "slide_type": "fragment"
    }
   },
   "source": [
    "- 机会：房地产市场显得泡沫巨大，房价上涨过快，确信不动产市场被高估"
   ]
  },
  {
   "cell_type": "markdown",
   "metadata": {
    "slideshow": {
     "slide_type": "fragment"
    }
   },
   "source": [
    "- 盈利150亿美元"
   ]
  },
  {
   "cell_type": "markdown",
   "metadata": {
    "slideshow": {
     "slide_type": "slide"
    }
   },
   "source": [
    "<ul class=\"list-inline\">\n",
    "    <li class=\"list-inline-item display-1\"><strong>约翰·保尔森(John Paulson)</strong></li>\n",
    "</ul>"
   ]
  },
  {
   "cell_type": "markdown",
   "metadata": {
    "slideshow": {
     "slide_type": "fragment"
    }
   },
   "source": [
    "- 在金矿的ETF中建立多头头寸"
   ]
  },
  {
   "cell_type": "markdown",
   "metadata": {
    "slideshow": {
     "slide_type": "fragment"
    }
   },
   "source": [
    "<center><img src=\"./img/introduction/gold-chart-init.jpg\" width=20%></center> "
   ]
  },
  {
   "cell_type": "markdown",
   "metadata": {
    "slideshow": {
     "slide_type": "slide"
    }
   },
   "source": [
    "<center><img src=\"./img/introduction/gold-chart-top.jpg\" width=20%></center>"
   ]
  },
  {
   "cell_type": "markdown",
   "metadata": {
    "slideshow": {
     "slide_type": "fragment"
    }
   },
   "source": [
    "- 2011年达到最大值，\\$63/share"
   ]
  },
  {
   "cell_type": "markdown",
   "metadata": {
    "slideshow": {
     "slide_type": "fragment"
    }
   },
   "source": [
    "<center><img src=\"./img/introduction/gold-chart-down.jpg\" width=50%></center>"
   ]
  },
  {
   "cell_type": "markdown",
   "metadata": {
    "slideshow": {
     "slide_type": "slide"
    }
   },
   "source": [
    "<center><img src=\"./img/introduction/gold-chart.png\" width=80%></center>"
   ]
  },
  {
   "cell_type": "markdown",
   "metadata": {
    "slideshow": {
     "slide_type": "fragment"
    }
   },
   "source": [
    "- 2011年投入380亿美元"
   ]
  },
  {
   "cell_type": "markdown",
   "metadata": {
    "slideshow": {
     "slide_type": "fragment"
    }
   },
   "source": [
    "- 当前只剩余90亿美元"
   ]
  },
  {
   "cell_type": "markdown",
   "metadata": {
    "slideshow": {
     "slide_type": "slide"
    }
   },
   "source": [
    "##### 失败的交易员"
   ]
  },
  {
   "cell_type": "markdown",
   "metadata": {
    "slideshow": {
     "slide_type": "fragment"
    }
   },
   "source": [
    "<ul class=\"list-inline\">\n",
    "    <li class=\"list-inline-item display-1\"><strong>陈久霖</strong></li>\n",
    "</ul>"
   ]
  },
  {
   "cell_type": "markdown",
   "metadata": {
    "slideshow": {
     "slide_type": "fragment"
    }
   },
   "source": [
    "<center><img src=\"./img/introduction/chenjiulin.jpg\" width=50%></center>"
   ]
  },
  {
   "cell_type": "markdown",
   "metadata": {
    "slideshow": {
     "slide_type": "slide"
    }
   },
   "source": [
    "- 从事石油衍生品期权交易，赌石油价格回落，事实却是石油价格一路飙升"
   ]
  },
  {
   "cell_type": "markdown",
   "metadata": {
    "slideshow": {
     "slide_type": "fragment"
    }
   },
   "source": [
    "- 亏损5.54亿美元"
   ]
  },
  {
   "cell_type": "markdown",
   "metadata": {
    "slideshow": {
     "slide_type": "fragment"
    }
   },
   "source": [
    "- 失败原因：逆势交易，没有设定止损"
   ]
  },
  {
   "cell_type": "markdown",
   "metadata": {
    "slideshow": {
     "slide_type": "slide"
    }
   },
   "source": [
    "<ul class=\"list-inline\">\n",
    "    <li class=\"list-inline-item display-1\"><strong>中国银行“原油宝”事件</strong></li>\n",
    "</ul>"
   ]
  },
  {
   "cell_type": "markdown",
   "metadata": {
    "slideshow": {
     "slide_type": "fragment"
    }
   },
   "source": [
    "- 出现<mark>负</mark>油价"
   ]
  },
  {
   "cell_type": "markdown",
   "metadata": {
    "slideshow": {
     "slide_type": "fragment"
    }
   },
   "source": [
    "<center><img src=\"./img/introduction/wtioil.png\" width=80%></center>"
   ]
  },
  {
   "cell_type": "markdown",
   "metadata": {
    "slideshow": {
     "slide_type": "fragment"
    }
   },
   "source": [
    "<center><img src=\"./img/introduction/yuanyoubao.jpeg\" width=50%></center>"
   ]
  },
  {
   "cell_type": "markdown",
   "metadata": {
    "slideshow": {
     "slide_type": "slide"
    }
   },
   "source": [
    "- 亏算原因：中行未及时移仓换月"
   ]
  },
  {
   "cell_type": "markdown",
   "metadata": {
    "slideshow": {
     "slide_type": "fragment"
    }
   },
   "source": [
    "<center><img src=\"./img/introduction/yuanyoubaobill.jpeg\" width=30%></center>"
   ]
  },
  {
   "cell_type": "markdown",
   "metadata": {
    "slideshow": {
     "slide_type": "slide"
    }
   },
   "source": [
    "## 量化交易的特点"
   ]
  },
  {
   "cell_type": "markdown",
   "metadata": {
    "slideshow": {
     "slide_type": "fragment"
    }
   },
   "source": [
    "- 方法科学，建立在数学模型与大规模数据回测实验基础之上"
   ]
  },
  {
   "cell_type": "markdown",
   "metadata": {
    "slideshow": {
     "slide_type": "fragment"
    }
   },
   "source": [
    "- 纪律性强，剔除人为不稳定因素"
   ]
  },
  {
   "cell_type": "markdown",
   "metadata": {
    "slideshow": {
     "slide_type": "fragment"
    }
   },
   "source": [
    "- 响应迅速，计算机执行可以达到纳秒级别，而大脑判断到手指敲在键盘的反应时间是几百毫秒"
   ]
  },
  {
   "cell_type": "markdown",
   "metadata": {
    "slideshow": {
     "slide_type": "fragment"
    }
   },
   "source": [
    "- 自动化连续交易"
   ]
  },
  {
   "cell_type": "markdown",
   "metadata": {
    "slideshow": {
     "slide_type": "slide"
    }
   },
   "source": [
    "# 量化交易的研究对象及参与者"
   ]
  },
  {
   "cell_type": "markdown",
   "metadata": {
    "slideshow": {
     "slide_type": "fragment"
    }
   },
   "source": [
    "## 研究对象"
   ]
  },
  {
   "cell_type": "markdown",
   "metadata": {
    "slideshow": {
     "slide_type": "fragment"
    }
   },
   "source": [
    "- 数据，<span class=\"text-primary\"><strong>量化交易的基础</strong></span>\n",
    "    - 历史交易数据\n",
    "    - 基本面数据"
   ]
  },
  {
   "cell_type": "markdown",
   "metadata": {
    "slideshow": {
     "slide_type": "fragment"
    }
   },
   "source": [
    "- 交易策略，<span class=\"text-danger\"><strong>量化交易的核心</strong></span>\n",
    "    - 被动交易策略 v.s. 主动交易策略：市场有效假说是否成立"
   ]
  },
  {
   "cell_type": "markdown",
   "metadata": {
    "slideshow": {
     "slide_type": "fragment"
    }
   },
   "source": [
    "<center><img src=\"./img/introduction/hs300.png\" width=80%></center>"
   ]
  },
  {
   "cell_type": "markdown",
   "metadata": {
    "slideshow": {
     "slide_type": "slide"
    }
   },
   "source": [
    "##### 有效市场假说"
   ]
  },
  {
   "cell_type": "markdown",
   "metadata": {
    "slideshow": {
     "slide_type": "fragment"
    }
   },
   "source": [
    "- 有效市场假说（efficient market hypothesis）在1965年由尤金·法玛（Eugene Fama，美国芝加哥大学教授）提出"
   ]
  },
  {
   "cell_type": "markdown",
   "metadata": {
    "slideshow": {
     "slide_type": "fragment"
    }
   },
   "source": [
    "<center><img src=\"./img/introduction/fama1.jpg\" width=20%></center>\n",
    "<p class=\"text text-danger h3\">the father of modern finance</p>"
   ]
  },
  {
   "cell_type": "markdown",
   "metadata": {
    "slideshow": {
     "slide_type": "slide"
    }
   },
   "source": [
    "> 股票价格反映了所有的信息，因此，从长期来看投资者**不能**获得超过一般水平的回报"
   ]
  },
  {
   "cell_type": "markdown",
   "metadata": {
    "slideshow": {
     "slide_type": "fragment"
    }
   },
   "source": [
    "- 股票价格总是按照公允价值在交易\n",
    "- 投资者**不能**发现低估或者高估的股票\n",
    "- 不能通过**选股**或者**择时**获取超额回报\n",
    "- 技术分析和基本面分析都是无效的"
   ]
  },
  {
   "cell_type": "markdown",
   "metadata": {
    "slideshow": {
     "slide_type": "subslide"
    }
   },
   "source": [
    "> 把一只猴子的眼睛蒙起来，让它通过乱扔飞镖去选股票，其回报都能和基金经理差不多"
   ]
  },
  {
   "cell_type": "markdown",
   "metadata": {
    "slideshow": {
     "slide_type": "fragment"
    }
   },
   "source": [
    "<center><img src=\"./img/introduction/emh.jpg\" width=50%></center>"
   ]
  },
  {
   "cell_type": "markdown",
   "metadata": {
    "slideshow": {
     "slide_type": "slide"
    }
   },
   "source": [
    "## 参与者"
   ]
  },
  {
   "cell_type": "markdown",
   "metadata": {
    "slideshow": {
     "slide_type": "fragment"
    }
   },
   "source": [
    "<center><img src=\"./img/introduction/participants.png\" width=80%></center>"
   ]
  },
  {
   "cell_type": "markdown",
   "metadata": {
    "slideshow": {
     "slide_type": "slide"
    }
   },
   "source": [
    "### 做市商"
   ]
  },
  {
   "cell_type": "markdown",
   "metadata": {
    "slideshow": {
     "slide_type": "fragment"
    }
   },
   "source": [
    "- market-maker，指在证券市场上，由具备一定实力和信誉的证券经营法人作为特许交易商，不断地向公众投资者报出某些特定证券的买卖价格（即双向报价），并在该价位上接受公众投资者的买卖要求，以其自有资金和证券与投资者进行证券交易"
   ]
  },
  {
   "cell_type": "markdown",
   "metadata": {
    "slideshow": {
     "slide_type": "fragment"
    }
   },
   "source": [
    "<center><img src=\"./img/introduction/market-maker.png\" width=50%></center>"
   ]
  },
  {
   "cell_type": "markdown",
   "metadata": {
    "slideshow": {
     "slide_type": "fragment"
    }
   },
   "source": [
    "- 作用：为市场提供流动性"
   ]
  },
  {
   "cell_type": "markdown",
   "metadata": {
    "slideshow": {
     "slide_type": "slide"
    }
   },
   "source": [
    "### 对冲基金"
   ]
  },
  {
   "cell_type": "markdown",
   "metadata": {
    "slideshow": {
     "slide_type": "fragment"
    }
   },
   "source": [
    "- hedge fund，属于另类投资(alternative investment)，使用集合基金(pooled funds)通过多种交易策略赚取高额收益"
   ]
  },
  {
   "cell_type": "markdown",
   "metadata": {
    "slideshow": {
     "slide_type": "fragment"
    }
   },
   "source": [
    "- 目标：不论价格上升还是下降，都能获得非常有吸引力的收益"
   ]
  },
  {
   "cell_type": "markdown",
   "metadata": {
    "slideshow": {
     "slide_type": "fragment"
    }
   },
   "source": [
    "- 实现：构建**持仓方向相反**的投资组合"
   ]
  },
  {
   "cell_type": "markdown",
   "metadata": {
    "slideshow": {
     "slide_type": "slide"
    }
   },
   "source": [
    "# 量化交易的影响"
   ]
  },
  {
   "cell_type": "markdown",
   "metadata": {
    "slideshow": {
     "slide_type": "fragment"
    }
   },
   "source": [
    "## 对交易执行的影响"
   ]
  },
  {
   "cell_type": "markdown",
   "metadata": {
    "slideshow": {
     "slide_type": "fragment"
    }
   },
   "source": [
    "- 提高交易效率"
   ]
  },
  {
   "cell_type": "markdown",
   "metadata": {
    "slideshow": {
     "slide_type": "fragment"
    }
   },
   "source": [
    "- 降低交易成本$\\to$提升流动性$\\to$缩小买卖价差"
   ]
  },
  {
   "cell_type": "markdown",
   "metadata": {
    "slideshow": {
     "slide_type": "slide"
    }
   },
   "source": [
    "## 对参与者的影响"
   ]
  },
  {
   "cell_type": "markdown",
   "metadata": {
    "slideshow": {
     "slide_type": "fragment"
    }
   },
   "source": [
    "- 机构交易者的增加"
   ]
  },
  {
   "cell_type": "markdown",
   "metadata": {
    "slideshow": {
     "slide_type": "fragment"
    }
   },
   "source": [
    "- 交易人员组成结构变化：注重数理逻辑、金融工程、计算机技术背景"
   ]
  },
  {
   "cell_type": "markdown",
   "metadata": {
    "slideshow": {
     "slide_type": "fragment"
    }
   },
   "source": [
    "- 交易执行向买方转移：买方研发交易策略"
   ]
  },
  {
   "cell_type": "markdown",
   "metadata": {
    "slideshow": {
     "slide_type": "subslide"
    }
   },
   "source": [
    "##### Qantopian"
   ]
  },
  {
   "cell_type": "markdown",
   "metadata": {
    "slideshow": {
     "slide_type": "fragment"
    }
   },
   "source": [
    "- 提供在线策略编写、回测、交易服务及社区交流的众包型量化投资平台\n",
    "- 用户不仅能通过提交Python策略程序进行在线历史数据回测，同时也可以将交易策略投入实盘交易\n",
    "- [https://www.quantopian.com/](https://www.quantopian.com/)"
   ]
  },
  {
   "cell_type": "markdown",
   "metadata": {
    "slideshow": {
     "slide_type": "slide"
    }
   },
   "source": [
    "## 对市场的影响"
   ]
  },
  {
   "cell_type": "markdown",
   "metadata": {
    "slideshow": {
     "slide_type": "fragment"
    }
   },
   "source": [
    "- 增加市场瞬时波动率"
   ]
  },
  {
   "cell_type": "markdown",
   "metadata": {
    "slideshow": {
     "slide_type": "slide"
    }
   },
   "source": [
    "# 量化交易的发展现状"
   ]
  },
  {
   "cell_type": "markdown",
   "metadata": {
    "slideshow": {
     "slide_type": "fragment"
    }
   },
   "source": [
    "<ul class=\"list-inline\">\n",
    "    <li class=\"list-inline-item display-1\"><strong>爱德华·索普(Edward Thorp)</strong></li>\n",
    "</ul>\n",
    "\n",
    "<center>\n",
    "    <img src=\"./img/introduction/edward-o-thorp.jpg\" width=30%>\n",
    "</center>"
   ]
  },
  {
   "cell_type": "markdown",
   "metadata": {
    "slideshow": {
     "slide_type": "fragment"
    }
   },
   "source": [
    "- 数学教授、发明家、畅销书作者、对冲基金经理、赌徒"
   ]
  },
  {
   "cell_type": "markdown",
   "metadata": {
    "slideshow": {
     "slide_type": "fragment"
    }
   },
   "source": [
    "- 早于Black & Scholes发明并应用了期权定价模型"
   ]
  },
  {
   "cell_type": "markdown",
   "metadata": {
    "slideshow": {
     "slide_type": "fragment"
    }
   },
   "source": [
    "- 发明第一种可穿戴计算设备（与Claude Shannon合作）\n",
    "\n",
    "[E. O. Thorp, \"The invention of the first wearable computer,\" Digest of Papers. Second International Symposium on Wearable Computers, 1998, pp. 4-8](https://ieeexplore.ieee.org/document/729523/authors#authors)"
   ]
  },
  {
   "cell_type": "markdown",
   "metadata": {
    "slideshow": {
     "slide_type": "fragment"
    }
   },
   "source": [
    "<center>\n",
    "    <img src=\"./img/introduction/ThorpBooks.png\" width=80%>\n",
    "</center>"
   ]
  },
  {
   "cell_type": "markdown",
   "metadata": {
    "slideshow": {
     "slide_type": "fragment"
    }
   },
   "source": [
    "- 将数学引入到赌博中"
   ]
  },
  {
   "cell_type": "markdown",
   "metadata": {
    "slideshow": {
     "slide_type": "fragment"
    }
   },
   "source": [
    "- 将数学引入到金融产品交易中"
   ]
  },
  {
   "cell_type": "markdown",
   "metadata": {
    "slideshow": {
     "slide_type": "slide"
    }
   },
   "source": [
    "<ul class=\"list-inline\">\n",
    "    <li class=\"list-inline-item display-1\"><strong>詹姆斯·西蒙斯(James Harris Simons)</strong></li>\n",
    "</ul>\n",
    "\n",
    "<center>\n",
    "    <img src=\"./img/introduction/simons.jpg\" width=40%>\n",
    "</center>"
   ]
  },
  {
   "cell_type": "markdown",
   "metadata": {
    "slideshow": {
     "slide_type": "fragment"
    }
   },
   "source": [
    "- 数学教授、创立文艺复兴科技公司（Renaissance Technologies）"
   ]
  },
  {
   "cell_type": "markdown",
   "metadata": {
    "slideshow": {
     "slide_type": "fragment"
    }
   },
   "source": [
    "- 与陈省身共同创立Chern-Simons拓扑几何理论"
   ]
  },
  {
   "cell_type": "markdown",
   "metadata": {
    "slideshow": {
     "slide_type": "fragment"
    }
   },
   "source": [
    "<center>\n",
    "    <img src=\"./img/introduction/Renaissance.png\" width=60%>\n",
    "</center>"
   ]
  },
  {
   "cell_type": "markdown",
   "metadata": {
    "slideshow": {
     "slide_type": "fragment"
    }
   },
   "source": [
    "> With **enough data**, **computational power** and **modeling experience**, it’s possible to deduce many of the **hidden** factors moving the security prices otherwise invisible to other investors"
   ]
  },
  {
   "cell_type": "markdown",
   "metadata": {
    "slideshow": {
     "slide_type": "slide"
    }
   },
   "source": [
    "<center><img src=\"./img/introduction/quantNow.png\" width=70%></center>"
   ]
  },
  {
   "cell_type": "markdown",
   "metadata": {
    "slideshow": {
     "slide_type": "slide"
    }
   },
   "source": [
    "<center>\n",
    "    <img src=\"./img/introduction/publicfunds.png\" width=70%>\n",
    "</center>"
   ]
  },
  {
   "cell_type": "markdown",
   "metadata": {
    "slideshow": {
     "slide_type": "fragment"
    }
   },
   "source": [
    "- 2020年，全市场量化基金规模突破万亿，其中私募量化基金规模约7600亿"
   ]
  },
  {
   "cell_type": "markdown",
   "metadata": {
    "slideshow": {
     "slide_type": "slide"
    }
   },
   "source": [
    "- 国内量化交易平台\n",
    "\n",
    "名称|网址\n",
    ":---|:---\n",
    "聚宽|[https://www.joinquant.com/](https://www.joinquant.com/)\n",
    "天勤量化|[https://www.shinnytech.com/tianqin/](https://www.shinnytech.com/tianqin/)\n",
    "BigQuant|[https://bigquant.com/](https://bigquant.com/)\n",
    "掘金量化|[https://www.myquant.cn/](https://www.myquant.cn/)\n",
    "vn.py|[https://www.vnpy.com/](https://www.vnpy.com/)"
   ]
  },
  {
   "cell_type": "markdown",
   "metadata": {
    "slideshow": {
     "slide_type": "slide"
    }
   },
   "source": [
    "# 课程安排"
   ]
  },
  {
   "cell_type": "markdown",
   "metadata": {
    "slideshow": {
     "slide_type": "fragment"
    }
   },
   "source": [
    "## 课程体系结构"
   ]
  },
  {
   "cell_type": "markdown",
   "metadata": {
    "slideshow": {
     "slide_type": "fragment"
    }
   },
   "source": [
    "<center><img src=\"./img/introduction/courseStructNew.png\" width=50%></center>"
   ]
  },
  {
   "cell_type": "markdown",
   "metadata": {
    "slideshow": {
     "slide_type": "slide"
    }
   },
   "source": [
    "## 授课方式"
   ]
  },
  {
   "cell_type": "markdown",
   "metadata": {
    "slideshow": {
     "slide_type": "fragment"
    }
   },
   "source": [
    "- 课程网址\n",
    "    - [https://calcures.com:9001/mmpacc](https://calcures.com:9001/mmpacc)"
   ]
  },
  {
   "cell_type": "markdown",
   "metadata": {
    "slideshow": {
     "slide_type": "slide"
    }
   },
   "source": [
    "## 考核方式 "
   ]
  },
  {
   "cell_type": "markdown",
   "metadata": {
    "slideshow": {
     "slide_type": "fragment"
    }
   },
   "source": [
    "- 开发量化投资/交易策略"
   ]
  }
 ],
 "metadata": {
  "celltoolbar": "Slideshow",
  "hide_input": false,
  "kernelspec": {
   "display_name": "Python 3",
   "language": "python",
   "name": "python3"
  },
  "language_info": {
   "codemirror_mode": {
    "name": "ipython",
    "version": 3
   },
   "file_extension": ".py",
   "mimetype": "text/x-python",
   "name": "python",
   "nbconvert_exporter": "python",
   "pygments_lexer": "ipython3",
   "version": "3.6.8"
  },
  "toc": {
   "base_numbering": 1,
   "nav_menu": {},
   "number_sections": true,
   "sideBar": true,
   "skip_h1_title": false,
   "title_cell": "Table of Contents",
   "title_sidebar": "Contents",
   "toc_cell": false,
   "toc_position": {
    "height": "calc(100% - 180px)",
    "left": "10px",
    "top": "150px",
    "width": "237.057px"
   },
   "toc_section_display": true,
   "toc_window_display": false
  }
 },
 "nbformat": 4,
 "nbformat_minor": 4
}
