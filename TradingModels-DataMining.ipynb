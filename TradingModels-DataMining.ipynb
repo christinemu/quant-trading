{
 "cells": [
  {
   "cell_type": "code",
   "execution_count": 356,
   "metadata": {
    "init_cell": true,
    "slideshow": {
     "slide_type": "notes"
    }
   },
   "outputs": [],
   "source": [
    "import pandas as pd\n",
    "import numpy as np\n",
    "import matplotlib.pyplot as plt\n",
    "from mpl_toolkits.mplot3d import Axes3D\n",
    "import mplfinance as mpf\n",
    "import talib\n",
    "from sklearn import tree, ensemble, model_selection, cluster, metrics, neural_network,preprocessing\n",
    "from sklearn.feature_extraction import text\n",
    "import jieba\n",
    "from IPython.display import display\n",
    "from IPython.core.interactiveshell import InteractiveShell\n",
    "InteractiveShell.ast_node_interactivity = \"all\""
   ]
  },
  {
   "cell_type": "markdown",
   "metadata": {
    "slideshow": {
     "slide_type": "slide"
    }
   },
   "source": [
    "<div class=\"jumbotron\">\n",
    "    <p class=\"display-1 h1\">Alpha模型——数据驱动</p>\n",
    "    <hr class=\"my-4\">\n",
    "    <p>主讲：李岩</p>\n",
    "    <p>管理学院</p>\n",
    "    <p>liyan@cumtb.edu.cn</p>\n",
    "</div>"
   ]
  },
  {
   "cell_type": "markdown",
   "metadata": {
    "slideshow": {
     "slide_type": "slide"
    }
   },
   "source": [
    "# 数据挖掘基础"
   ]
  },
  {
   "cell_type": "markdown",
   "metadata": {
    "slideshow": {
     "slide_type": "fragment"
    }
   },
   "source": [
    "## 数据挖掘"
   ]
  },
  {
   "cell_type": "markdown",
   "metadata": {
    "slideshow": {
     "slide_type": "fragment"
    }
   },
   "source": [
    "<dl class=\"row alert-info\">\n",
    "    <dt class=\"col-md-3\">数据挖掘</dt>\n",
    "    <dd class=\"col-md-9\">从大量的数据中通过<strong>算法</strong>搜索<strong>隐藏</strong>于其中的信息的过程。</dd>\n",
    "</dl>"
   ]
  },
  {
   "cell_type": "markdown",
   "metadata": {
    "slideshow": {
     "slide_type": "slide"
    }
   },
   "source": [
    "### 应用领域广泛"
   ]
  },
  {
   "cell_type": "markdown",
   "metadata": {
    "slideshow": {
     "slide_type": "fragment"
    }
   },
   "source": [
    "- 金融\n",
    "    + 信用卡交易反欺诈\n",
    "    + 贷款申请反欺诈\n",
    "    + 反洗钱\n",
    "    + 推荐基金产品、保险产品等"
   ]
  },
  {
   "cell_type": "markdown",
   "metadata": {
    "slideshow": {
     "slide_type": "fragment"
    }
   },
   "source": [
    "- 电子商务（零售）\n",
    "    + 推荐商品\n",
    "    + 交叉销售\n",
    "    + 销量预测等"
   ]
  },
  {
   "cell_type": "markdown",
   "metadata": {
    "slideshow": {
     "slide_type": "fragment"
    }
   },
   "source": [
    "- 媒体\n",
    "    + 推荐相关内容，例如今日头条、抖音等"
   ]
  },
  {
   "cell_type": "markdown",
   "metadata": {
    "slideshow": {
     "slide_type": "fragment"
    }
   },
   "source": [
    "- 能源\n",
    "    + 捕捉危险事件\n",
    "    + 电力需求预测\n",
    "    + 根据实时能源价格优化能源分配"
   ]
  },
  {
   "cell_type": "markdown",
   "metadata": {
    "slideshow": {
     "slide_type": "fragment"
    }
   },
   "source": [
    "- 医药\n",
    "    + 疾病鉴别诊断\n",
    "    + 药物研发\n",
    "    + 智能健康电子记录\n",
    "    + 流行病爆发预测"
   ]
  },
  {
   "cell_type": "markdown",
   "metadata": {
    "slideshow": {
     "slide_type": "fragment"
    }
   },
   "source": [
    "- 电信\n",
    "    + 客户流失预测"
   ]
  },
  {
   "cell_type": "markdown",
   "metadata": {
    "slideshow": {
     "slide_type": "slide"
    }
   },
   "source": [
    "### 挖掘算法分类"
   ]
  },
  {
   "cell_type": "markdown",
   "metadata": {
    "slideshow": {
     "slide_type": "fragment"
    }
   },
   "source": [
    "<center>\n",
    "    <img src=\"./img/dataMining/miningAlgo.png\" width=100%>\n",
    "</center>"
   ]
  },
  {
   "cell_type": "markdown",
   "metadata": {
    "slideshow": {
     "slide_type": "slide"
    }
   },
   "source": [
    "#### 监督学习v.s.无监督学习"
   ]
  },
  {
   "cell_type": "markdown",
   "metadata": {
    "slideshow": {
     "slide_type": "fragment"
    }
   },
   "source": [
    "<dl class=\"row alert-info\">\n",
    "    <dt class=\"col-md-3\">有监督学习</dt>\n",
    "    <dd class=\"col-md-9\">输入数据<strong>带有</strong>标签。</dd>\n",
    "</dl>\n",
    "<dl class=\"row alert-danger\">\n",
    "    <dt class=\"col-md-3\">无监督学习</dt>\n",
    "    <dd class=\"col-md-9\">输入数据<strong>不带</strong>标签。</dd>\n",
    "</dl>"
   ]
  },
  {
   "cell_type": "markdown",
   "metadata": {
    "slideshow": {
     "slide_type": "fragment"
    }
   },
   "source": [
    "<center><img src=\"./img/dataMining/supervisedunsupervised.jpg\" width=80%></center>"
   ]
  },
  {
   "cell_type": "markdown",
   "metadata": {
    "slideshow": {
     "slide_type": "slide"
    }
   },
   "source": [
    "#### 监督v.s.无监督在数据集中的表现"
   ]
  },
  {
   "cell_type": "markdown",
   "metadata": {
    "slideshow": {
     "slide_type": "fragment"
    }
   },
   "source": [
    "##### 监督学习"
   ]
  },
  {
   "cell_type": "code",
   "execution_count": 144,
   "metadata": {
    "slideshow": {
     "slide_type": "fragment"
    }
   },
   "outputs": [
    {
     "data": {
      "text/html": [
       "<div>\n",
       "<style scoped>\n",
       "    .dataframe tbody tr th:only-of-type {\n",
       "        vertical-align: middle;\n",
       "    }\n",
       "\n",
       "    .dataframe tbody tr th {\n",
       "        vertical-align: top;\n",
       "    }\n",
       "\n",
       "    .dataframe thead th {\n",
       "        text-align: right;\n",
       "    }\n",
       "</style>\n",
       "<table border=\"1\" class=\"dataframe\">\n",
       "  <thead>\n",
       "    <tr style=\"text-align: right;\">\n",
       "      <th></th>\n",
       "      <th>PassengerId</th>\n",
       "      <th>Survived</th>\n",
       "      <th>Pclass</th>\n",
       "      <th>Name</th>\n",
       "      <th>Sex</th>\n",
       "      <th>Age</th>\n",
       "      <th>SibSp</th>\n",
       "      <th>Parch</th>\n",
       "      <th>Ticket</th>\n",
       "      <th>Fare</th>\n",
       "      <th>Cabin</th>\n",
       "      <th>Embarked</th>\n",
       "    </tr>\n",
       "  </thead>\n",
       "  <tbody>\n",
       "    <tr>\n",
       "      <th>0</th>\n",
       "      <td>1</td>\n",
       "      <td>0</td>\n",
       "      <td>3</td>\n",
       "      <td>Braund, Mr. Owen Harris</td>\n",
       "      <td>male</td>\n",
       "      <td>22.0</td>\n",
       "      <td>1</td>\n",
       "      <td>0</td>\n",
       "      <td>A/5 21171</td>\n",
       "      <td>7.2500</td>\n",
       "      <td>NaN</td>\n",
       "      <td>S</td>\n",
       "    </tr>\n",
       "    <tr>\n",
       "      <th>1</th>\n",
       "      <td>2</td>\n",
       "      <td>1</td>\n",
       "      <td>1</td>\n",
       "      <td>Cumings, Mrs. John Bradley (Florence Briggs Th...</td>\n",
       "      <td>female</td>\n",
       "      <td>38.0</td>\n",
       "      <td>1</td>\n",
       "      <td>0</td>\n",
       "      <td>PC 17599</td>\n",
       "      <td>71.2833</td>\n",
       "      <td>C85</td>\n",
       "      <td>C</td>\n",
       "    </tr>\n",
       "    <tr>\n",
       "      <th>2</th>\n",
       "      <td>3</td>\n",
       "      <td>1</td>\n",
       "      <td>3</td>\n",
       "      <td>Heikkinen, Miss. Laina</td>\n",
       "      <td>female</td>\n",
       "      <td>26.0</td>\n",
       "      <td>0</td>\n",
       "      <td>0</td>\n",
       "      <td>STON/O2. 3101282</td>\n",
       "      <td>7.9250</td>\n",
       "      <td>NaN</td>\n",
       "      <td>S</td>\n",
       "    </tr>\n",
       "    <tr>\n",
       "      <th>3</th>\n",
       "      <td>4</td>\n",
       "      <td>1</td>\n",
       "      <td>1</td>\n",
       "      <td>Futrelle, Mrs. Jacques Heath (Lily May Peel)</td>\n",
       "      <td>female</td>\n",
       "      <td>35.0</td>\n",
       "      <td>1</td>\n",
       "      <td>0</td>\n",
       "      <td>113803</td>\n",
       "      <td>53.1000</td>\n",
       "      <td>C123</td>\n",
       "      <td>S</td>\n",
       "    </tr>\n",
       "    <tr>\n",
       "      <th>4</th>\n",
       "      <td>5</td>\n",
       "      <td>0</td>\n",
       "      <td>3</td>\n",
       "      <td>Allen, Mr. William Henry</td>\n",
       "      <td>male</td>\n",
       "      <td>35.0</td>\n",
       "      <td>0</td>\n",
       "      <td>0</td>\n",
       "      <td>373450</td>\n",
       "      <td>8.0500</td>\n",
       "      <td>NaN</td>\n",
       "      <td>S</td>\n",
       "    </tr>\n",
       "  </tbody>\n",
       "</table>\n",
       "</div>"
      ],
      "text/plain": [
       "   PassengerId  Survived  Pclass  \\\n",
       "0            1         0       3   \n",
       "1            2         1       1   \n",
       "2            3         1       3   \n",
       "3            4         1       1   \n",
       "4            5         0       3   \n",
       "\n",
       "                                                Name     Sex   Age  SibSp  \\\n",
       "0                            Braund, Mr. Owen Harris    male  22.0      1   \n",
       "1  Cumings, Mrs. John Bradley (Florence Briggs Th...  female  38.0      1   \n",
       "2                             Heikkinen, Miss. Laina  female  26.0      0   \n",
       "3       Futrelle, Mrs. Jacques Heath (Lily May Peel)  female  35.0      1   \n",
       "4                           Allen, Mr. William Henry    male  35.0      0   \n",
       "\n",
       "   Parch            Ticket     Fare Cabin Embarked  \n",
       "0      0         A/5 21171   7.2500   NaN        S  \n",
       "1      0          PC 17599  71.2833   C85        C  \n",
       "2      0  STON/O2. 3101282   7.9250   NaN        S  \n",
       "3      0            113803  53.1000  C123        S  \n",
       "4      0            373450   8.0500   NaN        S  "
      ]
     },
     "execution_count": 144,
     "metadata": {},
     "output_type": "execute_result"
    }
   ],
   "source": [
    "titanicDf = pd.read_csv('./data/models/train.csv')\n",
    "titanicDf.head()"
   ]
  },
  {
   "cell_type": "markdown",
   "metadata": {
    "slideshow": {
     "slide_type": "fragment"
    }
   },
   "source": [
    "- 标签：`Survived`"
   ]
  },
  {
   "cell_type": "code",
   "execution_count": 146,
   "metadata": {
    "scrolled": true,
    "slideshow": {
     "slide_type": "fragment"
    }
   },
   "outputs": [
    {
     "data": {
      "text/html": [
       "<div>\n",
       "<style scoped>\n",
       "    .dataframe tbody tr th:only-of-type {\n",
       "        vertical-align: middle;\n",
       "    }\n",
       "\n",
       "    .dataframe tbody tr th {\n",
       "        vertical-align: top;\n",
       "    }\n",
       "\n",
       "    .dataframe thead th {\n",
       "        text-align: right;\n",
       "    }\n",
       "</style>\n",
       "<table border=\"1\" class=\"dataframe\">\n",
       "  <thead>\n",
       "    <tr style=\"text-align: right;\">\n",
       "      <th></th>\n",
       "      <th>CRIM</th>\n",
       "      <th>ZN</th>\n",
       "      <th>INDUS</th>\n",
       "      <th>CHAS</th>\n",
       "      <th>NOX</th>\n",
       "      <th>RM</th>\n",
       "      <th>AGE</th>\n",
       "      <th>DIS</th>\n",
       "      <th>RAD</th>\n",
       "      <th>TAX</th>\n",
       "      <th>PTRATIO</th>\n",
       "      <th>B</th>\n",
       "      <th>LSTAT</th>\n",
       "      <th>MEDV</th>\n",
       "    </tr>\n",
       "  </thead>\n",
       "  <tbody>\n",
       "    <tr>\n",
       "      <th>0</th>\n",
       "      <td>0.00632</td>\n",
       "      <td>18.0</td>\n",
       "      <td>2.31</td>\n",
       "      <td>0.0</td>\n",
       "      <td>0.538</td>\n",
       "      <td>6.575</td>\n",
       "      <td>65.2</td>\n",
       "      <td>4.0900</td>\n",
       "      <td>1.0</td>\n",
       "      <td>296.0</td>\n",
       "      <td>15.3</td>\n",
       "      <td>396.90</td>\n",
       "      <td>4.98</td>\n",
       "      <td>24.0</td>\n",
       "    </tr>\n",
       "    <tr>\n",
       "      <th>1</th>\n",
       "      <td>0.02731</td>\n",
       "      <td>0.0</td>\n",
       "      <td>7.07</td>\n",
       "      <td>0.0</td>\n",
       "      <td>0.469</td>\n",
       "      <td>6.421</td>\n",
       "      <td>78.9</td>\n",
       "      <td>4.9671</td>\n",
       "      <td>2.0</td>\n",
       "      <td>242.0</td>\n",
       "      <td>17.8</td>\n",
       "      <td>396.90</td>\n",
       "      <td>9.14</td>\n",
       "      <td>21.6</td>\n",
       "    </tr>\n",
       "    <tr>\n",
       "      <th>2</th>\n",
       "      <td>0.02729</td>\n",
       "      <td>0.0</td>\n",
       "      <td>7.07</td>\n",
       "      <td>0.0</td>\n",
       "      <td>0.469</td>\n",
       "      <td>7.185</td>\n",
       "      <td>61.1</td>\n",
       "      <td>4.9671</td>\n",
       "      <td>2.0</td>\n",
       "      <td>242.0</td>\n",
       "      <td>17.8</td>\n",
       "      <td>392.83</td>\n",
       "      <td>4.03</td>\n",
       "      <td>34.7</td>\n",
       "    </tr>\n",
       "    <tr>\n",
       "      <th>3</th>\n",
       "      <td>0.03237</td>\n",
       "      <td>0.0</td>\n",
       "      <td>2.18</td>\n",
       "      <td>0.0</td>\n",
       "      <td>0.458</td>\n",
       "      <td>6.998</td>\n",
       "      <td>45.8</td>\n",
       "      <td>6.0622</td>\n",
       "      <td>3.0</td>\n",
       "      <td>222.0</td>\n",
       "      <td>18.7</td>\n",
       "      <td>394.63</td>\n",
       "      <td>2.94</td>\n",
       "      <td>33.4</td>\n",
       "    </tr>\n",
       "    <tr>\n",
       "      <th>4</th>\n",
       "      <td>0.06905</td>\n",
       "      <td>0.0</td>\n",
       "      <td>2.18</td>\n",
       "      <td>0.0</td>\n",
       "      <td>0.458</td>\n",
       "      <td>7.147</td>\n",
       "      <td>54.2</td>\n",
       "      <td>6.0622</td>\n",
       "      <td>3.0</td>\n",
       "      <td>222.0</td>\n",
       "      <td>18.7</td>\n",
       "      <td>396.90</td>\n",
       "      <td>5.33</td>\n",
       "      <td>36.2</td>\n",
       "    </tr>\n",
       "  </tbody>\n",
       "</table>\n",
       "</div>"
      ],
      "text/plain": [
       "      CRIM    ZN  INDUS  CHAS    NOX     RM   AGE     DIS  RAD    TAX  \\\n",
       "0  0.00632  18.0   2.31   0.0  0.538  6.575  65.2  4.0900  1.0  296.0   \n",
       "1  0.02731   0.0   7.07   0.0  0.469  6.421  78.9  4.9671  2.0  242.0   \n",
       "2  0.02729   0.0   7.07   0.0  0.469  7.185  61.1  4.9671  2.0  242.0   \n",
       "3  0.03237   0.0   2.18   0.0  0.458  6.998  45.8  6.0622  3.0  222.0   \n",
       "4  0.06905   0.0   2.18   0.0  0.458  7.147  54.2  6.0622  3.0  222.0   \n",
       "\n",
       "   PTRATIO       B  LSTAT  MEDV  \n",
       "0     15.3  396.90   4.98  24.0  \n",
       "1     17.8  396.90   9.14  21.6  \n",
       "2     17.8  392.83   4.03  34.7  \n",
       "3     18.7  394.63   2.94  33.4  \n",
       "4     18.7  396.90   5.33  36.2  "
      ]
     },
     "execution_count": 146,
     "metadata": {},
     "output_type": "execute_result"
    }
   ],
   "source": [
    "bostonDf = pd.read_csv('./data/models/boston.csv')\n",
    "bostonDf.head()"
   ]
  },
  {
   "cell_type": "markdown",
   "metadata": {
    "slideshow": {
     "slide_type": "fragment"
    }
   },
   "source": [
    "- 标签：`MEDV`"
   ]
  },
  {
   "cell_type": "markdown",
   "metadata": {
    "slideshow": {
     "slide_type": "slide"
    }
   },
   "source": [
    "##### 无监督学习"
   ]
  },
  {
   "cell_type": "code",
   "execution_count": 148,
   "metadata": {
    "slideshow": {
     "slide_type": "fragment"
    }
   },
   "outputs": [
    {
     "data": {
      "text/html": [
       "<div>\n",
       "<style scoped>\n",
       "    .dataframe tbody tr th:only-of-type {\n",
       "        vertical-align: middle;\n",
       "    }\n",
       "\n",
       "    .dataframe tbody tr th {\n",
       "        vertical-align: top;\n",
       "    }\n",
       "\n",
       "    .dataframe thead th {\n",
       "        text-align: right;\n",
       "    }\n",
       "</style>\n",
       "<table border=\"1\" class=\"dataframe\">\n",
       "  <thead>\n",
       "    <tr style=\"text-align: right;\">\n",
       "      <th></th>\n",
       "      <th>USERID</th>\n",
       "      <th>最近一次消费间隔</th>\n",
       "      <th>年消费次数</th>\n",
       "      <th>年消费金额</th>\n",
       "      <th>R</th>\n",
       "      <th>F</th>\n",
       "      <th>M</th>\n",
       "      <th>RFM</th>\n",
       "      <th>Label</th>\n",
       "    </tr>\n",
       "  </thead>\n",
       "  <tbody>\n",
       "    <tr>\n",
       "      <th>0</th>\n",
       "      <td>142074</td>\n",
       "      <td>813</td>\n",
       "      <td>2</td>\n",
       "      <td>9408.9</td>\n",
       "      <td>1</td>\n",
       "      <td>2</td>\n",
       "      <td>5</td>\n",
       "      <td>125</td>\n",
       "      <td>流失客户</td>\n",
       "    </tr>\n",
       "    <tr>\n",
       "      <th>1</th>\n",
       "      <td>56927</td>\n",
       "      <td>481</td>\n",
       "      <td>2</td>\n",
       "      <td>8826.9</td>\n",
       "      <td>5</td>\n",
       "      <td>2</td>\n",
       "      <td>5</td>\n",
       "      <td>525</td>\n",
       "      <td>重要价值客户</td>\n",
       "    </tr>\n",
       "    <tr>\n",
       "      <th>2</th>\n",
       "      <td>87058</td>\n",
       "      <td>680</td>\n",
       "      <td>2</td>\n",
       "      <td>11898.0</td>\n",
       "      <td>2</td>\n",
       "      <td>2</td>\n",
       "      <td>5</td>\n",
       "      <td>225</td>\n",
       "      <td>新客户</td>\n",
       "    </tr>\n",
       "    <tr>\n",
       "      <th>3</th>\n",
       "      <td>136104</td>\n",
       "      <td>818</td>\n",
       "      <td>1</td>\n",
       "      <td>5999.0</td>\n",
       "      <td>1</td>\n",
       "      <td>1</td>\n",
       "      <td>5</td>\n",
       "      <td>115</td>\n",
       "      <td>流失客户</td>\n",
       "    </tr>\n",
       "    <tr>\n",
       "      <th>4</th>\n",
       "      <td>117831</td>\n",
       "      <td>818</td>\n",
       "      <td>1</td>\n",
       "      <td>5399.0</td>\n",
       "      <td>1</td>\n",
       "      <td>1</td>\n",
       "      <td>5</td>\n",
       "      <td>115</td>\n",
       "      <td>流失客户</td>\n",
       "    </tr>\n",
       "  </tbody>\n",
       "</table>\n",
       "</div>"
      ],
      "text/plain": [
       "   USERID  最近一次消费间隔  年消费次数    年消费金额  R  F  M  RFM   Label\n",
       "0  142074       813      2   9408.9  1  2  5  125    流失客户\n",
       "1   56927       481      2   8826.9  5  2  5  525  重要价值客户\n",
       "2   87058       680      2  11898.0  2  2  5  225     新客户\n",
       "3  136104       818      1   5999.0  1  1  5  115    流失客户\n",
       "4  117831       818      1   5399.0  1  1  5  115    流失客户"
      ]
     },
     "execution_count": 148,
     "metadata": {},
     "output_type": "execute_result"
    }
   ],
   "source": [
    "rfmDf = pd.read_csv('../data-mining/data/mining/rfm.csv')\n",
    "rfmDf.head()"
   ]
  },
  {
   "cell_type": "markdown",
   "metadata": {
    "slideshow": {
     "slide_type": "slide"
    }
   },
   "source": [
    "### 数据挖掘建模流程"
   ]
  },
  {
   "cell_type": "markdown",
   "metadata": {
    "slideshow": {
     "slide_type": "fragment"
    }
   },
   "source": [
    "<center><img src=\"./img/dataMining/miningModelling.png\" width=80%></center>"
   ]
  },
  {
   "cell_type": "markdown",
   "metadata": {
    "slideshow": {
     "slide_type": "slide"
    }
   },
   "source": [
    "## `scikit-learn`介绍"
   ]
  },
  {
   "cell_type": "markdown",
   "metadata": {
    "slideshow": {
     "slide_type": "fragment"
    }
   },
   "source": [
    "`scikit-learn`软件包"
   ]
  },
  {
   "cell_type": "markdown",
   "metadata": {
    "slideshow": {
     "slide_type": "fragment"
    }
   },
   "source": [
    "[https://scikit-learn.org/stable/](https://scikit-learn.org/stable/)"
   ]
  },
  {
   "cell_type": "markdown",
   "metadata": {
    "slideshow": {
     "slide_type": "fragment"
    }
   },
   "source": [
    "- `scikit-learn`是`Python`的一个开源机器学习模块，它建立在`NumPy`，`SciPy`和`matplotlib`模块之上"
   ]
  },
  {
   "cell_type": "markdown",
   "metadata": {
    "slideshow": {
     "slide_type": "fragment"
    }
   },
   "source": [
    "- 为用户提供各种机器学习算法接口，可以让用户简单、高效地进行数据挖掘和数据分析"
   ]
  },
  {
   "cell_type": "markdown",
   "metadata": {
    "slideshow": {
     "slide_type": "fragment"
    }
   },
   "source": [
    "- 安装：`pip install -U scikit-learn`"
   ]
  },
  {
   "cell_type": "markdown",
   "metadata": {
    "slideshow": {
     "slide_type": "fragment"
    }
   },
   "source": [
    "- 使用：`from sklearn import 模块名称`"
   ]
  },
  {
   "cell_type": "markdown",
   "metadata": {
    "slideshow": {
     "slide_type": "slide"
    }
   },
   "source": [
    "### 内置数据"
   ]
  },
  {
   "cell_type": "markdown",
   "metadata": {
    "slideshow": {
     "slide_type": "fragment"
    }
   },
   "source": [
    "- 两种类型数据的加载方式\n",
    "    + 小规模数据：`load_数据名称()`\n",
    "    + 大规模数据：`fetch_数据名称()`"
   ]
  },
  {
   "cell_type": "markdown",
   "metadata": {
    "slideshow": {
     "slide_type": "fragment"
    }
   },
   "source": [
    "- 返回的数据的结构：字典结构，至少包括两个关键字\n",
    "    + `data`：属性（特征），`numpy`格式的矩阵，有`n_samples`行和`n_features`列\n",
    "    + `target`：标签，`numpy`格式的数组，长度是`n_samples`"
   ]
  },
  {
   "cell_type": "markdown",
   "metadata": {
    "slideshow": {
     "slide_type": "fragment"
    }
   },
   "source": [
    "- 返回的数据具有`DESCR`属性，给予数据集详细描述"
   ]
  },
  {
   "cell_type": "markdown",
   "metadata": {
    "slideshow": {
     "slide_type": "slide"
    }
   },
   "source": [
    "#### 小规模数据集"
   ]
  },
  {
   "cell_type": "markdown",
   "metadata": {
    "slideshow": {
     "slide_type": "fragment"
    }
   },
   "source": [
    "命令|数据描述|适合的方法\n",
    "---|---|---\n",
    "`load_boston()`|波士顿的房价数据|回归\n",
    "`load_iris()`|鸢尾花（iris）数据集|分类\n",
    "`load_diabetes()`|糖尿病(diabetes)数据集|回归\n",
    "`load_digits()`|手写体数据集|分类\n",
    "`load_linnerud()`|体能训练数据集|多元回归\n",
    "`load_wine()`|酒类数据集|分类\n",
    "`load_breast_cancer()`|威斯康星乳腺癌|分类"
   ]
  },
  {
   "cell_type": "code",
   "execution_count": 4,
   "metadata": {
    "slideshow": {
     "slide_type": "slide"
    }
   },
   "outputs": [],
   "source": [
    "from sklearn import datasets"
   ]
  },
  {
   "cell_type": "code",
   "execution_count": 78,
   "metadata": {
    "scrolled": true,
    "slideshow": {
     "slide_type": "fragment"
    }
   },
   "outputs": [
    {
     "name": "stdout",
     "output_type": "stream",
     "text": [
      ".. _iris_dataset:\n",
      "\n",
      "Iris plants dataset\n",
      "--------------------\n",
      "\n",
      "**Data Set Characteristics:**\n",
      "\n",
      "    :Number of Instances: 150 (50 in each of three classes)\n",
      "    :Number of Attributes: 4 numeric, predictive attributes and the class\n",
      "    :Attribute Information:\n",
      "        - sepal length in cm\n",
      "        - sepal width in cm\n",
      "        - petal length in cm\n",
      "        - petal width in cm\n",
      "        - class:\n",
      "                - Iris-Setosa\n",
      "                - Iris-Versicolour\n",
      "                - Iris-Virginica\n",
      "                \n",
      "    :Summary Statistics:\n",
      "\n",
      "    ============== ==== ==== ======= ===== ====================\n",
      "                    Min  Max   Mean    SD   Class Correlation\n",
      "    ============== ==== ==== ======= ===== ====================\n",
      "    sepal length:   4.3  7.9   5.84   0.83    0.7826\n",
      "    sepal width:    2.0  4.4   3.05   0.43   -0.4194\n",
      "    petal length:   1.0  6.9   3.76   1.76    0.9490  (high!)\n",
      "    petal width:    0.1  2.5   1.20   0.76    0.9565  (high!)\n",
      "    ============== ==== ==== ======= ===== ====================\n",
      "\n",
      "    :Missing Attribute Values: None\n",
      "    :Class Distribution: 33.3% for each of 3 classes.\n",
      "    :Creator: R.A. Fisher\n",
      "    :Donor: Michael Marshall (MARSHALL%PLU@io.arc.nasa.gov)\n",
      "    :Date: July, 1988\n",
      "\n",
      "The famous Iris database, first used by Sir R.A. Fisher. The dataset is taken\n",
      "from Fisher's paper. Note that it's the same as in R, but not as in the UCI\n",
      "Machine Learning Repository, which has two wrong data points.\n",
      "\n",
      "This is perhaps the best known database to be found in the\n",
      "pattern recognition literature.  Fisher's paper is a classic in the field and\n",
      "is referenced frequently to this day.  (See Duda & Hart, for example.)  The\n",
      "data set contains 3 classes of 50 instances each, where each class refers to a\n",
      "type of iris plant.  One class is linearly separable from the other 2; the\n",
      "latter are NOT linearly separable from each other.\n",
      "\n",
      ".. topic:: References\n",
      "\n",
      "   - Fisher, R.A. \"The use of multiple measurements in taxonomic problems\"\n",
      "     Annual Eugenics, 7, Part II, 179-188 (1936); also in \"Contributions to\n",
      "     Mathematical Statistics\" (John Wiley, NY, 1950).\n",
      "   - Duda, R.O., & Hart, P.E. (1973) Pattern Classification and Scene Analysis.\n",
      "     (Q327.D83) John Wiley & Sons.  ISBN 0-471-22361-1.  See page 218.\n",
      "   - Dasarathy, B.V. (1980) \"Nosing Around the Neighborhood: A New System\n",
      "     Structure and Classification Rule for Recognition in Partially Exposed\n",
      "     Environments\".  IEEE Transactions on Pattern Analysis and Machine\n",
      "     Intelligence, Vol. PAMI-2, No. 1, 67-71.\n",
      "   - Gates, G.W. (1972) \"The Reduced Nearest Neighbor Rule\".  IEEE Transactions\n",
      "     on Information Theory, May 1972, 431-433.\n",
      "   - See also: 1988 MLC Proceedings, 54-64.  Cheeseman et al\"s AUTOCLASS II\n",
      "     conceptual clustering system finds 3 classes in the data.\n",
      "   - Many, many more ...\n"
     ]
    }
   ],
   "source": [
    "iris = datasets.load_iris()\n",
    "print(iris.DESCR)"
   ]
  },
  {
   "cell_type": "code",
   "execution_count": 79,
   "metadata": {
    "slideshow": {
     "slide_type": "subslide"
    }
   },
   "outputs": [
    {
     "data": {
      "text/plain": [
       "array([[5.1, 3.5, 1.4, 0.2],\n",
       "       [4.9, 3. , 1.4, 0.2],\n",
       "       [4.7, 3.2, 1.3, 0.2],\n",
       "       [4.6, 3.1, 1.5, 0.2],\n",
       "       [5. , 3.6, 1.4, 0.2],\n",
       "       [5.4, 3.9, 1.7, 0.4],\n",
       "       [4.6, 3.4, 1.4, 0.3],\n",
       "       [5. , 3.4, 1.5, 0.2],\n",
       "       [4.4, 2.9, 1.4, 0.2],\n",
       "       [4.9, 3.1, 1.5, 0.1],\n",
       "       [5.4, 3.7, 1.5, 0.2],\n",
       "       [4.8, 3.4, 1.6, 0.2],\n",
       "       [4.8, 3. , 1.4, 0.1],\n",
       "       [4.3, 3. , 1.1, 0.1],\n",
       "       [5.8, 4. , 1.2, 0.2],\n",
       "       [5.7, 4.4, 1.5, 0.4],\n",
       "       [5.4, 3.9, 1.3, 0.4],\n",
       "       [5.1, 3.5, 1.4, 0.3],\n",
       "       [5.7, 3.8, 1.7, 0.3],\n",
       "       [5.1, 3.8, 1.5, 0.3],\n",
       "       [5.4, 3.4, 1.7, 0.2],\n",
       "       [5.1, 3.7, 1.5, 0.4],\n",
       "       [4.6, 3.6, 1. , 0.2],\n",
       "       [5.1, 3.3, 1.7, 0.5],\n",
       "       [4.8, 3.4, 1.9, 0.2],\n",
       "       [5. , 3. , 1.6, 0.2],\n",
       "       [5. , 3.4, 1.6, 0.4],\n",
       "       [5.2, 3.5, 1.5, 0.2],\n",
       "       [5.2, 3.4, 1.4, 0.2],\n",
       "       [4.7, 3.2, 1.6, 0.2],\n",
       "       [4.8, 3.1, 1.6, 0.2],\n",
       "       [5.4, 3.4, 1.5, 0.4],\n",
       "       [5.2, 4.1, 1.5, 0.1],\n",
       "       [5.5, 4.2, 1.4, 0.2],\n",
       "       [4.9, 3.1, 1.5, 0.2],\n",
       "       [5. , 3.2, 1.2, 0.2],\n",
       "       [5.5, 3.5, 1.3, 0.2],\n",
       "       [4.9, 3.6, 1.4, 0.1],\n",
       "       [4.4, 3. , 1.3, 0.2],\n",
       "       [5.1, 3.4, 1.5, 0.2],\n",
       "       [5. , 3.5, 1.3, 0.3],\n",
       "       [4.5, 2.3, 1.3, 0.3],\n",
       "       [4.4, 3.2, 1.3, 0.2],\n",
       "       [5. , 3.5, 1.6, 0.6],\n",
       "       [5.1, 3.8, 1.9, 0.4],\n",
       "       [4.8, 3. , 1.4, 0.3],\n",
       "       [5.1, 3.8, 1.6, 0.2],\n",
       "       [4.6, 3.2, 1.4, 0.2],\n",
       "       [5.3, 3.7, 1.5, 0.2],\n",
       "       [5. , 3.3, 1.4, 0.2],\n",
       "       [7. , 3.2, 4.7, 1.4],\n",
       "       [6.4, 3.2, 4.5, 1.5],\n",
       "       [6.9, 3.1, 4.9, 1.5],\n",
       "       [5.5, 2.3, 4. , 1.3],\n",
       "       [6.5, 2.8, 4.6, 1.5],\n",
       "       [5.7, 2.8, 4.5, 1.3],\n",
       "       [6.3, 3.3, 4.7, 1.6],\n",
       "       [4.9, 2.4, 3.3, 1. ],\n",
       "       [6.6, 2.9, 4.6, 1.3],\n",
       "       [5.2, 2.7, 3.9, 1.4],\n",
       "       [5. , 2. , 3.5, 1. ],\n",
       "       [5.9, 3. , 4.2, 1.5],\n",
       "       [6. , 2.2, 4. , 1. ],\n",
       "       [6.1, 2.9, 4.7, 1.4],\n",
       "       [5.6, 2.9, 3.6, 1.3],\n",
       "       [6.7, 3.1, 4.4, 1.4],\n",
       "       [5.6, 3. , 4.5, 1.5],\n",
       "       [5.8, 2.7, 4.1, 1. ],\n",
       "       [6.2, 2.2, 4.5, 1.5],\n",
       "       [5.6, 2.5, 3.9, 1.1],\n",
       "       [5.9, 3.2, 4.8, 1.8],\n",
       "       [6.1, 2.8, 4. , 1.3],\n",
       "       [6.3, 2.5, 4.9, 1.5],\n",
       "       [6.1, 2.8, 4.7, 1.2],\n",
       "       [6.4, 2.9, 4.3, 1.3],\n",
       "       [6.6, 3. , 4.4, 1.4],\n",
       "       [6.8, 2.8, 4.8, 1.4],\n",
       "       [6.7, 3. , 5. , 1.7],\n",
       "       [6. , 2.9, 4.5, 1.5],\n",
       "       [5.7, 2.6, 3.5, 1. ],\n",
       "       [5.5, 2.4, 3.8, 1.1],\n",
       "       [5.5, 2.4, 3.7, 1. ],\n",
       "       [5.8, 2.7, 3.9, 1.2],\n",
       "       [6. , 2.7, 5.1, 1.6],\n",
       "       [5.4, 3. , 4.5, 1.5],\n",
       "       [6. , 3.4, 4.5, 1.6],\n",
       "       [6.7, 3.1, 4.7, 1.5],\n",
       "       [6.3, 2.3, 4.4, 1.3],\n",
       "       [5.6, 3. , 4.1, 1.3],\n",
       "       [5.5, 2.5, 4. , 1.3],\n",
       "       [5.5, 2.6, 4.4, 1.2],\n",
       "       [6.1, 3. , 4.6, 1.4],\n",
       "       [5.8, 2.6, 4. , 1.2],\n",
       "       [5. , 2.3, 3.3, 1. ],\n",
       "       [5.6, 2.7, 4.2, 1.3],\n",
       "       [5.7, 3. , 4.2, 1.2],\n",
       "       [5.7, 2.9, 4.2, 1.3],\n",
       "       [6.2, 2.9, 4.3, 1.3],\n",
       "       [5.1, 2.5, 3. , 1.1],\n",
       "       [5.7, 2.8, 4.1, 1.3],\n",
       "       [6.3, 3.3, 6. , 2.5],\n",
       "       [5.8, 2.7, 5.1, 1.9],\n",
       "       [7.1, 3. , 5.9, 2.1],\n",
       "       [6.3, 2.9, 5.6, 1.8],\n",
       "       [6.5, 3. , 5.8, 2.2],\n",
       "       [7.6, 3. , 6.6, 2.1],\n",
       "       [4.9, 2.5, 4.5, 1.7],\n",
       "       [7.3, 2.9, 6.3, 1.8],\n",
       "       [6.7, 2.5, 5.8, 1.8],\n",
       "       [7.2, 3.6, 6.1, 2.5],\n",
       "       [6.5, 3.2, 5.1, 2. ],\n",
       "       [6.4, 2.7, 5.3, 1.9],\n",
       "       [6.8, 3. , 5.5, 2.1],\n",
       "       [5.7, 2.5, 5. , 2. ],\n",
       "       [5.8, 2.8, 5.1, 2.4],\n",
       "       [6.4, 3.2, 5.3, 2.3],\n",
       "       [6.5, 3. , 5.5, 1.8],\n",
       "       [7.7, 3.8, 6.7, 2.2],\n",
       "       [7.7, 2.6, 6.9, 2.3],\n",
       "       [6. , 2.2, 5. , 1.5],\n",
       "       [6.9, 3.2, 5.7, 2.3],\n",
       "       [5.6, 2.8, 4.9, 2. ],\n",
       "       [7.7, 2.8, 6.7, 2. ],\n",
       "       [6.3, 2.7, 4.9, 1.8],\n",
       "       [6.7, 3.3, 5.7, 2.1],\n",
       "       [7.2, 3.2, 6. , 1.8],\n",
       "       [6.2, 2.8, 4.8, 1.8],\n",
       "       [6.1, 3. , 4.9, 1.8],\n",
       "       [6.4, 2.8, 5.6, 2.1],\n",
       "       [7.2, 3. , 5.8, 1.6],\n",
       "       [7.4, 2.8, 6.1, 1.9],\n",
       "       [7.9, 3.8, 6.4, 2. ],\n",
       "       [6.4, 2.8, 5.6, 2.2],\n",
       "       [6.3, 2.8, 5.1, 1.5],\n",
       "       [6.1, 2.6, 5.6, 1.4],\n",
       "       [7.7, 3. , 6.1, 2.3],\n",
       "       [6.3, 3.4, 5.6, 2.4],\n",
       "       [6.4, 3.1, 5.5, 1.8],\n",
       "       [6. , 3. , 4.8, 1.8],\n",
       "       [6.9, 3.1, 5.4, 2.1],\n",
       "       [6.7, 3.1, 5.6, 2.4],\n",
       "       [6.9, 3.1, 5.1, 2.3],\n",
       "       [5.8, 2.7, 5.1, 1.9],\n",
       "       [6.8, 3.2, 5.9, 2.3],\n",
       "       [6.7, 3.3, 5.7, 2.5],\n",
       "       [6.7, 3. , 5.2, 2.3],\n",
       "       [6.3, 2.5, 5. , 1.9],\n",
       "       [6.5, 3. , 5.2, 2. ],\n",
       "       [6.2, 3.4, 5.4, 2.3],\n",
       "       [5.9, 3. , 5.1, 1.8]])"
      ]
     },
     "execution_count": 79,
     "metadata": {},
     "output_type": "execute_result"
    }
   ],
   "source": [
    "iris.data"
   ]
  },
  {
   "cell_type": "code",
   "execution_count": 80,
   "metadata": {
    "scrolled": true,
    "slideshow": {
     "slide_type": "fragment"
    }
   },
   "outputs": [
    {
     "data": {
      "text/plain": [
       "array([0, 0, 0, 0, 0, 0, 0, 0, 0, 0, 0, 0, 0, 0, 0, 0, 0, 0, 0, 0, 0, 0,\n",
       "       0, 0, 0, 0, 0, 0, 0, 0, 0, 0, 0, 0, 0, 0, 0, 0, 0, 0, 0, 0, 0, 0,\n",
       "       0, 0, 0, 0, 0, 0, 1, 1, 1, 1, 1, 1, 1, 1, 1, 1, 1, 1, 1, 1, 1, 1,\n",
       "       1, 1, 1, 1, 1, 1, 1, 1, 1, 1, 1, 1, 1, 1, 1, 1, 1, 1, 1, 1, 1, 1,\n",
       "       1, 1, 1, 1, 1, 1, 1, 1, 1, 1, 1, 1, 2, 2, 2, 2, 2, 2, 2, 2, 2, 2,\n",
       "       2, 2, 2, 2, 2, 2, 2, 2, 2, 2, 2, 2, 2, 2, 2, 2, 2, 2, 2, 2, 2, 2,\n",
       "       2, 2, 2, 2, 2, 2, 2, 2, 2, 2, 2, 2, 2, 2, 2, 2, 2, 2])"
      ]
     },
     "execution_count": 80,
     "metadata": {},
     "output_type": "execute_result"
    }
   ],
   "source": [
    "iris.target"
   ]
  },
  {
   "cell_type": "code",
   "execution_count": 81,
   "metadata": {
    "slideshow": {
     "slide_type": "fragment"
    }
   },
   "outputs": [
    {
     "data": {
      "text/html": [
       "<div>\n",
       "<style scoped>\n",
       "    .dataframe tbody tr th:only-of-type {\n",
       "        vertical-align: middle;\n",
       "    }\n",
       "\n",
       "    .dataframe tbody tr th {\n",
       "        vertical-align: top;\n",
       "    }\n",
       "\n",
       "    .dataframe thead th {\n",
       "        text-align: right;\n",
       "    }\n",
       "</style>\n",
       "<table border=\"1\" class=\"dataframe\">\n",
       "  <thead>\n",
       "    <tr style=\"text-align: right;\">\n",
       "      <th></th>\n",
       "      <th>sepal length (cm)</th>\n",
       "      <th>sepal width (cm)</th>\n",
       "      <th>petal length (cm)</th>\n",
       "      <th>petal width (cm)</th>\n",
       "      <th>class</th>\n",
       "    </tr>\n",
       "  </thead>\n",
       "  <tbody>\n",
       "    <tr>\n",
       "      <th>0</th>\n",
       "      <td>5.1</td>\n",
       "      <td>3.5</td>\n",
       "      <td>1.4</td>\n",
       "      <td>0.2</td>\n",
       "      <td>0</td>\n",
       "    </tr>\n",
       "    <tr>\n",
       "      <th>1</th>\n",
       "      <td>4.9</td>\n",
       "      <td>3.0</td>\n",
       "      <td>1.4</td>\n",
       "      <td>0.2</td>\n",
       "      <td>0</td>\n",
       "    </tr>\n",
       "    <tr>\n",
       "      <th>2</th>\n",
       "      <td>4.7</td>\n",
       "      <td>3.2</td>\n",
       "      <td>1.3</td>\n",
       "      <td>0.2</td>\n",
       "      <td>0</td>\n",
       "    </tr>\n",
       "    <tr>\n",
       "      <th>3</th>\n",
       "      <td>4.6</td>\n",
       "      <td>3.1</td>\n",
       "      <td>1.5</td>\n",
       "      <td>0.2</td>\n",
       "      <td>0</td>\n",
       "    </tr>\n",
       "    <tr>\n",
       "      <th>4</th>\n",
       "      <td>5.0</td>\n",
       "      <td>3.6</td>\n",
       "      <td>1.4</td>\n",
       "      <td>0.2</td>\n",
       "      <td>0</td>\n",
       "    </tr>\n",
       "  </tbody>\n",
       "</table>\n",
       "</div>"
      ],
      "text/plain": [
       "   sepal length (cm)  sepal width (cm)  petal length (cm)  petal width (cm)  \\\n",
       "0                5.1               3.5                1.4               0.2   \n",
       "1                4.9               3.0                1.4               0.2   \n",
       "2                4.7               3.2                1.3               0.2   \n",
       "3                4.6               3.1                1.5               0.2   \n",
       "4                5.0               3.6                1.4               0.2   \n",
       "\n",
       "   class  \n",
       "0      0  \n",
       "1      0  \n",
       "2      0  \n",
       "3      0  \n",
       "4      0  "
      ]
     },
     "execution_count": 81,
     "metadata": {},
     "output_type": "execute_result"
    }
   ],
   "source": [
    "irisDf = pd.DataFrame(iris.data,columns=iris.feature_names)\n",
    "irisDf['class'] = iris.target\n",
    "irisDf.head()"
   ]
  },
  {
   "cell_type": "code",
   "execution_count": 82,
   "metadata": {
    "scrolled": true,
    "slideshow": {
     "slide_type": "slide"
    }
   },
   "outputs": [
    {
     "name": "stdout",
     "output_type": "stream",
     "text": [
      ".. _diabetes_dataset:\n",
      "\n",
      "Diabetes dataset\n",
      "----------------\n",
      "\n",
      "Ten baseline variables, age, sex, body mass index, average blood\n",
      "pressure, and six blood serum measurements were obtained for each of n =\n",
      "442 diabetes patients, as well as the response of interest, a\n",
      "quantitative measure of disease progression one year after baseline.\n",
      "\n",
      "**Data Set Characteristics:**\n",
      "\n",
      "  :Number of Instances: 442\n",
      "\n",
      "  :Number of Attributes: First 10 columns are numeric predictive values\n",
      "\n",
      "  :Target: Column 11 is a quantitative measure of disease progression one year after baseline\n",
      "\n",
      "  :Attribute Information:\n",
      "      - Age\n",
      "      - Sex\n",
      "      - Body mass index\n",
      "      - Average blood pressure\n",
      "      - S1\n",
      "      - S2\n",
      "      - S3\n",
      "      - S4\n",
      "      - S5\n",
      "      - S6\n",
      "\n",
      "Note: Each of these 10 feature variables have been mean centered and scaled by the standard deviation times `n_samples` (i.e. the sum of squares of each column totals 1).\n",
      "\n",
      "Source URL:\n",
      "https://www4.stat.ncsu.edu/~boos/var.select/diabetes.html\n",
      "\n",
      "For more information see:\n",
      "Bradley Efron, Trevor Hastie, Iain Johnstone and Robert Tibshirani (2004) \"Least Angle Regression,\" Annals of Statistics (with discussion), 407-499.\n",
      "(https://web.stanford.edu/~hastie/Papers/LARS/LeastAngle_2002.pdf)\n"
     ]
    }
   ],
   "source": [
    "diabetes = datasets.load_diabetes()\n",
    "print(diabetes.DESCR)"
   ]
  },
  {
   "cell_type": "code",
   "execution_count": 83,
   "metadata": {
    "scrolled": true,
    "slideshow": {
     "slide_type": "fragment"
    }
   },
   "outputs": [
    {
     "data": {
      "text/html": [
       "<div>\n",
       "<style scoped>\n",
       "    .dataframe tbody tr th:only-of-type {\n",
       "        vertical-align: middle;\n",
       "    }\n",
       "\n",
       "    .dataframe tbody tr th {\n",
       "        vertical-align: top;\n",
       "    }\n",
       "\n",
       "    .dataframe thead th {\n",
       "        text-align: right;\n",
       "    }\n",
       "</style>\n",
       "<table border=\"1\" class=\"dataframe\">\n",
       "  <thead>\n",
       "    <tr style=\"text-align: right;\">\n",
       "      <th></th>\n",
       "      <th>age</th>\n",
       "      <th>sex</th>\n",
       "      <th>bmi</th>\n",
       "      <th>bp</th>\n",
       "      <th>s1</th>\n",
       "      <th>s2</th>\n",
       "      <th>s3</th>\n",
       "      <th>s4</th>\n",
       "      <th>s5</th>\n",
       "      <th>s6</th>\n",
       "      <th>target</th>\n",
       "    </tr>\n",
       "  </thead>\n",
       "  <tbody>\n",
       "    <tr>\n",
       "      <th>0</th>\n",
       "      <td>0.038076</td>\n",
       "      <td>0.050680</td>\n",
       "      <td>0.061696</td>\n",
       "      <td>0.021872</td>\n",
       "      <td>-0.044223</td>\n",
       "      <td>-0.034821</td>\n",
       "      <td>-0.043401</td>\n",
       "      <td>-0.002592</td>\n",
       "      <td>0.019908</td>\n",
       "      <td>-0.017646</td>\n",
       "      <td>151.0</td>\n",
       "    </tr>\n",
       "    <tr>\n",
       "      <th>1</th>\n",
       "      <td>-0.001882</td>\n",
       "      <td>-0.044642</td>\n",
       "      <td>-0.051474</td>\n",
       "      <td>-0.026328</td>\n",
       "      <td>-0.008449</td>\n",
       "      <td>-0.019163</td>\n",
       "      <td>0.074412</td>\n",
       "      <td>-0.039493</td>\n",
       "      <td>-0.068330</td>\n",
       "      <td>-0.092204</td>\n",
       "      <td>75.0</td>\n",
       "    </tr>\n",
       "    <tr>\n",
       "      <th>2</th>\n",
       "      <td>0.085299</td>\n",
       "      <td>0.050680</td>\n",
       "      <td>0.044451</td>\n",
       "      <td>-0.005671</td>\n",
       "      <td>-0.045599</td>\n",
       "      <td>-0.034194</td>\n",
       "      <td>-0.032356</td>\n",
       "      <td>-0.002592</td>\n",
       "      <td>0.002864</td>\n",
       "      <td>-0.025930</td>\n",
       "      <td>141.0</td>\n",
       "    </tr>\n",
       "    <tr>\n",
       "      <th>3</th>\n",
       "      <td>-0.089063</td>\n",
       "      <td>-0.044642</td>\n",
       "      <td>-0.011595</td>\n",
       "      <td>-0.036656</td>\n",
       "      <td>0.012191</td>\n",
       "      <td>0.024991</td>\n",
       "      <td>-0.036038</td>\n",
       "      <td>0.034309</td>\n",
       "      <td>0.022692</td>\n",
       "      <td>-0.009362</td>\n",
       "      <td>206.0</td>\n",
       "    </tr>\n",
       "    <tr>\n",
       "      <th>4</th>\n",
       "      <td>0.005383</td>\n",
       "      <td>-0.044642</td>\n",
       "      <td>-0.036385</td>\n",
       "      <td>0.021872</td>\n",
       "      <td>0.003935</td>\n",
       "      <td>0.015596</td>\n",
       "      <td>0.008142</td>\n",
       "      <td>-0.002592</td>\n",
       "      <td>-0.031991</td>\n",
       "      <td>-0.046641</td>\n",
       "      <td>135.0</td>\n",
       "    </tr>\n",
       "  </tbody>\n",
       "</table>\n",
       "</div>"
      ],
      "text/plain": [
       "        age       sex       bmi        bp        s1        s2        s3  \\\n",
       "0  0.038076  0.050680  0.061696  0.021872 -0.044223 -0.034821 -0.043401   \n",
       "1 -0.001882 -0.044642 -0.051474 -0.026328 -0.008449 -0.019163  0.074412   \n",
       "2  0.085299  0.050680  0.044451 -0.005671 -0.045599 -0.034194 -0.032356   \n",
       "3 -0.089063 -0.044642 -0.011595 -0.036656  0.012191  0.024991 -0.036038   \n",
       "4  0.005383 -0.044642 -0.036385  0.021872  0.003935  0.015596  0.008142   \n",
       "\n",
       "         s4        s5        s6  target  \n",
       "0 -0.002592  0.019908 -0.017646   151.0  \n",
       "1 -0.039493 -0.068330 -0.092204    75.0  \n",
       "2 -0.002592  0.002864 -0.025930   141.0  \n",
       "3  0.034309  0.022692 -0.009362   206.0  \n",
       "4 -0.002592 -0.031991 -0.046641   135.0  "
      ]
     },
     "execution_count": 83,
     "metadata": {},
     "output_type": "execute_result"
    }
   ],
   "source": [
    "diabetesDf = pd.DataFrame(diabetes.data,columns=diabetes.feature_names)\n",
    "diabetesDf['target'] = diabetes.target\n",
    "diabetesDf.head()"
   ]
  },
  {
   "cell_type": "markdown",
   "metadata": {
    "slideshow": {
     "slide_type": "slide"
    }
   },
   "source": [
    "#### 大规模数据集"
   ]
  },
  {
   "cell_type": "markdown",
   "metadata": {
    "slideshow": {
     "slide_type": "fragment"
    }
   },
   "source": [
    "命令|数据描述|适合的方法\n",
    "---|---|---\n",
    "`fetch_olivetti_faces()`|Olivetti人脸识别数据|分类\n",
    "`fetch_20newsgroups()`|包括20个话题的新闻文本数据|分类\n",
    "`fetch_20newsgroups_vectorized()`|包括20个话题的新闻文本向量化数据|分类\n",
    "`fetch_lfw_people()`|带标签的人脸识别数据|分类\n",
    "`fetch_lfw_pairs()`|带标签的人脸识别数据|分类\n",
    "`fetch_covtype()`|森林植被类型数据|分类\n",
    "`fetch_rcv1()`|路透社英文新闻文本数据|分类\n",
    "`fetch_kddcup99()`|网络入侵检测数据|分类\n",
    "`fetch_california_housing()`|加利福尼亚房价数据|回归"
   ]
  },
  {
   "cell_type": "code",
   "execution_count": 84,
   "metadata": {
    "scrolled": true,
    "slideshow": {
     "slide_type": "slide"
    }
   },
   "outputs": [
    {
     "name": "stdout",
     "output_type": "stream",
     "text": [
      ".. _california_housing_dataset:\n",
      "\n",
      "California Housing dataset\n",
      "--------------------------\n",
      "\n",
      "**Data Set Characteristics:**\n",
      "\n",
      "    :Number of Instances: 20640\n",
      "\n",
      "    :Number of Attributes: 8 numeric, predictive attributes and the target\n",
      "\n",
      "    :Attribute Information:\n",
      "        - MedInc        median income in block\n",
      "        - HouseAge      median house age in block\n",
      "        - AveRooms      average number of rooms\n",
      "        - AveBedrms     average number of bedrooms\n",
      "        - Population    block population\n",
      "        - AveOccup      average house occupancy\n",
      "        - Latitude      house block latitude\n",
      "        - Longitude     house block longitude\n",
      "\n",
      "    :Missing Attribute Values: None\n",
      "\n",
      "This dataset was obtained from the StatLib repository.\n",
      "http://lib.stat.cmu.edu/datasets/\n",
      "\n",
      "The target variable is the median house value for California districts.\n",
      "\n",
      "This dataset was derived from the 1990 U.S. census, using one row per census\n",
      "block group. A block group is the smallest geographical unit for which the U.S.\n",
      "Census Bureau publishes sample data (a block group typically has a population\n",
      "of 600 to 3,000 people).\n",
      "\n",
      "It can be downloaded/loaded using the\n",
      ":func:`sklearn.datasets.fetch_california_housing` function.\n",
      "\n",
      ".. topic:: References\n",
      "\n",
      "    - Pace, R. Kelley and Ronald Barry, Sparse Spatial Autoregressions,\n",
      "      Statistics and Probability Letters, 33 (1997) 291-297\n",
      "\n"
     ]
    }
   ],
   "source": [
    "calh = datasets.fetch_california_housing()\n",
    "print(calh.DESCR)"
   ]
  },
  {
   "cell_type": "code",
   "execution_count": 85,
   "metadata": {
    "scrolled": true,
    "slideshow": {
     "slide_type": "fragment"
    }
   },
   "outputs": [
    {
     "data": {
      "text/html": [
       "<div>\n",
       "<style scoped>\n",
       "    .dataframe tbody tr th:only-of-type {\n",
       "        vertical-align: middle;\n",
       "    }\n",
       "\n",
       "    .dataframe tbody tr th {\n",
       "        vertical-align: top;\n",
       "    }\n",
       "\n",
       "    .dataframe thead th {\n",
       "        text-align: right;\n",
       "    }\n",
       "</style>\n",
       "<table border=\"1\" class=\"dataframe\">\n",
       "  <thead>\n",
       "    <tr style=\"text-align: right;\">\n",
       "      <th></th>\n",
       "      <th>MedInc</th>\n",
       "      <th>HouseAge</th>\n",
       "      <th>AveRooms</th>\n",
       "      <th>AveBedrms</th>\n",
       "      <th>Population</th>\n",
       "      <th>AveOccup</th>\n",
       "      <th>Latitude</th>\n",
       "      <th>Longitude</th>\n",
       "      <th>HouseValue</th>\n",
       "    </tr>\n",
       "  </thead>\n",
       "  <tbody>\n",
       "    <tr>\n",
       "      <th>0</th>\n",
       "      <td>8.3252</td>\n",
       "      <td>41.0</td>\n",
       "      <td>6.984127</td>\n",
       "      <td>1.023810</td>\n",
       "      <td>322.0</td>\n",
       "      <td>2.555556</td>\n",
       "      <td>37.88</td>\n",
       "      <td>-122.23</td>\n",
       "      <td>4.526</td>\n",
       "    </tr>\n",
       "    <tr>\n",
       "      <th>1</th>\n",
       "      <td>8.3014</td>\n",
       "      <td>21.0</td>\n",
       "      <td>6.238137</td>\n",
       "      <td>0.971880</td>\n",
       "      <td>2401.0</td>\n",
       "      <td>2.109842</td>\n",
       "      <td>37.86</td>\n",
       "      <td>-122.22</td>\n",
       "      <td>3.585</td>\n",
       "    </tr>\n",
       "    <tr>\n",
       "      <th>2</th>\n",
       "      <td>7.2574</td>\n",
       "      <td>52.0</td>\n",
       "      <td>8.288136</td>\n",
       "      <td>1.073446</td>\n",
       "      <td>496.0</td>\n",
       "      <td>2.802260</td>\n",
       "      <td>37.85</td>\n",
       "      <td>-122.24</td>\n",
       "      <td>3.521</td>\n",
       "    </tr>\n",
       "    <tr>\n",
       "      <th>3</th>\n",
       "      <td>5.6431</td>\n",
       "      <td>52.0</td>\n",
       "      <td>5.817352</td>\n",
       "      <td>1.073059</td>\n",
       "      <td>558.0</td>\n",
       "      <td>2.547945</td>\n",
       "      <td>37.85</td>\n",
       "      <td>-122.25</td>\n",
       "      <td>3.413</td>\n",
       "    </tr>\n",
       "    <tr>\n",
       "      <th>4</th>\n",
       "      <td>3.8462</td>\n",
       "      <td>52.0</td>\n",
       "      <td>6.281853</td>\n",
       "      <td>1.081081</td>\n",
       "      <td>565.0</td>\n",
       "      <td>2.181467</td>\n",
       "      <td>37.85</td>\n",
       "      <td>-122.25</td>\n",
       "      <td>3.422</td>\n",
       "    </tr>\n",
       "  </tbody>\n",
       "</table>\n",
       "</div>"
      ],
      "text/plain": [
       "   MedInc  HouseAge  AveRooms  AveBedrms  Population  AveOccup  Latitude  \\\n",
       "0  8.3252      41.0  6.984127   1.023810       322.0  2.555556     37.88   \n",
       "1  8.3014      21.0  6.238137   0.971880      2401.0  2.109842     37.86   \n",
       "2  7.2574      52.0  8.288136   1.073446       496.0  2.802260     37.85   \n",
       "3  5.6431      52.0  5.817352   1.073059       558.0  2.547945     37.85   \n",
       "4  3.8462      52.0  6.281853   1.081081       565.0  2.181467     37.85   \n",
       "\n",
       "   Longitude  HouseValue  \n",
       "0    -122.23       4.526  \n",
       "1    -122.22       3.585  \n",
       "2    -122.24       3.521  \n",
       "3    -122.25       3.413  \n",
       "4    -122.25       3.422  "
      ]
     },
     "execution_count": 85,
     "metadata": {},
     "output_type": "execute_result"
    }
   ],
   "source": [
    "calhDf = pd.DataFrame(calh.data,columns=calh.feature_names)\n",
    "calhDf['HouseValue'] = calh.target\n",
    "calhDf.head()"
   ]
  },
  {
   "cell_type": "markdown",
   "metadata": {
    "slideshow": {
     "slide_type": "slide"
    }
   },
   "source": [
    "### `sklearn`数据挖掘一般流程"
   ]
  },
  {
   "cell_type": "markdown",
   "metadata": {
    "slideshow": {
     "slide_type": "fragment"
    }
   },
   "source": [
    "<center><img src=\"./img/dataMining/sklearnApp.png\" width=80%></center>"
   ]
  },
  {
   "cell_type": "markdown",
   "metadata": {
    "slideshow": {
     "slide_type": "slide"
    }
   },
   "source": [
    "### 波士顿房价 "
   ]
  },
  {
   "cell_type": "markdown",
   "metadata": {
    "slideshow": {
     "slide_type": "fragment"
    }
   },
   "source": [
    "#### 读取数据"
   ]
  },
  {
   "cell_type": "code",
   "execution_count": 5,
   "metadata": {
    "scrolled": true,
    "slideshow": {
     "slide_type": "fragment"
    }
   },
   "outputs": [
    {
     "data": {
      "text/html": [
       "<div>\n",
       "<style scoped>\n",
       "    .dataframe tbody tr th:only-of-type {\n",
       "        vertical-align: middle;\n",
       "    }\n",
       "\n",
       "    .dataframe tbody tr th {\n",
       "        vertical-align: top;\n",
       "    }\n",
       "\n",
       "    .dataframe thead th {\n",
       "        text-align: right;\n",
       "    }\n",
       "</style>\n",
       "<table border=\"1\" class=\"dataframe\">\n",
       "  <thead>\n",
       "    <tr style=\"text-align: right;\">\n",
       "      <th></th>\n",
       "      <th>CRIM</th>\n",
       "      <th>ZN</th>\n",
       "      <th>INDUS</th>\n",
       "      <th>CHAS</th>\n",
       "      <th>NOX</th>\n",
       "      <th>RM</th>\n",
       "      <th>AGE</th>\n",
       "      <th>DIS</th>\n",
       "      <th>RAD</th>\n",
       "      <th>TAX</th>\n",
       "      <th>PTRATIO</th>\n",
       "      <th>B</th>\n",
       "      <th>LSTAT</th>\n",
       "    </tr>\n",
       "  </thead>\n",
       "  <tbody>\n",
       "    <tr>\n",
       "      <th>0</th>\n",
       "      <td>0.00632</td>\n",
       "      <td>18.0</td>\n",
       "      <td>2.31</td>\n",
       "      <td>0.0</td>\n",
       "      <td>0.538</td>\n",
       "      <td>6.575</td>\n",
       "      <td>65.2</td>\n",
       "      <td>4.0900</td>\n",
       "      <td>1.0</td>\n",
       "      <td>296.0</td>\n",
       "      <td>15.3</td>\n",
       "      <td>396.90</td>\n",
       "      <td>4.98</td>\n",
       "    </tr>\n",
       "    <tr>\n",
       "      <th>1</th>\n",
       "      <td>0.02731</td>\n",
       "      <td>0.0</td>\n",
       "      <td>7.07</td>\n",
       "      <td>0.0</td>\n",
       "      <td>0.469</td>\n",
       "      <td>6.421</td>\n",
       "      <td>78.9</td>\n",
       "      <td>4.9671</td>\n",
       "      <td>2.0</td>\n",
       "      <td>242.0</td>\n",
       "      <td>17.8</td>\n",
       "      <td>396.90</td>\n",
       "      <td>9.14</td>\n",
       "    </tr>\n",
       "    <tr>\n",
       "      <th>2</th>\n",
       "      <td>0.02729</td>\n",
       "      <td>0.0</td>\n",
       "      <td>7.07</td>\n",
       "      <td>0.0</td>\n",
       "      <td>0.469</td>\n",
       "      <td>7.185</td>\n",
       "      <td>61.1</td>\n",
       "      <td>4.9671</td>\n",
       "      <td>2.0</td>\n",
       "      <td>242.0</td>\n",
       "      <td>17.8</td>\n",
       "      <td>392.83</td>\n",
       "      <td>4.03</td>\n",
       "    </tr>\n",
       "    <tr>\n",
       "      <th>3</th>\n",
       "      <td>0.03237</td>\n",
       "      <td>0.0</td>\n",
       "      <td>2.18</td>\n",
       "      <td>0.0</td>\n",
       "      <td>0.458</td>\n",
       "      <td>6.998</td>\n",
       "      <td>45.8</td>\n",
       "      <td>6.0622</td>\n",
       "      <td>3.0</td>\n",
       "      <td>222.0</td>\n",
       "      <td>18.7</td>\n",
       "      <td>394.63</td>\n",
       "      <td>2.94</td>\n",
       "    </tr>\n",
       "    <tr>\n",
       "      <th>4</th>\n",
       "      <td>0.06905</td>\n",
       "      <td>0.0</td>\n",
       "      <td>2.18</td>\n",
       "      <td>0.0</td>\n",
       "      <td>0.458</td>\n",
       "      <td>7.147</td>\n",
       "      <td>54.2</td>\n",
       "      <td>6.0622</td>\n",
       "      <td>3.0</td>\n",
       "      <td>222.0</td>\n",
       "      <td>18.7</td>\n",
       "      <td>396.90</td>\n",
       "      <td>5.33</td>\n",
       "    </tr>\n",
       "  </tbody>\n",
       "</table>\n",
       "</div>"
      ],
      "text/plain": [
       "      CRIM    ZN  INDUS  CHAS    NOX     RM   AGE     DIS  RAD    TAX  \\\n",
       "0  0.00632  18.0   2.31   0.0  0.538  6.575  65.2  4.0900  1.0  296.0   \n",
       "1  0.02731   0.0   7.07   0.0  0.469  6.421  78.9  4.9671  2.0  242.0   \n",
       "2  0.02729   0.0   7.07   0.0  0.469  7.185  61.1  4.9671  2.0  242.0   \n",
       "3  0.03237   0.0   2.18   0.0  0.458  6.998  45.8  6.0622  3.0  222.0   \n",
       "4  0.06905   0.0   2.18   0.0  0.458  7.147  54.2  6.0622  3.0  222.0   \n",
       "\n",
       "   PTRATIO       B  LSTAT  \n",
       "0     15.3  396.90   4.98  \n",
       "1     17.8  396.90   9.14  \n",
       "2     17.8  392.83   4.03  \n",
       "3     18.7  394.63   2.94  \n",
       "4     18.7  396.90   5.33  "
      ]
     },
     "execution_count": 5,
     "metadata": {},
     "output_type": "execute_result"
    }
   ],
   "source": [
    "bst = datasets.load_boston()\n",
    "bstDf = pd.DataFrame(bst.data,columns=bst.feature_names)\n",
    "bstDf.head()"
   ]
  },
  {
   "cell_type": "markdown",
   "metadata": {
    "slideshow": {
     "slide_type": "slide"
    }
   },
   "source": [
    "#### 建立模型"
   ]
  },
  {
   "cell_type": "code",
   "execution_count": 6,
   "metadata": {
    "slideshow": {
     "slide_type": "fragment"
    }
   },
   "outputs": [
    {
     "data": {
      "text/plain": [
       "LinearRegression()"
      ]
     },
     "execution_count": 6,
     "metadata": {},
     "output_type": "execute_result"
    }
   ],
   "source": [
    "from sklearn import linear_model\n",
    "bstLearModel = linear_model.LinearRegression()\n",
    "bstLearModel"
   ]
  },
  {
   "cell_type": "markdown",
   "metadata": {
    "slideshow": {
     "slide_type": "fragment"
    }
   },
   "source": [
    "#### 训练模型"
   ]
  },
  {
   "cell_type": "code",
   "execution_count": 7,
   "metadata": {
    "slideshow": {
     "slide_type": "fragment"
    }
   },
   "outputs": [
    {
     "data": {
      "text/plain": [
       "LinearRegression()"
      ]
     },
     "execution_count": 7,
     "metadata": {},
     "output_type": "execute_result"
    }
   ],
   "source": [
    "bstLearModel.fit(bst.data,bst.target)"
   ]
  },
  {
   "cell_type": "code",
   "execution_count": 9,
   "metadata": {
    "slideshow": {
     "slide_type": "fragment"
    }
   },
   "outputs": [
    {
     "data": {
      "text/plain": [
       "{'copy_X': True, 'fit_intercept': True, 'n_jobs': None, 'normalize': False}"
      ]
     },
     "execution_count": 9,
     "metadata": {},
     "output_type": "execute_result"
    }
   ],
   "source": [
    "# 获取模型参数\n",
    "bstLearModel.get_params()"
   ]
  },
  {
   "cell_type": "markdown",
   "metadata": {
    "slideshow": {
     "slide_type": "fragment"
    }
   },
   "source": [
    "##### 得到回归系数与截距"
   ]
  },
  {
   "cell_type": "markdown",
   "metadata": {
    "slideshow": {
     "slide_type": "fragment"
    }
   },
   "source": [
    "- 回归系数：`bstLearModel.coef_`\n",
    "- 截距：`bstLearModel.intercept_`"
   ]
  },
  {
   "cell_type": "code",
   "execution_count": 10,
   "metadata": {
    "slideshow": {
     "slide_type": "fragment"
    }
   },
   "outputs": [
    {
     "name": "stdout",
     "output_type": "stream",
     "text": [
      "回归系数为[-0.108, 0.046, 0.021, 2.687, -17.767, 3.81, 0.001, -1.476, 0.306, -0.012, -0.953, 0.009, -0.525]\n",
      "截距为36.459\n"
     ]
    }
   ],
   "source": [
    "print(f'回归系数为{[round(x,3) for x in bstLearModel.coef_]}')\n",
    "print(f'截距为{bstLearModel.intercept_:.3f}')"
   ]
  },
  {
   "cell_type": "markdown",
   "metadata": {
    "slideshow": {
     "slide_type": "fragment"
    }
   },
   "source": [
    "##### 拟合度"
   ]
  },
  {
   "cell_type": "code",
   "execution_count": 11,
   "metadata": {
    "slideshow": {
     "slide_type": "fragment"
    }
   },
   "outputs": [
    {
     "name": "stdout",
     "output_type": "stream",
     "text": [
      "回归的R-squre为0.741\n"
     ]
    }
   ],
   "source": [
    "bstR2 = bstLearModel.score(bst.data,bst.target)\n",
    "print(f'回归的R-squre为{bstR2:.3f}')"
   ]
  },
  {
   "cell_type": "markdown",
   "metadata": {
    "slideshow": {
     "slide_type": "slide"
    }
   },
   "source": [
    "#### 预测"
   ]
  },
  {
   "cell_type": "code",
   "execution_count": 12,
   "metadata": {
    "slideshow": {
     "slide_type": "fragment"
    }
   },
   "outputs": [
    {
     "data": {
      "text/html": [
       "<div>\n",
       "<style scoped>\n",
       "    .dataframe tbody tr th:only-of-type {\n",
       "        vertical-align: middle;\n",
       "    }\n",
       "\n",
       "    .dataframe tbody tr th {\n",
       "        vertical-align: top;\n",
       "    }\n",
       "\n",
       "    .dataframe thead th {\n",
       "        text-align: right;\n",
       "    }\n",
       "</style>\n",
       "<table border=\"1\" class=\"dataframe\">\n",
       "  <thead>\n",
       "    <tr style=\"text-align: right;\">\n",
       "      <th></th>\n",
       "      <th>原价格</th>\n",
       "      <th>预测价格</th>\n",
       "    </tr>\n",
       "  </thead>\n",
       "  <tbody>\n",
       "    <tr>\n",
       "      <th>0</th>\n",
       "      <td>24.0</td>\n",
       "      <td>30.003843</td>\n",
       "    </tr>\n",
       "    <tr>\n",
       "      <th>1</th>\n",
       "      <td>21.6</td>\n",
       "      <td>25.025562</td>\n",
       "    </tr>\n",
       "    <tr>\n",
       "      <th>2</th>\n",
       "      <td>34.7</td>\n",
       "      <td>30.567597</td>\n",
       "    </tr>\n",
       "    <tr>\n",
       "      <th>3</th>\n",
       "      <td>33.4</td>\n",
       "      <td>28.607036</td>\n",
       "    </tr>\n",
       "    <tr>\n",
       "      <th>4</th>\n",
       "      <td>36.2</td>\n",
       "      <td>27.943524</td>\n",
       "    </tr>\n",
       "    <tr>\n",
       "      <th>...</th>\n",
       "      <td>...</td>\n",
       "      <td>...</td>\n",
       "    </tr>\n",
       "    <tr>\n",
       "      <th>501</th>\n",
       "      <td>22.4</td>\n",
       "      <td>23.533341</td>\n",
       "    </tr>\n",
       "    <tr>\n",
       "      <th>502</th>\n",
       "      <td>20.6</td>\n",
       "      <td>22.375719</td>\n",
       "    </tr>\n",
       "    <tr>\n",
       "      <th>503</th>\n",
       "      <td>23.9</td>\n",
       "      <td>27.627426</td>\n",
       "    </tr>\n",
       "    <tr>\n",
       "      <th>504</th>\n",
       "      <td>22.0</td>\n",
       "      <td>26.127967</td>\n",
       "    </tr>\n",
       "    <tr>\n",
       "      <th>505</th>\n",
       "      <td>11.9</td>\n",
       "      <td>22.344212</td>\n",
       "    </tr>\n",
       "  </tbody>\n",
       "</table>\n",
       "<p>506 rows × 2 columns</p>\n",
       "</div>"
      ],
      "text/plain": [
       "      原价格       预测价格\n",
       "0    24.0  30.003843\n",
       "1    21.6  25.025562\n",
       "2    34.7  30.567597\n",
       "3    33.4  28.607036\n",
       "4    36.2  27.943524\n",
       "..    ...        ...\n",
       "501  22.4  23.533341\n",
       "502  20.6  22.375719\n",
       "503  23.9  27.627426\n",
       "504  22.0  26.127967\n",
       "505  11.9  22.344212\n",
       "\n",
       "[506 rows x 2 columns]"
      ]
     },
     "execution_count": 12,
     "metadata": {},
     "output_type": "execute_result"
    }
   ],
   "source": [
    "predicted = bstLearModel.predict(bst.data)\n",
    "resDf = pd.DataFrame({'原价格':bst.target,'预测价格':predicted})\n",
    "resDf"
   ]
  },
  {
   "cell_type": "markdown",
   "metadata": {
    "slideshow": {
     "slide_type": "slide"
    }
   },
   "source": [
    "### 预处理模块"
   ]
  },
  {
   "cell_type": "markdown",
   "metadata": {
    "slideshow": {
     "slide_type": "fragment"
    }
   },
   "source": [
    "```python\n",
    "    from sklearn import preprocessing\n",
    "```"
   ]
  },
  {
   "cell_type": "markdown",
   "metadata": {
    "slideshow": {
     "slide_type": "fragment"
    }
   },
   "source": [
    "#### 标准化"
   ]
  },
  {
   "cell_type": "markdown",
   "metadata": {
    "slideshow": {
     "slide_type": "fragment"
    }
   },
   "source": [
    "给定序列$\\{x_1,x_2,x_n\\}$，$\\bar{x}$为其均值，$\\sigma$为其标准差，则标准化为，\n",
    "\n",
    "$$\n",
    "\\hat{x}_i=\\frac{x_i-\\bar{x}}{\\sigma}\n",
    "$$"
   ]
  },
  {
   "cell_type": "markdown",
   "metadata": {
    "slideshow": {
     "slide_type": "fragment"
    }
   },
   "source": [
    "```python\n",
    "preprocessing.scale(X, axis=0)\n",
    "```\n",
    "- `axis`：沿轴标准化数据"
   ]
  },
  {
   "cell_type": "code",
   "execution_count": 13,
   "metadata": {
    "slideshow": {
     "slide_type": "fragment"
    }
   },
   "outputs": [
    {
     "data": {
      "text/plain": [
       "22.532806324110677"
      ]
     },
     "execution_count": 13,
     "metadata": {},
     "output_type": "execute_result"
    },
    {
     "data": {
      "text/plain": [
       "9.188011545278203"
      ]
     },
     "execution_count": 13,
     "metadata": {},
     "output_type": "execute_result"
    }
   ],
   "source": [
    "bstPrice = bst.target\n",
    "bstPrice.mean()\n",
    "bstPrice.std()"
   ]
  },
  {
   "cell_type": "code",
   "execution_count": 14,
   "metadata": {
    "slideshow": {
     "slide_type": "fragment"
    }
   },
   "outputs": [
    {
     "data": {
      "text/plain": [
       "array([ 0.15968566, -0.10152429,  1.32424667,  1.18275795,  1.48750288,\n",
       "        0.6712218 ,  0.03996443,  0.49708184, -0.65659542, -0.39538548])"
      ]
     },
     "execution_count": 14,
     "metadata": {},
     "output_type": "execute_result"
    },
    {
     "data": {
      "text/plain": [
       "-5.195668225913776e-16"
      ]
     },
     "execution_count": 14,
     "metadata": {},
     "output_type": "execute_result"
    },
    {
     "data": {
      "text/plain": [
       "0.9999999999999999"
      ]
     },
     "execution_count": 14,
     "metadata": {},
     "output_type": "execute_result"
    }
   ],
   "source": [
    "from sklearn import preprocessing\n",
    "bstPriceStd = preprocessing.scale(bstPrice)\n",
    "bstPriceStd[:10]\n",
    "bstPriceStd.mean()\n",
    "bstPriceStd.std()"
   ]
  },
  {
   "cell_type": "markdown",
   "metadata": {
    "slideshow": {
     "slide_type": "slide"
    }
   },
   "source": [
    "##### 标准化模型"
   ]
  },
  {
   "cell_type": "code",
   "execution_count": 16,
   "metadata": {
    "slideshow": {
     "slide_type": "fragment"
    }
   },
   "outputs": [],
   "source": [
    "# 建立模型\n",
    "stdScaler = preprocessing.StandardScaler()"
   ]
  },
  {
   "cell_type": "code",
   "execution_count": 18,
   "metadata": {
    "slideshow": {
     "slide_type": "fragment"
    }
   },
   "outputs": [
    {
     "data": {
      "text/plain": [
       "StandardScaler()"
      ]
     },
     "execution_count": 18,
     "metadata": {},
     "output_type": "execute_result"
    }
   ],
   "source": [
    "# 拟合数据\n",
    "stdScaler.fit(bstPrice.reshape(-1,1))"
   ]
  },
  {
   "cell_type": "code",
   "execution_count": 19,
   "metadata": {
    "slideshow": {
     "slide_type": "fragment"
    }
   },
   "outputs": [
    {
     "data": {
      "text/plain": [
       "{'copy': True, 'with_mean': True, 'with_std': True}"
      ]
     },
     "execution_count": 19,
     "metadata": {},
     "output_type": "execute_result"
    }
   ],
   "source": [
    "stdScaler.get_params()"
   ]
  },
  {
   "cell_type": "code",
   "execution_count": 22,
   "metadata": {
    "slideshow": {
     "slide_type": "fragment"
    }
   },
   "outputs": [
    {
     "data": {
      "text/plain": [
       "array([[ 0.15968566],\n",
       "       [-0.10152429],\n",
       "       [ 1.32424667],\n",
       "       [ 1.18275795],\n",
       "       [ 1.48750288],\n",
       "       [ 0.6712218 ],\n",
       "       [ 0.03996443],\n",
       "       [ 0.49708184],\n",
       "       [-0.65659542],\n",
       "       [-0.39538548],\n",
       "       [-0.81985164],\n",
       "       [-0.39538548],\n",
       "       [-0.09064054],\n",
       "       [-0.23212926],\n",
       "       [-0.47157171],\n",
       "       [-0.286548  ],\n",
       "       [ 0.06173193],\n",
       "       [-0.54775795],\n",
       "       [-0.25389676],\n",
       "       [-0.47157171],\n",
       "       [-0.97222411],\n",
       "       [-0.31919924],\n",
       "       [-0.79808414],\n",
       "       [-0.87427038],\n",
       "       [-0.75454915],\n",
       "       [-0.93957286],\n",
       "       [-0.64571167],\n",
       "       [-0.84161913],\n",
       "       [-0.44980422],\n",
       "       [-0.16682677],\n",
       "       [-1.07017784],\n",
       "       [-0.87427038],\n",
       "       [-1.0157591 ],\n",
       "       [-1.02664285],\n",
       "       [-0.98310786],\n",
       "       [-0.39538548],\n",
       "       [-0.27566425],\n",
       "       [-0.16682677],\n",
       "       [ 0.23587189],\n",
       "       [ 0.89978051],\n",
       "       [ 1.34601416],\n",
       "       [ 0.4426631 ],\n",
       "       [ 0.30117438],\n",
       "       [ 0.23587189],\n",
       "       [-0.14505928],\n",
       "       [-0.35185049],\n",
       "       [-0.27566425],\n",
       "       [-0.64571167],\n",
       "       [-0.88515413],\n",
       "       [-0.34096674],\n",
       "       [-0.30831549],\n",
       "       [-0.22124551],\n",
       "       [ 0.26852314],\n",
       "       [ 0.09438317],\n",
       "       [-0.39538548],\n",
       "       [ 1.4004329 ],\n",
       "       [ 0.23587189],\n",
       "       [ 0.98685049],\n",
       "       [ 0.08349942],\n",
       "       [-0.31919924],\n",
       "       [-0.41715297],\n",
       "       [-0.71101416],\n",
       "       [-0.0362218 ],\n",
       "       [ 0.26852314],\n",
       "       [ 1.13922296],\n",
       "       [ 0.10526692],\n",
       "       [-0.34096674],\n",
       "       [-0.0579893 ],\n",
       "       [-0.55864169],\n",
       "       [-0.17771052],\n",
       "       [ 0.18145315],\n",
       "       [-0.09064054],\n",
       "       [ 0.02908069],\n",
       "       [ 0.09438317],\n",
       "       [ 0.17056941],\n",
       "       [-0.12329178],\n",
       "       [-0.27566425],\n",
       "       [-0.18859427],\n",
       "       [-0.14505928],\n",
       "       [-0.24301301],\n",
       "       [ 0.59503557],\n",
       "       [ 0.14880191],\n",
       "       [ 0.24675564],\n",
       "       [ 0.03996443],\n",
       "       [ 0.14880191],\n",
       "       [ 0.4426631 ],\n",
       "       [-0.00357056],\n",
       "       [-0.0362218 ],\n",
       "       [ 0.11615067],\n",
       "       [ 0.6712218 ],\n",
       "       [ 0.00731319],\n",
       "       [-0.0579893 ],\n",
       "       [ 0.03996443],\n",
       "       [ 0.26852314],\n",
       "       [-0.21036176],\n",
       "       [ 0.63857056],\n",
       "       [-0.12329178],\n",
       "       [ 1.75959658],\n",
       "       [ 2.31466771],\n",
       "       [ 1.16099045],\n",
       "       [ 0.54061683],\n",
       "       [ 0.43177935],\n",
       "       [-0.42803672],\n",
       "       [-0.35185049],\n",
       "       [-0.2647805 ],\n",
       "       [-0.33008299],\n",
       "       [-0.33008299],\n",
       "       [-0.23212926],\n",
       "       [-0.29743175],\n",
       "       [-0.34096674],\n",
       "       [-0.09064054],\n",
       "       [ 0.02908069],\n",
       "       [-0.40626922],\n",
       "       [-0.41715297],\n",
       "       [-0.43892047],\n",
       "       [-0.46068796],\n",
       "       [-0.14505928],\n",
       "       [-0.36273423],\n",
       "       [-0.23212926],\n",
       "       [-0.35185049],\n",
       "       [-0.0579893 ],\n",
       "       [-0.24301301],\n",
       "       [-0.22124551],\n",
       "       [-0.56952544],\n",
       "       [-0.40626922],\n",
       "       [-0.12329178],\n",
       "       [-0.7436654 ],\n",
       "       [-0.68924667],\n",
       "       [-0.49333921],\n",
       "       [-0.89603787],\n",
       "       [-0.36273423],\n",
       "       [-0.31919924],\n",
       "       [ 0.05084818],\n",
       "       [-0.44980422],\n",
       "       [-0.75454915],\n",
       "       [-0.48245546],\n",
       "       [-0.55864169],\n",
       "       [-0.59129294],\n",
       "       [-1.00487535],\n",
       "       [-0.5151067 ],\n",
       "       [-0.92868912],\n",
       "       [-0.88515413],\n",
       "       [-0.9939916 ],\n",
       "       [-0.75454915],\n",
       "       [-1.16813157],\n",
       "       [-0.95045661],\n",
       "       [-0.75454915],\n",
       "       [-0.86338663],\n",
       "       [-0.5151067 ],\n",
       "       [-0.77631665],\n",
       "       [-0.11240804],\n",
       "       [-0.31919924],\n",
       "       [-0.7872004 ],\n",
       "       [-0.34096674],\n",
       "       [-0.60217668],\n",
       "       [-0.75454915],\n",
       "       [-1.02664285],\n",
       "       [ 2.04257402],\n",
       "       [ 0.1923369 ],\n",
       "       [ 0.08349942],\n",
       "       [ 0.48619809],\n",
       "       [ 2.98946007],\n",
       "       [ 2.98946007],\n",
       "       [ 2.98946007],\n",
       "       [ 0.01819694],\n",
       "       [ 0.26852314],\n",
       "       [ 2.98946007],\n",
       "       [ 0.13791816],\n",
       "       [ 0.13791816],\n",
       "       [-0.02533805],\n",
       "       [-0.55864169],\n",
       "       [-0.37361798],\n",
       "       [ 0.06173193],\n",
       "       [ 0.11615067],\n",
       "       [ 0.00731319],\n",
       "       [ 0.74740804],\n",
       "       [ 0.07261568],\n",
       "       [ 0.22498815],\n",
       "       [ 0.80182678],\n",
       "       [ 1.59634036],\n",
       "       [ 1.8793178 ],\n",
       "       [ 1.48750288],\n",
       "       [ 1.6725266 ],\n",
       "       [ 1.08480422],\n",
       "       [ 0.4208956 ],\n",
       "       [ 0.76917553],\n",
       "       [ 2.98946007],\n",
       "       [ 1.03038548],\n",
       "       [ 0.79094303],\n",
       "       [ 1.34601416],\n",
       "       [ 1.57457287],\n",
       "       [ 0.86712926],\n",
       "       [ 1.50927038],\n",
       "       [ 0.93243175],\n",
       "       [ 0.71475679],\n",
       "       [ 2.98946007],\n",
       "       [ 1.1718742 ],\n",
       "       [ 0.84536177],\n",
       "       [ 1.31336292],\n",
       "       [ 1.34601416],\n",
       "       [ 1.12833921],\n",
       "       [ 0.17056941],\n",
       "       [ 2.1514115 ],\n",
       "       [ 2.82620386],\n",
       "       [ 2.98946007],\n",
       "       [ 0.00731319],\n",
       "       [ 0.20322065],\n",
       "       [-0.00357056],\n",
       "       [ 0.20322065],\n",
       "       [-0.27566425],\n",
       "       [-0.09064054],\n",
       "       [-0.35185049],\n",
       "       [-0.01445431],\n",
       "       [ 0.60591932],\n",
       "       [ 0.12703442],\n",
       "       [ 0.26852314],\n",
       "       [ 0.08349942],\n",
       "       [ 0.6712218 ],\n",
       "       [-0.11240804],\n",
       "       [ 0.05084818],\n",
       "       [ 0.45354685],\n",
       "       [-0.09064054],\n",
       "       [ 0.54061683],\n",
       "       [ 0.82359427],\n",
       "       [ 2.42350519],\n",
       "       [ 2.98946007],\n",
       "       [ 1.63987535],\n",
       "       [ 0.98685049],\n",
       "       [ 2.6302964 ],\n",
       "       [ 0.97596674],\n",
       "       [ 0.1923369 ],\n",
       "       [ 0.99773424],\n",
       "       [ 2.08610901],\n",
       "       [ 2.80443636],\n",
       "       [ 0.70387305],\n",
       "       [ 0.15968566],\n",
       "       [ 0.27940688],\n",
       "       [ 0.97596674],\n",
       "       [ 0.12703442],\n",
       "       [ 0.08349942],\n",
       "       [-0.0579893 ],\n",
       "       [-0.2647805 ],\n",
       "       [-0.0362218 ],\n",
       "       [ 0.12703442],\n",
       "       [-0.5368742 ],\n",
       "       [-0.43892047],\n",
       "       [ 0.1923369 ],\n",
       "       [-0.22124551],\n",
       "       [ 0.2141044 ],\n",
       "       [ 0.39912811],\n",
       "       [ 0.20322065],\n",
       "       [ 0.24675564],\n",
       "       [ 0.76917553],\n",
       "       [ 2.20583024],\n",
       "       [-0.06887304],\n",
       "       [-0.17771052],\n",
       "       [ 2.33643521],\n",
       "       [ 2.98946007],\n",
       "       [ 1.46573539],\n",
       "       [ 0.82359427],\n",
       "       [ 1.22629294],\n",
       "       [ 2.23848148],\n",
       "       [ 2.8588551 ],\n",
       "       [ 0.921548  ],\n",
       "       [ 1.52015413],\n",
       "       [ 0.02908069],\n",
       "       [ 0.88889676],\n",
       "       [ 2.98946007],\n",
       "       [ 2.28201647],\n",
       "       [-0.19947802],\n",
       "       [-0.15594303],\n",
       "       [ 0.29029063],\n",
       "       [ 0.20322065],\n",
       "       [ 1.37866541],\n",
       "       [ 1.07392047],\n",
       "       [ 1.03038548],\n",
       "       [ 1.16099045],\n",
       "       [ 1.1501067 ],\n",
       "       [ 0.71475679],\n",
       "       [ 1.36778166],\n",
       "       [ 2.48880768],\n",
       "       [ 1.4004329 ],\n",
       "       [ 2.55411016],\n",
       "       [ 2.98946007],\n",
       "       [ 1.05215297],\n",
       "       [-0.0579893 ],\n",
       "       [-0.2647805 ],\n",
       "       [ 0.07261568],\n",
       "       [-0.02533805],\n",
       "       [ 0.24675564],\n",
       "       [ 0.64945431],\n",
       "       [ 1.60722411],\n",
       "       [ 0.58415182],\n",
       "       [ 0.14880191],\n",
       "       [-0.09064054],\n",
       "       [ 0.66033806],\n",
       "       [ 0.49708184],\n",
       "       [-0.24301301],\n",
       "       [-0.00357056],\n",
       "       [ 0.70387305],\n",
       "       [ 0.24675564],\n",
       "       [-0.0579893 ],\n",
       "       [ 0.4208956 ],\n",
       "       [ 1.1501067 ],\n",
       "       [ 1.47661914],\n",
       "       [ 0.63857056],\n",
       "       [ 1.18275795],\n",
       "       [ 0.61680306],\n",
       "       [ 0.02908069],\n",
       "       [-0.24301301],\n",
       "       [-0.70013041],\n",
       "       [-0.04710555],\n",
       "       [-0.34096674],\n",
       "       [-0.10152429],\n",
       "       [ 0.13791816],\n",
       "       [-0.68924667],\n",
       "       [-0.5151067 ],\n",
       "       [-0.29743175],\n",
       "       [ 0.06173193],\n",
       "       [-0.16682677],\n",
       "       [ 0.13791816],\n",
       "       [ 0.06173193],\n",
       "       [-0.23212926],\n",
       "       [-0.43892047],\n",
       "       [ 0.26852314],\n",
       "       [ 0.22498815],\n",
       "       [ 0.05084818],\n",
       "       [-0.0362218 ],\n",
       "       [-0.35185049],\n",
       "       [ 0.00731319],\n",
       "       [-0.29743175],\n",
       "       [-0.59129294],\n",
       "       [-0.34096674],\n",
       "       [-0.0362218 ],\n",
       "       [-0.19947802],\n",
       "       [-0.15594303],\n",
       "       [-0.33008299],\n",
       "       [-0.43892047],\n",
       "       [-0.21036176],\n",
       "       [-0.38450173],\n",
       "       [-0.41715297],\n",
       "       [ 1.10657171],\n",
       "       [-0.65659542],\n",
       "       [ 0.14880191],\n",
       "       [ 0.9433155 ],\n",
       "       [-0.54775795],\n",
       "       [-0.58040919],\n",
       "       [ 0.06173193],\n",
       "       [ 0.2141044 ],\n",
       "       [ 0.4426631 ],\n",
       "       [ 0.03996443],\n",
       "       [ 0.17056941],\n",
       "       [-0.42803672],\n",
       "       [ 0.82359427],\n",
       "       [-0.47157171],\n",
       "       [-0.21036176],\n",
       "       [-0.5151067 ],\n",
       "       [-0.09064054],\n",
       "       [ 0.01819694],\n",
       "       [ 0.00731319],\n",
       "       [ 0.26852314],\n",
       "       [-0.286548  ],\n",
       "       [-0.18859427],\n",
       "       [-0.62394418],\n",
       "       [-0.06887304],\n",
       "       [ 0.54061683],\n",
       "       [-0.06887304],\n",
       "       [ 0.06173193],\n",
       "       [ 2.98946007],\n",
       "       [ 2.98946007],\n",
       "       [ 2.98946007],\n",
       "       [ 2.98946007],\n",
       "       [ 2.98946007],\n",
       "       [-0.95045661],\n",
       "       [-0.95045661],\n",
       "       [-0.81985164],\n",
       "       [-0.93957286],\n",
       "       [-1.00487535],\n",
       "       [-1.02664285],\n",
       "       [-1.34227153],\n",
       "       [-1.32050404],\n",
       "       [-1.2660853 ],\n",
       "       [-1.22255031],\n",
       "       [-1.11371283],\n",
       "       [-1.494644  ],\n",
       "       [-1.66878396],\n",
       "       [-1.30962029],\n",
       "       [-1.64701647],\n",
       "       [-1.34227153],\n",
       "       [-1.20078281],\n",
       "       [-0.80896789],\n",
       "       [ 0.07261568],\n",
       "       [-1.39669027],\n",
       "       [-0.95045661],\n",
       "       [-1.07017784],\n",
       "       [-1.02664285],\n",
       "       [-1.09194533],\n",
       "       [-1.52729524],\n",
       "       [-1.90822641],\n",
       "       [-1.76673769],\n",
       "       [-1.84292393],\n",
       "       [-1.66878396],\n",
       "       [-1.13548032],\n",
       "       [-1.54906274],\n",
       "       [-1.52729524],\n",
       "       [-1.90822641],\n",
       "       [-1.15724782],\n",
       "       [ 0.58415182],\n",
       "       [-0.58040919],\n",
       "       [ 0.54061683],\n",
       "       [-0.81985164],\n",
       "       [-0.58040919],\n",
       "       [-0.50422295],\n",
       "       [-0.67836292],\n",
       "       [-1.69055146],\n",
       "       [-1.66878396],\n",
       "       [-1.63613272],\n",
       "       [-1.32050404],\n",
       "       [-1.494644  ],\n",
       "       [-1.53817899],\n",
       "       [-0.63482793],\n",
       "       [-0.90692162],\n",
       "       [-0.18859427],\n",
       "       [-0.9939916 ],\n",
       "       [-1.17901531],\n",
       "       [-1.54906274],\n",
       "       [-1.34227153],\n",
       "       [-1.2660853 ],\n",
       "       [-1.25520155],\n",
       "       [-1.41845777],\n",
       "       [-0.87427038],\n",
       "       [-0.91780537],\n",
       "       [-0.70013041],\n",
       "       [-0.89603787],\n",
       "       [-1.17901531],\n",
       "       [-0.9939916 ],\n",
       "       [-1.40757402],\n",
       "       [-1.50552775],\n",
       "       [-1.53817899],\n",
       "       [-1.05929409],\n",
       "       [-1.30962029],\n",
       "       [-0.59129294],\n",
       "       [-0.44980422],\n",
       "       [-0.77631665],\n",
       "       [-1.27696904],\n",
       "       [-1.16813157],\n",
       "       [-0.83073539],\n",
       "       [-1.08106158],\n",
       "       [-0.91780537],\n",
       "       [-1.03752659],\n",
       "       [-0.9939916 ],\n",
       "       [-0.79808414],\n",
       "       [-0.70013041],\n",
       "       [-0.5151067 ],\n",
       "       [-0.83073539],\n",
       "       [-0.91780537],\n",
       "       [-1.07017784],\n",
       "       [-0.98310786],\n",
       "       [-0.83073539],\n",
       "       [-0.27566425],\n",
       "       [-0.66747917],\n",
       "       [-0.52599045],\n",
       "       [-0.33008299],\n",
       "       [-0.25389676],\n",
       "       [-0.12329178],\n",
       "       [-0.286548  ],\n",
       "       [-0.38450173],\n",
       "       [-0.37361798],\n",
       "       [-0.37361798],\n",
       "       [-0.2647805 ],\n",
       "       [-0.286548  ],\n",
       "       [-0.31919924],\n",
       "       [ 0.07261568],\n",
       "       [ 0.79094303],\n",
       "       [-0.95045661],\n",
       "       [-1.00487535],\n",
       "       [-0.63482793],\n",
       "       [-1.14636407],\n",
       "       [-0.86338663],\n",
       "       [-0.12329178],\n",
       "       [ 0.05084818],\n",
       "       [ 0.12703442],\n",
       "       [ 0.26852314],\n",
       "       [-0.07975679],\n",
       "       [-0.21036176],\n",
       "       [-0.14505928],\n",
       "       [-0.37361798],\n",
       "       [-0.21036176],\n",
       "       [-0.79808414],\n",
       "       [-1.69055146],\n",
       "       [-1.57083023],\n",
       "       [-0.97222411],\n",
       "       [-0.2647805 ],\n",
       "       [-0.07975679],\n",
       "       [ 0.2141044 ],\n",
       "       [ 0.06173193],\n",
       "       [-0.30831549],\n",
       "       [-0.46068796],\n",
       "       [-0.14505928],\n",
       "       [-0.54775795],\n",
       "       [-0.62394418],\n",
       "       [-0.01445431],\n",
       "       [-0.21036176],\n",
       "       [ 0.14880191],\n",
       "       [-0.0579893 ],\n",
       "       [-1.15724782]])"
      ]
     },
     "execution_count": 22,
     "metadata": {},
     "output_type": "execute_result"
    }
   ],
   "source": [
    "# 原始数据变换\n",
    "stdScaler.transform(bstPrice.reshape(-1,1))"
   ]
  },
  {
   "cell_type": "markdown",
   "metadata": {
    "slideshow": {
     "slide_type": "slide"
    }
   },
   "source": [
    "#### MinMax变换"
   ]
  },
  {
   "cell_type": "markdown",
   "metadata": {
    "slideshow": {
     "slide_type": "fragment"
    }
   },
   "source": [
    "给定序列$x_i, i=1,2,\\cdots,n$，$x_{\\max}$为其最大值，$x_{\\min}$为其最小值，则\n",
    "\n",
    "$$\n",
    "\\hat{x}_i=\\frac{x_i-x_{\\min}}{x_{\\max}-x_{\\min}}\n",
    "$$"
   ]
  },
  {
   "cell_type": "code",
   "execution_count": 23,
   "metadata": {
    "slideshow": {
     "slide_type": "fragment"
    }
   },
   "outputs": [],
   "source": [
    "#建立模型\n",
    "minmaxScaler = preprocessing.MinMaxScaler()"
   ]
  },
  {
   "cell_type": "code",
   "execution_count": 24,
   "metadata": {
    "slideshow": {
     "slide_type": "fragment"
    }
   },
   "outputs": [
    {
     "data": {
      "text/plain": [
       "MinMaxScaler()"
      ]
     },
     "execution_count": 24,
     "metadata": {},
     "output_type": "execute_result"
    }
   ],
   "source": [
    "#拟合数据\n",
    "minmaxScaler.fit(bstPrice.reshape(-1,1))"
   ]
  },
  {
   "cell_type": "code",
   "execution_count": 25,
   "metadata": {
    "slideshow": {
     "slide_type": "fragment"
    }
   },
   "outputs": [
    {
     "data": {
      "text/plain": [
       "{'copy': True, 'feature_range': (0, 1)}"
      ]
     },
     "execution_count": 25,
     "metadata": {},
     "output_type": "execute_result"
    }
   ],
   "source": [
    "minmaxScaler.get_params()"
   ]
  },
  {
   "cell_type": "code",
   "execution_count": 26,
   "metadata": {
    "slideshow": {
     "slide_type": "fragment"
    }
   },
   "outputs": [
    {
     "data": {
      "text/plain": [
       "array([[0.42222222],\n",
       "       [0.36888889],\n",
       "       [0.66      ],\n",
       "       [0.63111111],\n",
       "       [0.69333333],\n",
       "       [0.52666667],\n",
       "       [0.39777778],\n",
       "       [0.49111111],\n",
       "       [0.25555556],\n",
       "       [0.30888889],\n",
       "       [0.22222222],\n",
       "       [0.30888889],\n",
       "       [0.37111111],\n",
       "       [0.34222222],\n",
       "       [0.29333333],\n",
       "       [0.33111111],\n",
       "       [0.40222222],\n",
       "       [0.27777778],\n",
       "       [0.33777778],\n",
       "       [0.29333333],\n",
       "       [0.19111111],\n",
       "       [0.32444444],\n",
       "       [0.22666667],\n",
       "       [0.21111111],\n",
       "       [0.23555556],\n",
       "       [0.19777778],\n",
       "       [0.25777778],\n",
       "       [0.21777778],\n",
       "       [0.29777778],\n",
       "       [0.35555556],\n",
       "       [0.17111111],\n",
       "       [0.21111111],\n",
       "       [0.18222222],\n",
       "       [0.18      ],\n",
       "       [0.18888889],\n",
       "       [0.30888889],\n",
       "       [0.33333333],\n",
       "       [0.35555556],\n",
       "       [0.43777778],\n",
       "       [0.57333333],\n",
       "       [0.66444444],\n",
       "       [0.48      ],\n",
       "       [0.45111111],\n",
       "       [0.43777778],\n",
       "       [0.36      ],\n",
       "       [0.31777778],\n",
       "       [0.33333333],\n",
       "       [0.25777778],\n",
       "       [0.20888889],\n",
       "       [0.32      ],\n",
       "       [0.32666667],\n",
       "       [0.34444444],\n",
       "       [0.44444444],\n",
       "       [0.40888889],\n",
       "       [0.30888889],\n",
       "       [0.67555556],\n",
       "       [0.43777778],\n",
       "       [0.59111111],\n",
       "       [0.40666667],\n",
       "       [0.32444444],\n",
       "       [0.30444444],\n",
       "       [0.24444444],\n",
       "       [0.38222222],\n",
       "       [0.44444444],\n",
       "       [0.62222222],\n",
       "       [0.41111111],\n",
       "       [0.32      ],\n",
       "       [0.37777778],\n",
       "       [0.27555556],\n",
       "       [0.35333333],\n",
       "       [0.42666667],\n",
       "       [0.37111111],\n",
       "       [0.39555556],\n",
       "       [0.40888889],\n",
       "       [0.42444444],\n",
       "       [0.36444444],\n",
       "       [0.33333333],\n",
       "       [0.35111111],\n",
       "       [0.36      ],\n",
       "       [0.34      ],\n",
       "       [0.51111111],\n",
       "       [0.42      ],\n",
       "       [0.44      ],\n",
       "       [0.39777778],\n",
       "       [0.42      ],\n",
       "       [0.48      ],\n",
       "       [0.38888889],\n",
       "       [0.38222222],\n",
       "       [0.41333333],\n",
       "       [0.52666667],\n",
       "       [0.39111111],\n",
       "       [0.37777778],\n",
       "       [0.39777778],\n",
       "       [0.44444444],\n",
       "       [0.34666667],\n",
       "       [0.52      ],\n",
       "       [0.36444444],\n",
       "       [0.74888889],\n",
       "       [0.86222222],\n",
       "       [0.62666667],\n",
       "       [0.5       ],\n",
       "       [0.47777778],\n",
       "       [0.30222222],\n",
       "       [0.31777778],\n",
       "       [0.33555556],\n",
       "       [0.32222222],\n",
       "       [0.32222222],\n",
       "       [0.34222222],\n",
       "       [0.32888889],\n",
       "       [0.32      ],\n",
       "       [0.37111111],\n",
       "       [0.39555556],\n",
       "       [0.30666667],\n",
       "       [0.30444444],\n",
       "       [0.3       ],\n",
       "       [0.29555556],\n",
       "       [0.36      ],\n",
       "       [0.31555556],\n",
       "       [0.34222222],\n",
       "       [0.31777778],\n",
       "       [0.37777778],\n",
       "       [0.34      ],\n",
       "       [0.34444444],\n",
       "       [0.27333333],\n",
       "       [0.30666667],\n",
       "       [0.36444444],\n",
       "       [0.23777778],\n",
       "       [0.24888889],\n",
       "       [0.28888889],\n",
       "       [0.20666667],\n",
       "       [0.31555556],\n",
       "       [0.32444444],\n",
       "       [0.4       ],\n",
       "       [0.29777778],\n",
       "       [0.23555556],\n",
       "       [0.29111111],\n",
       "       [0.27555556],\n",
       "       [0.26888889],\n",
       "       [0.18444444],\n",
       "       [0.28444444],\n",
       "       [0.2       ],\n",
       "       [0.20888889],\n",
       "       [0.18666667],\n",
       "       [0.23555556],\n",
       "       [0.15111111],\n",
       "       [0.19555556],\n",
       "       [0.23555556],\n",
       "       [0.21333333],\n",
       "       [0.28444444],\n",
       "       [0.23111111],\n",
       "       [0.36666667],\n",
       "       [0.32444444],\n",
       "       [0.22888889],\n",
       "       [0.32      ],\n",
       "       [0.26666667],\n",
       "       [0.23555556],\n",
       "       [0.18      ],\n",
       "       [0.80666667],\n",
       "       [0.42888889],\n",
       "       [0.40666667],\n",
       "       [0.48888889],\n",
       "       [1.        ],\n",
       "       [1.        ],\n",
       "       [1.        ],\n",
       "       [0.39333333],\n",
       "       [0.44444444],\n",
       "       [1.        ],\n",
       "       [0.41777778],\n",
       "       [0.41777778],\n",
       "       [0.38444444],\n",
       "       [0.27555556],\n",
       "       [0.31333333],\n",
       "       [0.40222222],\n",
       "       [0.41333333],\n",
       "       [0.39111111],\n",
       "       [0.54222222],\n",
       "       [0.40444444],\n",
       "       [0.43555556],\n",
       "       [0.55333333],\n",
       "       [0.71555556],\n",
       "       [0.77333333],\n",
       "       [0.69333333],\n",
       "       [0.73111111],\n",
       "       [0.61111111],\n",
       "       [0.47555556],\n",
       "       [0.54666667],\n",
       "       [1.        ],\n",
       "       [0.6       ],\n",
       "       [0.55111111],\n",
       "       [0.66444444],\n",
       "       [0.71111111],\n",
       "       [0.56666667],\n",
       "       [0.69777778],\n",
       "       [0.58      ],\n",
       "       [0.53555556],\n",
       "       [1.        ],\n",
       "       [0.62888889],\n",
       "       [0.56222222],\n",
       "       [0.65777778],\n",
       "       [0.66444444],\n",
       "       [0.62      ],\n",
       "       [0.42444444],\n",
       "       [0.82888889],\n",
       "       [0.96666667],\n",
       "       [1.        ],\n",
       "       [0.39111111],\n",
       "       [0.43111111],\n",
       "       [0.38888889],\n",
       "       [0.43111111],\n",
       "       [0.33333333],\n",
       "       [0.37111111],\n",
       "       [0.31777778],\n",
       "       [0.38666667],\n",
       "       [0.51333333],\n",
       "       [0.41555556],\n",
       "       [0.44444444],\n",
       "       [0.40666667],\n",
       "       [0.52666667],\n",
       "       [0.36666667],\n",
       "       [0.4       ],\n",
       "       [0.48222222],\n",
       "       [0.37111111],\n",
       "       [0.5       ],\n",
       "       [0.55777778],\n",
       "       [0.88444444],\n",
       "       [1.        ],\n",
       "       [0.72444444],\n",
       "       [0.59111111],\n",
       "       [0.92666667],\n",
       "       [0.58888889],\n",
       "       [0.42888889],\n",
       "       [0.59333333],\n",
       "       [0.81555556],\n",
       "       [0.96222222],\n",
       "       [0.53333333],\n",
       "       [0.42222222],\n",
       "       [0.44666667],\n",
       "       [0.58888889],\n",
       "       [0.41555556],\n",
       "       [0.40666667],\n",
       "       [0.37777778],\n",
       "       [0.33555556],\n",
       "       [0.38222222],\n",
       "       [0.41555556],\n",
       "       [0.28      ],\n",
       "       [0.3       ],\n",
       "       [0.42888889],\n",
       "       [0.34444444],\n",
       "       [0.43333333],\n",
       "       [0.47111111],\n",
       "       [0.43111111],\n",
       "       [0.44      ],\n",
       "       [0.54666667],\n",
       "       [0.84      ],\n",
       "       [0.37555556],\n",
       "       [0.35333333],\n",
       "       [0.86666667],\n",
       "       [1.        ],\n",
       "       [0.68888889],\n",
       "       [0.55777778],\n",
       "       [0.64      ],\n",
       "       [0.84666667],\n",
       "       [0.97333333],\n",
       "       [0.57777778],\n",
       "       [0.7       ],\n",
       "       [0.39555556],\n",
       "       [0.57111111],\n",
       "       [1.        ],\n",
       "       [0.85555556],\n",
       "       [0.34888889],\n",
       "       [0.35777778],\n",
       "       [0.44888889],\n",
       "       [0.43111111],\n",
       "       [0.67111111],\n",
       "       [0.60888889],\n",
       "       [0.6       ],\n",
       "       [0.62666667],\n",
       "       [0.62444444],\n",
       "       [0.53555556],\n",
       "       [0.66888889],\n",
       "       [0.89777778],\n",
       "       [0.67555556],\n",
       "       [0.91111111],\n",
       "       [1.        ],\n",
       "       [0.60444444],\n",
       "       [0.37777778],\n",
       "       [0.33555556],\n",
       "       [0.40444444],\n",
       "       [0.38444444],\n",
       "       [0.44      ],\n",
       "       [0.52222222],\n",
       "       [0.71777778],\n",
       "       [0.50888889],\n",
       "       [0.42      ],\n",
       "       [0.37111111],\n",
       "       [0.52444444],\n",
       "       [0.49111111],\n",
       "       [0.34      ],\n",
       "       [0.38888889],\n",
       "       [0.53333333],\n",
       "       [0.44      ],\n",
       "       [0.37777778],\n",
       "       [0.47555556],\n",
       "       [0.62444444],\n",
       "       [0.69111111],\n",
       "       [0.52      ],\n",
       "       [0.63111111],\n",
       "       [0.51555556],\n",
       "       [0.39555556],\n",
       "       [0.34      ],\n",
       "       [0.24666667],\n",
       "       [0.38      ],\n",
       "       [0.32      ],\n",
       "       [0.36888889],\n",
       "       [0.41777778],\n",
       "       [0.24888889],\n",
       "       [0.28444444],\n",
       "       [0.32888889],\n",
       "       [0.40222222],\n",
       "       [0.35555556],\n",
       "       [0.41777778],\n",
       "       [0.40222222],\n",
       "       [0.34222222],\n",
       "       [0.3       ],\n",
       "       [0.44444444],\n",
       "       [0.43555556],\n",
       "       [0.4       ],\n",
       "       [0.38222222],\n",
       "       [0.31777778],\n",
       "       [0.39111111],\n",
       "       [0.32888889],\n",
       "       [0.26888889],\n",
       "       [0.32      ],\n",
       "       [0.38222222],\n",
       "       [0.34888889],\n",
       "       [0.35777778],\n",
       "       [0.32222222],\n",
       "       [0.3       ],\n",
       "       [0.34666667],\n",
       "       [0.31111111],\n",
       "       [0.30444444],\n",
       "       [0.61555556],\n",
       "       [0.25555556],\n",
       "       [0.42      ],\n",
       "       [0.58222222],\n",
       "       [0.27777778],\n",
       "       [0.27111111],\n",
       "       [0.40222222],\n",
       "       [0.43333333],\n",
       "       [0.48      ],\n",
       "       [0.39777778],\n",
       "       [0.42444444],\n",
       "       [0.30222222],\n",
       "       [0.55777778],\n",
       "       [0.29333333],\n",
       "       [0.34666667],\n",
       "       [0.28444444],\n",
       "       [0.37111111],\n",
       "       [0.39333333],\n",
       "       [0.39111111],\n",
       "       [0.44444444],\n",
       "       [0.33111111],\n",
       "       [0.35111111],\n",
       "       [0.26222222],\n",
       "       [0.37555556],\n",
       "       [0.5       ],\n",
       "       [0.37555556],\n",
       "       [0.40222222],\n",
       "       [1.        ],\n",
       "       [1.        ],\n",
       "       [1.        ],\n",
       "       [1.        ],\n",
       "       [1.        ],\n",
       "       [0.19555556],\n",
       "       [0.19555556],\n",
       "       [0.22222222],\n",
       "       [0.19777778],\n",
       "       [0.18444444],\n",
       "       [0.18      ],\n",
       "       [0.11555556],\n",
       "       [0.12      ],\n",
       "       [0.13111111],\n",
       "       [0.14      ],\n",
       "       [0.16222222],\n",
       "       [0.08444444],\n",
       "       [0.04888889],\n",
       "       [0.12222222],\n",
       "       [0.05333333],\n",
       "       [0.11555556],\n",
       "       [0.14444444],\n",
       "       [0.22444444],\n",
       "       [0.40444444],\n",
       "       [0.10444444],\n",
       "       [0.19555556],\n",
       "       [0.17111111],\n",
       "       [0.18      ],\n",
       "       [0.16666667],\n",
       "       [0.07777778],\n",
       "       [0.        ],\n",
       "       [0.02888889],\n",
       "       [0.01333333],\n",
       "       [0.04888889],\n",
       "       [0.15777778],\n",
       "       [0.07333333],\n",
       "       [0.07777778],\n",
       "       [0.        ],\n",
       "       [0.15333333],\n",
       "       [0.50888889],\n",
       "       [0.27111111],\n",
       "       [0.5       ],\n",
       "       [0.22222222],\n",
       "       [0.27111111],\n",
       "       [0.28666667],\n",
       "       [0.25111111],\n",
       "       [0.04444444],\n",
       "       [0.04888889],\n",
       "       [0.05555556],\n",
       "       [0.12      ],\n",
       "       [0.08444444],\n",
       "       [0.07555556],\n",
       "       [0.26      ],\n",
       "       [0.20444444],\n",
       "       [0.35111111],\n",
       "       [0.18666667],\n",
       "       [0.14888889],\n",
       "       [0.07333333],\n",
       "       [0.11555556],\n",
       "       [0.13111111],\n",
       "       [0.13333333],\n",
       "       [0.1       ],\n",
       "       [0.21111111],\n",
       "       [0.20222222],\n",
       "       [0.24666667],\n",
       "       [0.20666667],\n",
       "       [0.14888889],\n",
       "       [0.18666667],\n",
       "       [0.10222222],\n",
       "       [0.08222222],\n",
       "       [0.07555556],\n",
       "       [0.17333333],\n",
       "       [0.12222222],\n",
       "       [0.26888889],\n",
       "       [0.29777778],\n",
       "       [0.23111111],\n",
       "       [0.12888889],\n",
       "       [0.15111111],\n",
       "       [0.22      ],\n",
       "       [0.16888889],\n",
       "       [0.20222222],\n",
       "       [0.17777778],\n",
       "       [0.18666667],\n",
       "       [0.22666667],\n",
       "       [0.24666667],\n",
       "       [0.28444444],\n",
       "       [0.22      ],\n",
       "       [0.20222222],\n",
       "       [0.17111111],\n",
       "       [0.18888889],\n",
       "       [0.22      ],\n",
       "       [0.33333333],\n",
       "       [0.25333333],\n",
       "       [0.28222222],\n",
       "       [0.32222222],\n",
       "       [0.33777778],\n",
       "       [0.36444444],\n",
       "       [0.33111111],\n",
       "       [0.31111111],\n",
       "       [0.31333333],\n",
       "       [0.31333333],\n",
       "       [0.33555556],\n",
       "       [0.33111111],\n",
       "       [0.32444444],\n",
       "       [0.40444444],\n",
       "       [0.55111111],\n",
       "       [0.19555556],\n",
       "       [0.18444444],\n",
       "       [0.26      ],\n",
       "       [0.15555556],\n",
       "       [0.21333333],\n",
       "       [0.36444444],\n",
       "       [0.4       ],\n",
       "       [0.41555556],\n",
       "       [0.44444444],\n",
       "       [0.37333333],\n",
       "       [0.34666667],\n",
       "       [0.36      ],\n",
       "       [0.31333333],\n",
       "       [0.34666667],\n",
       "       [0.22666667],\n",
       "       [0.04444444],\n",
       "       [0.06888889],\n",
       "       [0.19111111],\n",
       "       [0.33555556],\n",
       "       [0.37333333],\n",
       "       [0.43333333],\n",
       "       [0.40222222],\n",
       "       [0.32666667],\n",
       "       [0.29555556],\n",
       "       [0.36      ],\n",
       "       [0.27777778],\n",
       "       [0.26222222],\n",
       "       [0.38666667],\n",
       "       [0.34666667],\n",
       "       [0.42      ],\n",
       "       [0.37777778],\n",
       "       [0.15333333]])"
      ]
     },
     "execution_count": 26,
     "metadata": {},
     "output_type": "execute_result"
    }
   ],
   "source": [
    "#原始数据变换\n",
    "minmaxScaler.transform(bstPrice.reshape(-1,1))"
   ]
  },
  {
   "cell_type": "markdown",
   "metadata": {
    "slideshow": {
     "slide_type": "slide"
    }
   },
   "source": [
    "#### 考虑离群点的数据标准化"
   ]
  },
  {
   "cell_type": "markdown",
   "metadata": {
    "slideshow": {
     "slide_type": "fragment"
    }
   },
   "source": [
    "- `StandardScaler`与`MinMaxScaler`的不足：\n",
    "    - 对离群点敏感"
   ]
  },
  {
   "cell_type": "markdown",
   "metadata": {
    "slideshow": {
     "slide_type": "fragment"
    }
   },
   "source": [
    "- `RobustScaler`\n",
    "    - 利用中位数和四分位数标准化数据"
   ]
  },
  {
   "cell_type": "code",
   "execution_count": 28,
   "metadata": {
    "slideshow": {
     "slide_type": "fragment"
    }
   },
   "outputs": [],
   "source": [
    "# 建立模型\n",
    "robustScaler = preprocessing.RobustScaler()"
   ]
  },
  {
   "cell_type": "code",
   "execution_count": 29,
   "metadata": {
    "slideshow": {
     "slide_type": "fragment"
    }
   },
   "outputs": [
    {
     "data": {
      "text/plain": [
       "RobustScaler()"
      ]
     },
     "execution_count": 29,
     "metadata": {},
     "output_type": "execute_result"
    }
   ],
   "source": [
    "# 拟合数据\n",
    "robustScaler.fit(bstPrice.reshape(-1,1))"
   ]
  },
  {
   "cell_type": "code",
   "execution_count": 30,
   "metadata": {
    "slideshow": {
     "slide_type": "fragment"
    }
   },
   "outputs": [
    {
     "data": {
      "text/plain": [
       "{'copy': True,\n",
       " 'quantile_range': (25.0, 75.0),\n",
       " 'with_centering': True,\n",
       " 'with_scaling': True}"
      ]
     },
     "execution_count": 30,
     "metadata": {},
     "output_type": "execute_result"
    }
   ],
   "source": [
    "robustScaler.get_params()"
   ]
  },
  {
   "cell_type": "code",
   "execution_count": 31,
   "metadata": {
    "slideshow": {
     "slide_type": "fragment"
    }
   },
   "outputs": [
    {
     "data": {
      "text/plain": [
       "array([[ 0.35109718],\n",
       "       [ 0.05015674],\n",
       "       [ 1.69278997],\n",
       "       [ 1.52978056],\n",
       "       [ 1.88087774],\n",
       "       [ 0.94043887],\n",
       "       [ 0.21316614],\n",
       "       [ 0.73981191],\n",
       "       [-0.58934169],\n",
       "       [-0.28840125],\n",
       "       [-0.77742947],\n",
       "       [-0.28840125],\n",
       "       [ 0.06269592],\n",
       "       [-0.10031348],\n",
       "       [-0.37617555],\n",
       "       [-0.1630094 ],\n",
       "       [ 0.23824451],\n",
       "       [-0.46394984],\n",
       "       [-0.12539185],\n",
       "       [-0.37617555],\n",
       "       [-0.95297806],\n",
       "       [-0.20062696],\n",
       "       [-0.7523511 ],\n",
       "       [-0.84012539],\n",
       "       [-0.70219436],\n",
       "       [-0.9153605 ],\n",
       "       [-0.57680251],\n",
       "       [-0.80250784],\n",
       "       [-0.35109718],\n",
       "       [-0.02507837],\n",
       "       [-1.06583072],\n",
       "       [-0.84012539],\n",
       "       [-1.0031348 ],\n",
       "       [-1.01567398],\n",
       "       [-0.96551724],\n",
       "       [-0.28840125],\n",
       "       [-0.15047022],\n",
       "       [-0.02507837],\n",
       "       [ 0.43887147],\n",
       "       [ 1.20376176],\n",
       "       [ 1.71786834],\n",
       "       [ 0.67711599],\n",
       "       [ 0.51410658],\n",
       "       [ 0.43887147],\n",
       "       [ 0.        ],\n",
       "       [-0.23824451],\n",
       "       [-0.15047022],\n",
       "       [-0.57680251],\n",
       "       [-0.85266458],\n",
       "       [-0.22570533],\n",
       "       [-0.18808777],\n",
       "       [-0.08777429],\n",
       "       [ 0.47648903],\n",
       "       [ 0.27586207],\n",
       "       [-0.28840125],\n",
       "       [ 1.78056426],\n",
       "       [ 0.43887147],\n",
       "       [ 1.30407524],\n",
       "       [ 0.26332288],\n",
       "       [-0.20062696],\n",
       "       [-0.31347962],\n",
       "       [-0.65203762],\n",
       "       [ 0.12539185],\n",
       "       [ 0.47648903],\n",
       "       [ 1.47962382],\n",
       "       [ 0.28840125],\n",
       "       [-0.22570533],\n",
       "       [ 0.10031348],\n",
       "       [-0.47648903],\n",
       "       [-0.03761755],\n",
       "       [ 0.37617555],\n",
       "       [ 0.06269592],\n",
       "       [ 0.20062696],\n",
       "       [ 0.27586207],\n",
       "       [ 0.36363636],\n",
       "       [ 0.02507837],\n",
       "       [-0.15047022],\n",
       "       [-0.05015674],\n",
       "       [ 0.        ],\n",
       "       [-0.11285266],\n",
       "       [ 0.85266458],\n",
       "       [ 0.33855799],\n",
       "       [ 0.45141066],\n",
       "       [ 0.21316614],\n",
       "       [ 0.33855799],\n",
       "       [ 0.67711599],\n",
       "       [ 0.1630094 ],\n",
       "       [ 0.12539185],\n",
       "       [ 0.30094044],\n",
       "       [ 0.94043887],\n",
       "       [ 0.17554859],\n",
       "       [ 0.10031348],\n",
       "       [ 0.21316614],\n",
       "       [ 0.47648903],\n",
       "       [-0.07523511],\n",
       "       [ 0.90282132],\n",
       "       [ 0.02507837],\n",
       "       [ 2.19435737],\n",
       "       [ 2.8338558 ],\n",
       "       [ 1.50470219],\n",
       "       [ 0.78996865],\n",
       "       [ 0.6645768 ],\n",
       "       [-0.32601881],\n",
       "       [-0.23824451],\n",
       "       [-0.13793103],\n",
       "       [-0.21316614],\n",
       "       [-0.21316614],\n",
       "       [-0.10031348],\n",
       "       [-0.17554859],\n",
       "       [-0.22570533],\n",
       "       [ 0.06269592],\n",
       "       [ 0.20062696],\n",
       "       [-0.30094044],\n",
       "       [-0.31347962],\n",
       "       [-0.33855799],\n",
       "       [-0.36363636],\n",
       "       [ 0.        ],\n",
       "       [-0.2507837 ],\n",
       "       [-0.10031348],\n",
       "       [-0.23824451],\n",
       "       [ 0.10031348],\n",
       "       [-0.11285266],\n",
       "       [-0.08777429],\n",
       "       [-0.48902821],\n",
       "       [-0.30094044],\n",
       "       [ 0.02507837],\n",
       "       [-0.68965517],\n",
       "       [-0.62695925],\n",
       "       [-0.40125392],\n",
       "       [-0.86520376],\n",
       "       [-0.2507837 ],\n",
       "       [-0.20062696],\n",
       "       [ 0.22570533],\n",
       "       [-0.35109718],\n",
       "       [-0.70219436],\n",
       "       [-0.38871473],\n",
       "       [-0.47648903],\n",
       "       [-0.51410658],\n",
       "       [-0.99059561],\n",
       "       [-0.42633229],\n",
       "       [-0.90282132],\n",
       "       [-0.85266458],\n",
       "       [-0.97805643],\n",
       "       [-0.70219436],\n",
       "       [-1.17868339],\n",
       "       [-0.92789969],\n",
       "       [-0.70219436],\n",
       "       [-0.82758621],\n",
       "       [-0.42633229],\n",
       "       [-0.72727273],\n",
       "       [ 0.03761755],\n",
       "       [-0.20062696],\n",
       "       [-0.73981191],\n",
       "       [-0.22570533],\n",
       "       [-0.52664577],\n",
       "       [-0.70219436],\n",
       "       [-1.01567398],\n",
       "       [ 2.52037618],\n",
       "       [ 0.38871473],\n",
       "       [ 0.26332288],\n",
       "       [ 0.72727273],\n",
       "       [ 3.61128527],\n",
       "       [ 3.61128527],\n",
       "       [ 3.61128527],\n",
       "       [ 0.18808777],\n",
       "       [ 0.47648903],\n",
       "       [ 3.61128527],\n",
       "       [ 0.32601881],\n",
       "       [ 0.32601881],\n",
       "       [ 0.13793103],\n",
       "       [-0.47648903],\n",
       "       [-0.26332288],\n",
       "       [ 0.23824451],\n",
       "       [ 0.30094044],\n",
       "       [ 0.17554859],\n",
       "       [ 1.02821317],\n",
       "       [ 0.2507837 ],\n",
       "       [ 0.42633229],\n",
       "       [ 1.09090909],\n",
       "       [ 2.00626959],\n",
       "       [ 2.3322884 ],\n",
       "       [ 1.88087774],\n",
       "       [ 2.09404389],\n",
       "       [ 1.4169279 ],\n",
       "       [ 0.65203762],\n",
       "       [ 1.05329154],\n",
       "       [ 3.61128527],\n",
       "       [ 1.35423197],\n",
       "       [ 1.07836991],\n",
       "       [ 1.71786834],\n",
       "       [ 1.98119122],\n",
       "       [ 1.1661442 ],\n",
       "       [ 1.90595611],\n",
       "       [ 1.24137931],\n",
       "       [ 0.99059561],\n",
       "       [ 3.61128527],\n",
       "       [ 1.51724138],\n",
       "       [ 1.14106583],\n",
       "       [ 1.68025078],\n",
       "       [ 1.71786834],\n",
       "       [ 1.46708464],\n",
       "       [ 0.36363636],\n",
       "       [ 2.64576803],\n",
       "       [ 3.42319749],\n",
       "       [ 3.61128527],\n",
       "       [ 0.17554859],\n",
       "       [ 0.40125392],\n",
       "       [ 0.1630094 ],\n",
       "       [ 0.40125392],\n",
       "       [-0.15047022],\n",
       "       [ 0.06269592],\n",
       "       [-0.23824451],\n",
       "       [ 0.15047022],\n",
       "       [ 0.86520376],\n",
       "       [ 0.31347962],\n",
       "       [ 0.47648903],\n",
       "       [ 0.26332288],\n",
       "       [ 0.94043887],\n",
       "       [ 0.03761755],\n",
       "       [ 0.22570533],\n",
       "       [ 0.68965517],\n",
       "       [ 0.06269592],\n",
       "       [ 0.78996865],\n",
       "       [ 1.11598746],\n",
       "       [ 2.95924765],\n",
       "       [ 3.61128527],\n",
       "       [ 2.05642633],\n",
       "       [ 1.30407524],\n",
       "       [ 3.19749216],\n",
       "       [ 1.29153605],\n",
       "       [ 0.38871473],\n",
       "       [ 1.31661442],\n",
       "       [ 2.57053292],\n",
       "       [ 3.39811912],\n",
       "       [ 0.97805643],\n",
       "       [ 0.35109718],\n",
       "       [ 0.48902821],\n",
       "       [ 1.29153605],\n",
       "       [ 0.31347962],\n",
       "       [ 0.26332288],\n",
       "       [ 0.10031348],\n",
       "       [-0.13793103],\n",
       "       [ 0.12539185],\n",
       "       [ 0.31347962],\n",
       "       [-0.45141066],\n",
       "       [-0.33855799],\n",
       "       [ 0.38871473],\n",
       "       [-0.08777429],\n",
       "       [ 0.4137931 ],\n",
       "       [ 0.62695925],\n",
       "       [ 0.40125392],\n",
       "       [ 0.45141066],\n",
       "       [ 1.05329154],\n",
       "       [ 2.70846395],\n",
       "       [ 0.08777429],\n",
       "       [-0.03761755],\n",
       "       [ 2.85893417],\n",
       "       [ 3.61128527],\n",
       "       [ 1.85579937],\n",
       "       [ 1.11598746],\n",
       "       [ 1.5799373 ],\n",
       "       [ 2.7460815 ],\n",
       "       [ 3.46081505],\n",
       "       [ 1.22884013],\n",
       "       [ 1.9184953 ],\n",
       "       [ 0.20062696],\n",
       "       [ 1.19122257],\n",
       "       [ 3.61128527],\n",
       "       [ 2.79623824],\n",
       "       [-0.06269592],\n",
       "       [-0.01253918],\n",
       "       [ 0.5015674 ],\n",
       "       [ 0.40125392],\n",
       "       [ 1.75548589],\n",
       "       [ 1.40438871],\n",
       "       [ 1.35423197],\n",
       "       [ 1.50470219],\n",
       "       [ 1.49216301],\n",
       "       [ 0.99059561],\n",
       "       [ 1.74294671],\n",
       "       [ 3.03448276],\n",
       "       [ 1.78056426],\n",
       "       [ 3.10971787],\n",
       "       [ 3.61128527],\n",
       "       [ 1.37931034],\n",
       "       [ 0.10031348],\n",
       "       [-0.13793103],\n",
       "       [ 0.2507837 ],\n",
       "       [ 0.13793103],\n",
       "       [ 0.45141066],\n",
       "       [ 0.9153605 ],\n",
       "       [ 2.01880878],\n",
       "       [ 0.84012539],\n",
       "       [ 0.33855799],\n",
       "       [ 0.06269592],\n",
       "       [ 0.92789969],\n",
       "       [ 0.73981191],\n",
       "       [-0.11285266],\n",
       "       [ 0.1630094 ],\n",
       "       [ 0.97805643],\n",
       "       [ 0.45141066],\n",
       "       [ 0.10031348],\n",
       "       [ 0.65203762],\n",
       "       [ 1.49216301],\n",
       "       [ 1.86833856],\n",
       "       [ 0.90282132],\n",
       "       [ 1.52978056],\n",
       "       [ 0.87774295],\n",
       "       [ 0.20062696],\n",
       "       [-0.11285266],\n",
       "       [-0.63949843],\n",
       "       [ 0.11285266],\n",
       "       [-0.22570533],\n",
       "       [ 0.05015674],\n",
       "       [ 0.32601881],\n",
       "       [-0.62695925],\n",
       "       [-0.42633229],\n",
       "       [-0.17554859],\n",
       "       [ 0.23824451],\n",
       "       [-0.02507837],\n",
       "       [ 0.32601881],\n",
       "       [ 0.23824451],\n",
       "       [-0.10031348],\n",
       "       [-0.33855799],\n",
       "       [ 0.47648903],\n",
       "       [ 0.42633229],\n",
       "       [ 0.22570533],\n",
       "       [ 0.12539185],\n",
       "       [-0.23824451],\n",
       "       [ 0.17554859],\n",
       "       [-0.17554859],\n",
       "       [-0.51410658],\n",
       "       [-0.22570533],\n",
       "       [ 0.12539185],\n",
       "       [-0.06269592],\n",
       "       [-0.01253918],\n",
       "       [-0.21316614],\n",
       "       [-0.33855799],\n",
       "       [-0.07523511],\n",
       "       [-0.27586207],\n",
       "       [-0.31347962],\n",
       "       [ 1.44200627],\n",
       "       [-0.58934169],\n",
       "       [ 0.33855799],\n",
       "       [ 1.2539185 ],\n",
       "       [-0.46394984],\n",
       "       [-0.5015674 ],\n",
       "       [ 0.23824451],\n",
       "       [ 0.4137931 ],\n",
       "       [ 0.67711599],\n",
       "       [ 0.21316614],\n",
       "       [ 0.36363636],\n",
       "       [-0.32601881],\n",
       "       [ 1.11598746],\n",
       "       [-0.37617555],\n",
       "       [-0.07523511],\n",
       "       [-0.42633229],\n",
       "       [ 0.06269592],\n",
       "       [ 0.18808777],\n",
       "       [ 0.17554859],\n",
       "       [ 0.47648903],\n",
       "       [-0.1630094 ],\n",
       "       [-0.05015674],\n",
       "       [-0.55172414],\n",
       "       [ 0.08777429],\n",
       "       [ 0.78996865],\n",
       "       [ 0.08777429],\n",
       "       [ 0.23824451],\n",
       "       [ 3.61128527],\n",
       "       [ 3.61128527],\n",
       "       [ 3.61128527],\n",
       "       [ 3.61128527],\n",
       "       [ 3.61128527],\n",
       "       [-0.92789969],\n",
       "       [-0.92789969],\n",
       "       [-0.77742947],\n",
       "       [-0.9153605 ],\n",
       "       [-0.99059561],\n",
       "       [-1.01567398],\n",
       "       [-1.37931034],\n",
       "       [-1.35423197],\n",
       "       [-1.29153605],\n",
       "       [-1.24137931],\n",
       "       [-1.11598746],\n",
       "       [-1.55485893],\n",
       "       [-1.75548589],\n",
       "       [-1.34169279],\n",
       "       [-1.73040752],\n",
       "       [-1.37931034],\n",
       "       [-1.21630094],\n",
       "       [-0.76489028],\n",
       "       [ 0.2507837 ],\n",
       "       [-1.44200627],\n",
       "       [-0.92789969],\n",
       "       [-1.06583072],\n",
       "       [-1.01567398],\n",
       "       [-1.09090909],\n",
       "       [-1.59247649],\n",
       "       [-2.03134796],\n",
       "       [-1.86833856],\n",
       "       [-1.95611285],\n",
       "       [-1.75548589],\n",
       "       [-1.14106583],\n",
       "       [-1.61755486],\n",
       "       [-1.59247649],\n",
       "       [-2.03134796],\n",
       "       [-1.1661442 ],\n",
       "       [ 0.84012539],\n",
       "       [-0.5015674 ],\n",
       "       [ 0.78996865],\n",
       "       [-0.77742947],\n",
       "       [-0.5015674 ],\n",
       "       [-0.4137931 ],\n",
       "       [-0.61442006],\n",
       "       [-1.78056426],\n",
       "       [-1.75548589],\n",
       "       [-1.71786834],\n",
       "       [-1.35423197],\n",
       "       [-1.55485893],\n",
       "       [-1.60501567],\n",
       "       [-0.56426332],\n",
       "       [-0.87774295],\n",
       "       [-0.05015674],\n",
       "       [-0.97805643],\n",
       "       [-1.19122257],\n",
       "       [-1.61755486],\n",
       "       [-1.37931034],\n",
       "       [-1.29153605],\n",
       "       [-1.27899687],\n",
       "       [-1.46708464],\n",
       "       [-0.84012539],\n",
       "       [-0.89028213],\n",
       "       [-0.63949843],\n",
       "       [-0.86520376],\n",
       "       [-1.19122257],\n",
       "       [-0.97805643],\n",
       "       [-1.45454545],\n",
       "       [-1.56739812],\n",
       "       [-1.60501567],\n",
       "       [-1.05329154],\n",
       "       [-1.34169279],\n",
       "       [-0.51410658],\n",
       "       [-0.35109718],\n",
       "       [-0.72727273],\n",
       "       [-1.30407524],\n",
       "       [-1.17868339],\n",
       "       [-0.78996865],\n",
       "       [-1.07836991],\n",
       "       [-0.89028213],\n",
       "       [-1.02821317],\n",
       "       [-0.97805643],\n",
       "       [-0.7523511 ],\n",
       "       [-0.63949843],\n",
       "       [-0.42633229],\n",
       "       [-0.78996865],\n",
       "       [-0.89028213],\n",
       "       [-1.06583072],\n",
       "       [-0.96551724],\n",
       "       [-0.78996865],\n",
       "       [-0.15047022],\n",
       "       [-0.60188088],\n",
       "       [-0.43887147],\n",
       "       [-0.21316614],\n",
       "       [-0.12539185],\n",
       "       [ 0.02507837],\n",
       "       [-0.1630094 ],\n",
       "       [-0.27586207],\n",
       "       [-0.26332288],\n",
       "       [-0.26332288],\n",
       "       [-0.13793103],\n",
       "       [-0.1630094 ],\n",
       "       [-0.20062696],\n",
       "       [ 0.2507837 ],\n",
       "       [ 1.07836991],\n",
       "       [-0.92789969],\n",
       "       [-0.99059561],\n",
       "       [-0.56426332],\n",
       "       [-1.15360502],\n",
       "       [-0.82758621],\n",
       "       [ 0.02507837],\n",
       "       [ 0.22570533],\n",
       "       [ 0.31347962],\n",
       "       [ 0.47648903],\n",
       "       [ 0.07523511],\n",
       "       [-0.07523511],\n",
       "       [ 0.        ],\n",
       "       [-0.26332288],\n",
       "       [-0.07523511],\n",
       "       [-0.7523511 ],\n",
       "       [-1.78056426],\n",
       "       [-1.64263323],\n",
       "       [-0.95297806],\n",
       "       [-0.13793103],\n",
       "       [ 0.07523511],\n",
       "       [ 0.4137931 ],\n",
       "       [ 0.23824451],\n",
       "       [-0.18808777],\n",
       "       [-0.36363636],\n",
       "       [ 0.        ],\n",
       "       [-0.46394984],\n",
       "       [-0.55172414],\n",
       "       [ 0.15047022],\n",
       "       [-0.07523511],\n",
       "       [ 0.33855799],\n",
       "       [ 0.10031348],\n",
       "       [-1.1661442 ]])"
      ]
     },
     "execution_count": 31,
     "metadata": {},
     "output_type": "execute_result"
    }
   ],
   "source": [
    "# 将原始数据变换\n",
    "robustScaler.transform(bstPrice.reshape(-1,1))"
   ]
  },
  {
   "cell_type": "markdown",
   "metadata": {
    "slideshow": {
     "slide_type": "slide"
    }
   },
   "source": [
    "## 其他数据挖掘模块"
   ]
  },
  {
   "cell_type": "markdown",
   "metadata": {
    "slideshow": {
     "slide_type": "fragment"
    }
   },
   "source": [
    "- PySpark：针对大数据的数据挖掘与机器学习工具，是`Spark`的`Python`接口"
   ]
  },
  {
   "cell_type": "markdown",
   "metadata": {
    "slideshow": {
     "slide_type": "fragment"
    }
   },
   "source": [
    "- Apache `Spark`\n",
    "    + `Spark`：专为大规模数据处理而设计的快速通用的计算引擎"
   ]
  },
  {
   "cell_type": "markdown",
   "metadata": {
    "slideshow": {
     "slide_type": "fragment"
    }
   },
   "source": [
    "- 官网：[http://spark.apache.org/docs/latest/api/python/index.html](http://spark.apache.org/docs/latest/api/python/index.html)"
   ]
  },
  {
   "cell_type": "markdown",
   "metadata": {
    "slideshow": {
     "slide_type": "fragment"
    }
   },
   "source": [
    "- 学习链接：[http://codingdict.com/article/8888](http://codingdict.com/article/8888)"
   ]
  },
  {
   "cell_type": "markdown",
   "metadata": {
    "slideshow": {
     "slide_type": "slide"
    }
   },
   "source": [
    "# 分类模型"
   ]
  },
  {
   "cell_type": "markdown",
   "metadata": {
    "slideshow": {
     "slide_type": "slide"
    }
   },
   "source": [
    "> 如何判断贷款者是否会拖欠贷款？"
   ]
  },
  {
   "cell_type": "code",
   "execution_count": 94,
   "metadata": {
    "slideshow": {
     "slide_type": "notes"
    }
   },
   "outputs": [],
   "source": [
    "debtDict = {'Tid': range(10), \n",
    "            '有房者': ['是', '否', '否', '是', '否', '否', '是','否', '否', '否'], \n",
    "            '婚姻状况': ['单身', '已婚', '单身', '已婚', '离异', '已婚', '离异', '单身', '已婚', '单身'], \n",
    "            '年收入': ['125K', '100K', '70K', '120K', '95K', '60K', '220K', '85K', '75K', '90K'], \n",
    "            '拖欠贷款者': ['否', '否', '否', '否', '是', '否', '否', '是', '否', '是']}"
   ]
  },
  {
   "cell_type": "code",
   "execution_count": 95,
   "metadata": {
    "hide_input": false,
    "slideshow": {
     "slide_type": "fragment"
    }
   },
   "outputs": [
    {
     "data": {
      "text/html": [
       "<div>\n",
       "<style scoped>\n",
       "    .dataframe tbody tr th:only-of-type {\n",
       "        vertical-align: middle;\n",
       "    }\n",
       "\n",
       "    .dataframe tbody tr th {\n",
       "        vertical-align: top;\n",
       "    }\n",
       "\n",
       "    .dataframe thead th {\n",
       "        text-align: right;\n",
       "    }\n",
       "</style>\n",
       "<table border=\"1\" class=\"dataframe\">\n",
       "  <thead>\n",
       "    <tr style=\"text-align: right;\">\n",
       "      <th></th>\n",
       "      <th>Tid</th>\n",
       "      <th>有房者</th>\n",
       "      <th>婚姻状况</th>\n",
       "      <th>年收入</th>\n",
       "      <th>拖欠贷款者</th>\n",
       "    </tr>\n",
       "  </thead>\n",
       "  <tbody>\n",
       "    <tr>\n",
       "      <th>0</th>\n",
       "      <td>0</td>\n",
       "      <td>是</td>\n",
       "      <td>单身</td>\n",
       "      <td>125K</td>\n",
       "      <td>否</td>\n",
       "    </tr>\n",
       "    <tr>\n",
       "      <th>1</th>\n",
       "      <td>1</td>\n",
       "      <td>否</td>\n",
       "      <td>已婚</td>\n",
       "      <td>100K</td>\n",
       "      <td>否</td>\n",
       "    </tr>\n",
       "    <tr>\n",
       "      <th>2</th>\n",
       "      <td>2</td>\n",
       "      <td>否</td>\n",
       "      <td>单身</td>\n",
       "      <td>70K</td>\n",
       "      <td>否</td>\n",
       "    </tr>\n",
       "    <tr>\n",
       "      <th>3</th>\n",
       "      <td>3</td>\n",
       "      <td>是</td>\n",
       "      <td>已婚</td>\n",
       "      <td>120K</td>\n",
       "      <td>否</td>\n",
       "    </tr>\n",
       "    <tr>\n",
       "      <th>4</th>\n",
       "      <td>4</td>\n",
       "      <td>否</td>\n",
       "      <td>离异</td>\n",
       "      <td>95K</td>\n",
       "      <td>是</td>\n",
       "    </tr>\n",
       "    <tr>\n",
       "      <th>5</th>\n",
       "      <td>5</td>\n",
       "      <td>否</td>\n",
       "      <td>已婚</td>\n",
       "      <td>60K</td>\n",
       "      <td>否</td>\n",
       "    </tr>\n",
       "    <tr>\n",
       "      <th>6</th>\n",
       "      <td>6</td>\n",
       "      <td>是</td>\n",
       "      <td>离异</td>\n",
       "      <td>220K</td>\n",
       "      <td>否</td>\n",
       "    </tr>\n",
       "    <tr>\n",
       "      <th>7</th>\n",
       "      <td>7</td>\n",
       "      <td>否</td>\n",
       "      <td>单身</td>\n",
       "      <td>85K</td>\n",
       "      <td>是</td>\n",
       "    </tr>\n",
       "    <tr>\n",
       "      <th>8</th>\n",
       "      <td>8</td>\n",
       "      <td>否</td>\n",
       "      <td>已婚</td>\n",
       "      <td>75K</td>\n",
       "      <td>否</td>\n",
       "    </tr>\n",
       "    <tr>\n",
       "      <th>9</th>\n",
       "      <td>9</td>\n",
       "      <td>否</td>\n",
       "      <td>单身</td>\n",
       "      <td>90K</td>\n",
       "      <td>是</td>\n",
       "    </tr>\n",
       "  </tbody>\n",
       "</table>\n",
       "</div>"
      ],
      "text/plain": [
       "   Tid 有房者 婚姻状况   年收入 拖欠贷款者\n",
       "0    0   是   单身  125K     否\n",
       "1    1   否   已婚  100K     否\n",
       "2    2   否   单身   70K     否\n",
       "3    3   是   已婚  120K     否\n",
       "4    4   否   离异   95K     是\n",
       "5    5   否   已婚   60K     否\n",
       "6    6   是   离异  220K     否\n",
       "7    7   否   单身   85K     是\n",
       "8    8   否   已婚   75K     否\n",
       "9    9   否   单身   90K     是"
      ]
     },
     "execution_count": 95,
     "metadata": {},
     "output_type": "execute_result"
    }
   ],
   "source": [
    "pd.DataFrame(debtDict)"
   ]
  },
  {
   "cell_type": "markdown",
   "metadata": {
    "slideshow": {
     "slide_type": "slide"
    }
   },
   "source": [
    "## 基本概念"
   ]
  },
  {
   "cell_type": "markdown",
   "metadata": {
    "slideshow": {
     "slide_type": "fragment"
    }
   },
   "source": [
    "### 分类（classification） "
   ]
  },
  {
   "cell_type": "markdown",
   "metadata": {
    "slideshow": {
     "slide_type": "fragment"
    }
   },
   "source": [
    "- 给定一条记录$(\\boldsymbol{x}, y)$，其中，$y$是分类属性或者目标属性，$\\boldsymbol{x}$是该记录预测属性的集合"
   ]
  },
  {
   "cell_type": "markdown",
   "metadata": {
    "slideshow": {
     "slide_type": "fragment"
    }
   },
   "source": [
    "- 通过学习得到一个**目标函数**（target function）$f$，把每个属性集$\\boldsymbol{x}$映射到一个预先定义的**类标签**$y$"
   ]
  },
  {
   "cell_type": "markdown",
   "metadata": {
    "slideshow": {
     "slide_type": "fragment"
    }
   },
   "source": [
    "$$\n",
    "y = f(\\boldsymbol{x})\n",
    "$$"
   ]
  },
  {
   "cell_type": "markdown",
   "metadata": {
    "slideshow": {
     "slide_type": "fragment"
    }
   },
   "source": [
    "- 目标函数也被称作**分类模型**（classification model）"
   ]
  },
  {
   "cell_type": "markdown",
   "metadata": {
    "slideshow": {
     "slide_type": "slide"
    }
   },
   "source": [
    "### 建立分类模型的一般方法"
   ]
  },
  {
   "cell_type": "markdown",
   "metadata": {
    "slideshow": {
     "slide_type": "fragment"
    }
   },
   "source": [
    "<center><img src=\"./img/dataMining/classificationProcess.png\" width=80%></center>"
   ]
  },
  {
   "cell_type": "markdown",
   "metadata": {
    "slideshow": {
     "slide_type": "slide"
    }
   },
   "source": [
    "#### 训练集与检验集"
   ]
  },
  {
   "cell_type": "markdown",
   "metadata": {
    "slideshow": {
     "slide_type": "fragment"
    }
   },
   "source": [
    "- 训练集（training set）：由类标签已知的数据记录组成，用于建立分类模型"
   ]
  },
  {
   "cell_type": "markdown",
   "metadata": {
    "slideshow": {
     "slide_type": "fragment"
    }
   },
   "source": [
    "- 检验集（test set）：用来检验分类规则的数据记录集合"
   ]
  },
  {
   "cell_type": "markdown",
   "metadata": {
    "slideshow": {
     "slide_type": "fragment"
    }
   },
   "source": [
    "#### 分类算法"
   ]
  },
  {
   "cell_type": "markdown",
   "metadata": {
    "slideshow": {
     "slide_type": "fragment"
    }
   },
   "source": [
    "+ k最近邻分类\n",
    "+ **决策树**\n",
    "+ 朴素贝叶斯分类\n",
    "+ 逻辑回归\n",
    "+ 神经网络\n",
    "+ 支持向量机\n",
    "+ **随机森林**"
   ]
  },
  {
   "cell_type": "markdown",
   "metadata": {
    "slideshow": {
     "slide_type": "subslide"
    }
   },
   "source": [
    "#### 混淆矩阵（confusion matrix）"
   ]
  },
  {
   "cell_type": "markdown",
   "metadata": {
    "slideshow": {
     "slide_type": "fragment"
    }
   },
   "source": [
    "- 由分类模型做出的正确和错误的分类结果构成的矩阵"
   ]
  },
  {
   "cell_type": "markdown",
   "metadata": {
    "slideshow": {
     "slide_type": "fragment"
    }
   },
   "source": [
    "- 二元分类问题的混淆矩阵"
   ]
  },
  {
   "cell_type": "markdown",
   "metadata": {
    "slideshow": {
     "slide_type": "fragment"
    }
   },
   "source": [
    "<center><img src=\"./img/dataMining/PosNeg.svg\" width=60%></center>"
   ]
  },
  {
   "cell_type": "markdown",
   "metadata": {
    "slideshow": {
     "slide_type": "slide"
    }
   },
   "source": [
    "#### 性能度量（performance metric）"
   ]
  },
  {
   "cell_type": "markdown",
   "metadata": {
    "slideshow": {
     "slide_type": "fragment"
    }
   },
   "source": [
    "- 汇总混淆矩阵的信息"
   ]
  },
  {
   "cell_type": "markdown",
   "metadata": {
    "slideshow": {
     "slide_type": "fragment"
    }
   },
   "source": [
    "- 准确率（accuracy）"
   ]
  },
  {
   "cell_type": "markdown",
   "metadata": {
    "slideshow": {
     "slide_type": "fragment"
    }
   },
   "source": [
    "$$\n",
    "准确率=\\frac{正确预测数}{预测总数}=\\frac{TP+TN}{TP+FN+FP+TN}\n",
    "$$"
   ]
  },
  {
   "cell_type": "markdown",
   "metadata": {
    "slideshow": {
     "slide_type": "fragment"
    }
   },
   "source": [
    "- 错误率（error rate）"
   ]
  },
  {
   "cell_type": "markdown",
   "metadata": {
    "slideshow": {
     "slide_type": "fragment"
    }
   },
   "source": [
    "$$\n",
    "错误率=\\frac{错误预测数}{预测总数}=\\frac{FN+FP}{TP+FN+FP+TN}\n",
    "$$"
   ]
  },
  {
   "cell_type": "markdown",
   "metadata": {
    "slideshow": {
     "slide_type": "fragment"
    }
   },
   "source": [
    "$$\n",
    "错误率+准确率=1\n",
    "$$"
   ]
  },
  {
   "cell_type": "markdown",
   "metadata": {
    "slideshow": {
     "slide_type": "slide"
    }
   },
   "source": [
    "<center><img src=\"./img/dataMining/PosNeg.svg\" width=60%></center>"
   ]
  },
  {
   "cell_type": "markdown",
   "metadata": {
    "slideshow": {
     "slide_type": "fragment"
    }
   },
   "source": [
    "- 精确率（precision score, 查准率）\n",
    "$$precision = \\frac{TP}{TP+FP}$$"
   ]
  },
  {
   "cell_type": "markdown",
   "metadata": {
    "slideshow": {
     "slide_type": "fragment"
    }
   },
   "source": [
    "- 针对某个类别的样本，不做出错误分类的能力"
   ]
  },
  {
   "cell_type": "markdown",
   "metadata": {
    "slideshow": {
     "slide_type": "fragment"
    }
   },
   "source": [
    "- 召回率（recall score，查全率）\n",
    "$$recall = \\frac{TP}{TP+FN}$$"
   ]
  },
  {
   "cell_type": "markdown",
   "metadata": {
    "slideshow": {
     "slide_type": "fragment"
    }
   },
   "source": [
    "- 能够识别所有属于某个真实类别的样本的能力"
   ]
  },
  {
   "cell_type": "markdown",
   "metadata": {
    "slideshow": {
     "slide_type": "slide"
    }
   },
   "source": [
    "##### 准确率 (accuracy score)"
   ]
  },
  {
   "cell_type": "markdown",
   "metadata": {
    "slideshow": {
     "slide_type": "fragment"
    }
   },
   "source": [
    "```python\n",
    "from sklearn import metrics\n",
    "metrics.accuracy_score(y_true, y_pred)\n",
    "```\n",
    "- `y_true`：真实类标签构成的数组\n",
    "- `y_pred`：分类模型预测的类标签构成的数组"
   ]
  },
  {
   "cell_type": "markdown",
   "metadata": {
    "slideshow": {
     "slide_type": "slide"
    }
   },
   "source": [
    "##### 召回率 （recall score）"
   ]
  },
  {
   "cell_type": "markdown",
   "metadata": {
    "slideshow": {
     "slide_type": "fragment"
    }
   },
   "source": [
    "```python\n",
    "metrics.recall_score(y_true, y_pred, pos_label=1)\n",
    "```"
   ]
  },
  {
   "cell_type": "markdown",
   "metadata": {
    "slideshow": {
     "slide_type": "slide"
    }
   },
   "source": [
    "##### 精确率（precision score）"
   ]
  },
  {
   "cell_type": "markdown",
   "metadata": {
    "slideshow": {
     "slide_type": "fragment"
    }
   },
   "source": [
    "```python\n",
    "from sklearn import metrics\n",
    "metrics.precision_score(y_true, y_pred, pos_label=1)\n",
    "```"
   ]
  },
  {
   "cell_type": "markdown",
   "metadata": {
    "slideshow": {
     "slide_type": "slide"
    }
   },
   "source": [
    "##### $F_1$ score"
   ]
  },
  {
   "cell_type": "markdown",
   "metadata": {
    "slideshow": {
     "slide_type": "fragment"
    }
   },
   "source": [
    "- 同时考虑召回率和精确率，是召回率和精确率的调和均值"
   ]
  },
  {
   "cell_type": "markdown",
   "metadata": {
    "slideshow": {
     "slide_type": "fragment"
    }
   },
   "source": [
    "```python\n",
    "from sklearn import metrics\n",
    "metrics.f1_score(y_true, y_pred, pos_label=1)\n",
    "```"
   ]
  },
  {
   "cell_type": "markdown",
   "metadata": {
    "slideshow": {
     "slide_type": "slide"
    }
   },
   "source": [
    "##### P-R曲线"
   ]
  },
  {
   "cell_type": "markdown",
   "metadata": {
    "slideshow": {
     "slide_type": "fragment"
    }
   },
   "source": [
    "- 由精确率和召回率构成的图线\n",
    "- x轴为召回率，y轴为精确率"
   ]
  },
  {
   "cell_type": "markdown",
   "metadata": {
    "slideshow": {
     "slide_type": "fragment"
    }
   },
   "source": [
    "```python\n",
    "sklearn.metrics.plot_precision_recall_curve(estimator, X, y, pos_label)\n",
    "```\n",
    "- `estimator`：训练过的分类模型\n",
    "- `X`：输入的属性\n",
    "- `y`：标签值（二元标签）\n",
    "- `pos_label`：`int`或`str`，指定类别，默认为1"
   ]
  },
  {
   "cell_type": "code",
   "execution_count": 147,
   "metadata": {
    "slideshow": {
     "slide_type": "fragment"
    }
   },
   "outputs": [
    {
     "data": {
      "text/plain": [
       "<sklearn.metrics._plot.precision_recall_curve.PrecisionRecallDisplay at 0x7f2b804aecc0>"
      ]
     },
     "execution_count": 147,
     "metadata": {},
     "output_type": "execute_result"
    },
    {
     "data": {
      "image/png": "[encoded data removed]",
      "text/plain": [
       "<Figure size 432x288 with 1 Axes>"
      ]
     },
     "metadata": {
      "needs_background": "light"
     },
     "output_type": "display_data"
    }
   ],
   "source": [
    "metrics.plot_precision_recall_curve(titDt,titTrainX,titTrainY,pos_label=0)"
   ]
  },
  {
   "cell_type": "markdown",
   "metadata": {
    "slideshow": {
     "slide_type": "fragment"
    }
   },
   "source": [
    "- `AP`：average precision score，越大越好"
   ]
  },
  {
   "cell_type": "markdown",
   "metadata": {
    "slideshow": {
     "slide_type": "slide"
    }
   },
   "source": [
    "##### ROC曲线"
   ]
  },
  {
   "cell_type": "markdown",
   "metadata": {
    "slideshow": {
     "slide_type": "fragment"
    }
   },
   "source": [
    "- Receiver Operating Curve, 由“真正例率”（True Positive Rate）和“假正例率”（False Positive Rate）构成的曲线\n",
    "$$\n",
    "TPR = \\frac{TP}{TP+FN}\\\\\n",
    "FPR = \\frac{FP}{FP+TN}\n",
    "$$\n",
    "- x轴是FPR，y轴是TPR"
   ]
  },
  {
   "cell_type": "markdown",
   "metadata": {
    "slideshow": {
     "slide_type": "fragment"
    }
   },
   "source": [
    "```python\n",
    "sklearn.metrics.plot_roc_curve(estimator, X, y, pos_label)\n",
    "```\n",
    "- `estimator`：训练过的分类模型\n",
    "- `X`：输入的属性\n",
    "- `y`：标签值（二元标签）\n",
    "- `pos_label`：`int`或`str`，指定类别，默认为1"
   ]
  },
  {
   "cell_type": "code",
   "execution_count": 148,
   "metadata": {
    "slideshow": {
     "slide_type": "fragment"
    }
   },
   "outputs": [
    {
     "data": {
      "text/plain": [
       "<sklearn.metrics._plot.roc_curve.RocCurveDisplay at 0x7f2b80498048>"
      ]
     },
     "execution_count": 148,
     "metadata": {},
     "output_type": "execute_result"
    },
    {
     "data": {
      "image/png": "[encoded data removed]",
      "text/plain": [
       "<Figure size 432x288 with 1 Axes>"
      ]
     },
     "metadata": {
      "needs_background": "light"
     },
     "output_type": "display_data"
    }
   ],
   "source": [
    "metrics.plot_roc_curve(titDt,titTrainX,titTrainY,pos_label=0)"
   ]
  },
  {
   "cell_type": "markdown",
   "metadata": {
    "slideshow": {
     "slide_type": "fragment"
    }
   },
   "source": [
    "- `AUC`：area under curve，曲线下面积，越大越好"
   ]
  },
  {
   "cell_type": "markdown",
   "metadata": {
    "slideshow": {
     "slide_type": "slide"
    }
   },
   "source": [
    "- 两种曲线的选用条件\n",
    "    - ROC，适用于类别均衡情况\n",
    "    - PR，适用于类别不均衡情况"
   ]
  },
  {
   "cell_type": "markdown",
   "metadata": {
    "slideshow": {
     "slide_type": "slide"
    }
   },
   "source": [
    "## 决策树"
   ]
  },
  {
   "cell_type": "markdown",
   "metadata": {
    "cell_style": "split",
    "slideshow": {
     "slide_type": "fragment"
    }
   },
   "source": [
    "<center><img src=\"./img/dataMining/classificationSample.gv.svg\" with=100%></center>"
   ]
  },
  {
   "cell_type": "markdown",
   "metadata": {
    "cell_style": "split",
    "slideshow": {
     "slide_type": "fragment"
    }
   },
   "source": [
    "<center><img src=\"./img/dataMining/decisionTree.gv.svg\" with=50%></center>"
   ]
  },
  {
   "cell_type": "markdown",
   "metadata": {
    "slideshow": {
     "slide_type": "fragment"
    }
   },
   "source": [
    "<center><img src=\"./img/dataMining/decisionTree1.gv.svg\"></center>"
   ]
  },
  {
   "cell_type": "markdown",
   "metadata": {
    "slideshow": {
     "slide_type": "fragment"
    }
   },
   "source": [
    "> 对于同一个问题而言，决策树不是唯一的"
   ]
  },
  {
   "cell_type": "markdown",
   "metadata": {
    "slideshow": {
     "slide_type": "slide"
    }
   },
   "source": [
    "### 基本概念"
   ]
  },
  {
   "cell_type": "markdown",
   "metadata": {
    "cell_style": "split",
    "slideshow": {
     "slide_type": "fragment"
    }
   },
   "source": [
    "<center><img src=\"./img/dataMining/decisionTreeC.gv.svg\" with=60%></center>"
   ]
  },
  {
   "cell_type": "markdown",
   "metadata": {
    "cell_style": "split",
    "slideshow": {
     "slide_type": "fragment"
    }
   },
   "source": [
    "- **根结点**（root node）\n",
    "    + 没有入边，但有零条或多条出边"
   ]
  },
  {
   "cell_type": "markdown",
   "metadata": {
    "cell_style": "split",
    "slideshow": {
     "slide_type": "fragment"
    }
   },
   "source": [
    "- **内部结点**（internal node）\n",
    "    + 恰有一条入边和两条或多条出边"
   ]
  },
  {
   "cell_type": "markdown",
   "metadata": {
    "cell_style": "split",
    "slideshow": {
     "slide_type": "fragment"
    }
   },
   "source": [
    "- **叶结点**（leaf node）\n",
    "    + 恰有一条入边，但没有出边\n",
    "    + 又被称为终结点（terminal node）"
   ]
  },
  {
   "cell_type": "markdown",
   "metadata": {
    "cell_style": "split",
    "slideshow": {
     "slide_type": "fragment"
    }
   },
   "source": [
    "- 每个叶结点赋予一个类标签"
   ]
  },
  {
   "cell_type": "markdown",
   "metadata": {
    "cell_style": "split",
    "slideshow": {
     "slide_type": "fragment"
    }
   },
   "source": [
    "- 每个**非叶**结点包含属性测试的条件"
   ]
  },
  {
   "cell_type": "markdown",
   "metadata": {
    "slideshow": {
     "slide_type": "slide"
    }
   },
   "source": [
    "### `sklearn`实现 "
   ]
  },
  {
   "cell_type": "markdown",
   "metadata": {
    "slideshow": {
     "slide_type": "slide"
    }
   },
   "source": [
    "#### 建立模型"
   ]
  },
  {
   "cell_type": "markdown",
   "metadata": {
    "slideshow": {
     "slide_type": "fragment"
    }
   },
   "source": [
    "```python\n",
    "from sklearn import tree\n",
    "tree.DecisionTreeClassifier(criterion='gini'）\n",
    "```\n",
    "- `criterion`：`str`类型，不纯性的度量，可以是`gini`和`entropy`，默认是`gini`"
   ]
  },
  {
   "cell_type": "markdown",
   "metadata": {
    "slideshow": {
     "slide_type": "fragment"
    }
   },
   "source": [
    "- 生成的决策树的属性（Attributes）\n",
    "    + `classes_ `：由类标签构成的数组\n",
    "    + `n_classes_`：`int`，类别的数量\n",
    "    + `tree_`：建立的决策树"
   ]
  },
  {
   "cell_type": "code",
   "execution_count": 96,
   "metadata": {
    "slideshow": {
     "slide_type": "fragment"
    }
   },
   "outputs": [
    {
     "data": {
      "text/plain": [
       "DecisionTreeClassifier(ccp_alpha=0.0, class_weight=None, criterion='gini',\n",
       "                       max_depth=None, max_features=None, max_leaf_nodes=None,\n",
       "                       min_impurity_decrease=0.0, min_impurity_split=None,\n",
       "                       min_samples_leaf=1, min_samples_split=2,\n",
       "                       min_weight_fraction_leaf=0.0, presort='deprecated',\n",
       "                       random_state=None, splitter='best')"
      ]
     },
     "execution_count": 96,
     "metadata": {},
     "output_type": "execute_result"
    }
   ],
   "source": [
    "from sklearn import tree\n",
    "dt = tree.DecisionTreeClassifier()\n",
    "dt"
   ]
  },
  {
   "cell_type": "markdown",
   "metadata": {
    "slideshow": {
     "slide_type": "slide"
    }
   },
   "source": [
    "#### 用决策树预测"
   ]
  },
  {
   "cell_type": "markdown",
   "metadata": {
    "slideshow": {
     "slide_type": "fragment"
    }
   },
   "source": [
    "```python\n",
    "dt.predict(X)\n",
    "```\n",
    "- `X`：输入的属性矩阵，形状为`[n_samples, n_features]`\n",
    "- 返回值：预测的类别，形状为`[n_samples]`的数组"
   ]
  },
  {
   "cell_type": "markdown",
   "metadata": {
    "slideshow": {
     "slide_type": "slide"
    }
   },
   "source": [
    "#### 分割训练集与测试集"
   ]
  },
  {
   "cell_type": "markdown",
   "metadata": {
    "slideshow": {
     "slide_type": "fragment"
    }
   },
   "source": [
    "```python\n",
    "from sklearn.model_selection import train_test_split\n",
    "train_test_split(*arrays, test_size=0.25)\n",
    "```"
   ]
  },
  {
   "cell_type": "markdown",
   "metadata": {
    "slideshow": {
     "slide_type": "fragment"
    }
   },
   "source": [
    "- `*arrays`：需要被划分的数据集，可以是`list`类型、`numpy.arrays`类型，`pandas.DataFrame`类型"
   ]
  },
  {
   "cell_type": "markdown",
   "metadata": {
    "slideshow": {
     "slide_type": "fragment"
    }
   },
   "source": [
    "- `test_size`：检验集的规模\n",
    "    + `float`类型，取值范围`[0,1]`，表示检验集占原数据集的比例\n",
    "    + `int`类型，表示检验集包含的数据记录的绝对数量\n",
    "    + 默认为0.25"
   ]
  },
  {
   "cell_type": "markdown",
   "metadata": {
    "slideshow": {
     "slide_type": "fragment"
    }
   },
   "source": [
    "- 返回值：分割好的训练集与检验集，与输入的`*array`的类型相同"
   ]
  },
  {
   "cell_type": "code",
   "execution_count": 103,
   "metadata": {
    "slideshow": {
     "slide_type": "slide"
    }
   },
   "outputs": [],
   "source": [
    "from sklearn.model_selection import train_test_split"
   ]
  },
  {
   "cell_type": "code",
   "execution_count": 104,
   "metadata": {
    "scrolled": true,
    "slideshow": {
     "slide_type": "fragment"
    }
   },
   "outputs": [
    {
     "data": {
      "text/html": [
       "<div>\n",
       "<style scoped>\n",
       "    .dataframe tbody tr th:only-of-type {\n",
       "        vertical-align: middle;\n",
       "    }\n",
       "\n",
       "    .dataframe tbody tr th {\n",
       "        vertical-align: top;\n",
       "    }\n",
       "\n",
       "    .dataframe thead th {\n",
       "        text-align: right;\n",
       "    }\n",
       "</style>\n",
       "<table border=\"1\" class=\"dataframe\">\n",
       "  <thead>\n",
       "    <tr style=\"text-align: right;\">\n",
       "      <th></th>\n",
       "      <th>Pclass</th>\n",
       "      <th>Age</th>\n",
       "      <th>SibSp</th>\n",
       "      <th>Parch</th>\n",
       "      <th>Fare</th>\n",
       "      <th>Sex_female</th>\n",
       "      <th>Sex_male</th>\n",
       "      <th>Embarked_C</th>\n",
       "      <th>Embarked_Q</th>\n",
       "      <th>Embarked_S</th>\n",
       "    </tr>\n",
       "    <tr>\n",
       "      <th>PassengerId</th>\n",
       "      <th></th>\n",
       "      <th></th>\n",
       "      <th></th>\n",
       "      <th></th>\n",
       "      <th></th>\n",
       "      <th></th>\n",
       "      <th></th>\n",
       "      <th></th>\n",
       "      <th></th>\n",
       "      <th></th>\n",
       "    </tr>\n",
       "  </thead>\n",
       "  <tbody>\n",
       "    <tr>\n",
       "      <th>531</th>\n",
       "      <td>2</td>\n",
       "      <td>2.0</td>\n",
       "      <td>1</td>\n",
       "      <td>1</td>\n",
       "      <td>26.0000</td>\n",
       "      <td>1</td>\n",
       "      <td>0</td>\n",
       "      <td>0</td>\n",
       "      <td>0</td>\n",
       "      <td>1</td>\n",
       "    </tr>\n",
       "    <tr>\n",
       "      <th>34</th>\n",
       "      <td>2</td>\n",
       "      <td>66.0</td>\n",
       "      <td>0</td>\n",
       "      <td>0</td>\n",
       "      <td>10.5000</td>\n",
       "      <td>0</td>\n",
       "      <td>1</td>\n",
       "      <td>0</td>\n",
       "      <td>0</td>\n",
       "      <td>1</td>\n",
       "    </tr>\n",
       "    <tr>\n",
       "      <th>457</th>\n",
       "      <td>1</td>\n",
       "      <td>65.0</td>\n",
       "      <td>0</td>\n",
       "      <td>0</td>\n",
       "      <td>26.5500</td>\n",
       "      <td>0</td>\n",
       "      <td>1</td>\n",
       "      <td>0</td>\n",
       "      <td>0</td>\n",
       "      <td>1</td>\n",
       "    </tr>\n",
       "    <tr>\n",
       "      <th>752</th>\n",
       "      <td>3</td>\n",
       "      <td>6.0</td>\n",
       "      <td>0</td>\n",
       "      <td>1</td>\n",
       "      <td>12.4750</td>\n",
       "      <td>0</td>\n",
       "      <td>1</td>\n",
       "      <td>0</td>\n",
       "      <td>0</td>\n",
       "      <td>1</td>\n",
       "    </tr>\n",
       "    <tr>\n",
       "      <th>687</th>\n",
       "      <td>3</td>\n",
       "      <td>14.0</td>\n",
       "      <td>4</td>\n",
       "      <td>1</td>\n",
       "      <td>39.6875</td>\n",
       "      <td>0</td>\n",
       "      <td>1</td>\n",
       "      <td>0</td>\n",
       "      <td>0</td>\n",
       "      <td>1</td>\n",
       "    </tr>\n",
       "    <tr>\n",
       "      <th>...</th>\n",
       "      <td>...</td>\n",
       "      <td>...</td>\n",
       "      <td>...</td>\n",
       "      <td>...</td>\n",
       "      <td>...</td>\n",
       "      <td>...</td>\n",
       "      <td>...</td>\n",
       "      <td>...</td>\n",
       "      <td>...</td>\n",
       "      <td>...</td>\n",
       "    </tr>\n",
       "    <tr>\n",
       "      <th>495</th>\n",
       "      <td>3</td>\n",
       "      <td>21.0</td>\n",
       "      <td>0</td>\n",
       "      <td>0</td>\n",
       "      <td>8.0500</td>\n",
       "      <td>0</td>\n",
       "      <td>1</td>\n",
       "      <td>0</td>\n",
       "      <td>0</td>\n",
       "      <td>1</td>\n",
       "    </tr>\n",
       "    <tr>\n",
       "      <th>543</th>\n",
       "      <td>3</td>\n",
       "      <td>11.0</td>\n",
       "      <td>4</td>\n",
       "      <td>2</td>\n",
       "      <td>31.2750</td>\n",
       "      <td>1</td>\n",
       "      <td>0</td>\n",
       "      <td>0</td>\n",
       "      <td>0</td>\n",
       "      <td>1</td>\n",
       "    </tr>\n",
       "    <tr>\n",
       "      <th>171</th>\n",
       "      <td>1</td>\n",
       "      <td>61.0</td>\n",
       "      <td>0</td>\n",
       "      <td>0</td>\n",
       "      <td>33.5000</td>\n",
       "      <td>0</td>\n",
       "      <td>1</td>\n",
       "      <td>0</td>\n",
       "      <td>0</td>\n",
       "      <td>1</td>\n",
       "    </tr>\n",
       "    <tr>\n",
       "      <th>673</th>\n",
       "      <td>2</td>\n",
       "      <td>70.0</td>\n",
       "      <td>0</td>\n",
       "      <td>0</td>\n",
       "      <td>10.5000</td>\n",
       "      <td>0</td>\n",
       "      <td>1</td>\n",
       "      <td>0</td>\n",
       "      <td>0</td>\n",
       "      <td>1</td>\n",
       "    </tr>\n",
       "    <tr>\n",
       "      <th>393</th>\n",
       "      <td>3</td>\n",
       "      <td>28.0</td>\n",
       "      <td>2</td>\n",
       "      <td>0</td>\n",
       "      <td>7.9250</td>\n",
       "      <td>0</td>\n",
       "      <td>1</td>\n",
       "      <td>0</td>\n",
       "      <td>0</td>\n",
       "      <td>1</td>\n",
       "    </tr>\n",
       "  </tbody>\n",
       "</table>\n",
       "<p>534 rows × 10 columns</p>\n",
       "</div>"
      ],
      "text/plain": [
       "             Pclass   Age  SibSp  Parch     Fare  Sex_female  Sex_male  \\\n",
       "PassengerId                                                              \n",
       "531               2   2.0      1      1  26.0000           1         0   \n",
       "34                2  66.0      0      0  10.5000           0         1   \n",
       "457               1  65.0      0      0  26.5500           0         1   \n",
       "752               3   6.0      0      1  12.4750           0         1   \n",
       "687               3  14.0      4      1  39.6875           0         1   \n",
       "...             ...   ...    ...    ...      ...         ...       ...   \n",
       "495               3  21.0      0      0   8.0500           0         1   \n",
       "543               3  11.0      4      2  31.2750           1         0   \n",
       "171               1  61.0      0      0  33.5000           0         1   \n",
       "673               2  70.0      0      0  10.5000           0         1   \n",
       "393               3  28.0      2      0   7.9250           0         1   \n",
       "\n",
       "             Embarked_C  Embarked_Q  Embarked_S  \n",
       "PassengerId                                      \n",
       "531                   0           0           1  \n",
       "34                    0           0           1  \n",
       "457                   0           0           1  \n",
       "752                   0           0           1  \n",
       "687                   0           0           1  \n",
       "...                 ...         ...         ...  \n",
       "495                   0           0           1  \n",
       "543                   0           0           1  \n",
       "171                   0           0           1  \n",
       "673                   0           0           1  \n",
       "393                   0           0           1  \n",
       "\n",
       "[534 rows x 10 columns]"
      ]
     },
     "execution_count": 104,
     "metadata": {},
     "output_type": "execute_result"
    },
    {
     "data": {
      "text/html": [
       "<div>\n",
       "<style scoped>\n",
       "    .dataframe tbody tr th:only-of-type {\n",
       "        vertical-align: middle;\n",
       "    }\n",
       "\n",
       "    .dataframe tbody tr th {\n",
       "        vertical-align: top;\n",
       "    }\n",
       "\n",
       "    .dataframe thead th {\n",
       "        text-align: right;\n",
       "    }\n",
       "</style>\n",
       "<table border=\"1\" class=\"dataframe\">\n",
       "  <thead>\n",
       "    <tr style=\"text-align: right;\">\n",
       "      <th></th>\n",
       "      <th>Pclass</th>\n",
       "      <th>Age</th>\n",
       "      <th>SibSp</th>\n",
       "      <th>Parch</th>\n",
       "      <th>Fare</th>\n",
       "      <th>Sex_female</th>\n",
       "      <th>Sex_male</th>\n",
       "      <th>Embarked_C</th>\n",
       "      <th>Embarked_Q</th>\n",
       "      <th>Embarked_S</th>\n",
       "    </tr>\n",
       "    <tr>\n",
       "      <th>PassengerId</th>\n",
       "      <th></th>\n",
       "      <th></th>\n",
       "      <th></th>\n",
       "      <th></th>\n",
       "      <th></th>\n",
       "      <th></th>\n",
       "      <th></th>\n",
       "      <th></th>\n",
       "      <th></th>\n",
       "      <th></th>\n",
       "    </tr>\n",
       "  </thead>\n",
       "  <tbody>\n",
       "    <tr>\n",
       "      <th>403</th>\n",
       "      <td>3</td>\n",
       "      <td>21.0</td>\n",
       "      <td>1</td>\n",
       "      <td>0</td>\n",
       "      <td>9.825</td>\n",
       "      <td>1</td>\n",
       "      <td>0</td>\n",
       "      <td>0</td>\n",
       "      <td>0</td>\n",
       "      <td>1</td>\n",
       "    </tr>\n",
       "    <tr>\n",
       "      <th>443</th>\n",
       "      <td>3</td>\n",
       "      <td>25.0</td>\n",
       "      <td>1</td>\n",
       "      <td>0</td>\n",
       "      <td>7.775</td>\n",
       "      <td>0</td>\n",
       "      <td>1</td>\n",
       "      <td>0</td>\n",
       "      <td>0</td>\n",
       "      <td>1</td>\n",
       "    </tr>\n",
       "    <tr>\n",
       "      <th>277</th>\n",
       "      <td>3</td>\n",
       "      <td>45.0</td>\n",
       "      <td>0</td>\n",
       "      <td>0</td>\n",
       "      <td>7.750</td>\n",
       "      <td>1</td>\n",
       "      <td>0</td>\n",
       "      <td>0</td>\n",
       "      <td>0</td>\n",
       "      <td>1</td>\n",
       "    </tr>\n",
       "    <tr>\n",
       "      <th>250</th>\n",
       "      <td>2</td>\n",
       "      <td>54.0</td>\n",
       "      <td>1</td>\n",
       "      <td>0</td>\n",
       "      <td>26.000</td>\n",
       "      <td>0</td>\n",
       "      <td>1</td>\n",
       "      <td>0</td>\n",
       "      <td>0</td>\n",
       "      <td>1</td>\n",
       "    </tr>\n",
       "    <tr>\n",
       "      <th>511</th>\n",
       "      <td>3</td>\n",
       "      <td>29.0</td>\n",
       "      <td>0</td>\n",
       "      <td>0</td>\n",
       "      <td>7.750</td>\n",
       "      <td>0</td>\n",
       "      <td>1</td>\n",
       "      <td>0</td>\n",
       "      <td>1</td>\n",
       "      <td>0</td>\n",
       "    </tr>\n",
       "    <tr>\n",
       "      <th>...</th>\n",
       "      <td>...</td>\n",
       "      <td>...</td>\n",
       "      <td>...</td>\n",
       "      <td>...</td>\n",
       "      <td>...</td>\n",
       "      <td>...</td>\n",
       "      <td>...</td>\n",
       "      <td>...</td>\n",
       "      <td>...</td>\n",
       "      <td>...</td>\n",
       "    </tr>\n",
       "    <tr>\n",
       "      <th>163</th>\n",
       "      <td>3</td>\n",
       "      <td>26.0</td>\n",
       "      <td>0</td>\n",
       "      <td>0</td>\n",
       "      <td>7.775</td>\n",
       "      <td>0</td>\n",
       "      <td>1</td>\n",
       "      <td>0</td>\n",
       "      <td>0</td>\n",
       "      <td>1</td>\n",
       "    </tr>\n",
       "    <tr>\n",
       "      <th>464</th>\n",
       "      <td>2</td>\n",
       "      <td>48.0</td>\n",
       "      <td>0</td>\n",
       "      <td>0</td>\n",
       "      <td>13.000</td>\n",
       "      <td>0</td>\n",
       "      <td>1</td>\n",
       "      <td>0</td>\n",
       "      <td>0</td>\n",
       "      <td>1</td>\n",
       "    </tr>\n",
       "    <tr>\n",
       "      <th>734</th>\n",
       "      <td>2</td>\n",
       "      <td>23.0</td>\n",
       "      <td>0</td>\n",
       "      <td>0</td>\n",
       "      <td>13.000</td>\n",
       "      <td>0</td>\n",
       "      <td>1</td>\n",
       "      <td>0</td>\n",
       "      <td>0</td>\n",
       "      <td>1</td>\n",
       "    </tr>\n",
       "    <tr>\n",
       "      <th>124</th>\n",
       "      <td>2</td>\n",
       "      <td>32.5</td>\n",
       "      <td>0</td>\n",
       "      <td>0</td>\n",
       "      <td>13.000</td>\n",
       "      <td>1</td>\n",
       "      <td>0</td>\n",
       "      <td>0</td>\n",
       "      <td>0</td>\n",
       "      <td>1</td>\n",
       "    </tr>\n",
       "    <tr>\n",
       "      <th>813</th>\n",
       "      <td>2</td>\n",
       "      <td>35.0</td>\n",
       "      <td>0</td>\n",
       "      <td>0</td>\n",
       "      <td>10.500</td>\n",
       "      <td>0</td>\n",
       "      <td>1</td>\n",
       "      <td>0</td>\n",
       "      <td>0</td>\n",
       "      <td>1</td>\n",
       "    </tr>\n",
       "  </tbody>\n",
       "</table>\n",
       "<p>178 rows × 10 columns</p>\n",
       "</div>"
      ],
      "text/plain": [
       "             Pclass   Age  SibSp  Parch    Fare  Sex_female  Sex_male  \\\n",
       "PassengerId                                                             \n",
       "403               3  21.0      1      0   9.825           1         0   \n",
       "443               3  25.0      1      0   7.775           0         1   \n",
       "277               3  45.0      0      0   7.750           1         0   \n",
       "250               2  54.0      1      0  26.000           0         1   \n",
       "511               3  29.0      0      0   7.750           0         1   \n",
       "...             ...   ...    ...    ...     ...         ...       ...   \n",
       "163               3  26.0      0      0   7.775           0         1   \n",
       "464               2  48.0      0      0  13.000           0         1   \n",
       "734               2  23.0      0      0  13.000           0         1   \n",
       "124               2  32.5      0      0  13.000           1         0   \n",
       "813               2  35.0      0      0  10.500           0         1   \n",
       "\n",
       "             Embarked_C  Embarked_Q  Embarked_S  \n",
       "PassengerId                                      \n",
       "403                   0           0           1  \n",
       "443                   0           0           1  \n",
       "277                   0           0           1  \n",
       "250                   0           0           1  \n",
       "511                   0           1           0  \n",
       "...                 ...         ...         ...  \n",
       "163                   0           0           1  \n",
       "464                   0           0           1  \n",
       "734                   0           0           1  \n",
       "124                   0           0           1  \n",
       "813                   0           0           1  \n",
       "\n",
       "[178 rows x 10 columns]"
      ]
     },
     "execution_count": 104,
     "metadata": {},
     "output_type": "execute_result"
    },
    {
     "data": {
      "text/plain": [
       "0    317\n",
       "1    217\n",
       "Name: Survived, dtype: int64"
      ]
     },
     "execution_count": 104,
     "metadata": {},
     "output_type": "execute_result"
    },
    {
     "data": {
      "text/plain": [
       "0    107\n",
       "1     71\n",
       "Name: Survived, dtype: int64"
      ]
     },
     "execution_count": 104,
     "metadata": {},
     "output_type": "execute_result"
    }
   ],
   "source": [
    "titTrainX,titTestX,titTrainY,titTestY = train_test_split(titXOH,titY)\n",
    "titTrainX\n",
    "titTestX\n",
    "titTrainY.value_counts()\n",
    "titTestY.value_counts()"
   ]
  },
  {
   "cell_type": "markdown",
   "metadata": {
    "slideshow": {
     "slide_type": "slide"
    }
   },
   "source": [
    "#### 建立决策树模型"
   ]
  },
  {
   "cell_type": "code",
   "execution_count": 105,
   "metadata": {
    "slideshow": {
     "slide_type": "fragment"
    }
   },
   "outputs": [],
   "source": [
    "titDt = tree.DecisionTreeClassifier(random_state=10)"
   ]
  },
  {
   "cell_type": "markdown",
   "metadata": {
    "slideshow": {
     "slide_type": "fragment"
    }
   },
   "source": [
    "#### 在训练集上训练模型"
   ]
  },
  {
   "cell_type": "code",
   "execution_count": 106,
   "metadata": {
    "scrolled": false,
    "slideshow": {
     "slide_type": "fragment"
    }
   },
   "outputs": [
    {
     "data": {
      "text/plain": [
       "DecisionTreeClassifier(ccp_alpha=0.0, class_weight=None, criterion='gini',\n",
       "                       max_depth=None, max_features=None, max_leaf_nodes=None,\n",
       "                       min_impurity_decrease=0.0, min_impurity_split=None,\n",
       "                       min_samples_leaf=1, min_samples_split=2,\n",
       "                       min_weight_fraction_leaf=0.0, presort='deprecated',\n",
       "                       random_state=10, splitter='best')"
      ]
     },
     "execution_count": 106,
     "metadata": {},
     "output_type": "execute_result"
    }
   ],
   "source": [
    "titDt.fit(titTrainX,titTrainY)"
   ]
  },
  {
   "cell_type": "markdown",
   "metadata": {
    "slideshow": {
     "slide_type": "slide"
    }
   },
   "source": [
    "#### 分类性能度量 "
   ]
  },
  {
   "cell_type": "code",
   "execution_count": 107,
   "metadata": {
    "slideshow": {
     "slide_type": "fragment"
    }
   },
   "outputs": [],
   "source": [
    "titTrainYPre = titDt.predict(titTrainX)"
   ]
  },
  {
   "cell_type": "markdown",
   "metadata": {
    "slideshow": {
     "slide_type": "fragment"
    }
   },
   "source": [
    "##### 混淆矩阵"
   ]
  },
  {
   "cell_type": "markdown",
   "metadata": {
    "slideshow": {
     "slide_type": "fragment"
    }
   },
   "source": [
    "```python\n",
    "    from sklearn import metrics\n",
    "    metrics.confusion_matrix(y_true, y_pred)\n",
    "    metrics.plot_confusion_matrix(estimator, X, y_true, values_format=None)\n",
    "```\n",
    "- `estimator`：训练好的分类器\n",
    "- `X`：预测属性\n",
    "- `value_formats`：数字的显示格式"
   ]
  },
  {
   "cell_type": "code",
   "execution_count": 108,
   "metadata": {
    "slideshow": {
     "slide_type": "slide"
    }
   },
   "outputs": [],
   "source": [
    "from sklearn import metrics"
   ]
  },
  {
   "cell_type": "code",
   "execution_count": 109,
   "metadata": {
    "scrolled": true,
    "slideshow": {
     "slide_type": "fragment"
    }
   },
   "outputs": [
    {
     "data": {
      "text/plain": [
       "array([[317,   0],\n",
       "       [  6, 211]])"
      ]
     },
     "execution_count": 109,
     "metadata": {},
     "output_type": "execute_result"
    },
    {
     "data": {
      "text/plain": [
       "<sklearn.metrics._plot.confusion_matrix.ConfusionMatrixDisplay at 0x7f8597356780>"
      ]
     },
     "execution_count": 109,
     "metadata": {},
     "output_type": "execute_result"
    },
    {
     "data": {
      "image/png": "[encoded data removed]",
      "text/plain": [
       "<Figure size 432x288 with 2 Axes>"
      ]
     },
     "metadata": {
      "needs_background": "light"
     },
     "output_type": "display_data"
    }
   ],
   "source": [
    "metrics.confusion_matrix(titTrainY, titTrainYPre)\n",
    "metrics.plot_confusion_matrix(titDt,titTrainX,titTrainY,values_format='.0f')"
   ]
  },
  {
   "cell_type": "markdown",
   "metadata": {
    "slideshow": {
     "slide_type": "slide"
    }
   },
   "source": [
    "<center><img src=\"./img/dataMining/classificationScoreN1.png\" width=100%></center>"
   ]
  },
  {
   "cell_type": "markdown",
   "metadata": {
    "slideshow": {
     "slide_type": "slide"
    }
   },
   "source": [
    "## 用决策树分类收益率构建择时模型"
   ]
  },
  {
   "cell_type": "markdown",
   "metadata": {
    "slideshow": {
     "slide_type": "fragment"
    }
   },
   "source": [
    "### 基本原理"
   ]
  },
  {
   "cell_type": "markdown",
   "metadata": {
    "slideshow": {
     "slide_type": "fragment"
    }
   },
   "source": [
    "> 投资**收益率**的可预测性，而价格的不可预测性"
   ]
  },
  {
   "cell_type": "markdown",
   "metadata": {
    "slideshow": {
     "slide_type": "fragment"
    }
   },
   "source": [
    "- 构建预测属性，预测未来收益率的涨跌，从而决定买卖决策"
   ]
  },
  {
   "cell_type": "markdown",
   "metadata": {
    "slideshow": {
     "slide_type": "fragment"
    }
   },
   "source": [
    "### 读入并整理数据"
   ]
  },
  {
   "cell_type": "code",
   "execution_count": 150,
   "metadata": {
    "scrolled": true,
    "slideshow": {
     "slide_type": "fragment"
    }
   },
   "outputs": [
    {
     "data": {
      "text/html": [
       "<div>\n",
       "<style scoped>\n",
       "    .dataframe tbody tr th:only-of-type {\n",
       "        vertical-align: middle;\n",
       "    }\n",
       "\n",
       "    .dataframe tbody tr th {\n",
       "        vertical-align: top;\n",
       "    }\n",
       "\n",
       "    .dataframe thead th {\n",
       "        text-align: right;\n",
       "    }\n",
       "</style>\n",
       "<table border=\"1\" class=\"dataframe\">\n",
       "  <thead>\n",
       "    <tr style=\"text-align: right;\">\n",
       "      <th></th>\n",
       "      <th>time</th>\n",
       "      <th>code</th>\n",
       "      <th>open</th>\n",
       "      <th>high</th>\n",
       "      <th>low</th>\n",
       "      <th>close</th>\n",
       "      <th>volume</th>\n",
       "      <th>amount</th>\n",
       "      <th>open_interest</th>\n",
       "    </tr>\n",
       "  </thead>\n",
       "  <tbody>\n",
       "    <tr>\n",
       "      <th>0</th>\n",
       "      <td>2016-01-04 15:00:00</td>\n",
       "      <td>shfe.rb0000</td>\n",
       "      <td>1821.0</td>\n",
       "      <td>1846.0</td>\n",
       "      <td>1773.0</td>\n",
       "      <td>1777.0</td>\n",
       "      <td>3350468.0</td>\n",
       "      <td>6.022048e+10</td>\n",
       "      <td>1531067.0</td>\n",
       "    </tr>\n",
       "    <tr>\n",
       "      <th>1</th>\n",
       "      <td>2016-01-05 15:00:00</td>\n",
       "      <td>shfe.rb0000</td>\n",
       "      <td>1779.0</td>\n",
       "      <td>1789.0</td>\n",
       "      <td>1761.0</td>\n",
       "      <td>1789.0</td>\n",
       "      <td>3206574.0</td>\n",
       "      <td>5.702488e+10</td>\n",
       "      <td>1585941.0</td>\n",
       "    </tr>\n",
       "    <tr>\n",
       "      <th>2</th>\n",
       "      <td>2016-01-06 15:00:00</td>\n",
       "      <td>shfe.rb0000</td>\n",
       "      <td>1787.0</td>\n",
       "      <td>1790.0</td>\n",
       "      <td>1769.0</td>\n",
       "      <td>1775.0</td>\n",
       "      <td>2301831.0</td>\n",
       "      <td>4.090336e+10</td>\n",
       "      <td>1550881.0</td>\n",
       "    </tr>\n",
       "    <tr>\n",
       "      <th>3</th>\n",
       "      <td>2016-01-07 15:00:00</td>\n",
       "      <td>shfe.rb0000</td>\n",
       "      <td>1770.0</td>\n",
       "      <td>1786.0</td>\n",
       "      <td>1766.0</td>\n",
       "      <td>1773.0</td>\n",
       "      <td>2326314.0</td>\n",
       "      <td>4.132192e+10</td>\n",
       "      <td>1536994.0</td>\n",
       "    </tr>\n",
       "    <tr>\n",
       "      <th>4</th>\n",
       "      <td>2016-01-08 15:00:00</td>\n",
       "      <td>shfe.rb0000</td>\n",
       "      <td>1769.0</td>\n",
       "      <td>1775.0</td>\n",
       "      <td>1747.0</td>\n",
       "      <td>1759.0</td>\n",
       "      <td>3329019.0</td>\n",
       "      <td>5.864873e+10</td>\n",
       "      <td>1442532.0</td>\n",
       "    </tr>\n",
       "  </tbody>\n",
       "</table>\n",
       "</div>"
      ],
      "text/plain": [
       "                  time         code    open    high     low   close  \\\n",
       "0  2016-01-04 15:00:00  shfe.rb0000  1821.0  1846.0  1773.0  1777.0   \n",
       "1  2016-01-05 15:00:00  shfe.rb0000  1779.0  1789.0  1761.0  1789.0   \n",
       "2  2016-01-06 15:00:00  shfe.rb0000  1787.0  1790.0  1769.0  1775.0   \n",
       "3  2016-01-07 15:00:00  shfe.rb0000  1770.0  1786.0  1766.0  1773.0   \n",
       "4  2016-01-08 15:00:00  shfe.rb0000  1769.0  1775.0  1747.0  1759.0   \n",
       "\n",
       "      volume        amount  open_interest  \n",
       "0  3350468.0  6.022048e+10      1531067.0  \n",
       "1  3206574.0  5.702488e+10      1585941.0  \n",
       "2  2301831.0  4.090336e+10      1550881.0  \n",
       "3  2326314.0  4.132192e+10      1536994.0  \n",
       "4  3329019.0  5.864873e+10      1442532.0  "
      ]
     },
     "execution_count": 150,
     "metadata": {},
     "output_type": "execute_result"
    }
   ],
   "source": [
    "rbd = pd.read_csv('./data/models/rbDaily.csv')\n",
    "rbd.head()"
   ]
  },
  {
   "cell_type": "markdown",
   "metadata": {
    "slideshow": {
     "slide_type": "slide"
    }
   },
   "source": [
    "#### 判断是否有缺失值"
   ]
  },
  {
   "cell_type": "code",
   "execution_count": 11,
   "metadata": {
    "slideshow": {
     "slide_type": "fragment"
    }
   },
   "outputs": [
    {
     "data": {
      "text/html": [
       "<div>\n",
       "<style scoped>\n",
       "    .dataframe tbody tr th:only-of-type {\n",
       "        vertical-align: middle;\n",
       "    }\n",
       "\n",
       "    .dataframe tbody tr th {\n",
       "        vertical-align: top;\n",
       "    }\n",
       "\n",
       "    .dataframe thead th {\n",
       "        text-align: right;\n",
       "    }\n",
       "</style>\n",
       "<table border=\"1\" class=\"dataframe\">\n",
       "  <thead>\n",
       "    <tr style=\"text-align: right;\">\n",
       "      <th></th>\n",
       "      <th>time</th>\n",
       "      <th>code</th>\n",
       "      <th>open</th>\n",
       "      <th>high</th>\n",
       "      <th>low</th>\n",
       "      <th>close</th>\n",
       "      <th>volume</th>\n",
       "      <th>amount</th>\n",
       "      <th>open_interest</th>\n",
       "    </tr>\n",
       "  </thead>\n",
       "  <tbody>\n",
       "  </tbody>\n",
       "</table>\n",
       "</div>"
      ],
      "text/plain": [
       "Empty DataFrame\n",
       "Columns: [time, code, open, high, low, close, volume, amount, open_interest]\n",
       "Index: []"
      ]
     },
     "execution_count": 11,
     "metadata": {},
     "output_type": "execute_result"
    }
   ],
   "source": [
    "rbd.loc[rbd.isna().sum(axis=1)>0,:]"
   ]
  },
  {
   "cell_type": "markdown",
   "metadata": {
    "slideshow": {
     "slide_type": "fragment"
    }
   },
   "source": [
    "#### 判断是否有重复值"
   ]
  },
  {
   "cell_type": "code",
   "execution_count": 12,
   "metadata": {
    "slideshow": {
     "slide_type": "fragment"
    }
   },
   "outputs": [
    {
     "data": {
      "text/html": [
       "<div>\n",
       "<style scoped>\n",
       "    .dataframe tbody tr th:only-of-type {\n",
       "        vertical-align: middle;\n",
       "    }\n",
       "\n",
       "    .dataframe tbody tr th {\n",
       "        vertical-align: top;\n",
       "    }\n",
       "\n",
       "    .dataframe thead th {\n",
       "        text-align: right;\n",
       "    }\n",
       "</style>\n",
       "<table border=\"1\" class=\"dataframe\">\n",
       "  <thead>\n",
       "    <tr style=\"text-align: right;\">\n",
       "      <th></th>\n",
       "      <th>time</th>\n",
       "      <th>code</th>\n",
       "      <th>open</th>\n",
       "      <th>high</th>\n",
       "      <th>low</th>\n",
       "      <th>close</th>\n",
       "      <th>volume</th>\n",
       "      <th>amount</th>\n",
       "      <th>open_interest</th>\n",
       "    </tr>\n",
       "  </thead>\n",
       "  <tbody>\n",
       "  </tbody>\n",
       "</table>\n",
       "</div>"
      ],
      "text/plain": [
       "Empty DataFrame\n",
       "Columns: [time, code, open, high, low, close, volume, amount, open_interest]\n",
       "Index: []"
      ]
     },
     "execution_count": 12,
     "metadata": {},
     "output_type": "execute_result"
    }
   ],
   "source": [
    "rbd.loc[rbd.duplicated()==True,:]"
   ]
  },
  {
   "cell_type": "markdown",
   "metadata": {
    "slideshow": {
     "slide_type": "fragment"
    }
   },
   "source": [
    "#### 转换时间格式"
   ]
  },
  {
   "cell_type": "code",
   "execution_count": 151,
   "metadata": {
    "slideshow": {
     "slide_type": "fragment"
    }
   },
   "outputs": [
    {
     "data": {
      "text/html": [
       "<div>\n",
       "<style scoped>\n",
       "    .dataframe tbody tr th:only-of-type {\n",
       "        vertical-align: middle;\n",
       "    }\n",
       "\n",
       "    .dataframe tbody tr th {\n",
       "        vertical-align: top;\n",
       "    }\n",
       "\n",
       "    .dataframe thead th {\n",
       "        text-align: right;\n",
       "    }\n",
       "</style>\n",
       "<table border=\"1\" class=\"dataframe\">\n",
       "  <thead>\n",
       "    <tr style=\"text-align: right;\">\n",
       "      <th></th>\n",
       "      <th>code</th>\n",
       "      <th>open</th>\n",
       "      <th>high</th>\n",
       "      <th>low</th>\n",
       "      <th>close</th>\n",
       "      <th>volume</th>\n",
       "      <th>amount</th>\n",
       "      <th>open_interest</th>\n",
       "    </tr>\n",
       "    <tr>\n",
       "      <th>time</th>\n",
       "      <th></th>\n",
       "      <th></th>\n",
       "      <th></th>\n",
       "      <th></th>\n",
       "      <th></th>\n",
       "      <th></th>\n",
       "      <th></th>\n",
       "      <th></th>\n",
       "    </tr>\n",
       "  </thead>\n",
       "  <tbody>\n",
       "    <tr>\n",
       "      <th>2016-01-04</th>\n",
       "      <td>shfe.rb0000</td>\n",
       "      <td>1821.0</td>\n",
       "      <td>1846.0</td>\n",
       "      <td>1773.0</td>\n",
       "      <td>1777.0</td>\n",
       "      <td>3350468.0</td>\n",
       "      <td>6.022048e+10</td>\n",
       "      <td>1531067.0</td>\n",
       "    </tr>\n",
       "    <tr>\n",
       "      <th>2016-01-05</th>\n",
       "      <td>shfe.rb0000</td>\n",
       "      <td>1779.0</td>\n",
       "      <td>1789.0</td>\n",
       "      <td>1761.0</td>\n",
       "      <td>1789.0</td>\n",
       "      <td>3206574.0</td>\n",
       "      <td>5.702488e+10</td>\n",
       "      <td>1585941.0</td>\n",
       "    </tr>\n",
       "    <tr>\n",
       "      <th>2016-01-06</th>\n",
       "      <td>shfe.rb0000</td>\n",
       "      <td>1787.0</td>\n",
       "      <td>1790.0</td>\n",
       "      <td>1769.0</td>\n",
       "      <td>1775.0</td>\n",
       "      <td>2301831.0</td>\n",
       "      <td>4.090336e+10</td>\n",
       "      <td>1550881.0</td>\n",
       "    </tr>\n",
       "    <tr>\n",
       "      <th>2016-01-07</th>\n",
       "      <td>shfe.rb0000</td>\n",
       "      <td>1770.0</td>\n",
       "      <td>1786.0</td>\n",
       "      <td>1766.0</td>\n",
       "      <td>1773.0</td>\n",
       "      <td>2326314.0</td>\n",
       "      <td>4.132192e+10</td>\n",
       "      <td>1536994.0</td>\n",
       "    </tr>\n",
       "    <tr>\n",
       "      <th>2016-01-08</th>\n",
       "      <td>shfe.rb0000</td>\n",
       "      <td>1769.0</td>\n",
       "      <td>1775.0</td>\n",
       "      <td>1747.0</td>\n",
       "      <td>1759.0</td>\n",
       "      <td>3329019.0</td>\n",
       "      <td>5.864873e+10</td>\n",
       "      <td>1442532.0</td>\n",
       "    </tr>\n",
       "  </tbody>\n",
       "</table>\n",
       "</div>"
      ],
      "text/plain": [
       "                   code    open    high     low   close     volume  \\\n",
       "time                                                                 \n",
       "2016-01-04  shfe.rb0000  1821.0  1846.0  1773.0  1777.0  3350468.0   \n",
       "2016-01-05  shfe.rb0000  1779.0  1789.0  1761.0  1789.0  3206574.0   \n",
       "2016-01-06  shfe.rb0000  1787.0  1790.0  1769.0  1775.0  2301831.0   \n",
       "2016-01-07  shfe.rb0000  1770.0  1786.0  1766.0  1773.0  2326314.0   \n",
       "2016-01-08  shfe.rb0000  1769.0  1775.0  1747.0  1759.0  3329019.0   \n",
       "\n",
       "                  amount  open_interest  \n",
       "time                                     \n",
       "2016-01-04  6.022048e+10      1531067.0  \n",
       "2016-01-05  5.702488e+10      1585941.0  \n",
       "2016-01-06  4.090336e+10      1550881.0  \n",
       "2016-01-07  4.132192e+10      1536994.0  \n",
       "2016-01-08  5.864873e+10      1442532.0  "
      ]
     },
     "execution_count": 151,
     "metadata": {},
     "output_type": "execute_result"
    }
   ],
   "source": [
    "rbd['time'] = pd.to_datetime(rbd['time'])\n",
    "rbd['time'] = pd.to_datetime(rbd['time'].dt.date)\n",
    "rbd.set_index('time',inplace=True)\n",
    "rbd.head()"
   ]
  },
  {
   "cell_type": "markdown",
   "metadata": {
    "slideshow": {
     "slide_type": "slide"
    }
   },
   "source": [
    "### 构建分类标签"
   ]
  },
  {
   "cell_type": "markdown",
   "metadata": {
    "slideshow": {
     "slide_type": "fragment"
    }
   },
   "source": [
    "- 以日价格的增长率作为分类标签"
   ]
  },
  {
   "cell_type": "markdown",
   "metadata": {
    "slideshow": {
     "slide_type": "fragment"
    }
   },
   "source": [
    "#### 计算日增长率"
   ]
  },
  {
   "cell_type": "code",
   "execution_count": 153,
   "metadata": {
    "slideshow": {
     "slide_type": "fragment"
    }
   },
   "outputs": [
    {
     "data": {
      "text/html": [
       "<div>\n",
       "<style scoped>\n",
       "    .dataframe tbody tr th:only-of-type {\n",
       "        vertical-align: middle;\n",
       "    }\n",
       "\n",
       "    .dataframe tbody tr th {\n",
       "        vertical-align: top;\n",
       "    }\n",
       "\n",
       "    .dataframe thead th {\n",
       "        text-align: right;\n",
       "    }\n",
       "</style>\n",
       "<table border=\"1\" class=\"dataframe\">\n",
       "  <thead>\n",
       "    <tr style=\"text-align: right;\">\n",
       "      <th></th>\n",
       "      <th>code</th>\n",
       "      <th>open</th>\n",
       "      <th>high</th>\n",
       "      <th>low</th>\n",
       "      <th>close</th>\n",
       "      <th>volume</th>\n",
       "      <th>amount</th>\n",
       "      <th>open_interest</th>\n",
       "      <th>ret</th>\n",
       "    </tr>\n",
       "    <tr>\n",
       "      <th>time</th>\n",
       "      <th></th>\n",
       "      <th></th>\n",
       "      <th></th>\n",
       "      <th></th>\n",
       "      <th></th>\n",
       "      <th></th>\n",
       "      <th></th>\n",
       "      <th></th>\n",
       "      <th></th>\n",
       "    </tr>\n",
       "  </thead>\n",
       "  <tbody>\n",
       "    <tr>\n",
       "      <th>2016-01-04</th>\n",
       "      <td>shfe.rb0000</td>\n",
       "      <td>1821.0</td>\n",
       "      <td>1846.0</td>\n",
       "      <td>1773.0</td>\n",
       "      <td>1777.0</td>\n",
       "      <td>3350468.0</td>\n",
       "      <td>6.022048e+10</td>\n",
       "      <td>1531067.0</td>\n",
       "      <td>NaN</td>\n",
       "    </tr>\n",
       "    <tr>\n",
       "      <th>2016-01-05</th>\n",
       "      <td>shfe.rb0000</td>\n",
       "      <td>1779.0</td>\n",
       "      <td>1789.0</td>\n",
       "      <td>1761.0</td>\n",
       "      <td>1789.0</td>\n",
       "      <td>3206574.0</td>\n",
       "      <td>5.702488e+10</td>\n",
       "      <td>1585941.0</td>\n",
       "      <td>0.006753</td>\n",
       "    </tr>\n",
       "    <tr>\n",
       "      <th>2016-01-06</th>\n",
       "      <td>shfe.rb0000</td>\n",
       "      <td>1787.0</td>\n",
       "      <td>1790.0</td>\n",
       "      <td>1769.0</td>\n",
       "      <td>1775.0</td>\n",
       "      <td>2301831.0</td>\n",
       "      <td>4.090336e+10</td>\n",
       "      <td>1550881.0</td>\n",
       "      <td>-0.007826</td>\n",
       "    </tr>\n",
       "    <tr>\n",
       "      <th>2016-01-07</th>\n",
       "      <td>shfe.rb0000</td>\n",
       "      <td>1770.0</td>\n",
       "      <td>1786.0</td>\n",
       "      <td>1766.0</td>\n",
       "      <td>1773.0</td>\n",
       "      <td>2326314.0</td>\n",
       "      <td>4.132192e+10</td>\n",
       "      <td>1536994.0</td>\n",
       "      <td>-0.001127</td>\n",
       "    </tr>\n",
       "    <tr>\n",
       "      <th>2016-01-08</th>\n",
       "      <td>shfe.rb0000</td>\n",
       "      <td>1769.0</td>\n",
       "      <td>1775.0</td>\n",
       "      <td>1747.0</td>\n",
       "      <td>1759.0</td>\n",
       "      <td>3329019.0</td>\n",
       "      <td>5.864873e+10</td>\n",
       "      <td>1442532.0</td>\n",
       "      <td>-0.007896</td>\n",
       "    </tr>\n",
       "  </tbody>\n",
       "</table>\n",
       "</div>"
      ],
      "text/plain": [
       "                   code    open    high     low   close     volume  \\\n",
       "time                                                                 \n",
       "2016-01-04  shfe.rb0000  1821.0  1846.0  1773.0  1777.0  3350468.0   \n",
       "2016-01-05  shfe.rb0000  1779.0  1789.0  1761.0  1789.0  3206574.0   \n",
       "2016-01-06  shfe.rb0000  1787.0  1790.0  1769.0  1775.0  2301831.0   \n",
       "2016-01-07  shfe.rb0000  1770.0  1786.0  1766.0  1773.0  2326314.0   \n",
       "2016-01-08  shfe.rb0000  1769.0  1775.0  1747.0  1759.0  3329019.0   \n",
       "\n",
       "                  amount  open_interest       ret  \n",
       "time                                               \n",
       "2016-01-04  6.022048e+10      1531067.0       NaN  \n",
       "2016-01-05  5.702488e+10      1585941.0  0.006753  \n",
       "2016-01-06  4.090336e+10      1550881.0 -0.007826  \n",
       "2016-01-07  4.132192e+10      1536994.0 -0.001127  \n",
       "2016-01-08  5.864873e+10      1442532.0 -0.007896  "
      ]
     },
     "execution_count": 153,
     "metadata": {},
     "output_type": "execute_result"
    }
   ],
   "source": [
    "rbd['ret'] = rbd['close'].pct_change()\n",
    "rbd.head()"
   ]
  },
  {
   "cell_type": "markdown",
   "metadata": {
    "slideshow": {
     "slide_type": "slide"
    }
   },
   "source": [
    "#### 绘制价格与增长率（收益率）曲线"
   ]
  },
  {
   "cell_type": "code",
   "execution_count": 23,
   "metadata": {
    "scrolled": true,
    "slideshow": {
     "slide_type": "fragment"
    }
   },
   "outputs": [
    {
     "data": {
      "image/png": "[encoded data removed]",
      "text/plain": [
       "<Figure size 1150x575 with 4 Axes>"
      ]
     },
     "metadata": {},
     "output_type": "display_data"
    }
   ],
   "source": [
    "addFig = [mpf.make_addplot(rbd['ret'],panel=1,type='line',color='red',ylabel='Return')]\n",
    "mpf.plot(rbd,type='line',style='yahoo',addplot=addFig,figratio=(12,6),figscale=1)"
   ]
  },
  {
   "cell_type": "markdown",
   "metadata": {
    "slideshow": {
     "slide_type": "slide"
    }
   },
   "source": [
    "#### 收益率离散化"
   ]
  },
  {
   "cell_type": "code",
   "execution_count": 25,
   "metadata": {
    "slideshow": {
     "slide_type": "fragment"
    }
   },
   "outputs": [
    {
     "data": {
      "text/plain": [
       "count    1677.000000\n",
       "mean        0.000615\n",
       "std         0.018507\n",
       "min        -0.092328\n",
       "25%        -0.008497\n",
       "50%         0.000969\n",
       "75%         0.010345\n",
       "max         0.068790\n",
       "Name: ret, dtype: float64"
      ]
     },
     "execution_count": 25,
     "metadata": {},
     "output_type": "execute_result"
    }
   ],
   "source": [
    "rbd['ret'].describe()"
   ]
  },
  {
   "cell_type": "code",
   "execution_count": 154,
   "metadata": {
    "slideshow": {
     "slide_type": "fragment"
    }
   },
   "outputs": [
    {
     "data": {
      "text/html": [
       "<div>\n",
       "<style scoped>\n",
       "    .dataframe tbody tr th:only-of-type {\n",
       "        vertical-align: middle;\n",
       "    }\n",
       "\n",
       "    .dataframe tbody tr th {\n",
       "        vertical-align: top;\n",
       "    }\n",
       "\n",
       "    .dataframe thead th {\n",
       "        text-align: right;\n",
       "    }\n",
       "</style>\n",
       "<table border=\"1\" class=\"dataframe\">\n",
       "  <thead>\n",
       "    <tr style=\"text-align: right;\">\n",
       "      <th></th>\n",
       "      <th>code</th>\n",
       "      <th>open</th>\n",
       "      <th>high</th>\n",
       "      <th>low</th>\n",
       "      <th>close</th>\n",
       "      <th>volume</th>\n",
       "      <th>amount</th>\n",
       "      <th>open_interest</th>\n",
       "      <th>ret</th>\n",
       "      <th>y</th>\n",
       "    </tr>\n",
       "    <tr>\n",
       "      <th>time</th>\n",
       "      <th></th>\n",
       "      <th></th>\n",
       "      <th></th>\n",
       "      <th></th>\n",
       "      <th></th>\n",
       "      <th></th>\n",
       "      <th></th>\n",
       "      <th></th>\n",
       "      <th></th>\n",
       "      <th></th>\n",
       "    </tr>\n",
       "  </thead>\n",
       "  <tbody>\n",
       "    <tr>\n",
       "      <th>2016-01-04</th>\n",
       "      <td>shfe.rb0000</td>\n",
       "      <td>1821.0</td>\n",
       "      <td>1846.0</td>\n",
       "      <td>1773.0</td>\n",
       "      <td>1777.0</td>\n",
       "      <td>3350468.0</td>\n",
       "      <td>6.022048e+10</td>\n",
       "      <td>1531067.0</td>\n",
       "      <td>NaN</td>\n",
       "      <td>-1</td>\n",
       "    </tr>\n",
       "    <tr>\n",
       "      <th>2016-01-05</th>\n",
       "      <td>shfe.rb0000</td>\n",
       "      <td>1779.0</td>\n",
       "      <td>1789.0</td>\n",
       "      <td>1761.0</td>\n",
       "      <td>1789.0</td>\n",
       "      <td>3206574.0</td>\n",
       "      <td>5.702488e+10</td>\n",
       "      <td>1585941.0</td>\n",
       "      <td>0.006753</td>\n",
       "      <td>1</td>\n",
       "    </tr>\n",
       "    <tr>\n",
       "      <th>2016-01-06</th>\n",
       "      <td>shfe.rb0000</td>\n",
       "      <td>1787.0</td>\n",
       "      <td>1790.0</td>\n",
       "      <td>1769.0</td>\n",
       "      <td>1775.0</td>\n",
       "      <td>2301831.0</td>\n",
       "      <td>4.090336e+10</td>\n",
       "      <td>1550881.0</td>\n",
       "      <td>-0.007826</td>\n",
       "      <td>-1</td>\n",
       "    </tr>\n",
       "    <tr>\n",
       "      <th>2016-01-07</th>\n",
       "      <td>shfe.rb0000</td>\n",
       "      <td>1770.0</td>\n",
       "      <td>1786.0</td>\n",
       "      <td>1766.0</td>\n",
       "      <td>1773.0</td>\n",
       "      <td>2326314.0</td>\n",
       "      <td>4.132192e+10</td>\n",
       "      <td>1536994.0</td>\n",
       "      <td>-0.001127</td>\n",
       "      <td>-1</td>\n",
       "    </tr>\n",
       "    <tr>\n",
       "      <th>2016-01-08</th>\n",
       "      <td>shfe.rb0000</td>\n",
       "      <td>1769.0</td>\n",
       "      <td>1775.0</td>\n",
       "      <td>1747.0</td>\n",
       "      <td>1759.0</td>\n",
       "      <td>3329019.0</td>\n",
       "      <td>5.864873e+10</td>\n",
       "      <td>1442532.0</td>\n",
       "      <td>-0.007896</td>\n",
       "      <td>-1</td>\n",
       "    </tr>\n",
       "  </tbody>\n",
       "</table>\n",
       "</div>"
      ],
      "text/plain": [
       "                   code    open    high     low   close     volume  \\\n",
       "time                                                                 \n",
       "2016-01-04  shfe.rb0000  1821.0  1846.0  1773.0  1777.0  3350468.0   \n",
       "2016-01-05  shfe.rb0000  1779.0  1789.0  1761.0  1789.0  3206574.0   \n",
       "2016-01-06  shfe.rb0000  1787.0  1790.0  1769.0  1775.0  2301831.0   \n",
       "2016-01-07  shfe.rb0000  1770.0  1786.0  1766.0  1773.0  2326314.0   \n",
       "2016-01-08  shfe.rb0000  1769.0  1775.0  1747.0  1759.0  3329019.0   \n",
       "\n",
       "                  amount  open_interest       ret  y  \n",
       "time                                                  \n",
       "2016-01-04  6.022048e+10      1531067.0       NaN -1  \n",
       "2016-01-05  5.702488e+10      1585941.0  0.006753  1  \n",
       "2016-01-06  4.090336e+10      1550881.0 -0.007826 -1  \n",
       "2016-01-07  4.132192e+10      1536994.0 -0.001127 -1  \n",
       "2016-01-08  5.864873e+10      1442532.0 -0.007896 -1  "
      ]
     },
     "execution_count": 154,
     "metadata": {},
     "output_type": "execute_result"
    }
   ],
   "source": [
    "rbd['y'] = np.where(rbd['ret'] > 0,1,-1)\n",
    "rbd.head()"
   ]
  },
  {
   "cell_type": "markdown",
   "metadata": {
    "slideshow": {
     "slide_type": "slide"
    }
   },
   "source": [
    "### 构建分类属性（特征）"
   ]
  },
  {
   "cell_type": "markdown",
   "metadata": {
    "slideshow": {
     "slide_type": "fragment"
    }
   },
   "source": [
    "#### 动量因子"
   ]
  },
  {
   "cell_type": "markdown",
   "metadata": {
    "slideshow": {
     "slide_type": "fragment"
    }
   },
   "source": [
    "- 商品的超额收益在过去7日内的均值"
   ]
  },
  {
   "cell_type": "code",
   "execution_count": 155,
   "metadata": {
    "slideshow": {
     "slide_type": "fragment"
    }
   },
   "outputs": [
    {
     "data": {
      "text/html": [
       "<div>\n",
       "<style scoped>\n",
       "    .dataframe tbody tr th:only-of-type {\n",
       "        vertical-align: middle;\n",
       "    }\n",
       "\n",
       "    .dataframe tbody tr th {\n",
       "        vertical-align: top;\n",
       "    }\n",
       "\n",
       "    .dataframe thead th {\n",
       "        text-align: right;\n",
       "    }\n",
       "</style>\n",
       "<table border=\"1\" class=\"dataframe\">\n",
       "  <thead>\n",
       "    <tr style=\"text-align: right;\">\n",
       "      <th></th>\n",
       "      <th>code</th>\n",
       "      <th>open</th>\n",
       "      <th>high</th>\n",
       "      <th>low</th>\n",
       "      <th>close</th>\n",
       "      <th>volume</th>\n",
       "      <th>amount</th>\n",
       "      <th>open_interest</th>\n",
       "      <th>ret</th>\n",
       "      <th>y</th>\n",
       "      <th>mf</th>\n",
       "    </tr>\n",
       "    <tr>\n",
       "      <th>time</th>\n",
       "      <th></th>\n",
       "      <th></th>\n",
       "      <th></th>\n",
       "      <th></th>\n",
       "      <th></th>\n",
       "      <th></th>\n",
       "      <th></th>\n",
       "      <th></th>\n",
       "      <th></th>\n",
       "      <th></th>\n",
       "      <th></th>\n",
       "    </tr>\n",
       "  </thead>\n",
       "  <tbody>\n",
       "    <tr>\n",
       "      <th>2016-01-04</th>\n",
       "      <td>shfe.rb0000</td>\n",
       "      <td>1821.0</td>\n",
       "      <td>1846.0</td>\n",
       "      <td>1773.0</td>\n",
       "      <td>1777.0</td>\n",
       "      <td>3350468.0</td>\n",
       "      <td>6.022048e+10</td>\n",
       "      <td>1531067.0</td>\n",
       "      <td>NaN</td>\n",
       "      <td>-1</td>\n",
       "      <td>NaN</td>\n",
       "    </tr>\n",
       "    <tr>\n",
       "      <th>2016-01-05</th>\n",
       "      <td>shfe.rb0000</td>\n",
       "      <td>1779.0</td>\n",
       "      <td>1789.0</td>\n",
       "      <td>1761.0</td>\n",
       "      <td>1789.0</td>\n",
       "      <td>3206574.0</td>\n",
       "      <td>5.702488e+10</td>\n",
       "      <td>1585941.0</td>\n",
       "      <td>0.006753</td>\n",
       "      <td>1</td>\n",
       "      <td>NaN</td>\n",
       "    </tr>\n",
       "    <tr>\n",
       "      <th>2016-01-06</th>\n",
       "      <td>shfe.rb0000</td>\n",
       "      <td>1787.0</td>\n",
       "      <td>1790.0</td>\n",
       "      <td>1769.0</td>\n",
       "      <td>1775.0</td>\n",
       "      <td>2301831.0</td>\n",
       "      <td>4.090336e+10</td>\n",
       "      <td>1550881.0</td>\n",
       "      <td>-0.007826</td>\n",
       "      <td>-1</td>\n",
       "      <td>NaN</td>\n",
       "    </tr>\n",
       "    <tr>\n",
       "      <th>2016-01-07</th>\n",
       "      <td>shfe.rb0000</td>\n",
       "      <td>1770.0</td>\n",
       "      <td>1786.0</td>\n",
       "      <td>1766.0</td>\n",
       "      <td>1773.0</td>\n",
       "      <td>2326314.0</td>\n",
       "      <td>4.132192e+10</td>\n",
       "      <td>1536994.0</td>\n",
       "      <td>-0.001127</td>\n",
       "      <td>-1</td>\n",
       "      <td>NaN</td>\n",
       "    </tr>\n",
       "    <tr>\n",
       "      <th>2016-01-08</th>\n",
       "      <td>shfe.rb0000</td>\n",
       "      <td>1769.0</td>\n",
       "      <td>1775.0</td>\n",
       "      <td>1747.0</td>\n",
       "      <td>1759.0</td>\n",
       "      <td>3329019.0</td>\n",
       "      <td>5.864873e+10</td>\n",
       "      <td>1442532.0</td>\n",
       "      <td>-0.007896</td>\n",
       "      <td>-1</td>\n",
       "      <td>NaN</td>\n",
       "    </tr>\n",
       "    <tr>\n",
       "      <th>2016-01-11</th>\n",
       "      <td>shfe.rb0000</td>\n",
       "      <td>1757.0</td>\n",
       "      <td>1772.0</td>\n",
       "      <td>1748.0</td>\n",
       "      <td>1758.0</td>\n",
       "      <td>2540697.0</td>\n",
       "      <td>4.477157e+10</td>\n",
       "      <td>1417129.0</td>\n",
       "      <td>-0.000569</td>\n",
       "      <td>-1</td>\n",
       "      <td>NaN</td>\n",
       "    </tr>\n",
       "    <tr>\n",
       "      <th>2016-01-12</th>\n",
       "      <td>shfe.rb0000</td>\n",
       "      <td>1759.0</td>\n",
       "      <td>1765.0</td>\n",
       "      <td>1739.0</td>\n",
       "      <td>1741.0</td>\n",
       "      <td>2666511.0</td>\n",
       "      <td>4.666452e+10</td>\n",
       "      <td>1462839.0</td>\n",
       "      <td>-0.009670</td>\n",
       "      <td>-1</td>\n",
       "      <td>NaN</td>\n",
       "    </tr>\n",
       "    <tr>\n",
       "      <th>2016-01-13</th>\n",
       "      <td>shfe.rb0000</td>\n",
       "      <td>1741.0</td>\n",
       "      <td>1752.0</td>\n",
       "      <td>1735.0</td>\n",
       "      <td>1740.0</td>\n",
       "      <td>1795770.0</td>\n",
       "      <td>3.130531e+10</td>\n",
       "      <td>1395778.0</td>\n",
       "      <td>-0.000574</td>\n",
       "      <td>-1</td>\n",
       "      <td>-0.002987</td>\n",
       "    </tr>\n",
       "    <tr>\n",
       "      <th>2016-01-14</th>\n",
       "      <td>shfe.rb0000</td>\n",
       "      <td>1742.0</td>\n",
       "      <td>1759.0</td>\n",
       "      <td>1732.0</td>\n",
       "      <td>1758.0</td>\n",
       "      <td>2055150.0</td>\n",
       "      <td>3.586932e+10</td>\n",
       "      <td>1425936.0</td>\n",
       "      <td>0.010345</td>\n",
       "      <td>1</td>\n",
       "      <td>-0.002474</td>\n",
       "    </tr>\n",
       "    <tr>\n",
       "      <th>2016-01-15</th>\n",
       "      <td>shfe.rb0000</td>\n",
       "      <td>1758.0</td>\n",
       "      <td>1787.0</td>\n",
       "      <td>1754.0</td>\n",
       "      <td>1778.0</td>\n",
       "      <td>3324932.0</td>\n",
       "      <td>5.899539e+10</td>\n",
       "      <td>1576338.0</td>\n",
       "      <td>0.011377</td>\n",
       "      <td>1</td>\n",
       "      <td>0.000269</td>\n",
       "    </tr>\n",
       "    <tr>\n",
       "      <th>2016-01-18</th>\n",
       "      <td>shfe.rb0000</td>\n",
       "      <td>1777.0</td>\n",
       "      <td>1832.0</td>\n",
       "      <td>1770.0</td>\n",
       "      <td>1827.0</td>\n",
       "      <td>4578121.0</td>\n",
       "      <td>8.276581e+10</td>\n",
       "      <td>1676758.0</td>\n",
       "      <td>0.027559</td>\n",
       "      <td>1</td>\n",
       "      <td>0.004367</td>\n",
       "    </tr>\n",
       "    <tr>\n",
       "      <th>2016-01-19</th>\n",
       "      <td>shfe.rb0000</td>\n",
       "      <td>1825.0</td>\n",
       "      <td>1841.0</td>\n",
       "      <td>1817.0</td>\n",
       "      <td>1839.0</td>\n",
       "      <td>3483867.0</td>\n",
       "      <td>6.366956e+10</td>\n",
       "      <td>1665866.0</td>\n",
       "      <td>0.006568</td>\n",
       "      <td>1</td>\n",
       "      <td>0.006434</td>\n",
       "    </tr>\n",
       "    <tr>\n",
       "      <th>2016-01-20</th>\n",
       "      <td>shfe.rb0000</td>\n",
       "      <td>1838.0</td>\n",
       "      <td>1842.0</td>\n",
       "      <td>1813.0</td>\n",
       "      <td>1818.0</td>\n",
       "      <td>3118863.0</td>\n",
       "      <td>5.696990e+10</td>\n",
       "      <td>1593505.0</td>\n",
       "      <td>-0.011419</td>\n",
       "      <td>-1</td>\n",
       "      <td>0.004884</td>\n",
       "    </tr>\n",
       "    <tr>\n",
       "      <th>2016-01-21</th>\n",
       "      <td>shfe.rb0000</td>\n",
       "      <td>1815.0</td>\n",
       "      <td>1824.0</td>\n",
       "      <td>1805.0</td>\n",
       "      <td>1808.0</td>\n",
       "      <td>2746604.0</td>\n",
       "      <td>4.981515e+10</td>\n",
       "      <td>1624196.0</td>\n",
       "      <td>-0.005501</td>\n",
       "      <td>-1</td>\n",
       "      <td>0.005479</td>\n",
       "    </tr>\n",
       "  </tbody>\n",
       "</table>\n",
       "</div>"
      ],
      "text/plain": [
       "                   code    open    high     low   close     volume  \\\n",
       "time                                                                 \n",
       "2016-01-04  shfe.rb0000  1821.0  1846.0  1773.0  1777.0  3350468.0   \n",
       "2016-01-05  shfe.rb0000  1779.0  1789.0  1761.0  1789.0  3206574.0   \n",
       "2016-01-06  shfe.rb0000  1787.0  1790.0  1769.0  1775.0  2301831.0   \n",
       "2016-01-07  shfe.rb0000  1770.0  1786.0  1766.0  1773.0  2326314.0   \n",
       "2016-01-08  shfe.rb0000  1769.0  1775.0  1747.0  1759.0  3329019.0   \n",
       "2016-01-11  shfe.rb0000  1757.0  1772.0  1748.0  1758.0  2540697.0   \n",
       "2016-01-12  shfe.rb0000  1759.0  1765.0  1739.0  1741.0  2666511.0   \n",
       "2016-01-13  shfe.rb0000  1741.0  1752.0  1735.0  1740.0  1795770.0   \n",
       "2016-01-14  shfe.rb0000  1742.0  1759.0  1732.0  1758.0  2055150.0   \n",
       "2016-01-15  shfe.rb0000  1758.0  1787.0  1754.0  1778.0  3324932.0   \n",
       "2016-01-18  shfe.rb0000  1777.0  1832.0  1770.0  1827.0  4578121.0   \n",
       "2016-01-19  shfe.rb0000  1825.0  1841.0  1817.0  1839.0  3483867.0   \n",
       "2016-01-20  shfe.rb0000  1838.0  1842.0  1813.0  1818.0  3118863.0   \n",
       "2016-01-21  shfe.rb0000  1815.0  1824.0  1805.0  1808.0  2746604.0   \n",
       "\n",
       "                  amount  open_interest       ret  y        mf  \n",
       "time                                                            \n",
       "2016-01-04  6.022048e+10      1531067.0       NaN -1       NaN  \n",
       "2016-01-05  5.702488e+10      1585941.0  0.006753  1       NaN  \n",
       "2016-01-06  4.090336e+10      1550881.0 -0.007826 -1       NaN  \n",
       "2016-01-07  4.132192e+10      1536994.0 -0.001127 -1       NaN  \n",
       "2016-01-08  5.864873e+10      1442532.0 -0.007896 -1       NaN  \n",
       "2016-01-11  4.477157e+10      1417129.0 -0.000569 -1       NaN  \n",
       "2016-01-12  4.666452e+10      1462839.0 -0.009670 -1       NaN  \n",
       "2016-01-13  3.130531e+10      1395778.0 -0.000574 -1 -0.002987  \n",
       "2016-01-14  3.586932e+10      1425936.0  0.010345  1 -0.002474  \n",
       "2016-01-15  5.899539e+10      1576338.0  0.011377  1  0.000269  \n",
       "2016-01-18  8.276581e+10      1676758.0  0.027559  1  0.004367  \n",
       "2016-01-19  6.366956e+10      1665866.0  0.006568  1  0.006434  \n",
       "2016-01-20  5.696990e+10      1593505.0 -0.011419 -1  0.004884  \n",
       "2016-01-21  4.981515e+10      1624196.0 -0.005501 -1  0.005479  "
      ]
     },
     "execution_count": 155,
     "metadata": {},
     "output_type": "execute_result"
    }
   ],
   "source": [
    "rbd['mf'] = talib.SMA(rbd['ret'],timeperiod=7)\n",
    "rbd.head(14)"
   ]
  },
  {
   "cell_type": "markdown",
   "metadata": {
    "slideshow": {
     "slide_type": "slide"
    }
   },
   "source": [
    "#### 波动率因子"
   ]
  },
  {
   "cell_type": "markdown",
   "metadata": {
    "slideshow": {
     "slide_type": "fragment"
    }
   },
   "source": [
    "- 因子构成：变异系数\n",
    "\\begin{align}\n",
    "  &\\frac{\\sigma^2}{|\\mu|}\\\\\n",
    "  &\\sigma^2=\\frac{1}{D-1}\\sum_{d=1}^D(r_{d,Front}-\\mu)^2\\\\\n",
    "  &\\mu = \\frac{1}{D}\\sum_{d=1}^Dr_{d,Front}\n",
    "\\end{align}"
   ]
  },
  {
   "cell_type": "code",
   "execution_count": 156,
   "metadata": {
    "slideshow": {
     "slide_type": "fragment"
    }
   },
   "outputs": [
    {
     "data": {
      "text/html": [
       "<div>\n",
       "<style scoped>\n",
       "    .dataframe tbody tr th:only-of-type {\n",
       "        vertical-align: middle;\n",
       "    }\n",
       "\n",
       "    .dataframe tbody tr th {\n",
       "        vertical-align: top;\n",
       "    }\n",
       "\n",
       "    .dataframe thead th {\n",
       "        text-align: right;\n",
       "    }\n",
       "</style>\n",
       "<table border=\"1\" class=\"dataframe\">\n",
       "  <thead>\n",
       "    <tr style=\"text-align: right;\">\n",
       "      <th></th>\n",
       "      <th>code</th>\n",
       "      <th>open</th>\n",
       "      <th>high</th>\n",
       "      <th>low</th>\n",
       "      <th>close</th>\n",
       "      <th>volume</th>\n",
       "      <th>amount</th>\n",
       "      <th>open_interest</th>\n",
       "      <th>ret</th>\n",
       "      <th>y</th>\n",
       "      <th>mf</th>\n",
       "      <th>vola</th>\n",
       "    </tr>\n",
       "    <tr>\n",
       "      <th>time</th>\n",
       "      <th></th>\n",
       "      <th></th>\n",
       "      <th></th>\n",
       "      <th></th>\n",
       "      <th></th>\n",
       "      <th></th>\n",
       "      <th></th>\n",
       "      <th></th>\n",
       "      <th></th>\n",
       "      <th></th>\n",
       "      <th></th>\n",
       "      <th></th>\n",
       "    </tr>\n",
       "  </thead>\n",
       "  <tbody>\n",
       "    <tr>\n",
       "      <th>2016-01-04</th>\n",
       "      <td>shfe.rb0000</td>\n",
       "      <td>1821.0</td>\n",
       "      <td>1846.0</td>\n",
       "      <td>1773.0</td>\n",
       "      <td>1777.0</td>\n",
       "      <td>3350468.0</td>\n",
       "      <td>6.022048e+10</td>\n",
       "      <td>1531067.0</td>\n",
       "      <td>NaN</td>\n",
       "      <td>-1</td>\n",
       "      <td>NaN</td>\n",
       "      <td>NaN</td>\n",
       "    </tr>\n",
       "    <tr>\n",
       "      <th>2016-01-05</th>\n",
       "      <td>shfe.rb0000</td>\n",
       "      <td>1779.0</td>\n",
       "      <td>1789.0</td>\n",
       "      <td>1761.0</td>\n",
       "      <td>1789.0</td>\n",
       "      <td>3206574.0</td>\n",
       "      <td>5.702488e+10</td>\n",
       "      <td>1585941.0</td>\n",
       "      <td>0.006753</td>\n",
       "      <td>1</td>\n",
       "      <td>NaN</td>\n",
       "      <td>NaN</td>\n",
       "    </tr>\n",
       "    <tr>\n",
       "      <th>2016-01-06</th>\n",
       "      <td>shfe.rb0000</td>\n",
       "      <td>1787.0</td>\n",
       "      <td>1790.0</td>\n",
       "      <td>1769.0</td>\n",
       "      <td>1775.0</td>\n",
       "      <td>2301831.0</td>\n",
       "      <td>4.090336e+10</td>\n",
       "      <td>1550881.0</td>\n",
       "      <td>-0.007826</td>\n",
       "      <td>-1</td>\n",
       "      <td>NaN</td>\n",
       "      <td>NaN</td>\n",
       "    </tr>\n",
       "    <tr>\n",
       "      <th>2016-01-07</th>\n",
       "      <td>shfe.rb0000</td>\n",
       "      <td>1770.0</td>\n",
       "      <td>1786.0</td>\n",
       "      <td>1766.0</td>\n",
       "      <td>1773.0</td>\n",
       "      <td>2326314.0</td>\n",
       "      <td>4.132192e+10</td>\n",
       "      <td>1536994.0</td>\n",
       "      <td>-0.001127</td>\n",
       "      <td>-1</td>\n",
       "      <td>NaN</td>\n",
       "      <td>NaN</td>\n",
       "    </tr>\n",
       "    <tr>\n",
       "      <th>2016-01-08</th>\n",
       "      <td>shfe.rb0000</td>\n",
       "      <td>1769.0</td>\n",
       "      <td>1775.0</td>\n",
       "      <td>1747.0</td>\n",
       "      <td>1759.0</td>\n",
       "      <td>3329019.0</td>\n",
       "      <td>5.864873e+10</td>\n",
       "      <td>1442532.0</td>\n",
       "      <td>-0.007896</td>\n",
       "      <td>-1</td>\n",
       "      <td>NaN</td>\n",
       "      <td>NaN</td>\n",
       "    </tr>\n",
       "    <tr>\n",
       "      <th>2016-01-11</th>\n",
       "      <td>shfe.rb0000</td>\n",
       "      <td>1757.0</td>\n",
       "      <td>1772.0</td>\n",
       "      <td>1748.0</td>\n",
       "      <td>1758.0</td>\n",
       "      <td>2540697.0</td>\n",
       "      <td>4.477157e+10</td>\n",
       "      <td>1417129.0</td>\n",
       "      <td>-0.000569</td>\n",
       "      <td>-1</td>\n",
       "      <td>NaN</td>\n",
       "      <td>NaN</td>\n",
       "    </tr>\n",
       "    <tr>\n",
       "      <th>2016-01-12</th>\n",
       "      <td>shfe.rb0000</td>\n",
       "      <td>1759.0</td>\n",
       "      <td>1765.0</td>\n",
       "      <td>1739.0</td>\n",
       "      <td>1741.0</td>\n",
       "      <td>2666511.0</td>\n",
       "      <td>4.666452e+10</td>\n",
       "      <td>1462839.0</td>\n",
       "      <td>-0.009670</td>\n",
       "      <td>-1</td>\n",
       "      <td>NaN</td>\n",
       "      <td>NaN</td>\n",
       "    </tr>\n",
       "    <tr>\n",
       "      <th>2016-01-13</th>\n",
       "      <td>shfe.rb0000</td>\n",
       "      <td>1741.0</td>\n",
       "      <td>1752.0</td>\n",
       "      <td>1735.0</td>\n",
       "      <td>1740.0</td>\n",
       "      <td>1795770.0</td>\n",
       "      <td>3.130531e+10</td>\n",
       "      <td>1395778.0</td>\n",
       "      <td>-0.000574</td>\n",
       "      <td>-1</td>\n",
       "      <td>-0.002987</td>\n",
       "      <td>0.009669</td>\n",
       "    </tr>\n",
       "    <tr>\n",
       "      <th>2016-01-14</th>\n",
       "      <td>shfe.rb0000</td>\n",
       "      <td>1742.0</td>\n",
       "      <td>1759.0</td>\n",
       "      <td>1732.0</td>\n",
       "      <td>1758.0</td>\n",
       "      <td>2055150.0</td>\n",
       "      <td>3.586932e+10</td>\n",
       "      <td>1425936.0</td>\n",
       "      <td>0.010345</td>\n",
       "      <td>1</td>\n",
       "      <td>-0.002474</td>\n",
       "      <td>0.016354</td>\n",
       "    </tr>\n",
       "    <tr>\n",
       "      <th>2016-01-15</th>\n",
       "      <td>shfe.rb0000</td>\n",
       "      <td>1758.0</td>\n",
       "      <td>1787.0</td>\n",
       "      <td>1754.0</td>\n",
       "      <td>1778.0</td>\n",
       "      <td>3324932.0</td>\n",
       "      <td>5.899539e+10</td>\n",
       "      <td>1576338.0</td>\n",
       "      <td>0.011377</td>\n",
       "      <td>1</td>\n",
       "      <td>0.000269</td>\n",
       "      <td>0.208819</td>\n",
       "    </tr>\n",
       "    <tr>\n",
       "      <th>2016-01-18</th>\n",
       "      <td>shfe.rb0000</td>\n",
       "      <td>1777.0</td>\n",
       "      <td>1832.0</td>\n",
       "      <td>1770.0</td>\n",
       "      <td>1827.0</td>\n",
       "      <td>4578121.0</td>\n",
       "      <td>8.276581e+10</td>\n",
       "      <td>1676758.0</td>\n",
       "      <td>0.027559</td>\n",
       "      <td>1</td>\n",
       "      <td>0.004367</td>\n",
       "      <td>0.033330</td>\n",
       "    </tr>\n",
       "    <tr>\n",
       "      <th>2016-01-19</th>\n",
       "      <td>shfe.rb0000</td>\n",
       "      <td>1825.0</td>\n",
       "      <td>1841.0</td>\n",
       "      <td>1817.0</td>\n",
       "      <td>1839.0</td>\n",
       "      <td>3483867.0</td>\n",
       "      <td>6.366956e+10</td>\n",
       "      <td>1665866.0</td>\n",
       "      <td>0.006568</td>\n",
       "      <td>1</td>\n",
       "      <td>0.006434</td>\n",
       "      <td>0.018730</td>\n",
       "    </tr>\n",
       "    <tr>\n",
       "      <th>2016-01-20</th>\n",
       "      <td>shfe.rb0000</td>\n",
       "      <td>1838.0</td>\n",
       "      <td>1842.0</td>\n",
       "      <td>1813.0</td>\n",
       "      <td>1818.0</td>\n",
       "      <td>3118863.0</td>\n",
       "      <td>5.696990e+10</td>\n",
       "      <td>1593505.0</td>\n",
       "      <td>-0.011419</td>\n",
       "      <td>-1</td>\n",
       "      <td>0.004884</td>\n",
       "      <td>0.032072</td>\n",
       "    </tr>\n",
       "    <tr>\n",
       "      <th>2016-01-21</th>\n",
       "      <td>shfe.rb0000</td>\n",
       "      <td>1815.0</td>\n",
       "      <td>1824.0</td>\n",
       "      <td>1805.0</td>\n",
       "      <td>1808.0</td>\n",
       "      <td>2746604.0</td>\n",
       "      <td>4.981515e+10</td>\n",
       "      <td>1624196.0</td>\n",
       "      <td>-0.005501</td>\n",
       "      <td>-1</td>\n",
       "      <td>0.005479</td>\n",
       "      <td>0.025810</td>\n",
       "    </tr>\n",
       "  </tbody>\n",
       "</table>\n",
       "</div>"
      ],
      "text/plain": [
       "                   code    open    high     low   close     volume  \\\n",
       "time                                                                 \n",
       "2016-01-04  shfe.rb0000  1821.0  1846.0  1773.0  1777.0  3350468.0   \n",
       "2016-01-05  shfe.rb0000  1779.0  1789.0  1761.0  1789.0  3206574.0   \n",
       "2016-01-06  shfe.rb0000  1787.0  1790.0  1769.0  1775.0  2301831.0   \n",
       "2016-01-07  shfe.rb0000  1770.0  1786.0  1766.0  1773.0  2326314.0   \n",
       "2016-01-08  shfe.rb0000  1769.0  1775.0  1747.0  1759.0  3329019.0   \n",
       "2016-01-11  shfe.rb0000  1757.0  1772.0  1748.0  1758.0  2540697.0   \n",
       "2016-01-12  shfe.rb0000  1759.0  1765.0  1739.0  1741.0  2666511.0   \n",
       "2016-01-13  shfe.rb0000  1741.0  1752.0  1735.0  1740.0  1795770.0   \n",
       "2016-01-14  shfe.rb0000  1742.0  1759.0  1732.0  1758.0  2055150.0   \n",
       "2016-01-15  shfe.rb0000  1758.0  1787.0  1754.0  1778.0  3324932.0   \n",
       "2016-01-18  shfe.rb0000  1777.0  1832.0  1770.0  1827.0  4578121.0   \n",
       "2016-01-19  shfe.rb0000  1825.0  1841.0  1817.0  1839.0  3483867.0   \n",
       "2016-01-20  shfe.rb0000  1838.0  1842.0  1813.0  1818.0  3118863.0   \n",
       "2016-01-21  shfe.rb0000  1815.0  1824.0  1805.0  1808.0  2746604.0   \n",
       "\n",
       "                  amount  open_interest       ret  y        mf      vola  \n",
       "time                                                                      \n",
       "2016-01-04  6.022048e+10      1531067.0       NaN -1       NaN       NaN  \n",
       "2016-01-05  5.702488e+10      1585941.0  0.006753  1       NaN       NaN  \n",
       "2016-01-06  4.090336e+10      1550881.0 -0.007826 -1       NaN       NaN  \n",
       "2016-01-07  4.132192e+10      1536994.0 -0.001127 -1       NaN       NaN  \n",
       "2016-01-08  5.864873e+10      1442532.0 -0.007896 -1       NaN       NaN  \n",
       "2016-01-11  4.477157e+10      1417129.0 -0.000569 -1       NaN       NaN  \n",
       "2016-01-12  4.666452e+10      1462839.0 -0.009670 -1       NaN       NaN  \n",
       "2016-01-13  3.130531e+10      1395778.0 -0.000574 -1 -0.002987  0.009669  \n",
       "2016-01-14  3.586932e+10      1425936.0  0.010345  1 -0.002474  0.016354  \n",
       "2016-01-15  5.899539e+10      1576338.0  0.011377  1  0.000269  0.208819  \n",
       "2016-01-18  8.276581e+10      1676758.0  0.027559  1  0.004367  0.033330  \n",
       "2016-01-19  6.366956e+10      1665866.0  0.006568  1  0.006434  0.018730  \n",
       "2016-01-20  5.696990e+10      1593505.0 -0.011419 -1  0.004884  0.032072  \n",
       "2016-01-21  4.981515e+10      1624196.0 -0.005501 -1  0.005479  0.025810  "
      ]
     },
     "execution_count": 156,
     "metadata": {},
     "output_type": "execute_result"
    }
   ],
   "source": [
    "retMu7 = talib.SMA(rbd['ret'],timeperiod=7)\n",
    "retVar7 = talib.VAR(rbd['ret'],timeperiod=7)\n",
    "rbd['vola'] = retVar7/np.abs(retMu7)\n",
    "rbd.head(14)"
   ]
  },
  {
   "cell_type": "markdown",
   "metadata": {
    "slideshow": {
     "slide_type": "slide"
    }
   },
   "source": [
    "#### 价值因子"
   ]
  },
  {
   "cell_type": "markdown",
   "metadata": {
    "slideshow": {
     "slide_type": "fragment"
    }
   },
   "source": [
    "- 因子构成\n",
    "\n",
    "\\begin{equation}\n",
    "  \\ln\\frac{\\frac{1}{D}\\sum_{d=1}^D f_{d,Front}}{f_{t,Front}}\n",
    "\\end{equation}"
   ]
  },
  {
   "cell_type": "code",
   "execution_count": 157,
   "metadata": {
    "slideshow": {
     "slide_type": "fragment"
    }
   },
   "outputs": [
    {
     "data": {
      "text/html": [
       "<div>\n",
       "<style scoped>\n",
       "    .dataframe tbody tr th:only-of-type {\n",
       "        vertical-align: middle;\n",
       "    }\n",
       "\n",
       "    .dataframe tbody tr th {\n",
       "        vertical-align: top;\n",
       "    }\n",
       "\n",
       "    .dataframe thead th {\n",
       "        text-align: right;\n",
       "    }\n",
       "</style>\n",
       "<table border=\"1\" class=\"dataframe\">\n",
       "  <thead>\n",
       "    <tr style=\"text-align: right;\">\n",
       "      <th></th>\n",
       "      <th>code</th>\n",
       "      <th>open</th>\n",
       "      <th>high</th>\n",
       "      <th>low</th>\n",
       "      <th>close</th>\n",
       "      <th>volume</th>\n",
       "      <th>amount</th>\n",
       "      <th>open_interest</th>\n",
       "      <th>ret</th>\n",
       "      <th>y</th>\n",
       "      <th>mf</th>\n",
       "      <th>vola</th>\n",
       "      <th>val</th>\n",
       "    </tr>\n",
       "    <tr>\n",
       "      <th>time</th>\n",
       "      <th></th>\n",
       "      <th></th>\n",
       "      <th></th>\n",
       "      <th></th>\n",
       "      <th></th>\n",
       "      <th></th>\n",
       "      <th></th>\n",
       "      <th></th>\n",
       "      <th></th>\n",
       "      <th></th>\n",
       "      <th></th>\n",
       "      <th></th>\n",
       "      <th></th>\n",
       "    </tr>\n",
       "  </thead>\n",
       "  <tbody>\n",
       "    <tr>\n",
       "      <th>2016-01-04</th>\n",
       "      <td>shfe.rb0000</td>\n",
       "      <td>1821.0</td>\n",
       "      <td>1846.0</td>\n",
       "      <td>1773.0</td>\n",
       "      <td>1777.0</td>\n",
       "      <td>3350468.0</td>\n",
       "      <td>6.022048e+10</td>\n",
       "      <td>1531067.0</td>\n",
       "      <td>NaN</td>\n",
       "      <td>-1</td>\n",
       "      <td>NaN</td>\n",
       "      <td>NaN</td>\n",
       "      <td>NaN</td>\n",
       "    </tr>\n",
       "    <tr>\n",
       "      <th>2016-01-05</th>\n",
       "      <td>shfe.rb0000</td>\n",
       "      <td>1779.0</td>\n",
       "      <td>1789.0</td>\n",
       "      <td>1761.0</td>\n",
       "      <td>1789.0</td>\n",
       "      <td>3206574.0</td>\n",
       "      <td>5.702488e+10</td>\n",
       "      <td>1585941.0</td>\n",
       "      <td>0.006753</td>\n",
       "      <td>1</td>\n",
       "      <td>NaN</td>\n",
       "      <td>NaN</td>\n",
       "      <td>NaN</td>\n",
       "    </tr>\n",
       "    <tr>\n",
       "      <th>2016-01-06</th>\n",
       "      <td>shfe.rb0000</td>\n",
       "      <td>1787.0</td>\n",
       "      <td>1790.0</td>\n",
       "      <td>1769.0</td>\n",
       "      <td>1775.0</td>\n",
       "      <td>2301831.0</td>\n",
       "      <td>4.090336e+10</td>\n",
       "      <td>1550881.0</td>\n",
       "      <td>-0.007826</td>\n",
       "      <td>-1</td>\n",
       "      <td>NaN</td>\n",
       "      <td>NaN</td>\n",
       "      <td>NaN</td>\n",
       "    </tr>\n",
       "    <tr>\n",
       "      <th>2016-01-07</th>\n",
       "      <td>shfe.rb0000</td>\n",
       "      <td>1770.0</td>\n",
       "      <td>1786.0</td>\n",
       "      <td>1766.0</td>\n",
       "      <td>1773.0</td>\n",
       "      <td>2326314.0</td>\n",
       "      <td>4.132192e+10</td>\n",
       "      <td>1536994.0</td>\n",
       "      <td>-0.001127</td>\n",
       "      <td>-1</td>\n",
       "      <td>NaN</td>\n",
       "      <td>NaN</td>\n",
       "      <td>NaN</td>\n",
       "    </tr>\n",
       "    <tr>\n",
       "      <th>2016-01-08</th>\n",
       "      <td>shfe.rb0000</td>\n",
       "      <td>1769.0</td>\n",
       "      <td>1775.0</td>\n",
       "      <td>1747.0</td>\n",
       "      <td>1759.0</td>\n",
       "      <td>3329019.0</td>\n",
       "      <td>5.864873e+10</td>\n",
       "      <td>1442532.0</td>\n",
       "      <td>-0.007896</td>\n",
       "      <td>-1</td>\n",
       "      <td>NaN</td>\n",
       "      <td>NaN</td>\n",
       "      <td>NaN</td>\n",
       "    </tr>\n",
       "    <tr>\n",
       "      <th>2016-01-11</th>\n",
       "      <td>shfe.rb0000</td>\n",
       "      <td>1757.0</td>\n",
       "      <td>1772.0</td>\n",
       "      <td>1748.0</td>\n",
       "      <td>1758.0</td>\n",
       "      <td>2540697.0</td>\n",
       "      <td>4.477157e+10</td>\n",
       "      <td>1417129.0</td>\n",
       "      <td>-0.000569</td>\n",
       "      <td>-1</td>\n",
       "      <td>NaN</td>\n",
       "      <td>NaN</td>\n",
       "      <td>NaN</td>\n",
       "    </tr>\n",
       "    <tr>\n",
       "      <th>2016-01-12</th>\n",
       "      <td>shfe.rb0000</td>\n",
       "      <td>1759.0</td>\n",
       "      <td>1765.0</td>\n",
       "      <td>1739.0</td>\n",
       "      <td>1741.0</td>\n",
       "      <td>2666511.0</td>\n",
       "      <td>4.666452e+10</td>\n",
       "      <td>1462839.0</td>\n",
       "      <td>-0.009670</td>\n",
       "      <td>-1</td>\n",
       "      <td>NaN</td>\n",
       "      <td>NaN</td>\n",
       "      <td>0.015066</td>\n",
       "    </tr>\n",
       "    <tr>\n",
       "      <th>2016-01-13</th>\n",
       "      <td>shfe.rb0000</td>\n",
       "      <td>1741.0</td>\n",
       "      <td>1752.0</td>\n",
       "      <td>1735.0</td>\n",
       "      <td>1740.0</td>\n",
       "      <td>1795770.0</td>\n",
       "      <td>3.130531e+10</td>\n",
       "      <td>1395778.0</td>\n",
       "      <td>-0.000574</td>\n",
       "      <td>-1</td>\n",
       "      <td>-0.002987</td>\n",
       "      <td>0.009669</td>\n",
       "      <td>0.012645</td>\n",
       "    </tr>\n",
       "    <tr>\n",
       "      <th>2016-01-14</th>\n",
       "      <td>shfe.rb0000</td>\n",
       "      <td>1742.0</td>\n",
       "      <td>1759.0</td>\n",
       "      <td>1732.0</td>\n",
       "      <td>1758.0</td>\n",
       "      <td>2055150.0</td>\n",
       "      <td>3.586932e+10</td>\n",
       "      <td>1425936.0</td>\n",
       "      <td>0.010345</td>\n",
       "      <td>1</td>\n",
       "      <td>-0.002474</td>\n",
       "      <td>0.016354</td>\n",
       "      <td>-0.000163</td>\n",
       "    </tr>\n",
       "    <tr>\n",
       "      <th>2016-01-15</th>\n",
       "      <td>shfe.rb0000</td>\n",
       "      <td>1758.0</td>\n",
       "      <td>1787.0</td>\n",
       "      <td>1754.0</td>\n",
       "      <td>1778.0</td>\n",
       "      <td>3324932.0</td>\n",
       "      <td>5.899539e+10</td>\n",
       "      <td>1576338.0</td>\n",
       "      <td>0.011377</td>\n",
       "      <td>1</td>\n",
       "      <td>0.000269</td>\n",
       "      <td>0.208819</td>\n",
       "      <td>-0.011231</td>\n",
       "    </tr>\n",
       "    <tr>\n",
       "      <th>2016-01-18</th>\n",
       "      <td>shfe.rb0000</td>\n",
       "      <td>1777.0</td>\n",
       "      <td>1832.0</td>\n",
       "      <td>1770.0</td>\n",
       "      <td>1827.0</td>\n",
       "      <td>4578121.0</td>\n",
       "      <td>8.276581e+10</td>\n",
       "      <td>1676758.0</td>\n",
       "      <td>0.027559</td>\n",
       "      <td>1</td>\n",
       "      <td>0.004367</td>\n",
       "      <td>0.033330</td>\n",
       "      <td>-0.034039</td>\n",
       "    </tr>\n",
       "    <tr>\n",
       "      <th>2016-01-19</th>\n",
       "      <td>shfe.rb0000</td>\n",
       "      <td>1825.0</td>\n",
       "      <td>1841.0</td>\n",
       "      <td>1817.0</td>\n",
       "      <td>1839.0</td>\n",
       "      <td>3483867.0</td>\n",
       "      <td>6.366956e+10</td>\n",
       "      <td>1665866.0</td>\n",
       "      <td>0.006568</td>\n",
       "      <td>1</td>\n",
       "      <td>0.006434</td>\n",
       "      <td>0.018730</td>\n",
       "      <td>-0.034135</td>\n",
       "    </tr>\n",
       "    <tr>\n",
       "      <th>2016-01-20</th>\n",
       "      <td>shfe.rb0000</td>\n",
       "      <td>1838.0</td>\n",
       "      <td>1842.0</td>\n",
       "      <td>1813.0</td>\n",
       "      <td>1818.0</td>\n",
       "      <td>3118863.0</td>\n",
       "      <td>5.696990e+10</td>\n",
       "      <td>1593505.0</td>\n",
       "      <td>-0.011419</td>\n",
       "      <td>-1</td>\n",
       "      <td>0.004884</td>\n",
       "      <td>0.032072</td>\n",
       "      <td>-0.017839</td>\n",
       "    </tr>\n",
       "    <tr>\n",
       "      <th>2016-01-21</th>\n",
       "      <td>shfe.rb0000</td>\n",
       "      <td>1815.0</td>\n",
       "      <td>1824.0</td>\n",
       "      <td>1805.0</td>\n",
       "      <td>1808.0</td>\n",
       "      <td>2746604.0</td>\n",
       "      <td>4.981515e+10</td>\n",
       "      <td>1624196.0</td>\n",
       "      <td>-0.005501</td>\n",
       "      <td>-1</td>\n",
       "      <td>0.005479</td>\n",
       "      <td>0.025810</td>\n",
       "      <td>-0.006978</td>\n",
       "    </tr>\n",
       "  </tbody>\n",
       "</table>\n",
       "</div>"
      ],
      "text/plain": [
       "                   code    open    high     low   close     volume  \\\n",
       "time                                                                 \n",
       "2016-01-04  shfe.rb0000  1821.0  1846.0  1773.0  1777.0  3350468.0   \n",
       "2016-01-05  shfe.rb0000  1779.0  1789.0  1761.0  1789.0  3206574.0   \n",
       "2016-01-06  shfe.rb0000  1787.0  1790.0  1769.0  1775.0  2301831.0   \n",
       "2016-01-07  shfe.rb0000  1770.0  1786.0  1766.0  1773.0  2326314.0   \n",
       "2016-01-08  shfe.rb0000  1769.0  1775.0  1747.0  1759.0  3329019.0   \n",
       "2016-01-11  shfe.rb0000  1757.0  1772.0  1748.0  1758.0  2540697.0   \n",
       "2016-01-12  shfe.rb0000  1759.0  1765.0  1739.0  1741.0  2666511.0   \n",
       "2016-01-13  shfe.rb0000  1741.0  1752.0  1735.0  1740.0  1795770.0   \n",
       "2016-01-14  shfe.rb0000  1742.0  1759.0  1732.0  1758.0  2055150.0   \n",
       "2016-01-15  shfe.rb0000  1758.0  1787.0  1754.0  1778.0  3324932.0   \n",
       "2016-01-18  shfe.rb0000  1777.0  1832.0  1770.0  1827.0  4578121.0   \n",
       "2016-01-19  shfe.rb0000  1825.0  1841.0  1817.0  1839.0  3483867.0   \n",
       "2016-01-20  shfe.rb0000  1838.0  1842.0  1813.0  1818.0  3118863.0   \n",
       "2016-01-21  shfe.rb0000  1815.0  1824.0  1805.0  1808.0  2746604.0   \n",
       "\n",
       "                  amount  open_interest       ret  y        mf      vola  \\\n",
       "time                                                                       \n",
       "2016-01-04  6.022048e+10      1531067.0       NaN -1       NaN       NaN   \n",
       "2016-01-05  5.702488e+10      1585941.0  0.006753  1       NaN       NaN   \n",
       "2016-01-06  4.090336e+10      1550881.0 -0.007826 -1       NaN       NaN   \n",
       "2016-01-07  4.132192e+10      1536994.0 -0.001127 -1       NaN       NaN   \n",
       "2016-01-08  5.864873e+10      1442532.0 -0.007896 -1       NaN       NaN   \n",
       "2016-01-11  4.477157e+10      1417129.0 -0.000569 -1       NaN       NaN   \n",
       "2016-01-12  4.666452e+10      1462839.0 -0.009670 -1       NaN       NaN   \n",
       "2016-01-13  3.130531e+10      1395778.0 -0.000574 -1 -0.002987  0.009669   \n",
       "2016-01-14  3.586932e+10      1425936.0  0.010345  1 -0.002474  0.016354   \n",
       "2016-01-15  5.899539e+10      1576338.0  0.011377  1  0.000269  0.208819   \n",
       "2016-01-18  8.276581e+10      1676758.0  0.027559  1  0.004367  0.033330   \n",
       "2016-01-19  6.366956e+10      1665866.0  0.006568  1  0.006434  0.018730   \n",
       "2016-01-20  5.696990e+10      1593505.0 -0.011419 -1  0.004884  0.032072   \n",
       "2016-01-21  4.981515e+10      1624196.0 -0.005501 -1  0.005479  0.025810   \n",
       "\n",
       "                 val  \n",
       "time                  \n",
       "2016-01-04       NaN  \n",
       "2016-01-05       NaN  \n",
       "2016-01-06       NaN  \n",
       "2016-01-07       NaN  \n",
       "2016-01-08       NaN  \n",
       "2016-01-11       NaN  \n",
       "2016-01-12  0.015066  \n",
       "2016-01-13  0.012645  \n",
       "2016-01-14 -0.000163  \n",
       "2016-01-15 -0.011231  \n",
       "2016-01-18 -0.034039  \n",
       "2016-01-19 -0.034135  \n",
       "2016-01-20 -0.017839  \n",
       "2016-01-21 -0.006978  "
      ]
     },
     "execution_count": 157,
     "metadata": {},
     "output_type": "execute_result"
    }
   ],
   "source": [
    "closeMu7 = talib.SMA(rbd['close'],timeperiod=7)\n",
    "rbd['val'] = np.log(closeMu7/rbd['close'])\n",
    "rbd.head(14)"
   ]
  },
  {
   "cell_type": "markdown",
   "metadata": {
    "slideshow": {
     "slide_type": "slide"
    }
   },
   "source": [
    "#### 删除含有缺失值的行"
   ]
  },
  {
   "cell_type": "code",
   "execution_count": 158,
   "metadata": {
    "slideshow": {
     "slide_type": "slide"
    }
   },
   "outputs": [
    {
     "data": {
      "text/html": [
       "<div>\n",
       "<style scoped>\n",
       "    .dataframe tbody tr th:only-of-type {\n",
       "        vertical-align: middle;\n",
       "    }\n",
       "\n",
       "    .dataframe tbody tr th {\n",
       "        vertical-align: top;\n",
       "    }\n",
       "\n",
       "    .dataframe thead th {\n",
       "        text-align: right;\n",
       "    }\n",
       "</style>\n",
       "<table border=\"1\" class=\"dataframe\">\n",
       "  <thead>\n",
       "    <tr style=\"text-align: right;\">\n",
       "      <th></th>\n",
       "      <th>code</th>\n",
       "      <th>open</th>\n",
       "      <th>high</th>\n",
       "      <th>low</th>\n",
       "      <th>close</th>\n",
       "      <th>volume</th>\n",
       "      <th>amount</th>\n",
       "      <th>open_interest</th>\n",
       "      <th>ret</th>\n",
       "      <th>y</th>\n",
       "      <th>mf</th>\n",
       "      <th>vola</th>\n",
       "      <th>val</th>\n",
       "    </tr>\n",
       "    <tr>\n",
       "      <th>time</th>\n",
       "      <th></th>\n",
       "      <th></th>\n",
       "      <th></th>\n",
       "      <th></th>\n",
       "      <th></th>\n",
       "      <th></th>\n",
       "      <th></th>\n",
       "      <th></th>\n",
       "      <th></th>\n",
       "      <th></th>\n",
       "      <th></th>\n",
       "      <th></th>\n",
       "      <th></th>\n",
       "    </tr>\n",
       "  </thead>\n",
       "  <tbody>\n",
       "    <tr>\n",
       "      <th>2016-01-13</th>\n",
       "      <td>shfe.rb0000</td>\n",
       "      <td>1741.0</td>\n",
       "      <td>1752.0</td>\n",
       "      <td>1735.0</td>\n",
       "      <td>1740.0</td>\n",
       "      <td>1795770.0</td>\n",
       "      <td>3.130531e+10</td>\n",
       "      <td>1395778.0</td>\n",
       "      <td>-0.000574</td>\n",
       "      <td>-1</td>\n",
       "      <td>-0.002987</td>\n",
       "      <td>0.009669</td>\n",
       "      <td>0.012645</td>\n",
       "    </tr>\n",
       "    <tr>\n",
       "      <th>2016-01-14</th>\n",
       "      <td>shfe.rb0000</td>\n",
       "      <td>1742.0</td>\n",
       "      <td>1759.0</td>\n",
       "      <td>1732.0</td>\n",
       "      <td>1758.0</td>\n",
       "      <td>2055150.0</td>\n",
       "      <td>3.586932e+10</td>\n",
       "      <td>1425936.0</td>\n",
       "      <td>0.010345</td>\n",
       "      <td>1</td>\n",
       "      <td>-0.002474</td>\n",
       "      <td>0.016354</td>\n",
       "      <td>-0.000163</td>\n",
       "    </tr>\n",
       "    <tr>\n",
       "      <th>2016-01-15</th>\n",
       "      <td>shfe.rb0000</td>\n",
       "      <td>1758.0</td>\n",
       "      <td>1787.0</td>\n",
       "      <td>1754.0</td>\n",
       "      <td>1778.0</td>\n",
       "      <td>3324932.0</td>\n",
       "      <td>5.899539e+10</td>\n",
       "      <td>1576338.0</td>\n",
       "      <td>0.011377</td>\n",
       "      <td>1</td>\n",
       "      <td>0.000269</td>\n",
       "      <td>0.208819</td>\n",
       "      <td>-0.011231</td>\n",
       "    </tr>\n",
       "    <tr>\n",
       "      <th>2016-01-18</th>\n",
       "      <td>shfe.rb0000</td>\n",
       "      <td>1777.0</td>\n",
       "      <td>1832.0</td>\n",
       "      <td>1770.0</td>\n",
       "      <td>1827.0</td>\n",
       "      <td>4578121.0</td>\n",
       "      <td>8.276581e+10</td>\n",
       "      <td>1676758.0</td>\n",
       "      <td>0.027559</td>\n",
       "      <td>1</td>\n",
       "      <td>0.004367</td>\n",
       "      <td>0.033330</td>\n",
       "      <td>-0.034039</td>\n",
       "    </tr>\n",
       "    <tr>\n",
       "      <th>2016-01-19</th>\n",
       "      <td>shfe.rb0000</td>\n",
       "      <td>1825.0</td>\n",
       "      <td>1841.0</td>\n",
       "      <td>1817.0</td>\n",
       "      <td>1839.0</td>\n",
       "      <td>3483867.0</td>\n",
       "      <td>6.366956e+10</td>\n",
       "      <td>1665866.0</td>\n",
       "      <td>0.006568</td>\n",
       "      <td>1</td>\n",
       "      <td>0.006434</td>\n",
       "      <td>0.018730</td>\n",
       "      <td>-0.034135</td>\n",
       "    </tr>\n",
       "  </tbody>\n",
       "</table>\n",
       "</div>"
      ],
      "text/plain": [
       "                   code    open    high     low   close     volume  \\\n",
       "time                                                                 \n",
       "2016-01-13  shfe.rb0000  1741.0  1752.0  1735.0  1740.0  1795770.0   \n",
       "2016-01-14  shfe.rb0000  1742.0  1759.0  1732.0  1758.0  2055150.0   \n",
       "2016-01-15  shfe.rb0000  1758.0  1787.0  1754.0  1778.0  3324932.0   \n",
       "2016-01-18  shfe.rb0000  1777.0  1832.0  1770.0  1827.0  4578121.0   \n",
       "2016-01-19  shfe.rb0000  1825.0  1841.0  1817.0  1839.0  3483867.0   \n",
       "\n",
       "                  amount  open_interest       ret  y        mf      vola  \\\n",
       "time                                                                       \n",
       "2016-01-13  3.130531e+10      1395778.0 -0.000574 -1 -0.002987  0.009669   \n",
       "2016-01-14  3.586932e+10      1425936.0  0.010345  1 -0.002474  0.016354   \n",
       "2016-01-15  5.899539e+10      1576338.0  0.011377  1  0.000269  0.208819   \n",
       "2016-01-18  8.276581e+10      1676758.0  0.027559  1  0.004367  0.033330   \n",
       "2016-01-19  6.366956e+10      1665866.0  0.006568  1  0.006434  0.018730   \n",
       "\n",
       "                 val  \n",
       "time                  \n",
       "2016-01-13  0.012645  \n",
       "2016-01-14 -0.000163  \n",
       "2016-01-15 -0.011231  \n",
       "2016-01-18 -0.034039  \n",
       "2016-01-19 -0.034135  "
      ]
     },
     "execution_count": 158,
     "metadata": {},
     "output_type": "execute_result"
    }
   ],
   "source": [
    "rbd.dropna(inplace=True)\n",
    "rbd.head()"
   ]
  },
  {
   "cell_type": "markdown",
   "metadata": {
    "slideshow": {
     "slide_type": "slide"
    }
   },
   "source": [
    "#### 观察类标签是否均衡"
   ]
  },
  {
   "cell_type": "code",
   "execution_count": 159,
   "metadata": {
    "slideshow": {
     "slide_type": "fragment"
    }
   },
   "outputs": [
    {
     "data": {
      "text/plain": [
       " 1    884\n",
       "-1    787\n",
       "Name: y, dtype: int64"
      ]
     },
     "execution_count": 159,
     "metadata": {},
     "output_type": "execute_result"
    }
   ],
   "source": [
    "rbd['y'].value_counts()"
   ]
  },
  {
   "cell_type": "markdown",
   "metadata": {
    "slideshow": {
     "slide_type": "slide"
    }
   },
   "source": [
    "### 构建决策树模型"
   ]
  },
  {
   "cell_type": "code",
   "execution_count": 160,
   "metadata": {
    "slideshow": {
     "slide_type": "fragment"
    }
   },
   "outputs": [
    {
     "data": {
      "text/html": [
       "<div>\n",
       "<style scoped>\n",
       "    .dataframe tbody tr th:only-of-type {\n",
       "        vertical-align: middle;\n",
       "    }\n",
       "\n",
       "    .dataframe tbody tr th {\n",
       "        vertical-align: top;\n",
       "    }\n",
       "\n",
       "    .dataframe thead th {\n",
       "        text-align: right;\n",
       "    }\n",
       "</style>\n",
       "<table border=\"1\" class=\"dataframe\">\n",
       "  <thead>\n",
       "    <tr style=\"text-align: right;\">\n",
       "      <th></th>\n",
       "      <th>close</th>\n",
       "      <th>high</th>\n",
       "      <th>low</th>\n",
       "      <th>ret</th>\n",
       "      <th>mf</th>\n",
       "      <th>vola</th>\n",
       "      <th>val</th>\n",
       "      <th>y</th>\n",
       "    </tr>\n",
       "    <tr>\n",
       "      <th>time</th>\n",
       "      <th></th>\n",
       "      <th></th>\n",
       "      <th></th>\n",
       "      <th></th>\n",
       "      <th></th>\n",
       "      <th></th>\n",
       "      <th></th>\n",
       "      <th></th>\n",
       "    </tr>\n",
       "  </thead>\n",
       "  <tbody>\n",
       "    <tr>\n",
       "      <th>2016-01-13</th>\n",
       "      <td>1740.0</td>\n",
       "      <td>1752.0</td>\n",
       "      <td>1735.0</td>\n",
       "      <td>-0.000574</td>\n",
       "      <td>-0.002987</td>\n",
       "      <td>0.009669</td>\n",
       "      <td>0.012645</td>\n",
       "      <td>-1</td>\n",
       "    </tr>\n",
       "    <tr>\n",
       "      <th>2016-01-14</th>\n",
       "      <td>1758.0</td>\n",
       "      <td>1759.0</td>\n",
       "      <td>1732.0</td>\n",
       "      <td>0.010345</td>\n",
       "      <td>-0.002474</td>\n",
       "      <td>0.016354</td>\n",
       "      <td>-0.000163</td>\n",
       "      <td>1</td>\n",
       "    </tr>\n",
       "    <tr>\n",
       "      <th>2016-01-15</th>\n",
       "      <td>1778.0</td>\n",
       "      <td>1787.0</td>\n",
       "      <td>1754.0</td>\n",
       "      <td>0.011377</td>\n",
       "      <td>0.000269</td>\n",
       "      <td>0.208819</td>\n",
       "      <td>-0.011231</td>\n",
       "      <td>1</td>\n",
       "    </tr>\n",
       "    <tr>\n",
       "      <th>2016-01-18</th>\n",
       "      <td>1827.0</td>\n",
       "      <td>1832.0</td>\n",
       "      <td>1770.0</td>\n",
       "      <td>0.027559</td>\n",
       "      <td>0.004367</td>\n",
       "      <td>0.033330</td>\n",
       "      <td>-0.034039</td>\n",
       "      <td>1</td>\n",
       "    </tr>\n",
       "    <tr>\n",
       "      <th>2016-01-19</th>\n",
       "      <td>1839.0</td>\n",
       "      <td>1841.0</td>\n",
       "      <td>1817.0</td>\n",
       "      <td>0.006568</td>\n",
       "      <td>0.006434</td>\n",
       "      <td>0.018730</td>\n",
       "      <td>-0.034135</td>\n",
       "      <td>1</td>\n",
       "    </tr>\n",
       "    <tr>\n",
       "      <th>...</th>\n",
       "      <td>...</td>\n",
       "      <td>...</td>\n",
       "      <td>...</td>\n",
       "      <td>...</td>\n",
       "      <td>...</td>\n",
       "      <td>...</td>\n",
       "      <td>...</td>\n",
       "      <td>...</td>\n",
       "    </tr>\n",
       "    <tr>\n",
       "      <th>2022-11-21</th>\n",
       "      <td>3671.0</td>\n",
       "      <td>3718.0</td>\n",
       "      <td>3631.0</td>\n",
       "      <td>-0.012110</td>\n",
       "      <td>0.005363</td>\n",
       "      <td>0.029083</td>\n",
       "      <td>0.005240</td>\n",
       "      <td>-1</td>\n",
       "    </tr>\n",
       "    <tr>\n",
       "      <th>2022-11-22</th>\n",
       "      <td>3677.0</td>\n",
       "      <td>3714.0</td>\n",
       "      <td>3661.0</td>\n",
       "      <td>0.001634</td>\n",
       "      <td>0.001599</td>\n",
       "      <td>0.044216</td>\n",
       "      <td>0.005154</td>\n",
       "      <td>1</td>\n",
       "    </tr>\n",
       "    <tr>\n",
       "      <th>2022-11-23</th>\n",
       "      <td>3691.0</td>\n",
       "      <td>3704.0</td>\n",
       "      <td>3652.0</td>\n",
       "      <td>0.003807</td>\n",
       "      <td>0.001711</td>\n",
       "      <td>0.041555</td>\n",
       "      <td>0.003014</td>\n",
       "      <td>1</td>\n",
       "    </tr>\n",
       "    <tr>\n",
       "      <th>2022-11-24</th>\n",
       "      <td>3681.0</td>\n",
       "      <td>3746.0</td>\n",
       "      <td>3677.0</td>\n",
       "      <td>-0.002709</td>\n",
       "      <td>-0.000399</td>\n",
       "      <td>0.135622</td>\n",
       "      <td>0.005303</td>\n",
       "      <td>-1</td>\n",
       "    </tr>\n",
       "    <tr>\n",
       "      <th>2022-11-25</th>\n",
       "      <td>3736.0</td>\n",
       "      <td>3736.0</td>\n",
       "      <td>3659.0</td>\n",
       "      <td>0.014942</td>\n",
       "      <td>-0.000199</td>\n",
       "      <td>0.300746</td>\n",
       "      <td>-0.009760</td>\n",
       "      <td>1</td>\n",
       "    </tr>\n",
       "  </tbody>\n",
       "</table>\n",
       "<p>1671 rows × 8 columns</p>\n",
       "</div>"
      ],
      "text/plain": [
       "             close    high     low       ret        mf      vola       val  y\n",
       "time                                                                         \n",
       "2016-01-13  1740.0  1752.0  1735.0 -0.000574 -0.002987  0.009669  0.012645 -1\n",
       "2016-01-14  1758.0  1759.0  1732.0  0.010345 -0.002474  0.016354 -0.000163  1\n",
       "2016-01-15  1778.0  1787.0  1754.0  0.011377  0.000269  0.208819 -0.011231  1\n",
       "2016-01-18  1827.0  1832.0  1770.0  0.027559  0.004367  0.033330 -0.034039  1\n",
       "2016-01-19  1839.0  1841.0  1817.0  0.006568  0.006434  0.018730 -0.034135  1\n",
       "...            ...     ...     ...       ...       ...       ...       ... ..\n",
       "2022-11-21  3671.0  3718.0  3631.0 -0.012110  0.005363  0.029083  0.005240 -1\n",
       "2022-11-22  3677.0  3714.0  3661.0  0.001634  0.001599  0.044216  0.005154  1\n",
       "2022-11-23  3691.0  3704.0  3652.0  0.003807  0.001711  0.041555  0.003014  1\n",
       "2022-11-24  3681.0  3746.0  3677.0 -0.002709 -0.000399  0.135622  0.005303 -1\n",
       "2022-11-25  3736.0  3736.0  3659.0  0.014942 -0.000199  0.300746 -0.009760  1\n",
       "\n",
       "[1671 rows x 8 columns]"
      ]
     },
     "execution_count": 160,
     "metadata": {},
     "output_type": "execute_result"
    }
   ],
   "source": [
    "rbdDat = rbd[['close','high','low','ret','mf','vola','val','y']]\n",
    "rbdDat"
   ]
  },
  {
   "cell_type": "markdown",
   "metadata": {
    "slideshow": {
     "slide_type": "slide"
    }
   },
   "source": [
    "#### 划分训练集与检验集"
   ]
  },
  {
   "cell_type": "code",
   "execution_count": 161,
   "metadata": {
    "slideshow": {
     "slide_type": "fragment"
    }
   },
   "outputs": [
    {
     "data": {
      "text/html": [
       "<div>\n",
       "<style scoped>\n",
       "    .dataframe tbody tr th:only-of-type {\n",
       "        vertical-align: middle;\n",
       "    }\n",
       "\n",
       "    .dataframe tbody tr th {\n",
       "        vertical-align: top;\n",
       "    }\n",
       "\n",
       "    .dataframe thead th {\n",
       "        text-align: right;\n",
       "    }\n",
       "</style>\n",
       "<table border=\"1\" class=\"dataframe\">\n",
       "  <thead>\n",
       "    <tr style=\"text-align: right;\">\n",
       "      <th></th>\n",
       "      <th>close</th>\n",
       "      <th>high</th>\n",
       "      <th>low</th>\n",
       "      <th>ret</th>\n",
       "      <th>mf</th>\n",
       "      <th>vola</th>\n",
       "      <th>val</th>\n",
       "      <th>y</th>\n",
       "    </tr>\n",
       "    <tr>\n",
       "      <th>time</th>\n",
       "      <th></th>\n",
       "      <th></th>\n",
       "      <th></th>\n",
       "      <th></th>\n",
       "      <th></th>\n",
       "      <th></th>\n",
       "      <th></th>\n",
       "      <th></th>\n",
       "    </tr>\n",
       "  </thead>\n",
       "  <tbody>\n",
       "    <tr>\n",
       "      <th>2016-01-13</th>\n",
       "      <td>1740.0</td>\n",
       "      <td>1752.0</td>\n",
       "      <td>1735.0</td>\n",
       "      <td>-0.000574</td>\n",
       "      <td>-0.002987</td>\n",
       "      <td>0.009669</td>\n",
       "      <td>0.012645</td>\n",
       "      <td>-1</td>\n",
       "    </tr>\n",
       "    <tr>\n",
       "      <th>2016-01-14</th>\n",
       "      <td>1758.0</td>\n",
       "      <td>1759.0</td>\n",
       "      <td>1732.0</td>\n",
       "      <td>0.010345</td>\n",
       "      <td>-0.002474</td>\n",
       "      <td>0.016354</td>\n",
       "      <td>-0.000163</td>\n",
       "      <td>1</td>\n",
       "    </tr>\n",
       "    <tr>\n",
       "      <th>2016-01-15</th>\n",
       "      <td>1778.0</td>\n",
       "      <td>1787.0</td>\n",
       "      <td>1754.0</td>\n",
       "      <td>0.011377</td>\n",
       "      <td>0.000269</td>\n",
       "      <td>0.208819</td>\n",
       "      <td>-0.011231</td>\n",
       "      <td>1</td>\n",
       "    </tr>\n",
       "    <tr>\n",
       "      <th>2016-01-18</th>\n",
       "      <td>1827.0</td>\n",
       "      <td>1832.0</td>\n",
       "      <td>1770.0</td>\n",
       "      <td>0.027559</td>\n",
       "      <td>0.004367</td>\n",
       "      <td>0.033330</td>\n",
       "      <td>-0.034039</td>\n",
       "      <td>1</td>\n",
       "    </tr>\n",
       "    <tr>\n",
       "      <th>2016-01-19</th>\n",
       "      <td>1839.0</td>\n",
       "      <td>1841.0</td>\n",
       "      <td>1817.0</td>\n",
       "      <td>0.006568</td>\n",
       "      <td>0.006434</td>\n",
       "      <td>0.018730</td>\n",
       "      <td>-0.034135</td>\n",
       "      <td>1</td>\n",
       "    </tr>\n",
       "  </tbody>\n",
       "</table>\n",
       "</div>"
      ],
      "text/plain": [
       "             close    high     low       ret        mf      vola       val  y\n",
       "time                                                                         \n",
       "2016-01-13  1740.0  1752.0  1735.0 -0.000574 -0.002987  0.009669  0.012645 -1\n",
       "2016-01-14  1758.0  1759.0  1732.0  0.010345 -0.002474  0.016354 -0.000163  1\n",
       "2016-01-15  1778.0  1787.0  1754.0  0.011377  0.000269  0.208819 -0.011231  1\n",
       "2016-01-18  1827.0  1832.0  1770.0  0.027559  0.004367  0.033330 -0.034039  1\n",
       "2016-01-19  1839.0  1841.0  1817.0  0.006568  0.006434  0.018730 -0.034135  1"
      ]
     },
     "execution_count": 161,
     "metadata": {},
     "output_type": "execute_result"
    },
    {
     "data": {
      "text/html": [
       "<div>\n",
       "<style scoped>\n",
       "    .dataframe tbody tr th:only-of-type {\n",
       "        vertical-align: middle;\n",
       "    }\n",
       "\n",
       "    .dataframe tbody tr th {\n",
       "        vertical-align: top;\n",
       "    }\n",
       "\n",
       "    .dataframe thead th {\n",
       "        text-align: right;\n",
       "    }\n",
       "</style>\n",
       "<table border=\"1\" class=\"dataframe\">\n",
       "  <thead>\n",
       "    <tr style=\"text-align: right;\">\n",
       "      <th></th>\n",
       "      <th>close</th>\n",
       "      <th>high</th>\n",
       "      <th>low</th>\n",
       "      <th>ret</th>\n",
       "      <th>mf</th>\n",
       "      <th>vola</th>\n",
       "      <th>val</th>\n",
       "      <th>y</th>\n",
       "    </tr>\n",
       "    <tr>\n",
       "      <th>time</th>\n",
       "      <th></th>\n",
       "      <th></th>\n",
       "      <th></th>\n",
       "      <th></th>\n",
       "      <th></th>\n",
       "      <th></th>\n",
       "      <th></th>\n",
       "      <th></th>\n",
       "    </tr>\n",
       "  </thead>\n",
       "  <tbody>\n",
       "    <tr>\n",
       "      <th>2020-11-04</th>\n",
       "      <td>3753.0</td>\n",
       "      <td>3762.0</td>\n",
       "      <td>3711.0</td>\n",
       "      <td>0.012136</td>\n",
       "      <td>0.005464</td>\n",
       "      <td>0.006837</td>\n",
       "      <td>-0.016774</td>\n",
       "      <td>1</td>\n",
       "    </tr>\n",
       "    <tr>\n",
       "      <th>2020-11-05</th>\n",
       "      <td>3748.0</td>\n",
       "      <td>3772.0</td>\n",
       "      <td>3735.0</td>\n",
       "      <td>-0.001332</td>\n",
       "      <td>0.005155</td>\n",
       "      <td>0.007913</td>\n",
       "      <td>-0.010345</td>\n",
       "      <td>-1</td>\n",
       "    </tr>\n",
       "    <tr>\n",
       "      <th>2020-11-06</th>\n",
       "      <td>3782.0</td>\n",
       "      <td>3790.0</td>\n",
       "      <td>3747.0</td>\n",
       "      <td>0.009072</td>\n",
       "      <td>0.004397</td>\n",
       "      <td>0.006880</td>\n",
       "      <td>-0.014994</td>\n",
       "      <td>1</td>\n",
       "    </tr>\n",
       "    <tr>\n",
       "      <th>2020-11-09</th>\n",
       "      <td>3859.0</td>\n",
       "      <td>3874.0</td>\n",
       "      <td>3787.0</td>\n",
       "      <td>0.020360</td>\n",
       "      <td>0.007305</td>\n",
       "      <td>0.007588</td>\n",
       "      <td>-0.027853</td>\n",
       "      <td>1</td>\n",
       "    </tr>\n",
       "    <tr>\n",
       "      <th>2020-11-10</th>\n",
       "      <td>3826.0</td>\n",
       "      <td>3888.0</td>\n",
       "      <td>3818.0</td>\n",
       "      <td>-0.008551</td>\n",
       "      <td>0.004760</td>\n",
       "      <td>0.017716</td>\n",
       "      <td>-0.014555</td>\n",
       "      <td>-1</td>\n",
       "    </tr>\n",
       "  </tbody>\n",
       "</table>\n",
       "</div>"
      ],
      "text/plain": [
       "             close    high     low       ret        mf      vola       val  y\n",
       "time                                                                         \n",
       "2020-11-04  3753.0  3762.0  3711.0  0.012136  0.005464  0.006837 -0.016774  1\n",
       "2020-11-05  3748.0  3772.0  3735.0 -0.001332  0.005155  0.007913 -0.010345 -1\n",
       "2020-11-06  3782.0  3790.0  3747.0  0.009072  0.004397  0.006880 -0.014994  1\n",
       "2020-11-09  3859.0  3874.0  3787.0  0.020360  0.007305  0.007588 -0.027853  1\n",
       "2020-11-10  3826.0  3888.0  3818.0 -0.008551  0.004760  0.017716 -0.014555 -1"
      ]
     },
     "execution_count": 161,
     "metadata": {},
     "output_type": "execute_result"
    }
   ],
   "source": [
    "split = int(rbdDat.shape[0]*0.7)\n",
    "rbdTrain = rbdDat.iloc[:split]\n",
    "rbdTest = rbdDat.iloc[split:]\n",
    "rbdTrain.head()\n",
    "rbdTest.head()"
   ]
  },
  {
   "cell_type": "code",
   "execution_count": 162,
   "metadata": {},
   "outputs": [
    {
     "name": "stderr",
     "output_type": "stream",
     "text": [
      "/home/VENV36/lib/python3.6/site-packages/ipykernel_launcher.py:1: SettingWithCopyWarning: \n",
      "A value is trying to be set on a copy of a slice from a DataFrame.\n",
      "Try using .loc[row_indexer,col_indexer] = value instead\n",
      "\n",
      "See the caveats in the documentation: https://pandas.pydata.org/pandas-docs/stable/user_guide/indexing.html#returning-a-view-versus-a-copy\n",
      "  \"\"\"Entry point for launching an IPython kernel.\n",
      "/home/VENV36/lib/python3.6/site-packages/ipykernel_launcher.py:2: SettingWithCopyWarning: \n",
      "A value is trying to be set on a copy of a slice from a DataFrame.\n",
      "Try using .loc[row_indexer,col_indexer] = value instead\n",
      "\n",
      "See the caveats in the documentation: https://pandas.pydata.org/pandas-docs/stable/user_guide/indexing.html#returning-a-view-versus-a-copy\n",
      "  \n"
     ]
    },
    {
     "data": {
      "text/html": [
       "<div>\n",
       "<style scoped>\n",
       "    .dataframe tbody tr th:only-of-type {\n",
       "        vertical-align: middle;\n",
       "    }\n",
       "\n",
       "    .dataframe tbody tr th {\n",
       "        vertical-align: top;\n",
       "    }\n",
       "\n",
       "    .dataframe thead th {\n",
       "        text-align: right;\n",
       "    }\n",
       "</style>\n",
       "<table border=\"1\" class=\"dataframe\">\n",
       "  <thead>\n",
       "    <tr style=\"text-align: right;\">\n",
       "      <th></th>\n",
       "      <th>close</th>\n",
       "      <th>high</th>\n",
       "      <th>low</th>\n",
       "      <th>ret</th>\n",
       "      <th>mf</th>\n",
       "      <th>vola</th>\n",
       "      <th>val</th>\n",
       "      <th>y</th>\n",
       "    </tr>\n",
       "    <tr>\n",
       "      <th>time</th>\n",
       "      <th></th>\n",
       "      <th></th>\n",
       "      <th></th>\n",
       "      <th></th>\n",
       "      <th></th>\n",
       "      <th></th>\n",
       "      <th></th>\n",
       "      <th></th>\n",
       "    </tr>\n",
       "  </thead>\n",
       "  <tbody>\n",
       "    <tr>\n",
       "      <th>2016-01-13</th>\n",
       "      <td>1740.0</td>\n",
       "      <td>1752.0</td>\n",
       "      <td>1735.0</td>\n",
       "      <td>-0.000574</td>\n",
       "      <td>-0.002987</td>\n",
       "      <td>0.009669</td>\n",
       "      <td>0.012645</td>\n",
       "      <td>1.0</td>\n",
       "    </tr>\n",
       "    <tr>\n",
       "      <th>2016-01-14</th>\n",
       "      <td>1758.0</td>\n",
       "      <td>1759.0</td>\n",
       "      <td>1732.0</td>\n",
       "      <td>0.010345</td>\n",
       "      <td>-0.002474</td>\n",
       "      <td>0.016354</td>\n",
       "      <td>-0.000163</td>\n",
       "      <td>1.0</td>\n",
       "    </tr>\n",
       "    <tr>\n",
       "      <th>2016-01-15</th>\n",
       "      <td>1778.0</td>\n",
       "      <td>1787.0</td>\n",
       "      <td>1754.0</td>\n",
       "      <td>0.011377</td>\n",
       "      <td>0.000269</td>\n",
       "      <td>0.208819</td>\n",
       "      <td>-0.011231</td>\n",
       "      <td>1.0</td>\n",
       "    </tr>\n",
       "    <tr>\n",
       "      <th>2016-01-18</th>\n",
       "      <td>1827.0</td>\n",
       "      <td>1832.0</td>\n",
       "      <td>1770.0</td>\n",
       "      <td>0.027559</td>\n",
       "      <td>0.004367</td>\n",
       "      <td>0.033330</td>\n",
       "      <td>-0.034039</td>\n",
       "      <td>1.0</td>\n",
       "    </tr>\n",
       "    <tr>\n",
       "      <th>2016-01-19</th>\n",
       "      <td>1839.0</td>\n",
       "      <td>1841.0</td>\n",
       "      <td>1817.0</td>\n",
       "      <td>0.006568</td>\n",
       "      <td>0.006434</td>\n",
       "      <td>0.018730</td>\n",
       "      <td>-0.034135</td>\n",
       "      <td>-1.0</td>\n",
       "    </tr>\n",
       "    <tr>\n",
       "      <th>...</th>\n",
       "      <td>...</td>\n",
       "      <td>...</td>\n",
       "      <td>...</td>\n",
       "      <td>...</td>\n",
       "      <td>...</td>\n",
       "      <td>...</td>\n",
       "      <td>...</td>\n",
       "      <td>...</td>\n",
       "    </tr>\n",
       "    <tr>\n",
       "      <th>2020-10-28</th>\n",
       "      <td>3668.0</td>\n",
       "      <td>3670.0</td>\n",
       "      <td>3615.0</td>\n",
       "      <td>0.014381</td>\n",
       "      <td>0.002263</td>\n",
       "      <td>0.020106</td>\n",
       "      <td>-0.009981</td>\n",
       "      <td>-1.0</td>\n",
       "    </tr>\n",
       "    <tr>\n",
       "      <th>2020-10-29</th>\n",
       "      <td>3668.0</td>\n",
       "      <td>3680.0</td>\n",
       "      <td>3645.0</td>\n",
       "      <td>0.000000</td>\n",
       "      <td>0.002065</td>\n",
       "      <td>0.022314</td>\n",
       "      <td>-0.007938</td>\n",
       "      <td>1.0</td>\n",
       "    </tr>\n",
       "    <tr>\n",
       "      <th>2020-10-30</th>\n",
       "      <td>3702.0</td>\n",
       "      <td>3714.0</td>\n",
       "      <td>3653.0</td>\n",
       "      <td>0.009269</td>\n",
       "      <td>0.002046</td>\n",
       "      <td>0.022387</td>\n",
       "      <td>-0.015125</td>\n",
       "      <td>1.0</td>\n",
       "    </tr>\n",
       "    <tr>\n",
       "      <th>2020-11-02</th>\n",
       "      <td>3719.0</td>\n",
       "      <td>3721.0</td>\n",
       "      <td>3692.0</td>\n",
       "      <td>0.004592</td>\n",
       "      <td>0.003015</td>\n",
       "      <td>0.014335</td>\n",
       "      <td>-0.016694</td>\n",
       "      <td>-1.0</td>\n",
       "    </tr>\n",
       "    <tr>\n",
       "      <th>2020-11-03</th>\n",
       "      <td>3708.0</td>\n",
       "      <td>3730.0</td>\n",
       "      <td>3706.0</td>\n",
       "      <td>-0.002958</td>\n",
       "      <td>0.003612</td>\n",
       "      <td>0.009199</td>\n",
       "      <td>-0.010145</td>\n",
       "      <td>NaN</td>\n",
       "    </tr>\n",
       "  </tbody>\n",
       "</table>\n",
       "<p>1169 rows × 8 columns</p>\n",
       "</div>"
      ],
      "text/plain": [
       "             close    high     low       ret        mf      vola       val  \\\n",
       "time                                                                         \n",
       "2016-01-13  1740.0  1752.0  1735.0 -0.000574 -0.002987  0.009669  0.012645   \n",
       "2016-01-14  1758.0  1759.0  1732.0  0.010345 -0.002474  0.016354 -0.000163   \n",
       "2016-01-15  1778.0  1787.0  1754.0  0.011377  0.000269  0.208819 -0.011231   \n",
       "2016-01-18  1827.0  1832.0  1770.0  0.027559  0.004367  0.033330 -0.034039   \n",
       "2016-01-19  1839.0  1841.0  1817.0  0.006568  0.006434  0.018730 -0.034135   \n",
       "...            ...     ...     ...       ...       ...       ...       ...   \n",
       "2020-10-28  3668.0  3670.0  3615.0  0.014381  0.002263  0.020106 -0.009981   \n",
       "2020-10-29  3668.0  3680.0  3645.0  0.000000  0.002065  0.022314 -0.007938   \n",
       "2020-10-30  3702.0  3714.0  3653.0  0.009269  0.002046  0.022387 -0.015125   \n",
       "2020-11-02  3719.0  3721.0  3692.0  0.004592  0.003015  0.014335 -0.016694   \n",
       "2020-11-03  3708.0  3730.0  3706.0 -0.002958  0.003612  0.009199 -0.010145   \n",
       "\n",
       "              y  \n",
       "time             \n",
       "2016-01-13  1.0  \n",
       "2016-01-14  1.0  \n",
       "2016-01-15  1.0  \n",
       "2016-01-18  1.0  \n",
       "2016-01-19 -1.0  \n",
       "...         ...  \n",
       "2020-10-28 -1.0  \n",
       "2020-10-29  1.0  \n",
       "2020-10-30  1.0  \n",
       "2020-11-02 -1.0  \n",
       "2020-11-03  NaN  \n",
       "\n",
       "[1169 rows x 8 columns]"
      ]
     },
     "execution_count": 162,
     "metadata": {},
     "output_type": "execute_result"
    },
    {
     "data": {
      "text/html": [
       "<div>\n",
       "<style scoped>\n",
       "    .dataframe tbody tr th:only-of-type {\n",
       "        vertical-align: middle;\n",
       "    }\n",
       "\n",
       "    .dataframe tbody tr th {\n",
       "        vertical-align: top;\n",
       "    }\n",
       "\n",
       "    .dataframe thead th {\n",
       "        text-align: right;\n",
       "    }\n",
       "</style>\n",
       "<table border=\"1\" class=\"dataframe\">\n",
       "  <thead>\n",
       "    <tr style=\"text-align: right;\">\n",
       "      <th></th>\n",
       "      <th>close</th>\n",
       "      <th>high</th>\n",
       "      <th>low</th>\n",
       "      <th>ret</th>\n",
       "      <th>mf</th>\n",
       "      <th>vola</th>\n",
       "      <th>val</th>\n",
       "      <th>y</th>\n",
       "    </tr>\n",
       "    <tr>\n",
       "      <th>time</th>\n",
       "      <th></th>\n",
       "      <th></th>\n",
       "      <th></th>\n",
       "      <th></th>\n",
       "      <th></th>\n",
       "      <th></th>\n",
       "      <th></th>\n",
       "      <th></th>\n",
       "    </tr>\n",
       "  </thead>\n",
       "  <tbody>\n",
       "    <tr>\n",
       "      <th>2020-11-04</th>\n",
       "      <td>3753.0</td>\n",
       "      <td>3762.0</td>\n",
       "      <td>3711.0</td>\n",
       "      <td>0.012136</td>\n",
       "      <td>0.005464</td>\n",
       "      <td>0.006837</td>\n",
       "      <td>-0.016774</td>\n",
       "      <td>-1.0</td>\n",
       "    </tr>\n",
       "    <tr>\n",
       "      <th>2020-11-05</th>\n",
       "      <td>3748.0</td>\n",
       "      <td>3772.0</td>\n",
       "      <td>3735.0</td>\n",
       "      <td>-0.001332</td>\n",
       "      <td>0.005155</td>\n",
       "      <td>0.007913</td>\n",
       "      <td>-0.010345</td>\n",
       "      <td>1.0</td>\n",
       "    </tr>\n",
       "    <tr>\n",
       "      <th>2020-11-06</th>\n",
       "      <td>3782.0</td>\n",
       "      <td>3790.0</td>\n",
       "      <td>3747.0</td>\n",
       "      <td>0.009072</td>\n",
       "      <td>0.004397</td>\n",
       "      <td>0.006880</td>\n",
       "      <td>-0.014994</td>\n",
       "      <td>1.0</td>\n",
       "    </tr>\n",
       "    <tr>\n",
       "      <th>2020-11-09</th>\n",
       "      <td>3859.0</td>\n",
       "      <td>3874.0</td>\n",
       "      <td>3787.0</td>\n",
       "      <td>0.020360</td>\n",
       "      <td>0.007305</td>\n",
       "      <td>0.007588</td>\n",
       "      <td>-0.027853</td>\n",
       "      <td>-1.0</td>\n",
       "    </tr>\n",
       "    <tr>\n",
       "      <th>2020-11-10</th>\n",
       "      <td>3826.0</td>\n",
       "      <td>3888.0</td>\n",
       "      <td>3818.0</td>\n",
       "      <td>-0.008551</td>\n",
       "      <td>0.004760</td>\n",
       "      <td>0.017716</td>\n",
       "      <td>-0.014555</td>\n",
       "      <td>1.0</td>\n",
       "    </tr>\n",
       "    <tr>\n",
       "      <th>...</th>\n",
       "      <td>...</td>\n",
       "      <td>...</td>\n",
       "      <td>...</td>\n",
       "      <td>...</td>\n",
       "      <td>...</td>\n",
       "      <td>...</td>\n",
       "      <td>...</td>\n",
       "      <td>...</td>\n",
       "    </tr>\n",
       "    <tr>\n",
       "      <th>2022-11-21</th>\n",
       "      <td>3671.0</td>\n",
       "      <td>3718.0</td>\n",
       "      <td>3631.0</td>\n",
       "      <td>-0.012110</td>\n",
       "      <td>0.005363</td>\n",
       "      <td>0.029083</td>\n",
       "      <td>0.005240</td>\n",
       "      <td>1.0</td>\n",
       "    </tr>\n",
       "    <tr>\n",
       "      <th>2022-11-22</th>\n",
       "      <td>3677.0</td>\n",
       "      <td>3714.0</td>\n",
       "      <td>3661.0</td>\n",
       "      <td>0.001634</td>\n",
       "      <td>0.001599</td>\n",
       "      <td>0.044216</td>\n",
       "      <td>0.005154</td>\n",
       "      <td>1.0</td>\n",
       "    </tr>\n",
       "    <tr>\n",
       "      <th>2022-11-23</th>\n",
       "      <td>3691.0</td>\n",
       "      <td>3704.0</td>\n",
       "      <td>3652.0</td>\n",
       "      <td>0.003807</td>\n",
       "      <td>0.001711</td>\n",
       "      <td>0.041555</td>\n",
       "      <td>0.003014</td>\n",
       "      <td>-1.0</td>\n",
       "    </tr>\n",
       "    <tr>\n",
       "      <th>2022-11-24</th>\n",
       "      <td>3681.0</td>\n",
       "      <td>3746.0</td>\n",
       "      <td>3677.0</td>\n",
       "      <td>-0.002709</td>\n",
       "      <td>-0.000399</td>\n",
       "      <td>0.135622</td>\n",
       "      <td>0.005303</td>\n",
       "      <td>1.0</td>\n",
       "    </tr>\n",
       "    <tr>\n",
       "      <th>2022-11-25</th>\n",
       "      <td>3736.0</td>\n",
       "      <td>3736.0</td>\n",
       "      <td>3659.0</td>\n",
       "      <td>0.014942</td>\n",
       "      <td>-0.000199</td>\n",
       "      <td>0.300746</td>\n",
       "      <td>-0.009760</td>\n",
       "      <td>NaN</td>\n",
       "    </tr>\n",
       "  </tbody>\n",
       "</table>\n",
       "<p>502 rows × 8 columns</p>\n",
       "</div>"
      ],
      "text/plain": [
       "             close    high     low       ret        mf      vola       val  \\\n",
       "time                                                                         \n",
       "2020-11-04  3753.0  3762.0  3711.0  0.012136  0.005464  0.006837 -0.016774   \n",
       "2020-11-05  3748.0  3772.0  3735.0 -0.001332  0.005155  0.007913 -0.010345   \n",
       "2020-11-06  3782.0  3790.0  3747.0  0.009072  0.004397  0.006880 -0.014994   \n",
       "2020-11-09  3859.0  3874.0  3787.0  0.020360  0.007305  0.007588 -0.027853   \n",
       "2020-11-10  3826.0  3888.0  3818.0 -0.008551  0.004760  0.017716 -0.014555   \n",
       "...            ...     ...     ...       ...       ...       ...       ...   \n",
       "2022-11-21  3671.0  3718.0  3631.0 -0.012110  0.005363  0.029083  0.005240   \n",
       "2022-11-22  3677.0  3714.0  3661.0  0.001634  0.001599  0.044216  0.005154   \n",
       "2022-11-23  3691.0  3704.0  3652.0  0.003807  0.001711  0.041555  0.003014   \n",
       "2022-11-24  3681.0  3746.0  3677.0 -0.002709 -0.000399  0.135622  0.005303   \n",
       "2022-11-25  3736.0  3736.0  3659.0  0.014942 -0.000199  0.300746 -0.009760   \n",
       "\n",
       "              y  \n",
       "time             \n",
       "2020-11-04 -1.0  \n",
       "2020-11-05  1.0  \n",
       "2020-11-06  1.0  \n",
       "2020-11-09 -1.0  \n",
       "2020-11-10  1.0  \n",
       "...         ...  \n",
       "2022-11-21  1.0  \n",
       "2022-11-22  1.0  \n",
       "2022-11-23 -1.0  \n",
       "2022-11-24  1.0  \n",
       "2022-11-25  NaN  \n",
       "\n",
       "[502 rows x 8 columns]"
      ]
     },
     "execution_count": 162,
     "metadata": {},
     "output_type": "execute_result"
    }
   ],
   "source": [
    "rbdTrain['y'] = rbdTrain['y'].shift(-1)\n",
    "rbdTest['y'] = rbdTest['y'].shift(-1)\n",
    "rbdTrain\n",
    "rbdTest"
   ]
  },
  {
   "cell_type": "code",
   "execution_count": 163,
   "metadata": {},
   "outputs": [
    {
     "name": "stderr",
     "output_type": "stream",
     "text": [
      "/home/VENV36/lib/python3.6/site-packages/ipykernel_launcher.py:1: SettingWithCopyWarning: \n",
      "A value is trying to be set on a copy of a slice from a DataFrame\n",
      "\n",
      "See the caveats in the documentation: https://pandas.pydata.org/pandas-docs/stable/user_guide/indexing.html#returning-a-view-versus-a-copy\n",
      "  \"\"\"Entry point for launching an IPython kernel.\n",
      "/home/VENV36/lib/python3.6/site-packages/ipykernel_launcher.py:2: SettingWithCopyWarning: \n",
      "A value is trying to be set on a copy of a slice from a DataFrame\n",
      "\n",
      "See the caveats in the documentation: https://pandas.pydata.org/pandas-docs/stable/user_guide/indexing.html#returning-a-view-versus-a-copy\n",
      "  \n"
     ]
    }
   ],
   "source": [
    "rbdTrain.dropna(inplace=True)\n",
    "rbdTest.dropna(inplace=True)"
   ]
  },
  {
   "cell_type": "markdown",
   "metadata": {
    "slideshow": {
     "slide_type": "slide"
    }
   },
   "source": [
    "#### 构建并训练决策树"
   ]
  },
  {
   "cell_type": "code",
   "execution_count": 164,
   "metadata": {
    "slideshow": {
     "slide_type": "fragment"
    }
   },
   "outputs": [],
   "source": [
    "rbdTree = tree.DecisionTreeClassifier(random_state=10)"
   ]
  },
  {
   "cell_type": "code",
   "execution_count": 280,
   "metadata": {
    "slideshow": {
     "slide_type": "fragment"
    }
   },
   "outputs": [
    {
     "data": {
      "text/plain": [
       "DecisionTreeClassifier(random_state=10)"
      ]
     },
     "execution_count": 280,
     "metadata": {},
     "output_type": "execute_result"
    }
   ],
   "source": [
    "rbdTree.fit(rbdTrain.loc[:,['mf','vola','val','close','low','high']],rbdTrain['y'])"
   ]
  },
  {
   "cell_type": "code",
   "execution_count": 281,
   "metadata": {
    "slideshow": {
     "slide_type": "fragment"
    }
   },
   "outputs": [
    {
     "data": {
      "text/plain": [
       "{'ccp_alpha': 0.0,\n",
       " 'class_weight': None,\n",
       " 'criterion': 'gini',\n",
       " 'max_depth': None,\n",
       " 'max_features': None,\n",
       " 'max_leaf_nodes': None,\n",
       " 'min_impurity_decrease': 0.0,\n",
       " 'min_impurity_split': None,\n",
       " 'min_samples_leaf': 1,\n",
       " 'min_samples_split': 2,\n",
       " 'min_weight_fraction_leaf': 0.0,\n",
       " 'random_state': 10,\n",
       " 'splitter': 'best'}"
      ]
     },
     "execution_count": 281,
     "metadata": {},
     "output_type": "execute_result"
    }
   ],
   "source": [
    "rbdTree.get_params()"
   ]
  },
  {
   "cell_type": "markdown",
   "metadata": {
    "slideshow": {
     "slide_type": "slide"
    }
   },
   "source": [
    "#### 训练集分类效果检验"
   ]
  },
  {
   "cell_type": "code",
   "execution_count": 283,
   "metadata": {
    "slideshow": {
     "slide_type": "fragment"
    }
   },
   "outputs": [],
   "source": [
    "rbdTrainYPre = rbdTree.predict(rbdTrain.loc[:,['mf','vola','val','close','low','high']])"
   ]
  },
  {
   "cell_type": "markdown",
   "metadata": {
    "slideshow": {
     "slide_type": "fragment"
    }
   },
   "source": [
    "##### 显示多个分类性能评估指标"
   ]
  },
  {
   "cell_type": "markdown",
   "metadata": {
    "slideshow": {
     "slide_type": "fragment"
    }
   },
   "source": [
    "```python\n",
    "sklearn.metrics.classification_report(y_true,y_pred,labels=None,target_names=None)\n",
    "```\n",
    "- `labels`：类别标签\n",
    "- `target_names`：自定义类别的名称，与`labels`的顺序一致\n",
    "- 显示每个类别的accuracy、recall、f1-score"
   ]
  },
  {
   "cell_type": "code",
   "execution_count": 284,
   "metadata": {
    "slideshow": {
     "slide_type": "fragment"
    }
   },
   "outputs": [
    {
     "name": "stdout",
     "output_type": "stream",
     "text": [
      "              precision    recall  f1-score   support\n",
      "\n",
      "        -1.0       1.00      1.00      1.00       554\n",
      "         1.0       1.00      1.00      1.00       614\n",
      "\n",
      "    accuracy                           1.00      1168\n",
      "   macro avg       1.00      1.00      1.00      1168\n",
      "weighted avg       1.00      1.00      1.00      1168\n",
      "\n"
     ]
    }
   ],
   "source": [
    "clrep = metrics.classification_report(rbdTrain['y'],rbdTrainYPre)\n",
    "print(clrep)"
   ]
  },
  {
   "cell_type": "markdown",
   "metadata": {
    "slideshow": {
     "slide_type": "slide"
    }
   },
   "source": [
    "#### 检验集分类效果检验"
   ]
  },
  {
   "cell_type": "code",
   "execution_count": 285,
   "metadata": {
    "slideshow": {
     "slide_type": "fragment"
    }
   },
   "outputs": [],
   "source": [
    "rbdTestYPre = rbdTree.predict(rbdTest.loc[:,['mf','vola','val','close','low','high']])"
   ]
  },
  {
   "cell_type": "code",
   "execution_count": 286,
   "metadata": {
    "slideshow": {
     "slide_type": "fragment"
    }
   },
   "outputs": [
    {
     "name": "stdout",
     "output_type": "stream",
     "text": [
      "              precision    recall  f1-score   support\n",
      "\n",
      "        -1.0       0.46      0.78      0.58       232\n",
      "         1.0       0.51      0.20      0.29       269\n",
      "\n",
      "    accuracy                           0.47       501\n",
      "   macro avg       0.49      0.49      0.43       501\n",
      "weighted avg       0.49      0.47      0.42       501\n",
      "\n"
     ]
    }
   ],
   "source": [
    "clrepTest = metrics.classification_report(rbdTest['y'],rbdTestYPre)\n",
    "print(clrepTest)"
   ]
  },
  {
   "cell_type": "markdown",
   "metadata": {
    "slideshow": {
     "slide_type": "slide"
    }
   },
   "source": [
    "## 随机森林（Random Forest）"
   ]
  },
  {
   "cell_type": "markdown",
   "metadata": {
    "slideshow": {
     "slide_type": "fragment"
    }
   },
   "source": [
    "- 属于一种集成学习（ensemble learning）方法\n",
    "- 组合多个决策树，通过投票的方式确定样本所属的类别，使得整体模型在抑止过度拟合的同时，获得较好的精确度"
   ]
  },
  {
   "cell_type": "markdown",
   "metadata": {
    "slideshow": {
     "slide_type": "slide"
    }
   },
   "source": [
    "<dl class=\"row alert-danger\">\n",
    "    <dt class=\"col-md-3\">集成学习（ensemble learning）</dt>\n",
    "    <dd class=\"col-md-9\">通过构建并结合多个分类器来完成学习任务。</dd>\n",
    "</dl>"
   ]
  },
  {
   "cell_type": "markdown",
   "metadata": {
    "slideshow": {
     "slide_type": "fragment"
    }
   },
   "source": [
    "- 典型方法\n",
    "    - 装袋算法（bagging）与随机森林（random forest）\n",
    "    - 提升算法（boosting）：将弱分类器提升为强分类器的算法"
   ]
  },
  {
   "cell_type": "markdown",
   "metadata": {
    "slideshow": {
     "slide_type": "slide"
    }
   },
   "source": [
    "### 装袋"
   ]
  },
  {
   "cell_type": "markdown",
   "metadata": {
    "slideshow": {
     "slide_type": "fragment"
    }
   },
   "source": [
    "<dl class=\"row alert-info\">\n",
    "    <dt class=\"col-md-3\">自助法（bootstraping）</dt>\n",
    "    <dd class=\"col-md-9\">有放回的随机采样方法。</dd>\n",
    "</dl>"
   ]
  },
  {
   "cell_type": "markdown",
   "metadata": {
    "slideshow": {
     "slide_type": "fragment"
    }
   },
   "source": [
    "- 原理：如果$N$个独立同分布（$iid$）的样本，每个样本的方差为$\\sigma^2$，那么样本均值的方差为$\\frac{\\sigma^2}{N}$"
   ]
  },
  {
   "cell_type": "markdown",
   "metadata": {
    "slideshow": {
     "slide_type": "fragment"
    }
   },
   "source": [
    "- 装袋过程\n",
    "    1. 通过自助采样，生成$B$个样本；\n",
    "    2. 在每个样本上训练一个分类器$\\hat{f}_b(\\boldsymbol{\\rm x})$；\n",
    "    3. 将各个分类器合成得到最终分类器"
   ]
  },
  {
   "cell_type": "markdown",
   "metadata": {
    "slideshow": {
     "slide_type": "slide"
    }
   },
   "source": [
    "- 随机森林属于**特征装袋**（feature bagging），降低不同决策树之间的相关性"
   ]
  },
  {
   "cell_type": "markdown",
   "metadata": {
    "slideshow": {
     "slide_type": "fragment"
    }
   },
   "source": [
    "<center><img src=\"./img/dataMining/randomForest.jpg\" width=100%></center>"
   ]
  },
  {
   "cell_type": "markdown",
   "metadata": {
    "slideshow": {
     "slide_type": "slide"
    }
   },
   "source": [
    "### 建立随机森林模型"
   ]
  },
  {
   "cell_type": "markdown",
   "metadata": {
    "slideshow": {
     "slide_type": "fragment"
    }
   },
   "source": [
    "```python\n",
    "from sklearn import ensemble\n",
    "ensemble.RandomForestClassifier()\n",
    "```"
   ]
  },
  {
   "cell_type": "code",
   "execution_count": 343,
   "metadata": {
    "slideshow": {
     "slide_type": "fragment"
    }
   },
   "outputs": [],
   "source": [
    "rbRandTree = ensemble.RandomForestClassifier(n_estimators=3000,random_state=10,ccp_alpha=0.001)"
   ]
  },
  {
   "cell_type": "code",
   "execution_count": 344,
   "metadata": {
    "slideshow": {
     "slide_type": "fragment"
    }
   },
   "outputs": [
    {
     "data": {
      "text/plain": [
       "RandomForestClassifier(ccp_alpha=0.001, n_estimators=3000, random_state=10)"
      ]
     },
     "execution_count": 344,
     "metadata": {},
     "output_type": "execute_result"
    },
    {
     "data": {
      "text/plain": [
       "{'bootstrap': True,\n",
       " 'ccp_alpha': 0.001,\n",
       " 'class_weight': None,\n",
       " 'criterion': 'gini',\n",
       " 'max_depth': None,\n",
       " 'max_features': 'auto',\n",
       " 'max_leaf_nodes': None,\n",
       " 'max_samples': None,\n",
       " 'min_impurity_decrease': 0.0,\n",
       " 'min_impurity_split': None,\n",
       " 'min_samples_leaf': 1,\n",
       " 'min_samples_split': 2,\n",
       " 'min_weight_fraction_leaf': 0.0,\n",
       " 'n_estimators': 3000,\n",
       " 'n_jobs': None,\n",
       " 'oob_score': False,\n",
       " 'random_state': 10,\n",
       " 'verbose': 0,\n",
       " 'warm_start': False}"
      ]
     },
     "execution_count": 344,
     "metadata": {},
     "output_type": "execute_result"
    }
   ],
   "source": [
    "rbRandTree.fit(rbdTrain.loc[:,['mf','vola','val','close','low','high']],rbdTrain['y'])\n",
    "rbRandTree.get_params()"
   ]
  },
  {
   "cell_type": "markdown",
   "metadata": {
    "slideshow": {
     "slide_type": "slide"
    }
   },
   "source": [
    "### 训练集分类效果检验"
   ]
  },
  {
   "cell_type": "code",
   "execution_count": 345,
   "metadata": {
    "slideshow": {
     "slide_type": "fragment"
    }
   },
   "outputs": [],
   "source": [
    "rbRandTrainYPre = rbRandTree.predict(rbdTrain.loc[:,['mf','vola','val','close','low','high']])"
   ]
  },
  {
   "cell_type": "code",
   "execution_count": 346,
   "metadata": {
    "slideshow": {
     "slide_type": "fragment"
    }
   },
   "outputs": [
    {
     "name": "stdout",
     "output_type": "stream",
     "text": [
      "              precision    recall  f1-score   support\n",
      "\n",
      "        -1.0       1.00      1.00      1.00       554\n",
      "         1.0       1.00      1.00      1.00       614\n",
      "\n",
      "    accuracy                           1.00      1168\n",
      "   macro avg       1.00      1.00      1.00      1168\n",
      "weighted avg       1.00      1.00      1.00      1168\n",
      "\n"
     ]
    }
   ],
   "source": [
    "print(metrics.classification_report(rbdTrain['y'],rbRandTrainYPre))"
   ]
  },
  {
   "cell_type": "markdown",
   "metadata": {
    "slideshow": {
     "slide_type": "slide"
    }
   },
   "source": [
    "### 检验集分类效果检验"
   ]
  },
  {
   "cell_type": "code",
   "execution_count": 347,
   "metadata": {
    "slideshow": {
     "slide_type": "fragment"
    }
   },
   "outputs": [],
   "source": [
    "rbRandTestYPre = rbRandTree.predict(rbdTest.loc[:,['mf','vola','val','close','low','high']])"
   ]
  },
  {
   "cell_type": "markdown",
   "metadata": {
    "slideshow": {
     "slide_type": "slide"
    }
   },
   "source": [
    "#### 与基础决策树对比"
   ]
  },
  {
   "cell_type": "code",
   "execution_count": 348,
   "metadata": {
    "slideshow": {
     "slide_type": "fragment"
    }
   },
   "outputs": [
    {
     "name": "stdout",
     "output_type": "stream",
     "text": [
      "              precision    recall  f1-score   support\n",
      "\n",
      "        -1.0       0.47      0.88      0.61       232\n",
      "         1.0       0.59      0.15      0.24       269\n",
      "\n",
      "    accuracy                           0.49       501\n",
      "   macro avg       0.53      0.51      0.43       501\n",
      "weighted avg       0.53      0.49      0.41       501\n",
      "\n"
     ]
    }
   ],
   "source": [
    "print(metrics.classification_report(rbdTest['y'],rbRandTestYPre))"
   ]
  },
  {
   "cell_type": "code",
   "execution_count": 349,
   "metadata": {
    "slideshow": {
     "slide_type": "fragment"
    }
   },
   "outputs": [
    {
     "name": "stdout",
     "output_type": "stream",
     "text": [
      "              precision    recall  f1-score   support\n",
      "\n",
      "        -1.0       0.46      0.78      0.58       232\n",
      "         1.0       0.51      0.20      0.29       269\n",
      "\n",
      "    accuracy                           0.47       501\n",
      "   macro avg       0.49      0.49      0.43       501\n",
      "weighted avg       0.49      0.47      0.42       501\n",
      "\n"
     ]
    }
   ],
   "source": [
    "print(metrics.classification_report(rbdTest['y'],rbdTree.predict(rbdTest.loc[:,['mf','vola','val','close','low','high']])))"
   ]
  },
  {
   "cell_type": "markdown",
   "metadata": {
    "slideshow": {
     "slide_type": "slide"
    }
   },
   "source": [
    "## AdaBoost"
   ]
  },
  {
   "cell_type": "markdown",
   "metadata": {
    "slideshow": {
     "slide_type": "fragment"
    }
   },
   "source": [
    "- 全称adaptive boosting"
   ]
  },
  {
   "cell_type": "markdown",
   "metadata": {
    "slideshow": {
     "slide_type": "fragment"
    }
   },
   "source": [
    "- 每个样本被赋予一个权重，形成权重向量$\\mathbf{D}$"
   ]
  },
  {
   "cell_type": "markdown",
   "metadata": {
    "slideshow": {
     "slide_type": "fragment"
    }
   },
   "source": [
    "- 用一个弱分类器在数据集上训练，计算误差$\\varepsilon$"
   ]
  },
  {
   "cell_type": "markdown",
   "metadata": {
    "slideshow": {
     "slide_type": "fragment"
    }
   },
   "source": [
    "$$\n",
    "\\varepsilon = \\frac{\\text{错误分类的样本数量}}{\\text{样本总数量}}\n",
    "$$"
   ]
  },
  {
   "cell_type": "markdown",
   "metadata": {
    "slideshow": {
     "slide_type": "fragment"
    }
   },
   "source": [
    "定义$\\alpha$\n",
    "\n",
    "$$\n",
    "\\alpha = \\frac{1}{2}\\ln(\\frac{1-\\varepsilon}{\\varepsilon})\n",
    "$$"
   ]
  },
  {
   "cell_type": "markdown",
   "metadata": {
    "slideshow": {
     "slide_type": "fragment"
    }
   },
   "source": [
    "- 用该弱分类器在数据集上重新训练，但是，每个样本的权重被调整，降低预测正确的样本权重，增大预测错误的样本权重"
   ]
  },
  {
   "cell_type": "markdown",
   "metadata": {
    "slideshow": {
     "slide_type": "fragment"
    }
   },
   "source": [
    "\\begin{split}\n",
    "D_i^{(t+1)}=\\frac{D_i^{(t)}e^{-\\alpha}}{sum(\\mathbf{D})}, \\quad 预测正确\\\\\n",
    "D_i^{(t+1)}=\\frac{D_i^{(t)}e^{\\alpha}}{sum(\\mathbf{D})}, \\quad 预测错误\n",
    "\\end{split}"
   ]
  },
  {
   "cell_type": "markdown",
   "metadata": {
    "slideshow": {
     "slide_type": "fragment"
    }
   },
   "source": [
    "- 上述过程重复进行，直到误差为0，或者弱分类器的数量达到预设值"
   ]
  },
  {
   "cell_type": "markdown",
   "metadata": {
    "slideshow": {
     "slide_type": "slide"
    }
   },
   "source": [
    "- Adaboosting流程示意图"
   ]
  },
  {
   "cell_type": "markdown",
   "metadata": {
    "slideshow": {
     "slide_type": "fragment"
    }
   },
   "source": [
    "<center><img src=\"./img/models/adaboosting.png\" width=100%></center>"
   ]
  },
  {
   "cell_type": "markdown",
   "metadata": {
    "slideshow": {
     "slide_type": "slide"
    }
   },
   "source": [
    "```python\n",
    "from sklearn.ensemble import AdaBoostClassifier\n",
    "\n",
    "AdaBoostClassifier(base_estimator=None, *, n_estimators=50, learning_rate=1.0, algorithm='SAMME.R', random_state=None)\n",
    "```\n",
    "\n",
    "- `base_estimator`：基础分类器，默认为深度为1的决策树\n",
    "- `n_estimators`：停止训练的最大分类器数量"
   ]
  },
  {
   "cell_type": "code",
   "execution_count": 350,
   "metadata": {
    "slideshow": {
     "slide_type": "fragment"
    }
   },
   "outputs": [],
   "source": [
    "# 建立adaboosting模型\n",
    "ada = ensemble.AdaBoostClassifier(n_estimators=3000,learning_rate=0.09,random_state=12)"
   ]
  },
  {
   "cell_type": "code",
   "execution_count": 351,
   "metadata": {
    "slideshow": {
     "slide_type": "fragment"
    }
   },
   "outputs": [
    {
     "data": {
      "text/plain": [
       "{'algorithm': 'SAMME.R',\n",
       " 'base_estimator': None,\n",
       " 'learning_rate': 0.09,\n",
       " 'n_estimators': 3000,\n",
       " 'random_state': 12}"
      ]
     },
     "execution_count": 351,
     "metadata": {},
     "output_type": "execute_result"
    }
   ],
   "source": [
    "# 训练模型\n",
    "\n",
    "adaClf = ada.fit(rbdTrain.loc[:,['mf','vola','val','close','low','high']],rbdTrain['y'])\n",
    "adaClf.get_params()"
   ]
  },
  {
   "cell_type": "code",
   "execution_count": 352,
   "metadata": {
    "slideshow": {
     "slide_type": "slide"
    }
   },
   "outputs": [],
   "source": [
    "# 训练集上分类性能\n",
    "rbAdaTrainYPre = adaClf.predict(rbdTrain.loc[:,['mf','vola','val','close','low','high']])"
   ]
  },
  {
   "cell_type": "code",
   "execution_count": 353,
   "metadata": {
    "slideshow": {
     "slide_type": "fragment"
    }
   },
   "outputs": [
    {
     "name": "stdout",
     "output_type": "stream",
     "text": [
      "              precision    recall  f1-score   support\n",
      "\n",
      "        -1.0       0.73      0.62      0.67       554\n",
      "         1.0       0.70      0.79      0.74       614\n",
      "\n",
      "    accuracy                           0.71      1168\n",
      "   macro avg       0.71      0.70      0.70      1168\n",
      "weighted avg       0.71      0.71      0.71      1168\n",
      "\n"
     ]
    }
   ],
   "source": [
    "print(metrics.classification_report(rbdTrain['y'],rbAdaTrainYPre))"
   ]
  },
  {
   "cell_type": "code",
   "execution_count": 354,
   "metadata": {
    "slideshow": {
     "slide_type": "fragment"
    }
   },
   "outputs": [],
   "source": [
    "# 检验集上分类性能\n",
    "rbAdaTestYPre = adaClf.predict(rbdTest.loc[:,['mf','vola','val','close','low','high']])"
   ]
  },
  {
   "cell_type": "code",
   "execution_count": 355,
   "metadata": {
    "slideshow": {
     "slide_type": "fragment"
    }
   },
   "outputs": [
    {
     "name": "stdout",
     "output_type": "stream",
     "text": [
      "              precision    recall  f1-score   support\n",
      "\n",
      "        -1.0       0.46      0.81      0.59       232\n",
      "         1.0       0.54      0.19      0.28       269\n",
      "\n",
      "    accuracy                           0.48       501\n",
      "   macro avg       0.50      0.50      0.44       501\n",
      "weighted avg       0.51      0.48      0.43       501\n",
      "\n"
     ]
    }
   ],
   "source": [
    "print(metrics.classification_report(rbdTest['y'],rbAdaTestYPre))"
   ]
  },
  {
   "cell_type": "markdown",
   "metadata": {
    "slideshow": {
     "slide_type": "slide"
    }
   },
   "source": [
    "## 人工神经网络"
   ]
  },
  {
   "cell_type": "markdown",
   "metadata": {
    "cell_style": "split",
    "slideshow": {
     "slide_type": "fragment"
    }
   },
   "source": [
    "- 人工神经网络是（Artificial Neural Network, ANN）一种模仿生物神经网络学习模式的机器学习模型"
   ]
  },
  {
   "cell_type": "markdown",
   "metadata": {
    "cell_style": "split",
    "slideshow": {
     "slide_type": "fragment"
    }
   },
   "source": [
    "- 大脑主要由神经元（neuron）组成"
   ]
  },
  {
   "cell_type": "markdown",
   "metadata": {
    "slideshow": {
     "slide_type": "slide"
    }
   },
   "source": [
    "### 神经元的结构"
   ]
  },
  {
   "cell_type": "markdown",
   "metadata": {
    "cell_style": "split",
    "slideshow": {
     "slide_type": "fragment"
    }
   },
   "source": [
    "<center><img src=\"../data-mining/img/ann/neuron.jpg\" width=40%></center>"
   ]
  },
  {
   "cell_type": "markdown",
   "metadata": {
    "cell_style": "split",
    "slideshow": {
     "slide_type": "fragment"
    }
   },
   "source": [
    "- 神经元主要由树突（dendrite）、轴突（axon）和轴突末梢（axon terminals）组成\n",
    "    - 树突：一个神经元具有多个树突，用于接受传入的信息\n",
    "    - 轴突：一个神经元只有一个轴突，负责传递由该神经元生成的信息\n",
    "    - 轴突末梢：轴突尾端，与其他神经元的树突连接，传递信息"
   ]
  },
  {
   "cell_type": "markdown",
   "metadata": {
    "slideshow": {
     "slide_type": "slide"
    }
   },
   "source": [
    "<center><img src=\"../data-mining/img/ann/neuron_flow.jpg\" width=80%></center>"
   ]
  },
  {
   "cell_type": "markdown",
   "metadata": {
    "slideshow": {
     "slide_type": "fragment"
    }
   },
   "source": [
    "- 当细胞体内累积的接收信号**超过**一定的**阈值**后，产生输出信号，通过轴突传递"
   ]
  },
  {
   "cell_type": "markdown",
   "metadata": {
    "cell_style": "center",
    "slideshow": {
     "slide_type": "slide"
    }
   },
   "source": [
    "- 突触（synapse）：神经元的轴突末梢与其他神经元的树突产生连接的连接点"
   ]
  },
  {
   "cell_type": "markdown",
   "metadata": {
    "slideshow": {
     "slide_type": "fragment"
    }
   },
   "source": [
    "<center><img src=\"../data-mining/img/ann/neuron_connect.jpg\" width=70%></center>"
   ]
  },
  {
   "cell_type": "markdown",
   "metadata": {
    "slideshow": {
     "slide_type": "fragment"
    }
   },
   "source": [
    "- 大脑通过在同一个脉冲反复刺激下改变神经元之间的突触的连接强度进行学习"
   ]
  },
  {
   "cell_type": "markdown",
   "metadata": {
    "slideshow": {
     "slide_type": "slide"
    }
   },
   "source": [
    "### 感知器"
   ]
  },
  {
   "cell_type": "markdown",
   "metadata": {
    "slideshow": {
     "slide_type": "fragment"
    }
   },
   "source": [
    "- 感知器（perceptron）：一个包含输入，输出与计算功能的神经元模型"
   ]
  },
  {
   "cell_type": "markdown",
   "metadata": {
    "slideshow": {
     "slide_type": "slide"
    }
   },
   "source": [
    "#### 感知器图示"
   ]
  },
  {
   "cell_type": "markdown",
   "metadata": {
    "slideshow": {
     "slide_type": "fragment"
    }
   },
   "source": [
    "<center><img src=\"../data-mining/img/ann/perceptron_neuron.png\" width=80%></center>"
   ]
  },
  {
   "cell_type": "markdown",
   "metadata": {
    "slideshow": {
     "slide_type": "fragment"
    }
   },
   "source": [
    "- **输入**相当于神经元的**树突**"
   ]
  },
  {
   "cell_type": "markdown",
   "metadata": {
    "slideshow": {
     "slide_type": "fragment"
    }
   },
   "source": [
    "- **计算和输出**相当于**轴突**\n",
    "    + 加权求和相当于神经元中接收信号的累积\n",
    "    + 非线性变化相当于产生输出信号的阈值函数，被称作**激活函数**"
   ]
  },
  {
   "cell_type": "markdown",
   "metadata": {
    "slideshow": {
     "slide_type": "fragment"
    }
   },
   "source": [
    "- 输入与输出之间有一条**加权链接**，相当于**突触**"
   ]
  },
  {
   "cell_type": "markdown",
   "metadata": {
    "slideshow": {
     "slide_type": "fragment"
    }
   },
   "source": [
    "> 链接是神经元中最重要的部分，一个神经网络的训练算法就是不断**调整链接的权重**，以使得整个网络的预测效果最好"
   ]
  },
  {
   "cell_type": "markdown",
   "metadata": {
    "slideshow": {
     "slide_type": "subslide"
    }
   },
   "source": [
    "#### 感知器符号表示"
   ]
  },
  {
   "cell_type": "markdown",
   "metadata": {
    "slideshow": {
     "slide_type": "fragment"
    }
   },
   "source": [
    "<center><img src=\"../data-mining/img/ann/perceptron_symbol.png\" width=80%></center>"
   ]
  },
  {
   "cell_type": "markdown",
   "metadata": {
    "slideshow": {
     "slide_type": "fragment"
    }
   },
   "source": [
    "- 将输入求和函数与非线性变换函数合并到一个圆圈里，代表感知器的内部计算"
   ]
  },
  {
   "cell_type": "markdown",
   "metadata": {
    "slideshow": {
     "slide_type": "fragment"
    }
   },
   "source": [
    "- 把输入$x$与输出$z$写到连接线的上方，便于绘制复杂的网络"
   ]
  },
  {
   "cell_type": "markdown",
   "metadata": {
    "slideshow": {
     "slide_type": "fragment"
    }
   },
   "source": [
    "- 一个感知器可以引出多个代表输出的有向箭头，但具有**相同**的值"
   ]
  },
  {
   "cell_type": "markdown",
   "metadata": {
    "slideshow": {
     "slide_type": "slide"
    }
   },
   "source": [
    "#### 激活函数"
   ]
  },
  {
   "cell_type": "markdown",
   "metadata": {
    "slideshow": {
     "slide_type": "fragment"
    }
   },
   "source": [
    "![](./img/ann/activeFun.svg)"
   ]
  },
  {
   "cell_type": "markdown",
   "metadata": {
    "slideshow": {
     "slide_type": "fragment"
    }
   },
   "source": [
    "- 符号函数：$y=sign(x)$\n",
    "$$\n",
    "y=\\begin{cases}\n",
    "1, &\\text{如果}x>0\\\\\n",
    "-1, &\\text{如果}x\\le 0\n",
    "\\end{cases}\n",
    "$$"
   ]
  },
  {
   "cell_type": "markdown",
   "metadata": {
    "slideshow": {
     "slide_type": "fragment"
    }
   },
   "source": [
    "- logistic函数\n",
    "$$\n",
    "y=\\frac{1}{1+e^{-x}}\n",
    "$$"
   ]
  },
  {
   "cell_type": "markdown",
   "metadata": {
    "slideshow": {
     "slide_type": "fragment"
    }
   },
   "source": [
    "- 双曲正切函数\n",
    "$$\n",
    "y=\\frac{e^{2x}-1}{e^{2x}+1}\n",
    "$$"
   ]
  },
  {
   "cell_type": "markdown",
   "metadata": {
    "slideshow": {
     "slide_type": "fragment"
    }
   },
   "source": [
    "- 激活函数的目的\n",
    "    + 把每一层的输入数据限定在一个可比的范围内\n",
    "    + 非线性激活函数使得人工神经网络几乎可以拟合任意函数"
   ]
  },
  {
   "cell_type": "markdown",
   "metadata": {
    "slideshow": {
     "slide_type": "slide"
    }
   },
   "source": [
    "感知器的组成要素：\n",
    "- 输入\n",
    "- 权重\n",
    "- 激活函数\n",
    "- 输出"
   ]
  },
  {
   "cell_type": "markdown",
   "metadata": {
    "slideshow": {
     "slide_type": "slide"
    }
   },
   "source": [
    "### 多层人工神经网络"
   ]
  },
  {
   "cell_type": "markdown",
   "metadata": {
    "slideshow": {
     "slide_type": "fragment"
    }
   },
   "source": [
    "- 多层人工神经网络由**输入层**、**输出层**、**隐藏层**构成"
   ]
  },
  {
   "cell_type": "markdown",
   "metadata": {
    "slideshow": {
     "slide_type": "fragment"
    }
   },
   "source": [
    "- 多层神经网络的结构\n",
    "<center><img src=\"../data-mining/img/ann/ann_structure.svg\" width=80%></center>"
   ]
  },
  {
   "cell_type": "markdown",
   "metadata": {
    "slideshow": {
     "slide_type": "slide"
    }
   },
   "source": [
    "#### 输入层"
   ]
  },
  {
   "cell_type": "markdown",
   "metadata": {
    "slideshow": {
     "slide_type": "fragment"
    }
   },
   "source": [
    "- 输入层的每个神经元与一个属性相连\n",
    "- 作用是将属性值映射到合理的范围，例如$[-1,1]$"
   ]
  },
  {
   "cell_type": "markdown",
   "metadata": {
    "slideshow": {
     "slide_type": "slide"
    }
   },
   "source": [
    "#### **隐藏层**（hidden layer)"
   ]
  },
  {
   "cell_type": "markdown",
   "metadata": {
    "slideshow": {
     "slide_type": "fragment"
    }
   },
   "source": [
    "- 输入层与输出层之间包含的中间层\n",
    "    + 引入隐藏层使得人工神经网络，相对于简单的感知器，能够处理更加复杂的分类、预测问题"
   ]
  },
  {
   "cell_type": "markdown",
   "metadata": {
    "slideshow": {
     "slide_type": "fragment"
    }
   },
   "source": [
    "- 隐藏层中的每个神经元通常与输入层的所有神经元相连"
   ]
  },
  {
   "cell_type": "markdown",
   "metadata": {
    "slideshow": {
     "slide_type": "fragment"
    }
   },
   "source": [
    "- 可以有任意多个隐藏层，但是一般一个隐藏层就可以"
   ]
  },
  {
   "cell_type": "markdown",
   "metadata": {
    "slideshow": {
     "slide_type": "fragment"
    }
   },
   "source": [
    "- 隐藏层越宽（包含更多的神经元），模式识别的能力越强，但是越容易出现过拟合，因此隐藏层**不应当太宽**"
   ]
  },
  {
   "cell_type": "markdown",
   "metadata": {
    "slideshow": {
     "slide_type": "slide"
    }
   },
   "source": [
    "#### 输出层"
   ]
  },
  {
   "cell_type": "markdown",
   "metadata": {
    "slideshow": {
     "slide_type": "fragment"
    }
   },
   "source": [
    "- 输出层的每个神经元与隐藏层的所有神经元相连"
   ]
  },
  {
   "cell_type": "markdown",
   "metadata": {
    "slideshow": {
     "slide_type": "fragment"
    }
   },
   "source": [
    "- 输出层的作用：将神经网络计算的结果转换为能够理解的结果"
   ]
  },
  {
   "cell_type": "markdown",
   "metadata": {
    "slideshow": {
     "slide_type": "fragment"
    }
   },
   "source": [
    "- 输出层一般有一个神经元（对应一个计算值），但也可以有多个神经元"
   ]
  },
  {
   "cell_type": "markdown",
   "metadata": {
    "slideshow": {
     "slide_type": "slide"
    }
   },
   "source": [
    "### 人工神经网络示例"
   ]
  },
  {
   "cell_type": "markdown",
   "metadata": {
    "slideshow": {
     "slide_type": "fragment"
    }
   },
   "source": [
    "- 根据房屋的特征，估计房屋的价值"
   ]
  },
  {
   "cell_type": "markdown",
   "metadata": {
    "slideshow": {
     "slide_type": "fragment"
    }
   },
   "source": [
    "特征|取值范围\n",
    "---|---\n",
    "住宅单元数目|整数，$[1,3]$\n",
    "建造年代|整数，$[1960,2004]$\n",
    "取暖类型|A或B\n",
    "总居住面积|浮点数，$[30.00,250.00]$\n",
    "车库可存车数|整数，$[0,2]$\n",
    "售价(万)|整数，$[30,1000]$"
   ]
  },
  {
   "cell_type": "markdown",
   "metadata": {
    "slideshow": {
     "slide_type": "slide"
    }
   },
   "source": [
    "- 建立的三层神经网络模型（所有数值是虚拟，为了展示）\n",
    "- 假设有一个隐藏层，包含两个隐藏神经元\n",
    "<center><img src=\"../data-mining/img/ann/house_ann.svg\" width=80%></center>"
   ]
  },
  {
   "cell_type": "markdown",
   "metadata": {
    "slideshow": {
     "slide_type": "slide"
    }
   },
   "source": [
    "### ANN学习的设计问题"
   ]
  },
  {
   "cell_type": "markdown",
   "metadata": {
    "slideshow": {
     "slide_type": "fragment"
    }
   },
   "source": [
    "#### 输入层的神经元数目"
   ]
  },
  {
   "cell_type": "markdown",
   "metadata": {
    "slideshow": {
     "slide_type": "fragment"
    }
   },
   "source": [
    "- 连续变量对应一个输入神经元"
   ]
  },
  {
   "cell_type": "markdown",
   "metadata": {
    "slideshow": {
     "slide_type": "fragment"
    }
   },
   "source": [
    "- 二元输入变量对应一个输入神经元"
   ]
  },
  {
   "cell_type": "markdown",
   "metadata": {
    "slideshow": {
     "slide_type": "fragment"
    }
   },
   "source": [
    "- 分类变量，有$k$个值\n",
    "    + 每一个分类值对应一个输入神经元， `one-hot`编码"
   ]
  },
  {
   "cell_type": "markdown",
   "metadata": {
    "slideshow": {
     "slide_type": "slide"
    }
   },
   "source": [
    "#### 输出层的神经元数目"
   ]
  },
  {
   "cell_type": "markdown",
   "metadata": {
    "slideshow": {
     "slide_type": "fragment"
    }
   },
   "source": [
    "- 二元属性类别，对应一个输出神经元"
   ]
  },
  {
   "cell_type": "markdown",
   "metadata": {
    "slideshow": {
     "slide_type": "fragment"
    }
   },
   "source": [
    "- $k-$类属性类别，对应$k$个输出神经元"
   ]
  },
  {
   "cell_type": "markdown",
   "metadata": {
    "slideshow": {
     "slide_type": "slide"
    }
   },
   "source": [
    "#### 隐藏层的数量"
   ]
  },
  {
   "cell_type": "markdown",
   "metadata": {
    "slideshow": {
     "slide_type": "fragment"
    }
   },
   "source": [
    "- 从1、2、3个神经元开始实验，如果构建的神经网络预测效果不好，逐步增加隐藏层中神经元的数目"
   ]
  },
  {
   "cell_type": "markdown",
   "metadata": {
    "slideshow": {
     "slide_type": "fragment"
    }
   },
   "source": [
    "- 如果构造神经网络用于**分类**，那么从**一个类别**对应**一个隐藏层的神经元**开始"
   ]
  },
  {
   "cell_type": "markdown",
   "metadata": {
    "slideshow": {
     "slide_type": "slide"
    }
   },
   "source": [
    "### 建立神经网络模型"
   ]
  },
  {
   "cell_type": "markdown",
   "metadata": {
    "slideshow": {
     "slide_type": "fragment"
    }
   },
   "source": [
    "```python\n",
    "from sklearn.neural_network import MLPClassifier\n",
    "```"
   ]
  },
  {
   "cell_type": "markdown",
   "metadata": {
    "slideshow": {
     "slide_type": "fragment"
    }
   },
   "source": [
    "```python\n",
    "MLPClassifier(hidden_layer_sizes=(100, ), activation='relu', solver='adam', learning_rate='constant')\n",
    "```"
   ]
  },
  {
   "cell_type": "markdown",
   "metadata": {
    "slideshow": {
     "slide_type": "fragment"
    }
   },
   "source": [
    "- `hidden_layer_sizes`：`tuple`类型，隐藏层设置，元组的元素个数代表隐藏层的数量，每一个元素值代表对应隐藏层中的神经元数量\n",
    "    + 例如，`(100,50)`表示有2个隐藏层，第一个隐藏层含有100个神经元，第二个隐藏层含有50个神经元"
   ]
  },
  {
   "cell_type": "markdown",
   "metadata": {
    "slideshow": {
     "slide_type": "fragment"
    }
   },
   "source": [
    "- `activation`：`str`类型，激活函数，可选的类型包括，\n",
    "    + `identity`：$f(x)=x$\n",
    "    + `logistic`：$f(x)=\\frac{1}{1+e^{-x}}$\n",
    "    + `tanh`：$f(x)=\\frac{e^{2x}-1}{e^{2x}+1}$\n",
    "    + `relu`：$f(x)=\\max(0,x)$，修正线性，默认值"
   ]
  },
  {
   "cell_type": "markdown",
   "metadata": {
    "slideshow": {
     "slide_type": "fragment"
    }
   },
   "source": [
    "- `solver`：`str`类型，权重优化的算法，可选的值包括，\n",
    "    + `lbfgs`：对于小规模数据集效果好\n",
    "    + `adam`：对于大规模数据集（训练集包含的样本数量达到几千或者上万条）效果好，默认值"
   ]
  },
  {
   "cell_type": "markdown",
   "metadata": {
    "slideshow": {
     "slide_type": "fragment"
    }
   },
   "source": [
    "- `learning_rate`：`str`类型，学习率\n",
    "    + `constant`：恒定学习率，默认值\n",
    "    + `invscaling`：逐步降低学习率"
   ]
  },
  {
   "cell_type": "markdown",
   "metadata": {
    "slideshow": {
     "slide_type": "slide"
    }
   },
   "source": [
    "#### 绘制神经网络图形"
   ]
  },
  {
   "cell_type": "markdown",
   "metadata": {
    "slideshow": {
     "slide_type": "fragment"
    }
   },
   "source": [
    "- 在线绘图地址\n",
    "\n",
    "[https://alexlenail.me/NN-SVG/index.html](https://alexlenail.me/NN-SVG/index.html)"
   ]
  },
  {
   "cell_type": "markdown",
   "metadata": {
    "slideshow": {
     "slide_type": "slide"
    }
   },
   "source": [
    "### 利用人工神经网络分类收益率"
   ]
  },
  {
   "cell_type": "markdown",
   "metadata": {
    "slideshow": {
     "slide_type": "fragment"
    }
   },
   "source": [
    "#### 建立人工神经网络模型"
   ]
  },
  {
   "cell_type": "code",
   "execution_count": 313,
   "metadata": {
    "slideshow": {
     "slide_type": "fragment"
    }
   },
   "outputs": [],
   "source": [
    "mlp = neural_network.MLPClassifier(hidden_layer_sizes=(256,128),activation='relu',solver='adam',learning_rate='adaptive',random_state=10,batch_size=50,shuffle=False)"
   ]
  },
  {
   "cell_type": "code",
   "execution_count": 230,
   "metadata": {
    "slideshow": {
     "slide_type": "fragment"
    }
   },
   "outputs": [
    {
     "data": {
      "text/plain": [
       "{'activation': 'relu',\n",
       " 'alpha': 0.0001,\n",
       " 'batch_size': 50,\n",
       " 'beta_1': 0.9,\n",
       " 'beta_2': 0.999,\n",
       " 'early_stopping': False,\n",
       " 'epsilon': 1e-08,\n",
       " 'hidden_layer_sizes': (100,),\n",
       " 'learning_rate': 'invscaling',\n",
       " 'learning_rate_init': 0.001,\n",
       " 'max_fun': 15000,\n",
       " 'max_iter': 200,\n",
       " 'momentum': 0.9,\n",
       " 'n_iter_no_change': 10,\n",
       " 'nesterovs_momentum': True,\n",
       " 'power_t': 0.5,\n",
       " 'random_state': 10,\n",
       " 'shuffle': True,\n",
       " 'solver': 'adam',\n",
       " 'tol': 0.0001,\n",
       " 'validation_fraction': 0.1,\n",
       " 'verbose': False,\n",
       " 'warm_start': False}"
      ]
     },
     "execution_count": 230,
     "metadata": {},
     "output_type": "execute_result"
    }
   ],
   "source": [
    "mlp.get_params()"
   ]
  },
  {
   "cell_type": "markdown",
   "metadata": {
    "slideshow": {
     "slide_type": "fragment"
    }
   },
   "source": [
    "#### 标准化预测属性"
   ]
  },
  {
   "cell_type": "markdown",
   "metadata": {
    "slideshow": {
     "slide_type": "fragment"
    }
   },
   "source": [
    "> 神经网络在训练之前需要**标准化预测属性**，以降低各个属性之间值域差异带来的分类性能削弱的问题"
   ]
  },
  {
   "cell_type": "code",
   "execution_count": 297,
   "metadata": {
    "slideshow": {
     "slide_type": "fragment"
    }
   },
   "outputs": [],
   "source": [
    "# 建立标准化模型\n",
    "minMaxScaler = preprocessing.MinMaxScaler()"
   ]
  },
  {
   "cell_type": "code",
   "execution_count": 314,
   "metadata": {
    "slideshow": {
     "slide_type": "fragment"
    }
   },
   "outputs": [
    {
     "data": {
      "text/plain": [
       "MinMaxScaler()"
      ]
     },
     "execution_count": 314,
     "metadata": {},
     "output_type": "execute_result"
    }
   ],
   "source": [
    "# 训练模型\n",
    "minMaxScaler.fit(rbdTrain.loc[:,['mf','vola','val','close','low','high']])"
   ]
  },
  {
   "cell_type": "code",
   "execution_count": 299,
   "metadata": {
    "slideshow": {
     "slide_type": "fragment"
    }
   },
   "outputs": [
    {
     "data": {
      "text/plain": [
       "array([[4.33646850e-01, 1.17402583e-05, 5.62630207e-01, 0.00000000e+00,\n",
       "        1.15651503e-03, 0.00000000e+00],\n",
       "       [4.43476628e-01, 2.21163068e-05, 5.04987509e-01, 6.77710843e-03,\n",
       "        0.00000000e+00, 2.62565641e-03],\n",
       "       [4.96026648e-01, 3.20858732e-04, 4.55173361e-01, 1.43072289e-02,\n",
       "        8.48111025e-03, 1.31282821e-02],\n",
       "       ...,\n",
       "       [5.30420359e-01, 3.13677246e-05, 4.69995555e-01, 7.25903614e-01,\n",
       "        7.37471087e-01, 7.23180795e-01],\n",
       "       [5.30055566e-01, 3.14797432e-05, 4.37648720e-01, 7.38704819e-01,\n",
       "        7.40555127e-01, 7.35933983e-01],\n",
       "       [5.48620853e-01, 1.89824705e-05, 4.30585201e-01, 7.45105422e-01,\n",
       "        7.55589823e-01, 7.38559640e-01]])"
      ]
     },
     "execution_count": 299,
     "metadata": {},
     "output_type": "execute_result"
    }
   ],
   "source": [
    "# 训练集预测属性标准化\n",
    "rbdTrainXScale = minMaxScaler.transform(rbdTrain.loc[:,['mf','vola','val','close','low','high']])\n",
    "rbdTrainXScale"
   ]
  },
  {
   "cell_type": "code",
   "execution_count": 300,
   "metadata": {
    "slideshow": {
     "slide_type": "fragment"
    }
   },
   "outputs": [
    {
     "data": {
      "text/plain": [
       "array([[5.95545791e-01, 7.34363553e-06, 4.30226398e-01, 7.57906627e-01,\n",
       "        7.62914418e-01, 7.53938485e-01],\n",
       "       [5.89627458e-01, 9.01407568e-06, 4.59163321e-01, 7.56024096e-01,\n",
       "        7.72166538e-01, 7.57689422e-01],\n",
       "       [5.75098397e-01, 7.41124181e-06, 4.38236563e-01, 7.68825301e-01,\n",
       "        7.76792598e-01, 7.64441110e-01],\n",
       "       ...,\n",
       "       [5.21500220e-01, 6.53626787e-05, 5.28914437e-01, 7.29292169e-01,\n",
       "        7.43639167e-01, 7.35933983e-01],\n",
       "       [5.23642981e-01, 6.12332616e-05, 5.19285258e-01, 7.34563253e-01,\n",
       "        7.40169622e-01, 7.32183046e-01],\n",
       "       [4.83220436e-01, 2.07242166e-04, 5.29584303e-01, 7.30798193e-01,\n",
       "        7.49807247e-01, 7.47936984e-01]])"
      ]
     },
     "execution_count": 300,
     "metadata": {},
     "output_type": "execute_result"
    }
   ],
   "source": [
    "# 检验集预测属性标准化\n",
    "rbdTestXScale = minMaxScaler.transform(rbdTest.loc[:,['mf','vola','val','close','low','high']])\n",
    "rbdTestXScale"
   ]
  },
  {
   "cell_type": "markdown",
   "metadata": {
    "slideshow": {
     "slide_type": "slide"
    }
   },
   "source": [
    "#### 训练人工神经网络模型"
   ]
  },
  {
   "cell_type": "code",
   "execution_count": 315,
   "metadata": {
    "slideshow": {
     "slide_type": "fragment"
    }
   },
   "outputs": [
    {
     "data": {
      "text/plain": [
       "MLPClassifier(batch_size=50, hidden_layer_sizes=(256, 128),\n",
       "              learning_rate='adaptive', random_state=10, shuffle=False)"
      ]
     },
     "execution_count": 315,
     "metadata": {},
     "output_type": "execute_result"
    }
   ],
   "source": [
    "mlp.fit(rbdTrainXScale,rbdTrain['y'])"
   ]
  },
  {
   "cell_type": "markdown",
   "metadata": {
    "slideshow": {
     "slide_type": "fragment"
    }
   },
   "source": [
    "- 收敛警告（ConvergenceWarning）：可以通过设置参数`max_iter`消除，默认值`max_iter=200`"
   ]
  },
  {
   "cell_type": "markdown",
   "metadata": {
    "slideshow": {
     "slide_type": "slide"
    }
   },
   "source": [
    "#### 评估训练集分类性能"
   ]
  },
  {
   "cell_type": "code",
   "execution_count": 316,
   "metadata": {
    "slideshow": {
     "slide_type": "fragment"
    }
   },
   "outputs": [
    {
     "name": "stdout",
     "output_type": "stream",
     "text": [
      "              precision    recall  f1-score   support\n",
      "\n",
      "        -1.0       0.55      0.33      0.41       554\n",
      "         1.0       0.56      0.76      0.64       614\n",
      "\n",
      "    accuracy                           0.55      1168\n",
      "   macro avg       0.55      0.54      0.53      1168\n",
      "weighted avg       0.55      0.55      0.53      1168\n",
      "\n"
     ]
    }
   ],
   "source": [
    "mlpNewResTrain = metrics.classification_report(rbdTrain['y'],mlp.predict(rbdTrainXScale))\n",
    "print(mlpNewResTrain)"
   ]
  },
  {
   "cell_type": "markdown",
   "metadata": {
    "slideshow": {
     "slide_type": "slide"
    }
   },
   "source": [
    "#### 评估检验集分类性能"
   ]
  },
  {
   "cell_type": "code",
   "execution_count": 317,
   "metadata": {
    "slideshow": {
     "slide_type": "fragment"
    }
   },
   "outputs": [
    {
     "name": "stdout",
     "output_type": "stream",
     "text": [
      "              precision    recall  f1-score   support\n",
      "\n",
      "        -1.0       0.46      0.90      0.61       232\n",
      "         1.0       0.53      0.10      0.17       269\n",
      "\n",
      "    accuracy                           0.47       501\n",
      "   macro avg       0.50      0.50      0.39       501\n",
      "weighted avg       0.50      0.47      0.37       501\n",
      "\n"
     ]
    }
   ],
   "source": [
    "mlpNewResTest = metrics.classification_report(rbdTest['y'],mlp.predict(rbdTestXScale))\n",
    "print(mlpNewResTest)"
   ]
  },
  {
   "cell_type": "markdown",
   "metadata": {
    "slideshow": {
     "slide_type": "slide"
    }
   },
   "source": [
    "### 人工神经网络调参"
   ]
  },
  {
   "cell_type": "markdown",
   "metadata": {
    "slideshow": {
     "slide_type": "fragment"
    }
   },
   "source": [
    "[http://playground.tensorflow.org](http://playground.tensorflow.org/)"
   ]
  },
  {
   "cell_type": "markdown",
   "metadata": {
    "slideshow": {
     "slide_type": "fragment"
    }
   },
   "source": [
    "- 深度学习模型（deep learning）"
   ]
  },
  {
   "cell_type": "markdown",
   "metadata": {
    "slideshow": {
     "slide_type": "fragment"
    }
   },
   "source": [
    "- TensorFlow\n",
    "    - [http://c.biancheng.net/tensorflow/](http://c.biancheng.net/tensorflow/)"
   ]
  },
  {
   "cell_type": "markdown",
   "metadata": {
    "slideshow": {
     "slide_type": "slide"
    }
   },
   "source": [
    "# 聚类模型"
   ]
  },
  {
   "cell_type": "markdown",
   "metadata": {
    "slideshow": {
     "slide_type": "slide"
    }
   },
   "source": [
    "## 基本概念"
   ]
  },
  {
   "cell_type": "markdown",
   "metadata": {
    "slideshow": {
     "slide_type": "fragment"
    }
   },
   "source": [
    "<dl class=\"row alert-info\">\n",
    "    <dt class=\"col-md-2\">聚类</dt>\n",
    "    <dd class=\"col-md-10\">是一种将特征相似的样本聚集到一起，从而达到区分具有不同特征的样本的目的无监督的算法</dd>\n",
    "</dl>"
   ]
  },
  {
   "cell_type": "markdown",
   "metadata": {
    "slideshow": {
     "slide_type": "fragment"
    }
   },
   "source": [
    "- 不需要事先知道类别信息"
   ]
  },
  {
   "cell_type": "markdown",
   "metadata": {
    "slideshow": {
     "slide_type": "fragment"
    }
   },
   "source": [
    "- 聚类形成的每一个组，被称为**簇（cluster）**"
   ]
  },
  {
   "cell_type": "markdown",
   "metadata": {
    "slideshow": {
     "slide_type": "fragment"
    }
   },
   "source": [
    "- 聚类的目标：簇内的样本之间尽可能相似，不同簇的样本尽可能不同"
   ]
  },
  {
   "cell_type": "markdown",
   "metadata": {
    "slideshow": {
     "slide_type": "fragment"
    }
   },
   "source": [
    "<img src=\"./img/dataMining/clustering.png\" width=50%>"
   ]
  },
  {
   "cell_type": "markdown",
   "metadata": {
    "slideshow": {
     "slide_type": "slide"
    }
   },
   "source": [
    "## K均值"
   ]
  },
  {
   "cell_type": "markdown",
   "metadata": {
    "slideshow": {
     "slide_type": "fragment"
    }
   },
   "source": [
    "- 基于划分的聚类，发现指定个数（$K$）的簇"
   ]
  },
  {
   "cell_type": "markdown",
   "metadata": {
    "slideshow": {
     "slide_type": "fragment"
    }
   },
   "source": [
    "- 基本思想：利用样本之间的距离衡量样本之间的相似性，用一组样本的质心（该组样本的均值）作为簇的中心，找到紧凑且独立的簇"
   ]
  },
  {
   "cell_type": "markdown",
   "metadata": {
    "slideshow": {
     "slide_type": "fragment"
    }
   },
   "source": [
    "- 簇之间彼此**互斥**，即每个样本**只能**分属于一个簇"
   ]
  },
  {
   "cell_type": "markdown",
   "metadata": {
    "slideshow": {
     "slide_type": "slide"
    }
   },
   "source": [
    "### 基本算法"
   ]
  },
  {
   "cell_type": "markdown",
   "metadata": {
    "slideshow": {
     "slide_type": "fragment"
    }
   },
   "source": [
    "<center><img src='./img/dataMining/kmago.svg' width=60%></center>"
   ]
  },
  {
   "cell_type": "markdown",
   "metadata": {
    "slideshow": {
     "slide_type": "slide"
    }
   },
   "source": [
    "##### $K$均值聚类过程示例\n",
    "\n",
    "<center><img src=\"./img/dataMining/kmeansProcess.gif\" width=100%></center>"
   ]
  },
  {
   "cell_type": "markdown",
   "metadata": {
    "slideshow": {
     "slide_type": "slide"
    }
   },
   "source": [
    "#### 距离的度量"
   ]
  },
  {
   "cell_type": "markdown",
   "metadata": {
    "slideshow": {
     "slide_type": "fragment"
    }
   },
   "source": [
    "- 欧式空间：欧几里得距离，$n$维空间中两个点$\\boldsymbol{x}$和$\\boldsymbol{y}$之间的欧几里得距离是:\n",
    "$$\n",
    "d(\\boldsymbol{x}, \\boldsymbol{y}) = \\sqrt{\\sum_{k=1}^n(x_k-y_k)^2}\n",
    "$$"
   ]
  },
  {
   "cell_type": "markdown",
   "metadata": {
    "slideshow": {
     "slide_type": "slide"
    }
   },
   "source": [
    "#### 目标函数"
   ]
  },
  {
   "cell_type": "markdown",
   "metadata": {
    "slideshow": {
     "slide_type": "fragment"
    }
   },
   "source": [
    "- 目标函数为每个点到最近质心的欧几里得距离的**误差平方和**（sum of the squared error, SSE）最小"
   ]
  },
  {
   "cell_type": "markdown",
   "metadata": {
    "slideshow": {
     "slide_type": "fragment"
    }
   },
   "source": [
    "$$\n",
    "\\begin{split}\n",
    "SSE &= \\sum_{i=1}^K\\sum_{\\boldsymbol{x}\\in C_i}d(\\boldsymbol{c}_i, \\boldsymbol{x})^2\\\\\n",
    "\\boldsymbol{c}_i&=\\frac{1}{m_i}\\sum_{\\boldsymbol{x}\\in C_i}\\boldsymbol{x}\n",
    "\\end{split}\n",
    "$$\n",
    "其中，$\\boldsymbol{x}$是数据点，$C_i$是第$i$个簇，$c_i$是第$i$个簇的质心，$m_i$是第$i$个簇包含的数据点的个数，$K$是簇的个数"
   ]
  },
  {
   "cell_type": "markdown",
   "metadata": {
    "slideshow": {
     "slide_type": "fragment"
    }
   },
   "source": [
    "- 簇内的误差平方和（SSE）也被称作cluster inertia"
   ]
  },
  {
   "cell_type": "markdown",
   "metadata": {
    "slideshow": {
     "slide_type": "slide"
    }
   },
   "source": [
    "### $K$均值的`Python`实现"
   ]
  },
  {
   "cell_type": "markdown",
   "metadata": {
    "slideshow": {
     "slide_type": "fragment"
    }
   },
   "source": [
    "```python\n",
    "from sklearn.cluster import KMeans\n",
    "KMeans(n_clusters=8, init=’k-means++’, max_iter=300, random_state=None, n_jobs=None)\n",
    "```\n",
    "- `n_clusters`：`int`类型，簇的个数\n",
    "- `init`：初始质心的方法，可以选择`k-means++`或`random`\n",
    "- `max_iter`：最大迭代次数\n",
    "- `random_state`：初始质心的随机生成种子\n",
    "- `n_jobs`：用多少个CPU运行"
   ]
  },
  {
   "cell_type": "markdown",
   "metadata": {
    "slideshow": {
     "slide_type": "slide"
    }
   },
   "source": [
    "#### 建立$K$均值聚类模型"
   ]
  },
  {
   "cell_type": "markdown",
   "metadata": {
    "slideshow": {
     "slide_type": "fragment"
    }
   },
   "source": [
    "##### 读取`iris`数据"
   ]
  },
  {
   "cell_type": "code",
   "execution_count": 3,
   "metadata": {
    "scrolled": false,
    "slideshow": {
     "slide_type": "fragment"
    }
   },
   "outputs": [
    {
     "data": {
      "text/html": [
       "<div>\n",
       "<style scoped>\n",
       "    .dataframe tbody tr th:only-of-type {\n",
       "        vertical-align: middle;\n",
       "    }\n",
       "\n",
       "    .dataframe tbody tr th {\n",
       "        vertical-align: top;\n",
       "    }\n",
       "\n",
       "    .dataframe thead th {\n",
       "        text-align: right;\n",
       "    }\n",
       "</style>\n",
       "<table border=\"1\" class=\"dataframe\">\n",
       "  <thead>\n",
       "    <tr style=\"text-align: right;\">\n",
       "      <th></th>\n",
       "      <th>sepal_length</th>\n",
       "      <th>sepal_width</th>\n",
       "      <th>petal_length</th>\n",
       "      <th>petal_width</th>\n",
       "      <th>species</th>\n",
       "    </tr>\n",
       "  </thead>\n",
       "  <tbody>\n",
       "    <tr>\n",
       "      <th>0</th>\n",
       "      <td>5.1</td>\n",
       "      <td>3.5</td>\n",
       "      <td>1.4</td>\n",
       "      <td>0.2</td>\n",
       "      <td>setosa</td>\n",
       "    </tr>\n",
       "    <tr>\n",
       "      <th>1</th>\n",
       "      <td>4.9</td>\n",
       "      <td>3.0</td>\n",
       "      <td>1.4</td>\n",
       "      <td>0.2</td>\n",
       "      <td>setosa</td>\n",
       "    </tr>\n",
       "    <tr>\n",
       "      <th>2</th>\n",
       "      <td>4.7</td>\n",
       "      <td>3.2</td>\n",
       "      <td>1.3</td>\n",
       "      <td>0.2</td>\n",
       "      <td>setosa</td>\n",
       "    </tr>\n",
       "    <tr>\n",
       "      <th>3</th>\n",
       "      <td>4.6</td>\n",
       "      <td>3.1</td>\n",
       "      <td>1.5</td>\n",
       "      <td>0.2</td>\n",
       "      <td>setosa</td>\n",
       "    </tr>\n",
       "    <tr>\n",
       "      <th>4</th>\n",
       "      <td>5.0</td>\n",
       "      <td>3.6</td>\n",
       "      <td>1.4</td>\n",
       "      <td>0.2</td>\n",
       "      <td>setosa</td>\n",
       "    </tr>\n",
       "  </tbody>\n",
       "</table>\n",
       "</div>"
      ],
      "text/plain": [
       "   sepal_length  sepal_width  petal_length  petal_width species\n",
       "0           5.1          3.5           1.4          0.2  setosa\n",
       "1           4.9          3.0           1.4          0.2  setosa\n",
       "2           4.7          3.2           1.3          0.2  setosa\n",
       "3           4.6          3.1           1.5          0.2  setosa\n",
       "4           5.0          3.6           1.4          0.2  setosa"
      ]
     },
     "execution_count": 3,
     "metadata": {},
     "output_type": "execute_result"
    },
    {
     "data": {
      "text/plain": [
       "(150, 5)"
      ]
     },
     "execution_count": 3,
     "metadata": {},
     "output_type": "execute_result"
    }
   ],
   "source": [
    "irisdf = pd.read_csv('./data/visualization/iris.csv',header=0)\n",
    "irisdf.head()\n",
    "irisdf.shape"
   ]
  },
  {
   "cell_type": "markdown",
   "metadata": {
    "slideshow": {
     "slide_type": "slide"
    }
   },
   "source": [
    "##### 绘制属性箱型图，检查属性取值范围"
   ]
  },
  {
   "cell_type": "code",
   "execution_count": 4,
   "metadata": {
    "scrolled": true,
    "slideshow": {
     "slide_type": "fragment"
    }
   },
   "outputs": [
    {
     "data": {
      "text/plain": [
       "<matplotlib.axes._subplots.AxesSubplot at 0x7f93eb6fa6d8>"
      ]
     },
     "execution_count": 4,
     "metadata": {},
     "output_type": "execute_result"
    },
    {
     "data": {
      "image/png": "[encoded data removed]",
      "text/plain": [
       "<Figure size 864x432 with 1 Axes>"
      ]
     },
     "metadata": {
      "needs_background": "light"
     },
     "output_type": "display_data"
    }
   ],
   "source": [
    "irisdf.plot(y=['sepal_length','sepal_width','petal_length','petal_width'],kind='box',figsize=(12,6))"
   ]
  },
  {
   "cell_type": "markdown",
   "metadata": {
    "slideshow": {
     "slide_type": "fragment"
    }
   },
   "source": [
    "- 各个属性取值基本可比，不需要进行标准化处理"
   ]
  },
  {
   "cell_type": "markdown",
   "metadata": {
    "slideshow": {
     "slide_type": "slide"
    }
   },
   "source": [
    "##### 建立聚类模型"
   ]
  },
  {
   "cell_type": "code",
   "execution_count": 5,
   "metadata": {
    "slideshow": {
     "slide_type": "fragment"
    }
   },
   "outputs": [],
   "source": [
    "from sklearn.cluster import KMeans"
   ]
  },
  {
   "cell_type": "code",
   "execution_count": 6,
   "metadata": {
    "scrolled": true,
    "slideshow": {
     "slide_type": "fragment"
    }
   },
   "outputs": [
    {
     "data": {
      "text/plain": [
       "KMeans(algorithm='auto', copy_x=True, init='k-means++', max_iter=300,\n",
       "       n_clusters=3, n_init=10, n_jobs=-1, precompute_distances='auto',\n",
       "       random_state=0, tol=0.0001, verbose=0)"
      ]
     },
     "execution_count": 6,
     "metadata": {},
     "output_type": "execute_result"
    }
   ],
   "source": [
    "irisKmeans = KMeans(n_clusters=3,random_state=0,n_jobs=-1)\n",
    "irisKmeans"
   ]
  },
  {
   "cell_type": "markdown",
   "metadata": {
    "slideshow": {
     "slide_type": "slide"
    }
   },
   "source": [
    "#### 训练$K$均值聚类模型"
   ]
  },
  {
   "cell_type": "markdown",
   "metadata": {
    "slideshow": {
     "slide_type": "fragment"
    }
   },
   "source": [
    "```python\n",
    "kmeans.fit(X)\n",
    "```\n",
    "- `X`：需要聚类的数据集"
   ]
  },
  {
   "cell_type": "code",
   "execution_count": 7,
   "metadata": {
    "slideshow": {
     "slide_type": "fragment"
    }
   },
   "outputs": [
    {
     "data": {
      "text/html": [
       "<div>\n",
       "<style scoped>\n",
       "    .dataframe tbody tr th:only-of-type {\n",
       "        vertical-align: middle;\n",
       "    }\n",
       "\n",
       "    .dataframe tbody tr th {\n",
       "        vertical-align: top;\n",
       "    }\n",
       "\n",
       "    .dataframe thead th {\n",
       "        text-align: right;\n",
       "    }\n",
       "</style>\n",
       "<table border=\"1\" class=\"dataframe\">\n",
       "  <thead>\n",
       "    <tr style=\"text-align: right;\">\n",
       "      <th></th>\n",
       "      <th>sepal_length</th>\n",
       "      <th>sepal_width</th>\n",
       "      <th>petal_length</th>\n",
       "      <th>petal_width</th>\n",
       "    </tr>\n",
       "  </thead>\n",
       "  <tbody>\n",
       "    <tr>\n",
       "      <th>0</th>\n",
       "      <td>5.1</td>\n",
       "      <td>3.5</td>\n",
       "      <td>1.4</td>\n",
       "      <td>0.2</td>\n",
       "    </tr>\n",
       "    <tr>\n",
       "      <th>1</th>\n",
       "      <td>4.9</td>\n",
       "      <td>3.0</td>\n",
       "      <td>1.4</td>\n",
       "      <td>0.2</td>\n",
       "    </tr>\n",
       "    <tr>\n",
       "      <th>2</th>\n",
       "      <td>4.7</td>\n",
       "      <td>3.2</td>\n",
       "      <td>1.3</td>\n",
       "      <td>0.2</td>\n",
       "    </tr>\n",
       "    <tr>\n",
       "      <th>3</th>\n",
       "      <td>4.6</td>\n",
       "      <td>3.1</td>\n",
       "      <td>1.5</td>\n",
       "      <td>0.2</td>\n",
       "    </tr>\n",
       "    <tr>\n",
       "      <th>4</th>\n",
       "      <td>5.0</td>\n",
       "      <td>3.6</td>\n",
       "      <td>1.4</td>\n",
       "      <td>0.2</td>\n",
       "    </tr>\n",
       "  </tbody>\n",
       "</table>\n",
       "</div>"
      ],
      "text/plain": [
       "   sepal_length  sepal_width  petal_length  petal_width\n",
       "0           5.1          3.5           1.4          0.2\n",
       "1           4.9          3.0           1.4          0.2\n",
       "2           4.7          3.2           1.3          0.2\n",
       "3           4.6          3.1           1.5          0.2\n",
       "4           5.0          3.6           1.4          0.2"
      ]
     },
     "execution_count": 7,
     "metadata": {},
     "output_type": "execute_result"
    }
   ],
   "source": [
    "irisX = irisdf.iloc[:,:-1]\n",
    "irisX.head()"
   ]
  },
  {
   "cell_type": "code",
   "execution_count": 8,
   "metadata": {
    "slideshow": {
     "slide_type": "fragment"
    }
   },
   "outputs": [
    {
     "data": {
      "text/plain": [
       "KMeans(algorithm='auto', copy_x=True, init='k-means++', max_iter=300,\n",
       "       n_clusters=3, n_init=10, n_jobs=-1, precompute_distances='auto',\n",
       "       random_state=0, tol=0.0001, verbose=0)"
      ]
     },
     "execution_count": 8,
     "metadata": {},
     "output_type": "execute_result"
    }
   ],
   "source": [
    "irisKmeans.fit(irisX)"
   ]
  },
  {
   "cell_type": "markdown",
   "metadata": {
    "slideshow": {
     "slide_type": "fragment"
    }
   },
   "source": [
    "##### 训练好的聚类模型的属性"
   ]
  },
  {
   "cell_type": "markdown",
   "metadata": {
    "slideshow": {
     "slide_type": "fragment"
    }
   },
   "source": [
    "- `labels_`：每个数据点（样本）的标签，即所属的簇"
   ]
  },
  {
   "cell_type": "code",
   "execution_count": 9,
   "metadata": {
    "slideshow": {
     "slide_type": "fragment"
    }
   },
   "outputs": [
    {
     "data": {
      "text/plain": [
       "array([1, 1, 1, 1, 1, 1, 1, 1, 1, 1, 1, 1, 1, 1, 1, 1, 1, 1, 1, 1, 1, 1,\n",
       "       1, 1, 1, 1, 1, 1, 1, 1, 1, 1, 1, 1, 1, 1, 1, 1, 1, 1, 1, 1, 1, 1,\n",
       "       1, 1, 1, 1, 1, 1, 2, 2, 0, 2, 2, 2, 2, 2, 2, 2, 2, 2, 2, 2, 2, 2,\n",
       "       2, 2, 2, 2, 2, 2, 2, 2, 2, 2, 2, 0, 2, 2, 2, 2, 2, 2, 2, 2, 2, 2,\n",
       "       2, 2, 2, 2, 2, 2, 2, 2, 2, 2, 2, 2, 0, 2, 0, 0, 0, 0, 2, 0, 0, 0,\n",
       "       0, 0, 0, 2, 2, 0, 0, 0, 0, 2, 0, 2, 0, 2, 0, 0, 2, 2, 0, 0, 0, 0,\n",
       "       0, 2, 0, 0, 0, 0, 2, 0, 0, 0, 2, 0, 0, 0, 2, 0, 0, 2], dtype=int32)"
      ]
     },
     "execution_count": 9,
     "metadata": {},
     "output_type": "execute_result"
    }
   ],
   "source": [
    "irisKmeans.labels_"
   ]
  },
  {
   "cell_type": "markdown",
   "metadata": {
    "slideshow": {
     "slide_type": "fragment"
    }
   },
   "source": [
    "- `inertia_`：簇内误差平方和"
   ]
  },
  {
   "cell_type": "code",
   "execution_count": 10,
   "metadata": {
    "slideshow": {
     "slide_type": "fragment"
    }
   },
   "outputs": [
    {
     "data": {
      "text/plain": [
       "78.94084142614602"
      ]
     },
     "execution_count": 10,
     "metadata": {},
     "output_type": "execute_result"
    }
   ],
   "source": [
    "irisKmeans.inertia_"
   ]
  },
  {
   "cell_type": "markdown",
   "metadata": {
    "slideshow": {
     "slide_type": "slide"
    }
   },
   "source": [
    "#### 预测样本所属的距离最近的簇"
   ]
  },
  {
   "cell_type": "markdown",
   "metadata": {
    "slideshow": {
     "slide_type": "fragment"
    }
   },
   "source": [
    "```python\n",
    "kmean.predict(X)\n",
    "```\n",
    "- 返回值：每个样本属于的簇的标签，是一个数组结构，形状为`[n_samples]`"
   ]
  },
  {
   "cell_type": "code",
   "execution_count": 11,
   "metadata": {
    "slideshow": {
     "slide_type": "fragment"
    }
   },
   "outputs": [
    {
     "data": {
      "text/plain": [
       "array([1, 1, 1, 1, 1, 1, 1, 1, 1, 1, 1, 1, 1, 1, 1, 1, 1, 1, 1, 1, 1, 1,\n",
       "       1, 1, 1, 1, 1, 1, 1, 1, 1, 1, 1, 1, 1, 1, 1, 1, 1, 1, 1, 1, 1, 1,\n",
       "       1, 1, 1, 1, 1, 1, 2, 2, 0, 2, 2, 2, 2, 2, 2, 2, 2, 2, 2, 2, 2, 2,\n",
       "       2, 2, 2, 2, 2, 2, 2, 2, 2, 2, 2, 0, 2, 2, 2, 2, 2, 2, 2, 2, 2, 2,\n",
       "       2, 2, 2, 2, 2, 2, 2, 2, 2, 2, 2, 2, 0, 2, 0, 0, 0, 0, 2, 0, 0, 0,\n",
       "       0, 0, 0, 2, 2, 0, 0, 0, 0, 2, 0, 2, 0, 2, 0, 0, 2, 2, 0, 0, 0, 0,\n",
       "       0, 2, 0, 0, 0, 0, 2, 0, 0, 0, 2, 0, 0, 0, 2, 0, 0, 2], dtype=int32)"
      ]
     },
     "execution_count": 11,
     "metadata": {},
     "output_type": "execute_result"
    }
   ],
   "source": [
    "irisLabel = irisKmeans.predict(irisX)\n",
    "irisLabel"
   ]
  },
  {
   "cell_type": "markdown",
   "metadata": {
    "slideshow": {
     "slide_type": "slide"
    }
   },
   "source": [
    "#### 选择$K$值"
   ]
  },
  {
   "cell_type": "markdown",
   "metadata": {
    "slideshow": {
     "slide_type": "fragment"
    }
   },
   "source": [
    "> 随着$K$值的增大，簇内误差平方和（SSE）会降低"
   ]
  },
  {
   "cell_type": "markdown",
   "metadata": {
    "slideshow": {
     "slide_type": "fragment"
    }
   },
   "source": [
    "<dl class=\"row alert-info\">\n",
    "    <dt class=\"col-xl-4\">肘部(elbow)法则<dt>\n",
    "    <dd class=\"col-xl-8\">识别SSE<strong>开始快速增大</strong>处的$K$值</dd>\n",
    "</dl>"
   ]
  },
  {
   "cell_type": "code",
   "execution_count": 12,
   "metadata": {
    "scrolled": true,
    "slideshow": {
     "slide_type": "fragment"
    }
   },
   "outputs": [
    {
     "data": {
      "text/plain": [
       "KMeans(algorithm='auto', copy_x=True, init='k-means++', max_iter=300,\n",
       "       n_clusters=1, n_init=10, n_jobs=-1, precompute_distances='auto',\n",
       "       random_state=0, tol=0.0001, verbose=0)"
      ]
     },
     "execution_count": 12,
     "metadata": {},
     "output_type": "execute_result"
    },
    {
     "data": {
      "text/plain": [
       "KMeans(algorithm='auto', copy_x=True, init='k-means++', max_iter=300,\n",
       "       n_clusters=2, n_init=10, n_jobs=-1, precompute_distances='auto',\n",
       "       random_state=0, tol=0.0001, verbose=0)"
      ]
     },
     "execution_count": 12,
     "metadata": {},
     "output_type": "execute_result"
    },
    {
     "data": {
      "text/plain": [
       "KMeans(algorithm='auto', copy_x=True, init='k-means++', max_iter=300,\n",
       "       n_clusters=3, n_init=10, n_jobs=-1, precompute_distances='auto',\n",
       "       random_state=0, tol=0.0001, verbose=0)"
      ]
     },
     "execution_count": 12,
     "metadata": {},
     "output_type": "execute_result"
    },
    {
     "data": {
      "text/plain": [
       "KMeans(algorithm='auto', copy_x=True, init='k-means++', max_iter=300,\n",
       "       n_clusters=4, n_init=10, n_jobs=-1, precompute_distances='auto',\n",
       "       random_state=0, tol=0.0001, verbose=0)"
      ]
     },
     "execution_count": 12,
     "metadata": {},
     "output_type": "execute_result"
    },
    {
     "data": {
      "text/plain": [
       "KMeans(algorithm='auto', copy_x=True, init='k-means++', max_iter=300,\n",
       "       n_clusters=5, n_init=10, n_jobs=-1, precompute_distances='auto',\n",
       "       random_state=0, tol=0.0001, verbose=0)"
      ]
     },
     "execution_count": 12,
     "metadata": {},
     "output_type": "execute_result"
    },
    {
     "data": {
      "text/plain": [
       "KMeans(algorithm='auto', copy_x=True, init='k-means++', max_iter=300,\n",
       "       n_clusters=6, n_init=10, n_jobs=-1, precompute_distances='auto',\n",
       "       random_state=0, tol=0.0001, verbose=0)"
      ]
     },
     "execution_count": 12,
     "metadata": {},
     "output_type": "execute_result"
    },
    {
     "data": {
      "text/plain": [
       "KMeans(algorithm='auto', copy_x=True, init='k-means++', max_iter=300,\n",
       "       n_clusters=7, n_init=10, n_jobs=-1, precompute_distances='auto',\n",
       "       random_state=0, tol=0.0001, verbose=0)"
      ]
     },
     "execution_count": 12,
     "metadata": {},
     "output_type": "execute_result"
    },
    {
     "data": {
      "text/plain": [
       "KMeans(algorithm='auto', copy_x=True, init='k-means++', max_iter=300,\n",
       "       n_clusters=8, n_init=10, n_jobs=-1, precompute_distances='auto',\n",
       "       random_state=0, tol=0.0001, verbose=0)"
      ]
     },
     "execution_count": 12,
     "metadata": {},
     "output_type": "execute_result"
    },
    {
     "data": {
      "text/plain": [
       "KMeans(algorithm='auto', copy_x=True, init='k-means++', max_iter=300,\n",
       "       n_clusters=9, n_init=10, n_jobs=-1, precompute_distances='auto',\n",
       "       random_state=0, tol=0.0001, verbose=0)"
      ]
     },
     "execution_count": 12,
     "metadata": {},
     "output_type": "execute_result"
    },
    {
     "data": {
      "text/plain": [
       "KMeans(algorithm='auto', copy_x=True, init='k-means++', max_iter=300,\n",
       "       n_clusters=10, n_init=10, n_jobs=-1, precompute_distances='auto',\n",
       "       random_state=0, tol=0.0001, verbose=0)"
      ]
     },
     "execution_count": 12,
     "metadata": {},
     "output_type": "execute_result"
    },
    {
     "data": {
      "text/plain": [
       "[[Text(0, 0, '1'),\n",
       "  Text(0, 0, '2'),\n",
       "  Text(0, 0, '3'),\n",
       "  Text(0, 0, '4'),\n",
       "  Text(0, 0, '5'),\n",
       "  Text(0, 0, '6'),\n",
       "  Text(0, 0, '7'),\n",
       "  Text(0, 0, '8'),\n",
       "  Text(0, 0, '9'),\n",
       "  Text(0, 0, '10')]]"
      ]
     },
     "execution_count": 12,
     "metadata": {},
     "output_type": "execute_result"
    },
    {
     "data": {
      "image/png": "[encoded data removed]",
      "text/plain": [
       "<Figure size 864x432 with 1 Axes>"
      ]
     },
     "metadata": {
      "needs_background": "light"
     },
     "output_type": "display_data"
    }
   ],
   "source": [
    "sse = []                ###记录每个k值对应的SSE\n",
    "for k in range(1,11):\n",
    "    km = KMeans(n_clusters=k,random_state=0,n_jobs=-1)\n",
    "    km.fit(irisX)\n",
    "    sse.append(km.inertia_)\n",
    "ax = pd.Series(sse).plot(kind='line',figsize=(12,6),marker='o',grid=True,xticks=range(0,10))   #xticks：在哪些位置显示x轴刻度标签\n",
    "ax.set(xticklabels=range(1,11))        # 改变x轴标签显示，默认是从0开始"
   ]
  },
  {
   "cell_type": "markdown",
   "metadata": {
    "slideshow": {
     "slide_type": "fragment"
    }
   },
   "source": [
    "- 当$K=3$的时候，SSE**开始快速增大**，所以选择3个簇"
   ]
  },
  {
   "cell_type": "markdown",
   "metadata": {
    "slideshow": {
     "slide_type": "slide"
    }
   },
   "source": [
    "## 聚类检验"
   ]
  },
  {
   "cell_type": "markdown",
   "metadata": {
    "slideshow": {
     "slide_type": "fragment"
    }
   },
   "source": [
    "<dl class=\"row alert-info\">\n",
    "    <dt class=\"col-md-4\">聚类检验</dt>\n",
    "    <dd class=\"col-md-8\">检验聚类效果的优劣</dd>\n",
    "</dl>"
   ]
  },
  {
   "cell_type": "markdown",
   "metadata": {
    "slideshow": {
     "slide_type": "slide"
    }
   },
   "source": [
    "### 聚类检验指标"
   ]
  },
  {
   "cell_type": "markdown",
   "metadata": {
    "slideshow": {
     "slide_type": "fragment"
    }
   },
   "source": [
    "<dl class=\"row alert-info\">\n",
    "    <dt class=\"col-lg-4\">凝聚度(cohesion)</dt>\n",
    "    <dd class=\"col-lg-8\">簇内数据点之间的密切程度</dd>\n",
    "</dl>"
   ]
  },
  {
   "cell_type": "markdown",
   "metadata": {
    "slideshow": {
     "slide_type": "fragment"
    }
   },
   "source": [
    "- 可以是簇内各个数据点之间距离的均值"
   ]
  },
  {
   "cell_type": "markdown",
   "metadata": {
    "slideshow": {
     "slide_type": "fragment"
    }
   },
   "source": [
    "<dl class=\"row alert-danger\">\n",
    "    <dt class=\"col-lg-4\">分离度(separation)</dt>\n",
    "    <dd class=\"col-lg-8\">某个簇不同于其他簇的程度</dd>\n",
    "</dl>"
   ]
  },
  {
   "cell_type": "markdown",
   "metadata": {
    "slideshow": {
     "slide_type": "fragment"
    }
   },
   "source": [
    "- 不同簇的数据点之间的距离的均值"
   ]
  },
  {
   "cell_type": "markdown",
   "metadata": {
    "cell_style": "split",
    "slideshow": {
     "slide_type": "fragment"
    }
   },
   "source": [
    "<center><img src=\"./img/dataMining/cohesionSeparation.png\" width=100%></center>"
   ]
  },
  {
   "cell_type": "markdown",
   "metadata": {
    "slideshow": {
     "slide_type": "slide"
    }
   },
   "source": [
    "### 轮廓系数（silhouette coefficient）"
   ]
  },
  {
   "cell_type": "markdown",
   "metadata": {
    "slideshow": {
     "slide_type": "fragment"
    }
   },
   "source": [
    "- 轮廓系数取值在$[-1,1]$，越接近1越好\n",
    "- 0表示两个簇重合\n",
    "- -1表示数据点被分配到了错误的簇中"
   ]
  },
  {
   "cell_type": "markdown",
   "metadata": {
    "slideshow": {
     "slide_type": "slide"
    }
   },
   "source": [
    "#### `Python`实现"
   ]
  },
  {
   "cell_type": "markdown",
   "metadata": {
    "slideshow": {
     "slide_type": "fragment"
    }
   },
   "source": [
    "```python\n",
    "from sklearn import metrics\n",
    "```"
   ]
  },
  {
   "cell_type": "markdown",
   "metadata": {
    "slideshow": {
     "slide_type": "fragment"
    }
   },
   "source": [
    "```python\n",
    "metrics.silhouette_score(X, labels, metric=’euclidean’)\n",
    "```\n",
    "- `X`：用于聚类的数据\n",
    "- `labels`：用聚类技术计算的每个数据样本所属的簇\n",
    "- 返回值：`float`类型，所有数据样本的轮廓系数的平均值"
   ]
  },
  {
   "cell_type": "code",
   "execution_count": 34,
   "metadata": {
    "slideshow": {
     "slide_type": "slide"
    }
   },
   "outputs": [],
   "source": [
    "from sklearn.metrics import silhouette_score"
   ]
  },
  {
   "cell_type": "code",
   "execution_count": 36,
   "metadata": {
    "slideshow": {
     "slide_type": "fragment"
    }
   },
   "outputs": [
    {
     "data": {
      "text/plain": [
       "0.5525919445499757"
      ]
     },
     "execution_count": 36,
     "metadata": {},
     "output_type": "execute_result"
    }
   ],
   "source": [
    "irisSilhouetteScore = silhouette_score(irisdf.iloc[:,:-1],irisKmeans.labels_)\n",
    "irisSilhouetteScore"
   ]
  },
  {
   "cell_type": "markdown",
   "metadata": {
    "slideshow": {
     "slide_type": "slide"
    }
   },
   "source": [
    "## 聚类ohlc数据识别市场风格(market regime）"
   ]
  },
  {
   "cell_type": "markdown",
   "metadata": {
    "slideshow": {
     "slide_type": "fragment"
    }
   },
   "source": [
    "### 读入数据"
   ]
  },
  {
   "cell_type": "code",
   "execution_count": 79,
   "metadata": {
    "slideshow": {
     "slide_type": "fragment"
    }
   },
   "outputs": [
    {
     "data": {
      "text/html": [
       "<div>\n",
       "<style scoped>\n",
       "    .dataframe tbody tr th:only-of-type {\n",
       "        vertical-align: middle;\n",
       "    }\n",
       "\n",
       "    .dataframe tbody tr th {\n",
       "        vertical-align: top;\n",
       "    }\n",
       "\n",
       "    .dataframe thead th {\n",
       "        text-align: right;\n",
       "    }\n",
       "</style>\n",
       "<table border=\"1\" class=\"dataframe\">\n",
       "  <thead>\n",
       "    <tr style=\"text-align: right;\">\n",
       "      <th></th>\n",
       "      <th>Date</th>\n",
       "      <th>Open</th>\n",
       "      <th>High</th>\n",
       "      <th>Low</th>\n",
       "      <th>Close</th>\n",
       "    </tr>\n",
       "  </thead>\n",
       "  <tbody>\n",
       "    <tr>\n",
       "      <th>0</th>\n",
       "      <td>2019-12-05 14:15:00</td>\n",
       "      <td>3423.0</td>\n",
       "      <td>3427.0</td>\n",
       "      <td>3422.0</td>\n",
       "      <td>3426.0</td>\n",
       "    </tr>\n",
       "    <tr>\n",
       "      <th>1</th>\n",
       "      <td>2019-12-05 14:16:00</td>\n",
       "      <td>3426.0</td>\n",
       "      <td>3428.0</td>\n",
       "      <td>3424.0</td>\n",
       "      <td>3427.0</td>\n",
       "    </tr>\n",
       "    <tr>\n",
       "      <th>2</th>\n",
       "      <td>2019-12-05 14:17:00</td>\n",
       "      <td>3428.0</td>\n",
       "      <td>3428.0</td>\n",
       "      <td>3426.0</td>\n",
       "      <td>3426.0</td>\n",
       "    </tr>\n",
       "    <tr>\n",
       "      <th>3</th>\n",
       "      <td>2019-12-05 14:18:00</td>\n",
       "      <td>3426.0</td>\n",
       "      <td>3427.0</td>\n",
       "      <td>3425.0</td>\n",
       "      <td>3427.0</td>\n",
       "    </tr>\n",
       "    <tr>\n",
       "      <th>4</th>\n",
       "      <td>2019-12-05 14:19:00</td>\n",
       "      <td>3427.0</td>\n",
       "      <td>3428.0</td>\n",
       "      <td>3426.0</td>\n",
       "      <td>3427.0</td>\n",
       "    </tr>\n",
       "  </tbody>\n",
       "</table>\n",
       "</div>"
      ],
      "text/plain": [
       "                  Date    Open    High     Low   Close\n",
       "0  2019-12-05 14:15:00  3423.0  3427.0  3422.0  3426.0\n",
       "1  2019-12-05 14:16:00  3426.0  3428.0  3424.0  3427.0\n",
       "2  2019-12-05 14:17:00  3428.0  3428.0  3426.0  3426.0\n",
       "3  2019-12-05 14:18:00  3426.0  3427.0  3425.0  3427.0\n",
       "4  2019-12-05 14:19:00  3427.0  3428.0  3426.0  3427.0"
      ]
     },
     "execution_count": 79,
     "metadata": {},
     "output_type": "execute_result"
    },
    {
     "data": {
      "text/plain": [
       "(54314, 5)"
      ]
     },
     "execution_count": 79,
     "metadata": {},
     "output_type": "execute_result"
    }
   ],
   "source": [
    "rbBar = pd.read_csv('./data/models/rbChangeContract.csv')\n",
    "rbBar.head()\n",
    "rbBar.shape"
   ]
  },
  {
   "cell_type": "code",
   "execution_count": 80,
   "metadata": {
    "slideshow": {
     "slide_type": "fragment"
    }
   },
   "outputs": [
    {
     "data": {
      "text/html": [
       "<div>\n",
       "<style scoped>\n",
       "    .dataframe tbody tr th:only-of-type {\n",
       "        vertical-align: middle;\n",
       "    }\n",
       "\n",
       "    .dataframe tbody tr th {\n",
       "        vertical-align: top;\n",
       "    }\n",
       "\n",
       "    .dataframe thead th {\n",
       "        text-align: right;\n",
       "    }\n",
       "</style>\n",
       "<table border=\"1\" class=\"dataframe\">\n",
       "  <thead>\n",
       "    <tr style=\"text-align: right;\">\n",
       "      <th></th>\n",
       "      <th>Open</th>\n",
       "      <th>High</th>\n",
       "      <th>Low</th>\n",
       "      <th>Close</th>\n",
       "    </tr>\n",
       "    <tr>\n",
       "      <th>Date</th>\n",
       "      <th></th>\n",
       "      <th></th>\n",
       "      <th></th>\n",
       "      <th></th>\n",
       "    </tr>\n",
       "  </thead>\n",
       "  <tbody>\n",
       "    <tr>\n",
       "      <th>2019-12-05 14:15:00</th>\n",
       "      <td>3423.0</td>\n",
       "      <td>3427.0</td>\n",
       "      <td>3422.0</td>\n",
       "      <td>3426.0</td>\n",
       "    </tr>\n",
       "    <tr>\n",
       "      <th>2019-12-05 14:16:00</th>\n",
       "      <td>3426.0</td>\n",
       "      <td>3428.0</td>\n",
       "      <td>3424.0</td>\n",
       "      <td>3427.0</td>\n",
       "    </tr>\n",
       "    <tr>\n",
       "      <th>2019-12-05 14:17:00</th>\n",
       "      <td>3428.0</td>\n",
       "      <td>3428.0</td>\n",
       "      <td>3426.0</td>\n",
       "      <td>3426.0</td>\n",
       "    </tr>\n",
       "    <tr>\n",
       "      <th>2019-12-05 14:18:00</th>\n",
       "      <td>3426.0</td>\n",
       "      <td>3427.0</td>\n",
       "      <td>3425.0</td>\n",
       "      <td>3427.0</td>\n",
       "    </tr>\n",
       "    <tr>\n",
       "      <th>2019-12-05 14:19:00</th>\n",
       "      <td>3427.0</td>\n",
       "      <td>3428.0</td>\n",
       "      <td>3426.0</td>\n",
       "      <td>3427.0</td>\n",
       "    </tr>\n",
       "  </tbody>\n",
       "</table>\n",
       "</div>"
      ],
      "text/plain": [
       "                       Open    High     Low   Close\n",
       "Date                                               \n",
       "2019-12-05 14:15:00  3423.0  3427.0  3422.0  3426.0\n",
       "2019-12-05 14:16:00  3426.0  3428.0  3424.0  3427.0\n",
       "2019-12-05 14:17:00  3428.0  3428.0  3426.0  3426.0\n",
       "2019-12-05 14:18:00  3426.0  3427.0  3425.0  3427.0\n",
       "2019-12-05 14:19:00  3427.0  3428.0  3426.0  3427.0"
      ]
     },
     "execution_count": 80,
     "metadata": {},
     "output_type": "execute_result"
    }
   ],
   "source": [
    "rbBar['Date'] = pd.to_datetime(rbBar['Date'],format='%Y-%m-%d %H:%M:%S')\n",
    "rbBar.set_index('Date',inplace=True)\n",
    "rbBar.head()"
   ]
  },
  {
   "cell_type": "markdown",
   "metadata": {
    "slideshow": {
     "slide_type": "slide"
    }
   },
   "source": [
    "### 归一化数据"
   ]
  },
  {
   "cell_type": "markdown",
   "metadata": {
    "slideshow": {
     "slide_type": "fragment"
    }
   },
   "source": [
    "- 目的：使得各交易时段的数据可比"
   ]
  },
  {
   "cell_type": "markdown",
   "metadata": {
    "slideshow": {
     "slide_type": "fragment"
    }
   },
   "source": [
    "- 以每个交易时段内的开盘价作为基准"
   ]
  },
  {
   "cell_type": "code",
   "execution_count": 81,
   "metadata": {
    "slideshow": {
     "slide_type": "fragment"
    }
   },
   "outputs": [
    {
     "data": {
      "text/html": [
       "<div>\n",
       "<style scoped>\n",
       "    .dataframe tbody tr th:only-of-type {\n",
       "        vertical-align: middle;\n",
       "    }\n",
       "\n",
       "    .dataframe tbody tr th {\n",
       "        vertical-align: top;\n",
       "    }\n",
       "\n",
       "    .dataframe thead th {\n",
       "        text-align: right;\n",
       "    }\n",
       "</style>\n",
       "<table border=\"1\" class=\"dataframe\">\n",
       "  <thead>\n",
       "    <tr style=\"text-align: right;\">\n",
       "      <th></th>\n",
       "      <th>Open</th>\n",
       "      <th>High</th>\n",
       "      <th>Low</th>\n",
       "      <th>Close</th>\n",
       "      <th>HO</th>\n",
       "      <th>LO</th>\n",
       "      <th>CO</th>\n",
       "    </tr>\n",
       "    <tr>\n",
       "      <th>Date</th>\n",
       "      <th></th>\n",
       "      <th></th>\n",
       "      <th></th>\n",
       "      <th></th>\n",
       "      <th></th>\n",
       "      <th></th>\n",
       "      <th></th>\n",
       "    </tr>\n",
       "  </thead>\n",
       "  <tbody>\n",
       "    <tr>\n",
       "      <th>2019-12-05 14:15:00</th>\n",
       "      <td>3423.0</td>\n",
       "      <td>3427.0</td>\n",
       "      <td>3422.0</td>\n",
       "      <td>3426.0</td>\n",
       "      <td>1.001169</td>\n",
       "      <td>0.999708</td>\n",
       "      <td>1.000876</td>\n",
       "    </tr>\n",
       "    <tr>\n",
       "      <th>2019-12-05 14:16:00</th>\n",
       "      <td>3426.0</td>\n",
       "      <td>3428.0</td>\n",
       "      <td>3424.0</td>\n",
       "      <td>3427.0</td>\n",
       "      <td>1.000584</td>\n",
       "      <td>0.999416</td>\n",
       "      <td>1.000292</td>\n",
       "    </tr>\n",
       "    <tr>\n",
       "      <th>2019-12-05 14:17:00</th>\n",
       "      <td>3428.0</td>\n",
       "      <td>3428.0</td>\n",
       "      <td>3426.0</td>\n",
       "      <td>3426.0</td>\n",
       "      <td>1.000000</td>\n",
       "      <td>0.999417</td>\n",
       "      <td>0.999417</td>\n",
       "    </tr>\n",
       "    <tr>\n",
       "      <th>2019-12-05 14:18:00</th>\n",
       "      <td>3426.0</td>\n",
       "      <td>3427.0</td>\n",
       "      <td>3425.0</td>\n",
       "      <td>3427.0</td>\n",
       "      <td>1.000292</td>\n",
       "      <td>0.999708</td>\n",
       "      <td>1.000292</td>\n",
       "    </tr>\n",
       "    <tr>\n",
       "      <th>2019-12-05 14:19:00</th>\n",
       "      <td>3427.0</td>\n",
       "      <td>3428.0</td>\n",
       "      <td>3426.0</td>\n",
       "      <td>3427.0</td>\n",
       "      <td>1.000292</td>\n",
       "      <td>0.999708</td>\n",
       "      <td>1.000000</td>\n",
       "    </tr>\n",
       "  </tbody>\n",
       "</table>\n",
       "</div>"
      ],
      "text/plain": [
       "                       Open    High     Low   Close        HO        LO  \\\n",
       "Date                                                                      \n",
       "2019-12-05 14:15:00  3423.0  3427.0  3422.0  3426.0  1.001169  0.999708   \n",
       "2019-12-05 14:16:00  3426.0  3428.0  3424.0  3427.0  1.000584  0.999416   \n",
       "2019-12-05 14:17:00  3428.0  3428.0  3426.0  3426.0  1.000000  0.999417   \n",
       "2019-12-05 14:18:00  3426.0  3427.0  3425.0  3427.0  1.000292  0.999708   \n",
       "2019-12-05 14:19:00  3427.0  3428.0  3426.0  3427.0  1.000292  0.999708   \n",
       "\n",
       "                           CO  \n",
       "Date                           \n",
       "2019-12-05 14:15:00  1.000876  \n",
       "2019-12-05 14:16:00  1.000292  \n",
       "2019-12-05 14:17:00  0.999417  \n",
       "2019-12-05 14:18:00  1.000292  \n",
       "2019-12-05 14:19:00  1.000000  "
      ]
     },
     "execution_count": 81,
     "metadata": {},
     "output_type": "execute_result"
    }
   ],
   "source": [
    "rbBar['HO'] = rbBar['High']/rbBar['Open']\n",
    "rbBar['LO'] = rbBar['Low']/rbBar['Open']\n",
    "rbBar['CO'] = rbBar['Close']/rbBar['Open']\n",
    "rbBar.head()"
   ]
  },
  {
   "cell_type": "code",
   "execution_count": 83,
   "metadata": {
    "slideshow": {
     "slide_type": "fragment"
    }
   },
   "outputs": [
    {
     "data": {
      "text/html": [
       "<div>\n",
       "<style scoped>\n",
       "    .dataframe tbody tr th:only-of-type {\n",
       "        vertical-align: middle;\n",
       "    }\n",
       "\n",
       "    .dataframe tbody tr th {\n",
       "        vertical-align: top;\n",
       "    }\n",
       "\n",
       "    .dataframe thead th {\n",
       "        text-align: right;\n",
       "    }\n",
       "</style>\n",
       "<table border=\"1\" class=\"dataframe\">\n",
       "  <thead>\n",
       "    <tr style=\"text-align: right;\">\n",
       "      <th></th>\n",
       "      <th>HO</th>\n",
       "      <th>LO</th>\n",
       "      <th>CO</th>\n",
       "    </tr>\n",
       "    <tr>\n",
       "      <th>Date</th>\n",
       "      <th></th>\n",
       "      <th></th>\n",
       "      <th></th>\n",
       "    </tr>\n",
       "  </thead>\n",
       "  <tbody>\n",
       "    <tr>\n",
       "      <th>2019-12-05 14:15:00</th>\n",
       "      <td>1.001169</td>\n",
       "      <td>0.999708</td>\n",
       "      <td>1.000876</td>\n",
       "    </tr>\n",
       "    <tr>\n",
       "      <th>2019-12-05 14:16:00</th>\n",
       "      <td>1.000584</td>\n",
       "      <td>0.999416</td>\n",
       "      <td>1.000292</td>\n",
       "    </tr>\n",
       "    <tr>\n",
       "      <th>2019-12-05 14:17:00</th>\n",
       "      <td>1.000000</td>\n",
       "      <td>0.999417</td>\n",
       "      <td>0.999417</td>\n",
       "    </tr>\n",
       "    <tr>\n",
       "      <th>2019-12-05 14:18:00</th>\n",
       "      <td>1.000292</td>\n",
       "      <td>0.999708</td>\n",
       "      <td>1.000292</td>\n",
       "    </tr>\n",
       "    <tr>\n",
       "      <th>2019-12-05 14:19:00</th>\n",
       "      <td>1.000292</td>\n",
       "      <td>0.999708</td>\n",
       "      <td>1.000000</td>\n",
       "    </tr>\n",
       "  </tbody>\n",
       "</table>\n",
       "</div>"
      ],
      "text/plain": [
       "                           HO        LO        CO\n",
       "Date                                             \n",
       "2019-12-05 14:15:00  1.001169  0.999708  1.000876\n",
       "2019-12-05 14:16:00  1.000584  0.999416  1.000292\n",
       "2019-12-05 14:17:00  1.000000  0.999417  0.999417\n",
       "2019-12-05 14:18:00  1.000292  0.999708  1.000292\n",
       "2019-12-05 14:19:00  1.000292  0.999708  1.000000"
      ]
     },
     "execution_count": 83,
     "metadata": {},
     "output_type": "execute_result"
    }
   ],
   "source": [
    "rbCluster = rbBar.loc[:,['HO','LO','CO']]\n",
    "rbCluster.head()"
   ]
  },
  {
   "cell_type": "markdown",
   "metadata": {
    "slideshow": {
     "slide_type": "slide"
    }
   },
   "source": [
    "### 选择`k`值"
   ]
  },
  {
   "cell_type": "code",
   "execution_count": 121,
   "metadata": {
    "slideshow": {
     "slide_type": "fragment"
    }
   },
   "outputs": [
    {
     "data": {
      "text/plain": [
       "KMeans(algorithm='auto', copy_x=True, init='k-means++', max_iter=300,\n",
       "       n_clusters=1, n_init=10, n_jobs=None, precompute_distances='auto',\n",
       "       random_state=10, tol=0.0001, verbose=0)"
      ]
     },
     "execution_count": 121,
     "metadata": {},
     "output_type": "execute_result"
    },
    {
     "data": {
      "text/plain": [
       "KMeans(algorithm='auto', copy_x=True, init='k-means++', max_iter=300,\n",
       "       n_clusters=2, n_init=10, n_jobs=None, precompute_distances='auto',\n",
       "       random_state=10, tol=0.0001, verbose=0)"
      ]
     },
     "execution_count": 121,
     "metadata": {},
     "output_type": "execute_result"
    },
    {
     "data": {
      "text/plain": [
       "KMeans(algorithm='auto', copy_x=True, init='k-means++', max_iter=300,\n",
       "       n_clusters=3, n_init=10, n_jobs=None, precompute_distances='auto',\n",
       "       random_state=10, tol=0.0001, verbose=0)"
      ]
     },
     "execution_count": 121,
     "metadata": {},
     "output_type": "execute_result"
    },
    {
     "data": {
      "text/plain": [
       "KMeans(algorithm='auto', copy_x=True, init='k-means++', max_iter=300,\n",
       "       n_clusters=4, n_init=10, n_jobs=None, precompute_distances='auto',\n",
       "       random_state=10, tol=0.0001, verbose=0)"
      ]
     },
     "execution_count": 121,
     "metadata": {},
     "output_type": "execute_result"
    },
    {
     "data": {
      "text/plain": [
       "KMeans(algorithm='auto', copy_x=True, init='k-means++', max_iter=300,\n",
       "       n_clusters=5, n_init=10, n_jobs=None, precompute_distances='auto',\n",
       "       random_state=10, tol=0.0001, verbose=0)"
      ]
     },
     "execution_count": 121,
     "metadata": {},
     "output_type": "execute_result"
    },
    {
     "data": {
      "text/plain": [
       "KMeans(algorithm='auto', copy_x=True, init='k-means++', max_iter=300,\n",
       "       n_clusters=6, n_init=10, n_jobs=None, precompute_distances='auto',\n",
       "       random_state=10, tol=0.0001, verbose=0)"
      ]
     },
     "execution_count": 121,
     "metadata": {},
     "output_type": "execute_result"
    },
    {
     "data": {
      "text/plain": [
       "KMeans(algorithm='auto', copy_x=True, init='k-means++', max_iter=300,\n",
       "       n_clusters=7, n_init=10, n_jobs=None, precompute_distances='auto',\n",
       "       random_state=10, tol=0.0001, verbose=0)"
      ]
     },
     "execution_count": 121,
     "metadata": {},
     "output_type": "execute_result"
    },
    {
     "data": {
      "text/plain": [
       "KMeans(algorithm='auto', copy_x=True, init='k-means++', max_iter=300,\n",
       "       n_clusters=8, n_init=10, n_jobs=None, precompute_distances='auto',\n",
       "       random_state=10, tol=0.0001, verbose=0)"
      ]
     },
     "execution_count": 121,
     "metadata": {},
     "output_type": "execute_result"
    },
    {
     "data": {
      "text/plain": [
       "KMeans(algorithm='auto', copy_x=True, init='k-means++', max_iter=300,\n",
       "       n_clusters=9, n_init=10, n_jobs=None, precompute_distances='auto',\n",
       "       random_state=10, tol=0.0001, verbose=0)"
      ]
     },
     "execution_count": 121,
     "metadata": {},
     "output_type": "execute_result"
    },
    {
     "data": {
      "text/plain": [
       "KMeans(algorithm='auto', copy_x=True, init='k-means++', max_iter=300,\n",
       "       n_clusters=10, n_init=10, n_jobs=None, precompute_distances='auto',\n",
       "       random_state=10, tol=0.0001, verbose=0)"
      ]
     },
     "execution_count": 121,
     "metadata": {},
     "output_type": "execute_result"
    },
    {
     "data": {
      "text/plain": [
       "[[Text(0, 0, '1'),\n",
       "  Text(0, 0, '2'),\n",
       "  Text(0, 0, '3'),\n",
       "  Text(0, 0, '4'),\n",
       "  Text(0, 0, '5'),\n",
       "  Text(0, 0, '6'),\n",
       "  Text(0, 0, '7'),\n",
       "  Text(0, 0, '8'),\n",
       "  Text(0, 0, '9'),\n",
       "  Text(0, 0, '10')]]"
      ]
     },
     "execution_count": 121,
     "metadata": {},
     "output_type": "execute_result"
    },
    {
     "data": {
      "image/png": "[encoded data removed]",
      "text/plain": [
       "<Figure size 864x432 with 1 Axes>"
      ]
     },
     "metadata": {
      "needs_background": "light"
     },
     "output_type": "display_data"
    }
   ],
   "source": [
    "rbSSE = []\n",
    "for i in range(1,11):\n",
    "    tmp = cluster.KMeans(n_clusters=i,random_state=10)\n",
    "    tmp.fit(rbCluster)\n",
    "    rbSSE.append(tmp.inertia_)\n",
    "axrb = pd.Series(rbSSE).plot(kind='line',figsize=(12,6),marker='o',grid=True,xticks=range(0,10))\n",
    "axrb.set(xticklabels=range(1,11))  "
   ]
  },
  {
   "cell_type": "markdown",
   "metadata": {
    "slideshow": {
     "slide_type": "fragment"
    }
   },
   "source": [
    "- 选择$k=3$"
   ]
  },
  {
   "cell_type": "markdown",
   "metadata": {
    "slideshow": {
     "slide_type": "slide"
    }
   },
   "source": [
    "### 聚类"
   ]
  },
  {
   "cell_type": "code",
   "execution_count": 113,
   "metadata": {
    "slideshow": {
     "slide_type": "fragment"
    }
   },
   "outputs": [
    {
     "data": {
      "text/plain": [
       "KMeans(algorithm='auto', copy_x=True, init='k-means++', max_iter=300,\n",
       "       n_clusters=3, n_init=10, n_jobs=None, precompute_distances='auto',\n",
       "       random_state=10, tol=0.0001, verbose=0)"
      ]
     },
     "execution_count": 113,
     "metadata": {},
     "output_type": "execute_result"
    }
   ],
   "source": [
    "rbkm = cluster.KMeans(n_clusters=3,random_state=10)\n",
    "rbkm.fit(rbCluster)"
   ]
  },
  {
   "cell_type": "code",
   "execution_count": 101,
   "metadata": {
    "slideshow": {
     "slide_type": "fragment"
    }
   },
   "outputs": [
    {
     "data": {
      "text/html": [
       "<div>\n",
       "<style scoped>\n",
       "    .dataframe tbody tr th:only-of-type {\n",
       "        vertical-align: middle;\n",
       "    }\n",
       "\n",
       "    .dataframe tbody tr th {\n",
       "        vertical-align: top;\n",
       "    }\n",
       "\n",
       "    .dataframe thead th {\n",
       "        text-align: right;\n",
       "    }\n",
       "</style>\n",
       "<table border=\"1\" class=\"dataframe\">\n",
       "  <thead>\n",
       "    <tr style=\"text-align: right;\">\n",
       "      <th></th>\n",
       "      <th>Open</th>\n",
       "      <th>High</th>\n",
       "      <th>Low</th>\n",
       "      <th>Close</th>\n",
       "      <th>HO</th>\n",
       "      <th>LO</th>\n",
       "      <th>CO</th>\n",
       "      <th>Cluster</th>\n",
       "    </tr>\n",
       "    <tr>\n",
       "      <th>Date</th>\n",
       "      <th></th>\n",
       "      <th></th>\n",
       "      <th></th>\n",
       "      <th></th>\n",
       "      <th></th>\n",
       "      <th></th>\n",
       "      <th></th>\n",
       "      <th></th>\n",
       "    </tr>\n",
       "  </thead>\n",
       "  <tbody>\n",
       "    <tr>\n",
       "      <th>2019-12-05 14:15:00</th>\n",
       "      <td>3423.0</td>\n",
       "      <td>3427.0</td>\n",
       "      <td>3422.0</td>\n",
       "      <td>3426.0</td>\n",
       "      <td>1.001169</td>\n",
       "      <td>0.999708</td>\n",
       "      <td>1.000876</td>\n",
       "      <td>2</td>\n",
       "    </tr>\n",
       "    <tr>\n",
       "      <th>2019-12-05 14:16:00</th>\n",
       "      <td>3426.0</td>\n",
       "      <td>3428.0</td>\n",
       "      <td>3424.0</td>\n",
       "      <td>3427.0</td>\n",
       "      <td>1.000584</td>\n",
       "      <td>0.999416</td>\n",
       "      <td>1.000292</td>\n",
       "      <td>0</td>\n",
       "    </tr>\n",
       "    <tr>\n",
       "      <th>2019-12-05 14:17:00</th>\n",
       "      <td>3428.0</td>\n",
       "      <td>3428.0</td>\n",
       "      <td>3426.0</td>\n",
       "      <td>3426.0</td>\n",
       "      <td>1.000000</td>\n",
       "      <td>0.999417</td>\n",
       "      <td>0.999417</td>\n",
       "      <td>1</td>\n",
       "    </tr>\n",
       "    <tr>\n",
       "      <th>2019-12-05 14:18:00</th>\n",
       "      <td>3426.0</td>\n",
       "      <td>3427.0</td>\n",
       "      <td>3425.0</td>\n",
       "      <td>3427.0</td>\n",
       "      <td>1.000292</td>\n",
       "      <td>0.999708</td>\n",
       "      <td>1.000292</td>\n",
       "      <td>0</td>\n",
       "    </tr>\n",
       "    <tr>\n",
       "      <th>2019-12-05 14:19:00</th>\n",
       "      <td>3427.0</td>\n",
       "      <td>3428.0</td>\n",
       "      <td>3426.0</td>\n",
       "      <td>3427.0</td>\n",
       "      <td>1.000292</td>\n",
       "      <td>0.999708</td>\n",
       "      <td>1.000000</td>\n",
       "      <td>0</td>\n",
       "    </tr>\n",
       "  </tbody>\n",
       "</table>\n",
       "</div>"
      ],
      "text/plain": [
       "                       Open    High     Low   Close        HO        LO  \\\n",
       "Date                                                                      \n",
       "2019-12-05 14:15:00  3423.0  3427.0  3422.0  3426.0  1.001169  0.999708   \n",
       "2019-12-05 14:16:00  3426.0  3428.0  3424.0  3427.0  1.000584  0.999416   \n",
       "2019-12-05 14:17:00  3428.0  3428.0  3426.0  3426.0  1.000000  0.999417   \n",
       "2019-12-05 14:18:00  3426.0  3427.0  3425.0  3427.0  1.000292  0.999708   \n",
       "2019-12-05 14:19:00  3427.0  3428.0  3426.0  3427.0  1.000292  0.999708   \n",
       "\n",
       "                           CO  Cluster  \n",
       "Date                                    \n",
       "2019-12-05 14:15:00  1.000876        2  \n",
       "2019-12-05 14:16:00  1.000292        0  \n",
       "2019-12-05 14:17:00  0.999417        1  \n",
       "2019-12-05 14:18:00  1.000292        0  \n",
       "2019-12-05 14:19:00  1.000000        0  "
      ]
     },
     "execution_count": 101,
     "metadata": {},
     "output_type": "execute_result"
    }
   ],
   "source": [
    "rbBar['Cluster'] = rbkm.labels_\n",
    "rbBar.head()"
   ]
  },
  {
   "cell_type": "code",
   "execution_count": 114,
   "metadata": {
    "slideshow": {
     "slide_type": "fragment"
    }
   },
   "outputs": [
    {
     "data": {
      "text/plain": [
       "0.4294822728303344"
      ]
     },
     "execution_count": 114,
     "metadata": {},
     "output_type": "execute_result"
    }
   ],
   "source": [
    "metrics.silhouette_score(rbCluster,rbkm.labels_)"
   ]
  },
  {
   "cell_type": "markdown",
   "metadata": {
    "slideshow": {
     "slide_type": "slide"
    }
   },
   "source": [
    "### 可视化展示"
   ]
  },
  {
   "cell_type": "code",
   "execution_count": 137,
   "metadata": {
    "slideshow": {
     "slide_type": "fragment"
    }
   },
   "outputs": [
    {
     "data": {
      "text/plain": [
       "<mpl_toolkits.mplot3d.art3d.Path3DCollection at 0x7f3fcedb8c18>"
      ]
     },
     "execution_count": 137,
     "metadata": {},
     "output_type": "execute_result"
    },
    {
     "data": {
      "text/plain": [
       "Text(0.5, 0, 'High/Open')"
      ]
     },
     "execution_count": 137,
     "metadata": {},
     "output_type": "execute_result"
    },
    {
     "data": {
      "text/plain": [
       "Text(0.5, 0, 'Low/Open')"
      ]
     },
     "execution_count": 137,
     "metadata": {},
     "output_type": "execute_result"
    },
    {
     "data": {
      "text/plain": [
       "Text(0.5, 0, 'Close/Open')"
      ]
     },
     "execution_count": 137,
     "metadata": {},
     "output_type": "execute_result"
    },
    {
     "data": {
      "image/png": "[encoded data removed]",
      "text/plain": [
       "<Figure size 864x648 with 1 Axes>"
      ]
     },
     "metadata": {},
     "output_type": "display_data"
    }
   ],
   "source": [
    "fig = plt.figure(figsize=(12, 9))\n",
    "ax = Axes3D(fig, elev=21, azim=-136)\n",
    "ax.scatter(\n",
    "    rbBar[\"HO\"], rbBar[\"LO\"], rbBar[\"CO\"], \n",
    "    c=rbkm.labels_.astype(np.float)\n",
    ")\n",
    "ax.set_xlabel('High/Open')\n",
    "ax.set_ylabel('Low/Open')\n",
    "ax.set_zlabel('Close/Open')\n",
    "plt.style.use('seaborn-poster')\n",
    "plt.show()"
   ]
  },
  {
   "cell_type": "markdown",
   "metadata": {
    "slideshow": {
     "slide_type": "slide"
    }
   },
   "source": [
    "# 文本挖掘"
   ]
  },
  {
   "cell_type": "markdown",
   "metadata": {
    "slideshow": {
     "slide_type": "fragment"
    }
   },
   "source": [
    "## 基本概念"
   ]
  },
  {
   "cell_type": "markdown",
   "metadata": {
    "slideshow": {
     "slide_type": "fragment"
    }
   },
   "source": [
    "- 从非结构化的文本文档中提取有趣的、重要的模式和知识"
   ]
  },
  {
   "cell_type": "markdown",
   "metadata": {
    "slideshow": {
     "slide_type": "fragment"
    }
   },
   "source": [
    "- 属于***自然语言处理（Natural Language Processing, NLP）***\n",
    "    - 人工智能和语言学领域的交叉学科，研究如何让计算机“读懂”及运用自然语言"
   ]
  },
  {
   "cell_type": "markdown",
   "metadata": {
    "slideshow": {
     "slide_type": "fragment"
    }
   },
   "source": [
    "- 文本挖掘一般流程\n",
    "\n",
    "<center><img src=\"./img/dataMining/textMiningProcess.png\" width=50%></center>"
   ]
  },
  {
   "cell_type": "markdown",
   "metadata": {
    "slideshow": {
     "slide_type": "slide"
    }
   },
   "source": [
    "## 文本预处理"
   ]
  },
  {
   "cell_type": "markdown",
   "metadata": {
    "slideshow": {
     "slide_type": "fragment"
    }
   },
   "source": [
    "- 电影评论\n",
    "\n",
    "> review 1: This movie is very scary and long\n",
    "\n",
    "> review 2: This movie is not scary and is slow\n",
    "\n",
    "> review 3: This movie is spooky and good"
   ]
  },
  {
   "cell_type": "markdown",
   "metadata": {
    "slideshow": {
     "slide_type": "slide"
    }
   },
   "source": [
    "### 词袋模型"
   ]
  },
  {
   "cell_type": "markdown",
   "metadata": {
    "slideshow": {
     "slide_type": "fragment"
    }
   },
   "source": [
    "<dl class=\"row text-danger\">\n",
    "    <dt class=\"col-md-6\">词袋模型（bag-of-words, BoW）</dt>\n",
    "    <dd class=\"col-md-6\">\n",
    "        <p>一种从文本中提取<strong>特征</strong>的方法</p>\n",
    "        <p>将文本表示成<strong>数字（词在文本中出现的频率）</strong></p>\n",
    "    </dd>\n",
    "</dl>"
   ]
  },
  {
   "cell_type": "markdown",
   "metadata": {
    "slideshow": {
     "slide_type": "fragment"
    }
   },
   "source": [
    "- 舍弃词语的顺序和结构，只保留词语在文档中出现的频次"
   ]
  },
  {
   "cell_type": "markdown",
   "metadata": {
    "slideshow": {
     "slide_type": "slide"
    }
   },
   "source": [
    "### 分词"
   ]
  },
  {
   "cell_type": "markdown",
   "metadata": {
    "slideshow": {
     "slide_type": "fragment"
    }
   },
   "source": [
    "- 将文本分割成**独特的词元（token）**，形成一个词汇表（vocabulary），该过程又被称作tokenization"
   ]
  },
  {
   "cell_type": "markdown",
   "metadata": {
    "slideshow": {
     "slide_type": "fragment"
    }
   },
   "source": [
    "- 每篇文档表示成与词汇表（vocabulary）中**词元个数**相等的**数组（向量）**，该数组中的每个值就是每个词元在该文档中出现的**频率**"
   ]
  },
  {
   "cell_type": "markdown",
   "metadata": {
    "slideshow": {
     "slide_type": "fragment"
    }
   },
   "source": [
    "''|This|movie|is|very|scary|and|long|not|slow|spooky|good\n",
    "---|---|---|---|---|---|---|---|---|---|---|---\n",
    "Review 1|1|1|1|1|1|1|1|0|0|0|0\n",
    "Review 2|1|1|2|0|1|1|0|1|1|0|0\n",
    "Review 3|1|1|1|0|0|1|0|0|0|1|1\n"
   ]
  },
  {
   "cell_type": "markdown",
   "metadata": {
    "slideshow": {
     "slide_type": "slide"
    }
   },
   "source": [
    "#### `sklearn`实现"
   ]
  },
  {
   "cell_type": "markdown",
   "metadata": {
    "slideshow": {
     "slide_type": "fragment"
    }
   },
   "source": [
    "```python\n",
    "from sklearn.feature_extraction import text\n",
    "text.CountVectorizer()\n",
    "```"
   ]
  },
  {
   "cell_type": "code",
   "execution_count": 20,
   "metadata": {
    "slideshow": {
     "slide_type": "fragment"
    }
   },
   "outputs": [],
   "source": [
    "docs = ['This movie is very scary and long','This movie is not scary and is slow','This movie is spooky and good']"
   ]
  },
  {
   "cell_type": "markdown",
   "metadata": {
    "slideshow": {
     "slide_type": "slide"
    }
   },
   "source": [
    "##### 建立模型并训练"
   ]
  },
  {
   "cell_type": "code",
   "execution_count": 21,
   "metadata": {
    "slideshow": {
     "slide_type": "fragment"
    }
   },
   "outputs": [
    {
     "data": {
      "text/plain": [
       "CountVectorizer(analyzer='word', binary=False, decode_error='strict',\n",
       "                dtype=<class 'numpy.int64'>, encoding='utf-8', input='content',\n",
       "                lowercase=True, max_df=1.0, max_features=None, min_df=1,\n",
       "                ngram_range=(1, 1), preprocessor=None, stop_words=None,\n",
       "                strip_accents=None, token_pattern='(?u)\\\\b\\\\w\\\\w+\\\\b',\n",
       "                tokenizer=None, vocabulary=None)"
      ]
     },
     "execution_count": 21,
     "metadata": {},
     "output_type": "execute_result"
    }
   ],
   "source": [
    "count = text.CountVectorizer()\n",
    "count.fit(docs)"
   ]
  },
  {
   "cell_type": "code",
   "execution_count": 22,
   "metadata": {
    "slideshow": {
     "slide_type": "fragment"
    }
   },
   "outputs": [],
   "source": [
    "bag = count.transform(docs)"
   ]
  },
  {
   "cell_type": "markdown",
   "metadata": {
    "slideshow": {
     "slide_type": "slide"
    }
   },
   "source": [
    "##### 获得特征（词元）名称"
   ]
  },
  {
   "cell_type": "code",
   "execution_count": 23,
   "metadata": {
    "slideshow": {
     "slide_type": "fragment"
    }
   },
   "outputs": [
    {
     "data": {
      "text/plain": [
       "['and',\n",
       " 'good',\n",
       " 'is',\n",
       " 'long',\n",
       " 'movie',\n",
       " 'not',\n",
       " 'scary',\n",
       " 'slow',\n",
       " 'spooky',\n",
       " 'this',\n",
       " 'very']"
      ]
     },
     "execution_count": 23,
     "metadata": {},
     "output_type": "execute_result"
    }
   ],
   "source": [
    "count.get_feature_names()"
   ]
  },
  {
   "cell_type": "markdown",
   "metadata": {
    "slideshow": {
     "slide_type": "slide"
    }
   },
   "source": [
    "##### 获取特征向量"
   ]
  },
  {
   "cell_type": "code",
   "execution_count": 24,
   "metadata": {
    "slideshow": {
     "slide_type": "fragment"
    }
   },
   "outputs": [
    {
     "data": {
      "text/plain": [
       "array([[1, 0, 1, 1, 1, 0, 1, 0, 0, 1, 1],\n",
       "       [1, 0, 2, 0, 1, 1, 1, 1, 0, 1, 0],\n",
       "       [1, 1, 1, 0, 1, 0, 0, 0, 1, 1, 0]])"
      ]
     },
     "execution_count": 24,
     "metadata": {},
     "output_type": "execute_result"
    }
   ],
   "source": [
    "bag.toarray()"
   ]
  },
  {
   "cell_type": "code",
   "execution_count": 32,
   "metadata": {
    "slideshow": {
     "slide_type": "fragment"
    }
   },
   "outputs": [
    {
     "data": {
      "text/html": [
       "<div>\n",
       "<style scoped>\n",
       "    .dataframe tbody tr th:only-of-type {\n",
       "        vertical-align: middle;\n",
       "    }\n",
       "\n",
       "    .dataframe tbody tr th {\n",
       "        vertical-align: top;\n",
       "    }\n",
       "\n",
       "    .dataframe thead th {\n",
       "        text-align: right;\n",
       "    }\n",
       "</style>\n",
       "<table border=\"1\" class=\"dataframe\">\n",
       "  <thead>\n",
       "    <tr style=\"text-align: right;\">\n",
       "      <th></th>\n",
       "      <th>and</th>\n",
       "      <th>good</th>\n",
       "      <th>is</th>\n",
       "      <th>long</th>\n",
       "      <th>movie</th>\n",
       "      <th>not</th>\n",
       "      <th>scary</th>\n",
       "      <th>slow</th>\n",
       "      <th>spooky</th>\n",
       "      <th>this</th>\n",
       "      <th>very</th>\n",
       "    </tr>\n",
       "  </thead>\n",
       "  <tbody>\n",
       "    <tr>\n",
       "      <th>0</th>\n",
       "      <td>1</td>\n",
       "      <td>0</td>\n",
       "      <td>1</td>\n",
       "      <td>1</td>\n",
       "      <td>1</td>\n",
       "      <td>0</td>\n",
       "      <td>1</td>\n",
       "      <td>0</td>\n",
       "      <td>0</td>\n",
       "      <td>1</td>\n",
       "      <td>1</td>\n",
       "    </tr>\n",
       "    <tr>\n",
       "      <th>1</th>\n",
       "      <td>1</td>\n",
       "      <td>0</td>\n",
       "      <td>2</td>\n",
       "      <td>0</td>\n",
       "      <td>1</td>\n",
       "      <td>1</td>\n",
       "      <td>1</td>\n",
       "      <td>1</td>\n",
       "      <td>0</td>\n",
       "      <td>1</td>\n",
       "      <td>0</td>\n",
       "    </tr>\n",
       "    <tr>\n",
       "      <th>2</th>\n",
       "      <td>1</td>\n",
       "      <td>1</td>\n",
       "      <td>1</td>\n",
       "      <td>0</td>\n",
       "      <td>1</td>\n",
       "      <td>0</td>\n",
       "      <td>0</td>\n",
       "      <td>0</td>\n",
       "      <td>1</td>\n",
       "      <td>1</td>\n",
       "      <td>0</td>\n",
       "    </tr>\n",
       "  </tbody>\n",
       "</table>\n",
       "</div>"
      ],
      "text/plain": [
       "   and  good  is  long  movie  not  scary  slow  spooky  this  very\n",
       "0    1     0   1     1      1    0      1     0       0     1     1\n",
       "1    1     0   2     0      1    1      1     1       0     1     0\n",
       "2    1     1   1     0      1    0      0     0       1     1     0"
      ]
     },
     "execution_count": 32,
     "metadata": {},
     "output_type": "execute_result"
    }
   ],
   "source": [
    "pd.DataFrame(bag.toarray(),columns=count.get_feature_names())"
   ]
  },
  {
   "cell_type": "markdown",
   "metadata": {
    "slideshow": {
     "slide_type": "slide"
    }
   },
   "source": [
    "#### 其他NLP工具"
   ]
  },
  {
   "cell_type": "markdown",
   "metadata": {
    "slideshow": {
     "slide_type": "fragment"
    }
   },
   "source": [
    "- 英文NLP工具\n",
    "    - `NLTK`（Natural Language Toolkit）：基于`python`的自然语言处理工具包\n",
    "    - [https://www.nltk.org](https://www.nltk.org)\n",
    "    - 安装`pip install nltk`"
   ]
  },
  {
   "cell_type": "markdown",
   "metadata": {
    "slideshow": {
     "slide_type": "fragment"
    }
   },
   "source": [
    "- 中文NLP工具\n",
    "    - 结巴（jieba）分词：[https://github.com/fxsjy/jieba](https://github.com/fxsjy/jieba)\n",
    "    - 哈工大LTP：[http://ltp.ai](http://ltp.ai)\n",
    "    - 清华大学THULAC：[http://thulac.thunlp.org](http://thulac.thunlp.org)\n",
    "    - 北京大学pkuseg：[https://github.com/lancopku/PKUSeg-python](https://github.com/lancopku/PKUSeg-python)\n",
    "    - 斯坦福分词器：[https://stanfordnlp.github.io/CoreNLP/](https://stanfordnlp.github.io/CoreNLP/)\n",
    "    - Hanlp分词：[https://github.com/hankcs/HanLP/](https://github.com/hankcs/HanLP/)"
   ]
  },
  {
   "cell_type": "markdown",
   "metadata": {
    "slideshow": {
     "slide_type": "slide"
    }
   },
   "source": [
    "#### jieba分词"
   ]
  },
  {
   "cell_type": "markdown",
   "metadata": {
    "slideshow": {
     "slide_type": "fragment"
    }
   },
   "source": [
    "- 安装 \n",
    "\n",
    "```python\n",
    "pip install jieba\n",
    "```"
   ]
  },
  {
   "cell_type": "markdown",
   "metadata": {
    "slideshow": {
     "slide_type": "fragment"
    }
   },
   "source": [
    "- 使用\n",
    "\n",
    "```python\n",
    "import jieba\n",
    "jieba.cut()\n",
    "```\n",
    "- 参数：需要分词的字符串\n",
    "- `cut_all`：是否采用全模式\n",
    "- 返回一个可迭代对象，通过`for`循环获得分词后的每个词语\n",
    "\n",
    "```python\n",
    "jieba.lcut()\n",
    "```\n",
    "- 参数同`jieba.cut`，返回的是一个分词后构成的列表"
   ]
  },
  {
   "cell_type": "code",
   "execution_count": 37,
   "metadata": {
    "slideshow": {
     "slide_type": "slide"
    }
   },
   "outputs": [],
   "source": [
    "trainText = ['纽约市长白思豪表示','初步迹象显示这是蓄意实施的行为','也无明确证据显示新泽西和纽约曼哈顿爆炸事件有关联']"
   ]
  },
  {
   "cell_type": "code",
   "execution_count": 38,
   "metadata": {
    "slideshow": {
     "slide_type": "fragment"
    }
   },
   "outputs": [
    {
     "name": "stderr",
     "output_type": "stream",
     "text": [
      "Building prefix dict from the default dictionary ...\n",
      "Dumping model to file cache /tmp/jieba.cache\n",
      "Loading model cost 1.169 seconds.\n",
      "Prefix dict has been built successfully.\n"
     ]
    },
    {
     "name": "stdout",
     "output_type": "stream",
     "text": [
      "纽约\n",
      "纽约市\n",
      "市长\n",
      "长白\n",
      "思\n",
      "豪\n",
      "表示\n"
     ]
    }
   ],
   "source": [
    "segIter = jieba.cut(trainText[0],cut_all=True)\n",
    "for each in segIter:\n",
    "    print(each)"
   ]
  },
  {
   "cell_type": "code",
   "execution_count": 39,
   "metadata": {
    "slideshow": {
     "slide_type": "fragment"
    }
   },
   "outputs": [
    {
     "data": {
      "text/plain": [
       "['纽约市', '长白', '思豪', '表示']"
      ]
     },
     "execution_count": 39,
     "metadata": {},
     "output_type": "execute_result"
    }
   ],
   "source": [
    "segLst = jieba.lcut(trainText[0],cut_all=False)\n",
    "segLst"
   ]
  },
  {
   "cell_type": "markdown",
   "metadata": {
    "slideshow": {
     "slide_type": "slide"
    }
   },
   "source": [
    "##### 向量化"
   ]
  },
  {
   "cell_type": "code",
   "execution_count": 41,
   "metadata": {
    "slideshow": {
     "slide_type": "fragment"
    }
   },
   "outputs": [
    {
     "data": {
      "text/plain": [
       "CountVectorizer(analyzer='word', binary=False, decode_error='strict',\n",
       "                dtype=<class 'numpy.int64'>, encoding='utf-8', input='content',\n",
       "                lowercase=True, max_df=1.0, max_features=None, min_df=1,\n",
       "                ngram_range=(1, 1), preprocessor=None, stop_words=None,\n",
       "                strip_accents=None, token_pattern='(?u)\\\\b\\\\w\\\\w+\\\\b',\n",
       "                tokenizer=None, vocabulary=None)"
      ]
     },
     "execution_count": 41,
     "metadata": {},
     "output_type": "execute_result"
    }
   ],
   "source": [
    "chCount = text.CountVectorizer()\n",
    "chCount.fit(trainText)"
   ]
  },
  {
   "cell_type": "code",
   "execution_count": 42,
   "metadata": {
    "slideshow": {
     "slide_type": "fragment"
    }
   },
   "outputs": [
    {
     "data": {
      "text/plain": [
       "['也无明确证据显示新泽西和纽约曼哈顿爆炸事件有关联', '初步迹象显示这是蓄意实施的行为', '纽约市长白思豪表示']"
      ]
     },
     "execution_count": 42,
     "metadata": {},
     "output_type": "execute_result"
    }
   ],
   "source": [
    "chCount.get_feature_names()"
   ]
  },
  {
   "cell_type": "markdown",
   "metadata": {
    "slideshow": {
     "slide_type": "fragment"
    }
   },
   "source": [
    "- `CountVectorizer()`本身不支持中文"
   ]
  },
  {
   "cell_type": "markdown",
   "metadata": {
    "slideshow": {
     "slide_type": "slide"
    }
   },
   "source": [
    "##### 利用jieba分词的结果向量化"
   ]
  },
  {
   "cell_type": "markdown",
   "metadata": {
    "slideshow": {
     "slide_type": "fragment"
    }
   },
   "source": [
    "- 将jieba分词后的词语用**空格**连接起来"
   ]
  },
  {
   "cell_type": "code",
   "execution_count": 67,
   "metadata": {
    "slideshow": {
     "slide_type": "fragment"
    }
   },
   "outputs": [
    {
     "data": {
      "text/plain": [
       "['纽约市 长白 思豪 表示',\n",
       " '初步 迹象 显示 这是 蓄意 实施 的 行为',\n",
       " '也 无 明确 证据 显示 新泽西 和 纽约 曼哈顿 爆炸事件 有 关联']"
      ]
     },
     "execution_count": 67,
     "metadata": {},
     "output_type": "execute_result"
    }
   ],
   "source": [
    "trainData = []\n",
    "for each in trainText:\n",
    "    trainData.append(' '.join(jieba.cut(each,cut_all=False)))\n",
    "trainData"
   ]
  },
  {
   "cell_type": "markdown",
   "metadata": {
    "slideshow": {
     "slide_type": "slide"
    }
   },
   "source": [
    "- 重新向量化"
   ]
  },
  {
   "cell_type": "code",
   "execution_count": 68,
   "metadata": {
    "slideshow": {
     "slide_type": "fragment"
    }
   },
   "outputs": [
    {
     "data": {
      "text/plain": [
       "CountVectorizer(analyzer='word', binary=False, decode_error='strict',\n",
       "                dtype=<class 'numpy.int64'>, encoding='utf-8', input='content',\n",
       "                lowercase=True, max_df=1.0, max_features=None, min_df=1,\n",
       "                ngram_range=(1, 1), preprocessor=None, stop_words=None,\n",
       "                strip_accents=None, token_pattern='(?u)\\\\b\\\\w\\\\w+\\\\b',\n",
       "                tokenizer=None, vocabulary=None)"
      ]
     },
     "execution_count": 68,
     "metadata": {},
     "output_type": "execute_result"
    }
   ],
   "source": [
    "chCountJ = text.CountVectorizer()\n",
    "chCountJ.fit(trainData)"
   ]
  },
  {
   "cell_type": "code",
   "execution_count": 69,
   "metadata": {
    "slideshow": {
     "slide_type": "fragment"
    }
   },
   "outputs": [
    {
     "data": {
      "text/plain": [
       "['关联',\n",
       " '初步',\n",
       " '实施',\n",
       " '思豪',\n",
       " '新泽西',\n",
       " '明确',\n",
       " '显示',\n",
       " '曼哈顿',\n",
       " '爆炸事件',\n",
       " '纽约',\n",
       " '纽约市',\n",
       " '蓄意',\n",
       " '行为',\n",
       " '表示',\n",
       " '证据',\n",
       " '这是',\n",
       " '迹象',\n",
       " '长白']"
      ]
     },
     "execution_count": 69,
     "metadata": {},
     "output_type": "execute_result"
    }
   ],
   "source": [
    "chCountJ.get_feature_names()"
   ]
  },
  {
   "cell_type": "code",
   "execution_count": 71,
   "metadata": {
    "slideshow": {
     "slide_type": "fragment"
    }
   },
   "outputs": [
    {
     "data": {
      "text/html": [
       "<div>\n",
       "<style scoped>\n",
       "    .dataframe tbody tr th:only-of-type {\n",
       "        vertical-align: middle;\n",
       "    }\n",
       "\n",
       "    .dataframe tbody tr th {\n",
       "        vertical-align: top;\n",
       "    }\n",
       "\n",
       "    .dataframe thead th {\n",
       "        text-align: right;\n",
       "    }\n",
       "</style>\n",
       "<table border=\"1\" class=\"dataframe\">\n",
       "  <thead>\n",
       "    <tr style=\"text-align: right;\">\n",
       "      <th></th>\n",
       "      <th>关联</th>\n",
       "      <th>初步</th>\n",
       "      <th>实施</th>\n",
       "      <th>思豪</th>\n",
       "      <th>新泽西</th>\n",
       "      <th>明确</th>\n",
       "      <th>显示</th>\n",
       "      <th>曼哈顿</th>\n",
       "      <th>爆炸事件</th>\n",
       "      <th>纽约</th>\n",
       "      <th>纽约市</th>\n",
       "      <th>蓄意</th>\n",
       "      <th>行为</th>\n",
       "      <th>表示</th>\n",
       "      <th>证据</th>\n",
       "      <th>这是</th>\n",
       "      <th>迹象</th>\n",
       "      <th>长白</th>\n",
       "    </tr>\n",
       "  </thead>\n",
       "  <tbody>\n",
       "    <tr>\n",
       "      <th>0</th>\n",
       "      <td>0</td>\n",
       "      <td>0</td>\n",
       "      <td>0</td>\n",
       "      <td>1</td>\n",
       "      <td>0</td>\n",
       "      <td>0</td>\n",
       "      <td>0</td>\n",
       "      <td>0</td>\n",
       "      <td>0</td>\n",
       "      <td>0</td>\n",
       "      <td>1</td>\n",
       "      <td>0</td>\n",
       "      <td>0</td>\n",
       "      <td>1</td>\n",
       "      <td>0</td>\n",
       "      <td>0</td>\n",
       "      <td>0</td>\n",
       "      <td>1</td>\n",
       "    </tr>\n",
       "    <tr>\n",
       "      <th>1</th>\n",
       "      <td>0</td>\n",
       "      <td>1</td>\n",
       "      <td>1</td>\n",
       "      <td>0</td>\n",
       "      <td>0</td>\n",
       "      <td>0</td>\n",
       "      <td>1</td>\n",
       "      <td>0</td>\n",
       "      <td>0</td>\n",
       "      <td>0</td>\n",
       "      <td>0</td>\n",
       "      <td>1</td>\n",
       "      <td>1</td>\n",
       "      <td>0</td>\n",
       "      <td>0</td>\n",
       "      <td>1</td>\n",
       "      <td>1</td>\n",
       "      <td>0</td>\n",
       "    </tr>\n",
       "    <tr>\n",
       "      <th>2</th>\n",
       "      <td>1</td>\n",
       "      <td>0</td>\n",
       "      <td>0</td>\n",
       "      <td>0</td>\n",
       "      <td>1</td>\n",
       "      <td>1</td>\n",
       "      <td>1</td>\n",
       "      <td>1</td>\n",
       "      <td>1</td>\n",
       "      <td>1</td>\n",
       "      <td>0</td>\n",
       "      <td>0</td>\n",
       "      <td>0</td>\n",
       "      <td>0</td>\n",
       "      <td>1</td>\n",
       "      <td>0</td>\n",
       "      <td>0</td>\n",
       "      <td>0</td>\n",
       "    </tr>\n",
       "  </tbody>\n",
       "</table>\n",
       "</div>"
      ],
      "text/plain": [
       "   关联  初步  实施  思豪  新泽西  明确  显示  曼哈顿  爆炸事件  纽约  纽约市  蓄意  行为  表示  证据  这是  迹象  长白\n",
       "0   0   0   0   1    0   0   0    0     0   0    1   0   0   1   0   0   0   1\n",
       "1   0   1   1   0    0   0   1    0     0   0    0   1   1   0   0   1   1   0\n",
       "2   1   0   0   0    1   1   1    1     1   1    0   0   0   0   1   0   0   0"
      ]
     },
     "execution_count": 71,
     "metadata": {},
     "output_type": "execute_result"
    }
   ],
   "source": [
    "chBag = chCountJ.transform(trainData)\n",
    "pd.DataFrame(chBag.toarray(),columns=chCountJ.get_feature_names())"
   ]
  },
  {
   "cell_type": "markdown",
   "metadata": {
    "slideshow": {
     "slide_type": "slide"
    }
   },
   "source": [
    "#### 去除停用词"
   ]
  },
  {
   "cell_type": "markdown",
   "metadata": {
    "slideshow": {
     "slide_type": "fragment"
    }
   },
   "source": [
    "<dl class=\"row text text-info\">\n",
    "    <dt class=\"col-md-6\">停用词（stop words）</dt>\n",
    "    <dd class=\"col-md-6\">\n",
    "        在各种文本中经常出现，但是<b>不含有（或含有极少）</b>能够区分文本的有用信息的词元\n",
    "    </dd>\n",
    "</dl>"
   ]
  },
  {
   "cell_type": "markdown",
   "metadata": {
    "slideshow": {
     "slide_type": "fragment"
    }
   },
   "source": [
    "- 例如，*is, and, has, 的,得* 等"
   ]
  },
  {
   "cell_type": "markdown",
   "metadata": {
    "slideshow": {
     "slide_type": "slide"
    }
   },
   "source": [
    "##### 英文停用词"
   ]
  },
  {
   "cell_type": "markdown",
   "metadata": {
    "slideshow": {
     "slide_type": "fragment"
    }
   },
   "source": [
    "- `NLTK`的提用词列表\n",
    "\n",
    "```python\n",
    "from nltk.corpus import stopwords\n",
    "stops = stopwords.words('english')\n",
    "```"
   ]
  },
  {
   "cell_type": "markdown",
   "metadata": {
    "slideshow": {
     "slide_type": "fragment"
    }
   },
   "source": [
    "##### 中文停用词"
   ]
  },
  {
   "cell_type": "markdown",
   "metadata": {
    "slideshow": {
     "slide_type": "fragment"
    }
   },
   "source": [
    "- 中文停用词列表\n",
    "    - 中文停用词库\n",
    "    - 哈工大停用词\n",
    "    - 四川大学机器智能实验室停用词库\n",
    "    - 百度停用词列"
   ]
  },
  {
   "cell_type": "code",
   "execution_count": 58,
   "metadata": {
    "slideshow": {
     "slide_type": "fragment"
    }
   },
   "outputs": [
    {
     "data": {
      "text/html": [
       "<div>\n",
       "<style scoped>\n",
       "    .dataframe tbody tr th:only-of-type {\n",
       "        vertical-align: middle;\n",
       "    }\n",
       "\n",
       "    .dataframe tbody tr th {\n",
       "        vertical-align: top;\n",
       "    }\n",
       "\n",
       "    .dataframe thead th {\n",
       "        text-align: right;\n",
       "    }\n",
       "</style>\n",
       "<table border=\"1\" class=\"dataframe\">\n",
       "  <thead>\n",
       "    <tr style=\"text-align: right;\">\n",
       "      <th></th>\n",
       "      <th>0</th>\n",
       "    </tr>\n",
       "  </thead>\n",
       "  <tbody>\n",
       "    <tr>\n",
       "      <th>0</th>\n",
       "      <td>———</td>\n",
       "    </tr>\n",
       "    <tr>\n",
       "      <th>1</th>\n",
       "      <td>》），</td>\n",
       "    </tr>\n",
       "    <tr>\n",
       "      <th>2</th>\n",
       "      <td>）÷（１－</td>\n",
       "    </tr>\n",
       "    <tr>\n",
       "      <th>3</th>\n",
       "      <td>”，</td>\n",
       "    </tr>\n",
       "    <tr>\n",
       "      <th>4</th>\n",
       "      <td>）、</td>\n",
       "    </tr>\n",
       "    <tr>\n",
       "      <th>...</th>\n",
       "      <td>...</td>\n",
       "    </tr>\n",
       "    <tr>\n",
       "      <th>762</th>\n",
       "      <td>啐</td>\n",
       "    </tr>\n",
       "    <tr>\n",
       "      <th>763</th>\n",
       "      <td>喔唷</td>\n",
       "    </tr>\n",
       "    <tr>\n",
       "      <th>764</th>\n",
       "      <td>嗬</td>\n",
       "    </tr>\n",
       "    <tr>\n",
       "      <th>765</th>\n",
       "      <td>嗯</td>\n",
       "    </tr>\n",
       "    <tr>\n",
       "      <th>766</th>\n",
       "      <td>嗳</td>\n",
       "    </tr>\n",
       "  </tbody>\n",
       "</table>\n",
       "<p>767 rows × 1 columns</p>\n",
       "</div>"
      ],
      "text/plain": [
       "         0\n",
       "0      ———\n",
       "1      》），\n",
       "2    ）÷（１－\n",
       "3       ”，\n",
       "4       ）、\n",
       "..     ...\n",
       "762      啐\n",
       "763     喔唷\n",
       "764      嗬\n",
       "765      嗯\n",
       "766      嗳\n",
       "\n",
       "[767 rows x 1 columns]"
      ]
     },
     "execution_count": 58,
     "metadata": {},
     "output_type": "execute_result"
    }
   ],
   "source": [
    "stops = pd.read_fwf('./data/models/hit_stopwords.txt',header=None)\n",
    "stops"
   ]
  },
  {
   "cell_type": "markdown",
   "metadata": {
    "slideshow": {
     "slide_type": "slide"
    }
   },
   "source": [
    "## 特征选择"
   ]
  },
  {
   "cell_type": "markdown",
   "metadata": {
    "slideshow": {
     "slide_type": "fragment"
    }
   },
   "source": [
    "- 通过评估词元在文本中的**重要程度**来选择特征"
   ]
  },
  {
   "cell_type": "markdown",
   "metadata": {
    "slideshow": {
     "slide_type": "fragment"
    }
   },
   "source": [
    "### TF-IDF方法"
   ]
  },
  {
   "cell_type": "markdown",
   "metadata": {
    "slideshow": {
     "slide_type": "fragment"
    }
   },
   "source": [
    "- term frequency-inverse document frequency\n",
    "    - 词频（term frequency）：一个词元在一篇文档中出现的频率\n",
    "    - 文档频率（document frequency）：含有某个词元的文档数量"
   ]
  },
  {
   "cell_type": "markdown",
   "metadata": {
    "slideshow": {
     "slide_type": "fragment"
    }
   },
   "source": [
    "> This movie is very scary and long"
   ]
  },
  {
   "cell_type": "markdown",
   "metadata": {
    "slideshow": {
     "slide_type": "fragment"
    }
   },
   "source": [
    "- 计算This在该句中的词频以及文档频率\n",
    "    - 在该句中，This的词频为1\n",
    "    - This的文档频率为3"
   ]
  },
  {
   "cell_type": "markdown",
   "metadata": {
    "slideshow": {
     "slide_type": "slide"
    }
   },
   "source": [
    "- 反文档频率(inverse document frequency)\n",
    "\n",
    "$$\n",
    "    idf(t,d) = \\log\\frac{n_d}{df(d,t)}\n",
    "$$\n",
    "\n",
    "- $n_d$是需要分析的所有文档的数量，$df(d,t)$包含词元$t$的文档数量"
   ]
  },
  {
   "cell_type": "markdown",
   "metadata": {
    "slideshow": {
     "slide_type": "fragment"
    }
   },
   "source": [
    "- 计算This的反文档频率\n",
    "    - $n_d=3, df=3$"
   ]
  },
  {
   "cell_type": "code",
   "execution_count": 26,
   "metadata": {
    "slideshow": {
     "slide_type": "fragment"
    }
   },
   "outputs": [
    {
     "data": {
      "text/plain": [
       "0.0"
      ]
     },
     "execution_count": 26,
     "metadata": {},
     "output_type": "execute_result"
    }
   ],
   "source": [
    "np.log(3/3)"
   ]
  },
  {
   "cell_type": "markdown",
   "metadata": {
    "slideshow": {
     "slide_type": "fragment"
    }
   },
   "source": [
    "- tf-idf得分\n",
    "\n",
    "$$\n",
    "    \\text{tf-idf}(t,d) = tf(t,d)\\times idf(t,d)\n",
    "$$"
   ]
  },
  {
   "cell_type": "markdown",
   "metadata": {
    "slideshow": {
     "slide_type": "slide"
    }
   },
   "source": [
    "##### `python`实现"
   ]
  },
  {
   "cell_type": "markdown",
   "metadata": {
    "slideshow": {
     "slide_type": "fragment"
    }
   },
   "source": [
    "```python\n",
    "from sklearn.feature_extraction import text\n",
    "text.TfidfTransformer()\n",
    "```\n",
    "- 以`CountVectorizer`的结果作为输入的训练数据"
   ]
  },
  {
   "cell_type": "code",
   "execution_count": 27,
   "metadata": {
    "slideshow": {
     "slide_type": "fragment"
    }
   },
   "outputs": [
    {
     "data": {
      "text/plain": [
       "TfidfTransformer(norm='l2', smooth_idf=True, sublinear_tf=False, use_idf=True)"
      ]
     },
     "execution_count": 27,
     "metadata": {},
     "output_type": "execute_result"
    }
   ],
   "source": [
    "tfidf = text.TfidfTransformer()\n",
    "tfidf.fit(bag)"
   ]
  },
  {
   "cell_type": "code",
   "execution_count": 29,
   "metadata": {
    "slideshow": {
     "slide_type": "fragment"
    }
   },
   "outputs": [
    {
     "data": {
      "text/plain": [
       "array([[0.29628336, 0.        , 0.29628336, 0.50165133, 0.29628336,\n",
       "        0.        , 0.38151877, 0.        , 0.        , 0.29628336,\n",
       "        0.50165133],\n",
       "       [0.26359985, 0.        , 0.5271997 , 0.        , 0.26359985,\n",
       "        0.44631334, 0.3394328 , 0.44631334, 0.        , 0.26359985,\n",
       "        0.        ],\n",
       "       [0.32052772, 0.54270061, 0.32052772, 0.        , 0.32052772,\n",
       "        0.        , 0.        , 0.        , 0.54270061, 0.32052772,\n",
       "        0.        ]])"
      ]
     },
     "execution_count": 29,
     "metadata": {},
     "output_type": "execute_result"
    }
   ],
   "source": [
    "tfidfRes = tfidf.transform(bag)\n",
    "tfidfRes.toarray()"
   ]
  },
  {
   "cell_type": "code",
   "execution_count": 31,
   "metadata": {
    "slideshow": {
     "slide_type": "fragment"
    }
   },
   "outputs": [
    {
     "data": {
      "text/html": [
       "<div>\n",
       "<style scoped>\n",
       "    .dataframe tbody tr th:only-of-type {\n",
       "        vertical-align: middle;\n",
       "    }\n",
       "\n",
       "    .dataframe tbody tr th {\n",
       "        vertical-align: top;\n",
       "    }\n",
       "\n",
       "    .dataframe thead th {\n",
       "        text-align: right;\n",
       "    }\n",
       "</style>\n",
       "<table border=\"1\" class=\"dataframe\">\n",
       "  <thead>\n",
       "    <tr style=\"text-align: right;\">\n",
       "      <th></th>\n",
       "      <th>and</th>\n",
       "      <th>good</th>\n",
       "      <th>is</th>\n",
       "      <th>long</th>\n",
       "      <th>movie</th>\n",
       "      <th>not</th>\n",
       "      <th>scary</th>\n",
       "      <th>slow</th>\n",
       "      <th>spooky</th>\n",
       "      <th>this</th>\n",
       "      <th>very</th>\n",
       "    </tr>\n",
       "  </thead>\n",
       "  <tbody>\n",
       "    <tr>\n",
       "      <th>0</th>\n",
       "      <td>0.296283</td>\n",
       "      <td>0.000000</td>\n",
       "      <td>0.296283</td>\n",
       "      <td>0.501651</td>\n",
       "      <td>0.296283</td>\n",
       "      <td>0.000000</td>\n",
       "      <td>0.381519</td>\n",
       "      <td>0.000000</td>\n",
       "      <td>0.000000</td>\n",
       "      <td>0.296283</td>\n",
       "      <td>0.501651</td>\n",
       "    </tr>\n",
       "    <tr>\n",
       "      <th>1</th>\n",
       "      <td>0.263600</td>\n",
       "      <td>0.000000</td>\n",
       "      <td>0.527200</td>\n",
       "      <td>0.000000</td>\n",
       "      <td>0.263600</td>\n",
       "      <td>0.446313</td>\n",
       "      <td>0.339433</td>\n",
       "      <td>0.446313</td>\n",
       "      <td>0.000000</td>\n",
       "      <td>0.263600</td>\n",
       "      <td>0.000000</td>\n",
       "    </tr>\n",
       "    <tr>\n",
       "      <th>2</th>\n",
       "      <td>0.320528</td>\n",
       "      <td>0.542701</td>\n",
       "      <td>0.320528</td>\n",
       "      <td>0.000000</td>\n",
       "      <td>0.320528</td>\n",
       "      <td>0.000000</td>\n",
       "      <td>0.000000</td>\n",
       "      <td>0.000000</td>\n",
       "      <td>0.542701</td>\n",
       "      <td>0.320528</td>\n",
       "      <td>0.000000</td>\n",
       "    </tr>\n",
       "  </tbody>\n",
       "</table>\n",
       "</div>"
      ],
      "text/plain": [
       "        and      good        is      long     movie       not     scary  \\\n",
       "0  0.296283  0.000000  0.296283  0.501651  0.296283  0.000000  0.381519   \n",
       "1  0.263600  0.000000  0.527200  0.000000  0.263600  0.446313  0.339433   \n",
       "2  0.320528  0.542701  0.320528  0.000000  0.320528  0.000000  0.000000   \n",
       "\n",
       "       slow    spooky      this      very  \n",
       "0  0.000000  0.000000  0.296283  0.501651  \n",
       "1  0.446313  0.000000  0.263600  0.000000  \n",
       "2  0.000000  0.542701  0.320528  0.000000  "
      ]
     },
     "execution_count": 31,
     "metadata": {},
     "output_type": "execute_result"
    }
   ],
   "source": [
    "pd.DataFrame(tfidfRes.toarray(),columns= count.get_feature_names())"
   ]
  },
  {
   "cell_type": "markdown",
   "metadata": {
    "slideshow": {
     "slide_type": "slide"
    }
   },
   "source": [
    "# 从互联网上获取数据"
   ]
  },
  {
   "cell_type": "markdown",
   "metadata": {
    "slideshow": {
     "slide_type": "fragment"
    }
   },
   "source": [
    "<dl class=\"row alert alert-info\">\n",
    "    <dt class=\"col-md-1\">爬虫</dt>\n",
    "    <dd class=\"col-md-auto\">即网络爬虫，是一种按照一定的规则，自动的抓取互联网信息的程序或者脚本。</dd>\n",
    "</dl>"
   ]
  },
  {
   "cell_type": "markdown",
   "metadata": {
    "slideshow": {
     "slide_type": "fragment"
    }
   },
   "source": [
    "<dl class=\"row alert alert-primary\">\n",
    "    <dt class=\"col-md-1\">静态网页</dt>\n",
    "    <dd class=\"col-md-auto\">纯粹HTML格式的网页，文件扩展名是<code>.htm</code>、<code>.html</code>。没有后台数据库、不可交互的网页。</dd>\n",
    "</dl>"
   ]
  },
  {
   "cell_type": "markdown",
   "metadata": {
    "slideshow": {
     "slide_type": "fragment"
    }
   },
   "source": [
    "<dl class=\"row alert alert-warning\">\n",
    "    <dt class=\"col-md-1\">动态网页</dt>\n",
    "    <dd class=\"col-md-auto\">基本的HTML语法规范与高级程序设计语言、数据库编程等多种技术的融合，以期实现对网站内容和风格的高效、动态和交互式的管理。</dd>\n",
    "</dl>"
   ]
  },
  {
   "cell_type": "markdown",
   "metadata": {
    "slideshow": {
     "slide_type": "slide"
    }
   },
   "source": [
    "- `requests-HTML`包, [https://requests-html.kennethreitz.org/](https://requests-html.kennethreitz.org/)"
   ]
  },
  {
   "cell_type": "markdown",
   "metadata": {
    "slideshow": {
     "slide_type": "fragment"
    }
   },
   "source": [
    "- 通过`Jupyter Notebook`安装\n",
    "    + `Windows`：`!pip install requests-html`\n",
    "    + `Mac`：`!pip3 install requests-html`"
   ]
  },
  {
   "cell_type": "markdown",
   "metadata": {
    "slideshow": {
     "slide_type": "slide"
    }
   },
   "source": [
    "## 爬取网页"
   ]
  },
  {
   "cell_type": "markdown",
   "metadata": {
    "slideshow": {
     "slide_type": "fragment"
    }
   },
   "source": [
    "```python\n",
    "from requests_html import HTMLSession\n",
    "ss = HTMLSession()                   # 生成一个HTMLSession对象ss\n",
    "ct = ss.get('http://quotes.toscrape.com/')   # 爬取网页内容，存储在变量ct中\n",
    "```"
   ]
  },
  {
   "cell_type": "markdown",
   "metadata": {
    "slideshow": {
     "slide_type": "slide"
    }
   },
   "source": [
    "## 获取网页上的元素"
   ]
  },
  {
   "cell_type": "markdown",
   "metadata": {
    "slideshow": {
     "slide_type": "fragment"
    }
   },
   "source": [
    "```python\n",
    "ct.html.absolute_links    # 获取网页页面上的所有链接，返回链接的列表\n",
    "```"
   ]
  },
  {
   "cell_type": "markdown",
   "metadata": {
    "slideshow": {
     "slide_type": "fragment"
    }
   },
   "source": [
    "```python\n",
    "for html in ct.html:\n",
    "    print(html)        # 获取网页包含的分页网址\n",
    "```"
   ]
  },
  {
   "cell_type": "markdown",
   "metadata": {
    "slideshow": {
     "slide_type": "slide"
    }
   },
   "source": [
    "### 查找网页上某个元素"
   ]
  },
  {
   "cell_type": "markdown",
   "metadata": {
    "slideshow": {
     "slide_type": "fragment"
    }
   },
   "source": [
    "- 查找[http://quotes.toscrape.com/](http://quotes.toscrape.com/)上的所有作者"
   ]
  },
  {
   "cell_type": "markdown",
   "metadata": {
    "slideshow": {
     "slide_type": "fragment"
    }
   },
   "source": [
    "<center>\n",
    "    <div class=\"row\">\n",
    "        <div class=\"col-md-6\">Chrome<img src=\"./img/dataMining/inspectEle.jpg\" width=95%></div>\n",
    "        <div class=\"col-md-6\">FireFox<img src=\"./img/dataMining/inspectEleF.jpg\" width=95%></div>\n",
    "    </div>\n",
    "</center>"
   ]
  },
  {
   "cell_type": "markdown",
   "metadata": {
    "slideshow": {
     "slide_type": "slide"
    }
   },
   "source": [
    "<center><img src=\"./img/dataMining/selectEle.jpg\" width=80%></center>"
   ]
  },
  {
   "cell_type": "markdown",
   "metadata": {
    "slideshow": {
     "slide_type": "fragment"
    }
   },
   "source": [
    "```python\n",
    "authors = ct.html.find('.author',first=False) \n",
    "# first=False 找到页面上所有属于author类的元素，返回列表\n",
    "# first=True 找到页面上第一个属于author类的元素\n",
    "\n",
    "for author in authors:\n",
    "    print(author.text)               # 用text显示每个元素包含的文本\n",
    "```"
   ]
  }
 ],
 "metadata": {
  "celltoolbar": "幻灯片",
  "hide_input": false,
  "kernelspec": {
   "display_name": "Python 3",
   "language": "python",
   "name": "python3"
  },
  "language_info": {
   "codemirror_mode": {
    "name": "ipython",
    "version": 3
   },
   "file_extension": ".py",
   "mimetype": "text/x-python",
   "name": "python",
   "nbconvert_exporter": "python",
   "pygments_lexer": "ipython3",
   "version": "3.6.8"
  },
  "toc": {
   "base_numbering": 1,
   "nav_menu": {},
   "number_sections": true,
   "sideBar": true,
   "skip_h1_title": false,
   "title_cell": "Table of Contents",
   "title_sidebar": "Contents",
   "toc_cell": false,
   "toc_position": {
    "height": "calc(100% - 180px)",
    "left": "10px",
    "top": "150px",
    "width": "259px"
   },
   "toc_section_display": true,
   "toc_window_display": true
  },
  "varInspector": {
   "cols": {
    "lenName": 16,
    "lenType": 16,
    "lenVar": 40
   },
   "kernels_config": {
    "python": {
     "delete_cmd_postfix": "",
     "delete_cmd_prefix": "del ",
     "library": "var_list.py",
     "varRefreshCmd": "print(var_dic_list())"
    },
    "r": {
     "delete_cmd_postfix": ") ",
     "delete_cmd_prefix": "rm(",
     "library": "var_list.r",
     "varRefreshCmd": "cat(var_dic_list()) "
    }
   },
   "types_to_exclude": [
    "module",
    "function",
    "builtin_function_or_method",
    "instance",
    "_Feature"
   ],
   "window_display": false
  }
 },
 "nbformat": 4,
 "nbformat_minor": 2
}
