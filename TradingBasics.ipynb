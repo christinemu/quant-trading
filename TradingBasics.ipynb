{
 "cells": [
  {
   "cell_type": "code",
   "execution_count": 13,
   "metadata": {
    "slideshow": {
     "slide_type": "notes"
    }
   },
   "outputs": [],
   "source": [
    "import pandas as pd\n",
    "import pandas_datareader.data as web\n",
    "import baostock as bs\n",
    "import numpy as np\n",
    "from datetime import datetime\n",
    "import mplfinance as mpf\n",
    "import matplotlib.pyplot as plt\n",
    "from IPython.core.interactiveshell import InteractiveShell\n",
    "InteractiveShell.ast_node_interactivity = \"all\"\n",
    "from pandas.plotting import register_matplotlib_converters\n",
    "register_matplotlib_converters()"
   ]
  },
  {
   "cell_type": "code",
   "execution_count": null,
   "metadata": {},
   "outputs": [],
   "source": []
  },
  {
   "cell_type": "markdown",
   "metadata": {
    "slideshow": {
     "slide_type": "slide"
    }
   },
   "source": [
    "<div class=\"jumbotron\">\n",
    "    <p class=\"display-1 h1\">金融交易基础</p>\n",
    "    <hr class=\"my-4\">\n",
    "    <p>主讲：李岩</p>\n",
    "    <p>管理学院</p>\n",
    "    <p>liyan@cumtb.edu.cn</p>\n",
    "</div>"
   ]
  },
  {
   "cell_type": "markdown",
   "metadata": {
    "slideshow": {
     "slide_type": "fragment"
    }
   },
   "source": [
    "# 金融市场"
   ]
  },
  {
   "cell_type": "markdown",
   "metadata": {
    "slideshow": {
     "slide_type": "fragment"
    }
   },
   "source": [
    "> 从广义上而言，指的是能够进行证券交易的任何场所"
   ]
  },
  {
   "cell_type": "markdown",
   "metadata": {
    "slideshow": {
     "slide_type": "fragment"
    }
   },
   "source": [
    "- 金融市场有什么功能？"
   ]
  },
  {
   "cell_type": "markdown",
   "metadata": {
    "slideshow": {
     "slide_type": "fragment"
    }
   },
   "source": [
    "<center>\n",
    "    \n",
    "对比项目|商品市场|金融市场\n",
    ":---:|:---|:---\n",
    "价格发现|商品价格|证券价格\n",
    "流动性|商品从生产者流动到消费者|从资金的持有者流动到资金的需求者\n",
    "交易成本|降低销售以及购买商品的成本|降低资金交易的时间与成本\n",
    "风险||风险共担\n",
    "\n",
    "</center>"
   ]
  },
  {
   "cell_type": "markdown",
   "metadata": {
    "slideshow": {
     "slide_type": "subslide"
    }
   },
   "source": [
    "- 金融市场的类型"
   ]
  },
  {
   "cell_type": "markdown",
   "metadata": {
    "slideshow": {
     "slide_type": "fragment"
    }
   },
   "source": [
    "> - 债券市场\n",
    "> - 股票市场\n",
    "> - 外汇市场\n",
    "> - 衍生品市场"
   ]
  },
  {
   "cell_type": "markdown",
   "metadata": {
    "slideshow": {
     "slide_type": "slide"
    }
   },
   "source": [
    "## 债券市场与债券"
   ]
  },
  {
   "cell_type": "markdown",
   "metadata": {
    "slideshow": {
     "slide_type": "fragment"
    }
   },
   "source": [
    "> 定义：债券市场（或债务市场）是政府、企业和个人通过举债以实现融资目的的场所"
   ]
  },
  {
   "cell_type": "markdown",
   "metadata": {
    "slideshow": {
     "slide_type": "fragment"
    }
   },
   "source": [
    "+ 债券发行人（**债务人**）承诺在一定期限内定时支付给债券持有人（**债权人**）利息和本金"
   ]
  },
  {
   "cell_type": "markdown",
   "metadata": {
    "slideshow": {
     "slide_type": "fragment"
    }
   },
   "source": [
    "+ 债务人在债券市场上发行的证券，即为债券"
   ]
  },
  {
   "cell_type": "markdown",
   "metadata": {
    "slideshow": {
     "slide_type": "subslide"
    }
   },
   "source": [
    "<center>\n",
    "\n",
    "<img src=\"./img/tradingBasics/bondexample.jpg\" width=800>\n",
    "    \n",
    "</center>"
   ]
  },
  {
   "cell_type": "markdown",
   "metadata": {
    "slideshow": {
     "slide_type": "fragment"
    }
   },
   "source": [
    "- 票面价值(par value)：债务人承诺在债券到期时支付给债权人的金额。1000元\n",
    "- 票面利率（coupon rate）：债券发行者每一年向投资者支付的利息占票面金额的比率。15%"
   ]
  },
  {
   "cell_type": "markdown",
   "metadata": {
    "slideshow": {
     "slide_type": "slide"
    }
   },
   "source": [
    "- 债券价格与市场利率的关系"
   ]
  },
  {
   "cell_type": "markdown",
   "metadata": {
    "slideshow": {
     "slide_type": "fragment"
    }
   },
   "source": [
    "> **债券价格**与**市场利率**具有**反向变动**关系"
   ]
  },
  {
   "cell_type": "markdown",
   "metadata": {
    "slideshow": {
     "slide_type": "fragment"
    }
   },
   "source": [
    "$$p=\\frac{C}{1+r}+\\frac{C}{(1+r)^2}+\\frac{C}{(1+r)^3}+\\cdots+\\frac{C+Par}{(1+r)^n}$$\n",
    "\n",
    "其中，$p$是债券市场价格，$r$是市场利率，$C$是票面利率，$Par$是债券票面价值"
   ]
  },
  {
   "cell_type": "markdown",
   "metadata": {
    "slideshow": {
     "slide_type": "slide"
    }
   },
   "source": [
    "## 股票市场与股票"
   ]
  },
  {
   "cell_type": "markdown",
   "metadata": {
    "slideshow": {
     "slide_type": "fragment"
    }
   },
   "source": [
    "> 定义：股票市场是代表所有者权益的普通股（或股票）交易的场所。"
   ]
  },
  {
   "cell_type": "markdown",
   "metadata": {
    "slideshow": {
     "slide_type": "fragment"
    }
   },
   "source": [
    "> 股票：表明持有者拥有发行企业一定比例资产和收益的有价证券"
   ]
  },
  {
   "cell_type": "markdown",
   "metadata": {
    "slideshow": {
     "slide_type": "slide"
    }
   },
   "source": [
    "<center>\n",
    "\n",
    "<img src=\"./img/tradingBasics/stockmarket.png\" width=400>\n",
    "    \n",
    "</center>"
   ]
  },
  {
   "cell_type": "markdown",
   "metadata": {
    "slideshow": {
     "slide_type": "fragment"
    }
   },
   "source": [
    "- 一级市场（Primary market）\n",
    "    + IPO(首次公开上市，Initial Public Offerings)\n",
    "    + 一级市场的交易需要投资银行等帮助企业制定最初的发行价格，并把股票销售给**初始投资者**（initial investor)。"
   ]
  },
  {
   "cell_type": "markdown",
   "metadata": {
    "slideshow": {
     "slide_type": "fragment"
    }
   },
   "source": [
    "- 二级市场 （Secondary market）\n",
    "    + 股票价格计算（估值）：现金流折现、市盈率\n",
    "    + 量化交易实现选股、交易"
   ]
  },
  {
   "cell_type": "markdown",
   "metadata": {
    "slideshow": {
     "slide_type": "slide"
    }
   },
   "source": [
    "<center>\n",
    "\n",
    "<img src=\"./img/tradingBasics/stocks.png\" width=1200>\n",
    "    \n",
    "</center>"
   ]
  },
  {
   "cell_type": "markdown",
   "metadata": {
    "slideshow": {
     "slide_type": "subslide"
    }
   },
   "source": [
    "<center>\n",
    "\n",
    "<img src=\"./img/tradingBasics/sse.png\" width=1000>\n",
    "    \n",
    "</center>"
   ]
  },
  {
   "cell_type": "markdown",
   "metadata": {
    "slideshow": {
     "slide_type": "fragment"
    }
   },
   "source": [
    "- 股票指数\n",
    "    + SSE Composite Index (上证综指)\n",
    "    + SZSE Component Index (深证成指)\n",
    "    + CSI 300 Index (沪深300指数)"
   ]
  },
  {
   "cell_type": "markdown",
   "metadata": {
    "slideshow": {
     "slide_type": "fragment"
    }
   },
   "source": [
    "- 全球主要指数  <http://q.10jqka.com.cn/global/>"
   ]
  },
  {
   "cell_type": "markdown",
   "metadata": {
    "slideshow": {
     "slide_type": "slide"
    }
   },
   "source": [
    "## 期货市场及期货"
   ]
  },
  {
   "cell_type": "markdown",
   "metadata": {
    "slideshow": {
     "slide_type": "fragment"
    }
   },
   "source": [
    "<dl class=\"row text-info\">\n",
    "    <dt class=\"col-md-2\">期货合约</dt>\n",
    "    <dd class=\"col-md-10\">由期货交易场所统一制定的、规定在将来某一<strong>特定的时间</strong>和<strong>地点</strong>交割一定数量标的物的<strong>标准化合约</strong>。</dd>\n",
    "</dl>"
   ]
  },
  {
   "cell_type": "markdown",
   "metadata": {
    "slideshow": {
     "slide_type": "slide"
    }
   },
   "source": [
    "### 期货的特点"
   ]
  },
  {
   "cell_type": "markdown",
   "metadata": {
    "slideshow": {
     "slide_type": "fragment"
    }
   },
   "source": [
    "- 标准化合约\n",
    "- 交易集中化\n",
    "- 双向交易\n",
    "- 杠杆机制\n",
    "- 每日无负债结算制度 "
   ]
  },
  {
   "cell_type": "markdown",
   "metadata": {
    "slideshow": {
     "slide_type": "slide"
    }
   },
   "source": [
    "#### 标准化合约"
   ]
  },
  {
   "cell_type": "markdown",
   "metadata": {
    "slideshow": {
     "slide_type": "fragment"
    }
   },
   "source": [
    "<center>\n",
    "\n",
    "<img src=\"./img/tradingBasics/steamcoal.jpg\" width=80%>\n",
    "    \n",
    "</center>"
   ]
  },
  {
   "cell_type": "markdown",
   "metadata": {
    "slideshow": {
     "slide_type": "slide"
    }
   },
   "source": [
    "[动力煤货合约](http://www.czce.com.cn/cn/sspz/dlm/H770212index_1.htm)"
   ]
  },
  {
   "cell_type": "markdown",
   "metadata": {
    "slideshow": {
     "slide_type": "fragment"
    }
   },
   "source": [
    "- 交易单位：买入或卖出的数量必须是交易单位的**整数倍**"
   ]
  },
  {
   "cell_type": "markdown",
   "metadata": {
    "slideshow": {
     "slide_type": "fragment"
    }
   },
   "source": [
    "- 最小变动价位：期货交易时买卖双方报价所允许的最小变动幅度，每次报价时的价格变动必须时该最小变动价位的**整数倍**"
   ]
  },
  {
   "cell_type": "markdown",
   "metadata": {
    "slideshow": {
     "slide_type": "slide"
    }
   },
   "source": [
    "#### 交易集中化"
   ]
  },
  {
   "cell_type": "markdown",
   "metadata": {
    "slideshow": {
     "slide_type": "fragment"
    }
   },
   "source": [
    "- 期货交易必须在**期货交易所**内开展"
   ]
  },
  {
   "cell_type": "markdown",
   "metadata": {
    "slideshow": {
     "slide_type": "fragment"
    }
   },
   "source": [
    "- 场内交易(exchange traded)"
   ]
  },
  {
   "cell_type": "markdown",
   "metadata": {
    "slideshow": {
     "slide_type": "slide"
    }
   },
   "source": [
    "#### 双向交易"
   ]
  },
  {
   "cell_type": "markdown",
   "metadata": {
    "slideshow": {
     "slide_type": "fragment"
    }
   },
   "source": [
    "- 既可以**买入**开仓，也可以**卖出**开仓"
   ]
  },
  {
   "cell_type": "markdown",
   "metadata": {
    "slideshow": {
     "slide_type": "fragment"
    }
   },
   "source": [
    "- 可以实现对冲（hedge）策略"
   ]
  },
  {
   "cell_type": "markdown",
   "metadata": {
    "slideshow": {
     "slide_type": "slide"
    }
   },
   "source": [
    "#### 杠杆机制"
   ]
  },
  {
   "cell_type": "markdown",
   "metadata": {
    "slideshow": {
     "slide_type": "fragment"
    }
   },
   "source": [
    "<dl class=\"row text-danger\">\n",
    "    <dt class=\"col-md-3\">交易保证金</dt>\n",
    "    <dd class=\"col-md-9\">\n",
    "        <p>交易双方向交易所缴纳的、用于履约担保的资金。</p>\n",
    "        <p>一般是合约金额的5% ∼ 10%。</p>\n",
    "    </dd>\n",
    "</dl>"
   ]
  },
  {
   "cell_type": "markdown",
   "metadata": {
    "slideshow": {
     "slide_type": "fragment"
    }
   },
   "source": [
    "- 例如，买（卖）1手动力煤期货合约，交易单位100吨/手，报价1000元/吨，保证金是5%"
   ]
  },
  {
   "cell_type": "markdown",
   "metadata": {
    "slideshow": {
     "slide_type": "fragment"
    }
   },
   "source": [
    "- 以少量的资金控制期货合约，实现以小博大"
   ]
  },
  {
   "cell_type": "markdown",
   "metadata": {
    "slideshow": {
     "slide_type": "slide"
    }
   },
   "source": [
    "#### 每日无负债结算"
   ]
  },
  {
   "cell_type": "markdown",
   "metadata": {
    "slideshow": {
     "slide_type": "fragment"
    }
   },
   "source": [
    "- 每日收盘后，会员的保证金账户会依据持仓合约数量和期货合约的结算价进行调整，以反映该会员的盈利或亏损"
   ]
  },
  {
   "cell_type": "markdown",
   "metadata": {
    "slideshow": {
     "slide_type": "fragment"
    }
   },
   "source": [
    "- 也被称作“逐日盯市”（marked-to-market）"
   ]
  },
  {
   "cell_type": "markdown",
   "metadata": {
    "slideshow": {
     "slide_type": "skip"
    }
   },
   "source": [
    "日期|结算价|A账户|B账户\n",
    "---|---|:---|:---\n",
    "1|2488元/吨|**卖出**10手rb合约，保证金12440元|**买入**10手rb合约，保证金12440元\n",
    "2|2500元/吨|保证金12500元，追缴<font color=\"red\">1200元</font>$+$<font color=\"red\">60元</font>|清退$-$<font color=\"green\">1200元</font>$+$<font color=\"red\">60元</font>\n",
    "3|2470元/吨|保证金12350元，清退$-$<font color=\"green\">3000元</font>$-$<font color=\"green\">150元</font>|保证金12350元，追缴<font color=\"red\">3000元</font>$-$<font color=\"green\">150元</font>\n",
    "4|2451元/吨|保证金12225元，清退$-$<font color=\"green\">1900元</font>$-$<font color=\"green\">95元</font>|保证金12225元，追缴<font color=\"red\">1900元</font>$-$<font color=\"green\">95元</font>"
   ]
  },
  {
   "cell_type": "markdown",
   "metadata": {
    "slideshow": {
     "slide_type": "slide"
    }
   },
   "source": [
    "日期|结算价|A账户|B账户\n",
    ":---:|:---:|:---:|:---:\n",
    "1|1200元/吨|**卖出**1手ZC合约，保证金6000元|**买入**1手ZC合约，保证金6000元\n",
    "2|1500元/吨|保证金7500元，追缴<font color=\"red\">30000元</font>$+$<font color=\"red\">1500元</font>|清退$-$<font color=\"green\">30000元</font>$+$<font color=\"red\">1500元</font>\n",
    "3|1400元/吨|保证金7000元，清退$-$<font color=\"green\">10000元</font>$-$<font color=\"green\">500元</font>|保证金7000元，追缴<font color=\"red\">10000元</font>$-$<font color=\"green\">500元</font>\n",
    "4|1250元/吨|保证金6250元，清退$-$<font color=\"green\">15000元</font>$-$<font color=\"green\">750元</font>|保证金6250元，追缴<font color=\"red\">15000元</font>$-$<font color=\"green\">750元</font>"
   ]
  },
  {
   "cell_type": "markdown",
   "metadata": {
    "slideshow": {
     "slide_type": "slide"
    }
   },
   "source": [
    "比较项目|股票|期货\n",
    ":---:|:---:|:---:\n",
    "操作方向|做多|做多+**做空**\n",
    "总利益|非零和博弈|**零和**博弈\n",
    "风险|有风险|高风险"
   ]
  },
  {
   "cell_type": "markdown",
   "metadata": {
    "slideshow": {
     "slide_type": "slide"
    }
   },
   "source": [
    "## 期权"
   ]
  },
  {
   "cell_type": "markdown",
   "metadata": {
    "slideshow": {
     "slide_type": "fragment"
    }
   },
   "source": [
    "<dl class=\"row\">\n",
    "    <dt class=\"col-md-3\">期权（Options）</dt>\n",
    "    <dd class=\"col-md-9\">一种给予买入者（或期权持有人）在某个<strong>指定日期（或之前）</strong>以一个<strong>指定的价格</strong>(行权价格)买入或卖出标的资产的<strong>权利</strong>，而不是义务的合约。</dd>\n",
    "</dl>"
   ]
  },
  {
   "cell_type": "markdown",
   "metadata": {
    "slideshow": {
     "slide_type": "fragment"
    }
   },
   "source": [
    "- 期权的类型\n",
    "    - 看涨期权（call option）\n",
    "    - 看跌期权（put option）"
   ]
  },
  {
   "cell_type": "markdown",
   "metadata": {
    "slideshow": {
     "slide_type": "fragment"
    }
   },
   "source": [
    "- 期权的交易类型\n",
    "    - **买入看涨**期权\n",
    "    - **卖出看涨**期权\n",
    "    - **买入看跌**期权\n",
    "    - **卖出看跌**期权"
   ]
  },
  {
   "cell_type": "markdown",
   "metadata": {
    "slideshow": {
     "slide_type": "slide"
    }
   },
   "source": [
    "### 期权与期货"
   ]
  },
  {
   "cell_type": "markdown",
   "metadata": {
    "slideshow": {
     "slide_type": "fragment"
    }
   },
   "source": [
    "比较项目|期货|期权\n",
    ":---:|:---:|:---:\n",
    "持有者责任|义务|权利\n",
    "费用|保证金|期权费用（option premium）"
   ]
  },
  {
   "cell_type": "markdown",
   "metadata": {
    "slideshow": {
     "slide_type": "slide"
    }
   },
   "source": [
    "### 期权示例"
   ]
  },
  {
   "cell_type": "markdown",
   "metadata": {
    "slideshow": {
     "slide_type": "fragment"
    }
   },
   "source": [
    "#### 买入股票"
   ]
  },
  {
   "cell_type": "markdown",
   "metadata": {
    "slideshow": {
     "slide_type": "fragment"
    }
   },
   "source": [
    "<center><img src=\"./img/tradingBasics/longStock.png\" width=50%></center>"
   ]
  },
  {
   "cell_type": "markdown",
   "metadata": {
    "slideshow": {
     "slide_type": "fragment"
    }
   },
   "source": [
    "- 买入股票，盈利水平与股价成线性关系"
   ]
  },
  {
   "cell_type": "markdown",
   "metadata": {
    "slideshow": {
     "slide_type": "slide"
    }
   },
   "source": [
    "#### 买入看涨期权"
   ]
  },
  {
   "cell_type": "markdown",
   "metadata": {
    "slideshow": {
     "slide_type": "fragment"
    }
   },
   "source": [
    "<center><img src=\"./img/tradingBasics/longCall.jpg\" width=50%></center>"
   ]
  },
  {
   "cell_type": "markdown",
   "metadata": {
    "slideshow": {
     "slide_type": "fragment"
    }
   },
   "source": [
    "- 当股价低于40的时候买方不行权，买方亏损为购买期权手续费1.5"
   ]
  },
  {
   "cell_type": "markdown",
   "metadata": {
    "slideshow": {
     "slide_type": "fragment"
    }
   },
   "source": [
    "- 当股价高于41.5的时候买方可以行权，买方盈利为 $(\\text{股价}-40)-1.5$"
   ]
  },
  {
   "cell_type": "markdown",
   "metadata": {
    "slideshow": {
     "slide_type": "fragment"
    }
   },
   "source": [
    "- 盈利水平与股价成非线性关系"
   ]
  },
  {
   "cell_type": "markdown",
   "metadata": {
    "slideshow": {
     "slide_type": "fragment"
    }
   },
   "source": [
    "- 风险可控，收益**无限**"
   ]
  },
  {
   "cell_type": "markdown",
   "metadata": {
    "slideshow": {
     "slide_type": "slide"
    }
   },
   "source": [
    "#### 卖出看涨期权"
   ]
  },
  {
   "cell_type": "markdown",
   "metadata": {
    "slideshow": {
     "slide_type": "fragment"
    }
   },
   "source": [
    "<center><img src=\"./img/tradingBasics/shortCall.jpg\" width=50%></center>"
   ]
  },
  {
   "cell_type": "markdown",
   "metadata": {
    "slideshow": {
     "slide_type": "fragment"
    }
   },
   "source": [
    "- 当股价低于40的时候，买方不会行权，卖方盈利为期权手续费1.5"
   ]
  },
  {
   "cell_type": "markdown",
   "metadata": {
    "slideshow": {
     "slide_type": "fragment"
    }
   },
   "source": [
    "- 当股价高于41.5的时候，买方会行权，卖方的亏算为 $1.5-(\\text{股价}-40)$"
   ]
  },
  {
   "cell_type": "markdown",
   "metadata": {
    "slideshow": {
     "slide_type": "fragment"
    }
   },
   "source": [
    "- 收益有限，但风险**无限**"
   ]
  },
  {
   "cell_type": "markdown",
   "metadata": {
    "slideshow": {
     "slide_type": "slide"
    }
   },
   "source": [
    "## 外汇市场与外汇 "
   ]
  },
  {
   "cell_type": "markdown",
   "metadata": {
    "slideshow": {
     "slide_type": "fragment"
    }
   },
   "source": [
    "- 外汇市场是国际货币汇率产生和国际货币交易的场所。"
   ]
  },
  {
   "cell_type": "markdown",
   "metadata": {
    "slideshow": {
     "slide_type": "fragment"
    }
   },
   "source": [
    "<dl class=\"row\">\n",
    "    <dt class=\"col-md-2\">外汇</dt>\n",
    "    <dd class=\"col-md-10\">外国货币或者以外国货币表示的能用于国际结算的支付手段。</dd>\n",
    "</dl>"
   ]
  },
  {
   "cell_type": "markdown",
   "metadata": {
    "slideshow": {
     "slide_type": "fragment"
    }
   },
   "source": [
    "- 主要外汇品种：美元（USD）、欧元(EUR)、日元(JPY)、英镑(GBP)、瑞士法郎(CHF)、加元(CAD)、澳元(AUD)"
   ]
  },
  {
   "cell_type": "markdown",
   "metadata": {
    "slideshow": {
     "slide_type": "fragment"
    }
   },
   "source": [
    "<center>\n",
    "\n",
    "<img src=\"./img/tradingBasics/forexfuturesstocks.png\" width=600>\n",
    "    \n",
    "</center>"
   ]
  },
  {
   "cell_type": "markdown",
   "metadata": {
    "slideshow": {
     "slide_type": "slide"
    }
   },
   "source": [
    "## 交易所与电子交易"
   ]
  },
  {
   "cell_type": "markdown",
   "metadata": {
    "slideshow": {
     "slide_type": "fragment"
    }
   },
   "source": [
    "- 专门进行金融标的物买卖的场所"
   ]
  },
  {
   "cell_type": "markdown",
   "metadata": {
    "slideshow": {
     "slide_type": "fragment"
    }
   },
   "source": [
    "<center>\n",
    "\n",
    "<img src=\"./img/tradingBasics/nyse.jpg\" width=600>\n",
    "    \n",
    "</center>"
   ]
  },
  {
   "cell_type": "markdown",
   "metadata": {
    "slideshow": {
     "slide_type": "fragment"
    }
   },
   "source": [
    "+ 为方便经纪人进行撮合，形式为喊话与电话交易"
   ]
  },
  {
   "cell_type": "markdown",
   "metadata": {
    "slideshow": {
     "slide_type": "slide"
    }
   },
   "source": [
    "<center>\n",
    "\n",
    "<img src=\"./img/tradingBasics/nasdaq.jpg\" width=600>\n",
    "    \n",
    "</center>"
   ]
  },
  {
   "cell_type": "markdown",
   "metadata": {
    "slideshow": {
     "slide_type": "fragment"
    }
   },
   "source": [
    "+ 电子化交易"
   ]
  },
  {
   "cell_type": "markdown",
   "metadata": {
    "slideshow": {
     "slide_type": "slide"
    }
   },
   "source": [
    "### 交易所的功能"
   ]
  },
  {
   "cell_type": "markdown",
   "metadata": {
    "slideshow": {
     "slide_type": "fragment"
    }
   },
   "source": [
    "- 交易撮合\n",
    "- 制定交易规章制度\n",
    "- 监督管理交易过程\n",
    "- 提供量化交易接口，如CTP（综合交易平台）等"
   ]
  },
  {
   "cell_type": "markdown",
   "metadata": {
    "slideshow": {
     "slide_type": "slide"
    }
   },
   "source": [
    "### 我国主要交易所"
   ]
  },
  {
   "cell_type": "markdown",
   "metadata": {
    "slideshow": {
     "slide_type": "fragment"
    }
   },
   "source": [
    "#### 股票交易所"
   ]
  },
  {
   "cell_type": "markdown",
   "metadata": {
    "slideshow": {
     "slide_type": "fragment"
    }
   },
   "source": [
    "- 上海证券交易所（SSE）\n",
    "    - 1990年成立于上海浦东新区\n",
    "    - 股票交易主要集中在**主板**\n",
    "    - 以央企、国企股票为主"
   ]
  },
  {
   "cell_type": "markdown",
   "metadata": {
    "slideshow": {
     "slide_type": "fragment"
    }
   },
   "source": [
    "- 深圳证券交易所（SZSE）\n",
    "    - 1990年成立于深圳福田区\n",
    "    - 股票交易集中在**主板**、**中小企业板**、**创业板**"
   ]
  },
  {
   "cell_type": "markdown",
   "metadata": {
    "slideshow": {
     "slide_type": "fragment"
    }
   },
   "source": [
    "- 交易时间\n",
    "    - 上午：9:30$\\sim$11:30\n",
    "    - 下午：13:00$\\sim$15:00"
   ]
  },
  {
   "cell_type": "markdown",
   "metadata": {
    "slideshow": {
     "slide_type": "slide"
    }
   },
   "source": [
    "#### 期货交易所"
   ]
  },
  {
   "cell_type": "markdown",
   "metadata": {
    "slideshow": {
     "slide_type": "fragment"
    }
   },
   "source": [
    "<center><img src=\"./img/tradingBasics/exchange.png\" width=60%></center>"
   ]
  },
  {
   "cell_type": "markdown",
   "metadata": {
    "slideshow": {
     "slide_type": "slide"
    }
   },
   "source": [
    "- 交易时间\n",
    "    - 上午：9:00$\\sim$11:30 (股指期货9:30$\\sim$11:30,国债期货9:15$\\sim$11:30)\n",
    "    - 下午：13:30$\\sim$15:00（股指期货13:00$\\sim$15:00,国债期货13:00$\\sim$15:15）\n",
    "    - 晚上: 21:00$\\sim$23:00（铜、铝、铅、锌、镍、锡21:00$\\sim$01:00，黄金、白银21:00$\\sim$02:30）"
   ]
  },
  {
   "cell_type": "markdown",
   "metadata": {
    "slideshow": {
     "slide_type": "slide"
    }
   },
   "source": [
    "# 交易的基本概念——以期货交易为例"
   ]
  },
  {
   "cell_type": "markdown",
   "metadata": {
    "slideshow": {
     "slide_type": "slide"
    }
   },
   "source": [
    "## 交易操作"
   ]
  },
  {
   "cell_type": "markdown",
   "metadata": {
    "slideshow": {
     "slide_type": "fragment"
    }
   },
   "source": [
    "<dl class=\"row text-info\">\n",
    "    <dt class=\"col-md-2\">开仓</dt>\n",
    "    <dd class=\"col-md-10\">交易者<strong>新</strong>买入或<strong>新</strong>卖出一定数量的期货合约</dd>\n",
    "</dl>"
   ]
  },
  {
   "cell_type": "markdown",
   "metadata": {
    "slideshow": {
     "slide_type": "fragment"
    }
   },
   "source": [
    "- 例如，以1000元/吨的价格在期货市场上卖出10手ZC201合约"
   ]
  },
  {
   "cell_type": "markdown",
   "metadata": {
    "slideshow": {
     "slide_type": "fragment"
    }
   },
   "source": [
    "<dl class=\"row text-danger\">\n",
    "    <dt class=\"col-md-2\">平仓</dt>\n",
    "    <dd class=\"col-md-10\">交易者通过<strong>笔数相等</strong>、<strong>方向相反</strong>的期货交易来对冲原来持有的期货合约的过程</dd>\n",
    "</dl>"
   ]
  },
  {
   "cell_type": "markdown",
   "metadata": {
    "slideshow": {
     "slide_type": "fragment"
    }
   },
   "source": [
    "- 以1000元/吨的价格在期货市场上卖出10手ZC201合约，则须在2022年1月之前**买进10手**该月份合约对冲平仓"
   ]
  },
  {
   "cell_type": "markdown",
   "metadata": {
    "slideshow": {
     "slide_type": "slide"
    }
   },
   "source": [
    "<dl class=\"row\">\n",
    "    <dt class=\"col-md-2\">持仓</dt>\n",
    "    <dd class=\"col-md-10\">开仓之后尚没有平仓的合约，是交易者持有期货合约的过程</dd>\n",
    "</dl>"
   ]
  },
  {
   "cell_type": "markdown",
   "metadata": {
    "slideshow": {
     "slide_type": "fragment"
    }
   },
   "source": [
    "- 多头头寸：**买入**期货合约后持有的头寸，也被称为***多头***"
   ]
  },
  {
   "cell_type": "markdown",
   "metadata": {
    "slideshow": {
     "slide_type": "fragment"
    }
   },
   "source": [
    "- 空头头寸：**卖出**期货合约后持有的头寸，也被称为***空头***"
   ]
  },
  {
   "cell_type": "markdown",
   "metadata": {
    "slideshow": {
     "slide_type": "slide"
    }
   },
   "source": [
    "## 交易量"
   ]
  },
  {
   "cell_type": "markdown",
   "metadata": {
    "slideshow": {
     "slide_type": "fragment"
    }
   },
   "source": [
    "<dl class=\"row text-info\">\n",
    "    <dt class=\"col-md-2\">成交量</dt>\n",
    "    <dd class=\"col-md-10\">在一个交易时段内买卖某个期货合约的数量</dd>\n",
    "</dl>"
   ]
  },
  {
   "cell_type": "markdown",
   "metadata": {
    "slideshow": {
     "slide_type": "fragment"
    }
   },
   "source": [
    "<dl class=\"row text-danger\">\n",
    "    <dt class=\"col-md-2\">持仓量</dt>\n",
    "    <dd class=\"col-md-10\">所有投资者持仓合约的总数，是所有多头与空头数之和</dd>\n",
    "</dl>"
   ]
  },
  {
   "cell_type": "markdown",
   "metadata": {
    "slideshow": {
     "slide_type": "slide"
    }
   },
   "source": [
    "## 价格"
   ]
  },
  {
   "cell_type": "markdown",
   "metadata": {
    "slideshow": {
     "slide_type": "fragment"
    }
   },
   "source": [
    "### 形态描述类价格"
   ]
  },
  {
   "cell_type": "markdown",
   "metadata": {
    "slideshow": {
     "slide_type": "fragment"
    }
   },
   "source": [
    "- 开盘价：某一期货合约在某一时间段内**第一笔**成交的价格\n",
    "- 收盘价：某一期货合约在某一时间段内**最后一笔**成交的价格\n",
    "- 最高价：某一期货合约在某一时间段内成交的**最高**价格\n",
    "- 最低价：某一期货合约在某一时间段内成交的**最低**价格"
   ]
  },
  {
   "cell_type": "markdown",
   "metadata": {
    "slideshow": {
     "slide_type": "slide"
    }
   },
   "source": [
    "#### 时间长度"
   ]
  },
  {
   "cell_type": "markdown",
   "metadata": {
    "slideshow": {
     "slide_type": "fragment"
    }
   },
   "source": [
    "- 不同的时间长度对应着不同长度的趋势\n",
    "    - 例如，1分钟、5分钟、15分钟、1小时、1天、1周、1月、半年、1年等"
   ]
  },
  {
   "cell_type": "markdown",
   "metadata": {
    "slideshow": {
     "slide_type": "fragment"
    }
   },
   "source": [
    "<center><img src=\"./img/tradingBasics/timescale.jpg\" width=100%></center>"
   ]
  },
  {
   "cell_type": "markdown",
   "metadata": {
    "slideshow": {
     "slide_type": "slide"
    }
   },
   "source": [
    "#### K线图(candlestick)"
   ]
  },
  {
   "cell_type": "markdown",
   "metadata": {
    "slideshow": {
     "slide_type": "fragment"
    }
   },
   "source": [
    "- 选取一个时间长度，然后用该时间长度内的**开盘价、收盘价、最高价、最低价**构成的图形"
   ]
  },
  {
   "cell_type": "markdown",
   "metadata": {
    "slideshow": {
     "slide_type": "fragment"
    }
   },
   "source": [
    "<center><img src=\"./img/tradingBasics/candlestick.png\" width=70%></center>"
   ]
  },
  {
   "cell_type": "markdown",
   "metadata": {
    "slideshow": {
     "slide_type": "slide"
    }
   },
   "source": [
    "#### `Python`绘制K线图"
   ]
  },
  {
   "cell_type": "markdown",
   "metadata": {
    "slideshow": {
     "slide_type": "fragment"
    }
   },
   "source": [
    "##### 获取数据"
   ]
  },
  {
   "cell_type": "markdown",
   "metadata": {
    "slideshow": {
     "slide_type": "fragment"
    }
   },
   "source": [
    "###### 利用pandas-datareader获取数据"
   ]
  },
  {
   "cell_type": "markdown",
   "metadata": {
    "slideshow": {
     "slide_type": "fragment"
    }
   },
   "source": [
    "安装\n",
    "\n",
    "```python\n",
    "pip install pandas\n",
    "pip install pandas-datareader\n",
    "```"
   ]
  },
  {
   "cell_type": "markdown",
   "metadata": {
    "slideshow": {
     "slide_type": "fragment"
    }
   },
   "source": [
    "使用说明\n",
    "\n",
    "[https://pydata.github.io/pandas-datareader/readers/index.html](https://pydata.github.io/pandas-datareader/readers/index.html)"
   ]
  },
  {
   "cell_type": "markdown",
   "metadata": {
    "slideshow": {
     "slide_type": "slide"
    }
   },
   "source": [
    "```python\n",
    "import pandas_datareader.data as web\n",
    "web.DataReader(symbols=None,data_source=None, start=None,end=None,freq='d')\n",
    "```\n",
    "- `symbols`：标的物代码，字符串\n",
    "- `data_source`：数据源，字符串，例如'stooq'、'yahoo'等\n",
    "- `start`：起始日期，字符串，格式'2021-09-15'\n",
    "- `end`：结束日期，字符串\n",
    "- `freq`：频率，字符串，d, w, m ,q, y 对应日、周、月、季度、年\n",
    "- 返回`dataframe`格式数据"
   ]
  },
  {
   "cell_type": "code",
   "execution_count": 10,
   "metadata": {
    "slideshow": {
     "slide_type": "slide"
    }
   },
   "outputs": [
    {
     "data": {
      "text/html": [
       "<div>\n",
       "<style scoped>\n",
       "    .dataframe tbody tr th:only-of-type {\n",
       "        vertical-align: middle;\n",
       "    }\n",
       "\n",
       "    .dataframe tbody tr th {\n",
       "        vertical-align: top;\n",
       "    }\n",
       "\n",
       "    .dataframe thead th {\n",
       "        text-align: right;\n",
       "    }\n",
       "</style>\n",
       "<table border=\"1\" class=\"dataframe\">\n",
       "  <thead>\n",
       "    <tr style=\"text-align: right;\">\n",
       "      <th></th>\n",
       "      <th>Open</th>\n",
       "      <th>High</th>\n",
       "      <th>Low</th>\n",
       "      <th>Close</th>\n",
       "      <th>Volume</th>\n",
       "    </tr>\n",
       "    <tr>\n",
       "      <th>Date</th>\n",
       "      <th></th>\n",
       "      <th></th>\n",
       "      <th></th>\n",
       "      <th></th>\n",
       "      <th></th>\n",
       "    </tr>\n",
       "  </thead>\n",
       "  <tbody>\n",
       "    <tr>\n",
       "      <th>2021-09-30</th>\n",
       "      <td>143.66</td>\n",
       "      <td>144.3780</td>\n",
       "      <td>141.28</td>\n",
       "      <td>141.50</td>\n",
       "      <td>89056664</td>\n",
       "    </tr>\n",
       "    <tr>\n",
       "      <th>2021-09-29</th>\n",
       "      <td>142.47</td>\n",
       "      <td>144.4500</td>\n",
       "      <td>142.03</td>\n",
       "      <td>142.83</td>\n",
       "      <td>74602044</td>\n",
       "    </tr>\n",
       "    <tr>\n",
       "      <th>2021-09-28</th>\n",
       "      <td>143.25</td>\n",
       "      <td>144.7500</td>\n",
       "      <td>141.69</td>\n",
       "      <td>141.91</td>\n",
       "      <td>108972340</td>\n",
       "    </tr>\n",
       "    <tr>\n",
       "      <th>2021-09-27</th>\n",
       "      <td>145.47</td>\n",
       "      <td>145.9600</td>\n",
       "      <td>143.82</td>\n",
       "      <td>145.37</td>\n",
       "      <td>74150729</td>\n",
       "    </tr>\n",
       "    <tr>\n",
       "      <th>2021-09-24</th>\n",
       "      <td>145.66</td>\n",
       "      <td>147.4701</td>\n",
       "      <td>145.56</td>\n",
       "      <td>146.92</td>\n",
       "      <td>53477869</td>\n",
       "    </tr>\n",
       "  </tbody>\n",
       "</table>\n",
       "</div>"
      ],
      "text/plain": [
       "              Open      High     Low   Close     Volume\n",
       "Date                                                   \n",
       "2021-09-30  143.66  144.3780  141.28  141.50   89056664\n",
       "2021-09-29  142.47  144.4500  142.03  142.83   74602044\n",
       "2021-09-28  143.25  144.7500  141.69  141.91  108972340\n",
       "2021-09-27  145.47  145.9600  143.82  145.37   74150729\n",
       "2021-09-24  145.66  147.4701  145.56  146.92   53477869"
      ]
     },
     "execution_count": 10,
     "metadata": {},
     "output_type": "execute_result"
    },
    {
     "data": {
      "text/plain": [
       "(188, 5)"
      ]
     },
     "execution_count": 10,
     "metadata": {},
     "output_type": "execute_result"
    }
   ],
   "source": [
    "aprice = web.DataReader('AAPL',data_source='stooq',start='2021-01-01',end='2021-09-30')\n",
    "aprice.head()\n",
    "aprice.shape"
   ]
  },
  {
   "cell_type": "code",
   "execution_count": 12,
   "metadata": {
    "slideshow": {
     "slide_type": "fragment"
    }
   },
   "outputs": [
    {
     "data": {
      "text/html": [
       "<div>\n",
       "<style scoped>\n",
       "    .dataframe tbody tr th:only-of-type {\n",
       "        vertical-align: middle;\n",
       "    }\n",
       "\n",
       "    .dataframe tbody tr th {\n",
       "        vertical-align: top;\n",
       "    }\n",
       "\n",
       "    .dataframe thead th {\n",
       "        text-align: right;\n",
       "    }\n",
       "</style>\n",
       "<table border=\"1\" class=\"dataframe\">\n",
       "  <thead>\n",
       "    <tr style=\"text-align: right;\">\n",
       "      <th></th>\n",
       "      <th>Open</th>\n",
       "      <th>High</th>\n",
       "      <th>Low</th>\n",
       "      <th>Close</th>\n",
       "      <th>Volume</th>\n",
       "    </tr>\n",
       "    <tr>\n",
       "      <th>Date</th>\n",
       "      <th></th>\n",
       "      <th></th>\n",
       "      <th></th>\n",
       "      <th></th>\n",
       "      <th></th>\n",
       "    </tr>\n",
       "  </thead>\n",
       "  <tbody>\n",
       "    <tr>\n",
       "      <th>2021-01-04</th>\n",
       "      <td>132.89</td>\n",
       "      <td>132.9800</td>\n",
       "      <td>126.17</td>\n",
       "      <td>128.81</td>\n",
       "      <td>143975186</td>\n",
       "    </tr>\n",
       "    <tr>\n",
       "      <th>2021-01-05</th>\n",
       "      <td>128.29</td>\n",
       "      <td>131.1200</td>\n",
       "      <td>127.83</td>\n",
       "      <td>130.39</td>\n",
       "      <td>98123773</td>\n",
       "    </tr>\n",
       "    <tr>\n",
       "      <th>2021-01-06</th>\n",
       "      <td>127.12</td>\n",
       "      <td>130.4300</td>\n",
       "      <td>125.79</td>\n",
       "      <td>126.01</td>\n",
       "      <td>155816646</td>\n",
       "    </tr>\n",
       "    <tr>\n",
       "      <th>2021-01-07</th>\n",
       "      <td>127.76</td>\n",
       "      <td>131.0100</td>\n",
       "      <td>127.26</td>\n",
       "      <td>130.30</td>\n",
       "      <td>110093006</td>\n",
       "    </tr>\n",
       "    <tr>\n",
       "      <th>2021-01-08</th>\n",
       "      <td>131.81</td>\n",
       "      <td>132.0100</td>\n",
       "      <td>129.63</td>\n",
       "      <td>131.43</td>\n",
       "      <td>105652328</td>\n",
       "    </tr>\n",
       "    <tr>\n",
       "      <th>...</th>\n",
       "      <td>...</td>\n",
       "      <td>...</td>\n",
       "      <td>...</td>\n",
       "      <td>...</td>\n",
       "      <td>...</td>\n",
       "    </tr>\n",
       "    <tr>\n",
       "      <th>2021-09-24</th>\n",
       "      <td>145.66</td>\n",
       "      <td>147.4701</td>\n",
       "      <td>145.56</td>\n",
       "      <td>146.92</td>\n",
       "      <td>53477869</td>\n",
       "    </tr>\n",
       "    <tr>\n",
       "      <th>2021-09-27</th>\n",
       "      <td>145.47</td>\n",
       "      <td>145.9600</td>\n",
       "      <td>143.82</td>\n",
       "      <td>145.37</td>\n",
       "      <td>74150729</td>\n",
       "    </tr>\n",
       "    <tr>\n",
       "      <th>2021-09-28</th>\n",
       "      <td>143.25</td>\n",
       "      <td>144.7500</td>\n",
       "      <td>141.69</td>\n",
       "      <td>141.91</td>\n",
       "      <td>108972340</td>\n",
       "    </tr>\n",
       "    <tr>\n",
       "      <th>2021-09-29</th>\n",
       "      <td>142.47</td>\n",
       "      <td>144.4500</td>\n",
       "      <td>142.03</td>\n",
       "      <td>142.83</td>\n",
       "      <td>74602044</td>\n",
       "    </tr>\n",
       "    <tr>\n",
       "      <th>2021-09-30</th>\n",
       "      <td>143.66</td>\n",
       "      <td>144.3780</td>\n",
       "      <td>141.28</td>\n",
       "      <td>141.50</td>\n",
       "      <td>89056664</td>\n",
       "    </tr>\n",
       "  </tbody>\n",
       "</table>\n",
       "<p>188 rows × 5 columns</p>\n",
       "</div>"
      ],
      "text/plain": [
       "              Open      High     Low   Close     Volume\n",
       "Date                                                   \n",
       "2021-01-04  132.89  132.9800  126.17  128.81  143975186\n",
       "2021-01-05  128.29  131.1200  127.83  130.39   98123773\n",
       "2021-01-06  127.12  130.4300  125.79  126.01  155816646\n",
       "2021-01-07  127.76  131.0100  127.26  130.30  110093006\n",
       "2021-01-08  131.81  132.0100  129.63  131.43  105652328\n",
       "...            ...       ...     ...     ...        ...\n",
       "2021-09-24  145.66  147.4701  145.56  146.92   53477869\n",
       "2021-09-27  145.47  145.9600  143.82  145.37   74150729\n",
       "2021-09-28  143.25  144.7500  141.69  141.91  108972340\n",
       "2021-09-29  142.47  144.4500  142.03  142.83   74602044\n",
       "2021-09-30  143.66  144.3780  141.28  141.50   89056664\n",
       "\n",
       "[188 rows x 5 columns]"
      ]
     },
     "execution_count": 12,
     "metadata": {},
     "output_type": "execute_result"
    }
   ],
   "source": [
    "# 按时间升序排列\n",
    "aprice.sort_index(inplace=True)\n",
    "aprice"
   ]
  },
  {
   "cell_type": "markdown",
   "metadata": {
    "slideshow": {
     "slide_type": "slide"
    }
   },
   "source": [
    "###### 利用baostock获取数据"
   ]
  },
  {
   "cell_type": "markdown",
   "metadata": {
    "slideshow": {
     "slide_type": "fragment"
    }
   },
   "source": [
    "安装\n",
    "\n",
    "```python\n",
    "    pip install baostock -i https://pypi.tuna.tsinghua.edu.cn/simple/ --trusted-host pypi.tuna.tsinghua.edu.cn\n",
    "```"
   ]
  },
  {
   "cell_type": "markdown",
   "metadata": {
    "slideshow": {
     "slide_type": "fragment"
    }
   },
   "source": [
    "使用说明\n",
    "\n",
    "[https://baostock.com/baostock/index.php](https://baostock.com/baostock/index.php)"
   ]
  },
  {
   "cell_type": "markdown",
   "metadata": {
    "slideshow": {
     "slide_type": "slide"
    }
   },
   "source": [
    "导入\n",
    "\n",
    "```python\n",
    "    import baostock as bs\n",
    "```"
   ]
  },
  {
   "cell_type": "code",
   "execution_count": 14,
   "metadata": {
    "slideshow": {
     "slide_type": "fragment"
    }
   },
   "outputs": [
    {
     "name": "stdout",
     "output_type": "stream",
     "text": [
      "login success!\n"
     ]
    }
   ],
   "source": [
    "# 登录系统\n",
    "lg = bs.login()"
   ]
  },
  {
   "cell_type": "markdown",
   "metadata": {
    "slideshow": {
     "slide_type": "slide"
    }
   },
   "source": [
    "获取A股历史K线数据\n",
    "\n",
    "``` python\n",
    "query_history_k_data_plus(code, fields, start, end, frequency, adjustflag)\n",
    "```\n",
    "\n",
    "- `code`：股票代码，sh或sz.+6位数字代码，例如sh.601398\n",
    "- `fields`：查询指标，字符串，多个指标之间用**英文逗号间隔**\n",
    "\n",
    "参数名称|参数描述|说明\n",
    "---|---|---\n",
    "date|交易所行情日期|格式：YYYY-MM-DD\n",
    "code|证券代码|格式：sh.600000。sh：上海，sz：深圳\n",
    "open|今开盘价格|精度：小数点后4位；单位：人民币元\n",
    "high|最高价|精度：小数点后4位；单位：人民币元\n",
    "low|最低价|精度：小数点后4位；单位：人民币元\n",
    "close|今收盘价|精度：小数点后4位；单位：人民币元\n",
    "preclose|昨日收盘价|精度：小数点后4位；单位：人民币元\n",
    "volume|成交数量|单位：股\n",
    "amount|成交金额|精度：小数点后4位；单位：人民币元\n",
    "adjustflag|复权状态|不复权、前复权、后复权\n",
    "\n",
    "- `start`：开始日期（包含），格式“YYYY-MM-DD”，为空时取2015-01-01\n",
    "- `end`：结束日期（包含），格式“YYYY-MM-DD”，为空时取最近一个交易日\n",
    "- `frequency`：数据频率，字符串\n",
    "\n",
    "取值|含义\n",
    "---|---\n",
    "d|日k线\n",
    "w|周k线\n",
    "m|月k线\n",
    "5|5分钟k线\n",
    "15|15分钟k线\n",
    "30|30分钟k线\n",
    "60|60分钟k线\n",
    "\n",
    "- `adjustflag`：复权类型，字符串\n",
    "\n",
    "取值|含义\n",
    "---|---\n",
    "3|不复权，默认值\n",
    "1|后复权\n",
    "2|前复权"
   ]
  },
  {
   "cell_type": "markdown",
   "metadata": {
    "slideshow": {
     "slide_type": "slide"
    }
   },
   "source": [
    "输出结果\n",
    "\n",
    "- `bs.query_history_k_data_plus()`返回的是一个迭代对象（`iterator`）\n",
    "- 能够获取1990-12-19至当前时间的数据"
   ]
  },
  {
   "cell_type": "markdown",
   "metadata": {
    "slideshow": {
     "slide_type": "fragment"
    }
   },
   "source": [
    "```python\n",
    "rs = bs.query_history_k_data_plus('sh.600000', 'date,open,high,low,close,preclose,volume,adjustflag',start_date='2021-01-01',end_date='2021-09-30',frequency='d',adjustflag='3')\n",
    "while rs.error_code =='0' and rs.next():\n",
    "    print(rs.get_row_data())\n",
    "```\n",
    "\n",
    "- `error_code`：返回对象的属性，读取数据是否有错误\n",
    "- `next()`：返回对象的方法，判断读取的数据是否还有下一条，取值是`True`或`False`\n",
    "- `get_row_data()`：返回对象的方法，获取一条记录"
   ]
  },
  {
   "cell_type": "code",
   "execution_count": 16,
   "metadata": {
    "slideshow": {
     "slide_type": "fragment"
    }
   },
   "outputs": [
    {
     "data": {
      "text/html": [
       "<div>\n",
       "<style scoped>\n",
       "    .dataframe tbody tr th:only-of-type {\n",
       "        vertical-align: middle;\n",
       "    }\n",
       "\n",
       "    .dataframe tbody tr th {\n",
       "        vertical-align: top;\n",
       "    }\n",
       "\n",
       "    .dataframe thead th {\n",
       "        text-align: right;\n",
       "    }\n",
       "</style>\n",
       "<table border=\"1\" class=\"dataframe\">\n",
       "  <thead>\n",
       "    <tr style=\"text-align: right;\">\n",
       "      <th></th>\n",
       "      <th>date</th>\n",
       "      <th>open</th>\n",
       "      <th>high</th>\n",
       "      <th>low</th>\n",
       "      <th>close</th>\n",
       "      <th>preclose</th>\n",
       "      <th>volume</th>\n",
       "      <th>adjustflag</th>\n",
       "    </tr>\n",
       "  </thead>\n",
       "  <tbody>\n",
       "    <tr>\n",
       "      <th>0</th>\n",
       "      <td>2021-01-04</td>\n",
       "      <td>9.6400</td>\n",
       "      <td>9.7300</td>\n",
       "      <td>9.5500</td>\n",
       "      <td>9.6900</td>\n",
       "      <td>9.6800</td>\n",
       "      <td>62906939</td>\n",
       "      <td>3</td>\n",
       "    </tr>\n",
       "    <tr>\n",
       "      <th>1</th>\n",
       "      <td>2021-01-05</td>\n",
       "      <td>9.6800</td>\n",
       "      <td>9.6800</td>\n",
       "      <td>9.5200</td>\n",
       "      <td>9.6800</td>\n",
       "      <td>9.6900</td>\n",
       "      <td>53859177</td>\n",
       "      <td>3</td>\n",
       "    </tr>\n",
       "    <tr>\n",
       "      <th>2</th>\n",
       "      <td>2021-01-06</td>\n",
       "      <td>9.6200</td>\n",
       "      <td>9.8300</td>\n",
       "      <td>9.6200</td>\n",
       "      <td>9.8200</td>\n",
       "      <td>9.6800</td>\n",
       "      <td>61881321</td>\n",
       "      <td>3</td>\n",
       "    </tr>\n",
       "    <tr>\n",
       "      <th>3</th>\n",
       "      <td>2021-01-07</td>\n",
       "      <td>9.8300</td>\n",
       "      <td>9.9300</td>\n",
       "      <td>9.6600</td>\n",
       "      <td>9.8100</td>\n",
       "      <td>9.8200</td>\n",
       "      <td>57090442</td>\n",
       "      <td>3</td>\n",
       "    </tr>\n",
       "    <tr>\n",
       "      <th>4</th>\n",
       "      <td>2021-01-08</td>\n",
       "      <td>9.8300</td>\n",
       "      <td>9.9000</td>\n",
       "      <td>9.7300</td>\n",
       "      <td>9.8300</td>\n",
       "      <td>9.8100</td>\n",
       "      <td>55801455</td>\n",
       "      <td>3</td>\n",
       "    </tr>\n",
       "    <tr>\n",
       "      <th>...</th>\n",
       "      <td>...</td>\n",
       "      <td>...</td>\n",
       "      <td>...</td>\n",
       "      <td>...</td>\n",
       "      <td>...</td>\n",
       "      <td>...</td>\n",
       "      <td>...</td>\n",
       "      <td>...</td>\n",
       "    </tr>\n",
       "    <tr>\n",
       "      <th>177</th>\n",
       "      <td>2021-09-24</td>\n",
       "      <td>9.0400</td>\n",
       "      <td>9.0800</td>\n",
       "      <td>8.9900</td>\n",
       "      <td>9.0200</td>\n",
       "      <td>9.0300</td>\n",
       "      <td>39925596</td>\n",
       "      <td>3</td>\n",
       "    </tr>\n",
       "    <tr>\n",
       "      <th>178</th>\n",
       "      <td>2021-09-27</td>\n",
       "      <td>9.0200</td>\n",
       "      <td>9.0500</td>\n",
       "      <td>8.9400</td>\n",
       "      <td>9.0200</td>\n",
       "      <td>9.0200</td>\n",
       "      <td>41708355</td>\n",
       "      <td>3</td>\n",
       "    </tr>\n",
       "    <tr>\n",
       "      <th>179</th>\n",
       "      <td>2021-09-28</td>\n",
       "      <td>8.9800</td>\n",
       "      <td>9.0900</td>\n",
       "      <td>8.9800</td>\n",
       "      <td>9.0300</td>\n",
       "      <td>9.0200</td>\n",
       "      <td>33340762</td>\n",
       "      <td>3</td>\n",
       "    </tr>\n",
       "    <tr>\n",
       "      <th>180</th>\n",
       "      <td>2021-09-29</td>\n",
       "      <td>9.0100</td>\n",
       "      <td>9.0900</td>\n",
       "      <td>8.9700</td>\n",
       "      <td>9.0200</td>\n",
       "      <td>9.0300</td>\n",
       "      <td>40008268</td>\n",
       "      <td>3</td>\n",
       "    </tr>\n",
       "    <tr>\n",
       "      <th>181</th>\n",
       "      <td>2021-09-30</td>\n",
       "      <td>9.0300</td>\n",
       "      <td>9.0500</td>\n",
       "      <td>8.9800</td>\n",
       "      <td>9.0000</td>\n",
       "      <td>9.0200</td>\n",
       "      <td>29190245</td>\n",
       "      <td>3</td>\n",
       "    </tr>\n",
       "  </tbody>\n",
       "</table>\n",
       "<p>182 rows × 8 columns</p>\n",
       "</div>"
      ],
      "text/plain": [
       "           date    open    high     low   close preclose    volume adjustflag\n",
       "0    2021-01-04  9.6400  9.7300  9.5500  9.6900   9.6800  62906939          3\n",
       "1    2021-01-05  9.6800  9.6800  9.5200  9.6800   9.6900  53859177          3\n",
       "2    2021-01-06  9.6200  9.8300  9.6200  9.8200   9.6800  61881321          3\n",
       "3    2021-01-07  9.8300  9.9300  9.6600  9.8100   9.8200  57090442          3\n",
       "4    2021-01-08  9.8300  9.9000  9.7300  9.8300   9.8100  55801455          3\n",
       "..          ...     ...     ...     ...     ...      ...       ...        ...\n",
       "177  2021-09-24  9.0400  9.0800  8.9900  9.0200   9.0300  39925596          3\n",
       "178  2021-09-27  9.0200  9.0500  8.9400  9.0200   9.0200  41708355          3\n",
       "179  2021-09-28  8.9800  9.0900  8.9800  9.0300   9.0200  33340762          3\n",
       "180  2021-09-29  9.0100  9.0900  8.9700  9.0200   9.0300  40008268          3\n",
       "181  2021-09-30  9.0300  9.0500  8.9800  9.0000   9.0200  29190245          3\n",
       "\n",
       "[182 rows x 8 columns]"
      ]
     },
     "execution_count": 16,
     "metadata": {},
     "output_type": "execute_result"
    }
   ],
   "source": [
    "rs = bs.query_history_k_data_plus('sh.600000', 'date,open,high,low,close,preclose,volume,adjustflag',start_date='2021-01-01',end_date='2021-09-30',frequency='d',adjustflag='3')\n",
    "\n",
    "# 创立存储结果的列表\n",
    "rsLst = []\n",
    "\n",
    "# 读取k线数据，存储到rsLst中\n",
    "while rs.error_code == '0' and rs.next():\n",
    "    rsLst.append(rs.get_row_data())\n",
    "    \n",
    "# 将列表转换成pandas的dataframe\n",
    "rsDf = pd.DataFrame(rsLst, columns=rs.fields)\n",
    "\n",
    "rsDf"
   ]
  },
  {
   "cell_type": "markdown",
   "metadata": {
    "slideshow": {
     "slide_type": "slide"
    }
   },
   "source": [
    "##### 绘制K线"
   ]
  },
  {
   "cell_type": "markdown",
   "metadata": {
    "slideshow": {
     "slide_type": "fragment"
    }
   },
   "source": [
    "```python\n",
    "pip install mplfinance\n",
    "```\n",
    "\n",
    "[https://github.com/matplotlib/mplfinance](https://github.com/matplotlib/mplfinance)"
   ]
  },
  {
   "cell_type": "markdown",
   "metadata": {
    "slideshow": {
     "slide_type": "fragment"
    }
   },
   "source": [
    "```python\n",
    "import mplfinance as mpf\n",
    "mpf.plot(ohlc,type='ohlc',style='default',mav=(),volume=False,figratio=(),figscale=1)\n",
    "```\n",
    "- `ohlc`：包含开盘价、最高价、最低价、收盘价的`DataFrame`\n",
    "- `type`：形状，可以取值`ohlc`,`candle`,`line`,`renko`,或`pnf`\n",
    "- `style`：样式，可以取值`default`,`blueskies`,`brasil`,`charles`,`checkers`,`classic`,`mike`,`nightclouds`,`sas`,`starsandstripes`,`yahoo`\n",
    "- `mav`：均线，元组类型\n",
    "- `volume`：是否绘制成交量，默认不绘制\n",
    "- `figratio`：绘图的长宽比，元组类型\n",
    "- `figscale`：绘图放大比例，float类型"
   ]
  },
  {
   "cell_type": "code",
   "execution_count": 18,
   "metadata": {
    "slideshow": {
     "slide_type": "slide"
    }
   },
   "outputs": [
    {
     "data": {
      "image/png": "[encoded data removed]",
      "text/plain": [
       "<Figure size 1150x575 with 2 Axes>"
      ]
     },
     "metadata": {},
     "output_type": "display_data"
    }
   ],
   "source": [
    "mpf.plot(aprice,type='line',style='yahoo',volume=False,figratio=(12,6),figscale=1)"
   ]
  },
  {
   "cell_type": "code",
   "execution_count": 19,
   "metadata": {
    "scrolled": true,
    "slideshow": {
     "slide_type": "slide"
    }
   },
   "outputs": [
    {
     "data": {
      "image/png": "[encoded data removed]",
      "text/plain": [
       "<Figure size 1150x575 with 2 Axes>"
      ]
     },
     "metadata": {},
     "output_type": "display_data"
    }
   ],
   "source": [
    "mpf.plot(aprice,type='candle',style='yahoo',volume=False,figratio=(12,6),figscale=1,mav=(10,60))"
   ]
  },
  {
   "cell_type": "markdown",
   "metadata": {
    "slideshow": {
     "slide_type": "fragment"
    }
   },
   "source": [
    "绘制浦发银行（sh.600000）的日k线"
   ]
  },
  {
   "cell_type": "code",
   "execution_count": 20,
   "metadata": {
    "slideshow": {
     "slide_type": "fragment"
    }
   },
   "outputs": [
    {
     "ename": "TypeError",
     "evalue": "Expect data.index as DatetimeIndex",
     "output_type": "error",
     "traceback": [
      "\u001b[0;31m---------------------------------------------------------------------------\u001b[0m",
      "\u001b[0;31mTypeError\u001b[0m                                 Traceback (most recent call last)",
      "\u001b[0;32m<ipython-input-20-d1f7af57601a>\u001b[0m in \u001b[0;36m<module>\u001b[0;34m\u001b[0m\n\u001b[0;32m----> 1\u001b[0;31m \u001b[0mmpf\u001b[0m\u001b[0;34m.\u001b[0m\u001b[0mplot\u001b[0m\u001b[0;34m(\u001b[0m\u001b[0mrsDf\u001b[0m\u001b[0;34m,\u001b[0m\u001b[0mtype\u001b[0m\u001b[0;34m=\u001b[0m\u001b[0;34m'candle'\u001b[0m\u001b[0;34m,\u001b[0m\u001b[0mstyle\u001b[0m\u001b[0;34m=\u001b[0m\u001b[0;34m'yahoo'\u001b[0m\u001b[0;34m,\u001b[0m\u001b[0mvolume\u001b[0m\u001b[0;34m=\u001b[0m\u001b[0;32mTrue\u001b[0m\u001b[0;34m,\u001b[0m\u001b[0mfigratio\u001b[0m\u001b[0;34m=\u001b[0m\u001b[0;34m(\u001b[0m\u001b[0;36m12\u001b[0m\u001b[0;34m,\u001b[0m\u001b[0;36m6\u001b[0m\u001b[0;34m)\u001b[0m\u001b[0;34m,\u001b[0m\u001b[0mfigscale\u001b[0m\u001b[0;34m=\u001b[0m\u001b[0;36m1\u001b[0m\u001b[0;34m,\u001b[0m\u001b[0mmav\u001b[0m\u001b[0;34m=\u001b[0m\u001b[0;34m(\u001b[0m\u001b[0;36m5\u001b[0m\u001b[0;34m,\u001b[0m\u001b[0;36m60\u001b[0m\u001b[0;34m)\u001b[0m\u001b[0;34m)\u001b[0m\u001b[0;34m\u001b[0m\u001b[0;34m\u001b[0m\u001b[0m\n\u001b[0m",
      "\u001b[0;32m/home/VENV36/lib/python3.6/site-packages/mplfinance/plotting.py\u001b[0m in \u001b[0;36mplot\u001b[0;34m(data, **kwargs)\u001b[0m\n\u001b[1;32m    273\u001b[0m     \u001b[0mconfig\u001b[0m \u001b[0;34m=\u001b[0m \u001b[0m_process_kwargs\u001b[0m\u001b[0;34m(\u001b[0m\u001b[0mkwargs\u001b[0m\u001b[0;34m,\u001b[0m \u001b[0m_valid_plot_kwargs\u001b[0m\u001b[0;34m(\u001b[0m\u001b[0;34m)\u001b[0m\u001b[0;34m)\u001b[0m\u001b[0;34m\u001b[0m\u001b[0;34m\u001b[0m\u001b[0m\n\u001b[1;32m    274\u001b[0m \u001b[0;34m\u001b[0m\u001b[0m\n\u001b[0;32m--> 275\u001b[0;31m     \u001b[0mdates\u001b[0m\u001b[0;34m,\u001b[0m\u001b[0mopens\u001b[0m\u001b[0;34m,\u001b[0m\u001b[0mhighs\u001b[0m\u001b[0;34m,\u001b[0m\u001b[0mlows\u001b[0m\u001b[0;34m,\u001b[0m\u001b[0mcloses\u001b[0m\u001b[0;34m,\u001b[0m\u001b[0mvolumes\u001b[0m \u001b[0;34m=\u001b[0m \u001b[0m_check_and_prepare_data\u001b[0m\u001b[0;34m(\u001b[0m\u001b[0mdata\u001b[0m\u001b[0;34m,\u001b[0m \u001b[0mconfig\u001b[0m\u001b[0;34m)\u001b[0m\u001b[0;34m\u001b[0m\u001b[0;34m\u001b[0m\u001b[0m\n\u001b[0m\u001b[1;32m    276\u001b[0m \u001b[0;34m\u001b[0m\u001b[0m\n\u001b[1;32m    277\u001b[0m     \u001b[0;32mif\u001b[0m \u001b[0mconfig\u001b[0m\u001b[0;34m[\u001b[0m\u001b[0;34m'type'\u001b[0m\u001b[0;34m]\u001b[0m \u001b[0;32min\u001b[0m \u001b[0mVALID_PMOVE_TYPES\u001b[0m \u001b[0;32mand\u001b[0m \u001b[0mconfig\u001b[0m\u001b[0;34m[\u001b[0m\u001b[0;34m'addplot'\u001b[0m\u001b[0;34m]\u001b[0m \u001b[0;32mis\u001b[0m \u001b[0;32mnot\u001b[0m \u001b[0;32mNone\u001b[0m\u001b[0;34m:\u001b[0m\u001b[0;34m\u001b[0m\u001b[0;34m\u001b[0m\u001b[0m\n",
      "\u001b[0;32m/home/VENV36/lib/python3.6/site-packages/mplfinance/_arg_validators.py\u001b[0m in \u001b[0;36m_check_and_prepare_data\u001b[0;34m(data, config)\u001b[0m\n\u001b[1;32m     27\u001b[0m \u001b[0;34m\u001b[0m\u001b[0m\n\u001b[1;32m     28\u001b[0m     \u001b[0;32mif\u001b[0m \u001b[0;32mnot\u001b[0m \u001b[0misinstance\u001b[0m\u001b[0;34m(\u001b[0m\u001b[0mdata\u001b[0m\u001b[0;34m.\u001b[0m\u001b[0mindex\u001b[0m\u001b[0;34m,\u001b[0m\u001b[0mpd\u001b[0m\u001b[0;34m.\u001b[0m\u001b[0mcore\u001b[0m\u001b[0;34m.\u001b[0m\u001b[0mindexes\u001b[0m\u001b[0;34m.\u001b[0m\u001b[0mdatetimes\u001b[0m\u001b[0;34m.\u001b[0m\u001b[0mDatetimeIndex\u001b[0m\u001b[0;34m)\u001b[0m\u001b[0;34m:\u001b[0m\u001b[0;34m\u001b[0m\u001b[0;34m\u001b[0m\u001b[0m\n\u001b[0;32m---> 29\u001b[0;31m         \u001b[0;32mraise\u001b[0m \u001b[0mTypeError\u001b[0m\u001b[0;34m(\u001b[0m\u001b[0;34m'Expect data.index as DatetimeIndex'\u001b[0m\u001b[0;34m)\u001b[0m\u001b[0;34m\u001b[0m\u001b[0;34m\u001b[0m\u001b[0m\n\u001b[0m\u001b[1;32m     30\u001b[0m \u001b[0;34m\u001b[0m\u001b[0m\n\u001b[1;32m     31\u001b[0m     \u001b[0;31m# We will not be fully case-insensitive (since Pandas columns as NOT case-insensitive)\u001b[0m\u001b[0;34m\u001b[0m\u001b[0;34m\u001b[0m\u001b[0;34m\u001b[0m\u001b[0m\n",
      "\u001b[0;31mTypeError\u001b[0m: Expect data.index as DatetimeIndex"
     ]
    }
   ],
   "source": [
    "mpf.plot(rsDf,type='candle',style='yahoo',volume=True,figratio=(12,6),figscale=1,mav=(5,30))"
   ]
  },
  {
   "cell_type": "code",
   "execution_count": 23,
   "metadata": {
    "slideshow": {
     "slide_type": "fragment"
    }
   },
   "outputs": [
    {
     "data": {
      "text/plain": [
       "date          datetime64[ns]\n",
       "open                  object\n",
       "high                  object\n",
       "low                   object\n",
       "close                 object\n",
       "preclose              object\n",
       "volume                object\n",
       "adjustflag            object\n",
       "dtype: object"
      ]
     },
     "execution_count": 23,
     "metadata": {},
     "output_type": "execute_result"
    }
   ],
   "source": [
    "# 把日期变成时间格式\n",
    "rsDf['date'] = pd.to_datetime(rsDf['date'])\n",
    "rsDf.dtypes"
   ]
  },
  {
   "cell_type": "code",
   "execution_count": 24,
   "metadata": {
    "slideshow": {
     "slide_type": "skip"
    }
   },
   "outputs": [
    {
     "data": {
      "text/html": [
       "<div>\n",
       "<style scoped>\n",
       "    .dataframe tbody tr th:only-of-type {\n",
       "        vertical-align: middle;\n",
       "    }\n",
       "\n",
       "    .dataframe tbody tr th {\n",
       "        vertical-align: top;\n",
       "    }\n",
       "\n",
       "    .dataframe thead th {\n",
       "        text-align: right;\n",
       "    }\n",
       "</style>\n",
       "<table border=\"1\" class=\"dataframe\">\n",
       "  <thead>\n",
       "    <tr style=\"text-align: right;\">\n",
       "      <th></th>\n",
       "      <th>open</th>\n",
       "      <th>high</th>\n",
       "      <th>low</th>\n",
       "      <th>close</th>\n",
       "      <th>preclose</th>\n",
       "      <th>volume</th>\n",
       "      <th>adjustflag</th>\n",
       "    </tr>\n",
       "    <tr>\n",
       "      <th>date</th>\n",
       "      <th></th>\n",
       "      <th></th>\n",
       "      <th></th>\n",
       "      <th></th>\n",
       "      <th></th>\n",
       "      <th></th>\n",
       "      <th></th>\n",
       "    </tr>\n",
       "  </thead>\n",
       "  <tbody>\n",
       "    <tr>\n",
       "      <th>2021-01-04</th>\n",
       "      <td>9.6400</td>\n",
       "      <td>9.7300</td>\n",
       "      <td>9.5500</td>\n",
       "      <td>9.6900</td>\n",
       "      <td>9.6800</td>\n",
       "      <td>62906939</td>\n",
       "      <td>3</td>\n",
       "    </tr>\n",
       "    <tr>\n",
       "      <th>2021-01-05</th>\n",
       "      <td>9.6800</td>\n",
       "      <td>9.6800</td>\n",
       "      <td>9.5200</td>\n",
       "      <td>9.6800</td>\n",
       "      <td>9.6900</td>\n",
       "      <td>53859177</td>\n",
       "      <td>3</td>\n",
       "    </tr>\n",
       "    <tr>\n",
       "      <th>2021-01-06</th>\n",
       "      <td>9.6200</td>\n",
       "      <td>9.8300</td>\n",
       "      <td>9.6200</td>\n",
       "      <td>9.8200</td>\n",
       "      <td>9.6800</td>\n",
       "      <td>61881321</td>\n",
       "      <td>3</td>\n",
       "    </tr>\n",
       "    <tr>\n",
       "      <th>2021-01-07</th>\n",
       "      <td>9.8300</td>\n",
       "      <td>9.9300</td>\n",
       "      <td>9.6600</td>\n",
       "      <td>9.8100</td>\n",
       "      <td>9.8200</td>\n",
       "      <td>57090442</td>\n",
       "      <td>3</td>\n",
       "    </tr>\n",
       "    <tr>\n",
       "      <th>2021-01-08</th>\n",
       "      <td>9.8300</td>\n",
       "      <td>9.9000</td>\n",
       "      <td>9.7300</td>\n",
       "      <td>9.8300</td>\n",
       "      <td>9.8100</td>\n",
       "      <td>55801455</td>\n",
       "      <td>3</td>\n",
       "    </tr>\n",
       "  </tbody>\n",
       "</table>\n",
       "</div>"
      ],
      "text/plain": [
       "              open    high     low   close preclose    volume adjustflag\n",
       "date                                                                    \n",
       "2021-01-04  9.6400  9.7300  9.5500  9.6900   9.6800  62906939          3\n",
       "2021-01-05  9.6800  9.6800  9.5200  9.6800   9.6900  53859177          3\n",
       "2021-01-06  9.6200  9.8300  9.6200  9.8200   9.6800  61881321          3\n",
       "2021-01-07  9.8300  9.9300  9.6600  9.8100   9.8200  57090442          3\n",
       "2021-01-08  9.8300  9.9000  9.7300  9.8300   9.8100  55801455          3"
      ]
     },
     "execution_count": 24,
     "metadata": {},
     "output_type": "execute_result"
    }
   ],
   "source": [
    "# 将日期列设为dataframe的index\n",
    "rsDf.set_index('date',inplace=True)\n",
    "rsDf.head()"
   ]
  },
  {
   "cell_type": "code",
   "execution_count": 31,
   "metadata": {
    "slideshow": {
     "slide_type": "fragment"
    }
   },
   "outputs": [
    {
     "data": {
      "text/plain": [
       "open          float64\n",
       "high          float64\n",
       "low           float64\n",
       "close         float64\n",
       "preclose      float64\n",
       "volume        float64\n",
       "adjustflag    float64\n",
       "dtype: object"
      ]
     },
     "execution_count": 31,
     "metadata": {},
     "output_type": "execute_result"
    }
   ],
   "source": [
    "# 将其他列改变成float类型\n",
    "for each in rsDf.columns:\n",
    "    if rsDf[each].dtypes == 'O':\n",
    "        rsDf[each] = rsDf[each].astype('float')\n",
    "rsDf.dtypes"
   ]
  },
  {
   "cell_type": "code",
   "execution_count": 33,
   "metadata": {
    "slideshow": {
     "slide_type": "fragment"
    }
   },
   "outputs": [
    {
     "data": {
      "image/png": "[encoded data removed]",
      "text/plain": [
       "<Figure size 1150x575 with 4 Axes>"
      ]
     },
     "metadata": {},
     "output_type": "display_data"
    }
   ],
   "source": [
    "mpf.plot(rsDf,type='candle',style='yahoo',volume=True,figratio=(12,6),figscale=1,mav=(5,30))"
   ]
  },
  {
   "cell_type": "markdown",
   "metadata": {
    "slideshow": {
     "slide_type": "slide"
    }
   },
   "source": [
    "###### 改成红涨绿跌"
   ]
  },
  {
   "cell_type": "markdown",
   "metadata": {
    "slideshow": {
     "slide_type": "fragment"
    }
   },
   "source": [
    "```python\n",
    "创建k线图颜色对象\n",
    "mc = mpf.make_marketcolors(up='r',down='g',inherit=True)  # inherit=True 其他颜色与up和down对应\n",
    "\n",
    "\n",
    "更新k线图样式\n",
    "s = mpf.make_mpf_style(marketcolors=mc)\n",
    "```"
   ]
  },
  {
   "cell_type": "code",
   "execution_count": 38,
   "metadata": {
    "slideshow": {
     "slide_type": "fragment"
    }
   },
   "outputs": [
    {
     "data": {
      "image/png": "[encoded data removed]",
      "text/plain": [
       "<Figure size 1150x575 with 4 Axes>"
      ]
     },
     "metadata": {},
     "output_type": "display_data"
    }
   ],
   "source": [
    "mc = mpf.make_marketcolors(up='r',down='g',inherit=True)\n",
    "s  = mpf.make_mpf_style(marketcolors=mc)\n",
    "mpf.plot(rsDf,type='candle',style=s,volume=True,figratio=(12,6),figscale=1,mav=(5,30))"
   ]
  },
  {
   "cell_type": "markdown",
   "metadata": {
    "slideshow": {
     "slide_type": "slide"
    }
   },
   "source": [
    "##### 绘制日内交易数据"
   ]
  },
  {
   "cell_type": "markdown",
   "metadata": {
    "slideshow": {
     "slide_type": "fragment"
    }
   },
   "source": [
    "###### 读取日内数据"
   ]
  },
  {
   "cell_type": "markdown",
   "metadata": {
    "slideshow": {
     "slide_type": "fragment"
    }
   },
   "source": [
    "```python\n",
    "pd.read_csv('path_to_file.csv')\n",
    "```\n",
    "- `'path_to_file.csv`：要打开的`.csv`文件的完整路径\n",
    "- 返回`DataFrame`对象"
   ]
  },
  {
   "cell_type": "code",
   "execution_count": 40,
   "metadata": {
    "scrolled": false,
    "slideshow": {
     "slide_type": "fragment"
    }
   },
   "outputs": [
    {
     "data": {
      "text/html": [
       "<div>\n",
       "<style scoped>\n",
       "    .dataframe tbody tr th:only-of-type {\n",
       "        vertical-align: middle;\n",
       "    }\n",
       "\n",
       "    .dataframe tbody tr th {\n",
       "        vertical-align: top;\n",
       "    }\n",
       "\n",
       "    .dataframe thead th {\n",
       "        text-align: right;\n",
       "    }\n",
       "</style>\n",
       "<table border=\"1\" class=\"dataframe\">\n",
       "  <thead>\n",
       "    <tr style=\"text-align: right;\">\n",
       "      <th></th>\n",
       "      <th>Date</th>\n",
       "      <th>Open</th>\n",
       "      <th>High</th>\n",
       "      <th>Low</th>\n",
       "      <th>Close</th>\n",
       "      <th>Volume</th>\n",
       "    </tr>\n",
       "  </thead>\n",
       "  <tbody>\n",
       "    <tr>\n",
       "      <th>0</th>\n",
       "      <td>2020-08-07 09:01</td>\n",
       "      <td>3849.0</td>\n",
       "      <td>3860.0</td>\n",
       "      <td>3849.0</td>\n",
       "      <td>3859.0</td>\n",
       "      <td>16100</td>\n",
       "    </tr>\n",
       "    <tr>\n",
       "      <th>1</th>\n",
       "      <td>2020-08-07 09:02</td>\n",
       "      <td>3858.0</td>\n",
       "      <td>3861.0</td>\n",
       "      <td>3857.0</td>\n",
       "      <td>3857.0</td>\n",
       "      <td>4654</td>\n",
       "    </tr>\n",
       "    <tr>\n",
       "      <th>2</th>\n",
       "      <td>2020-08-07 09:03</td>\n",
       "      <td>3858.0</td>\n",
       "      <td>3861.0</td>\n",
       "      <td>3857.0</td>\n",
       "      <td>3859.0</td>\n",
       "      <td>6055</td>\n",
       "    </tr>\n",
       "    <tr>\n",
       "      <th>3</th>\n",
       "      <td>2020-08-07 09:04</td>\n",
       "      <td>3860.0</td>\n",
       "      <td>3861.0</td>\n",
       "      <td>3857.0</td>\n",
       "      <td>3858.0</td>\n",
       "      <td>3773</td>\n",
       "    </tr>\n",
       "    <tr>\n",
       "      <th>4</th>\n",
       "      <td>2020-08-07 09:05</td>\n",
       "      <td>3858.0</td>\n",
       "      <td>3859.0</td>\n",
       "      <td>3857.0</td>\n",
       "      <td>3857.0</td>\n",
       "      <td>1718</td>\n",
       "    </tr>\n",
       "  </tbody>\n",
       "</table>\n",
       "</div>"
      ],
      "text/plain": [
       "               Date    Open    High     Low   Close  Volume\n",
       "0  2020-08-07 09:01  3849.0  3860.0  3849.0  3859.0   16100\n",
       "1  2020-08-07 09:02  3858.0  3861.0  3857.0  3857.0    4654\n",
       "2  2020-08-07 09:03  3858.0  3861.0  3857.0  3859.0    6055\n",
       "3  2020-08-07 09:04  3860.0  3861.0  3857.0  3858.0    3773\n",
       "4  2020-08-07 09:05  3858.0  3859.0  3857.0  3857.0    1718"
      ]
     },
     "execution_count": 40,
     "metadata": {},
     "output_type": "execute_result"
    },
    {
     "data": {
      "text/plain": [
       "(135, 6)"
      ]
     },
     "execution_count": 40,
     "metadata": {},
     "output_type": "execute_result"
    }
   ],
   "source": [
    "intraday = pd.read_csv('./data/tradingBasics/rb2010.csv')\n",
    "intraday.head()\n",
    "intraday.shape"
   ]
  },
  {
   "cell_type": "markdown",
   "metadata": {
    "slideshow": {
     "slide_type": "slide"
    }
   },
   "source": [
    "###### 设定日期索引"
   ]
  },
  {
   "cell_type": "code",
   "execution_count": 41,
   "metadata": {
    "scrolled": true,
    "slideshow": {
     "slide_type": "fragment"
    }
   },
   "outputs": [
    {
     "data": {
      "text/html": [
       "<div>\n",
       "<style scoped>\n",
       "    .dataframe tbody tr th:only-of-type {\n",
       "        vertical-align: middle;\n",
       "    }\n",
       "\n",
       "    .dataframe tbody tr th {\n",
       "        vertical-align: top;\n",
       "    }\n",
       "\n",
       "    .dataframe thead th {\n",
       "        text-align: right;\n",
       "    }\n",
       "</style>\n",
       "<table border=\"1\" class=\"dataframe\">\n",
       "  <thead>\n",
       "    <tr style=\"text-align: right;\">\n",
       "      <th></th>\n",
       "      <th>Open</th>\n",
       "      <th>High</th>\n",
       "      <th>Low</th>\n",
       "      <th>Close</th>\n",
       "      <th>Volume</th>\n",
       "    </tr>\n",
       "    <tr>\n",
       "      <th>Date</th>\n",
       "      <th></th>\n",
       "      <th></th>\n",
       "      <th></th>\n",
       "      <th></th>\n",
       "      <th></th>\n",
       "    </tr>\n",
       "  </thead>\n",
       "  <tbody>\n",
       "    <tr>\n",
       "      <th>2020-08-07 09:01:00</th>\n",
       "      <td>3849.0</td>\n",
       "      <td>3860.0</td>\n",
       "      <td>3849.0</td>\n",
       "      <td>3859.0</td>\n",
       "      <td>16100</td>\n",
       "    </tr>\n",
       "    <tr>\n",
       "      <th>2020-08-07 09:02:00</th>\n",
       "      <td>3858.0</td>\n",
       "      <td>3861.0</td>\n",
       "      <td>3857.0</td>\n",
       "      <td>3857.0</td>\n",
       "      <td>4654</td>\n",
       "    </tr>\n",
       "    <tr>\n",
       "      <th>2020-08-07 09:03:00</th>\n",
       "      <td>3858.0</td>\n",
       "      <td>3861.0</td>\n",
       "      <td>3857.0</td>\n",
       "      <td>3859.0</td>\n",
       "      <td>6055</td>\n",
       "    </tr>\n",
       "    <tr>\n",
       "      <th>2020-08-07 09:04:00</th>\n",
       "      <td>3860.0</td>\n",
       "      <td>3861.0</td>\n",
       "      <td>3857.0</td>\n",
       "      <td>3858.0</td>\n",
       "      <td>3773</td>\n",
       "    </tr>\n",
       "    <tr>\n",
       "      <th>2020-08-07 09:05:00</th>\n",
       "      <td>3858.0</td>\n",
       "      <td>3859.0</td>\n",
       "      <td>3857.0</td>\n",
       "      <td>3857.0</td>\n",
       "      <td>1718</td>\n",
       "    </tr>\n",
       "  </tbody>\n",
       "</table>\n",
       "</div>"
      ],
      "text/plain": [
       "                       Open    High     Low   Close  Volume\n",
       "Date                                                       \n",
       "2020-08-07 09:01:00  3849.0  3860.0  3849.0  3859.0   16100\n",
       "2020-08-07 09:02:00  3858.0  3861.0  3857.0  3857.0    4654\n",
       "2020-08-07 09:03:00  3858.0  3861.0  3857.0  3859.0    6055\n",
       "2020-08-07 09:04:00  3860.0  3861.0  3857.0  3858.0    3773\n",
       "2020-08-07 09:05:00  3858.0  3859.0  3857.0  3857.0    1718"
      ]
     },
     "execution_count": 41,
     "metadata": {},
     "output_type": "execute_result"
    }
   ],
   "source": [
    "intraday['Date'] = pd.to_datetime(intraday['Date'])\n",
    "intraday.set_index('Date',inplace=True)\n",
    "intraday.head()"
   ]
  },
  {
   "cell_type": "markdown",
   "metadata": {
    "slideshow": {
     "slide_type": "slide"
    }
   },
   "source": [
    "###### 绘制分钟K线图"
   ]
  },
  {
   "cell_type": "code",
   "execution_count": 42,
   "metadata": {
    "slideshow": {
     "slide_type": "fragment"
    }
   },
   "outputs": [
    {
     "data": {
      "image/png": "[encoded data removed]",
      "text/plain": [
       "<Figure size 1150x575 with 4 Axes>"
      ]
     },
     "metadata": {},
     "output_type": "display_data"
    }
   ],
   "source": [
    "mpf.plot(intraday,type='candle',style=s,volume=True,figratio=(12,6),figscale=1)"
   ]
  },
  {
   "cell_type": "markdown",
   "metadata": {
    "slideshow": {
     "slide_type": "slide"
    }
   },
   "source": [
    "### 结算类价格"
   ]
  },
  {
   "cell_type": "markdown",
   "metadata": {
    "slideshow": {
     "slide_type": "fragment"
    }
   },
   "source": [
    "<dl class=\"row\">\n",
    "    <dt class=\"col-md-2\">结算价</dt>\n",
    "    <dd class=\"col-md-10\">某一期货合约当天的成交价格按照<strong>成交量</strong>的<strong>加权平均</strong>。</dd>\n",
    "</dl>"
   ]
  },
  {
   "cell_type": "markdown",
   "metadata": {
    "slideshow": {
     "slide_type": "fragment"
    }
   },
   "source": [
    "- 用来计算保证金账户每天盈亏的价格"
   ]
  },
  {
   "cell_type": "markdown",
   "metadata": {
    "slideshow": {
     "slide_type": "slide"
    }
   },
   "source": [
    "### 交易类价格"
   ]
  },
  {
   "cell_type": "markdown",
   "metadata": {
    "slideshow": {
     "slide_type": "fragment"
    }
   },
   "source": [
    "- Ask：卖价\n",
    "- Bid：买价"
   ]
  },
  {
   "cell_type": "markdown",
   "metadata": {
    "slideshow": {
     "slide_type": "fragment"
    }
   },
   "source": [
    "<div align=\"center\">\n",
    "    <img src=\"./img/tradingBasics/askbid.png\" width=200>\n",
    "</div>"
   ]
  },
  {
   "cell_type": "markdown",
   "metadata": {
    "slideshow": {
     "slide_type": "slide"
    }
   },
   "source": [
    "## 交易指令"
   ]
  },
  {
   "cell_type": "markdown",
   "metadata": {
    "slideshow": {
     "slide_type": "fragment"
    }
   },
   "source": [
    "- 在委托单上注明：投资者名称、投资者编码、投资者产品名称、合约到期月份、开仓或平仓的数量、买卖价格、执行方式、下单时间、投资者签名"
   ]
  },
  {
   "cell_type": "markdown",
   "metadata": {
    "slideshow": {
     "slide_type": "slide"
    }
   },
   "source": [
    "### 市价委托单"
   ]
  },
  {
   "cell_type": "markdown",
   "metadata": {
    "slideshow": {
     "slide_type": "fragment"
    }
   },
   "source": [
    "- 投资者在提交委托单时只规定数量而不规定价格，经纪商在接到该市价委托单后应以最快的速度，并尽可能以当时市场上最好的价格执行该委托单"
   ]
  },
  {
   "cell_type": "markdown",
   "metadata": {
    "slideshow": {
     "slide_type": "fragment"
    }
   },
   "source": [
    "- 市价**买进**委托单：以当时市场上**最低**的卖价成交\n",
    "- 市价**卖出**委托单：以当时市场上**最高**的买价成交"
   ]
  },
  {
   "cell_type": "markdown",
   "metadata": {
    "slideshow": {
     "slide_type": "fragment"
    }
   },
   "source": [
    "- 特点：能够确保成交，单不能保证成交价格"
   ]
  },
  {
   "cell_type": "markdown",
   "metadata": {
    "slideshow": {
     "slide_type": "slide"
    }
   },
   "source": [
    "### 限价委托单"
   ]
  },
  {
   "cell_type": "markdown",
   "metadata": {
    "slideshow": {
     "slide_type": "fragment"
    }
   },
   "source": [
    "- 下单时不仅规定数量，而且规定价格"
   ]
  },
  {
   "cell_type": "markdown",
   "metadata": {
    "slideshow": {
     "slide_type": "fragment"
    }
   },
   "source": [
    "> 例如，卖出限价为3500元/吨的rb2005螺纹钢10手"
   ]
  },
  {
   "cell_type": "markdown",
   "metadata": {
    "slideshow": {
     "slide_type": "fragment"
    }
   },
   "source": [
    "- 限价买进委托单：买入成交价应**不高于**指定的限价\n",
    "- 限价卖出委托单：卖出成交价应**不低于**指定的限价"
   ]
  },
  {
   "cell_type": "markdown",
   "metadata": {
    "slideshow": {
     "slide_type": "fragment"
    }
   },
   "source": [
    "- 特点：不能确保成交，但是一旦成交能够保证成交价格"
   ]
  },
  {
   "cell_type": "markdown",
   "metadata": {
    "slideshow": {
     "slide_type": "slide"
    }
   },
   "source": [
    "### 止损委托单"
   ]
  },
  {
   "cell_type": "markdown",
   "metadata": {
    "slideshow": {
     "slide_type": "fragment"
    }
   },
   "source": [
    "- 在委托单中设置一个触发价格，当市场价格上升或者下降到该触发价格的时候，止损委托单被激活，转化成市价委托单"
   ]
  },
  {
   "cell_type": "markdown",
   "metadata": {
    "slideshow": {
     "slide_type": "fragment"
    }
   },
   "source": [
    "- 多头：当市场价格等于或低于指定的止损价格，则执行市价卖出委托单\n",
    "- 空头：当市场价格等于或高于指定的止损价格，则执行市价买进委托单"
   ]
  }
 ],
 "metadata": {
  "celltoolbar": "Slideshow",
  "hide_input": false,
  "kernelspec": {
   "display_name": "Python 3",
   "language": "python",
   "name": "python3"
  },
  "language_info": {
   "codemirror_mode": {
    "name": "ipython",
    "version": 3
   },
   "file_extension": ".py",
   "mimetype": "text/x-python",
   "name": "python",
   "nbconvert_exporter": "python",
   "pygments_lexer": "ipython3",
   "version": "3.6.8"
  },
  "toc": {
   "base_numbering": 1,
   "nav_menu": {},
   "number_sections": true,
   "sideBar": true,
   "skip_h1_title": false,
   "title_cell": "Table of Contents",
   "title_sidebar": "Contents",
   "toc_cell": false,
   "toc_position": {
    "height": "666.977px",
    "left": "46px",
    "top": "0px",
    "width": "307.516px"
   },
   "toc_section_display": true,
   "toc_window_display": false
  }
 },
 "nbformat": 4,
 "nbformat_minor": 2
}
