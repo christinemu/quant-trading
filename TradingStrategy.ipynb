{
 "cells": [
  {
   "cell_type": "code",
   "execution_count": 57,
   "metadata": {
    "slideshow": {
     "slide_type": "notes"
    }
   },
   "outputs": [],
   "source": [
    "import pandas as pd\n",
    "import numpy as np\n",
    "import statsmodels.formula.api as smf\n",
    "from datetime import datetime\n",
    "import mplfinance as mpl\n",
    "import matplotlib.pyplot as plt\n",
    "import pandas_datareader.data as web\n",
    "import baostock as bs\n",
    "import mplfinance as mpf\n",
    "from IPython.core.interactiveshell import InteractiveShell\n",
    "InteractiveShell.ast_node_interactivity = \"all\"\n",
    "# from pandas.plotting import register_matplotlib_converters\n",
    "# register_matplotlib_converters()\n",
    "plt.rcParams['font.sans-serif']=['Microsoft Yahei']"
   ]
  },
  {
   "cell_type": "markdown",
   "metadata": {
    "slideshow": {
     "slide_type": "slide"
    }
   },
   "source": [
    "<div class=\"jumbotron\">\n",
    "    <p class=\"display-1 h1\">量化交易策略</p>\n",
    "    <hr class=\"my-4\">\n",
    "    <p>主讲：李岩</p>\n",
    "    <p>管理学院</p>\n",
    "    <p>liyan@cumtb.edu.cn</p>\n",
    "</div>"
   ]
  },
  {
   "cell_type": "markdown",
   "metadata": {
    "slideshow": {
     "slide_type": "slide"
    }
   },
   "source": [
    "# 交易策略"
   ]
  },
  {
   "cell_type": "markdown",
   "metadata": {
    "slideshow": {
     "slide_type": "fragment"
    }
   },
   "source": [
    "<dl class=\"row text-danger\">\n",
    "    <dt class=\"col-md-4\">交易策略</dt>\n",
    "    <dd class=\"col-md-8\">交易策略是交易员进行交易时遵循的交易规则</dd>\n",
    "</dl>"
   ]
  },
  {
   "cell_type": "markdown",
   "metadata": {
    "slideshow": {
     "slide_type": "slide"
    }
   },
   "source": [
    "## 量化交易策略的分类"
   ]
  },
  {
   "cell_type": "markdown",
   "metadata": {
    "slideshow": {
     "slide_type": "fragment"
    }
   },
   "source": [
    "<center><img src=\"./img/strategy/strategyType.png\" width=100%></center>"
   ]
  },
  {
   "cell_type": "markdown",
   "metadata": {
    "slideshow": {
     "slide_type": "slide"
    }
   },
   "source": [
    "## 趋势追踪策略"
   ]
  },
  {
   "cell_type": "markdown",
   "metadata": {
    "slideshow": {
     "slide_type": "fragment"
    }
   },
   "source": [
    "- 一旦市场形成下降（或上升）趋势后，就将沿着原方向运行"
   ]
  },
  {
   "cell_type": "markdown",
   "metadata": {
    "slideshow": {
     "slide_type": "fragment"
    }
   },
   "source": [
    "- 趋势策略的来源：\n",
    "    - 市场并非有效，有限理性决策者对信息的解读和操作不同\n",
    "    - 价格以趋势方式演变"
   ]
  },
  {
   "cell_type": "markdown",
   "metadata": {
    "slideshow": {
     "slide_type": "slide"
    }
   },
   "source": [
    "### 趋势"
   ]
  },
  {
   "cell_type": "markdown",
   "metadata": {
    "slideshow": {
     "slide_type": "fragment"
    }
   },
   "source": [
    "<dl class=\"row\">\n",
    "    <dt class=\"col-md-2\">趋势</dt>\n",
    "    <dd class=\"col-md-10\">价格<strong>高点</strong>和<strong>低点</strong>随时间的移动</dd>\n",
    "</dl>\n",
    "\n",
    "- 市场价格向着一个特定方向持续运动"
   ]
  },
  {
   "cell_type": "markdown",
   "metadata": {
    "slideshow": {
     "slide_type": "fragment"
    }
   },
   "source": [
    "<center><img src=\"./img/strategy/dow.jpg\" width=80%></center>"
   ]
  },
  {
   "cell_type": "markdown",
   "metadata": {
    "slideshow": {
     "slide_type": "fragment"
    }
   },
   "source": [
    "Charles Dow\n",
    "\n",
    "- 与Edward Jones合创Wall Street Journal\n",
    "- 创立DJIA (Dow Jones Industrial Average)\n",
    "- 与William P. Hamilton创立道氏理论（[the Dow Theory](https://www.investopedia.com/terms/d/dowtheory.asp)）"
   ]
  },
  {
   "cell_type": "markdown",
   "metadata": {
    "slideshow": {
     "slide_type": "fragment"
    }
   },
   "source": [
    "- 上升趋势(uptrends)：由不断**升高的高点**和不断**升高的低点**构成\n",
    "- 下降趋势(downtrends)：由不断**降低的低点**和**不断降低的高点**构成\n",
    "- 震荡(sideways)：当高点和低点没有上述变化规律的时候构成震荡，或称作“横向整理”"
   ]
  },
  {
   "cell_type": "markdown",
   "metadata": {
    "slideshow": {
     "slide_type": "fragment"
    }
   },
   "source": [
    "<center>\n",
    "<img src=\"./img/strategy/updownsideways.png\" width=50%>   \n",
    "</center>"
   ]
  },
  {
   "cell_type": "markdown",
   "metadata": {
    "slideshow": {
     "slide_type": "slide"
    }
   },
   "source": [
    "#### 获取并绘制沪深300指数历史日数据"
   ]
  },
  {
   "cell_type": "code",
   "execution_count": 41,
   "metadata": {
    "slideshow": {
     "slide_type": "slide"
    }
   },
   "outputs": [
    {
     "name": "stdout",
     "output_type": "stream",
     "text": [
      "login success!\n"
     ]
    },
    {
     "data": {
      "text/plain": [
       "<baostock.data.resultset.ResultData at 0x7fbca90e4390>"
      ]
     },
     "execution_count": 41,
     "metadata": {},
     "output_type": "execute_result"
    }
   ],
   "source": [
    "bs.login()"
   ]
  },
  {
   "cell_type": "code",
   "execution_count": 47,
   "metadata": {
    "slideshow": {
     "slide_type": "fragment"
    }
   },
   "outputs": [],
   "source": [
    "hs300res = bs.query_history_k_data_plus('sh.000300',fields='date,open,high,low,close,volume',start_date='2019-01-01',end_date='2021-09-30',frequency='d')"
   ]
  },
  {
   "cell_type": "code",
   "execution_count": 12,
   "metadata": {
    "slideshow": {
     "slide_type": "fragment"
    }
   },
   "outputs": [],
   "source": [
    "def baostock2DataFrame(bsiter):\n",
    "    rsLst = []\n",
    "    while bsiter.error_code == '0' and bsiter.next():\n",
    "        rsLst.append(bsiter.get_row_data())\n",
    "    df = pd.DataFrame(rsLst,columns=bsiter.fields)\n",
    "    if 'date' in df.columns:\n",
    "        df['date'] = pd.to_datetime(df['date'])\n",
    "        df.set_index('date',inplace=True)\n",
    "    for each in df.columns:\n",
    "        if df[each].dtypes == 'O':\n",
    "            df[each] = df[each].astype('float')\n",
    "    return df"
   ]
  },
  {
   "cell_type": "code",
   "execution_count": 48,
   "metadata": {
    "slideshow": {
     "slide_type": "fragment"
    }
   },
   "outputs": [
    {
     "data": {
      "text/html": [
       "<div>\n",
       "<style scoped>\n",
       "    .dataframe tbody tr th:only-of-type {\n",
       "        vertical-align: middle;\n",
       "    }\n",
       "\n",
       "    .dataframe tbody tr th {\n",
       "        vertical-align: top;\n",
       "    }\n",
       "\n",
       "    .dataframe thead th {\n",
       "        text-align: right;\n",
       "    }\n",
       "</style>\n",
       "<table border=\"1\" class=\"dataframe\">\n",
       "  <thead>\n",
       "    <tr style=\"text-align: right;\">\n",
       "      <th></th>\n",
       "      <th>open</th>\n",
       "      <th>high</th>\n",
       "      <th>low</th>\n",
       "      <th>close</th>\n",
       "      <th>volume</th>\n",
       "    </tr>\n",
       "    <tr>\n",
       "      <th>date</th>\n",
       "      <th></th>\n",
       "      <th></th>\n",
       "      <th></th>\n",
       "      <th></th>\n",
       "      <th></th>\n",
       "    </tr>\n",
       "  </thead>\n",
       "  <tbody>\n",
       "    <tr>\n",
       "      <th>2019-01-02</th>\n",
       "      <td>3017.0670</td>\n",
       "      <td>3018.7750</td>\n",
       "      <td>2958.4880</td>\n",
       "      <td>2969.5350</td>\n",
       "      <td>6.866302e+09</td>\n",
       "    </tr>\n",
       "    <tr>\n",
       "      <th>2019-01-03</th>\n",
       "      <td>2963.0180</td>\n",
       "      <td>3000.4410</td>\n",
       "      <td>2953.2540</td>\n",
       "      <td>2964.8420</td>\n",
       "      <td>7.086710e+09</td>\n",
       "    </tr>\n",
       "    <tr>\n",
       "      <th>2019-01-04</th>\n",
       "      <td>2940.1910</td>\n",
       "      <td>3036.8140</td>\n",
       "      <td>2935.8290</td>\n",
       "      <td>3035.8740</td>\n",
       "      <td>1.033190e+10</td>\n",
       "    </tr>\n",
       "    <tr>\n",
       "      <th>2019-01-07</th>\n",
       "      <td>3055.1530</td>\n",
       "      <td>3061.7490</td>\n",
       "      <td>3035.9120</td>\n",
       "      <td>3054.3030</td>\n",
       "      <td>1.011644e+10</td>\n",
       "    </tr>\n",
       "    <tr>\n",
       "      <th>2019-01-08</th>\n",
       "      <td>3049.8740</td>\n",
       "      <td>3055.5100</td>\n",
       "      <td>3038.5330</td>\n",
       "      <td>3047.7030</td>\n",
       "      <td>8.617059e+09</td>\n",
       "    </tr>\n",
       "    <tr>\n",
       "      <th>...</th>\n",
       "      <td>...</td>\n",
       "      <td>...</td>\n",
       "      <td>...</td>\n",
       "      <td>...</td>\n",
       "      <td>...</td>\n",
       "    </tr>\n",
       "    <tr>\n",
       "      <th>2021-09-24</th>\n",
       "      <td>4845.6380</td>\n",
       "      <td>4897.0596</td>\n",
       "      <td>4838.5352</td>\n",
       "      <td>4849.4277</td>\n",
       "      <td>2.076933e+10</td>\n",
       "    </tr>\n",
       "    <tr>\n",
       "      <th>2021-09-27</th>\n",
       "      <td>4870.8482</td>\n",
       "      <td>4922.5626</td>\n",
       "      <td>4852.1997</td>\n",
       "      <td>4877.3698</td>\n",
       "      <td>2.159670e+10</td>\n",
       "    </tr>\n",
       "    <tr>\n",
       "      <th>2021-09-28</th>\n",
       "      <td>4869.0845</td>\n",
       "      <td>4901.3114</td>\n",
       "      <td>4846.6306</td>\n",
       "      <td>4883.8280</td>\n",
       "      <td>1.768909e+10</td>\n",
       "    </tr>\n",
       "    <tr>\n",
       "      <th>2021-09-29</th>\n",
       "      <td>4846.0212</td>\n",
       "      <td>4868.0678</td>\n",
       "      <td>4799.8770</td>\n",
       "      <td>4833.9281</td>\n",
       "      <td>1.881714e+10</td>\n",
       "    </tr>\n",
       "    <tr>\n",
       "      <th>2021-09-30</th>\n",
       "      <td>4843.9531</td>\n",
       "      <td>4876.0728</td>\n",
       "      <td>4843.9531</td>\n",
       "      <td>4866.3826</td>\n",
       "      <td>1.461139e+10</td>\n",
       "    </tr>\n",
       "  </tbody>\n",
       "</table>\n",
       "<p>669 rows × 5 columns</p>\n",
       "</div>"
      ],
      "text/plain": [
       "                 open       high        low      close        volume\n",
       "date                                                                \n",
       "2019-01-02  3017.0670  3018.7750  2958.4880  2969.5350  6.866302e+09\n",
       "2019-01-03  2963.0180  3000.4410  2953.2540  2964.8420  7.086710e+09\n",
       "2019-01-04  2940.1910  3036.8140  2935.8290  3035.8740  1.033190e+10\n",
       "2019-01-07  3055.1530  3061.7490  3035.9120  3054.3030  1.011644e+10\n",
       "2019-01-08  3049.8740  3055.5100  3038.5330  3047.7030  8.617059e+09\n",
       "...               ...        ...        ...        ...           ...\n",
       "2021-09-24  4845.6380  4897.0596  4838.5352  4849.4277  2.076933e+10\n",
       "2021-09-27  4870.8482  4922.5626  4852.1997  4877.3698  2.159670e+10\n",
       "2021-09-28  4869.0845  4901.3114  4846.6306  4883.8280  1.768909e+10\n",
       "2021-09-29  4846.0212  4868.0678  4799.8770  4833.9281  1.881714e+10\n",
       "2021-09-30  4843.9531  4876.0728  4843.9531  4866.3826  1.461139e+10\n",
       "\n",
       "[669 rows x 5 columns]"
      ]
     },
     "execution_count": 48,
     "metadata": {},
     "output_type": "execute_result"
    }
   ],
   "source": [
    "hs300Df = baostock2DataFrame(hs300res)\n",
    "hs300Df"
   ]
  },
  {
   "cell_type": "code",
   "execution_count": 61,
   "metadata": {
    "slideshow": {
     "slide_type": "slide"
    }
   },
   "outputs": [],
   "source": [
    "mc = mpf.make_marketcolors(up='r',down='g',inherit=True)\n",
    "mystyle = mpf.make_mpf_style(marketcolors=mc)"
   ]
  },
  {
   "cell_type": "code",
   "execution_count": 167,
   "metadata": {
    "slideshow": {
     "slide_type": "fragment"
    }
   },
   "outputs": [
    {
     "data": {
      "image/png": "[encoded data removed]",
      "text/plain": [
       "<Figure size 1242x690 with 2 Axes>"
      ]
     },
     "metadata": {},
     "output_type": "display_data"
    }
   ],
   "source": [
    "mpf.plot(hs300Df,type='candle',style=mystyle,volume=False,figratio=(18,10),figscale=1.2,tight_layout=True,title='sh.000300 2019 to present')"
   ]
  },
  {
   "cell_type": "markdown",
   "metadata": {
    "slideshow": {
     "slide_type": "slide"
    }
   },
   "source": [
    "### 趋势判断方法"
   ]
  },
  {
   "cell_type": "code",
   "execution_count": 132,
   "metadata": {
    "slideshow": {
     "slide_type": "slide"
    }
   },
   "outputs": [],
   "source": [
    "# 获取中国神华股票历史价格数据\n",
    "shres = bs.query_history_k_data_plus('sh.601088',fields='date,open,high,low,close,volume',start_date='2021-01-01',end_date='2021-09-30',frequency='d')"
   ]
  },
  {
   "cell_type": "code",
   "execution_count": 133,
   "metadata": {
    "slideshow": {
     "slide_type": "fragment"
    }
   },
   "outputs": [],
   "source": [
    "shDf = baostock2DataFrame(shres)"
   ]
  },
  {
   "cell_type": "code",
   "execution_count": 134,
   "metadata": {
    "slideshow": {
     "slide_type": "fragment"
    }
   },
   "outputs": [
    {
     "data": {
      "image/png": "[encoded data removed]",
      "text/plain": [
       "<Figure size 828x690 with 2 Axes>"
      ]
     },
     "metadata": {},
     "output_type": "display_data"
    }
   ],
   "source": [
    "mpf.plot(shDf,type='candle',style=mystyle,volume=False,figratio=(12,10),figscale=1.2,tight_layout=True)"
   ]
  },
  {
   "cell_type": "markdown",
   "metadata": {
    "slideshow": {
     "slide_type": "slide"
    }
   },
   "source": [
    "#### 趋势线"
   ]
  },
  {
   "cell_type": "markdown",
   "metadata": {
    "slideshow": {
     "slide_type": "fragment"
    }
   },
   "source": [
    "- 上升趋势线：上涨行情中两个以上**低点**的连线"
   ]
  },
  {
   "cell_type": "markdown",
   "metadata": {
    "slideshow": {
     "slide_type": "fragment"
    }
   },
   "source": [
    "- 下降趋势线：下跌行情中两个以上**高点**的连线"
   ]
  },
  {
   "cell_type": "code",
   "execution_count": 136,
   "metadata": {
    "slideshow": {
     "slide_type": "fragment"
    }
   },
   "outputs": [
    {
     "data": {
      "image/png": "[encoded data removed]",
      "text/plain": [
       "<Figure size 828x690 with 2 Axes>"
      ]
     },
     "metadata": {},
     "output_type": "display_data"
    }
   ],
   "source": [
    "mytlines = dict(tlines=[('2021-02-08','2021-05-26')],tline_use='low',colors='c',linestyle='-.')\n",
    "mpf.plot(shDf,type='candle',style=mystyle,volume=False,figratio=(12,10),figscale=1.2,tight_layout=True,tlines=mytlines)"
   ]
  },
  {
   "cell_type": "code",
   "execution_count": 139,
   "metadata": {
    "slideshow": {
     "slide_type": "slide"
    }
   },
   "outputs": [
    {
     "data": {
      "image/png": "[encoded data removed]",
      "text/plain": [
       "<Figure size 828x690 with 2 Axes>"
      ]
     },
     "metadata": {},
     "output_type": "display_data"
    }
   ],
   "source": [
    "mytlines = dict(tlines=[('2021-05-12','2021-06-15')],tline_use='high',colors='b',linestyle='-.')\n",
    "mpf.plot(shDf,type='candle',style=mystyle,volume=False,figratio=(12,10),figscale=1.2,tight_layout=True,tlines=mytlines)"
   ]
  },
  {
   "cell_type": "markdown",
   "metadata": {
    "slideshow": {
     "slide_type": "slide"
    }
   },
   "source": [
    "#### 通道线"
   ]
  },
  {
   "cell_type": "markdown",
   "metadata": {
    "slideshow": {
     "slide_type": "fragment"
    }
   },
   "source": [
    "- 设置价格正常波动范围（通道），当价格突破该范围时，认为出现趋势"
   ]
  },
  {
   "cell_type": "code",
   "execution_count": 184,
   "metadata": {
    "slideshow": {
     "slide_type": "fragment"
    }
   },
   "outputs": [
    {
     "data": {
      "text/html": [
       "<div>\n",
       "<style scoped>\n",
       "    .dataframe tbody tr th:only-of-type {\n",
       "        vertical-align: middle;\n",
       "    }\n",
       "\n",
       "    .dataframe tbody tr th {\n",
       "        vertical-align: top;\n",
       "    }\n",
       "\n",
       "    .dataframe thead th {\n",
       "        text-align: right;\n",
       "    }\n",
       "</style>\n",
       "<table border=\"1\" class=\"dataframe\">\n",
       "  <thead>\n",
       "    <tr style=\"text-align: right;\">\n",
       "      <th></th>\n",
       "      <th>open</th>\n",
       "      <th>high</th>\n",
       "      <th>low</th>\n",
       "      <th>close</th>\n",
       "      <th>volume</th>\n",
       "      <th>Upper</th>\n",
       "      <th>Lower</th>\n",
       "    </tr>\n",
       "    <tr>\n",
       "      <th>date</th>\n",
       "      <th></th>\n",
       "      <th></th>\n",
       "      <th></th>\n",
       "      <th></th>\n",
       "      <th></th>\n",
       "      <th></th>\n",
       "      <th></th>\n",
       "    </tr>\n",
       "  </thead>\n",
       "  <tbody>\n",
       "    <tr>\n",
       "      <th>2019-01-02</th>\n",
       "      <td>3017.0670</td>\n",
       "      <td>3018.7750</td>\n",
       "      <td>2958.4880</td>\n",
       "      <td>2969.5350</td>\n",
       "      <td>6.866302e+09</td>\n",
       "      <td>NaN</td>\n",
       "      <td>NaN</td>\n",
       "    </tr>\n",
       "    <tr>\n",
       "      <th>2019-01-03</th>\n",
       "      <td>2963.0180</td>\n",
       "      <td>3000.4410</td>\n",
       "      <td>2953.2540</td>\n",
       "      <td>2964.8420</td>\n",
       "      <td>7.086710e+09</td>\n",
       "      <td>NaN</td>\n",
       "      <td>NaN</td>\n",
       "    </tr>\n",
       "    <tr>\n",
       "      <th>2019-01-04</th>\n",
       "      <td>2940.1910</td>\n",
       "      <td>3036.8140</td>\n",
       "      <td>2935.8290</td>\n",
       "      <td>3035.8740</td>\n",
       "      <td>1.033190e+10</td>\n",
       "      <td>NaN</td>\n",
       "      <td>NaN</td>\n",
       "    </tr>\n",
       "    <tr>\n",
       "      <th>2019-01-07</th>\n",
       "      <td>3055.1530</td>\n",
       "      <td>3061.7490</td>\n",
       "      <td>3035.9120</td>\n",
       "      <td>3054.3030</td>\n",
       "      <td>1.011644e+10</td>\n",
       "      <td>NaN</td>\n",
       "      <td>NaN</td>\n",
       "    </tr>\n",
       "    <tr>\n",
       "      <th>2019-01-08</th>\n",
       "      <td>3049.8740</td>\n",
       "      <td>3055.5100</td>\n",
       "      <td>3038.5330</td>\n",
       "      <td>3047.7030</td>\n",
       "      <td>8.617059e+09</td>\n",
       "      <td>NaN</td>\n",
       "      <td>NaN</td>\n",
       "    </tr>\n",
       "    <tr>\n",
       "      <th>...</th>\n",
       "      <td>...</td>\n",
       "      <td>...</td>\n",
       "      <td>...</td>\n",
       "      <td>...</td>\n",
       "      <td>...</td>\n",
       "      <td>...</td>\n",
       "      <td>...</td>\n",
       "    </tr>\n",
       "    <tr>\n",
       "      <th>2021-09-24</th>\n",
       "      <td>4845.6380</td>\n",
       "      <td>4897.0596</td>\n",
       "      <td>4838.5352</td>\n",
       "      <td>4849.4277</td>\n",
       "      <td>2.076933e+10</td>\n",
       "      <td>5013.5219</td>\n",
       "      <td>4801.6094</td>\n",
       "    </tr>\n",
       "    <tr>\n",
       "      <th>2021-09-27</th>\n",
       "      <td>4870.8482</td>\n",
       "      <td>4922.5626</td>\n",
       "      <td>4852.1997</td>\n",
       "      <td>4877.3698</td>\n",
       "      <td>2.159670e+10</td>\n",
       "      <td>5013.5219</td>\n",
       "      <td>4805.6099</td>\n",
       "    </tr>\n",
       "    <tr>\n",
       "      <th>2021-09-28</th>\n",
       "      <td>4869.0845</td>\n",
       "      <td>4901.3114</td>\n",
       "      <td>4846.6306</td>\n",
       "      <td>4883.8280</td>\n",
       "      <td>1.768909e+10</td>\n",
       "      <td>5013.5219</td>\n",
       "      <td>4805.6099</td>\n",
       "    </tr>\n",
       "    <tr>\n",
       "      <th>2021-09-29</th>\n",
       "      <td>4846.0212</td>\n",
       "      <td>4868.0678</td>\n",
       "      <td>4799.8770</td>\n",
       "      <td>4833.9281</td>\n",
       "      <td>1.881714e+10</td>\n",
       "      <td>5013.5219</td>\n",
       "      <td>4805.6099</td>\n",
       "    </tr>\n",
       "    <tr>\n",
       "      <th>2021-09-30</th>\n",
       "      <td>4843.9531</td>\n",
       "      <td>4876.0728</td>\n",
       "      <td>4843.9531</td>\n",
       "      <td>4866.3826</td>\n",
       "      <td>1.461139e+10</td>\n",
       "      <td>5013.5219</td>\n",
       "      <td>4807.6978</td>\n",
       "    </tr>\n",
       "  </tbody>\n",
       "</table>\n",
       "<p>669 rows × 7 columns</p>\n",
       "</div>"
      ],
      "text/plain": [
       "                 open       high        low      close        volume  \\\n",
       "date                                                                   \n",
       "2019-01-02  3017.0670  3018.7750  2958.4880  2969.5350  6.866302e+09   \n",
       "2019-01-03  2963.0180  3000.4410  2953.2540  2964.8420  7.086710e+09   \n",
       "2019-01-04  2940.1910  3036.8140  2935.8290  3035.8740  1.033190e+10   \n",
       "2019-01-07  3055.1530  3061.7490  3035.9120  3054.3030  1.011644e+10   \n",
       "2019-01-08  3049.8740  3055.5100  3038.5330  3047.7030  8.617059e+09   \n",
       "...               ...        ...        ...        ...           ...   \n",
       "2021-09-24  4845.6380  4897.0596  4838.5352  4849.4277  2.076933e+10   \n",
       "2021-09-27  4870.8482  4922.5626  4852.1997  4877.3698  2.159670e+10   \n",
       "2021-09-28  4869.0845  4901.3114  4846.6306  4883.8280  1.768909e+10   \n",
       "2021-09-29  4846.0212  4868.0678  4799.8770  4833.9281  1.881714e+10   \n",
       "2021-09-30  4843.9531  4876.0728  4843.9531  4866.3826  1.461139e+10   \n",
       "\n",
       "                Upper      Lower  \n",
       "date                              \n",
       "2019-01-02        NaN        NaN  \n",
       "2019-01-03        NaN        NaN  \n",
       "2019-01-04        NaN        NaN  \n",
       "2019-01-07        NaN        NaN  \n",
       "2019-01-08        NaN        NaN  \n",
       "...               ...        ...  \n",
       "2021-09-24  5013.5219  4801.6094  \n",
       "2021-09-27  5013.5219  4805.6099  \n",
       "2021-09-28  5013.5219  4805.6099  \n",
       "2021-09-29  5013.5219  4805.6099  \n",
       "2021-09-30  5013.5219  4807.6978  \n",
       "\n",
       "[669 rows x 7 columns]"
      ]
     },
     "execution_count": 184,
     "metadata": {},
     "output_type": "execute_result"
    }
   ],
   "source": [
    "# 唐奇安通道（Donchian Channels）\n",
    "window = 20   # 移动时间窗口\n",
    "\n",
    "# 唐奇安通道上界\n",
    "hs300Df['Upper'] = hs300Df['close'].rolling(window).max()\n",
    "# 唐奇安通道下界\n",
    "hs300Df['Lower'] = hs300Df['close'].rolling(window).min()\n",
    "hs300Df"
   ]
  },
  {
   "cell_type": "code",
   "execution_count": 185,
   "metadata": {
    "slideshow": {
     "slide_type": "slide"
    }
   },
   "outputs": [
    {
     "data": {
      "image/png": "[encoded data removed]",
      "text/plain": [
       "<Figure size 1552.5x862.5 with 2 Axes>"
      ]
     },
     "metadata": {},
     "output_type": "display_data"
    }
   ],
   "source": [
    "# 绘制布林线\n",
    "bandsPlot = mpf.make_addplot(hs300Df[['Upper','Lower']],linestyle='-.')  # 添加额外图形\n",
    "mpf.plot(hs300Df,type='candle',style=mystyle,figratio=(18,10),figscale=1.5,tight_layout=True,addplot=bandsPlot)"
   ]
  },
  {
   "cell_type": "markdown",
   "metadata": {
    "slideshow": {
     "slide_type": "slide"
    }
   },
   "source": [
    "#### 移动平均线"
   ]
  },
  {
   "cell_type": "markdown",
   "metadata": {
    "slideshow": {
     "slide_type": "fragment"
    }
   },
   "source": [
    "- 通过价格的长短期移动平均线的相对位置判断趋势"
   ]
  },
  {
   "cell_type": "code",
   "execution_count": 143,
   "metadata": {
    "slideshow": {
     "slide_type": "slide"
    }
   },
   "outputs": [
    {
     "data": {
      "text/html": [
       "<div>\n",
       "<style scoped>\n",
       "    .dataframe tbody tr th:only-of-type {\n",
       "        vertical-align: middle;\n",
       "    }\n",
       "\n",
       "    .dataframe tbody tr th {\n",
       "        vertical-align: top;\n",
       "    }\n",
       "\n",
       "    .dataframe thead th {\n",
       "        text-align: right;\n",
       "    }\n",
       "</style>\n",
       "<table border=\"1\" class=\"dataframe\">\n",
       "  <thead>\n",
       "    <tr style=\"text-align: right;\">\n",
       "      <th></th>\n",
       "      <th>Open</th>\n",
       "      <th>High</th>\n",
       "      <th>Low</th>\n",
       "      <th>Close</th>\n",
       "      <th>Volume</th>\n",
       "    </tr>\n",
       "    <tr>\n",
       "      <th>Date</th>\n",
       "      <th></th>\n",
       "      <th></th>\n",
       "      <th></th>\n",
       "      <th></th>\n",
       "      <th></th>\n",
       "    </tr>\n",
       "  </thead>\n",
       "  <tbody>\n",
       "    <tr>\n",
       "      <th>2020-01-02</th>\n",
       "      <td>73.082</td>\n",
       "      <td>74.158</td>\n",
       "      <td>72.822</td>\n",
       "      <td>74.096</td>\n",
       "      <td>137461756</td>\n",
       "    </tr>\n",
       "    <tr>\n",
       "      <th>2020-01-03</th>\n",
       "      <td>73.308</td>\n",
       "      <td>74.153</td>\n",
       "      <td>73.147</td>\n",
       "      <td>73.378</td>\n",
       "      <td>148495441</td>\n",
       "    </tr>\n",
       "    <tr>\n",
       "      <th>2020-01-06</th>\n",
       "      <td>72.475</td>\n",
       "      <td>73.999</td>\n",
       "      <td>72.224</td>\n",
       "      <td>73.959</td>\n",
       "      <td>120164575</td>\n",
       "    </tr>\n",
       "    <tr>\n",
       "      <th>2020-01-07</th>\n",
       "      <td>73.969</td>\n",
       "      <td>74.233</td>\n",
       "      <td>73.390</td>\n",
       "      <td>73.615</td>\n",
       "      <td>113002090</td>\n",
       "    </tr>\n",
       "    <tr>\n",
       "      <th>2020-01-08</th>\n",
       "      <td>73.310</td>\n",
       "      <td>75.104</td>\n",
       "      <td>73.308</td>\n",
       "      <td>74.797</td>\n",
       "      <td>134134159</td>\n",
       "    </tr>\n",
       "  </tbody>\n",
       "</table>\n",
       "</div>"
      ],
      "text/plain": [
       "              Open    High     Low   Close     Volume\n",
       "Date                                                 \n",
       "2020-01-02  73.082  74.158  72.822  74.096  137461756\n",
       "2020-01-03  73.308  74.153  73.147  73.378  148495441\n",
       "2020-01-06  72.475  73.999  72.224  73.959  120164575\n",
       "2020-01-07  73.969  74.233  73.390  73.615  113002090\n",
       "2020-01-08  73.310  75.104  73.308  74.797  134134159"
      ]
     },
     "execution_count": 143,
     "metadata": {},
     "output_type": "execute_result"
    }
   ],
   "source": [
    "aprice = web.DataReader('AAPL',start='2020-01-01',end='2021-09-30',data_source='stooq')\n",
    "aprice.sort_index(inplace=True)\n",
    "aprice.head()"
   ]
  },
  {
   "cell_type": "code",
   "execution_count": 148,
   "metadata": {
    "slideshow": {
     "slide_type": "slide"
    }
   },
   "outputs": [
    {
     "data": {
      "image/png": "[encoded data removed]",
      "text/plain": [
       "<Figure size 1035x862.5 with 2 Axes>"
      ]
     },
     "metadata": {},
     "output_type": "display_data"
    }
   ],
   "source": [
    "mystyle = mpf.make_mpf_style(marketcolors=mc,mavcolors=['k','orange'])\n",
    "mpl.plot(aprice,type='candle',style=mystyle,mav=(6,21),figratio=(12,10),figscale=1.5,tight_layout=True)"
   ]
  },
  {
   "cell_type": "markdown",
   "metadata": {
    "slideshow": {
     "slide_type": "fragment"
    }
   },
   "source": [
    "- 金叉：短期均线**上穿**长期均线，买入位置"
   ]
  },
  {
   "cell_type": "markdown",
   "metadata": {
    "slideshow": {
     "slide_type": "fragment"
    }
   },
   "source": [
    "- 死叉：短期均线**下穿**长期均线，卖出（平仓）位置"
   ]
  },
  {
   "cell_type": "markdown",
   "metadata": {
    "slideshow": {
     "slide_type": "slide"
    }
   },
   "source": [
    "## 统计套利"
   ]
  },
  {
   "cell_type": "markdown",
   "metadata": {
    "slideshow": {
     "slide_type": "fragment"
    }
   },
   "source": [
    "- 套利：一般指某种资产在一个或多个市场存在不同的价格时，在低价格市场买进，在高价格市场卖出，也被称作价差交易"
   ]
  },
  {
   "cell_type": "markdown",
   "metadata": {
    "slideshow": {
     "slide_type": "fragment"
    }
   },
   "source": [
    "- 套利分为\n",
    "    - 无风险套利：利用资产在不同市场的价差套利\n",
    "    - 有风险套利"
   ]
  },
  {
   "cell_type": "markdown",
   "metadata": {
    "slideshow": {
     "slide_type": "fragment"
    }
   },
   "source": [
    "### 统计套利的定义"
   ]
  },
  {
   "cell_type": "markdown",
   "metadata": {
    "slideshow": {
     "slide_type": "fragment"
    }
   },
   "source": [
    "<dl class=\"row text-info\">\n",
    "    <dt class=\"col-md-4\">统计套利</dt>\n",
    "    <dd class=\"col-md-8\">根据统计学的原理，利用选取的两个或多个资产的<strong>统计规律</strong>建立量化模型的套利方法</dd>\n",
    "</dl>"
   ]
  },
  {
   "cell_type": "markdown",
   "metadata": {
    "slideshow": {
     "slide_type": "fragment"
    }
   },
   "source": [
    "- 假设一个策略在$t$时刻的累积收益贴现值为$v(t)$，若满足下述四个条件，则该策略是统计套利策略：\n",
    "$$\n",
    "\\begin{split}\n",
    "    (1)\\quad & v(0)=0 \\quad\\text{零初始成本}\\\\\n",
    "    (2)\\quad & \\underset{t\\to\\infty}{\\lim}E[v(t)]>0 \\quad\\text{正的期望贴现收益}\\\\\n",
    "    (3)\\quad & \\underset{t\\to\\infty}{\\lim}P[v(t)<0]=0 \\quad\\text{策略亏损的概率在时间趋向无穷的时候趋近于0}\\\\\n",
    "    (4)\\quad & 若\\forall t<\\infty, P[v(t)<0]>0, 则\\underset{t\\to\\infty}{\\lim}\\frac{\\text{var}[v(t)]}{t}=0 \\quad\\text{在有限时间内，如果损失概率没有趋近于0，则经时间平均后的方差趋近于0}\n",
    "\\end{split}\n",
    "$$"
   ]
  },
  {
   "cell_type": "markdown",
   "metadata": {
    "slideshow": {
     "slide_type": "slide"
    }
   },
   "source": [
    "- 统计套利是零初始成本(initial zero cost)、自融资(self-financing)的策略\n",
    "    - 自融资策略：策略所产生的资产组合的价值变化完全是由交易的盈亏引起的，而不是另外增加现金投入或现金支出。"
   ]
  },
  {
   "cell_type": "markdown",
   "metadata": {
    "slideshow": {
     "slide_type": "fragment"
    }
   },
   "source": [
    "- 统计套利与无风险套利的区别：统计套利在某个时间内是**可能发生亏损**的"
   ]
  },
  {
   "cell_type": "markdown",
   "metadata": {
    "slideshow": {
     "slide_type": "slide"
    }
   },
   "source": [
    "### 统计套利的类型"
   ]
  },
  {
   "cell_type": "markdown",
   "metadata": {
    "slideshow": {
     "slide_type": "fragment"
    }
   },
   "source": [
    "- 跨期统计套利\n",
    "- 跨市场统计套利\n",
    "- 跨品种统计套利"
   ]
  },
  {
   "cell_type": "markdown",
   "metadata": {
    "slideshow": {
     "slide_type": "slide"
    }
   },
   "source": [
    "### 跨期统计套利"
   ]
  },
  {
   "cell_type": "markdown",
   "metadata": {
    "slideshow": {
     "slide_type": "fragment"
    }
   },
   "source": [
    "- 利用同种商品的不同到期月份的期货合约之间出现的**异常价差**，做空价格高估的合约，**同时**做多价格低估的合约，等价差回归到正常水平的时候平仓获利"
   ]
  },
  {
   "cell_type": "markdown",
   "metadata": {
    "slideshow": {
     "slide_type": "fragment"
    }
   },
   "source": [
    "- 跨期套利的来源：**季节性波动**，后者又是由于商品**供需**的季节性变化导致"
   ]
  },
  {
   "cell_type": "markdown",
   "metadata": {
    "slideshow": {
     "slide_type": "slide"
    }
   },
   "source": [
    "### 跨市场统计套利"
   ]
  },
  {
   "cell_type": "markdown",
   "metadata": {
    "slideshow": {
     "slide_type": "fragment"
    }
   },
   "source": [
    "- 在不同市场，具有相同标的资产之间进行的套利"
   ]
  },
  {
   "cell_type": "markdown",
   "metadata": {
    "slideshow": {
     "slide_type": "fragment"
    }
   },
   "source": [
    "- 期现套利，当**期货市场**与**现货市场**在价格上出现差距，利用价格差距，低买高卖而获利"
   ]
  },
  {
   "cell_type": "markdown",
   "metadata": {
    "slideshow": {
     "slide_type": "fragment"
    }
   },
   "source": [
    "- 期现套利的来源：基差偏离持有成本\n",
    "    - 基差(spread)$=$现货价格$-$期货价格"
   ]
  },
  {
   "cell_type": "markdown",
   "metadata": {
    "slideshow": {
     "slide_type": "slide"
    }
   },
   "source": [
    "<center><img src=\"./img/strategy/spotfutures.jpg\" width=100%></center>"
   ]
  },
  {
   "cell_type": "markdown",
   "metadata": {
    "slideshow": {
     "slide_type": "slide"
    }
   },
   "source": [
    "##### 正向市场套利"
   ]
  },
  {
   "cell_type": "markdown",
   "metadata": {
    "slideshow": {
     "slide_type": "fragment"
    }
   },
   "source": [
    "<dl class=\"row\">\n",
    "    <dt class=\"col-md-4\">正向市场(contango)</dt>\n",
    "    <dd class=\"col-md-8\">期货价格大于现货价格</dd>\n",
    "</dl>"
   ]
  },
  {
   "cell_type": "markdown",
   "metadata": {
    "slideshow": {
     "slide_type": "fragment"
    }
   },
   "source": [
    "- **买入**现货的同时**卖出同等数量**的期货，等期现价差收敛时平掉套利头寸"
   ]
  },
  {
   "cell_type": "markdown",
   "metadata": {
    "slideshow": {
     "slide_type": "slide"
    }
   },
   "source": [
    "##### 反向市场套利"
   ]
  },
  {
   "cell_type": "markdown",
   "metadata": {
    "slideshow": {
     "slide_type": "fragment"
    }
   },
   "source": [
    "<dl class=\"row\">\n",
    "    <dt class=\"col-md-4\">反向市场(backwardation)</dt>\n",
    "    <dd class=\"col-md-8\">期货价格小于现货价格</dd>\n",
    "</dl>"
   ]
  },
  {
   "cell_type": "markdown",
   "metadata": {
    "slideshow": {
     "slide_type": "fragment"
    }
   },
   "source": [
    "- **卖出**现货的同时**买入同等数量**的期货"
   ]
  },
  {
   "cell_type": "markdown",
   "metadata": {
    "slideshow": {
     "slide_type": "slide"
    }
   },
   "source": [
    "### 跨品种套利"
   ]
  },
  {
   "cell_type": "markdown",
   "metadata": {
    "slideshow": {
     "slide_type": "fragment"
    }
   },
   "source": [
    "- 利用同一市场上的两种具有**高度相关性**的标的资产之间的价差进行套利"
   ]
  },
  {
   "cell_type": "markdown",
   "metadata": {
    "slideshow": {
     "slide_type": "fragment"
    }
   },
   "source": [
    "- 跨品种套利来源：两种资产的价差偏离它们之间的长期均衡关系"
   ]
  },
  {
   "cell_type": "markdown",
   "metadata": {
    "slideshow": {
     "slide_type": "slide"
    }
   },
   "source": [
    "#### 如何选择跨品种套利"
   ]
  },
  {
   "cell_type": "markdown",
   "metadata": {
    "slideshow": {
     "slide_type": "fragment"
    }
   },
   "source": [
    "- 选择产品与原材料\n",
    "    - 例如，螺纹钢与铁矿石、焦炭，生产$1$吨生铁需要$1.5\\sim2$吨铁矿石和$0.4\\sim0.6$吨焦炭\n",
    "    - 例如，1吨大豆生产出0.2吨豆油及0.8吨豆粕"
   ]
  },
  {
   "cell_type": "markdown",
   "metadata": {
    "slideshow": {
     "slide_type": "fragment"
    }
   },
   "source": [
    "- 选择替代品\n",
    "    - 例如，豆油、棕榈油、菜籽油"
   ]
  },
  {
   "cell_type": "markdown",
   "metadata": {
    "slideshow": {
     "slide_type": "slide"
    }
   },
   "source": [
    "#### 如何判断两个产品之间具有相关性？"
   ]
  },
  {
   "cell_type": "code",
   "execution_count": 149,
   "metadata": {
    "slideshow": {
     "slide_type": "fragment"
    }
   },
   "outputs": [
    {
     "data": {
      "text/html": [
       "<div>\n",
       "<style scoped>\n",
       "    .dataframe tbody tr th:only-of-type {\n",
       "        vertical-align: middle;\n",
       "    }\n",
       "\n",
       "    .dataframe tbody tr th {\n",
       "        vertical-align: top;\n",
       "    }\n",
       "\n",
       "    .dataframe thead th {\n",
       "        text-align: right;\n",
       "    }\n",
       "</style>\n",
       "<table border=\"1\" class=\"dataframe\">\n",
       "  <thead>\n",
       "    <tr style=\"text-align: right;\">\n",
       "      <th></th>\n",
       "      <th>Open</th>\n",
       "      <th>High</th>\n",
       "      <th>Low</th>\n",
       "      <th>Close</th>\n",
       "      <th>Volume</th>\n",
       "    </tr>\n",
       "    <tr>\n",
       "      <th>Date</th>\n",
       "      <th></th>\n",
       "      <th></th>\n",
       "      <th></th>\n",
       "      <th></th>\n",
       "      <th></th>\n",
       "    </tr>\n",
       "  </thead>\n",
       "  <tbody>\n",
       "    <tr>\n",
       "      <th>2021-09-30</th>\n",
       "      <td>143.66</td>\n",
       "      <td>144.3780</td>\n",
       "      <td>141.28</td>\n",
       "      <td>141.50</td>\n",
       "      <td>89056664</td>\n",
       "    </tr>\n",
       "    <tr>\n",
       "      <th>2021-09-29</th>\n",
       "      <td>142.47</td>\n",
       "      <td>144.4500</td>\n",
       "      <td>142.03</td>\n",
       "      <td>142.83</td>\n",
       "      <td>74602044</td>\n",
       "    </tr>\n",
       "    <tr>\n",
       "      <th>2021-09-28</th>\n",
       "      <td>143.25</td>\n",
       "      <td>144.7500</td>\n",
       "      <td>141.69</td>\n",
       "      <td>141.91</td>\n",
       "      <td>108972340</td>\n",
       "    </tr>\n",
       "    <tr>\n",
       "      <th>2021-09-27</th>\n",
       "      <td>145.47</td>\n",
       "      <td>145.9600</td>\n",
       "      <td>143.82</td>\n",
       "      <td>145.37</td>\n",
       "      <td>74150729</td>\n",
       "    </tr>\n",
       "    <tr>\n",
       "      <th>2021-09-24</th>\n",
       "      <td>145.66</td>\n",
       "      <td>147.4701</td>\n",
       "      <td>145.56</td>\n",
       "      <td>146.92</td>\n",
       "      <td>53477869</td>\n",
       "    </tr>\n",
       "  </tbody>\n",
       "</table>\n",
       "</div>"
      ],
      "text/plain": [
       "              Open      High     Low   Close     Volume\n",
       "Date                                                   \n",
       "2021-09-30  143.66  144.3780  141.28  141.50   89056664\n",
       "2021-09-29  142.47  144.4500  142.03  142.83   74602044\n",
       "2021-09-28  143.25  144.7500  141.69  141.91  108972340\n",
       "2021-09-27  145.47  145.9600  143.82  145.37   74150729\n",
       "2021-09-24  145.66  147.4701  145.56  146.92   53477869"
      ]
     },
     "execution_count": 149,
     "metadata": {},
     "output_type": "execute_result"
    },
    {
     "data": {
      "text/plain": [
       "(944, 5)"
      ]
     },
     "execution_count": 149,
     "metadata": {},
     "output_type": "execute_result"
    }
   ],
   "source": [
    "aprice = web.DataReader('AAPL',data_source='stooq',start='2018-01-01',end='2021-09-30')\n",
    "aprice.head()\n",
    "aprice.shape"
   ]
  },
  {
   "cell_type": "code",
   "execution_count": 150,
   "metadata": {
    "slideshow": {
     "slide_type": "skip"
    }
   },
   "outputs": [
    {
     "data": {
      "text/html": [
       "<div>\n",
       "<style scoped>\n",
       "    .dataframe tbody tr th:only-of-type {\n",
       "        vertical-align: middle;\n",
       "    }\n",
       "\n",
       "    .dataframe tbody tr th {\n",
       "        vertical-align: top;\n",
       "    }\n",
       "\n",
       "    .dataframe thead th {\n",
       "        text-align: right;\n",
       "    }\n",
       "</style>\n",
       "<table border=\"1\" class=\"dataframe\">\n",
       "  <thead>\n",
       "    <tr style=\"text-align: right;\">\n",
       "      <th></th>\n",
       "      <th>x</th>\n",
       "      <th>y</th>\n",
       "    </tr>\n",
       "  </thead>\n",
       "  <tbody>\n",
       "    <tr>\n",
       "      <th>0</th>\n",
       "      <td>34.559</td>\n",
       "      <td>44.036147</td>\n",
       "    </tr>\n",
       "    <tr>\n",
       "      <th>1</th>\n",
       "      <td>35.688</td>\n",
       "      <td>46.462537</td>\n",
       "    </tr>\n",
       "    <tr>\n",
       "      <th>2</th>\n",
       "      <td>35.951</td>\n",
       "      <td>47.810129</td>\n",
       "    </tr>\n",
       "    <tr>\n",
       "      <th>3</th>\n",
       "      <td>36.034</td>\n",
       "      <td>47.179825</td>\n",
       "    </tr>\n",
       "    <tr>\n",
       "      <th>4</th>\n",
       "      <td>36.460</td>\n",
       "      <td>50.068468</td>\n",
       "    </tr>\n",
       "    <tr>\n",
       "      <th>...</th>\n",
       "      <td>...</td>\n",
       "      <td>...</td>\n",
       "    </tr>\n",
       "    <tr>\n",
       "      <th>939</th>\n",
       "      <td>153.650</td>\n",
       "      <td>200.679647</td>\n",
       "    </tr>\n",
       "    <tr>\n",
       "      <th>940</th>\n",
       "      <td>154.070</td>\n",
       "      <td>200.463647</td>\n",
       "    </tr>\n",
       "    <tr>\n",
       "      <th>941</th>\n",
       "      <td>154.300</td>\n",
       "      <td>201.790791</td>\n",
       "    </tr>\n",
       "    <tr>\n",
       "      <th>942</th>\n",
       "      <td>155.110</td>\n",
       "      <td>200.539216</td>\n",
       "    </tr>\n",
       "    <tr>\n",
       "      <th>943</th>\n",
       "      <td>156.690</td>\n",
       "      <td>197.999884</td>\n",
       "    </tr>\n",
       "  </tbody>\n",
       "</table>\n",
       "<p>944 rows × 2 columns</p>\n",
       "</div>"
      ],
      "text/plain": [
       "           x           y\n",
       "0     34.559   44.036147\n",
       "1     35.688   46.462537\n",
       "2     35.951   47.810129\n",
       "3     36.034   47.179825\n",
       "4     36.460   50.068468\n",
       "..       ...         ...\n",
       "939  153.650  200.679647\n",
       "940  154.070  200.463647\n",
       "941  154.300  201.790791\n",
       "942  155.110  200.539216\n",
       "943  156.690  197.999884\n",
       "\n",
       "[944 rows x 2 columns]"
      ]
     },
     "execution_count": 150,
     "metadata": {},
     "output_type": "execute_result"
    }
   ],
   "source": [
    "aprice.sort_index(inplace=True)\n",
    "y = aprice['Close'][0]\n",
    "ranData = []\n",
    "for each in range(aprice.shape[0]):\n",
    "    ranData.append(y+np.random.normal(aprice['Close'].diff().mean(),aprice['Close'].diff().std()))\n",
    "    y = ranData[-1]\n",
    "priceData = pd.DataFrame({'x':sorted(aprice['Close']),'y':ranData})\n",
    "priceData"
   ]
  },
  {
   "cell_type": "code",
   "execution_count": 157,
   "metadata": {
    "slideshow": {
     "slide_type": "fragment"
    }
   },
   "outputs": [
    {
     "data": {
      "text/html": [
       "<div>\n",
       "<style scoped>\n",
       "    .dataframe tbody tr th:only-of-type {\n",
       "        vertical-align: middle;\n",
       "    }\n",
       "\n",
       "    .dataframe tbody tr th {\n",
       "        vertical-align: top;\n",
       "    }\n",
       "\n",
       "    .dataframe thead th {\n",
       "        text-align: right;\n",
       "    }\n",
       "</style>\n",
       "<table border=\"1\" class=\"dataframe\">\n",
       "  <thead>\n",
       "    <tr style=\"text-align: right;\">\n",
       "      <th></th>\n",
       "      <th>Open</th>\n",
       "      <th>High</th>\n",
       "      <th>Low</th>\n",
       "      <th>Close</th>\n",
       "      <th>Volume</th>\n",
       "      <th>y</th>\n",
       "    </tr>\n",
       "    <tr>\n",
       "      <th>Date</th>\n",
       "      <th></th>\n",
       "      <th></th>\n",
       "      <th></th>\n",
       "      <th></th>\n",
       "      <th></th>\n",
       "      <th></th>\n",
       "    </tr>\n",
       "  </thead>\n",
       "  <tbody>\n",
       "    <tr>\n",
       "      <th>2018-01-02</th>\n",
       "      <td>40.746</td>\n",
       "      <td>41.2560</td>\n",
       "      <td>40.529</td>\n",
       "      <td>41.247</td>\n",
       "      <td>106573277</td>\n",
       "      <td>44.036147</td>\n",
       "    </tr>\n",
       "    <tr>\n",
       "      <th>2018-01-03</th>\n",
       "      <td>41.312</td>\n",
       "      <td>41.7930</td>\n",
       "      <td>41.173</td>\n",
       "      <td>41.240</td>\n",
       "      <td>123057901</td>\n",
       "      <td>46.462537</td>\n",
       "    </tr>\n",
       "    <tr>\n",
       "      <th>2018-01-04</th>\n",
       "      <td>41.314</td>\n",
       "      <td>41.5410</td>\n",
       "      <td>41.203</td>\n",
       "      <td>41.436</td>\n",
       "      <td>93332866</td>\n",
       "      <td>47.810129</td>\n",
       "    </tr>\n",
       "    <tr>\n",
       "      <th>2018-01-05</th>\n",
       "      <td>41.533</td>\n",
       "      <td>41.9950</td>\n",
       "      <td>41.442</td>\n",
       "      <td>41.902</td>\n",
       "      <td>98542881</td>\n",
       "      <td>47.179825</td>\n",
       "    </tr>\n",
       "    <tr>\n",
       "      <th>2018-01-08</th>\n",
       "      <td>41.749</td>\n",
       "      <td>42.0510</td>\n",
       "      <td>41.651</td>\n",
       "      <td>41.759</td>\n",
       "      <td>85738348</td>\n",
       "      <td>50.068468</td>\n",
       "    </tr>\n",
       "    <tr>\n",
       "      <th>...</th>\n",
       "      <td>...</td>\n",
       "      <td>...</td>\n",
       "      <td>...</td>\n",
       "      <td>...</td>\n",
       "      <td>...</td>\n",
       "      <td>...</td>\n",
       "    </tr>\n",
       "    <tr>\n",
       "      <th>2021-09-24</th>\n",
       "      <td>145.660</td>\n",
       "      <td>147.4701</td>\n",
       "      <td>145.560</td>\n",
       "      <td>146.920</td>\n",
       "      <td>53477869</td>\n",
       "      <td>200.679647</td>\n",
       "    </tr>\n",
       "    <tr>\n",
       "      <th>2021-09-27</th>\n",
       "      <td>145.470</td>\n",
       "      <td>145.9600</td>\n",
       "      <td>143.820</td>\n",
       "      <td>145.370</td>\n",
       "      <td>74150729</td>\n",
       "      <td>200.463647</td>\n",
       "    </tr>\n",
       "    <tr>\n",
       "      <th>2021-09-28</th>\n",
       "      <td>143.250</td>\n",
       "      <td>144.7500</td>\n",
       "      <td>141.690</td>\n",
       "      <td>141.910</td>\n",
       "      <td>108972340</td>\n",
       "      <td>201.790791</td>\n",
       "    </tr>\n",
       "    <tr>\n",
       "      <th>2021-09-29</th>\n",
       "      <td>142.470</td>\n",
       "      <td>144.4500</td>\n",
       "      <td>142.030</td>\n",
       "      <td>142.830</td>\n",
       "      <td>74602044</td>\n",
       "      <td>200.539216</td>\n",
       "    </tr>\n",
       "    <tr>\n",
       "      <th>2021-09-30</th>\n",
       "      <td>143.660</td>\n",
       "      <td>144.3780</td>\n",
       "      <td>141.280</td>\n",
       "      <td>141.500</td>\n",
       "      <td>89056664</td>\n",
       "      <td>197.999884</td>\n",
       "    </tr>\n",
       "  </tbody>\n",
       "</table>\n",
       "<p>944 rows × 6 columns</p>\n",
       "</div>"
      ],
      "text/plain": [
       "               Open      High      Low    Close     Volume           y\n",
       "Date                                                                  \n",
       "2018-01-02   40.746   41.2560   40.529   41.247  106573277   44.036147\n",
       "2018-01-03   41.312   41.7930   41.173   41.240  123057901   46.462537\n",
       "2018-01-04   41.314   41.5410   41.203   41.436   93332866   47.810129\n",
       "2018-01-05   41.533   41.9950   41.442   41.902   98542881   47.179825\n",
       "2018-01-08   41.749   42.0510   41.651   41.759   85738348   50.068468\n",
       "...             ...       ...      ...      ...        ...         ...\n",
       "2021-09-24  145.660  147.4701  145.560  146.920   53477869  200.679647\n",
       "2021-09-27  145.470  145.9600  143.820  145.370   74150729  200.463647\n",
       "2021-09-28  143.250  144.7500  141.690  141.910  108972340  201.790791\n",
       "2021-09-29  142.470  144.4500  142.030  142.830   74602044  200.539216\n",
       "2021-09-30  143.660  144.3780  141.280  141.500   89056664  197.999884\n",
       "\n",
       "[944 rows x 6 columns]"
      ]
     },
     "execution_count": 157,
     "metadata": {},
     "output_type": "execute_result"
    }
   ],
   "source": [
    "aprice['y']=ranData\n",
    "aprice"
   ]
  },
  {
   "cell_type": "code",
   "execution_count": 166,
   "metadata": {
    "slideshow": {
     "slide_type": "slide"
    }
   },
   "outputs": [
    {
     "data": {
      "image/png": "[encoded data removed]",
      "text/plain": [
       "<Figure size 1552.5x862.5 with 2 Axes>"
      ]
     },
     "metadata": {},
     "output_type": "display_data"
    }
   ],
   "source": [
    "addedPlot = mpf.make_addplot(aprice['y'],linestyle='-.')\n",
    "mpf.plot(aprice,type='line',style='yahoo',figratio=(18,10),figscale=1.5,addplot=addedPlot)"
   ]
  },
  {
   "cell_type": "markdown",
   "metadata": {
    "slideshow": {
     "slide_type": "slide"
    }
   },
   "source": [
    "- 利用回归分析计算两个产品价格之间的相关性？"
   ]
  },
  {
   "cell_type": "code",
   "execution_count": 152,
   "metadata": {
    "slideshow": {
     "slide_type": "fragment"
    }
   },
   "outputs": [
    {
     "data": {
      "text/html": [
       "<div>\n",
       "<style scoped>\n",
       "    .dataframe tbody tr th:only-of-type {\n",
       "        vertical-align: middle;\n",
       "    }\n",
       "\n",
       "    .dataframe tbody tr th {\n",
       "        vertical-align: top;\n",
       "    }\n",
       "\n",
       "    .dataframe thead th {\n",
       "        text-align: right;\n",
       "    }\n",
       "</style>\n",
       "<table border=\"1\" class=\"dataframe\">\n",
       "  <thead>\n",
       "    <tr style=\"text-align: right;\">\n",
       "      <th></th>\n",
       "      <th>x</th>\n",
       "      <th>y</th>\n",
       "    </tr>\n",
       "  </thead>\n",
       "  <tbody>\n",
       "    <tr>\n",
       "      <th>0</th>\n",
       "      <td>34.559</td>\n",
       "      <td>44.036147</td>\n",
       "    </tr>\n",
       "    <tr>\n",
       "      <th>1</th>\n",
       "      <td>35.688</td>\n",
       "      <td>46.462537</td>\n",
       "    </tr>\n",
       "    <tr>\n",
       "      <th>2</th>\n",
       "      <td>35.951</td>\n",
       "      <td>47.810129</td>\n",
       "    </tr>\n",
       "    <tr>\n",
       "      <th>3</th>\n",
       "      <td>36.034</td>\n",
       "      <td>47.179825</td>\n",
       "    </tr>\n",
       "    <tr>\n",
       "      <th>4</th>\n",
       "      <td>36.460</td>\n",
       "      <td>50.068468</td>\n",
       "    </tr>\n",
       "  </tbody>\n",
       "</table>\n",
       "</div>"
      ],
      "text/plain": [
       "        x          y\n",
       "0  34.559  44.036147\n",
       "1  35.688  46.462537\n",
       "2  35.951  47.810129\n",
       "3  36.034  47.179825\n",
       "4  36.460  50.068468"
      ]
     },
     "execution_count": 152,
     "metadata": {},
     "output_type": "execute_result"
    },
    {
     "data": {
      "text/html": [
       "<div>\n",
       "<style scoped>\n",
       "    .dataframe tbody tr th:only-of-type {\n",
       "        vertical-align: middle;\n",
       "    }\n",
       "\n",
       "    .dataframe tbody tr th {\n",
       "        vertical-align: top;\n",
       "    }\n",
       "\n",
       "    .dataframe thead th {\n",
       "        text-align: right;\n",
       "    }\n",
       "</style>\n",
       "<table border=\"1\" class=\"dataframe\">\n",
       "  <thead>\n",
       "    <tr style=\"text-align: right;\">\n",
       "      <th></th>\n",
       "      <th>x</th>\n",
       "      <th>y</th>\n",
       "    </tr>\n",
       "  </thead>\n",
       "  <tbody>\n",
       "    <tr>\n",
       "      <th>x</th>\n",
       "      <td>1.000000</td>\n",
       "      <td>0.854213</td>\n",
       "    </tr>\n",
       "    <tr>\n",
       "      <th>y</th>\n",
       "      <td>0.854213</td>\n",
       "      <td>1.000000</td>\n",
       "    </tr>\n",
       "  </tbody>\n",
       "</table>\n",
       "</div>"
      ],
      "text/plain": [
       "          x         y\n",
       "x  1.000000  0.854213\n",
       "y  0.854213  1.000000"
      ]
     },
     "execution_count": 152,
     "metadata": {},
     "output_type": "execute_result"
    }
   ],
   "source": [
    "priceData.head()\n",
    "priceData.corr()      # pandas的DataFrame计算相关系数"
   ]
  },
  {
   "cell_type": "markdown",
   "metadata": {
    "slideshow": {
     "slide_type": "slide"
    }
   },
   "source": [
    "##### 简单回归分析"
   ]
  },
  {
   "cell_type": "markdown",
   "metadata": {
    "slideshow": {
     "slide_type": "fragment"
    }
   },
   "source": [
    "```python\n",
    "pip install statsmodels\n",
    "# Python中的统计模块\n",
    "import statsmodels.formula.api as smf\n",
    "```"
   ]
  },
  {
   "cell_type": "code",
   "execution_count": 153,
   "metadata": {
    "slideshow": {
     "slide_type": "fragment"
    }
   },
   "outputs": [
    {
     "data": {
      "text/html": [
       "<table class=\"simpletable\">\n",
       "<caption>OLS Regression Results</caption>\n",
       "<tr>\n",
       "  <th>Dep. Variable:</th>            <td>y</td>        <th>  R-squared:         </th> <td>   0.730</td> \n",
       "</tr>\n",
       "<tr>\n",
       "  <th>Model:</th>                   <td>OLS</td>       <th>  Adj. R-squared:    </th> <td>   0.729</td> \n",
       "</tr>\n",
       "<tr>\n",
       "  <th>Method:</th>             <td>Least Squares</td>  <th>  F-statistic:       </th> <td>   2543.</td> \n",
       "</tr>\n",
       "<tr>\n",
       "  <th>Date:</th>             <td>Sun, 10 Oct 2021</td> <th>  Prob (F-statistic):</th> <td>7.91e-270</td>\n",
       "</tr>\n",
       "<tr>\n",
       "  <th>Time:</th>                 <td>20:02:30</td>     <th>  Log-Likelihood:    </th> <td> -4408.3</td> \n",
       "</tr>\n",
       "<tr>\n",
       "  <th>No. Observations:</th>      <td>   944</td>      <th>  AIC:               </th> <td>   8821.</td> \n",
       "</tr>\n",
       "<tr>\n",
       "  <th>Df Residuals:</th>          <td>   942</td>      <th>  BIC:               </th> <td>   8830.</td> \n",
       "</tr>\n",
       "<tr>\n",
       "  <th>Df Model:</th>              <td>     1</td>      <th>                     </th>     <td> </td>    \n",
       "</tr>\n",
       "<tr>\n",
       "  <th>Covariance Type:</th>      <td>nonrobust</td>    <th>                     </th>     <td> </td>    \n",
       "</tr>\n",
       "</table>\n",
       "<table class=\"simpletable\">\n",
       "<tr>\n",
       "      <td></td>         <th>coef</th>     <th>std err</th>      <th>t</th>      <th>P>|t|</th>  <th>[0.025</th>    <th>0.975]</th>  \n",
       "</tr>\n",
       "<tr>\n",
       "  <th>Intercept</th> <td>   37.3038</td> <td>    1.964</td> <td>   18.990</td> <td> 0.000</td> <td>   33.449</td> <td>   41.159</td>\n",
       "</tr>\n",
       "<tr>\n",
       "  <th>x</th>         <td>    1.1478</td> <td>    0.023</td> <td>   50.426</td> <td> 0.000</td> <td>    1.103</td> <td>    1.192</td>\n",
       "</tr>\n",
       "</table>\n",
       "<table class=\"simpletable\">\n",
       "<tr>\n",
       "  <th>Omnibus:</th>       <td>82651.653</td> <th>  Durbin-Watson:     </th> <td>   0.004</td>\n",
       "</tr>\n",
       "<tr>\n",
       "  <th>Prob(Omnibus):</th>  <td> 0.000</td>   <th>  Jarque-Bera (JB):  </th> <td>  74.078</td>\n",
       "</tr>\n",
       "<tr>\n",
       "  <th>Skew:</th>           <td> 0.046</td>   <th>  Prob(JB):          </th> <td>8.21e-17</td>\n",
       "</tr>\n",
       "<tr>\n",
       "  <th>Kurtosis:</th>       <td> 1.631</td>   <th>  Cond. No.          </th> <td>    202.</td>\n",
       "</tr>\n",
       "</table><br/><br/>Notes:<br/>[1] Standard Errors assume that the covariance matrix of the errors is correctly specified."
      ],
      "text/plain": [
       "<class 'statsmodels.iolib.summary.Summary'>\n",
       "\"\"\"\n",
       "                            OLS Regression Results                            \n",
       "==============================================================================\n",
       "Dep. Variable:                      y   R-squared:                       0.730\n",
       "Model:                            OLS   Adj. R-squared:                  0.729\n",
       "Method:                 Least Squares   F-statistic:                     2543.\n",
       "Date:                Sun, 10 Oct 2021   Prob (F-statistic):          7.91e-270\n",
       "Time:                        20:02:30   Log-Likelihood:                -4408.3\n",
       "No. Observations:                 944   AIC:                             8821.\n",
       "Df Residuals:                     942   BIC:                             8830.\n",
       "Df Model:                           1                                         \n",
       "Covariance Type:            nonrobust                                         \n",
       "==============================================================================\n",
       "                 coef    std err          t      P>|t|      [0.025      0.975]\n",
       "------------------------------------------------------------------------------\n",
       "Intercept     37.3038      1.964     18.990      0.000      33.449      41.159\n",
       "x              1.1478      0.023     50.426      0.000       1.103       1.192\n",
       "==============================================================================\n",
       "Omnibus:                    82651.653   Durbin-Watson:                   0.004\n",
       "Prob(Omnibus):                  0.000   Jarque-Bera (JB):               74.078\n",
       "Skew:                           0.046   Prob(JB):                     8.21e-17\n",
       "Kurtosis:                       1.631   Cond. No.                         202.\n",
       "==============================================================================\n",
       "\n",
       "Notes:\n",
       "[1] Standard Errors assume that the covariance matrix of the errors is correctly specified.\n",
       "\"\"\""
      ]
     },
     "execution_count": 153,
     "metadata": {},
     "output_type": "execute_result"
    }
   ],
   "source": [
    "res = smf.ols('y~x',data=priceData).fit()\n",
    "res.summary()"
   ]
  },
  {
   "cell_type": "markdown",
   "metadata": {
    "slideshow": {
     "slide_type": "slide"
    }
   },
   "source": [
    "- “伪回归”(spurious regression)\n",
    "    - 自变量和因变量之间表现出较强的相关性，但事实上二者没有关联"
   ]
  },
  {
   "cell_type": "markdown",
   "metadata": {
    "slideshow": {
     "slide_type": "fragment"
    }
   },
   "source": [
    "<center><img src=\"./img/strategy/spuriousReg.png\" width=60%></center>"
   ]
  },
  {
   "cell_type": "markdown",
   "metadata": {
    "slideshow": {
     "slide_type": "slide"
    }
   },
   "source": [
    "#### 协整分析"
   ]
  },
  {
   "cell_type": "markdown",
   "metadata": {
    "slideshow": {
     "slide_type": "skip"
    }
   },
   "source": [
    "平稳（时间）序列是包括均值、方差和自相关等在内的统计特性不随时间发生变化的时间序列。\n",
    "非平稳序列数据可能包含趋势（trend）、季节性（seasonality)，或者随机游走（random walk）。\n",
    "随机游走是一种随机过程，每个时刻的数据只跟前一个数据和各自的随机误差有关。\n",
    "几乎所有的原始价格时间序列数据都是非平稳的。"
   ]
  },
  {
   "cell_type": "markdown",
   "metadata": {
    "slideshow": {
     "slide_type": "fragment"
    }
   },
   "source": [
    "<dl class=\"row\">\n",
    "    <dt class=\"col-md-4\">协整(cointegration)</dt>\n",
    "    <dd class=\"col-md-8\">两个时间序列各自都是<strong>非平稳过程</strong>，但是它们的线性组合是<strong>平稳过程</strong></dd>\n",
    "</dl>"
   ]
  },
  {
   "cell_type": "markdown",
   "metadata": {
    "slideshow": {
     "slide_type": "fragment"
    }
   },
   "source": [
    "<dl class=\"row\">\n",
    "    <dt class=\"col-md-4\">平稳过程</dt>\n",
    "    <dd class=\"col-md-8\">统计特性在时间平移下不变的随机过程</dd>\n",
    "</dl>"
   ]
  },
  {
   "cell_type": "markdown",
   "metadata": {
    "slideshow": {
     "slide_type": "slide"
    }
   },
   "source": [
    "- 假设有一个时间序列$\\{X_t\\}$，则该序列是平稳过程需要满足下面的条件：\n",
    "\n",
    "\n",
    "1. $E[X_t] = \\mu$\n",
    "2. $Var[X_t] = \\sigma^2$\n",
    "3. $Cov(X_t, X_{t+k}) = r(k)$"
   ]
  },
  {
   "cell_type": "markdown",
   "metadata": {
    "slideshow": {
     "slide_type": "fragment"
    }
   },
   "source": [
    "<center><img src=\"./img/strategy/stationary.png\" width=60%></center>"
   ]
  },
  {
   "cell_type": "markdown",
   "metadata": {
    "slideshow": {
     "slide_type": "slide"
    }
   },
   "source": [
    "##### 检验协整关系"
   ]
  },
  {
   "cell_type": "markdown",
   "metadata": {
    "slideshow": {
     "slide_type": "fragment"
    }
   },
   "source": [
    "- 设有两个时间序列$\\{X_t\\}$ 和 $\\{Y_t\\}$,\n",
    "\n",
    "\n",
    "1. 利用最小二乘（OLS）法估计$X_t$ 和 $Y_t$ 的长期均衡关系式$Y_t=\\alpha_0+\\alpha_1X_t+e_t$，并计算误差：\n",
    "\\begin{align}\n",
    "  \\hat{Y}_t &= \\hat{\\alpha}_0 + \\hat{\\alpha}_1 X_t \\\\\n",
    "  \\hat{e}_t &= Y_t - \\hat{Y}_t \\\\\n",
    "\\end{align}"
   ]
  },
  {
   "cell_type": "markdown",
   "metadata": {
    "slideshow": {
     "slide_type": "fragment"
    }
   },
   "source": [
    "2. 检验残差序列$\\{\\hat{e}_t\\}$的平稳性。可用ADF检验，如果通过检验，说明$X_t$ 和 $Y_t$具有协整关系。"
   ]
  },
  {
   "cell_type": "markdown",
   "metadata": {
    "slideshow": {
     "slide_type": "slide"
    }
   },
   "source": [
    "- 螺纹钢（rb）与焦炭(j)关系"
   ]
  },
  {
   "cell_type": "markdown",
   "metadata": {
    "slideshow": {
     "slide_type": "fragment"
    }
   },
   "source": [
    "<center><img src=\"./img/strategy/cointegration.png\" width=100%></center>"
   ]
  },
  {
   "cell_type": "markdown",
   "metadata": {
    "slideshow": {
     "slide_type": "skip"
    }
   },
   "source": [
    "### 高频交易\n",
    "\n",
    "高频交易主要是通过在极短的市场变化中进行买卖，从而获利，代表是西蒙斯的文艺复兴科技公司。\n",
    "\n",
    "- 统计套利。通过数学统计的方法发现那些成功概率比较高的机会。比如我们发现两只食品股票的走势常年基本保持一致，就可以设置一个偏离率来进行买卖，大于某个值就买，回到正常范围内就卖出，通过计算机技术，系统可以同时统计数千只股票的偏离率，从而获利。\n",
    "- 时间套利。需要掌握一定的爬虫技术和自然语言处理技术。同样一则消息人类阅读是比较慢的，而计算机阅读就可以在毫秒之间进行判断，谁第一时间掌握了消息，谁就更有机会获得收益。\n",
    "- 低延迟策略。需要物理专业和通信工程的知识。国外的一些基金公司甚至利用微波来代替传统的独立光纤，因为微波在空气中的传播速度，相较于真空中的光速只慢了1%，而光在光纤中的传播速度却要减慢30%左右。"
   ]
  },
  {
   "cell_type": "markdown",
   "metadata": {
    "slideshow": {
     "slide_type": "slide"
    }
   },
   "source": [
    "# 量化交易策略的组成"
   ]
  },
  {
   "cell_type": "markdown",
   "metadata": {
    "slideshow": {
     "slide_type": "fragment"
    }
   },
   "source": [
    "<center><img src=\"./img/strategy/strategyComp.png\" width=100%></center>"
   ]
  },
  {
   "cell_type": "markdown",
   "metadata": {
    "slideshow": {
     "slide_type": "slide"
    }
   },
   "source": [
    "## 交易标的"
   ]
  },
  {
   "cell_type": "markdown",
   "metadata": {
    "slideshow": {
     "slide_type": "fragment"
    }
   },
   "source": [
    "<dl class=\"row\">\n",
    "    <dt class=\"col-lg-4\">交易标的</dt>\n",
    "    <dd class=\"col-lg-8\">应当买卖哪些产品</dd>\n",
    "</dl>"
   ]
  },
  {
   "cell_type": "markdown",
   "metadata": {
    "slideshow": {
     "slide_type": "fragment"
    }
   },
   "source": [
    "- 只交易少数几个产品?\n",
    "- 交易全部产品？"
   ]
  },
  {
   "cell_type": "markdown",
   "metadata": {
    "slideshow": {
     "slide_type": "slide"
    }
   },
   "source": [
    "<center><img src=\"./img/strategy/rbContracts.png\"  width=100%></center>"
   ]
  },
  {
   "cell_type": "markdown",
   "metadata": {
    "slideshow": {
     "slide_type": "fragment"
    }
   },
   "source": [
    "- 对于每个品种，最好交易**主力**合约"
   ]
  },
  {
   "cell_type": "markdown",
   "metadata": {
    "slideshow": {
     "slide_type": "slide"
    }
   },
   "source": [
    "<center><img src=\"./img/strategy/majorContracts.png\" width=100% /></center>"
   ]
  },
  {
   "cell_type": "markdown",
   "metadata": {
    "slideshow": {
     "slide_type": "fragment"
    }
   },
   "source": [
    "- 在所有主力合约中，最好选择**成交量**最大的"
   ]
  },
  {
   "cell_type": "markdown",
   "metadata": {
    "slideshow": {
     "slide_type": "slide"
    }
   },
   "source": [
    "##### 如何选择交易标的？"
   ]
  },
  {
   "cell_type": "markdown",
   "metadata": {
    "slideshow": {
     "slide_type": "fragment"
    }
   },
   "source": [
    "- 选择交易标的的原则\n",
    "> 选择交易**活跃**（成交量大）的品种合约"
   ]
  },
  {
   "cell_type": "markdown",
   "metadata": {
    "slideshow": {
     "slide_type": "fragment"
    }
   },
   "source": [
    "- 设定投资组合\n",
    "    - 总有某个市场或某些产品出现趋势\n",
    "    - 有些交易不明朗的市场或产品可以先观望\n",
    "    - 当一些突发事件造成市场波动时，可以对冲风险"
   ]
  },
  {
   "cell_type": "markdown",
   "metadata": {
    "slideshow": {
     "slide_type": "slide"
    }
   },
   "source": [
    "## 头寸规模"
   ]
  },
  {
   "cell_type": "markdown",
   "metadata": {
    "slideshow": {
     "slide_type": "fragment"
    }
   },
   "source": [
    "<dl class=\"row\">\n",
    "    <dt class=\"col-md-4\">头寸规模</dt>\n",
    "    <dd class=\"col-md-8\">应当持有的交易标的的数量</dd>\n",
    "</dl>"
   ]
  },
  {
   "cell_type": "markdown",
   "metadata": {
    "slideshow": {
     "slide_type": "slide"
    }
   },
   "source": [
    "### 决定头寸规模的因素"
   ]
  },
  {
   "cell_type": "markdown",
   "metadata": {
    "slideshow": {
     "slide_type": "fragment"
    }
   },
   "source": [
    "- 可用资金量\n",
    "    + **全仓**：用全部可用资金购入交易标的\n",
    "    + **半仓**：用一半资金购入交易标的"
   ]
  },
  {
   "cell_type": "markdown",
   "metadata": {
    "slideshow": {
     "slide_type": "fragment"
    }
   },
   "source": [
    "- 交易标的的价格"
   ]
  },
  {
   "cell_type": "markdown",
   "metadata": {
    "slideshow": {
     "slide_type": "fragment"
    }
   },
   "source": [
    "- 市场的波动幅度\n",
    "    - 波动**强**的市场，头寸规模适当**减小**\n",
    "    - 波动**弱**的市场，头寸规模适当**增大**"
   ]
  },
  {
   "cell_type": "markdown",
   "metadata": {
    "slideshow": {
     "slide_type": "skip"
    }
   },
   "source": [
    "买卖多少是交易中最重要的一个方面。大多数交易新手在单项交易中冒太大\n",
    "的风险，即使他们拥有其他方面有效的交易风格，这也大大增加了他们破产的机\n",
    "会。"
   ]
  },
  {
   "cell_type": "markdown",
   "metadata": {
    "slideshow": {
     "slide_type": "slide"
    }
   },
   "source": [
    "## 入场信号"
   ]
  },
  {
   "cell_type": "markdown",
   "metadata": {
    "slideshow": {
     "slide_type": "fragment"
    }
   },
   "source": [
    "<dl class=\"row\">\n",
    "    <dt class=\"col-md-4\">入场信号</dt>\n",
    "    <dd class=\"col-md-8\">决定何时开始建仓（加仓）的信号</dd>\n",
    "</dl>"
   ]
  },
  {
   "cell_type": "markdown",
   "metadata": {
    "slideshow": {
     "slide_type": "fragment"
    }
   },
   "source": [
    "### 信号的含义"
   ]
  },
  {
   "cell_type": "markdown",
   "metadata": {
    "slideshow": {
     "slide_type": "fragment"
    }
   },
   "source": [
    "- 趋势交易策略：价格形成**突破**"
   ]
  },
  {
   "cell_type": "markdown",
   "metadata": {
    "slideshow": {
     "slide_type": "fragment"
    }
   },
   "source": [
    "- 统计套利策略：价格差出现**异常**"
   ]
  },
  {
   "cell_type": "markdown",
   "metadata": {
    "slideshow": {
     "slide_type": "slide"
    }
   },
   "source": [
    "### 入场信号包含两种情形"
   ]
  },
  {
   "cell_type": "markdown",
   "metadata": {
    "slideshow": {
     "slide_type": "fragment"
    }
   },
   "source": [
    "- 初次建立仓位\n",
    "    - 趋势交易策略：技术分析指标\n",
    "    - 统计套利策略：价格差超过稳定阈值"
   ]
  },
  {
   "cell_type": "markdown",
   "metadata": {
    "slideshow": {
     "slide_type": "fragment"
    }
   },
   "source": [
    "- 加仓\n",
    "    - 盈利加仓？亏损加仓？"
   ]
  },
  {
   "cell_type": "markdown",
   "metadata": {
    "slideshow": {
     "slide_type": "slide"
    }
   },
   "source": [
    "- 盈利加仓"
   ]
  },
  {
   "cell_type": "markdown",
   "metadata": {
    "slideshow": {
     "slide_type": "fragment"
    }
   },
   "source": [
    "<center><img src=\"./img/strategy/winAdd.png\" width=100% /></center>"
   ]
  },
  {
   "cell_type": "markdown",
   "metadata": {
    "slideshow": {
     "slide_type": "slide"
    }
   },
   "source": [
    "- 亏损加仓"
   ]
  },
  {
   "cell_type": "markdown",
   "metadata": {
    "slideshow": {
     "slide_type": "fragment"
    }
   },
   "source": [
    "<center><img src=\"./img/strategy/lossAdd.png\" width=100%/></center>"
   ]
  },
  {
   "cell_type": "markdown",
   "metadata": {
    "slideshow": {
     "slide_type": "skip"
    }
   },
   "source": [
    "- 程序化交易的入市信号是由交易策略产生的\n",
    "\n",
    "自动运行的系统产生入市信号，这些信号说明了进入市场买卖的明确的价位和市场条件。"
   ]
  },
  {
   "cell_type": "markdown",
   "metadata": {
    "slideshow": {
     "slide_type": "slide"
    }
   },
   "source": [
    "## 离场信号"
   ]
  },
  {
   "cell_type": "markdown",
   "metadata": {
    "slideshow": {
     "slide_type": "fragment"
    }
   },
   "source": [
    "<dl class=\"row\">\n",
    "    <dt class=\"col-md-4\">离场信号</dt>\n",
    "    <dd class=\"col-md-8\">决定何时平调持有的头寸</dd>\n",
    "</dl>"
   ]
  },
  {
   "cell_type": "markdown",
   "metadata": {
    "slideshow": {
     "slide_type": "fragment"
    }
   },
   "source": [
    "- 离场信号包含\n",
    "    - 止盈\n",
    "    - 止损"
   ]
  },
  {
   "cell_type": "markdown",
   "metadata": {
    "slideshow": {
     "slide_type": "slide"
    }
   },
   "source": [
    "### 止盈"
   ]
  },
  {
   "cell_type": "markdown",
   "metadata": {
    "slideshow": {
     "slide_type": "fragment"
    }
   },
   "source": [
    "> 决定何时平掉持有的盈利头寸"
   ]
  },
  {
   "cell_type": "markdown",
   "metadata": {
    "slideshow": {
     "slide_type": "fragment"
    }
   },
   "source": [
    "- 是否有必要止盈？"
   ]
  },
  {
   "cell_type": "markdown",
   "metadata": {
    "slideshow": {
     "slide_type": "slide"
    }
   },
   "source": [
    "#### 止盈时机的选择"
   ]
  },
  {
   "cell_type": "markdown",
   "metadata": {
    "slideshow": {
     "slide_type": "fragment"
    }
   },
   "source": [
    "- 过早止盈：不能赚满整个趋势"
   ]
  },
  {
   "cell_type": "markdown",
   "metadata": {
    "slideshow": {
     "slide_type": "fragment"
    }
   },
   "source": [
    "<center><img src=\"./img/strategy/earlyWinExit.png\" width=100% /></center>"
   ]
  },
  {
   "cell_type": "markdown",
   "metadata": {
    "slideshow": {
     "slide_type": "slide"
    }
   },
   "source": [
    "- 过晚止盈：不能保住已经赚取的利润"
   ]
  },
  {
   "cell_type": "markdown",
   "metadata": {
    "slideshow": {
     "slide_type": "fragment"
    }
   },
   "source": [
    "<center><img src=\"./img/strategy/lateWinExit.png\" width=100% /></center>"
   ]
  },
  {
   "cell_type": "markdown",
   "metadata": {
    "slideshow": {
     "slide_type": "slide"
    }
   },
   "source": [
    "### 止损"
   ]
  },
  {
   "cell_type": "markdown",
   "metadata": {
    "slideshow": {
     "slide_type": "fragment"
    }
   },
   "source": [
    "> 决定何时平掉持有的亏损头寸"
   ]
  },
  {
   "cell_type": "markdown",
   "metadata": {
    "slideshow": {
     "slide_type": "fragment"
    }
   },
   "source": [
    "- 止损是在建立头寸之前，**预先**确定退出的价格位置"
   ]
  },
  {
   "cell_type": "markdown",
   "metadata": {
    "slideshow": {
     "slide_type": "fragment"
    }
   },
   "source": [
    "- 如果市场的波动触及止损价位，必须**每一次都毫无例外**退出"
   ]
  },
  {
   "cell_type": "markdown",
   "metadata": {
    "slideshow": {
     "slide_type": "fragment"
    }
   },
   "source": [
    "<center><img src=\"./img/strategy/stopLoss.png\" width=100%></center>"
   ]
  },
  {
   "cell_type": "markdown",
   "metadata": {
    "slideshow": {
     "slide_type": "skip"
    }
   },
   "source": [
    "长期来看，不会止住亏损的交易员不会取得成功。关于止亏，最重要的是在\n",
    "你建立头寸之前预先设定退出的点位。"
   ]
  },
  {
   "cell_type": "markdown",
   "metadata": {
    "slideshow": {
     "slide_type": "slide"
    }
   },
   "source": [
    "# “海龟”交易策略"
   ]
  },
  {
   "cell_type": "markdown",
   "metadata": {
    "slideshow": {
     "slide_type": "slide"
    }
   },
   "source": [
    "## 背景"
   ]
  },
  {
   "cell_type": "markdown",
   "metadata": {
    "slideshow": {
     "slide_type": "fragment"
    }
   },
   "source": [
    "> 伟大的交易员是天生造就还是后天培养的?\n"
   ]
  },
  {
   "cell_type": "markdown",
   "metadata": {
    "slideshow": {
     "slide_type": "fragment"
    }
   },
   "source": [
    "<center> <img src=\"./img/strategy/richard_dennis.jpg\" width=40%> </center>"
   ]
  },
  {
   "cell_type": "markdown",
   "metadata": {
    "slideshow": {
     "slide_type": "skip"
    }
   },
   "source": [
    "Richard Dennis是一个成功的交易员，他在1980年左右已经将他不到5000$的初始投资变成了1亿。\n",
    "他的合作伙伴William Eckhardt认为他的成功来自于他作为一个交易员的天分。\n",
    "但是Dennis不这样认为，他认为他的交易是建立在一套交易法则基础上的，任何人掌握了这套交易法则，将能够复制他的成功。\n",
    "最后他们决定做个实验来证实到底谁是对的。"
   ]
  },
  {
   "cell_type": "markdown",
   "metadata": {
    "slideshow": {
     "slide_type": "skip"
    }
   },
   "source": [
    "他们在《巴伦氏》、《华尔街期刊》和《纽约时报》上刊登了大幅广告，招聘交易学员。\n",
    "因为Richard或许是当时世界上最著名的交易员，所以有1000 多位申请人前来投奔他。他会见了其中的 80 位。\n",
    "这一群人精选出 13 个人。1983 年 12 月底，学员们\n",
    "被邀请到芝加哥进行两周的培训，到 1984 年 1 月初，学员们开始用小帐户进行交\n",
    "易。到了 2 月初，Richard给其中的大多数人提供了 50 万$\\sim$ 200 万美元的资金帐户。\n"
   ]
  },
  {
   "cell_type": "markdown",
   "metadata": {
    "slideshow": {
     "slide_type": "fragment"
    }
   },
   "source": [
    "- 从1000名报名者中挑选出13人\n",
    "- 1983 年 12 月底，学员们被邀请到芝加哥进行两周的培训\n",
    "- 1984 年初，Richard给其中的大多数人提供了 50 万$\\sim$ 200 万美元的资金帐用于交易\n",
    "- 学员们被称为“海龟”\n",
    "- 在随后的四年中海龟们取得了年均复利80%的收益"
   ]
  },
  {
   "cell_type": "markdown",
   "metadata": {
    "slideshow": {
     "slide_type": "skip"
    }
   },
   "source": [
    "\n",
    "学员们被称为“海龟”，因为Dennis相信他可以迅速的培养出交易员，就像新加坡的海龟培养员能迅速高效的培养出海龟一样。\n",
    "Dennis教授这些海龟们依靠科学的方法进行交易，以减少交易对心理的冲击，因为心理的脆弱最可能使得人们犯错误从而损失惨重。\n",
    "海龟成为交易史上最著名的实验，因为在随后的四年中海龟们取得了年均复利80%的收益。\n",
    "\n",
    "> Denniss证明了交易可以被传授。他证明了用一套简单的法则，他可以仅有很少或根本没有交易经验的人成为优秀的交易员。"
   ]
  },
  {
   "cell_type": "markdown",
   "metadata": {
    "slideshow": {
     "slide_type": "slide"
    }
   },
   "source": [
    "## 交易产品"
   ]
  },
  {
   "cell_type": "markdown",
   "metadata": {
    "slideshow": {
     "slide_type": "fragment"
    }
   },
   "source": [
    "- 芝加哥期货交易所（CBOT）    \n",
    "    - 30 年期美国长期国债（Treasury Bond）、10 年期美国中期国库券（Treasury Note）\n",
    "- 纽约咖啡可可与原糖交易所（NYCSC）    \n",
    "    - 咖啡、可可、原糖、棉花\n",
    "- 芝加哥商品交易所（CME）    \n",
    "    - 瑞士法郎、德国马克、英镑、法国法郎、日圆、加拿大元、标准普尔500股票指数、欧洲美元、天美国短期国库券（Treasury Bill）  \n",
    "- 纽约商品期货交易所（COMEX）    \n",
    "    - 黄金、白银、铜  \n",
    "- 纽约商业期货交易所（NYMEX）    \n",
    "    - 原油、燃油、无铅汽油 "
   ]
  },
  {
   "cell_type": "markdown",
   "metadata": {
    "slideshow": {
     "slide_type": "slide"
    }
   },
   "source": [
    "## 头寸规模"
   ]
  },
  {
   "cell_type": "markdown",
   "metadata": {
    "slideshow": {
     "slide_type": "fragment"
    }
   },
   "source": [
    "### 单位建仓量"
   ]
  },
  {
   "cell_type": "markdown",
   "metadata": {
    "slideshow": {
     "slide_type": "fragment"
    }
   },
   "source": [
    "- 计算当日实际波动范围（TR, True Range）：  \n",
    "  $$ \\text{TR} = \\max\\{\\text{H}-\\text{L}, \\lvert\\text{H}-\\text{PDC}\\rvert, \\lvert\\text{PDC}-\\text{L}\\rvert\\} $$\n",
    "  其中：  H——当日最高价，L——当日最低价，PDC——前个交易日的收盘价"
   ]
  },
  {
   "cell_type": "markdown",
   "metadata": {
    "slideshow": {
     "slide_type": "fragment"
    }
   },
   "source": [
    "<center><img src=\"./img/strategy/atr1.png\" width=80%></center>"
   ]
  },
  {
   "cell_type": "markdown",
   "metadata": {
    "slideshow": {
     "slide_type": "fragment"
    }
   },
   "source": [
    "- 计算 ATR (TR的20日平均）：  \n",
    "  $$ \\text{ATR}_t = (19\\times\\text{ATR}_{t-1} + \\text{TR})/20  $$ \n",
    "  其中：TR——当日的实际波动范围 "
   ]
  },
  {
   "cell_type": "markdown",
   "metadata": {
    "slideshow": {
     "slide_type": "slide"
    }
   },
   "source": [
    "<center><img src=\"./img/strategy/atr.png\" width=100%></center>"
   ]
  },
  {
   "cell_type": "markdown",
   "metadata": {
    "slideshow": {
     "slide_type": "slide"
    }
   },
   "source": [
    "- 计算单位建仓量\n",
    "   $$ \\text{1个建仓单位} = \\frac{\\text{帐户资金金额的}1\\%}{\\text{ATR}\\times\\text{每点价值量（交易单位）}} $$ "
   ]
  },
  {
   "cell_type": "markdown",
   "metadata": {
    "slideshow": {
     "slide_type": "slide"
    }
   },
   "source": [
    "### 最大头寸限制"
   ]
  },
  {
   "cell_type": "markdown",
   "metadata": {
    "slideshow": {
     "slide_type": "fragment"
    }
   },
   "source": [
    "<center>\n",
    "\n",
    "级别|类型|最大单位\n",
    "---|---|---   \n",
    "1|单一市场|4个单位\n",
    "2|高度相关市场|6个单位\n",
    "3|低度相关市场|10个单位  \n",
    "4|单向交易（多头或空头）|12个单位\n",
    "    \n",
    "</center>"
   ]
  },
  {
   "cell_type": "markdown",
   "metadata": {
    "slideshow": {
     "slide_type": "slide"
    }
   },
   "source": [
    "### 入市时机"
   ]
  },
  {
   "cell_type": "markdown",
   "metadata": {
    "slideshow": {
     "slide_type": "fragment"
    }
   },
   "source": [
    "> 以唐奇安通道(Donchian’s channel)突破作为入市时机"
   ]
  },
  {
   "cell_type": "markdown",
   "metadata": {
    "slideshow": {
     "slide_type": "fragment"
    }
   },
   "source": [
    "<dl class=\"row\"> \n",
    "    <dt class=\"col-md-4\">唐奇安通道</dt>\n",
    "    <dd class=\"col-md-8\">特定天数内的最高价和最低价组成的通道</dd>\n",
    "</dl>"
   ]
  },
  {
   "cell_type": "markdown",
   "metadata": {
    "slideshow": {
     "slide_type": "fragment"
    }
   },
   "source": [
    "<center><img src=\"./img/strategy/donchian.png\" width=100%></center>"
   ]
  },
  {
   "cell_type": "markdown",
   "metadata": {
    "slideshow": {
     "slide_type": "slide"
    }
   },
   "source": [
    "- 上线=$\\max（前T个交易日的最高价）$\n",
    "- 下线=$\\min（前T个交易日的最低价）$\n",
    "- 中线=（上线+下线）/2"
   ]
  },
  {
   "cell_type": "markdown",
   "metadata": {
    "slideshow": {
     "slide_type": "fragment"
    }
   },
   "source": [
    "- $T=20$，每个交易日结束之后更新当天的数据"
   ]
  },
  {
   "cell_type": "markdown",
   "metadata": {
    "slideshow": {
     "slide_type": "slide"
    }
   },
   "source": [
    "#### 初始建仓"
   ]
  },
  {
   "cell_type": "markdown",
   "metadata": {
    "slideshow": {
     "slide_type": "fragment"
    }
   },
   "source": [
    "- 如果当前价格<font color=\"red\"><strong>涨过</strong></font>了前20日的<font color=\"red\"><strong>最高价</strong></font>，建立1个单位**多头**寸\n",
    "- 如果当前价格<font color=\"green\"><strong>跌过</strong></font>了前20日的<font color=\"green\"><strong>最低价</strong></font>，建立1个单位**空头**寸。"
   ]
  },
  {
   "cell_type": "markdown",
   "metadata": {
    "slideshow": {
     "slide_type": "fragment"
    }
   },
   "source": [
    "> 在日间**突破发生时**进行交易，而不会等到每日收盘或次日开盘"
   ]
  },
  {
   "cell_type": "markdown",
   "metadata": {
    "slideshow": {
     "slide_type": "slide"
    }
   },
   "source": [
    "##### 读取螺纹钢日交易数据"
   ]
  },
  {
   "cell_type": "code",
   "execution_count": 107,
   "metadata": {
    "slideshow": {
     "slide_type": "fragment"
    }
   },
   "outputs": [
    {
     "data": {
      "text/html": [
       "<div>\n",
       "<style scoped>\n",
       "    .dataframe tbody tr th:only-of-type {\n",
       "        vertical-align: middle;\n",
       "    }\n",
       "\n",
       "    .dataframe tbody tr th {\n",
       "        vertical-align: top;\n",
       "    }\n",
       "\n",
       "    .dataframe thead th {\n",
       "        text-align: right;\n",
       "    }\n",
       "</style>\n",
       "<table border=\"1\" class=\"dataframe\">\n",
       "  <thead>\n",
       "    <tr style=\"text-align: right;\">\n",
       "      <th></th>\n",
       "      <th>ActionDay</th>\n",
       "      <th>Close</th>\n",
       "      <th>High</th>\n",
       "      <th>Low</th>\n",
       "    </tr>\n",
       "  </thead>\n",
       "  <tbody>\n",
       "    <tr>\n",
       "      <th>0</th>\n",
       "      <td>20160104</td>\n",
       "      <td>1775</td>\n",
       "      <td>1806</td>\n",
       "      <td>1773</td>\n",
       "    </tr>\n",
       "    <tr>\n",
       "      <th>1</th>\n",
       "      <td>20160105</td>\n",
       "      <td>1779</td>\n",
       "      <td>1790</td>\n",
       "      <td>1761</td>\n",
       "    </tr>\n",
       "    <tr>\n",
       "      <th>2</th>\n",
       "      <td>20160106</td>\n",
       "      <td>1783</td>\n",
       "      <td>1786</td>\n",
       "      <td>1766</td>\n",
       "    </tr>\n",
       "    <tr>\n",
       "      <th>3</th>\n",
       "      <td>20160107</td>\n",
       "      <td>1772</td>\n",
       "      <td>1786</td>\n",
       "      <td>1747</td>\n",
       "    </tr>\n",
       "    <tr>\n",
       "      <th>4</th>\n",
       "      <td>20160108</td>\n",
       "      <td>1752</td>\n",
       "      <td>1775</td>\n",
       "      <td>1750</td>\n",
       "    </tr>\n",
       "  </tbody>\n",
       "</table>\n",
       "</div>"
      ],
      "text/plain": [
       "   ActionDay  Close  High   Low\n",
       "0   20160104   1775  1806  1773\n",
       "1   20160105   1779  1790  1761\n",
       "2   20160106   1783  1786  1766\n",
       "3   20160107   1772  1786  1747\n",
       "4   20160108   1752  1775  1750"
      ]
     },
     "execution_count": 107,
     "metadata": {},
     "output_type": "execute_result"
    },
    {
     "data": {
      "text/plain": [
       "(1150, 4)"
      ]
     },
     "execution_count": 107,
     "metadata": {},
     "output_type": "execute_result"
    }
   ],
   "source": [
    "rbDaily = pd.read_csv('./data/strategy/rbDaily.csv')\n",
    "rbDaily.head()\n",
    "rbDaily.shape"
   ]
  },
  {
   "cell_type": "markdown",
   "metadata": {
    "slideshow": {
     "slide_type": "slide"
    }
   },
   "source": [
    "##### 计算TR"
   ]
  },
  {
   "cell_type": "code",
   "execution_count": 108,
   "metadata": {
    "slideshow": {
     "slide_type": "fragment"
    }
   },
   "outputs": [
    {
     "data": {
      "text/html": [
       "<div>\n",
       "<style scoped>\n",
       "    .dataframe tbody tr th:only-of-type {\n",
       "        vertical-align: middle;\n",
       "    }\n",
       "\n",
       "    .dataframe tbody tr th {\n",
       "        vertical-align: top;\n",
       "    }\n",
       "\n",
       "    .dataframe thead th {\n",
       "        text-align: right;\n",
       "    }\n",
       "</style>\n",
       "<table border=\"1\" class=\"dataframe\">\n",
       "  <thead>\n",
       "    <tr style=\"text-align: right;\">\n",
       "      <th></th>\n",
       "      <th>ActionDay</th>\n",
       "      <th>Close</th>\n",
       "      <th>High</th>\n",
       "      <th>Low</th>\n",
       "      <th>TR</th>\n",
       "    </tr>\n",
       "  </thead>\n",
       "  <tbody>\n",
       "    <tr>\n",
       "      <th>1145</th>\n",
       "      <td>20200826</td>\n",
       "      <td>3787</td>\n",
       "      <td>3793</td>\n",
       "      <td>3771</td>\n",
       "      <td>22.0</td>\n",
       "    </tr>\n",
       "    <tr>\n",
       "      <th>1146</th>\n",
       "      <td>20200827</td>\n",
       "      <td>3768</td>\n",
       "      <td>3796</td>\n",
       "      <td>3761</td>\n",
       "      <td>35.0</td>\n",
       "    </tr>\n",
       "    <tr>\n",
       "      <th>1147</th>\n",
       "      <td>20200828</td>\n",
       "      <td>3787</td>\n",
       "      <td>3789</td>\n",
       "      <td>3766</td>\n",
       "      <td>23.0</td>\n",
       "    </tr>\n",
       "    <tr>\n",
       "      <th>1148</th>\n",
       "      <td>20200831</td>\n",
       "      <td>3815</td>\n",
       "      <td>3829</td>\n",
       "      <td>3793</td>\n",
       "      <td>42.0</td>\n",
       "    </tr>\n",
       "    <tr>\n",
       "      <th>1149</th>\n",
       "      <td>20200901</td>\n",
       "      <td>3774</td>\n",
       "      <td>3818</td>\n",
       "      <td>3769</td>\n",
       "      <td>49.0</td>\n",
       "    </tr>\n",
       "  </tbody>\n",
       "</table>\n",
       "</div>"
      ],
      "text/plain": [
       "      ActionDay  Close  High   Low    TR\n",
       "1145   20200826   3787  3793  3771  22.0\n",
       "1146   20200827   3768  3796  3761  35.0\n",
       "1147   20200828   3787  3789  3766  23.0\n",
       "1148   20200831   3815  3829  3793  42.0\n",
       "1149   20200901   3774  3818  3769  49.0"
      ]
     },
     "execution_count": 108,
     "metadata": {},
     "output_type": "execute_result"
    }
   ],
   "source": [
    "for idx, row in rbDaily.iterrows():\n",
    "    if idx == 0:\n",
    "        rbDaily.loc[idx,'TR'] = row['High'] - row['Low']\n",
    "    else:\n",
    "        rbDaily.loc[idx,'TR'] = max(row['High'] - row['Low'],np.abs(rbDaily.loc[idx-1,'Close']-row['High']),np.abs(rbDaily.loc[idx-1,'Close']-row['High']))\n",
    "rbDaily.tail()"
   ]
  },
  {
   "cell_type": "markdown",
   "metadata": {
    "slideshow": {
     "slide_type": "slide"
    }
   },
   "source": [
    "##### 计算ATR"
   ]
  },
  {
   "cell_type": "code",
   "execution_count": 109,
   "metadata": {
    "scrolled": true,
    "slideshow": {
     "slide_type": "fragment"
    }
   },
   "outputs": [
    {
     "data": {
      "text/html": [
       "<div>\n",
       "<style scoped>\n",
       "    .dataframe tbody tr th:only-of-type {\n",
       "        vertical-align: middle;\n",
       "    }\n",
       "\n",
       "    .dataframe tbody tr th {\n",
       "        vertical-align: top;\n",
       "    }\n",
       "\n",
       "    .dataframe thead th {\n",
       "        text-align: right;\n",
       "    }\n",
       "</style>\n",
       "<table border=\"1\" class=\"dataframe\">\n",
       "  <thead>\n",
       "    <tr style=\"text-align: right;\">\n",
       "      <th></th>\n",
       "      <th>ActionDay</th>\n",
       "      <th>Close</th>\n",
       "      <th>High</th>\n",
       "      <th>Low</th>\n",
       "      <th>TR</th>\n",
       "      <th>ATR</th>\n",
       "    </tr>\n",
       "  </thead>\n",
       "  <tbody>\n",
       "    <tr>\n",
       "      <th>0</th>\n",
       "      <td>20160104</td>\n",
       "      <td>1775</td>\n",
       "      <td>1806</td>\n",
       "      <td>1773</td>\n",
       "      <td>33.0</td>\n",
       "      <td>NaN</td>\n",
       "    </tr>\n",
       "    <tr>\n",
       "      <th>1</th>\n",
       "      <td>20160105</td>\n",
       "      <td>1779</td>\n",
       "      <td>1790</td>\n",
       "      <td>1761</td>\n",
       "      <td>29.0</td>\n",
       "      <td>NaN</td>\n",
       "    </tr>\n",
       "    <tr>\n",
       "      <th>2</th>\n",
       "      <td>20160106</td>\n",
       "      <td>1783</td>\n",
       "      <td>1786</td>\n",
       "      <td>1766</td>\n",
       "      <td>20.0</td>\n",
       "      <td>NaN</td>\n",
       "    </tr>\n",
       "    <tr>\n",
       "      <th>3</th>\n",
       "      <td>20160107</td>\n",
       "      <td>1772</td>\n",
       "      <td>1786</td>\n",
       "      <td>1747</td>\n",
       "      <td>39.0</td>\n",
       "      <td>NaN</td>\n",
       "    </tr>\n",
       "    <tr>\n",
       "      <th>4</th>\n",
       "      <td>20160108</td>\n",
       "      <td>1752</td>\n",
       "      <td>1775</td>\n",
       "      <td>1750</td>\n",
       "      <td>25.0</td>\n",
       "      <td>NaN</td>\n",
       "    </tr>\n",
       "    <tr>\n",
       "      <th>5</th>\n",
       "      <td>20160109</td>\n",
       "      <td>1754</td>\n",
       "      <td>1756</td>\n",
       "      <td>1748</td>\n",
       "      <td>8.0</td>\n",
       "      <td>NaN</td>\n",
       "    </tr>\n",
       "    <tr>\n",
       "      <th>6</th>\n",
       "      <td>20160111</td>\n",
       "      <td>1753</td>\n",
       "      <td>1772</td>\n",
       "      <td>1750</td>\n",
       "      <td>22.0</td>\n",
       "      <td>NaN</td>\n",
       "    </tr>\n",
       "    <tr>\n",
       "      <th>7</th>\n",
       "      <td>20160112</td>\n",
       "      <td>1744</td>\n",
       "      <td>1759</td>\n",
       "      <td>1735</td>\n",
       "      <td>24.0</td>\n",
       "      <td>NaN</td>\n",
       "    </tr>\n",
       "    <tr>\n",
       "      <th>8</th>\n",
       "      <td>20160113</td>\n",
       "      <td>1740</td>\n",
       "      <td>1748</td>\n",
       "      <td>1736</td>\n",
       "      <td>12.0</td>\n",
       "      <td>NaN</td>\n",
       "    </tr>\n",
       "    <tr>\n",
       "      <th>9</th>\n",
       "      <td>20160114</td>\n",
       "      <td>1773</td>\n",
       "      <td>1777</td>\n",
       "      <td>1732</td>\n",
       "      <td>45.0</td>\n",
       "      <td>NaN</td>\n",
       "    </tr>\n",
       "    <tr>\n",
       "      <th>10</th>\n",
       "      <td>20160115</td>\n",
       "      <td>1794</td>\n",
       "      <td>1796</td>\n",
       "      <td>1760</td>\n",
       "      <td>36.0</td>\n",
       "      <td>NaN</td>\n",
       "    </tr>\n",
       "    <tr>\n",
       "      <th>11</th>\n",
       "      <td>20160116</td>\n",
       "      <td>1797</td>\n",
       "      <td>1798</td>\n",
       "      <td>1792</td>\n",
       "      <td>6.0</td>\n",
       "      <td>NaN</td>\n",
       "    </tr>\n",
       "    <tr>\n",
       "      <th>12</th>\n",
       "      <td>20160118</td>\n",
       "      <td>1826</td>\n",
       "      <td>1832</td>\n",
       "      <td>1793</td>\n",
       "      <td>39.0</td>\n",
       "      <td>NaN</td>\n",
       "    </tr>\n",
       "    <tr>\n",
       "      <th>13</th>\n",
       "      <td>20160119</td>\n",
       "      <td>1834</td>\n",
       "      <td>1842</td>\n",
       "      <td>1817</td>\n",
       "      <td>25.0</td>\n",
       "      <td>NaN</td>\n",
       "    </tr>\n",
       "    <tr>\n",
       "      <th>14</th>\n",
       "      <td>20160120</td>\n",
       "      <td>1812</td>\n",
       "      <td>1836</td>\n",
       "      <td>1805</td>\n",
       "      <td>31.0</td>\n",
       "      <td>NaN</td>\n",
       "    </tr>\n",
       "    <tr>\n",
       "      <th>15</th>\n",
       "      <td>20160121</td>\n",
       "      <td>1829</td>\n",
       "      <td>1832</td>\n",
       "      <td>1806</td>\n",
       "      <td>26.0</td>\n",
       "      <td>NaN</td>\n",
       "    </tr>\n",
       "    <tr>\n",
       "      <th>16</th>\n",
       "      <td>20160122</td>\n",
       "      <td>1835</td>\n",
       "      <td>1855</td>\n",
       "      <td>1820</td>\n",
       "      <td>35.0</td>\n",
       "      <td>NaN</td>\n",
       "    </tr>\n",
       "    <tr>\n",
       "      <th>17</th>\n",
       "      <td>20160123</td>\n",
       "      <td>1831</td>\n",
       "      <td>1837</td>\n",
       "      <td>1830</td>\n",
       "      <td>7.0</td>\n",
       "      <td>NaN</td>\n",
       "    </tr>\n",
       "    <tr>\n",
       "      <th>18</th>\n",
       "      <td>20160125</td>\n",
       "      <td>1837</td>\n",
       "      <td>1855</td>\n",
       "      <td>1832</td>\n",
       "      <td>24.0</td>\n",
       "      <td>NaN</td>\n",
       "    </tr>\n",
       "    <tr>\n",
       "      <th>19</th>\n",
       "      <td>20160126</td>\n",
       "      <td>1854</td>\n",
       "      <td>1856</td>\n",
       "      <td>1834</td>\n",
       "      <td>22.0</td>\n",
       "      <td>25.400000</td>\n",
       "    </tr>\n",
       "    <tr>\n",
       "      <th>20</th>\n",
       "      <td>20160127</td>\n",
       "      <td>1847</td>\n",
       "      <td>1871</td>\n",
       "      <td>1845</td>\n",
       "      <td>26.0</td>\n",
       "      <td>25.430000</td>\n",
       "    </tr>\n",
       "    <tr>\n",
       "      <th>21</th>\n",
       "      <td>20160128</td>\n",
       "      <td>1810</td>\n",
       "      <td>1853</td>\n",
       "      <td>1809</td>\n",
       "      <td>44.0</td>\n",
       "      <td>26.358500</td>\n",
       "    </tr>\n",
       "    <tr>\n",
       "      <th>22</th>\n",
       "      <td>20160129</td>\n",
       "      <td>1844</td>\n",
       "      <td>1845</td>\n",
       "      <td>1805</td>\n",
       "      <td>40.0</td>\n",
       "      <td>27.040575</td>\n",
       "    </tr>\n",
       "    <tr>\n",
       "      <th>23</th>\n",
       "      <td>20160130</td>\n",
       "      <td>1835</td>\n",
       "      <td>1845</td>\n",
       "      <td>1834</td>\n",
       "      <td>11.0</td>\n",
       "      <td>26.238546</td>\n",
       "    </tr>\n",
       "    <tr>\n",
       "      <th>24</th>\n",
       "      <td>20160201</td>\n",
       "      <td>1817</td>\n",
       "      <td>1839</td>\n",
       "      <td>1807</td>\n",
       "      <td>32.0</td>\n",
       "      <td>26.526619</td>\n",
       "    </tr>\n",
       "    <tr>\n",
       "      <th>25</th>\n",
       "      <td>20160202</td>\n",
       "      <td>1816</td>\n",
       "      <td>1828</td>\n",
       "      <td>1801</td>\n",
       "      <td>27.0</td>\n",
       "      <td>26.550288</td>\n",
       "    </tr>\n",
       "    <tr>\n",
       "      <th>26</th>\n",
       "      <td>20160203</td>\n",
       "      <td>1838</td>\n",
       "      <td>1844</td>\n",
       "      <td>1807</td>\n",
       "      <td>37.0</td>\n",
       "      <td>27.072774</td>\n",
       "    </tr>\n",
       "    <tr>\n",
       "      <th>27</th>\n",
       "      <td>20160204</td>\n",
       "      <td>1843</td>\n",
       "      <td>1862</td>\n",
       "      <td>1836</td>\n",
       "      <td>26.0</td>\n",
       "      <td>27.019135</td>\n",
       "    </tr>\n",
       "    <tr>\n",
       "      <th>28</th>\n",
       "      <td>20160205</td>\n",
       "      <td>1843</td>\n",
       "      <td>1845</td>\n",
       "      <td>1826</td>\n",
       "      <td>19.0</td>\n",
       "      <td>26.618178</td>\n",
       "    </tr>\n",
       "    <tr>\n",
       "      <th>29</th>\n",
       "      <td>20160215</td>\n",
       "      <td>1875</td>\n",
       "      <td>1880</td>\n",
       "      <td>1834</td>\n",
       "      <td>46.0</td>\n",
       "      <td>27.587269</td>\n",
       "    </tr>\n",
       "  </tbody>\n",
       "</table>\n",
       "</div>"
      ],
      "text/plain": [
       "    ActionDay  Close  High   Low    TR        ATR\n",
       "0    20160104   1775  1806  1773  33.0        NaN\n",
       "1    20160105   1779  1790  1761  29.0        NaN\n",
       "2    20160106   1783  1786  1766  20.0        NaN\n",
       "3    20160107   1772  1786  1747  39.0        NaN\n",
       "4    20160108   1752  1775  1750  25.0        NaN\n",
       "5    20160109   1754  1756  1748   8.0        NaN\n",
       "6    20160111   1753  1772  1750  22.0        NaN\n",
       "7    20160112   1744  1759  1735  24.0        NaN\n",
       "8    20160113   1740  1748  1736  12.0        NaN\n",
       "9    20160114   1773  1777  1732  45.0        NaN\n",
       "10   20160115   1794  1796  1760  36.0        NaN\n",
       "11   20160116   1797  1798  1792   6.0        NaN\n",
       "12   20160118   1826  1832  1793  39.0        NaN\n",
       "13   20160119   1834  1842  1817  25.0        NaN\n",
       "14   20160120   1812  1836  1805  31.0        NaN\n",
       "15   20160121   1829  1832  1806  26.0        NaN\n",
       "16   20160122   1835  1855  1820  35.0        NaN\n",
       "17   20160123   1831  1837  1830   7.0        NaN\n",
       "18   20160125   1837  1855  1832  24.0        NaN\n",
       "19   20160126   1854  1856  1834  22.0  25.400000\n",
       "20   20160127   1847  1871  1845  26.0  25.430000\n",
       "21   20160128   1810  1853  1809  44.0  26.358500\n",
       "22   20160129   1844  1845  1805  40.0  27.040575\n",
       "23   20160130   1835  1845  1834  11.0  26.238546\n",
       "24   20160201   1817  1839  1807  32.0  26.526619\n",
       "25   20160202   1816  1828  1801  27.0  26.550288\n",
       "26   20160203   1838  1844  1807  37.0  27.072774\n",
       "27   20160204   1843  1862  1836  26.0  27.019135\n",
       "28   20160205   1843  1845  1826  19.0  26.618178\n",
       "29   20160215   1875  1880  1834  46.0  27.587269"
      ]
     },
     "execution_count": 109,
     "metadata": {},
     "output_type": "execute_result"
    }
   ],
   "source": [
    "rbDaily.loc[19,'ATR'] = rbDaily.loc[:19,'TR'].sum()/20\n",
    "for idx, row in rbDaily.iterrows():\n",
    "    if idx > 19:\n",
    "        rbDaily.loc[idx,'ATR'] = (19*rbDaily.loc[idx-1,'ATR']+row['TR'])/20\n",
    "\n",
    "rbDaily.head(30)"
   ]
  },
  {
   "cell_type": "markdown",
   "metadata": {
    "slideshow": {
     "slide_type": "slide"
    }
   },
   "source": [
    "##### 计算单位头寸"
   ]
  },
  {
   "cell_type": "code",
   "execution_count": 110,
   "metadata": {
    "scrolled": true,
    "slideshow": {
     "slide_type": "fragment"
    }
   },
   "outputs": [
    {
     "data": {
      "text/html": [
       "<div>\n",
       "<style scoped>\n",
       "    .dataframe tbody tr th:only-of-type {\n",
       "        vertical-align: middle;\n",
       "    }\n",
       "\n",
       "    .dataframe tbody tr th {\n",
       "        vertical-align: top;\n",
       "    }\n",
       "\n",
       "    .dataframe thead th {\n",
       "        text-align: right;\n",
       "    }\n",
       "</style>\n",
       "<table border=\"1\" class=\"dataframe\">\n",
       "  <thead>\n",
       "    <tr style=\"text-align: right;\">\n",
       "      <th></th>\n",
       "      <th>ActionDay</th>\n",
       "      <th>Close</th>\n",
       "      <th>High</th>\n",
       "      <th>Low</th>\n",
       "      <th>TR</th>\n",
       "      <th>ATR</th>\n",
       "    </tr>\n",
       "  </thead>\n",
       "  <tbody>\n",
       "    <tr>\n",
       "      <th>1145</th>\n",
       "      <td>20200826</td>\n",
       "      <td>3787</td>\n",
       "      <td>3793</td>\n",
       "      <td>3771</td>\n",
       "      <td>22.0</td>\n",
       "      <td>46.155819</td>\n",
       "    </tr>\n",
       "    <tr>\n",
       "      <th>1146</th>\n",
       "      <td>20200827</td>\n",
       "      <td>3768</td>\n",
       "      <td>3796</td>\n",
       "      <td>3761</td>\n",
       "      <td>35.0</td>\n",
       "      <td>45.598028</td>\n",
       "    </tr>\n",
       "    <tr>\n",
       "      <th>1147</th>\n",
       "      <td>20200828</td>\n",
       "      <td>3787</td>\n",
       "      <td>3789</td>\n",
       "      <td>3766</td>\n",
       "      <td>23.0</td>\n",
       "      <td>44.468126</td>\n",
       "    </tr>\n",
       "    <tr>\n",
       "      <th>1148</th>\n",
       "      <td>20200831</td>\n",
       "      <td>3815</td>\n",
       "      <td>3829</td>\n",
       "      <td>3793</td>\n",
       "      <td>42.0</td>\n",
       "      <td>44.344720</td>\n",
       "    </tr>\n",
       "    <tr>\n",
       "      <th>1149</th>\n",
       "      <td>20200901</td>\n",
       "      <td>3774</td>\n",
       "      <td>3818</td>\n",
       "      <td>3769</td>\n",
       "      <td>49.0</td>\n",
       "      <td>44.577484</td>\n",
       "    </tr>\n",
       "  </tbody>\n",
       "</table>\n",
       "</div>"
      ],
      "text/plain": [
       "      ActionDay  Close  High   Low    TR        ATR\n",
       "1145   20200826   3787  3793  3771  22.0  46.155819\n",
       "1146   20200827   3768  3796  3761  35.0  45.598028\n",
       "1147   20200828   3787  3789  3766  23.0  44.468126\n",
       "1148   20200831   3815  3829  3793  42.0  44.344720\n",
       "1149   20200901   3774  3818  3769  49.0  44.577484"
      ]
     },
     "execution_count": 110,
     "metadata": {},
     "output_type": "execute_result"
    }
   ],
   "source": [
    "rbDaily.tail()"
   ]
  },
  {
   "cell_type": "code",
   "execution_count": 116,
   "metadata": {
    "slideshow": {
     "slide_type": "fragment"
    }
   },
   "outputs": [
    {
     "data": {
      "text/plain": [
       "21.665740746075873"
      ]
     },
     "execution_count": 116,
     "metadata": {},
     "output_type": "execute_result"
    }
   ],
   "source": [
    "rawUnit = 1000000*0.01/(rbDaily.loc[1145,'ATR']*10)\n",
    "rawUnit"
   ]
  },
  {
   "cell_type": "code",
   "execution_count": 117,
   "metadata": {
    "slideshow": {
     "slide_type": "fragment"
    }
   },
   "outputs": [
    {
     "data": {
      "text/plain": [
       "21.0"
      ]
     },
     "execution_count": 117,
     "metadata": {},
     "output_type": "execute_result"
    }
   ],
   "source": [
    "unit = np.floor(rawUnit)\n",
    "unit"
   ]
  },
  {
   "cell_type": "markdown",
   "metadata": {
    "slideshow": {
     "slide_type": "slide"
    }
   },
   "source": [
    "#### 加仓 "
   ]
  },
  {
   "cell_type": "markdown",
   "metadata": {
    "slideshow": {
     "slide_type": "fragment"
    }
   },
   "source": [
    "- 在上一次实际成交价格的基础上，以$\\frac{1}{2}$ATR的间隔增加头寸"
   ]
  },
  {
   "cell_type": "markdown",
   "metadata": {
    "slideshow": {
     "slide_type": "fragment"
    }
   },
   "source": [
    "- 假设rb的建仓价格为3800，ATR=46\n",
    "    - 第1个单位头寸：$3800$\n",
    "    - 第2个单位头寸：$3800+1/2*46=3823$\n",
    "    - 第3个单位头寸：$3823+1/2*46=3846$\n",
    "    - 第4个单位头寸：$3846+1/2*46=3869$"
   ]
  },
  {
   "cell_type": "markdown",
   "metadata": {
    "slideshow": {
     "slide_type": "slide"
    }
   },
   "source": [
    "### 止损"
   ]
  },
  {
   "cell_type": "markdown",
   "metadata": {
    "slideshow": {
     "slide_type": "fragment"
    }
   },
   "source": [
    "> 以头寸风险为基础设置止损，任何一笔交易都不能出现 2%以上的风险"
   ]
  },
  {
   "cell_type": "markdown",
   "metadata": {
    "slideshow": {
     "slide_type": "fragment"
    }
   },
   "source": [
    "- 因为1个ATR对应的价格波动代表1%的账户权益，因此2%的风险对应价格相对于建仓方向反向波动**2个ATR**"
   ]
  },
  {
   "cell_type": "markdown",
   "metadata": {
    "slideshow": {
     "slide_type": "fragment"
    }
   },
   "source": [
    "- 例如，在3800元/吨建立第一个单位的rb头寸，则止损价位为：\n",
    "    - $3800-2\\times 46=3708$"
   ]
  },
  {
   "cell_type": "markdown",
   "metadata": {
    "slideshow": {
     "slide_type": "slide"
    }
   },
   "source": [
    "> 海龟系统的止损能够适应市场的波动性"
   ]
  },
  {
   "cell_type": "markdown",
   "metadata": {
    "slideshow": {
     "slide_type": "fragment"
    }
   },
   "source": [
    "- 加仓之后，前面仓位的止损价格增加$\\frac{1}{2}$ATR，导致所有仓位的止损价格距离最近加仓价格的距离为2ATR"
   ]
  },
  {
   "cell_type": "markdown",
   "metadata": {
    "slideshow": {
     "slide_type": "fragment"
    }
   },
   "source": [
    "<center><img src=\"./img/strategy/stopLevel.png\" width=80%></center>"
   ]
  },
  {
   "cell_type": "markdown",
   "metadata": {
    "slideshow": {
     "slide_type": "slide"
    }
   },
   "source": [
    "### 止盈"
   ]
  },
  {
   "cell_type": "markdown",
   "metadata": {
    "slideshow": {
     "slide_type": "fragment"
    }
   },
   "source": [
    "- 如果持有多头头寸，则当价格跌破 10 日最低价的时候离场\n",
    "- 如果持有空头头寸，则当价格涨过10 日最高价的时候离场"
   ]
  },
  {
   "cell_type": "markdown",
   "metadata": {
    "slideshow": {
     "slide_type": "skip"
    }
   },
   "source": [
    "海龟交易系统是一个完整的交易系统，它包括了交易的各个方面，实际上没\n",
    "有给交易员留下一点主观想象决策的余地。\n",
    "海龟策略从本质上讲是一个趋势跟随模型，通过唐安奇通道等突破方法确定入场和离场信号。海龟交易法则与其说是策略，不如说是一套系统，它不仅决定买卖什么、买卖多少、什么时候买卖、什么时候止损，还决定具体怎么买卖。"
   ]
  }
 ],
 "metadata": {
  "celltoolbar": "幻灯片",
  "hide_input": false,
  "kernelspec": {
   "display_name": "Python 3",
   "language": "python",
   "name": "python3"
  },
  "language_info": {
   "codemirror_mode": {
    "name": "ipython",
    "version": 3
   },
   "file_extension": ".py",
   "mimetype": "text/x-python",
   "name": "python",
   "nbconvert_exporter": "python",
   "pygments_lexer": "ipython3",
   "version": "3.6.8"
  },
  "toc": {
   "base_numbering": 1,
   "nav_menu": {},
   "number_sections": true,
   "sideBar": true,
   "skip_h1_title": false,
   "title_cell": "Table of Contents",
   "title_sidebar": "Contents",
   "toc_cell": false,
   "toc_position": {
    "height": "666.977px",
    "left": "46px",
    "top": "0px",
    "width": "219.5px"
   },
   "toc_section_display": true,
   "toc_window_display": true
  }
 },
 "nbformat": 4,
 "nbformat_minor": 2
}
