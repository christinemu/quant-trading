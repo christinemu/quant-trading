{
 "cells": [
  {
   "cell_type": "code",
   "execution_count": 2,
   "metadata": {
    "slideshow": {
     "slide_type": "notes"
    }
   },
   "outputs": [
    {
     "name": "stderr",
     "output_type": "stream",
     "text": [
      "/home/VENV36/lib/python3.6/site-packages/pandas/compat/__init__.py:117: UserWarning: Could not import the lzma module. Your installed Python is incomplete. Attempting to use lzma compression will result in a RuntimeError.\n",
      "  warnings.warn(msg)\n"
     ]
    }
   ],
   "source": [
    "import pandas as pd\n",
    "import numpy as np\n",
    "from datetime import datetime\n",
    "import mplfinance as mpl\n",
    "import matplotlib.pyplot as plt\n",
    "import pandas_datareader.data as web\n",
    "from IPython.core.interactiveshell import InteractiveShell\n",
    "InteractiveShell.ast_node_interactivity = \"all\"\n",
    "from pandas.plotting import register_matplotlib_converters\n",
    "register_matplotlib_converters()"
   ]
  },
  {
   "cell_type": "markdown",
   "metadata": {
    "slideshow": {
     "slide_type": "slide"
    }
   },
   "source": [
    "<div class=\"jumbotron\">\n",
    "    <p class=\"display-1 h1\">量化交易策略</p>\n",
    "    <hr class=\"my-4\">\n",
    "    <p>主讲：李岩</p>\n",
    "    <p>管理学院</p>\n",
    "    <p>liyan@cumtb.edu.cn</p>\n",
    "</div>"
   ]
  },
  {
   "cell_type": "markdown",
   "metadata": {
    "slideshow": {
     "slide_type": "slide"
    }
   },
   "source": [
    "# 交易策略"
   ]
  },
  {
   "cell_type": "markdown",
   "metadata": {
    "slideshow": {
     "slide_type": "fragment"
    }
   },
   "source": [
    "<dl class=\"row text-danger\">\n",
    "    <dt class=\"col-md-4\">交易策略</dt>\n",
    "    <dd class=\"col-md-8\">交易策略是交易员进行交易时遵循的交易规则</dd>\n",
    "</dl>"
   ]
  },
  {
   "cell_type": "markdown",
   "metadata": {
    "slideshow": {
     "slide_type": "slide"
    }
   },
   "source": [
    "## 量化交易策略的分类"
   ]
  },
  {
   "cell_type": "markdown",
   "metadata": {
    "slideshow": {
     "slide_type": "fragment"
    }
   },
   "source": [
    "<center><img src=\"./img/strategy/strategyType.png\" width=100%></center>"
   ]
  },
  {
   "cell_type": "markdown",
   "metadata": {
    "slideshow": {
     "slide_type": "slide"
    }
   },
   "source": [
    "## 趋势追踪策略"
   ]
  },
  {
   "cell_type": "markdown",
   "metadata": {
    "slideshow": {
     "slide_type": "fragment"
    }
   },
   "source": [
    "- 一旦市场形成下降（或上升）趋势后，就将沿着原方向运行"
   ]
  },
  {
   "cell_type": "markdown",
   "metadata": {
    "slideshow": {
     "slide_type": "fragment"
    }
   },
   "source": [
    "- 趋势策略的来源：\n",
    "    - 市场并非有效，有限理性决策者对信息的解读和操作不同\n",
    "    - 价格以趋势方式演变"
   ]
  },
  {
   "cell_type": "markdown",
   "metadata": {
    "slideshow": {
     "slide_type": "slide"
    }
   },
   "source": [
    "### 趋势"
   ]
  },
  {
   "cell_type": "markdown",
   "metadata": {
    "slideshow": {
     "slide_type": "fragment"
    }
   },
   "source": [
    "<dl class=\"row\">\n",
    "    <dt class=\"col-md-2\">趋势</dt>\n",
    "    <dd class=\"col-md-10\">价格<strong>高点</strong>和<strong>低点</strong>随时间的移动</dd>\n",
    "</dl>"
   ]
  },
  {
   "cell_type": "markdown",
   "metadata": {
    "slideshow": {
     "slide_type": "fragment"
    }
   },
   "source": [
    "- 上升趋势(uptrends)：由不断**升高的高点**和不断**升高的低点**构成\n",
    "- 下降趋势(downtrends)：由不断**降低的低点**和**不断降低的高点**构成\n",
    "- 震荡(sideways)：当高点和低点没有上述变化规律的时候构成震荡，或称作“横向整理”"
   ]
  },
  {
   "cell_type": "markdown",
   "metadata": {
    "slideshow": {
     "slide_type": "fragment"
    }
   },
   "source": [
    "<center>\n",
    "<img src=\"./img/strategy/updownsideways.png\" width=50%>   \n",
    "</center>"
   ]
  },
  {
   "cell_type": "markdown",
   "metadata": {
    "slideshow": {
     "slide_type": "slide"
    }
   },
   "source": [
    "### 趋势判断方法"
   ]
  },
  {
   "cell_type": "markdown",
   "metadata": {
    "slideshow": {
     "slide_type": "fragment"
    }
   },
   "source": [
    "- 设置价格正常波动范围（通道），当价格突破该范围时，认为出现趋势"
   ]
  },
  {
   "cell_type": "markdown",
   "metadata": {
    "slideshow": {
     "slide_type": "fragment"
    }
   },
   "source": [
    "<center><img src=\"./img/strategy/bands.jfif\" width=60%></center>"
   ]
  },
  {
   "cell_type": "markdown",
   "metadata": {
    "slideshow": {
     "slide_type": "slide"
    }
   },
   "source": [
    "- 通过价格的长短期移动平均线的相对位置来判断趋势"
   ]
  },
  {
   "cell_type": "code",
   "execution_count": 4,
   "metadata": {
    "slideshow": {
     "slide_type": "slide"
    }
   },
   "outputs": [
    {
     "data": {
      "text/html": [
       "<div>\n",
       "<style scoped>\n",
       "    .dataframe tbody tr th:only-of-type {\n",
       "        vertical-align: middle;\n",
       "    }\n",
       "\n",
       "    .dataframe tbody tr th {\n",
       "        vertical-align: top;\n",
       "    }\n",
       "\n",
       "    .dataframe thead th {\n",
       "        text-align: right;\n",
       "    }\n",
       "</style>\n",
       "<table border=\"1\" class=\"dataframe\">\n",
       "  <thead>\n",
       "    <tr style=\"text-align: right;\">\n",
       "      <th></th>\n",
       "      <th>Open</th>\n",
       "      <th>High</th>\n",
       "      <th>Low</th>\n",
       "      <th>Close</th>\n",
       "      <th>Volume</th>\n",
       "    </tr>\n",
       "    <tr>\n",
       "      <th>Date</th>\n",
       "      <th></th>\n",
       "      <th></th>\n",
       "      <th></th>\n",
       "      <th></th>\n",
       "      <th></th>\n",
       "    </tr>\n",
       "  </thead>\n",
       "  <tbody>\n",
       "    <tr>\n",
       "      <th>2020-09-08</th>\n",
       "      <td>113.95</td>\n",
       "      <td>118.99</td>\n",
       "      <td>112.68</td>\n",
       "      <td>112.82</td>\n",
       "      <td>231366563</td>\n",
       "    </tr>\n",
       "    <tr>\n",
       "      <th>2020-09-04</th>\n",
       "      <td>120.07</td>\n",
       "      <td>123.70</td>\n",
       "      <td>110.89</td>\n",
       "      <td>120.96</td>\n",
       "      <td>332607163</td>\n",
       "    </tr>\n",
       "    <tr>\n",
       "      <th>2020-09-03</th>\n",
       "      <td>126.91</td>\n",
       "      <td>128.84</td>\n",
       "      <td>120.50</td>\n",
       "      <td>120.88</td>\n",
       "      <td>257599640</td>\n",
       "    </tr>\n",
       "    <tr>\n",
       "      <th>2020-09-02</th>\n",
       "      <td>137.59</td>\n",
       "      <td>137.98</td>\n",
       "      <td>127.00</td>\n",
       "      <td>131.40</td>\n",
       "      <td>200118991</td>\n",
       "    </tr>\n",
       "    <tr>\n",
       "      <th>2020-09-01</th>\n",
       "      <td>132.76</td>\n",
       "      <td>134.80</td>\n",
       "      <td>130.53</td>\n",
       "      <td>134.18</td>\n",
       "      <td>152470142</td>\n",
       "    </tr>\n",
       "  </tbody>\n",
       "</table>\n",
       "</div>"
      ],
      "text/plain": [
       "              Open    High     Low   Close     Volume\n",
       "Date                                                 \n",
       "2020-09-08  113.95  118.99  112.68  112.82  231366563\n",
       "2020-09-04  120.07  123.70  110.89  120.96  332607163\n",
       "2020-09-03  126.91  128.84  120.50  120.88  257599640\n",
       "2020-09-02  137.59  137.98  127.00  131.40  200118991\n",
       "2020-09-01  132.76  134.80  130.53  134.18  152470142"
      ]
     },
     "execution_count": 4,
     "metadata": {},
     "output_type": "execute_result"
    },
    {
     "data": {
      "text/plain": [
       "(425, 5)"
      ]
     },
     "execution_count": 4,
     "metadata": {},
     "output_type": "execute_result"
    }
   ],
   "source": [
    "aprice = web.DataReader('AAPL',start=datetime(2019,1,1),end=datetime(2020,9,9),data_source='stooq')\n",
    "aprice.head()\n",
    "aprice.shape"
   ]
  },
  {
   "cell_type": "code",
   "execution_count": 9,
   "metadata": {
    "slideshow": {
     "slide_type": "slide"
    }
   },
   "outputs": [
    {
     "data": {
      "image/png": "[encoded data removed]",
      "text/plain": [
       "<Figure size 1150x575 with 2 Axes>"
      ]
     },
     "metadata": {},
     "output_type": "display_data"
    }
   ],
   "source": [
    "mpl.plot(aprice,type='candle',style='yahoo',mav=(5,30),figratio=(12,6),figscale=1)"
   ]
  },
  {
   "cell_type": "markdown",
   "metadata": {
    "slideshow": {
     "slide_type": "slide"
    }
   },
   "source": [
    "## 统计套利"
   ]
  },
  {
   "cell_type": "markdown",
   "metadata": {
    "slideshow": {
     "slide_type": "fragment"
    }
   },
   "source": [
    "### 统计套利的定义"
   ]
  },
  {
   "cell_type": "markdown",
   "metadata": {
    "slideshow": {
     "slide_type": "fragment"
    }
   },
   "source": [
    "<dl class=\"row text-info\">\n",
    "    <dt class=\"col-md-4\">统计套利</dt>\n",
    "    <dd class=\"col-md-8\">根据统计学的原理，利用选取的两个或多个资产的<strong>统计规律</strong>建立量化模型的套利方法</dd>\n",
    "</dl>"
   ]
  },
  {
   "cell_type": "markdown",
   "metadata": {
    "slideshow": {
     "slide_type": "fragment"
    }
   },
   "source": [
    "- 假设一个策略在$t$时刻的累积收益贴现值为$v(t)$，若满足下述四个条件，则该策略是统计套利策略：\n",
    "$$\n",
    "\\begin{split}\n",
    "    (1)\\quad & v(0)=0\\\\\n",
    "    (2)\\quad & \\underset{t\\to\\infty}{\\lim}E[v(t)]>0\\\\\n",
    "    (3)\\quad & \\underset{t\\to\\infty}{\\lim}P[v(t)<0]=0\\\\\n",
    "    (4)\\quad & 若\\forall t<\\infty, P[v(t)<0]>0, 则\\underset{t\\to\\infty}{\\lim}\\frac{\\text{var}[v(t)]}{t}=0\n",
    "\\end{split}\n",
    "$$"
   ]
  },
  {
   "cell_type": "markdown",
   "metadata": {
    "slideshow": {
     "slide_type": "slide"
    }
   },
   "source": [
    "- 统计套利是零初始成本(initial zero cost)、自融资(self-financing)的策略"
   ]
  },
  {
   "cell_type": "markdown",
   "metadata": {
    "slideshow": {
     "slide_type": "fragment"
    }
   },
   "source": [
    "- 统计套利与无风险套利的区别：统计套利在某个时间内是**可能发生亏损**的"
   ]
  },
  {
   "cell_type": "markdown",
   "metadata": {
    "slideshow": {
     "slide_type": "slide"
    }
   },
   "source": [
    "### 统计套利的类型"
   ]
  },
  {
   "cell_type": "markdown",
   "metadata": {
    "slideshow": {
     "slide_type": "fragment"
    }
   },
   "source": [
    "- 跨期统计套利\n",
    "- 跨市场统计套利\n",
    "- 跨品种统计套利"
   ]
  },
  {
   "cell_type": "markdown",
   "metadata": {
    "slideshow": {
     "slide_type": "slide"
    }
   },
   "source": [
    "### 跨期统计套利"
   ]
  },
  {
   "cell_type": "markdown",
   "metadata": {
    "slideshow": {
     "slide_type": "fragment"
    }
   },
   "source": [
    "- 利用同种商品的不同到期月份的期货合约之间出现的**异常价差**，最空价格高估合约，**同时**做多价格低估的合约，等价差回归到正常水平的时候平仓获利"
   ]
  },
  {
   "cell_type": "markdown",
   "metadata": {
    "slideshow": {
     "slide_type": "fragment"
    }
   },
   "source": [
    "- 跨期套利的来源：**季节性波动**，后者又是由于商品**供需**的季节性变化导致"
   ]
  },
  {
   "cell_type": "markdown",
   "metadata": {
    "slideshow": {
     "slide_type": "slide"
    }
   },
   "source": [
    "### 跨市场统计套利"
   ]
  },
  {
   "cell_type": "markdown",
   "metadata": {
    "slideshow": {
     "slide_type": "fragment"
    }
   },
   "source": [
    "- 在不同市场，具有相同标的资产之间进行的套利"
   ]
  },
  {
   "cell_type": "markdown",
   "metadata": {
    "slideshow": {
     "slide_type": "fragment"
    }
   },
   "source": [
    "- 期现套利，当**期货市场**与**现货市场**在价格上出现差距，利用价格差距，低买高卖而获利"
   ]
  },
  {
   "cell_type": "markdown",
   "metadata": {
    "slideshow": {
     "slide_type": "fragment"
    }
   },
   "source": [
    "- 期现套利的来源：基差偏离持有成本\n",
    "    - 基差(spread)$=$现货价格$-$期货价格"
   ]
  },
  {
   "cell_type": "markdown",
   "metadata": {
    "slideshow": {
     "slide_type": "slide"
    }
   },
   "source": [
    "<center><img src=\"./img/strategy/spotfutures.jpg\" width=100%></center>"
   ]
  },
  {
   "cell_type": "markdown",
   "metadata": {
    "slideshow": {
     "slide_type": "slide"
    }
   },
   "source": [
    "##### 正向市场套利"
   ]
  },
  {
   "cell_type": "markdown",
   "metadata": {
    "slideshow": {
     "slide_type": "fragment"
    }
   },
   "source": [
    "<dl class=\"row\">\n",
    "    <dt class=\"col-md-4\">正向市场(contango)</dt>\n",
    "    <dd class=\"col-md-8\">期货价格大于现货价格</dd>\n",
    "</dl>"
   ]
  },
  {
   "cell_type": "markdown",
   "metadata": {
    "slideshow": {
     "slide_type": "fragment"
    }
   },
   "source": [
    "- **买入**现货的同时**卖出同等数量**的期货，等期现价差收敛时平掉套利头寸"
   ]
  },
  {
   "cell_type": "markdown",
   "metadata": {
    "slideshow": {
     "slide_type": "slide"
    }
   },
   "source": [
    "##### 反向市场套利"
   ]
  },
  {
   "cell_type": "markdown",
   "metadata": {
    "slideshow": {
     "slide_type": "fragment"
    }
   },
   "source": [
    "<dl class=\"row\">\n",
    "    <dt class=\"col-md-4\">反向市场(backwardation)</dt>\n",
    "    <dd class=\"col-md-8\">期货价格小于现货价格</dd>\n",
    "</dl>"
   ]
  },
  {
   "cell_type": "markdown",
   "metadata": {
    "slideshow": {
     "slide_type": "fragment"
    }
   },
   "source": [
    "- **卖出**现货的同时**买入同等数量**的期货"
   ]
  },
  {
   "cell_type": "markdown",
   "metadata": {
    "slideshow": {
     "slide_type": "slide"
    }
   },
   "source": [
    "### 跨品种套利"
   ]
  },
  {
   "cell_type": "markdown",
   "metadata": {
    "slideshow": {
     "slide_type": "fragment"
    }
   },
   "source": [
    "- 利用同一市场上的两种具有**高度相关性**的标的资产之间的价差进行套利"
   ]
  },
  {
   "cell_type": "markdown",
   "metadata": {
    "slideshow": {
     "slide_type": "fragment"
    }
   },
   "source": [
    "- 跨品种套利来源：两种资产的价差偏离它们之间的长期均衡关系"
   ]
  },
  {
   "cell_type": "markdown",
   "metadata": {
    "slideshow": {
     "slide_type": "slide"
    }
   },
   "source": [
    "##### 如何选择跨品种套利"
   ]
  },
  {
   "cell_type": "markdown",
   "metadata": {
    "slideshow": {
     "slide_type": "fragment"
    }
   },
   "source": [
    "- 选择产品与原材料\n",
    "    - 例如，螺纹钢与铁矿石、焦炭，生产$1$吨生铁需要$1.5\\sim2$吨铁矿石和$0.4\\sim0.6$吨焦炭"
   ]
  },
  {
   "cell_type": "markdown",
   "metadata": {
    "slideshow": {
     "slide_type": "fragment"
    }
   },
   "source": [
    "- 选择替代品\n",
    "    - 例如，豆油、棕榈油、菜籽油"
   ]
  },
  {
   "cell_type": "markdown",
   "metadata": {
    "slideshow": {
     "slide_type": "slide"
    }
   },
   "source": [
    "# 量化交易策略的组成"
   ]
  },
  {
   "cell_type": "markdown",
   "metadata": {
    "slideshow": {
     "slide_type": "fragment"
    }
   },
   "source": [
    "- 一个完整的交易策略应当由如下部分组成\n",
    "    + 标的产品\n",
    "    + 头寸规模\n",
    "    + 入市时机\n",
    "    + 离市时机\n",
    "    + 执行交易"
   ]
  },
  {
   "cell_type": "markdown",
   "metadata": {
    "slideshow": {
     "slide_type": "slide"
    }
   },
   "source": [
    "## 标的产品\n",
    "> 应当交易什么样的产品"
   ]
  },
  {
   "cell_type": "markdown",
   "metadata": {
    "slideshow": {
     "slide_type": "fragment"
    }
   },
   "source": [
    "- 设定投资组合的好处：\n",
    "    - 总有某个市场或某些产品出现趋势\n",
    "    - 有些交易不明朗的市场或产品可以先观望\n",
    "    - 当一些突发事件造成市场波动时，可以对冲风险"
   ]
  },
  {
   "cell_type": "markdown",
   "metadata": {
    "slideshow": {
     "slide_type": "slide"
    }
   },
   "source": [
    "## 头寸规模\n",
    "> 应当持有交易标的的数量\n",
    "\n",
    "- 头寸规模与可用资金量紧密相关\n",
    "    + **全仓**：用全部可用资金购入资产交易标的\n",
    "    + **半仓**：用一半资金购入资产交易标的\n",
    "\n",
    "- 头寸规模还与交易标的的价格相关"
   ]
  },
  {
   "cell_type": "markdown",
   "metadata": {
    "slideshow": {
     "slide_type": "slide"
    }
   },
   "source": [
    "## 入市时机\n",
    "> 决定何时开始建仓（包括增仓）\n",
    "\n",
    "- 程序化交易的入市信号是由交易策略产生的"
   ]
  },
  {
   "cell_type": "markdown",
   "metadata": {
    "slideshow": {
     "slide_type": "slide"
    }
   },
   "source": [
    "## 离市时机\n",
    "> 决定何时退出头寸"
   ]
  },
  {
   "cell_type": "markdown",
   "metadata": {
    "slideshow": {
     "slide_type": "slide"
    }
   },
   "source": [
    "### 止损\n",
    "> 决定何时平掉亏损的头寸"
   ]
  },
  {
   "cell_type": "markdown",
   "metadata": {
    "slideshow": {
     "slide_type": "fragment"
    }
   },
   "source": [
    "- 止损是在建立头寸之前，已经预先确定退出的点位"
   ]
  },
  {
   "cell_type": "markdown",
   "metadata": {
    "slideshow": {
     "slide_type": "fragment"
    }
   },
   "source": [
    "- 如果市场的波动触及止损价位，必须每一次都毫无例外地退出"
   ]
  },
  {
   "cell_type": "markdown",
   "metadata": {
    "slideshow": {
     "slide_type": "slide"
    }
   },
   "source": [
    "### 止盈\n",
    "> 决定何时平掉盈利的头寸"
   ]
  },
  {
   "cell_type": "markdown",
   "metadata": {
    "slideshow": {
     "slide_type": "slide"
    }
   },
   "source": [
    "# “海龟”交易策略"
   ]
  },
  {
   "cell_type": "markdown",
   "metadata": {
    "slideshow": {
     "slide_type": "slide"
    }
   },
   "source": [
    "## 背景"
   ]
  },
  {
   "cell_type": "markdown",
   "metadata": {
    "slideshow": {
     "slide_type": "fragment"
    }
   },
   "source": [
    "> 伟大的交易员是天生造就还是后天培养的?"
   ]
  },
  {
   "cell_type": "markdown",
   "metadata": {
    "slideshow": {
     "slide_type": "fragment"
    }
   },
   "source": [
    "- 20世纪80年代，当时著名的交易员Dennis开展了一项“海龟”实验"
   ]
  },
  {
   "cell_type": "markdown",
   "metadata": {
    "slideshow": {
     "slide_type": "fragment"
    }
   },
   "source": [
    "- 招募13名交易新手，经过短暂的培训，每人被提供50$\\sim$200万美元作为初始资金参与交易"
   ]
  },
  {
   "cell_type": "markdown",
   "metadata": {
    "slideshow": {
     "slide_type": "fragment"
    }
   },
   "source": [
    "- 随后的四年，年均复利达到80%"
   ]
  },
  {
   "cell_type": "markdown",
   "metadata": {
    "slideshow": {
     "slide_type": "slide"
    }
   },
   "source": [
    "## 交易产品"
   ]
  },
  {
   "cell_type": "markdown",
   "metadata": {
    "slideshow": {
     "slide_type": "fragment"
    }
   },
   "source": [
    "- 芝加哥期货交易所（CBOT）    \n",
    "    - 30 年期美国长期国债（Treasury Bond）、10 年期美国中期国库券（Treasury Note）\n",
    "- 纽约咖啡可可与原糖交易所（NYCSC）    \n",
    "    - 咖啡、可可、原糖、棉花\n",
    "- 芝加哥商品交易所（CME）    \n",
    "    - 瑞士法郎、德国马克、英镑、法国法郎、日圆、加拿大元、标准普尔500股票指数、欧洲美元、天美国短期国库券（Treasury Bill）  \n",
    "- 纽约商品期货交易所（COMEX）    \n",
    "    - 黄金、白银、铜  \n",
    "- 纽约商业期货交易所（NYMEX）    \n",
    "    - 原油、燃油、无铅汽油 "
   ]
  },
  {
   "cell_type": "markdown",
   "metadata": {
    "slideshow": {
     "slide_type": "slide"
    }
   },
   "source": [
    "## 头寸规模"
   ]
  },
  {
   "cell_type": "markdown",
   "metadata": {
    "slideshow": {
     "slide_type": "fragment"
    }
   },
   "source": [
    "### 单位建仓量"
   ]
  },
  {
   "cell_type": "markdown",
   "metadata": {
    "slideshow": {
     "slide_type": "fragment"
    }
   },
   "source": [
    "- 计算当日实际波动范围（TR, True Range）：  \n",
    "  $$ \\text{TR} = \\max\\{\\text{H}-\\text{L}, \\text{H}-\\text{PDC}, \\text{PDC}-\\text{L}\\} $$\n",
    "  其中：  H——当日最高价，L——当日最低价，PDC——前个交易日的收盘价"
   ]
  },
  {
   "cell_type": "markdown",
   "metadata": {
    "slideshow": {
     "slide_type": "fragment"
    }
   },
   "source": [
    "- 计算 ATR (TR的20日指数平均）：  \n",
    "  $$ \\text{ATR}_t = (19\\times\\text{ATR}_{t-1} + \\text{TR})/2\\text{ATR}_0  $$ \n",
    "  其中：PDN——前个交易日的 ATR 值，TR——当日的实际范围 "
   ]
  },
  {
   "cell_type": "markdown",
   "metadata": {
    "slideshow": {
     "slide_type": "fragment"
    }
   },
   "source": [
    "- 计算单位建仓量n\n",
    "   $$ n = \\frac{\\text{帐户的}1\\%}{\\text{ATR}\\times\\text{每点价值量}} $$ "
   ]
  },
  {
   "cell_type": "markdown",
   "metadata": {
    "slideshow": {
     "slide_type": "subslide"
    }
   },
   "source": [
    "### 最大头寸限制"
   ]
  },
  {
   "cell_type": "markdown",
   "metadata": {
    "slideshow": {
     "slide_type": "fragment"
    }
   },
   "source": [
    "<center>\n",
    "\n",
    "级别|类型|最大单位\n",
    "---|---|---   \n",
    "1|单一市场|4 个单位   \n",
    "2|高度相关市场|6 个单位 \n",
    "3|低度相关市场|10 个单位   \n",
    "4|单向交易（多头或空头）|12 个单位\n",
    "    \n",
    "</center>"
   ]
  },
  {
   "cell_type": "markdown",
   "metadata": {
    "slideshow": {
     "slide_type": "slide"
    }
   },
   "source": [
    "### 入市时机"
   ]
  },
  {
   "cell_type": "markdown",
   "metadata": {
    "slideshow": {
     "slide_type": "fragment"
    }
   },
   "source": [
    "> 以唐奇安通道(Donchian’s channel)突破作为入市时机"
   ]
  },
  {
   "cell_type": "markdown",
   "metadata": {
    "slideshow": {
     "slide_type": "fragment"
    }
   },
   "source": [
    "- 唐奇安通道：特定天数内的最高价和最低价组成的通道"
   ]
  },
  {
   "cell_type": "markdown",
   "metadata": {
    "slideshow": {
     "slide_type": "fragment"
    }
   },
   "source": [
    "- 20日系统"
   ]
  },
  {
   "cell_type": "markdown",
   "metadata": {
    "slideshow": {
     "slide_type": "fragment"
    }
   },
   "source": [
    "- 50日系统"
   ]
  },
  {
   "cell_type": "markdown",
   "metadata": {
    "slideshow": {
     "slide_type": "fragment"
    }
   },
   "source": [
    "> 在日间突破发生时进行交易，而不会等到每日收盘或次日开盘"
   ]
  },
  {
   "cell_type": "markdown",
   "metadata": {
    "slideshow": {
     "slide_type": "slide"
    }
   },
   "source": [
    "### 止损"
   ]
  },
  {
   "cell_type": "markdown",
   "metadata": {
    "slideshow": {
     "slide_type": "fragment"
    }
   },
   "source": [
    "> 以头寸风险为基础设置止损，任何一笔交易都不能出现 2%以上的风险"
   ]
  },
  {
   "cell_type": "markdown",
   "metadata": {
    "slideshow": {
     "slide_type": "fragment"
    }
   },
   "source": [
    "- 容许风险为2%的最大止损就是价格波动2ATR"
   ]
  },
  {
   "cell_type": "markdown",
   "metadata": {
    "slideshow": {
     "slide_type": "fragment"
    }
   },
   "source": [
    "- 海龟系统的止损能够适应市场的波动性"
   ]
  },
  {
   "cell_type": "markdown",
   "metadata": {
    "slideshow": {
     "slide_type": "slide"
    }
   },
   "source": [
    "### 止盈"
   ]
  },
  {
   "cell_type": "markdown",
   "metadata": {
    "slideshow": {
     "slide_type": "fragment"
    }
   },
   "source": [
    "- 20日系统\n",
    "    - 多头头寸为 10 日最低价\n",
    "    - 空头头寸为 10 日最高价"
   ]
  },
  {
   "cell_type": "markdown",
   "metadata": {
    "slideshow": {
     "slide_type": "fragment"
    }
   },
   "source": [
    "- 50日系统\n",
    "    - 多头头寸为 20 日最低价\n",
    "    - 空头头寸为 20 日最高价"
   ]
  }
 ],
 "metadata": {
  "celltoolbar": "Slideshow",
  "hide_input": false,
  "kernelspec": {
   "display_name": "Python 3",
   "language": "python",
   "name": "python3"
  },
  "language_info": {
   "codemirror_mode": {
    "name": "ipython",
    "version": 3
   },
   "file_extension": ".py",
   "mimetype": "text/x-python",
   "name": "python",
   "nbconvert_exporter": "python",
   "pygments_lexer": "ipython3",
   "version": "3.6.8"
  },
  "toc": {
   "base_numbering": 1,
   "nav_menu": {},
   "number_sections": true,
   "sideBar": true,
   "skip_h1_title": false,
   "title_cell": "Table of Contents",
   "title_sidebar": "Contents",
   "toc_cell": false,
   "toc_position": {
    "height": "666.977px",
    "left": "46px",
    "top": "0px",
    "width": "307.516px"
   },
   "toc_section_display": true,
   "toc_window_display": false
  }
 },
 "nbformat": 4,
 "nbformat_minor": 2
}
