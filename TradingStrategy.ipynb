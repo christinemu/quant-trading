{
 "cells": [
  {
   "cell_type": "code",
   "execution_count": 64,
   "metadata": {
    "slideshow": {
     "slide_type": "notes"
    }
   },
   "outputs": [],
   "source": [
    "import pandas as pd\n",
    "import numpy as np\n",
    "import statsmodels.formula.api as smf\n",
    "from datetime import datetime\n",
    "import mplfinance as mpl\n",
    "import matplotlib.pyplot as plt\n",
    "import pandas_datareader.data as web\n",
    "from IPython.core.interactiveshell import InteractiveShell\n",
    "InteractiveShell.ast_node_interactivity = \"all\"\n",
    "from pandas.plotting import register_matplotlib_converters\n",
    "register_matplotlib_converters()"
   ]
  },
  {
   "cell_type": "markdown",
   "metadata": {
    "slideshow": {
     "slide_type": "slide"
    }
   },
   "source": [
    "<div class=\"jumbotron\">\n",
    "    <p class=\"display-1 h1\">量化交易策略</p>\n",
    "    <hr class=\"my-4\">\n",
    "    <p>主讲：李岩</p>\n",
    "    <p>管理学院</p>\n",
    "    <p>liyan@cumtb.edu.cn</p>\n",
    "</div>"
   ]
  },
  {
   "cell_type": "markdown",
   "metadata": {
    "slideshow": {
     "slide_type": "slide"
    }
   },
   "source": [
    "# 交易策略"
   ]
  },
  {
   "cell_type": "markdown",
   "metadata": {
    "slideshow": {
     "slide_type": "fragment"
    }
   },
   "source": [
    "<dl class=\"row text-danger\">\n",
    "    <dt class=\"col-md-4\">交易策略</dt>\n",
    "    <dd class=\"col-md-8\">交易策略是交易员进行交易时遵循的交易规则</dd>\n",
    "</dl>"
   ]
  },
  {
   "cell_type": "markdown",
   "metadata": {
    "slideshow": {
     "slide_type": "slide"
    }
   },
   "source": [
    "## 量化交易策略的分类"
   ]
  },
  {
   "cell_type": "markdown",
   "metadata": {
    "slideshow": {
     "slide_type": "fragment"
    }
   },
   "source": [
    "<center><img src=\"./img/strategy/strategyType.png\" width=100%></center>"
   ]
  },
  {
   "cell_type": "markdown",
   "metadata": {
    "slideshow": {
     "slide_type": "slide"
    }
   },
   "source": [
    "## 趋势追踪策略"
   ]
  },
  {
   "cell_type": "markdown",
   "metadata": {
    "slideshow": {
     "slide_type": "fragment"
    }
   },
   "source": [
    "- 一旦市场形成下降（或上升）趋势后，就将沿着原方向运行"
   ]
  },
  {
   "cell_type": "markdown",
   "metadata": {
    "slideshow": {
     "slide_type": "fragment"
    }
   },
   "source": [
    "- 趋势策略的来源：\n",
    "    - 市场并非有效，有限理性决策者对信息的解读和操作不同\n",
    "    - 价格以趋势方式演变"
   ]
  },
  {
   "cell_type": "markdown",
   "metadata": {
    "slideshow": {
     "slide_type": "slide"
    }
   },
   "source": [
    "### 趋势"
   ]
  },
  {
   "cell_type": "markdown",
   "metadata": {
    "slideshow": {
     "slide_type": "fragment"
    }
   },
   "source": [
    "<dl class=\"row\">\n",
    "    <dt class=\"col-md-2\">趋势</dt>\n",
    "    <dd class=\"col-md-10\">价格<strong>高点</strong>和<strong>低点</strong>随时间的移动</dd>\n",
    "</dl>"
   ]
  },
  {
   "cell_type": "markdown",
   "metadata": {
    "slideshow": {
     "slide_type": "fragment"
    }
   },
   "source": [
    "- 上升趋势(uptrends)：由不断**升高的高点**和不断**升高的低点**构成\n",
    "- 下降趋势(downtrends)：由不断**降低的低点**和**不断降低的高点**构成\n",
    "- 震荡(sideways)：当高点和低点没有上述变化规律的时候构成震荡，或称作“横向整理”"
   ]
  },
  {
   "cell_type": "markdown",
   "metadata": {
    "slideshow": {
     "slide_type": "fragment"
    }
   },
   "source": [
    "<center>\n",
    "<img src=\"./img/strategy/updownsideways.png\" width=50%>   \n",
    "</center>"
   ]
  },
  {
   "cell_type": "markdown",
   "metadata": {
    "slideshow": {
     "slide_type": "slide"
    }
   },
   "source": [
    "### 趋势判断方法"
   ]
  },
  {
   "cell_type": "markdown",
   "metadata": {
    "slideshow": {
     "slide_type": "fragment"
    }
   },
   "source": [
    "- 设置价格正常波动范围（通道），当价格突破该范围时，认为出现趋势"
   ]
  },
  {
   "cell_type": "markdown",
   "metadata": {
    "slideshow": {
     "slide_type": "fragment"
    }
   },
   "source": [
    "<center><img src=\"./img/strategy/bands.jfif\" width=60%></center>"
   ]
  },
  {
   "cell_type": "markdown",
   "metadata": {
    "slideshow": {
     "slide_type": "slide"
    }
   },
   "source": [
    "- 通过价格的长短期移动平均线的相对位置来判断趋势"
   ]
  },
  {
   "cell_type": "code",
   "execution_count": 4,
   "metadata": {
    "slideshow": {
     "slide_type": "slide"
    }
   },
   "outputs": [
    {
     "data": {
      "text/html": [
       "<div>\n",
       "<style scoped>\n",
       "    .dataframe tbody tr th:only-of-type {\n",
       "        vertical-align: middle;\n",
       "    }\n",
       "\n",
       "    .dataframe tbody tr th {\n",
       "        vertical-align: top;\n",
       "    }\n",
       "\n",
       "    .dataframe thead th {\n",
       "        text-align: right;\n",
       "    }\n",
       "</style>\n",
       "<table border=\"1\" class=\"dataframe\">\n",
       "  <thead>\n",
       "    <tr style=\"text-align: right;\">\n",
       "      <th></th>\n",
       "      <th>Open</th>\n",
       "      <th>High</th>\n",
       "      <th>Low</th>\n",
       "      <th>Close</th>\n",
       "      <th>Volume</th>\n",
       "    </tr>\n",
       "    <tr>\n",
       "      <th>Date</th>\n",
       "      <th></th>\n",
       "      <th></th>\n",
       "      <th></th>\n",
       "      <th></th>\n",
       "      <th></th>\n",
       "    </tr>\n",
       "  </thead>\n",
       "  <tbody>\n",
       "    <tr>\n",
       "      <th>2020-09-08</th>\n",
       "      <td>113.95</td>\n",
       "      <td>118.99</td>\n",
       "      <td>112.68</td>\n",
       "      <td>112.82</td>\n",
       "      <td>231366563</td>\n",
       "    </tr>\n",
       "    <tr>\n",
       "      <th>2020-09-04</th>\n",
       "      <td>120.07</td>\n",
       "      <td>123.70</td>\n",
       "      <td>110.89</td>\n",
       "      <td>120.96</td>\n",
       "      <td>332607163</td>\n",
       "    </tr>\n",
       "    <tr>\n",
       "      <th>2020-09-03</th>\n",
       "      <td>126.91</td>\n",
       "      <td>128.84</td>\n",
       "      <td>120.50</td>\n",
       "      <td>120.88</td>\n",
       "      <td>257599640</td>\n",
       "    </tr>\n",
       "    <tr>\n",
       "      <th>2020-09-02</th>\n",
       "      <td>137.59</td>\n",
       "      <td>137.98</td>\n",
       "      <td>127.00</td>\n",
       "      <td>131.40</td>\n",
       "      <td>200118991</td>\n",
       "    </tr>\n",
       "    <tr>\n",
       "      <th>2020-09-01</th>\n",
       "      <td>132.76</td>\n",
       "      <td>134.80</td>\n",
       "      <td>130.53</td>\n",
       "      <td>134.18</td>\n",
       "      <td>152470142</td>\n",
       "    </tr>\n",
       "  </tbody>\n",
       "</table>\n",
       "</div>"
      ],
      "text/plain": [
       "              Open    High     Low   Close     Volume\n",
       "Date                                                 \n",
       "2020-09-08  113.95  118.99  112.68  112.82  231366563\n",
       "2020-09-04  120.07  123.70  110.89  120.96  332607163\n",
       "2020-09-03  126.91  128.84  120.50  120.88  257599640\n",
       "2020-09-02  137.59  137.98  127.00  131.40  200118991\n",
       "2020-09-01  132.76  134.80  130.53  134.18  152470142"
      ]
     },
     "execution_count": 4,
     "metadata": {},
     "output_type": "execute_result"
    },
    {
     "data": {
      "text/plain": [
       "(425, 5)"
      ]
     },
     "execution_count": 4,
     "metadata": {},
     "output_type": "execute_result"
    }
   ],
   "source": [
    "aprice = web.DataReader('AAPL',start=datetime(2019,1,1),end=datetime(2020,9,9),data_source='stooq')\n",
    "aprice.head()\n",
    "aprice.shape"
   ]
  },
  {
   "cell_type": "code",
   "execution_count": 9,
   "metadata": {
    "slideshow": {
     "slide_type": "slide"
    }
   },
   "outputs": [
    {
     "data": {
      "image/png": "[encoded data removed]",
      "text/plain": [
       "<Figure size 1150x575 with 2 Axes>"
      ]
     },
     "metadata": {},
     "output_type": "display_data"
    }
   ],
   "source": [
    "mpl.plot(aprice,type='candle',style='yahoo',mav=(5,30),figratio=(12,6),figscale=1)"
   ]
  },
  {
   "cell_type": "markdown",
   "metadata": {
    "slideshow": {
     "slide_type": "slide"
    }
   },
   "source": [
    "## 统计套利"
   ]
  },
  {
   "cell_type": "markdown",
   "metadata": {
    "slideshow": {
     "slide_type": "fragment"
    }
   },
   "source": [
    "### 统计套利的定义"
   ]
  },
  {
   "cell_type": "markdown",
   "metadata": {
    "slideshow": {
     "slide_type": "fragment"
    }
   },
   "source": [
    "<dl class=\"row text-info\">\n",
    "    <dt class=\"col-md-4\">统计套利</dt>\n",
    "    <dd class=\"col-md-8\">根据统计学的原理，利用选取的两个或多个资产的<strong>统计规律</strong>建立量化模型的套利方法</dd>\n",
    "</dl>"
   ]
  },
  {
   "cell_type": "markdown",
   "metadata": {
    "slideshow": {
     "slide_type": "fragment"
    }
   },
   "source": [
    "- 假设一个策略在$t$时刻的累积收益贴现值为$v(t)$，若满足下述四个条件，则该策略是统计套利策略：\n",
    "$$\n",
    "\\begin{split}\n",
    "    (1)\\quad & v(0)=0\\\\\n",
    "    (2)\\quad & \\underset{t\\to\\infty}{\\lim}E[v(t)]>0\\\\\n",
    "    (3)\\quad & \\underset{t\\to\\infty}{\\lim}P[v(t)<0]=0\\\\\n",
    "    (4)\\quad & 若\\forall t<\\infty, P[v(t)<0]>0, 则\\underset{t\\to\\infty}{\\lim}\\frac{\\text{var}[v(t)]}{t}=0\n",
    "\\end{split}\n",
    "$$"
   ]
  },
  {
   "cell_type": "markdown",
   "metadata": {
    "slideshow": {
     "slide_type": "slide"
    }
   },
   "source": [
    "- 统计套利是零初始成本(initial zero cost)、自融资(self-financing)的策略"
   ]
  },
  {
   "cell_type": "markdown",
   "metadata": {
    "slideshow": {
     "slide_type": "fragment"
    }
   },
   "source": [
    "- 统计套利与无风险套利的区别：统计套利在某个时间内是**可能发生亏损**的"
   ]
  },
  {
   "cell_type": "markdown",
   "metadata": {
    "slideshow": {
     "slide_type": "slide"
    }
   },
   "source": [
    "### 统计套利的类型"
   ]
  },
  {
   "cell_type": "markdown",
   "metadata": {
    "slideshow": {
     "slide_type": "fragment"
    }
   },
   "source": [
    "- 跨期统计套利\n",
    "- 跨市场统计套利\n",
    "- 跨品种统计套利"
   ]
  },
  {
   "cell_type": "markdown",
   "metadata": {
    "slideshow": {
     "slide_type": "slide"
    }
   },
   "source": [
    "### 跨期统计套利"
   ]
  },
  {
   "cell_type": "markdown",
   "metadata": {
    "slideshow": {
     "slide_type": "fragment"
    }
   },
   "source": [
    "- 利用同种商品的不同到期月份的期货合约之间出现的**异常价差**，最空价格高估合约，**同时**做多价格低估的合约，等价差回归到正常水平的时候平仓获利"
   ]
  },
  {
   "cell_type": "markdown",
   "metadata": {
    "slideshow": {
     "slide_type": "fragment"
    }
   },
   "source": [
    "- 跨期套利的来源：**季节性波动**，后者又是由于商品**供需**的季节性变化导致"
   ]
  },
  {
   "cell_type": "markdown",
   "metadata": {
    "slideshow": {
     "slide_type": "slide"
    }
   },
   "source": [
    "### 跨市场统计套利"
   ]
  },
  {
   "cell_type": "markdown",
   "metadata": {
    "slideshow": {
     "slide_type": "fragment"
    }
   },
   "source": [
    "- 在不同市场，具有相同标的资产之间进行的套利"
   ]
  },
  {
   "cell_type": "markdown",
   "metadata": {
    "slideshow": {
     "slide_type": "fragment"
    }
   },
   "source": [
    "- 期现套利，当**期货市场**与**现货市场**在价格上出现差距，利用价格差距，低买高卖而获利"
   ]
  },
  {
   "cell_type": "markdown",
   "metadata": {
    "slideshow": {
     "slide_type": "fragment"
    }
   },
   "source": [
    "- 期现套利的来源：基差偏离持有成本\n",
    "    - 基差(spread)$=$现货价格$-$期货价格"
   ]
  },
  {
   "cell_type": "markdown",
   "metadata": {
    "slideshow": {
     "slide_type": "slide"
    }
   },
   "source": [
    "<center><img src=\"./img/strategy/spotfutures.jpg\" width=100%></center>"
   ]
  },
  {
   "cell_type": "markdown",
   "metadata": {
    "slideshow": {
     "slide_type": "slide"
    }
   },
   "source": [
    "##### 正向市场套利"
   ]
  },
  {
   "cell_type": "markdown",
   "metadata": {
    "slideshow": {
     "slide_type": "fragment"
    }
   },
   "source": [
    "<dl class=\"row\">\n",
    "    <dt class=\"col-md-4\">正向市场(contango)</dt>\n",
    "    <dd class=\"col-md-8\">期货价格大于现货价格</dd>\n",
    "</dl>"
   ]
  },
  {
   "cell_type": "markdown",
   "metadata": {
    "slideshow": {
     "slide_type": "fragment"
    }
   },
   "source": [
    "- **买入**现货的同时**卖出同等数量**的期货，等期现价差收敛时平掉套利头寸"
   ]
  },
  {
   "cell_type": "markdown",
   "metadata": {
    "slideshow": {
     "slide_type": "slide"
    }
   },
   "source": [
    "##### 反向市场套利"
   ]
  },
  {
   "cell_type": "markdown",
   "metadata": {
    "slideshow": {
     "slide_type": "fragment"
    }
   },
   "source": [
    "<dl class=\"row\">\n",
    "    <dt class=\"col-md-4\">反向市场(backwardation)</dt>\n",
    "    <dd class=\"col-md-8\">期货价格小于现货价格</dd>\n",
    "</dl>"
   ]
  },
  {
   "cell_type": "markdown",
   "metadata": {
    "slideshow": {
     "slide_type": "fragment"
    }
   },
   "source": [
    "- **卖出**现货的同时**买入同等数量**的期货"
   ]
  },
  {
   "cell_type": "markdown",
   "metadata": {
    "slideshow": {
     "slide_type": "slide"
    }
   },
   "source": [
    "### 跨品种套利"
   ]
  },
  {
   "cell_type": "markdown",
   "metadata": {
    "slideshow": {
     "slide_type": "fragment"
    }
   },
   "source": [
    "- 利用同一市场上的两种具有**高度相关性**的标的资产之间的价差进行套利"
   ]
  },
  {
   "cell_type": "markdown",
   "metadata": {
    "slideshow": {
     "slide_type": "fragment"
    }
   },
   "source": [
    "- 跨品种套利来源：两种资产的价差偏离它们之间的长期均衡关系"
   ]
  },
  {
   "cell_type": "markdown",
   "metadata": {
    "slideshow": {
     "slide_type": "slide"
    }
   },
   "source": [
    "#### 如何选择跨品种套利"
   ]
  },
  {
   "cell_type": "markdown",
   "metadata": {
    "slideshow": {
     "slide_type": "fragment"
    }
   },
   "source": [
    "- 选择产品与原材料\n",
    "    - 例如，螺纹钢与铁矿石、焦炭，生产$1$吨生铁需要$1.5\\sim2$吨铁矿石和$0.4\\sim0.6$吨焦炭\n",
    "    - 例如，1吨大豆生产出0.2吨豆油及0.8吨豆粕"
   ]
  },
  {
   "cell_type": "markdown",
   "metadata": {
    "slideshow": {
     "slide_type": "fragment"
    }
   },
   "source": [
    "- 选择替代品\n",
    "    - 例如，豆油、棕榈油、菜籽油"
   ]
  },
  {
   "cell_type": "markdown",
   "metadata": {
    "slideshow": {
     "slide_type": "slide"
    }
   },
   "source": [
    "#### 如何判断两个产品之间具有相关性？"
   ]
  },
  {
   "cell_type": "code",
   "execution_count": 42,
   "metadata": {
    "slideshow": {
     "slide_type": "skip"
    }
   },
   "outputs": [
    {
     "data": {
      "text/html": [
       "<div>\n",
       "<style scoped>\n",
       "    .dataframe tbody tr th:only-of-type {\n",
       "        vertical-align: middle;\n",
       "    }\n",
       "\n",
       "    .dataframe tbody tr th {\n",
       "        vertical-align: top;\n",
       "    }\n",
       "\n",
       "    .dataframe thead th {\n",
       "        text-align: right;\n",
       "    }\n",
       "</style>\n",
       "<table border=\"1\" class=\"dataframe\">\n",
       "  <thead>\n",
       "    <tr style=\"text-align: right;\">\n",
       "      <th></th>\n",
       "      <th>Open</th>\n",
       "      <th>High</th>\n",
       "      <th>Low</th>\n",
       "      <th>Close</th>\n",
       "      <th>Volume</th>\n",
       "    </tr>\n",
       "    <tr>\n",
       "      <th>Date</th>\n",
       "      <th></th>\n",
       "      <th></th>\n",
       "      <th></th>\n",
       "      <th></th>\n",
       "      <th></th>\n",
       "    </tr>\n",
       "  </thead>\n",
       "  <tbody>\n",
       "    <tr>\n",
       "      <th>2020-09-11</th>\n",
       "      <td>114.57</td>\n",
       "      <td>115.23</td>\n",
       "      <td>110.00</td>\n",
       "      <td>112.00</td>\n",
       "      <td>180860325</td>\n",
       "    </tr>\n",
       "    <tr>\n",
       "      <th>2020-09-10</th>\n",
       "      <td>120.36</td>\n",
       "      <td>120.50</td>\n",
       "      <td>112.50</td>\n",
       "      <td>113.49</td>\n",
       "      <td>182274391</td>\n",
       "    </tr>\n",
       "    <tr>\n",
       "      <th>2020-09-09</th>\n",
       "      <td>117.26</td>\n",
       "      <td>119.14</td>\n",
       "      <td>115.26</td>\n",
       "      <td>117.32</td>\n",
       "      <td>176940455</td>\n",
       "    </tr>\n",
       "    <tr>\n",
       "      <th>2020-09-08</th>\n",
       "      <td>113.95</td>\n",
       "      <td>118.99</td>\n",
       "      <td>112.68</td>\n",
       "      <td>112.82</td>\n",
       "      <td>231366563</td>\n",
       "    </tr>\n",
       "    <tr>\n",
       "      <th>2020-09-04</th>\n",
       "      <td>120.07</td>\n",
       "      <td>123.70</td>\n",
       "      <td>110.89</td>\n",
       "      <td>120.96</td>\n",
       "      <td>332607163</td>\n",
       "    </tr>\n",
       "  </tbody>\n",
       "</table>\n",
       "</div>"
      ],
      "text/plain": [
       "              Open    High     Low   Close     Volume\n",
       "Date                                                 \n",
       "2020-09-11  114.57  115.23  110.00  112.00  180860325\n",
       "2020-09-10  120.36  120.50  112.50  113.49  182274391\n",
       "2020-09-09  117.26  119.14  115.26  117.32  176940455\n",
       "2020-09-08  113.95  118.99  112.68  112.82  231366563\n",
       "2020-09-04  120.07  123.70  110.89  120.96  332607163"
      ]
     },
     "execution_count": 42,
     "metadata": {},
     "output_type": "execute_result"
    },
    {
     "data": {
      "text/plain": [
       "(679, 5)"
      ]
     },
     "execution_count": 42,
     "metadata": {},
     "output_type": "execute_result"
    }
   ],
   "source": [
    "aprice = web.DataReader('AAPL',data_source='stooq',start=datetime(2018,1,1),end=datetime(2020,9,12))\n",
    "aprice.head()\n",
    "aprice.shape"
   ]
  },
  {
   "cell_type": "code",
   "execution_count": 54,
   "metadata": {
    "slideshow": {
     "slide_type": "skip"
    }
   },
   "outputs": [
    {
     "data": {
      "text/html": [
       "<div>\n",
       "<style scoped>\n",
       "    .dataframe tbody tr th:only-of-type {\n",
       "        vertical-align: middle;\n",
       "    }\n",
       "\n",
       "    .dataframe tbody tr th {\n",
       "        vertical-align: top;\n",
       "    }\n",
       "\n",
       "    .dataframe thead th {\n",
       "        text-align: right;\n",
       "    }\n",
       "</style>\n",
       "<table border=\"1\" class=\"dataframe\">\n",
       "  <thead>\n",
       "    <tr style=\"text-align: right;\">\n",
       "      <th></th>\n",
       "      <th>x</th>\n",
       "      <th>y</th>\n",
       "    </tr>\n",
       "  </thead>\n",
       "  <tbody>\n",
       "    <tr>\n",
       "      <th>0</th>\n",
       "      <td>34.782</td>\n",
       "      <td>38.880813</td>\n",
       "    </tr>\n",
       "    <tr>\n",
       "      <th>1</th>\n",
       "      <td>35.918</td>\n",
       "      <td>39.612368</td>\n",
       "    </tr>\n",
       "    <tr>\n",
       "      <th>2</th>\n",
       "      <td>36.182</td>\n",
       "      <td>40.142345</td>\n",
       "    </tr>\n",
       "    <tr>\n",
       "      <th>3</th>\n",
       "      <td>36.265</td>\n",
       "      <td>39.254843</td>\n",
       "    </tr>\n",
       "    <tr>\n",
       "      <th>4</th>\n",
       "      <td>36.695</td>\n",
       "      <td>39.504288</td>\n",
       "    </tr>\n",
       "    <tr>\n",
       "      <th>...</th>\n",
       "      <td>...</td>\n",
       "      <td>...</td>\n",
       "    </tr>\n",
       "    <tr>\n",
       "      <th>674</th>\n",
       "      <td>125.860</td>\n",
       "      <td>147.273246</td>\n",
       "    </tr>\n",
       "    <tr>\n",
       "      <th>675</th>\n",
       "      <td>126.520</td>\n",
       "      <td>148.405520</td>\n",
       "    </tr>\n",
       "    <tr>\n",
       "      <th>676</th>\n",
       "      <td>129.040</td>\n",
       "      <td>147.464945</td>\n",
       "    </tr>\n",
       "    <tr>\n",
       "      <th>677</th>\n",
       "      <td>131.400</td>\n",
       "      <td>144.083862</td>\n",
       "    </tr>\n",
       "    <tr>\n",
       "      <th>678</th>\n",
       "      <td>134.180</td>\n",
       "      <td>146.051379</td>\n",
       "    </tr>\n",
       "  </tbody>\n",
       "</table>\n",
       "<p>679 rows × 2 columns</p>\n",
       "</div>"
      ],
      "text/plain": [
       "           x           y\n",
       "0     34.782   38.880813\n",
       "1     35.918   39.612368\n",
       "2     36.182   40.142345\n",
       "3     36.265   39.254843\n",
       "4     36.695   39.504288\n",
       "..       ...         ...\n",
       "674  125.860  147.273246\n",
       "675  126.520  148.405520\n",
       "676  129.040  147.464945\n",
       "677  131.400  144.083862\n",
       "678  134.180  146.051379\n",
       "\n",
       "[679 rows x 2 columns]"
      ]
     },
     "execution_count": 54,
     "metadata": {},
     "output_type": "execute_result"
    }
   ],
   "source": [
    "aprice.sort_index(inplace=True)\n",
    "y = aprice['Close'][0]\n",
    "ranData = []\n",
    "for each in range(aprice.shape[0]):\n",
    "    ranData.append(y+np.random.normal(aprice['Close'].diff().mean(),aprice['Close'].diff().std()))\n",
    "    y = ranData[-1]\n",
    "priceData = pd.DataFrame({'x':sorted(aprice['Close']),'y':ranData})\n",
    "priceData"
   ]
  },
  {
   "cell_type": "code",
   "execution_count": 61,
   "metadata": {
    "slideshow": {
     "slide_type": "fragment"
    }
   },
   "outputs": [
    {
     "data": {
      "image/png": "[encoded data removed]",
      "text/plain": [
       "<Figure size 1728x864 with 1 Axes>"
      ]
     },
     "metadata": {
      "needs_background": "light"
     },
     "output_type": "display_data"
    }
   ],
   "source": [
    "_ = priceData.plot(kind='line',figsize=(24,12))"
   ]
  },
  {
   "cell_type": "markdown",
   "metadata": {
    "slideshow": {
     "slide_type": "slide"
    }
   },
   "source": [
    "- 利用回归分析计算两个产品价格之间的相关性？"
   ]
  },
  {
   "cell_type": "code",
   "execution_count": 57,
   "metadata": {
    "slideshow": {
     "slide_type": "fragment"
    }
   },
   "outputs": [
    {
     "data": {
      "text/html": [
       "<div>\n",
       "<style scoped>\n",
       "    .dataframe tbody tr th:only-of-type {\n",
       "        vertical-align: middle;\n",
       "    }\n",
       "\n",
       "    .dataframe tbody tr th {\n",
       "        vertical-align: top;\n",
       "    }\n",
       "\n",
       "    .dataframe thead th {\n",
       "        text-align: right;\n",
       "    }\n",
       "</style>\n",
       "<table border=\"1\" class=\"dataframe\">\n",
       "  <thead>\n",
       "    <tr style=\"text-align: right;\">\n",
       "      <th></th>\n",
       "      <th>x</th>\n",
       "      <th>y</th>\n",
       "    </tr>\n",
       "  </thead>\n",
       "  <tbody>\n",
       "    <tr>\n",
       "      <th>0</th>\n",
       "      <td>34.782</td>\n",
       "      <td>38.880813</td>\n",
       "    </tr>\n",
       "    <tr>\n",
       "      <th>1</th>\n",
       "      <td>35.918</td>\n",
       "      <td>39.612368</td>\n",
       "    </tr>\n",
       "    <tr>\n",
       "      <th>2</th>\n",
       "      <td>36.182</td>\n",
       "      <td>40.142345</td>\n",
       "    </tr>\n",
       "    <tr>\n",
       "      <th>3</th>\n",
       "      <td>36.265</td>\n",
       "      <td>39.254843</td>\n",
       "    </tr>\n",
       "    <tr>\n",
       "      <th>4</th>\n",
       "      <td>36.695</td>\n",
       "      <td>39.504288</td>\n",
       "    </tr>\n",
       "  </tbody>\n",
       "</table>\n",
       "</div>"
      ],
      "text/plain": [
       "        x          y\n",
       "0  34.782  38.880813\n",
       "1  35.918  39.612368\n",
       "2  36.182  40.142345\n",
       "3  36.265  39.254843\n",
       "4  36.695  39.504288"
      ]
     },
     "execution_count": 57,
     "metadata": {},
     "output_type": "execute_result"
    },
    {
     "data": {
      "text/html": [
       "<div>\n",
       "<style scoped>\n",
       "    .dataframe tbody tr th:only-of-type {\n",
       "        vertical-align: middle;\n",
       "    }\n",
       "\n",
       "    .dataframe tbody tr th {\n",
       "        vertical-align: top;\n",
       "    }\n",
       "\n",
       "    .dataframe thead th {\n",
       "        text-align: right;\n",
       "    }\n",
       "</style>\n",
       "<table border=\"1\" class=\"dataframe\">\n",
       "  <thead>\n",
       "    <tr style=\"text-align: right;\">\n",
       "      <th></th>\n",
       "      <th>x</th>\n",
       "      <th>y</th>\n",
       "    </tr>\n",
       "  </thead>\n",
       "  <tbody>\n",
       "    <tr>\n",
       "      <th>x</th>\n",
       "      <td>1.00000</td>\n",
       "      <td>0.91435</td>\n",
       "    </tr>\n",
       "    <tr>\n",
       "      <th>y</th>\n",
       "      <td>0.91435</td>\n",
       "      <td>1.00000</td>\n",
       "    </tr>\n",
       "  </tbody>\n",
       "</table>\n",
       "</div>"
      ],
      "text/plain": [
       "         x        y\n",
       "x  1.00000  0.91435\n",
       "y  0.91435  1.00000"
      ]
     },
     "execution_count": 57,
     "metadata": {},
     "output_type": "execute_result"
    }
   ],
   "source": [
    "priceData.head()\n",
    "priceData.corr()      # pandas的DataFrame计算相关系数"
   ]
  },
  {
   "cell_type": "markdown",
   "metadata": {
    "slideshow": {
     "slide_type": "slide"
    }
   },
   "source": [
    "##### 简单回归分析"
   ]
  },
  {
   "cell_type": "markdown",
   "metadata": {
    "slideshow": {
     "slide_type": "fragment"
    }
   },
   "source": [
    "```python\n",
    "pip install statsmodels\n",
    "# Python中的统计模块\n",
    "import statsmodels.formula.api as smf\n",
    "```"
   ]
  },
  {
   "cell_type": "code",
   "execution_count": 68,
   "metadata": {
    "slideshow": {
     "slide_type": "fragment"
    }
   },
   "outputs": [
    {
     "data": {
      "text/html": [
       "<table class=\"simpletable\">\n",
       "<caption>OLS Regression Results</caption>\n",
       "<tr>\n",
       "  <th>Dep. Variable:</th>            <td>y</td>        <th>  R-squared:         </th> <td>   0.836</td> \n",
       "</tr>\n",
       "<tr>\n",
       "  <th>Model:</th>                   <td>OLS</td>       <th>  Adj. R-squared:    </th> <td>   0.836</td> \n",
       "</tr>\n",
       "<tr>\n",
       "  <th>Method:</th>             <td>Least Squares</td>  <th>  F-statistic:       </th> <td>   3452.</td> \n",
       "</tr>\n",
       "<tr>\n",
       "  <th>Date:</th>             <td>Mon, 14 Sep 2020</td> <th>  Prob (F-statistic):</th> <td>5.22e-268</td>\n",
       "</tr>\n",
       "<tr>\n",
       "  <th>Time:</th>                 <td>07:18:42</td>     <th>  Log-Likelihood:    </th> <td> -2533.2</td> \n",
       "</tr>\n",
       "<tr>\n",
       "  <th>No. Observations:</th>      <td>   679</td>      <th>  AIC:               </th> <td>   5070.</td> \n",
       "</tr>\n",
       "<tr>\n",
       "  <th>Df Residuals:</th>          <td>   677</td>      <th>  BIC:               </th> <td>   5079.</td> \n",
       "</tr>\n",
       "<tr>\n",
       "  <th>Df Model:</th>              <td>     1</td>      <th>                     </th>     <td> </td>    \n",
       "</tr>\n",
       "<tr>\n",
       "  <th>Covariance Type:</th>      <td>nonrobust</td>    <th>                     </th>     <td> </td>    \n",
       "</tr>\n",
       "</table>\n",
       "<table class=\"simpletable\">\n",
       "<tr>\n",
       "      <td></td>         <th>coef</th>     <th>std err</th>      <th>t</th>      <th>P>|t|</th>  <th>[0.025</th>    <th>0.975]</th>  \n",
       "</tr>\n",
       "<tr>\n",
       "  <th>Intercept</th> <td>   15.7463</td> <td>    1.223</td> <td>   12.870</td> <td> 0.000</td> <td>   13.344</td> <td>   18.149</td>\n",
       "</tr>\n",
       "<tr>\n",
       "  <th>x</th>         <td>    1.1746</td> <td>    0.020</td> <td>   58.753</td> <td> 0.000</td> <td>    1.135</td> <td>    1.214</td>\n",
       "</tr>\n",
       "</table>\n",
       "<table class=\"simpletable\">\n",
       "<tr>\n",
       "  <th>Omnibus:</th>       <td>13.464</td> <th>  Durbin-Watson:     </th> <td>   0.025</td>\n",
       "</tr>\n",
       "<tr>\n",
       "  <th>Prob(Omnibus):</th> <td> 0.001</td> <th>  Jarque-Bera (JB):  </th> <td>  16.748</td>\n",
       "</tr>\n",
       "<tr>\n",
       "  <th>Skew:</th>          <td> 0.233</td> <th>  Prob(JB):          </th> <td>0.000231</td>\n",
       "</tr>\n",
       "<tr>\n",
       "  <th>Kurtosis:</th>      <td> 3.613</td> <th>  Cond. No.          </th> <td>    193.</td>\n",
       "</tr>\n",
       "</table><br/><br/>Warnings:<br/>[1] Standard Errors assume that the covariance matrix of the errors is correctly specified."
      ],
      "text/plain": [
       "<class 'statsmodels.iolib.summary.Summary'>\n",
       "\"\"\"\n",
       "                            OLS Regression Results                            \n",
       "==============================================================================\n",
       "Dep. Variable:                      y   R-squared:                       0.836\n",
       "Model:                            OLS   Adj. R-squared:                  0.836\n",
       "Method:                 Least Squares   F-statistic:                     3452.\n",
       "Date:                Mon, 14 Sep 2020   Prob (F-statistic):          5.22e-268\n",
       "Time:                        07:18:42   Log-Likelihood:                -2533.2\n",
       "No. Observations:                 679   AIC:                             5070.\n",
       "Df Residuals:                     677   BIC:                             5079.\n",
       "Df Model:                           1                                         \n",
       "Covariance Type:            nonrobust                                         \n",
       "==============================================================================\n",
       "                 coef    std err          t      P>|t|      [0.025      0.975]\n",
       "------------------------------------------------------------------------------\n",
       "Intercept     15.7463      1.223     12.870      0.000      13.344      18.149\n",
       "x              1.1746      0.020     58.753      0.000       1.135       1.214\n",
       "==============================================================================\n",
       "Omnibus:                       13.464   Durbin-Watson:                   0.025\n",
       "Prob(Omnibus):                  0.001   Jarque-Bera (JB):               16.748\n",
       "Skew:                           0.233   Prob(JB):                     0.000231\n",
       "Kurtosis:                       3.613   Cond. No.                         193.\n",
       "==============================================================================\n",
       "\n",
       "Warnings:\n",
       "[1] Standard Errors assume that the covariance matrix of the errors is correctly specified.\n",
       "\"\"\""
      ]
     },
     "execution_count": 68,
     "metadata": {},
     "output_type": "execute_result"
    }
   ],
   "source": [
    "res = smf.ols('y~x',data=priceData).fit()\n",
    "res.summary()"
   ]
  },
  {
   "cell_type": "markdown",
   "metadata": {
    "slideshow": {
     "slide_type": "slide"
    }
   },
   "source": [
    "- “伪回归”(spurious regression)\n",
    "    - 自变量和因变量之间表现出较强的相关性，但事实上二者没有关联"
   ]
  },
  {
   "cell_type": "markdown",
   "metadata": {
    "slideshow": {
     "slide_type": "fragment"
    }
   },
   "source": [
    "<center><img src=\"./img/strategy/spuriousReg.png\" width=60%></center>"
   ]
  },
  {
   "cell_type": "markdown",
   "metadata": {
    "slideshow": {
     "slide_type": "slide"
    }
   },
   "source": [
    "#### 协整分析"
   ]
  },
  {
   "cell_type": "markdown",
   "metadata": {
    "slideshow": {
     "slide_type": "skip"
    }
   },
   "source": [
    "平稳（时间）序列是包括均值、方差和自相关等在内的统计特性不随时间发生变化的时间序列。\n",
    "非平稳序列数据可能包含趋势（trend）、季节性（seasonality)，或者随机游走（random walk）。\n",
    "随机游走是一种随机过程，每个时刻的数据只跟前一个数据和各自的随机误差有关。\n",
    "几乎所有的原始价格时间序列数据都是非平稳的。"
   ]
  },
  {
   "cell_type": "markdown",
   "metadata": {
    "slideshow": {
     "slide_type": "fragment"
    }
   },
   "source": [
    "<dl class=\"row\">\n",
    "    <dt class=\"col-md-4\">协整(cointegration)</dt>\n",
    "    <dd class=\"col-md-8\">两个时间序列各自都是<strong>非平稳过程</strong>，但是它们的线性组合是<strong>平稳过程</strong></dd>\n",
    "</dl>"
   ]
  },
  {
   "cell_type": "markdown",
   "metadata": {
    "slideshow": {
     "slide_type": "fragment"
    }
   },
   "source": [
    "<dl class=\"row\">\n",
    "    <dt class=\"col-md-4\">平稳过程</dt>\n",
    "    <dd class=\"col-md-8\">统计特性在时间平移下不变的随机过程</dd>\n",
    "</dl>"
   ]
  },
  {
   "cell_type": "markdown",
   "metadata": {
    "slideshow": {
     "slide_type": "slide"
    }
   },
   "source": [
    "- 假设有一个时间序列$\\{X_t\\}$，则该序列是平稳过程需要满足下面的条件：\n",
    "\n",
    "\n",
    "1. $E[X_t] = \\mu$\n",
    "2. $Var[X_t] = \\sigma^2$\n",
    "3. $Cov(X_t, X_{t+k}) = r(k)$"
   ]
  },
  {
   "cell_type": "markdown",
   "metadata": {
    "slideshow": {
     "slide_type": "fragment"
    }
   },
   "source": [
    "<center><img src=\"./img/strategy/stationary.png\" width=60%></center>"
   ]
  },
  {
   "cell_type": "markdown",
   "metadata": {
    "slideshow": {
     "slide_type": "slide"
    }
   },
   "source": [
    "##### 检验协整关系"
   ]
  },
  {
   "cell_type": "markdown",
   "metadata": {
    "slideshow": {
     "slide_type": "fragment"
    }
   },
   "source": [
    "- 设有两个时间序列$\\{X_t\\}$ 和 $\\{Y_t\\}$,\n",
    "\n",
    "\n",
    "1. 利用最小二乘（OLS）法估计$X_t$ 和 $Y_t$ 的长期均衡关系式$Y_t=\\alpha_0+\\alpha_1X_t+e_t$，并计算误差：\n",
    "\\begin{align}\n",
    "  \\hat{Y}_t &= \\hat{\\alpha}_0 + \\hat{\\alpha}_1 X_t \\\\\n",
    "  \\hat{e}_t &= Y_t - \\hat{Y}_t \\\\\n",
    "\\end{align}"
   ]
  },
  {
   "cell_type": "markdown",
   "metadata": {
    "slideshow": {
     "slide_type": "fragment"
    }
   },
   "source": [
    "2. 检验残差序列$\\{\\hat{e}_t\\}$的平稳性。可用ADF检验，如果通过检验，说明$X_t$ 和 $Y_t$具有协整关系。"
   ]
  },
  {
   "cell_type": "markdown",
   "metadata": {
    "slideshow": {
     "slide_type": "slide"
    }
   },
   "source": [
    "- 螺纹钢（rb）与焦炭(j)关系"
   ]
  },
  {
   "cell_type": "markdown",
   "metadata": {
    "slideshow": {
     "slide_type": "fragment"
    }
   },
   "source": [
    "<center><img src=\"./img/strategy/cointegration.png\" width=100%></center>"
   ]
  },
  {
   "cell_type": "markdown",
   "metadata": {
    "slideshow": {
     "slide_type": "skip"
    }
   },
   "source": [
    "### 高频交易\n",
    "\n",
    "高频交易主要是通过在极短的市场变化中进行买卖，从而获利，代表是西蒙斯的文艺复兴科技公司。\n",
    "\n",
    "- 统计套利。通过数学统计的方法发现那些成功概率比较高的机会。比如我们发现两只食品股票的走势常年基本保持一致，就可以设置一个偏离率来进行买卖，大于某个值就买，回到正常范围内就卖出，通过计算机技术，系统可以同时统计数千只股票的偏离率，从而获利。\n",
    "- 时间套利。需要掌握一定的爬虫技术和自然语言处理技术。同样一则消息人类阅读是比较慢的，而计算机阅读就可以在毫秒之间进行判断，谁第一时间掌握了消息，谁就更有机会获得收益。\n",
    "- 低延迟策略。需要物理专业和通信工程的知识。国外的一些基金公司甚至利用微波来代替传统的独立光纤，因为微波在空气中的传播速度，相较于真空中的光速只慢了1%，而光在光纤中的传播速度却要减慢30%左右。"
   ]
  },
  {
   "cell_type": "markdown",
   "metadata": {
    "slideshow": {
     "slide_type": "slide"
    }
   },
   "source": [
    "# 量化交易策略的组成"
   ]
  },
  {
   "cell_type": "markdown",
   "metadata": {
    "slideshow": {
     "slide_type": "fragment"
    }
   },
   "source": [
    "<center><img src=\"./img/strategy/strategyComp.png\" width=100%></center>"
   ]
  },
  {
   "cell_type": "markdown",
   "metadata": {
    "slideshow": {
     "slide_type": "slide"
    }
   },
   "source": [
    "## 交易标的"
   ]
  },
  {
   "cell_type": "markdown",
   "metadata": {
    "slideshow": {
     "slide_type": "fragment"
    }
   },
   "source": [
    "<dl class=\"row\">\n",
    "    <dt class=\"col-lg-4\">交易标的</dt>\n",
    "    <dd class=\"col-lg-8\">应当买卖哪些产品</dd>\n",
    "</dl>"
   ]
  },
  {
   "cell_type": "markdown",
   "metadata": {
    "slideshow": {
     "slide_type": "fragment"
    }
   },
   "source": [
    "- 只交易少数几个产品?\n",
    "- 交易全部产品？"
   ]
  },
  {
   "cell_type": "markdown",
   "metadata": {
    "slideshow": {
     "slide_type": "slide"
    }
   },
   "source": [
    "<center><img src=\"./img/strategy/rbContracts.png\"  width=100%></center>"
   ]
  },
  {
   "cell_type": "markdown",
   "metadata": {
    "slideshow": {
     "slide_type": "fragment"
    }
   },
   "source": [
    "- 对于每个品种，最好交易**主力**合约"
   ]
  },
  {
   "cell_type": "markdown",
   "metadata": {
    "slideshow": {
     "slide_type": "slide"
    }
   },
   "source": [
    "<center><img src=\"./img/strategy/majorContracts.png\" width=100% /></center>"
   ]
  },
  {
   "cell_type": "markdown",
   "metadata": {
    "slideshow": {
     "slide_type": "fragment"
    }
   },
   "source": [
    "- 在所有主力合约中，最好选择**成交量**最大的"
   ]
  },
  {
   "cell_type": "markdown",
   "metadata": {
    "slideshow": {
     "slide_type": "slide"
    }
   },
   "source": [
    "##### 如何选择交易标的？"
   ]
  },
  {
   "cell_type": "markdown",
   "metadata": {
    "slideshow": {
     "slide_type": "fragment"
    }
   },
   "source": [
    "- 选择交易标的的原则\n",
    "> 选择交易**活跃**（成交量大）的品种合约"
   ]
  },
  {
   "cell_type": "markdown",
   "metadata": {
    "slideshow": {
     "slide_type": "fragment"
    }
   },
   "source": [
    "- 设定投资组合\n",
    "    - 总有某个市场或某些产品出现趋势\n",
    "    - 有些交易不明朗的市场或产品可以先观望\n",
    "    - 当一些突发事件造成市场波动时，可以对冲风险"
   ]
  },
  {
   "cell_type": "markdown",
   "metadata": {
    "slideshow": {
     "slide_type": "slide"
    }
   },
   "source": [
    "## 头寸规模"
   ]
  },
  {
   "cell_type": "markdown",
   "metadata": {
    "slideshow": {
     "slide_type": "fragment"
    }
   },
   "source": [
    "<dl class=\"row\">\n",
    "    <dt class=\"col-md-4\">头寸规模</dt>\n",
    "    <dd class=\"col-md-8\">应当持有的交易标的的数量</dd>\n",
    "</dl>"
   ]
  },
  {
   "cell_type": "markdown",
   "metadata": {
    "slideshow": {
     "slide_type": "slide"
    }
   },
   "source": [
    "### 决定头寸规模的因素"
   ]
  },
  {
   "cell_type": "markdown",
   "metadata": {
    "slideshow": {
     "slide_type": "fragment"
    }
   },
   "source": [
    "- 可用资金量\n",
    "    + **全仓**：用全部可用资金购入交易标的\n",
    "    + **半仓**：用一半资金购入交易标的"
   ]
  },
  {
   "cell_type": "markdown",
   "metadata": {
    "slideshow": {
     "slide_type": "fragment"
    }
   },
   "source": [
    "- 交易标的的价格"
   ]
  },
  {
   "cell_type": "markdown",
   "metadata": {
    "slideshow": {
     "slide_type": "fragment"
    }
   },
   "source": [
    "- 市场的波动幅度\n",
    "    - 波动**强**的市场，头寸规模适当**减小**\n",
    "    - 波动**弱**的市场，头寸规模适当**增大**"
   ]
  },
  {
   "cell_type": "markdown",
   "metadata": {
    "slideshow": {
     "slide_type": "skip"
    }
   },
   "source": [
    "买卖多少是交易中最重要的一个方面。大多数交易新手在单项交易中冒太大\n",
    "的风险，即使他们拥有其他方面有效的交易风格，这也大大增加了他们破产的机\n",
    "会。"
   ]
  },
  {
   "cell_type": "markdown",
   "metadata": {
    "slideshow": {
     "slide_type": "slide"
    }
   },
   "source": [
    "## 入场信号"
   ]
  },
  {
   "cell_type": "markdown",
   "metadata": {
    "slideshow": {
     "slide_type": "fragment"
    }
   },
   "source": [
    "<dl class=\"row\">\n",
    "    <dt class=\"col-md-4\">入场信号</dt>\n",
    "    <dd class=\"col-md-8\">决定何时开始建仓（加仓）的信号</dd>\n",
    "</dl>"
   ]
  },
  {
   "cell_type": "markdown",
   "metadata": {
    "slideshow": {
     "slide_type": "fragment"
    }
   },
   "source": [
    "### 信号的含义"
   ]
  },
  {
   "cell_type": "markdown",
   "metadata": {
    "slideshow": {
     "slide_type": "fragment"
    }
   },
   "source": [
    "- 趋势交易策略：价格形成**突破**"
   ]
  },
  {
   "cell_type": "markdown",
   "metadata": {
    "slideshow": {
     "slide_type": "fragment"
    }
   },
   "source": [
    "- 统计套利策略：价格差出现**异常**"
   ]
  },
  {
   "cell_type": "markdown",
   "metadata": {
    "slideshow": {
     "slide_type": "slide"
    }
   },
   "source": [
    "### 入场信号包含两种情形"
   ]
  },
  {
   "cell_type": "markdown",
   "metadata": {
    "slideshow": {
     "slide_type": "fragment"
    }
   },
   "source": [
    "- 初次建立仓位\n",
    "    - 趋势交易策略：技术分析指标\n",
    "    - 统计套利策略：价格差超过稳定阈值"
   ]
  },
  {
   "cell_type": "markdown",
   "metadata": {
    "slideshow": {
     "slide_type": "fragment"
    }
   },
   "source": [
    "- 加仓\n",
    "    - 盈利加仓？亏损加仓？"
   ]
  },
  {
   "cell_type": "markdown",
   "metadata": {
    "slideshow": {
     "slide_type": "slide"
    }
   },
   "source": [
    "- 盈利加仓"
   ]
  },
  {
   "cell_type": "markdown",
   "metadata": {
    "slideshow": {
     "slide_type": "fragment"
    }
   },
   "source": [
    "<center><img src=\"./img/strategy/winAdd.png\" width=100% /></center>"
   ]
  },
  {
   "cell_type": "markdown",
   "metadata": {
    "slideshow": {
     "slide_type": "slide"
    }
   },
   "source": [
    "- 亏损加仓"
   ]
  },
  {
   "cell_type": "markdown",
   "metadata": {
    "slideshow": {
     "slide_type": "fragment"
    }
   },
   "source": [
    "<center><img src=\"./img/strategy/lossAdd.png\" width=100%/></center>"
   ]
  },
  {
   "cell_type": "markdown",
   "metadata": {
    "slideshow": {
     "slide_type": "skip"
    }
   },
   "source": [
    "- 程序化交易的入市信号是由交易策略产生的\n",
    "\n",
    "自动运行的系统产生入市信号，这些信号说明了进入市场买卖的明确的价位和市场条件。"
   ]
  },
  {
   "cell_type": "markdown",
   "metadata": {
    "slideshow": {
     "slide_type": "slide"
    }
   },
   "source": [
    "## 离场信号"
   ]
  },
  {
   "cell_type": "markdown",
   "metadata": {
    "slideshow": {
     "slide_type": "fragment"
    }
   },
   "source": [
    "<dl class=\"row\">\n",
    "    <dt class=\"col-md-4\">离场信号</dt>\n",
    "    <dd class=\"col-md-8\">决定何时平调持有的头寸</dd>\n",
    "</dl>"
   ]
  },
  {
   "cell_type": "markdown",
   "metadata": {
    "slideshow": {
     "slide_type": "fragment"
    }
   },
   "source": [
    "- 离场信号包含\n",
    "    - 止盈\n",
    "    - 止损"
   ]
  },
  {
   "cell_type": "markdown",
   "metadata": {
    "slideshow": {
     "slide_type": "slide"
    }
   },
   "source": [
    "### 止盈"
   ]
  },
  {
   "cell_type": "markdown",
   "metadata": {
    "slideshow": {
     "slide_type": "fragment"
    }
   },
   "source": [
    "> 决定何时平掉持有的盈利头寸"
   ]
  },
  {
   "cell_type": "markdown",
   "metadata": {
    "slideshow": {
     "slide_type": "fragment"
    }
   },
   "source": [
    "- 是否有必要止盈？"
   ]
  },
  {
   "cell_type": "markdown",
   "metadata": {
    "slideshow": {
     "slide_type": "slide"
    }
   },
   "source": [
    "#### 止盈时机的选择"
   ]
  },
  {
   "cell_type": "markdown",
   "metadata": {
    "slideshow": {
     "slide_type": "fragment"
    }
   },
   "source": [
    "- 过早止盈：不能赚满整个趋势"
   ]
  },
  {
   "cell_type": "markdown",
   "metadata": {
    "slideshow": {
     "slide_type": "fragment"
    }
   },
   "source": [
    "<center><img src=\"./img/strategy/earlyWinExit.png\" width=100% /></center>"
   ]
  },
  {
   "cell_type": "markdown",
   "metadata": {
    "slideshow": {
     "slide_type": "slide"
    }
   },
   "source": [
    "- 过晚止盈：不能保住已经赚取的利润"
   ]
  },
  {
   "cell_type": "markdown",
   "metadata": {
    "slideshow": {
     "slide_type": "fragment"
    }
   },
   "source": [
    "<center><img src=\"./img/strategy/lateWinExit.png\" width=100% /></center>"
   ]
  },
  {
   "cell_type": "markdown",
   "metadata": {
    "slideshow": {
     "slide_type": "slide"
    }
   },
   "source": [
    "### 止损"
   ]
  },
  {
   "cell_type": "markdown",
   "metadata": {
    "slideshow": {
     "slide_type": "fragment"
    }
   },
   "source": [
    "> 决定何时平掉持有的亏损头寸"
   ]
  },
  {
   "cell_type": "markdown",
   "metadata": {
    "slideshow": {
     "slide_type": "fragment"
    }
   },
   "source": [
    "- 止损是在建立头寸之前，**预先**确定退出的价格位置"
   ]
  },
  {
   "cell_type": "markdown",
   "metadata": {
    "slideshow": {
     "slide_type": "fragment"
    }
   },
   "source": [
    "- 如果市场的波动触及止损价位，必须**每一次都毫无例外**退出"
   ]
  },
  {
   "cell_type": "markdown",
   "metadata": {
    "slideshow": {
     "slide_type": "fragment"
    }
   },
   "source": [
    "<center><img src=\"./img/strategy/stopLoss.png\" width=100%></center>"
   ]
  },
  {
   "cell_type": "markdown",
   "metadata": {
    "slideshow": {
     "slide_type": "skip"
    }
   },
   "source": [
    "长期来看，不会止住亏损的交易员不会取得成功。关于止亏，最重要的是在\n",
    "你建立头寸之前预先设定退出的点位。"
   ]
  },
  {
   "cell_type": "markdown",
   "metadata": {
    "slideshow": {
     "slide_type": "slide"
    }
   },
   "source": [
    "# “海龟”交易策略"
   ]
  },
  {
   "cell_type": "markdown",
   "metadata": {
    "slideshow": {
     "slide_type": "slide"
    }
   },
   "source": [
    "## 背景"
   ]
  },
  {
   "cell_type": "markdown",
   "metadata": {
    "slideshow": {
     "slide_type": "fragment"
    }
   },
   "source": [
    "> 伟大的交易员是天生造就还是后天培养的?\n"
   ]
  },
  {
   "cell_type": "markdown",
   "metadata": {
    "slideshow": {
     "slide_type": "fragment"
    }
   },
   "source": [
    "<center> <img src=\"./img/strategy/richard_dennis.jpg\" width=40%> </center>"
   ]
  },
  {
   "cell_type": "markdown",
   "metadata": {
    "slideshow": {
     "slide_type": "skip"
    }
   },
   "source": [
    "Richard Dennis是一个成功的交易员，他在1980年左右已经将他不到5000$的初始投资变成了1亿。\n",
    "他的合作伙伴William Eckhardt认为他的成功来自于他作为一个交易员的天分。\n",
    "但是Dennis不这样认为，他认为他的交易是建立在一套交易法则基础上的，任何人掌握了这套交易法则，将能够复制他的成功。\n",
    "最后他们决定做个实验来证实到底谁是对的。"
   ]
  },
  {
   "cell_type": "markdown",
   "metadata": {
    "slideshow": {
     "slide_type": "skip"
    }
   },
   "source": [
    "他们在《巴伦氏》、《华尔街期刊》和《纽约时报》上刊登了大幅广告，招聘交易学员。\n",
    "因为Richard或许是当时世界上最著名的交易员，所以有1000 多位申请人前来投奔他。他会见了其中的 80 位。\n",
    "这一群人精选出 13 个人。1983 年 12 月底，学员们\n",
    "被邀请到芝加哥进行两周的培训，到 1984 年 1 月初，学员们开始用小帐户进行交\n",
    "易。到了 2 月初，Richard给其中的大多数人提供了 50 万$\\sim$ 200 万美元的资金帐户。\n"
   ]
  },
  {
   "cell_type": "markdown",
   "metadata": {
    "slideshow": {
     "slide_type": "fragment"
    }
   },
   "source": [
    "- 从1000名报名者中挑选出13人\n",
    "- 1983 年 12 月底，学员们被邀请到芝加哥进行两周的培训\n",
    "- 1984 年初，Richard给其中的大多数人提供了 50 万$\\sim$ 200 万美元的资金帐用于交易\n",
    "- 学员们被称为“海龟”\n",
    "- 在随后的四年中海龟们取得了年均复利80%的收益"
   ]
  },
  {
   "cell_type": "markdown",
   "metadata": {
    "slideshow": {
     "slide_type": "skip"
    }
   },
   "source": [
    "\n",
    "学员们被称为“海龟”，因为Dennis相信他可以迅速的培养出交易员，就像新加坡的海龟培养员能迅速高效的培养出海龟一样。\n",
    "Dennis教授这些海龟们依靠科学的方法进行交易，以减少交易对心理的冲击，因为心理的脆弱最可能使得人们犯错误从而损失惨重。\n",
    "海龟成为交易史上最著名的实验，因为在随后的四年中海龟们取得了年均复利80%的收益。\n",
    "\n",
    "> Denniss证明了交易可以被传授。他证明了用一套简单的法则，他可以仅有很少或根本没有交易经验的人成为优秀的交易员。"
   ]
  },
  {
   "cell_type": "markdown",
   "metadata": {
    "slideshow": {
     "slide_type": "slide"
    }
   },
   "source": [
    "## 交易产品"
   ]
  },
  {
   "cell_type": "markdown",
   "metadata": {
    "slideshow": {
     "slide_type": "fragment"
    }
   },
   "source": [
    "- 芝加哥期货交易所（CBOT）    \n",
    "    - 30 年期美国长期国债（Treasury Bond）、10 年期美国中期国库券（Treasury Note）\n",
    "- 纽约咖啡可可与原糖交易所（NYCSC）    \n",
    "    - 咖啡、可可、原糖、棉花\n",
    "- 芝加哥商品交易所（CME）    \n",
    "    - 瑞士法郎、德国马克、英镑、法国法郎、日圆、加拿大元、标准普尔500股票指数、欧洲美元、天美国短期国库券（Treasury Bill）  \n",
    "- 纽约商品期货交易所（COMEX）    \n",
    "    - 黄金、白银、铜  \n",
    "- 纽约商业期货交易所（NYMEX）    \n",
    "    - 原油、燃油、无铅汽油 "
   ]
  },
  {
   "cell_type": "markdown",
   "metadata": {
    "slideshow": {
     "slide_type": "slide"
    }
   },
   "source": [
    "## 头寸规模"
   ]
  },
  {
   "cell_type": "markdown",
   "metadata": {
    "slideshow": {
     "slide_type": "fragment"
    }
   },
   "source": [
    "### 单位建仓量"
   ]
  },
  {
   "cell_type": "markdown",
   "metadata": {
    "slideshow": {
     "slide_type": "fragment"
    }
   },
   "source": [
    "- 计算当日实际波动范围（TR, True Range）：  \n",
    "  $$ \\text{TR} = \\max\\{\\text{H}-\\text{L}, \\lvert\\text{H}-\\text{PDC}\\rvert, \\lvert\\text{PDC}-\\text{L}\\rvert\\} $$\n",
    "  其中：  H——当日最高价，L——当日最低价，PDC——前个交易日的收盘价"
   ]
  },
  {
   "cell_type": "markdown",
   "metadata": {
    "slideshow": {
     "slide_type": "fragment"
    }
   },
   "source": [
    "<center><img src=\"./img/strategy/atr1.png\" width=80%></center>"
   ]
  },
  {
   "cell_type": "markdown",
   "metadata": {
    "slideshow": {
     "slide_type": "fragment"
    }
   },
   "source": [
    "- 计算 ATR (TR的20日平均）：  \n",
    "  $$ \\text{ATR}_t = (19\\times\\text{ATR}_{t-1} + \\text{TR})/20  $$ \n",
    "  其中：TR——当日的实际波动范围 "
   ]
  },
  {
   "cell_type": "markdown",
   "metadata": {
    "slideshow": {
     "slide_type": "slide"
    }
   },
   "source": [
    "<center><img src=\"./img/strategy/atr.png\" width=100%></center>"
   ]
  },
  {
   "cell_type": "markdown",
   "metadata": {
    "slideshow": {
     "slide_type": "slide"
    }
   },
   "source": [
    "- 计算单位建仓量\n",
    "   $$ \\text{1个建仓单位} = \\frac{\\text{帐户资金金额的}1\\%}{\\text{ATR}\\times\\text{每点价值量（交易单位）}} $$ "
   ]
  },
  {
   "cell_type": "markdown",
   "metadata": {
    "slideshow": {
     "slide_type": "slide"
    }
   },
   "source": [
    "### 最大头寸限制"
   ]
  },
  {
   "cell_type": "markdown",
   "metadata": {
    "slideshow": {
     "slide_type": "fragment"
    }
   },
   "source": [
    "<center>\n",
    "\n",
    "级别|类型|最大单位\n",
    "---|---|---   \n",
    "1|单一市场|4个单位\n",
    "2|高度相关市场|6个单位\n",
    "3|低度相关市场|10个单位  \n",
    "4|单向交易（多头或空头）|12个单位\n",
    "    \n",
    "</center>"
   ]
  },
  {
   "cell_type": "markdown",
   "metadata": {
    "slideshow": {
     "slide_type": "slide"
    }
   },
   "source": [
    "### 入市时机"
   ]
  },
  {
   "cell_type": "markdown",
   "metadata": {
    "slideshow": {
     "slide_type": "fragment"
    }
   },
   "source": [
    "> 以唐奇安通道(Donchian’s channel)突破作为入市时机"
   ]
  },
  {
   "cell_type": "markdown",
   "metadata": {
    "slideshow": {
     "slide_type": "fragment"
    }
   },
   "source": [
    "<dl class=\"row\"> \n",
    "    <dt class=\"col-md-4\">唐奇安通道</dt>\n",
    "    <dd class=\"col-md-8\">特定天数内的最高价和最低价组成的通道</dd>\n",
    "</dl>"
   ]
  },
  {
   "cell_type": "markdown",
   "metadata": {
    "slideshow": {
     "slide_type": "fragment"
    }
   },
   "source": [
    "<center><img src=\"./img/strategy/donchian.png\" width=100%></center>"
   ]
  },
  {
   "cell_type": "markdown",
   "metadata": {
    "slideshow": {
     "slide_type": "slide"
    }
   },
   "source": [
    "- 上线=$\\max（前T个交易日的最高价）$\n",
    "- 下线=$\\min（前T个交易日的最低价）$\n",
    "- 中线=（上线+下线）/2"
   ]
  },
  {
   "cell_type": "markdown",
   "metadata": {
    "slideshow": {
     "slide_type": "fragment"
    }
   },
   "source": [
    "- $T=20$，每个交易日结束之后更新当天的数据"
   ]
  },
  {
   "cell_type": "markdown",
   "metadata": {
    "slideshow": {
     "slide_type": "slide"
    }
   },
   "source": [
    "#### 初始建仓"
   ]
  },
  {
   "cell_type": "markdown",
   "metadata": {
    "slideshow": {
     "slide_type": "fragment"
    }
   },
   "source": [
    "- 如果当前价格<font color=\"red\"><strong>涨过</strong></font>了前20日的<font color=\"red\"><strong>最高价</strong></font>，建立1个单位**多头**寸\n",
    "- 如果当前价格<font color=\"green\"><strong>跌过</strong></font>了前20日的<font color=\"green\"><strong>最低价</strong></font>，建立1个单位**空头**寸。"
   ]
  },
  {
   "cell_type": "markdown",
   "metadata": {
    "slideshow": {
     "slide_type": "fragment"
    }
   },
   "source": [
    "> 在日间**突破发生时**进行交易，而不会等到每日收盘或次日开盘"
   ]
  },
  {
   "cell_type": "markdown",
   "metadata": {
    "slideshow": {
     "slide_type": "slide"
    }
   },
   "source": [
    "##### 读取螺纹钢日交易数据"
   ]
  },
  {
   "cell_type": "code",
   "execution_count": 107,
   "metadata": {
    "slideshow": {
     "slide_type": "fragment"
    }
   },
   "outputs": [
    {
     "data": {
      "text/html": [
       "<div>\n",
       "<style scoped>\n",
       "    .dataframe tbody tr th:only-of-type {\n",
       "        vertical-align: middle;\n",
       "    }\n",
       "\n",
       "    .dataframe tbody tr th {\n",
       "        vertical-align: top;\n",
       "    }\n",
       "\n",
       "    .dataframe thead th {\n",
       "        text-align: right;\n",
       "    }\n",
       "</style>\n",
       "<table border=\"1\" class=\"dataframe\">\n",
       "  <thead>\n",
       "    <tr style=\"text-align: right;\">\n",
       "      <th></th>\n",
       "      <th>ActionDay</th>\n",
       "      <th>Close</th>\n",
       "      <th>High</th>\n",
       "      <th>Low</th>\n",
       "    </tr>\n",
       "  </thead>\n",
       "  <tbody>\n",
       "    <tr>\n",
       "      <th>0</th>\n",
       "      <td>20160104</td>\n",
       "      <td>1775</td>\n",
       "      <td>1806</td>\n",
       "      <td>1773</td>\n",
       "    </tr>\n",
       "    <tr>\n",
       "      <th>1</th>\n",
       "      <td>20160105</td>\n",
       "      <td>1779</td>\n",
       "      <td>1790</td>\n",
       "      <td>1761</td>\n",
       "    </tr>\n",
       "    <tr>\n",
       "      <th>2</th>\n",
       "      <td>20160106</td>\n",
       "      <td>1783</td>\n",
       "      <td>1786</td>\n",
       "      <td>1766</td>\n",
       "    </tr>\n",
       "    <tr>\n",
       "      <th>3</th>\n",
       "      <td>20160107</td>\n",
       "      <td>1772</td>\n",
       "      <td>1786</td>\n",
       "      <td>1747</td>\n",
       "    </tr>\n",
       "    <tr>\n",
       "      <th>4</th>\n",
       "      <td>20160108</td>\n",
       "      <td>1752</td>\n",
       "      <td>1775</td>\n",
       "      <td>1750</td>\n",
       "    </tr>\n",
       "  </tbody>\n",
       "</table>\n",
       "</div>"
      ],
      "text/plain": [
       "   ActionDay  Close  High   Low\n",
       "0   20160104   1775  1806  1773\n",
       "1   20160105   1779  1790  1761\n",
       "2   20160106   1783  1786  1766\n",
       "3   20160107   1772  1786  1747\n",
       "4   20160108   1752  1775  1750"
      ]
     },
     "execution_count": 107,
     "metadata": {},
     "output_type": "execute_result"
    },
    {
     "data": {
      "text/plain": [
       "(1150, 4)"
      ]
     },
     "execution_count": 107,
     "metadata": {},
     "output_type": "execute_result"
    }
   ],
   "source": [
    "rbDaily = pd.read_csv('./data/strategy/rbDaily.csv')\n",
    "rbDaily.head()\n",
    "rbDaily.shape"
   ]
  },
  {
   "cell_type": "markdown",
   "metadata": {
    "slideshow": {
     "slide_type": "slide"
    }
   },
   "source": [
    "##### 计算TR"
   ]
  },
  {
   "cell_type": "code",
   "execution_count": 108,
   "metadata": {
    "slideshow": {
     "slide_type": "fragment"
    }
   },
   "outputs": [
    {
     "data": {
      "text/html": [
       "<div>\n",
       "<style scoped>\n",
       "    .dataframe tbody tr th:only-of-type {\n",
       "        vertical-align: middle;\n",
       "    }\n",
       "\n",
       "    .dataframe tbody tr th {\n",
       "        vertical-align: top;\n",
       "    }\n",
       "\n",
       "    .dataframe thead th {\n",
       "        text-align: right;\n",
       "    }\n",
       "</style>\n",
       "<table border=\"1\" class=\"dataframe\">\n",
       "  <thead>\n",
       "    <tr style=\"text-align: right;\">\n",
       "      <th></th>\n",
       "      <th>ActionDay</th>\n",
       "      <th>Close</th>\n",
       "      <th>High</th>\n",
       "      <th>Low</th>\n",
       "      <th>TR</th>\n",
       "    </tr>\n",
       "  </thead>\n",
       "  <tbody>\n",
       "    <tr>\n",
       "      <th>1145</th>\n",
       "      <td>20200826</td>\n",
       "      <td>3787</td>\n",
       "      <td>3793</td>\n",
       "      <td>3771</td>\n",
       "      <td>22.0</td>\n",
       "    </tr>\n",
       "    <tr>\n",
       "      <th>1146</th>\n",
       "      <td>20200827</td>\n",
       "      <td>3768</td>\n",
       "      <td>3796</td>\n",
       "      <td>3761</td>\n",
       "      <td>35.0</td>\n",
       "    </tr>\n",
       "    <tr>\n",
       "      <th>1147</th>\n",
       "      <td>20200828</td>\n",
       "      <td>3787</td>\n",
       "      <td>3789</td>\n",
       "      <td>3766</td>\n",
       "      <td>23.0</td>\n",
       "    </tr>\n",
       "    <tr>\n",
       "      <th>1148</th>\n",
       "      <td>20200831</td>\n",
       "      <td>3815</td>\n",
       "      <td>3829</td>\n",
       "      <td>3793</td>\n",
       "      <td>42.0</td>\n",
       "    </tr>\n",
       "    <tr>\n",
       "      <th>1149</th>\n",
       "      <td>20200901</td>\n",
       "      <td>3774</td>\n",
       "      <td>3818</td>\n",
       "      <td>3769</td>\n",
       "      <td>49.0</td>\n",
       "    </tr>\n",
       "  </tbody>\n",
       "</table>\n",
       "</div>"
      ],
      "text/plain": [
       "      ActionDay  Close  High   Low    TR\n",
       "1145   20200826   3787  3793  3771  22.0\n",
       "1146   20200827   3768  3796  3761  35.0\n",
       "1147   20200828   3787  3789  3766  23.0\n",
       "1148   20200831   3815  3829  3793  42.0\n",
       "1149   20200901   3774  3818  3769  49.0"
      ]
     },
     "execution_count": 108,
     "metadata": {},
     "output_type": "execute_result"
    }
   ],
   "source": [
    "for idx, row in rbDaily.iterrows():\n",
    "    if idx == 0:\n",
    "        rbDaily.loc[idx,'TR'] = row['High'] - row['Low']\n",
    "    else:\n",
    "        rbDaily.loc[idx,'TR'] = max(row['High'] - row['Low'],np.abs(rbDaily.loc[idx-1,'Close']-row['High']),np.abs(rbDaily.loc[idx-1,'Close']-row['High']))\n",
    "rbDaily.tail()"
   ]
  },
  {
   "cell_type": "markdown",
   "metadata": {
    "slideshow": {
     "slide_type": "slide"
    }
   },
   "source": [
    "##### 计算ATR"
   ]
  },
  {
   "cell_type": "code",
   "execution_count": 109,
   "metadata": {
    "scrolled": true,
    "slideshow": {
     "slide_type": "fragment"
    }
   },
   "outputs": [
    {
     "data": {
      "text/html": [
       "<div>\n",
       "<style scoped>\n",
       "    .dataframe tbody tr th:only-of-type {\n",
       "        vertical-align: middle;\n",
       "    }\n",
       "\n",
       "    .dataframe tbody tr th {\n",
       "        vertical-align: top;\n",
       "    }\n",
       "\n",
       "    .dataframe thead th {\n",
       "        text-align: right;\n",
       "    }\n",
       "</style>\n",
       "<table border=\"1\" class=\"dataframe\">\n",
       "  <thead>\n",
       "    <tr style=\"text-align: right;\">\n",
       "      <th></th>\n",
       "      <th>ActionDay</th>\n",
       "      <th>Close</th>\n",
       "      <th>High</th>\n",
       "      <th>Low</th>\n",
       "      <th>TR</th>\n",
       "      <th>ATR</th>\n",
       "    </tr>\n",
       "  </thead>\n",
       "  <tbody>\n",
       "    <tr>\n",
       "      <th>0</th>\n",
       "      <td>20160104</td>\n",
       "      <td>1775</td>\n",
       "      <td>1806</td>\n",
       "      <td>1773</td>\n",
       "      <td>33.0</td>\n",
       "      <td>NaN</td>\n",
       "    </tr>\n",
       "    <tr>\n",
       "      <th>1</th>\n",
       "      <td>20160105</td>\n",
       "      <td>1779</td>\n",
       "      <td>1790</td>\n",
       "      <td>1761</td>\n",
       "      <td>29.0</td>\n",
       "      <td>NaN</td>\n",
       "    </tr>\n",
       "    <tr>\n",
       "      <th>2</th>\n",
       "      <td>20160106</td>\n",
       "      <td>1783</td>\n",
       "      <td>1786</td>\n",
       "      <td>1766</td>\n",
       "      <td>20.0</td>\n",
       "      <td>NaN</td>\n",
       "    </tr>\n",
       "    <tr>\n",
       "      <th>3</th>\n",
       "      <td>20160107</td>\n",
       "      <td>1772</td>\n",
       "      <td>1786</td>\n",
       "      <td>1747</td>\n",
       "      <td>39.0</td>\n",
       "      <td>NaN</td>\n",
       "    </tr>\n",
       "    <tr>\n",
       "      <th>4</th>\n",
       "      <td>20160108</td>\n",
       "      <td>1752</td>\n",
       "      <td>1775</td>\n",
       "      <td>1750</td>\n",
       "      <td>25.0</td>\n",
       "      <td>NaN</td>\n",
       "    </tr>\n",
       "    <tr>\n",
       "      <th>5</th>\n",
       "      <td>20160109</td>\n",
       "      <td>1754</td>\n",
       "      <td>1756</td>\n",
       "      <td>1748</td>\n",
       "      <td>8.0</td>\n",
       "      <td>NaN</td>\n",
       "    </tr>\n",
       "    <tr>\n",
       "      <th>6</th>\n",
       "      <td>20160111</td>\n",
       "      <td>1753</td>\n",
       "      <td>1772</td>\n",
       "      <td>1750</td>\n",
       "      <td>22.0</td>\n",
       "      <td>NaN</td>\n",
       "    </tr>\n",
       "    <tr>\n",
       "      <th>7</th>\n",
       "      <td>20160112</td>\n",
       "      <td>1744</td>\n",
       "      <td>1759</td>\n",
       "      <td>1735</td>\n",
       "      <td>24.0</td>\n",
       "      <td>NaN</td>\n",
       "    </tr>\n",
       "    <tr>\n",
       "      <th>8</th>\n",
       "      <td>20160113</td>\n",
       "      <td>1740</td>\n",
       "      <td>1748</td>\n",
       "      <td>1736</td>\n",
       "      <td>12.0</td>\n",
       "      <td>NaN</td>\n",
       "    </tr>\n",
       "    <tr>\n",
       "      <th>9</th>\n",
       "      <td>20160114</td>\n",
       "      <td>1773</td>\n",
       "      <td>1777</td>\n",
       "      <td>1732</td>\n",
       "      <td>45.0</td>\n",
       "      <td>NaN</td>\n",
       "    </tr>\n",
       "    <tr>\n",
       "      <th>10</th>\n",
       "      <td>20160115</td>\n",
       "      <td>1794</td>\n",
       "      <td>1796</td>\n",
       "      <td>1760</td>\n",
       "      <td>36.0</td>\n",
       "      <td>NaN</td>\n",
       "    </tr>\n",
       "    <tr>\n",
       "      <th>11</th>\n",
       "      <td>20160116</td>\n",
       "      <td>1797</td>\n",
       "      <td>1798</td>\n",
       "      <td>1792</td>\n",
       "      <td>6.0</td>\n",
       "      <td>NaN</td>\n",
       "    </tr>\n",
       "    <tr>\n",
       "      <th>12</th>\n",
       "      <td>20160118</td>\n",
       "      <td>1826</td>\n",
       "      <td>1832</td>\n",
       "      <td>1793</td>\n",
       "      <td>39.0</td>\n",
       "      <td>NaN</td>\n",
       "    </tr>\n",
       "    <tr>\n",
       "      <th>13</th>\n",
       "      <td>20160119</td>\n",
       "      <td>1834</td>\n",
       "      <td>1842</td>\n",
       "      <td>1817</td>\n",
       "      <td>25.0</td>\n",
       "      <td>NaN</td>\n",
       "    </tr>\n",
       "    <tr>\n",
       "      <th>14</th>\n",
       "      <td>20160120</td>\n",
       "      <td>1812</td>\n",
       "      <td>1836</td>\n",
       "      <td>1805</td>\n",
       "      <td>31.0</td>\n",
       "      <td>NaN</td>\n",
       "    </tr>\n",
       "    <tr>\n",
       "      <th>15</th>\n",
       "      <td>20160121</td>\n",
       "      <td>1829</td>\n",
       "      <td>1832</td>\n",
       "      <td>1806</td>\n",
       "      <td>26.0</td>\n",
       "      <td>NaN</td>\n",
       "    </tr>\n",
       "    <tr>\n",
       "      <th>16</th>\n",
       "      <td>20160122</td>\n",
       "      <td>1835</td>\n",
       "      <td>1855</td>\n",
       "      <td>1820</td>\n",
       "      <td>35.0</td>\n",
       "      <td>NaN</td>\n",
       "    </tr>\n",
       "    <tr>\n",
       "      <th>17</th>\n",
       "      <td>20160123</td>\n",
       "      <td>1831</td>\n",
       "      <td>1837</td>\n",
       "      <td>1830</td>\n",
       "      <td>7.0</td>\n",
       "      <td>NaN</td>\n",
       "    </tr>\n",
       "    <tr>\n",
       "      <th>18</th>\n",
       "      <td>20160125</td>\n",
       "      <td>1837</td>\n",
       "      <td>1855</td>\n",
       "      <td>1832</td>\n",
       "      <td>24.0</td>\n",
       "      <td>NaN</td>\n",
       "    </tr>\n",
       "    <tr>\n",
       "      <th>19</th>\n",
       "      <td>20160126</td>\n",
       "      <td>1854</td>\n",
       "      <td>1856</td>\n",
       "      <td>1834</td>\n",
       "      <td>22.0</td>\n",
       "      <td>25.400000</td>\n",
       "    </tr>\n",
       "    <tr>\n",
       "      <th>20</th>\n",
       "      <td>20160127</td>\n",
       "      <td>1847</td>\n",
       "      <td>1871</td>\n",
       "      <td>1845</td>\n",
       "      <td>26.0</td>\n",
       "      <td>25.430000</td>\n",
       "    </tr>\n",
       "    <tr>\n",
       "      <th>21</th>\n",
       "      <td>20160128</td>\n",
       "      <td>1810</td>\n",
       "      <td>1853</td>\n",
       "      <td>1809</td>\n",
       "      <td>44.0</td>\n",
       "      <td>26.358500</td>\n",
       "    </tr>\n",
       "    <tr>\n",
       "      <th>22</th>\n",
       "      <td>20160129</td>\n",
       "      <td>1844</td>\n",
       "      <td>1845</td>\n",
       "      <td>1805</td>\n",
       "      <td>40.0</td>\n",
       "      <td>27.040575</td>\n",
       "    </tr>\n",
       "    <tr>\n",
       "      <th>23</th>\n",
       "      <td>20160130</td>\n",
       "      <td>1835</td>\n",
       "      <td>1845</td>\n",
       "      <td>1834</td>\n",
       "      <td>11.0</td>\n",
       "      <td>26.238546</td>\n",
       "    </tr>\n",
       "    <tr>\n",
       "      <th>24</th>\n",
       "      <td>20160201</td>\n",
       "      <td>1817</td>\n",
       "      <td>1839</td>\n",
       "      <td>1807</td>\n",
       "      <td>32.0</td>\n",
       "      <td>26.526619</td>\n",
       "    </tr>\n",
       "    <tr>\n",
       "      <th>25</th>\n",
       "      <td>20160202</td>\n",
       "      <td>1816</td>\n",
       "      <td>1828</td>\n",
       "      <td>1801</td>\n",
       "      <td>27.0</td>\n",
       "      <td>26.550288</td>\n",
       "    </tr>\n",
       "    <tr>\n",
       "      <th>26</th>\n",
       "      <td>20160203</td>\n",
       "      <td>1838</td>\n",
       "      <td>1844</td>\n",
       "      <td>1807</td>\n",
       "      <td>37.0</td>\n",
       "      <td>27.072774</td>\n",
       "    </tr>\n",
       "    <tr>\n",
       "      <th>27</th>\n",
       "      <td>20160204</td>\n",
       "      <td>1843</td>\n",
       "      <td>1862</td>\n",
       "      <td>1836</td>\n",
       "      <td>26.0</td>\n",
       "      <td>27.019135</td>\n",
       "    </tr>\n",
       "    <tr>\n",
       "      <th>28</th>\n",
       "      <td>20160205</td>\n",
       "      <td>1843</td>\n",
       "      <td>1845</td>\n",
       "      <td>1826</td>\n",
       "      <td>19.0</td>\n",
       "      <td>26.618178</td>\n",
       "    </tr>\n",
       "    <tr>\n",
       "      <th>29</th>\n",
       "      <td>20160215</td>\n",
       "      <td>1875</td>\n",
       "      <td>1880</td>\n",
       "      <td>1834</td>\n",
       "      <td>46.0</td>\n",
       "      <td>27.587269</td>\n",
       "    </tr>\n",
       "  </tbody>\n",
       "</table>\n",
       "</div>"
      ],
      "text/plain": [
       "    ActionDay  Close  High   Low    TR        ATR\n",
       "0    20160104   1775  1806  1773  33.0        NaN\n",
       "1    20160105   1779  1790  1761  29.0        NaN\n",
       "2    20160106   1783  1786  1766  20.0        NaN\n",
       "3    20160107   1772  1786  1747  39.0        NaN\n",
       "4    20160108   1752  1775  1750  25.0        NaN\n",
       "5    20160109   1754  1756  1748   8.0        NaN\n",
       "6    20160111   1753  1772  1750  22.0        NaN\n",
       "7    20160112   1744  1759  1735  24.0        NaN\n",
       "8    20160113   1740  1748  1736  12.0        NaN\n",
       "9    20160114   1773  1777  1732  45.0        NaN\n",
       "10   20160115   1794  1796  1760  36.0        NaN\n",
       "11   20160116   1797  1798  1792   6.0        NaN\n",
       "12   20160118   1826  1832  1793  39.0        NaN\n",
       "13   20160119   1834  1842  1817  25.0        NaN\n",
       "14   20160120   1812  1836  1805  31.0        NaN\n",
       "15   20160121   1829  1832  1806  26.0        NaN\n",
       "16   20160122   1835  1855  1820  35.0        NaN\n",
       "17   20160123   1831  1837  1830   7.0        NaN\n",
       "18   20160125   1837  1855  1832  24.0        NaN\n",
       "19   20160126   1854  1856  1834  22.0  25.400000\n",
       "20   20160127   1847  1871  1845  26.0  25.430000\n",
       "21   20160128   1810  1853  1809  44.0  26.358500\n",
       "22   20160129   1844  1845  1805  40.0  27.040575\n",
       "23   20160130   1835  1845  1834  11.0  26.238546\n",
       "24   20160201   1817  1839  1807  32.0  26.526619\n",
       "25   20160202   1816  1828  1801  27.0  26.550288\n",
       "26   20160203   1838  1844  1807  37.0  27.072774\n",
       "27   20160204   1843  1862  1836  26.0  27.019135\n",
       "28   20160205   1843  1845  1826  19.0  26.618178\n",
       "29   20160215   1875  1880  1834  46.0  27.587269"
      ]
     },
     "execution_count": 109,
     "metadata": {},
     "output_type": "execute_result"
    }
   ],
   "source": [
    "rbDaily.loc[19,'ATR'] = rbDaily.loc[:19,'TR'].sum()/20\n",
    "for idx, row in rbDaily.iterrows():\n",
    "    if idx > 19:\n",
    "        rbDaily.loc[idx,'ATR'] = (19*rbDaily.loc[idx-1,'ATR']+row['TR'])/20\n",
    "\n",
    "rbDaily.head(30)"
   ]
  },
  {
   "cell_type": "markdown",
   "metadata": {
    "slideshow": {
     "slide_type": "slide"
    }
   },
   "source": [
    "##### 计算单位头寸"
   ]
  },
  {
   "cell_type": "code",
   "execution_count": 110,
   "metadata": {
    "scrolled": true,
    "slideshow": {
     "slide_type": "fragment"
    }
   },
   "outputs": [
    {
     "data": {
      "text/html": [
       "<div>\n",
       "<style scoped>\n",
       "    .dataframe tbody tr th:only-of-type {\n",
       "        vertical-align: middle;\n",
       "    }\n",
       "\n",
       "    .dataframe tbody tr th {\n",
       "        vertical-align: top;\n",
       "    }\n",
       "\n",
       "    .dataframe thead th {\n",
       "        text-align: right;\n",
       "    }\n",
       "</style>\n",
       "<table border=\"1\" class=\"dataframe\">\n",
       "  <thead>\n",
       "    <tr style=\"text-align: right;\">\n",
       "      <th></th>\n",
       "      <th>ActionDay</th>\n",
       "      <th>Close</th>\n",
       "      <th>High</th>\n",
       "      <th>Low</th>\n",
       "      <th>TR</th>\n",
       "      <th>ATR</th>\n",
       "    </tr>\n",
       "  </thead>\n",
       "  <tbody>\n",
       "    <tr>\n",
       "      <th>1145</th>\n",
       "      <td>20200826</td>\n",
       "      <td>3787</td>\n",
       "      <td>3793</td>\n",
       "      <td>3771</td>\n",
       "      <td>22.0</td>\n",
       "      <td>46.155819</td>\n",
       "    </tr>\n",
       "    <tr>\n",
       "      <th>1146</th>\n",
       "      <td>20200827</td>\n",
       "      <td>3768</td>\n",
       "      <td>3796</td>\n",
       "      <td>3761</td>\n",
       "      <td>35.0</td>\n",
       "      <td>45.598028</td>\n",
       "    </tr>\n",
       "    <tr>\n",
       "      <th>1147</th>\n",
       "      <td>20200828</td>\n",
       "      <td>3787</td>\n",
       "      <td>3789</td>\n",
       "      <td>3766</td>\n",
       "      <td>23.0</td>\n",
       "      <td>44.468126</td>\n",
       "    </tr>\n",
       "    <tr>\n",
       "      <th>1148</th>\n",
       "      <td>20200831</td>\n",
       "      <td>3815</td>\n",
       "      <td>3829</td>\n",
       "      <td>3793</td>\n",
       "      <td>42.0</td>\n",
       "      <td>44.344720</td>\n",
       "    </tr>\n",
       "    <tr>\n",
       "      <th>1149</th>\n",
       "      <td>20200901</td>\n",
       "      <td>3774</td>\n",
       "      <td>3818</td>\n",
       "      <td>3769</td>\n",
       "      <td>49.0</td>\n",
       "      <td>44.577484</td>\n",
       "    </tr>\n",
       "  </tbody>\n",
       "</table>\n",
       "</div>"
      ],
      "text/plain": [
       "      ActionDay  Close  High   Low    TR        ATR\n",
       "1145   20200826   3787  3793  3771  22.0  46.155819\n",
       "1146   20200827   3768  3796  3761  35.0  45.598028\n",
       "1147   20200828   3787  3789  3766  23.0  44.468126\n",
       "1148   20200831   3815  3829  3793  42.0  44.344720\n",
       "1149   20200901   3774  3818  3769  49.0  44.577484"
      ]
     },
     "execution_count": 110,
     "metadata": {},
     "output_type": "execute_result"
    }
   ],
   "source": [
    "rbDaily.tail()"
   ]
  },
  {
   "cell_type": "code",
   "execution_count": 116,
   "metadata": {
    "slideshow": {
     "slide_type": "fragment"
    }
   },
   "outputs": [
    {
     "data": {
      "text/plain": [
       "21.665740746075873"
      ]
     },
     "execution_count": 116,
     "metadata": {},
     "output_type": "execute_result"
    }
   ],
   "source": [
    "rawUnit = 1000000*0.01/(rbDaily.loc[1145,'ATR']*10)\n",
    "rawUnit"
   ]
  },
  {
   "cell_type": "code",
   "execution_count": 117,
   "metadata": {
    "slideshow": {
     "slide_type": "fragment"
    }
   },
   "outputs": [
    {
     "data": {
      "text/plain": [
       "21.0"
      ]
     },
     "execution_count": 117,
     "metadata": {},
     "output_type": "execute_result"
    }
   ],
   "source": [
    "unit = np.floor(rawUnit)\n",
    "unit"
   ]
  },
  {
   "cell_type": "markdown",
   "metadata": {
    "slideshow": {
     "slide_type": "slide"
    }
   },
   "source": [
    "#### 加仓 "
   ]
  },
  {
   "cell_type": "markdown",
   "metadata": {
    "slideshow": {
     "slide_type": "fragment"
    }
   },
   "source": [
    "- 在上一次实际成交价格的基础上，以$\\frac{1}{2}$ATR的间隔增加头寸"
   ]
  },
  {
   "cell_type": "markdown",
   "metadata": {
    "slideshow": {
     "slide_type": "fragment"
    }
   },
   "source": [
    "- 假设rb的建仓价格为3800，ATR=46\n",
    "    - 第1个单位头寸：$3800$\n",
    "    - 第2个单位头寸：$3800+1/2*46=3823$\n",
    "    - 第3个单位头寸：$3823+1/2*46=3846$\n",
    "    - 第4个单位头寸：$3846+1/2*46=3869$"
   ]
  },
  {
   "cell_type": "markdown",
   "metadata": {
    "slideshow": {
     "slide_type": "slide"
    }
   },
   "source": [
    "### 止损"
   ]
  },
  {
   "cell_type": "markdown",
   "metadata": {
    "slideshow": {
     "slide_type": "fragment"
    }
   },
   "source": [
    "> 以头寸风险为基础设置止损，任何一笔交易都不能出现 2%以上的风险"
   ]
  },
  {
   "cell_type": "markdown",
   "metadata": {
    "slideshow": {
     "slide_type": "fragment"
    }
   },
   "source": [
    "- 因为1个ATR对应的价格波动代表1%的账户权益，因此2%的风险对应价格相对于建仓方向反向波动**2个ATR**"
   ]
  },
  {
   "cell_type": "markdown",
   "metadata": {
    "slideshow": {
     "slide_type": "fragment"
    }
   },
   "source": [
    "- 例如，在3800元/吨建立第一个单位的rb头寸，则止损价位为：\n",
    "    - $3800-2\\times 46=3708$"
   ]
  },
  {
   "cell_type": "markdown",
   "metadata": {
    "slideshow": {
     "slide_type": "slide"
    }
   },
   "source": [
    "> 海龟系统的止损能够适应市场的波动性"
   ]
  },
  {
   "cell_type": "markdown",
   "metadata": {
    "slideshow": {
     "slide_type": "fragment"
    }
   },
   "source": [
    "- 加仓之后，前面仓位的止损价格增加$\\frac{1}{2}$ATR，导致所有仓位的止损价格距离最近加仓价格的距离为2ATR"
   ]
  },
  {
   "cell_type": "markdown",
   "metadata": {
    "slideshow": {
     "slide_type": "fragment"
    }
   },
   "source": [
    "<center><img src=\"./img/strategy/stopLevel.png\" width=80%></center>"
   ]
  },
  {
   "cell_type": "markdown",
   "metadata": {
    "slideshow": {
     "slide_type": "slide"
    }
   },
   "source": [
    "### 止盈"
   ]
  },
  {
   "cell_type": "markdown",
   "metadata": {
    "slideshow": {
     "slide_type": "fragment"
    }
   },
   "source": [
    "- 如果持有多头头寸，则当价格跌破 10 日最低价的时候离场\n",
    "- 如果持有空头头寸，则当价格涨过10 日最高价的时候离场"
   ]
  },
  {
   "cell_type": "markdown",
   "metadata": {
    "slideshow": {
     "slide_type": "skip"
    }
   },
   "source": [
    "海龟交易系统是一个完整的交易系统，它包括了交易的各个方面，实际上没\n",
    "有给交易员留下一点主观想象决策的余地。\n",
    "海龟策略从本质上讲是一个趋势跟随模型，通过唐安奇通道等突破方法确定入场和离场信号。海龟交易法则与其说是策略，不如说是一套系统，它不仅决定买卖什么、买卖多少、什么时候买卖、什么时候止损，还决定具体怎么买卖。"
   ]
  }
 ],
 "metadata": {
  "celltoolbar": "Slideshow",
  "hide_input": false,
  "kernelspec": {
   "display_name": "Python 3",
   "language": "python",
   "name": "python3"
  },
  "language_info": {
   "codemirror_mode": {
    "name": "ipython",
    "version": 3
   },
   "file_extension": ".py",
   "mimetype": "text/x-python",
   "name": "python",
   "nbconvert_exporter": "python",
   "pygments_lexer": "ipython3",
   "version": "3.6.8"
  },
  "toc": {
   "base_numbering": 1,
   "nav_menu": {},
   "number_sections": true,
   "sideBar": true,
   "skip_h1_title": false,
   "title_cell": "Table of Contents",
   "title_sidebar": "Contents",
   "toc_cell": false,
   "toc_position": {
    "height": "666.977px",
    "left": "46px",
    "top": "0px",
    "width": "219.5px"
   },
   "toc_section_display": true,
   "toc_window_display": false
  }
 },
 "nbformat": 4,
 "nbformat_minor": 2
}
