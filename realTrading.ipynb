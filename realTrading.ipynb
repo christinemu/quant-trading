{
 "cells": [
  {
   "cell_type": "code",
   "execution_count": 40,
   "metadata": {
    "slideshow": {
     "slide_type": "skip"
    }
   },
   "outputs": [],
   "source": [
    "from datetime import datetime\n",
    "import pandas as pd\n",
    "import pandas_datareader.data as web\n",
    "import numpy as np\n",
    "import mplfinance as mpf\n",
    "from pyalgotrade import strategy, plotter\n",
    "from pyalgotrade.technical import bollinger\n",
    "from pyalgotrade.stratanalyzer import returns, sharpe, trades, drawdown\n",
    "from pyalgotrade.barfeed import csvfeed\n",
    "from pyalgotrade.bar import Frequency\n",
    "from pyalgotrade.broker import backtesting, slippage\n",
    "from IPython.core.interactiveshell import InteractiveShell\n",
    "InteractiveShell.ast_node_interactivity = \"all\""
   ]
  },
  {
   "cell_type": "markdown",
   "metadata": {
    "slideshow": {
     "slide_type": "slide"
    }
   },
   "source": [
    "<div class=\"jumbotron\">\n",
    "    <p class=\"display-1 h1\">实盘交易</p>\n",
    "    <hr class=\"my-4\">\n",
    "    <p>主讲：李岩</p>\n",
    "    <p>管理学院</p>\n",
    "    <p>liyan@cumtb.edu.cn</p>\n",
    "</div>"
   ]
  },
  {
   "cell_type": "markdown",
   "metadata": {
    "slideshow": {
     "slide_type": "fragment"
    }
   },
   "source": [
    "- 实盘交易需要考虑的问题\n",
    "    - 交易成本\n",
    "    - 风险控制\n",
    "    - 交易系统"
   ]
  },
  {
   "cell_type": "markdown",
   "metadata": {
    "slideshow": {
     "slide_type": "slide"
    }
   },
   "source": [
    "# 交易成本"
   ]
  },
  {
   "cell_type": "markdown",
   "metadata": {
    "slideshow": {
     "slide_type": "fragment"
    }
   },
   "source": [
    "- 交易成本（transaction cost）：买卖标的品种所需要的成本"
   ]
  },
  {
   "cell_type": "markdown",
   "metadata": {
    "slideshow": {
     "slide_type": "fragment"
    }
   },
   "source": [
    "- 分类\n",
    "    - 显性交易成本：在交易之前可以准确测算\n",
    "    - 隐性交易成本：在交易过程中由于市场环境等因素的不确定性产生"
   ]
  },
  {
   "cell_type": "markdown",
   "metadata": {
    "slideshow": {
     "slide_type": "slide"
    }
   },
   "source": [
    "## 显性交易成本"
   ]
  },
  {
   "cell_type": "markdown",
   "metadata": {
    "slideshow": {
     "slide_type": "fragment"
    }
   },
   "source": [
    "### 手续费"
   ]
  },
  {
   "cell_type": "markdown",
   "metadata": {
    "slideshow": {
     "slide_type": "fragment"
    }
   },
   "source": [
    "- 手续费（commissions and fees）：交给经纪商（brokerages）和交易所（exchanges）的费用"
   ]
  },
  {
   "cell_type": "markdown",
   "metadata": {
    "slideshow": {
     "slide_type": "fragment"
    }
   },
   "source": [
    "- 期货交易手续费有两种表示方法"
   ]
  },
  {
   "cell_type": "markdown",
   "metadata": {
    "slideshow": {
     "slide_type": "fragment"
    }
   },
   "source": [
    "1. 交易金额的固定比例，比如，`rb`的手续费率为0.1&permil;"
   ]
  },
  {
   "cell_type": "markdown",
   "metadata": {
    "slideshow": {
     "slide_type": "fragment"
    }
   },
   "source": [
    "- `rb2101`的开仓成交价为3627元，则手续费为$3627\\times 10\\times 0.1$&permil;$=3.63$元"
   ]
  },
  {
   "cell_type": "markdown",
   "metadata": {
    "slideshow": {
     "slide_type": "fragment"
    }
   },
   "source": [
    "2. 每手的固定金额，比如，`ru`的手续费额为3元/手"
   ]
  },
  {
   "cell_type": "markdown",
   "metadata": {
    "slideshow": {
     "slide_type": "fragment"
    }
   },
   "source": [
    "- `rb`基于布林线的均值回归策略，累积盈利$3165$元，交易次数为$266$次\n",
    "    - 一次完整交易（开平）手续费为$7.26$元，总手续费为$7.26\\times 266=1931$元"
   ]
  },
  {
   "cell_type": "markdown",
   "metadata": {
    "slideshow": {
     "slide_type": "slide"
    }
   },
   "source": [
    "### `pyalgotrade`中手续费的设置"
   ]
  },
  {
   "cell_type": "markdown",
   "metadata": {
    "slideshow": {
     "slide_type": "fragment"
    }
   },
   "source": [
    "```python\n",
    "    pyalgotrade.broker.backtesting.TradePercentage(percentage)\n",
    "    pyalgotrade.broker.backtesting.FixedPerTrade(amount)\n",
    "```\n",
    "- `percentage`：比例\n",
    "- `amount`：金额"
   ]
  },
  {
   "cell_type": "markdown",
   "metadata": {
    "slideshow": {
     "slide_type": "slide"
    }
   },
   "source": [
    "#### 设置手续费"
   ]
  },
  {
   "cell_type": "markdown",
   "metadata": {
    "slideshow": {
     "slide_type": "fragment"
    }
   },
   "source": [
    "<center><img src=\"./img/realTrading/commissionSetting.png\" width=100%></center>"
   ]
  },
  {
   "cell_type": "code",
   "execution_count": 70,
   "metadata": {
    "slideshow": {
     "slide_type": "slide"
    }
   },
   "outputs": [],
   "source": [
    "class myBBands(strategy.BacktestingStrategy):\n",
    "    \n",
    "    def __init__(self, feed, instrument, bBandsPeriod, numDev, initEquity, lots):\n",
    "        super(myBBands, self).__init__(feed, initEquity)\n",
    "        self.__instrument = instrument\n",
    "        self.__bbands = bollinger.BollingerBands(feed[instrument].getCloseDataSeries(), bBandsPeriod, numDev)\n",
    "        self.__positivePosition = None\n",
    "        self.__negativePosition = None\n",
    "        self.__commission = 0\n",
    "        self.__lots = lots\n",
    "\n",
    "    def getBollingerBands(self):\n",
    "        return self.__bbands\n",
    "    \n",
    "    def getCommission(self):\n",
    "        return self.__commission\n",
    "    \n",
    "    def onExitOk(self, position):\n",
    "        order = position.getExitOrder()\n",
    "        execInfo = order.getExecutionInfo()\n",
    "        self.__commission += execInfo.getCommission()\n",
    "#         self.info(f'{self.action_type(order)}，价格为{execInfo.getPrice():.2f}，手续费为{execInfo.getCommission():.2f}')\n",
    "        if self.__negativePosition == position:\n",
    "            self.__negativePosition = None\n",
    "        elif self.__positivePosition == position:\n",
    "            self.__positivePosition = None\n",
    "        \n",
    "    def onEnterOk(self, position):\n",
    "        order = position.getEntryOrder()\n",
    "        execInfo = order.getExecutionInfo()\n",
    "        self.__commission += execInfo.getCommission()\n",
    "#         self.info(f'{self.action_type(order)}，价格为{execInfo.getPrice():.2f}，手续费为{execInfo.getCommission():.2f}')\n",
    "        \n",
    "    def action_type(self, order):\n",
    "        actionType = order.getAction()\n",
    "        typeMeaning = ''\n",
    "        if actionType == 1:\n",
    "            typeMeaning = '建多仓'\n",
    "        elif actionType == 2:\n",
    "            typeMeaning = '平空仓'\n",
    "        elif actionType == 3:\n",
    "            typeMeaning = '平多仓'\n",
    "        elif actionType == 4:\n",
    "            typeMeaning = '建空仓'\n",
    "        return typeMeaning\n",
    "            \n",
    "\n",
    "    def onBars(self, bars):\n",
    "        lower = self.__bbands.getLowerBand()[-1]\n",
    "        upper = self.__bbands.getUpperBand()[-1]\n",
    "        if lower is None:\n",
    "            return\n",
    "\n",
    "        bar = bars[self.__instrument]\n",
    "        \n",
    "        if bar.getClose() < lower:\n",
    "            if self.__negativePosition is not None and self.__negativePosition.exitActive() is False:\n",
    "                # 有空仓，并且没有平空仓的挂单\n",
    "                self.__negativePosition.exitMarket()\n",
    "            if self.__positivePosition is None:\n",
    "                # 没有多仓\n",
    "                self.__positivePosition = self.enterLong(self.__instrument, self.__lots)\n",
    "        elif bar.getClose() > upper:\n",
    "            if self.__positivePosition is not None and self.__positivePosition.exitActive() is False:\n",
    "                # 有多仓，并且没有平多仓的挂单\n",
    "                self.__positivePosition.exitMarket()\n",
    "            if self.__negativePosition is None:\n",
    "                # 没有空仓\n",
    "                self.__negativePosition = self.enterShort(self.__instrument, self.__lots)"
   ]
  },
  {
   "cell_type": "code",
   "execution_count": 16,
   "metadata": {
    "slideshow": {
     "slide_type": "fragment"
    }
   },
   "outputs": [],
   "source": [
    "def read_data(instrument):\n",
    "    strFeed = csvfeed.GenericBarFeed(Frequency.MINUTE)\n",
    "    strFeed.addBarsFromCSV(instrument,'./data/performance/rb.csv')\n",
    "    return strFeed"
   ]
  },
  {
   "cell_type": "code",
   "execution_count": 62,
   "metadata": {
    "slideshow": {
     "slide_type": "fragment"
    }
   },
   "outputs": [],
   "source": [
    "def main():\n",
    "    instrument = 'rb'\n",
    "    multiplier = 10\n",
    "    bBandsPeriod = 40\n",
    "    numDev = 3\n",
    "    feed = read_data(instrument)\n",
    " \n",
    "    # 建立比例手续费对象\n",
    "    cmFee = backtesting.TradePercentage(0.001)\n",
    "    slip = slippage.VolumeShareSlippage(100)\n",
    "        \n",
    "    strat = myBBands(feed, instrument, bBandsPeriod, numDev, 50000, 5)\n",
    "    \n",
    "    # 给策略对应的broker设置手续费\n",
    "    strat.getBroker().setCommission(cmFee)\n",
    "    strat.run()\n",
    "    \n",
    "    finalEquity = strat.getResult()\n",
    "    \n",
    "    print(f'最终权益为：{finalEquity:.2f}')\n",
    "    print(f'手续费为：{strat.getCommission():.2f}')\n",
    "    print(f'最终权益(不考虑手续费)为：{finalEquity+strat.getCommission():.2f}')"
   ]
  },
  {
   "cell_type": "code",
   "execution_count": 58,
   "metadata": {
    "slideshow": {
     "slide_type": "slide"
    }
   },
   "outputs": [
    {
     "name": "stderr",
     "output_type": "stream",
     "text": [
      "2019-12-05 14:55:00 strategy [INFO] 建多仓，价格为3412.00，手续费为17.06\n",
      "2019-12-06 13:54:00 strategy [INFO] 平多仓，价格为3434.00，手续费为17.17\n",
      "2019-12-06 13:54:00 strategy [INFO] 建空仓，价格为3434.00，手续费为17.17\n",
      "2019-12-10 14:15:00 strategy [INFO] 平空仓，价格为3507.00，手续费为17.54\n",
      "2019-12-10 14:15:00 strategy [INFO] 建多仓，价格为3507.00，手续费为17.54\n",
      "2019-12-10 21:03:00 strategy [INFO] 平多仓，价格为3516.00，手续费为17.58\n",
      "2019-12-10 21:03:00 strategy [INFO] 建空仓，价格为3516.00，手续费为17.58\n",
      "2019-12-10 22:08:00 strategy [INFO] 平空仓，价格为3511.00，手续费为17.55\n",
      "2019-12-10 22:08:00 strategy [INFO] 建多仓，价格为3511.00，手续费为17.55\n",
      "2019-12-10 22:27:00 strategy [INFO] 平多仓，价格为3529.00，手续费为17.64\n",
      "2019-12-10 22:27:00 strategy [INFO] 建空仓，价格为3529.00，手续费为17.64\n",
      "2019-12-11 09:36:00 strategy [INFO] 平空仓，价格为3530.00，手续费为17.65\n",
      "2019-12-11 09:36:00 strategy [INFO] 建多仓，价格为3530.00，手续费为17.65\n",
      "2019-12-12 13:31:00 strategy [INFO] 平多仓，价格为3523.00，手续费为17.62\n",
      "2019-12-12 13:31:00 strategy [INFO] 建空仓，价格为3523.00，手续费为17.62\n",
      "2019-12-12 21:08:00 strategy [INFO] 平空仓，价格为3518.00，手续费为17.59\n",
      "2019-12-12 21:08:00 strategy [INFO] 建多仓，价格为3518.00，手续费为17.59\n",
      "2019-12-12 22:37:00 strategy [INFO] 平多仓，价格为3532.00，手续费为17.66\n",
      "2019-12-12 22:37:00 strategy [INFO] 建空仓，价格为3532.00，手续费为17.66\n",
      "2019-12-13 09:35:00 strategy [INFO] 平空仓，价格为3525.00，手续费为17.62\n",
      "2019-12-13 09:35:00 strategy [INFO] 建多仓，价格为3525.00，手续费为17.62\n",
      "2019-12-13 22:11:00 strategy [INFO] 平多仓，价格为3536.00，手续费为17.68\n",
      "2019-12-13 22:11:00 strategy [INFO] 建空仓，价格为3536.00，手续费为17.68\n",
      "2019-12-16 09:53:00 strategy [INFO] 平空仓，价格为3528.00，手续费为17.64\n",
      "2019-12-16 09:53:00 strategy [INFO] 建多仓，价格为3528.00，手续费为17.64\n",
      "2019-12-17 09:15:00 strategy [INFO] 平多仓，价格为3481.00，手续费为17.41\n",
      "2019-12-17 09:15:00 strategy [INFO] 建空仓，价格为3481.00，手续费为17.41\n",
      "2019-12-17 09:59:00 strategy [INFO] 平空仓，价格为3460.00，手续费为17.30\n",
      "2019-12-17 09:59:00 strategy [INFO] 建多仓，价格为3460.00，手续费为17.30\n",
      "2019-12-18 09:26:00 strategy [INFO] 平多仓，价格为3490.00，手续费为17.45\n",
      "2019-12-18 09:26:00 strategy [INFO] 建空仓，价格为3490.00，手续费为17.45\n",
      "2019-12-18 10:49:00 strategy [INFO] 平空仓，价格为3482.00，手续费为17.41\n",
      "2019-12-18 10:49:00 strategy [INFO] 建多仓，价格为3482.00，手续费为17.41\n",
      "2019-12-18 13:34:00 strategy [INFO] 平多仓，价格为3490.00，手续费为17.45\n",
      "2019-12-18 13:34:00 strategy [INFO] 建空仓，价格为3490.00，手续费为17.45\n",
      "2019-12-18 14:48:00 strategy [INFO] 平空仓，价格为3471.00，手续费为17.36\n",
      "2019-12-18 14:48:00 strategy [INFO] 建多仓，价格为3471.00，手续费为17.36\n",
      "2019-12-19 13:31:00 strategy [INFO] 平多仓，价格为3521.00，手续费为17.61\n",
      "2019-12-19 13:31:00 strategy [INFO] 建空仓，价格为3521.00，手续费为17.61\n",
      "2019-12-23 10:08:00 strategy [INFO] 平空仓，价格为3533.00，手续费为17.66\n",
      "2019-12-23 10:08:00 strategy [INFO] 建多仓，价格为3533.00，手续费为17.66\n",
      "2019-12-23 21:00:00 strategy [INFO] 平多仓，价格为3543.00，手续费为17.71\n",
      "2019-12-23 21:00:00 strategy [INFO] 建空仓，价格为3543.00，手续费为17.71\n",
      "2019-12-24 09:07:00 strategy [INFO] 平空仓，价格为3534.00，手续费为17.67\n",
      "2019-12-24 09:07:00 strategy [INFO] 建多仓，价格为3534.00，手续费为17.67\n",
      "2019-12-24 14:42:00 strategy [INFO] 平多仓，价格为3519.00，手续费为17.59\n",
      "2019-12-24 14:42:00 strategy [INFO] 建空仓，价格为3519.00，手续费为17.59\n",
      "2019-12-24 22:43:00 strategy [INFO] 平空仓，价格为3508.00，手续费为17.54\n",
      "2019-12-24 22:43:00 strategy [INFO] 建多仓，价格为3508.00，手续费为17.54\n",
      "2019-12-25 10:51:00 strategy [INFO] 平多仓，价格为3522.00，手续费为17.61\n",
      "2019-12-25 10:51:00 strategy [INFO] 建空仓，价格为3522.00，手续费为17.61\n",
      "2019-12-25 11:23:00 strategy [INFO] 平空仓，价格为3510.00，手续费为17.55\n",
      "2019-12-25 11:23:00 strategy [INFO] 建多仓，价格为3510.00，手续费为17.55\n",
      "2019-12-26 10:43:00 strategy [INFO] 平多仓，价格为3505.00，手续费为17.53\n",
      "2019-12-26 10:43:00 strategy [INFO] 建空仓，价格为3505.00，手续费为17.53\n",
      "2019-12-27 14:16:00 strategy [INFO] 平空仓，价格为3542.00，手续费为17.71\n",
      "2019-12-27 14:16:00 strategy [INFO] 建多仓，价格为3542.00，手续费为17.71\n",
      "2019-12-30 09:23:00 strategy [INFO] 平多仓，价格为3550.00，手续费为17.75\n",
      "2019-12-30 09:23:00 strategy [INFO] 建空仓，价格为3550.00，手续费为17.75\n",
      "2019-12-30 21:07:00 strategy [INFO] 平空仓，价格为3539.00，手续费为17.70\n",
      "2019-12-30 21:07:00 strategy [INFO] 建多仓，价格为3539.00，手续费为17.70\n",
      "2019-12-31 10:07:00 strategy [INFO] 平多仓，价格为3554.00，手续费为17.77\n",
      "2019-12-31 10:07:00 strategy [INFO] 建空仓，价格为3554.00，手续费为17.77\n",
      "2019-12-31 14:01:00 strategy [INFO] 平空仓，价格为3558.00，手续费为17.79\n",
      "2019-12-31 14:01:00 strategy [INFO] 建多仓，价格为3558.00，手续费为17.79\n",
      "2020-01-02 09:00:00 strategy [INFO] 平多仓，价格为3584.00，手续费为17.92\n",
      "2020-01-02 09:00:00 strategy [INFO] 建空仓，价格为3584.00，手续费为17.92\n",
      "2020-01-02 10:40:00 strategy [INFO] 平空仓，价格为3562.00，手续费为17.81\n",
      "2020-01-02 10:40:00 strategy [INFO] 建多仓，价格为3562.00，手续费为17.81\n",
      "2020-01-03 09:03:00 strategy [INFO] 平多仓，价格为3552.00，手续费为17.76\n",
      "2020-01-03 09:03:00 strategy [INFO] 建空仓，价格为3552.00，手续费为17.76\n",
      "2020-01-03 10:40:00 strategy [INFO] 平空仓，价格为3556.00，手续费为17.78\n",
      "2020-01-03 10:40:00 strategy [INFO] 建多仓，价格为3556.00，手续费为17.78\n",
      "2020-01-03 22:50:00 strategy [INFO] 平多仓，价格为3562.00，手续费为17.81\n",
      "2020-01-03 22:50:00 strategy [INFO] 建空仓，价格为3562.00，手续费为17.81\n",
      "2020-01-06 09:07:00 strategy [INFO] 平空仓，价格为3544.00，手续费为17.72\n",
      "2020-01-06 09:07:00 strategy [INFO] 建多仓，价格为3544.00，手续费为17.72\n",
      "2020-01-06 21:01:00 strategy [INFO] 平多仓，价格为3562.00，手续费为17.81\n",
      "2020-01-06 21:01:00 strategy [INFO] 建空仓，价格为3562.00，手续费为17.81\n",
      "2020-01-07 10:48:00 strategy [INFO] 平空仓，价格为3559.00，手续费为17.80\n",
      "2020-01-07 10:48:00 strategy [INFO] 建多仓，价格为3559.00，手续费为17.80\n",
      "2020-01-07 21:04:00 strategy [INFO] 平多仓，价格为3580.00，手续费为17.90\n",
      "2020-01-07 21:04:00 strategy [INFO] 建空仓，价格为3580.00，手续费为17.90\n",
      "2020-01-08 13:38:00 strategy [INFO] 平空仓，价格为3609.00，手续费为18.05\n",
      "2020-01-08 13:38:00 strategy [INFO] 建多仓，价格为3609.00，手续费为18.05\n",
      "2020-01-08 14:18:00 strategy [INFO] 平多仓，价格为3613.00，手续费为18.07\n",
      "2020-01-08 14:18:00 strategy [INFO] 建空仓，价格为3613.00，手续费为18.07\n",
      "2020-01-08 21:18:00 strategy [INFO] 平空仓，价格为3603.00，手续费为18.02\n",
      "2020-01-08 21:18:00 strategy [INFO] 建多仓，价格为3603.00，手续费为18.02\n",
      "2020-01-09 10:01:00 strategy [INFO] 平多仓，价格为3610.00，手续费为18.05\n",
      "2020-01-09 10:01:00 strategy [INFO] 建空仓，价格为3610.00，手续费为18.05\n",
      "2020-01-09 11:10:00 strategy [INFO] 平空仓，价格为3597.00，手续费为17.98\n",
      "2020-01-09 11:10:00 strategy [INFO] 建多仓，价格为3597.00，手续费为17.98\n",
      "2020-01-09 22:10:00 strategy [INFO] 平多仓，价格为3570.00，手续费为17.85\n",
      "2020-01-09 22:10:00 strategy [INFO] 建空仓，价格为3570.00，手续费为17.85\n",
      "2020-01-10 21:00:00 strategy [INFO] 平空仓，价格为3564.00，手续费为17.82\n",
      "2020-01-10 21:00:00 strategy [INFO] 建多仓，价格为3564.00，手续费为17.82\n",
      "2020-01-10 22:09:00 strategy [INFO] 平多仓，价格为3557.00，手续费为17.79\n",
      "2020-01-10 22:09:00 strategy [INFO] 建空仓，价格为3557.00，手续费为17.79\n",
      "2020-01-13 09:14:00 strategy [INFO] 平空仓，价格为3553.00，手续费为17.77\n",
      "2020-01-13 09:14:00 strategy [INFO] 建多仓，价格为3553.00，手续费为17.77\n",
      "2020-01-13 11:29:00 strategy [INFO] 平多仓，价格为3550.00，手续费为17.75\n",
      "2020-01-13 11:29:00 strategy [INFO] 建空仓，价格为3550.00，手续费为17.75\n",
      "2020-01-13 14:48:00 strategy [INFO] 平空仓，价格为3543.00，手续费为17.71\n",
      "2020-01-13 14:48:00 strategy [INFO] 建多仓，价格为3543.00，手续费为17.71\n",
      "2020-01-14 11:11:00 strategy [INFO] 平多仓，价格为3547.00，手续费为17.73\n",
      "2020-01-14 11:11:00 strategy [INFO] 建空仓，价格为3547.00，手续费为17.73\n",
      "2020-01-15 11:06:00 strategy [INFO] 平空仓，价格为3547.00，手续费为17.73\n",
      "2020-01-15 11:06:00 strategy [INFO] 建多仓，价格为3547.00，手续费为17.73\n",
      "2020-01-15 22:20:00 strategy [INFO] 平多仓，价格为3556.00，手续费为17.78\n",
      "2020-01-15 22:20:00 strategy [INFO] 建空仓，价格为3556.00，手续费为17.78\n",
      "2020-01-16 14:16:00 strategy [INFO] 平空仓，价格为3555.00，手续费为17.78\n",
      "2020-01-16 14:16:00 strategy [INFO] 建多仓，价格为3555.00，手续费为17.78\n",
      "2020-01-16 14:56:00 strategy [INFO] 平多仓，价格为3560.00，手续费为17.80\n",
      "2020-01-16 14:56:00 strategy [INFO] 建空仓，价格为3560.00，手续费为17.80\n",
      "2020-01-20 13:36:00 strategy [INFO] 平空仓，价格为3599.00，手续费为18.00\n",
      "2020-01-20 13:36:00 strategy [INFO] 建多仓，价格为3599.00，手续费为18.00\n",
      "2020-01-20 14:34:00 strategy [INFO] 平多仓，价格为3600.00，手续费为18.00\n",
      "2020-01-20 14:34:00 strategy [INFO] 建空仓，价格为3600.00，手续费为18.00\n",
      "2020-01-21 09:12:00 strategy [INFO] 平空仓，价格为3580.00，手续费为17.90\n",
      "2020-01-21 09:12:00 strategy [INFO] 建多仓，价格为3580.00，手续费为17.90\n",
      "2020-01-21 11:26:00 strategy [INFO] 平多仓，价格为3572.00，手续费为17.86\n",
      "2020-01-21 11:26:00 strategy [INFO] 建空仓，价格为3572.00，手续费为17.86\n",
      "2020-01-22 09:06:00 strategy [INFO] 平空仓，价格为3525.00，手续费为17.62\n",
      "2020-01-22 09:06:00 strategy [INFO] 建多仓，价格为3525.00，手续费为17.62\n",
      "2020-01-22 13:38:00 strategy [INFO] 平多仓，价格为3535.00，手续费为17.68\n",
      "2020-01-22 13:38:00 strategy [INFO] 建空仓，价格为3535.00，手续费为17.68\n",
      "2020-01-22 21:03:00 strategy [INFO] 平空仓，价格为3541.00，手续费为17.71\n",
      "2020-01-22 21:03:00 strategy [INFO] 建多仓，价格为3541.00，手续费为17.71\n",
      "2020-01-23 14:42:00 strategy [INFO] 平多仓，价格为3504.00，手续费为17.52\n",
      "2020-01-23 14:42:00 strategy [INFO] 建空仓，价格为3504.00，手续费为17.52\n",
      "2020-02-03 09:00:00 strategy [INFO] 平空仓，价格为3233.00，手续费为16.16\n",
      "2020-02-03 09:00:00 strategy [INFO] 建多仓，价格为3233.00，手续费为16.16\n",
      "2020-02-03 09:59:00 strategy [INFO] 平多仓，价格为3288.00，手续费为16.44\n",
      "2020-02-03 09:59:00 strategy [INFO] 建空仓，价格为3288.00，手续费为16.44\n",
      "2020-02-04 09:00:00 strategy [INFO] 平空仓，价格为3210.00，手续费为16.05\n",
      "2020-02-04 09:00:00 strategy [INFO] 建多仓，价格为3210.00，手续费为16.05\n",
      "2020-02-04 10:12:00 strategy [INFO] 平多仓，价格为3315.00，手续费为16.57\n",
      "2020-02-04 10:12:00 strategy [INFO] 建空仓，价格为3315.00，手续费为16.57\n",
      "2020-02-05 09:00:00 strategy [INFO] 平空仓，价格为3299.00，手续费为16.50\n",
      "2020-02-05 09:00:00 strategy [INFO] 建多仓，价格为3299.00，手续费为16.50\n",
      "2020-02-05 10:32:00 strategy [INFO] 平多仓，价格为3308.00，手续费为16.54\n",
      "2020-02-05 10:32:00 strategy [INFO] 建空仓，价格为3308.00，手续费为16.54\n",
      "2020-02-06 09:03:00 strategy [INFO] 平空仓，价格为3278.00，手续费为16.39\n",
      "2020-02-06 09:03:00 strategy [INFO] 建多仓，价格为3278.00，手续费为16.39\n",
      "2020-02-07 10:00:00 strategy [INFO] 平多仓，价格为3315.00，手续费为16.57\n",
      "2020-02-07 10:00:00 strategy [INFO] 建空仓，价格为3315.00，手续费为16.57\n",
      "2020-02-07 13:50:00 strategy [INFO] 平空仓，价格为3303.00，手续费为16.52\n",
      "2020-02-07 13:50:00 strategy [INFO] 建多仓，价格为3303.00，手续费为16.52\n",
      "2020-02-10 09:51:00 strategy [INFO] 平多仓，价格为3306.00，手续费为16.53\n",
      "2020-02-10 09:51:00 strategy [INFO] 建空仓，价格为3306.00，手续费为16.53\n",
      "2020-02-10 14:56:00 strategy [INFO] 平空仓，价格为3305.00，手续费为16.52\n",
      "2020-02-10 14:56:00 strategy [INFO] 建多仓，价格为3305.00，手续费为16.52\n",
      "2020-02-11 09:06:00 strategy [INFO] 平多仓，价格为3328.00，手续费为16.64\n",
      "2020-02-11 09:06:00 strategy [INFO] 建空仓，价格为3328.00，手续费为16.64\n",
      "2020-02-12 14:02:00 strategy [INFO] 平空仓，价格为3386.00，手续费为16.93\n",
      "2020-02-12 14:02:00 strategy [INFO] 建多仓，价格为3386.00，手续费为16.93\n",
      "2020-02-14 14:20:00 strategy [INFO] 平多仓，价格为3401.00，手续费为17.00\n",
      "2020-02-14 14:20:00 strategy [INFO] 建空仓，价格为3401.00，手续费为17.00\n",
      "2020-02-20 10:36:00 strategy [INFO] 平空仓，价格为3423.00，手续费为17.12\n",
      "2020-02-20 10:36:00 strategy [INFO] 建多仓，价格为3423.00，手续费为17.12\n",
      "2020-02-20 13:31:00 strategy [INFO] 平多仓，价格为3435.00，手续费为17.18\n",
      "2020-02-20 13:31:00 strategy [INFO] 建空仓，价格为3435.00，手续费为17.18\n",
      "2020-02-21 10:32:00 strategy [INFO] 平空仓，价格为3456.00，手续费为17.28\n",
      "2020-02-21 10:32:00 strategy [INFO] 建多仓，价格为3456.00，手续费为17.28\n",
      "2020-02-21 11:07:00 strategy [INFO] 平多仓，价格为3475.00，手续费为17.38\n",
      "2020-02-21 11:07:00 strategy [INFO] 建空仓，价格为3475.00，手续费为17.38\n",
      "2020-02-24 13:55:00 strategy [INFO] 平空仓，价格为3485.00，手续费为17.43\n",
      "2020-02-24 13:55:00 strategy [INFO] 建多仓，价格为3485.00，手续费为17.43\n",
      "2020-02-25 14:29:00 strategy [INFO] 平多仓，价格为3478.00，手续费为17.39\n",
      "2020-02-25 14:29:00 strategy [INFO] 建空仓，价格为3478.00，手续费为17.39\n",
      "2020-02-27 11:26:00 strategy [INFO] 平空仓，价格为3418.00，手续费为17.09\n",
      "2020-02-27 11:26:00 strategy [INFO] 建多仓，价格为3418.00，手续费为17.09\n",
      "2020-02-28 09:54:00 strategy [INFO] 平多仓，价格为3388.00，手续费为16.94\n",
      "2020-02-28 09:54:00 strategy [INFO] 建空仓，价格为3388.00，手续费为16.94\n",
      "2020-02-28 11:26:00 strategy [INFO] 平空仓，价格为3351.00，手续费为16.75\n",
      "2020-02-28 11:26:00 strategy [INFO] 建多仓，价格为3351.00，手续费为16.75\n",
      "2020-02-28 14:41:00 strategy [INFO] 平多仓，价格为3352.00，手续费为16.76\n",
      "2020-02-28 14:41:00 strategy [INFO] 建空仓，价格为3352.00，手续费为16.76\n",
      "2020-03-03 13:31:00 strategy [INFO] 平空仓，价格为3419.00，手续费为17.09\n",
      "2020-03-03 13:31:00 strategy [INFO] 建多仓，价格为3419.00，手续费为17.09\n",
      "2020-03-04 10:36:00 strategy [INFO] 平多仓，价格为3439.00，手续费为17.20\n",
      "2020-03-04 10:36:00 strategy [INFO] 建空仓，价格为3439.00，手续费为17.20\n",
      "2020-03-06 09:00:00 strategy [INFO] 平空仓，价格为3456.00，手续费为17.28\n",
      "2020-03-06 09:00:00 strategy [INFO] 建多仓，价格为3456.00，手续费为17.28\n",
      "2020-03-06 14:01:00 strategy [INFO] 平多仓，价格为3455.00，手续费为17.28\n",
      "2020-03-06 14:01:00 strategy [INFO] 建空仓，价格为3455.00，手续费为17.28\n",
      "2020-03-06 14:56:00 strategy [INFO] 平空仓，价格为3443.00，手续费为17.21\n",
      "2020-03-06 14:56:00 strategy [INFO] 建多仓，价格为3443.00，手续费为17.21\n",
      "2020-03-09 14:03:00 strategy [INFO] 平多仓，价格为3405.00，手续费为17.02\n",
      "2020-03-09 14:03:00 strategy [INFO] 建空仓，价格为3405.00，手续费为17.02\n",
      "2020-03-10 10:36:00 strategy [INFO] 平空仓，价格为3442.00，手续费为17.21\n",
      "2020-03-10 10:36:00 strategy [INFO] 建多仓，价格为3442.00，手续费为17.21\n",
      "2020-03-10 13:31:00 strategy [INFO] 平多仓，价格为3482.00，手续费为17.41\n",
      "2020-03-10 13:31:00 strategy [INFO] 建空仓，价格为3482.00，手续费为17.41\n",
      "2020-03-11 14:51:00 strategy [INFO] 平空仓，价格为3502.00，手续费为17.51\n",
      "2020-03-11 14:51:00 strategy [INFO] 建多仓，价格为3502.00，手续费为17.51\n",
      "2020-03-12 10:40:00 strategy [INFO] 平多仓，价格为3504.00，手续费为17.52\n",
      "2020-03-12 10:40:00 strategy [INFO] 建空仓，价格为3504.00，手续费为17.52\n",
      "2020-03-12 13:31:00 strategy [INFO] 平空仓，价格为3490.00，手续费为17.45\n",
      "2020-03-12 13:31:00 strategy [INFO] 建多仓，价格为3490.00，手续费为17.45\n",
      "2020-03-13 13:31:00 strategy [INFO] 平多仓，价格为3519.00，手续费为17.59\n",
      "2020-03-13 13:31:00 strategy [INFO] 建空仓，价格为3519.00，手续费为17.59\n",
      "2020-03-16 14:21:00 strategy [INFO] 平空仓，价格为3543.00，手续费为17.71\n",
      "2020-03-16 14:21:00 strategy [INFO] 建多仓，价格为3543.00，手续费为17.71\n",
      "2020-03-17 14:41:00 strategy [INFO] 平多仓，价格为3552.00，手续费为17.76\n",
      "2020-03-17 14:41:00 strategy [INFO] 建空仓，价格为3552.00，手续费为17.76\n",
      "2020-03-18 13:47:00 strategy [INFO] 平空仓，价格为3570.00，手续费为17.85\n",
      "2020-03-18 13:47:00 strategy [INFO] 建多仓，价格为3570.00，手续费为17.85\n",
      "2020-03-19 14:59:00 strategy [INFO] 平多仓，价格为3543.00，手续费为17.71\n",
      "2020-03-19 14:59:00 strategy [INFO] 建空仓，价格为3543.00，手续费为17.71\n",
      "2020-03-20 10:40:00 strategy [INFO] 平空仓，价格为3510.00，手续费为17.55\n",
      "2020-03-20 10:40:00 strategy [INFO] 建多仓，价格为3510.00，手续费为17.55\n",
      "2020-03-24 14:02:00 strategy [INFO] 平多仓，价格为3407.00，手续费为17.04\n",
      "2020-03-24 14:02:00 strategy [INFO] 建空仓，价格为3407.00，手续费为17.04\n",
      "2020-03-25 14:16:00 strategy [INFO] 平空仓，价格为3369.00，手续费为16.84\n",
      "2020-03-25 14:16:00 strategy [INFO] 建多仓，价格为3369.00，手续费为16.84\n",
      "2020-03-26 10:39:00 strategy [INFO] 平多仓，价格为3358.00，手续费为16.79\n",
      "2020-03-26 10:39:00 strategy [INFO] 建空仓，价格为3358.00，手续费为16.79\n",
      "2020-03-26 14:42:00 strategy [INFO] 平空仓，价格为3345.00，手续费为16.73\n",
      "2020-03-26 14:42:00 strategy [INFO] 建多仓，价格为3345.00，手续费为16.73\n",
      "2020-03-27 11:09:00 strategy [INFO] 平多仓，价格为3347.00，手续费为16.73\n",
      "2020-03-27 11:09:00 strategy [INFO] 建空仓，价格为3347.00，手续费为16.73\n",
      "2020-03-27 14:11:00 strategy [INFO] 平空仓，价格为3343.00，手续费为16.71\n",
      "2020-03-27 14:11:00 strategy [INFO] 建多仓，价格为3343.00，手续费为16.71\n",
      "2020-03-31 09:01:00 strategy [INFO] 平多仓，价格为3256.00，手续费为16.28\n",
      "2020-03-31 09:01:00 strategy [INFO] 建空仓，价格为3256.00，手续费为16.28\n",
      "2020-03-31 11:11:00 strategy [INFO] 平空仓，价格为3226.00，手续费为16.13\n",
      "2020-03-31 11:11:00 strategy [INFO] 建多仓，价格为3226.00，手续费为16.13\n",
      "2020-03-31 14:35:00 strategy [INFO] 平多仓，价格为3248.00，手续费为16.24\n",
      "2020-03-31 14:35:00 strategy [INFO] 建空仓，价格为3248.00，手续费为16.24\n",
      "2020-04-01 09:02:00 strategy [INFO] 平空仓，价格为3217.00，手续费为16.09\n",
      "2020-04-01 09:02:00 strategy [INFO] 建多仓，价格为3217.00，手续费为16.09\n",
      "2020-04-02 10:07:00 strategy [INFO] 平多仓，价格为3133.00，手续费为15.67\n",
      "2020-04-02 10:07:00 strategy [INFO] 建空仓，价格为3133.00，手续费为15.67\n",
      "2020-04-03 13:31:00 strategy [INFO] 平空仓，价格为3195.00，手续费为15.97\n",
      "2020-04-03 13:31:00 strategy [INFO] 建多仓，价格为3195.00，手续费为15.97\n",
      "2020-04-03 14:31:00 strategy [INFO] 平多仓，价格为3200.00，手续费为16.00\n",
      "2020-04-03 14:31:00 strategy [INFO] 建空仓，价格为3200.00，手续费为16.00\n",
      "2020-04-07 10:10:00 strategy [INFO] 平空仓，价格为3225.00，手续费为16.12\n",
      "2020-04-07 10:10:00 strategy [INFO] 建多仓，价格为3225.00，手续费为16.12\n",
      "2020-04-07 14:41:00 strategy [INFO] 平多仓，价格为3213.00，手续费为16.07\n",
      "2020-04-07 14:41:00 strategy [INFO] 建空仓，价格为3213.00，手续费为16.07\n",
      "2020-04-08 09:03:00 strategy [INFO] 平空仓，价格为3186.00，手续费为15.93\n",
      "2020-04-08 09:03:00 strategy [INFO] 建多仓，价格为3186.00，手续费为15.93\n",
      "2020-04-08 10:12:00 strategy [INFO] 平多仓，价格为3219.00，手续费为16.09\n",
      "2020-04-08 10:12:00 strategy [INFO] 建空仓，价格为3219.00，手续费为16.09\n",
      "2020-04-10 11:27:00 strategy [INFO] 平空仓，价格为3320.00，手续费为16.60\n",
      "2020-04-10 11:27:00 strategy [INFO] 建多仓，价格为3320.00，手续费为16.60\n",
      "2020-04-13 10:44:00 strategy [INFO] 平多仓，价格为3383.00，手续费为16.91\n",
      "2020-04-13 10:44:00 strategy [INFO] 建空仓，价格为3383.00，手续费为16.91\n",
      "2020-04-15 10:48:00 strategy [INFO] 平空仓，价格为3373.00，手续费为16.87\n",
      "2020-04-15 10:48:00 strategy [INFO] 建多仓，价格为3373.00，手续费为16.87\n",
      "2020-04-15 13:32:00 strategy [INFO] 平多仓，价格为3393.00，手续费为16.96\n",
      "2020-04-15 13:32:00 strategy [INFO] 建空仓，价格为3393.00，手续费为16.96\n",
      "2020-04-16 09:01:00 strategy [INFO] 平空仓，价格为3361.00，手续费为16.80\n",
      "2020-04-16 09:01:00 strategy [INFO] 建多仓，价格为3361.00，手续费为16.80\n",
      "2020-04-16 10:31:00 strategy [INFO] 平多仓，价格为3373.00，手续费为16.87\n",
      "2020-04-16 10:31:00 strategy [INFO] 建空仓，价格为3373.00，手续费为16.87\n",
      "2020-04-17 10:13:00 strategy [INFO] 平空仓，价格为3405.00，手续费为17.02\n",
      "2020-04-17 10:13:00 strategy [INFO] 建多仓，价格为3405.00，手续费为17.02\n",
      "2020-04-20 09:00:00 strategy [INFO] 平多仓，价格为3400.00，手续费为17.00\n",
      "2020-04-20 09:00:00 strategy [INFO] 建空仓，价格为3400.00，手续费为17.00\n",
      "2020-04-20 11:27:00 strategy [INFO] 平空仓，价格为3364.00，手续费为16.82\n",
      "2020-04-20 11:27:00 strategy [INFO] 建多仓，价格为3364.00，手续费为16.82\n",
      "2020-04-21 11:18:00 strategy [INFO] 平多仓，价格为3326.00，手续费为16.63\n",
      "2020-04-21 11:18:00 strategy [INFO] 建空仓，价格为3326.00，手续费为16.63\n",
      "2020-04-22 09:00:00 strategy [INFO] 平空仓，价格为3320.00，手续费为16.60\n",
      "2020-04-22 09:00:00 strategy [INFO] 建多仓，价格为3320.00，手续费为16.60\n",
      "2020-04-22 09:53:00 strategy [INFO] 平多仓，价格为3332.00，手续费为16.66\n",
      "2020-04-22 09:53:00 strategy [INFO] 建空仓，价格为3332.00，手续费为16.66\n",
      "2020-04-23 13:37:00 strategy [INFO] 平空仓，价格为3347.00，手续费为16.73\n",
      "2020-04-23 13:37:00 strategy [INFO] 建多仓，价格为3347.00，手续费为16.73\n",
      "2020-04-24 10:42:00 strategy [INFO] 平多仓，价格为3337.00，手续费为16.68\n",
      "2020-04-24 10:42:00 strategy [INFO] 建空仓，价格为3337.00，手续费为16.68\n",
      "2020-04-27 13:45:00 strategy [INFO] 平空仓，价格为3330.00，手续费为16.65\n",
      "2020-04-27 13:45:00 strategy [INFO] 建多仓，价格为3330.00，手续费为16.65\n",
      "2020-04-28 10:33:00 strategy [INFO] 平多仓，价格为3321.00，手续费为16.61\n",
      "2020-04-28 10:33:00 strategy [INFO] 建空仓，价格为3321.00，手续费为16.61\n",
      "2020-04-28 11:28:00 strategy [INFO] 平空仓，价格为3306.00，手续费为16.53\n",
      "2020-04-28 11:28:00 strategy [INFO] 建多仓，价格为3306.00，手续费为16.53\n",
      "2020-04-29 11:27:00 strategy [INFO] 平多仓，价格为3302.00，手续费为16.51\n",
      "2020-04-29 11:27:00 strategy [INFO] 建空仓，价格为3302.00，手续费为16.51\n",
      "2020-04-30 14:10:00 strategy [INFO] 平空仓，价格为3345.00，手续费为16.73\n",
      "2020-04-30 14:10:00 strategy [INFO] 建多仓，价格为3345.00，手续费为16.73\n",
      "2020-04-30 14:52:00 strategy [INFO] 平多仓，价格为3360.00，手续费为16.80\n",
      "2020-04-30 14:52:00 strategy [INFO] 建空仓，价格为3360.00，手续费为16.80\n",
      "2020-05-07 11:01:00 strategy [INFO] 平空仓，价格为3420.00，手续费为17.10\n",
      "2020-05-07 11:01:00 strategy [INFO] 建多仓，价格为3420.00，手续费为17.10\n",
      "2020-05-07 13:42:00 strategy [INFO] 平多仓，价格为3429.00，手续费为17.14\n",
      "2020-05-07 13:42:00 strategy [INFO] 建空仓，价格为3429.00，手续费为17.14\n",
      "2020-05-08 11:08:00 strategy [INFO] 平空仓，价格为3445.00，手续费为17.23\n",
      "2020-05-08 11:08:00 strategy [INFO] 建多仓，价格为3445.00，手续费为17.23\n",
      "2020-05-08 21:00:00 strategy [INFO] 平多仓，价格为3460.00，手续费为17.30\n",
      "2020-05-08 21:00:00 strategy [INFO] 建空仓，价格为3460.00，手续费为17.30\n",
      "2020-05-08 21:06:00 strategy [INFO] 平空仓，价格为3444.00，手续费为17.22\n",
      "2020-05-08 21:06:00 strategy [INFO] 建多仓，价格为3444.00，手续费为17.22\n",
      "2020-05-08 22:58:00 strategy [INFO] 平多仓，价格为3463.00，手续费为17.32\n",
      "2020-05-08 22:58:00 strategy [INFO] 建空仓，价格为3463.00，手续费为17.32\n",
      "2020-05-12 10:33:00 strategy [INFO] 平空仓，价格为3450.00，手续费为17.25\n",
      "2020-05-12 10:33:00 strategy [INFO] 建多仓，价格为3450.00，手续费为17.25\n",
      "2020-05-12 21:00:00 strategy [INFO] 平多仓，价格为3470.00，手续费为17.35\n",
      "2020-05-12 21:00:00 strategy [INFO] 建空仓，价格为3470.00，手续费为17.35\n",
      "2020-05-12 22:03:00 strategy [INFO] 平空仓，价格为3460.00，手续费为17.30\n",
      "2020-05-12 22:03:00 strategy [INFO] 建多仓，价格为3460.00，手续费为17.30\n",
      "2020-05-13 21:55:00 strategy [INFO] 平多仓，价格为3461.00，手续费为17.30\n",
      "2020-05-13 21:55:00 strategy [INFO] 建空仓，价格为3461.00，手续费为17.30\n",
      "2020-05-14 09:22:00 strategy [INFO] 平空仓，价格为3455.00，手续费为17.28\n",
      "2020-05-14 09:22:00 strategy [INFO] 建多仓，价格为3455.00，手续费为17.28\n",
      "2020-05-15 09:02:00 strategy [INFO] 平多仓，价格为3449.00，手续费为17.25\n",
      "2020-05-15 09:02:00 strategy [INFO] 建空仓，价格为3449.00，手续费为17.25\n",
      "2020-05-15 10:12:00 strategy [INFO] 平空仓，价格为3446.00，手续费为17.23\n",
      "2020-05-15 10:12:00 strategy [INFO] 建多仓，价格为3446.00，手续费为17.23\n",
      "2020-05-18 09:01:00 strategy [INFO] 平多仓，价格为3520.00，手续费为17.60\n",
      "2020-05-18 09:01:00 strategy [INFO] 建空仓，价格为3520.00，手续费为17.60\n",
      "2020-05-19 10:36:00 strategy [INFO] 平空仓，价格为3554.00，手续费为17.77\n",
      "2020-05-19 10:36:00 strategy [INFO] 建多仓，价格为3554.00，手续费为17.77\n",
      "2020-05-19 13:49:00 strategy [INFO] 平多仓，价格为3559.00，手续费为17.80\n",
      "2020-05-19 13:49:00 strategy [INFO] 建空仓，价格为3559.00，手续费为17.80\n",
      "2020-05-19 21:01:00 strategy [INFO] 平空仓，价格为3540.00，手续费为17.70\n",
      "2020-05-19 21:01:00 strategy [INFO] 建多仓，价格为3540.00，手续费为17.70\n",
      "2020-05-20 09:04:00 strategy [INFO] 平多仓，价格为3548.00，手续费为17.74\n",
      "2020-05-20 09:04:00 strategy [INFO] 建空仓，价格为3548.00，手续费为17.74\n",
      "2020-05-20 13:39:00 strategy [INFO] 平空仓，价格为3534.00，手续费为17.67\n",
      "2020-05-20 13:39:00 strategy [INFO] 建多仓，价格为3534.00，手续费为17.67\n",
      "2020-05-21 09:04:00 strategy [INFO] 平多仓，价格为3540.00，手续费为17.70\n",
      "2020-05-21 09:04:00 strategy [INFO] 建空仓，价格为3540.00，手续费为17.70\n",
      "2020-05-21 22:27:00 strategy [INFO] 平空仓，价格为3575.00，手续费为17.88\n",
      "2020-05-21 22:27:00 strategy [INFO] 建多仓，价格为3575.00，手续费为17.88\n",
      "2020-05-25 11:03:00 strategy [INFO] 平多仓，价格为3519.00，手续费为17.59\n",
      "2020-05-25 11:03:00 strategy [INFO] 建空仓，价格为3519.00，手续费为17.59\n",
      "2020-05-26 10:32:00 strategy [INFO] 平空仓，价格为3506.00，手续费为17.53\n",
      "2020-05-26 10:32:00 strategy [INFO] 建多仓，价格为3506.00，手续费为17.53\n",
      "2020-05-27 09:23:00 strategy [INFO] 平多仓，价格为3484.00，手续费为17.42\n",
      "2020-05-27 09:23:00 strategy [INFO] 建空仓，价格为3484.00，手续费为17.42\n",
      "2020-05-27 22:24:00 strategy [INFO] 平空仓，价格为3487.00，手续费为17.43\n",
      "2020-05-27 22:24:00 strategy [INFO] 建多仓，价格为3487.00，手续费为17.43\n",
      "2020-05-28 09:06:00 strategy [INFO] 平多仓，价格为3495.00，手续费为17.48\n",
      "2020-05-28 09:06:00 strategy [INFO] 建空仓，价格为3495.00，手续费为17.48\n",
      "2020-05-29 11:28:00 strategy [INFO] 平空仓，价格为3528.00，手续费为17.64\n",
      "2020-05-29 11:28:00 strategy [INFO] 建多仓，价格为3528.00，手续费为17.64\n",
      "2020-05-29 13:34:00 strategy [INFO] 平多仓，价格为3544.00，手续费为17.72\n",
      "2020-05-29 13:34:00 strategy [INFO] 建空仓，价格为3544.00，手续费为17.72\n",
      "2020-05-29 22:20:00 strategy [INFO] 平空仓，价格为3575.00，手续费为17.88\n",
      "2020-05-29 22:20:00 strategy [INFO] 建多仓，价格为3575.00，手续费为17.88\n",
      "2020-06-01 11:02:00 strategy [INFO] 平多仓，价格为3590.00，手续费为17.95\n",
      "2020-06-01 11:02:00 strategy [INFO] 建空仓，价格为3590.00，手续费为17.95\n",
      "2020-06-02 14:58:00 strategy [INFO] 平空仓，价格为3634.00，手续费为18.17\n",
      "2020-06-02 14:58:00 strategy [INFO] 建多仓，价格为3634.00，手续费为18.17\n",
      "2020-06-02 22:05:00 strategy [INFO] 平多仓，价格为3655.00，手续费为18.28\n",
      "2020-06-02 22:05:00 strategy [INFO] 建空仓，价格为3655.00，手续费为18.28\n",
      "2020-06-03 09:13:00 strategy [INFO] 平空仓，价格为3625.00，手续费为18.12\n",
      "2020-06-03 09:13:00 strategy [INFO] 建多仓，价格为3625.00，手续费为18.12\n",
      "2020-06-03 11:02:00 strategy [INFO] 平多仓，价格为3646.00，手续费为18.23\n",
      "2020-06-03 11:02:00 strategy [INFO] 建空仓，价格为3646.00，手续费为18.23\n",
      "2020-06-04 11:20:00 strategy [INFO] 平空仓，价格为3655.00，手续费为18.28\n",
      "2020-06-04 11:20:00 strategy [INFO] 建多仓，价格为3655.00，手续费为18.28\n",
      "2020-06-05 21:02:00 strategy [INFO] 平多仓，价格为3615.00，手续费为18.07\n",
      "2020-06-05 21:02:00 strategy [INFO] 建空仓，价格为3615.00，手续费为18.07\n",
      "2020-06-05 21:33:00 strategy [INFO] 平空仓，价格为3594.00，手续费为17.97\n",
      "2020-06-05 21:33:00 strategy [INFO] 建多仓，价格为3594.00，手续费为17.97\n",
      "2020-06-05 22:48:00 strategy [INFO] 平多仓，价格为3613.00，手续费为18.07\n",
      "2020-06-05 22:48:00 strategy [INFO] 建空仓，价格为3613.00，手续费为18.07\n",
      "2020-06-08 13:32:00 strategy [INFO] 平空仓，价格为3637.00，手续费为18.18\n",
      "2020-06-08 13:32:00 strategy [INFO] 建多仓，价格为3637.00，手续费为18.18\n",
      "2020-06-09 09:44:00 strategy [INFO] 平多仓，价格为3609.00，手续费为18.05\n",
      "2020-06-09 09:44:00 strategy [INFO] 建空仓，价格为3609.00，手续费为18.05\n",
      "2020-06-09 21:04:00 strategy [INFO] 平空仓，价格为3601.00，手续费为18.00\n",
      "2020-06-09 21:04:00 strategy [INFO] 建多仓，价格为3601.00，手续费为18.00\n",
      "2020-06-10 09:02:00 strategy [INFO] 平多仓，价格为3607.00，手续费为18.04\n",
      "2020-06-10 09:02:00 strategy [INFO] 建空仓，价格为3607.00，手续费为18.04\n",
      "2020-06-10 11:14:00 strategy [INFO] 平空仓，价格为3609.00，手续费为18.05\n",
      "2020-06-10 11:14:00 strategy [INFO] 建多仓，价格为3609.00，手续费为18.05\n",
      "2020-06-11 09:06:00 strategy [INFO] 平多仓，价格为3592.00，手续费为17.96\n",
      "2020-06-11 09:06:00 strategy [INFO] 建空仓，价格为3592.00，手续费为17.96\n",
      "2020-06-11 11:30:00 strategy [INFO] 平空仓，价格为3588.00，手续费为17.94\n",
      "2020-06-11 11:30:00 strategy [INFO] 建多仓，价格为3588.00，手续费为17.94\n",
      "2020-06-11 13:39:00 strategy [INFO] 平多仓，价格为3610.00，手续费为18.05\n",
      "2020-06-11 13:39:00 strategy [INFO] 建空仓，价格为3610.00，手续费为18.05\n",
      "2020-06-12 09:01:00 strategy [INFO] 平空仓，价格为3577.00，手续费为17.89\n",
      "2020-06-12 09:01:00 strategy [INFO] 建多仓，价格为3577.00，手续费为17.89\n",
      "2020-06-12 13:32:00 strategy [INFO] 平多仓，价格为3619.00，手续费为18.09\n",
      "2020-06-12 13:32:00 strategy [INFO] 建空仓，价格为3619.00，手续费为18.09\n",
      "2020-06-12 22:31:00 strategy [INFO] 平空仓，价格为3622.00，手续费为18.11\n",
      "2020-06-12 22:31:00 strategy [INFO] 建多仓，价格为3622.00，手续费为18.11\n",
      "2020-06-16 09:01:00 strategy [INFO] 平多仓，价格为3596.00，手续费为17.98\n",
      "2020-06-16 09:01:00 strategy [INFO] 建空仓，价格为3596.00，手续费为17.98\n",
      "2020-06-17 09:01:00 strategy [INFO] 平空仓，价格为3583.00，手续费为17.91\n",
      "2020-06-17 09:01:00 strategy [INFO] 建多仓，价格为3583.00，手续费为17.91\n",
      "2020-06-18 09:01:00 strategy [INFO] 平多仓，价格为3600.00，手续费为18.00\n",
      "2020-06-18 09:01:00 strategy [INFO] 建空仓，价格为3600.00，手续费为18.00\n",
      "2020-06-19 10:39:00 strategy [INFO] 平空仓，价格为3632.00，手续费为18.16\n",
      "2020-06-19 10:39:00 strategy [INFO] 建多仓，价格为3632.00，手续费为18.16\n",
      "2020-06-23 10:08:00 strategy [INFO] 平多仓，价格为3616.00，手续费为18.08\n",
      "2020-06-23 10:08:00 strategy [INFO] 建空仓，价格为3616.00，手续费为18.08\n",
      "2020-06-29 09:01:00 strategy [INFO] 平空仓，价格为3597.00，手续费为17.98\n",
      "2020-06-29 09:01:00 strategy [INFO] 建多仓，价格为3597.00，手续费为17.98\n",
      "2020-07-01 14:40:00 strategy [INFO] 平多仓，价格为3572.00，手续费为17.86\n",
      "2020-07-01 14:40:00 strategy [INFO] 建空仓，价格为3572.00，手续费为17.86\n",
      "2020-07-02 14:28:00 strategy [INFO] 平空仓，价格为3565.00，手续费为17.82\n",
      "2020-07-02 14:28:00 strategy [INFO] 建多仓，价格为3565.00，手续费为17.82\n",
      "2020-07-02 21:04:00 strategy [INFO] 平多仓，价格为3587.00，手续费为17.93\n",
      "2020-07-02 21:04:00 strategy [INFO] 建空仓，价格为3587.00，手续费为17.93\n",
      "2020-07-02 22:32:00 strategy [INFO] 平空仓，价格为3601.00，手续费为18.00\n",
      "2020-07-02 22:32:00 strategy [INFO] 建多仓，价格为3601.00，手续费为18.00\n",
      "2020-07-03 14:34:00 strategy [INFO] 平多仓，价格为3616.00，手续费为18.08\n",
      "2020-07-03 14:34:00 strategy [INFO] 建空仓，价格为3616.00，手续费为18.08\n",
      "2020-07-06 14:28:00 strategy [INFO] 平空仓，价格为3614.00，手续费为18.07\n",
      "2020-07-06 14:28:00 strategy [INFO] 建多仓，价格为3614.00，手续费为18.07\n",
      "2020-07-06 21:08:00 strategy [INFO] 平多仓，价格为3627.00，手续费为18.14\n",
      "2020-07-06 21:08:00 strategy [INFO] 建空仓，价格为3627.00，手续费为18.14\n",
      "2020-07-09 09:09:00 strategy [INFO] 平空仓，价格为3724.00，手续费为18.62\n",
      "2020-07-09 09:09:00 strategy [INFO] 建多仓，价格为3724.00，手续费为18.62\n",
      "2020-07-09 14:47:00 strategy [INFO] 平多仓，价格为3725.00，手续费为18.62\n",
      "2020-07-09 14:47:00 strategy [INFO] 建空仓，价格为3725.00，手续费为18.62\n",
      "2020-07-09 22:42:00 strategy [INFO] 平空仓，价格为3708.00，手续费为18.54\n",
      "2020-07-09 22:42:00 strategy [INFO] 建多仓，价格为3708.00，手续费为18.54\n",
      "2020-07-10 09:55:00 strategy [INFO] 平多仓，价格为3703.00，手续费为18.52\n",
      "2020-07-10 09:55:00 strategy [INFO] 建空仓，价格为3703.00，手续费为18.52\n",
      "2020-07-10 13:40:00 strategy [INFO] 平空仓，价格为3695.00，手续费为18.48\n",
      "2020-07-10 13:40:00 strategy [INFO] 建多仓，价格为3695.00，手续费为18.48\n",
      "2020-07-10 22:33:00 strategy [INFO] 平多仓，价格为3728.00，手续费为18.64\n",
      "2020-07-10 22:33:00 strategy [INFO] 建空仓，价格为3728.00，手续费为18.64\n",
      "2020-07-13 14:06:00 strategy [INFO] 平空仓，价格为3743.00，手续费为18.71\n",
      "2020-07-13 14:06:00 strategy [INFO] 建多仓，价格为3743.00，手续费为18.71\n",
      "2020-07-13 21:04:00 strategy [INFO] 平多仓，价格为3745.00，手续费为18.73\n",
      "2020-07-13 21:04:00 strategy [INFO] 建空仓，价格为3745.00，手续费为18.73\n",
      "2020-07-14 09:13:00 strategy [INFO] 平空仓，价格为3718.00，手续费为18.59\n",
      "2020-07-14 09:13:00 strategy [INFO] 建多仓，价格为3718.00，手续费为18.59\n",
      "2020-07-14 14:04:00 strategy [INFO] 平多仓，价格为3736.00，手续费为18.68\n",
      "2020-07-14 14:04:00 strategy [INFO] 建空仓，价格为3736.00，手续费为18.68\n",
      "2020-07-14 22:40:00 strategy [INFO] 平空仓，价格为3738.00，手续费为18.69\n",
      "2020-07-14 22:40:00 strategy [INFO] 建多仓，价格为3738.00，手续费为18.69\n",
      "2020-07-15 13:32:00 strategy [INFO] 平多仓，价格为3738.00，手续费为18.69\n",
      "2020-07-15 13:32:00 strategy [INFO] 建空仓，价格为3738.00，手续费为18.69\n",
      "2020-07-15 21:01:00 strategy [INFO] 平空仓，价格为3729.00，手续费为18.64\n",
      "2020-07-15 21:01:00 strategy [INFO] 建多仓，价格为3729.00，手续费为18.64\n",
      "2020-07-17 21:22:00 strategy [INFO] 平多仓，价格为3737.00，手续费为18.68\n",
      "2020-07-17 21:22:00 strategy [INFO] 建空仓，价格为3737.00，手续费为18.68\n",
      "2020-07-17 22:15:00 strategy [INFO] 平空仓，价格为3736.00，手续费为18.68\n",
      "2020-07-17 22:15:00 strategy [INFO] 建多仓，价格为3736.00，手续费为18.68\n",
      "2020-07-20 14:41:00 strategy [INFO] 平多仓，价格为3710.00，手续费为18.55\n",
      "2020-07-20 14:41:00 strategy [INFO] 建空仓，价格为3710.00，手续费为18.55\n",
      "2020-07-21 21:45:00 strategy [INFO] 平空仓，价格为3778.00，手续费为18.89\n",
      "2020-07-21 21:45:00 strategy [INFO] 建多仓，价格为3778.00，手续费为18.89\n",
      "2020-07-22 09:01:00 strategy [INFO] 平多仓，价格为3797.00，手续费为18.98\n",
      "2020-07-22 09:01:00 strategy [INFO] 建空仓，价格为3797.00，手续费为18.98\n",
      "2020-07-22 10:35:00 strategy [INFO] 平空仓，价格为3788.00，手续费为18.94\n",
      "2020-07-22 10:35:00 strategy [INFO] 建多仓，价格为3788.00，手续费为18.94\n",
      "2020-07-22 22:48:00 strategy [INFO] 平多仓，价格为3792.00，手续费为18.96\n",
      "2020-07-22 22:48:00 strategy [INFO] 建空仓，价格为3792.00，手续费为18.96\n",
      "2020-07-24 09:07:00 strategy [INFO] 平空仓，价格为3780.00，手续费为18.90\n",
      "2020-07-24 09:07:00 strategy [INFO] 建多仓，价格为3780.00，手续费为18.90\n",
      "2020-07-24 22:19:00 strategy [INFO] 平多仓，价格为3773.00，手续费为18.87\n",
      "2020-07-24 22:19:00 strategy [INFO] 建空仓，价格为3773.00，手续费为18.87\n",
      "2020-07-27 09:01:00 strategy [INFO] 平空仓，价格为3764.00，手续费为18.82\n",
      "2020-07-27 09:01:00 strategy [INFO] 建多仓，价格为3764.00，手续费为18.82\n",
      "2020-07-28 10:50:00 strategy [INFO] 平多仓，价格为3761.00，手续费为18.80\n",
      "2020-07-28 10:50:00 strategy [INFO] 建空仓，价格为3761.00，手续费为18.80\n",
      "2020-07-28 14:27:00 strategy [INFO] 平空仓，价格为3716.00，手续费为18.58\n",
      "2020-07-28 14:27:00 strategy [INFO] 建多仓，价格为3716.00，手续费为18.58\n",
      "2020-07-29 09:51:00 strategy [INFO] 平多仓，价格为3750.00，手续费为18.75\n",
      "2020-07-29 09:51:00 strategy [INFO] 建空仓，价格为3750.00，手续费为18.75\n",
      "2020-07-30 14:28:00 strategy [INFO] 平空仓，价格为3763.00，手续费为18.82\n",
      "2020-07-30 14:28:00 strategy [INFO] 建多仓，价格为3763.00，手续费为18.82\n",
      "2020-07-31 22:22:00 strategy [INFO] 平多仓，价格为3777.00，手续费为18.89\n",
      "2020-07-31 22:22:00 strategy [INFO] 建空仓，价格为3777.00，手续费为18.89\n",
      "2020-08-03 22:22:00 strategy [INFO] 平空仓，价格为3840.00，手续费为19.20\n",
      "2020-08-03 22:22:00 strategy [INFO] 建多仓，价格为3840.00，手续费为19.20\n",
      "2020-08-04 10:31:00 strategy [INFO] 平多仓，价格为3842.00，手续费为19.21\n",
      "2020-08-04 10:31:00 strategy [INFO] 建空仓，价格为3842.00，手续费为19.21\n",
      "2020-08-04 14:47:00 strategy [INFO] 平空仓，价格为3839.00，手续费为19.20\n",
      "2020-08-04 14:47:00 strategy [INFO] 建多仓，价格为3839.00，手续费为19.20\n",
      "2020-08-05 11:23:00 strategy [INFO] 平多仓，价格为3833.00，手续费为19.16\n",
      "2020-08-05 11:23:00 strategy [INFO] 建空仓，价格为3833.00，手续费为19.16\n",
      "2020-08-05 22:04:00 strategy [INFO] 平空仓，价格为3839.00，手续费为19.20\n",
      "2020-08-05 22:04:00 strategy [INFO] 建多仓，价格为3839.00，手续费为19.20\n",
      "2020-08-05 22:50:00 strategy [INFO] 平多仓，价格为3858.00，手续费为19.29\n",
      "2020-08-05 22:50:00 strategy [INFO] 建空仓，价格为3858.00，手续费为19.29\n",
      "2020-08-06 10:44:00 strategy [INFO] 平空仓，价格为3854.00，手续费为19.27\n",
      "2020-08-06 10:44:00 strategy [INFO] 建多仓，价格为3854.00，手续费为19.27\n",
      "2020-08-06 21:00:00 strategy [INFO] 平多仓，价格为3872.00，手续费为19.36\n",
      "2020-08-06 21:00:00 strategy [INFO] 建空仓，价格为3872.00，手续费为19.36\n",
      "2020-08-06 22:28:00 strategy [INFO] 平空仓，价格为3844.00，手续费为19.22\n",
      "2020-08-06 22:28:00 strategy [INFO] 建多仓，价格为3844.00，手续费为19.22\n",
      "2020-08-07 09:01:00 strategy [INFO] 平多仓，价格为3858.00，手续费为19.29\n",
      "2020-08-07 09:01:00 strategy [INFO] 建空仓，价格为3858.00，手续费为19.29\n",
      "2020-08-07 10:32:00 strategy [INFO] 平空仓，价格为3851.00，手续费为19.25\n",
      "2020-08-07 10:32:00 strategy [INFO] 建多仓，价格为3851.00，手续费为19.25\n",
      "2020-08-10 13:36:00 strategy [INFO] 平多仓，价格为3827.00，手续费为19.14\n",
      "2020-08-10 13:36:00 strategy [INFO] 建空仓，价格为3827.00，手续费为19.14\n",
      "2020-08-10 22:48:00 strategy [INFO] 平空仓，价格为3833.00，手续费为19.16\n",
      "2020-08-10 22:48:00 strategy [INFO] 建多仓，价格为3833.00，手续费为19.16\n",
      "2020-08-12 10:43:00 strategy [INFO] 平多仓，价格为3802.00，手续费为19.01\n",
      "2020-08-12 10:43:00 strategy [INFO] 建空仓，价格为3802.00，手续费为19.01\n",
      "2020-08-12 21:51:00 strategy [INFO] 平空仓，价格为3788.00，手续费为18.94\n",
      "2020-08-12 21:51:00 strategy [INFO] 建多仓，价格为3788.00，手续费为18.94\n",
      "2020-08-13 09:44:00 strategy [INFO] 平多仓，价格为3794.00，手续费为18.97\n",
      "2020-08-13 09:44:00 strategy [INFO] 建空仓，价格为3794.00，手续费为18.97\n",
      "2020-08-13 13:31:00 strategy [INFO] 平空仓，价格为3781.00，手续费为18.91\n",
      "2020-08-13 13:31:00 strategy [INFO] 建多仓，价格为3781.00，手续费为18.91\n",
      "2020-08-13 14:06:00 strategy [INFO] 平多仓，价格为3793.00，手续费为18.96\n",
      "2020-08-13 14:06:00 strategy [INFO] 建空仓，价格为3793.00，手续费为18.96\n",
      "2020-08-14 11:05:00 strategy [INFO] 平空仓，价格为3783.00，手续费为18.91\n",
      "2020-08-14 11:05:00 strategy [INFO] 建多仓，价格为3783.00，手续费为18.91\n",
      "2020-08-14 14:59:00 strategy [INFO] 平多仓，价格为3799.00，手续费为19.00\n",
      "2020-08-14 14:59:00 strategy [INFO] 建空仓，价格为3799.00，手续费为19.00\n",
      "2020-08-18 10:48:00 strategy [INFO] 平空仓，价格为3827.00，手续费为19.14\n",
      "2020-08-18 10:48:00 strategy [INFO] 建多仓，价格为3827.00，手续费为19.14\n",
      "2020-08-18 14:50:00 strategy [INFO] 平多仓，价格为3843.00，手续费为19.21\n",
      "2020-08-18 14:50:00 strategy [INFO] 建空仓，价格为3843.00，手续费为19.21\n",
      "2020-08-19 09:12:00 strategy [INFO] 平空仓，价格为3819.00，手续费为19.09\n",
      "2020-08-19 09:12:00 strategy [INFO] 建多仓，价格为3819.00，手续费为19.09\n",
      "2020-08-21 09:01:00 strategy [INFO] 平多仓，价格为3781.00，手续费为18.91\n",
      "2020-08-21 09:01:00 strategy [INFO] 建空仓，价格为3781.00，手续费为18.91\n",
      "2020-08-21 13:59:00 strategy [INFO] 平空仓，价格为3776.00，手续费为18.88\n",
      "2020-08-21 13:59:00 strategy [INFO] 建多仓，价格为3776.00，手续费为18.88\n",
      "2020-08-21 22:23:00 strategy [INFO] 平多仓，价格为3789.00，手续费为18.95\n",
      "2020-08-21 22:23:00 strategy [INFO] 建空仓，价格为3789.00，手续费为18.95\n",
      "2020-08-24 14:55:00 strategy [INFO] 平空仓，价格为3783.00，手续费为18.91\n",
      "2020-08-24 14:55:00 strategy [INFO] 建多仓，价格为3783.00，手续费为18.91\n",
      "2020-08-24 22:02:00 strategy [INFO] 平多仓，价格为3810.00，手续费为19.05\n",
      "2020-08-24 22:02:00 strategy [INFO] 建空仓，价格为3810.00，手续费为19.05\n",
      "2020-08-25 13:34:00 strategy [INFO] 平空仓，价格为3797.00，手续费为18.98\n",
      "2020-08-25 13:34:00 strategy [INFO] 建多仓，价格为3797.00，手续费为18.98\n",
      "2020-08-26 09:01:00 strategy [INFO] 平多仓，价格为3781.00，手续费为18.91\n",
      "2020-08-26 09:01:00 strategy [INFO] 建空仓，价格为3781.00，手续费为18.91\n",
      "2020-08-27 13:32:00 strategy [INFO] 平空仓，价格为3781.00，手续费为18.91\n",
      "2020-08-27 13:32:00 strategy [INFO] 建多仓，价格为3781.00，手续费为18.91\n",
      "2020-08-28 09:05:00 strategy [INFO] 平多仓，价格为3776.00，手续费为18.88\n",
      "2020-08-28 09:05:00 strategy [INFO] 建空仓，价格为3776.00，手续费为18.88\n",
      "2020-08-31 14:24:00 strategy [INFO] 平空仓，价格为3817.00，手续费为19.09\n",
      "2020-08-31 14:24:00 strategy [INFO] 建多仓，价格为3817.00，手续费为19.09\n"
     ]
    },
    {
     "name": "stdout",
     "output_type": "stream",
     "text": [
      "最终权益为：43711.21\n",
      "手续费为：9453.79\n",
      "最终权益(不考虑手续费)为：53165.00\n"
     ]
    }
   ],
   "source": [
    "main()"
   ]
  },
  {
   "cell_type": "markdown",
   "metadata": {
    "slideshow": {
     "slide_type": "slide"
    }
   },
   "source": [
    "## 隐性交易成本"
   ]
  },
  {
   "cell_type": "markdown",
   "metadata": {
    "slideshow": {
     "slide_type": "fragment"
    }
   },
   "source": [
    "### 价格冲击"
   ]
  },
  {
   "cell_type": "markdown",
   "metadata": {
    "slideshow": {
     "slide_type": "fragment"
    }
   },
   "source": [
    "- 某一订单提交到市场后，引起交易品种价格的变化"
   ]
  },
  {
   "cell_type": "markdown",
   "metadata": {
    "slideshow": {
     "slide_type": "fragment"
    }
   },
   "source": [
    "- 如果建立某个交易品种的**多头**仓位，该交易品种的价格通常会**上涨**\n",
    "- 如果建立某个交易品种的**空头**仓位，该交易品种的价格通常会**下跌**"
   ]
  },
  {
   "cell_type": "markdown",
   "metadata": {
    "slideshow": {
     "slide_type": "fragment"
    }
   },
   "source": [
    "- 价格冲击通常受到**订单大小**与下单时市场上的**流动性**之间的相对关系的影响"
   ]
  },
  {
   "cell_type": "markdown",
   "metadata": {
    "slideshow": {
     "slide_type": "slide"
    }
   },
   "source": [
    "### 滑点"
   ]
  },
  {
   "cell_type": "markdown",
   "metadata": {
    "slideshow": {
     "slide_type": "fragment"
    }
   },
   "source": [
    "- 滑点（slippage）：决定交易时候的市场价格与订单被真正执行时候市场价格之间的差，又被称作“延误成本”"
   ]
  },
  {
   "cell_type": "markdown",
   "metadata": {
    "slideshow": {
     "slide_type": "fragment"
    }
   },
   "source": [
    "<center><img src=\"./img/realTrading/slippage.png\" width=100%></center>"
   ]
  },
  {
   "cell_type": "markdown",
   "metadata": {
    "slideshow": {
     "slide_type": "fragment"
    }
   },
   "source": [
    "- 多单的期望建仓价格为$100$元，但是实际执行的价格是$105$元，$5$元即为滑点"
   ]
  },
  {
   "cell_type": "markdown",
   "metadata": {
    "slideshow": {
     "slide_type": "slide"
    }
   },
   "source": [
    "#### 影响滑点大小的因素"
   ]
  },
  {
   "cell_type": "markdown",
   "metadata": {
    "slideshow": {
     "slide_type": "fragment"
    }
   },
   "source": [
    "- 趋势追踪策略易于受到滑点的负面影响"
   ]
  },
  {
   "cell_type": "markdown",
   "metadata": {
    "slideshow": {
     "slide_type": "fragment"
    }
   },
   "source": [
    "- 价格波动越剧烈，越易出现滑点"
   ]
  },
  {
   "cell_type": "markdown",
   "metadata": {
    "slideshow": {
     "slide_type": "fragment"
    }
   },
   "source": [
    "- 通信延迟越大，越易出现滑点"
   ]
  },
  {
   "cell_type": "markdown",
   "metadata": {
    "slideshow": {
     "slide_type": "slide"
    }
   },
   "source": [
    "### `pyalgotrade`滑点设置"
   ]
  },
  {
   "cell_type": "markdown",
   "metadata": {
    "slideshow": {
     "slide_type": "fragment"
    }
   },
   "source": [
    "```python\n",
    "    pyalgotrade.broker.slippage.VolumeShareSlippage(priceImpact=0.1)\n",
    "```\n",
    "- `priceImpact`：下单规模对市场价格影响的程度"
   ]
  },
  {
   "cell_type": "markdown",
   "metadata": {
    "slideshow": {
     "slide_type": "slide"
    }
   },
   "source": [
    "#### 原理"
   ]
  },
  {
   "cell_type": "markdown",
   "metadata": {
    "slideshow": {
     "slide_type": "fragment"
    }
   },
   "source": [
    "$$\n",
    "P=P_0(1+MI)\n",
    "$$\n",
    "- $P$：考虑滑点后的价格\n",
    "- $P_0$：希望的成交价格\n",
    "- $MI$：价格对市场的冲击"
   ]
  },
  {
   "cell_type": "markdown",
   "metadata": {
    "slideshow": {
     "slide_type": "fragment"
    }
   },
   "source": [
    "$$\n",
    "MI = \\text{priceImpactConst}\\times \\bigl(\\frac{\\text{订单规模}}{\\text{总成交量}}\\bigr)^2\n",
    "$$"
   ]
  },
  {
   "cell_type": "markdown",
   "metadata": {
    "slideshow": {
     "slide_type": "slide"
    }
   },
   "source": [
    "#### 使用滑点设置"
   ]
  },
  {
   "cell_type": "markdown",
   "metadata": {
    "slideshow": {
     "slide_type": "fragment"
    }
   },
   "source": [
    "<center><img src=\"./img/realTrading/slippageSetting.png\" width=100%></center>"
   ]
  },
  {
   "cell_type": "code",
   "execution_count": 85,
   "metadata": {
    "slideshow": {
     "slide_type": "slide"
    }
   },
   "outputs": [],
   "source": [
    "def main_slippage(inputEquity, inputLots, slippageConst):\n",
    "    instrument = 'rb'\n",
    "    multiplier = 10\n",
    "    bBandsPeriod = 40\n",
    "    numDev = 3\n",
    "    feed = read_data(instrument)\n",
    " \n",
    "    # 建立比例手续费对象\n",
    "#     cmFee = backtesting.TradePercentage(0.001)\n",
    "    slip = slippage.VolumeShareSlippage(slippageConst)\n",
    "        \n",
    "    strat = myBBands(feed, instrument, bBandsPeriod, numDev, inputEquity, inputLots)\n",
    "    \n",
    "    # 给策略对应的broker设置手续费\n",
    "#     strat.getBroker().setCommission(cmFee)\n",
    "\n",
    "    # 设置滑点\n",
    "    strat.getBroker().getFillStrategy().setSlippageModel(slip)\n",
    "    strat.run()\n",
    "    \n",
    "    finalEquity = strat.getResult()\n",
    "    return finalEquity"
   ]
  },
  {
   "cell_type": "code",
   "execution_count": 80,
   "metadata": {
    "slideshow": {
     "slide_type": "fragment"
    }
   },
   "outputs": [
    {
     "name": "stdout",
     "output_type": "stream",
     "text": [
      "最终权益为：53165.00\n"
     ]
    }
   ],
   "source": [
    "print(f'最终权益为：{main_slippage(50000,5,0.01):.2f}')"
   ]
  },
  {
   "cell_type": "markdown",
   "metadata": {
    "slideshow": {
     "slide_type": "slide"
    }
   },
   "source": [
    "#### 价格影响因子的作用"
   ]
  },
  {
   "cell_type": "code",
   "execution_count": 101,
   "metadata": {
    "slideshow": {
     "slide_type": "fragment"
    }
   },
   "outputs": [
    {
     "data": {
      "text/html": [
       "<div>\n",
       "<style scoped>\n",
       "    .dataframe tbody tr th:only-of-type {\n",
       "        vertical-align: middle;\n",
       "    }\n",
       "\n",
       "    .dataframe tbody tr th {\n",
       "        vertical-align: top;\n",
       "    }\n",
       "\n",
       "    .dataframe thead th {\n",
       "        text-align: right;\n",
       "    }\n",
       "</style>\n",
       "<table border=\"1\" class=\"dataframe\">\n",
       "  <thead>\n",
       "    <tr style=\"text-align: right;\">\n",
       "      <th></th>\n",
       "      <th>影响因子</th>\n",
       "      <th>最终权益</th>\n",
       "    </tr>\n",
       "  </thead>\n",
       "  <tbody>\n",
       "    <tr>\n",
       "      <th>0</th>\n",
       "      <td>0.1</td>\n",
       "      <td>531644.097779</td>\n",
       "    </tr>\n",
       "    <tr>\n",
       "      <th>1</th>\n",
       "      <td>10.0</td>\n",
       "      <td>531059.777875</td>\n",
       "    </tr>\n",
       "    <tr>\n",
       "      <th>2</th>\n",
       "      <td>100.0</td>\n",
       "      <td>525747.778750</td>\n",
       "    </tr>\n",
       "    <tr>\n",
       "      <th>3</th>\n",
       "      <td>1000.0</td>\n",
       "      <td>472627.787500</td>\n",
       "    </tr>\n",
       "  </tbody>\n",
       "</table>\n",
       "</div>"
      ],
      "text/plain": [
       "     影响因子           最终权益\n",
       "0     0.1  531644.097779\n",
       "1    10.0  531059.777875\n",
       "2   100.0  525747.778750\n",
       "3  1000.0  472627.787500"
      ]
     },
     "execution_count": 101,
     "metadata": {},
     "output_type": "execute_result"
    }
   ],
   "source": [
    "equityLst = []\n",
    "priceImpactLst = [0.1, 10, 100, 1000]\n",
    "for each in priceImpactLst:\n",
    "    equityLst.append(main_slippage(500000,50, each))\n",
    "\n",
    "df = pd.DataFrame({'影响因子':priceImpactLst, '最终权益':equityLst})\n",
    "df"
   ]
  },
  {
   "cell_type": "markdown",
   "metadata": {
    "slideshow": {
     "slide_type": "slide"
    }
   },
   "source": [
    "#### 订单规模的影响"
   ]
  },
  {
   "cell_type": "code",
   "execution_count": 99,
   "metadata": {
    "slideshow": {
     "slide_type": "fragment"
    }
   },
   "outputs": [
    {
     "data": {
      "text/html": [
       "<div>\n",
       "<style scoped>\n",
       "    .dataframe tbody tr th:only-of-type {\n",
       "        vertical-align: middle;\n",
       "    }\n",
       "\n",
       "    .dataframe tbody tr th {\n",
       "        vertical-align: top;\n",
       "    }\n",
       "\n",
       "    .dataframe thead th {\n",
       "        text-align: right;\n",
       "    }\n",
       "</style>\n",
       "<table border=\"1\" class=\"dataframe\">\n",
       "  <thead>\n",
       "    <tr style=\"text-align: right;\">\n",
       "      <th></th>\n",
       "      <th>订单规模</th>\n",
       "      <th>最终权益</th>\n",
       "    </tr>\n",
       "  </thead>\n",
       "  <tbody>\n",
       "    <tr>\n",
       "      <th>0</th>\n",
       "      <td>10</td>\n",
       "      <td>506282.78223</td>\n",
       "    </tr>\n",
       "    <tr>\n",
       "      <th>1</th>\n",
       "      <td>50</td>\n",
       "      <td>525747.77875</td>\n",
       "    </tr>\n",
       "    <tr>\n",
       "      <th>2</th>\n",
       "      <td>100</td>\n",
       "      <td>516082.23000</td>\n",
       "    </tr>\n",
       "  </tbody>\n",
       "</table>\n",
       "</div>"
      ],
      "text/plain": [
       "   订单规模          最终权益\n",
       "0    10  506282.78223\n",
       "1    50  525747.77875\n",
       "2   100  516082.23000"
      ]
     },
     "execution_count": 99,
     "metadata": {},
     "output_type": "execute_result"
    }
   ],
   "source": [
    "orderSizeLst = [10, 50, 100]\n",
    "equityLst1 = []\n",
    "for each in orderSizeLst:\n",
    "    equityLst1.append(main_slippage(500000, each, 100))\n",
    "    \n",
    "df1 = pd.DataFrame({'订单规模':orderSizeLst, '最终权益':equityLst1})\n",
    "df1"
   ]
  },
  {
   "cell_type": "markdown",
   "metadata": {
    "slideshow": {
     "slide_type": "slide"
    }
   },
   "source": [
    "# 交易系统"
   ]
  },
  {
   "cell_type": "markdown",
   "metadata": {
    "slideshow": {
     "slide_type": "fragment"
    }
   },
   "source": [
    "## 国内期货市场的交易系统"
   ]
  },
  {
   "cell_type": "markdown",
   "metadata": {
    "slideshow": {
     "slide_type": "fragment"
    }
   },
   "source": [
    "- 交易所系统\n",
    "- 经纪商系统\n",
    "- 投资者系统"
   ]
  },
  {
   "cell_type": "markdown",
   "metadata": {
    "slideshow": {
     "slide_type": "slide"
    }
   },
   "source": [
    "- 交易所系统：交易撮合队列、行情服务器"
   ]
  },
  {
   "cell_type": "markdown",
   "metadata": {
    "slideshow": {
     "slide_type": "fragment"
    }
   },
   "source": [
    "- 经纪商柜台系统：以CTP为代表，\n",
    "    - 用于接收客户订单、前端风控\n",
    "    - 接收交易所推送的行情"
   ]
  },
  {
   "cell_type": "markdown",
   "metadata": {
    "slideshow": {
     "slide_type": "fragment"
    }
   },
   "source": [
    "- 投资者系统\n",
    "    - 连接柜台、行情服务器\n",
    "    - 启动和关闭交易策略"
   ]
  },
  {
   "cell_type": "markdown",
   "metadata": {
    "slideshow": {
     "slide_type": "slide"
    }
   },
   "source": [
    "### 三套系统之间的交互"
   ]
  },
  {
   "cell_type": "markdown",
   "metadata": {
    "slideshow": {
     "slide_type": "fragment"
    }
   },
   "source": [
    "<center><img src=\"./img/realTrading/systems.svg\" width=100%></center>"
   ]
  },
  {
   "cell_type": "markdown",
   "metadata": {
    "slideshow": {
     "slide_type": "slide"
    }
   },
   "source": [
    "### CTP接口"
   ]
  },
  {
   "cell_type": "markdown",
   "metadata": {
    "slideshow": {
     "slide_type": "fragment"
    }
   },
   "source": [
    "- 综合交易平台（Comprehensive Transaction Platform）\n",
    "    - 由上海期货交易所的上海期货信息技术有限公司开发 [http://www.sfit.com.cn/](http://www.sfit.com.cn/)\n",
    "    - 适用于期货公司的期货经纪业务管理系统"
   ]
  },
  {
   "cell_type": "markdown",
   "metadata": {
    "slideshow": {
     "slide_type": "fragment"
    }
   },
   "source": [
    "- CTP的组成\n",
    "<center><img src=\"./img/realTrading/ctp.png\" width=100%></center>"
   ]
  },
  {
   "cell_type": "markdown",
   "metadata": {
    "slideshow": {
     "slide_type": "fragment"
    }
   },
   "source": [
    "- CTP能够同时连通上海期货交易所、大连商品交易所、郑州商品交易所、中国金融期货交易所\n",
    "- 支持国内商品期货和股指期货的交易和结算业务"
   ]
  },
  {
   "cell_type": "markdown",
   "metadata": {
    "slideshow": {
     "slide_type": "fragment"
    }
   },
   "source": [
    "- 分别对应交易接口（`Trader API`）、风控接口(`Risk API`)、结算接口（`CSV`）"
   ]
  },
  {
   "cell_type": "markdown",
   "metadata": {
    "slideshow": {
     "slide_type": "slide"
    }
   },
   "source": [
    "### `Trader API`"
   ]
  },
  {
   "cell_type": "markdown",
   "metadata": {
    "slideshow": {
     "slide_type": "fragment"
    }
   },
   "source": [
    "- 最新版本是v6.3.19_P1"
   ]
  },
  {
   "cell_type": "markdown",
   "metadata": {
    "slideshow": {
     "slide_type": "fragment"
    }
   },
   "source": [
    "文件名|功能说明\n",
    "---|---\n",
    "`ThostFtdcTraderApi.h`|`C++`头文件，包含交易相关的指令\n",
    "`ThostFtdcMdApi.h`|`C++`头文件，包含获取行情相关的指令\n",
    "`ThostFtdcUserApiStruct.h`|包含所有需要的数据结构\n",
    "`ThostFtdcUserApiDataType.h`|包含所有需要用到的数据类型\n",
    "`thosttraderapi_se.dll`|交易相关的动态链接库\n",
    "`thosttraderapi_se.lib`|交易相关的静态链接库\n",
    "`thostmduserapi_se.dll`|行情相关的动态链接库\n",
    "`thostmduserapi_se.lib`|行情相关的静态链接库\n",
    "`error.dtd`|所有可能的错误信息\n",
    "`error.xml`|所有可能的错误信息"
   ]
  },
  {
   "cell_type": "markdown",
   "metadata": {
    "slideshow": {
     "slide_type": "fragment"
    }
   },
   "source": [
    "- 用户只需要关注`.h`文件"
   ]
  },
  {
   "cell_type": "markdown",
   "metadata": {
    "slideshow": {
     "slide_type": "slide"
    }
   },
   "source": [
    "#### `API`接口包含的两个***类***"
   ]
  },
  {
   "cell_type": "markdown",
   "metadata": {
    "slideshow": {
     "slide_type": "fragment"
    }
   },
   "source": [
    "- `Spi`类：包含所有的响应和回报函数，接收CTP发送的消息"
   ]
  },
  {
   "cell_type": "markdown",
   "metadata": {
    "slideshow": {
     "slide_type": "fragment"
    }
   },
   "source": [
    "- `Api`类：用户主动向CTP发起请求和订阅的函数"
   ]
  },
  {
   "cell_type": "markdown",
   "metadata": {
    "slideshow": {
     "slide_type": "fragment"
    }
   },
   "source": [
    "<center><img src=\"./img/realTrading/ctpApiSpi.svg\" width=100%></center>"
   ]
  },
  {
   "cell_type": "markdown",
   "metadata": {
    "slideshow": {
     "slide_type": "slide"
    }
   },
   "source": [
    "## 国内量化交易平台"
   ]
  },
  {
   "cell_type": "markdown",
   "metadata": {
    "slideshow": {
     "slide_type": "fragment"
    }
   },
   "source": [
    "- 优矿 [https://uqer.datayes.com/](https://uqer.datayes.com/)\n",
    "- BigQuant [https://bigquant.com/](https://bigquant.com/)\n",
    "- 聚宽 [https://www.joinquant.com/](https://www.joinquant.com/)\n",
    "- 掘金量化 [https://www.myquant.cn/](https://www.myquant.cn/)\n",
    "- 米筐 [https://www.ricequant.com/welcome/](https://www.ricequant.com/welcome/)\n",
    "- MindGo [http://quant.10jqka.com.cn/platform/html/home.html](http://quant.10jqka.com.cn/platform/html/home.html)\n",
    "- 万矿 [https://www.windquant.com](https://www.windquant.com)\n",
    "- 国泰君安量化交易系统 [https://quant.gtja.com](https://quant.gtja.com)\n",
    "- 点宽 [http://www.digquant.info](http://www.digquant.info)"
   ]
  },
  {
   "cell_type": "markdown",
   "metadata": {
    "slideshow": {
     "slide_type": "slide"
    }
   },
   "source": [
    "### 构建一个交易策略主要使用的函数"
   ]
  },
  {
   "cell_type": "markdown",
   "metadata": {
    "slideshow": {
     "slide_type": "fragment"
    }
   },
   "source": [
    "```python\n",
    "    def initialize(context):\n",
    "        # 初始化函数，初始化策略的基本参数\n",
    "        pass\n",
    "    \n",
    "    def handle_data(context, data):\n",
    "        # 主交易逻辑\n",
    "        pass\n",
    "```"
   ]
  },
  {
   "cell_type": "markdown",
   "metadata": {
    "slideshow": {
     "slide_type": "slide"
    }
   },
   "source": [
    "# 量化交易风险 "
   ]
  },
  {
   "cell_type": "markdown",
   "metadata": {
    "slideshow": {
     "slide_type": "fragment"
    }
   },
   "source": [
    "## 交易风险的来源"
   ]
  },
  {
   "cell_type": "markdown",
   "metadata": {
    "slideshow": {
     "slide_type": "fragment"
    }
   },
   "source": [
    "<center><img src=\"./img/realTrading/risk1.png\" width=100%></center>"
   ]
  },
  {
   "cell_type": "markdown",
   "metadata": {
    "slideshow": {
     "slide_type": "slide"
    }
   },
   "source": [
    "### 模型风险"
   ]
  },
  {
   "cell_type": "markdown",
   "metadata": {
    "slideshow": {
     "slide_type": "fragment"
    }
   },
   "source": [
    "- 回测时候的过拟合"
   ]
  },
  {
   "cell_type": "markdown",
   "metadata": {
    "slideshow": {
     "slide_type": "fragment"
    }
   },
   "source": [
    "- 交易逻辑的不完善"
   ]
  },
  {
   "cell_type": "markdown",
   "metadata": {
    "slideshow": {
     "slide_type": "fragment"
    }
   },
   "source": [
    "- 例，2016年11月11日（周五）夜盘，棉花期货开盘涨停之后又跌停"
   ]
  },
  {
   "cell_type": "code",
   "execution_count": 29,
   "metadata": {
    "scrolled": true,
    "slideshow": {
     "slide_type": "slide"
    }
   },
   "outputs": [
    {
     "data": {
      "text/html": [
       "<div>\n",
       "<style scoped>\n",
       "    .dataframe tbody tr th:only-of-type {\n",
       "        vertical-align: middle;\n",
       "    }\n",
       "\n",
       "    .dataframe tbody tr th {\n",
       "        vertical-align: top;\n",
       "    }\n",
       "\n",
       "    .dataframe thead th {\n",
       "        text-align: right;\n",
       "    }\n",
       "</style>\n",
       "<table border=\"1\" class=\"dataframe\">\n",
       "  <thead>\n",
       "    <tr style=\"text-align: right;\">\n",
       "      <th></th>\n",
       "      <th>open</th>\n",
       "      <th>high</th>\n",
       "      <th>low</th>\n",
       "      <th>close</th>\n",
       "      <th>volume</th>\n",
       "    </tr>\n",
       "    <tr>\n",
       "      <th>Date Time</th>\n",
       "      <th></th>\n",
       "      <th></th>\n",
       "      <th></th>\n",
       "      <th></th>\n",
       "      <th></th>\n",
       "    </tr>\n",
       "  </thead>\n",
       "  <tbody>\n",
       "    <tr>\n",
       "      <th>2016-11-11 13:30:00</th>\n",
       "      <td>15245.0</td>\n",
       "      <td>15290.0</td>\n",
       "      <td>15220.0</td>\n",
       "      <td>15265.0</td>\n",
       "      <td>3820.0</td>\n",
       "    </tr>\n",
       "    <tr>\n",
       "      <th>2016-11-11 13:31:00</th>\n",
       "      <td>15255.0</td>\n",
       "      <td>15290.0</td>\n",
       "      <td>15250.0</td>\n",
       "      <td>15285.0</td>\n",
       "      <td>878.0</td>\n",
       "    </tr>\n",
       "    <tr>\n",
       "      <th>2016-11-11 13:32:00</th>\n",
       "      <td>15285.0</td>\n",
       "      <td>15285.0</td>\n",
       "      <td>15240.0</td>\n",
       "      <td>15260.0</td>\n",
       "      <td>1454.0</td>\n",
       "    </tr>\n",
       "    <tr>\n",
       "      <th>2016-11-11 13:33:00</th>\n",
       "      <td>15255.0</td>\n",
       "      <td>15280.0</td>\n",
       "      <td>15255.0</td>\n",
       "      <td>15275.0</td>\n",
       "      <td>980.0</td>\n",
       "    </tr>\n",
       "    <tr>\n",
       "      <th>2016-11-11 13:34:00</th>\n",
       "      <td>15275.0</td>\n",
       "      <td>15320.0</td>\n",
       "      <td>15275.0</td>\n",
       "      <td>15305.0</td>\n",
       "      <td>1872.0</td>\n",
       "    </tr>\n",
       "  </tbody>\n",
       "</table>\n",
       "</div>"
      ],
      "text/plain": [
       "                        open     high      low    close  volume\n",
       "Date Time                                                      \n",
       "2016-11-11 13:30:00  15245.0  15290.0  15220.0  15265.0  3820.0\n",
       "2016-11-11 13:31:00  15255.0  15290.0  15250.0  15285.0   878.0\n",
       "2016-11-11 13:32:00  15285.0  15285.0  15240.0  15260.0  1454.0\n",
       "2016-11-11 13:33:00  15255.0  15280.0  15255.0  15275.0   980.0\n",
       "2016-11-11 13:34:00  15275.0  15320.0  15275.0  15305.0  1872.0"
      ]
     },
     "execution_count": 29,
     "metadata": {},
     "output_type": "execute_result"
    }
   ],
   "source": [
    "cfdf = pd.read_csv('./data/realTrading/CF701_20161111.csv')\n",
    "cfdf['Date Time'] = pd.to_datetime(cfdf['Date Time'],format='%Y-%m-%d %H:%M:%S')\n",
    "cfdf.set_index('Date Time',inplace=True)\n",
    "cfdf.head()"
   ]
  },
  {
   "cell_type": "code",
   "execution_count": 59,
   "metadata": {
    "slideshow": {
     "slide_type": "fragment"
    }
   },
   "outputs": [],
   "source": [
    "mc = mpf.make_marketcolors(up='#fe3032',down='#00b060',inherit=True)\n",
    "ms = mpf.make_mpf_style(base_mpf_style='yahoo',marketcolors=mc)"
   ]
  },
  {
   "cell_type": "code",
   "execution_count": 60,
   "metadata": {
    "scrolled": true,
    "slideshow": {
     "slide_type": "fragment"
    }
   },
   "outputs": [
    {
     "data": {
      "image/png": "[encoded data removed]",
      "text/plain": [
       "<Figure size 1725x575 with 4 Axes>"
      ]
     },
     "metadata": {},
     "output_type": "display_data"
    }
   ],
   "source": [
    "mpf.plot(cfdf,type='candle',style=ms,volume=True,figratio=(12,4),figscale=1.0,tight_layout=True,vlines={'vlines':['2016-11-11 21:21','2016-11-11 21:50'],'linewidths':[100,100],'colors':['r','g'],'alpha':0.2})"
   ]
  },
  {
   "cell_type": "markdown",
   "metadata": {
    "slideshow": {
     "slide_type": "fragment"
    }
   },
   "source": [
    "> 。。。白天持有一万吨的买棕油卖菜油的套利头寸，夜盘开盘暴涨，她慌了，追着市场砍掉了一万吨菜油的空头；刚砍完菜油的空头，棕油跳水了！她又追着砍了棕油的多头。。。检讨中她跟我道歉说一下子损失了300多万。。。"
   ]
  },
  {
   "cell_type": "markdown",
   "metadata": {
    "slideshow": {
     "slide_type": "slide"
    }
   },
   "source": [
    "### 执行风险"
   ]
  },
  {
   "cell_type": "markdown",
   "metadata": {
    "slideshow": {
     "slide_type": "fragment"
    }
   },
   "source": [
    "- 执行系统接收不到交易信号"
   ]
  },
  {
   "cell_type": "markdown",
   "metadata": {
    "slideshow": {
     "slide_type": "fragment"
    }
   },
   "source": [
    "- 漏掉经纪商柜台系统或交易所系统的回报"
   ]
  },
  {
   "cell_type": "markdown",
   "metadata": {
    "slideshow": {
     "slide_type": "slide"
    }
   },
   "source": [
    "### 技术风险"
   ]
  },
  {
   "cell_type": "markdown",
   "metadata": {
    "slideshow": {
     "slide_type": "fragment"
    }
   },
   "source": [
    "- 系统程序实施错误"
   ]
  },
  {
   "cell_type": "markdown",
   "metadata": {
    "slideshow": {
     "slide_type": "fragment"
    }
   },
   "source": [
    "- 电脑死机"
   ]
  },
  {
   "cell_type": "markdown",
   "metadata": {
    "slideshow": {
     "slide_type": "fragment"
    }
   },
   "source": [
    "- 网络传输中断"
   ]
  },
  {
   "cell_type": "markdown",
   "metadata": {
    "slideshow": {
     "slide_type": "fragment"
    }
   },
   "source": [
    "- 例，2012年8月份，骑士资本（Knight）交易系统的一个bug使得处于休眠状态的模块突然上线，不断复制仓位，造成骑士资本以不断上涨的价格增加仓位。\n",
    "    - 当平掉这些仓位的时候，骑士资本有了9位数的损失"
   ]
  },
  {
   "cell_type": "markdown",
   "metadata": {
    "slideshow": {
     "slide_type": "slide"
    }
   },
   "source": [
    "<center><img src=\"./img/realTrading/risk2.png\" width=100%></center>"
   ]
  },
  {
   "cell_type": "markdown",
   "metadata": {
    "slideshow": {
     "slide_type": "slide"
    }
   },
   "source": [
    "### 系统性风险"
   ]
  },
  {
   "cell_type": "markdown",
   "metadata": {
    "slideshow": {
     "slide_type": "fragment"
    }
   },
   "source": [
    "- 同质化投资策略加剧了市场的波动"
   ]
  },
  {
   "cell_type": "markdown",
   "metadata": {
    "slideshow": {
     "slide_type": "fragment"
    }
   },
   "source": [
    "- 同时触及各个程序化交易的止损价位，导致市场“羊群效应”的出现"
   ]
  },
  {
   "cell_type": "markdown",
   "metadata": {
    "slideshow": {
     "slide_type": "fragment"
    }
   },
   "source": [
    "> [一场由程序员“背锅”的股灾：1987年的黑色星期一 http://reader.epubee.com/books/mobile/ee/ee4f0d86257d26f803236b30238fe63a/text00008.html](http://reader.epubee.com/books/mobile/ee/ee4f0d86257d26f803236b30238fe63a/text00008.html)"
   ]
  },
  {
   "cell_type": "code",
   "execution_count": 23,
   "metadata": {
    "slideshow": {
     "slide_type": "slide"
    }
   },
   "outputs": [
    {
     "data": {
      "text/html": [
       "<div>\n",
       "<style scoped>\n",
       "    .dataframe tbody tr th:only-of-type {\n",
       "        vertical-align: middle;\n",
       "    }\n",
       "\n",
       "    .dataframe tbody tr th {\n",
       "        vertical-align: top;\n",
       "    }\n",
       "\n",
       "    .dataframe thead th {\n",
       "        text-align: right;\n",
       "    }\n",
       "</style>\n",
       "<table border=\"1\" class=\"dataframe\">\n",
       "  <thead>\n",
       "    <tr style=\"text-align: right;\">\n",
       "      <th></th>\n",
       "      <th>Open</th>\n",
       "      <th>High</th>\n",
       "      <th>Low</th>\n",
       "      <th>Close</th>\n",
       "      <th>Volume</th>\n",
       "    </tr>\n",
       "    <tr>\n",
       "      <th>Date</th>\n",
       "      <th></th>\n",
       "      <th></th>\n",
       "      <th></th>\n",
       "      <th></th>\n",
       "      <th></th>\n",
       "    </tr>\n",
       "  </thead>\n",
       "  <tbody>\n",
       "    <tr>\n",
       "      <th>1987-07-01</th>\n",
       "      <td>2418.5</td>\n",
       "      <td>2430.8</td>\n",
       "      <td>2391.3</td>\n",
       "      <td>2409.8</td>\n",
       "      <td>18531349</td>\n",
       "    </tr>\n",
       "    <tr>\n",
       "      <th>1987-07-02</th>\n",
       "      <td>2415.7</td>\n",
       "      <td>2446.3</td>\n",
       "      <td>2415.7</td>\n",
       "      <td>2436.7</td>\n",
       "      <td>17821316</td>\n",
       "    </tr>\n",
       "    <tr>\n",
       "      <th>1987-07-06</th>\n",
       "      <td>2436.7</td>\n",
       "      <td>2460.3</td>\n",
       "      <td>2413.0</td>\n",
       "      <td>2429.5</td>\n",
       "      <td>21377828</td>\n",
       "    </tr>\n",
       "    <tr>\n",
       "      <th>1987-07-07</th>\n",
       "      <td>2429.5</td>\n",
       "      <td>2467.6</td>\n",
       "      <td>2425.1</td>\n",
       "      <td>2449.8</td>\n",
       "      <td>24925114</td>\n",
       "    </tr>\n",
       "    <tr>\n",
       "      <th>1987-07-08</th>\n",
       "      <td>2449.8</td>\n",
       "      <td>2476.2</td>\n",
       "      <td>2432.6</td>\n",
       "      <td>2464.0</td>\n",
       "      <td>25019823</td>\n",
       "    </tr>\n",
       "  </tbody>\n",
       "</table>\n",
       "</div>"
      ],
      "text/plain": [
       "              Open    High     Low   Close    Volume\n",
       "Date                                                \n",
       "1987-07-01  2418.5  2430.8  2391.3  2409.8  18531349\n",
       "1987-07-02  2415.7  2446.3  2415.7  2436.7  17821316\n",
       "1987-07-06  2436.7  2460.3  2413.0  2429.5  21377828\n",
       "1987-07-07  2429.5  2467.6  2425.1  2449.8  24925114\n",
       "1987-07-08  2449.8  2476.2  2432.6  2464.0  25019823"
      ]
     },
     "execution_count": 23,
     "metadata": {},
     "output_type": "execute_result"
    }
   ],
   "source": [
    "dji = web.DataReader('^DJI','stooq',start=datetime(1987,7,1),end=datetime(1987,12,1))\n",
    "dji.sort_index(ascending=True,inplace=True)\n",
    "dji.head()"
   ]
  },
  {
   "cell_type": "code",
   "execution_count": 62,
   "metadata": {
    "scrolled": true,
    "slideshow": {
     "slide_type": "fragment"
    }
   },
   "outputs": [
    {
     "data": {
      "image/png": "[encoded data removed]",
      "text/plain": [
       "<Figure size 1725x575 with 4 Axes>"
      ]
     },
     "metadata": {},
     "output_type": "display_data"
    }
   ],
   "source": [
    "mpl.plot(dji,type='candle',style=ms,volume=True,figratio=(12,4),figscale=1.0,tight_layout=True,datetime_format='%Y-%m-%d',vlines={'vlines':'1987-10-19','linewidths':50,'alpha':0.2})"
   ]
  },
  {
   "cell_type": "markdown",
   "metadata": {
    "slideshow": {
     "slide_type": "slide"
    }
   },
   "source": [
    "## 风险的度量"
   ]
  },
  {
   "cell_type": "markdown",
   "metadata": {
    "slideshow": {
     "slide_type": "fragment"
    }
   },
   "source": [
    "- 模型风险的度量\n",
    "    - 策略收益的标准差\n",
    "    - 最大回撤、最长回撤周期\n",
    "    - VaR"
   ]
  },
  {
   "cell_type": "markdown",
   "metadata": {
    "slideshow": {
     "slide_type": "slide"
    }
   },
   "source": [
    "### VaR"
   ]
  },
  {
   "cell_type": "markdown",
   "metadata": {
    "slideshow": {
     "slide_type": "fragment"
    }
   },
   "source": [
    "- Value at Risk（在险价值）：在给定置信水平的情况下，资产组合在某一段时间内的最大可能损失"
   ]
  },
  {
   "cell_type": "markdown",
   "metadata": {
    "slideshow": {
     "slide_type": "fragment"
    }
   },
   "source": [
    "- 例，在95%置信水平下，VaR为500000元"
   ]
  },
  {
   "cell_type": "markdown",
   "metadata": {
    "slideshow": {
     "slide_type": "fragment"
    }
   },
   "source": [
    "$$\n",
    "    Prob\\{\\text{Loss}\\le -500000\\}=0.05\n",
    "$$"
   ]
  },
  {
   "cell_type": "markdown",
   "metadata": {
    "slideshow": {
     "slide_type": "fragment"
    }
   },
   "source": [
    "- 假设初始权益为$P$，置信水平为$c$，收益率服从$N(\\mu,\\sigma)$，$F^{-1}(\\cdot)$为正态分布累积分布函数的逆函数，则\n",
    "$$\n",
    "    VaR =-PF^{-1}(1-c)\n",
    "$$"
   ]
  },
  {
   "cell_type": "code",
   "execution_count": 110,
   "metadata": {
    "slideshow": {
     "slide_type": "slide"
    }
   },
   "outputs": [],
   "source": [
    "from pyalgotrade import strategy, plotter\n",
    "from pyalgotrade.technical import bollinger\n",
    "from pyalgotrade.stratanalyzer import returns, sharpe, trades, drawdown\n",
    "from pyalgotrade.barfeed import csvfeed\n",
    "from pyalgotrade.bar import Frequency"
   ]
  },
  {
   "cell_type": "code",
   "execution_count": 111,
   "metadata": {
    "slideshow": {
     "slide_type": "fragment"
    }
   },
   "outputs": [],
   "source": [
    "class myBBands(strategy.BacktestingStrategy):\n",
    "    \n",
    "    def __init__(self, feed, instrument, bBandsPeriod, numDev, initEquity):\n",
    "        super(myBBands, self).__init__(feed, initEquity)\n",
    "        self.__instrument = instrument\n",
    "        self.__bbands = bollinger.BollingerBands(feed[instrument].getCloseDataSeries(), bBandsPeriod, numDev)\n",
    "        self.__positivePosition = None\n",
    "        self.__negativePosition = None\n",
    "\n",
    "    def getBollingerBands(self):\n",
    "        return self.__bbands\n",
    "    \n",
    "    def onExitOk(self, position):\n",
    "        order = position.getExitOrder()\n",
    "        execInfo = order.getExecutionInfo()\n",
    "#         self.info(f'{self.action_type(order)}，价格为{execInfo.getPrice():.2f}')\n",
    "        if self.__negativePosition == position:\n",
    "            self.__negativePosition = None\n",
    "        elif self.__positivePosition == position:\n",
    "            self.__positivePosition = None\n",
    "        \n",
    "    def onEnterOk(self, position):\n",
    "        order = position.getEntryOrder()\n",
    "        execInfo = order.getExecutionInfo()\n",
    "#         self.info(f'{self.action_type(order)}，价格为{execInfo.getPrice():.2f}')\n",
    "        \n",
    "    def action_type(self, order):\n",
    "        actionType = order.getAction()\n",
    "        typeMeaning = ''\n",
    "        if actionType == 1:\n",
    "            typeMeaning = '建多仓'\n",
    "        elif actionType == 2:\n",
    "            typeMeaning = '平空仓'\n",
    "        elif actionType == 3:\n",
    "            typeMeaning = '平多仓'\n",
    "        elif actionType == 4:\n",
    "            typeMeaning = '建空仓'\n",
    "        return typeMeaning\n",
    "            \n",
    "\n",
    "    def onBars(self, bars):\n",
    "        lower = self.__bbands.getLowerBand()[-1]\n",
    "        upper = self.__bbands.getUpperBand()[-1]\n",
    "        if lower is None:\n",
    "            return\n",
    "\n",
    "        bar = bars[self.__instrument]\n",
    "        \n",
    "        if bar.getClose() < lower:\n",
    "            if self.__negativePosition is not None and self.__negativePosition.exitActive() is False:\n",
    "                # 有空仓，并且没有平空仓的挂单\n",
    "                self.__negativePosition.exitMarket()\n",
    "            if self.__positivePosition is None:\n",
    "                # 没有多仓\n",
    "                self.__positivePosition = self.enterLong(self.__instrument, 5)\n",
    "        elif bar.getClose() > upper:\n",
    "            if self.__positivePosition is not None and self.__positivePosition.exitActive() is False:\n",
    "                # 有多仓，并且没有平多仓的挂单\n",
    "                self.__positivePosition.exitMarket()\n",
    "            if self.__negativePosition is None:\n",
    "                # 没有空仓\n",
    "                self.__negativePosition = self.enterShort(self.__instrument, 5)"
   ]
  },
  {
   "cell_type": "code",
   "execution_count": 112,
   "metadata": {
    "slideshow": {
     "slide_type": "fragment"
    }
   },
   "outputs": [],
   "source": [
    "def strategy_evaluation(inputStrategy):\n",
    "    retAnalyzer = returns.Returns()\n",
    "    sharpeAnalyzer = sharpe.SharpeRatio()\n",
    "    ddAnalyzer = drawdown.DrawDown()\n",
    "    tradesAnalyzer = trades.Trades()\n",
    "    \n",
    "    inputStrategy.attachAnalyzer(retAnalyzer)\n",
    "    inputStrategy.attachAnalyzer(sharpeAnalyzer)\n",
    "    inputStrategy.attachAnalyzer(ddAnalyzer)\n",
    "    inputStrategy.attachAnalyzer(tradesAnalyzer)\n",
    "    \n",
    "    return retAnalyzer, sharpeAnalyzer, ddAnalyzer, tradesAnalyzer"
   ]
  },
  {
   "cell_type": "code",
   "execution_count": 113,
   "metadata": {
    "slideshow": {
     "slide_type": "fragment"
    }
   },
   "outputs": [],
   "source": [
    "def read_data(instrument):\n",
    "    strFeed = csvfeed.GenericBarFeed(Frequency.MINUTE)\n",
    "    strFeed.addBarsFromCSV(instrument,'./data/performance/rb.csv')\n",
    "    return strFeed"
   ]
  },
  {
   "cell_type": "code",
   "execution_count": 114,
   "metadata": {
    "slideshow": {
     "slide_type": "fragment"
    }
   },
   "outputs": [],
   "source": [
    "def main():\n",
    "    instrument = 'rb'\n",
    "    bBandsPeriod = 20\n",
    "    numDev = 3\n",
    "    feed = read_data(instrument)\n",
    "    \n",
    "    strat = myBBands(feed, instrument, bBandsPeriod, numDev, 50000)\n",
    "    \n",
    "    retEval, sharpeEval, ddEval, tradesEval = strategy_evaluation(strat)\n",
    "    \n",
    "    strat.run()\n",
    "    \n",
    "    print(f'最终权益为：{strat.getResult()}')\n",
    "    print(f'最终累积收益率为：{retEval.getCumulativeReturns()[-1]*100:.2f}%')\n",
    "    print(f'Sharpe Ratio为：{sharpeEval.getSharpeRatio(0.03):.2f}')\n",
    "    print(f'最大回撤为：{ddEval.getMaxDrawDown()*100:.2f}%')\n",
    "    print(f'最长回撤时间为：{ddEval.getLongestDrawDownDuration()}')\n",
    "    print(f'总交易次数为：{tradesEval.getCount()}')\n",
    "    if tradesEval.getCount() > 0:\n",
    "        print(f'胜率为：{tradesEval.getProfitableCount()/tradesEval.getCount()*100:.2f}%')\n",
    "    return retEval, tradesEval"
   ]
  },
  {
   "cell_type": "code",
   "execution_count": 115,
   "metadata": {
    "slideshow": {
     "slide_type": "slide"
    }
   },
   "outputs": [
    {
     "name": "stdout",
     "output_type": "stream",
     "text": [
      "最终权益为：51300.0\n",
      "最终累积收益率为：2.60%\n",
      "Sharpe Ratio为：0.13\n",
      "最大回撤为：3.85%\n",
      "最长回撤时间为：195 days, 5:02:00\n",
      "总交易次数为：208\n",
      "胜率为：59.13%\n"
     ]
    }
   ],
   "source": [
    "ret, trades = main()"
   ]
  },
  {
   "cell_type": "markdown",
   "metadata": {
    "slideshow": {
     "slide_type": "slide"
    }
   },
   "source": [
    "#### VaR计算"
   ]
  },
  {
   "cell_type": "code",
   "execution_count": 69,
   "metadata": {
    "slideshow": {
     "slide_type": "fragment"
    }
   },
   "outputs": [],
   "source": [
    "from scipy.stats import norm"
   ]
  },
  {
   "cell_type": "code",
   "execution_count": 116,
   "metadata": {
    "slideshow": {
     "slide_type": "fragment"
    }
   },
   "outputs": [
    {
     "data": {
      "text/plain": [
       "10.455516448953084"
      ]
     },
     "execution_count": 116,
     "metadata": {},
     "output_type": "execute_result"
    }
   ],
   "source": [
    "retLst = np.array(ret.getReturns())\n",
    "-50000*norm.ppf(1-0.95,retLst.mean(),retLst.std())"
   ]
  },
  {
   "cell_type": "markdown",
   "metadata": {
    "slideshow": {
     "slide_type": "fragment"
    }
   },
   "source": [
    "- 在95%的置信水平下，最大的可能损失为10.46元"
   ]
  },
  {
   "cell_type": "markdown",
   "metadata": {
    "slideshow": {
     "slide_type": "subslide"
    }
   },
   "source": [
    "```python\n",
    "scipy.stats.norm.ppf(1-c, mu, sigma)\n",
    "```\n",
    "- `c`：置信水平\n",
    "- `mu`：均值\n",
    "- `sigma`：标准差"
   ]
  },
  {
   "cell_type": "markdown",
   "metadata": {
    "slideshow": {
     "slide_type": "slide"
    }
   },
   "source": [
    "#### 最大损失"
   ]
  },
  {
   "cell_type": "code",
   "execution_count": 117,
   "metadata": {
    "slideshow": {
     "slide_type": "fragment"
    }
   },
   "outputs": [
    {
     "data": {
      "text/plain": [
       "-63.10679611650485"
      ]
     },
     "execution_count": 117,
     "metadata": {},
     "output_type": "execute_result"
    }
   ],
   "source": [
    "50000*retLst.min()"
   ]
  },
  {
   "cell_type": "code",
   "execution_count": 122,
   "metadata": {
    "slideshow": {
     "slide_type": "fragment"
    }
   },
   "outputs": [
    {
     "data": {
      "text/plain": [
       "[Text(0.5, 0, 'PnL')]"
      ]
     },
     "execution_count": 122,
     "metadata": {},
     "output_type": "execute_result"
    },
    {
     "data": {
      "image/png": "[encoded data removed]",
      "text/plain": [
       "<Figure size 1200x600 with 1 Axes>"
      ]
     },
     "metadata": {},
     "output_type": "display_data"
    }
   ],
   "source": [
    "ax = pd.Series(retLst*50000).plot(kind='hist',bins=15,figsize=(12,6))\n",
    "ax.set(xlabel='PnL')"
   ]
  },
  {
   "cell_type": "markdown",
   "metadata": {
    "slideshow": {
     "slide_type": "fragment"
    }
   },
   "source": [
    "- VaR的不足：\n",
    "    - VaR要求数据服从正态分布，但是实际收益分布往往是长尾的"
   ]
  },
  {
   "cell_type": "markdown",
   "metadata": {
    "slideshow": {
     "slide_type": "slide"
    }
   },
   "source": [
    "## 量化交易风险的控制"
   ]
  },
  {
   "cell_type": "markdown",
   "metadata": {
    "slideshow": {
     "slide_type": "fragment"
    }
   },
   "source": [
    "- 模型风险的控制\n",
    "    - 止损、止盈\n",
    "    - 仓位控制"
   ]
  },
  {
   "cell_type": "markdown",
   "metadata": {
    "slideshow": {
     "slide_type": "slide"
    }
   },
   "source": [
    "### 仓位控制"
   ]
  },
  {
   "cell_type": "markdown",
   "metadata": {
    "slideshow": {
     "slide_type": "fragment"
    }
   },
   "source": [
    "- 仓位控制是对风险最直接的控制方法"
   ]
  },
  {
   "cell_type": "markdown",
   "metadata": {
    "slideshow": {
     "slide_type": "fragment"
    }
   },
   "source": [
    "- Kelly公式：最优仓位比例"
   ]
  },
  {
   "cell_type": "markdown",
   "metadata": {
    "slideshow": {
     "slide_type": "fragment"
    }
   },
   "source": [
    "$$\n",
    "    f=p-\\frac{1-p}{b}=\\frac{bp-(1-p)}{b}\n",
    "$$\n",
    "- $p$：交易胜率\n",
    "- $b$：平均盈利/平均亏损"
   ]
  },
  {
   "cell_type": "markdown",
   "metadata": {
    "slideshow": {
     "slide_type": "slide"
    }
   },
   "source": [
    "#### 仓位比例计算"
   ]
  },
  {
   "cell_type": "code",
   "execution_count": 134,
   "metadata": {
    "slideshow": {
     "slide_type": "fragment"
    }
   },
   "outputs": [
    {
     "name": "stdout",
     "output_type": "stream",
     "text": [
      "胜率为0.5913461538461539\n",
      "平均盈利103.65853658536585\n",
      "平均亏损-140.74074074074073\n"
     ]
    },
    {
     "data": {
      "text/plain": [
       "0.03650284900284902"
      ]
     },
     "execution_count": 134,
     "metadata": {},
     "output_type": "execute_result"
    }
   ],
   "source": [
    "totTrades = trades.getCount()\n",
    "p = trades.getProfitableCount()/totTrades\n",
    "print(f'胜率为{p}')\n",
    "aveGain = trades.getProfits().mean()\n",
    "print(f'平均盈利{aveGain}')\n",
    "aveLoss = trades.getLosses().mean()\n",
    "print(f'平均亏损{aveLoss}')\n",
    "b = aveGain/np.abs(aveLoss)\n",
    "fpct = (b*p-(1-p))/b\n",
    "fpct"
   ]
  },
  {
   "cell_type": "markdown",
   "metadata": {
    "slideshow": {
     "slide_type": "fragment"
    }
   },
   "source": [
    "- 最优仓位比例是3.7%"
   ]
  }
 ],
 "metadata": {
  "celltoolbar": "Slideshow",
  "hide_input": false,
  "kernelspec": {
   "display_name": "Python 3",
   "language": "python",
   "name": "python3"
  },
  "language_info": {
   "codemirror_mode": {
    "name": "ipython",
    "version": 3
   },
   "file_extension": ".py",
   "mimetype": "text/x-python",
   "name": "python",
   "nbconvert_exporter": "python",
   "pygments_lexer": "ipython3",
   "version": "3.6.8"
  },
  "toc": {
   "base_numbering": 1,
   "nav_menu": {},
   "number_sections": true,
   "sideBar": true,
   "skip_h1_title": false,
   "title_cell": "Table of Contents",
   "title_sidebar": "Contents",
   "toc_cell": false,
   "toc_position": {
    "height": "calc(100% - 180px)",
    "left": "10px",
    "top": "150px",
    "width": "320px"
   },
   "toc_section_display": true,
   "toc_window_display": true
  }
 },
 "nbformat": 4,
 "nbformat_minor": 4
}
