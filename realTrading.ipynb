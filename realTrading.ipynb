{
 "cells": [
  {
   "cell_type": "code",
   "execution_count": 2,
   "metadata": {
    "init_cell": true,
    "slideshow": {
     "slide_type": "skip"
    }
   },
   "outputs": [],
   "source": [
    "from datetime import datetime\n",
    "import pandas as pd\n",
    "import pandas_datareader.data as web\n",
    "import numpy as np\n",
    "import mplfinance as mpf\n",
    "from pyalgotrade import strategy, plotter\n",
    "from pyalgotrade.technical import bollinger\n",
    "from pyalgotrade.stratanalyzer import returns, sharpe, trades, drawdown\n",
    "from pyalgotrade.barfeed import csvfeed\n",
    "from pyalgotrade.bar import Frequency\n",
    "from pyalgotrade.broker import backtesting, slippage\n",
    "import matplotlib.pyplot as plt\n",
    "plt.style.use('ggplot')\n",
    "plt.rcParams['font.sans-serif']=['Microsoft Yahei']\n",
    "from IPython.core.interactiveshell import InteractiveShell\n",
    "InteractiveShell.ast_node_interactivity = \"all\""
   ]
  },
  {
   "cell_type": "markdown",
   "metadata": {
    "slideshow": {
     "slide_type": "slide"
    }
   },
   "source": [
    "<div class=\"jumbotron\">\n",
    "    <p class=\"display-1 h1\">实盘交易</p>\n",
    "    <hr class=\"my-4\">\n",
    "    <p>主讲：李岩</p>\n",
    "    <p>管理学院</p>\n",
    "    <p>liyan@cumtb.edu.cn</p>\n",
    "</div>"
   ]
  },
  {
   "cell_type": "markdown",
   "metadata": {
    "slideshow": {
     "slide_type": "fragment"
    }
   },
   "source": [
    "- 实盘交易需要考虑的问题\n",
    "    - 交易成本\n",
    "    - 风险控制\n",
    "    - 交易系统"
   ]
  },
  {
   "cell_type": "markdown",
   "metadata": {
    "slideshow": {
     "slide_type": "slide"
    }
   },
   "source": [
    "# 交易成本"
   ]
  },
  {
   "cell_type": "markdown",
   "metadata": {
    "slideshow": {
     "slide_type": "fragment"
    }
   },
   "source": [
    "- 交易成本（transaction cost）：买卖标的品种所需要的成本"
   ]
  },
  {
   "cell_type": "markdown",
   "metadata": {
    "slideshow": {
     "slide_type": "fragment"
    }
   },
   "source": [
    "- 分类\n",
    "    - 显性交易成本：在交易之前可以准确测算\n",
    "    - 隐性交易成本：在交易过程中由于市场环境等因素的不确定性产生"
   ]
  },
  {
   "cell_type": "markdown",
   "metadata": {
    "slideshow": {
     "slide_type": "slide"
    }
   },
   "source": [
    "## 显性交易成本"
   ]
  },
  {
   "cell_type": "markdown",
   "metadata": {
    "slideshow": {
     "slide_type": "fragment"
    }
   },
   "source": [
    "### 手续费"
   ]
  },
  {
   "cell_type": "markdown",
   "metadata": {
    "slideshow": {
     "slide_type": "fragment"
    }
   },
   "source": [
    "- 手续费（commissions and fees）：交给经纪商（brokerages）和交易所（exchanges）的费用"
   ]
  },
  {
   "cell_type": "markdown",
   "metadata": {
    "slideshow": {
     "slide_type": "fragment"
    }
   },
   "source": [
    "- 期货交易手续费有两种表示方法"
   ]
  },
  {
   "cell_type": "markdown",
   "metadata": {
    "slideshow": {
     "slide_type": "fragment"
    }
   },
   "source": [
    "1. 交易金额的固定比例，比如，`rb`的手续费率为0.1&permil;"
   ]
  },
  {
   "cell_type": "markdown",
   "metadata": {
    "slideshow": {
     "slide_type": "fragment"
    }
   },
   "source": [
    "- `rb2101`的开仓成交价为3627元，则手续费为$3627\\times 10\\times 0.1$&permil;$=3.63$元"
   ]
  },
  {
   "cell_type": "markdown",
   "metadata": {
    "slideshow": {
     "slide_type": "fragment"
    }
   },
   "source": [
    "2. 每手的固定金额，比如，`ru`的手续费额为3元/手"
   ]
  },
  {
   "cell_type": "markdown",
   "metadata": {
    "slideshow": {
     "slide_type": "fragment"
    }
   },
   "source": [
    "- `rb`基于布林线的均值回归策略，累积盈利$3165$元，交易次数为$266$次\n",
    "    - 一次完整交易（开平）手续费为$7.26$元，总手续费为$7.26\\times 266=1931$元"
   ]
  },
  {
   "cell_type": "markdown",
   "metadata": {
    "slideshow": {
     "slide_type": "slide"
    }
   },
   "source": [
    "### `pyalgotrade`中手续费的设置"
   ]
  },
  {
   "cell_type": "markdown",
   "metadata": {
    "slideshow": {
     "slide_type": "fragment"
    }
   },
   "source": [
    "```python\n",
    "    pyalgotrade.broker.backtesting.TradePercentage(percentage)\n",
    "    pyalgotrade.broker.backtesting.FixedPerTrade(amount)\n",
    "```\n",
    "- `percentage`：比例\n",
    "- `amount`：金额"
   ]
  },
  {
   "cell_type": "markdown",
   "metadata": {
    "slideshow": {
     "slide_type": "slide"
    }
   },
   "source": [
    "#### 设置手续费"
   ]
  },
  {
   "cell_type": "markdown",
   "metadata": {
    "slideshow": {
     "slide_type": "fragment"
    }
   },
   "source": [
    "<center><img src=\"./img/realTrading/commissionSetting.png\" width=100%></center>"
   ]
  },
  {
   "cell_type": "code",
   "execution_count": 2,
   "metadata": {
    "slideshow": {
     "slide_type": "slide"
    }
   },
   "outputs": [],
   "source": [
    "class myBBands(strategy.BacktestingStrategy):\n",
    "    \n",
    "    def __init__(self, feed, instrument, bBandsPeriod, numDev, initEquity, lots):\n",
    "        super(myBBands, self).__init__(feed, initEquity)\n",
    "        self.__instrument = instrument\n",
    "        self.__bbands = bollinger.BollingerBands(feed[instrument].getCloseDataSeries(), bBandsPeriod, numDev)\n",
    "        self.__positivePosition = None\n",
    "        self.__negativePosition = None\n",
    "        self.__commission = 0\n",
    "        self.__lots = lots\n",
    "\n",
    "    def getBollingerBands(self):\n",
    "        return self.__bbands\n",
    "    \n",
    "    def getCommission(self):\n",
    "        return self.__commission\n",
    "    \n",
    "    def onExitOk(self, position):\n",
    "        order = position.getExitOrder()\n",
    "        execInfo = order.getExecutionInfo()\n",
    "        self.__commission += execInfo.getCommission()\n",
    "#         self.info(f'{self.action_type(order)}，价格为{execInfo.getPrice():.2f}，手续费为{execInfo.getCommission():.2f}')\n",
    "        if self.__negativePosition == position:\n",
    "            self.__negativePosition = None\n",
    "        elif self.__positivePosition == position:\n",
    "            self.__positivePosition = None\n",
    "        \n",
    "    def onEnterOk(self, position):\n",
    "        order = position.getEntryOrder()\n",
    "        execInfo = order.getExecutionInfo()\n",
    "        self.__commission += execInfo.getCommission()\n",
    "#         self.info(f'{self.action_type(order)}，价格为{execInfo.getPrice():.2f}，手续费为{execInfo.getCommission():.2f}')\n",
    "        \n",
    "    def action_type(self, order):\n",
    "        actionType = order.getAction()\n",
    "        typeMeaning = ''\n",
    "        if actionType == 1:\n",
    "            typeMeaning = '建多仓'\n",
    "        elif actionType == 2:\n",
    "            typeMeaning = '平空仓'\n",
    "        elif actionType == 3:\n",
    "            typeMeaning = '平多仓'\n",
    "        elif actionType == 4:\n",
    "            typeMeaning = '建空仓'\n",
    "        return typeMeaning\n",
    "            \n",
    "\n",
    "    def onBars(self, bars):\n",
    "        lower = self.__bbands.getLowerBand()[-1]\n",
    "        upper = self.__bbands.getUpperBand()[-1]\n",
    "        if lower is None:\n",
    "            return\n",
    "\n",
    "        bar = bars[self.__instrument]\n",
    "        \n",
    "        if bar.getClose() < lower:\n",
    "            if self.__negativePosition is not None and self.__negativePosition.exitActive() is False:\n",
    "                # 有空仓，并且没有平空仓的挂单\n",
    "                self.__negativePosition.exitMarket()\n",
    "            if self.__positivePosition is None:\n",
    "                # 没有多仓\n",
    "                self.__positivePosition = self.enterLong(self.__instrument, self.__lots)\n",
    "        elif bar.getClose() > upper:\n",
    "            if self.__positivePosition is not None and self.__positivePosition.exitActive() is False:\n",
    "                # 有多仓，并且没有平多仓的挂单\n",
    "                self.__positivePosition.exitMarket()\n",
    "            if self.__negativePosition is None:\n",
    "                # 没有空仓\n",
    "                self.__negativePosition = self.enterShort(self.__instrument, self.__lots)"
   ]
  },
  {
   "cell_type": "code",
   "execution_count": 3,
   "metadata": {
    "slideshow": {
     "slide_type": "fragment"
    }
   },
   "outputs": [],
   "source": [
    "def read_data(instrument):\n",
    "    strFeed = csvfeed.GenericBarFeed(Frequency.MINUTE)\n",
    "    strFeed.addBarsFromCSV(instrument,'./data/performance/rb.csv')\n",
    "    return strFeed"
   ]
  },
  {
   "cell_type": "code",
   "execution_count": 10,
   "metadata": {
    "slideshow": {
     "slide_type": "fragment"
    }
   },
   "outputs": [],
   "source": [
    "def main():\n",
    "    instrument = 'rb'\n",
    "    multiplier = 10\n",
    "    bBandsPeriod = 40\n",
    "    numDev = 3\n",
    "    feed = read_data(instrument)\n",
    " \n",
    "    # 建立比例手续费对象\n",
    "    cmFee = backtesting.TradePercentage(0.001)\n",
    "    slip = slippage.VolumeShareSlippage(100)\n",
    "        \n",
    "    strat = myBBands(feed, instrument, bBandsPeriod, numDev, 50000, 5)\n",
    "    \n",
    "    # 给策略对应的broker设置手续费\n",
    "    strat.getBroker().setCommission(cmFee)\n",
    "    strat.run()\n",
    "    \n",
    "    finalEquity = strat.getResult()\n",
    "    \n",
    "    print(f'最终权益为：{finalEquity:.2f}')\n",
    "    print(f'手续费为：{strat.getCommission():.2f}')\n",
    "    print(f'最终权益(不考虑手续费)为：{finalEquity+strat.getCommission():.2f}')"
   ]
  },
  {
   "cell_type": "code",
   "execution_count": 11,
   "metadata": {
    "slideshow": {
     "slide_type": "slide"
    }
   },
   "outputs": [
    {
     "name": "stdout",
     "output_type": "stream",
     "text": [
      "最终权益为：43711.21\n",
      "手续费为：9453.79\n",
      "最终权益(不考虑手续费)为：53165.00\n"
     ]
    }
   ],
   "source": [
    "main()"
   ]
  },
  {
   "cell_type": "markdown",
   "metadata": {
    "slideshow": {
     "slide_type": "slide"
    }
   },
   "source": [
    "## 隐性交易成本"
   ]
  },
  {
   "cell_type": "markdown",
   "metadata": {
    "slideshow": {
     "slide_type": "fragment"
    }
   },
   "source": [
    "### 价格冲击"
   ]
  },
  {
   "cell_type": "markdown",
   "metadata": {
    "slideshow": {
     "slide_type": "fragment"
    }
   },
   "source": [
    "- 某一订单提交到市场后，引起交易品种价格的变化"
   ]
  },
  {
   "cell_type": "markdown",
   "metadata": {
    "slideshow": {
     "slide_type": "fragment"
    }
   },
   "source": [
    "- 如果建立某个交易品种的**多头**仓位，该交易品种的价格通常会**上涨**\n",
    "- 如果建立某个交易品种的**空头**仓位，该交易品种的价格通常会**下跌**"
   ]
  },
  {
   "cell_type": "markdown",
   "metadata": {
    "slideshow": {
     "slide_type": "fragment"
    }
   },
   "source": [
    "- 价格冲击通常受到**订单大小**与下单时市场上的**流动性**之间的相对关系的影响"
   ]
  },
  {
   "cell_type": "markdown",
   "metadata": {
    "slideshow": {
     "slide_type": "slide"
    }
   },
   "source": [
    "### 滑点"
   ]
  },
  {
   "cell_type": "markdown",
   "metadata": {
    "slideshow": {
     "slide_type": "fragment"
    }
   },
   "source": [
    "- 滑点（slippage）：决定交易时候的市场价格与订单被真正执行时候市场价格之间的差，又被称作“延误成本”"
   ]
  },
  {
   "cell_type": "markdown",
   "metadata": {
    "slideshow": {
     "slide_type": "fragment"
    }
   },
   "source": [
    "<center><img src=\"./img/realTrading/slippage.png\" width=100%></center>"
   ]
  },
  {
   "cell_type": "markdown",
   "metadata": {
    "slideshow": {
     "slide_type": "fragment"
    }
   },
   "source": [
    "- 多单的期望建仓价格为$100$元，但是实际执行的价格是$105$元，$5$元即为滑点"
   ]
  },
  {
   "cell_type": "markdown",
   "metadata": {
    "slideshow": {
     "slide_type": "slide"
    }
   },
   "source": [
    "#### 影响滑点大小的因素"
   ]
  },
  {
   "cell_type": "markdown",
   "metadata": {
    "slideshow": {
     "slide_type": "fragment"
    }
   },
   "source": [
    "- 趋势追踪策略易于受到滑点的负面影响"
   ]
  },
  {
   "cell_type": "markdown",
   "metadata": {
    "slideshow": {
     "slide_type": "fragment"
    }
   },
   "source": [
    "- 价格波动越剧烈，越易出现滑点"
   ]
  },
  {
   "cell_type": "markdown",
   "metadata": {
    "slideshow": {
     "slide_type": "fragment"
    }
   },
   "source": [
    "- 通信延迟越大，越易出现滑点"
   ]
  },
  {
   "cell_type": "markdown",
   "metadata": {
    "slideshow": {
     "slide_type": "slide"
    }
   },
   "source": [
    "### `pyalgotrade`滑点设置"
   ]
  },
  {
   "cell_type": "markdown",
   "metadata": {
    "slideshow": {
     "slide_type": "fragment"
    }
   },
   "source": [
    "```python\n",
    "    pyalgotrade.broker.slippage.VolumeShareSlippage(priceImpact=0.1)\n",
    "```\n",
    "- `priceImpact`：下单规模对市场价格影响的程度"
   ]
  },
  {
   "cell_type": "markdown",
   "metadata": {
    "slideshow": {
     "slide_type": "slide"
    }
   },
   "source": [
    "#### 原理"
   ]
  },
  {
   "cell_type": "markdown",
   "metadata": {
    "slideshow": {
     "slide_type": "fragment"
    }
   },
   "source": [
    "$$\n",
    "P=P_0(1+MI)\n",
    "$$\n",
    "- $P$：考虑滑点后的价格\n",
    "- $P_0$：希望的成交价格\n",
    "- $MI$：价格对市场的冲击"
   ]
  },
  {
   "cell_type": "markdown",
   "metadata": {
    "slideshow": {
     "slide_type": "fragment"
    }
   },
   "source": [
    "$$\n",
    "MI = \\text{priceImpactConst}\\times \\bigl(\\frac{\\text{订单规模}}{\\text{总成交量}}\\bigr)^2\n",
    "$$"
   ]
  },
  {
   "cell_type": "markdown",
   "metadata": {
    "slideshow": {
     "slide_type": "slide"
    }
   },
   "source": [
    "#### 使用滑点设置"
   ]
  },
  {
   "cell_type": "markdown",
   "metadata": {
    "slideshow": {
     "slide_type": "fragment"
    }
   },
   "source": [
    "<center><img src=\"./img/realTrading/slippageSetting.png\" width=100%></center>"
   ]
  },
  {
   "cell_type": "code",
   "execution_count": 4,
   "metadata": {
    "slideshow": {
     "slide_type": "slide"
    }
   },
   "outputs": [],
   "source": [
    "def main_slippage(inputEquity, inputLots, slippageConst):\n",
    "    instrument = 'rb'\n",
    "    multiplier = 10\n",
    "    bBandsPeriod = 40\n",
    "    numDev = 3\n",
    "    feed = read_data(instrument)\n",
    " \n",
    "    # 建立比例手续费对象\n",
    "#     cmFee = backtesting.TradePercentage(0.001)\n",
    "    slip = slippage.VolumeShareSlippage(slippageConst)\n",
    "        \n",
    "    strat = myBBands(feed, instrument, bBandsPeriod, numDev, inputEquity, inputLots)\n",
    "    \n",
    "    # 给策略对应的broker设置手续费\n",
    "#     strat.getBroker().setCommission(cmFee)\n",
    "\n",
    "    # 设置滑点\n",
    "    strat.getBroker().getFillStrategy().setSlippageModel(slip)\n",
    "    strat.run()\n",
    "    \n",
    "    finalEquity = strat.getResult()\n",
    "    return finalEquity"
   ]
  },
  {
   "cell_type": "code",
   "execution_count": 5,
   "metadata": {
    "slideshow": {
     "slide_type": "fragment"
    }
   },
   "outputs": [
    {
     "name": "stdout",
     "output_type": "stream",
     "text": [
      "最终权益为：53165.00\n"
     ]
    }
   ],
   "source": [
    "print(f'最终权益为：{main_slippage(50000,5,0.01):.2f}')"
   ]
  },
  {
   "cell_type": "markdown",
   "metadata": {
    "slideshow": {
     "slide_type": "slide"
    }
   },
   "source": [
    "#### 价格影响因子的作用"
   ]
  },
  {
   "cell_type": "code",
   "execution_count": 5,
   "metadata": {
    "slideshow": {
     "slide_type": "fragment"
    }
   },
   "outputs": [],
   "source": [
    "equityLst = []\n",
    "priceImpactLst = [0.1, 1, 10, 50, 100, 300, 500, 800, 1000]\n",
    "for each in priceImpactLst:\n",
    "    equityLst.append(main_slippage(500000,50, each))\n",
    "\n",
    "df = pd.DataFrame({'影响因子':priceImpactLst, '最终权益':equityLst})"
   ]
  },
  {
   "cell_type": "code",
   "execution_count": 6,
   "metadata": {
    "slideshow": {
     "slide_type": "fragment"
    }
   },
   "outputs": [
    {
     "data": {
      "text/plain": [
       "<AxesSubplot:xlabel='影响因子'>"
      ]
     },
     "execution_count": 6,
     "metadata": {},
     "output_type": "execute_result"
    },
    {
     "data": {
      "image/png": "[encoded data removed]",
      "text/plain": [
       "<Figure size 864x576 with 1 Axes>"
      ]
     },
     "metadata": {},
     "output_type": "display_data"
    }
   ],
   "source": [
    "df.plot(kind='line',x='影响因子',y='最终权益',figsize=(12,8))"
   ]
  },
  {
   "cell_type": "markdown",
   "metadata": {
    "slideshow": {
     "slide_type": "slide"
    }
   },
   "source": [
    "#### 订单规模的影响"
   ]
  },
  {
   "cell_type": "code",
   "execution_count": 14,
   "metadata": {
    "slideshow": {
     "slide_type": "fragment"
    }
   },
   "outputs": [],
   "source": [
    "orderSizeLst = [2, 10, 30, 50, 70, 80,90, 100]\n",
    "equityLst1 = []\n",
    "for each in orderSizeLst:\n",
    "    equityLst1.append(main_slippage(500000, each, 100))\n",
    "    \n",
    "df1 = pd.DataFrame({'订单规模':orderSizeLst, '最终权益':equityLst1})"
   ]
  },
  {
   "cell_type": "code",
   "execution_count": 15,
   "metadata": {
    "slideshow": {
     "slide_type": "fragment"
    }
   },
   "outputs": [
    {
     "data": {
      "text/plain": [
       "<AxesSubplot:xlabel='订单规模'>"
      ]
     },
     "execution_count": 15,
     "metadata": {},
     "output_type": "execute_result"
    },
    {
     "data": {
      "image/png": "[encoded data removed]",
      "text/plain": [
       "<Figure size 864x576 with 1 Axes>"
      ]
     },
     "metadata": {},
     "output_type": "display_data"
    }
   ],
   "source": [
    "df1.plot(kind='line',x='订单规模',y='最终权益',figsize=(12,8))"
   ]
  },
  {
   "cell_type": "markdown",
   "metadata": {
    "slideshow": {
     "slide_type": "slide"
    }
   },
   "source": [
    "## 执行交易的算法"
   ]
  },
  {
   "cell_type": "markdown",
   "metadata": {
    "slideshow": {
     "slide_type": "fragment"
    }
   },
   "source": [
    "- 目标：通过设计合理的方法，最大限度的降低交易成本"
   ]
  },
  {
   "cell_type": "markdown",
   "metadata": {
    "slideshow": {
     "slide_type": "fragment"
    }
   },
   "source": [
    "### TWAP算法"
   ]
  },
  {
   "cell_type": "markdown",
   "metadata": {
    "slideshow": {
     "slide_type": "fragment"
    }
   },
   "source": [
    "- Time Weighted Average Price，时间加权平均价格算法"
   ]
  },
  {
   "cell_type": "markdown",
   "metadata": {
    "slideshow": {
     "slide_type": "fragment"
    }
   },
   "source": [
    "- 将交易时间均匀划分，将订单拆分到各个时间段内成交"
   ]
  },
  {
   "cell_type": "markdown",
   "metadata": {
    "slideshow": {
     "slide_type": "fragment"
    }
   },
   "source": [
    "- 假设将某个交易日的交易时间平均分成$N$个时段，将该交易日需要下单的总量平均分配在这些时段上，在第$m$个时段的成交价格为$p_m$，则\n",
    "$$\n",
    "    \\text{TWAP}=\\frac{\\sum_{m=1}^Np_m}{N}\n",
    "$$"
   ]
  },
  {
   "cell_type": "markdown",
   "metadata": {
    "slideshow": {
     "slide_type": "fragment"
    }
   },
   "source": [
    "- 不足：未考虑各个时间段内交易量不同的影响"
   ]
  },
  {
   "cell_type": "markdown",
   "metadata": {
    "slideshow": {
     "slide_type": "slide"
    }
   },
   "source": [
    "### VWAP算法"
   ]
  },
  {
   "cell_type": "markdown",
   "metadata": {
    "slideshow": {
     "slide_type": "fragment"
    }
   },
   "source": [
    "- Volume Weighted Average Price，交易量加权平均价格算法"
   ]
  },
  {
   "cell_type": "markdown",
   "metadata": {
    "slideshow": {
     "slide_type": "fragment"
    }
   },
   "source": [
    "- 将大额委托单拆分，在时间段内分批执行，使得最终买入或卖出的成交均价(即VWAP)尽量接近该段时间内整个市场的成交均价"
   ]
  },
  {
   "cell_type": "markdown",
   "metadata": {
    "slideshow": {
     "slide_type": "fragment"
    }
   },
   "source": [
    "- 假设在某个交易日内分$N$次买入某只股票，第$m$次交易的成交价格为$p_m$，对应的成交量为$q_m$，则\n",
    "$$\n",
    "    \\text{VWAP}=\\frac{\\sum_{m=1}^Np_mq_m}{\\sum_{m=1}^Nq_m}\n",
    "$$"
   ]
  },
  {
   "cell_type": "markdown",
   "metadata": {
    "slideshow": {
     "slide_type": "fragment"
    }
   },
   "source": [
    "$$\n",
    "\\begin{aligned}\n",
    "    \\text{VWAP}&=\\sum_{m=1}^N\\frac{q_m}{\\sum_{m=1}^Nq_m}p_m\\\\\n",
    "            &=\\sum_{m=1}^Nw_mp_m\n",
    "\\end{aligned}\n",
    "$$\n",
    "\n",
    "- $w_m$为第$m$次交易按照成交量加权的权重"
   ]
  },
  {
   "cell_type": "markdown",
   "metadata": {
    "slideshow": {
     "slide_type": "slide"
    }
   },
   "source": [
    "- 需要注重对交易区间的划分和交易量的分配"
   ]
  },
  {
   "cell_type": "markdown",
   "metadata": {
    "slideshow": {
     "slide_type": "fragment"
    }
   },
   "source": [
    "$$\n",
    "\\underset{q_1,\\cdots,q_N}{\\min}Z=|(w_1^yp_1+w_2^yp_2+\\cdots+w_N^yp_N)-(w_1^sp_1+w_2^sp_2+\\cdots+w_N^sp_n)|\n",
    "$$"
   ]
  },
  {
   "cell_type": "markdown",
   "metadata": {
    "slideshow": {
     "slide_type": "fragment"
    }
   },
   "source": [
    "$$\n",
    "s.t.\\begin{cases}\n",
    "w_m^y=\\frac{y_m}{\\sum_{m=1}^Ny_m}\\\\\n",
    "w_m^s=\\frac{q_m}{\\sum_{m=1}^Nq_m}\\\\\n",
    "y_m,q_m,p_m\\ge 0\n",
    "\\end{cases}\n",
    "$$\n",
    "\n",
    "- $y_m$与$q_m$分别为在第$m$个时段内预测的成交量与实际的下单量"
   ]
  },
  {
   "cell_type": "markdown",
   "metadata": {
    "slideshow": {
     "slide_type": "slide"
    }
   },
   "source": [
    "# 交易系统"
   ]
  },
  {
   "cell_type": "markdown",
   "metadata": {
    "slideshow": {
     "slide_type": "fragment"
    }
   },
   "source": [
    "## 国内期货市场的交易系统"
   ]
  },
  {
   "cell_type": "markdown",
   "metadata": {
    "slideshow": {
     "slide_type": "fragment"
    }
   },
   "source": [
    "- 交易所系统\n",
    "- 经纪商系统\n",
    "- 投资者系统"
   ]
  },
  {
   "cell_type": "markdown",
   "metadata": {
    "slideshow": {
     "slide_type": "slide"
    }
   },
   "source": [
    "- 交易所系统：交易撮合队列、行情服务器"
   ]
  },
  {
   "cell_type": "markdown",
   "metadata": {
    "slideshow": {
     "slide_type": "fragment"
    }
   },
   "source": [
    "- 经纪商柜台系统：以CTP为代表，\n",
    "    - 用于接收客户订单、前端风控\n",
    "    - 接收交易所推送的行情"
   ]
  },
  {
   "cell_type": "markdown",
   "metadata": {
    "slideshow": {
     "slide_type": "fragment"
    }
   },
   "source": [
    "- 投资者系统\n",
    "    - 连接柜台、行情服务器\n",
    "    - 启动和关闭交易策略"
   ]
  },
  {
   "cell_type": "markdown",
   "metadata": {
    "slideshow": {
     "slide_type": "slide"
    }
   },
   "source": [
    "### 三套系统之间的交互"
   ]
  },
  {
   "cell_type": "markdown",
   "metadata": {
    "slideshow": {
     "slide_type": "fragment"
    }
   },
   "source": [
    "<center><img src=\"./img/realTrading/systems.svg\" width=100%></center>"
   ]
  },
  {
   "cell_type": "markdown",
   "metadata": {
    "slideshow": {
     "slide_type": "slide"
    }
   },
   "source": [
    "### CTP接口"
   ]
  },
  {
   "cell_type": "markdown",
   "metadata": {
    "slideshow": {
     "slide_type": "fragment"
    }
   },
   "source": [
    "- 综合交易平台（Comprehensive Transaction Platform）\n",
    "    - 由上海期货交易所的上海期货信息技术有限公司开发 [http://www.sfit.com.cn/](http://www.sfit.com.cn/)\n",
    "    - 适用于期货公司的期货经纪业务管理系统"
   ]
  },
  {
   "cell_type": "markdown",
   "metadata": {
    "slideshow": {
     "slide_type": "fragment"
    }
   },
   "source": [
    "- CTP的组成\n",
    "<center><img src=\"./img/realTrading/ctp.png\" width=100%></center>"
   ]
  },
  {
   "cell_type": "markdown",
   "metadata": {
    "slideshow": {
     "slide_type": "fragment"
    }
   },
   "source": [
    "- CTP能够同时连通上海期货交易所、大连商品交易所、郑州商品交易所、中国金融期货交易所\n",
    "- 支持国内商品期货和股指期货的交易和结算业务"
   ]
  },
  {
   "cell_type": "markdown",
   "metadata": {
    "slideshow": {
     "slide_type": "fragment"
    }
   },
   "source": [
    "- 分别对应交易接口（`Trader API`）、风控接口(`Risk API`)、结算接口（`CSV`）"
   ]
  },
  {
   "cell_type": "markdown",
   "metadata": {
    "slideshow": {
     "slide_type": "slide"
    }
   },
   "source": [
    "### `Trader API`"
   ]
  },
  {
   "cell_type": "markdown",
   "metadata": {
    "slideshow": {
     "slide_type": "fragment"
    }
   },
   "source": [
    "- 最新版本是v6.3.19_P1"
   ]
  },
  {
   "cell_type": "markdown",
   "metadata": {
    "slideshow": {
     "slide_type": "fragment"
    }
   },
   "source": [
    "文件名|功能说明\n",
    "---|---\n",
    "`ThostFtdcTraderApi.h`|`C++`头文件，包含交易相关的指令\n",
    "`ThostFtdcMdApi.h`|`C++`头文件，包含获取行情相关的指令\n",
    "`ThostFtdcUserApiStruct.h`|包含所有需要的数据结构\n",
    "`ThostFtdcUserApiDataType.h`|包含所有需要用到的数据类型\n",
    "`thosttraderapi_se.dll`|交易相关的动态链接库\n",
    "`thosttraderapi_se.lib`|交易相关的静态链接库\n",
    "`thostmduserapi_se.dll`|行情相关的动态链接库\n",
    "`thostmduserapi_se.lib`|行情相关的静态链接库\n",
    "`error.dtd`|所有可能的错误信息\n",
    "`error.xml`|所有可能的错误信息"
   ]
  },
  {
   "cell_type": "markdown",
   "metadata": {
    "slideshow": {
     "slide_type": "fragment"
    }
   },
   "source": [
    "- 用户只需要关注`.h`文件"
   ]
  },
  {
   "cell_type": "markdown",
   "metadata": {
    "slideshow": {
     "slide_type": "slide"
    }
   },
   "source": [
    "#### `API`接口包含的两个***类***"
   ]
  },
  {
   "cell_type": "markdown",
   "metadata": {
    "slideshow": {
     "slide_type": "fragment"
    }
   },
   "source": [
    "- `Spi`类：包含所有的响应和回报函数，接收CTP发送的消息"
   ]
  },
  {
   "cell_type": "markdown",
   "metadata": {
    "slideshow": {
     "slide_type": "fragment"
    }
   },
   "source": [
    "- `Api`类：用户主动向CTP发起请求和订阅的函数"
   ]
  },
  {
   "cell_type": "markdown",
   "metadata": {
    "slideshow": {
     "slide_type": "fragment"
    }
   },
   "source": [
    "<center><img src=\"./img/realTrading/ctpApiSpi.svg\" width=100%></center>"
   ]
  },
  {
   "cell_type": "markdown",
   "metadata": {
    "slideshow": {
     "slide_type": "slide"
    }
   },
   "source": [
    "## 国内量化交易平台"
   ]
  },
  {
   "cell_type": "markdown",
   "metadata": {
    "slideshow": {
     "slide_type": "fragment"
    }
   },
   "source": [
    "- 优矿 [https://uqer.datayes.com/](https://uqer.datayes.com/)\n",
    "- BigQuant [https://bigquant.com/](https://bigquant.com/)\n",
    "- 聚宽 [https://www.joinquant.com/](https://www.joinquant.com/)\n",
    "- 掘金量化 [https://www.myquant.cn/](https://www.myquant.cn/)\n",
    "- 米筐 [https://www.ricequant.com/welcome/](https://www.ricequant.com/welcome/)\n",
    "- MindGo [http://quant.10jqka.com.cn/platform/html/home.html](http://quant.10jqka.com.cn/platform/html/home.html)\n",
    "- 万矿 [https://www.windquant.com](https://www.windquant.com)\n",
    "- 国泰君安量化交易系统 [https://quant.gtja.com](https://quant.gtja.com)\n",
    "- 点宽 [http://www.digquant.info](http://www.digquant.info)"
   ]
  },
  {
   "cell_type": "markdown",
   "metadata": {
    "slideshow": {
     "slide_type": "slide"
    }
   },
   "source": [
    "### 构建一个交易策略主要使用的函数"
   ]
  },
  {
   "cell_type": "markdown",
   "metadata": {
    "slideshow": {
     "slide_type": "fragment"
    }
   },
   "source": [
    "```python\n",
    "    def initialize(context):\n",
    "        # 初始化函数，初始化策略的基本参数\n",
    "        pass\n",
    "    \n",
    "    def handle_data(context, data):\n",
    "        # 主交易逻辑\n",
    "        pass\n",
    "```"
   ]
  },
  {
   "cell_type": "markdown",
   "metadata": {
    "slideshow": {
     "slide_type": "slide"
    }
   },
   "source": [
    "# 量化交易风险 "
   ]
  },
  {
   "cell_type": "markdown",
   "metadata": {
    "slideshow": {
     "slide_type": "fragment"
    }
   },
   "source": [
    "## 交易风险的来源"
   ]
  },
  {
   "cell_type": "markdown",
   "metadata": {
    "slideshow": {
     "slide_type": "fragment"
    }
   },
   "source": [
    "<center><img src=\"./img/realTrading/risk1.png\" width=100%></center>"
   ]
  },
  {
   "cell_type": "markdown",
   "metadata": {
    "slideshow": {
     "slide_type": "slide"
    }
   },
   "source": [
    "### 模型风险"
   ]
  },
  {
   "cell_type": "markdown",
   "metadata": {
    "slideshow": {
     "slide_type": "fragment"
    }
   },
   "source": [
    "- 回测时候的过拟合"
   ]
  },
  {
   "cell_type": "markdown",
   "metadata": {
    "slideshow": {
     "slide_type": "fragment"
    }
   },
   "source": [
    "- 交易逻辑的不完善"
   ]
  },
  {
   "cell_type": "markdown",
   "metadata": {
    "slideshow": {
     "slide_type": "fragment"
    }
   },
   "source": [
    "- 例，2016年11月11日（周五）夜盘，棉花期货开盘涨停之后又跌停"
   ]
  },
  {
   "cell_type": "code",
   "execution_count": 29,
   "metadata": {
    "scrolled": true,
    "slideshow": {
     "slide_type": "slide"
    }
   },
   "outputs": [
    {
     "data": {
      "text/html": [
       "<div>\n",
       "<style scoped>\n",
       "    .dataframe tbody tr th:only-of-type {\n",
       "        vertical-align: middle;\n",
       "    }\n",
       "\n",
       "    .dataframe tbody tr th {\n",
       "        vertical-align: top;\n",
       "    }\n",
       "\n",
       "    .dataframe thead th {\n",
       "        text-align: right;\n",
       "    }\n",
       "</style>\n",
       "<table border=\"1\" class=\"dataframe\">\n",
       "  <thead>\n",
       "    <tr style=\"text-align: right;\">\n",
       "      <th></th>\n",
       "      <th>open</th>\n",
       "      <th>high</th>\n",
       "      <th>low</th>\n",
       "      <th>close</th>\n",
       "      <th>volume</th>\n",
       "    </tr>\n",
       "    <tr>\n",
       "      <th>Date Time</th>\n",
       "      <th></th>\n",
       "      <th></th>\n",
       "      <th></th>\n",
       "      <th></th>\n",
       "      <th></th>\n",
       "    </tr>\n",
       "  </thead>\n",
       "  <tbody>\n",
       "    <tr>\n",
       "      <th>2016-11-11 13:30:00</th>\n",
       "      <td>15245.0</td>\n",
       "      <td>15290.0</td>\n",
       "      <td>15220.0</td>\n",
       "      <td>15265.0</td>\n",
       "      <td>3820.0</td>\n",
       "    </tr>\n",
       "    <tr>\n",
       "      <th>2016-11-11 13:31:00</th>\n",
       "      <td>15255.0</td>\n",
       "      <td>15290.0</td>\n",
       "      <td>15250.0</td>\n",
       "      <td>15285.0</td>\n",
       "      <td>878.0</td>\n",
       "    </tr>\n",
       "    <tr>\n",
       "      <th>2016-11-11 13:32:00</th>\n",
       "      <td>15285.0</td>\n",
       "      <td>15285.0</td>\n",
       "      <td>15240.0</td>\n",
       "      <td>15260.0</td>\n",
       "      <td>1454.0</td>\n",
       "    </tr>\n",
       "    <tr>\n",
       "      <th>2016-11-11 13:33:00</th>\n",
       "      <td>15255.0</td>\n",
       "      <td>15280.0</td>\n",
       "      <td>15255.0</td>\n",
       "      <td>15275.0</td>\n",
       "      <td>980.0</td>\n",
       "    </tr>\n",
       "    <tr>\n",
       "      <th>2016-11-11 13:34:00</th>\n",
       "      <td>15275.0</td>\n",
       "      <td>15320.0</td>\n",
       "      <td>15275.0</td>\n",
       "      <td>15305.0</td>\n",
       "      <td>1872.0</td>\n",
       "    </tr>\n",
       "  </tbody>\n",
       "</table>\n",
       "</div>"
      ],
      "text/plain": [
       "                        open     high      low    close  volume\n",
       "Date Time                                                      \n",
       "2016-11-11 13:30:00  15245.0  15290.0  15220.0  15265.0  3820.0\n",
       "2016-11-11 13:31:00  15255.0  15290.0  15250.0  15285.0   878.0\n",
       "2016-11-11 13:32:00  15285.0  15285.0  15240.0  15260.0  1454.0\n",
       "2016-11-11 13:33:00  15255.0  15280.0  15255.0  15275.0   980.0\n",
       "2016-11-11 13:34:00  15275.0  15320.0  15275.0  15305.0  1872.0"
      ]
     },
     "execution_count": 29,
     "metadata": {},
     "output_type": "execute_result"
    }
   ],
   "source": [
    "cfdf = pd.read_csv('./data/realTrading/CF701_20161111.csv')\n",
    "cfdf['Date Time'] = pd.to_datetime(cfdf['Date Time'],format='%Y-%m-%d %H:%M:%S')\n",
    "cfdf.set_index('Date Time',inplace=True)\n",
    "cfdf.head()"
   ]
  },
  {
   "cell_type": "code",
   "execution_count": 59,
   "metadata": {
    "slideshow": {
     "slide_type": "fragment"
    }
   },
   "outputs": [],
   "source": [
    "mc = mpf.make_marketcolors(up='#fe3032',down='#00b060',inherit=True)\n",
    "ms = mpf.make_mpf_style(base_mpf_style='yahoo',marketcolors=mc)"
   ]
  },
  {
   "cell_type": "code",
   "execution_count": 60,
   "metadata": {
    "scrolled": true,
    "slideshow": {
     "slide_type": "fragment"
    }
   },
   "outputs": [
    {
     "data": {
      "image/png": "[encoded data removed]",
      "text/plain": [
       "<Figure size 1725x575 with 4 Axes>"
      ]
     },
     "metadata": {},
     "output_type": "display_data"
    }
   ],
   "source": [
    "mpf.plot(cfdf,type='candle',style=ms,volume=True,figratio=(12,4),figscale=1.0,tight_layout=True,vlines={'vlines':['2016-11-11 21:21','2016-11-11 21:50'],'linewidths':[100,100],'colors':['r','g'],'alpha':0.2})"
   ]
  },
  {
   "cell_type": "markdown",
   "metadata": {
    "slideshow": {
     "slide_type": "fragment"
    }
   },
   "source": [
    "> 。。。白天持有一万吨的买棕油卖菜油的套利头寸，夜盘开盘暴涨，她慌了，追着市场砍掉了一万吨菜油的空头；刚砍完菜油的空头，棕油跳水了！她又追着砍了棕油的多头。。。检讨中她跟我道歉说一下子损失了300多万。。。"
   ]
  },
  {
   "cell_type": "markdown",
   "metadata": {
    "slideshow": {
     "slide_type": "slide"
    }
   },
   "source": [
    "### 执行风险"
   ]
  },
  {
   "cell_type": "markdown",
   "metadata": {
    "slideshow": {
     "slide_type": "fragment"
    }
   },
   "source": [
    "- 执行系统接收不到交易信号"
   ]
  },
  {
   "cell_type": "markdown",
   "metadata": {
    "slideshow": {
     "slide_type": "fragment"
    }
   },
   "source": [
    "- 漏掉经纪商柜台系统或交易所系统的回报"
   ]
  },
  {
   "cell_type": "markdown",
   "metadata": {
    "slideshow": {
     "slide_type": "slide"
    }
   },
   "source": [
    "### 技术风险"
   ]
  },
  {
   "cell_type": "markdown",
   "metadata": {
    "slideshow": {
     "slide_type": "fragment"
    }
   },
   "source": [
    "- 系统程序实施错误"
   ]
  },
  {
   "cell_type": "markdown",
   "metadata": {
    "slideshow": {
     "slide_type": "fragment"
    }
   },
   "source": [
    "- 电脑死机"
   ]
  },
  {
   "cell_type": "markdown",
   "metadata": {
    "slideshow": {
     "slide_type": "fragment"
    }
   },
   "source": [
    "- 网络传输中断"
   ]
  },
  {
   "cell_type": "markdown",
   "metadata": {
    "slideshow": {
     "slide_type": "fragment"
    }
   },
   "source": [
    "- 例，2012年8月份，骑士资本（Knight）交易系统的一个bug使得处于休眠状态的模块突然上线，不断复制仓位，造成骑士资本以不断上涨的价格增加仓位。\n",
    "    - 当平掉这些仓位的时候，骑士资本有了9位数的损失"
   ]
  },
  {
   "cell_type": "markdown",
   "metadata": {
    "slideshow": {
     "slide_type": "slide"
    }
   },
   "source": [
    "<center><img src=\"./img/realTrading/risk2.png\" width=100%></center>"
   ]
  },
  {
   "cell_type": "markdown",
   "metadata": {
    "slideshow": {
     "slide_type": "slide"
    }
   },
   "source": [
    "### 系统性风险"
   ]
  },
  {
   "cell_type": "markdown",
   "metadata": {
    "slideshow": {
     "slide_type": "fragment"
    }
   },
   "source": [
    "- 同质化投资策略加剧了市场的波动"
   ]
  },
  {
   "cell_type": "markdown",
   "metadata": {
    "slideshow": {
     "slide_type": "fragment"
    }
   },
   "source": [
    "- 同时触及各个程序化交易的止损价位，导致市场“羊群效应”的出现"
   ]
  },
  {
   "cell_type": "markdown",
   "metadata": {
    "slideshow": {
     "slide_type": "fragment"
    }
   },
   "source": [
    "> [一场由程序员“背锅”的股灾：1987年的黑色星期一 http://reader.epubee.com/books/mobile/ee/ee4f0d86257d26f803236b30238fe63a/text00008.html](http://reader.epubee.com/books/mobile/ee/ee4f0d86257d26f803236b30238fe63a/text00008.html)"
   ]
  },
  {
   "cell_type": "code",
   "execution_count": 23,
   "metadata": {
    "slideshow": {
     "slide_type": "slide"
    }
   },
   "outputs": [
    {
     "data": {
      "text/html": [
       "<div>\n",
       "<style scoped>\n",
       "    .dataframe tbody tr th:only-of-type {\n",
       "        vertical-align: middle;\n",
       "    }\n",
       "\n",
       "    .dataframe tbody tr th {\n",
       "        vertical-align: top;\n",
       "    }\n",
       "\n",
       "    .dataframe thead th {\n",
       "        text-align: right;\n",
       "    }\n",
       "</style>\n",
       "<table border=\"1\" class=\"dataframe\">\n",
       "  <thead>\n",
       "    <tr style=\"text-align: right;\">\n",
       "      <th></th>\n",
       "      <th>Open</th>\n",
       "      <th>High</th>\n",
       "      <th>Low</th>\n",
       "      <th>Close</th>\n",
       "      <th>Volume</th>\n",
       "    </tr>\n",
       "    <tr>\n",
       "      <th>Date</th>\n",
       "      <th></th>\n",
       "      <th></th>\n",
       "      <th></th>\n",
       "      <th></th>\n",
       "      <th></th>\n",
       "    </tr>\n",
       "  </thead>\n",
       "  <tbody>\n",
       "    <tr>\n",
       "      <th>1987-07-01</th>\n",
       "      <td>2418.5</td>\n",
       "      <td>2430.8</td>\n",
       "      <td>2391.3</td>\n",
       "      <td>2409.8</td>\n",
       "      <td>18531349</td>\n",
       "    </tr>\n",
       "    <tr>\n",
       "      <th>1987-07-02</th>\n",
       "      <td>2415.7</td>\n",
       "      <td>2446.3</td>\n",
       "      <td>2415.7</td>\n",
       "      <td>2436.7</td>\n",
       "      <td>17821316</td>\n",
       "    </tr>\n",
       "    <tr>\n",
       "      <th>1987-07-06</th>\n",
       "      <td>2436.7</td>\n",
       "      <td>2460.3</td>\n",
       "      <td>2413.0</td>\n",
       "      <td>2429.5</td>\n",
       "      <td>21377828</td>\n",
       "    </tr>\n",
       "    <tr>\n",
       "      <th>1987-07-07</th>\n",
       "      <td>2429.5</td>\n",
       "      <td>2467.6</td>\n",
       "      <td>2425.1</td>\n",
       "      <td>2449.8</td>\n",
       "      <td>24925114</td>\n",
       "    </tr>\n",
       "    <tr>\n",
       "      <th>1987-07-08</th>\n",
       "      <td>2449.8</td>\n",
       "      <td>2476.2</td>\n",
       "      <td>2432.6</td>\n",
       "      <td>2464.0</td>\n",
       "      <td>25019823</td>\n",
       "    </tr>\n",
       "  </tbody>\n",
       "</table>\n",
       "</div>"
      ],
      "text/plain": [
       "              Open    High     Low   Close    Volume\n",
       "Date                                                \n",
       "1987-07-01  2418.5  2430.8  2391.3  2409.8  18531349\n",
       "1987-07-02  2415.7  2446.3  2415.7  2436.7  17821316\n",
       "1987-07-06  2436.7  2460.3  2413.0  2429.5  21377828\n",
       "1987-07-07  2429.5  2467.6  2425.1  2449.8  24925114\n",
       "1987-07-08  2449.8  2476.2  2432.6  2464.0  25019823"
      ]
     },
     "execution_count": 23,
     "metadata": {},
     "output_type": "execute_result"
    }
   ],
   "source": [
    "dji = web.DataReader('^DJI','stooq',start=datetime(1987,7,1),end=datetime(1987,12,1))\n",
    "dji.sort_index(ascending=True,inplace=True)\n",
    "dji.head()"
   ]
  },
  {
   "cell_type": "code",
   "execution_count": 62,
   "metadata": {
    "scrolled": true,
    "slideshow": {
     "slide_type": "fragment"
    }
   },
   "outputs": [
    {
     "data": {
      "image/png": "[encoded data removed]",
      "text/plain": [
       "<Figure size 1725x575 with 4 Axes>"
      ]
     },
     "metadata": {},
     "output_type": "display_data"
    }
   ],
   "source": [
    "mpl.plot(dji,type='candle',style=ms,volume=True,figratio=(12,4),figscale=1.0,tight_layout=True,datetime_format='%Y-%m-%d',vlines={'vlines':'1987-10-19','linewidths':50,'alpha':0.2})"
   ]
  },
  {
   "cell_type": "markdown",
   "metadata": {
    "slideshow": {
     "slide_type": "slide"
    }
   },
   "source": [
    "## 风险的度量"
   ]
  },
  {
   "cell_type": "markdown",
   "metadata": {
    "slideshow": {
     "slide_type": "fragment"
    }
   },
   "source": [
    "- 模型风险的度量\n",
    "    - 策略收益的标准差\n",
    "    - 最大回撤、最长回撤周期\n",
    "    - VaR"
   ]
  },
  {
   "cell_type": "markdown",
   "metadata": {
    "slideshow": {
     "slide_type": "slide"
    }
   },
   "source": [
    "### VaR"
   ]
  },
  {
   "cell_type": "markdown",
   "metadata": {
    "slideshow": {
     "slide_type": "fragment"
    }
   },
   "source": [
    "- Value at Risk（在险价值）：在给定置信水平的情况下，资产组合在某一段时间内的最大可能损失"
   ]
  },
  {
   "cell_type": "markdown",
   "metadata": {
    "slideshow": {
     "slide_type": "fragment"
    }
   },
   "source": [
    "- 例，在95%置信水平下，VaR为500000元"
   ]
  },
  {
   "cell_type": "markdown",
   "metadata": {
    "slideshow": {
     "slide_type": "fragment"
    }
   },
   "source": [
    "$$\n",
    "    Prob\\{\\text{Loss}\\le -500000\\}=0.05\n",
    "$$"
   ]
  },
  {
   "cell_type": "markdown",
   "metadata": {
    "slideshow": {
     "slide_type": "fragment"
    }
   },
   "source": [
    "- 假设初始权益为$P$，置信水平为$c$，收益率服从$N(\\mu,\\sigma)$，$F^{-1}(\\cdot)$为正态分布累积分布函数的逆函数，则\n",
    "$$\n",
    "    VaR =-PF^{-1}(1-c)\n",
    "$$"
   ]
  },
  {
   "cell_type": "code",
   "execution_count": 110,
   "metadata": {
    "slideshow": {
     "slide_type": "slide"
    }
   },
   "outputs": [],
   "source": [
    "from pyalgotrade import strategy, plotter\n",
    "from pyalgotrade.technical import bollinger\n",
    "from pyalgotrade.stratanalyzer import returns, sharpe, trades, drawdown\n",
    "from pyalgotrade.barfeed import csvfeed\n",
    "from pyalgotrade.bar import Frequency"
   ]
  },
  {
   "cell_type": "code",
   "execution_count": 111,
   "metadata": {
    "slideshow": {
     "slide_type": "fragment"
    }
   },
   "outputs": [],
   "source": [
    "class myBBands(strategy.BacktestingStrategy):\n",
    "    \n",
    "    def __init__(self, feed, instrument, bBandsPeriod, numDev, initEquity):\n",
    "        super(myBBands, self).__init__(feed, initEquity)\n",
    "        self.__instrument = instrument\n",
    "        self.__bbands = bollinger.BollingerBands(feed[instrument].getCloseDataSeries(), bBandsPeriod, numDev)\n",
    "        self.__positivePosition = None\n",
    "        self.__negativePosition = None\n",
    "\n",
    "    def getBollingerBands(self):\n",
    "        return self.__bbands\n",
    "    \n",
    "    def onExitOk(self, position):\n",
    "        order = position.getExitOrder()\n",
    "        execInfo = order.getExecutionInfo()\n",
    "#         self.info(f'{self.action_type(order)}，价格为{execInfo.getPrice():.2f}')\n",
    "        if self.__negativePosition == position:\n",
    "            self.__negativePosition = None\n",
    "        elif self.__positivePosition == position:\n",
    "            self.__positivePosition = None\n",
    "        \n",
    "    def onEnterOk(self, position):\n",
    "        order = position.getEntryOrder()\n",
    "        execInfo = order.getExecutionInfo()\n",
    "#         self.info(f'{self.action_type(order)}，价格为{execInfo.getPrice():.2f}')\n",
    "        \n",
    "    def action_type(self, order):\n",
    "        actionType = order.getAction()\n",
    "        typeMeaning = ''\n",
    "        if actionType == 1:\n",
    "            typeMeaning = '建多仓'\n",
    "        elif actionType == 2:\n",
    "            typeMeaning = '平空仓'\n",
    "        elif actionType == 3:\n",
    "            typeMeaning = '平多仓'\n",
    "        elif actionType == 4:\n",
    "            typeMeaning = '建空仓'\n",
    "        return typeMeaning\n",
    "            \n",
    "\n",
    "    def onBars(self, bars):\n",
    "        lower = self.__bbands.getLowerBand()[-1]\n",
    "        upper = self.__bbands.getUpperBand()[-1]\n",
    "        if lower is None:\n",
    "            return\n",
    "\n",
    "        bar = bars[self.__instrument]\n",
    "        \n",
    "        if bar.getClose() < lower:\n",
    "            if self.__negativePosition is not None and self.__negativePosition.exitActive() is False:\n",
    "                # 有空仓，并且没有平空仓的挂单\n",
    "                self.__negativePosition.exitMarket()\n",
    "            if self.__positivePosition is None:\n",
    "                # 没有多仓\n",
    "                self.__positivePosition = self.enterLong(self.__instrument, 5)\n",
    "        elif bar.getClose() > upper:\n",
    "            if self.__positivePosition is not None and self.__positivePosition.exitActive() is False:\n",
    "                # 有多仓，并且没有平多仓的挂单\n",
    "                self.__positivePosition.exitMarket()\n",
    "            if self.__negativePosition is None:\n",
    "                # 没有空仓\n",
    "                self.__negativePosition = self.enterShort(self.__instrument, 5)"
   ]
  },
  {
   "cell_type": "code",
   "execution_count": 112,
   "metadata": {
    "slideshow": {
     "slide_type": "fragment"
    }
   },
   "outputs": [],
   "source": [
    "def strategy_evaluation(inputStrategy):\n",
    "    retAnalyzer = returns.Returns()\n",
    "    sharpeAnalyzer = sharpe.SharpeRatio()\n",
    "    ddAnalyzer = drawdown.DrawDown()\n",
    "    tradesAnalyzer = trades.Trades()\n",
    "    \n",
    "    inputStrategy.attachAnalyzer(retAnalyzer)\n",
    "    inputStrategy.attachAnalyzer(sharpeAnalyzer)\n",
    "    inputStrategy.attachAnalyzer(ddAnalyzer)\n",
    "    inputStrategy.attachAnalyzer(tradesAnalyzer)\n",
    "    \n",
    "    return retAnalyzer, sharpeAnalyzer, ddAnalyzer, tradesAnalyzer"
   ]
  },
  {
   "cell_type": "code",
   "execution_count": 113,
   "metadata": {
    "slideshow": {
     "slide_type": "fragment"
    }
   },
   "outputs": [],
   "source": [
    "def read_data(instrument):\n",
    "    strFeed = csvfeed.GenericBarFeed(Frequency.MINUTE)\n",
    "    strFeed.addBarsFromCSV(instrument,'./data/performance/rb.csv')\n",
    "    return strFeed"
   ]
  },
  {
   "cell_type": "code",
   "execution_count": 114,
   "metadata": {
    "slideshow": {
     "slide_type": "fragment"
    }
   },
   "outputs": [],
   "source": [
    "def main():\n",
    "    instrument = 'rb'\n",
    "    bBandsPeriod = 20\n",
    "    numDev = 3\n",
    "    feed = read_data(instrument)\n",
    "    \n",
    "    strat = myBBands(feed, instrument, bBandsPeriod, numDev, 50000)\n",
    "    \n",
    "    retEval, sharpeEval, ddEval, tradesEval = strategy_evaluation(strat)\n",
    "    \n",
    "    strat.run()\n",
    "    \n",
    "    print(f'最终权益为：{strat.getResult()}')\n",
    "    print(f'最终累积收益率为：{retEval.getCumulativeReturns()[-1]*100:.2f}%')\n",
    "    print(f'Sharpe Ratio为：{sharpeEval.getSharpeRatio(0.03):.2f}')\n",
    "    print(f'最大回撤为：{ddEval.getMaxDrawDown()*100:.2f}%')\n",
    "    print(f'最长回撤时间为：{ddEval.getLongestDrawDownDuration()}')\n",
    "    print(f'总交易次数为：{tradesEval.getCount()}')\n",
    "    if tradesEval.getCount() > 0:\n",
    "        print(f'胜率为：{tradesEval.getProfitableCount()/tradesEval.getCount()*100:.2f}%')\n",
    "    return retEval, tradesEval"
   ]
  },
  {
   "cell_type": "code",
   "execution_count": 115,
   "metadata": {
    "slideshow": {
     "slide_type": "slide"
    }
   },
   "outputs": [
    {
     "name": "stdout",
     "output_type": "stream",
     "text": [
      "最终权益为：51300.0\n",
      "最终累积收益率为：2.60%\n",
      "Sharpe Ratio为：0.13\n",
      "最大回撤为：3.85%\n",
      "最长回撤时间为：195 days, 5:02:00\n",
      "总交易次数为：208\n",
      "胜率为：59.13%\n"
     ]
    }
   ],
   "source": [
    "ret, trades = main()"
   ]
  },
  {
   "cell_type": "markdown",
   "metadata": {
    "slideshow": {
     "slide_type": "slide"
    }
   },
   "source": [
    "#### VaR计算"
   ]
  },
  {
   "cell_type": "code",
   "execution_count": 69,
   "metadata": {
    "slideshow": {
     "slide_type": "fragment"
    }
   },
   "outputs": [],
   "source": [
    "from scipy.stats import norm"
   ]
  },
  {
   "cell_type": "code",
   "execution_count": 116,
   "metadata": {
    "slideshow": {
     "slide_type": "fragment"
    }
   },
   "outputs": [
    {
     "data": {
      "text/plain": [
       "10.455516448953084"
      ]
     },
     "execution_count": 116,
     "metadata": {},
     "output_type": "execute_result"
    }
   ],
   "source": [
    "retLst = np.array(ret.getReturns())\n",
    "-50000*norm.ppf(1-0.95,retLst.mean(),retLst.std())"
   ]
  },
  {
   "cell_type": "markdown",
   "metadata": {
    "slideshow": {
     "slide_type": "fragment"
    }
   },
   "source": [
    "- 在95%的置信水平下，最大的可能损失为10.46元"
   ]
  },
  {
   "cell_type": "markdown",
   "metadata": {
    "slideshow": {
     "slide_type": "subslide"
    }
   },
   "source": [
    "```python\n",
    "scipy.stats.norm.ppf(1-c, mu, sigma)\n",
    "```\n",
    "- `c`：置信水平\n",
    "- `mu`：均值\n",
    "- `sigma`：标准差"
   ]
  },
  {
   "cell_type": "markdown",
   "metadata": {
    "slideshow": {
     "slide_type": "slide"
    }
   },
   "source": [
    "#### 最大损失"
   ]
  },
  {
   "cell_type": "code",
   "execution_count": 117,
   "metadata": {
    "slideshow": {
     "slide_type": "fragment"
    }
   },
   "outputs": [
    {
     "data": {
      "text/plain": [
       "-63.10679611650485"
      ]
     },
     "execution_count": 117,
     "metadata": {},
     "output_type": "execute_result"
    }
   ],
   "source": [
    "50000*retLst.min()"
   ]
  },
  {
   "cell_type": "code",
   "execution_count": 122,
   "metadata": {
    "slideshow": {
     "slide_type": "fragment"
    }
   },
   "outputs": [
    {
     "data": {
      "text/plain": [
       "[Text(0.5, 0, 'PnL')]"
      ]
     },
     "execution_count": 122,
     "metadata": {},
     "output_type": "execute_result"
    },
    {
     "data": {
      "image/png": "[encoded data removed]",
      "text/plain": [
       "<Figure size 1200x600 with 1 Axes>"
      ]
     },
     "metadata": {},
     "output_type": "display_data"
    }
   ],
   "source": [
    "ax = pd.Series(retLst*50000).plot(kind='hist',bins=15,figsize=(12,6))\n",
    "ax.set(xlabel='PnL')"
   ]
  },
  {
   "cell_type": "markdown",
   "metadata": {
    "slideshow": {
     "slide_type": "fragment"
    }
   },
   "source": [
    "- VaR的不足：\n",
    "    - VaR要求数据服从正态分布，但是实际收益分布往往是长尾的"
   ]
  },
  {
   "cell_type": "markdown",
   "metadata": {
    "slideshow": {
     "slide_type": "slide"
    }
   },
   "source": [
    "## 量化交易风险的控制"
   ]
  },
  {
   "cell_type": "markdown",
   "metadata": {
    "slideshow": {
     "slide_type": "fragment"
    }
   },
   "source": [
    "- 模型风险的控制\n",
    "    - 止损、止盈\n",
    "    - 仓位控制"
   ]
  },
  {
   "cell_type": "markdown",
   "metadata": {
    "slideshow": {
     "slide_type": "slide"
    }
   },
   "source": [
    "### 仓位控制"
   ]
  },
  {
   "cell_type": "markdown",
   "metadata": {
    "slideshow": {
     "slide_type": "fragment"
    }
   },
   "source": [
    "- 仓位控制是对风险最直接的控制方法"
   ]
  },
  {
   "cell_type": "markdown",
   "metadata": {
    "slideshow": {
     "slide_type": "fragment"
    }
   },
   "source": [
    "#### 等价鞅方法"
   ]
  },
  {
   "cell_type": "markdown",
   "metadata": {
    "slideshow": {
     "slide_type": "fragment"
    }
   },
   "source": [
    "- 又称“倍赌策略”"
   ]
  },
  {
   "cell_type": "markdown",
   "metadata": {
    "slideshow": {
     "slide_type": "fragment"
    }
   },
   "source": [
    "- 每次赔钱将赌注加倍，直到赢钱恢复初始堵住"
   ]
  },
  {
   "cell_type": "markdown",
   "metadata": {
    "slideshow": {
     "slide_type": "slide"
    }
   },
   "source": [
    "<center><img src=\"./img/realTrading/martingales.png\" width=60%></center>"
   ]
  },
  {
   "cell_type": "markdown",
   "metadata": {
    "slideshow": {
     "slide_type": "slide"
    }
   },
   "source": [
    "#### 反等价鞅方法"
   ]
  },
  {
   "cell_type": "markdown",
   "metadata": {
    "slideshow": {
     "slide_type": "fragment"
    }
   },
   "source": [
    "- 盈利则增加赌注，亏损则恢复到初始赌注"
   ]
  },
  {
   "cell_type": "markdown",
   "metadata": {
    "slideshow": {
     "slide_type": "fragment"
    }
   },
   "source": [
    "<center><img src=\"./img/realTrading/reverseMartingales.png\" width=80%></center>"
   ]
  },
  {
   "cell_type": "markdown",
   "metadata": {
    "slideshow": {
     "slide_type": "slide"
    }
   },
   "source": [
    "#### 获胜序列方法"
   ]
  },
  {
   "cell_type": "markdown",
   "metadata": {
    "slideshow": {
     "slide_type": "fragment"
    }
   },
   "source": [
    "- 连续获胜若干次后，在下一次投资机会时候加仓"
   ]
  },
  {
   "cell_type": "markdown",
   "metadata": {
    "slideshow": {
     "slide_type": "fragment"
    }
   },
   "source": [
    "- 一旦亏损，则将投资数目恢复到初始值"
   ]
  },
  {
   "cell_type": "markdown",
   "metadata": {
    "slideshow": {
     "slide_type": "fragment"
    }
   },
   "source": [
    "<center><img src=\"./img/realTrading/profitSeq.png\" width=80%></center>"
   ]
  },
  {
   "cell_type": "markdown",
   "metadata": {
    "slideshow": {
     "slide_type": "slide"
    }
   },
   "source": [
    "#### 亏损序列方法"
   ]
  },
  {
   "cell_type": "markdown",
   "metadata": {
    "slideshow": {
     "slide_type": "fragment"
    }
   },
   "source": [
    "- 连续亏损若干次后，在下一次投资机会时候加仓"
   ]
  },
  {
   "cell_type": "markdown",
   "metadata": {
    "slideshow": {
     "slide_type": "fragment"
    }
   },
   "source": [
    "- 一旦盈利，则将投资数目恢复到初始值"
   ]
  },
  {
   "cell_type": "markdown",
   "metadata": {
    "slideshow": {
     "slide_type": "fragment"
    }
   },
   "source": [
    "<center><img src=\"./img/realTrading/lossSeq.png\" width=80%></center>"
   ]
  },
  {
   "cell_type": "markdown",
   "metadata": {
    "slideshow": {
     "slide_type": "slide"
    }
   },
   "source": [
    "#### Kelly公式"
   ]
  },
  {
   "cell_type": "markdown",
   "metadata": {
    "slideshow": {
     "slide_type": "fragment"
    }
   },
   "source": [
    "- 能够最大化投资收益率的最优仓位比例"
   ]
  },
  {
   "cell_type": "markdown",
   "metadata": {
    "slideshow": {
     "slide_type": "fragment"
    }
   },
   "source": [
    "$$\n",
    "    f=p-\\frac{1-p}{b}=\\frac{bp-(1-p)}{b}\n",
    "$$\n",
    "- $p$：交易胜率\n",
    "- $b$：平均盈利/平均亏损"
   ]
  },
  {
   "cell_type": "markdown",
   "metadata": {
    "slideshow": {
     "slide_type": "slide"
    }
   },
   "source": [
    "#### 仓位比例计算"
   ]
  },
  {
   "cell_type": "code",
   "execution_count": 134,
   "metadata": {
    "slideshow": {
     "slide_type": "fragment"
    }
   },
   "outputs": [
    {
     "name": "stdout",
     "output_type": "stream",
     "text": [
      "胜率为0.5913461538461539\n",
      "平均盈利103.65853658536585\n",
      "平均亏损-140.74074074074073\n"
     ]
    },
    {
     "data": {
      "text/plain": [
       "0.03650284900284902"
      ]
     },
     "execution_count": 134,
     "metadata": {},
     "output_type": "execute_result"
    }
   ],
   "source": [
    "totTrades = trades.getCount()\n",
    "p = trades.getProfitableCount()/totTrades\n",
    "print(f'胜率为{p}')\n",
    "aveGain = trades.getProfits().mean()\n",
    "print(f'平均盈利{aveGain}')\n",
    "aveLoss = trades.getLosses().mean()\n",
    "print(f'平均亏损{aveLoss}')\n",
    "b = aveGain/np.abs(aveLoss)\n",
    "fpct = (b*p-(1-p))/b\n",
    "fpct"
   ]
  },
  {
   "cell_type": "markdown",
   "metadata": {
    "slideshow": {
     "slide_type": "fragment"
    }
   },
   "source": [
    "- 最优仓位比例是3.7%"
   ]
  }
 ],
 "metadata": {
  "celltoolbar": "幻灯片",
  "hide_input": false,
  "kernelspec": {
   "display_name": "Python 3",
   "language": "python",
   "name": "python3"
  },
  "language_info": {
   "codemirror_mode": {
    "name": "ipython",
    "version": 3
   },
   "file_extension": ".py",
   "mimetype": "text/x-python",
   "name": "python",
   "nbconvert_exporter": "python",
   "pygments_lexer": "ipython3",
   "version": "3.6.8"
  },
  "toc": {
   "base_numbering": 1,
   "nav_menu": {},
   "number_sections": true,
   "sideBar": true,
   "skip_h1_title": false,
   "title_cell": "Table of Contents",
   "title_sidebar": "Contents",
   "toc_cell": false,
   "toc_position": {
    "height": "calc(100% - 180px)",
    "left": "10px",
    "top": "150px",
    "width": "320px"
   },
   "toc_section_display": true,
   "toc_window_display": true
  }
 },
 "nbformat": 4,
 "nbformat_minor": 4
}
