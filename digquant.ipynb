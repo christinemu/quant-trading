{
 "cells": [
  {
   "cell_type": "markdown",
   "metadata": {
    "slideshow": {
     "slide_type": "slide"
    }
   },
   "source": [
    "<div class=\"jumbotron\">\n",
    "    <p class=\"display-1 h1\">点宽量化交易平台使用</p>\n",
    "    <hr class=\"my-4\">\n",
    "    <p>主讲：李岩</p>\n",
    "    <p>管理学院</p>\n",
    "    <p>liyan@cumtb.edu.cn</p>\n",
    "</div>"
   ]
  },
  {
   "cell_type": "markdown",
   "metadata": {
    "slideshow": {
     "slide_type": "slide"
    }
   },
   "source": [
    "# VS Code集成开发环境"
   ]
  },
  {
   "cell_type": "markdown",
   "metadata": {
    "slideshow": {
     "slide_type": "fragment"
    }
   },
   "source": [
    "- Visual Studio Code ([https://code.visualstudio.com/](https://code.visualstudio.com/))"
   ]
  },
  {
   "cell_type": "markdown",
   "metadata": {
    "slideshow": {
     "slide_type": "fragment"
    }
   },
   "source": [
    "<img src=\"https://code.visualstudio.com/assets/home/home-screenshot-win-lg.png\" width=\"100%\">"
   ]
  },
  {
   "cell_type": "markdown",
   "metadata": {
    "slideshow": {
     "slide_type": "fragment"
    }
   },
   "source": [
    "- VS Code的优势\n",
    "    - 体积小\n",
    "    - 支持语言丰富：Python，C++, C#, Java, PHP, HTML, CSS, JavaScript, TypeScript, Markdown, Go\n",
    "    - 插件丰富"
   ]
  },
  {
   "cell_type": "markdown",
   "metadata": {
    "slideshow": {
     "slide_type": "subslide"
    }
   },
   "source": [
    "## VS Code的配置"
   ]
  },
  {
   "cell_type": "markdown",
   "metadata": {
    "slideshow": {
     "slide_type": "fragment"
    }
   },
   "source": [
    "### 用户界面"
   ]
  },
  {
   "cell_type": "markdown",
   "metadata": {
    "slideshow": {
     "slide_type": "fragment"
    }
   },
   "source": [
    "<img src=\"./img/atedu/vscodeUI.png\" width=\"100%\">"
   ]
  },
  {
   "cell_type": "markdown",
   "metadata": {
    "slideshow": {
     "slide_type": "slide"
    }
   },
   "source": [
    "### 安装插件（extensions）"
   ]
  },
  {
   "cell_type": "markdown",
   "metadata": {
    "slideshow": {
     "slide_type": "fragment"
    }
   },
   "source": [
    "<img src=\"./img/atedu/vscodeExtPos.png\" width=\"100%\">"
   ]
  },
  {
   "cell_type": "markdown",
   "metadata": {
    "slideshow": {
     "slide_type": "fragment"
    }
   },
   "source": [
    "- 必备扩展\n",
    "    - Python：微软开发的适用于VS Code的Python扩展"
   ]
  },
  {
   "cell_type": "markdown",
   "metadata": {
    "slideshow": {
     "slide_type": "fragment"
    }
   },
   "source": [
    "- 可选扩展\n",
    "    - Markdown All in One：Markdown语法的扩展\n",
    "    - Jupyter"
   ]
  },
  {
   "cell_type": "markdown",
   "metadata": {
    "slideshow": {
     "slide_type": "slide"
    }
   },
   "source": [
    "### 配置成功\n",
    "- 点击\"<span class=\"mark\">F1</span>\"，或者\"<span class=\"mark\">ctrl+shift+p</span>\"组合键，打开命令面板（command palette）"
   ]
  },
  {
   "cell_type": "markdown",
   "metadata": {
    "slideshow": {
     "slide_type": "fragment"
    }
   },
   "source": [
    "<img src=\"./img/atedu/vscodeSettingSuccess.png\" width=\"80%\">"
   ]
  },
  {
   "cell_type": "markdown",
   "metadata": {
    "slideshow": {
     "slide_type": "slide"
    }
   },
   "source": [
    "### 选择解析器"
   ]
  },
  {
   "cell_type": "markdown",
   "metadata": {
    "cell_style": "split",
    "slideshow": {
     "slide_type": "fragment"
    }
   },
   "source": [
    "<img src=\"./img/atedu/vscodeInterpreter1.png\" width=\"100%\">"
   ]
  },
  {
   "cell_type": "markdown",
   "metadata": {
    "cell_style": "split",
    "slideshow": {
     "slide_type": "fragment"
    }
   },
   "source": [
    "<img src=\"./img/atedu/vscodeInterpreter2.png\" width=\"100%\">"
   ]
  },
  {
   "cell_type": "markdown",
   "metadata": {
    "slideshow": {
     "slide_type": "slide"
    }
   },
   "source": [
    "## 运行代码脚本"
   ]
  },
  {
   "cell_type": "markdown",
   "metadata": {
    "slideshow": {
     "slide_type": "fragment"
    }
   },
   "source": [
    "- 建立一个脚本（py文件）"
   ]
  },
  {
   "cell_type": "markdown",
   "metadata": {
    "cell_style": "split",
    "slideshow": {
     "slide_type": "fragment"
    }
   },
   "source": [
    "<img src=\"./img/atedu/toolbar-new-file.png\" width=\"100%\">"
   ]
  },
  {
   "cell_type": "markdown",
   "metadata": {
    "cell_style": "split",
    "slideshow": {
     "slide_type": "fragment"
    }
   },
   "source": [
    "<img src=\"./img/atedu/hello-py-file-created.png\" width=\"100%\">"
   ]
  },
  {
   "cell_type": "markdown",
   "metadata": {
    "cell_style": "center",
    "slideshow": {
     "slide_type": "slide"
    }
   },
   "source": [
    "- 写入如下代码\n",
    "```python\n",
    "msg = 'Hello World'\n",
    "print(msg)\n",
    "```"
   ]
  },
  {
   "cell_type": "markdown",
   "metadata": {
    "cell_style": "split",
    "slideshow": {
     "slide_type": "fragment"
    }
   },
   "source": [
    "<img src=\"./img/atedu/intellisense01.png\" width=\"100%\">"
   ]
  },
  {
   "cell_type": "markdown",
   "metadata": {
    "cell_style": "split",
    "slideshow": {
     "slide_type": "fragment"
    }
   },
   "source": [
    "<img src=\"./img/atedu/intellisense02.png\" width=100%>"
   ]
  },
  {
   "cell_type": "markdown",
   "metadata": {
    "slideshow": {
     "slide_type": "slide"
    }
   },
   "source": [
    "### 在终端中运行"
   ]
  },
  {
   "cell_type": "markdown",
   "metadata": {
    "slideshow": {
     "slide_type": "fragment"
    }
   },
   "source": [
    "- 在编辑器的任意位置右键点击，选择“在终端中运行Python文件”"
   ]
  },
  {
   "cell_type": "markdown",
   "metadata": {
    "slideshow": {
     "slide_type": "fragment"
    }
   },
   "source": [
    "<img src=\"./img/atedu/run-python-file-in-terminal.png\" width=\"60%\">"
   ]
  },
  {
   "cell_type": "markdown",
   "metadata": {
    "slideshow": {
     "slide_type": "slide"
    }
   },
   "source": [
    "- 在终端中查看运行结果"
   ]
  },
  {
   "cell_type": "markdown",
   "metadata": {
    "slideshow": {
     "slide_type": "fragment"
    }
   },
   "source": [
    "<img src=\"./img/atedu/runResInTerminal.png\" width=100%>"
   ]
  },
  {
   "cell_type": "markdown",
   "metadata": {
    "slideshow": {
     "slide_type": "slide"
    }
   },
   "source": [
    "### 主函数"
   ]
  },
  {
   "cell_type": "markdown",
   "metadata": {
    "slideshow": {
     "slide_type": "fragment"
    }
   },
   "source": [
    "- 每个`.py`文件可以有一个主函数，表示该代码文件运行的入口与执行顺序"
   ]
  },
  {
   "cell_type": "markdown",
   "metadata": {
    "slideshow": {
     "slide_type": "fragment"
    }
   },
   "source": [
    "- 表达方式\n",
    "\n",
    "```python\n",
    "if __name__ == '__main__':\n",
    "    # 添加代码\n",
    "    pass\n",
    "```"
   ]
  },
  {
   "cell_type": "markdown",
   "metadata": {
    "slideshow": {
     "slide_type": "fragment"
    }
   },
   "source": [
    "<center><img src=\"./img/atedu/pymainfunc.png\" width=100%></center>"
   ]
  },
  {
   "cell_type": "markdown",
   "metadata": {
    "slideshow": {
     "slide_type": "slide"
    }
   },
   "source": [
    "# 安装At-edu量化平台"
   ]
  },
  {
   "cell_type": "markdown",
   "metadata": {
    "slideshow": {
     "slide_type": "fragment"
    }
   },
   "source": [
    "- 下载网址 [https://digquant.com/atMenus/at](https://digquant.com/atMenus/at)"
   ]
  },
  {
   "cell_type": "markdown",
   "metadata": {
    "slideshow": {
     "slide_type": "fragment"
    }
   },
   "source": [
    "- 名称：AT-edu量化平台"
   ]
  },
  {
   "cell_type": "markdown",
   "metadata": {
    "slideshow": {
     "slide_type": "fragment"
    }
   },
   "source": [
    "- 安装`python toolbox`"
   ]
  },
  {
   "cell_type": "markdown",
   "metadata": {
    "slideshow": {
     "slide_type": "fragment"
    }
   },
   "source": [
    "<center><img src=\"./img/atedu/pythontoolbox.png\" width=100%></center>"
   ]
  },
  {
   "cell_type": "markdown",
   "metadata": {
    "slideshow": {
     "slide_type": "slide"
    }
   },
   "source": [
    "- 集成vs code"
   ]
  },
  {
   "cell_type": "markdown",
   "metadata": {
    "slideshow": {
     "slide_type": "fragment"
    }
   },
   "source": [
    "<center><img src=\"./img/atedu/ateduide.png\" width=100%></center>"
   ]
  },
  {
   "cell_type": "markdown",
   "metadata": {
    "slideshow": {
     "slide_type": "slide"
    }
   },
   "source": [
    "# 策略配置"
   ]
  },
  {
   "cell_type": "markdown",
   "metadata": {
    "slideshow": {
     "slide_type": "fragment"
    }
   },
   "source": [
    "## 策略配置入口"
   ]
  },
  {
   "cell_type": "markdown",
   "metadata": {
    "slideshow": {
     "slide_type": "fragment"
    }
   },
   "source": [
    "<center><img src=\"./img/atedu/strategyInput.png\" width=100%></center>"
   ]
  },
  {
   "cell_type": "markdown",
   "metadata": {
    "slideshow": {
     "slide_type": "slide"
    }
   },
   "source": [
    "## 策略基本信息设置"
   ]
  },
  {
   "cell_type": "markdown",
   "metadata": {
    "slideshow": {
     "slide_type": "fragment"
    }
   },
   "source": [
    "<center><img src=\"./img/atedu/strategyInfo1.png\" width=100%></center>"
   ]
  },
  {
   "cell_type": "markdown",
   "metadata": {
    "slideshow": {
     "slide_type": "slide"
    }
   },
   "source": [
    "<center><img src=\"./img/atedu/strategyInfo2.png\" width=100%></center>"
   ]
  },
  {
   "cell_type": "markdown",
   "metadata": {
    "slideshow": {
     "slide_type": "slide"
    }
   },
   "source": [
    "## 策略面板"
   ]
  },
  {
   "cell_type": "markdown",
   "metadata": {
    "slideshow": {
     "slide_type": "fragment"
    }
   },
   "source": [
    "<center><img src=\"./img/atedu/strategyPanel.png\" width=100%></center>"
   ]
  },
  {
   "cell_type": "markdown",
   "metadata": {
    "slideshow": {
     "slide_type": "slide"
    }
   },
   "source": [
    "- 点击红圈位置，打开策略文件在本地的位置"
   ]
  },
  {
   "cell_type": "markdown",
   "metadata": {
    "slideshow": {
     "slide_type": "slide"
    }
   },
   "source": [
    "## 策略文件"
   ]
  },
  {
   "cell_type": "markdown",
   "metadata": {
    "slideshow": {
     "slide_type": "fragment"
    }
   },
   "source": [
    "<center><img src=\"./img/atedu/strategyLocalPos.png\" width=100%></center>"
   ]
  },
  {
   "cell_type": "markdown",
   "metadata": {
    "slideshow": {
     "slide_type": "fragment"
    }
   },
   "source": [
    "- `myat_Strategy.py`：编写策略的代码文件"
   ]
  },
  {
   "cell_type": "markdown",
   "metadata": {
    "slideshow": {
     "slide_type": "fragment"
    }
   },
   "source": [
    "- `myat_Runbacktest.py`：运行回测的代码文件"
   ]
  },
  {
   "cell_type": "markdown",
   "metadata": {
    "slideshow": {
     "slide_type": "fragment"
    }
   },
   "source": [
    "- `myat_Runrealtrade.py`：模拟交易的代码文件"
   ]
  },
  {
   "cell_type": "markdown",
   "metadata": {
    "slideshow": {
     "slide_type": "slide"
    }
   },
   "source": [
    "### `Strategy.py`代码文件的结构"
   ]
  },
  {
   "cell_type": "markdown",
   "metadata": {
    "slideshow": {
     "slide_type": "fragment"
    }
   },
   "source": [
    "- 包含三个部分\n",
    "    - 导入需要的包\n",
    "    - 初始化函数\n",
    "    - 策略刷新函数"
   ]
  },
  {
   "cell_type": "markdown",
   "metadata": {
    "slideshow": {
     "slide_type": "fragment"
    }
   },
   "source": [
    "- 导入需要的包\n",
    "\n",
    "```python\n",
    "from atrader import *\n",
    "# 导入其它需要的包\n",
    "```"
   ]
  },
  {
   "cell_type": "markdown",
   "metadata": {
    "slideshow": {
     "slide_type": "fragment"
    }
   },
   "source": [
    "- 初始化函数\n",
    "```python\n",
    "def init(context: 'ContextBackReal'):\n",
    "\t\"\"\"用户初始化函数\"\"\"\n",
    "\n",
    "\tset_backtest(initial_cash=10000000.000000)\n",
    "\treg_kdata('day', 1)\n",
    "\t# TODO 写您的初始化操作\n",
    "\tpass\n",
    "```"
   ]
  },
  {
   "cell_type": "markdown",
   "metadata": {
    "slideshow": {
     "slide_type": "fragment"
    }
   },
   "source": [
    "- 策略刷新函数\n",
    "\n",
    "```python\n",
    "def on_data(context: 'ContextBackReal'):\n",
    "\t\"\"\"刷新bar函数\"\"\"\n",
    "\n",
    "\n",
    "\t# TODO 写 bar 逻辑函数\n",
    "\tpass\n",
    "```"
   ]
  },
  {
   "cell_type": "markdown",
   "metadata": {
    "slideshow": {
     "slide_type": "slide"
    }
   },
   "source": [
    "# 点宽平台的操作"
   ]
  },
  {
   "cell_type": "markdown",
   "metadata": {
    "slideshow": {
     "slide_type": "fragment"
    }
   },
   "source": [
    "## 策略初始化"
   ]
  },
  {
   "cell_type": "markdown",
   "metadata": {
    "slideshow": {
     "slide_type": "fragment"
    }
   },
   "source": [
    "```python\n",
    "def init(context: 'ContextBackReal'):\n",
    "\t\"\"\"用户初始化函数\"\"\"\n",
    "\n",
    "\tset_backtest(initial_cash=10000000.000000)\n",
    "\treg_kdata('day', 1)\n",
    "\t# TODO 写您的初始化操作\n",
    "\tpass\n",
    "```"
   ]
  },
  {
   "cell_type": "markdown",
   "metadata": {
    "slideshow": {
     "slide_type": "fragment"
    }
   },
   "source": [
    "- `init`函数中**允许**的操作\n",
    "    - 注册数据\n",
    "    - 定义全局变量\n",
    "    - 查询历史数据"
   ]
  },
  {
   "cell_type": "markdown",
   "metadata": {
    "slideshow": {
     "slide_type": "fragment"
    }
   },
   "source": [
    "- `init`函数中**不允许**的操作\n",
    "    - 下单等交易函数\n",
    "    - 返回值"
   ]
  },
  {
   "cell_type": "markdown",
   "metadata": {
    "slideshow": {
     "slide_type": "fragment"
    }
   },
   "source": [
    "### 重要变量与函数"
   ]
  },
  {
   "cell_type": "markdown",
   "metadata": {
    "slideshow": {
     "slide_type": "fragment"
    }
   },
   "source": [
    "#### `context`\n",
    "- 是策略运行过程中的上下文对象，该对象将在策略中不同的函数之间传递\n",
    "- 全局变量，包含了很多系统生成的属性和方法"
   ]
  },
  {
   "cell_type": "markdown",
   "metadata": {
    "slideshow": {
     "slide_type": "fragment"
    }
   },
   "source": [
    "- 例如\n",
    "    - `context.account()`：获取指定账户的资金信息和持仓信息\n",
    "    - `context.now`：当前时间\n",
    "    - `context.backtest_setting`：回测参数"
   ]
  },
  {
   "cell_type": "markdown",
   "metadata": {
    "slideshow": {
     "slide_type": "slide"
    }
   },
   "source": [
    "#### K线数据注册函数\n",
    "\n",
    "```python\n",
    "reg_kdata(frequency='', fre_num=0, adjust=False)\n",
    "```\n",
    "\n",
    "- `frequency`：注册k线的频率，`str`类型，可选`min`、`day`、`week`、`month`\n",
    "- `fre_num`：注册k线的频数，`int`类型，`day`、`week`和`month`仅支持1\n",
    "- `adjust`：是否同时注册主力合约换月调整数据，默认为`False`，`True`为注册"
   ]
  },
  {
   "cell_type": "markdown",
   "metadata": {
    "slideshow": {
     "slide_type": "fragment"
    }
   },
   "source": [
    "##### 例如\n",
    "\n",
    "```python\n",
    "reg_kdata(frequency='min', fre_num=5)\n",
    "```\n",
    "\n",
    "- 注册5分钟的k线数据"
   ]
  },
  {
   "cell_type": "markdown",
   "metadata": {
    "slideshow": {
     "slide_type": "slide"
    }
   },
   "source": [
    "##### 注册数据频率v.s.策略刷新频率"
   ]
  },
  {
   "cell_type": "markdown",
   "metadata": {
    "slideshow": {
     "slide_type": "fragment"
    }
   },
   "source": [
    "- 在点宽中，K线注册的数据是依赖于策略刷新频率的数据合成得到"
   ]
  },
  {
   "cell_type": "markdown",
   "metadata": {
    "slideshow": {
     "slide_type": "fragment"
    }
   },
   "source": [
    "- 因此，K线注册频率<font color=\"red\">$\\le$</font>策略刷新频率"
   ]
  },
  {
   "cell_type": "markdown",
   "metadata": {
    "slideshow": {
     "slide_type": "fragment"
    }
   },
   "source": [
    "- 频率的高低划分\n",
    "    - min $\\gt$ day $\\gt$ week $\\gt$ month"
   ]
  },
  {
   "cell_type": "markdown",
   "metadata": {
    "slideshow": {
     "slide_type": "fragment"
    }
   },
   "source": [
    "- 该规则只适用于频率，和频数无关，即1min的数据和5min的数据同属于min频率的数据，不受这个规则影响"
   ]
  },
  {
   "cell_type": "markdown",
   "metadata": {
    "slideshow": {
     "slide_type": "fragment"
    }
   },
   "source": [
    "|策略刷新频率|K线注册频率|是否合法|\n",
    "|:---:|:---:|:---:|\n",
    "|1 min|\t5 min|\t√|\n",
    "|1 min|\t1 day|\t√|\n",
    "|5 min|\t1 min|\t√|\n",
    "|30 min|\t1 day|\t√|\n",
    "|1 day|\t1 min|\tx|\n",
    "|1 day|\t60 min|\tx|\n",
    "|1 day|\t1 day|\t√|"
   ]
  },
  {
   "cell_type": "markdown",
   "metadata": {
    "slideshow": {
     "slide_type": "slide"
    }
   },
   "source": [
    "#### 获取k线历史数据\n",
    "\n",
    "```python\n",
    "get_kdata(target_list, frequency, fre_num, begin_date, end_date, fq=0, fill_up=False, df=False, sort_by_date=True)\n",
    "```\n",
    "\n",
    "- `target_list`：交易标的构成的列表，`list`类型\n",
    "- `fq`：复权类型，`int`类型，0不复权，1前复权，2后复权\n",
    "- `fill_up`：是否补齐数据，`True`为补齐\n",
    "- `df`：当为`True`，以`pandas.dataframe`类型返回查询结果，否则以`dict`类型返回结果\n",
    "- `sort_by_date`：当为`True`时候，先按日期排序，再按标的排序；否则，先按标的排序，再看时间排序"
   ]
  },
  {
   "cell_type": "markdown",
   "metadata": {
    "slideshow": {
     "slide_type": "slide"
    }
   },
   "source": [
    "##### 例\n",
    "\n",
    "```python\n",
    "histData = at.get_kdata(target_list=['SZSE.000001','SZSE.000002'], frequency='min', fre_num=60, begin_date='2017-06-25', end_date='2017-06-26',fq=1,fill_up=False, df=True,sort_by_date=False)\n",
    "```"
   ]
  },
  {
   "cell_type": "markdown",
   "metadata": {
    "slideshow": {
     "slide_type": "fragment"
    }
   },
   "source": [
    "<center><img src=\"./img/atedu/getkdatafalse.png\" width=\"100%\"></center>"
   ]
  },
  {
   "cell_type": "markdown",
   "metadata": {
    "slideshow": {
     "slide_type": "slide"
    }
   },
   "source": [
    "```python\n",
    "histData = at.get_kdata(target_list=['SZSE.000001','SZSE.000002'], frequency='min', fre_num=60, begin_date='2017-06-25', end_date='2017-06-26',fq=1,fill_up=False, df=True,sort_by_date=False)\n",
    "```"
   ]
  },
  {
   "cell_type": "markdown",
   "metadata": {
    "slideshow": {
     "slide_type": "fragment"
    }
   },
   "source": [
    "<center><img src=\"./img/atedu/getkdatatrue.png\" width=\"100%\"></center>"
   ]
  },
  {
   "cell_type": "markdown",
   "metadata": {
    "slideshow": {
     "slide_type": "slide"
    }
   },
   "source": [
    "## 策略刷新函数"
   ]
  },
  {
   "cell_type": "markdown",
   "metadata": {
    "slideshow": {
     "slide_type": "fragment"
    }
   },
   "source": [
    "\n",
    "```python\n",
    "def on_data(context: 'ContextBackReal'):\n",
    "\t\"\"\"刷新bar函数\"\"\"\n",
    "\n",
    "\n",
    "\t# TODO 写 bar 逻辑函数\n",
    "\tpass\n",
    "```"
   ]
  },
  {
   "cell_type": "markdown",
   "metadata": {
    "slideshow": {
     "slide_type": "slide"
    }
   },
   "source": [
    "### 重要函数与变量"
   ]
  },
  {
   "cell_type": "markdown",
   "metadata": {
    "slideshow": {
     "slide_type": "fragment"
    }
   },
   "source": [
    "#### 获取注册数据\n",
    "\n",
    "```python\n",
    "get_reg_kdata(reg_idx,target_indices=(), length=1, fill_up=False, df=False) \n",
    "```\n",
    "\n",
    "- `reg_idx`：在初始化函数中已经注册的数据对象，`reg_idx=context.reg_kdata[i]`，i代表注册时的先后顺序，从0开始\n",
    "- `target_indices`：获取数据的标的的索引号，`()`表示全部标的\n",
    "- `length`：从当前时刻往前取多少根bar，频率根据注册时的频率决定"
   ]
  },
  {
   "cell_type": "markdown",
   "metadata": {
    "slideshow": {
     "slide_type": "fragment"
    }
   },
   "source": [
    "##### 例\n",
    "\n",
    "```python\n",
    "df = get_reg_kdata(reg_idx=context.reg_kdata[0], length=1, fill_up=True, df=True)\n",
    "```\n",
    "\n",
    "- 策略刷新频率为10min"
   ]
  },
  {
   "cell_type": "markdown",
   "metadata": {
    "slideshow": {
     "slide_type": "fragment"
    }
   },
   "source": [
    "<center><img src=\"./img/atedu/getkregdata.png\" width=\"100%\"></center>"
   ]
  },
  {
   "cell_type": "markdown",
   "metadata": {
    "slideshow": {
     "slide_type": "slide"
    }
   },
   "source": [
    "##### 例\n",
    "\n",
    "\n",
    "```python\n",
    "df = get_reg_kdata(reg_idx=context.reg_kdata[0], length=20, fill_up=True, df=True)\n",
    "```\n",
    "\n",
    "- 策略刷新频率为10min\n",
    "- 数据注册频率为1day"
   ]
  },
  {
   "cell_type": "markdown",
   "metadata": {
    "slideshow": {
     "slide_type": "fragment"
    }
   },
   "source": [
    "<center><img src=\"./img/atedu/getkregdataLen5.png\" width=\"100%\"></center>"
   ]
  },
  {
   "cell_type": "markdown",
   "metadata": {
    "slideshow": {
     "slide_type": "slide"
    }
   },
   "source": [
    "<center><img src=\"./img/atedu/getkregdataLen5-1.png\" width=\"100%\"></center>"
   ]
  },
  {
   "cell_type": "markdown",
   "metadata": {
    "slideshow": {
     "slide_type": "fragment"
    }
   },
   "source": [
    "<center><img src=\"./img/atedu/getkregdataLen5-2.png\" width=\"100%\"></center>"
   ]
  },
  {
   "cell_type": "markdown",
   "metadata": {
    "slideshow": {
     "slide_type": "fragment"
    }
   },
   "source": [
    "$$\\vdots$$"
   ]
  },
  {
   "cell_type": "markdown",
   "metadata": {
    "slideshow": {
     "slide_type": "fragment"
    }
   },
   "source": [
    "<center><img src=\"./img/atedu/getkregdataLen5-3.png\" width=\"100%\"></center>"
   ]
  }
 ],
 "metadata": {
  "celltoolbar": "Slideshow",
  "hide_input": false,
  "kernelspec": {
   "display_name": "Python 3",
   "language": "python",
   "name": "python3"
  },
  "language_info": {
   "codemirror_mode": {
    "name": "ipython",
    "version": 3
   },
   "file_extension": ".py",
   "mimetype": "text/x-python",
   "name": "python",
   "nbconvert_exporter": "python",
   "pygments_lexer": "ipython3",
   "version": "3.6.8"
  },
  "toc": {
   "base_numbering": 1,
   "nav_menu": {},
   "number_sections": true,
   "sideBar": true,
   "skip_h1_title": false,
   "title_cell": "Table of Contents",
   "title_sidebar": "Contents",
   "toc_cell": false,
   "toc_position": {
    "height": "calc(100% - 180px)",
    "left": "10px",
    "top": "150px",
    "width": "384px"
   },
   "toc_section_display": true,
   "toc_window_display": true
  }
 },
 "nbformat": 4,
 "nbformat_minor": 4
}
