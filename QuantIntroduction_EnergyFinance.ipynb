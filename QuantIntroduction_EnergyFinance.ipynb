{
 "cells": [
  {
   "cell_type": "code",
   "execution_count": 1,
   "metadata": {
    "init_cell": true,
    "slideshow": {
     "slide_type": "notes"
    }
   },
   "outputs": [
    {
     "name": "stderr",
     "output_type": "stream",
     "text": [
      "/home/VENV36/lib/python3.6/site-packages/pandas/compat/__init__.py:117: UserWarning: Could not import the lzma module. Your installed Python is incomplete. Attempting to use lzma compression will result in a RuntimeError.\n",
      "  warnings.warn(msg)\n"
     ]
    }
   ],
   "source": [
    "import pandas as pd\n",
    "import pandas_datareader.data as web\n",
    "from datetime import datetime\n",
    "from IPython.core.interactiveshell import InteractiveShell \n",
    "InteractiveShell.ast_node_interactivity = 'all' #默认为'last'\n",
    "import matplotlib.pyplot as plt\n",
    "plt.rcParams['font.family']=['HYQuanTangShiJ']\n",
    "import mplfinance as mpf\n",
    "%matplotlib inline"
   ]
  },
  {
   "cell_type": "markdown",
   "metadata": {
    "slideshow": {
     "slide_type": "slide"
    }
   },
   "source": [
    "<div class=\"jumbotron\">\n",
    "    <p class=\"display-1 h1\"><font face=\"Source Han Serif CN SemiBold\">能源金融与量化交易<font></p>\n",
    "    <hr class=\"my-4\">\n",
    "    <p>主讲：李岩</p>\n",
    "    <p>管理学院</p>\n",
    "    <p>liyan@cumtb.edu.cn</p>\n",
    "</div>"
   ]
  },
  {
   "cell_type": "markdown",
   "metadata": {
    "slideshow": {
     "slide_type": "slide"
    }
   },
   "source": [
    "# 能源金融"
   ]
  },
  {
   "cell_type": "markdown",
   "metadata": {
    "slideshow": {
     "slide_type": "fragment"
    }
   },
   "source": [
    "<dl class=\"row text-info\">\n",
    "    <dt class=\"col-md-4\">能源金融</dt>\n",
    "    <dd class=\"col-md-8\">通过能源资源与金融资源的整合，实现能源产业资本与金融资本不断优化聚合，从而促进能源产业与金融产业良性互动、协调发展的一系列金融活动</dd>\n",
    "<dl>"
   ]
  },
  {
   "cell_type": "markdown",
   "metadata": {
    "slideshow": {
     "slide_type": "slide"
    }
   },
   "source": [
    "## 能源行业的发展与风险"
   ]
  },
  {
   "cell_type": "markdown",
   "metadata": {
    "slideshow": {
     "slide_type": "fragment"
    }
   },
   "source": [
    "- 十六届五中全会\n",
    "> 能源产业，要强化节约和高效利用的政策导向，坚持节约优先、立足国内、煤为基础、多元发展，构筑稳定、经济、清洁的能源供应体系。**建设大型煤炭基地**，调整改造中小煤矿，开发利用煤层气，鼓励**煤电联营**。以大型高效机组为重点优化发展煤电，在保护生态基础上有序开发水电，积极发展核电，**加强电网建设，扩大西电东送规模**。实行油气并举，加强国内石油天然气勘探开发，**扩大境外合作开发**，增强石油战略储备能力，稳步发展石油替代产品。加快发展风能、太阳能、生物质能等可再生能源。"
   ]
  },
  {
   "cell_type": "markdown",
   "metadata": {
    "slideshow": {
     "slide_type": "slide"
    }
   },
   "source": [
    "- KPMG发布的《采矿业的风险与机遇》"
   ]
  },
  {
   "cell_type": "markdown",
   "metadata": {
    "slideshow": {
     "slide_type": "fragment"
    }
   },
   "source": [
    "<center><img src=\"./img/introduction/energyRisk.png\" width=100%></center>"
   ]
  },
  {
   "cell_type": "markdown",
   "metadata": {
    "slideshow": {
     "slide_type": "slide"
    }
   },
   "source": [
    "## 金融"
   ]
  },
  {
   "cell_type": "markdown",
   "metadata": {
    "slideshow": {
     "slide_type": "fragment"
    }
   },
   "source": [
    "### 金融是什么？"
   ]
  },
  {
   "cell_type": "markdown",
   "metadata": {
    "slideshow": {
     "slide_type": "fragment"
    }
   },
   "source": [
    "- **风险管理工具**"
   ]
  },
  {
   "cell_type": "markdown",
   "metadata": {
    "slideshow": {
     "slide_type": "fragment"
    }
   },
   "source": [
    "<blockquote class=\"blockquote\">\n",
    "    <p>个人、企业和政府部门都可以到金融体系中来<b>转移自己不想承担的风险</b>，或者<b>承担自己愿意且有能力承担的风险</b>，使得金融体系客观上成为经济体系的风险集散地，成为经济体系应对各类风险因素和不确定性的枢纽系统。</p>\n",
    "    <footer class=\"blockquote-footer\">金融风险管理视角下的金融对外开放,《金融研究》2020,(1)</footer>\n",
    "</blockquote>"
   ]
  },
  {
   "cell_type": "markdown",
   "metadata": {
    "slideshow": {
     "slide_type": "slide"
    }
   },
   "source": [
    "### 金融如何实现风险管理？"
   ]
  },
  {
   "cell_type": "markdown",
   "metadata": {
    "slideshow": {
     "slide_type": "fragment"
    }
   },
   "source": [
    "<dl class=\"row text-danger\">\n",
    "    <dt class=\"col-md-4\">金融工具</dt>\n",
    "    <dd class=\"col-md-8\">在金融市场中可交易的金融资产</dd>\n",
    "<dl>"
   ]
  },
  {
   "cell_type": "markdown",
   "metadata": {
    "slideshow": {
     "slide_type": "fragment"
    }
   },
   "source": [
    "- 股票、期货、外汇等"
   ]
  },
  {
   "cell_type": "markdown",
   "metadata": {
    "slideshow": {
     "slide_type": "fragment"
    }
   },
   "source": [
    "- 通过对金融工具的**交易**实现风险管理"
   ]
  },
  {
   "cell_type": "markdown",
   "metadata": {
    "slideshow": {
     "slide_type": "fragment"
    }
   },
   "source": [
    "- 能源企业通过买卖及保有资产，以资产**收购价**与**卖出时的市场价**间的**差值**来获取收益或规避损失"
   ]
  },
  {
   "cell_type": "markdown",
   "metadata": {
    "slideshow": {
     "slide_type": "fragment"
    }
   },
   "source": [
    "- 方法\n",
    "    - 投机（speculating）\n",
    "    - 套期保值（hedging）\n",
    "    - 做市（market making）"
   ]
  },
  {
   "cell_type": "markdown",
   "metadata": {
    "slideshow": {
     "slide_type": "slide"
    }
   },
   "source": [
    "### 期货市场及期货"
   ]
  },
  {
   "cell_type": "markdown",
   "metadata": {
    "slideshow": {
     "slide_type": "fragment"
    }
   },
   "source": [
    "<dl class=\"row text-info\">\n",
    "    <dt class=\"col-md-2\">期货合约</dt>\n",
    "    <dd class=\"col-md-10\">由期货交易场所统一制定的、规定在将来某一<strong>特定的时间</strong>和<strong>地点</strong>交割一定数量标的物的<strong>标准化合约</strong>。</dd>\n",
    "</dl>"
   ]
  },
  {
   "cell_type": "markdown",
   "metadata": {
    "slideshow": {
     "slide_type": "slide"
    }
   },
   "source": [
    "#### 期货的特点"
   ]
  },
  {
   "cell_type": "markdown",
   "metadata": {
    "slideshow": {
     "slide_type": "fragment"
    }
   },
   "source": [
    "- 标准化合约\n",
    "- 双向交易\n",
    "- 杠杆机制\n",
    "- 每日无负债结算制度 "
   ]
  },
  {
   "cell_type": "markdown",
   "metadata": {
    "slideshow": {
     "slide_type": "slide"
    }
   },
   "source": [
    "##### 标准化合约"
   ]
  },
  {
   "cell_type": "markdown",
   "metadata": {
    "slideshow": {
     "slide_type": "fragment"
    }
   },
   "source": [
    "[动力煤期货合约](http://www.czce.com.cn/cn/sspz/dlm/H770212index_1.htm)"
   ]
  },
  {
   "cell_type": "markdown",
   "metadata": {
    "slideshow": {
     "slide_type": "fragment"
    }
   },
   "source": [
    "- 交易单位：买入或卖出的数量必须是交易单位的**整数倍**"
   ]
  },
  {
   "cell_type": "markdown",
   "metadata": {
    "slideshow": {
     "slide_type": "fragment"
    }
   },
   "source": [
    "- 最小变动价位：期货交易时买卖双方报价所允许的最小变动幅度，每次报价时的价格变动必须时该最小变动价位的**整数倍**"
   ]
  },
  {
   "cell_type": "markdown",
   "metadata": {
    "slideshow": {
     "slide_type": "slide"
    }
   },
   "source": [
    "##### 双向交易"
   ]
  },
  {
   "cell_type": "markdown",
   "metadata": {
    "slideshow": {
     "slide_type": "fragment"
    }
   },
   "source": [
    "- 既可以**买入**开仓，也可以**卖出**开仓"
   ]
  },
  {
   "cell_type": "markdown",
   "metadata": {
    "slideshow": {
     "slide_type": "fragment"
    }
   },
   "source": [
    "- 可以实现对冲（hedge）策略"
   ]
  },
  {
   "cell_type": "markdown",
   "metadata": {
    "slideshow": {
     "slide_type": "slide"
    }
   },
   "source": [
    "##### 杠杆机制"
   ]
  },
  {
   "cell_type": "markdown",
   "metadata": {
    "slideshow": {
     "slide_type": "fragment"
    }
   },
   "source": [
    "<dl class=\"row text-danger\">\n",
    "    <dt class=\"col-md-3\">交易保证金</dt>\n",
    "    <dd class=\"col-md-9\">\n",
    "        <p>交易双方向交易所缴纳的、用于履约担保的资金。</p>\n",
    "        <p>一般是合约金额的5% ∼ 10%。</p>\n",
    "    </dd>\n",
    "</dl>"
   ]
  },
  {
   "cell_type": "markdown",
   "metadata": {
    "slideshow": {
     "slide_type": "fragment"
    }
   },
   "source": [
    "- 例如，买（卖）1手动力煤期货合约，交易单位100吨/手，报价650元/吨，保证金是10%"
   ]
  },
  {
   "cell_type": "code",
   "execution_count": 5,
   "metadata": {
    "slideshow": {
     "slide_type": "fragment"
    }
   },
   "outputs": [
    {
     "data": {
      "text/plain": [
       "6500.0"
      ]
     },
     "execution_count": 5,
     "metadata": {},
     "output_type": "execute_result"
    }
   ],
   "source": [
    "650*100*0.1"
   ]
  },
  {
   "cell_type": "markdown",
   "metadata": {
    "slideshow": {
     "slide_type": "fragment"
    }
   },
   "source": [
    "- 以少量的资金控制期货合约，实现以小博大"
   ]
  },
  {
   "cell_type": "markdown",
   "metadata": {
    "slideshow": {
     "slide_type": "slide"
    }
   },
   "source": [
    "##### 每日无负债结算"
   ]
  },
  {
   "cell_type": "markdown",
   "metadata": {
    "slideshow": {
     "slide_type": "fragment"
    }
   },
   "source": [
    "- 每日收盘后，会员的保证金账户会依据持仓合约数量和期货合约的结算价进行调整，以反映该会员的盈利或亏损"
   ]
  },
  {
   "cell_type": "markdown",
   "metadata": {
    "slideshow": {
     "slide_type": "fragment"
    }
   },
   "source": [
    "- 也被称作“逐日盯市”（marked-to-market）"
   ]
  },
  {
   "cell_type": "markdown",
   "metadata": {
    "slideshow": {
     "slide_type": "subslide"
    }
   },
   "source": [
    "<center>\n",
    "\n",
    "比较项目|股票|期货\n",
    ":---:|:---:|:---:\n",
    "操作方向|做多|做多+**做空**\n",
    "总利益|非零和博弈|**零和**博弈\n",
    "风险|有风险|高风险\n",
    "    \n",
    "</center>"
   ]
  },
  {
   "cell_type": "markdown",
   "metadata": {
    "slideshow": {
     "slide_type": "slide"
    }
   },
   "source": [
    "### 我国主要期货期权交易所"
   ]
  },
  {
   "cell_type": "markdown",
   "metadata": {
    "slideshow": {
     "slide_type": "fragment"
    }
   },
   "source": [
    "<center><img src=\"./img/tradingBasics/exchange.png\" width=60%></center>"
   ]
  },
  {
   "cell_type": "markdown",
   "metadata": {
    "slideshow": {
     "slide_type": "slide"
    }
   },
   "source": [
    "- 交易时间\n",
    "    - 上午：9:00$\\sim$11:30 (股指期货9:30$\\sim$11:30,国债期货9:15$\\sim$11:30)\n",
    "    - 下午：13:30$\\sim$15:00（股指期货13:00$\\sim$15:00,国债期货13:00$\\sim$15:15）\n",
    "    - 晚上: 21:00$\\sim$23:00（铜、铝、铅、锌、镍、锡21:00$\\sim$01:00，黄金、白银21:00$\\sim$02:30）"
   ]
  },
  {
   "cell_type": "markdown",
   "metadata": {
    "slideshow": {
     "slide_type": "slide"
    }
   },
   "source": [
    "# 什么是量化交易？"
   ]
  },
  {
   "cell_type": "markdown",
   "metadata": {
    "slideshow": {
     "slide_type": "fragment"
    }
   },
   "source": [
    "## 量化交易的定义"
   ]
  },
  {
   "cell_type": "markdown",
   "metadata": {
    "slideshow": {
     "slide_type": "fragment"
    }
   },
   "source": [
    "<dl class=\"row text-info\">\n",
    "    <dt class=\"col-md-4\">量化</dt>\n",
    "    <dd class=\"col-md-8\">将抽象的逻辑关系用<strong>数学方式</strong>表达出来</dd>\n",
    "<dl>"
   ]
  },
  {
   "cell_type": "markdown",
   "metadata": {
    "slideshow": {
     "slide_type": "fragment"
    }
   },
   "source": [
    "<dl class=\"row text-danger\">\n",
    "    <dt class=\"col-md-4\"><span class=\"text-muted\">(金融)</span>交易</dt>\n",
    "    <dd class=\"col-md-8\">根据投资决策创立或者改变投资组合头寸的证券交易</dd>\n",
    "<dl>"
   ]
  },
  {
   "cell_type": "markdown",
   "metadata": {
    "slideshow": {
     "slide_type": "fragment"
    }
   },
   "source": [
    "- 头寸(position)：持有的特定商品、证券、货币等的数量"
   ]
  },
  {
   "cell_type": "markdown",
   "metadata": {
    "slideshow": {
     "slide_type": "slide"
    }
   },
   "source": [
    "<dl class=\"row\">\n",
    "    <dt class=\"col-md-4\">量化交易(Quantatitive Trading)</dt>\n",
    "    <dd class=\"col-md-8\">运用数学模型(统计学、机器学习等)对历史数据进行量化分析以开发交易策略，利用计算机按照交易策略执行交易决策</dd>\n",
    "<dl>"
   ]
  },
  {
   "cell_type": "markdown",
   "metadata": {
    "slideshow": {
     "slide_type": "fragment"
    }
   },
   "source": [
    "- 数学模型：统计模型(回归模型、时间序列分析等)、机器学习(分类模型、聚类模型、文本挖掘等)"
   ]
  },
  {
   "cell_type": "markdown",
   "metadata": {
    "slideshow": {
     "slide_type": "fragment"
    }
   },
   "source": [
    "- 计算机技术：编程语言(Python、C++等)、数据存储技术(mysql、MongoDB、hdf5等)"
   ]
  },
  {
   "cell_type": "markdown",
   "metadata": {
    "slideshow": {
     "slide_type": "slide"
    }
   },
   "source": [
    "## 主观交易"
   ]
  },
  {
   "cell_type": "markdown",
   "metadata": {
    "slideshow": {
     "slide_type": "fragment"
    }
   },
   "source": [
    "<dl class=\"row\">\n",
    "    <dt class=\"col-md-4\">主观交易</dt>\n",
    "    <dd class=\"col-md-8\">投资者利用主观判断做出投资决策</dd>\n",
    "<dl>"
   ]
  },
  {
   "cell_type": "markdown",
   "metadata": {
    "slideshow": {
     "slide_type": "slide"
    }
   },
   "source": [
    "### 主观判断从哪儿来？"
   ]
  },
  {
   "cell_type": "markdown",
   "metadata": {
    "slideshow": {
     "slide_type": "fragment"
    }
   },
   "source": [
    "- 历史K线图"
   ]
  },
  {
   "cell_type": "code",
   "execution_count": 33,
   "metadata": {
    "slideshow": {
     "slide_type": "skip"
    }
   },
   "outputs": [
    {
     "data": {
      "text/html": [
       "<div>\n",
       "<style scoped>\n",
       "    .dataframe tbody tr th:only-of-type {\n",
       "        vertical-align: middle;\n",
       "    }\n",
       "\n",
       "    .dataframe tbody tr th {\n",
       "        vertical-align: top;\n",
       "    }\n",
       "\n",
       "    .dataframe thead th {\n",
       "        text-align: right;\n",
       "    }\n",
       "</style>\n",
       "<table border=\"1\" class=\"dataframe\">\n",
       "  <thead>\n",
       "    <tr style=\"text-align: right;\">\n",
       "      <th></th>\n",
       "      <th>High</th>\n",
       "      <th>Low</th>\n",
       "      <th>Open</th>\n",
       "      <th>Close</th>\n",
       "      <th>Volume</th>\n",
       "      <th>Adj Close</th>\n",
       "    </tr>\n",
       "    <tr>\n",
       "      <th>Date</th>\n",
       "      <th></th>\n",
       "      <th></th>\n",
       "      <th></th>\n",
       "      <th></th>\n",
       "      <th></th>\n",
       "      <th></th>\n",
       "    </tr>\n",
       "  </thead>\n",
       "  <tbody>\n",
       "    <tr>\n",
       "      <th>2019-01-02</th>\n",
       "      <td>612.000000</td>\n",
       "      <td>595.010010</td>\n",
       "      <td>609.979980</td>\n",
       "      <td>598.979980</td>\n",
       "      <td>6228649.0</td>\n",
       "      <td>583.424377</td>\n",
       "    </tr>\n",
       "    <tr>\n",
       "      <th>2019-01-03</th>\n",
       "      <td>601.659973</td>\n",
       "      <td>585.799988</td>\n",
       "      <td>599.969971</td>\n",
       "      <td>590.000000</td>\n",
       "      <td>3097735.0</td>\n",
       "      <td>574.677612</td>\n",
       "    </tr>\n",
       "    <tr>\n",
       "      <th>2019-01-04</th>\n",
       "      <td>607.669983</td>\n",
       "      <td>582.020020</td>\n",
       "      <td>587.280029</td>\n",
       "      <td>602.000000</td>\n",
       "      <td>3768347.0</td>\n",
       "      <td>586.366028</td>\n",
       "    </tr>\n",
       "    <tr>\n",
       "      <th>2019-01-07</th>\n",
       "      <td>610.299988</td>\n",
       "      <td>602.219971</td>\n",
       "      <td>587.280029</td>\n",
       "      <td>605.489990</td>\n",
       "      <td>3475013.0</td>\n",
       "      <td>589.765381</td>\n",
       "    </tr>\n",
       "    <tr>\n",
       "      <th>2019-01-08</th>\n",
       "      <td>612.000000</td>\n",
       "      <td>600.280029</td>\n",
       "      <td>605.500000</td>\n",
       "      <td>604.789978</td>\n",
       "      <td>2883813.0</td>\n",
       "      <td>589.083496</td>\n",
       "    </tr>\n",
       "    <tr>\n",
       "      <th>...</th>\n",
       "      <td>...</td>\n",
       "      <td>...</td>\n",
       "      <td>...</td>\n",
       "      <td>...</td>\n",
       "      <td>...</td>\n",
       "      <td>...</td>\n",
       "    </tr>\n",
       "    <tr>\n",
       "      <th>2020-11-04</th>\n",
       "      <td>1704.000000</td>\n",
       "      <td>1685.000000</td>\n",
       "      <td>1700.000000</td>\n",
       "      <td>1699.579956</td>\n",
       "      <td>1644371.0</td>\n",
       "      <td>1699.579956</td>\n",
       "    </tr>\n",
       "    <tr>\n",
       "      <th>2020-11-05</th>\n",
       "      <td>1732.479980</td>\n",
       "      <td>1712.099976</td>\n",
       "      <td>1717.000000</td>\n",
       "      <td>1721.900024</td>\n",
       "      <td>2352414.0</td>\n",
       "      <td>1721.900024</td>\n",
       "    </tr>\n",
       "    <tr>\n",
       "      <th>2020-11-06</th>\n",
       "      <td>1731.589966</td>\n",
       "      <td>1690.000000</td>\n",
       "      <td>1730.550049</td>\n",
       "      <td>1700.619995</td>\n",
       "      <td>2305153.0</td>\n",
       "      <td>1700.619995</td>\n",
       "    </tr>\n",
       "    <tr>\n",
       "      <th>2020-11-09</th>\n",
       "      <td>1750.680054</td>\n",
       "      <td>1700.619995</td>\n",
       "      <td>1701.380005</td>\n",
       "      <td>1742.569946</td>\n",
       "      <td>4146970.0</td>\n",
       "      <td>1742.569946</td>\n",
       "    </tr>\n",
       "    <tr>\n",
       "      <th>2020-11-10</th>\n",
       "      <td>1753.000000</td>\n",
       "      <td>1736.010010</td>\n",
       "      <td>1752.920044</td>\n",
       "      <td>1741.800049</td>\n",
       "      <td>595358.0</td>\n",
       "      <td>1741.800049</td>\n",
       "    </tr>\n",
       "  </tbody>\n",
       "</table>\n",
       "<p>448 rows × 6 columns</p>\n",
       "</div>"
      ],
      "text/plain": [
       "                   High          Low         Open        Close     Volume  \\\n",
       "Date                                                                        \n",
       "2019-01-02   612.000000   595.010010   609.979980   598.979980  6228649.0   \n",
       "2019-01-03   601.659973   585.799988   599.969971   590.000000  3097735.0   \n",
       "2019-01-04   607.669983   582.020020   587.280029   602.000000  3768347.0   \n",
       "2019-01-07   610.299988   602.219971   587.280029   605.489990  3475013.0   \n",
       "2019-01-08   612.000000   600.280029   605.500000   604.789978  2883813.0   \n",
       "...                 ...          ...          ...          ...        ...   \n",
       "2020-11-04  1704.000000  1685.000000  1700.000000  1699.579956  1644371.0   \n",
       "2020-11-05  1732.479980  1712.099976  1717.000000  1721.900024  2352414.0   \n",
       "2020-11-06  1731.589966  1690.000000  1730.550049  1700.619995  2305153.0   \n",
       "2020-11-09  1750.680054  1700.619995  1701.380005  1742.569946  4146970.0   \n",
       "2020-11-10  1753.000000  1736.010010  1752.920044  1741.800049   595358.0   \n",
       "\n",
       "              Adj Close  \n",
       "Date                     \n",
       "2019-01-02   583.424377  \n",
       "2019-01-03   574.677612  \n",
       "2019-01-04   586.366028  \n",
       "2019-01-07   589.765381  \n",
       "2019-01-08   589.083496  \n",
       "...                 ...  \n",
       "2020-11-04  1699.579956  \n",
       "2020-11-05  1721.900024  \n",
       "2020-11-06  1700.619995  \n",
       "2020-11-09  1742.569946  \n",
       "2020-11-10  1741.800049  \n",
       "\n",
       "[448 rows x 6 columns]"
      ]
     },
     "execution_count": 33,
     "metadata": {},
     "output_type": "execute_result"
    }
   ],
   "source": [
    "stockdf = web.DataReader('600519.SS','yahoo',start='2019-1-1',end='2020-11-11')\n",
    "stockdf"
   ]
  },
  {
   "cell_type": "code",
   "execution_count": 43,
   "metadata": {
    "slideshow": {
     "slide_type": "fragment"
    }
   },
   "outputs": [
    {
     "data": {
      "image/png": "[encoded data removed]",
      "text/plain": [
       "<Figure size 1150x575 with 4 Axes>"
      ]
     },
     "metadata": {},
     "output_type": "display_data"
    }
   ],
   "source": [
    "mc = mpf.make_marketcolors(up='#fe3032', down='#00b060', inherit=True)\n",
    "sty = mpf.make_mpf_style(base_mpf_style='yahoo',marketcolors=mc,rc={'font.family':'HYQuanTangShiJ'})\n",
    "mpf.plot(stockdf,type='candle',style=sty,volume=True,figratio=(12,6),figscale=1,title='贵州茅台600519',tight_layout=True,mav=(5,30))"
   ]
  },
  {
   "cell_type": "markdown",
   "metadata": {
    "slideshow": {
     "slide_type": "slide"
    }
   },
   "source": [
    "### 主观判断从哪儿来？<span class=\"text-muted\">(续)</span>"
   ]
  },
  {
   "cell_type": "markdown",
   "metadata": {
    "slideshow": {
     "slide_type": "fragment"
    }
   },
   "source": [
    "- 国际环境、财经新闻"
   ]
  },
  {
   "cell_type": "markdown",
   "metadata": {
    "slideshow": {
     "slide_type": "fragment"
    }
   },
   "source": [
    "<center><img src=\"./img/introduction/news.jpg\" width=100%></center>"
   ]
  },
  {
   "cell_type": "markdown",
   "metadata": {
    "slideshow": {
     "slide_type": "slide"
    }
   },
   "source": [
    "- 券商的研究报告"
   ]
  },
  {
   "cell_type": "markdown",
   "metadata": {
    "slideshow": {
     "slide_type": "fragment"
    }
   },
   "source": [
    "<center>\n",
    "    <div class=\"row\">\n",
    "        <div class=\"col-md-6\">\n",
    "            <img src=\"./img/introduction/instRep20190.jpg\" width=100%>\n",
    "        </div>\n",
    "        <div class=\"col-md-6\">\n",
    "            <img src=\"./img/introduction/instRep2019.jpg\" width=100%>\n",
    "        </div>\n",
    "    </div>\n",
    "</center>"
   ]
  },
  {
   "cell_type": "markdown",
   "metadata": {
    "slideshow": {
     "slide_type": "slide"
    }
   },
   "source": [
    "- 公司的财务报告"
   ]
  },
  {
   "cell_type": "markdown",
   "metadata": {
    "slideshow": {
     "slide_type": "fragment"
    }
   },
   "source": [
    "<center><img src=\"./img/introduction/financialReport.jpg\" width=100%></center>"
   ]
  },
  {
   "cell_type": "markdown",
   "metadata": {
    "slideshow": {
     "slide_type": "slide"
    }
   },
   "source": [
    "### 主观判断从哪儿来？<span class=\"text-muted\">(续)</span>"
   ]
  },
  {
   "cell_type": "markdown",
   "metadata": {
    "slideshow": {
     "slide_type": "fragment"
    }
   },
   "source": [
    "- 著名人物的演讲"
   ]
  },
  {
   "cell_type": "markdown",
   "metadata": {
    "slideshow": {
     "slide_type": "fragment"
    }
   },
   "source": [
    "<center><img src=\"./img/introduction/people.jpg\" width=100%></center>"
   ]
  },
  {
   "cell_type": "markdown",
   "metadata": {
    "slideshow": {
     "slide_type": "slide"
    }
   },
   "source": [
    "- 论坛、朋友圈等社交媒体"
   ]
  },
  {
   "cell_type": "markdown",
   "metadata": {
    "slideshow": {
     "slide_type": "fragment"
    }
   },
   "source": [
    "<center><img src=\"./img/introduction/snowBall.png\" width=50%></center>"
   ]
  },
  {
   "cell_type": "markdown",
   "metadata": {
    "slideshow": {
     "slide_type": "slide"
    }
   },
   "source": [
    "- 小道消息"
   ]
  },
  {
   "cell_type": "markdown",
   "metadata": {
    "slideshow": {
     "slide_type": "fragment"
    }
   },
   "source": [
    "<center><img src=\"./img/introduction/rumor.png\" width=100%></center>"
   ]
  },
  {
   "cell_type": "markdown",
   "metadata": {
    "slideshow": {
     "slide_type": "slide"
    }
   },
   "source": [
    "### 交易员"
   ]
  },
  {
   "cell_type": "markdown",
   "metadata": {
    "slideshow": {
     "slide_type": "fragment"
    }
   },
   "source": [
    "<dl class=\"row\">\n",
    "    <dt class=\"col-md-4\">交易员(trader)</dt>\n",
    "    <dd class=\"col-md-8\">\n",
    "        <p>在金融市场从事金融资产买卖的个体</p>\n",
    "        <p>可以代表自己、他人，或者机构交易</p>\n",
    "    </dd>\n",
    "<dl>"
   ]
  },
  {
   "cell_type": "markdown",
   "metadata": {
    "slideshow": {
     "slide_type": "fragment"
    }
   },
   "source": [
    "- 交易员应当具有的素质\n",
    "     - 果断\n",
    "     - 谨慎\n",
    "     - 耐得住寂寞\n",
    "     - 能够一定程度上克服人类固有的有限理性(bounded rationality)"
   ]
  },
  {
   "cell_type": "markdown",
   "metadata": {
    "slideshow": {
     "slide_type": "slide"
    }
   },
   "source": [
    "##### 典型的有限理性"
   ]
  },
  {
   "cell_type": "markdown",
   "metadata": {
    "slideshow": {
     "slide_type": "fragment"
    }
   },
   "source": [
    "###### 前景理论(prospect theory)"
   ]
  },
  {
   "cell_type": "markdown",
   "metadata": {
    "slideshow": {
     "slide_type": "fragment"
    }
   },
   "source": [
    "<center><img src=\"./img/introduction/prospecttest.jpeg\" width=100%></center>"
   ]
  },
  {
   "cell_type": "markdown",
   "metadata": {
    "slideshow": {
     "slide_type": "subslide"
    }
   },
   "source": [
    "<center><img src=\"./img/introduction/prospect-theory.jpg\" width=100%></center>"
   ]
  },
  {
   "cell_type": "markdown",
   "metadata": {
    "slideshow": {
     "slide_type": "fragment"
    }
   },
   "source": [
    "- 大多数人在面临**获利**的时候是风险**规避**的"
   ]
  },
  {
   "cell_type": "markdown",
   "metadata": {
    "slideshow": {
     "slide_type": "fragment"
    }
   },
   "source": [
    "- 大多数人在面临**损失**的时候是风险**偏好**的"
   ]
  },
  {
   "cell_type": "markdown",
   "metadata": {
    "slideshow": {
     "slide_type": "fragment"
    }
   },
   "source": [
    "- 大多数人在损失的时候比盈利的时候更愿意承受风险，愿意承受较长时间的损失和较短时间的盈利"
   ]
  },
  {
   "cell_type": "markdown",
   "metadata": {
    "slideshow": {
     "slide_type": "slide"
    }
   },
   "source": [
    "###### 过度自信(overconfidence)"
   ]
  },
  {
   "cell_type": "markdown",
   "metadata": {
    "slideshow": {
     "slide_type": "fragment"
    }
   },
   "source": [
    "<center><img src=\"./img/introduction/overconfidence.png\" width=40%></center>"
   ]
  },
  {
   "cell_type": "markdown",
   "metadata": {
    "slideshow": {
     "slide_type": "fragment"
    }
   },
   "source": [
    "- 高估自己的技术、能力，认为真实的自己比现在的自己要好"
   ]
  },
  {
   "cell_type": "markdown",
   "metadata": {
    "slideshow": {
     "slide_type": "subslide"
    }
   },
   "source": [
    "- 表现\n",
    "    - 高于平均水平(better than average)\n",
    "    - 一切尽在掌控(illusion of control)\n",
    "    - 乐观的时间估计(timing optimism)：高估自己能在限定时间内完成任务，却低估任务需要花费的真实时间\n",
    "    - 需求效应(desirability effect)：高估自己希望发生的结果的出现概率"
   ]
  },
  {
   "cell_type": "markdown",
   "metadata": {
    "slideshow": {
     "slide_type": "slide"
    }
   },
   "source": [
    "###### 代表性法则(representativeness heuristic)"
   ]
  },
  {
   "cell_type": "markdown",
   "metadata": {
    "slideshow": {
     "slide_type": "fragment"
    }
   },
   "source": [
    "<center><img src=\"./img/introduction/represent.png\" width=100%></center>"
   ]
  },
  {
   "cell_type": "markdown",
   "metadata": {
    "slideshow": {
     "slide_type": "fragment"
    }
   },
   "source": [
    "- 基于面对的情况与我们头脑中的原型(prototype)之间的相似程度做出决策"
   ]
  },
  {
   "cell_type": "markdown",
   "metadata": {
    "slideshow": {
     "slide_type": "slide"
    }
   },
   "source": [
    "###### 锚定效应(anchoring effects)"
   ]
  },
  {
   "cell_type": "markdown",
   "metadata": {
    "slideshow": {
     "slide_type": "fragment"
    }
   },
   "source": [
    "<center><img src=\"./img/introduction/anchoring.jfif\" width=50%></center>"
   ]
  },
  {
   "cell_type": "markdown",
   "metadata": {
    "slideshow": {
     "slide_type": "fragment"
    }
   },
   "source": [
    "- 当需要对某个事件做定量估计时，会将某些**特定数值**作为起始值，起始值像锚一样**制约**着估计值。在做决策的时候，会不自觉地给予**最初**获得的信息过多的重视"
   ]
  },
  {
   "cell_type": "markdown",
   "metadata": {
    "slideshow": {
     "slide_type": "slide"
    }
   },
   "source": [
    "## 量化交易的特点"
   ]
  },
  {
   "cell_type": "markdown",
   "metadata": {
    "slideshow": {
     "slide_type": "fragment"
    }
   },
   "source": [
    "- 方法科学，建立在数学模型与大规模数据回测实验基础之上"
   ]
  },
  {
   "cell_type": "markdown",
   "metadata": {
    "slideshow": {
     "slide_type": "fragment"
    }
   },
   "source": [
    "- 纪律性强，剔除人为不稳定因素"
   ]
  },
  {
   "cell_type": "markdown",
   "metadata": {
    "slideshow": {
     "slide_type": "fragment"
    }
   },
   "source": [
    "- 响应迅速，计算机执行可以达到纳秒级别，而大脑判断到手指敲在键盘的反应时间是几百毫秒"
   ]
  },
  {
   "cell_type": "markdown",
   "metadata": {
    "slideshow": {
     "slide_type": "fragment"
    }
   },
   "source": [
    "- 自动化连续交易"
   ]
  },
  {
   "cell_type": "markdown",
   "metadata": {
    "slideshow": {
     "slide_type": "slide"
    }
   },
   "source": [
    "## 量化交易研究假设"
   ]
  },
  {
   "cell_type": "markdown",
   "metadata": {
    "slideshow": {
     "slide_type": "fragment"
    }
   },
   "source": [
    "- 交易策略，<span class=\"text-danger\"><strong>量化交易的核心</strong></span>\n",
    "    - 被动交易策略 v.s. 主动交易策略：市场有效假说是否成立"
   ]
  },
  {
   "cell_type": "markdown",
   "metadata": {
    "slideshow": {
     "slide_type": "fragment"
    }
   },
   "source": [
    "<center><img src=\"./img/introduction/hs300.png\" width=80%></center>"
   ]
  },
  {
   "cell_type": "markdown",
   "metadata": {
    "slideshow": {
     "slide_type": "slide"
    }
   },
   "source": [
    "##### 有效市场假说"
   ]
  },
  {
   "cell_type": "markdown",
   "metadata": {
    "slideshow": {
     "slide_type": "fragment"
    }
   },
   "source": [
    "- 有效市场假说（efficient market hypothesis）在1965年由尤金·法玛（Eugene Fama，美国芝加哥大学教授）提出"
   ]
  },
  {
   "cell_type": "markdown",
   "metadata": {
    "slideshow": {
     "slide_type": "fragment"
    }
   },
   "source": [
    "<center><img src=\"./img/introduction/fama1.jpg\" width=20%></center>\n",
    "<p class=\"text text-danger h3\">the father of modern finance</p>"
   ]
  },
  {
   "cell_type": "markdown",
   "metadata": {
    "slideshow": {
     "slide_type": "slide"
    }
   },
   "source": [
    "> 股票价格反映了所有的信息，因此，从长期来看投资者**不能**获得超过一般水平的回报"
   ]
  },
  {
   "cell_type": "markdown",
   "metadata": {
    "slideshow": {
     "slide_type": "fragment"
    }
   },
   "source": [
    "- 股票价格总是按照公允价值在交易\n",
    "- 投资者**不能**发现低估或者高估的股票\n",
    "- 不能通过**选股**或者**择时**获取超额回报\n",
    "- 技术分析和基本面分析都是无效的"
   ]
  },
  {
   "cell_type": "markdown",
   "metadata": {
    "slideshow": {
     "slide_type": "subslide"
    }
   },
   "source": [
    "> 把一只猴子的眼睛蒙起来，让它通过乱扔飞镖去选股票，其回报都能和基金经理差不多"
   ]
  },
  {
   "cell_type": "markdown",
   "metadata": {
    "slideshow": {
     "slide_type": "fragment"
    }
   },
   "source": [
    "<center><img src=\"./img/introduction/emh.jpg\" width=50%></center>"
   ]
  },
  {
   "cell_type": "markdown",
   "metadata": {
    "slideshow": {
     "slide_type": "slide"
    }
   },
   "source": [
    "## 量化交易的发展现状"
   ]
  },
  {
   "cell_type": "markdown",
   "metadata": {
    "slideshow": {
     "slide_type": "fragment"
    }
   },
   "source": [
    "<center><img src=\"./img/introduction/quantNow.png\" width=100%></center>"
   ]
  }
 ],
 "metadata": {
  "celltoolbar": "Slideshow",
  "hide_input": false,
  "kernelspec": {
   "display_name": "Python 3",
   "language": "python",
   "name": "python3"
  },
  "language_info": {
   "codemirror_mode": {
    "name": "ipython",
    "version": 3
   },
   "file_extension": ".py",
   "mimetype": "text/x-python",
   "name": "python",
   "nbconvert_exporter": "python",
   "pygments_lexer": "ipython3",
   "version": "3.6.8"
  },
  "toc": {
   "base_numbering": 1,
   "nav_menu": {},
   "number_sections": true,
   "sideBar": true,
   "skip_h1_title": false,
   "title_cell": "Table of Contents",
   "title_sidebar": "Contents",
   "toc_cell": false,
   "toc_position": {
    "height": "calc(100% - 180px)",
    "left": "10px",
    "top": "150px",
    "width": "237.057px"
   },
   "toc_section_display": true,
   "toc_window_display": false
  }
 },
 "nbformat": 4,
 "nbformat_minor": 4
}
