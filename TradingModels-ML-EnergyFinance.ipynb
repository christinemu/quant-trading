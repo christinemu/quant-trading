{
 "cells": [
  {
   "cell_type": "code",
   "execution_count": 1,
   "metadata": {
    "init_cell": true,
    "slideshow": {
     "slide_type": "notes"
    }
   },
   "outputs": [
    {
     "name": "stderr",
     "output_type": "stream",
     "text": [
      "/home/VENV36/lib/python3.6/site-packages/pandas/compat/__init__.py:117: UserWarning: Could not import the lzma module. Your installed Python is incomplete. Attempting to use lzma compression will result in a RuntimeError.\n",
      "  warnings.warn(msg)\n"
     ]
    }
   ],
   "source": [
    "import pandas as pd\n",
    "import numpy as np\n",
    "import matplotlib.pyplot as plt\n",
    "from mpl_toolkits.mplot3d import Axes3D\n",
    "import mplfinance as mpf\n",
    "import talib\n",
    "from sklearn import tree, ensemble, model_selection, cluster, metrics\n",
    "from sklearn.feature_extraction import text\n",
    "import jieba\n",
    "from IPython.display import display\n",
    "from IPython.core.interactiveshell import InteractiveShell\n",
    "InteractiveShell.ast_node_interactivity = \"all\""
   ]
  },
  {
   "cell_type": "markdown",
   "metadata": {
    "slideshow": {
     "slide_type": "slide"
    }
   },
   "source": [
    "<div class=\"jumbotron\">\n",
    "    <p class=\"display-1 h1\">Alpha模型——数据驱动</p>\n",
    "    <hr class=\"my-4\">\n",
    "    <p>主讲：李岩</p>\n",
    "    <p>管理学院</p>\n",
    "    <p>liyan@cumtb.edu.cn</p>\n",
    "</div>"
   ]
  },
  {
   "cell_type": "markdown",
   "metadata": {
    "slideshow": {
     "slide_type": "slide"
    }
   },
   "source": [
    "# 数据挖掘基础"
   ]
  },
  {
   "cell_type": "markdown",
   "metadata": {
    "slideshow": {
     "slide_type": "fragment"
    }
   },
   "source": [
    "## 数据挖掘"
   ]
  },
  {
   "cell_type": "markdown",
   "metadata": {
    "slideshow": {
     "slide_type": "fragment"
    }
   },
   "source": [
    "<dl class=\"row alert-info\">\n",
    "    <dt class=\"col-md-3\">数据挖掘</dt>\n",
    "    <dd class=\"col-md-9\">从大量的数据中通过<strong>算法</strong>搜索<strong>隐藏</strong>于其中的信息的过程。</dd>\n",
    "</dl>"
   ]
  },
  {
   "cell_type": "markdown",
   "metadata": {
    "slideshow": {
     "slide_type": "slide"
    }
   },
   "source": [
    "### 挖掘算法分类"
   ]
  },
  {
   "cell_type": "markdown",
   "metadata": {
    "slideshow": {
     "slide_type": "fragment"
    }
   },
   "source": [
    "<center>\n",
    "    <img src=\"./img/dataMining/miningAlgo.png\" width=100%>\n",
    "</center>"
   ]
  },
  {
   "cell_type": "markdown",
   "metadata": {
    "slideshow": {
     "slide_type": "slide"
    }
   },
   "source": [
    "### 数据挖掘建模流程"
   ]
  },
  {
   "cell_type": "markdown",
   "metadata": {
    "slideshow": {
     "slide_type": "fragment"
    }
   },
   "source": [
    "<center><img src=\"./img/dataMining/miningModelling.png\" width=80%></center>"
   ]
  },
  {
   "cell_type": "markdown",
   "metadata": {
    "slideshow": {
     "slide_type": "slide"
    }
   },
   "source": [
    "## `scikit-learn`介绍"
   ]
  },
  {
   "cell_type": "markdown",
   "metadata": {
    "slideshow": {
     "slide_type": "fragment"
    }
   },
   "source": [
    "`scikit-learn`软件包"
   ]
  },
  {
   "cell_type": "markdown",
   "metadata": {
    "slideshow": {
     "slide_type": "fragment"
    }
   },
   "source": [
    "[https://scikit-learn.org/stable/](https://scikit-learn.org/stable/)"
   ]
  },
  {
   "cell_type": "markdown",
   "metadata": {
    "slideshow": {
     "slide_type": "fragment"
    }
   },
   "source": [
    "- `scikit-learn`是`Python`的一个开源机器学习模块，它建立在`NumPy`，`SciPy`和`matplotlib`模块之上"
   ]
  },
  {
   "cell_type": "markdown",
   "metadata": {
    "slideshow": {
     "slide_type": "fragment"
    }
   },
   "source": [
    "- 为用户提供各种机器学习算法接口，可以让用户简单、高效地进行数据挖掘和数据分析"
   ]
  },
  {
   "cell_type": "markdown",
   "metadata": {
    "slideshow": {
     "slide_type": "slide"
    }
   },
   "source": [
    "### `sklearn`数据挖掘一般流程"
   ]
  },
  {
   "cell_type": "markdown",
   "metadata": {
    "slideshow": {
     "slide_type": "fragment"
    }
   },
   "source": [
    "<center><img src=\"./img/dataMining/sklearnApp.png\" width=80%></center>"
   ]
  },
  {
   "cell_type": "markdown",
   "metadata": {
    "slideshow": {
     "slide_type": "slide"
    }
   },
   "source": [
    "## 其他数据挖掘模块"
   ]
  },
  {
   "cell_type": "markdown",
   "metadata": {
    "slideshow": {
     "slide_type": "fragment"
    }
   },
   "source": [
    "- PySpark：针对大数据的数据挖掘与机器学习工具，是`Spark`的`Python`接口"
   ]
  },
  {
   "cell_type": "markdown",
   "metadata": {
    "slideshow": {
     "slide_type": "fragment"
    }
   },
   "source": [
    "- Apache `Spark`\n",
    "    + `Spark`：专为大规模数据处理而设计的快速通用的计算引擎"
   ]
  },
  {
   "cell_type": "markdown",
   "metadata": {
    "slideshow": {
     "slide_type": "fragment"
    }
   },
   "source": [
    "- 官网：[http://spark.apache.org/docs/latest/api/python/index.html](http://spark.apache.org/docs/latest/api/python/index.html)"
   ]
  },
  {
   "cell_type": "markdown",
   "metadata": {
    "slideshow": {
     "slide_type": "fragment"
    }
   },
   "source": [
    "- 学习链接：[http://codingdict.com/article/8888](http://codingdict.com/article/8888)"
   ]
  },
  {
   "cell_type": "markdown",
   "metadata": {
    "slideshow": {
     "slide_type": "fragment"
    }
   },
   "source": [
    "- Tensorflow：开源机器学习平台"
   ]
  },
  {
   "cell_type": "markdown",
   "metadata": {
    "slideshow": {
     "slide_type": "fragment"
    }
   },
   "source": [
    "- 官网：[https://tensorflow.google.cn/](https://tensorflow.google.cn/)"
   ]
  },
  {
   "cell_type": "markdown",
   "metadata": {
    "slideshow": {
     "slide_type": "slide"
    }
   },
   "source": [
    "# 分类模型"
   ]
  },
  {
   "cell_type": "markdown",
   "metadata": {
    "slideshow": {
     "slide_type": "slide"
    }
   },
   "source": [
    "## 基本概念"
   ]
  },
  {
   "cell_type": "markdown",
   "metadata": {
    "slideshow": {
     "slide_type": "fragment"
    }
   },
   "source": [
    "### 分类（classification） "
   ]
  },
  {
   "cell_type": "markdown",
   "metadata": {
    "slideshow": {
     "slide_type": "fragment"
    }
   },
   "source": [
    "- 给定一条记录$(\\boldsymbol{x}, y)$，其中，$y$是分类属性或者目标属性，$\\boldsymbol{x}$是该记录预测属性的集合"
   ]
  },
  {
   "cell_type": "markdown",
   "metadata": {
    "slideshow": {
     "slide_type": "fragment"
    }
   },
   "source": [
    "- 通过学习得到一个**目标函数**（target function）$f$，把每个属性集$\\boldsymbol{x}$映射到一个预先定义的**类标签**$y$"
   ]
  },
  {
   "cell_type": "markdown",
   "metadata": {
    "slideshow": {
     "slide_type": "fragment"
    }
   },
   "source": [
    "$$\n",
    "y = f(\\boldsymbol{x})\n",
    "$$"
   ]
  },
  {
   "cell_type": "markdown",
   "metadata": {
    "slideshow": {
     "slide_type": "fragment"
    }
   },
   "source": [
    "- 目标函数也被称作**分类模型**（classification model）"
   ]
  },
  {
   "cell_type": "markdown",
   "metadata": {
    "slideshow": {
     "slide_type": "slide"
    }
   },
   "source": [
    "### 建立分类模型的一般方法"
   ]
  },
  {
   "cell_type": "markdown",
   "metadata": {
    "slideshow": {
     "slide_type": "fragment"
    }
   },
   "source": [
    "<center><img src=\"./img/dataMining/classificationProcess.png\" width=80%></center>"
   ]
  },
  {
   "cell_type": "markdown",
   "metadata": {
    "slideshow": {
     "slide_type": "slide"
    }
   },
   "source": [
    "#### 训练集与检验集"
   ]
  },
  {
   "cell_type": "markdown",
   "metadata": {
    "slideshow": {
     "slide_type": "fragment"
    }
   },
   "source": [
    "- 训练集（training set）：由类标签已知的数据记录组成，用于建立分类模型"
   ]
  },
  {
   "cell_type": "markdown",
   "metadata": {
    "slideshow": {
     "slide_type": "fragment"
    }
   },
   "source": [
    "- 检验集（test set）：用来检验分类规则的数据记录集合"
   ]
  },
  {
   "cell_type": "markdown",
   "metadata": {
    "slideshow": {
     "slide_type": "fragment"
    }
   },
   "source": [
    "#### 分类算法"
   ]
  },
  {
   "cell_type": "markdown",
   "metadata": {
    "slideshow": {
     "slide_type": "fragment"
    }
   },
   "source": [
    "+ k最近邻分类\n",
    "+ 决策树\n",
    "+ 朴素贝叶斯分类\n",
    "+ 逻辑回归\n",
    "+ 神经网络\n",
    "+ 支持向量机\n",
    "+ 随机森林"
   ]
  },
  {
   "cell_type": "markdown",
   "metadata": {
    "slideshow": {
     "slide_type": "slide"
    }
   },
   "source": [
    "## 决策树"
   ]
  },
  {
   "cell_type": "markdown",
   "metadata": {
    "slideshow": {
     "slide_type": "slide"
    }
   },
   "source": [
    "### 基本概念"
   ]
  },
  {
   "cell_type": "markdown",
   "metadata": {
    "cell_style": "split",
    "slideshow": {
     "slide_type": "fragment"
    }
   },
   "source": [
    "<center><img src=\"./img/dataMining/classificationSample.gv.svg\" with=100%></center>"
   ]
  },
  {
   "cell_type": "markdown",
   "metadata": {
    "cell_style": "split",
    "slideshow": {
     "slide_type": "fragment"
    }
   },
   "source": [
    "<center><img src=\"./img/dataMining/decisionTreeC.gv.svg\" with=60%></center>"
   ]
  },
  {
   "cell_type": "markdown",
   "metadata": {
    "slideshow": {
     "slide_type": "slide"
    }
   },
   "source": [
    "### `sklearn`实现 "
   ]
  },
  {
   "cell_type": "markdown",
   "metadata": {
    "slideshow": {
     "slide_type": "slide"
    }
   },
   "source": [
    "#### 建立模型"
   ]
  },
  {
   "cell_type": "markdown",
   "metadata": {
    "slideshow": {
     "slide_type": "fragment"
    }
   },
   "source": [
    "```python\n",
    "from sklearn import tree\n",
    "tree.DecisionTreeClassifier(criterion='gini'）\n",
    "```\n",
    "- `criterion`：`str`类型，不纯性的度量，可以是`gini`和`entropy`，默认是`gini`"
   ]
  },
  {
   "cell_type": "markdown",
   "metadata": {
    "slideshow": {
     "slide_type": "fragment"
    }
   },
   "source": [
    "- 生成的决策树的属性（Attributes）\n",
    "    + `classes_ `：由类标签构成的数组\n",
    "    + `n_classes_`：`int`，类别的数量\n",
    "    + `tree_`：建立的决策树"
   ]
  },
  {
   "cell_type": "code",
   "execution_count": 96,
   "metadata": {
    "slideshow": {
     "slide_type": "fragment"
    }
   },
   "outputs": [
    {
     "data": {
      "text/plain": [
       "DecisionTreeClassifier(ccp_alpha=0.0, class_weight=None, criterion='gini',\n",
       "                       max_depth=None, max_features=None, max_leaf_nodes=None,\n",
       "                       min_impurity_decrease=0.0, min_impurity_split=None,\n",
       "                       min_samples_leaf=1, min_samples_split=2,\n",
       "                       min_weight_fraction_leaf=0.0, presort='deprecated',\n",
       "                       random_state=None, splitter='best')"
      ]
     },
     "execution_count": 96,
     "metadata": {},
     "output_type": "execute_result"
    }
   ],
   "source": [
    "from sklearn import tree\n",
    "dt = tree.DecisionTreeClassifier()\n",
    "dt"
   ]
  },
  {
   "cell_type": "markdown",
   "metadata": {
    "slideshow": {
     "slide_type": "slide"
    }
   },
   "source": [
    "##### **One-Hot Encoding**：将标称属性转换成二元属性"
   ]
  },
  {
   "cell_type": "markdown",
   "metadata": {
    "slideshow": {
     "slide_type": "fragment"
    }
   },
   "source": [
    "> `DecisionTreeClassifer`只支持数值型预测属性\n",
    "- 但是对类别标签没有要求"
   ]
  },
  {
   "cell_type": "markdown",
   "metadata": {
    "slideshow": {
     "slide_type": "fragment"
    }
   },
   "source": [
    "```python\n",
    "pandas.get_dummies(data, columns=None)\n",
    "```\n",
    "- `data`：`Series`类型，或者`DataFrame`类型\n",
    "- `columns`：列名的`list`类型，数据集中哪些列需要转换，默认是将数据集中所有列进行转换\n",
    "- 返回值：由二元化的属性构成的`DataFrame`"
   ]
  },
  {
   "cell_type": "markdown",
   "metadata": {
    "slideshow": {
     "slide_type": "slide"
    }
   },
   "source": [
    "##### one-hot编码"
   ]
  },
  {
   "cell_type": "code",
   "execution_count": 101,
   "metadata": {
    "slideshow": {
     "slide_type": "fragment"
    }
   },
   "outputs": [
    {
     "data": {
      "text/html": [
       "<div>\n",
       "<style scoped>\n",
       "    .dataframe tbody tr th:only-of-type {\n",
       "        vertical-align: middle;\n",
       "    }\n",
       "\n",
       "    .dataframe tbody tr th {\n",
       "        vertical-align: top;\n",
       "    }\n",
       "\n",
       "    .dataframe thead th {\n",
       "        text-align: right;\n",
       "    }\n",
       "</style>\n",
       "<table border=\"1\" class=\"dataframe\">\n",
       "  <thead>\n",
       "    <tr style=\"text-align: right;\">\n",
       "      <th></th>\n",
       "      <th>Pclass</th>\n",
       "      <th>Sex</th>\n",
       "      <th>Age</th>\n",
       "      <th>SibSp</th>\n",
       "      <th>Parch</th>\n",
       "      <th>Fare</th>\n",
       "      <th>Embarked</th>\n",
       "    </tr>\n",
       "    <tr>\n",
       "      <th>PassengerId</th>\n",
       "      <th></th>\n",
       "      <th></th>\n",
       "      <th></th>\n",
       "      <th></th>\n",
       "      <th></th>\n",
       "      <th></th>\n",
       "      <th></th>\n",
       "    </tr>\n",
       "  </thead>\n",
       "  <tbody>\n",
       "    <tr>\n",
       "      <th>1</th>\n",
       "      <td>3</td>\n",
       "      <td>male</td>\n",
       "      <td>22.0</td>\n",
       "      <td>1</td>\n",
       "      <td>0</td>\n",
       "      <td>7.2500</td>\n",
       "      <td>S</td>\n",
       "    </tr>\n",
       "    <tr>\n",
       "      <th>2</th>\n",
       "      <td>1</td>\n",
       "      <td>female</td>\n",
       "      <td>38.0</td>\n",
       "      <td>1</td>\n",
       "      <td>0</td>\n",
       "      <td>71.2833</td>\n",
       "      <td>C</td>\n",
       "    </tr>\n",
       "    <tr>\n",
       "      <th>3</th>\n",
       "      <td>3</td>\n",
       "      <td>female</td>\n",
       "      <td>26.0</td>\n",
       "      <td>0</td>\n",
       "      <td>0</td>\n",
       "      <td>7.9250</td>\n",
       "      <td>S</td>\n",
       "    </tr>\n",
       "    <tr>\n",
       "      <th>4</th>\n",
       "      <td>1</td>\n",
       "      <td>female</td>\n",
       "      <td>35.0</td>\n",
       "      <td>1</td>\n",
       "      <td>0</td>\n",
       "      <td>53.1000</td>\n",
       "      <td>S</td>\n",
       "    </tr>\n",
       "    <tr>\n",
       "      <th>5</th>\n",
       "      <td>3</td>\n",
       "      <td>male</td>\n",
       "      <td>35.0</td>\n",
       "      <td>0</td>\n",
       "      <td>0</td>\n",
       "      <td>8.0500</td>\n",
       "      <td>S</td>\n",
       "    </tr>\n",
       "  </tbody>\n",
       "</table>\n",
       "</div>"
      ],
      "text/plain": [
       "             Pclass     Sex   Age  SibSp  Parch     Fare Embarked\n",
       "PassengerId                                                      \n",
       "1                 3    male  22.0      1      0   7.2500        S\n",
       "2                 1  female  38.0      1      0  71.2833        C\n",
       "3                 3  female  26.0      0      0   7.9250        S\n",
       "4                 1  female  35.0      1      0  53.1000        S\n",
       "5                 3    male  35.0      0      0   8.0500        S"
      ]
     },
     "execution_count": 101,
     "metadata": {},
     "output_type": "execute_result"
    }
   ],
   "source": [
    "titX = titDf.iloc[:,:-1]\n",
    "titY = titDf['Survived']\n",
    "titX.head()"
   ]
  },
  {
   "cell_type": "code",
   "execution_count": 102,
   "metadata": {
    "slideshow": {
     "slide_type": "fragment"
    }
   },
   "outputs": [
    {
     "data": {
      "text/html": [
       "<div>\n",
       "<style scoped>\n",
       "    .dataframe tbody tr th:only-of-type {\n",
       "        vertical-align: middle;\n",
       "    }\n",
       "\n",
       "    .dataframe tbody tr th {\n",
       "        vertical-align: top;\n",
       "    }\n",
       "\n",
       "    .dataframe thead th {\n",
       "        text-align: right;\n",
       "    }\n",
       "</style>\n",
       "<table border=\"1\" class=\"dataframe\">\n",
       "  <thead>\n",
       "    <tr style=\"text-align: right;\">\n",
       "      <th></th>\n",
       "      <th>Pclass</th>\n",
       "      <th>Age</th>\n",
       "      <th>SibSp</th>\n",
       "      <th>Parch</th>\n",
       "      <th>Fare</th>\n",
       "      <th>Sex_female</th>\n",
       "      <th>Sex_male</th>\n",
       "      <th>Embarked_C</th>\n",
       "      <th>Embarked_Q</th>\n",
       "      <th>Embarked_S</th>\n",
       "    </tr>\n",
       "    <tr>\n",
       "      <th>PassengerId</th>\n",
       "      <th></th>\n",
       "      <th></th>\n",
       "      <th></th>\n",
       "      <th></th>\n",
       "      <th></th>\n",
       "      <th></th>\n",
       "      <th></th>\n",
       "      <th></th>\n",
       "      <th></th>\n",
       "      <th></th>\n",
       "    </tr>\n",
       "  </thead>\n",
       "  <tbody>\n",
       "    <tr>\n",
       "      <th>1</th>\n",
       "      <td>3</td>\n",
       "      <td>22.0</td>\n",
       "      <td>1</td>\n",
       "      <td>0</td>\n",
       "      <td>7.2500</td>\n",
       "      <td>0</td>\n",
       "      <td>1</td>\n",
       "      <td>0</td>\n",
       "      <td>0</td>\n",
       "      <td>1</td>\n",
       "    </tr>\n",
       "    <tr>\n",
       "      <th>2</th>\n",
       "      <td>1</td>\n",
       "      <td>38.0</td>\n",
       "      <td>1</td>\n",
       "      <td>0</td>\n",
       "      <td>71.2833</td>\n",
       "      <td>1</td>\n",
       "      <td>0</td>\n",
       "      <td>1</td>\n",
       "      <td>0</td>\n",
       "      <td>0</td>\n",
       "    </tr>\n",
       "    <tr>\n",
       "      <th>3</th>\n",
       "      <td>3</td>\n",
       "      <td>26.0</td>\n",
       "      <td>0</td>\n",
       "      <td>0</td>\n",
       "      <td>7.9250</td>\n",
       "      <td>1</td>\n",
       "      <td>0</td>\n",
       "      <td>0</td>\n",
       "      <td>0</td>\n",
       "      <td>1</td>\n",
       "    </tr>\n",
       "    <tr>\n",
       "      <th>4</th>\n",
       "      <td>1</td>\n",
       "      <td>35.0</td>\n",
       "      <td>1</td>\n",
       "      <td>0</td>\n",
       "      <td>53.1000</td>\n",
       "      <td>1</td>\n",
       "      <td>0</td>\n",
       "      <td>0</td>\n",
       "      <td>0</td>\n",
       "      <td>1</td>\n",
       "    </tr>\n",
       "    <tr>\n",
       "      <th>5</th>\n",
       "      <td>3</td>\n",
       "      <td>35.0</td>\n",
       "      <td>0</td>\n",
       "      <td>0</td>\n",
       "      <td>8.0500</td>\n",
       "      <td>0</td>\n",
       "      <td>1</td>\n",
       "      <td>0</td>\n",
       "      <td>0</td>\n",
       "      <td>1</td>\n",
       "    </tr>\n",
       "  </tbody>\n",
       "</table>\n",
       "</div>"
      ],
      "text/plain": [
       "             Pclass   Age  SibSp  Parch     Fare  Sex_female  Sex_male  \\\n",
       "PassengerId                                                              \n",
       "1                 3  22.0      1      0   7.2500           0         1   \n",
       "2                 1  38.0      1      0  71.2833           1         0   \n",
       "3                 3  26.0      0      0   7.9250           1         0   \n",
       "4                 1  35.0      1      0  53.1000           1         0   \n",
       "5                 3  35.0      0      0   8.0500           0         1   \n",
       "\n",
       "             Embarked_C  Embarked_Q  Embarked_S  \n",
       "PassengerId                                      \n",
       "1                     0           0           1  \n",
       "2                     1           0           0  \n",
       "3                     0           0           1  \n",
       "4                     0           0           1  \n",
       "5                     0           0           1  "
      ]
     },
     "execution_count": 102,
     "metadata": {},
     "output_type": "execute_result"
    }
   ],
   "source": [
    "titXOH = pd.get_dummies(titX,columns=['Sex','Embarked'])\n",
    "titXOH.head()"
   ]
  },
  {
   "cell_type": "markdown",
   "metadata": {
    "slideshow": {
     "slide_type": "slide"
    }
   },
   "source": [
    "### 决策树的剪枝"
   ]
  },
  {
   "cell_type": "markdown",
   "metadata": {
    "slideshow": {
     "slide_type": "fragment"
    }
   },
   "source": [
    "- 为什么需要剪枝？\n",
    "    + 生成的决策树过于复杂，对训练集的过度拟合\n",
    "    + 决策树算法没有考虑数据中存在噪声"
   ]
  },
  {
   "cell_type": "markdown",
   "metadata": {
    "slideshow": {
     "slide_type": "fragment"
    }
   },
   "source": [
    "- 剪枝方法\n",
    "    + 先剪枝\n",
    "    + 后剪枝"
   ]
  },
  {
   "cell_type": "markdown",
   "metadata": {
    "slideshow": {
     "slide_type": "slide"
    }
   },
   "source": [
    "#### 先剪枝（Forward-Pruning）"
   ]
  },
  {
   "cell_type": "markdown",
   "metadata": {
    "slideshow": {
     "slide_type": "fragment"
    }
   },
   "source": [
    "<p class=\"alert alert-info\">提前停止树的构造而对树进行剪枝</p>\n",
    "\n",
    "- 在决策树到达一定高度的情况下就停止树的生长\n",
    "- 到达结点的样本个数小于某一个阈值可停止树的生长"
   ]
  },
  {
   "cell_type": "markdown",
   "metadata": {
    "slideshow": {
     "slide_type": "slide"
    }
   },
   "source": [
    "#### 后剪枝（Post-Pruning）"
   ]
  },
  {
   "cell_type": "markdown",
   "metadata": {
    "slideshow": {
     "slide_type": "fragment"
    }
   },
   "source": [
    "<p class=\"alert alert-danger\">构造完整的决策树，然后用叶结点替换那些置信度不够的结点的子树，该叶结点所应标记的类别为被替换的子树中大多数样本所属的类别。</p>"
   ]
  },
  {
   "cell_type": "markdown",
   "metadata": {
    "slideshow": {
     "slide_type": "slide"
    }
   },
   "source": [
    "## 用决策树分类收益率"
   ]
  },
  {
   "cell_type": "markdown",
   "metadata": {
    "slideshow": {
     "slide_type": "fragment"
    }
   },
   "source": [
    "- 问题：如何预测下一个周期收益率是上升还是下降？"
   ]
  },
  {
   "cell_type": "markdown",
   "metadata": {
    "slideshow": {
     "slide_type": "fragment"
    }
   },
   "source": [
    "### 读入并整理数据"
   ]
  },
  {
   "cell_type": "code",
   "execution_count": 217,
   "metadata": {
    "scrolled": true,
    "slideshow": {
     "slide_type": "fragment"
    }
   },
   "outputs": [
    {
     "data": {
      "text/html": [
       "<div>\n",
       "<style scoped>\n",
       "    .dataframe tbody tr th:only-of-type {\n",
       "        vertical-align: middle;\n",
       "    }\n",
       "\n",
       "    .dataframe tbody tr th {\n",
       "        vertical-align: top;\n",
       "    }\n",
       "\n",
       "    .dataframe thead th {\n",
       "        text-align: right;\n",
       "    }\n",
       "</style>\n",
       "<table border=\"1\" class=\"dataframe\">\n",
       "  <thead>\n",
       "    <tr style=\"text-align: right;\">\n",
       "      <th></th>\n",
       "      <th>ActionDay</th>\n",
       "      <th>Close</th>\n",
       "      <th>High</th>\n",
       "      <th>Low</th>\n",
       "    </tr>\n",
       "  </thead>\n",
       "  <tbody>\n",
       "    <tr>\n",
       "      <th>0</th>\n",
       "      <td>20160104</td>\n",
       "      <td>1775</td>\n",
       "      <td>1806</td>\n",
       "      <td>1773</td>\n",
       "    </tr>\n",
       "    <tr>\n",
       "      <th>1</th>\n",
       "      <td>20160105</td>\n",
       "      <td>1779</td>\n",
       "      <td>1790</td>\n",
       "      <td>1761</td>\n",
       "    </tr>\n",
       "    <tr>\n",
       "      <th>2</th>\n",
       "      <td>20160106</td>\n",
       "      <td>1783</td>\n",
       "      <td>1786</td>\n",
       "      <td>1766</td>\n",
       "    </tr>\n",
       "    <tr>\n",
       "      <th>3</th>\n",
       "      <td>20160107</td>\n",
       "      <td>1772</td>\n",
       "      <td>1786</td>\n",
       "      <td>1747</td>\n",
       "    </tr>\n",
       "    <tr>\n",
       "      <th>4</th>\n",
       "      <td>20160108</td>\n",
       "      <td>1752</td>\n",
       "      <td>1775</td>\n",
       "      <td>1750</td>\n",
       "    </tr>\n",
       "  </tbody>\n",
       "</table>\n",
       "</div>"
      ],
      "text/plain": [
       "   ActionDay  Close  High   Low\n",
       "0   20160104   1775  1806  1773\n",
       "1   20160105   1779  1790  1761\n",
       "2   20160106   1783  1786  1766\n",
       "3   20160107   1772  1786  1747\n",
       "4   20160108   1752  1775  1750"
      ]
     },
     "execution_count": 217,
     "metadata": {},
     "output_type": "execute_result"
    }
   ],
   "source": [
    "rbd = pd.read_csv('./data/strategy/rbDaily.csv')\n",
    "rbd.head()"
   ]
  },
  {
   "cell_type": "code",
   "execution_count": 219,
   "metadata": {
    "slideshow": {
     "slide_type": "fragment"
    }
   },
   "outputs": [
    {
     "data": {
      "text/html": [
       "<div>\n",
       "<style scoped>\n",
       "    .dataframe tbody tr th:only-of-type {\n",
       "        vertical-align: middle;\n",
       "    }\n",
       "\n",
       "    .dataframe tbody tr th {\n",
       "        vertical-align: top;\n",
       "    }\n",
       "\n",
       "    .dataframe thead th {\n",
       "        text-align: right;\n",
       "    }\n",
       "</style>\n",
       "<table border=\"1\" class=\"dataframe\">\n",
       "  <thead>\n",
       "    <tr style=\"text-align: right;\">\n",
       "      <th></th>\n",
       "      <th>Close</th>\n",
       "      <th>High</th>\n",
       "      <th>Low</th>\n",
       "      <th>Open</th>\n",
       "    </tr>\n",
       "    <tr>\n",
       "      <th>ActionDay</th>\n",
       "      <th></th>\n",
       "      <th></th>\n",
       "      <th></th>\n",
       "      <th></th>\n",
       "    </tr>\n",
       "  </thead>\n",
       "  <tbody>\n",
       "    <tr>\n",
       "      <th>2016-01-04</th>\n",
       "      <td>1775</td>\n",
       "      <td>1806</td>\n",
       "      <td>1773</td>\n",
       "      <td>1775</td>\n",
       "    </tr>\n",
       "    <tr>\n",
       "      <th>2016-01-05</th>\n",
       "      <td>1779</td>\n",
       "      <td>1790</td>\n",
       "      <td>1761</td>\n",
       "      <td>1779</td>\n",
       "    </tr>\n",
       "    <tr>\n",
       "      <th>2016-01-06</th>\n",
       "      <td>1783</td>\n",
       "      <td>1786</td>\n",
       "      <td>1766</td>\n",
       "      <td>1783</td>\n",
       "    </tr>\n",
       "    <tr>\n",
       "      <th>2016-01-07</th>\n",
       "      <td>1772</td>\n",
       "      <td>1786</td>\n",
       "      <td>1747</td>\n",
       "      <td>1772</td>\n",
       "    </tr>\n",
       "    <tr>\n",
       "      <th>2016-01-08</th>\n",
       "      <td>1752</td>\n",
       "      <td>1775</td>\n",
       "      <td>1750</td>\n",
       "      <td>1752</td>\n",
       "    </tr>\n",
       "  </tbody>\n",
       "</table>\n",
       "</div>"
      ],
      "text/plain": [
       "            Close  High   Low  Open\n",
       "ActionDay                          \n",
       "2016-01-04   1775  1806  1773  1775\n",
       "2016-01-05   1779  1790  1761  1779\n",
       "2016-01-06   1783  1786  1766  1783\n",
       "2016-01-07   1772  1786  1747  1772\n",
       "2016-01-08   1752  1775  1750  1752"
      ]
     },
     "execution_count": 219,
     "metadata": {},
     "output_type": "execute_result"
    }
   ],
   "source": [
    "rbd['ActionDay'] = pd.to_datetime(rbd['ActionDay'],format='%Y%m%d')\n",
    "rbd.set_index('ActionDay',inplace=True)\n",
    "rbd.head()"
   ]
  },
  {
   "cell_type": "markdown",
   "metadata": {
    "slideshow": {
     "slide_type": "slide"
    }
   },
   "source": [
    "### 构建分类标签"
   ]
  },
  {
   "cell_type": "markdown",
   "metadata": {
    "slideshow": {
     "slide_type": "fragment"
    }
   },
   "source": [
    "- 以日收益率作为分类标签"
   ]
  },
  {
   "cell_type": "code",
   "execution_count": 220,
   "metadata": {
    "slideshow": {
     "slide_type": "fragment"
    }
   },
   "outputs": [
    {
     "data": {
      "text/html": [
       "<div>\n",
       "<style scoped>\n",
       "    .dataframe tbody tr th:only-of-type {\n",
       "        vertical-align: middle;\n",
       "    }\n",
       "\n",
       "    .dataframe tbody tr th {\n",
       "        vertical-align: top;\n",
       "    }\n",
       "\n",
       "    .dataframe thead th {\n",
       "        text-align: right;\n",
       "    }\n",
       "</style>\n",
       "<table border=\"1\" class=\"dataframe\">\n",
       "  <thead>\n",
       "    <tr style=\"text-align: right;\">\n",
       "      <th></th>\n",
       "      <th>Close</th>\n",
       "      <th>High</th>\n",
       "      <th>Low</th>\n",
       "      <th>Open</th>\n",
       "      <th>ret</th>\n",
       "    </tr>\n",
       "    <tr>\n",
       "      <th>ActionDay</th>\n",
       "      <th></th>\n",
       "      <th></th>\n",
       "      <th></th>\n",
       "      <th></th>\n",
       "      <th></th>\n",
       "    </tr>\n",
       "  </thead>\n",
       "  <tbody>\n",
       "    <tr>\n",
       "      <th>2016-01-04</th>\n",
       "      <td>1775</td>\n",
       "      <td>1806</td>\n",
       "      <td>1773</td>\n",
       "      <td>1775</td>\n",
       "      <td>NaN</td>\n",
       "    </tr>\n",
       "    <tr>\n",
       "      <th>2016-01-05</th>\n",
       "      <td>1779</td>\n",
       "      <td>1790</td>\n",
       "      <td>1761</td>\n",
       "      <td>1779</td>\n",
       "      <td>0.002254</td>\n",
       "    </tr>\n",
       "    <tr>\n",
       "      <th>2016-01-06</th>\n",
       "      <td>1783</td>\n",
       "      <td>1786</td>\n",
       "      <td>1766</td>\n",
       "      <td>1783</td>\n",
       "      <td>0.002248</td>\n",
       "    </tr>\n",
       "    <tr>\n",
       "      <th>2016-01-07</th>\n",
       "      <td>1772</td>\n",
       "      <td>1786</td>\n",
       "      <td>1747</td>\n",
       "      <td>1772</td>\n",
       "      <td>-0.006169</td>\n",
       "    </tr>\n",
       "    <tr>\n",
       "      <th>2016-01-08</th>\n",
       "      <td>1752</td>\n",
       "      <td>1775</td>\n",
       "      <td>1750</td>\n",
       "      <td>1752</td>\n",
       "      <td>-0.011287</td>\n",
       "    </tr>\n",
       "  </tbody>\n",
       "</table>\n",
       "</div>"
      ],
      "text/plain": [
       "            Close  High   Low  Open       ret\n",
       "ActionDay                                    \n",
       "2016-01-04   1775  1806  1773  1775       NaN\n",
       "2016-01-05   1779  1790  1761  1779  0.002254\n",
       "2016-01-06   1783  1786  1766  1783  0.002248\n",
       "2016-01-07   1772  1786  1747  1772 -0.006169\n",
       "2016-01-08   1752  1775  1750  1752 -0.011287"
      ]
     },
     "execution_count": 220,
     "metadata": {},
     "output_type": "execute_result"
    }
   ],
   "source": [
    "rbd['ret'] = rbd['Close'].pct_change()\n",
    "rbd.head()"
   ]
  },
  {
   "cell_type": "code",
   "execution_count": 221,
   "metadata": {
    "slideshow": {
     "slide_type": "slide"
    }
   },
   "outputs": [
    {
     "data": {
      "image/png": "[encoded data removed]",
      "text/plain": [
       "<Figure size 1150x575 with 4 Axes>"
      ]
     },
     "metadata": {},
     "output_type": "display_data"
    }
   ],
   "source": [
    "addFig = [mpf.make_addplot(rbd['ret'],panel=1,type='line',color='red',ylabel='Return')]\n",
    "mpf.plot(rbd,type='line',style='yahoo',addplot=addFig,figratio=(12,6),figscale=1)"
   ]
  },
  {
   "cell_type": "code",
   "execution_count": 222,
   "metadata": {},
   "outputs": [
    {
     "data": {
      "text/html": [
       "<div>\n",
       "<style scoped>\n",
       "    .dataframe tbody tr th:only-of-type {\n",
       "        vertical-align: middle;\n",
       "    }\n",
       "\n",
       "    .dataframe tbody tr th {\n",
       "        vertical-align: top;\n",
       "    }\n",
       "\n",
       "    .dataframe thead th {\n",
       "        text-align: right;\n",
       "    }\n",
       "</style>\n",
       "<table border=\"1\" class=\"dataframe\">\n",
       "  <thead>\n",
       "    <tr style=\"text-align: right;\">\n",
       "      <th></th>\n",
       "      <th>Close</th>\n",
       "      <th>High</th>\n",
       "      <th>Low</th>\n",
       "      <th>Open</th>\n",
       "      <th>ret</th>\n",
       "      <th>y</th>\n",
       "    </tr>\n",
       "    <tr>\n",
       "      <th>ActionDay</th>\n",
       "      <th></th>\n",
       "      <th></th>\n",
       "      <th></th>\n",
       "      <th></th>\n",
       "      <th></th>\n",
       "      <th></th>\n",
       "    </tr>\n",
       "  </thead>\n",
       "  <tbody>\n",
       "    <tr>\n",
       "      <th>2016-01-04</th>\n",
       "      <td>1775</td>\n",
       "      <td>1806</td>\n",
       "      <td>1773</td>\n",
       "      <td>1775</td>\n",
       "      <td>NaN</td>\n",
       "      <td>-1</td>\n",
       "    </tr>\n",
       "    <tr>\n",
       "      <th>2016-01-05</th>\n",
       "      <td>1779</td>\n",
       "      <td>1790</td>\n",
       "      <td>1761</td>\n",
       "      <td>1779</td>\n",
       "      <td>0.002254</td>\n",
       "      <td>1</td>\n",
       "    </tr>\n",
       "    <tr>\n",
       "      <th>2016-01-06</th>\n",
       "      <td>1783</td>\n",
       "      <td>1786</td>\n",
       "      <td>1766</td>\n",
       "      <td>1783</td>\n",
       "      <td>0.002248</td>\n",
       "      <td>1</td>\n",
       "    </tr>\n",
       "    <tr>\n",
       "      <th>2016-01-07</th>\n",
       "      <td>1772</td>\n",
       "      <td>1786</td>\n",
       "      <td>1747</td>\n",
       "      <td>1772</td>\n",
       "      <td>-0.006169</td>\n",
       "      <td>-1</td>\n",
       "    </tr>\n",
       "    <tr>\n",
       "      <th>2016-01-08</th>\n",
       "      <td>1752</td>\n",
       "      <td>1775</td>\n",
       "      <td>1750</td>\n",
       "      <td>1752</td>\n",
       "      <td>-0.011287</td>\n",
       "      <td>-1</td>\n",
       "    </tr>\n",
       "  </tbody>\n",
       "</table>\n",
       "</div>"
      ],
      "text/plain": [
       "            Close  High   Low  Open       ret  y\n",
       "ActionDay                                       \n",
       "2016-01-04   1775  1806  1773  1775       NaN -1\n",
       "2016-01-05   1779  1790  1761  1779  0.002254  1\n",
       "2016-01-06   1783  1786  1766  1783  0.002248  1\n",
       "2016-01-07   1772  1786  1747  1772 -0.006169 -1\n",
       "2016-01-08   1752  1775  1750  1752 -0.011287 -1"
      ]
     },
     "execution_count": 222,
     "metadata": {},
     "output_type": "execute_result"
    }
   ],
   "source": [
    "rbd['y'] = np.where(rbd['ret'] > 0,1,-1)\n",
    "rbd.head()"
   ]
  },
  {
   "cell_type": "markdown",
   "metadata": {
    "slideshow": {
     "slide_type": "slide"
    }
   },
   "source": [
    "### 构建分类属性（特征）"
   ]
  },
  {
   "cell_type": "markdown",
   "metadata": {
    "slideshow": {
     "slide_type": "fragment"
    }
   },
   "source": [
    "#### 动量因子"
   ]
  },
  {
   "cell_type": "markdown",
   "metadata": {
    "slideshow": {
     "slide_type": "fragment"
    }
   },
   "source": [
    "- 商品的超额收益在过去7日内的均值"
   ]
  },
  {
   "cell_type": "code",
   "execution_count": 228,
   "metadata": {
    "slideshow": {
     "slide_type": "fragment"
    }
   },
   "outputs": [
    {
     "data": {
      "text/html": [
       "<div>\n",
       "<style scoped>\n",
       "    .dataframe tbody tr th:only-of-type {\n",
       "        vertical-align: middle;\n",
       "    }\n",
       "\n",
       "    .dataframe tbody tr th {\n",
       "        vertical-align: top;\n",
       "    }\n",
       "\n",
       "    .dataframe thead th {\n",
       "        text-align: right;\n",
       "    }\n",
       "</style>\n",
       "<table border=\"1\" class=\"dataframe\">\n",
       "  <thead>\n",
       "    <tr style=\"text-align: right;\">\n",
       "      <th></th>\n",
       "      <th>Close</th>\n",
       "      <th>High</th>\n",
       "      <th>Low</th>\n",
       "      <th>Open</th>\n",
       "      <th>ret</th>\n",
       "      <th>y</th>\n",
       "      <th>mf</th>\n",
       "    </tr>\n",
       "    <tr>\n",
       "      <th>ActionDay</th>\n",
       "      <th></th>\n",
       "      <th></th>\n",
       "      <th></th>\n",
       "      <th></th>\n",
       "      <th></th>\n",
       "      <th></th>\n",
       "      <th></th>\n",
       "    </tr>\n",
       "  </thead>\n",
       "  <tbody>\n",
       "    <tr>\n",
       "      <th>2016-01-04</th>\n",
       "      <td>1775</td>\n",
       "      <td>1806</td>\n",
       "      <td>1773</td>\n",
       "      <td>1775</td>\n",
       "      <td>NaN</td>\n",
       "      <td>-1</td>\n",
       "      <td>NaN</td>\n",
       "    </tr>\n",
       "    <tr>\n",
       "      <th>2016-01-05</th>\n",
       "      <td>1779</td>\n",
       "      <td>1790</td>\n",
       "      <td>1761</td>\n",
       "      <td>1779</td>\n",
       "      <td>0.002254</td>\n",
       "      <td>1</td>\n",
       "      <td>NaN</td>\n",
       "    </tr>\n",
       "    <tr>\n",
       "      <th>2016-01-06</th>\n",
       "      <td>1783</td>\n",
       "      <td>1786</td>\n",
       "      <td>1766</td>\n",
       "      <td>1783</td>\n",
       "      <td>0.002248</td>\n",
       "      <td>1</td>\n",
       "      <td>NaN</td>\n",
       "    </tr>\n",
       "    <tr>\n",
       "      <th>2016-01-07</th>\n",
       "      <td>1772</td>\n",
       "      <td>1786</td>\n",
       "      <td>1747</td>\n",
       "      <td>1772</td>\n",
       "      <td>-0.006169</td>\n",
       "      <td>-1</td>\n",
       "      <td>NaN</td>\n",
       "    </tr>\n",
       "    <tr>\n",
       "      <th>2016-01-08</th>\n",
       "      <td>1752</td>\n",
       "      <td>1775</td>\n",
       "      <td>1750</td>\n",
       "      <td>1752</td>\n",
       "      <td>-0.011287</td>\n",
       "      <td>-1</td>\n",
       "      <td>NaN</td>\n",
       "    </tr>\n",
       "    <tr>\n",
       "      <th>2016-01-09</th>\n",
       "      <td>1754</td>\n",
       "      <td>1756</td>\n",
       "      <td>1748</td>\n",
       "      <td>1754</td>\n",
       "      <td>0.001142</td>\n",
       "      <td>1</td>\n",
       "      <td>NaN</td>\n",
       "    </tr>\n",
       "    <tr>\n",
       "      <th>2016-01-11</th>\n",
       "      <td>1753</td>\n",
       "      <td>1772</td>\n",
       "      <td>1750</td>\n",
       "      <td>1753</td>\n",
       "      <td>-0.000570</td>\n",
       "      <td>-1</td>\n",
       "      <td>NaN</td>\n",
       "    </tr>\n",
       "    <tr>\n",
       "      <th>2016-01-12</th>\n",
       "      <td>1744</td>\n",
       "      <td>1759</td>\n",
       "      <td>1735</td>\n",
       "      <td>1744</td>\n",
       "      <td>-0.005134</td>\n",
       "      <td>-1</td>\n",
       "      <td>-0.002502</td>\n",
       "    </tr>\n",
       "    <tr>\n",
       "      <th>2016-01-13</th>\n",
       "      <td>1740</td>\n",
       "      <td>1748</td>\n",
       "      <td>1736</td>\n",
       "      <td>1740</td>\n",
       "      <td>-0.002294</td>\n",
       "      <td>-1</td>\n",
       "      <td>-0.003152</td>\n",
       "    </tr>\n",
       "    <tr>\n",
       "      <th>2016-01-14</th>\n",
       "      <td>1773</td>\n",
       "      <td>1777</td>\n",
       "      <td>1732</td>\n",
       "      <td>1773</td>\n",
       "      <td>0.018966</td>\n",
       "      <td>1</td>\n",
       "      <td>-0.000764</td>\n",
       "    </tr>\n",
       "    <tr>\n",
       "      <th>2016-01-15</th>\n",
       "      <td>1794</td>\n",
       "      <td>1796</td>\n",
       "      <td>1760</td>\n",
       "      <td>1794</td>\n",
       "      <td>0.011844</td>\n",
       "      <td>1</td>\n",
       "      <td>0.001810</td>\n",
       "    </tr>\n",
       "    <tr>\n",
       "      <th>2016-01-16</th>\n",
       "      <td>1797</td>\n",
       "      <td>1798</td>\n",
       "      <td>1792</td>\n",
       "      <td>1797</td>\n",
       "      <td>0.001672</td>\n",
       "      <td>1</td>\n",
       "      <td>0.003661</td>\n",
       "    </tr>\n",
       "    <tr>\n",
       "      <th>2016-01-18</th>\n",
       "      <td>1826</td>\n",
       "      <td>1832</td>\n",
       "      <td>1793</td>\n",
       "      <td>1826</td>\n",
       "      <td>0.016138</td>\n",
       "      <td>1</td>\n",
       "      <td>0.005803</td>\n",
       "    </tr>\n",
       "    <tr>\n",
       "      <th>2016-01-19</th>\n",
       "      <td>1834</td>\n",
       "      <td>1842</td>\n",
       "      <td>1817</td>\n",
       "      <td>1834</td>\n",
       "      <td>0.004381</td>\n",
       "      <td>1</td>\n",
       "      <td>0.006511</td>\n",
       "    </tr>\n",
       "  </tbody>\n",
       "</table>\n",
       "</div>"
      ],
      "text/plain": [
       "            Close  High   Low  Open       ret  y        mf\n",
       "ActionDay                                                 \n",
       "2016-01-04   1775  1806  1773  1775       NaN -1       NaN\n",
       "2016-01-05   1779  1790  1761  1779  0.002254  1       NaN\n",
       "2016-01-06   1783  1786  1766  1783  0.002248  1       NaN\n",
       "2016-01-07   1772  1786  1747  1772 -0.006169 -1       NaN\n",
       "2016-01-08   1752  1775  1750  1752 -0.011287 -1       NaN\n",
       "2016-01-09   1754  1756  1748  1754  0.001142  1       NaN\n",
       "2016-01-11   1753  1772  1750  1753 -0.000570 -1       NaN\n",
       "2016-01-12   1744  1759  1735  1744 -0.005134 -1 -0.002502\n",
       "2016-01-13   1740  1748  1736  1740 -0.002294 -1 -0.003152\n",
       "2016-01-14   1773  1777  1732  1773  0.018966  1 -0.000764\n",
       "2016-01-15   1794  1796  1760  1794  0.011844  1  0.001810\n",
       "2016-01-16   1797  1798  1792  1797  0.001672  1  0.003661\n",
       "2016-01-18   1826  1832  1793  1826  0.016138  1  0.005803\n",
       "2016-01-19   1834  1842  1817  1834  0.004381  1  0.006511"
      ]
     },
     "execution_count": 228,
     "metadata": {},
     "output_type": "execute_result"
    }
   ],
   "source": [
    "rbd['mf'] = talib.SMA(rbd['ret'],timeperiod=7)\n",
    "rbd.head(14)"
   ]
  },
  {
   "cell_type": "markdown",
   "metadata": {
    "slideshow": {
     "slide_type": "slide"
    }
   },
   "source": [
    "#### 波动率因子"
   ]
  },
  {
   "cell_type": "markdown",
   "metadata": {
    "slideshow": {
     "slide_type": "fragment"
    }
   },
   "source": [
    "- 因子构成：变异系数\n",
    "\\begin{align}\n",
    "  &\\frac{\\sigma^2}{|\\mu|}\\\\\n",
    "  &\\sigma^2=\\frac{1}{D-1}\\sum_{d=1}^D(r_{d,Front}-\\mu)^2\\\\\n",
    "  &\\mu = \\frac{1}{D}\\sum_{d=1}^Dr_{d,Front}\n",
    "\\end{align}"
   ]
  },
  {
   "cell_type": "code",
   "execution_count": 232,
   "metadata": {},
   "outputs": [
    {
     "data": {
      "text/html": [
       "<div>\n",
       "<style scoped>\n",
       "    .dataframe tbody tr th:only-of-type {\n",
       "        vertical-align: middle;\n",
       "    }\n",
       "\n",
       "    .dataframe tbody tr th {\n",
       "        vertical-align: top;\n",
       "    }\n",
       "\n",
       "    .dataframe thead th {\n",
       "        text-align: right;\n",
       "    }\n",
       "</style>\n",
       "<table border=\"1\" class=\"dataframe\">\n",
       "  <thead>\n",
       "    <tr style=\"text-align: right;\">\n",
       "      <th></th>\n",
       "      <th>Close</th>\n",
       "      <th>High</th>\n",
       "      <th>Low</th>\n",
       "      <th>Open</th>\n",
       "      <th>ret</th>\n",
       "      <th>y</th>\n",
       "      <th>mf</th>\n",
       "      <th>vola</th>\n",
       "    </tr>\n",
       "    <tr>\n",
       "      <th>ActionDay</th>\n",
       "      <th></th>\n",
       "      <th></th>\n",
       "      <th></th>\n",
       "      <th></th>\n",
       "      <th></th>\n",
       "      <th></th>\n",
       "      <th></th>\n",
       "      <th></th>\n",
       "    </tr>\n",
       "  </thead>\n",
       "  <tbody>\n",
       "    <tr>\n",
       "      <th>2016-01-04</th>\n",
       "      <td>1775</td>\n",
       "      <td>1806</td>\n",
       "      <td>1773</td>\n",
       "      <td>1775</td>\n",
       "      <td>NaN</td>\n",
       "      <td>-1</td>\n",
       "      <td>NaN</td>\n",
       "      <td>NaN</td>\n",
       "    </tr>\n",
       "    <tr>\n",
       "      <th>2016-01-05</th>\n",
       "      <td>1779</td>\n",
       "      <td>1790</td>\n",
       "      <td>1761</td>\n",
       "      <td>1779</td>\n",
       "      <td>0.002254</td>\n",
       "      <td>1</td>\n",
       "      <td>NaN</td>\n",
       "      <td>NaN</td>\n",
       "    </tr>\n",
       "    <tr>\n",
       "      <th>2016-01-06</th>\n",
       "      <td>1783</td>\n",
       "      <td>1786</td>\n",
       "      <td>1766</td>\n",
       "      <td>1783</td>\n",
       "      <td>0.002248</td>\n",
       "      <td>1</td>\n",
       "      <td>NaN</td>\n",
       "      <td>NaN</td>\n",
       "    </tr>\n",
       "    <tr>\n",
       "      <th>2016-01-07</th>\n",
       "      <td>1772</td>\n",
       "      <td>1786</td>\n",
       "      <td>1747</td>\n",
       "      <td>1772</td>\n",
       "      <td>-0.006169</td>\n",
       "      <td>-1</td>\n",
       "      <td>NaN</td>\n",
       "      <td>NaN</td>\n",
       "    </tr>\n",
       "    <tr>\n",
       "      <th>2016-01-08</th>\n",
       "      <td>1752</td>\n",
       "      <td>1775</td>\n",
       "      <td>1750</td>\n",
       "      <td>1752</td>\n",
       "      <td>-0.011287</td>\n",
       "      <td>-1</td>\n",
       "      <td>NaN</td>\n",
       "      <td>NaN</td>\n",
       "    </tr>\n",
       "    <tr>\n",
       "      <th>2016-01-09</th>\n",
       "      <td>1754</td>\n",
       "      <td>1756</td>\n",
       "      <td>1748</td>\n",
       "      <td>1754</td>\n",
       "      <td>0.001142</td>\n",
       "      <td>1</td>\n",
       "      <td>NaN</td>\n",
       "      <td>NaN</td>\n",
       "    </tr>\n",
       "    <tr>\n",
       "      <th>2016-01-11</th>\n",
       "      <td>1753</td>\n",
       "      <td>1772</td>\n",
       "      <td>1750</td>\n",
       "      <td>1753</td>\n",
       "      <td>-0.000570</td>\n",
       "      <td>-1</td>\n",
       "      <td>NaN</td>\n",
       "      <td>NaN</td>\n",
       "    </tr>\n",
       "    <tr>\n",
       "      <th>2016-01-12</th>\n",
       "      <td>1744</td>\n",
       "      <td>1759</td>\n",
       "      <td>1735</td>\n",
       "      <td>1744</td>\n",
       "      <td>-0.005134</td>\n",
       "      <td>-1</td>\n",
       "      <td>-0.002502</td>\n",
       "      <td>0.009119</td>\n",
       "    </tr>\n",
       "    <tr>\n",
       "      <th>2016-01-13</th>\n",
       "      <td>1740</td>\n",
       "      <td>1748</td>\n",
       "      <td>1736</td>\n",
       "      <td>1740</td>\n",
       "      <td>-0.002294</td>\n",
       "      <td>-1</td>\n",
       "      <td>-0.003152</td>\n",
       "      <td>0.006083</td>\n",
       "    </tr>\n",
       "    <tr>\n",
       "      <th>2016-01-14</th>\n",
       "      <td>1773</td>\n",
       "      <td>1777</td>\n",
       "      <td>1732</td>\n",
       "      <td>1773</td>\n",
       "      <td>0.018966</td>\n",
       "      <td>1</td>\n",
       "      <td>-0.000764</td>\n",
       "      <td>0.103671</td>\n",
       "    </tr>\n",
       "    <tr>\n",
       "      <th>2016-01-15</th>\n",
       "      <td>1794</td>\n",
       "      <td>1796</td>\n",
       "      <td>1760</td>\n",
       "      <td>1794</td>\n",
       "      <td>0.011844</td>\n",
       "      <td>1</td>\n",
       "      <td>0.001810</td>\n",
       "      <td>0.050343</td>\n",
       "    </tr>\n",
       "    <tr>\n",
       "      <th>2016-01-16</th>\n",
       "      <td>1797</td>\n",
       "      <td>1798</td>\n",
       "      <td>1792</td>\n",
       "      <td>1797</td>\n",
       "      <td>0.001672</td>\n",
       "      <td>1</td>\n",
       "      <td>0.003661</td>\n",
       "      <td>0.017256</td>\n",
       "    </tr>\n",
       "    <tr>\n",
       "      <th>2016-01-18</th>\n",
       "      <td>1826</td>\n",
       "      <td>1832</td>\n",
       "      <td>1793</td>\n",
       "      <td>1826</td>\n",
       "      <td>0.016138</td>\n",
       "      <td>1</td>\n",
       "      <td>0.005803</td>\n",
       "      <td>0.013771</td>\n",
       "    </tr>\n",
       "    <tr>\n",
       "      <th>2016-01-19</th>\n",
       "      <td>1834</td>\n",
       "      <td>1842</td>\n",
       "      <td>1817</td>\n",
       "      <td>1834</td>\n",
       "      <td>0.004381</td>\n",
       "      <td>1</td>\n",
       "      <td>0.006511</td>\n",
       "      <td>0.011351</td>\n",
       "    </tr>\n",
       "  </tbody>\n",
       "</table>\n",
       "</div>"
      ],
      "text/plain": [
       "            Close  High   Low  Open       ret  y        mf      vola\n",
       "ActionDay                                                           \n",
       "2016-01-04   1775  1806  1773  1775       NaN -1       NaN       NaN\n",
       "2016-01-05   1779  1790  1761  1779  0.002254  1       NaN       NaN\n",
       "2016-01-06   1783  1786  1766  1783  0.002248  1       NaN       NaN\n",
       "2016-01-07   1772  1786  1747  1772 -0.006169 -1       NaN       NaN\n",
       "2016-01-08   1752  1775  1750  1752 -0.011287 -1       NaN       NaN\n",
       "2016-01-09   1754  1756  1748  1754  0.001142  1       NaN       NaN\n",
       "2016-01-11   1753  1772  1750  1753 -0.000570 -1       NaN       NaN\n",
       "2016-01-12   1744  1759  1735  1744 -0.005134 -1 -0.002502  0.009119\n",
       "2016-01-13   1740  1748  1736  1740 -0.002294 -1 -0.003152  0.006083\n",
       "2016-01-14   1773  1777  1732  1773  0.018966  1 -0.000764  0.103671\n",
       "2016-01-15   1794  1796  1760  1794  0.011844  1  0.001810  0.050343\n",
       "2016-01-16   1797  1798  1792  1797  0.001672  1  0.003661  0.017256\n",
       "2016-01-18   1826  1832  1793  1826  0.016138  1  0.005803  0.013771\n",
       "2016-01-19   1834  1842  1817  1834  0.004381  1  0.006511  0.011351"
      ]
     },
     "execution_count": 232,
     "metadata": {},
     "output_type": "execute_result"
    }
   ],
   "source": [
    "retMu7 = talib.SMA(rbd['ret'],timeperiod=7)\n",
    "retVar7 = talib.VAR(rbd['ret'],timeperiod=7)\n",
    "rbd['vola'] = retVar7/np.abs(retMu7)\n",
    "rbd.head(14)"
   ]
  },
  {
   "cell_type": "markdown",
   "metadata": {
    "slideshow": {
     "slide_type": "slide"
    }
   },
   "source": [
    "#### 价值因子"
   ]
  },
  {
   "cell_type": "markdown",
   "metadata": {
    "slideshow": {
     "slide_type": "fragment"
    }
   },
   "source": [
    "- 因子构成\n",
    "\n",
    "\\begin{equation}\n",
    "  \\ln\\frac{\\frac{1}{D}\\sum_{d=1}^D f_{d,Front}}{f_{t,Front}}\n",
    "\\end{equation}"
   ]
  },
  {
   "cell_type": "code",
   "execution_count": 234,
   "metadata": {
    "slideshow": {
     "slide_type": "fragment"
    }
   },
   "outputs": [
    {
     "data": {
      "text/html": [
       "<div>\n",
       "<style scoped>\n",
       "    .dataframe tbody tr th:only-of-type {\n",
       "        vertical-align: middle;\n",
       "    }\n",
       "\n",
       "    .dataframe tbody tr th {\n",
       "        vertical-align: top;\n",
       "    }\n",
       "\n",
       "    .dataframe thead th {\n",
       "        text-align: right;\n",
       "    }\n",
       "</style>\n",
       "<table border=\"1\" class=\"dataframe\">\n",
       "  <thead>\n",
       "    <tr style=\"text-align: right;\">\n",
       "      <th></th>\n",
       "      <th>Close</th>\n",
       "      <th>High</th>\n",
       "      <th>Low</th>\n",
       "      <th>Open</th>\n",
       "      <th>ret</th>\n",
       "      <th>y</th>\n",
       "      <th>mf</th>\n",
       "      <th>vola</th>\n",
       "      <th>val</th>\n",
       "    </tr>\n",
       "    <tr>\n",
       "      <th>ActionDay</th>\n",
       "      <th></th>\n",
       "      <th></th>\n",
       "      <th></th>\n",
       "      <th></th>\n",
       "      <th></th>\n",
       "      <th></th>\n",
       "      <th></th>\n",
       "      <th></th>\n",
       "      <th></th>\n",
       "    </tr>\n",
       "  </thead>\n",
       "  <tbody>\n",
       "    <tr>\n",
       "      <th>2016-01-04</th>\n",
       "      <td>1775</td>\n",
       "      <td>1806</td>\n",
       "      <td>1773</td>\n",
       "      <td>1775</td>\n",
       "      <td>NaN</td>\n",
       "      <td>-1</td>\n",
       "      <td>NaN</td>\n",
       "      <td>NaN</td>\n",
       "      <td>NaN</td>\n",
       "    </tr>\n",
       "    <tr>\n",
       "      <th>2016-01-05</th>\n",
       "      <td>1779</td>\n",
       "      <td>1790</td>\n",
       "      <td>1761</td>\n",
       "      <td>1779</td>\n",
       "      <td>0.002254</td>\n",
       "      <td>1</td>\n",
       "      <td>NaN</td>\n",
       "      <td>NaN</td>\n",
       "      <td>NaN</td>\n",
       "    </tr>\n",
       "    <tr>\n",
       "      <th>2016-01-06</th>\n",
       "      <td>1783</td>\n",
       "      <td>1786</td>\n",
       "      <td>1766</td>\n",
       "      <td>1783</td>\n",
       "      <td>0.002248</td>\n",
       "      <td>1</td>\n",
       "      <td>NaN</td>\n",
       "      <td>NaN</td>\n",
       "      <td>NaN</td>\n",
       "    </tr>\n",
       "    <tr>\n",
       "      <th>2016-01-07</th>\n",
       "      <td>1772</td>\n",
       "      <td>1786</td>\n",
       "      <td>1747</td>\n",
       "      <td>1772</td>\n",
       "      <td>-0.006169</td>\n",
       "      <td>-1</td>\n",
       "      <td>NaN</td>\n",
       "      <td>NaN</td>\n",
       "      <td>NaN</td>\n",
       "    </tr>\n",
       "    <tr>\n",
       "      <th>2016-01-08</th>\n",
       "      <td>1752</td>\n",
       "      <td>1775</td>\n",
       "      <td>1750</td>\n",
       "      <td>1752</td>\n",
       "      <td>-0.011287</td>\n",
       "      <td>-1</td>\n",
       "      <td>NaN</td>\n",
       "      <td>NaN</td>\n",
       "      <td>NaN</td>\n",
       "    </tr>\n",
       "    <tr>\n",
       "      <th>2016-01-09</th>\n",
       "      <td>1754</td>\n",
       "      <td>1756</td>\n",
       "      <td>1748</td>\n",
       "      <td>1754</td>\n",
       "      <td>0.001142</td>\n",
       "      <td>1</td>\n",
       "      <td>NaN</td>\n",
       "      <td>NaN</td>\n",
       "      <td>NaN</td>\n",
       "    </tr>\n",
       "    <tr>\n",
       "      <th>2016-01-11</th>\n",
       "      <td>1753</td>\n",
       "      <td>1772</td>\n",
       "      <td>1750</td>\n",
       "      <td>1753</td>\n",
       "      <td>-0.000570</td>\n",
       "      <td>-1</td>\n",
       "      <td>NaN</td>\n",
       "      <td>NaN</td>\n",
       "      <td>0.007874</td>\n",
       "    </tr>\n",
       "    <tr>\n",
       "      <th>2016-01-12</th>\n",
       "      <td>1744</td>\n",
       "      <td>1759</td>\n",
       "      <td>1735</td>\n",
       "      <td>1744</td>\n",
       "      <td>-0.005134</td>\n",
       "      <td>-1</td>\n",
       "      <td>-0.002502</td>\n",
       "      <td>0.009119</td>\n",
       "      <td>0.010511</td>\n",
       "    </tr>\n",
       "    <tr>\n",
       "      <th>2016-01-13</th>\n",
       "      <td>1740</td>\n",
       "      <td>1748</td>\n",
       "      <td>1736</td>\n",
       "      <td>1740</td>\n",
       "      <td>-0.002294</td>\n",
       "      <td>-1</td>\n",
       "      <td>-0.003152</td>\n",
       "      <td>0.006083</td>\n",
       "      <td>0.009641</td>\n",
       "    </tr>\n",
       "    <tr>\n",
       "      <th>2016-01-14</th>\n",
       "      <td>1773</td>\n",
       "      <td>1777</td>\n",
       "      <td>1732</td>\n",
       "      <td>1773</td>\n",
       "      <td>0.018966</td>\n",
       "      <td>1</td>\n",
       "      <td>-0.000764</td>\n",
       "      <td>0.103671</td>\n",
       "      <td>-0.009960</td>\n",
       "    </tr>\n",
       "    <tr>\n",
       "      <th>2016-01-15</th>\n",
       "      <td>1794</td>\n",
       "      <td>1796</td>\n",
       "      <td>1760</td>\n",
       "      <td>1794</td>\n",
       "      <td>0.011844</td>\n",
       "      <td>1</td>\n",
       "      <td>0.001810</td>\n",
       "      <td>0.050343</td>\n",
       "      <td>-0.019946</td>\n",
       "    </tr>\n",
       "    <tr>\n",
       "      <th>2016-01-16</th>\n",
       "      <td>1797</td>\n",
       "      <td>1798</td>\n",
       "      <td>1792</td>\n",
       "      <td>1797</td>\n",
       "      <td>0.001672</td>\n",
       "      <td>1</td>\n",
       "      <td>0.003661</td>\n",
       "      <td>0.017256</td>\n",
       "      <td>-0.017968</td>\n",
       "    </tr>\n",
       "    <tr>\n",
       "      <th>2016-01-18</th>\n",
       "      <td>1826</td>\n",
       "      <td>1832</td>\n",
       "      <td>1793</td>\n",
       "      <td>1826</td>\n",
       "      <td>0.016138</td>\n",
       "      <td>1</td>\n",
       "      <td>0.005803</td>\n",
       "      <td>0.013771</td>\n",
       "      <td>-0.028166</td>\n",
       "    </tr>\n",
       "    <tr>\n",
       "      <th>2016-01-19</th>\n",
       "      <td>1834</td>\n",
       "      <td>1842</td>\n",
       "      <td>1817</td>\n",
       "      <td>1834</td>\n",
       "      <td>0.004381</td>\n",
       "      <td>1</td>\n",
       "      <td>0.006511</td>\n",
       "      <td>0.011351</td>\n",
       "      <td>-0.026041</td>\n",
       "    </tr>\n",
       "  </tbody>\n",
       "</table>\n",
       "</div>"
      ],
      "text/plain": [
       "            Close  High   Low  Open       ret  y        mf      vola       val\n",
       "ActionDay                                                                     \n",
       "2016-01-04   1775  1806  1773  1775       NaN -1       NaN       NaN       NaN\n",
       "2016-01-05   1779  1790  1761  1779  0.002254  1       NaN       NaN       NaN\n",
       "2016-01-06   1783  1786  1766  1783  0.002248  1       NaN       NaN       NaN\n",
       "2016-01-07   1772  1786  1747  1772 -0.006169 -1       NaN       NaN       NaN\n",
       "2016-01-08   1752  1775  1750  1752 -0.011287 -1       NaN       NaN       NaN\n",
       "2016-01-09   1754  1756  1748  1754  0.001142  1       NaN       NaN       NaN\n",
       "2016-01-11   1753  1772  1750  1753 -0.000570 -1       NaN       NaN  0.007874\n",
       "2016-01-12   1744  1759  1735  1744 -0.005134 -1 -0.002502  0.009119  0.010511\n",
       "2016-01-13   1740  1748  1736  1740 -0.002294 -1 -0.003152  0.006083  0.009641\n",
       "2016-01-14   1773  1777  1732  1773  0.018966  1 -0.000764  0.103671 -0.009960\n",
       "2016-01-15   1794  1796  1760  1794  0.011844  1  0.001810  0.050343 -0.019946\n",
       "2016-01-16   1797  1798  1792  1797  0.001672  1  0.003661  0.017256 -0.017968\n",
       "2016-01-18   1826  1832  1793  1826  0.016138  1  0.005803  0.013771 -0.028166\n",
       "2016-01-19   1834  1842  1817  1834  0.004381  1  0.006511  0.011351 -0.026041"
      ]
     },
     "execution_count": 234,
     "metadata": {},
     "output_type": "execute_result"
    }
   ],
   "source": [
    "closeMu7 = talib.SMA(rbd['Close'],timeperiod=7)\n",
    "rbd['val'] = np.log(closeMu7/rbd['Close'])\n",
    "rbd.head(14)"
   ]
  },
  {
   "cell_type": "markdown",
   "metadata": {
    "slideshow": {
     "slide_type": "slide"
    }
   },
   "source": [
    "#### 删除含有缺失值的行"
   ]
  },
  {
   "cell_type": "code",
   "execution_count": 235,
   "metadata": {
    "slideshow": {
     "slide_type": "slide"
    }
   },
   "outputs": [
    {
     "data": {
      "text/html": [
       "<div>\n",
       "<style scoped>\n",
       "    .dataframe tbody tr th:only-of-type {\n",
       "        vertical-align: middle;\n",
       "    }\n",
       "\n",
       "    .dataframe tbody tr th {\n",
       "        vertical-align: top;\n",
       "    }\n",
       "\n",
       "    .dataframe thead th {\n",
       "        text-align: right;\n",
       "    }\n",
       "</style>\n",
       "<table border=\"1\" class=\"dataframe\">\n",
       "  <thead>\n",
       "    <tr style=\"text-align: right;\">\n",
       "      <th></th>\n",
       "      <th>Close</th>\n",
       "      <th>High</th>\n",
       "      <th>Low</th>\n",
       "      <th>Open</th>\n",
       "      <th>ret</th>\n",
       "      <th>y</th>\n",
       "      <th>mf</th>\n",
       "      <th>vola</th>\n",
       "      <th>val</th>\n",
       "    </tr>\n",
       "    <tr>\n",
       "      <th>ActionDay</th>\n",
       "      <th></th>\n",
       "      <th></th>\n",
       "      <th></th>\n",
       "      <th></th>\n",
       "      <th></th>\n",
       "      <th></th>\n",
       "      <th></th>\n",
       "      <th></th>\n",
       "      <th></th>\n",
       "    </tr>\n",
       "  </thead>\n",
       "  <tbody>\n",
       "    <tr>\n",
       "      <th>2016-01-12</th>\n",
       "      <td>1744</td>\n",
       "      <td>1759</td>\n",
       "      <td>1735</td>\n",
       "      <td>1744</td>\n",
       "      <td>-0.005134</td>\n",
       "      <td>-1</td>\n",
       "      <td>-0.002502</td>\n",
       "      <td>0.009119</td>\n",
       "      <td>0.010511</td>\n",
       "    </tr>\n",
       "    <tr>\n",
       "      <th>2016-01-13</th>\n",
       "      <td>1740</td>\n",
       "      <td>1748</td>\n",
       "      <td>1736</td>\n",
       "      <td>1740</td>\n",
       "      <td>-0.002294</td>\n",
       "      <td>-1</td>\n",
       "      <td>-0.003152</td>\n",
       "      <td>0.006083</td>\n",
       "      <td>0.009641</td>\n",
       "    </tr>\n",
       "    <tr>\n",
       "      <th>2016-01-14</th>\n",
       "      <td>1773</td>\n",
       "      <td>1777</td>\n",
       "      <td>1732</td>\n",
       "      <td>1773</td>\n",
       "      <td>0.018966</td>\n",
       "      <td>1</td>\n",
       "      <td>-0.000764</td>\n",
       "      <td>0.103671</td>\n",
       "      <td>-0.009960</td>\n",
       "    </tr>\n",
       "    <tr>\n",
       "      <th>2016-01-15</th>\n",
       "      <td>1794</td>\n",
       "      <td>1796</td>\n",
       "      <td>1760</td>\n",
       "      <td>1794</td>\n",
       "      <td>0.011844</td>\n",
       "      <td>1</td>\n",
       "      <td>0.001810</td>\n",
       "      <td>0.050343</td>\n",
       "      <td>-0.019946</td>\n",
       "    </tr>\n",
       "    <tr>\n",
       "      <th>2016-01-16</th>\n",
       "      <td>1797</td>\n",
       "      <td>1798</td>\n",
       "      <td>1792</td>\n",
       "      <td>1797</td>\n",
       "      <td>0.001672</td>\n",
       "      <td>1</td>\n",
       "      <td>0.003661</td>\n",
       "      <td>0.017256</td>\n",
       "      <td>-0.017968</td>\n",
       "    </tr>\n",
       "  </tbody>\n",
       "</table>\n",
       "</div>"
      ],
      "text/plain": [
       "            Close  High   Low  Open       ret  y        mf      vola       val\n",
       "ActionDay                                                                     \n",
       "2016-01-12   1744  1759  1735  1744 -0.005134 -1 -0.002502  0.009119  0.010511\n",
       "2016-01-13   1740  1748  1736  1740 -0.002294 -1 -0.003152  0.006083  0.009641\n",
       "2016-01-14   1773  1777  1732  1773  0.018966  1 -0.000764  0.103671 -0.009960\n",
       "2016-01-15   1794  1796  1760  1794  0.011844  1  0.001810  0.050343 -0.019946\n",
       "2016-01-16   1797  1798  1792  1797  0.001672  1  0.003661  0.017256 -0.017968"
      ]
     },
     "execution_count": 235,
     "metadata": {},
     "output_type": "execute_result"
    }
   ],
   "source": [
    "rbd.dropna(inplace=True)\n",
    "rbd.head()"
   ]
  },
  {
   "cell_type": "markdown",
   "metadata": {
    "slideshow": {
     "slide_type": "slide"
    }
   },
   "source": [
    "### 构建决策树模型"
   ]
  },
  {
   "cell_type": "markdown",
   "metadata": {
    "slideshow": {
     "slide_type": "fragment"
    }
   },
   "source": [
    "#### 划分训练集与检验集"
   ]
  },
  {
   "cell_type": "code",
   "execution_count": 237,
   "metadata": {
    "slideshow": {
     "slide_type": "fragment"
    }
   },
   "outputs": [
    {
     "data": {
      "text/html": [
       "<div>\n",
       "<style scoped>\n",
       "    .dataframe tbody tr th:only-of-type {\n",
       "        vertical-align: middle;\n",
       "    }\n",
       "\n",
       "    .dataframe tbody tr th {\n",
       "        vertical-align: top;\n",
       "    }\n",
       "\n",
       "    .dataframe thead th {\n",
       "        text-align: right;\n",
       "    }\n",
       "</style>\n",
       "<table border=\"1\" class=\"dataframe\">\n",
       "  <thead>\n",
       "    <tr style=\"text-align: right;\">\n",
       "      <th></th>\n",
       "      <th>Close</th>\n",
       "      <th>High</th>\n",
       "      <th>Low</th>\n",
       "      <th>Open</th>\n",
       "      <th>ret</th>\n",
       "      <th>y</th>\n",
       "      <th>mf</th>\n",
       "      <th>vola</th>\n",
       "      <th>val</th>\n",
       "    </tr>\n",
       "    <tr>\n",
       "      <th>ActionDay</th>\n",
       "      <th></th>\n",
       "      <th></th>\n",
       "      <th></th>\n",
       "      <th></th>\n",
       "      <th></th>\n",
       "      <th></th>\n",
       "      <th></th>\n",
       "      <th></th>\n",
       "      <th></th>\n",
       "    </tr>\n",
       "  </thead>\n",
       "  <tbody>\n",
       "    <tr>\n",
       "      <th>2016-04-19</th>\n",
       "      <td>2583</td>\n",
       "      <td>2586</td>\n",
       "      <td>2417</td>\n",
       "      <td>2583</td>\n",
       "      <td>0.067355</td>\n",
       "      <td>1</td>\n",
       "      <td>0.017284</td>\n",
       "      <td>0.045053</td>\n",
       "      <td>-0.078974</td>\n",
       "    </tr>\n",
       "    <tr>\n",
       "      <th>2019-05-23</th>\n",
       "      <td>3840</td>\n",
       "      <td>3912</td>\n",
       "      <td>3827</td>\n",
       "      <td>3840</td>\n",
       "      <td>-0.018154</td>\n",
       "      <td>-1</td>\n",
       "      <td>0.006717</td>\n",
       "      <td>0.020877</td>\n",
       "      <td>-0.005334</td>\n",
       "    </tr>\n",
       "    <tr>\n",
       "      <th>2016-05-06</th>\n",
       "      <td>2329</td>\n",
       "      <td>2352</td>\n",
       "      <td>2281</td>\n",
       "      <td>2329</td>\n",
       "      <td>0.009099</td>\n",
       "      <td>1</td>\n",
       "      <td>-0.014395</td>\n",
       "      <td>0.054072</td>\n",
       "      <td>0.048606</td>\n",
       "    </tr>\n",
       "    <tr>\n",
       "      <th>2016-12-21</th>\n",
       "      <td>3155</td>\n",
       "      <td>3199</td>\n",
       "      <td>3093</td>\n",
       "      <td>3155</td>\n",
       "      <td>-0.006612</td>\n",
       "      <td>-1</td>\n",
       "      <td>-0.013092</td>\n",
       "      <td>0.025347</td>\n",
       "      <td>0.034927</td>\n",
       "    </tr>\n",
       "    <tr>\n",
       "      <th>2017-09-08</th>\n",
       "      <td>3854</td>\n",
       "      <td>4038</td>\n",
       "      <td>3853</td>\n",
       "      <td>3854</td>\n",
       "      <td>-0.033116</td>\n",
       "      <td>-1</td>\n",
       "      <td>-0.002395</td>\n",
       "      <td>0.205826</td>\n",
       "      <td>0.041353</td>\n",
       "    </tr>\n",
       "  </tbody>\n",
       "</table>\n",
       "</div>"
      ],
      "text/plain": [
       "            Close  High   Low  Open       ret  y        mf      vola       val\n",
       "ActionDay                                                                     \n",
       "2016-04-19   2583  2586  2417  2583  0.067355  1  0.017284  0.045053 -0.078974\n",
       "2019-05-23   3840  3912  3827  3840 -0.018154 -1  0.006717  0.020877 -0.005334\n",
       "2016-05-06   2329  2352  2281  2329  0.009099  1 -0.014395  0.054072  0.048606\n",
       "2016-12-21   3155  3199  3093  3155 -0.006612 -1 -0.013092  0.025347  0.034927\n",
       "2017-09-08   3854  4038  3853  3854 -0.033116 -1 -0.002395  0.205826  0.041353"
      ]
     },
     "execution_count": 237,
     "metadata": {},
     "output_type": "execute_result"
    },
    {
     "data": {
      "text/html": [
       "<div>\n",
       "<style scoped>\n",
       "    .dataframe tbody tr th:only-of-type {\n",
       "        vertical-align: middle;\n",
       "    }\n",
       "\n",
       "    .dataframe tbody tr th {\n",
       "        vertical-align: top;\n",
       "    }\n",
       "\n",
       "    .dataframe thead th {\n",
       "        text-align: right;\n",
       "    }\n",
       "</style>\n",
       "<table border=\"1\" class=\"dataframe\">\n",
       "  <thead>\n",
       "    <tr style=\"text-align: right;\">\n",
       "      <th></th>\n",
       "      <th>Close</th>\n",
       "      <th>High</th>\n",
       "      <th>Low</th>\n",
       "      <th>Open</th>\n",
       "      <th>ret</th>\n",
       "      <th>y</th>\n",
       "      <th>mf</th>\n",
       "      <th>vola</th>\n",
       "      <th>val</th>\n",
       "    </tr>\n",
       "    <tr>\n",
       "      <th>ActionDay</th>\n",
       "      <th></th>\n",
       "      <th></th>\n",
       "      <th></th>\n",
       "      <th></th>\n",
       "      <th></th>\n",
       "      <th></th>\n",
       "      <th></th>\n",
       "      <th></th>\n",
       "      <th></th>\n",
       "    </tr>\n",
       "  </thead>\n",
       "  <tbody>\n",
       "    <tr>\n",
       "      <th>2016-04-09</th>\n",
       "      <td>2250</td>\n",
       "      <td>2258</td>\n",
       "      <td>2244</td>\n",
       "      <td>2250</td>\n",
       "      <td>0.002227</td>\n",
       "      <td>1</td>\n",
       "      <td>-0.000827</td>\n",
       "      <td>0.440944</td>\n",
       "      <td>-0.011944</td>\n",
       "    </tr>\n",
       "    <tr>\n",
       "      <th>2016-11-28</th>\n",
       "      <td>3204</td>\n",
       "      <td>3238</td>\n",
       "      <td>3140</td>\n",
       "      <td>3204</td>\n",
       "      <td>0.023315</td>\n",
       "      <td>1</td>\n",
       "      <td>0.020670</td>\n",
       "      <td>0.049165</td>\n",
       "      <td>-0.085262</td>\n",
       "    </tr>\n",
       "    <tr>\n",
       "      <th>2020-08-03</th>\n",
       "      <td>3849</td>\n",
       "      <td>3857</td>\n",
       "      <td>3778</td>\n",
       "      <td>3849</td>\n",
       "      <td>0.019333</td>\n",
       "      <td>1</td>\n",
       "      <td>0.002288</td>\n",
       "      <td>0.035636</td>\n",
       "      <td>-0.021155</td>\n",
       "    </tr>\n",
       "    <tr>\n",
       "      <th>2016-04-18</th>\n",
       "      <td>2420</td>\n",
       "      <td>2427</td>\n",
       "      <td>2339</td>\n",
       "      <td>2420</td>\n",
       "      <td>0.041756</td>\n",
       "      <td>1</td>\n",
       "      <td>0.010646</td>\n",
       "      <td>0.035538</td>\n",
       "      <td>-0.031056</td>\n",
       "    </tr>\n",
       "    <tr>\n",
       "      <th>2016-03-10</th>\n",
       "      <td>2109</td>\n",
       "      <td>2198</td>\n",
       "      <td>2068</td>\n",
       "      <td>2109</td>\n",
       "      <td>-0.033012</td>\n",
       "      <td>-1</td>\n",
       "      <td>0.009716</td>\n",
       "      <td>0.195223</td>\n",
       "      <td>-0.006388</td>\n",
       "    </tr>\n",
       "  </tbody>\n",
       "</table>\n",
       "</div>"
      ],
      "text/plain": [
       "            Close  High   Low  Open       ret  y        mf      vola       val\n",
       "ActionDay                                                                     \n",
       "2016-04-09   2250  2258  2244  2250  0.002227  1 -0.000827  0.440944 -0.011944\n",
       "2016-11-28   3204  3238  3140  3204  0.023315  1  0.020670  0.049165 -0.085262\n",
       "2020-08-03   3849  3857  3778  3849  0.019333  1  0.002288  0.035636 -0.021155\n",
       "2016-04-18   2420  2427  2339  2420  0.041756  1  0.010646  0.035538 -0.031056\n",
       "2016-03-10   2109  2198  2068  2109 -0.033012 -1  0.009716  0.195223 -0.006388"
      ]
     },
     "execution_count": 237,
     "metadata": {},
     "output_type": "execute_result"
    }
   ],
   "source": [
    "rbdTrain,rbdTest = train_test_split(rbd,test_size=0.25,random_state=10)\n",
    "rbdTrain.head()\n",
    "rbdTest.head()"
   ]
  },
  {
   "cell_type": "markdown",
   "metadata": {
    "slideshow": {
     "slide_type": "slide"
    }
   },
   "source": [
    "#### 构建并训练决策树"
   ]
  },
  {
   "cell_type": "code",
   "execution_count": 239,
   "metadata": {
    "slideshow": {
     "slide_type": "fragment"
    }
   },
   "outputs": [],
   "source": [
    "rbdTree = tree.DecisionTreeClassifier()"
   ]
  },
  {
   "cell_type": "code",
   "execution_count": 241,
   "metadata": {
    "slideshow": {
     "slide_type": "fragment"
    }
   },
   "outputs": [
    {
     "data": {
      "text/plain": [
       "DecisionTreeClassifier(ccp_alpha=0.0, class_weight=None, criterion='gini',\n",
       "                       max_depth=None, max_features=None, max_leaf_nodes=None,\n",
       "                       min_impurity_decrease=0.0, min_impurity_split=None,\n",
       "                       min_samples_leaf=1, min_samples_split=2,\n",
       "                       min_weight_fraction_leaf=0.0, presort='deprecated',\n",
       "                       random_state=None, splitter='best')"
      ]
     },
     "execution_count": 241,
     "metadata": {},
     "output_type": "execute_result"
    }
   ],
   "source": [
    "rbdTree.fit(rbdTrain.loc[:,['mf','vola','val']],rbdTrain['y'])"
   ]
  },
  {
   "cell_type": "markdown",
   "metadata": {
    "slideshow": {
     "slide_type": "slide"
    }
   },
   "source": [
    "#### 训练集分类效果检验"
   ]
  },
  {
   "cell_type": "code",
   "execution_count": 251,
   "metadata": {
    "slideshow": {
     "slide_type": "fragment"
    }
   },
   "outputs": [],
   "source": [
    "rbdTrainYPre = rbdTree.predict(rbdTrain.loc[:,['mf','vola','val']])"
   ]
  },
  {
   "cell_type": "code",
   "execution_count": 250,
   "metadata": {
    "slideshow": {
     "slide_type": "fragment"
    }
   },
   "outputs": [
    {
     "data": {
      "text/plain": [
       "1.0"
      ]
     },
     "execution_count": 250,
     "metadata": {},
     "output_type": "execute_result"
    }
   ],
   "source": [
    "metrics.accuracy_score(rbdTrain['y'],rbdTrainYPre)"
   ]
  },
  {
   "cell_type": "code",
   "execution_count": 244,
   "metadata": {
    "slideshow": {
     "slide_type": "fragment"
    }
   },
   "outputs": [
    {
     "data": {
      "text/plain": [
       "1.0"
      ]
     },
     "execution_count": 244,
     "metadata": {},
     "output_type": "execute_result"
    }
   ],
   "source": [
    "metrics.f1_score(rbdTrain['y'],rbdTrainYPre,pos_label=1)"
   ]
  },
  {
   "cell_type": "code",
   "execution_count": 245,
   "metadata": {
    "slideshow": {
     "slide_type": "fragment"
    }
   },
   "outputs": [
    {
     "data": {
      "text/plain": [
       "1.0"
      ]
     },
     "execution_count": 245,
     "metadata": {},
     "output_type": "execute_result"
    }
   ],
   "source": [
    "metrics.f1_score(rbdTrain['y'],rbdTrainYPre,pos_label=-1)"
   ]
  },
  {
   "cell_type": "markdown",
   "metadata": {
    "slideshow": {
     "slide_type": "slide"
    }
   },
   "source": [
    "#### 检验集分类效果检验"
   ]
  },
  {
   "cell_type": "code",
   "execution_count": 246,
   "metadata": {
    "slideshow": {
     "slide_type": "fragment"
    }
   },
   "outputs": [],
   "source": [
    "rbdTestYPre = rbdTree.predict(rbdTest.loc[:,['mf','vola','val']])"
   ]
  },
  {
   "cell_type": "code",
   "execution_count": 247,
   "metadata": {
    "slideshow": {
     "slide_type": "fragment"
    }
   },
   "outputs": [
    {
     "data": {
      "text/plain": [
       "0.6083916083916084"
      ]
     },
     "execution_count": 247,
     "metadata": {},
     "output_type": "execute_result"
    }
   ],
   "source": [
    "metrics.accuracy_score(rbdTest['y'],rbdTestYPre)"
   ]
  },
  {
   "cell_type": "code",
   "execution_count": 248,
   "metadata": {
    "slideshow": {
     "slide_type": "fragment"
    }
   },
   "outputs": [
    {
     "data": {
      "text/plain": [
       "0.6137931034482759"
      ]
     },
     "execution_count": 248,
     "metadata": {},
     "output_type": "execute_result"
    }
   ],
   "source": [
    "metrics.f1_score(rbdTest['y'],rbdTestYPre,pos_label=1)"
   ]
  },
  {
   "cell_type": "code",
   "execution_count": 249,
   "metadata": {
    "slideshow": {
     "slide_type": "fragment"
    }
   },
   "outputs": [
    {
     "data": {
      "text/plain": [
       "0.6028368794326241"
      ]
     },
     "execution_count": 249,
     "metadata": {},
     "output_type": "execute_result"
    }
   ],
   "source": [
    "metrics.f1_score(rbdTest['y'],rbdTestYPre,pos_label=-1)"
   ]
  },
  {
   "cell_type": "markdown",
   "metadata": {
    "slideshow": {
     "slide_type": "slide"
    }
   },
   "source": [
    "### 显示决策树"
   ]
  },
  {
   "cell_type": "code",
   "execution_count": 254,
   "metadata": {
    "slideshow": {
     "slide_type": "fragment"
    }
   },
   "outputs": [
    {
     "data": {
      "text/plain": [
       "<Figure size 1200x600 with 0 Axes>"
      ]
     },
     "execution_count": 254,
     "metadata": {},
     "output_type": "execute_result"
    },
    {
     "data": {
      "text/plain": [
       "[Text(460.0856413994169, 449.8421052631579, 'X[2] <= 0.003\\ngini = 0.499\\nsamples = 857\\nvalue = [408, 449]'),\n",
       " Text(249.78498542274053, 425.5263157894737, 'X[2] <= -0.019\\ngini = 0.426\\nsamples = 513\\nvalue = [158, 355]'),\n",
       " Text(75.0710641399417, 401.2105263157895, 'X[0] <= 0.016\\ngini = 0.269\\nsamples = 162\\nvalue = [26, 136]'),\n",
       " Text(36.26457725947522, 376.89473684210526, 'X[2] <= -0.041\\ngini = 0.228\\nsamples = 145\\nvalue = [19, 126]'),\n",
       " Text(30.841836734693878, 352.57894736842104, 'gini = 0.0\\nsamples = 30\\nvalue = [0, 30]'),\n",
       " Text(41.68731778425656, 352.57894736842104, 'X[2] <= -0.039\\ngini = 0.276\\nsamples = 115\\nvalue = [19, 96]'),\n",
       " Text(36.26457725947522, 328.2631578947369, 'gini = 0.0\\nsamples = 2\\nvalue = [2, 0]'),\n",
       " Text(47.1100583090379, 328.2631578947369, 'X[0] <= 0.005\\ngini = 0.256\\nsamples = 113\\nvalue = [17, 96]'),\n",
       " Text(10.845481049562682, 303.9473684210526, 'X[1] <= 0.513\\ngini = 0.056\\nsamples = 35\\nvalue = [1, 34]'),\n",
       " Text(5.422740524781341, 279.63157894736844, 'gini = 0.0\\nsamples = 30\\nvalue = [0, 30]'),\n",
       " Text(16.268221574344025, 279.63157894736844, 'X[2] <= -0.024\\ngini = 0.32\\nsamples = 5\\nvalue = [1, 4]'),\n",
       " Text(10.845481049562682, 255.31578947368422, 'gini = 0.0\\nsamples = 4\\nvalue = [0, 4]'),\n",
       " Text(21.690962099125365, 255.31578947368422, 'gini = 0.0\\nsamples = 1\\nvalue = [1, 0]'),\n",
       " Text(83.37463556851311, 303.9473684210526, 'X[1] <= 0.039\\ngini = 0.326\\nsamples = 78\\nvalue = [16, 62]'),\n",
       " Text(52.87172011661808, 279.63157894736844, 'X[1] <= 0.02\\ngini = 0.254\\nsamples = 67\\nvalue = [10, 57]'),\n",
       " Text(32.53644314868805, 255.31578947368422, 'X[0] <= 0.006\\ngini = 0.149\\nsamples = 37\\nvalue = [3, 34]'),\n",
       " Text(27.113702623906704, 231.00000000000003, 'gini = 0.0\\nsamples = 1\\nvalue = [1, 0]'),\n",
       " Text(37.95918367346939, 231.00000000000003, 'X[2] <= -0.031\\ngini = 0.105\\nsamples = 36\\nvalue = [2, 34]'),\n",
       " Text(32.53644314868805, 206.6842105263158, 'gini = 0.0\\nsamples = 13\\nvalue = [0, 13]'),\n",
       " Text(43.38192419825073, 206.6842105263158, 'X[2] <= -0.031\\ngini = 0.159\\nsamples = 23\\nvalue = [2, 21]'),\n",
       " Text(37.95918367346939, 182.36842105263162, 'gini = 0.0\\nsamples = 1\\nvalue = [1, 0]'),\n",
       " Text(48.80466472303207, 182.36842105263162, 'X[1] <= 0.017\\ngini = 0.087\\nsamples = 22\\nvalue = [1, 21]'),\n",
       " Text(43.38192419825073, 158.0526315789474, 'gini = 0.0\\nsamples = 16\\nvalue = [0, 16]'),\n",
       " Text(54.22740524781341, 158.0526315789474, 'X[1] <= 0.017\\ngini = 0.278\\nsamples = 6\\nvalue = [1, 5]'),\n",
       " Text(48.80466472303207, 133.73684210526318, 'gini = 0.0\\nsamples = 1\\nvalue = [1, 0]'),\n",
       " Text(59.650145772594755, 133.73684210526318, 'gini = 0.0\\nsamples = 5\\nvalue = [0, 5]'),\n",
       " Text(73.2069970845481, 255.31578947368422, 'X[1] <= 0.023\\ngini = 0.358\\nsamples = 30\\nvalue = [7, 23]'),\n",
       " Text(62.36151603498542, 231.00000000000003, 'X[0] <= 0.009\\ngini = 0.444\\nsamples = 3\\nvalue = [2, 1]'),\n",
       " Text(56.93877551020408, 206.6842105263158, 'gini = 0.0\\nsamples = 1\\nvalue = [0, 1]'),\n",
       " Text(67.78425655976676, 206.6842105263158, 'gini = 0.0\\nsamples = 2\\nvalue = [2, 0]'),\n",
       " Text(84.05247813411079, 231.00000000000003, 'X[0] <= 0.006\\ngini = 0.302\\nsamples = 27\\nvalue = [5, 22]'),\n",
       " Text(78.62973760932945, 206.6842105263158, 'gini = 0.0\\nsamples = 8\\nvalue = [0, 8]'),\n",
       " Text(89.47521865889213, 206.6842105263158, 'X[0] <= 0.007\\ngini = 0.388\\nsamples = 19\\nvalue = [5, 14]'),\n",
       " Text(84.05247813411079, 182.36842105263162, 'gini = 0.0\\nsamples = 1\\nvalue = [1, 0]'),\n",
       " Text(94.89795918367346, 182.36842105263162, 'X[2] <= -0.024\\ngini = 0.346\\nsamples = 18\\nvalue = [4, 14]'),\n",
       " Text(81.34110787172011, 158.0526315789474, 'X[1] <= 0.028\\ngini = 0.245\\nsamples = 14\\nvalue = [2, 12]'),\n",
       " Text(70.49562682215743, 133.73684210526318, 'X[1] <= 0.025\\ngini = 0.5\\nsamples = 2\\nvalue = [1, 1]'),\n",
       " Text(65.0728862973761, 109.42105263157896, 'gini = 0.0\\nsamples = 1\\nvalue = [0, 1]'),\n",
       " Text(75.91836734693878, 109.42105263157896, 'gini = 0.0\\nsamples = 1\\nvalue = [1, 0]'),\n",
       " Text(92.1865889212828, 133.73684210526318, 'X[2] <= -0.037\\ngini = 0.153\\nsamples = 12\\nvalue = [1, 11]'),\n",
       " Text(86.76384839650146, 109.42105263157896, 'X[2] <= -0.037\\ngini = 0.375\\nsamples = 4\\nvalue = [1, 3]'),\n",
       " Text(81.34110787172011, 85.10526315789474, 'gini = 0.0\\nsamples = 3\\nvalue = [0, 3]'),\n",
       " Text(92.1865889212828, 85.10526315789474, 'gini = 0.0\\nsamples = 1\\nvalue = [1, 0]'),\n",
       " Text(97.60932944606414, 109.42105263157896, 'gini = 0.0\\nsamples = 8\\nvalue = [0, 8]'),\n",
       " Text(108.45481049562682, 158.0526315789474, 'X[2] <= -0.022\\ngini = 0.5\\nsamples = 4\\nvalue = [2, 2]'),\n",
       " Text(103.03206997084548, 133.73684210526318, 'gini = 0.0\\nsamples = 2\\nvalue = [2, 0]'),\n",
       " Text(113.87755102040816, 133.73684210526318, 'gini = 0.0\\nsamples = 2\\nvalue = [0, 2]'),\n",
       " Text(113.87755102040816, 279.63157894736844, 'X[1] <= 0.042\\ngini = 0.496\\nsamples = 11\\nvalue = [6, 5]'),\n",
       " Text(108.45481049562682, 255.31578947368422, 'gini = 0.0\\nsamples = 2\\nvalue = [2, 0]'),\n",
       " Text(119.30029154518951, 255.31578947368422, 'X[0] <= 0.005\\ngini = 0.494\\nsamples = 9\\nvalue = [4, 5]'),\n",
       " Text(113.87755102040816, 231.00000000000003, 'gini = 0.0\\nsamples = 2\\nvalue = [2, 0]'),\n",
       " Text(124.72303206997084, 231.00000000000003, 'X[0] <= 0.009\\ngini = 0.408\\nsamples = 7\\nvalue = [2, 5]'),\n",
       " Text(119.30029154518951, 206.6842105263158, 'X[1] <= 0.073\\ngini = 0.278\\nsamples = 6\\nvalue = [1, 5]'),\n",
       " Text(113.87755102040816, 182.36842105263162, 'gini = 0.0\\nsamples = 4\\nvalue = [0, 4]'),\n",
       " Text(124.72303206997084, 182.36842105263162, 'X[1] <= 0.121\\ngini = 0.5\\nsamples = 2\\nvalue = [1, 1]'),\n",
       " Text(119.30029154518951, 158.0526315789474, 'gini = 0.0\\nsamples = 1\\nvalue = [1, 0]'),\n",
       " Text(130.1457725947522, 158.0526315789474, 'gini = 0.0\\nsamples = 1\\nvalue = [0, 1]'),\n",
       " Text(130.1457725947522, 206.6842105263158, 'gini = 0.0\\nsamples = 1\\nvalue = [1, 0]'),\n",
       " Text(113.87755102040816, 376.89473684210526, 'X[0] <= 0.017\\ngini = 0.484\\nsamples = 17\\nvalue = [7, 10]'),\n",
       " Text(108.45481049562682, 352.57894736842104, 'gini = 0.0\\nsamples = 5\\nvalue = [5, 0]'),\n",
       " Text(119.30029154518951, 352.57894736842104, 'X[2] <= -0.046\\ngini = 0.278\\nsamples = 12\\nvalue = [2, 10]'),\n",
       " Text(113.87755102040816, 328.2631578947369, 'gini = 0.0\\nsamples = 9\\nvalue = [0, 9]'),\n",
       " Text(124.72303206997084, 328.2631578947369, 'X[2] <= -0.033\\ngini = 0.444\\nsamples = 3\\nvalue = [2, 1]'),\n",
       " Text(119.30029154518951, 303.9473684210526, 'gini = 0.0\\nsamples = 1\\nvalue = [1, 0]'),\n",
       " Text(130.1457725947522, 303.9473684210526, 'X[1] <= 0.05\\ngini = 0.5\\nsamples = 2\\nvalue = [1, 1]'),\n",
       " Text(124.72303206997084, 279.63157894736844, 'gini = 0.0\\nsamples = 1\\nvalue = [0, 1]'),\n",
       " Text(135.56851311953352, 279.63157894736844, 'gini = 0.0\\nsamples = 1\\nvalue = [1, 0]'),\n",
       " Text(424.49890670553935, 401.2105263157895, 'X[0] <= 0.007\\ngini = 0.469\\nsamples = 351\\nvalue = [132, 219]'),\n",
       " Text(350.10568513119534, 376.89473684210526, 'X[0] <= 0.002\\ngini = 0.45\\nsamples = 319\\nvalue = [109, 210]'),\n",
       " Text(273.1705539358601, 352.57894736842104, 'X[2] <= -0.002\\ngini = 0.401\\nsamples = 180\\nvalue = [50, 130]'),\n",
       " Text(207.4198250728863, 328.2631578947369, 'X[1] <= 0.166\\ngini = 0.326\\nsamples = 122\\nvalue = [25, 97]'),\n",
       " Text(154.54810495626822, 303.9473684210526, 'X[1] <= 0.04\\ngini = 0.231\\nsamples = 75\\nvalue = [10, 65]'),\n",
       " Text(149.12536443148687, 279.63157894736844, 'gini = 0.0\\nsamples = 19\\nvalue = [0, 19]'),\n",
       " Text(159.97084548104957, 279.63157894736844, 'X[1] <= 0.049\\ngini = 0.293\\nsamples = 56\\nvalue = [10, 46]'),\n",
       " Text(140.99125364431487, 255.31578947368422, 'X[0] <= -0.001\\ngini = 0.5\\nsamples = 6\\nvalue = [3, 3]'),\n",
       " Text(135.56851311953352, 231.00000000000003, 'gini = 0.0\\nsamples = 2\\nvalue = [0, 2]'),\n",
       " Text(146.4139941690962, 231.00000000000003, 'X[2] <= -0.014\\ngini = 0.375\\nsamples = 4\\nvalue = [3, 1]'),\n",
       " Text(140.99125364431487, 206.6842105263158, 'gini = 0.0\\nsamples = 1\\nvalue = [0, 1]'),\n",
       " Text(151.83673469387756, 206.6842105263158, 'gini = 0.0\\nsamples = 3\\nvalue = [3, 0]'),\n",
       " Text(178.95043731778426, 255.31578947368422, 'X[0] <= -0.004\\ngini = 0.241\\nsamples = 50\\nvalue = [7, 43]'),\n",
       " Text(168.10495626822157, 231.00000000000003, 'X[2] <= -0.011\\ngini = 0.5\\nsamples = 4\\nvalue = [2, 2]'),\n",
       " Text(162.68221574344022, 206.6842105263158, 'gini = 0.0\\nsamples = 2\\nvalue = [2, 0]'),\n",
       " Text(173.52769679300292, 206.6842105263158, 'gini = 0.0\\nsamples = 2\\nvalue = [0, 2]'),\n",
       " Text(189.79591836734693, 231.00000000000003, 'X[0] <= 0.001\\ngini = 0.194\\nsamples = 46\\nvalue = [5, 41]'),\n",
       " Text(184.3731778425656, 206.6842105263158, 'gini = 0.0\\nsamples = 20\\nvalue = [0, 20]'),\n",
       " Text(195.21865889212827, 206.6842105263158, 'X[2] <= -0.008\\ngini = 0.311\\nsamples = 26\\nvalue = [5, 21]'),\n",
       " Text(184.3731778425656, 182.36842105263162, 'X[1] <= 0.053\\ngini = 0.117\\nsamples = 16\\nvalue = [1, 15]'),\n",
       " Text(178.95043731778426, 158.0526315789474, 'X[1] <= 0.053\\ngini = 0.5\\nsamples = 2\\nvalue = [1, 1]'),\n",
       " Text(173.52769679300292, 133.73684210526318, 'gini = 0.0\\nsamples = 1\\nvalue = [0, 1]'),\n",
       " Text(184.3731778425656, 133.73684210526318, 'gini = 0.0\\nsamples = 1\\nvalue = [1, 0]'),\n",
       " Text(189.79591836734693, 158.0526315789474, 'gini = 0.0\\nsamples = 14\\nvalue = [0, 14]'),\n",
       " Text(206.06413994169097, 182.36842105263162, 'X[2] <= -0.005\\ngini = 0.48\\nsamples = 10\\nvalue = [4, 6]'),\n",
       " Text(200.64139941690962, 158.0526315789474, 'X[1] <= 0.083\\ngini = 0.444\\nsamples = 6\\nvalue = [4, 2]'),\n",
       " Text(195.21865889212827, 133.73684210526318, 'gini = 0.0\\nsamples = 3\\nvalue = [3, 0]'),\n",
       " Text(206.06413994169097, 133.73684210526318, 'X[1] <= 0.109\\ngini = 0.444\\nsamples = 3\\nvalue = [1, 2]'),\n",
       " Text(200.64139941690962, 109.42105263157896, 'gini = 0.0\\nsamples = 2\\nvalue = [0, 2]'),\n",
       " Text(211.48688046647231, 109.42105263157896, 'gini = 0.0\\nsamples = 1\\nvalue = [1, 0]'),\n",
       " Text(211.48688046647231, 158.0526315789474, 'gini = 0.0\\nsamples = 4\\nvalue = [0, 4]'),\n",
       " Text(260.2915451895044, 303.9473684210526, 'X[0] <= -0.001\\ngini = 0.435\\nsamples = 47\\nvalue = [15, 32]'),\n",
       " Text(233.17784256559767, 279.63157894736844, 'X[1] <= 0.176\\ngini = 0.49\\nsamples = 14\\nvalue = [8, 6]'),\n",
       " Text(227.75510204081633, 255.31578947368422, 'gini = 0.0\\nsamples = 2\\nvalue = [2, 0]'),\n",
       " Text(238.60058309037902, 255.31578947368422, 'X[1] <= 0.2\\ngini = 0.5\\nsamples = 12\\nvalue = [6, 6]'),\n",
       " Text(227.75510204081633, 231.00000000000003, 'X[1] <= 0.186\\ngini = 0.32\\nsamples = 5\\nvalue = [1, 4]'),\n",
       " Text(222.33236151603498, 206.6842105263158, 'X[0] <= -0.003\\ngini = 0.5\\nsamples = 2\\nvalue = [1, 1]'),\n",
       " Text(216.90962099125363, 182.36842105263162, 'gini = 0.0\\nsamples = 1\\nvalue = [1, 0]'),\n",
       " Text(227.75510204081633, 182.36842105263162, 'gini = 0.0\\nsamples = 1\\nvalue = [0, 1]'),\n",
       " Text(233.17784256559767, 206.6842105263158, 'gini = 0.0\\nsamples = 3\\nvalue = [0, 3]'),\n",
       " Text(249.44606413994168, 231.00000000000003, 'X[0] <= -0.002\\ngini = 0.408\\nsamples = 7\\nvalue = [5, 2]'),\n",
       " Text(244.02332361516036, 206.6842105263158, 'X[1] <= 0.22\\ngini = 0.444\\nsamples = 3\\nvalue = [1, 2]'),\n",
       " Text(238.60058309037902, 182.36842105263162, 'gini = 0.0\\nsamples = 1\\nvalue = [1, 0]'),\n",
       " Text(249.44606413994168, 182.36842105263162, 'gini = 0.0\\nsamples = 2\\nvalue = [0, 2]'),\n",
       " Text(254.86880466472303, 206.6842105263158, 'gini = 0.0\\nsamples = 4\\nvalue = [4, 0]'),\n",
       " Text(287.4052478134111, 279.63157894736844, 'X[1] <= 0.253\\ngini = 0.334\\nsamples = 33\\nvalue = [7, 26]'),\n",
       " Text(276.5597667638484, 255.31578947368422, 'X[0] <= 0.001\\ngini = 0.494\\nsamples = 9\\nvalue = [4, 5]'),\n",
       " Text(271.13702623906704, 231.00000000000003, 'X[0] <= 0.001\\ngini = 0.32\\nsamples = 5\\nvalue = [4, 1]'),\n",
       " Text(265.7142857142857, 206.6842105263158, 'gini = 0.0\\nsamples = 3\\nvalue = [3, 0]'),\n",
       " Text(276.5597667638484, 206.6842105263158, 'X[0] <= 0.001\\ngini = 0.5\\nsamples = 2\\nvalue = [1, 1]'),\n",
       " Text(271.13702623906704, 182.36842105263162, 'gini = 0.0\\nsamples = 1\\nvalue = [0, 1]'),\n",
       " Text(281.98250728862973, 182.36842105263162, 'gini = 0.0\\nsamples = 1\\nvalue = [1, 0]'),\n",
       " Text(281.98250728862973, 231.00000000000003, 'gini = 0.0\\nsamples = 4\\nvalue = [0, 4]'),\n",
       " Text(298.25072886297374, 255.31578947368422, 'X[0] <= 0.0\\ngini = 0.219\\nsamples = 24\\nvalue = [3, 21]'),\n",
       " Text(292.8279883381924, 231.00000000000003, 'X[0] <= -0.0\\ngini = 0.42\\nsamples = 10\\nvalue = [3, 7]'),\n",
       " Text(287.4052478134111, 206.6842105263158, 'gini = 0.0\\nsamples = 6\\nvalue = [0, 6]'),\n",
       " Text(298.25072886297374, 206.6842105263158, 'X[1] <= 1.94\\ngini = 0.375\\nsamples = 4\\nvalue = [3, 1]'),\n",
       " Text(292.8279883381924, 182.36842105263162, 'gini = 0.0\\nsamples = 3\\nvalue = [3, 0]'),\n",
       " Text(303.6734693877551, 182.36842105263162, 'gini = 0.0\\nsamples = 1\\nvalue = [0, 1]'),\n",
       " Text(303.6734693877551, 231.00000000000003, 'gini = 0.0\\nsamples = 14\\nvalue = [0, 14]'),\n",
       " Text(338.92128279883383, 328.2631578947369, 'X[1] <= 0.145\\ngini = 0.49\\nsamples = 58\\nvalue = [25, 33]'),\n",
       " Text(325.36443148688045, 303.9473684210526, 'X[0] <= 0.0\\ngini = 0.45\\nsamples = 41\\nvalue = [14, 27]'),\n",
       " Text(314.5189504373178, 279.63157894736844, 'X[1] <= 0.068\\ngini = 0.311\\nsamples = 26\\nvalue = [5, 21]'),\n",
       " Text(309.09620991253644, 255.31578947368422, 'gini = 0.0\\nsamples = 12\\nvalue = [0, 12]'),\n",
       " Text(319.94169096209913, 255.31578947368422, 'X[0] <= -0.001\\ngini = 0.459\\nsamples = 14\\nvalue = [5, 9]'),\n",
       " Text(314.5189504373178, 231.00000000000003, 'X[1] <= 0.101\\ngini = 0.469\\nsamples = 8\\nvalue = [5, 3]'),\n",
       " Text(309.09620991253644, 206.6842105263158, 'gini = 0.0\\nsamples = 4\\nvalue = [4, 0]'),\n",
       " Text(319.94169096209913, 206.6842105263158, 'X[2] <= 0.002\\ngini = 0.375\\nsamples = 4\\nvalue = [1, 3]'),\n",
       " Text(314.5189504373178, 182.36842105263162, 'gini = 0.0\\nsamples = 3\\nvalue = [0, 3]'),\n",
       " Text(325.36443148688045, 182.36842105263162, 'gini = 0.0\\nsamples = 1\\nvalue = [1, 0]'),\n",
       " Text(325.36443148688045, 231.00000000000003, 'gini = 0.0\\nsamples = 6\\nvalue = [0, 6]'),\n",
       " Text(336.20991253644314, 279.63157894736844, 'X[0] <= 0.001\\ngini = 0.48\\nsamples = 15\\nvalue = [9, 6]'),\n",
       " Text(330.7871720116618, 255.31578947368422, 'gini = 0.0\\nsamples = 4\\nvalue = [4, 0]'),\n",
       " Text(341.6326530612245, 255.31578947368422, 'X[1] <= 0.033\\ngini = 0.496\\nsamples = 11\\nvalue = [5, 6]'),\n",
       " Text(336.20991253644314, 231.00000000000003, 'gini = 0.0\\nsamples = 3\\nvalue = [3, 0]'),\n",
       " Text(347.05539358600583, 231.00000000000003, 'X[0] <= 0.001\\ngini = 0.375\\nsamples = 8\\nvalue = [2, 6]'),\n",
       " Text(341.6326530612245, 206.6842105263158, 'X[2] <= -0.001\\ngini = 0.444\\nsamples = 3\\nvalue = [2, 1]'),\n",
       " Text(336.20991253644314, 182.36842105263162, 'gini = 0.0\\nsamples = 2\\nvalue = [2, 0]'),\n",
       " Text(347.05539358600583, 182.36842105263162, 'gini = 0.0\\nsamples = 1\\nvalue = [0, 1]'),\n",
       " Text(352.47813411078715, 206.6842105263158, 'gini = 0.0\\nsamples = 5\\nvalue = [0, 5]'),\n",
       " Text(352.47813411078715, 303.9473684210526, 'X[0] <= -0.0\\ngini = 0.457\\nsamples = 17\\nvalue = [11, 6]'),\n",
       " Text(347.05539358600583, 279.63157894736844, 'gini = 0.0\\nsamples = 9\\nvalue = [9, 0]'),\n",
       " Text(357.9008746355685, 279.63157894736844, 'X[2] <= -0.001\\ngini = 0.375\\nsamples = 8\\nvalue = [2, 6]'),\n",
       " Text(352.47813411078715, 255.31578947368422, 'gini = 0.0\\nsamples = 2\\nvalue = [2, 0]'),\n",
       " Text(363.32361516034985, 255.31578947368422, 'gini = 0.0\\nsamples = 6\\nvalue = [0, 6]'),\n",
       " Text(427.0408163265306, 352.57894736842104, 'X[1] <= 0.022\\ngini = 0.489\\nsamples = 139\\nvalue = [59, 80]'),\n",
       " Text(395.8600583090379, 328.2631578947369, 'X[2] <= -0.007\\ngini = 0.427\\nsamples = 55\\nvalue = [17, 38]'),\n",
       " Text(385.01457725947523, 303.9473684210526, 'X[1] <= 0.019\\ngini = 0.375\\nsamples = 44\\nvalue = [11, 33]'),\n",
       " Text(379.59183673469386, 279.63157894736844, 'X[1] <= 0.019\\ngini = 0.424\\nsamples = 36\\nvalue = [11, 25]'),\n",
       " Text(374.16909620991254, 255.31578947368422, 'X[2] <= -0.018\\ngini = 0.389\\nsamples = 34\\nvalue = [9, 25]'),\n",
       " Text(368.7463556851312, 231.00000000000003, 'gini = 0.0\\nsamples = 1\\nvalue = [1, 0]'),\n",
       " Text(379.59183673469386, 231.00000000000003, 'X[1] <= 0.017\\ngini = 0.367\\nsamples = 33\\nvalue = [8, 25]'),\n",
       " Text(374.16909620991254, 206.6842105263158, 'X[1] <= 0.014\\ngini = 0.417\\nsamples = 27\\nvalue = [8, 19]'),\n",
       " Text(363.32361516034985, 182.36842105263162, 'X[0] <= 0.005\\ngini = 0.266\\nsamples = 19\\nvalue = [3, 16]'),\n",
       " Text(357.9008746355685, 158.0526315789474, 'gini = 0.0\\nsamples = 9\\nvalue = [0, 9]'),\n",
       " Text(368.7463556851312, 158.0526315789474, 'X[2] <= -0.014\\ngini = 0.42\\nsamples = 10\\nvalue = [3, 7]'),\n",
       " Text(363.32361516034985, 133.73684210526318, 'gini = 0.0\\nsamples = 4\\nvalue = [0, 4]'),\n",
       " Text(374.16909620991254, 133.73684210526318, 'X[2] <= -0.009\\ngini = 0.5\\nsamples = 6\\nvalue = [3, 3]'),\n",
       " Text(368.7463556851312, 109.42105263157896, 'X[1] <= 0.013\\ngini = 0.375\\nsamples = 4\\nvalue = [3, 1]'),\n",
       " Text(363.32361516034985, 85.10526315789474, 'gini = 0.0\\nsamples = 3\\nvalue = [3, 0]'),\n",
       " Text(374.16909620991254, 85.10526315789474, 'gini = 0.0\\nsamples = 1\\nvalue = [0, 1]'),\n",
       " Text(379.59183673469386, 109.42105263157896, 'gini = 0.0\\nsamples = 2\\nvalue = [0, 2]'),\n",
       " Text(385.01457725947523, 182.36842105263162, 'X[2] <= -0.017\\ngini = 0.469\\nsamples = 8\\nvalue = [5, 3]'),\n",
       " Text(379.59183673469386, 158.0526315789474, 'gini = 0.0\\nsamples = 1\\nvalue = [0, 1]'),\n",
       " Text(390.43731778425655, 158.0526315789474, 'X[2] <= -0.01\\ngini = 0.408\\nsamples = 7\\nvalue = [5, 2]'),\n",
       " Text(385.01457725947523, 133.73684210526318, 'gini = 0.0\\nsamples = 4\\nvalue = [4, 0]'),\n",
       " Text(395.8600583090379, 133.73684210526318, 'X[0] <= 0.005\\ngini = 0.444\\nsamples = 3\\nvalue = [1, 2]'),\n",
       " Text(390.43731778425655, 109.42105263157896, 'gini = 0.0\\nsamples = 2\\nvalue = [0, 2]'),\n",
       " Text(401.28279883381924, 109.42105263157896, 'gini = 0.0\\nsamples = 1\\nvalue = [1, 0]'),\n",
       " Text(385.01457725947523, 206.6842105263158, 'gini = 0.0\\nsamples = 6\\nvalue = [0, 6]'),\n",
       " Text(385.01457725947523, 255.31578947368422, 'gini = 0.0\\nsamples = 2\\nvalue = [2, 0]'),\n",
       " Text(390.43731778425655, 279.63157894736844, 'gini = 0.0\\nsamples = 8\\nvalue = [0, 8]'),\n",
       " Text(406.70553935860056, 303.9473684210526, 'X[0] <= 0.003\\ngini = 0.496\\nsamples = 11\\nvalue = [6, 5]'),\n",
       " Text(401.28279883381924, 279.63157894736844, 'gini = 0.0\\nsamples = 3\\nvalue = [3, 0]'),\n",
       " Text(412.12827988338194, 279.63157894736844, 'X[0] <= 0.004\\ngini = 0.469\\nsamples = 8\\nvalue = [3, 5]'),\n",
       " Text(406.70553935860056, 255.31578947368422, 'gini = 0.0\\nsamples = 3\\nvalue = [0, 3]'),\n",
       " Text(417.55102040816325, 255.31578947368422, 'X[1] <= 0.017\\ngini = 0.48\\nsamples = 5\\nvalue = [3, 2]'),\n",
       " Text(412.12827988338194, 231.00000000000003, 'X[1] <= 0.012\\ngini = 0.444\\nsamples = 3\\nvalue = [1, 2]'),\n",
       " Text(406.70553935860056, 206.6842105263158, 'gini = 0.0\\nsamples = 1\\nvalue = [1, 0]'),\n",
       " Text(417.55102040816325, 206.6842105263158, 'gini = 0.0\\nsamples = 2\\nvalue = [0, 2]'),\n",
       " Text(422.97376093294463, 231.00000000000003, 'gini = 0.0\\nsamples = 2\\nvalue = [2, 0]'),\n",
       " Text(458.22157434402334, 328.2631578947369, 'X[1] <= 0.133\\ngini = 0.5\\nsamples = 84\\nvalue = [42, 42]'),\n",
       " Text(452.79883381924196, 303.9473684210526, 'X[0] <= 0.002\\ngini = 0.499\\nsamples = 80\\nvalue = [42, 38]'),\n",
       " Text(447.37609329446065, 279.63157894736844, 'gini = 0.0\\nsamples = 3\\nvalue = [3, 0]'),\n",
       " Text(458.22157434402334, 279.63157894736844, 'X[0] <= 0.003\\ngini = 0.5\\nsamples = 77\\nvalue = [39, 38]'),\n",
       " Text(452.79883381924196, 255.31578947368422, 'gini = 0.0\\nsamples = 3\\nvalue = [0, 3]'),\n",
       " Text(463.64431486880466, 255.31578947368422, 'X[2] <= -0.014\\ngini = 0.499\\nsamples = 74\\nvalue = [39, 35]'),\n",
       " Text(444.66472303206996, 231.00000000000003, 'X[1] <= 0.104\\ngini = 0.444\\nsamples = 15\\nvalue = [5, 10]'),\n",
       " Text(439.24198250728864, 206.6842105263158, 'X[1] <= 0.056\\ngini = 0.408\\nsamples = 14\\nvalue = [4, 10]'),\n",
       " Text(433.81924198250726, 182.36842105263162, 'X[1] <= 0.035\\ngini = 0.48\\nsamples = 10\\nvalue = [4, 6]'),\n",
       " Text(422.97376093294463, 158.0526315789474, 'X[0] <= 0.004\\ngini = 0.278\\nsamples = 6\\nvalue = [1, 5]'),\n",
       " Text(417.55102040816325, 133.73684210526318, 'X[1] <= 0.028\\ngini = 0.5\\nsamples = 2\\nvalue = [1, 1]'),\n",
       " Text(412.12827988338194, 109.42105263157896, 'gini = 0.0\\nsamples = 1\\nvalue = [0, 1]'),\n",
       " Text(422.97376093294463, 109.42105263157896, 'gini = 0.0\\nsamples = 1\\nvalue = [1, 0]'),\n",
       " Text(428.39650145772595, 133.73684210526318, 'gini = 0.0\\nsamples = 4\\nvalue = [0, 4]'),\n",
       " Text(444.66472303206996, 158.0526315789474, 'X[2] <= -0.016\\ngini = 0.375\\nsamples = 4\\nvalue = [3, 1]'),\n",
       " Text(439.24198250728864, 133.73684210526318, 'X[1] <= 0.043\\ngini = 0.5\\nsamples = 2\\nvalue = [1, 1]'),\n",
       " Text(433.81924198250726, 109.42105263157896, 'gini = 0.0\\nsamples = 1\\nvalue = [1, 0]'),\n",
       " Text(444.66472303206996, 109.42105263157896, 'gini = 0.0\\nsamples = 1\\nvalue = [0, 1]'),\n",
       " Text(450.08746355685133, 133.73684210526318, 'gini = 0.0\\nsamples = 2\\nvalue = [2, 0]'),\n",
       " Text(444.66472303206996, 182.36842105263162, 'gini = 0.0\\nsamples = 4\\nvalue = [0, 4]'),\n",
       " Text(450.08746355685133, 206.6842105263158, 'gini = 0.0\\nsamples = 1\\nvalue = [1, 0]'),\n",
       " Text(482.62390670553935, 231.00000000000003, 'X[2] <= -0.012\\ngini = 0.488\\nsamples = 59\\nvalue = [34, 25]'),\n",
       " Text(460.932944606414, 206.6842105263158, 'X[1] <= 0.083\\ngini = 0.219\\nsamples = 8\\nvalue = [7, 1]'),\n",
       " Text(455.51020408163265, 182.36842105263162, 'gini = 0.0\\nsamples = 7\\nvalue = [7, 0]'),\n",
       " Text(466.35568513119534, 182.36842105263162, 'gini = 0.0\\nsamples = 1\\nvalue = [0, 1]'),\n",
       " Text(504.31486880466474, 206.6842105263158, 'X[2] <= -0.006\\ngini = 0.498\\nsamples = 51\\nvalue = [27, 24]'),\n",
       " Text(477.20116618075804, 182.36842105263162, 'X[2] <= -0.008\\ngini = 0.494\\nsamples = 27\\nvalue = [12, 15]'),\n",
       " Text(466.35568513119534, 158.0526315789474, 'X[0] <= 0.003\\ngini = 0.494\\nsamples = 18\\nvalue = [10, 8]'),\n",
       " Text(460.932944606414, 133.73684210526318, 'gini = 0.0\\nsamples = 3\\nvalue = [0, 3]'),\n",
       " Text(471.77842565597666, 133.73684210526318, 'X[1] <= 0.106\\ngini = 0.444\\nsamples = 15\\nvalue = [10, 5]'),\n",
       " Text(466.35568513119534, 109.42105263157896, 'X[2] <= -0.012\\ngini = 0.355\\nsamples = 13\\nvalue = [10, 3]'),\n",
       " Text(460.932944606414, 85.10526315789474, 'gini = 0.0\\nsamples = 1\\nvalue = [0, 1]'),\n",
       " Text(471.77842565597666, 85.10526315789474, 'X[1] <= 0.023\\ngini = 0.278\\nsamples = 12\\nvalue = [10, 2]'),\n",
       " Text(466.35568513119534, 60.78947368421058, 'gini = 0.0\\nsamples = 1\\nvalue = [0, 1]'),\n",
       " Text(477.20116618075804, 60.78947368421058, 'X[2] <= -0.011\\ngini = 0.165\\nsamples = 11\\nvalue = [10, 1]'),\n",
       " Text(471.77842565597666, 36.47368421052636, 'X[2] <= -0.011\\ngini = 0.444\\nsamples = 3\\nvalue = [2, 1]'),\n",
       " Text(466.35568513119534, 12.157894736842138, 'gini = 0.0\\nsamples = 2\\nvalue = [2, 0]'),\n",
       " Text(477.20116618075804, 12.157894736842138, 'gini = 0.0\\nsamples = 1\\nvalue = [0, 1]'),\n",
       " Text(482.62390670553935, 36.47368421052636, 'gini = 0.0\\nsamples = 8\\nvalue = [8, 0]'),\n",
       " Text(477.20116618075804, 109.42105263157896, 'gini = 0.0\\nsamples = 2\\nvalue = [0, 2]'),\n",
       " Text(488.04664723032073, 158.0526315789474, 'X[0] <= 0.003\\ngini = 0.346\\nsamples = 9\\nvalue = [2, 7]'),\n",
       " Text(482.62390670553935, 133.73684210526318, 'gini = 0.0\\nsamples = 1\\nvalue = [1, 0]'),\n",
       " Text(493.46938775510205, 133.73684210526318, 'X[0] <= 0.005\\ngini = 0.219\\nsamples = 8\\nvalue = [1, 7]'),\n",
       " Text(488.04664723032073, 109.42105263157896, 'gini = 0.0\\nsamples = 6\\nvalue = [0, 6]'),\n",
       " Text(498.89212827988337, 109.42105263157896, 'X[2] <= -0.007\\ngini = 0.5\\nsamples = 2\\nvalue = [1, 1]'),\n",
       " Text(493.46938775510205, 85.10526315789474, 'gini = 0.0\\nsamples = 1\\nvalue = [1, 0]'),\n",
       " Text(504.31486880466474, 85.10526315789474, 'gini = 0.0\\nsamples = 1\\nvalue = [0, 1]'),\n",
       " Text(531.4285714285714, 182.36842105263162, 'X[0] <= 0.003\\ngini = 0.469\\nsamples = 24\\nvalue = [15, 9]'),\n",
       " Text(520.5830903790088, 158.0526315789474, 'X[0] <= 0.003\\ngini = 0.198\\nsamples = 9\\nvalue = [8, 1]'),\n",
       " Text(515.1603498542274, 133.73684210526318, 'X[0] <= 0.003\\ngini = 0.375\\nsamples = 4\\nvalue = [3, 1]'),\n",
       " Text(509.73760932944606, 109.42105263157896, 'gini = 0.0\\nsamples = 3\\nvalue = [3, 0]'),\n",
       " Text(520.5830903790088, 109.42105263157896, 'gini = 0.0\\nsamples = 1\\nvalue = [0, 1]'),\n",
       " Text(526.0058309037901, 133.73684210526318, 'gini = 0.0\\nsamples = 5\\nvalue = [5, 0]'),\n",
       " Text(542.2740524781341, 158.0526315789474, 'X[0] <= 0.004\\ngini = 0.498\\nsamples = 15\\nvalue = [7, 8]'),\n",
       " Text(536.8513119533528, 133.73684210526318, 'gini = 0.0\\nsamples = 5\\nvalue = [0, 5]'),\n",
       " Text(547.6967930029155, 133.73684210526318, 'X[0] <= 0.005\\ngini = 0.42\\nsamples = 10\\nvalue = [7, 3]'),\n",
       " Text(542.2740524781341, 109.42105263157896, 'X[0] <= 0.004\\ngini = 0.5\\nsamples = 6\\nvalue = [3, 3]'),\n",
       " Text(536.8513119533528, 85.10526315789474, 'gini = 0.0\\nsamples = 3\\nvalue = [3, 0]'),\n",
       " Text(547.6967930029155, 85.10526315789474, 'gini = 0.0\\nsamples = 3\\nvalue = [0, 3]'),\n",
       " Text(553.1195335276968, 109.42105263157896, 'gini = 0.0\\nsamples = 4\\nvalue = [4, 0]'),\n",
       " Text(463.64431486880466, 303.9473684210526, 'gini = 0.0\\nsamples = 4\\nvalue = [0, 4]'),\n",
       " Text(498.89212827988337, 376.89473684210526, 'X[1] <= 0.019\\ngini = 0.404\\nsamples = 32\\nvalue = [23, 9]'),\n",
       " Text(485.33527696793004, 352.57894736842104, 'X[2] <= -0.014\\ngini = 0.408\\nsamples = 7\\nvalue = [2, 5]'),\n",
       " Text(479.91253644314867, 328.2631578947369, 'X[2] <= -0.016\\ngini = 0.444\\nsamples = 3\\nvalue = [2, 1]'),\n",
       " Text(474.48979591836735, 303.9473684210526, 'gini = 0.0\\nsamples = 1\\nvalue = [0, 1]'),\n",
       " Text(485.33527696793004, 303.9473684210526, 'gini = 0.0\\nsamples = 2\\nvalue = [2, 0]'),\n",
       " Text(490.75801749271136, 328.2631578947369, 'gini = 0.0\\nsamples = 4\\nvalue = [0, 4]'),\n",
       " Text(512.4489795918367, 352.57894736842104, 'X[1] <= 0.068\\ngini = 0.269\\nsamples = 25\\nvalue = [21, 4]'),\n",
       " Text(501.60349854227405, 328.2631578947369, 'X[0] <= 0.011\\ngini = 0.1\\nsamples = 19\\nvalue = [18, 1]'),\n",
       " Text(496.18075801749274, 303.9473684210526, 'gini = 0.0\\nsamples = 15\\nvalue = [15, 0]'),\n",
       " Text(507.02623906705537, 303.9473684210526, 'X[0] <= 0.011\\ngini = 0.375\\nsamples = 4\\nvalue = [3, 1]'),\n",
       " Text(501.60349854227405, 279.63157894736844, 'gini = 0.0\\nsamples = 1\\nvalue = [0, 1]'),\n",
       " Text(512.4489795918367, 279.63157894736844, 'gini = 0.0\\nsamples = 3\\nvalue = [3, 0]'),\n",
       " Text(523.2944606413994, 328.2631578947369, 'X[2] <= -0.013\\ngini = 0.5\\nsamples = 6\\nvalue = [3, 3]'),\n",
       " Text(517.8717201166181, 303.9473684210526, 'gini = 0.0\\nsamples = 2\\nvalue = [0, 2]'),\n",
       " Text(528.7172011661808, 303.9473684210526, 'X[2] <= -0.005\\ngini = 0.375\\nsamples = 4\\nvalue = [3, 1]'),\n",
       " Text(523.2944606413994, 279.63157894736844, 'gini = 0.0\\nsamples = 3\\nvalue = [3, 0]'),\n",
       " Text(534.1399416909621, 279.63157894736844, 'gini = 0.0\\nsamples = 1\\nvalue = [0, 1]'),\n",
       " Text(670.3862973760934, 425.5263157894737, 'X[1] <= 0.027\\ngini = 0.397\\nsamples = 344\\nvalue = [250, 94]'),\n",
       " Text(574.8104956268222, 401.2105263157895, 'X[2] <= 0.003\\ngini = 0.202\\nsamples = 79\\nvalue = [70, 9]'),\n",
       " Text(569.3877551020408, 376.89473684210526, 'gini = 0.0\\nsamples = 1\\nvalue = [0, 1]'),\n",
       " Text(580.2332361516035, 376.89473684210526, 'X[0] <= -0.005\\ngini = 0.184\\nsamples = 78\\nvalue = [70, 8]'),\n",
       " Text(574.8104956268222, 352.57894736842104, 'X[2] <= 0.02\\ngini = 0.265\\nsamples = 51\\nvalue = [43, 8]'),\n",
       " Text(561.2536443148688, 328.2631578947369, 'X[1] <= 0.017\\ngini = 0.49\\nsamples = 14\\nvalue = [8, 6]'),\n",
       " Text(550.4081632653061, 303.9473684210526, 'X[0] <= -0.005\\ngini = 0.278\\nsamples = 6\\nvalue = [5, 1]'),\n",
       " Text(544.9854227405248, 279.63157894736844, 'gini = 0.0\\nsamples = 5\\nvalue = [5, 0]'),\n",
       " Text(555.8309037900875, 279.63157894736844, 'gini = 0.0\\nsamples = 1\\nvalue = [0, 1]'),\n",
       " Text(572.0991253644315, 303.9473684210526, 'X[2] <= 0.01\\ngini = 0.469\\nsamples = 8\\nvalue = [3, 5]'),\n",
       " Text(566.6763848396502, 279.63157894736844, 'gini = 0.0\\nsamples = 2\\nvalue = [2, 0]'),\n",
       " Text(577.5218658892128, 279.63157894736844, 'X[1] <= 0.023\\ngini = 0.278\\nsamples = 6\\nvalue = [1, 5]'),\n",
       " Text(572.0991253644315, 255.31578947368422, 'gini = 0.0\\nsamples = 5\\nvalue = [0, 5]'),\n",
       " Text(582.9446064139942, 255.31578947368422, 'gini = 0.0\\nsamples = 1\\nvalue = [1, 0]'),\n",
       " Text(588.3673469387755, 328.2631578947369, 'X[1] <= 0.016\\ngini = 0.102\\nsamples = 37\\nvalue = [35, 2]'),\n",
       " Text(582.9446064139942, 303.9473684210526, 'gini = 0.0\\nsamples = 19\\nvalue = [19, 0]'),\n",
       " Text(593.7900874635568, 303.9473684210526, 'X[1] <= 0.017\\ngini = 0.198\\nsamples = 18\\nvalue = [16, 2]'),\n",
       " Text(588.3673469387755, 279.63157894736844, 'gini = 0.0\\nsamples = 1\\nvalue = [0, 1]'),\n",
       " Text(599.2128279883382, 279.63157894736844, 'X[0] <= -0.013\\ngini = 0.111\\nsamples = 17\\nvalue = [16, 1]'),\n",
       " Text(593.7900874635568, 255.31578947368422, 'X[2] <= 0.046\\ngini = 0.375\\nsamples = 4\\nvalue = [3, 1]'),\n",
       " Text(588.3673469387755, 231.00000000000003, 'gini = 0.0\\nsamples = 1\\nvalue = [0, 1]'),\n",
       " Text(599.2128279883382, 231.00000000000003, 'gini = 0.0\\nsamples = 3\\nvalue = [3, 0]'),\n",
       " Text(604.6355685131196, 255.31578947368422, 'gini = 0.0\\nsamples = 13\\nvalue = [13, 0]'),\n",
       " Text(585.6559766763849, 352.57894736842104, 'gini = 0.0\\nsamples = 27\\nvalue = [27, 0]'),\n",
       " Text(765.9620991253645, 401.2105263157895, 'X[0] <= -0.004\\ngini = 0.436\\nsamples = 265\\nvalue = [180, 85]'),\n",
       " Text(699.533527696793, 376.89473684210526, 'X[2] <= 0.049\\ngini = 0.498\\nsamples = 104\\nvalue = [55, 49]'),\n",
       " Text(669.7084548104956, 352.57894736842104, 'X[2] <= 0.021\\ngini = 0.492\\nsamples = 85\\nvalue = [37, 48]'),\n",
       " Text(637.1720116618076, 328.2631578947369, 'X[1] <= 0.047\\ngini = 0.405\\nsamples = 39\\nvalue = [11, 28]'),\n",
       " Text(626.3265306122449, 303.9473684210526, 'X[1] <= 0.044\\ngini = 0.492\\nsamples = 16\\nvalue = [7, 9]'),\n",
       " Text(620.9037900874636, 279.63157894736844, 'X[0] <= -0.007\\ngini = 0.459\\nsamples = 14\\nvalue = [5, 9]'),\n",
       " Text(615.4810495626822, 255.31578947368422, 'gini = 0.0\\nsamples = 6\\nvalue = [0, 6]'),\n",
       " Text(626.3265306122449, 255.31578947368422, 'X[2] <= 0.007\\ngini = 0.469\\nsamples = 8\\nvalue = [5, 3]'),\n",
       " Text(620.9037900874636, 231.00000000000003, 'gini = 0.0\\nsamples = 1\\nvalue = [0, 1]'),\n",
       " Text(631.7492711370262, 231.00000000000003, 'X[1] <= 0.028\\ngini = 0.408\\nsamples = 7\\nvalue = [5, 2]'),\n",
       " Text(626.3265306122449, 206.6842105263158, 'gini = 0.0\\nsamples = 1\\nvalue = [0, 1]'),\n",
       " Text(637.1720116618076, 206.6842105263158, 'X[1] <= 0.032\\ngini = 0.278\\nsamples = 6\\nvalue = [5, 1]'),\n",
       " Text(631.7492711370262, 182.36842105263162, 'X[1] <= 0.03\\ngini = 0.444\\nsamples = 3\\nvalue = [2, 1]'),\n",
       " Text(626.3265306122449, 158.0526315789474, 'gini = 0.0\\nsamples = 2\\nvalue = [2, 0]'),\n",
       " Text(637.1720116618076, 158.0526315789474, 'gini = 0.0\\nsamples = 1\\nvalue = [0, 1]'),\n",
       " Text(642.594752186589, 182.36842105263162, 'gini = 0.0\\nsamples = 3\\nvalue = [3, 0]'),\n",
       " Text(631.7492711370262, 279.63157894736844, 'gini = 0.0\\nsamples = 2\\nvalue = [2, 0]'),\n",
       " Text(648.0174927113703, 303.9473684210526, 'X[1] <= 0.08\\ngini = 0.287\\nsamples = 23\\nvalue = [4, 19]'),\n",
       " Text(642.594752186589, 279.63157894736844, 'gini = 0.0\\nsamples = 11\\nvalue = [0, 11]'),\n",
       " Text(653.4402332361516, 279.63157894736844, 'X[2] <= 0.006\\ngini = 0.444\\nsamples = 12\\nvalue = [4, 8]'),\n",
       " Text(648.0174927113703, 255.31578947368422, 'gini = 0.0\\nsamples = 2\\nvalue = [2, 0]'),\n",
       " Text(658.862973760933, 255.31578947368422, 'X[2] <= 0.012\\ngini = 0.32\\nsamples = 10\\nvalue = [2, 8]'),\n",
       " Text(653.4402332361516, 231.00000000000003, 'gini = 0.0\\nsamples = 4\\nvalue = [0, 4]'),\n",
       " Text(664.2857142857143, 231.00000000000003, 'X[2] <= 0.016\\ngini = 0.444\\nsamples = 6\\nvalue = [2, 4]'),\n",
       " Text(658.862973760933, 206.6842105263158, 'X[2] <= 0.014\\ngini = 0.444\\nsamples = 3\\nvalue = [2, 1]'),\n",
       " Text(653.4402332361516, 182.36842105263162, 'gini = 0.0\\nsamples = 1\\nvalue = [1, 0]'),\n",
       " Text(664.2857142857143, 182.36842105263162, 'X[0] <= -0.006\\ngini = 0.5\\nsamples = 2\\nvalue = [1, 1]'),\n",
       " Text(658.862973760933, 158.0526315789474, 'gini = 0.0\\nsamples = 1\\nvalue = [0, 1]'),\n",
       " Text(669.7084548104956, 158.0526315789474, 'gini = 0.0\\nsamples = 1\\nvalue = [1, 0]'),\n",
       " Text(669.7084548104956, 206.6842105263158, 'gini = 0.0\\nsamples = 3\\nvalue = [0, 3]'),\n",
       " Text(702.2448979591837, 328.2631578947369, 'X[2] <= 0.045\\ngini = 0.491\\nsamples = 46\\nvalue = [26, 20]'),\n",
       " Text(696.8221574344024, 303.9473684210526, 'X[1] <= 0.13\\ngini = 0.472\\nsamples = 42\\nvalue = [26, 16]'),\n",
       " Text(691.399416909621, 279.63157894736844, 'X[0] <= -0.012\\ngini = 0.444\\nsamples = 39\\nvalue = [26, 13]'),\n",
       " Text(685.9766763848396, 255.31578947368422, 'gini = 0.0\\nsamples = 5\\nvalue = [5, 0]'),\n",
       " Text(696.8221574344024, 255.31578947368422, 'X[0] <= -0.01\\ngini = 0.472\\nsamples = 34\\nvalue = [21, 13]'),\n",
       " Text(685.9766763848396, 231.00000000000003, 'X[2] <= 0.033\\ngini = 0.245\\nsamples = 7\\nvalue = [1, 6]'),\n",
       " Text(680.5539358600583, 206.6842105263158, 'gini = 0.0\\nsamples = 5\\nvalue = [0, 5]'),\n",
       " Text(691.399416909621, 206.6842105263158, 'X[2] <= 0.04\\ngini = 0.5\\nsamples = 2\\nvalue = [1, 1]'),\n",
       " Text(685.9766763848396, 182.36842105263162, 'gini = 0.0\\nsamples = 1\\nvalue = [1, 0]'),\n",
       " Text(696.8221574344024, 182.36842105263162, 'gini = 0.0\\nsamples = 1\\nvalue = [0, 1]'),\n",
       " Text(707.667638483965, 231.00000000000003, 'X[0] <= -0.008\\ngini = 0.384\\nsamples = 27\\nvalue = [20, 7]'),\n",
       " Text(702.2448979591837, 206.6842105263158, 'gini = 0.0\\nsamples = 10\\nvalue = [10, 0]'),\n",
       " Text(713.0903790087464, 206.6842105263158, 'X[0] <= -0.008\\ngini = 0.484\\nsamples = 17\\nvalue = [10, 7]'),\n",
       " Text(707.667638483965, 182.36842105263162, 'gini = 0.0\\nsamples = 3\\nvalue = [0, 3]'),\n",
       " Text(718.5131195335277, 182.36842105263162, 'X[1] <= 0.053\\ngini = 0.408\\nsamples = 14\\nvalue = [10, 4]'),\n",
       " Text(707.667638483965, 158.0526315789474, 'X[1] <= 0.035\\ngini = 0.198\\nsamples = 9\\nvalue = [8, 1]'),\n",
       " Text(702.2448979591837, 133.73684210526318, 'X[2] <= 0.023\\ngini = 0.444\\nsamples = 3\\nvalue = [2, 1]'),\n",
       " Text(696.8221574344024, 109.42105263157896, 'gini = 0.0\\nsamples = 1\\nvalue = [0, 1]'),\n",
       " Text(707.667638483965, 109.42105263157896, 'gini = 0.0\\nsamples = 2\\nvalue = [2, 0]'),\n",
       " Text(713.0903790087464, 133.73684210526318, 'gini = 0.0\\nsamples = 6\\nvalue = [6, 0]'),\n",
       " Text(729.3586005830904, 158.0526315789474, 'X[0] <= -0.007\\ngini = 0.48\\nsamples = 5\\nvalue = [2, 3]'),\n",
       " Text(723.935860058309, 133.73684210526318, 'gini = 0.0\\nsamples = 2\\nvalue = [0, 2]'),\n",
       " Text(734.7813411078718, 133.73684210526318, 'X[0] <= -0.007\\ngini = 0.444\\nsamples = 3\\nvalue = [2, 1]'),\n",
       " Text(729.3586005830904, 109.42105263157896, 'gini = 0.0\\nsamples = 1\\nvalue = [1, 0]'),\n",
       " Text(740.204081632653, 109.42105263157896, 'X[1] <= 0.081\\ngini = 0.5\\nsamples = 2\\nvalue = [1, 1]'),\n",
       " Text(734.7813411078718, 85.10526315789474, 'gini = 0.0\\nsamples = 1\\nvalue = [1, 0]'),\n",
       " Text(745.6268221574344, 85.10526315789474, 'gini = 0.0\\nsamples = 1\\nvalue = [0, 1]'),\n",
       " Text(702.2448979591837, 279.63157894736844, 'gini = 0.0\\nsamples = 3\\nvalue = [0, 3]'),\n",
       " Text(707.667638483965, 303.9473684210526, 'gini = 0.0\\nsamples = 4\\nvalue = [0, 4]'),\n",
       " Text(729.3586005830904, 352.57894736842104, 'X[0] <= -0.024\\ngini = 0.1\\nsamples = 19\\nvalue = [18, 1]'),\n",
       " Text(723.935860058309, 328.2631578947369, 'X[1] <= 0.059\\ngini = 0.444\\nsamples = 3\\nvalue = [2, 1]'),\n",
       " Text(718.5131195335277, 303.9473684210526, 'gini = 0.0\\nsamples = 2\\nvalue = [2, 0]'),\n",
       " Text(729.3586005830904, 303.9473684210526, 'gini = 0.0\\nsamples = 1\\nvalue = [0, 1]'),\n",
       " Text(734.7813411078718, 328.2631578947369, 'gini = 0.0\\nsamples = 16\\nvalue = [16, 0]'),\n",
       " Text(832.3906705539358, 376.89473684210526, 'X[2] <= 0.008\\ngini = 0.347\\nsamples = 161\\nvalue = [125, 36]'),\n",
       " Text(780.8746355685131, 352.57894736842104, 'X[0] <= -0.001\\ngini = 0.458\\nsamples = 59\\nvalue = [38, 21]'),\n",
       " Text(751.0495626822158, 328.2631578947369, 'X[2] <= 0.004\\ngini = 0.5\\nsamples = 26\\nvalue = [13, 13]'),\n",
       " Text(740.204081632653, 303.9473684210526, 'X[1] <= 0.167\\ngini = 0.32\\nsamples = 5\\nvalue = [4, 1]'),\n",
       " Text(734.7813411078718, 279.63157894736844, 'gini = 0.0\\nsamples = 4\\nvalue = [4, 0]'),\n",
       " Text(745.6268221574344, 279.63157894736844, 'gini = 0.0\\nsamples = 1\\nvalue = [0, 1]'),\n",
       " Text(761.8950437317784, 303.9473684210526, 'X[2] <= 0.005\\ngini = 0.49\\nsamples = 21\\nvalue = [9, 12]'),\n",
       " Text(756.4723032069971, 279.63157894736844, 'gini = 0.0\\nsamples = 4\\nvalue = [0, 4]'),\n",
       " Text(767.3177842565598, 279.63157894736844, 'X[2] <= 0.005\\ngini = 0.498\\nsamples = 17\\nvalue = [9, 8]'),\n",
       " Text(761.8950437317784, 255.31578947368422, 'gini = 0.0\\nsamples = 2\\nvalue = [2, 0]'),\n",
       " Text(772.7405247813412, 255.31578947368422, 'X[2] <= 0.006\\ngini = 0.498\\nsamples = 15\\nvalue = [7, 8]'),\n",
       " Text(761.8950437317784, 231.00000000000003, 'X[2] <= 0.005\\ngini = 0.32\\nsamples = 5\\nvalue = [1, 4]'),\n",
       " Text(756.4723032069971, 206.6842105263158, 'X[2] <= 0.005\\ngini = 0.5\\nsamples = 2\\nvalue = [1, 1]'),\n",
       " Text(751.0495626822158, 182.36842105263162, 'gini = 0.0\\nsamples = 1\\nvalue = [0, 1]'),\n",
       " Text(761.8950437317784, 182.36842105263162, 'gini = 0.0\\nsamples = 1\\nvalue = [1, 0]'),\n",
       " Text(767.3177842565598, 206.6842105263158, 'gini = 0.0\\nsamples = 3\\nvalue = [0, 3]'),\n",
       " Text(783.5860058309038, 231.00000000000003, 'X[0] <= -0.003\\ngini = 0.48\\nsamples = 10\\nvalue = [6, 4]'),\n",
       " Text(778.1632653061224, 206.6842105263158, 'gini = 0.0\\nsamples = 2\\nvalue = [2, 0]'),\n",
       " Text(789.0087463556852, 206.6842105263158, 'X[2] <= 0.007\\ngini = 0.5\\nsamples = 8\\nvalue = [4, 4]'),\n",
       " Text(783.5860058309038, 182.36842105263162, 'gini = 0.0\\nsamples = 2\\nvalue = [2, 0]'),\n",
       " Text(794.4314868804665, 182.36842105263162, 'X[2] <= 0.007\\ngini = 0.444\\nsamples = 6\\nvalue = [2, 4]'),\n",
       " Text(789.0087463556852, 158.0526315789474, 'X[0] <= -0.001\\ngini = 0.5\\nsamples = 4\\nvalue = [2, 2]'),\n",
       " Text(783.5860058309038, 133.73684210526318, 'gini = 0.0\\nsamples = 1\\nvalue = [1, 0]'),\n",
       " Text(794.4314868804665, 133.73684210526318, 'X[1] <= 0.076\\ngini = 0.444\\nsamples = 3\\nvalue = [1, 2]'),\n",
       " Text(789.0087463556852, 109.42105263157896, 'gini = 0.0\\nsamples = 2\\nvalue = [0, 2]'),\n",
       " Text(799.8542274052478, 109.42105263157896, 'gini = 0.0\\nsamples = 1\\nvalue = [1, 0]'),\n",
       " Text(799.8542274052478, 158.0526315789474, 'gini = 0.0\\nsamples = 2\\nvalue = [0, 2]'),\n",
       " Text(810.6997084548105, 328.2631578947369, 'X[0] <= 0.001\\ngini = 0.367\\nsamples = 33\\nvalue = [25, 8]'),\n",
       " Text(805.2769679300292, 303.9473684210526, 'gini = 0.0\\nsamples = 13\\nvalue = [13, 0]'),\n",
       " Text(816.1224489795918, 303.9473684210526, 'X[1] <= 0.071\\ngini = 0.48\\nsamples = 20\\nvalue = [12, 8]'),\n",
       " Text(810.6997084548105, 279.63157894736844, 'gini = 0.0\\nsamples = 6\\nvalue = [6, 0]'),\n",
       " Text(821.5451895043732, 279.63157894736844, 'X[2] <= 0.003\\ngini = 0.49\\nsamples = 14\\nvalue = [6, 8]'),\n",
       " Text(816.1224489795918, 255.31578947368422, 'gini = 0.0\\nsamples = 2\\nvalue = [2, 0]'),\n",
       " Text(826.9679300291546, 255.31578947368422, 'X[1] <= 0.214\\ngini = 0.444\\nsamples = 12\\nvalue = [4, 8]'),\n",
       " Text(816.1224489795918, 231.00000000000003, 'X[1] <= 0.091\\ngini = 0.219\\nsamples = 8\\nvalue = [1, 7]'),\n",
       " Text(810.6997084548105, 206.6842105263158, 'X[2] <= 0.007\\ngini = 0.5\\nsamples = 2\\nvalue = [1, 1]'),\n",
       " Text(805.2769679300292, 182.36842105263162, 'gini = 0.0\\nsamples = 1\\nvalue = [1, 0]'),\n",
       " Text(816.1224489795918, 182.36842105263162, 'gini = 0.0\\nsamples = 1\\nvalue = [0, 1]'),\n",
       " Text(821.5451895043732, 206.6842105263158, 'gini = 0.0\\nsamples = 6\\nvalue = [0, 6]'),\n",
       " Text(837.8134110787172, 231.00000000000003, 'X[0] <= 0.001\\ngini = 0.375\\nsamples = 4\\nvalue = [3, 1]'),\n",
       " Text(832.3906705539358, 206.6842105263158, 'gini = 0.0\\nsamples = 1\\nvalue = [0, 1]'),\n",
       " Text(843.2361516034986, 206.6842105263158, 'gini = 0.0\\nsamples = 3\\nvalue = [3, 0]'),\n",
       " Text(883.9067055393587, 352.57894736842104, 'X[1] <= 11.351\\ngini = 0.251\\nsamples = 102\\nvalue = [87, 15]'),\n",
       " Text(878.4839650145773, 328.2631578947369, 'X[1] <= 0.055\\ngini = 0.239\\nsamples = 101\\nvalue = [87, 14]'),\n",
       " Text(864.927113702624, 303.9473684210526, 'X[1] <= 0.049\\ngini = 0.459\\nsamples = 14\\nvalue = [9, 5]'),\n",
       " Text(859.5043731778426, 279.63157894736844, 'X[1] <= 0.031\\ngini = 0.298\\nsamples = 11\\nvalue = [9, 2]'),\n",
       " Text(854.0816326530612, 255.31578947368422, 'X[2] <= 0.013\\ngini = 0.48\\nsamples = 5\\nvalue = [3, 2]'),\n",
       " Text(848.65889212828, 231.00000000000003, 'gini = 0.0\\nsamples = 1\\nvalue = [0, 1]'),\n",
       " Text(859.5043731778426, 231.00000000000003, 'X[2] <= 0.014\\ngini = 0.375\\nsamples = 4\\nvalue = [3, 1]'),\n",
       " Text(854.0816326530612, 206.6842105263158, 'gini = 0.0\\nsamples = 2\\nvalue = [2, 0]'),\n",
       " Text(864.927113702624, 206.6842105263158, 'X[2] <= 0.016\\ngini = 0.5\\nsamples = 2\\nvalue = [1, 1]'),\n",
       " Text(859.5043731778426, 182.36842105263162, 'gini = 0.0\\nsamples = 1\\nvalue = [0, 1]'),\n",
       " Text(870.3498542274052, 182.36842105263162, 'gini = 0.0\\nsamples = 1\\nvalue = [1, 0]'),\n",
       " Text(864.927113702624, 255.31578947368422, 'gini = 0.0\\nsamples = 6\\nvalue = [6, 0]'),\n",
       " Text(870.3498542274052, 279.63157894736844, 'gini = 0.0\\nsamples = 3\\nvalue = [0, 3]'),\n",
       " Text(892.0408163265306, 303.9473684210526, 'X[1] <= 0.146\\ngini = 0.185\\nsamples = 87\\nvalue = [78, 9]'),\n",
       " Text(881.195335276968, 279.63157894736844, 'X[1] <= 0.073\\ngini = 0.053\\nsamples = 37\\nvalue = [36, 1]'),\n",
       " Text(875.7725947521866, 255.31578947368422, 'X[1] <= 0.07\\ngini = 0.219\\nsamples = 8\\nvalue = [7, 1]'),\n",
       " Text(870.3498542274052, 231.00000000000003, 'gini = 0.0\\nsamples = 7\\nvalue = [7, 0]'),\n",
       " Text(881.195335276968, 231.00000000000003, 'gini = 0.0\\nsamples = 1\\nvalue = [0, 1]'),\n",
       " Text(886.6180758017492, 255.31578947368422, 'gini = 0.0\\nsamples = 29\\nvalue = [29, 0]'),\n",
       " Text(902.8862973760934, 279.63157894736844, 'X[1] <= 0.147\\ngini = 0.269\\nsamples = 50\\nvalue = [42, 8]'),\n",
       " Text(897.463556851312, 255.31578947368422, 'gini = 0.0\\nsamples = 2\\nvalue = [0, 2]'),\n",
       " Text(908.3090379008746, 255.31578947368422, 'X[0] <= 0.003\\ngini = 0.219\\nsamples = 48\\nvalue = [42, 6]'),\n",
       " Text(897.463556851312, 231.00000000000003, 'X[1] <= 0.338\\ngini = 0.133\\nsamples = 42\\nvalue = [39, 3]'),\n",
       " Text(892.0408163265306, 206.6842105263158, 'X[1] <= 0.283\\ngini = 0.219\\nsamples = 24\\nvalue = [21, 3]'),\n",
       " Text(886.6180758017492, 182.36842105263162, 'X[1] <= 0.196\\ngini = 0.087\\nsamples = 22\\nvalue = [21, 1]'),\n",
       " Text(881.195335276968, 158.0526315789474, 'gini = 0.0\\nsamples = 14\\nvalue = [14, 0]'),\n",
       " Text(892.0408163265306, 158.0526315789474, 'X[1] <= 0.203\\ngini = 0.219\\nsamples = 8\\nvalue = [7, 1]'),\n",
       " Text(886.6180758017492, 133.73684210526318, 'gini = 0.0\\nsamples = 1\\nvalue = [0, 1]'),\n",
       " Text(897.463556851312, 133.73684210526318, 'gini = 0.0\\nsamples = 7\\nvalue = [7, 0]'),\n",
       " Text(897.463556851312, 182.36842105263162, 'gini = 0.0\\nsamples = 2\\nvalue = [0, 2]'),\n",
       " Text(902.8862973760934, 206.6842105263158, 'gini = 0.0\\nsamples = 18\\nvalue = [18, 0]'),\n",
       " Text(919.1545189504374, 231.00000000000003, 'X[2] <= 0.018\\ngini = 0.5\\nsamples = 6\\nvalue = [3, 3]'),\n",
       " Text(913.731778425656, 206.6842105263158, 'X[0] <= 0.013\\ngini = 0.375\\nsamples = 4\\nvalue = [1, 3]'),\n",
       " Text(908.3090379008746, 182.36842105263162, 'gini = 0.0\\nsamples = 3\\nvalue = [0, 3]'),\n",
       " Text(919.1545189504374, 182.36842105263162, 'gini = 0.0\\nsamples = 1\\nvalue = [1, 0]'),\n",
       " Text(924.5772594752186, 206.6842105263158, 'gini = 0.0\\nsamples = 2\\nvalue = [2, 0]'),\n",
       " Text(889.3294460641399, 328.2631578947369, 'gini = 0.0\\nsamples = 1\\nvalue = [0, 1]')]"
      ]
     },
     "execution_count": 254,
     "metadata": {},
     "output_type": "execute_result"
    },
    {
     "data": {
      "image/png": "[encoded data removed]",
      "text/plain": [
       "<Figure size 1200x600 with 1 Axes>"
      ]
     },
     "metadata": {},
     "output_type": "display_data"
    }
   ],
   "source": [
    "plt.figure(figsize=(12,6))\n",
    "tree.plot_tree(rbdTree,filled=True)"
   ]
  },
  {
   "cell_type": "markdown",
   "metadata": {
    "slideshow": {
     "slide_type": "slide"
    }
   },
   "source": [
    "## 集成学习"
   ]
  },
  {
   "cell_type": "markdown",
   "metadata": {
    "slideshow": {
     "slide_type": "fragment"
    }
   },
   "source": [
    "<dl class=\"row alert-danger\">\n",
    "    <dt class=\"col-md-3\">集成学习（ensemble learning）</dt>\n",
    "    <dd class=\"col-md-9\">通过构建并结合多个分类器来完成学习任务。</dd>\n",
    "</dl>"
   ]
  },
  {
   "cell_type": "markdown",
   "metadata": {
    "slideshow": {
     "slide_type": "fragment"
    }
   },
   "source": [
    "- 典型方法\n",
    "    - 装袋算法（bagging）与随机森林（random forest）\n",
    "    - 提升算法（boosting）"
   ]
  },
  {
   "cell_type": "markdown",
   "metadata": {
    "slideshow": {
     "slide_type": "slide"
    }
   },
   "source": [
    "### boosting算法"
   ]
  },
  {
   "cell_type": "markdown",
   "metadata": {
    "slideshow": {
     "slide_type": "fragment"
    }
   },
   "source": [
    "- 将弱分类器提升为强分类器的算法"
   ]
  },
  {
   "cell_type": "markdown",
   "metadata": {
    "slideshow": {
     "slide_type": "fragment"
    }
   },
   "source": [
    "- 通过顺次迭代的方式生成最终的分类器"
   ]
  },
  {
   "cell_type": "markdown",
   "metadata": {
    "slideshow": {
     "slide_type": "slide"
    }
   },
   "source": [
    "- 基本思想"
   ]
  },
  {
   "cell_type": "markdown",
   "metadata": {
    "slideshow": {
     "slide_type": "fragment"
    }
   },
   "source": [
    "1. 初始化，令残差等于当前的类标签，即$r_i=y_i, i=1,2,\\cdots,n$"
   ]
  },
  {
   "cell_type": "markdown",
   "metadata": {
    "slideshow": {
     "slide_type": "fragment"
    }
   },
   "source": [
    "2. 设置需要生成的分类器的数量，$B$，对于每一个$b\\in B$进行如下操作：\n",
    "    1. 在训练集上生成第$b$个分类器$\\hat{f}_b(\\boldsymbol{\\rm x})$;\n",
    "    \n",
    "    2. 更新类标签（残差），$r_i=r_i-\\alpha_b\\hat{f}_b(\\boldsymbol{\\rm x})$"
   ]
  },
  {
   "cell_type": "markdown",
   "metadata": {
    "slideshow": {
     "slide_type": "fragment"
    }
   },
   "source": [
    "3. 将单个分类器叠加得到最终的分类器\n",
    "$$\n",
    "    \\hat{f}(\\boldsymbol{\\rm x})=\\sum_{b=1}^B\\alpha_b\\hat{f}_b(\\boldsymbol{\\rm x})\n",
    "$$"
   ]
  },
  {
   "cell_type": "markdown",
   "metadata": {
    "slideshow": {
     "slide_type": "fragment"
    }
   },
   "source": [
    "- 原理：每个新的分类器都是在上次分类的残差上拟合，使得最终的分类器能够对单个分类器分类较差的区域给予改进"
   ]
  },
  {
   "cell_type": "markdown",
   "metadata": {
    "slideshow": {
     "slide_type": "fragment"
    }
   },
   "source": [
    "- 常用的提升算法\n",
    "    - AdaBoost\n",
    "    - xgboost\n",
    "    - LogitBoost"
   ]
  },
  {
   "cell_type": "markdown",
   "metadata": {
    "slideshow": {
     "slide_type": "slide"
    }
   },
   "source": [
    "## 随机森林（Random Forest）"
   ]
  },
  {
   "cell_type": "markdown",
   "metadata": {
    "slideshow": {
     "slide_type": "fragment"
    }
   },
   "source": [
    "### 装袋"
   ]
  },
  {
   "cell_type": "markdown",
   "metadata": {
    "slideshow": {
     "slide_type": "fragment"
    }
   },
   "source": [
    "<dl class=\"row alert-info\">\n",
    "    <dt class=\"col-md-3\">自助法（bootstraping）</dt>\n",
    "    <dd class=\"col-md-9\">有放回的随机采样方法。</dd>\n",
    "</dl>"
   ]
  },
  {
   "cell_type": "markdown",
   "metadata": {
    "slideshow": {
     "slide_type": "fragment"
    }
   },
   "source": [
    "- 解决金融交易中只有一条历史样本数据的问题"
   ]
  },
  {
   "cell_type": "markdown",
   "metadata": {
    "slideshow": {
     "slide_type": "fragment"
    }
   },
   "source": [
    "- 原理：如果$N$个独立同分布（$iid$）的样本，每个样本的方差为$\\sigma^2$，那么样本均值的方差为$\\frac{\\sigma^2}{N}$"
   ]
  },
  {
   "cell_type": "markdown",
   "metadata": {
    "slideshow": {
     "slide_type": "fragment"
    }
   },
   "source": [
    "- 装袋过程\n",
    "    1. 通过自助采样，生成$B$个样本；\n",
    "    2. 在每个样本上训练一个分类器$\\hat{f}_b(\\boldsymbol{\\rm x})$；\n",
    "    3. 将各个分类器合成得到最终分类器\n",
    "    $$\n",
    "        \\hat{f}_{\\text{avg}}(\\boldsymbol{\\rm x})=\\frac{1}{B}\\sum_{b=1}^B\\hat{f}_b(\\boldsymbol{\\rm x})\n",
    "    $$"
   ]
  },
  {
   "cell_type": "markdown",
   "metadata": {
    "slideshow": {
     "slide_type": "slide"
    }
   },
   "source": [
    "### 随机森林"
   ]
  },
  {
   "cell_type": "markdown",
   "metadata": {
    "slideshow": {
     "slide_type": "fragment"
    }
   },
   "source": [
    "- 特征装袋（feature bagging），降低不同决策树之间的相关性"
   ]
  },
  {
   "cell_type": "markdown",
   "metadata": {
    "slideshow": {
     "slide_type": "fragment"
    }
   },
   "source": [
    "- 组合多个决策树，通过投票的方式确定样本所属的类别，使得整体模型在抑止过度拟合的同时，获得较好的精确度"
   ]
  },
  {
   "cell_type": "markdown",
   "metadata": {
    "slideshow": {
     "slide_type": "slide"
    }
   },
   "source": [
    "<center><img src=\"./img/dataMining/randomForest.jpg\" width=100%></center>"
   ]
  },
  {
   "cell_type": "markdown",
   "metadata": {
    "slideshow": {
     "slide_type": "slide"
    }
   },
   "source": [
    "### 建立随机森林模型"
   ]
  },
  {
   "cell_type": "markdown",
   "metadata": {
    "slideshow": {
     "slide_type": "fragment"
    }
   },
   "source": [
    "```python\n",
    "from sklearn import ensemble\n",
    "ensemble.RandomForestClassifier()\n",
    "```"
   ]
  },
  {
   "cell_type": "code",
   "execution_count": 289,
   "metadata": {
    "slideshow": {
     "slide_type": "fragment"
    }
   },
   "outputs": [],
   "source": [
    "rbRandTree = ensemble.RandomForestClassifier(random_state=10)"
   ]
  },
  {
   "cell_type": "code",
   "execution_count": 290,
   "metadata": {
    "slideshow": {
     "slide_type": "fragment"
    }
   },
   "outputs": [
    {
     "data": {
      "text/plain": [
       "RandomForestClassifier(bootstrap=True, ccp_alpha=0.0, class_weight=None,\n",
       "                       criterion='gini', max_depth=None, max_features='auto',\n",
       "                       max_leaf_nodes=None, max_samples=None,\n",
       "                       min_impurity_decrease=0.0, min_impurity_split=None,\n",
       "                       min_samples_leaf=1, min_samples_split=2,\n",
       "                       min_weight_fraction_leaf=0.0, n_estimators=100,\n",
       "                       n_jobs=None, oob_score=False, random_state=10, verbose=0,\n",
       "                       warm_start=False)"
      ]
     },
     "execution_count": 290,
     "metadata": {},
     "output_type": "execute_result"
    }
   ],
   "source": [
    "rbRandTree.fit(rbdTrain.loc[:,['mf','vola','val']],rbdTrain['y'])"
   ]
  },
  {
   "cell_type": "markdown",
   "metadata": {
    "slideshow": {
     "slide_type": "slide"
    }
   },
   "source": [
    "### 训练集分类效果检验"
   ]
  },
  {
   "cell_type": "code",
   "execution_count": 262,
   "metadata": {
    "slideshow": {
     "slide_type": "fragment"
    }
   },
   "outputs": [],
   "source": [
    "rbRandTrainYPre = rbRandTree.predict(rbdTrain.loc[:,['mf','vola','val']])"
   ]
  },
  {
   "cell_type": "code",
   "execution_count": 263,
   "metadata": {
    "slideshow": {
     "slide_type": "fragment"
    }
   },
   "outputs": [
    {
     "data": {
      "text/plain": [
       "1.0"
      ]
     },
     "execution_count": 263,
     "metadata": {},
     "output_type": "execute_result"
    }
   ],
   "source": [
    "metrics.accuracy_score(rbRandTrainYPre,rbdTrain['y'])"
   ]
  },
  {
   "cell_type": "code",
   "execution_count": 264,
   "metadata": {
    "slideshow": {
     "slide_type": "fragment"
    }
   },
   "outputs": [
    {
     "data": {
      "text/plain": [
       "1.0"
      ]
     },
     "execution_count": 264,
     "metadata": {},
     "output_type": "execute_result"
    }
   ],
   "source": [
    "metrics.f1_score(rbRandTrainYPre,rbdTrain['y'],pos_label=1)"
   ]
  },
  {
   "cell_type": "code",
   "execution_count": 265,
   "metadata": {
    "slideshow": {
     "slide_type": "fragment"
    }
   },
   "outputs": [
    {
     "data": {
      "text/plain": [
       "1.0"
      ]
     },
     "execution_count": 265,
     "metadata": {},
     "output_type": "execute_result"
    }
   ],
   "source": [
    "metrics.f1_score(rbRandTrainYPre,rbdTrain['y'],pos_label=-1)"
   ]
  },
  {
   "cell_type": "markdown",
   "metadata": {
    "slideshow": {
     "slide_type": "slide"
    }
   },
   "source": [
    "### 检验集分类效果检验"
   ]
  },
  {
   "cell_type": "code",
   "execution_count": 266,
   "metadata": {
    "slideshow": {
     "slide_type": "fragment"
    }
   },
   "outputs": [],
   "source": [
    "rbRandTestYPre = rbRandTree.predict(rbdTest.loc[:,['mf','vola','val']])"
   ]
  },
  {
   "cell_type": "code",
   "execution_count": 267,
   "metadata": {
    "slideshow": {
     "slide_type": "fragment"
    }
   },
   "outputs": [
    {
     "data": {
      "text/plain": [
       "0.6538461538461539"
      ]
     },
     "execution_count": 267,
     "metadata": {},
     "output_type": "execute_result"
    }
   ],
   "source": [
    "metrics.accuracy_score(rbRandTestYPre,rbdTest['y'])"
   ]
  },
  {
   "cell_type": "code",
   "execution_count": 268,
   "metadata": {
    "slideshow": {
     "slide_type": "fragment"
    }
   },
   "outputs": [
    {
     "data": {
      "text/plain": [
       "0.6732673267326733"
      ]
     },
     "execution_count": 268,
     "metadata": {},
     "output_type": "execute_result"
    }
   ],
   "source": [
    "metrics.f1_score(rbRandTestYPre,rbdTest['y'],pos_label=1)"
   ]
  },
  {
   "cell_type": "code",
   "execution_count": 269,
   "metadata": {
    "slideshow": {
     "slide_type": "fragment"
    }
   },
   "outputs": [
    {
     "data": {
      "text/plain": [
       "0.6319702602230484"
      ]
     },
     "execution_count": 269,
     "metadata": {},
     "output_type": "execute_result"
    }
   ],
   "source": [
    "metrics.f1_score(rbRandTestYPre,rbdTest['y'],pos_label=-1)"
   ]
  },
  {
   "cell_type": "code",
   "execution_count": 283,
   "metadata": {
    "slideshow": {
     "slide_type": "skip"
    }
   },
   "outputs": [],
   "source": [
    "rbRandTreeNew = ensemble.RandomForestClassifier(random_state=10)"
   ]
  },
  {
   "cell_type": "code",
   "execution_count": 288,
   "metadata": {
    "slideshow": {
     "slide_type": "skip"
    }
   },
   "outputs": [
    {
     "data": {
      "text/plain": [
       "array([0.70491803, 0.7398374 , 0.69291339, 0.70434783, 0.69135802])"
      ]
     },
     "execution_count": 288,
     "metadata": {},
     "output_type": "execute_result"
    }
   ],
   "source": [
    "trainScores = model_selection.cross_val_score(rbRandTreeNew,rbd.loc[:,['mf','vola','val']],rbd['y'],cv=5)\n",
    "trainScores"
   ]
  },
  {
   "cell_type": "code",
   "execution_count": 286,
   "metadata": {
    "slideshow": {
     "slide_type": "skip"
    }
   },
   "outputs": [
    {
     "data": {
      "text/plain": [
       "0.6876618401899945"
      ]
     },
     "execution_count": 286,
     "metadata": {},
     "output_type": "execute_result"
    }
   ],
   "source": [
    "trainScores.mean()"
   ]
  },
  {
   "cell_type": "markdown",
   "metadata": {
    "slideshow": {
     "slide_type": "slide"
    }
   },
   "source": [
    "# 聚类模型"
   ]
  },
  {
   "cell_type": "markdown",
   "metadata": {
    "slideshow": {
     "slide_type": "slide"
    }
   },
   "source": [
    "## 基本概念"
   ]
  },
  {
   "cell_type": "markdown",
   "metadata": {
    "slideshow": {
     "slide_type": "fragment"
    }
   },
   "source": [
    "<dl class=\"row alert-info\">\n",
    "    <dt class=\"col-md-2\">聚类</dt>\n",
    "    <dd class=\"col-md-10\">是一种将特征相似的样本聚集到一起，从而达到区分具有不同特征的样本的目的无监督的算法</dd>\n",
    "</dl>"
   ]
  },
  {
   "cell_type": "markdown",
   "metadata": {
    "slideshow": {
     "slide_type": "fragment"
    }
   },
   "source": [
    "- 不需要事先知道类别信息"
   ]
  },
  {
   "cell_type": "markdown",
   "metadata": {
    "slideshow": {
     "slide_type": "fragment"
    }
   },
   "source": [
    "- 聚类形成的每一个组，被称为**簇（cluster）**"
   ]
  },
  {
   "cell_type": "markdown",
   "metadata": {
    "slideshow": {
     "slide_type": "fragment"
    }
   },
   "source": [
    "- 聚类的目标：簇内的样本之间尽可能相似，不同簇的样本尽可能不同"
   ]
  },
  {
   "cell_type": "markdown",
   "metadata": {
    "slideshow": {
     "slide_type": "fragment"
    }
   },
   "source": [
    "<img src=\"./img/dataMining/clustering.png\" width=50%>"
   ]
  },
  {
   "cell_type": "markdown",
   "metadata": {
    "slideshow": {
     "slide_type": "slide"
    }
   },
   "source": [
    "## K均值"
   ]
  },
  {
   "cell_type": "markdown",
   "metadata": {
    "slideshow": {
     "slide_type": "fragment"
    }
   },
   "source": [
    "- 基于划分的聚类，发现指定个数（$K$）的簇"
   ]
  },
  {
   "cell_type": "markdown",
   "metadata": {
    "slideshow": {
     "slide_type": "fragment"
    }
   },
   "source": [
    "- 基本思想：利用样本之间的距离衡量样本之间的相似性，用一组样本的质心（该组样本的均值）作为簇的中心，找到紧凑且独立的簇"
   ]
  },
  {
   "cell_type": "markdown",
   "metadata": {
    "slideshow": {
     "slide_type": "fragment"
    }
   },
   "source": [
    "- 簇之间彼此**互斥**，即每个样本**只能**分属于一个簇"
   ]
  },
  {
   "cell_type": "markdown",
   "metadata": {
    "slideshow": {
     "slide_type": "slide"
    }
   },
   "source": [
    "### 基本算法"
   ]
  },
  {
   "cell_type": "markdown",
   "metadata": {
    "slideshow": {
     "slide_type": "fragment"
    }
   },
   "source": [
    "<center><img src='./img/dataMining/kmago.svg' width=100%></center>"
   ]
  },
  {
   "cell_type": "markdown",
   "metadata": {
    "slideshow": {
     "slide_type": "slide"
    }
   },
   "source": [
    "##### $K$均值聚类过程示例\n",
    "\n",
    "<center><img src=\"./img/dataMining/kmeansProcess.gif\" width=100%></center>"
   ]
  },
  {
   "cell_type": "markdown",
   "metadata": {
    "slideshow": {
     "slide_type": "slide"
    }
   },
   "source": [
    "#### 距离的度量"
   ]
  },
  {
   "cell_type": "markdown",
   "metadata": {
    "slideshow": {
     "slide_type": "fragment"
    }
   },
   "source": [
    "- 欧式空间：欧几里得距离，$n$维空间中两个点$\\boldsymbol{x}$和$\\boldsymbol{y}$之间的欧几里得距离是:\n",
    "$$\n",
    "d(\\boldsymbol{x}, \\boldsymbol{y}) = \\sqrt{\\sum_{k=1}^n(x_k-y_k)^2}\n",
    "$$"
   ]
  },
  {
   "cell_type": "markdown",
   "metadata": {
    "slideshow": {
     "slide_type": "slide"
    }
   },
   "source": [
    "#### 目标函数"
   ]
  },
  {
   "cell_type": "markdown",
   "metadata": {
    "slideshow": {
     "slide_type": "fragment"
    }
   },
   "source": [
    "- 目标函数为每个点到最近质心的欧几里得距离的**误差平方和**（sum of the squared error, SSE）最小"
   ]
  },
  {
   "cell_type": "markdown",
   "metadata": {
    "slideshow": {
     "slide_type": "fragment"
    }
   },
   "source": [
    "$$\n",
    "\\begin{split}\n",
    "SSE &= \\sum_{i=1}^K\\sum_{\\boldsymbol{x}\\in C_i}d(\\boldsymbol{c}_i, \\boldsymbol{x})^2\\\\\n",
    "\\boldsymbol{c}_i&=\\frac{1}{m_i}\\sum_{\\boldsymbol{x}\\in C_i}\\boldsymbol{x}\n",
    "\\end{split}\n",
    "$$\n",
    "其中，$\\boldsymbol{x}$是数据点，$C_i$是第$i$个簇，$c_i$是第$i$个簇的质心，$m_i$是第$i$个簇包含的数据点的个数，$K$是簇的个数"
   ]
  },
  {
   "cell_type": "markdown",
   "metadata": {
    "slideshow": {
     "slide_type": "fragment"
    }
   },
   "source": [
    "- 簇内的误差平方和（SSE）也被称作cluster inertia"
   ]
  },
  {
   "cell_type": "markdown",
   "metadata": {
    "slideshow": {
     "slide_type": "slide"
    }
   },
   "source": [
    "### $K$均值的`Python`实现"
   ]
  },
  {
   "cell_type": "markdown",
   "metadata": {
    "slideshow": {
     "slide_type": "fragment"
    }
   },
   "source": [
    "```python\n",
    "from sklearn.cluster import KMeans\n",
    "KMeans(n_clusters=8, init=’k-means++’, max_iter=300, random_state=None, n_jobs=None)\n",
    "```\n",
    "- `n_clusters`：`int`类型，簇的个数\n",
    "- `init`：初始质心的方法，可以选择`k-means++`或`random`\n",
    "- `max_iter`：最大迭代次数\n",
    "- `random_state`：初始质心的随机生成种子\n",
    "- `n_jobs`：用多少个CPU运行"
   ]
  },
  {
   "cell_type": "markdown",
   "metadata": {
    "slideshow": {
     "slide_type": "slide"
    }
   },
   "source": [
    "#### 选择$K$值"
   ]
  },
  {
   "cell_type": "markdown",
   "metadata": {
    "slideshow": {
     "slide_type": "fragment"
    }
   },
   "source": [
    "> 随着$K$值的增大，簇内误差平方和（SSE）会降低"
   ]
  },
  {
   "cell_type": "markdown",
   "metadata": {
    "slideshow": {
     "slide_type": "fragment"
    }
   },
   "source": [
    "<dl class=\"row alert-info\">\n",
    "    <dt class=\"col-xl-4\">肘部(elbow)法则<dt>\n",
    "    <dd class=\"col-xl-8\">识别SSE<strong>开始快速增大</strong>处的$K$值</dd>\n",
    "</dl>"
   ]
  },
  {
   "cell_type": "code",
   "execution_count": 12,
   "metadata": {
    "scrolled": true,
    "slideshow": {
     "slide_type": "fragment"
    }
   },
   "outputs": [
    {
     "data": {
      "text/plain": [
       "KMeans(algorithm='auto', copy_x=True, init='k-means++', max_iter=300,\n",
       "       n_clusters=1, n_init=10, n_jobs=-1, precompute_distances='auto',\n",
       "       random_state=0, tol=0.0001, verbose=0)"
      ]
     },
     "execution_count": 12,
     "metadata": {},
     "output_type": "execute_result"
    },
    {
     "data": {
      "text/plain": [
       "KMeans(algorithm='auto', copy_x=True, init='k-means++', max_iter=300,\n",
       "       n_clusters=2, n_init=10, n_jobs=-1, precompute_distances='auto',\n",
       "       random_state=0, tol=0.0001, verbose=0)"
      ]
     },
     "execution_count": 12,
     "metadata": {},
     "output_type": "execute_result"
    },
    {
     "data": {
      "text/plain": [
       "KMeans(algorithm='auto', copy_x=True, init='k-means++', max_iter=300,\n",
       "       n_clusters=3, n_init=10, n_jobs=-1, precompute_distances='auto',\n",
       "       random_state=0, tol=0.0001, verbose=0)"
      ]
     },
     "execution_count": 12,
     "metadata": {},
     "output_type": "execute_result"
    },
    {
     "data": {
      "text/plain": [
       "KMeans(algorithm='auto', copy_x=True, init='k-means++', max_iter=300,\n",
       "       n_clusters=4, n_init=10, n_jobs=-1, precompute_distances='auto',\n",
       "       random_state=0, tol=0.0001, verbose=0)"
      ]
     },
     "execution_count": 12,
     "metadata": {},
     "output_type": "execute_result"
    },
    {
     "data": {
      "text/plain": [
       "KMeans(algorithm='auto', copy_x=True, init='k-means++', max_iter=300,\n",
       "       n_clusters=5, n_init=10, n_jobs=-1, precompute_distances='auto',\n",
       "       random_state=0, tol=0.0001, verbose=0)"
      ]
     },
     "execution_count": 12,
     "metadata": {},
     "output_type": "execute_result"
    },
    {
     "data": {
      "text/plain": [
       "KMeans(algorithm='auto', copy_x=True, init='k-means++', max_iter=300,\n",
       "       n_clusters=6, n_init=10, n_jobs=-1, precompute_distances='auto',\n",
       "       random_state=0, tol=0.0001, verbose=0)"
      ]
     },
     "execution_count": 12,
     "metadata": {},
     "output_type": "execute_result"
    },
    {
     "data": {
      "text/plain": [
       "KMeans(algorithm='auto', copy_x=True, init='k-means++', max_iter=300,\n",
       "       n_clusters=7, n_init=10, n_jobs=-1, precompute_distances='auto',\n",
       "       random_state=0, tol=0.0001, verbose=0)"
      ]
     },
     "execution_count": 12,
     "metadata": {},
     "output_type": "execute_result"
    },
    {
     "data": {
      "text/plain": [
       "KMeans(algorithm='auto', copy_x=True, init='k-means++', max_iter=300,\n",
       "       n_clusters=8, n_init=10, n_jobs=-1, precompute_distances='auto',\n",
       "       random_state=0, tol=0.0001, verbose=0)"
      ]
     },
     "execution_count": 12,
     "metadata": {},
     "output_type": "execute_result"
    },
    {
     "data": {
      "text/plain": [
       "KMeans(algorithm='auto', copy_x=True, init='k-means++', max_iter=300,\n",
       "       n_clusters=9, n_init=10, n_jobs=-1, precompute_distances='auto',\n",
       "       random_state=0, tol=0.0001, verbose=0)"
      ]
     },
     "execution_count": 12,
     "metadata": {},
     "output_type": "execute_result"
    },
    {
     "data": {
      "text/plain": [
       "KMeans(algorithm='auto', copy_x=True, init='k-means++', max_iter=300,\n",
       "       n_clusters=10, n_init=10, n_jobs=-1, precompute_distances='auto',\n",
       "       random_state=0, tol=0.0001, verbose=0)"
      ]
     },
     "execution_count": 12,
     "metadata": {},
     "output_type": "execute_result"
    },
    {
     "data": {
      "text/plain": [
       "[[Text(0, 0, '1'),\n",
       "  Text(0, 0, '2'),\n",
       "  Text(0, 0, '3'),\n",
       "  Text(0, 0, '4'),\n",
       "  Text(0, 0, '5'),\n",
       "  Text(0, 0, '6'),\n",
       "  Text(0, 0, '7'),\n",
       "  Text(0, 0, '8'),\n",
       "  Text(0, 0, '9'),\n",
       "  Text(0, 0, '10')]]"
      ]
     },
     "execution_count": 12,
     "metadata": {},
     "output_type": "execute_result"
    },
    {
     "data": {
      "image/png": "[encoded data removed]",
      "text/plain": [
       "<Figure size 864x432 with 1 Axes>"
      ]
     },
     "metadata": {
      "needs_background": "light"
     },
     "output_type": "display_data"
    }
   ],
   "source": [
    "sse = []                ###记录每个k值对应的SSE\n",
    "for k in range(1,11):\n",
    "    km = KMeans(n_clusters=k,random_state=0,n_jobs=-1)\n",
    "    km.fit(irisX)\n",
    "    sse.append(km.inertia_)\n",
    "ax = pd.Series(sse).plot(kind='line',figsize=(12,6),marker='o',grid=True,xticks=range(0,10))   #xticks：在哪些位置显示x轴刻度标签\n",
    "ax.set(xticklabels=range(1,11))        # 改变x轴标签显示，默认是从0开始"
   ]
  },
  {
   "cell_type": "markdown",
   "metadata": {
    "slideshow": {
     "slide_type": "fragment"
    }
   },
   "source": [
    "- 当$K=3$的时候，SSE**开始快速增大**，所以选择3个簇"
   ]
  },
  {
   "cell_type": "markdown",
   "metadata": {
    "slideshow": {
     "slide_type": "slide"
    }
   },
   "source": [
    "## 聚类ohlc数据"
   ]
  },
  {
   "cell_type": "markdown",
   "metadata": {
    "slideshow": {
     "slide_type": "fragment"
    }
   },
   "source": [
    "- 问题：识别市场状态（market regimes），趋势还是震荡？"
   ]
  },
  {
   "cell_type": "markdown",
   "metadata": {
    "slideshow": {
     "slide_type": "fragment"
    }
   },
   "source": [
    "### 读入数据"
   ]
  },
  {
   "cell_type": "code",
   "execution_count": 79,
   "metadata": {
    "slideshow": {
     "slide_type": "fragment"
    }
   },
   "outputs": [
    {
     "data": {
      "text/html": [
       "<div>\n",
       "<style scoped>\n",
       "    .dataframe tbody tr th:only-of-type {\n",
       "        vertical-align: middle;\n",
       "    }\n",
       "\n",
       "    .dataframe tbody tr th {\n",
       "        vertical-align: top;\n",
       "    }\n",
       "\n",
       "    .dataframe thead th {\n",
       "        text-align: right;\n",
       "    }\n",
       "</style>\n",
       "<table border=\"1\" class=\"dataframe\">\n",
       "  <thead>\n",
       "    <tr style=\"text-align: right;\">\n",
       "      <th></th>\n",
       "      <th>Date</th>\n",
       "      <th>Open</th>\n",
       "      <th>High</th>\n",
       "      <th>Low</th>\n",
       "      <th>Close</th>\n",
       "    </tr>\n",
       "  </thead>\n",
       "  <tbody>\n",
       "    <tr>\n",
       "      <th>0</th>\n",
       "      <td>2019-12-05 14:15:00</td>\n",
       "      <td>3423.0</td>\n",
       "      <td>3427.0</td>\n",
       "      <td>3422.0</td>\n",
       "      <td>3426.0</td>\n",
       "    </tr>\n",
       "    <tr>\n",
       "      <th>1</th>\n",
       "      <td>2019-12-05 14:16:00</td>\n",
       "      <td>3426.0</td>\n",
       "      <td>3428.0</td>\n",
       "      <td>3424.0</td>\n",
       "      <td>3427.0</td>\n",
       "    </tr>\n",
       "    <tr>\n",
       "      <th>2</th>\n",
       "      <td>2019-12-05 14:17:00</td>\n",
       "      <td>3428.0</td>\n",
       "      <td>3428.0</td>\n",
       "      <td>3426.0</td>\n",
       "      <td>3426.0</td>\n",
       "    </tr>\n",
       "    <tr>\n",
       "      <th>3</th>\n",
       "      <td>2019-12-05 14:18:00</td>\n",
       "      <td>3426.0</td>\n",
       "      <td>3427.0</td>\n",
       "      <td>3425.0</td>\n",
       "      <td>3427.0</td>\n",
       "    </tr>\n",
       "    <tr>\n",
       "      <th>4</th>\n",
       "      <td>2019-12-05 14:19:00</td>\n",
       "      <td>3427.0</td>\n",
       "      <td>3428.0</td>\n",
       "      <td>3426.0</td>\n",
       "      <td>3427.0</td>\n",
       "    </tr>\n",
       "  </tbody>\n",
       "</table>\n",
       "</div>"
      ],
      "text/plain": [
       "                  Date    Open    High     Low   Close\n",
       "0  2019-12-05 14:15:00  3423.0  3427.0  3422.0  3426.0\n",
       "1  2019-12-05 14:16:00  3426.0  3428.0  3424.0  3427.0\n",
       "2  2019-12-05 14:17:00  3428.0  3428.0  3426.0  3426.0\n",
       "3  2019-12-05 14:18:00  3426.0  3427.0  3425.0  3427.0\n",
       "4  2019-12-05 14:19:00  3427.0  3428.0  3426.0  3427.0"
      ]
     },
     "execution_count": 79,
     "metadata": {},
     "output_type": "execute_result"
    },
    {
     "data": {
      "text/plain": [
       "(54314, 5)"
      ]
     },
     "execution_count": 79,
     "metadata": {},
     "output_type": "execute_result"
    }
   ],
   "source": [
    "rbBar = pd.read_csv('./data/models/rbChangeContract.csv')\n",
    "rbBar.head()\n",
    "rbBar.shape"
   ]
  },
  {
   "cell_type": "code",
   "execution_count": 80,
   "metadata": {
    "slideshow": {
     "slide_type": "fragment"
    }
   },
   "outputs": [
    {
     "data": {
      "text/html": [
       "<div>\n",
       "<style scoped>\n",
       "    .dataframe tbody tr th:only-of-type {\n",
       "        vertical-align: middle;\n",
       "    }\n",
       "\n",
       "    .dataframe tbody tr th {\n",
       "        vertical-align: top;\n",
       "    }\n",
       "\n",
       "    .dataframe thead th {\n",
       "        text-align: right;\n",
       "    }\n",
       "</style>\n",
       "<table border=\"1\" class=\"dataframe\">\n",
       "  <thead>\n",
       "    <tr style=\"text-align: right;\">\n",
       "      <th></th>\n",
       "      <th>Open</th>\n",
       "      <th>High</th>\n",
       "      <th>Low</th>\n",
       "      <th>Close</th>\n",
       "    </tr>\n",
       "    <tr>\n",
       "      <th>Date</th>\n",
       "      <th></th>\n",
       "      <th></th>\n",
       "      <th></th>\n",
       "      <th></th>\n",
       "    </tr>\n",
       "  </thead>\n",
       "  <tbody>\n",
       "    <tr>\n",
       "      <th>2019-12-05 14:15:00</th>\n",
       "      <td>3423.0</td>\n",
       "      <td>3427.0</td>\n",
       "      <td>3422.0</td>\n",
       "      <td>3426.0</td>\n",
       "    </tr>\n",
       "    <tr>\n",
       "      <th>2019-12-05 14:16:00</th>\n",
       "      <td>3426.0</td>\n",
       "      <td>3428.0</td>\n",
       "      <td>3424.0</td>\n",
       "      <td>3427.0</td>\n",
       "    </tr>\n",
       "    <tr>\n",
       "      <th>2019-12-05 14:17:00</th>\n",
       "      <td>3428.0</td>\n",
       "      <td>3428.0</td>\n",
       "      <td>3426.0</td>\n",
       "      <td>3426.0</td>\n",
       "    </tr>\n",
       "    <tr>\n",
       "      <th>2019-12-05 14:18:00</th>\n",
       "      <td>3426.0</td>\n",
       "      <td>3427.0</td>\n",
       "      <td>3425.0</td>\n",
       "      <td>3427.0</td>\n",
       "    </tr>\n",
       "    <tr>\n",
       "      <th>2019-12-05 14:19:00</th>\n",
       "      <td>3427.0</td>\n",
       "      <td>3428.0</td>\n",
       "      <td>3426.0</td>\n",
       "      <td>3427.0</td>\n",
       "    </tr>\n",
       "  </tbody>\n",
       "</table>\n",
       "</div>"
      ],
      "text/plain": [
       "                       Open    High     Low   Close\n",
       "Date                                               \n",
       "2019-12-05 14:15:00  3423.0  3427.0  3422.0  3426.0\n",
       "2019-12-05 14:16:00  3426.0  3428.0  3424.0  3427.0\n",
       "2019-12-05 14:17:00  3428.0  3428.0  3426.0  3426.0\n",
       "2019-12-05 14:18:00  3426.0  3427.0  3425.0  3427.0\n",
       "2019-12-05 14:19:00  3427.0  3428.0  3426.0  3427.0"
      ]
     },
     "execution_count": 80,
     "metadata": {},
     "output_type": "execute_result"
    }
   ],
   "source": [
    "rbBar['Date'] = pd.to_datetime(rbBar['Date'],format='%Y-%m-%d %H:%M:%S')\n",
    "rbBar.set_index('Date',inplace=True)\n",
    "rbBar.head()"
   ]
  },
  {
   "cell_type": "markdown",
   "metadata": {
    "slideshow": {
     "slide_type": "slide"
    }
   },
   "source": [
    "### 归一化数据"
   ]
  },
  {
   "cell_type": "markdown",
   "metadata": {
    "slideshow": {
     "slide_type": "fragment"
    }
   },
   "source": [
    "- 目的：使得各交易时段的数据可比"
   ]
  },
  {
   "cell_type": "markdown",
   "metadata": {
    "slideshow": {
     "slide_type": "fragment"
    }
   },
   "source": [
    "- 以每个交易时段内的开盘价作为基准"
   ]
  },
  {
   "cell_type": "code",
   "execution_count": 81,
   "metadata": {
    "slideshow": {
     "slide_type": "fragment"
    }
   },
   "outputs": [
    {
     "data": {
      "text/html": [
       "<div>\n",
       "<style scoped>\n",
       "    .dataframe tbody tr th:only-of-type {\n",
       "        vertical-align: middle;\n",
       "    }\n",
       "\n",
       "    .dataframe tbody tr th {\n",
       "        vertical-align: top;\n",
       "    }\n",
       "\n",
       "    .dataframe thead th {\n",
       "        text-align: right;\n",
       "    }\n",
       "</style>\n",
       "<table border=\"1\" class=\"dataframe\">\n",
       "  <thead>\n",
       "    <tr style=\"text-align: right;\">\n",
       "      <th></th>\n",
       "      <th>Open</th>\n",
       "      <th>High</th>\n",
       "      <th>Low</th>\n",
       "      <th>Close</th>\n",
       "      <th>HO</th>\n",
       "      <th>LO</th>\n",
       "      <th>CO</th>\n",
       "    </tr>\n",
       "    <tr>\n",
       "      <th>Date</th>\n",
       "      <th></th>\n",
       "      <th></th>\n",
       "      <th></th>\n",
       "      <th></th>\n",
       "      <th></th>\n",
       "      <th></th>\n",
       "      <th></th>\n",
       "    </tr>\n",
       "  </thead>\n",
       "  <tbody>\n",
       "    <tr>\n",
       "      <th>2019-12-05 14:15:00</th>\n",
       "      <td>3423.0</td>\n",
       "      <td>3427.0</td>\n",
       "      <td>3422.0</td>\n",
       "      <td>3426.0</td>\n",
       "      <td>1.001169</td>\n",
       "      <td>0.999708</td>\n",
       "      <td>1.000876</td>\n",
       "    </tr>\n",
       "    <tr>\n",
       "      <th>2019-12-05 14:16:00</th>\n",
       "      <td>3426.0</td>\n",
       "      <td>3428.0</td>\n",
       "      <td>3424.0</td>\n",
       "      <td>3427.0</td>\n",
       "      <td>1.000584</td>\n",
       "      <td>0.999416</td>\n",
       "      <td>1.000292</td>\n",
       "    </tr>\n",
       "    <tr>\n",
       "      <th>2019-12-05 14:17:00</th>\n",
       "      <td>3428.0</td>\n",
       "      <td>3428.0</td>\n",
       "      <td>3426.0</td>\n",
       "      <td>3426.0</td>\n",
       "      <td>1.000000</td>\n",
       "      <td>0.999417</td>\n",
       "      <td>0.999417</td>\n",
       "    </tr>\n",
       "    <tr>\n",
       "      <th>2019-12-05 14:18:00</th>\n",
       "      <td>3426.0</td>\n",
       "      <td>3427.0</td>\n",
       "      <td>3425.0</td>\n",
       "      <td>3427.0</td>\n",
       "      <td>1.000292</td>\n",
       "      <td>0.999708</td>\n",
       "      <td>1.000292</td>\n",
       "    </tr>\n",
       "    <tr>\n",
       "      <th>2019-12-05 14:19:00</th>\n",
       "      <td>3427.0</td>\n",
       "      <td>3428.0</td>\n",
       "      <td>3426.0</td>\n",
       "      <td>3427.0</td>\n",
       "      <td>1.000292</td>\n",
       "      <td>0.999708</td>\n",
       "      <td>1.000000</td>\n",
       "    </tr>\n",
       "  </tbody>\n",
       "</table>\n",
       "</div>"
      ],
      "text/plain": [
       "                       Open    High     Low   Close        HO        LO  \\\n",
       "Date                                                                      \n",
       "2019-12-05 14:15:00  3423.0  3427.0  3422.0  3426.0  1.001169  0.999708   \n",
       "2019-12-05 14:16:00  3426.0  3428.0  3424.0  3427.0  1.000584  0.999416   \n",
       "2019-12-05 14:17:00  3428.0  3428.0  3426.0  3426.0  1.000000  0.999417   \n",
       "2019-12-05 14:18:00  3426.0  3427.0  3425.0  3427.0  1.000292  0.999708   \n",
       "2019-12-05 14:19:00  3427.0  3428.0  3426.0  3427.0  1.000292  0.999708   \n",
       "\n",
       "                           CO  \n",
       "Date                           \n",
       "2019-12-05 14:15:00  1.000876  \n",
       "2019-12-05 14:16:00  1.000292  \n",
       "2019-12-05 14:17:00  0.999417  \n",
       "2019-12-05 14:18:00  1.000292  \n",
       "2019-12-05 14:19:00  1.000000  "
      ]
     },
     "execution_count": 81,
     "metadata": {},
     "output_type": "execute_result"
    }
   ],
   "source": [
    "rbBar['HO'] = rbBar['High']/rbBar['Open']\n",
    "rbBar['LO'] = rbBar['Low']/rbBar['Open']\n",
    "rbBar['CO'] = rbBar['Close']/rbBar['Open']\n",
    "rbBar.head()"
   ]
  },
  {
   "cell_type": "code",
   "execution_count": 83,
   "metadata": {
    "slideshow": {
     "slide_type": "fragment"
    }
   },
   "outputs": [
    {
     "data": {
      "text/html": [
       "<div>\n",
       "<style scoped>\n",
       "    .dataframe tbody tr th:only-of-type {\n",
       "        vertical-align: middle;\n",
       "    }\n",
       "\n",
       "    .dataframe tbody tr th {\n",
       "        vertical-align: top;\n",
       "    }\n",
       "\n",
       "    .dataframe thead th {\n",
       "        text-align: right;\n",
       "    }\n",
       "</style>\n",
       "<table border=\"1\" class=\"dataframe\">\n",
       "  <thead>\n",
       "    <tr style=\"text-align: right;\">\n",
       "      <th></th>\n",
       "      <th>HO</th>\n",
       "      <th>LO</th>\n",
       "      <th>CO</th>\n",
       "    </tr>\n",
       "    <tr>\n",
       "      <th>Date</th>\n",
       "      <th></th>\n",
       "      <th></th>\n",
       "      <th></th>\n",
       "    </tr>\n",
       "  </thead>\n",
       "  <tbody>\n",
       "    <tr>\n",
       "      <th>2019-12-05 14:15:00</th>\n",
       "      <td>1.001169</td>\n",
       "      <td>0.999708</td>\n",
       "      <td>1.000876</td>\n",
       "    </tr>\n",
       "    <tr>\n",
       "      <th>2019-12-05 14:16:00</th>\n",
       "      <td>1.000584</td>\n",
       "      <td>0.999416</td>\n",
       "      <td>1.000292</td>\n",
       "    </tr>\n",
       "    <tr>\n",
       "      <th>2019-12-05 14:17:00</th>\n",
       "      <td>1.000000</td>\n",
       "      <td>0.999417</td>\n",
       "      <td>0.999417</td>\n",
       "    </tr>\n",
       "    <tr>\n",
       "      <th>2019-12-05 14:18:00</th>\n",
       "      <td>1.000292</td>\n",
       "      <td>0.999708</td>\n",
       "      <td>1.000292</td>\n",
       "    </tr>\n",
       "    <tr>\n",
       "      <th>2019-12-05 14:19:00</th>\n",
       "      <td>1.000292</td>\n",
       "      <td>0.999708</td>\n",
       "      <td>1.000000</td>\n",
       "    </tr>\n",
       "  </tbody>\n",
       "</table>\n",
       "</div>"
      ],
      "text/plain": [
       "                           HO        LO        CO\n",
       "Date                                             \n",
       "2019-12-05 14:15:00  1.001169  0.999708  1.000876\n",
       "2019-12-05 14:16:00  1.000584  0.999416  1.000292\n",
       "2019-12-05 14:17:00  1.000000  0.999417  0.999417\n",
       "2019-12-05 14:18:00  1.000292  0.999708  1.000292\n",
       "2019-12-05 14:19:00  1.000292  0.999708  1.000000"
      ]
     },
     "execution_count": 83,
     "metadata": {},
     "output_type": "execute_result"
    }
   ],
   "source": [
    "rbCluster = rbBar.loc[:,['HO','LO','CO']]\n",
    "rbCluster.head()"
   ]
  },
  {
   "cell_type": "markdown",
   "metadata": {
    "slideshow": {
     "slide_type": "slide"
    }
   },
   "source": [
    "### 选择`k`值"
   ]
  },
  {
   "cell_type": "code",
   "execution_count": 121,
   "metadata": {
    "slideshow": {
     "slide_type": "fragment"
    }
   },
   "outputs": [
    {
     "data": {
      "text/plain": [
       "KMeans(algorithm='auto', copy_x=True, init='k-means++', max_iter=300,\n",
       "       n_clusters=1, n_init=10, n_jobs=None, precompute_distances='auto',\n",
       "       random_state=10, tol=0.0001, verbose=0)"
      ]
     },
     "execution_count": 121,
     "metadata": {},
     "output_type": "execute_result"
    },
    {
     "data": {
      "text/plain": [
       "KMeans(algorithm='auto', copy_x=True, init='k-means++', max_iter=300,\n",
       "       n_clusters=2, n_init=10, n_jobs=None, precompute_distances='auto',\n",
       "       random_state=10, tol=0.0001, verbose=0)"
      ]
     },
     "execution_count": 121,
     "metadata": {},
     "output_type": "execute_result"
    },
    {
     "data": {
      "text/plain": [
       "KMeans(algorithm='auto', copy_x=True, init='k-means++', max_iter=300,\n",
       "       n_clusters=3, n_init=10, n_jobs=None, precompute_distances='auto',\n",
       "       random_state=10, tol=0.0001, verbose=0)"
      ]
     },
     "execution_count": 121,
     "metadata": {},
     "output_type": "execute_result"
    },
    {
     "data": {
      "text/plain": [
       "KMeans(algorithm='auto', copy_x=True, init='k-means++', max_iter=300,\n",
       "       n_clusters=4, n_init=10, n_jobs=None, precompute_distances='auto',\n",
       "       random_state=10, tol=0.0001, verbose=0)"
      ]
     },
     "execution_count": 121,
     "metadata": {},
     "output_type": "execute_result"
    },
    {
     "data": {
      "text/plain": [
       "KMeans(algorithm='auto', copy_x=True, init='k-means++', max_iter=300,\n",
       "       n_clusters=5, n_init=10, n_jobs=None, precompute_distances='auto',\n",
       "       random_state=10, tol=0.0001, verbose=0)"
      ]
     },
     "execution_count": 121,
     "metadata": {},
     "output_type": "execute_result"
    },
    {
     "data": {
      "text/plain": [
       "KMeans(algorithm='auto', copy_x=True, init='k-means++', max_iter=300,\n",
       "       n_clusters=6, n_init=10, n_jobs=None, precompute_distances='auto',\n",
       "       random_state=10, tol=0.0001, verbose=0)"
      ]
     },
     "execution_count": 121,
     "metadata": {},
     "output_type": "execute_result"
    },
    {
     "data": {
      "text/plain": [
       "KMeans(algorithm='auto', copy_x=True, init='k-means++', max_iter=300,\n",
       "       n_clusters=7, n_init=10, n_jobs=None, precompute_distances='auto',\n",
       "       random_state=10, tol=0.0001, verbose=0)"
      ]
     },
     "execution_count": 121,
     "metadata": {},
     "output_type": "execute_result"
    },
    {
     "data": {
      "text/plain": [
       "KMeans(algorithm='auto', copy_x=True, init='k-means++', max_iter=300,\n",
       "       n_clusters=8, n_init=10, n_jobs=None, precompute_distances='auto',\n",
       "       random_state=10, tol=0.0001, verbose=0)"
      ]
     },
     "execution_count": 121,
     "metadata": {},
     "output_type": "execute_result"
    },
    {
     "data": {
      "text/plain": [
       "KMeans(algorithm='auto', copy_x=True, init='k-means++', max_iter=300,\n",
       "       n_clusters=9, n_init=10, n_jobs=None, precompute_distances='auto',\n",
       "       random_state=10, tol=0.0001, verbose=0)"
      ]
     },
     "execution_count": 121,
     "metadata": {},
     "output_type": "execute_result"
    },
    {
     "data": {
      "text/plain": [
       "KMeans(algorithm='auto', copy_x=True, init='k-means++', max_iter=300,\n",
       "       n_clusters=10, n_init=10, n_jobs=None, precompute_distances='auto',\n",
       "       random_state=10, tol=0.0001, verbose=0)"
      ]
     },
     "execution_count": 121,
     "metadata": {},
     "output_type": "execute_result"
    },
    {
     "data": {
      "text/plain": [
       "[[Text(0, 0, '1'),\n",
       "  Text(0, 0, '2'),\n",
       "  Text(0, 0, '3'),\n",
       "  Text(0, 0, '4'),\n",
       "  Text(0, 0, '5'),\n",
       "  Text(0, 0, '6'),\n",
       "  Text(0, 0, '7'),\n",
       "  Text(0, 0, '8'),\n",
       "  Text(0, 0, '9'),\n",
       "  Text(0, 0, '10')]]"
      ]
     },
     "execution_count": 121,
     "metadata": {},
     "output_type": "execute_result"
    },
    {
     "data": {
      "image/png": "[encoded data removed]",
      "text/plain": [
       "<Figure size 864x432 with 1 Axes>"
      ]
     },
     "metadata": {
      "needs_background": "light"
     },
     "output_type": "display_data"
    }
   ],
   "source": [
    "rbSSE = []\n",
    "for i in range(1,11):\n",
    "    tmp = cluster.KMeans(n_clusters=i,random_state=10)\n",
    "    tmp.fit(rbCluster)\n",
    "    rbSSE.append(tmp.inertia_)\n",
    "axrb = pd.Series(rbSSE).plot(kind='line',figsize=(12,6),marker='o',grid=True,xticks=range(0,10))\n",
    "axrb.set(xticklabels=range(1,11))  "
   ]
  },
  {
   "cell_type": "markdown",
   "metadata": {
    "slideshow": {
     "slide_type": "fragment"
    }
   },
   "source": [
    "- 选择$k=3$"
   ]
  },
  {
   "cell_type": "markdown",
   "metadata": {
    "slideshow": {
     "slide_type": "slide"
    }
   },
   "source": [
    "### 聚类"
   ]
  },
  {
   "cell_type": "code",
   "execution_count": 113,
   "metadata": {
    "slideshow": {
     "slide_type": "fragment"
    }
   },
   "outputs": [
    {
     "data": {
      "text/plain": [
       "KMeans(algorithm='auto', copy_x=True, init='k-means++', max_iter=300,\n",
       "       n_clusters=3, n_init=10, n_jobs=None, precompute_distances='auto',\n",
       "       random_state=10, tol=0.0001, verbose=0)"
      ]
     },
     "execution_count": 113,
     "metadata": {},
     "output_type": "execute_result"
    }
   ],
   "source": [
    "rbkm = cluster.KMeans(n_clusters=3,random_state=10)\n",
    "rbkm.fit(rbCluster)"
   ]
  },
  {
   "cell_type": "code",
   "execution_count": 101,
   "metadata": {
    "slideshow": {
     "slide_type": "fragment"
    }
   },
   "outputs": [
    {
     "data": {
      "text/html": [
       "<div>\n",
       "<style scoped>\n",
       "    .dataframe tbody tr th:only-of-type {\n",
       "        vertical-align: middle;\n",
       "    }\n",
       "\n",
       "    .dataframe tbody tr th {\n",
       "        vertical-align: top;\n",
       "    }\n",
       "\n",
       "    .dataframe thead th {\n",
       "        text-align: right;\n",
       "    }\n",
       "</style>\n",
       "<table border=\"1\" class=\"dataframe\">\n",
       "  <thead>\n",
       "    <tr style=\"text-align: right;\">\n",
       "      <th></th>\n",
       "      <th>Open</th>\n",
       "      <th>High</th>\n",
       "      <th>Low</th>\n",
       "      <th>Close</th>\n",
       "      <th>HO</th>\n",
       "      <th>LO</th>\n",
       "      <th>CO</th>\n",
       "      <th>Cluster</th>\n",
       "    </tr>\n",
       "    <tr>\n",
       "      <th>Date</th>\n",
       "      <th></th>\n",
       "      <th></th>\n",
       "      <th></th>\n",
       "      <th></th>\n",
       "      <th></th>\n",
       "      <th></th>\n",
       "      <th></th>\n",
       "      <th></th>\n",
       "    </tr>\n",
       "  </thead>\n",
       "  <tbody>\n",
       "    <tr>\n",
       "      <th>2019-12-05 14:15:00</th>\n",
       "      <td>3423.0</td>\n",
       "      <td>3427.0</td>\n",
       "      <td>3422.0</td>\n",
       "      <td>3426.0</td>\n",
       "      <td>1.001169</td>\n",
       "      <td>0.999708</td>\n",
       "      <td>1.000876</td>\n",
       "      <td>2</td>\n",
       "    </tr>\n",
       "    <tr>\n",
       "      <th>2019-12-05 14:16:00</th>\n",
       "      <td>3426.0</td>\n",
       "      <td>3428.0</td>\n",
       "      <td>3424.0</td>\n",
       "      <td>3427.0</td>\n",
       "      <td>1.000584</td>\n",
       "      <td>0.999416</td>\n",
       "      <td>1.000292</td>\n",
       "      <td>0</td>\n",
       "    </tr>\n",
       "    <tr>\n",
       "      <th>2019-12-05 14:17:00</th>\n",
       "      <td>3428.0</td>\n",
       "      <td>3428.0</td>\n",
       "      <td>3426.0</td>\n",
       "      <td>3426.0</td>\n",
       "      <td>1.000000</td>\n",
       "      <td>0.999417</td>\n",
       "      <td>0.999417</td>\n",
       "      <td>1</td>\n",
       "    </tr>\n",
       "    <tr>\n",
       "      <th>2019-12-05 14:18:00</th>\n",
       "      <td>3426.0</td>\n",
       "      <td>3427.0</td>\n",
       "      <td>3425.0</td>\n",
       "      <td>3427.0</td>\n",
       "      <td>1.000292</td>\n",
       "      <td>0.999708</td>\n",
       "      <td>1.000292</td>\n",
       "      <td>0</td>\n",
       "    </tr>\n",
       "    <tr>\n",
       "      <th>2019-12-05 14:19:00</th>\n",
       "      <td>3427.0</td>\n",
       "      <td>3428.0</td>\n",
       "      <td>3426.0</td>\n",
       "      <td>3427.0</td>\n",
       "      <td>1.000292</td>\n",
       "      <td>0.999708</td>\n",
       "      <td>1.000000</td>\n",
       "      <td>0</td>\n",
       "    </tr>\n",
       "  </tbody>\n",
       "</table>\n",
       "</div>"
      ],
      "text/plain": [
       "                       Open    High     Low   Close        HO        LO  \\\n",
       "Date                                                                      \n",
       "2019-12-05 14:15:00  3423.0  3427.0  3422.0  3426.0  1.001169  0.999708   \n",
       "2019-12-05 14:16:00  3426.0  3428.0  3424.0  3427.0  1.000584  0.999416   \n",
       "2019-12-05 14:17:00  3428.0  3428.0  3426.0  3426.0  1.000000  0.999417   \n",
       "2019-12-05 14:18:00  3426.0  3427.0  3425.0  3427.0  1.000292  0.999708   \n",
       "2019-12-05 14:19:00  3427.0  3428.0  3426.0  3427.0  1.000292  0.999708   \n",
       "\n",
       "                           CO  Cluster  \n",
       "Date                                    \n",
       "2019-12-05 14:15:00  1.000876        2  \n",
       "2019-12-05 14:16:00  1.000292        0  \n",
       "2019-12-05 14:17:00  0.999417        1  \n",
       "2019-12-05 14:18:00  1.000292        0  \n",
       "2019-12-05 14:19:00  1.000000        0  "
      ]
     },
     "execution_count": 101,
     "metadata": {},
     "output_type": "execute_result"
    }
   ],
   "source": [
    "rbBar['Cluster'] = rbkm.labels_\n",
    "rbBar.head()"
   ]
  },
  {
   "cell_type": "code",
   "execution_count": 114,
   "metadata": {
    "slideshow": {
     "slide_type": "fragment"
    }
   },
   "outputs": [
    {
     "data": {
      "text/plain": [
       "0.4294822728303344"
      ]
     },
     "execution_count": 114,
     "metadata": {},
     "output_type": "execute_result"
    }
   ],
   "source": [
    "metrics.silhouette_score(rbCluster,rbkm.labels_)"
   ]
  },
  {
   "cell_type": "markdown",
   "metadata": {
    "slideshow": {
     "slide_type": "slide"
    }
   },
   "source": [
    "### 可视化展示"
   ]
  },
  {
   "cell_type": "code",
   "execution_count": 137,
   "metadata": {
    "slideshow": {
     "slide_type": "fragment"
    }
   },
   "outputs": [
    {
     "data": {
      "text/plain": [
       "<mpl_toolkits.mplot3d.art3d.Path3DCollection at 0x7f3fcedb8c18>"
      ]
     },
     "execution_count": 137,
     "metadata": {},
     "output_type": "execute_result"
    },
    {
     "data": {
      "text/plain": [
       "Text(0.5, 0, 'High/Open')"
      ]
     },
     "execution_count": 137,
     "metadata": {},
     "output_type": "execute_result"
    },
    {
     "data": {
      "text/plain": [
       "Text(0.5, 0, 'Low/Open')"
      ]
     },
     "execution_count": 137,
     "metadata": {},
     "output_type": "execute_result"
    },
    {
     "data": {
      "text/plain": [
       "Text(0.5, 0, 'Close/Open')"
      ]
     },
     "execution_count": 137,
     "metadata": {},
     "output_type": "execute_result"
    },
    {
     "data": {
      "image/png": "[encoded data removed]",
      "text/plain": [
       "<Figure size 864x648 with 1 Axes>"
      ]
     },
     "metadata": {},
     "output_type": "display_data"
    }
   ],
   "source": [
    "fig = plt.figure(figsize=(12, 9))\n",
    "ax = Axes3D(fig, elev=21, azim=-136)\n",
    "ax.scatter(\n",
    "    rbBar[\"HO\"], rbBar[\"LO\"], rbBar[\"CO\"], \n",
    "    c=rbkm.labels_.astype(np.float)\n",
    ")\n",
    "ax.set_xlabel('High/Open')\n",
    "ax.set_ylabel('Low/Open')\n",
    "ax.set_zlabel('Close/Open')\n",
    "plt.style.use('seaborn-poster')\n",
    "plt.show()"
   ]
  },
  {
   "cell_type": "markdown",
   "metadata": {
    "slideshow": {
     "slide_type": "slide"
    }
   },
   "source": [
    "# 阅读材料 "
   ]
  },
  {
   "cell_type": "markdown",
   "metadata": {
    "slideshow": {
     "slide_type": "fragment"
    }
   },
   "source": [
    "- Cavalcante, Rodolfo C., et al. [Computational Intelligence and Financial Markets: A Survey and Future Directions](https://www.sciencedirect.com/science/article/pii/S095741741630029X). Expert Systems with Applications 55 (2016): 194-211"
   ]
  }
 ],
 "metadata": {
  "celltoolbar": "Slideshow",
  "hide_input": false,
  "kernelspec": {
   "display_name": "Python 3",
   "language": "python",
   "name": "python3"
  },
  "language_info": {
   "codemirror_mode": {
    "name": "ipython",
    "version": 3
   },
   "file_extension": ".py",
   "mimetype": "text/x-python",
   "name": "python",
   "nbconvert_exporter": "python",
   "pygments_lexer": "ipython3",
   "version": "3.6.8"
  },
  "toc": {
   "base_numbering": 1,
   "nav_menu": {},
   "number_sections": true,
   "sideBar": true,
   "skip_h1_title": false,
   "title_cell": "Table of Contents",
   "title_sidebar": "Contents",
   "toc_cell": false,
   "toc_position": {
    "height": "calc(100% - 180px)",
    "left": "10px",
    "top": "150px",
    "width": "245px"
   },
   "toc_section_display": true,
   "toc_window_display": false
  },
  "varInspector": {
   "cols": {
    "lenName": 16,
    "lenType": 16,
    "lenVar": 40
   },
   "kernels_config": {
    "python": {
     "delete_cmd_postfix": "",
     "delete_cmd_prefix": "del ",
     "library": "var_list.py",
     "varRefreshCmd": "print(var_dic_list())"
    },
    "r": {
     "delete_cmd_postfix": ") ",
     "delete_cmd_prefix": "rm(",
     "library": "var_list.r",
     "varRefreshCmd": "cat(var_dic_list()) "
    }
   },
   "types_to_exclude": [
    "module",
    "function",
    "builtin_function_or_method",
    "instance",
    "_Feature"
   ],
   "window_display": false
  }
 },
 "nbformat": 4,
 "nbformat_minor": 2
}
