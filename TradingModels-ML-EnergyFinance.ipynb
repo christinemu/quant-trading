{
 "cells": [
  {
   "cell_type": "code",
   "execution_count": 2,
   "metadata": {
    "init_cell": true,
    "slideshow": {
     "slide_type": "notes"
    }
   },
   "outputs": [],
   "source": [
    "import pandas as pd\n",
    "import numpy as np\n",
    "import matplotlib.pyplot as plt\n",
    "from mpl_toolkits.mplot3d import Axes3D\n",
    "import mplfinance as mpf\n",
    "import talib\n",
    "from sklearn import tree, ensemble, model_selection, cluster, metrics,preprocessing\n",
    "from sklearn.feature_extraction import text\n",
    "from tensorflow import keras\n",
    "import jieba\n",
    "from IPython.display import display\n",
    "from IPython.core.interactiveshell import InteractiveShell\n",
    "InteractiveShell.ast_node_interactivity = \"all\""
   ]
  },
  {
   "cell_type": "markdown",
   "metadata": {
    "slideshow": {
     "slide_type": "slide"
    }
   },
   "source": [
    "<div class=\"jumbotron\">\n",
    "    <p class=\"display-1 h1\">Alpha模型——数据驱动</p>\n",
    "    <hr class=\"my-4\">\n",
    "    <p>主讲：李岩</p>\n",
    "    <p>管理学院</p>\n",
    "    <p>liyan@cumtb.edu.cn</p>\n",
    "</div>"
   ]
  },
  {
   "cell_type": "markdown",
   "metadata": {
    "slideshow": {
     "slide_type": "slide"
    }
   },
   "source": [
    "# 数据挖掘基础"
   ]
  },
  {
   "cell_type": "markdown",
   "metadata": {
    "slideshow": {
     "slide_type": "fragment"
    }
   },
   "source": [
    "## 数据挖掘"
   ]
  },
  {
   "cell_type": "markdown",
   "metadata": {
    "slideshow": {
     "slide_type": "fragment"
    }
   },
   "source": [
    "<dl class=\"row alert-info\">\n",
    "    <dt class=\"col-md-3\">数据挖掘</dt>\n",
    "    <dd class=\"col-md-9\">从大量的数据中通过<strong>算法</strong>搜索<strong>隐藏</strong>于其中的信息的过程。</dd>\n",
    "</dl>"
   ]
  },
  {
   "cell_type": "markdown",
   "metadata": {
    "slideshow": {
     "slide_type": "slide"
    }
   },
   "source": [
    "### 挖掘算法分类"
   ]
  },
  {
   "cell_type": "markdown",
   "metadata": {
    "slideshow": {
     "slide_type": "fragment"
    }
   },
   "source": [
    "<center>\n",
    "    <img src=\"./img/dataMining/miningAlgo.png\" width=100%>\n",
    "</center>"
   ]
  },
  {
   "cell_type": "markdown",
   "metadata": {
    "slideshow": {
     "slide_type": "slide"
    }
   },
   "source": [
    "### 数据挖掘建模流程"
   ]
  },
  {
   "cell_type": "markdown",
   "metadata": {
    "slideshow": {
     "slide_type": "fragment"
    }
   },
   "source": [
    "<center><img src=\"./img/dataMining/miningModelling.png\" width=80%></center>"
   ]
  },
  {
   "cell_type": "markdown",
   "metadata": {
    "slideshow": {
     "slide_type": "slide"
    }
   },
   "source": [
    "## `scikit-learn`介绍"
   ]
  },
  {
   "cell_type": "markdown",
   "metadata": {
    "slideshow": {
     "slide_type": "fragment"
    }
   },
   "source": [
    "`scikit-learn`软件包"
   ]
  },
  {
   "cell_type": "markdown",
   "metadata": {
    "slideshow": {
     "slide_type": "fragment"
    }
   },
   "source": [
    "[https://scikit-learn.org/stable/](https://scikit-learn.org/stable/)"
   ]
  },
  {
   "cell_type": "markdown",
   "metadata": {
    "slideshow": {
     "slide_type": "fragment"
    }
   },
   "source": [
    "- `scikit-learn`是`Python`的一个开源机器学习模块，它建立在`NumPy`，`SciPy`和`matplotlib`模块之上"
   ]
  },
  {
   "cell_type": "markdown",
   "metadata": {
    "slideshow": {
     "slide_type": "fragment"
    }
   },
   "source": [
    "- 为用户提供各种机器学习算法接口，可以让用户简单、高效地进行数据挖掘和数据分析"
   ]
  },
  {
   "cell_type": "markdown",
   "metadata": {
    "slideshow": {
     "slide_type": "slide"
    }
   },
   "source": [
    "### `sklearn`数据挖掘一般流程"
   ]
  },
  {
   "cell_type": "markdown",
   "metadata": {
    "slideshow": {
     "slide_type": "fragment"
    }
   },
   "source": [
    "<center><img src=\"./img/dataMining/sklearnApp.png\" width=80%></center>"
   ]
  },
  {
   "cell_type": "markdown",
   "metadata": {
    "slideshow": {
     "slide_type": "slide"
    }
   },
   "source": [
    "## 其他数据挖掘模块"
   ]
  },
  {
   "cell_type": "markdown",
   "metadata": {
    "slideshow": {
     "slide_type": "fragment"
    }
   },
   "source": [
    "- PySpark：针对大数据的数据挖掘与机器学习工具，是`Spark`的`Python`接口"
   ]
  },
  {
   "cell_type": "markdown",
   "metadata": {
    "slideshow": {
     "slide_type": "fragment"
    }
   },
   "source": [
    "- Apache `Spark`\n",
    "    + `Spark`：专为大规模数据处理而设计的快速通用的计算引擎"
   ]
  },
  {
   "cell_type": "markdown",
   "metadata": {
    "slideshow": {
     "slide_type": "fragment"
    }
   },
   "source": [
    "- 官网：[http://spark.apache.org/docs/latest/api/python/index.html](http://spark.apache.org/docs/latest/api/python/index.html)"
   ]
  },
  {
   "cell_type": "markdown",
   "metadata": {
    "slideshow": {
     "slide_type": "fragment"
    }
   },
   "source": [
    "- 学习链接：[http://codingdict.com/article/8888](http://codingdict.com/article/8888)"
   ]
  },
  {
   "cell_type": "markdown",
   "metadata": {
    "slideshow": {
     "slide_type": "fragment"
    }
   },
   "source": [
    "- Tensorflow：开源机器学习平台"
   ]
  },
  {
   "cell_type": "markdown",
   "metadata": {
    "slideshow": {
     "slide_type": "fragment"
    }
   },
   "source": [
    "- 官网：[https://tensorflow.google.cn/](https://tensorflow.google.cn/)"
   ]
  },
  {
   "cell_type": "markdown",
   "metadata": {
    "slideshow": {
     "slide_type": "slide"
    }
   },
   "source": [
    "# 分类模型"
   ]
  },
  {
   "cell_type": "markdown",
   "metadata": {
    "slideshow": {
     "slide_type": "slide"
    }
   },
   "source": [
    "## 基本概念"
   ]
  },
  {
   "cell_type": "markdown",
   "metadata": {
    "slideshow": {
     "slide_type": "fragment"
    }
   },
   "source": [
    "### 分类（classification） "
   ]
  },
  {
   "cell_type": "markdown",
   "metadata": {
    "slideshow": {
     "slide_type": "fragment"
    }
   },
   "source": [
    "- 给定一条记录$(\\boldsymbol{x}, y)$，其中，$y$是分类属性或者目标属性，$\\boldsymbol{x}$是该记录预测属性的集合"
   ]
  },
  {
   "cell_type": "markdown",
   "metadata": {
    "slideshow": {
     "slide_type": "fragment"
    }
   },
   "source": [
    "- 通过学习得到一个**目标函数**（target function）$f$，把每个属性集$\\boldsymbol{x}$映射到一个预先定义的**类标签**$y$"
   ]
  },
  {
   "cell_type": "markdown",
   "metadata": {
    "slideshow": {
     "slide_type": "fragment"
    }
   },
   "source": [
    "$$\n",
    "y = f(\\boldsymbol{x})\n",
    "$$"
   ]
  },
  {
   "cell_type": "markdown",
   "metadata": {
    "slideshow": {
     "slide_type": "fragment"
    }
   },
   "source": [
    "- 目标函数也被称作**分类模型**（classification model）"
   ]
  },
  {
   "cell_type": "markdown",
   "metadata": {
    "slideshow": {
     "slide_type": "slide"
    }
   },
   "source": [
    "### 建立分类模型的一般方法"
   ]
  },
  {
   "cell_type": "markdown",
   "metadata": {
    "slideshow": {
     "slide_type": "fragment"
    }
   },
   "source": [
    "<center><img src=\"./img/dataMining/classificationProcess.png\" width=80%></center>"
   ]
  },
  {
   "cell_type": "markdown",
   "metadata": {
    "slideshow": {
     "slide_type": "slide"
    }
   },
   "source": [
    "#### 训练集与检验集"
   ]
  },
  {
   "cell_type": "markdown",
   "metadata": {
    "slideshow": {
     "slide_type": "fragment"
    }
   },
   "source": [
    "- 训练集（training set）：由类标签已知的数据记录组成，用于建立分类模型"
   ]
  },
  {
   "cell_type": "markdown",
   "metadata": {
    "slideshow": {
     "slide_type": "fragment"
    }
   },
   "source": [
    "- 检验集（test set）：用来检验分类规则的数据记录集合"
   ]
  },
  {
   "cell_type": "markdown",
   "metadata": {
    "slideshow": {
     "slide_type": "fragment"
    }
   },
   "source": [
    "#### 分类算法"
   ]
  },
  {
   "cell_type": "markdown",
   "metadata": {
    "slideshow": {
     "slide_type": "fragment"
    }
   },
   "source": [
    "+ k最近邻分类\n",
    "+ 决策树\n",
    "+ 朴素贝叶斯分类\n",
    "+ 逻辑回归\n",
    "+ 神经网络\n",
    "+ 支持向量机\n",
    "+ 随机森林"
   ]
  },
  {
   "cell_type": "markdown",
   "metadata": {
    "slideshow": {
     "slide_type": "slide"
    }
   },
   "source": [
    "## 决策树"
   ]
  },
  {
   "cell_type": "markdown",
   "metadata": {
    "slideshow": {
     "slide_type": "slide"
    }
   },
   "source": [
    "### 基本概念"
   ]
  },
  {
   "cell_type": "markdown",
   "metadata": {
    "cell_style": "split",
    "slideshow": {
     "slide_type": "fragment"
    }
   },
   "source": [
    "<center><img src=\"./img/dataMining/classificationSample.gv.svg\" with=100%></center>"
   ]
  },
  {
   "cell_type": "markdown",
   "metadata": {
    "cell_style": "split",
    "slideshow": {
     "slide_type": "fragment"
    }
   },
   "source": [
    "<center><img src=\"./img/dataMining/decisionTreeC.gv.svg\" with=60%></center>"
   ]
  },
  {
   "cell_type": "markdown",
   "metadata": {
    "slideshow": {
     "slide_type": "slide"
    }
   },
   "source": [
    "### `sklearn`实现 "
   ]
  },
  {
   "cell_type": "markdown",
   "metadata": {
    "slideshow": {
     "slide_type": "slide"
    }
   },
   "source": [
    "#### 建立模型"
   ]
  },
  {
   "cell_type": "markdown",
   "metadata": {
    "slideshow": {
     "slide_type": "fragment"
    }
   },
   "source": [
    "```python\n",
    "from sklearn import tree\n",
    "tree.DecisionTreeClassifier(criterion='gini'）\n",
    "```\n",
    "- `criterion`：`str`类型，不纯性的度量，可以是`gini`和`entropy`，默认是`gini`"
   ]
  },
  {
   "cell_type": "markdown",
   "metadata": {
    "slideshow": {
     "slide_type": "fragment"
    }
   },
   "source": [
    "- 生成的决策树的属性（Attributes）\n",
    "    + `classes_ `：由类标签构成的数组\n",
    "    + `n_classes_`：`int`，类别的数量\n",
    "    + `tree_`：建立的决策树"
   ]
  },
  {
   "cell_type": "code",
   "execution_count": 96,
   "metadata": {
    "slideshow": {
     "slide_type": "fragment"
    }
   },
   "outputs": [
    {
     "data": {
      "text/plain": [
       "DecisionTreeClassifier(ccp_alpha=0.0, class_weight=None, criterion='gini',\n",
       "                       max_depth=None, max_features=None, max_leaf_nodes=None,\n",
       "                       min_impurity_decrease=0.0, min_impurity_split=None,\n",
       "                       min_samples_leaf=1, min_samples_split=2,\n",
       "                       min_weight_fraction_leaf=0.0, presort='deprecated',\n",
       "                       random_state=None, splitter='best')"
      ]
     },
     "execution_count": 96,
     "metadata": {},
     "output_type": "execute_result"
    }
   ],
   "source": [
    "from sklearn import tree\n",
    "dt = tree.DecisionTreeClassifier()\n",
    "dt"
   ]
  },
  {
   "cell_type": "markdown",
   "metadata": {
    "slideshow": {
     "slide_type": "slide"
    }
   },
   "source": [
    "##### **One-Hot Encoding**：将标称属性转换成二元属性"
   ]
  },
  {
   "cell_type": "markdown",
   "metadata": {
    "slideshow": {
     "slide_type": "fragment"
    }
   },
   "source": [
    "> `DecisionTreeClassifer`只支持数值型预测属性\n",
    "- 但是对类别标签没有要求"
   ]
  },
  {
   "cell_type": "markdown",
   "metadata": {
    "slideshow": {
     "slide_type": "fragment"
    }
   },
   "source": [
    "```python\n",
    "pandas.get_dummies(data, columns=None)\n",
    "```\n",
    "- `data`：`Series`类型，或者`DataFrame`类型\n",
    "- `columns`：列名的`list`类型，数据集中哪些列需要转换，默认是将数据集中所有列进行转换\n",
    "- 返回值：由二元化的属性构成的`DataFrame`"
   ]
  },
  {
   "cell_type": "markdown",
   "metadata": {
    "slideshow": {
     "slide_type": "slide"
    }
   },
   "source": [
    "##### one-hot编码"
   ]
  },
  {
   "cell_type": "code",
   "execution_count": 101,
   "metadata": {
    "slideshow": {
     "slide_type": "fragment"
    }
   },
   "outputs": [
    {
     "data": {
      "text/html": [
       "<div>\n",
       "<style scoped>\n",
       "    .dataframe tbody tr th:only-of-type {\n",
       "        vertical-align: middle;\n",
       "    }\n",
       "\n",
       "    .dataframe tbody tr th {\n",
       "        vertical-align: top;\n",
       "    }\n",
       "\n",
       "    .dataframe thead th {\n",
       "        text-align: right;\n",
       "    }\n",
       "</style>\n",
       "<table border=\"1\" class=\"dataframe\">\n",
       "  <thead>\n",
       "    <tr style=\"text-align: right;\">\n",
       "      <th></th>\n",
       "      <th>Pclass</th>\n",
       "      <th>Sex</th>\n",
       "      <th>Age</th>\n",
       "      <th>SibSp</th>\n",
       "      <th>Parch</th>\n",
       "      <th>Fare</th>\n",
       "      <th>Embarked</th>\n",
       "    </tr>\n",
       "    <tr>\n",
       "      <th>PassengerId</th>\n",
       "      <th></th>\n",
       "      <th></th>\n",
       "      <th></th>\n",
       "      <th></th>\n",
       "      <th></th>\n",
       "      <th></th>\n",
       "      <th></th>\n",
       "    </tr>\n",
       "  </thead>\n",
       "  <tbody>\n",
       "    <tr>\n",
       "      <th>1</th>\n",
       "      <td>3</td>\n",
       "      <td>male</td>\n",
       "      <td>22.0</td>\n",
       "      <td>1</td>\n",
       "      <td>0</td>\n",
       "      <td>7.2500</td>\n",
       "      <td>S</td>\n",
       "    </tr>\n",
       "    <tr>\n",
       "      <th>2</th>\n",
       "      <td>1</td>\n",
       "      <td>female</td>\n",
       "      <td>38.0</td>\n",
       "      <td>1</td>\n",
       "      <td>0</td>\n",
       "      <td>71.2833</td>\n",
       "      <td>C</td>\n",
       "    </tr>\n",
       "    <tr>\n",
       "      <th>3</th>\n",
       "      <td>3</td>\n",
       "      <td>female</td>\n",
       "      <td>26.0</td>\n",
       "      <td>0</td>\n",
       "      <td>0</td>\n",
       "      <td>7.9250</td>\n",
       "      <td>S</td>\n",
       "    </tr>\n",
       "    <tr>\n",
       "      <th>4</th>\n",
       "      <td>1</td>\n",
       "      <td>female</td>\n",
       "      <td>35.0</td>\n",
       "      <td>1</td>\n",
       "      <td>0</td>\n",
       "      <td>53.1000</td>\n",
       "      <td>S</td>\n",
       "    </tr>\n",
       "    <tr>\n",
       "      <th>5</th>\n",
       "      <td>3</td>\n",
       "      <td>male</td>\n",
       "      <td>35.0</td>\n",
       "      <td>0</td>\n",
       "      <td>0</td>\n",
       "      <td>8.0500</td>\n",
       "      <td>S</td>\n",
       "    </tr>\n",
       "  </tbody>\n",
       "</table>\n",
       "</div>"
      ],
      "text/plain": [
       "             Pclass     Sex   Age  SibSp  Parch     Fare Embarked\n",
       "PassengerId                                                      \n",
       "1                 3    male  22.0      1      0   7.2500        S\n",
       "2                 1  female  38.0      1      0  71.2833        C\n",
       "3                 3  female  26.0      0      0   7.9250        S\n",
       "4                 1  female  35.0      1      0  53.1000        S\n",
       "5                 3    male  35.0      0      0   8.0500        S"
      ]
     },
     "execution_count": 101,
     "metadata": {},
     "output_type": "execute_result"
    }
   ],
   "source": [
    "titX = titDf.iloc[:,:-1]\n",
    "titY = titDf['Survived']\n",
    "titX.head()"
   ]
  },
  {
   "cell_type": "code",
   "execution_count": 102,
   "metadata": {
    "slideshow": {
     "slide_type": "fragment"
    }
   },
   "outputs": [
    {
     "data": {
      "text/html": [
       "<div>\n",
       "<style scoped>\n",
       "    .dataframe tbody tr th:only-of-type {\n",
       "        vertical-align: middle;\n",
       "    }\n",
       "\n",
       "    .dataframe tbody tr th {\n",
       "        vertical-align: top;\n",
       "    }\n",
       "\n",
       "    .dataframe thead th {\n",
       "        text-align: right;\n",
       "    }\n",
       "</style>\n",
       "<table border=\"1\" class=\"dataframe\">\n",
       "  <thead>\n",
       "    <tr style=\"text-align: right;\">\n",
       "      <th></th>\n",
       "      <th>Pclass</th>\n",
       "      <th>Age</th>\n",
       "      <th>SibSp</th>\n",
       "      <th>Parch</th>\n",
       "      <th>Fare</th>\n",
       "      <th>Sex_female</th>\n",
       "      <th>Sex_male</th>\n",
       "      <th>Embarked_C</th>\n",
       "      <th>Embarked_Q</th>\n",
       "      <th>Embarked_S</th>\n",
       "    </tr>\n",
       "    <tr>\n",
       "      <th>PassengerId</th>\n",
       "      <th></th>\n",
       "      <th></th>\n",
       "      <th></th>\n",
       "      <th></th>\n",
       "      <th></th>\n",
       "      <th></th>\n",
       "      <th></th>\n",
       "      <th></th>\n",
       "      <th></th>\n",
       "      <th></th>\n",
       "    </tr>\n",
       "  </thead>\n",
       "  <tbody>\n",
       "    <tr>\n",
       "      <th>1</th>\n",
       "      <td>3</td>\n",
       "      <td>22.0</td>\n",
       "      <td>1</td>\n",
       "      <td>0</td>\n",
       "      <td>7.2500</td>\n",
       "      <td>0</td>\n",
       "      <td>1</td>\n",
       "      <td>0</td>\n",
       "      <td>0</td>\n",
       "      <td>1</td>\n",
       "    </tr>\n",
       "    <tr>\n",
       "      <th>2</th>\n",
       "      <td>1</td>\n",
       "      <td>38.0</td>\n",
       "      <td>1</td>\n",
       "      <td>0</td>\n",
       "      <td>71.2833</td>\n",
       "      <td>1</td>\n",
       "      <td>0</td>\n",
       "      <td>1</td>\n",
       "      <td>0</td>\n",
       "      <td>0</td>\n",
       "    </tr>\n",
       "    <tr>\n",
       "      <th>3</th>\n",
       "      <td>3</td>\n",
       "      <td>26.0</td>\n",
       "      <td>0</td>\n",
       "      <td>0</td>\n",
       "      <td>7.9250</td>\n",
       "      <td>1</td>\n",
       "      <td>0</td>\n",
       "      <td>0</td>\n",
       "      <td>0</td>\n",
       "      <td>1</td>\n",
       "    </tr>\n",
       "    <tr>\n",
       "      <th>4</th>\n",
       "      <td>1</td>\n",
       "      <td>35.0</td>\n",
       "      <td>1</td>\n",
       "      <td>0</td>\n",
       "      <td>53.1000</td>\n",
       "      <td>1</td>\n",
       "      <td>0</td>\n",
       "      <td>0</td>\n",
       "      <td>0</td>\n",
       "      <td>1</td>\n",
       "    </tr>\n",
       "    <tr>\n",
       "      <th>5</th>\n",
       "      <td>3</td>\n",
       "      <td>35.0</td>\n",
       "      <td>0</td>\n",
       "      <td>0</td>\n",
       "      <td>8.0500</td>\n",
       "      <td>0</td>\n",
       "      <td>1</td>\n",
       "      <td>0</td>\n",
       "      <td>0</td>\n",
       "      <td>1</td>\n",
       "    </tr>\n",
       "  </tbody>\n",
       "</table>\n",
       "</div>"
      ],
      "text/plain": [
       "             Pclass   Age  SibSp  Parch     Fare  Sex_female  Sex_male  \\\n",
       "PassengerId                                                              \n",
       "1                 3  22.0      1      0   7.2500           0         1   \n",
       "2                 1  38.0      1      0  71.2833           1         0   \n",
       "3                 3  26.0      0      0   7.9250           1         0   \n",
       "4                 1  35.0      1      0  53.1000           1         0   \n",
       "5                 3  35.0      0      0   8.0500           0         1   \n",
       "\n",
       "             Embarked_C  Embarked_Q  Embarked_S  \n",
       "PassengerId                                      \n",
       "1                     0           0           1  \n",
       "2                     1           0           0  \n",
       "3                     0           0           1  \n",
       "4                     0           0           1  \n",
       "5                     0           0           1  "
      ]
     },
     "execution_count": 102,
     "metadata": {},
     "output_type": "execute_result"
    }
   ],
   "source": [
    "titXOH = pd.get_dummies(titX,columns=['Sex','Embarked'])\n",
    "titXOH.head()"
   ]
  },
  {
   "cell_type": "markdown",
   "metadata": {
    "slideshow": {
     "slide_type": "slide"
    }
   },
   "source": [
    "### 决策树的剪枝"
   ]
  },
  {
   "cell_type": "markdown",
   "metadata": {
    "slideshow": {
     "slide_type": "fragment"
    }
   },
   "source": [
    "- 为什么需要剪枝？\n",
    "    + 生成的决策树过于复杂，对训练集的过度拟合\n",
    "    + 决策树算法没有考虑数据中存在噪声"
   ]
  },
  {
   "cell_type": "markdown",
   "metadata": {
    "slideshow": {
     "slide_type": "fragment"
    }
   },
   "source": [
    "- 剪枝方法\n",
    "    + 先剪枝\n",
    "    + 后剪枝"
   ]
  },
  {
   "cell_type": "markdown",
   "metadata": {
    "slideshow": {
     "slide_type": "slide"
    }
   },
   "source": [
    "#### 先剪枝（Forward-Pruning）"
   ]
  },
  {
   "cell_type": "markdown",
   "metadata": {
    "slideshow": {
     "slide_type": "fragment"
    }
   },
   "source": [
    "<p class=\"alert alert-info\">提前停止树的构造而对树进行剪枝</p>\n",
    "\n",
    "- 在决策树到达一定高度的情况下就停止树的生长\n",
    "- 到达结点的样本个数小于某一个阈值可停止树的生长"
   ]
  },
  {
   "cell_type": "markdown",
   "metadata": {
    "slideshow": {
     "slide_type": "slide"
    }
   },
   "source": [
    "#### 后剪枝（Post-Pruning）"
   ]
  },
  {
   "cell_type": "markdown",
   "metadata": {
    "slideshow": {
     "slide_type": "fragment"
    }
   },
   "source": [
    "<p class=\"alert alert-danger\">构造完整的决策树，然后用叶结点替换那些置信度不够的结点的子树，该叶结点所应标记的类别为被替换的子树中大多数样本所属的类别。</p>"
   ]
  },
  {
   "cell_type": "markdown",
   "metadata": {
    "slideshow": {
     "slide_type": "slide"
    }
   },
   "source": [
    "## 用决策树分类收益率"
   ]
  },
  {
   "cell_type": "markdown",
   "metadata": {
    "slideshow": {
     "slide_type": "fragment"
    }
   },
   "source": [
    "- 问题：如何预测下一个周期收益率是上升还是下降？"
   ]
  },
  {
   "cell_type": "markdown",
   "metadata": {
    "slideshow": {
     "slide_type": "fragment"
    }
   },
   "source": [
    "### 读入并整理数据"
   ]
  },
  {
   "cell_type": "code",
   "execution_count": 7,
   "metadata": {
    "scrolled": true,
    "slideshow": {
     "slide_type": "fragment"
    }
   },
   "outputs": [
    {
     "data": {
      "text/html": [
       "<div>\n",
       "<style scoped>\n",
       "    .dataframe tbody tr th:only-of-type {\n",
       "        vertical-align: middle;\n",
       "    }\n",
       "\n",
       "    .dataframe tbody tr th {\n",
       "        vertical-align: top;\n",
       "    }\n",
       "\n",
       "    .dataframe thead th {\n",
       "        text-align: right;\n",
       "    }\n",
       "</style>\n",
       "<table border=\"1\" class=\"dataframe\">\n",
       "  <thead>\n",
       "    <tr style=\"text-align: right;\">\n",
       "      <th></th>\n",
       "      <th>Open</th>\n",
       "      <th>High</th>\n",
       "      <th>Low</th>\n",
       "      <th>Close</th>\n",
       "      <th>Volume</th>\n",
       "      <th>OI</th>\n",
       "      <th>Settle</th>\n",
       "    </tr>\n",
       "    <tr>\n",
       "      <th>日期</th>\n",
       "      <th></th>\n",
       "      <th></th>\n",
       "      <th></th>\n",
       "      <th></th>\n",
       "      <th></th>\n",
       "      <th></th>\n",
       "      <th></th>\n",
       "    </tr>\n",
       "  </thead>\n",
       "  <tbody>\n",
       "    <tr>\n",
       "      <th>2009-03-27</th>\n",
       "      <td>3550</td>\n",
       "      <td>3663</td>\n",
       "      <td>3513</td>\n",
       "      <td>3561</td>\n",
       "      <td>354590</td>\n",
       "      <td>45548</td>\n",
       "      <td>0</td>\n",
       "    </tr>\n",
       "    <tr>\n",
       "      <th>2009-03-30</th>\n",
       "      <td>3550</td>\n",
       "      <td>3580</td>\n",
       "      <td>3528</td>\n",
       "      <td>3544</td>\n",
       "      <td>145168</td>\n",
       "      <td>48380</td>\n",
       "      <td>0</td>\n",
       "    </tr>\n",
       "    <tr>\n",
       "      <th>2009-03-31</th>\n",
       "      <td>3538</td>\n",
       "      <td>3566</td>\n",
       "      <td>3531</td>\n",
       "      <td>3549</td>\n",
       "      <td>70592</td>\n",
       "      <td>44714</td>\n",
       "      <td>0</td>\n",
       "    </tr>\n",
       "    <tr>\n",
       "      <th>2009-04-01</th>\n",
       "      <td>3560</td>\n",
       "      <td>3561</td>\n",
       "      <td>3543</td>\n",
       "      <td>3547</td>\n",
       "      <td>28100</td>\n",
       "      <td>42076</td>\n",
       "      <td>0</td>\n",
       "    </tr>\n",
       "    <tr>\n",
       "      <th>2009-04-02</th>\n",
       "      <td>3545</td>\n",
       "      <td>3548</td>\n",
       "      <td>3456</td>\n",
       "      <td>3473</td>\n",
       "      <td>235446</td>\n",
       "      <td>68888</td>\n",
       "      <td>0</td>\n",
       "    </tr>\n",
       "  </tbody>\n",
       "</table>\n",
       "</div>"
      ],
      "text/plain": [
       "            Open  High   Low  Close  Volume     OI  Settle\n",
       "日期                                                        \n",
       "2009-03-27  3550  3663  3513   3561  354590  45548       0\n",
       "2009-03-30  3550  3580  3528   3544  145168  48380       0\n",
       "2009-03-31  3538  3566  3531   3549   70592  44714       0\n",
       "2009-04-01  3560  3561  3543   3547   28100  42076       0\n",
       "2009-04-02  3545  3548  3456   3473  235446  68888       0"
      ]
     },
     "execution_count": 7,
     "metadata": {},
     "output_type": "execute_result"
    }
   ],
   "source": [
    "rbd = pd.read_csv('./data/rbcontinuous.csv',parse_dates=True,index_col=0)\n",
    "rbd.columns = ['Open','High','Low','Close','Volume','OI','Settle']\n",
    "rbd.head()"
   ]
  },
  {
   "cell_type": "markdown",
   "metadata": {
    "slideshow": {
     "slide_type": "slide"
    }
   },
   "source": [
    "### 构建分类标签"
   ]
  },
  {
   "cell_type": "markdown",
   "metadata": {
    "slideshow": {
     "slide_type": "fragment"
    }
   },
   "source": [
    "- 以日收益率作为分类标签"
   ]
  },
  {
   "cell_type": "code",
   "execution_count": 5,
   "metadata": {
    "slideshow": {
     "slide_type": "fragment"
    }
   },
   "outputs": [
    {
     "data": {
      "text/html": [
       "<div>\n",
       "<style scoped>\n",
       "    .dataframe tbody tr th:only-of-type {\n",
       "        vertical-align: middle;\n",
       "    }\n",
       "\n",
       "    .dataframe tbody tr th {\n",
       "        vertical-align: top;\n",
       "    }\n",
       "\n",
       "    .dataframe thead th {\n",
       "        text-align: right;\n",
       "    }\n",
       "</style>\n",
       "<table border=\"1\" class=\"dataframe\">\n",
       "  <thead>\n",
       "    <tr style=\"text-align: right;\">\n",
       "      <th></th>\n",
       "      <th>Open</th>\n",
       "      <th>High</th>\n",
       "      <th>Low</th>\n",
       "      <th>Close</th>\n",
       "      <th>Volume</th>\n",
       "      <th>OI</th>\n",
       "      <th>Settle</th>\n",
       "      <th>ret</th>\n",
       "    </tr>\n",
       "    <tr>\n",
       "      <th>日期</th>\n",
       "      <th></th>\n",
       "      <th></th>\n",
       "      <th></th>\n",
       "      <th></th>\n",
       "      <th></th>\n",
       "      <th></th>\n",
       "      <th></th>\n",
       "      <th></th>\n",
       "    </tr>\n",
       "  </thead>\n",
       "  <tbody>\n",
       "    <tr>\n",
       "      <th>2009-03-27</th>\n",
       "      <td>3550</td>\n",
       "      <td>3663</td>\n",
       "      <td>3513</td>\n",
       "      <td>3561</td>\n",
       "      <td>354590</td>\n",
       "      <td>45548</td>\n",
       "      <td>0</td>\n",
       "      <td>NaN</td>\n",
       "    </tr>\n",
       "    <tr>\n",
       "      <th>2009-03-30</th>\n",
       "      <td>3550</td>\n",
       "      <td>3580</td>\n",
       "      <td>3528</td>\n",
       "      <td>3544</td>\n",
       "      <td>145168</td>\n",
       "      <td>48380</td>\n",
       "      <td>0</td>\n",
       "      <td>-0.004774</td>\n",
       "    </tr>\n",
       "    <tr>\n",
       "      <th>2009-03-31</th>\n",
       "      <td>3538</td>\n",
       "      <td>3566</td>\n",
       "      <td>3531</td>\n",
       "      <td>3549</td>\n",
       "      <td>70592</td>\n",
       "      <td>44714</td>\n",
       "      <td>0</td>\n",
       "      <td>0.001411</td>\n",
       "    </tr>\n",
       "    <tr>\n",
       "      <th>2009-04-01</th>\n",
       "      <td>3560</td>\n",
       "      <td>3561</td>\n",
       "      <td>3543</td>\n",
       "      <td>3547</td>\n",
       "      <td>28100</td>\n",
       "      <td>42076</td>\n",
       "      <td>0</td>\n",
       "      <td>-0.000564</td>\n",
       "    </tr>\n",
       "    <tr>\n",
       "      <th>2009-04-02</th>\n",
       "      <td>3545</td>\n",
       "      <td>3548</td>\n",
       "      <td>3456</td>\n",
       "      <td>3473</td>\n",
       "      <td>235446</td>\n",
       "      <td>68888</td>\n",
       "      <td>0</td>\n",
       "      <td>-0.020863</td>\n",
       "    </tr>\n",
       "  </tbody>\n",
       "</table>\n",
       "</div>"
      ],
      "text/plain": [
       "            Open  High   Low  Close  Volume     OI  Settle       ret\n",
       "日期                                                                  \n",
       "2009-03-27  3550  3663  3513   3561  354590  45548       0       NaN\n",
       "2009-03-30  3550  3580  3528   3544  145168  48380       0 -0.004774\n",
       "2009-03-31  3538  3566  3531   3549   70592  44714       0  0.001411\n",
       "2009-04-01  3560  3561  3543   3547   28100  42076       0 -0.000564\n",
       "2009-04-02  3545  3548  3456   3473  235446  68888       0 -0.020863"
      ]
     },
     "execution_count": 5,
     "metadata": {},
     "output_type": "execute_result"
    }
   ],
   "source": [
    "rbd['ret'] = rbd['Close'].pct_change()\n",
    "rbd.head()"
   ]
  },
  {
   "cell_type": "code",
   "execution_count": 6,
   "metadata": {
    "slideshow": {
     "slide_type": "slide"
    }
   },
   "outputs": [
    {
     "data": {
      "image/png": "[encoded data removed]",
      "text/plain": [
       "<Figure size 1150x575 with 4 Axes>"
      ]
     },
     "metadata": {},
     "output_type": "display_data"
    }
   ],
   "source": [
    "addFig = [mpf.make_addplot(rbd['ret'],panel=1,type='line',color='red',ylabel='Return')]\n",
    "mpf.plot(rbd,type='line',style='yahoo',addplot=addFig,figratio=(12,6),figscale=1)"
   ]
  },
  {
   "cell_type": "code",
   "execution_count": 7,
   "metadata": {
    "slideshow": {
     "slide_type": "slide"
    }
   },
   "outputs": [
    {
     "data": {
      "text/html": [
       "<div>\n",
       "<style scoped>\n",
       "    .dataframe tbody tr th:only-of-type {\n",
       "        vertical-align: middle;\n",
       "    }\n",
       "\n",
       "    .dataframe tbody tr th {\n",
       "        vertical-align: top;\n",
       "    }\n",
       "\n",
       "    .dataframe thead th {\n",
       "        text-align: right;\n",
       "    }\n",
       "</style>\n",
       "<table border=\"1\" class=\"dataframe\">\n",
       "  <thead>\n",
       "    <tr style=\"text-align: right;\">\n",
       "      <th></th>\n",
       "      <th>Open</th>\n",
       "      <th>High</th>\n",
       "      <th>Low</th>\n",
       "      <th>Close</th>\n",
       "      <th>Volume</th>\n",
       "      <th>OI</th>\n",
       "      <th>Settle</th>\n",
       "      <th>ret</th>\n",
       "      <th>y</th>\n",
       "    </tr>\n",
       "    <tr>\n",
       "      <th>日期</th>\n",
       "      <th></th>\n",
       "      <th></th>\n",
       "      <th></th>\n",
       "      <th></th>\n",
       "      <th></th>\n",
       "      <th></th>\n",
       "      <th></th>\n",
       "      <th></th>\n",
       "      <th></th>\n",
       "    </tr>\n",
       "  </thead>\n",
       "  <tbody>\n",
       "    <tr>\n",
       "      <th>2009-03-27</th>\n",
       "      <td>3550</td>\n",
       "      <td>3663</td>\n",
       "      <td>3513</td>\n",
       "      <td>3561</td>\n",
       "      <td>354590</td>\n",
       "      <td>45548</td>\n",
       "      <td>0</td>\n",
       "      <td>NaN</td>\n",
       "      <td>-1</td>\n",
       "    </tr>\n",
       "    <tr>\n",
       "      <th>2009-03-30</th>\n",
       "      <td>3550</td>\n",
       "      <td>3580</td>\n",
       "      <td>3528</td>\n",
       "      <td>3544</td>\n",
       "      <td>145168</td>\n",
       "      <td>48380</td>\n",
       "      <td>0</td>\n",
       "      <td>-0.004774</td>\n",
       "      <td>-1</td>\n",
       "    </tr>\n",
       "    <tr>\n",
       "      <th>2009-03-31</th>\n",
       "      <td>3538</td>\n",
       "      <td>3566</td>\n",
       "      <td>3531</td>\n",
       "      <td>3549</td>\n",
       "      <td>70592</td>\n",
       "      <td>44714</td>\n",
       "      <td>0</td>\n",
       "      <td>0.001411</td>\n",
       "      <td>1</td>\n",
       "    </tr>\n",
       "    <tr>\n",
       "      <th>2009-04-01</th>\n",
       "      <td>3560</td>\n",
       "      <td>3561</td>\n",
       "      <td>3543</td>\n",
       "      <td>3547</td>\n",
       "      <td>28100</td>\n",
       "      <td>42076</td>\n",
       "      <td>0</td>\n",
       "      <td>-0.000564</td>\n",
       "      <td>-1</td>\n",
       "    </tr>\n",
       "    <tr>\n",
       "      <th>2009-04-02</th>\n",
       "      <td>3545</td>\n",
       "      <td>3548</td>\n",
       "      <td>3456</td>\n",
       "      <td>3473</td>\n",
       "      <td>235446</td>\n",
       "      <td>68888</td>\n",
       "      <td>0</td>\n",
       "      <td>-0.020863</td>\n",
       "      <td>-1</td>\n",
       "    </tr>\n",
       "  </tbody>\n",
       "</table>\n",
       "</div>"
      ],
      "text/plain": [
       "            Open  High   Low  Close  Volume     OI  Settle       ret  y\n",
       "日期                                                                     \n",
       "2009-03-27  3550  3663  3513   3561  354590  45548       0       NaN -1\n",
       "2009-03-30  3550  3580  3528   3544  145168  48380       0 -0.004774 -1\n",
       "2009-03-31  3538  3566  3531   3549   70592  44714       0  0.001411  1\n",
       "2009-04-01  3560  3561  3543   3547   28100  42076       0 -0.000564 -1\n",
       "2009-04-02  3545  3548  3456   3473  235446  68888       0 -0.020863 -1"
      ]
     },
     "execution_count": 7,
     "metadata": {},
     "output_type": "execute_result"
    }
   ],
   "source": [
    "rbd['y'] = np.where(rbd['ret'] > 0,1,-1)\n",
    "rbd.head()"
   ]
  },
  {
   "cell_type": "markdown",
   "metadata": {
    "slideshow": {
     "slide_type": "slide"
    }
   },
   "source": [
    "### 构建分类属性（特征）"
   ]
  },
  {
   "cell_type": "markdown",
   "metadata": {
    "slideshow": {
     "slide_type": "fragment"
    }
   },
   "source": [
    "#### 动量因子"
   ]
  },
  {
   "cell_type": "markdown",
   "metadata": {
    "slideshow": {
     "slide_type": "fragment"
    }
   },
   "source": [
    "- 商品的超额收益在过去7日内的均值"
   ]
  },
  {
   "cell_type": "code",
   "execution_count": 8,
   "metadata": {
    "slideshow": {
     "slide_type": "fragment"
    }
   },
   "outputs": [
    {
     "data": {
      "text/html": [
       "<div>\n",
       "<style scoped>\n",
       "    .dataframe tbody tr th:only-of-type {\n",
       "        vertical-align: middle;\n",
       "    }\n",
       "\n",
       "    .dataframe tbody tr th {\n",
       "        vertical-align: top;\n",
       "    }\n",
       "\n",
       "    .dataframe thead th {\n",
       "        text-align: right;\n",
       "    }\n",
       "</style>\n",
       "<table border=\"1\" class=\"dataframe\">\n",
       "  <thead>\n",
       "    <tr style=\"text-align: right;\">\n",
       "      <th></th>\n",
       "      <th>Open</th>\n",
       "      <th>High</th>\n",
       "      <th>Low</th>\n",
       "      <th>Close</th>\n",
       "      <th>Volume</th>\n",
       "      <th>OI</th>\n",
       "      <th>Settle</th>\n",
       "      <th>ret</th>\n",
       "      <th>y</th>\n",
       "      <th>mf</th>\n",
       "    </tr>\n",
       "    <tr>\n",
       "      <th>日期</th>\n",
       "      <th></th>\n",
       "      <th></th>\n",
       "      <th></th>\n",
       "      <th></th>\n",
       "      <th></th>\n",
       "      <th></th>\n",
       "      <th></th>\n",
       "      <th></th>\n",
       "      <th></th>\n",
       "      <th></th>\n",
       "    </tr>\n",
       "  </thead>\n",
       "  <tbody>\n",
       "    <tr>\n",
       "      <th>2009-03-27</th>\n",
       "      <td>3550</td>\n",
       "      <td>3663</td>\n",
       "      <td>3513</td>\n",
       "      <td>3561</td>\n",
       "      <td>354590</td>\n",
       "      <td>45548</td>\n",
       "      <td>0</td>\n",
       "      <td>NaN</td>\n",
       "      <td>-1</td>\n",
       "      <td>NaN</td>\n",
       "    </tr>\n",
       "    <tr>\n",
       "      <th>2009-03-30</th>\n",
       "      <td>3550</td>\n",
       "      <td>3580</td>\n",
       "      <td>3528</td>\n",
       "      <td>3544</td>\n",
       "      <td>145168</td>\n",
       "      <td>48380</td>\n",
       "      <td>0</td>\n",
       "      <td>-0.004774</td>\n",
       "      <td>-1</td>\n",
       "      <td>NaN</td>\n",
       "    </tr>\n",
       "    <tr>\n",
       "      <th>2009-03-31</th>\n",
       "      <td>3538</td>\n",
       "      <td>3566</td>\n",
       "      <td>3531</td>\n",
       "      <td>3549</td>\n",
       "      <td>70592</td>\n",
       "      <td>44714</td>\n",
       "      <td>0</td>\n",
       "      <td>0.001411</td>\n",
       "      <td>1</td>\n",
       "      <td>NaN</td>\n",
       "    </tr>\n",
       "    <tr>\n",
       "      <th>2009-04-01</th>\n",
       "      <td>3560</td>\n",
       "      <td>3561</td>\n",
       "      <td>3543</td>\n",
       "      <td>3547</td>\n",
       "      <td>28100</td>\n",
       "      <td>42076</td>\n",
       "      <td>0</td>\n",
       "      <td>-0.000564</td>\n",
       "      <td>-1</td>\n",
       "      <td>NaN</td>\n",
       "    </tr>\n",
       "    <tr>\n",
       "      <th>2009-04-02</th>\n",
       "      <td>3545</td>\n",
       "      <td>3548</td>\n",
       "      <td>3456</td>\n",
       "      <td>3473</td>\n",
       "      <td>235446</td>\n",
       "      <td>68888</td>\n",
       "      <td>0</td>\n",
       "      <td>-0.020863</td>\n",
       "      <td>-1</td>\n",
       "      <td>NaN</td>\n",
       "    </tr>\n",
       "    <tr>\n",
       "      <th>2009-04-03</th>\n",
       "      <td>3481</td>\n",
       "      <td>3481</td>\n",
       "      <td>3436</td>\n",
       "      <td>3448</td>\n",
       "      <td>152376</td>\n",
       "      <td>75038</td>\n",
       "      <td>0</td>\n",
       "      <td>-0.007198</td>\n",
       "      <td>-1</td>\n",
       "      <td>NaN</td>\n",
       "    </tr>\n",
       "    <tr>\n",
       "      <th>2009-04-07</th>\n",
       "      <td>3410</td>\n",
       "      <td>3518</td>\n",
       "      <td>3410</td>\n",
       "      <td>3491</td>\n",
       "      <td>242578</td>\n",
       "      <td>100482</td>\n",
       "      <td>0</td>\n",
       "      <td>0.012471</td>\n",
       "      <td>1</td>\n",
       "      <td>NaN</td>\n",
       "    </tr>\n",
       "    <tr>\n",
       "      <th>2009-04-08</th>\n",
       "      <td>3480</td>\n",
       "      <td>3491</td>\n",
       "      <td>3456</td>\n",
       "      <td>3463</td>\n",
       "      <td>147288</td>\n",
       "      <td>91910</td>\n",
       "      <td>0</td>\n",
       "      <td>-0.008021</td>\n",
       "      <td>-1</td>\n",
       "      <td>-0.003934</td>\n",
       "    </tr>\n",
       "    <tr>\n",
       "      <th>2009-04-09</th>\n",
       "      <td>3476</td>\n",
       "      <td>3486</td>\n",
       "      <td>3460</td>\n",
       "      <td>3468</td>\n",
       "      <td>87688</td>\n",
       "      <td>94832</td>\n",
       "      <td>0</td>\n",
       "      <td>0.001444</td>\n",
       "      <td>1</td>\n",
       "      <td>-0.003046</td>\n",
       "    </tr>\n",
       "    <tr>\n",
       "      <th>2009-04-10</th>\n",
       "      <td>3483</td>\n",
       "      <td>3499</td>\n",
       "      <td>3470</td>\n",
       "      <td>3484</td>\n",
       "      <td>120978</td>\n",
       "      <td>100164</td>\n",
       "      <td>0</td>\n",
       "      <td>0.004614</td>\n",
       "      <td>1</td>\n",
       "      <td>-0.002588</td>\n",
       "    </tr>\n",
       "    <tr>\n",
       "      <th>2009-04-13</th>\n",
       "      <td>3485</td>\n",
       "      <td>3493</td>\n",
       "      <td>3464</td>\n",
       "      <td>3469</td>\n",
       "      <td>109820</td>\n",
       "      <td>109430</td>\n",
       "      <td>0</td>\n",
       "      <td>-0.004305</td>\n",
       "      <td>-1</td>\n",
       "      <td>-0.003123</td>\n",
       "    </tr>\n",
       "    <tr>\n",
       "      <th>2009-04-14</th>\n",
       "      <td>3475</td>\n",
       "      <td>3600</td>\n",
       "      <td>3469</td>\n",
       "      <td>3560</td>\n",
       "      <td>540646</td>\n",
       "      <td>150640</td>\n",
       "      <td>0</td>\n",
       "      <td>0.026232</td>\n",
       "      <td>1</td>\n",
       "      <td>0.003605</td>\n",
       "    </tr>\n",
       "    <tr>\n",
       "      <th>2009-04-15</th>\n",
       "      <td>3570</td>\n",
       "      <td>3590</td>\n",
       "      <td>3550</td>\n",
       "      <td>3562</td>\n",
       "      <td>255606</td>\n",
       "      <td>151496</td>\n",
       "      <td>0</td>\n",
       "      <td>0.000562</td>\n",
       "      <td>1</td>\n",
       "      <td>0.004714</td>\n",
       "    </tr>\n",
       "    <tr>\n",
       "      <th>2009-04-16</th>\n",
       "      <td>3582</td>\n",
       "      <td>3628</td>\n",
       "      <td>3570</td>\n",
       "      <td>3596</td>\n",
       "      <td>250464</td>\n",
       "      <td>169328</td>\n",
       "      <td>0</td>\n",
       "      <td>0.009545</td>\n",
       "      <td>1</td>\n",
       "      <td>0.004296</td>\n",
       "    </tr>\n",
       "  </tbody>\n",
       "</table>\n",
       "</div>"
      ],
      "text/plain": [
       "            Open  High   Low  Close  Volume      OI  Settle       ret  y  \\\n",
       "日期                                                                         \n",
       "2009-03-27  3550  3663  3513   3561  354590   45548       0       NaN -1   \n",
       "2009-03-30  3550  3580  3528   3544  145168   48380       0 -0.004774 -1   \n",
       "2009-03-31  3538  3566  3531   3549   70592   44714       0  0.001411  1   \n",
       "2009-04-01  3560  3561  3543   3547   28100   42076       0 -0.000564 -1   \n",
       "2009-04-02  3545  3548  3456   3473  235446   68888       0 -0.020863 -1   \n",
       "2009-04-03  3481  3481  3436   3448  152376   75038       0 -0.007198 -1   \n",
       "2009-04-07  3410  3518  3410   3491  242578  100482       0  0.012471  1   \n",
       "2009-04-08  3480  3491  3456   3463  147288   91910       0 -0.008021 -1   \n",
       "2009-04-09  3476  3486  3460   3468   87688   94832       0  0.001444  1   \n",
       "2009-04-10  3483  3499  3470   3484  120978  100164       0  0.004614  1   \n",
       "2009-04-13  3485  3493  3464   3469  109820  109430       0 -0.004305 -1   \n",
       "2009-04-14  3475  3600  3469   3560  540646  150640       0  0.026232  1   \n",
       "2009-04-15  3570  3590  3550   3562  255606  151496       0  0.000562  1   \n",
       "2009-04-16  3582  3628  3570   3596  250464  169328       0  0.009545  1   \n",
       "\n",
       "                  mf  \n",
       "日期                    \n",
       "2009-03-27       NaN  \n",
       "2009-03-30       NaN  \n",
       "2009-03-31       NaN  \n",
       "2009-04-01       NaN  \n",
       "2009-04-02       NaN  \n",
       "2009-04-03       NaN  \n",
       "2009-04-07       NaN  \n",
       "2009-04-08 -0.003934  \n",
       "2009-04-09 -0.003046  \n",
       "2009-04-10 -0.002588  \n",
       "2009-04-13 -0.003123  \n",
       "2009-04-14  0.003605  \n",
       "2009-04-15  0.004714  \n",
       "2009-04-16  0.004296  "
      ]
     },
     "execution_count": 8,
     "metadata": {},
     "output_type": "execute_result"
    }
   ],
   "source": [
    "rbd['mf'] = talib.SMA(rbd['ret'],timeperiod=7)\n",
    "rbd.head(14)"
   ]
  },
  {
   "cell_type": "markdown",
   "metadata": {
    "slideshow": {
     "slide_type": "slide"
    }
   },
   "source": [
    "#### 波动率因子"
   ]
  },
  {
   "cell_type": "markdown",
   "metadata": {
    "slideshow": {
     "slide_type": "fragment"
    }
   },
   "source": [
    "- 因子构成：变异系数\n",
    "\\begin{align}\n",
    "  &\\frac{\\sigma^2}{|\\mu|}\\\\\n",
    "  &\\sigma^2=\\frac{1}{D-1}\\sum_{d=1}^D(r_{d,Front}-\\mu)^2\\\\\n",
    "  &\\mu = \\frac{1}{D}\\sum_{d=1}^Dr_{d,Front}\n",
    "\\end{align}"
   ]
  },
  {
   "cell_type": "code",
   "execution_count": 9,
   "metadata": {
    "slideshow": {
     "slide_type": "fragment"
    }
   },
   "outputs": [
    {
     "data": {
      "text/html": [
       "<div>\n",
       "<style scoped>\n",
       "    .dataframe tbody tr th:only-of-type {\n",
       "        vertical-align: middle;\n",
       "    }\n",
       "\n",
       "    .dataframe tbody tr th {\n",
       "        vertical-align: top;\n",
       "    }\n",
       "\n",
       "    .dataframe thead th {\n",
       "        text-align: right;\n",
       "    }\n",
       "</style>\n",
       "<table border=\"1\" class=\"dataframe\">\n",
       "  <thead>\n",
       "    <tr style=\"text-align: right;\">\n",
       "      <th></th>\n",
       "      <th>Open</th>\n",
       "      <th>High</th>\n",
       "      <th>Low</th>\n",
       "      <th>Close</th>\n",
       "      <th>Volume</th>\n",
       "      <th>OI</th>\n",
       "      <th>Settle</th>\n",
       "      <th>ret</th>\n",
       "      <th>y</th>\n",
       "      <th>mf</th>\n",
       "      <th>vola</th>\n",
       "    </tr>\n",
       "    <tr>\n",
       "      <th>日期</th>\n",
       "      <th></th>\n",
       "      <th></th>\n",
       "      <th></th>\n",
       "      <th></th>\n",
       "      <th></th>\n",
       "      <th></th>\n",
       "      <th></th>\n",
       "      <th></th>\n",
       "      <th></th>\n",
       "      <th></th>\n",
       "      <th></th>\n",
       "    </tr>\n",
       "  </thead>\n",
       "  <tbody>\n",
       "    <tr>\n",
       "      <th>2009-03-27</th>\n",
       "      <td>3550</td>\n",
       "      <td>3663</td>\n",
       "      <td>3513</td>\n",
       "      <td>3561</td>\n",
       "      <td>354590</td>\n",
       "      <td>45548</td>\n",
       "      <td>0</td>\n",
       "      <td>NaN</td>\n",
       "      <td>-1</td>\n",
       "      <td>NaN</td>\n",
       "      <td>NaN</td>\n",
       "    </tr>\n",
       "    <tr>\n",
       "      <th>2009-03-30</th>\n",
       "      <td>3550</td>\n",
       "      <td>3580</td>\n",
       "      <td>3528</td>\n",
       "      <td>3544</td>\n",
       "      <td>145168</td>\n",
       "      <td>48380</td>\n",
       "      <td>0</td>\n",
       "      <td>-0.004774</td>\n",
       "      <td>-1</td>\n",
       "      <td>NaN</td>\n",
       "      <td>NaN</td>\n",
       "    </tr>\n",
       "    <tr>\n",
       "      <th>2009-03-31</th>\n",
       "      <td>3538</td>\n",
       "      <td>3566</td>\n",
       "      <td>3531</td>\n",
       "      <td>3549</td>\n",
       "      <td>70592</td>\n",
       "      <td>44714</td>\n",
       "      <td>0</td>\n",
       "      <td>0.001411</td>\n",
       "      <td>1</td>\n",
       "      <td>NaN</td>\n",
       "      <td>NaN</td>\n",
       "    </tr>\n",
       "    <tr>\n",
       "      <th>2009-04-01</th>\n",
       "      <td>3560</td>\n",
       "      <td>3561</td>\n",
       "      <td>3543</td>\n",
       "      <td>3547</td>\n",
       "      <td>28100</td>\n",
       "      <td>42076</td>\n",
       "      <td>0</td>\n",
       "      <td>-0.000564</td>\n",
       "      <td>-1</td>\n",
       "      <td>NaN</td>\n",
       "      <td>NaN</td>\n",
       "    </tr>\n",
       "    <tr>\n",
       "      <th>2009-04-02</th>\n",
       "      <td>3545</td>\n",
       "      <td>3548</td>\n",
       "      <td>3456</td>\n",
       "      <td>3473</td>\n",
       "      <td>235446</td>\n",
       "      <td>68888</td>\n",
       "      <td>0</td>\n",
       "      <td>-0.020863</td>\n",
       "      <td>-1</td>\n",
       "      <td>NaN</td>\n",
       "      <td>NaN</td>\n",
       "    </tr>\n",
       "    <tr>\n",
       "      <th>2009-04-03</th>\n",
       "      <td>3481</td>\n",
       "      <td>3481</td>\n",
       "      <td>3436</td>\n",
       "      <td>3448</td>\n",
       "      <td>152376</td>\n",
       "      <td>75038</td>\n",
       "      <td>0</td>\n",
       "      <td>-0.007198</td>\n",
       "      <td>-1</td>\n",
       "      <td>NaN</td>\n",
       "      <td>NaN</td>\n",
       "    </tr>\n",
       "    <tr>\n",
       "      <th>2009-04-07</th>\n",
       "      <td>3410</td>\n",
       "      <td>3518</td>\n",
       "      <td>3410</td>\n",
       "      <td>3491</td>\n",
       "      <td>242578</td>\n",
       "      <td>100482</td>\n",
       "      <td>0</td>\n",
       "      <td>0.012471</td>\n",
       "      <td>1</td>\n",
       "      <td>NaN</td>\n",
       "      <td>NaN</td>\n",
       "    </tr>\n",
       "    <tr>\n",
       "      <th>2009-04-08</th>\n",
       "      <td>3480</td>\n",
       "      <td>3491</td>\n",
       "      <td>3456</td>\n",
       "      <td>3463</td>\n",
       "      <td>147288</td>\n",
       "      <td>91910</td>\n",
       "      <td>0</td>\n",
       "      <td>-0.008021</td>\n",
       "      <td>-1</td>\n",
       "      <td>-0.003934</td>\n",
       "      <td>0.022649</td>\n",
       "    </tr>\n",
       "    <tr>\n",
       "      <th>2009-04-09</th>\n",
       "      <td>3476</td>\n",
       "      <td>3486</td>\n",
       "      <td>3460</td>\n",
       "      <td>3468</td>\n",
       "      <td>87688</td>\n",
       "      <td>94832</td>\n",
       "      <td>0</td>\n",
       "      <td>0.001444</td>\n",
       "      <td>1</td>\n",
       "      <td>-0.003046</td>\n",
       "      <td>0.030319</td>\n",
       "    </tr>\n",
       "    <tr>\n",
       "      <th>2009-04-10</th>\n",
       "      <td>3483</td>\n",
       "      <td>3499</td>\n",
       "      <td>3470</td>\n",
       "      <td>3484</td>\n",
       "      <td>120978</td>\n",
       "      <td>100164</td>\n",
       "      <td>0</td>\n",
       "      <td>0.004614</td>\n",
       "      <td>1</td>\n",
       "      <td>-0.002588</td>\n",
       "      <td>0.037740</td>\n",
       "    </tr>\n",
       "    <tr>\n",
       "      <th>2009-04-13</th>\n",
       "      <td>3485</td>\n",
       "      <td>3493</td>\n",
       "      <td>3464</td>\n",
       "      <td>3469</td>\n",
       "      <td>109820</td>\n",
       "      <td>109430</td>\n",
       "      <td>0</td>\n",
       "      <td>-0.004305</td>\n",
       "      <td>-1</td>\n",
       "      <td>-0.003123</td>\n",
       "      <td>0.031135</td>\n",
       "    </tr>\n",
       "    <tr>\n",
       "      <th>2009-04-14</th>\n",
       "      <td>3475</td>\n",
       "      <td>3600</td>\n",
       "      <td>3469</td>\n",
       "      <td>3560</td>\n",
       "      <td>540646</td>\n",
       "      <td>150640</td>\n",
       "      <td>0</td>\n",
       "      <td>0.026232</td>\n",
       "      <td>1</td>\n",
       "      <td>0.003605</td>\n",
       "      <td>0.036088</td>\n",
       "    </tr>\n",
       "    <tr>\n",
       "      <th>2009-04-15</th>\n",
       "      <td>3570</td>\n",
       "      <td>3590</td>\n",
       "      <td>3550</td>\n",
       "      <td>3562</td>\n",
       "      <td>255606</td>\n",
       "      <td>151496</td>\n",
       "      <td>0</td>\n",
       "      <td>0.000562</td>\n",
       "      <td>1</td>\n",
       "      <td>0.004714</td>\n",
       "      <td>0.024084</td>\n",
       "    </tr>\n",
       "    <tr>\n",
       "      <th>2009-04-16</th>\n",
       "      <td>3582</td>\n",
       "      <td>3628</td>\n",
       "      <td>3570</td>\n",
       "      <td>3596</td>\n",
       "      <td>250464</td>\n",
       "      <td>169328</td>\n",
       "      <td>0</td>\n",
       "      <td>0.009545</td>\n",
       "      <td>1</td>\n",
       "      <td>0.004296</td>\n",
       "      <td>0.025161</td>\n",
       "    </tr>\n",
       "  </tbody>\n",
       "</table>\n",
       "</div>"
      ],
      "text/plain": [
       "            Open  High   Low  Close  Volume      OI  Settle       ret  y  \\\n",
       "日期                                                                         \n",
       "2009-03-27  3550  3663  3513   3561  354590   45548       0       NaN -1   \n",
       "2009-03-30  3550  3580  3528   3544  145168   48380       0 -0.004774 -1   \n",
       "2009-03-31  3538  3566  3531   3549   70592   44714       0  0.001411  1   \n",
       "2009-04-01  3560  3561  3543   3547   28100   42076       0 -0.000564 -1   \n",
       "2009-04-02  3545  3548  3456   3473  235446   68888       0 -0.020863 -1   \n",
       "2009-04-03  3481  3481  3436   3448  152376   75038       0 -0.007198 -1   \n",
       "2009-04-07  3410  3518  3410   3491  242578  100482       0  0.012471  1   \n",
       "2009-04-08  3480  3491  3456   3463  147288   91910       0 -0.008021 -1   \n",
       "2009-04-09  3476  3486  3460   3468   87688   94832       0  0.001444  1   \n",
       "2009-04-10  3483  3499  3470   3484  120978  100164       0  0.004614  1   \n",
       "2009-04-13  3485  3493  3464   3469  109820  109430       0 -0.004305 -1   \n",
       "2009-04-14  3475  3600  3469   3560  540646  150640       0  0.026232  1   \n",
       "2009-04-15  3570  3590  3550   3562  255606  151496       0  0.000562  1   \n",
       "2009-04-16  3582  3628  3570   3596  250464  169328       0  0.009545  1   \n",
       "\n",
       "                  mf      vola  \n",
       "日期                              \n",
       "2009-03-27       NaN       NaN  \n",
       "2009-03-30       NaN       NaN  \n",
       "2009-03-31       NaN       NaN  \n",
       "2009-04-01       NaN       NaN  \n",
       "2009-04-02       NaN       NaN  \n",
       "2009-04-03       NaN       NaN  \n",
       "2009-04-07       NaN       NaN  \n",
       "2009-04-08 -0.003934  0.022649  \n",
       "2009-04-09 -0.003046  0.030319  \n",
       "2009-04-10 -0.002588  0.037740  \n",
       "2009-04-13 -0.003123  0.031135  \n",
       "2009-04-14  0.003605  0.036088  \n",
       "2009-04-15  0.004714  0.024084  \n",
       "2009-04-16  0.004296  0.025161  "
      ]
     },
     "execution_count": 9,
     "metadata": {},
     "output_type": "execute_result"
    }
   ],
   "source": [
    "retMu7 = talib.SMA(rbd['ret'],timeperiod=7)\n",
    "retVar7 = talib.VAR(rbd['ret'],timeperiod=7)\n",
    "rbd['vola'] = retVar7/np.abs(retMu7)\n",
    "rbd.head(14)"
   ]
  },
  {
   "cell_type": "markdown",
   "metadata": {
    "slideshow": {
     "slide_type": "slide"
    }
   },
   "source": [
    "#### 价值因子"
   ]
  },
  {
   "cell_type": "markdown",
   "metadata": {
    "slideshow": {
     "slide_type": "fragment"
    }
   },
   "source": [
    "- 因子构成\n",
    "\n",
    "\\begin{equation}\n",
    "  \\ln\\frac{\\frac{1}{D}\\sum_{d=1}^D f_{d,Front}}{f_{t,Front}}\n",
    "\\end{equation}"
   ]
  },
  {
   "cell_type": "code",
   "execution_count": 10,
   "metadata": {
    "slideshow": {
     "slide_type": "fragment"
    }
   },
   "outputs": [
    {
     "data": {
      "text/html": [
       "<div>\n",
       "<style scoped>\n",
       "    .dataframe tbody tr th:only-of-type {\n",
       "        vertical-align: middle;\n",
       "    }\n",
       "\n",
       "    .dataframe tbody tr th {\n",
       "        vertical-align: top;\n",
       "    }\n",
       "\n",
       "    .dataframe thead th {\n",
       "        text-align: right;\n",
       "    }\n",
       "</style>\n",
       "<table border=\"1\" class=\"dataframe\">\n",
       "  <thead>\n",
       "    <tr style=\"text-align: right;\">\n",
       "      <th></th>\n",
       "      <th>Open</th>\n",
       "      <th>High</th>\n",
       "      <th>Low</th>\n",
       "      <th>Close</th>\n",
       "      <th>Volume</th>\n",
       "      <th>OI</th>\n",
       "      <th>Settle</th>\n",
       "      <th>ret</th>\n",
       "      <th>y</th>\n",
       "      <th>mf</th>\n",
       "      <th>vola</th>\n",
       "      <th>val</th>\n",
       "    </tr>\n",
       "    <tr>\n",
       "      <th>日期</th>\n",
       "      <th></th>\n",
       "      <th></th>\n",
       "      <th></th>\n",
       "      <th></th>\n",
       "      <th></th>\n",
       "      <th></th>\n",
       "      <th></th>\n",
       "      <th></th>\n",
       "      <th></th>\n",
       "      <th></th>\n",
       "      <th></th>\n",
       "      <th></th>\n",
       "    </tr>\n",
       "  </thead>\n",
       "  <tbody>\n",
       "    <tr>\n",
       "      <th>2009-03-27</th>\n",
       "      <td>3550</td>\n",
       "      <td>3663</td>\n",
       "      <td>3513</td>\n",
       "      <td>3561</td>\n",
       "      <td>354590</td>\n",
       "      <td>45548</td>\n",
       "      <td>0</td>\n",
       "      <td>NaN</td>\n",
       "      <td>-1</td>\n",
       "      <td>NaN</td>\n",
       "      <td>NaN</td>\n",
       "      <td>NaN</td>\n",
       "    </tr>\n",
       "    <tr>\n",
       "      <th>2009-03-30</th>\n",
       "      <td>3550</td>\n",
       "      <td>3580</td>\n",
       "      <td>3528</td>\n",
       "      <td>3544</td>\n",
       "      <td>145168</td>\n",
       "      <td>48380</td>\n",
       "      <td>0</td>\n",
       "      <td>-0.004774</td>\n",
       "      <td>-1</td>\n",
       "      <td>NaN</td>\n",
       "      <td>NaN</td>\n",
       "      <td>NaN</td>\n",
       "    </tr>\n",
       "    <tr>\n",
       "      <th>2009-03-31</th>\n",
       "      <td>3538</td>\n",
       "      <td>3566</td>\n",
       "      <td>3531</td>\n",
       "      <td>3549</td>\n",
       "      <td>70592</td>\n",
       "      <td>44714</td>\n",
       "      <td>0</td>\n",
       "      <td>0.001411</td>\n",
       "      <td>1</td>\n",
       "      <td>NaN</td>\n",
       "      <td>NaN</td>\n",
       "      <td>NaN</td>\n",
       "    </tr>\n",
       "    <tr>\n",
       "      <th>2009-04-01</th>\n",
       "      <td>3560</td>\n",
       "      <td>3561</td>\n",
       "      <td>3543</td>\n",
       "      <td>3547</td>\n",
       "      <td>28100</td>\n",
       "      <td>42076</td>\n",
       "      <td>0</td>\n",
       "      <td>-0.000564</td>\n",
       "      <td>-1</td>\n",
       "      <td>NaN</td>\n",
       "      <td>NaN</td>\n",
       "      <td>NaN</td>\n",
       "    </tr>\n",
       "    <tr>\n",
       "      <th>2009-04-02</th>\n",
       "      <td>3545</td>\n",
       "      <td>3548</td>\n",
       "      <td>3456</td>\n",
       "      <td>3473</td>\n",
       "      <td>235446</td>\n",
       "      <td>68888</td>\n",
       "      <td>0</td>\n",
       "      <td>-0.020863</td>\n",
       "      <td>-1</td>\n",
       "      <td>NaN</td>\n",
       "      <td>NaN</td>\n",
       "      <td>NaN</td>\n",
       "    </tr>\n",
       "    <tr>\n",
       "      <th>2009-04-03</th>\n",
       "      <td>3481</td>\n",
       "      <td>3481</td>\n",
       "      <td>3436</td>\n",
       "      <td>3448</td>\n",
       "      <td>152376</td>\n",
       "      <td>75038</td>\n",
       "      <td>0</td>\n",
       "      <td>-0.007198</td>\n",
       "      <td>-1</td>\n",
       "      <td>NaN</td>\n",
       "      <td>NaN</td>\n",
       "      <td>NaN</td>\n",
       "    </tr>\n",
       "    <tr>\n",
       "      <th>2009-04-07</th>\n",
       "      <td>3410</td>\n",
       "      <td>3518</td>\n",
       "      <td>3410</td>\n",
       "      <td>3491</td>\n",
       "      <td>242578</td>\n",
       "      <td>100482</td>\n",
       "      <td>0</td>\n",
       "      <td>0.012471</td>\n",
       "      <td>1</td>\n",
       "      <td>NaN</td>\n",
       "      <td>NaN</td>\n",
       "      <td>0.007176</td>\n",
       "    </tr>\n",
       "    <tr>\n",
       "      <th>2009-04-08</th>\n",
       "      <td>3480</td>\n",
       "      <td>3491</td>\n",
       "      <td>3456</td>\n",
       "      <td>3463</td>\n",
       "      <td>147288</td>\n",
       "      <td>91910</td>\n",
       "      <td>0</td>\n",
       "      <td>-0.008021</td>\n",
       "      <td>-1</td>\n",
       "      <td>-0.003934</td>\n",
       "      <td>0.022649</td>\n",
       "      <td>0.011240</td>\n",
       "    </tr>\n",
       "    <tr>\n",
       "      <th>2009-04-09</th>\n",
       "      <td>3476</td>\n",
       "      <td>3486</td>\n",
       "      <td>3460</td>\n",
       "      <td>3468</td>\n",
       "      <td>87688</td>\n",
       "      <td>94832</td>\n",
       "      <td>0</td>\n",
       "      <td>0.001444</td>\n",
       "      <td>1</td>\n",
       "      <td>-0.003046</td>\n",
       "      <td>0.030319</td>\n",
       "      <td>0.006692</td>\n",
       "    </tr>\n",
       "    <tr>\n",
       "      <th>2009-04-10</th>\n",
       "      <td>3483</td>\n",
       "      <td>3499</td>\n",
       "      <td>3470</td>\n",
       "      <td>3484</td>\n",
       "      <td>120978</td>\n",
       "      <td>100164</td>\n",
       "      <td>0</td>\n",
       "      <td>0.004614</td>\n",
       "      <td>1</td>\n",
       "      <td>-0.002588</td>\n",
       "      <td>0.037740</td>\n",
       "      <td>-0.000574</td>\n",
       "    </tr>\n",
       "    <tr>\n",
       "      <th>2009-04-13</th>\n",
       "      <td>3485</td>\n",
       "      <td>3493</td>\n",
       "      <td>3464</td>\n",
       "      <td>3469</td>\n",
       "      <td>109820</td>\n",
       "      <td>109430</td>\n",
       "      <td>0</td>\n",
       "      <td>-0.004305</td>\n",
       "      <td>-1</td>\n",
       "      <td>-0.003123</td>\n",
       "      <td>0.031135</td>\n",
       "      <td>0.000535</td>\n",
       "    </tr>\n",
       "    <tr>\n",
       "      <th>2009-04-14</th>\n",
       "      <td>3475</td>\n",
       "      <td>3600</td>\n",
       "      <td>3469</td>\n",
       "      <td>3560</td>\n",
       "      <td>540646</td>\n",
       "      <td>150640</td>\n",
       "      <td>0</td>\n",
       "      <td>0.026232</td>\n",
       "      <td>1</td>\n",
       "      <td>0.003605</td>\n",
       "      <td>0.036088</td>\n",
       "      <td>-0.021785</td>\n",
       "    </tr>\n",
       "    <tr>\n",
       "      <th>2009-04-15</th>\n",
       "      <td>3570</td>\n",
       "      <td>3590</td>\n",
       "      <td>3550</td>\n",
       "      <td>3562</td>\n",
       "      <td>255606</td>\n",
       "      <td>151496</td>\n",
       "      <td>0</td>\n",
       "      <td>0.000562</td>\n",
       "      <td>1</td>\n",
       "      <td>0.004714</td>\n",
       "      <td>0.024084</td>\n",
       "      <td>-0.017682</td>\n",
       "    </tr>\n",
       "    <tr>\n",
       "      <th>2009-04-16</th>\n",
       "      <td>3582</td>\n",
       "      <td>3628</td>\n",
       "      <td>3570</td>\n",
       "      <td>3596</td>\n",
       "      <td>250464</td>\n",
       "      <td>169328</td>\n",
       "      <td>0</td>\n",
       "      <td>0.009545</td>\n",
       "      <td>1</td>\n",
       "      <td>0.004296</td>\n",
       "      <td>0.025161</td>\n",
       "      <td>-0.022905</td>\n",
       "    </tr>\n",
       "  </tbody>\n",
       "</table>\n",
       "</div>"
      ],
      "text/plain": [
       "            Open  High   Low  Close  Volume      OI  Settle       ret  y  \\\n",
       "日期                                                                         \n",
       "2009-03-27  3550  3663  3513   3561  354590   45548       0       NaN -1   \n",
       "2009-03-30  3550  3580  3528   3544  145168   48380       0 -0.004774 -1   \n",
       "2009-03-31  3538  3566  3531   3549   70592   44714       0  0.001411  1   \n",
       "2009-04-01  3560  3561  3543   3547   28100   42076       0 -0.000564 -1   \n",
       "2009-04-02  3545  3548  3456   3473  235446   68888       0 -0.020863 -1   \n",
       "2009-04-03  3481  3481  3436   3448  152376   75038       0 -0.007198 -1   \n",
       "2009-04-07  3410  3518  3410   3491  242578  100482       0  0.012471  1   \n",
       "2009-04-08  3480  3491  3456   3463  147288   91910       0 -0.008021 -1   \n",
       "2009-04-09  3476  3486  3460   3468   87688   94832       0  0.001444  1   \n",
       "2009-04-10  3483  3499  3470   3484  120978  100164       0  0.004614  1   \n",
       "2009-04-13  3485  3493  3464   3469  109820  109430       0 -0.004305 -1   \n",
       "2009-04-14  3475  3600  3469   3560  540646  150640       0  0.026232  1   \n",
       "2009-04-15  3570  3590  3550   3562  255606  151496       0  0.000562  1   \n",
       "2009-04-16  3582  3628  3570   3596  250464  169328       0  0.009545  1   \n",
       "\n",
       "                  mf      vola       val  \n",
       "日期                                        \n",
       "2009-03-27       NaN       NaN       NaN  \n",
       "2009-03-30       NaN       NaN       NaN  \n",
       "2009-03-31       NaN       NaN       NaN  \n",
       "2009-04-01       NaN       NaN       NaN  \n",
       "2009-04-02       NaN       NaN       NaN  \n",
       "2009-04-03       NaN       NaN       NaN  \n",
       "2009-04-07       NaN       NaN  0.007176  \n",
       "2009-04-08 -0.003934  0.022649  0.011240  \n",
       "2009-04-09 -0.003046  0.030319  0.006692  \n",
       "2009-04-10 -0.002588  0.037740 -0.000574  \n",
       "2009-04-13 -0.003123  0.031135  0.000535  \n",
       "2009-04-14  0.003605  0.036088 -0.021785  \n",
       "2009-04-15  0.004714  0.024084 -0.017682  \n",
       "2009-04-16  0.004296  0.025161 -0.022905  "
      ]
     },
     "execution_count": 10,
     "metadata": {},
     "output_type": "execute_result"
    }
   ],
   "source": [
    "closeMu7 = talib.SMA(rbd['Close'],timeperiod=7)\n",
    "rbd['val'] = np.log(closeMu7/rbd['Close'])\n",
    "rbd.head(14)"
   ]
  },
  {
   "cell_type": "markdown",
   "metadata": {
    "slideshow": {
     "slide_type": "slide"
    }
   },
   "source": [
    "#### 删除含有缺失值的行"
   ]
  },
  {
   "cell_type": "code",
   "execution_count": 11,
   "metadata": {
    "slideshow": {
     "slide_type": "slide"
    }
   },
   "outputs": [
    {
     "data": {
      "text/html": [
       "<div>\n",
       "<style scoped>\n",
       "    .dataframe tbody tr th:only-of-type {\n",
       "        vertical-align: middle;\n",
       "    }\n",
       "\n",
       "    .dataframe tbody tr th {\n",
       "        vertical-align: top;\n",
       "    }\n",
       "\n",
       "    .dataframe thead th {\n",
       "        text-align: right;\n",
       "    }\n",
       "</style>\n",
       "<table border=\"1\" class=\"dataframe\">\n",
       "  <thead>\n",
       "    <tr style=\"text-align: right;\">\n",
       "      <th></th>\n",
       "      <th>Open</th>\n",
       "      <th>High</th>\n",
       "      <th>Low</th>\n",
       "      <th>Close</th>\n",
       "      <th>Volume</th>\n",
       "      <th>OI</th>\n",
       "      <th>Settle</th>\n",
       "      <th>ret</th>\n",
       "      <th>y</th>\n",
       "      <th>mf</th>\n",
       "      <th>vola</th>\n",
       "      <th>val</th>\n",
       "    </tr>\n",
       "    <tr>\n",
       "      <th>日期</th>\n",
       "      <th></th>\n",
       "      <th></th>\n",
       "      <th></th>\n",
       "      <th></th>\n",
       "      <th></th>\n",
       "      <th></th>\n",
       "      <th></th>\n",
       "      <th></th>\n",
       "      <th></th>\n",
       "      <th></th>\n",
       "      <th></th>\n",
       "      <th></th>\n",
       "    </tr>\n",
       "  </thead>\n",
       "  <tbody>\n",
       "    <tr>\n",
       "      <th>2009-04-08</th>\n",
       "      <td>3480</td>\n",
       "      <td>3491</td>\n",
       "      <td>3456</td>\n",
       "      <td>3463</td>\n",
       "      <td>147288</td>\n",
       "      <td>91910</td>\n",
       "      <td>0</td>\n",
       "      <td>-0.008021</td>\n",
       "      <td>-1</td>\n",
       "      <td>-0.003934</td>\n",
       "      <td>0.022649</td>\n",
       "      <td>0.011240</td>\n",
       "    </tr>\n",
       "    <tr>\n",
       "      <th>2009-04-09</th>\n",
       "      <td>3476</td>\n",
       "      <td>3486</td>\n",
       "      <td>3460</td>\n",
       "      <td>3468</td>\n",
       "      <td>87688</td>\n",
       "      <td>94832</td>\n",
       "      <td>0</td>\n",
       "      <td>0.001444</td>\n",
       "      <td>1</td>\n",
       "      <td>-0.003046</td>\n",
       "      <td>0.030319</td>\n",
       "      <td>0.006692</td>\n",
       "    </tr>\n",
       "    <tr>\n",
       "      <th>2009-04-10</th>\n",
       "      <td>3483</td>\n",
       "      <td>3499</td>\n",
       "      <td>3470</td>\n",
       "      <td>3484</td>\n",
       "      <td>120978</td>\n",
       "      <td>100164</td>\n",
       "      <td>0</td>\n",
       "      <td>0.004614</td>\n",
       "      <td>1</td>\n",
       "      <td>-0.002588</td>\n",
       "      <td>0.037740</td>\n",
       "      <td>-0.000574</td>\n",
       "    </tr>\n",
       "    <tr>\n",
       "      <th>2009-04-13</th>\n",
       "      <td>3485</td>\n",
       "      <td>3493</td>\n",
       "      <td>3464</td>\n",
       "      <td>3469</td>\n",
       "      <td>109820</td>\n",
       "      <td>109430</td>\n",
       "      <td>0</td>\n",
       "      <td>-0.004305</td>\n",
       "      <td>-1</td>\n",
       "      <td>-0.003123</td>\n",
       "      <td>0.031135</td>\n",
       "      <td>0.000535</td>\n",
       "    </tr>\n",
       "    <tr>\n",
       "      <th>2009-04-14</th>\n",
       "      <td>3475</td>\n",
       "      <td>3600</td>\n",
       "      <td>3469</td>\n",
       "      <td>3560</td>\n",
       "      <td>540646</td>\n",
       "      <td>150640</td>\n",
       "      <td>0</td>\n",
       "      <td>0.026232</td>\n",
       "      <td>1</td>\n",
       "      <td>0.003605</td>\n",
       "      <td>0.036088</td>\n",
       "      <td>-0.021785</td>\n",
       "    </tr>\n",
       "  </tbody>\n",
       "</table>\n",
       "</div>"
      ],
      "text/plain": [
       "            Open  High   Low  Close  Volume      OI  Settle       ret  y  \\\n",
       "日期                                                                         \n",
       "2009-04-08  3480  3491  3456   3463  147288   91910       0 -0.008021 -1   \n",
       "2009-04-09  3476  3486  3460   3468   87688   94832       0  0.001444  1   \n",
       "2009-04-10  3483  3499  3470   3484  120978  100164       0  0.004614  1   \n",
       "2009-04-13  3485  3493  3464   3469  109820  109430       0 -0.004305 -1   \n",
       "2009-04-14  3475  3600  3469   3560  540646  150640       0  0.026232  1   \n",
       "\n",
       "                  mf      vola       val  \n",
       "日期                                        \n",
       "2009-04-08 -0.003934  0.022649  0.011240  \n",
       "2009-04-09 -0.003046  0.030319  0.006692  \n",
       "2009-04-10 -0.002588  0.037740 -0.000574  \n",
       "2009-04-13 -0.003123  0.031135  0.000535  \n",
       "2009-04-14  0.003605  0.036088 -0.021785  "
      ]
     },
     "execution_count": 11,
     "metadata": {},
     "output_type": "execute_result"
    }
   ],
   "source": [
    "rbd.dropna(inplace=True)\n",
    "rbd.head()"
   ]
  },
  {
   "cell_type": "markdown",
   "metadata": {
    "slideshow": {
     "slide_type": "slide"
    }
   },
   "source": [
    "### 构建决策树模型"
   ]
  },
  {
   "cell_type": "markdown",
   "metadata": {
    "slideshow": {
     "slide_type": "fragment"
    }
   },
   "source": [
    "#### 划分训练集与检验集"
   ]
  },
  {
   "cell_type": "code",
   "execution_count": 14,
   "metadata": {
    "slideshow": {
     "slide_type": "fragment"
    }
   },
   "outputs": [
    {
     "data": {
      "text/html": [
       "<div>\n",
       "<style scoped>\n",
       "    .dataframe tbody tr th:only-of-type {\n",
       "        vertical-align: middle;\n",
       "    }\n",
       "\n",
       "    .dataframe tbody tr th {\n",
       "        vertical-align: top;\n",
       "    }\n",
       "\n",
       "    .dataframe thead th {\n",
       "        text-align: right;\n",
       "    }\n",
       "</style>\n",
       "<table border=\"1\" class=\"dataframe\">\n",
       "  <thead>\n",
       "    <tr style=\"text-align: right;\">\n",
       "      <th></th>\n",
       "      <th>Open</th>\n",
       "      <th>High</th>\n",
       "      <th>Low</th>\n",
       "      <th>Close</th>\n",
       "      <th>Volume</th>\n",
       "      <th>OI</th>\n",
       "      <th>Settle</th>\n",
       "      <th>ret</th>\n",
       "      <th>y</th>\n",
       "      <th>mf</th>\n",
       "      <th>vola</th>\n",
       "      <th>val</th>\n",
       "    </tr>\n",
       "    <tr>\n",
       "      <th>日期</th>\n",
       "      <th></th>\n",
       "      <th></th>\n",
       "      <th></th>\n",
       "      <th></th>\n",
       "      <th></th>\n",
       "      <th></th>\n",
       "      <th></th>\n",
       "      <th></th>\n",
       "      <th></th>\n",
       "      <th></th>\n",
       "      <th></th>\n",
       "      <th></th>\n",
       "    </tr>\n",
       "  </thead>\n",
       "  <tbody>\n",
       "    <tr>\n",
       "      <th>2010-07-22</th>\n",
       "      <td>4183</td>\n",
       "      <td>4191</td>\n",
       "      <td>4163</td>\n",
       "      <td>4173</td>\n",
       "      <td>1789800</td>\n",
       "      <td>913076</td>\n",
       "      <td>4174</td>\n",
       "      <td>-0.000958</td>\n",
       "      <td>-1</td>\n",
       "      <td>0.003080</td>\n",
       "      <td>0.019828</td>\n",
       "      <td>-0.012089</td>\n",
       "    </tr>\n",
       "    <tr>\n",
       "      <th>2020-04-21</th>\n",
       "      <td>3350</td>\n",
       "      <td>3351</td>\n",
       "      <td>3306</td>\n",
       "      <td>3337</td>\n",
       "      <td>1529213</td>\n",
       "      <td>1527245</td>\n",
       "      <td>3326</td>\n",
       "      <td>-0.007436</td>\n",
       "      <td>-1</td>\n",
       "      <td>-0.001524</td>\n",
       "      <td>0.010619</td>\n",
       "      <td>0.010646</td>\n",
       "    </tr>\n",
       "    <tr>\n",
       "      <th>2011-12-23</th>\n",
       "      <td>4208</td>\n",
       "      <td>4231</td>\n",
       "      <td>4201</td>\n",
       "      <td>4226</td>\n",
       "      <td>730982</td>\n",
       "      <td>682206</td>\n",
       "      <td>4215</td>\n",
       "      <td>0.004755</td>\n",
       "      <td>1</td>\n",
       "      <td>0.002516</td>\n",
       "      <td>0.019037</td>\n",
       "      <td>-0.010569</td>\n",
       "    </tr>\n",
       "    <tr>\n",
       "      <th>2018-02-27</th>\n",
       "      <td>4038</td>\n",
       "      <td>4040</td>\n",
       "      <td>3981</td>\n",
       "      <td>4035</td>\n",
       "      <td>2380880</td>\n",
       "      <td>2509598</td>\n",
       "      <td>4014</td>\n",
       "      <td>0.001738</td>\n",
       "      <td>1</td>\n",
       "      <td>0.005130</td>\n",
       "      <td>0.028545</td>\n",
       "      <td>-0.021255</td>\n",
       "    </tr>\n",
       "    <tr>\n",
       "      <th>2015-10-27</th>\n",
       "      <td>1800</td>\n",
       "      <td>1818</td>\n",
       "      <td>1798</td>\n",
       "      <td>1804</td>\n",
       "      <td>2068660</td>\n",
       "      <td>2087966</td>\n",
       "      <td>1806</td>\n",
       "      <td>0.001666</td>\n",
       "      <td>1</td>\n",
       "      <td>-0.002031</td>\n",
       "      <td>0.010611</td>\n",
       "      <td>-0.000396</td>\n",
       "    </tr>\n",
       "  </tbody>\n",
       "</table>\n",
       "</div>"
      ],
      "text/plain": [
       "            Open  High   Low  Close   Volume       OI  Settle       ret  y  \\\n",
       "日期                                                                           \n",
       "2010-07-22  4183  4191  4163   4173  1789800   913076    4174 -0.000958 -1   \n",
       "2020-04-21  3350  3351  3306   3337  1529213  1527245    3326 -0.007436 -1   \n",
       "2011-12-23  4208  4231  4201   4226   730982   682206    4215  0.004755  1   \n",
       "2018-02-27  4038  4040  3981   4035  2380880  2509598    4014  0.001738  1   \n",
       "2015-10-27  1800  1818  1798   1804  2068660  2087966    1806  0.001666  1   \n",
       "\n",
       "                  mf      vola       val  \n",
       "日期                                        \n",
       "2010-07-22  0.003080  0.019828 -0.012089  \n",
       "2020-04-21 -0.001524  0.010619  0.010646  \n",
       "2011-12-23  0.002516  0.019037 -0.010569  \n",
       "2018-02-27  0.005130  0.028545 -0.021255  \n",
       "2015-10-27 -0.002031  0.010611 -0.000396  "
      ]
     },
     "execution_count": 14,
     "metadata": {},
     "output_type": "execute_result"
    },
    {
     "data": {
      "text/html": [
       "<div>\n",
       "<style scoped>\n",
       "    .dataframe tbody tr th:only-of-type {\n",
       "        vertical-align: middle;\n",
       "    }\n",
       "\n",
       "    .dataframe tbody tr th {\n",
       "        vertical-align: top;\n",
       "    }\n",
       "\n",
       "    .dataframe thead th {\n",
       "        text-align: right;\n",
       "    }\n",
       "</style>\n",
       "<table border=\"1\" class=\"dataframe\">\n",
       "  <thead>\n",
       "    <tr style=\"text-align: right;\">\n",
       "      <th></th>\n",
       "      <th>Open</th>\n",
       "      <th>High</th>\n",
       "      <th>Low</th>\n",
       "      <th>Close</th>\n",
       "      <th>Volume</th>\n",
       "      <th>OI</th>\n",
       "      <th>Settle</th>\n",
       "      <th>ret</th>\n",
       "      <th>y</th>\n",
       "      <th>mf</th>\n",
       "      <th>vola</th>\n",
       "      <th>val</th>\n",
       "    </tr>\n",
       "    <tr>\n",
       "      <th>日期</th>\n",
       "      <th></th>\n",
       "      <th></th>\n",
       "      <th></th>\n",
       "      <th></th>\n",
       "      <th></th>\n",
       "      <th></th>\n",
       "      <th></th>\n",
       "      <th></th>\n",
       "      <th></th>\n",
       "      <th></th>\n",
       "      <th></th>\n",
       "      <th></th>\n",
       "    </tr>\n",
       "  </thead>\n",
       "  <tbody>\n",
       "    <tr>\n",
       "      <th>2020-10-19</th>\n",
       "      <td>3636</td>\n",
       "      <td>3664</td>\n",
       "      <td>3591</td>\n",
       "      <td>3611</td>\n",
       "      <td>1300997</td>\n",
       "      <td>1162179</td>\n",
       "      <td>3627</td>\n",
       "      <td>-0.005782</td>\n",
       "      <td>-1</td>\n",
       "      <td>0.002068</td>\n",
       "      <td>0.032636</td>\n",
       "      <td>0.003712</td>\n",
       "    </tr>\n",
       "    <tr>\n",
       "      <th>2014-06-27</th>\n",
       "      <td>3115</td>\n",
       "      <td>3122</td>\n",
       "      <td>3086</td>\n",
       "      <td>3088</td>\n",
       "      <td>1650400</td>\n",
       "      <td>1653300</td>\n",
       "      <td>3106</td>\n",
       "      <td>-0.008668</td>\n",
       "      <td>-1</td>\n",
       "      <td>0.003735</td>\n",
       "      <td>0.013954</td>\n",
       "      <td>-0.006731</td>\n",
       "    </tr>\n",
       "    <tr>\n",
       "      <th>2013-07-23</th>\n",
       "      <td>3676</td>\n",
       "      <td>3692</td>\n",
       "      <td>3673</td>\n",
       "      <td>3688</td>\n",
       "      <td>1597738</td>\n",
       "      <td>1452482</td>\n",
       "      <td>3685</td>\n",
       "      <td>0.002719</td>\n",
       "      <td>1</td>\n",
       "      <td>0.001249</td>\n",
       "      <td>0.004596</td>\n",
       "      <td>-0.002288</td>\n",
       "    </tr>\n",
       "    <tr>\n",
       "      <th>2016-04-22</th>\n",
       "      <td>2735</td>\n",
       "      <td>2740</td>\n",
       "      <td>2591</td>\n",
       "      <td>2619</td>\n",
       "      <td>21928680</td>\n",
       "      <td>2671432</td>\n",
       "      <td>2652</td>\n",
       "      <td>-0.047636</td>\n",
       "      <td>-1</td>\n",
       "      <td>0.016087</td>\n",
       "      <td>0.083452</td>\n",
       "      <td>-0.048218</td>\n",
       "    </tr>\n",
       "    <tr>\n",
       "      <th>2012-03-05</th>\n",
       "      <td>4295</td>\n",
       "      <td>4309</td>\n",
       "      <td>4251</td>\n",
       "      <td>4267</td>\n",
       "      <td>669090</td>\n",
       "      <td>551168</td>\n",
       "      <td>4272</td>\n",
       "      <td>-0.007213</td>\n",
       "      <td>-1</td>\n",
       "      <td>0.000989</td>\n",
       "      <td>0.029782</td>\n",
       "      <td>0.002641</td>\n",
       "    </tr>\n",
       "  </tbody>\n",
       "</table>\n",
       "</div>"
      ],
      "text/plain": [
       "            Open  High   Low  Close    Volume       OI  Settle       ret  y  \\\n",
       "日期                                                                            \n",
       "2020-10-19  3636  3664  3591   3611   1300997  1162179    3627 -0.005782 -1   \n",
       "2014-06-27  3115  3122  3086   3088   1650400  1653300    3106 -0.008668 -1   \n",
       "2013-07-23  3676  3692  3673   3688   1597738  1452482    3685  0.002719  1   \n",
       "2016-04-22  2735  2740  2591   2619  21928680  2671432    2652 -0.047636 -1   \n",
       "2012-03-05  4295  4309  4251   4267    669090   551168    4272 -0.007213 -1   \n",
       "\n",
       "                  mf      vola       val  \n",
       "日期                                        \n",
       "2020-10-19  0.002068  0.032636  0.003712  \n",
       "2014-06-27  0.003735  0.013954 -0.006731  \n",
       "2013-07-23  0.001249  0.004596 -0.002288  \n",
       "2016-04-22  0.016087  0.083452 -0.048218  \n",
       "2012-03-05  0.000989  0.029782  0.002641  "
      ]
     },
     "execution_count": 14,
     "metadata": {},
     "output_type": "execute_result"
    }
   ],
   "source": [
    "rbdTrain,rbdTest = train_test_split(rbd,test_size=0.25,random_state=10)\n",
    "rbdTrain.head()\n",
    "rbdTest.head()"
   ]
  },
  {
   "cell_type": "markdown",
   "metadata": {
    "slideshow": {
     "slide_type": "slide"
    }
   },
   "source": [
    "#### 构建并训练决策树"
   ]
  },
  {
   "cell_type": "code",
   "execution_count": 15,
   "metadata": {
    "slideshow": {
     "slide_type": "fragment"
    }
   },
   "outputs": [],
   "source": [
    "rbdTree = tree.DecisionTreeClassifier()"
   ]
  },
  {
   "cell_type": "code",
   "execution_count": 16,
   "metadata": {
    "slideshow": {
     "slide_type": "fragment"
    }
   },
   "outputs": [
    {
     "data": {
      "text/plain": [
       "DecisionTreeClassifier()"
      ]
     },
     "execution_count": 16,
     "metadata": {},
     "output_type": "execute_result"
    }
   ],
   "source": [
    "rbdTree.fit(rbdTrain.loc[:,['mf','vola','val']],rbdTrain['y'])"
   ]
  },
  {
   "cell_type": "code",
   "execution_count": 17,
   "metadata": {
    "slideshow": {
     "slide_type": "fragment"
    }
   },
   "outputs": [
    {
     "data": {
      "text/plain": [
       "{'ccp_alpha': 0.0,\n",
       " 'class_weight': None,\n",
       " 'criterion': 'gini',\n",
       " 'max_depth': None,\n",
       " 'max_features': None,\n",
       " 'max_leaf_nodes': None,\n",
       " 'min_impurity_decrease': 0.0,\n",
       " 'min_impurity_split': None,\n",
       " 'min_samples_leaf': 1,\n",
       " 'min_samples_split': 2,\n",
       " 'min_weight_fraction_leaf': 0.0,\n",
       " 'random_state': None,\n",
       " 'splitter': 'best'}"
      ]
     },
     "execution_count": 17,
     "metadata": {},
     "output_type": "execute_result"
    }
   ],
   "source": [
    "rbdTree.get_params()"
   ]
  },
  {
   "cell_type": "markdown",
   "metadata": {
    "slideshow": {
     "slide_type": "slide"
    }
   },
   "source": [
    "#### 训练集分类效果检验"
   ]
  },
  {
   "cell_type": "code",
   "execution_count": 18,
   "metadata": {
    "slideshow": {
     "slide_type": "fragment"
    }
   },
   "outputs": [],
   "source": [
    "rbdTrainYPre = rbdTree.predict(rbdTrain.loc[:,['mf','vola','val']])"
   ]
  },
  {
   "cell_type": "markdown",
   "metadata": {
    "slideshow": {
     "slide_type": "fragment"
    }
   },
   "source": [
    "##### 混淆矩阵（confusion matrix）"
   ]
  },
  {
   "cell_type": "code",
   "execution_count": 38,
   "metadata": {
    "slideshow": {
     "slide_type": "fragment"
    }
   },
   "outputs": [
    {
     "data": {
      "text/plain": [
       "<sklearn.metrics._plot.confusion_matrix.ConfusionMatrixDisplay at 0x7f52da684668>"
      ]
     },
     "execution_count": 38,
     "metadata": {},
     "output_type": "execute_result"
    },
    {
     "data": {
      "image/png": "[encoded data removed]",
      "text/plain": [
       "<Figure size 640x480 with 2 Axes>"
      ]
     },
     "metadata": {},
     "output_type": "display_data"
    }
   ],
   "source": [
    "confusionMatrix=metrics.ConfusionMatrixDisplay(metrics.confusion_matrix(rbdTrain['y'],rbdTrainYPre))\n",
    "confusionMatrix.plot()"
   ]
  },
  {
   "cell_type": "code",
   "execution_count": 19,
   "metadata": {
    "slideshow": {
     "slide_type": "fragment"
    }
   },
   "outputs": [
    {
     "name": "stdout",
     "output_type": "stream",
     "text": [
      "              precision    recall  f1-score   support\n",
      "\n",
      "          -1       1.00      1.00      1.00      1126\n",
      "           1       1.00      1.00      1.00      1167\n",
      "\n",
      "    accuracy                           1.00      2293\n",
      "   macro avg       1.00      1.00      1.00      2293\n",
      "weighted avg       1.00      1.00      1.00      2293\n",
      "\n"
     ]
    }
   ],
   "source": [
    "resTrain = metrics.classification_report(rbdTrain['y'],rbdTrainYPre)\n",
    "print(resTrain)"
   ]
  },
  {
   "cell_type": "markdown",
   "metadata": {
    "slideshow": {
     "slide_type": "slide"
    }
   },
   "source": [
    "#### 检验集分类效果检验"
   ]
  },
  {
   "cell_type": "code",
   "execution_count": 20,
   "metadata": {
    "slideshow": {
     "slide_type": "fragment"
    }
   },
   "outputs": [],
   "source": [
    "rbdTestYPre = rbdTree.predict(rbdTest.loc[:,['mf','vola','val']])"
   ]
  },
  {
   "cell_type": "code",
   "execution_count": 21,
   "metadata": {
    "slideshow": {
     "slide_type": "fragment"
    }
   },
   "outputs": [
    {
     "name": "stdout",
     "output_type": "stream",
     "text": [
      "              precision    recall  f1-score   support\n",
      "\n",
      "          -1       0.60      0.60      0.60       386\n",
      "           1       0.59      0.59      0.59       379\n",
      "\n",
      "    accuracy                           0.60       765\n",
      "   macro avg       0.60      0.60      0.60       765\n",
      "weighted avg       0.60      0.60      0.60       765\n",
      "\n"
     ]
    }
   ],
   "source": [
    "resTest = metrics.classification_report(rbdTest['y'],rbdTestYPre)\n",
    "print(resTest)"
   ]
  },
  {
   "cell_type": "markdown",
   "metadata": {
    "slideshow": {
     "slide_type": "slide"
    }
   },
   "source": [
    "### 显示决策树"
   ]
  },
  {
   "cell_type": "code",
   "execution_count": 22,
   "metadata": {
    "slideshow": {
     "slide_type": "fragment"
    }
   },
   "outputs": [
    {
     "data": {
      "text/plain": [
       "<Figure size 1200x600 with 0 Axes>"
      ]
     },
     "execution_count": 22,
     "metadata": {},
     "output_type": "execute_result"
    },
    {
     "data": {
      "text/plain": [
       "[Text(447.7464358060083, 453.75, 'X[2] <= -0.0\\ngini = 0.5\\nsamples = 2293\\nvalue = [1126, 1167]'),\n",
       " Text(168.76787279662622, 437.25, 'X[2] <= -0.021\\ngini = 0.413\\nsamples = 1189\\nvalue = [347, 842]'),\n",
       " Text(24.91281273692191, 420.75, 'X[2] <= -0.033\\ngini = 0.193\\nsamples = 277\\nvalue = [30, 247]'),\n",
       " Text(7.520849128127369, 404.25, 'X[2] <= -0.036\\ngini = 0.073\\nsamples = 106\\nvalue = [4, 102]'),\n",
       " Text(3.7604245640636846, 387.75, 'X[0] <= 0.013\\ngini = 0.048\\nsamples = 81\\nvalue = [2, 79]'),\n",
       " Text(1.8802122820318423, 371.25, 'gini = 0.0\\nsamples = 52\\nvalue = [0, 52]'),\n",
       " Text(5.640636846095527, 371.25, 'X[0] <= 0.013\\ngini = 0.128\\nsamples = 29\\nvalue = [2, 27]'),\n",
       " Text(3.7604245640636846, 354.75, 'gini = 0.0\\nsamples = 1\\nvalue = [1, 0]'),\n",
       " Text(7.520849128127369, 354.75, 'X[2] <= -0.043\\ngini = 0.069\\nsamples = 28\\nvalue = [1, 27]'),\n",
       " Text(5.640636846095527, 338.25, 'gini = 0.0\\nsamples = 25\\nvalue = [0, 25]'),\n",
       " Text(9.401061410159212, 338.25, 'X[2] <= -0.041\\ngini = 0.444\\nsamples = 3\\nvalue = [1, 2]'),\n",
       " Text(7.520849128127369, 321.75, 'gini = 0.0\\nsamples = 1\\nvalue = [1, 0]'),\n",
       " Text(11.281273692191053, 321.75, 'gini = 0.0\\nsamples = 2\\nvalue = [0, 2]'),\n",
       " Text(11.281273692191053, 387.75, 'X[2] <= -0.036\\ngini = 0.147\\nsamples = 25\\nvalue = [2, 23]'),\n",
       " Text(9.401061410159212, 371.25, 'gini = 0.0\\nsamples = 1\\nvalue = [1, 0]'),\n",
       " Text(13.161485974222897, 371.25, 'X[0] <= 0.01\\ngini = 0.08\\nsamples = 24\\nvalue = [1, 23]'),\n",
       " Text(11.281273692191053, 354.75, 'gini = 0.0\\nsamples = 17\\nvalue = [0, 17]'),\n",
       " Text(15.041698256254739, 354.75, 'X[0] <= 0.01\\ngini = 0.245\\nsamples = 7\\nvalue = [1, 6]'),\n",
       " Text(13.161485974222897, 338.25, 'gini = 0.0\\nsamples = 1\\nvalue = [1, 0]'),\n",
       " Text(16.921910538286582, 338.25, 'gini = 0.0\\nsamples = 6\\nvalue = [0, 6]'),\n",
       " Text(42.304776345716455, 404.25, 'X[0] <= 0.01\\ngini = 0.258\\nsamples = 171\\nvalue = [26, 145]'),\n",
       " Text(31.96360879454132, 387.75, 'X[2] <= -0.031\\ngini = 0.186\\nsamples = 154\\nvalue = [16, 138]'),\n",
       " Text(26.322971948445794, 371.25, 'X[2] <= -0.031\\ngini = 0.473\\nsamples = 13\\nvalue = [5, 8]'),\n",
       " Text(24.44275966641395, 354.75, 'X[2] <= -0.032\\ngini = 0.397\\nsamples = 11\\nvalue = [3, 8]'),\n",
       " Text(20.682335102350265, 338.25, 'X[1] <= 0.018\\ngini = 0.444\\nsamples = 3\\nvalue = [2, 1]'),\n",
       " Text(18.802122820318424, 321.75, 'gini = 0.0\\nsamples = 1\\nvalue = [0, 1]'),\n",
       " Text(22.562547384382107, 321.75, 'gini = 0.0\\nsamples = 2\\nvalue = [2, 0]'),\n",
       " Text(28.203184230477635, 338.25, 'X[0] <= 0.002\\ngini = 0.219\\nsamples = 8\\nvalue = [1, 7]'),\n",
       " Text(26.322971948445794, 321.75, 'gini = 0.0\\nsamples = 1\\nvalue = [1, 0]'),\n",
       " Text(30.083396512509477, 321.75, 'gini = 0.0\\nsamples = 7\\nvalue = [0, 7]'),\n",
       " Text(28.203184230477635, 354.75, 'gini = 0.0\\nsamples = 2\\nvalue = [2, 0]'),\n",
       " Text(37.60424564063685, 371.25, 'X[1] <= 0.026\\ngini = 0.144\\nsamples = 141\\nvalue = [11, 130]'),\n",
       " Text(33.843821076573164, 354.75, 'X[0] <= 0.01\\ngini = 0.028\\nsamples = 70\\nvalue = [1, 69]'),\n",
       " Text(31.96360879454132, 338.25, 'gini = 0.0\\nsamples = 65\\nvalue = [0, 65]'),\n",
       " Text(35.724033358605006, 338.25, 'X[0] <= 0.01\\ngini = 0.32\\nsamples = 5\\nvalue = [1, 4]'),\n",
       " Text(33.843821076573164, 321.75, 'gini = 0.0\\nsamples = 1\\nvalue = [1, 0]'),\n",
       " Text(37.60424564063685, 321.75, 'gini = 0.0\\nsamples = 4\\nvalue = [0, 4]'),\n",
       " Text(41.36467020470053, 354.75, 'X[1] <= 0.026\\ngini = 0.242\\nsamples = 71\\nvalue = [10, 61]'),\n",
       " Text(39.48445792266869, 338.25, 'gini = 0.0\\nsamples = 1\\nvalue = [1, 0]'),\n",
       " Text(43.24488248673237, 338.25, 'X[2] <= -0.024\\ngini = 0.224\\nsamples = 70\\nvalue = [9, 61]'),\n",
       " Text(41.36467020470053, 321.75, 'X[1] <= 0.943\\ngini = 0.282\\nsamples = 53\\nvalue = [9, 44]'),\n",
       " Text(39.48445792266869, 305.25, 'X[2] <= -0.024\\ngini = 0.26\\nsamples = 52\\nvalue = [8, 44]'),\n",
       " Text(37.60424564063685, 288.75, 'X[2] <= -0.029\\ngini = 0.237\\nsamples = 51\\nvalue = [7, 44]'),\n",
       " Text(35.724033358605006, 272.25, 'gini = 0.0\\nsamples = 14\\nvalue = [0, 14]'),\n",
       " Text(39.48445792266869, 272.25, 'X[2] <= -0.028\\ngini = 0.307\\nsamples = 37\\nvalue = [7, 30]'),\n",
       " Text(37.60424564063685, 255.75, 'gini = 0.0\\nsamples = 2\\nvalue = [2, 0]'),\n",
       " Text(41.36467020470053, 255.75, 'X[2] <= -0.025\\ngini = 0.245\\nsamples = 35\\nvalue = [5, 30]'),\n",
       " Text(39.48445792266869, 239.25, 'X[2] <= -0.025\\ngini = 0.32\\nsamples = 25\\nvalue = [5, 20]'),\n",
       " Text(37.60424564063685, 222.75, 'X[0] <= 0.007\\ngini = 0.227\\nsamples = 23\\nvalue = [3, 20]'),\n",
       " Text(33.843821076573164, 206.25, 'X[0] <= 0.003\\ngini = 0.111\\nsamples = 17\\nvalue = [1, 16]'),\n",
       " Text(31.96360879454132, 189.75, 'X[0] <= 0.003\\ngini = 0.375\\nsamples = 4\\nvalue = [1, 3]'),\n",
       " Text(30.083396512509477, 173.25, 'gini = 0.0\\nsamples = 3\\nvalue = [0, 3]'),\n",
       " Text(33.843821076573164, 173.25, 'gini = 0.0\\nsamples = 1\\nvalue = [1, 0]'),\n",
       " Text(35.724033358605006, 189.75, 'gini = 0.0\\nsamples = 13\\nvalue = [0, 13]'),\n",
       " Text(41.36467020470053, 206.25, 'X[2] <= -0.026\\ngini = 0.444\\nsamples = 6\\nvalue = [2, 4]'),\n",
       " Text(39.48445792266869, 189.75, 'X[2] <= -0.027\\ngini = 0.444\\nsamples = 3\\nvalue = [2, 1]'),\n",
       " Text(37.60424564063685, 173.25, 'gini = 0.0\\nsamples = 1\\nvalue = [0, 1]'),\n",
       " Text(41.36467020470053, 173.25, 'gini = 0.0\\nsamples = 2\\nvalue = [2, 0]'),\n",
       " Text(43.24488248673237, 189.75, 'gini = 0.0\\nsamples = 3\\nvalue = [0, 3]'),\n",
       " Text(41.36467020470053, 222.75, 'gini = 0.0\\nsamples = 2\\nvalue = [2, 0]'),\n",
       " Text(43.24488248673237, 239.25, 'gini = 0.0\\nsamples = 10\\nvalue = [0, 10]'),\n",
       " Text(41.36467020470053, 288.75, 'gini = 0.0\\nsamples = 1\\nvalue = [1, 0]'),\n",
       " Text(43.24488248673237, 305.25, 'gini = 0.0\\nsamples = 1\\nvalue = [1, 0]'),\n",
       " Text(45.125094768764214, 321.75, 'gini = 0.0\\nsamples = 17\\nvalue = [0, 17]'),\n",
       " Text(52.64594389689159, 387.75, 'X[0] <= 0.015\\ngini = 0.484\\nsamples = 17\\nvalue = [10, 7]'),\n",
       " Text(50.765731614859746, 371.25, 'X[2] <= -0.032\\ngini = 0.497\\nsamples = 13\\nvalue = [6, 7]'),\n",
       " Text(48.8855193328279, 354.75, 'gini = 0.0\\nsamples = 3\\nvalue = [0, 3]'),\n",
       " Text(52.64594389689159, 354.75, 'X[1] <= 0.029\\ngini = 0.48\\nsamples = 10\\nvalue = [6, 4]'),\n",
       " Text(50.765731614859746, 338.25, 'X[0] <= 0.011\\ngini = 0.444\\nsamples = 6\\nvalue = [2, 4]'),\n",
       " Text(48.8855193328279, 321.75, 'gini = 0.0\\nsamples = 1\\nvalue = [1, 0]'),\n",
       " Text(52.64594389689159, 321.75, 'X[2] <= -0.03\\ngini = 0.32\\nsamples = 5\\nvalue = [1, 4]'),\n",
       " Text(50.765731614859746, 305.25, 'gini = 0.0\\nsamples = 1\\nvalue = [1, 0]'),\n",
       " Text(54.52615617892343, 305.25, 'gini = 0.0\\nsamples = 4\\nvalue = [0, 4]'),\n",
       " Text(54.52615617892343, 338.25, 'gini = 0.0\\nsamples = 4\\nvalue = [4, 0]'),\n",
       " Text(54.52615617892343, 371.25, 'gini = 0.0\\nsamples = 4\\nvalue = [4, 0]'),\n",
       " Text(312.6229328563306, 420.75, 'X[0] <= 0.005\\ngini = 0.454\\nsamples = 912\\nvalue = [317, 595]'),\n",
       " Text(209.36641158074298, 404.25, 'X[2] <= -0.005\\ngini = 0.432\\nsamples = 758\\nvalue = [239, 519]'),\n",
       " Text(115.32458301743745, 387.75, 'X[1] <= 0.014\\ngini = 0.364\\nsamples = 481\\nvalue = [115, 366]'),\n",
       " Text(68.62774829416225, 371.25, 'X[2] <= -0.011\\ngini = 0.208\\nsamples = 110\\nvalue = [13, 97]'),\n",
       " Text(60.166793025018954, 354.75, 'X[1] <= 0.011\\ngini = 0.042\\nsamples = 47\\nvalue = [1, 46]'),\n",
       " Text(58.28658074298711, 338.25, 'gini = 0.0\\nsamples = 37\\nvalue = [0, 37]'),\n",
       " Text(62.047005307050796, 338.25, 'X[1] <= 0.011\\ngini = 0.18\\nsamples = 10\\nvalue = [1, 9]'),\n",
       " Text(60.166793025018954, 321.75, 'gini = 0.0\\nsamples = 1\\nvalue = [1, 0]'),\n",
       " Text(63.92721758908264, 321.75, 'gini = 0.0\\nsamples = 9\\nvalue = [0, 9]'),\n",
       " Text(77.08870356330553, 354.75, 'X[0] <= 0.004\\ngini = 0.308\\nsamples = 63\\nvalue = [12, 51]'),\n",
       " Text(69.56785443517816, 338.25, 'X[2] <= -0.007\\ngini = 0.156\\nsamples = 47\\nvalue = [4, 43]'),\n",
       " Text(67.68764215314633, 321.75, 'gini = 0.0\\nsamples = 18\\nvalue = [0, 18]'),\n",
       " Text(71.44806671721001, 321.75, 'X[2] <= -0.007\\ngini = 0.238\\nsamples = 29\\nvalue = [4, 25]'),\n",
       " Text(67.68764215314633, 305.25, 'X[1] <= 0.005\\ngini = 0.444\\nsamples = 3\\nvalue = [2, 1]'),\n",
       " Text(65.80742987111448, 288.75, 'gini = 0.0\\nsamples = 1\\nvalue = [0, 1]'),\n",
       " Text(69.56785443517816, 288.75, 'gini = 0.0\\nsamples = 2\\nvalue = [2, 0]'),\n",
       " Text(75.2084912812737, 305.25, 'X[2] <= -0.006\\ngini = 0.142\\nsamples = 26\\nvalue = [2, 24]'),\n",
       " Text(73.32827899924185, 288.75, 'X[2] <= -0.006\\ngini = 0.32\\nsamples = 10\\nvalue = [2, 8]'),\n",
       " Text(71.44806671721001, 272.25, 'gini = 0.0\\nsamples = 8\\nvalue = [0, 8]'),\n",
       " Text(75.2084912812737, 272.25, 'gini = 0.0\\nsamples = 2\\nvalue = [2, 0]'),\n",
       " Text(77.08870356330553, 288.75, 'gini = 0.0\\nsamples = 16\\nvalue = [0, 16]'),\n",
       " Text(84.60955269143291, 338.25, 'X[1] <= 0.003\\ngini = 0.5\\nsamples = 16\\nvalue = [8, 8]'),\n",
       " Text(82.72934040940106, 321.75, 'gini = 0.0\\nsamples = 2\\nvalue = [0, 2]'),\n",
       " Text(86.48976497346474, 321.75, 'X[1] <= 0.013\\ngini = 0.49\\nsamples = 14\\nvalue = [8, 6]'),\n",
       " Text(82.72934040940106, 305.25, 'X[0] <= 0.005\\ngini = 0.42\\nsamples = 10\\nvalue = [7, 3]'),\n",
       " Text(80.84912812736923, 288.75, 'X[0] <= 0.004\\ngini = 0.346\\nsamples = 9\\nvalue = [7, 2]'),\n",
       " Text(78.96891584533738, 272.25, 'X[2] <= -0.007\\ngini = 0.48\\nsamples = 5\\nvalue = [3, 2]'),\n",
       " Text(77.08870356330553, 255.75, 'X[0] <= 0.004\\ngini = 0.375\\nsamples = 4\\nvalue = [3, 1]'),\n",
       " Text(75.2084912812737, 239.25, 'gini = 0.0\\nsamples = 3\\nvalue = [3, 0]'),\n",
       " Text(78.96891584533738, 239.25, 'gini = 0.0\\nsamples = 1\\nvalue = [0, 1]'),\n",
       " Text(80.84912812736923, 255.75, 'gini = 0.0\\nsamples = 1\\nvalue = [0, 1]'),\n",
       " Text(82.72934040940106, 272.25, 'gini = 0.0\\nsamples = 4\\nvalue = [4, 0]'),\n",
       " Text(84.60955269143291, 288.75, 'gini = 0.0\\nsamples = 1\\nvalue = [0, 1]'),\n",
       " Text(90.25018953752843, 305.25, 'X[2] <= -0.009\\ngini = 0.375\\nsamples = 4\\nvalue = [1, 3]'),\n",
       " Text(88.3699772554966, 288.75, 'gini = 0.0\\nsamples = 1\\nvalue = [1, 0]'),\n",
       " Text(92.13040181956028, 288.75, 'gini = 0.0\\nsamples = 3\\nvalue = [0, 3]'),\n",
       " Text(162.02141774071265, 371.25, 'X[0] <= 0.002\\ngini = 0.399\\nsamples = 371\\nvalue = [102, 269]'),\n",
       " Text(111.16755117513267, 354.75, 'X[2] <= -0.011\\ngini = 0.302\\nsamples = 178\\nvalue = [33, 145]'),\n",
       " Text(99.65125094768764, 338.25, 'X[0] <= 0.001\\ngini = 0.107\\nsamples = 53\\nvalue = [3, 50]'),\n",
       " Text(95.89082638362396, 321.75, 'X[1] <= 0.227\\ngini = 0.077\\nsamples = 50\\nvalue = [2, 48]'),\n",
       " Text(94.01061410159211, 305.25, 'gini = 0.0\\nsamples = 29\\nvalue = [0, 29]'),\n",
       " Text(97.7710386656558, 305.25, 'X[0] <= -0.003\\ngini = 0.172\\nsamples = 21\\nvalue = [2, 19]'),\n",
       " Text(95.89082638362396, 288.75, 'gini = 0.0\\nsamples = 1\\nvalue = [1, 0]'),\n",
       " Text(99.65125094768764, 288.75, 'X[1] <= 0.292\\ngini = 0.095\\nsamples = 20\\nvalue = [1, 19]'),\n",
       " Text(97.7710386656558, 272.25, 'X[1] <= 0.271\\ngini = 0.444\\nsamples = 3\\nvalue = [1, 2]'),\n",
       " Text(95.89082638362396, 255.75, 'gini = 0.0\\nsamples = 2\\nvalue = [0, 2]'),\n",
       " Text(99.65125094768764, 255.75, 'gini = 0.0\\nsamples = 1\\nvalue = [1, 0]'),\n",
       " Text(101.53146322971949, 272.25, 'gini = 0.0\\nsamples = 17\\nvalue = [0, 17]'),\n",
       " Text(103.41167551175133, 321.75, 'X[1] <= 0.086\\ngini = 0.444\\nsamples = 3\\nvalue = [1, 2]'),\n",
       " Text(101.53146322971949, 305.25, 'gini = 0.0\\nsamples = 2\\nvalue = [0, 2]'),\n",
       " Text(105.29188779378318, 305.25, 'gini = 0.0\\nsamples = 1\\nvalue = [1, 0]'),\n",
       " Text(122.68385140257772, 338.25, 'X[1] <= 0.125\\ngini = 0.365\\nsamples = 125\\nvalue = [30, 95]'),\n",
       " Text(110.9325246398787, 321.75, 'X[1] <= 0.088\\ngini = 0.253\\nsamples = 74\\nvalue = [11, 63]'),\n",
       " Text(109.05231235784686, 305.25, 'X[1] <= 0.085\\ngini = 0.311\\nsamples = 57\\nvalue = [11, 46]'),\n",
       " Text(107.17210007581501, 288.75, 'X[2] <= -0.008\\ngini = 0.274\\nsamples = 55\\nvalue = [9, 46]'),\n",
       " Text(105.29188779378318, 272.25, 'gini = 0.0\\nsamples = 19\\nvalue = [0, 19]'),\n",
       " Text(109.05231235784686, 272.25, 'X[1] <= 0.026\\ngini = 0.375\\nsamples = 36\\nvalue = [9, 27]'),\n",
       " Text(107.17210007581501, 255.75, 'gini = 0.0\\nsamples = 8\\nvalue = [0, 8]'),\n",
       " Text(110.9325246398787, 255.75, 'X[0] <= 0.001\\ngini = 0.436\\nsamples = 28\\nvalue = [9, 19]'),\n",
       " Text(109.05231235784686, 239.25, 'X[2] <= -0.007\\ngini = 0.393\\nsamples = 26\\nvalue = [7, 19]'),\n",
       " Text(105.29188779378318, 222.75, 'X[2] <= -0.008\\ngini = 0.48\\nsamples = 5\\nvalue = [3, 2]'),\n",
       " Text(103.41167551175133, 206.25, 'X[0] <= 0.001\\ngini = 0.444\\nsamples = 3\\nvalue = [1, 2]'),\n",
       " Text(101.53146322971949, 189.75, 'gini = 0.0\\nsamples = 2\\nvalue = [0, 2]'),\n",
       " Text(105.29188779378318, 189.75, 'gini = 0.0\\nsamples = 1\\nvalue = [1, 0]'),\n",
       " Text(107.17210007581501, 206.25, 'gini = 0.0\\nsamples = 2\\nvalue = [2, 0]'),\n",
       " Text(112.81273692191054, 222.75, 'X[1] <= 0.028\\ngini = 0.308\\nsamples = 21\\nvalue = [4, 17]'),\n",
       " Text(110.9325246398787, 206.25, 'gini = 0.0\\nsamples = 1\\nvalue = [1, 0]'),\n",
       " Text(114.69294920394238, 206.25, 'X[2] <= -0.006\\ngini = 0.255\\nsamples = 20\\nvalue = [3, 17]'),\n",
       " Text(112.81273692191054, 189.75, 'gini = 0.0\\nsamples = 9\\nvalue = [0, 9]'),\n",
       " Text(116.57316148597423, 189.75, 'X[2] <= -0.006\\ngini = 0.397\\nsamples = 11\\nvalue = [3, 8]'),\n",
       " Text(114.69294920394238, 173.25, 'gini = 0.0\\nsamples = 1\\nvalue = [1, 0]'),\n",
       " Text(118.45337376800606, 173.25, 'X[1] <= 0.041\\ngini = 0.32\\nsamples = 10\\nvalue = [2, 8]'),\n",
       " Text(116.57316148597423, 156.75, 'X[2] <= -0.005\\ngini = 0.48\\nsamples = 5\\nvalue = [2, 3]'),\n",
       " Text(114.69294920394238, 140.25, 'X[1] <= 0.031\\ngini = 0.444\\nsamples = 3\\nvalue = [2, 1]'),\n",
       " Text(112.81273692191054, 123.75, 'gini = 0.0\\nsamples = 1\\nvalue = [0, 1]'),\n",
       " Text(116.57316148597423, 123.75, 'gini = 0.0\\nsamples = 2\\nvalue = [2, 0]'),\n",
       " Text(118.45337376800606, 140.25, 'gini = 0.0\\nsamples = 2\\nvalue = [0, 2]'),\n",
       " Text(120.33358605003791, 156.75, 'gini = 0.0\\nsamples = 5\\nvalue = [0, 5]'),\n",
       " Text(112.81273692191054, 239.25, 'gini = 0.0\\nsamples = 2\\nvalue = [2, 0]'),\n",
       " Text(110.9325246398787, 288.75, 'gini = 0.0\\nsamples = 2\\nvalue = [2, 0]'),\n",
       " Text(112.81273692191054, 305.25, 'gini = 0.0\\nsamples = 17\\nvalue = [0, 17]'),\n",
       " Text(134.43517816527674, 321.75, 'X[0] <= 0.001\\ngini = 0.468\\nsamples = 51\\nvalue = [19, 32]'),\n",
       " Text(122.21379833206976, 305.25, 'X[0] <= -0.003\\ngini = 0.405\\nsamples = 39\\nvalue = [11, 28]'),\n",
       " Text(120.33358605003791, 288.75, 'gini = 0.0\\nsamples = 2\\nvalue = [2, 0]'),\n",
       " Text(124.09401061410159, 288.75, 'X[1] <= 0.217\\ngini = 0.368\\nsamples = 37\\nvalue = [9, 28]'),\n",
       " Text(120.33358605003791, 272.25, 'X[1] <= 0.15\\ngini = 0.117\\nsamples = 16\\nvalue = [1, 15]'),\n",
       " Text(118.45337376800606, 255.75, 'X[1] <= 0.148\\ngini = 0.32\\nsamples = 5\\nvalue = [1, 4]'),\n",
       " Text(116.57316148597423, 239.25, 'gini = 0.0\\nsamples = 4\\nvalue = [0, 4]'),\n",
       " Text(120.33358605003791, 239.25, 'gini = 0.0\\nsamples = 1\\nvalue = [1, 0]'),\n",
       " Text(122.21379833206976, 255.75, 'gini = 0.0\\nsamples = 11\\nvalue = [0, 11]'),\n",
       " Text(127.85443517816528, 272.25, 'X[0] <= -0.001\\ngini = 0.472\\nsamples = 21\\nvalue = [8, 13]'),\n",
       " Text(125.97422289613344, 255.75, 'gini = 0.0\\nsamples = 2\\nvalue = [2, 0]'),\n",
       " Text(129.73464746019712, 255.75, 'X[0] <= -0.0\\ngini = 0.432\\nsamples = 19\\nvalue = [6, 13]'),\n",
       " Text(124.09401061410159, 239.25, 'X[2] <= -0.006\\ngini = 0.219\\nsamples = 8\\nvalue = [1, 7]'),\n",
       " Text(122.21379833206976, 222.75, 'gini = 0.0\\nsamples = 7\\nvalue = [0, 7]'),\n",
       " Text(125.97422289613344, 222.75, 'gini = 0.0\\nsamples = 1\\nvalue = [1, 0]'),\n",
       " Text(135.37528430629266, 239.25, 'X[2] <= -0.008\\ngini = 0.496\\nsamples = 11\\nvalue = [5, 6]'),\n",
       " Text(129.73464746019712, 222.75, 'X[1] <= 0.383\\ngini = 0.444\\nsamples = 6\\nvalue = [4, 2]'),\n",
       " Text(127.85443517816528, 206.25, 'gini = 0.0\\nsamples = 1\\nvalue = [0, 1]'),\n",
       " Text(131.61485974222896, 206.25, 'X[2] <= -0.009\\ngini = 0.32\\nsamples = 5\\nvalue = [4, 1]'),\n",
       " Text(129.73464746019712, 189.75, 'gini = 0.0\\nsamples = 3\\nvalue = [3, 0]'),\n",
       " Text(133.4950720242608, 189.75, 'X[2] <= -0.008\\ngini = 0.5\\nsamples = 2\\nvalue = [1, 1]'),\n",
       " Text(131.61485974222896, 173.25, 'gini = 0.0\\nsamples = 1\\nvalue = [0, 1]'),\n",
       " Text(135.37528430629266, 173.25, 'gini = 0.0\\nsamples = 1\\nvalue = [1, 0]'),\n",
       " Text(141.0159211523882, 222.75, 'X[1] <= 0.59\\ngini = 0.32\\nsamples = 5\\nvalue = [1, 4]'),\n",
       " Text(139.13570887035632, 206.25, 'X[1] <= 0.331\\ngini = 0.5\\nsamples = 2\\nvalue = [1, 1]'),\n",
       " Text(137.2554965883245, 189.75, 'gini = 0.0\\nsamples = 1\\nvalue = [0, 1]'),\n",
       " Text(141.0159211523882, 189.75, 'gini = 0.0\\nsamples = 1\\nvalue = [1, 0]'),\n",
       " Text(142.89613343442002, 206.25, 'gini = 0.0\\nsamples = 3\\nvalue = [0, 3]'),\n",
       " Text(146.6565579984837, 305.25, 'X[2] <= -0.006\\ngini = 0.444\\nsamples = 12\\nvalue = [8, 4]'),\n",
       " Text(144.77634571645186, 288.75, 'X[0] <= 0.001\\ngini = 0.32\\nsamples = 10\\nvalue = [8, 2]'),\n",
       " Text(142.89613343442002, 272.25, 'X[2] <= -0.008\\ngini = 0.444\\nsamples = 6\\nvalue = [4, 2]'),\n",
       " Text(141.0159211523882, 255.75, 'X[0] <= 0.001\\ngini = 0.32\\nsamples = 5\\nvalue = [4, 1]'),\n",
       " Text(139.13570887035632, 239.25, 'gini = 0.0\\nsamples = 4\\nvalue = [4, 0]'),\n",
       " Text(142.89613343442002, 239.25, 'gini = 0.0\\nsamples = 1\\nvalue = [0, 1]'),\n",
       " Text(144.77634571645186, 255.75, 'gini = 0.0\\nsamples = 1\\nvalue = [0, 1]'),\n",
       " Text(146.6565579984837, 272.25, 'gini = 0.0\\nsamples = 4\\nvalue = [4, 0]'),\n",
       " Text(148.53677028051555, 288.75, 'gini = 0.0\\nsamples = 2\\nvalue = [0, 2]'),\n",
       " Text(212.87528430629266, 354.75, 'X[2] <= -0.008\\ngini = 0.459\\nsamples = 193\\nvalue = [69, 124]'),\n",
       " Text(179.44275966641396, 338.25, 'X[1] <= 0.032\\ngini = 0.429\\nsamples = 151\\nvalue = [47, 104]'),\n",
       " Text(154.17740712661106, 321.75, 'X[0] <= 0.002\\ngini = 0.349\\nsamples = 80\\nvalue = [18, 62]'),\n",
       " Text(152.29719484457922, 305.25, 'gini = 0.0\\nsamples = 2\\nvalue = [2, 0]'),\n",
       " Text(156.05761940864292, 305.25, 'X[1] <= 0.016\\ngini = 0.326\\nsamples = 78\\nvalue = [16, 62]'),\n",
       " Text(152.29719484457922, 288.75, 'X[2] <= -0.013\\ngini = 0.5\\nsamples = 10\\nvalue = [5, 5]'),\n",
       " Text(150.4169825625474, 272.25, 'gini = 0.0\\nsamples = 2\\nvalue = [0, 2]'),\n",
       " Text(154.17740712661106, 272.25, 'X[0] <= 0.002\\ngini = 0.469\\nsamples = 8\\nvalue = [5, 3]'),\n",
       " Text(152.29719484457922, 255.75, 'gini = 0.0\\nsamples = 1\\nvalue = [0, 1]'),\n",
       " Text(156.05761940864292, 255.75, 'X[1] <= 0.014\\ngini = 0.408\\nsamples = 7\\nvalue = [5, 2]'),\n",
       " Text(154.17740712661106, 239.25, 'X[0] <= 0.002\\ngini = 0.444\\nsamples = 3\\nvalue = [1, 2]'),\n",
       " Text(152.29719484457922, 222.75, 'gini = 0.0\\nsamples = 1\\nvalue = [1, 0]'),\n",
       " Text(156.05761940864292, 222.75, 'gini = 0.0\\nsamples = 2\\nvalue = [0, 2]'),\n",
       " Text(157.93783169067476, 239.25, 'gini = 0.0\\nsamples = 4\\nvalue = [4, 0]'),\n",
       " Text(159.8180439727066, 288.75, 'X[2] <= -0.021\\ngini = 0.271\\nsamples = 68\\nvalue = [11, 57]'),\n",
       " Text(157.93783169067476, 272.25, 'gini = 0.0\\nsamples = 1\\nvalue = [1, 0]'),\n",
       " Text(161.69825625473845, 272.25, 'X[2] <= -0.016\\ngini = 0.254\\nsamples = 67\\nvalue = [10, 57]'),\n",
       " Text(159.8180439727066, 255.75, 'gini = 0.0\\nsamples = 15\\nvalue = [0, 15]'),\n",
       " Text(163.5784685367703, 255.75, 'X[2] <= -0.016\\ngini = 0.311\\nsamples = 52\\nvalue = [10, 42]'),\n",
       " Text(161.69825625473845, 239.25, 'gini = 0.0\\nsamples = 1\\nvalue = [1, 0]'),\n",
       " Text(165.45868081880212, 239.25, 'X[2] <= -0.013\\ngini = 0.291\\nsamples = 51\\nvalue = [9, 42]'),\n",
       " Text(159.8180439727066, 222.75, 'X[2] <= -0.014\\ngini = 0.426\\nsamples = 13\\nvalue = [4, 9]'),\n",
       " Text(157.93783169067476, 206.25, 'X[1] <= 0.018\\ngini = 0.298\\nsamples = 11\\nvalue = [2, 9]'),\n",
       " Text(156.05761940864292, 189.75, 'X[2] <= -0.014\\ngini = 0.444\\nsamples = 3\\nvalue = [2, 1]'),\n",
       " Text(154.17740712661106, 173.25, 'gini = 0.0\\nsamples = 2\\nvalue = [2, 0]'),\n",
       " Text(157.93783169067476, 173.25, 'gini = 0.0\\nsamples = 1\\nvalue = [0, 1]'),\n",
       " Text(159.8180439727066, 189.75, 'gini = 0.0\\nsamples = 8\\nvalue = [0, 8]'),\n",
       " Text(161.69825625473845, 206.25, 'gini = 0.0\\nsamples = 2\\nvalue = [2, 0]'),\n",
       " Text(171.09931766489765, 222.75, 'X[0] <= 0.002\\ngini = 0.229\\nsamples = 38\\nvalue = [5, 33]'),\n",
       " Text(165.45868081880212, 206.25, 'X[1] <= 0.023\\ngini = 0.48\\nsamples = 5\\nvalue = [2, 3]'),\n",
       " Text(163.5784685367703, 189.75, 'gini = 0.0\\nsamples = 2\\nvalue = [0, 2]'),\n",
       " Text(167.33889310083396, 189.75, 'X[2] <= -0.009\\ngini = 0.444\\nsamples = 3\\nvalue = [2, 1]'),\n",
       " Text(165.45868081880212, 173.25, 'gini = 0.0\\nsamples = 2\\nvalue = [2, 0]'),\n",
       " Text(169.21910538286582, 173.25, 'gini = 0.0\\nsamples = 1\\nvalue = [0, 1]'),\n",
       " Text(176.7399545109932, 206.25, 'X[1] <= 0.022\\ngini = 0.165\\nsamples = 33\\nvalue = [3, 30]'),\n",
       " Text(174.85974222896132, 189.75, 'X[1] <= 0.022\\ngini = 0.266\\nsamples = 19\\nvalue = [3, 16]'),\n",
       " Text(172.9795299469295, 173.25, 'X[2] <= -0.012\\ngini = 0.111\\nsamples = 17\\nvalue = [1, 16]'),\n",
       " Text(171.09931766489765, 156.75, 'X[2] <= -0.012\\ngini = 0.278\\nsamples = 6\\nvalue = [1, 5]'),\n",
       " Text(169.21910538286582, 140.25, 'gini = 0.0\\nsamples = 5\\nvalue = [0, 5]'),\n",
       " Text(172.9795299469295, 140.25, 'gini = 0.0\\nsamples = 1\\nvalue = [1, 0]'),\n",
       " Text(174.85974222896132, 156.75, 'gini = 0.0\\nsamples = 11\\nvalue = [0, 11]'),\n",
       " Text(176.7399545109932, 173.25, 'gini = 0.0\\nsamples = 2\\nvalue = [2, 0]'),\n",
       " Text(178.62016679302502, 189.75, 'gini = 0.0\\nsamples = 14\\nvalue = [0, 14]'),\n",
       " Text(204.70811220621684, 321.75, 'X[1] <= 0.047\\ngini = 0.483\\nsamples = 71\\nvalue = [29, 42]'),\n",
       " Text(192.72175890826384, 305.25, 'X[0] <= 0.004\\ngini = 0.485\\nsamples = 29\\nvalue = [17, 12]'),\n",
       " Text(190.841546626232, 288.75, 'X[2] <= -0.01\\ngini = 0.5\\nsamples = 24\\nvalue = [12, 12]'),\n",
       " Text(186.1410159211524, 272.25, 'X[0] <= 0.002\\ngini = 0.475\\nsamples = 18\\nvalue = [7, 11]'),\n",
       " Text(182.38059135708872, 255.75, 'X[0] <= 0.002\\ngini = 0.245\\nsamples = 7\\nvalue = [1, 6]'),\n",
       " Text(180.50037907505686, 239.25, 'X[0] <= 0.002\\ngini = 0.444\\nsamples = 3\\nvalue = [1, 2]'),\n",
       " Text(178.62016679302502, 222.75, 'gini = 0.0\\nsamples = 2\\nvalue = [0, 2]'),\n",
       " Text(182.38059135708872, 222.75, 'gini = 0.0\\nsamples = 1\\nvalue = [1, 0]'),\n",
       " Text(184.26080363912055, 239.25, 'gini = 0.0\\nsamples = 4\\nvalue = [0, 4]'),\n",
       " Text(189.90144048521609, 255.75, 'X[0] <= 0.004\\ngini = 0.496\\nsamples = 11\\nvalue = [6, 5]'),\n",
       " Text(188.02122820318422, 239.25, 'X[1] <= 0.039\\ngini = 0.444\\nsamples = 9\\nvalue = [6, 3]'),\n",
       " Text(186.1410159211524, 222.75, 'X[1] <= 0.035\\ngini = 0.5\\nsamples = 6\\nvalue = [3, 3]'),\n",
       " Text(184.26080363912055, 206.25, 'X[2] <= -0.015\\ngini = 0.375\\nsamples = 4\\nvalue = [3, 1]'),\n",
       " Text(182.38059135708872, 189.75, 'gini = 0.0\\nsamples = 1\\nvalue = [0, 1]'),\n",
       " Text(186.1410159211524, 189.75, 'gini = 0.0\\nsamples = 3\\nvalue = [3, 0]'),\n",
       " Text(188.02122820318422, 206.25, 'gini = 0.0\\nsamples = 2\\nvalue = [0, 2]'),\n",
       " Text(189.90144048521609, 222.75, 'gini = 0.0\\nsamples = 3\\nvalue = [3, 0]'),\n",
       " Text(191.78165276724792, 239.25, 'gini = 0.0\\nsamples = 2\\nvalue = [0, 2]'),\n",
       " Text(195.5420773313116, 272.25, 'X[2] <= -0.01\\ngini = 0.278\\nsamples = 6\\nvalue = [5, 1]'),\n",
       " Text(193.66186504927975, 255.75, 'gini = 0.0\\nsamples = 3\\nvalue = [3, 0]'),\n",
       " Text(197.42228961334345, 255.75, 'X[2] <= -0.01\\ngini = 0.444\\nsamples = 3\\nvalue = [2, 1]'),\n",
       " Text(195.5420773313116, 239.25, 'gini = 0.0\\nsamples = 1\\nvalue = [0, 1]'),\n",
       " Text(199.3025018953753, 239.25, 'gini = 0.0\\nsamples = 2\\nvalue = [2, 0]'),\n",
       " Text(194.60197119029567, 288.75, 'gini = 0.0\\nsamples = 5\\nvalue = [5, 0]'),\n",
       " Text(216.69446550416984, 305.25, 'X[1] <= 0.067\\ngini = 0.408\\nsamples = 42\\nvalue = [12, 30]'),\n",
       " Text(209.6436694465504, 288.75, 'X[0] <= 0.002\\ngini = 0.472\\nsamples = 21\\nvalue = [8, 13]'),\n",
       " Text(207.76345716451857, 272.25, 'gini = 0.0\\nsamples = 4\\nvalue = [0, 4]'),\n",
       " Text(211.52388172858227, 272.25, 'X[0] <= 0.003\\ngini = 0.498\\nsamples = 17\\nvalue = [8, 9]'),\n",
       " Text(204.94313874147082, 255.75, 'X[1] <= 0.062\\ngini = 0.32\\nsamples = 5\\nvalue = [4, 1]'),\n",
       " Text(203.06292645943898, 239.25, 'gini = 0.0\\nsamples = 3\\nvalue = [3, 0]'),\n",
       " Text(206.82335102350265, 239.25, 'X[2] <= -0.016\\ngini = 0.5\\nsamples = 2\\nvalue = [1, 1]'),\n",
       " Text(204.94313874147082, 222.75, 'gini = 0.0\\nsamples = 1\\nvalue = [1, 0]'),\n",
       " Text(208.7035633055345, 222.75, 'gini = 0.0\\nsamples = 1\\nvalue = [0, 1]'),\n",
       " Text(218.10462471569372, 255.75, 'X[1] <= 0.059\\ngini = 0.444\\nsamples = 12\\nvalue = [4, 8]'),\n",
       " Text(214.34420015163002, 239.25, 'X[1] <= 0.057\\ngini = 0.219\\nsamples = 8\\nvalue = [1, 7]'),\n",
       " Text(212.46398786959818, 222.75, 'gini = 0.0\\nsamples = 4\\nvalue = [0, 4]'),\n",
       " Text(216.22441243366185, 222.75, 'X[0] <= 0.003\\ngini = 0.375\\nsamples = 4\\nvalue = [1, 3]'),\n",
       " Text(214.34420015163002, 206.25, 'gini = 0.0\\nsamples = 3\\nvalue = [0, 3]'),\n",
       " Text(218.10462471569372, 206.25, 'gini = 0.0\\nsamples = 1\\nvalue = [1, 0]'),\n",
       " Text(221.8650492797574, 239.25, 'X[0] <= 0.003\\ngini = 0.375\\nsamples = 4\\nvalue = [3, 1]'),\n",
       " Text(219.98483699772555, 222.75, 'gini = 0.0\\nsamples = 1\\nvalue = [0, 1]'),\n",
       " Text(223.74526156178925, 222.75, 'gini = 0.0\\nsamples = 3\\nvalue = [3, 0]'),\n",
       " Text(223.74526156178925, 288.75, 'X[1] <= 0.088\\ngini = 0.308\\nsamples = 21\\nvalue = [4, 17]'),\n",
       " Text(221.8650492797574, 272.25, 'gini = 0.0\\nsamples = 7\\nvalue = [0, 7]'),\n",
       " Text(225.62547384382108, 272.25, 'X[2] <= -0.015\\ngini = 0.408\\nsamples = 14\\nvalue = [4, 10]'),\n",
       " Text(223.74526156178925, 255.75, 'gini = 0.0\\nsamples = 2\\nvalue = [2, 0]'),\n",
       " Text(227.50568612585292, 255.75, 'X[2] <= -0.012\\ngini = 0.278\\nsamples = 12\\nvalue = [2, 10]'),\n",
       " Text(225.62547384382108, 239.25, 'gini = 0.0\\nsamples = 4\\nvalue = [0, 4]'),\n",
       " Text(229.38589840788475, 239.25, 'X[2] <= -0.012\\ngini = 0.375\\nsamples = 8\\nvalue = [2, 6]'),\n",
       " Text(227.50568612585292, 222.75, 'gini = 0.0\\nsamples = 1\\nvalue = [1, 0]'),\n",
       " Text(231.26611068991662, 222.75, 'X[0] <= 0.002\\ngini = 0.245\\nsamples = 7\\nvalue = [1, 6]'),\n",
       " Text(229.38589840788475, 206.25, 'X[1] <= 0.112\\ngini = 0.5\\nsamples = 2\\nvalue = [1, 1]'),\n",
       " Text(227.50568612585292, 189.75, 'gini = 0.0\\nsamples = 1\\nvalue = [1, 0]'),\n",
       " Text(231.26611068991662, 189.75, 'gini = 0.0\\nsamples = 1\\nvalue = [0, 1]'),\n",
       " Text(233.14632297194845, 206.25, 'gini = 0.0\\nsamples = 5\\nvalue = [0, 5]'),\n",
       " Text(246.30780894617135, 338.25, 'X[2] <= -0.008\\ngini = 0.499\\nsamples = 42\\nvalue = [22, 20]'),\n",
       " Text(244.42759666413951, 321.75, 'gini = 0.0\\nsamples = 4\\nvalue = [4, 0]'),\n",
       " Text(248.18802122820318, 321.75, 'X[1] <= 0.019\\ngini = 0.499\\nsamples = 38\\nvalue = [18, 20]'),\n",
       " Text(242.54738438210765, 305.25, 'X[1] <= 0.016\\ngini = 0.32\\nsamples = 5\\nvalue = [4, 1]'),\n",
       " Text(240.66717210007582, 288.75, 'X[1] <= 0.015\\ngini = 0.5\\nsamples = 2\\nvalue = [1, 1]'),\n",
       " Text(238.78695981804398, 272.25, 'gini = 0.0\\nsamples = 1\\nvalue = [1, 0]'),\n",
       " Text(242.54738438210765, 272.25, 'gini = 0.0\\nsamples = 1\\nvalue = [0, 1]'),\n",
       " Text(244.42759666413951, 288.75, 'gini = 0.0\\nsamples = 3\\nvalue = [3, 0]'),\n",
       " Text(253.82865807429872, 305.25, 'X[2] <= -0.006\\ngini = 0.489\\nsamples = 33\\nvalue = [14, 19]'),\n",
       " Text(248.18802122820318, 288.75, 'X[0] <= 0.003\\ngini = 0.432\\nsamples = 19\\nvalue = [6, 13]'),\n",
       " Text(246.30780894617135, 272.25, 'X[1] <= 0.043\\ngini = 0.497\\nsamples = 13\\nvalue = [6, 7]'),\n",
       " Text(242.54738438210765, 255.75, 'X[0] <= 0.003\\ngini = 0.375\\nsamples = 8\\nvalue = [2, 6]'),\n",
       " Text(240.66717210007582, 239.25, 'X[1] <= 0.023\\ngini = 0.245\\nsamples = 7\\nvalue = [1, 6]'),\n",
       " Text(238.78695981804398, 222.75, 'X[0] <= 0.002\\ngini = 0.5\\nsamples = 2\\nvalue = [1, 1]'),\n",
       " Text(236.90674753601212, 206.25, 'gini = 0.0\\nsamples = 1\\nvalue = [0, 1]'),\n",
       " Text(240.66717210007582, 206.25, 'gini = 0.0\\nsamples = 1\\nvalue = [1, 0]'),\n",
       " Text(242.54738438210765, 222.75, 'gini = 0.0\\nsamples = 5\\nvalue = [0, 5]'),\n",
       " Text(244.42759666413951, 239.25, 'gini = 0.0\\nsamples = 1\\nvalue = [1, 0]'),\n",
       " Text(250.06823351023502, 255.75, 'X[0] <= 0.002\\ngini = 0.32\\nsamples = 5\\nvalue = [4, 1]'),\n",
       " Text(248.18802122820318, 239.25, 'gini = 0.0\\nsamples = 1\\nvalue = [0, 1]'),\n",
       " Text(251.94844579226688, 239.25, 'gini = 0.0\\nsamples = 4\\nvalue = [4, 0]'),\n",
       " Text(250.06823351023502, 272.25, 'gini = 0.0\\nsamples = 6\\nvalue = [0, 6]'),\n",
       " Text(259.46929492039425, 288.75, 'X[2] <= -0.006\\ngini = 0.49\\nsamples = 14\\nvalue = [8, 6]'),\n",
       " Text(255.70887035633055, 272.25, 'X[0] <= 0.002\\ngini = 0.278\\nsamples = 6\\nvalue = [5, 1]'),\n",
       " Text(253.82865807429872, 255.75, 'gini = 0.0\\nsamples = 1\\nvalue = [0, 1]'),\n",
       " Text(257.5890826383624, 255.75, 'gini = 0.0\\nsamples = 5\\nvalue = [5, 0]'),\n",
       " Text(263.2297194844579, 272.25, 'X[2] <= -0.005\\ngini = 0.469\\nsamples = 8\\nvalue = [3, 5]'),\n",
       " Text(261.3495072024261, 255.75, 'X[0] <= 0.002\\ngini = 0.408\\nsamples = 7\\nvalue = [2, 5]'),\n",
       " Text(259.46929492039425, 239.25, 'gini = 0.0\\nsamples = 1\\nvalue = [1, 0]'),\n",
       " Text(263.2297194844579, 239.25, 'X[0] <= 0.003\\ngini = 0.278\\nsamples = 6\\nvalue = [1, 5]'),\n",
       " Text(261.3495072024261, 222.75, 'gini = 0.0\\nsamples = 5\\nvalue = [0, 5]'),\n",
       " Text(265.10993176648975, 222.75, 'gini = 0.0\\nsamples = 1\\nvalue = [1, 0]'),\n",
       " Text(265.10993176648975, 255.75, 'gini = 0.0\\nsamples = 1\\nvalue = [1, 0]'),\n",
       " Text(303.40824014404853, 387.75, 'X[2] <= -0.005\\ngini = 0.495\\nsamples = 277\\nvalue = [124, 153]'),\n",
       " Text(301.5280278620167, 371.25, 'gini = 0.0\\nsamples = 6\\nvalue = [6, 0]'),\n",
       " Text(305.28845242608037, 371.25, 'X[0] <= -0.002\\ngini = 0.492\\nsamples = 271\\nvalue = [118, 153]'),\n",
       " Text(270.7505686125853, 354.75, 'X[1] <= 0.068\\ngini = 0.313\\nsamples = 36\\nvalue = [7, 29]'),\n",
       " Text(263.2297194844579, 338.25, 'X[2] <= -0.004\\ngini = 0.147\\nsamples = 25\\nvalue = [2, 23]'),\n",
       " Text(259.46929492039425, 321.75, 'X[0] <= -0.004\\ngini = 0.5\\nsamples = 2\\nvalue = [1, 1]'),\n",
       " Text(257.5890826383624, 305.25, 'gini = 0.0\\nsamples = 1\\nvalue = [0, 1]'),\n",
       " Text(261.3495072024261, 305.25, 'gini = 0.0\\nsamples = 1\\nvalue = [1, 0]'),\n",
       " Text(266.9901440485216, 321.75, 'X[0] <= -0.004\\ngini = 0.083\\nsamples = 23\\nvalue = [1, 22]'),\n",
       " Text(265.10993176648975, 305.25, 'X[0] <= -0.004\\ngini = 0.219\\nsamples = 8\\nvalue = [1, 7]'),\n",
       " Text(263.2297194844579, 288.75, 'gini = 0.0\\nsamples = 7\\nvalue = [0, 7]'),\n",
       " Text(266.9901440485216, 288.75, 'gini = 0.0\\nsamples = 1\\nvalue = [1, 0]'),\n",
       " Text(268.8703563305535, 305.25, 'gini = 0.0\\nsamples = 15\\nvalue = [0, 15]'),\n",
       " Text(278.27141774071265, 338.25, 'X[0] <= -0.004\\ngini = 0.496\\nsamples = 11\\nvalue = [5, 6]'),\n",
       " Text(274.510993176649, 321.75, 'X[0] <= -0.009\\ngini = 0.32\\nsamples = 5\\nvalue = [1, 4]'),\n",
       " Text(272.63078089461715, 305.25, 'gini = 0.0\\nsamples = 1\\nvalue = [1, 0]'),\n",
       " Text(276.3912054586808, 305.25, 'gini = 0.0\\nsamples = 4\\nvalue = [0, 4]'),\n",
       " Text(282.0318423047764, 321.75, 'X[0] <= -0.003\\ngini = 0.444\\nsamples = 6\\nvalue = [4, 2]'),\n",
       " Text(280.1516300227445, 305.25, 'gini = 0.0\\nsamples = 3\\nvalue = [3, 0]'),\n",
       " Text(283.9120545868082, 305.25, 'X[1] <= 0.3\\ngini = 0.444\\nsamples = 3\\nvalue = [1, 2]'),\n",
       " Text(282.0318423047764, 288.75, 'gini = 0.0\\nsamples = 2\\nvalue = [0, 2]'),\n",
       " Text(285.79226686884004, 288.75, 'gini = 0.0\\nsamples = 1\\nvalue = [1, 0]'),\n",
       " Text(339.8263362395754, 354.75, 'X[0] <= 0.004\\ngini = 0.498\\nsamples = 235\\nvalue = [111, 124]'),\n",
       " Text(318.9456974981046, 338.25, 'X[2] <= -0.0\\ngini = 0.496\\nsamples = 224\\nvalue = [102, 122]'),\n",
       " Text(317.0654852160728, 321.75, 'X[2] <= -0.005\\ngini = 0.498\\nsamples = 218\\nvalue = [102, 116]'),\n",
       " Text(291.43290371493555, 305.25, 'X[1] <= 4.062\\ngini = 0.391\\nsamples = 30\\nvalue = [8, 22]'),\n",
       " Text(289.5526914329037, 288.75, 'X[2] <= -0.005\\ngini = 0.337\\nsamples = 28\\nvalue = [6, 22]'),\n",
       " Text(287.6724791508719, 272.25, 'X[0] <= 0.001\\ngini = 0.432\\nsamples = 19\\nvalue = [6, 13]'),\n",
       " Text(281.0917361637604, 255.75, 'X[2] <= -0.005\\ngini = 0.219\\nsamples = 8\\nvalue = [1, 7]'),\n",
       " Text(279.21152388172857, 239.25, 'gini = 0.0\\nsamples = 6\\nvalue = [0, 6]'),\n",
       " Text(282.9719484457923, 239.25, 'X[1] <= 0.124\\ngini = 0.5\\nsamples = 2\\nvalue = [1, 1]'),\n",
       " Text(281.0917361637604, 222.75, 'gini = 0.0\\nsamples = 1\\nvalue = [0, 1]'),\n",
       " Text(284.8521607278241, 222.75, 'gini = 0.0\\nsamples = 1\\nvalue = [1, 0]'),\n",
       " Text(294.2532221379833, 255.75, 'X[2] <= -0.005\\ngini = 0.496\\nsamples = 11\\nvalue = [5, 6]'),\n",
       " Text(290.49279757391963, 239.25, 'X[2] <= -0.005\\ngini = 0.32\\nsamples = 5\\nvalue = [4, 1]'),\n",
       " Text(288.6125852918878, 222.75, 'X[1] <= 0.014\\ngini = 0.5\\nsamples = 2\\nvalue = [1, 1]'),\n",
       " Text(286.73237300985596, 206.25, 'gini = 0.0\\nsamples = 1\\nvalue = [1, 0]'),\n",
       " Text(290.49279757391963, 206.25, 'gini = 0.0\\nsamples = 1\\nvalue = [0, 1]'),\n",
       " Text(292.37300985595147, 222.75, 'gini = 0.0\\nsamples = 3\\nvalue = [3, 0]'),\n",
       " Text(298.013646702047, 239.25, 'X[2] <= -0.005\\ngini = 0.278\\nsamples = 6\\nvalue = [1, 5]'),\n",
       " Text(296.1334344200152, 222.75, 'gini = 0.0\\nsamples = 5\\nvalue = [0, 5]'),\n",
       " Text(299.89385898407886, 222.75, 'gini = 0.0\\nsamples = 1\\nvalue = [1, 0]'),\n",
       " Text(291.43290371493555, 272.25, 'gini = 0.0\\nsamples = 9\\nvalue = [0, 9]'),\n",
       " Text(293.3131159969674, 288.75, 'gini = 0.0\\nsamples = 2\\nvalue = [2, 0]'),\n",
       " Text(342.69806671721, 305.25, 'X[2] <= -0.004\\ngini = 0.5\\nsamples = 188\\nvalue = [94, 94]'),\n",
       " Text(330.3297952994693, 288.75, 'X[1] <= 0.039\\ngini = 0.198\\nsamples = 9\\nvalue = [8, 1]'),\n",
       " Text(328.4495830174375, 272.25, 'X[0] <= 0.001\\ngini = 0.444\\nsamples = 3\\nvalue = [2, 1]'),\n",
       " Text(326.5693707354056, 255.75, 'gini = 0.0\\nsamples = 1\\nvalue = [0, 1]'),\n",
       " Text(330.3297952994693, 255.75, 'gini = 0.0\\nsamples = 2\\nvalue = [2, 0]'),\n",
       " Text(332.21000758150115, 272.25, 'gini = 0.0\\nsamples = 6\\nvalue = [6, 0]'),\n",
       " Text(355.06633813495074, 288.75, 'X[1] <= 0.006\\ngini = 0.499\\nsamples = 179\\nvalue = [86, 93]'),\n",
       " Text(353.1861258529189, 272.25, 'gini = 0.0\\nsamples = 4\\nvalue = [4, 0]'),\n",
       " Text(356.9465504169826, 272.25, 'X[2] <= -0.001\\ngini = 0.498\\nsamples = 175\\nvalue = [82, 93]'),\n",
       " Text(334.090219863533, 255.75, 'X[1] <= 0.088\\ngini = 0.489\\nsamples = 138\\nvalue = [59, 79]'),\n",
       " Text(315.6406368460955, 239.25, 'X[1] <= 0.008\\ngini = 0.5\\nsamples = 86\\nvalue = [42, 44]'),\n",
       " Text(303.65428354814253, 222.75, 'X[1] <= 0.006\\ngini = 0.298\\nsamples = 11\\nvalue = [2, 9]'),\n",
       " Text(299.89385898407886, 206.25, 'X[2] <= -0.003\\ngini = 0.5\\nsamples = 2\\nvalue = [1, 1]'),\n",
       " Text(298.013646702047, 189.75, 'gini = 0.0\\nsamples = 1\\nvalue = [0, 1]'),\n",
       " Text(301.7740712661107, 189.75, 'gini = 0.0\\nsamples = 1\\nvalue = [1, 0]'),\n",
       " Text(307.4147081122062, 206.25, 'X[2] <= -0.003\\ngini = 0.198\\nsamples = 9\\nvalue = [1, 8]'),\n",
       " Text(305.53449583017436, 189.75, 'X[2] <= -0.003\\ngini = 0.375\\nsamples = 4\\nvalue = [1, 3]'),\n",
       " Text(303.65428354814253, 173.25, 'gini = 0.0\\nsamples = 3\\nvalue = [0, 3]'),\n",
       " Text(307.4147081122062, 173.25, 'gini = 0.0\\nsamples = 1\\nvalue = [1, 0]'),\n",
       " Text(309.29492039423803, 189.75, 'gini = 0.0\\nsamples = 5\\nvalue = [0, 5]'),\n",
       " Text(327.62699014404853, 222.75, 'X[0] <= 0.003\\ngini = 0.498\\nsamples = 75\\nvalue = [40, 35]'),\n",
       " Text(317.75587566338135, 206.25, 'X[2] <= -0.004\\ngini = 0.499\\nsamples = 62\\nvalue = [30, 32]'),\n",
       " Text(313.05534495830176, 189.75, 'X[1] <= 0.031\\ngini = 0.198\\nsamples = 9\\nvalue = [1, 8]'),\n",
       " Text(311.1751326762699, 173.25, 'X[2] <= -0.004\\ngini = 0.5\\nsamples = 2\\nvalue = [1, 1]'),\n",
       " Text(309.29492039423803, 156.75, 'gini = 0.0\\nsamples = 1\\nvalue = [1, 0]'),\n",
       " Text(313.05534495830176, 156.75, 'gini = 0.0\\nsamples = 1\\nvalue = [0, 1]'),\n",
       " Text(314.9355572403336, 173.25, 'gini = 0.0\\nsamples = 7\\nvalue = [0, 7]'),\n",
       " Text(322.45640636846093, 189.75, 'X[1] <= 0.078\\ngini = 0.496\\nsamples = 53\\nvalue = [29, 24]'),\n",
       " Text(320.5761940864291, 173.25, 'X[1] <= 0.048\\ngini = 0.499\\nsamples = 50\\nvalue = [26, 24]'),\n",
       " Text(316.81576952236543, 156.75, 'X[1] <= 0.043\\ngini = 0.485\\nsamples = 41\\nvalue = [24, 17]'),\n",
       " Text(314.9355572403336, 140.25, 'X[1] <= 0.039\\ngini = 0.497\\nsamples = 37\\nvalue = [20, 17]'),\n",
       " Text(310.235026535254, 123.75, 'X[2] <= -0.002\\ngini = 0.475\\nsamples = 31\\nvalue = [19, 12]'),\n",
       " Text(306.4746019711903, 107.25, 'X[0] <= -0.0\\ngini = 0.401\\nsamples = 18\\nvalue = [13, 5]'),\n",
       " Text(304.59438968915845, 90.75, 'gini = 0.0\\nsamples = 2\\nvalue = [0, 2]'),\n",
       " Text(308.3548142532221, 90.75, 'X[2] <= -0.002\\ngini = 0.305\\nsamples = 16\\nvalue = [13, 3]'),\n",
       " Text(306.4746019711903, 74.25, 'X[1] <= 0.028\\ngini = 0.444\\nsamples = 9\\nvalue = [6, 3]'),\n",
       " Text(304.59438968915845, 57.75, 'X[2] <= -0.003\\ngini = 0.245\\nsamples = 7\\nvalue = [6, 1]'),\n",
       " Text(302.7141774071266, 41.25, 'gini = 0.0\\nsamples = 6\\nvalue = [6, 0]'),\n",
       " Text(306.4746019711903, 41.25, 'gini = 0.0\\nsamples = 1\\nvalue = [0, 1]'),\n",
       " Text(308.3548142532221, 57.75, 'gini = 0.0\\nsamples = 2\\nvalue = [0, 2]'),\n",
       " Text(310.235026535254, 74.25, 'gini = 0.0\\nsamples = 7\\nvalue = [7, 0]'),\n",
       " Text(313.9954510993177, 107.25, 'X[2] <= -0.002\\ngini = 0.497\\nsamples = 13\\nvalue = [6, 7]'),\n",
       " Text(312.11523881728584, 90.75, 'gini = 0.0\\nsamples = 3\\nvalue = [0, 3]'),\n",
       " Text(315.8756633813495, 90.75, 'X[2] <= -0.002\\ngini = 0.48\\nsamples = 10\\nvalue = [6, 4]'),\n",
       " Text(313.9954510993177, 74.25, 'gini = 0.0\\nsamples = 3\\nvalue = [3, 0]'),\n",
       " Text(317.75587566338135, 74.25, 'X[2] <= -0.001\\ngini = 0.49\\nsamples = 7\\nvalue = [3, 4]'),\n",
       " Text(315.8756633813495, 57.75, 'X[0] <= 0.0\\ngini = 0.444\\nsamples = 6\\nvalue = [2, 4]'),\n",
       " Text(313.9954510993177, 41.25, 'X[2] <= -0.001\\ngini = 0.444\\nsamples = 3\\nvalue = [2, 1]'),\n",
       " Text(312.11523881728584, 24.75, 'gini = 0.0\\nsamples = 2\\nvalue = [2, 0]'),\n",
       " Text(315.8756633813495, 24.75, 'gini = 0.0\\nsamples = 1\\nvalue = [0, 1]'),\n",
       " Text(317.75587566338135, 41.25, 'gini = 0.0\\nsamples = 3\\nvalue = [0, 3]'),\n",
       " Text(319.6360879454132, 57.75, 'gini = 0.0\\nsamples = 1\\nvalue = [1, 0]'),\n",
       " Text(319.6360879454132, 123.75, 'X[2] <= -0.002\\ngini = 0.278\\nsamples = 6\\nvalue = [1, 5]'),\n",
       " Text(317.75587566338135, 107.25, 'gini = 0.0\\nsamples = 5\\nvalue = [0, 5]'),\n",
       " Text(321.516300227445, 107.25, 'gini = 0.0\\nsamples = 1\\nvalue = [1, 0]'),\n",
       " Text(318.69598180439726, 140.25, 'gini = 0.0\\nsamples = 4\\nvalue = [4, 0]'),\n",
       " Text(324.3366186504928, 156.75, 'X[1] <= 0.061\\ngini = 0.346\\nsamples = 9\\nvalue = [2, 7]'),\n",
       " Text(322.45640636846093, 140.25, 'gini = 0.0\\nsamples = 5\\nvalue = [0, 5]'),\n",
       " Text(326.21683093252466, 140.25, 'X[2] <= -0.002\\ngini = 0.5\\nsamples = 4\\nvalue = [2, 2]'),\n",
       " Text(324.3366186504928, 123.75, 'gini = 0.0\\nsamples = 1\\nvalue = [1, 0]'),\n",
       " Text(328.0970432145565, 123.75, 'X[1] <= 0.066\\ngini = 0.444\\nsamples = 3\\nvalue = [1, 2]'),\n",
       " Text(326.21683093252466, 107.25, 'gini = 0.0\\nsamples = 1\\nvalue = [1, 0]'),\n",
       " Text(329.9772554965883, 107.25, 'gini = 0.0\\nsamples = 2\\nvalue = [0, 2]'),\n",
       " Text(324.3366186504928, 173.25, 'gini = 0.0\\nsamples = 3\\nvalue = [3, 0]'),\n",
       " Text(337.4981046247157, 206.25, 'X[1] <= 0.028\\ngini = 0.355\\nsamples = 13\\nvalue = [10, 3]'),\n",
       " Text(335.61789234268383, 189.75, 'X[1] <= 0.026\\ngini = 0.469\\nsamples = 8\\nvalue = [5, 3]'),\n",
       " Text(333.737680060652, 173.25, 'X[1] <= 0.015\\ngini = 0.278\\nsamples = 6\\nvalue = [5, 1]'),\n",
       " Text(331.85746777862016, 156.75, 'X[1] <= 0.011\\ngini = 0.5\\nsamples = 2\\nvalue = [1, 1]'),\n",
       " Text(329.9772554965883, 140.25, 'gini = 0.0\\nsamples = 1\\nvalue = [1, 0]'),\n",
       " Text(333.737680060652, 140.25, 'gini = 0.0\\nsamples = 1\\nvalue = [0, 1]'),\n",
       " Text(335.61789234268383, 156.75, 'gini = 0.0\\nsamples = 4\\nvalue = [4, 0]'),\n",
       " Text(337.4981046247157, 173.25, 'gini = 0.0\\nsamples = 2\\nvalue = [0, 2]'),\n",
       " Text(339.37831690674756, 189.75, 'gini = 0.0\\nsamples = 5\\nvalue = [5, 0]'),\n",
       " Text(352.53980288097046, 239.25, 'X[0] <= -0.0\\ngini = 0.44\\nsamples = 52\\nvalue = [17, 35]'),\n",
       " Text(343.1387414708112, 222.75, 'X[1] <= 0.117\\ngini = 0.49\\nsamples = 14\\nvalue = [8, 6]'),\n",
       " Text(341.2585291887794, 206.25, 'gini = 0.0\\nsamples = 3\\nvalue = [0, 3]'),\n",
       " Text(345.01895375284306, 206.25, 'X[2] <= -0.004\\ngini = 0.397\\nsamples = 11\\nvalue = [8, 3]'),\n",
       " Text(343.1387414708112, 189.75, 'gini = 0.0\\nsamples = 2\\nvalue = [0, 2]'),\n",
       " Text(346.8991660348749, 189.75, 'X[1] <= 0.836\\ngini = 0.198\\nsamples = 9\\nvalue = [8, 1]'),\n",
       " Text(345.01895375284306, 173.25, 'gini = 0.0\\nsamples = 7\\nvalue = [7, 0]'),\n",
       " Text(348.77937831690673, 173.25, 'X[0] <= -0.0\\ngini = 0.5\\nsamples = 2\\nvalue = [1, 1]'),\n",
       " Text(346.8991660348749, 156.75, 'gini = 0.0\\nsamples = 1\\nvalue = [0, 1]'),\n",
       " Text(350.65959059893856, 156.75, 'gini = 0.0\\nsamples = 1\\nvalue = [1, 0]'),\n",
       " Text(361.9408642911296, 222.75, 'X[1] <= 73.423\\ngini = 0.361\\nsamples = 38\\nvalue = [9, 29]'),\n",
       " Text(360.0606520090978, 206.25, 'X[2] <= -0.002\\ngini = 0.339\\nsamples = 37\\nvalue = [8, 29]'),\n",
       " Text(358.18043972706596, 189.75, 'X[2] <= -0.002\\ngini = 0.4\\nsamples = 29\\nvalue = [8, 21]'),\n",
       " Text(356.3002274450341, 173.25, 'X[0] <= 0.001\\ngini = 0.375\\nsamples = 28\\nvalue = [7, 21]'),\n",
       " Text(354.4200151630023, 156.75, 'X[0] <= 0.001\\ngini = 0.434\\nsamples = 22\\nvalue = [7, 15]'),\n",
       " Text(352.53980288097046, 140.25, 'X[1] <= 0.098\\ngini = 0.375\\nsamples = 20\\nvalue = [5, 15]'),\n",
       " Text(350.65959059893856, 123.75, 'gini = 0.0\\nsamples = 1\\nvalue = [1, 0]'),\n",
       " Text(354.4200151630023, 123.75, 'X[0] <= 0.0\\ngini = 0.332\\nsamples = 19\\nvalue = [4, 15]'),\n",
       " Text(352.53980288097046, 107.25, 'X[0] <= 0.0\\ngini = 0.444\\nsamples = 12\\nvalue = [4, 8]'),\n",
       " Text(350.65959059893856, 90.75, 'X[0] <= 0.0\\ngini = 0.397\\nsamples = 11\\nvalue = [3, 8]'),\n",
       " Text(348.77937831690673, 74.25, 'gini = 0.0\\nsamples = 3\\nvalue = [0, 3]'),\n",
       " Text(352.53980288097046, 74.25, 'X[0] <= 0.0\\ngini = 0.469\\nsamples = 8\\nvalue = [3, 5]'),\n",
       " Text(350.65959059893856, 57.75, 'gini = 0.0\\nsamples = 1\\nvalue = [1, 0]'),\n",
       " Text(354.4200151630023, 57.75, 'X[1] <= 0.743\\ngini = 0.408\\nsamples = 7\\nvalue = [2, 5]'),\n",
       " Text(352.53980288097046, 41.25, 'X[0] <= 0.0\\ngini = 0.278\\nsamples = 6\\nvalue = [1, 5]'),\n",
       " Text(350.65959059893856, 24.75, 'X[1] <= 0.303\\ngini = 0.5\\nsamples = 2\\nvalue = [1, 1]'),\n",
       " Text(348.77937831690673, 8.25, 'gini = 0.0\\nsamples = 1\\nvalue = [1, 0]'),\n",
       " Text(352.53980288097046, 8.25, 'gini = 0.0\\nsamples = 1\\nvalue = [0, 1]'),\n",
       " Text(354.4200151630023, 24.75, 'gini = 0.0\\nsamples = 4\\nvalue = [0, 4]'),\n",
       " Text(356.3002274450341, 41.25, 'gini = 0.0\\nsamples = 1\\nvalue = [1, 0]'),\n",
       " Text(354.4200151630023, 90.75, 'gini = 0.0\\nsamples = 1\\nvalue = [1, 0]'),\n",
       " Text(356.3002274450341, 107.25, 'gini = 0.0\\nsamples = 7\\nvalue = [0, 7]'),\n",
       " Text(356.3002274450341, 140.25, 'gini = 0.0\\nsamples = 2\\nvalue = [2, 0]'),\n",
       " Text(358.18043972706596, 156.75, 'gini = 0.0\\nsamples = 6\\nvalue = [0, 6]'),\n",
       " Text(360.0606520090978, 173.25, 'gini = 0.0\\nsamples = 1\\nvalue = [1, 0]'),\n",
       " Text(361.9408642911296, 189.75, 'gini = 0.0\\nsamples = 8\\nvalue = [0, 8]'),\n",
       " Text(363.82107657316146, 206.25, 'gini = 0.0\\nsamples = 1\\nvalue = [1, 0]'),\n",
       " Text(379.80288097043217, 255.75, 'X[2] <= -0.001\\ngini = 0.47\\nsamples = 37\\nvalue = [23, 14]'),\n",
       " Text(373.2221379833207, 239.25, 'X[0] <= 0.002\\ngini = 0.403\\nsamples = 25\\nvalue = [18, 7]'),\n",
       " Text(369.461713419257, 222.75, 'X[1] <= 0.063\\ngini = 0.208\\nsamples = 17\\nvalue = [15, 2]'),\n",
       " Text(367.5815011372252, 206.25, 'X[0] <= 0.0\\ngini = 0.444\\nsamples = 6\\nvalue = [4, 2]'),\n",
       " Text(365.70128885519335, 189.75, 'X[2] <= -0.001\\ngini = 0.444\\nsamples = 3\\nvalue = [1, 2]'),\n",
       " Text(363.82107657316146, 173.25, 'gini = 0.0\\nsamples = 1\\nvalue = [1, 0]'),\n",
       " Text(367.5815011372252, 173.25, 'gini = 0.0\\nsamples = 2\\nvalue = [0, 2]'),\n",
       " Text(369.461713419257, 189.75, 'gini = 0.0\\nsamples = 3\\nvalue = [3, 0]'),\n",
       " Text(371.34192570128886, 206.25, 'gini = 0.0\\nsamples = 11\\nvalue = [11, 0]'),\n",
       " Text(376.98256254738436, 222.75, 'X[2] <= -0.001\\ngini = 0.469\\nsamples = 8\\nvalue = [3, 5]'),\n",
       " Text(375.1023502653525, 206.25, 'gini = 0.0\\nsamples = 2\\nvalue = [2, 0]'),\n",
       " Text(378.86277482941625, 206.25, 'X[0] <= 0.004\\ngini = 0.278\\nsamples = 6\\nvalue = [1, 5]'),\n",
       " Text(376.98256254738436, 189.75, 'gini = 0.0\\nsamples = 5\\nvalue = [0, 5]'),\n",
       " Text(380.7429871114481, 189.75, 'gini = 0.0\\nsamples = 1\\nvalue = [1, 0]'),\n",
       " Text(386.3836239575436, 239.25, 'X[0] <= 0.002\\ngini = 0.486\\nsamples = 12\\nvalue = [5, 7]'),\n",
       " Text(384.50341167551176, 222.75, 'X[2] <= -0.0\\ngini = 0.219\\nsamples = 8\\nvalue = [1, 7]'),\n",
       " Text(382.6231993934799, 206.25, 'gini = 0.0\\nsamples = 7\\nvalue = [0, 7]'),\n",
       " Text(386.3836239575436, 206.25, 'gini = 0.0\\nsamples = 1\\nvalue = [1, 0]'),\n",
       " Text(388.2638362395754, 222.75, 'gini = 0.0\\nsamples = 4\\nvalue = [4, 0]'),\n",
       " Text(320.82590978013644, 321.75, 'gini = 0.0\\nsamples = 6\\nvalue = [0, 6]'),\n",
       " Text(360.70697498104624, 338.25, 'X[1] <= 0.228\\ngini = 0.298\\nsamples = 11\\nvalue = [9, 2]'),\n",
       " Text(358.8267626990144, 321.75, 'X[0] <= 0.005\\ngini = 0.18\\nsamples = 10\\nvalue = [9, 1]'),\n",
       " Text(356.9465504169826, 305.25, 'gini = 0.0\\nsamples = 8\\nvalue = [8, 0]'),\n",
       " Text(360.70697498104624, 305.25, 'X[1] <= 0.015\\ngini = 0.5\\nsamples = 2\\nvalue = [1, 1]'),\n",
       " Text(358.8267626990144, 288.75, 'gini = 0.0\\nsamples = 1\\nvalue = [0, 1]'),\n",
       " Text(362.5871872630781, 288.75, 'gini = 0.0\\nsamples = 1\\nvalue = [1, 0]'),\n",
       " Text(362.5871872630781, 321.75, 'gini = 0.0\\nsamples = 1\\nvalue = [0, 1]'),\n",
       " Text(415.8794541319181, 404.25, 'X[1] <= 0.009\\ngini = 0.5\\nsamples = 154\\nvalue = [78, 76]'),\n",
       " Text(386.3836239575436, 387.75, 'X[1] <= 0.005\\ngini = 0.391\\nsamples = 15\\nvalue = [4, 11]'),\n",
       " Text(384.50341167551176, 371.25, 'gini = 0.0\\nsamples = 1\\nvalue = [1, 0]'),\n",
       " Text(388.2638362395754, 371.25, 'X[0] <= 0.006\\ngini = 0.337\\nsamples = 14\\nvalue = [3, 11]'),\n",
       " Text(386.3836239575436, 354.75, 'gini = 0.0\\nsamples = 5\\nvalue = [0, 5]'),\n",
       " Text(390.14404852160726, 354.75, 'X[2] <= -0.014\\ngini = 0.444\\nsamples = 9\\nvalue = [3, 6]'),\n",
       " Text(388.2638362395754, 338.25, 'X[2] <= -0.018\\ngini = 0.245\\nsamples = 7\\nvalue = [1, 6]'),\n",
       " Text(386.3836239575436, 321.75, 'gini = 0.0\\nsamples = 4\\nvalue = [0, 4]'),\n",
       " Text(390.14404852160726, 321.75, 'X[2] <= -0.017\\ngini = 0.444\\nsamples = 3\\nvalue = [1, 2]'),\n",
       " Text(388.2638362395754, 305.25, 'gini = 0.0\\nsamples = 1\\nvalue = [1, 0]'),\n",
       " Text(392.02426080363915, 305.25, 'gini = 0.0\\nsamples = 2\\nvalue = [0, 2]'),\n",
       " Text(392.02426080363915, 338.25, 'gini = 0.0\\nsamples = 2\\nvalue = [2, 0]'),\n",
       " Text(445.37528430629266, 387.75, 'X[2] <= -0.008\\ngini = 0.498\\nsamples = 139\\nvalue = [74, 65]'),\n",
       " Text(426.33813495072025, 371.25, 'X[2] <= -0.021\\ngini = 0.5\\nsamples = 114\\nvalue = [57, 57]'),\n",
       " Text(424.4579226686884, 354.75, 'gini = 0.0\\nsamples = 2\\nvalue = [2, 0]'),\n",
       " Text(428.2183472327521, 354.75, 'X[1] <= 0.052\\ngini = 0.5\\nsamples = 112\\nvalue = [55, 57]'),\n",
       " Text(413.6467020470053, 338.25, 'X[1] <= 0.044\\ngini = 0.496\\nsamples = 90\\nvalue = [41, 49]'),\n",
       " Text(411.76648976497347, 321.75, 'X[2] <= -0.017\\ngini = 0.5\\nsamples = 84\\nvalue = [41, 43]'),\n",
       " Text(395.7846853677028, 305.25, 'X[1] <= 0.017\\ngini = 0.453\\nsamples = 26\\nvalue = [9, 17]'),\n",
       " Text(392.02426080363915, 288.75, 'X[2] <= -0.019\\ngini = 0.469\\nsamples = 8\\nvalue = [5, 3]'),\n",
       " Text(390.14404852160726, 272.25, 'gini = 0.0\\nsamples = 3\\nvalue = [3, 0]'),\n",
       " Text(393.904473085671, 272.25, 'X[1] <= 0.011\\ngini = 0.48\\nsamples = 5\\nvalue = [2, 3]'),\n",
       " Text(392.02426080363915, 255.75, 'X[2] <= -0.018\\ngini = 0.444\\nsamples = 3\\nvalue = [2, 1]'),\n",
       " Text(390.14404852160726, 239.25, 'gini = 0.0\\nsamples = 2\\nvalue = [2, 0]'),\n",
       " Text(393.904473085671, 239.25, 'gini = 0.0\\nsamples = 1\\nvalue = [0, 1]'),\n",
       " Text(395.7846853677028, 255.75, 'gini = 0.0\\nsamples = 2\\nvalue = [0, 2]'),\n",
       " Text(399.5451099317665, 288.75, 'X[0] <= 0.005\\ngini = 0.346\\nsamples = 18\\nvalue = [4, 14]'),\n",
       " Text(397.66489764973466, 272.25, 'gini = 0.0\\nsamples = 1\\nvalue = [1, 0]'),\n",
       " Text(401.4253222137983, 272.25, 'X[2] <= -0.019\\ngini = 0.291\\nsamples = 17\\nvalue = [3, 14]'),\n",
       " Text(399.5451099317665, 255.75, 'X[2] <= -0.02\\ngini = 0.42\\nsamples = 10\\nvalue = [3, 7]'),\n",
       " Text(397.66489764973466, 239.25, 'gini = 0.0\\nsamples = 5\\nvalue = [0, 5]'),\n",
       " Text(401.4253222137983, 239.25, 'X[1] <= 0.018\\ngini = 0.48\\nsamples = 5\\nvalue = [3, 2]'),\n",
       " Text(399.5451099317665, 222.75, 'gini = 0.0\\nsamples = 1\\nvalue = [0, 1]'),\n",
       " Text(403.30553449583016, 222.75, 'X[0] <= 0.011\\ngini = 0.375\\nsamples = 4\\nvalue = [3, 1]'),\n",
       " Text(401.4253222137983, 206.25, 'gini = 0.0\\nsamples = 3\\nvalue = [3, 0]'),\n",
       " Text(405.185746777862, 206.25, 'gini = 0.0\\nsamples = 1\\nvalue = [0, 1]'),\n",
       " Text(403.30553449583016, 255.75, 'gini = 0.0\\nsamples = 7\\nvalue = [0, 7]'),\n",
       " Text(427.7482941622441, 305.25, 'X[1] <= 0.03\\ngini = 0.495\\nsamples = 58\\nvalue = [32, 26]'),\n",
       " Text(420.2274450341168, 288.75, 'X[0] <= 0.007\\ngini = 0.496\\nsamples = 44\\nvalue = [20, 24]'),\n",
       " Text(416.46702047005306, 272.25, 'X[0] <= 0.006\\ngini = 0.444\\nsamples = 27\\nvalue = [9, 18]'),\n",
       " Text(414.5868081880212, 255.75, 'X[0] <= 0.006\\ngini = 0.483\\nsamples = 22\\nvalue = [9, 13]'),\n",
       " Text(412.7065959059894, 239.25, 'X[0] <= 0.006\\ngini = 0.432\\nsamples = 19\\nvalue = [6, 13]'),\n",
       " Text(410.82638362395755, 222.75, 'X[0] <= 0.005\\ngini = 0.497\\nsamples = 13\\nvalue = [6, 7]'),\n",
       " Text(408.9461713419257, 206.25, 'gini = 0.0\\nsamples = 3\\nvalue = [0, 3]'),\n",
       " Text(412.7065959059894, 206.25, 'X[1] <= 0.026\\ngini = 0.48\\nsamples = 10\\nvalue = [6, 4]'),\n",
       " Text(410.82638362395755, 189.75, 'X[2] <= -0.01\\ngini = 0.5\\nsamples = 8\\nvalue = [4, 4]'),\n",
       " Text(408.9461713419257, 173.25, 'X[2] <= -0.013\\ngini = 0.444\\nsamples = 6\\nvalue = [4, 2]'),\n",
       " Text(407.0659590598939, 156.75, 'X[0] <= 0.005\\ngini = 0.5\\nsamples = 4\\nvalue = [2, 2]'),\n",
       " Text(405.185746777862, 140.25, 'gini = 0.0\\nsamples = 1\\nvalue = [1, 0]'),\n",
       " Text(408.9461713419257, 140.25, 'X[1] <= 0.009\\ngini = 0.444\\nsamples = 3\\nvalue = [1, 2]'),\n",
       " Text(407.0659590598939, 123.75, 'gini = 0.0\\nsamples = 1\\nvalue = [1, 0]'),\n",
       " Text(410.82638362395755, 123.75, 'gini = 0.0\\nsamples = 2\\nvalue = [0, 2]'),\n",
       " Text(410.82638362395755, 156.75, 'gini = 0.0\\nsamples = 2\\nvalue = [2, 0]'),\n",
       " Text(412.7065959059894, 173.25, 'gini = 0.0\\nsamples = 2\\nvalue = [0, 2]'),\n",
       " Text(414.5868081880212, 189.75, 'gini = 0.0\\nsamples = 2\\nvalue = [2, 0]'),\n",
       " Text(414.5868081880212, 222.75, 'gini = 0.0\\nsamples = 6\\nvalue = [0, 6]'),\n",
       " Text(416.46702047005306, 239.25, 'gini = 0.0\\nsamples = 3\\nvalue = [3, 0]'),\n",
       " Text(418.3472327520849, 255.75, 'gini = 0.0\\nsamples = 5\\nvalue = [0, 5]'),\n",
       " Text(423.98786959818045, 272.25, 'X[1] <= 0.024\\ngini = 0.457\\nsamples = 17\\nvalue = [11, 6]'),\n",
       " Text(422.1076573161486, 255.75, 'X[2] <= -0.016\\ngini = 0.391\\nsamples = 15\\nvalue = [11, 4]'),\n",
       " Text(420.2274450341168, 239.25, 'gini = 0.0\\nsamples = 5\\nvalue = [5, 0]'),\n",
       " Text(423.98786959818045, 239.25, 'X[2] <= -0.015\\ngini = 0.48\\nsamples = 10\\nvalue = [6, 4]'),\n",
       " Text(422.1076573161486, 222.75, 'gini = 0.0\\nsamples = 2\\nvalue = [0, 2]'),\n",
       " Text(425.8680818802123, 222.75, 'X[0] <= 0.008\\ngini = 0.375\\nsamples = 8\\nvalue = [6, 2]'),\n",
       " Text(423.98786959818045, 206.25, 'X[1] <= 0.019\\ngini = 0.245\\nsamples = 7\\nvalue = [6, 1]'),\n",
       " Text(422.1076573161486, 189.75, 'gini = 0.0\\nsamples = 5\\nvalue = [5, 0]'),\n",
       " Text(425.8680818802123, 189.75, 'X[0] <= 0.007\\ngini = 0.5\\nsamples = 2\\nvalue = [1, 1]'),\n",
       " Text(423.98786959818045, 173.25, 'gini = 0.0\\nsamples = 1\\nvalue = [1, 0]'),\n",
       " Text(427.7482941622441, 173.25, 'gini = 0.0\\nsamples = 1\\nvalue = [0, 1]'),\n",
       " Text(427.7482941622441, 206.25, 'gini = 0.0\\nsamples = 1\\nvalue = [0, 1]'),\n",
       " Text(425.8680818802123, 255.75, 'gini = 0.0\\nsamples = 2\\nvalue = [0, 2]'),\n",
       " Text(435.2691432903715, 288.75, 'X[1] <= 0.043\\ngini = 0.245\\nsamples = 14\\nvalue = [12, 2]'),\n",
       " Text(431.5087187263078, 272.25, 'X[2] <= -0.011\\ngini = 0.153\\nsamples = 12\\nvalue = [11, 1]'),\n",
       " Text(429.62850644427596, 255.75, 'gini = 0.0\\nsamples = 10\\nvalue = [10, 0]'),\n",
       " Text(433.3889310083397, 255.75, 'X[0] <= 0.008\\ngini = 0.5\\nsamples = 2\\nvalue = [1, 1]'),\n",
       " Text(431.5087187263078, 239.25, 'gini = 0.0\\nsamples = 1\\nvalue = [0, 1]'),\n",
       " Text(435.2691432903715, 239.25, 'gini = 0.0\\nsamples = 1\\nvalue = [1, 0]'),\n",
       " Text(439.0295678544352, 272.25, 'X[0] <= 0.006\\ngini = 0.5\\nsamples = 2\\nvalue = [1, 1]'),\n",
       " Text(437.14935557240335, 255.75, 'gini = 0.0\\nsamples = 1\\nvalue = [1, 0]'),\n",
       " Text(440.909780136467, 255.75, 'gini = 0.0\\nsamples = 1\\nvalue = [0, 1]'),\n",
       " Text(415.52691432903714, 321.75, 'gini = 0.0\\nsamples = 6\\nvalue = [0, 6]'),\n",
       " Text(442.78999241849885, 338.25, 'X[0] <= 0.007\\ngini = 0.463\\nsamples = 22\\nvalue = [14, 8]'),\n",
       " Text(440.909780136467, 321.75, 'gini = 0.0\\nsamples = 6\\nvalue = [6, 0]'),\n",
       " Text(444.6702047005307, 321.75, 'X[2] <= -0.019\\ngini = 0.5\\nsamples = 16\\nvalue = [8, 8]'),\n",
       " Text(440.909780136467, 305.25, 'X[0] <= 0.007\\ngini = 0.32\\nsamples = 5\\nvalue = [4, 1]'),\n",
       " Text(439.0295678544352, 288.75, 'gini = 0.0\\nsamples = 1\\nvalue = [0, 1]'),\n",
       " Text(442.78999241849885, 288.75, 'gini = 0.0\\nsamples = 4\\nvalue = [4, 0]'),\n",
       " Text(448.4306292645944, 305.25, 'X[0] <= 0.01\\ngini = 0.463\\nsamples = 11\\nvalue = [4, 7]'),\n",
       " Text(446.5504169825625, 288.75, 'gini = 0.0\\nsamples = 4\\nvalue = [0, 4]'),\n",
       " Text(450.31084154662625, 288.75, 'X[2] <= -0.018\\ngini = 0.49\\nsamples = 7\\nvalue = [4, 3]'),\n",
       " Text(448.4306292645944, 272.25, 'gini = 0.0\\nsamples = 1\\nvalue = [0, 1]'),\n",
       " Text(452.1910538286581, 272.25, 'X[1] <= 0.068\\ngini = 0.444\\nsamples = 6\\nvalue = [4, 2]'),\n",
       " Text(450.31084154662625, 255.75, 'gini = 0.0\\nsamples = 1\\nvalue = [0, 1]'),\n",
       " Text(454.0712661106899, 255.75, 'X[1] <= 0.184\\ngini = 0.32\\nsamples = 5\\nvalue = [4, 1]'),\n",
       " Text(452.1910538286581, 239.25, 'gini = 0.0\\nsamples = 4\\nvalue = [4, 0]'),\n",
       " Text(455.95147839272175, 239.25, 'gini = 0.0\\nsamples = 1\\nvalue = [0, 1]'),\n",
       " Text(464.41243366186507, 371.25, 'X[2] <= -0.001\\ngini = 0.435\\nsamples = 25\\nvalue = [17, 8]'),\n",
       " Text(462.53222137983323, 354.75, 'X[2] <= -0.005\\ngini = 0.386\\nsamples = 23\\nvalue = [17, 6]'),\n",
       " Text(457.8316906747536, 338.25, 'X[1] <= 0.015\\ngini = 0.26\\nsamples = 13\\nvalue = [11, 2]'),\n",
       " Text(454.0712661106899, 321.75, 'X[1] <= 0.013\\ngini = 0.5\\nsamples = 2\\nvalue = [1, 1]'),\n",
       " Text(452.1910538286581, 305.25, 'gini = 0.0\\nsamples = 1\\nvalue = [1, 0]'),\n",
       " Text(455.95147839272175, 305.25, 'gini = 0.0\\nsamples = 1\\nvalue = [0, 1]'),\n",
       " Text(461.5921152388173, 321.75, 'X[1] <= 0.025\\ngini = 0.165\\nsamples = 11\\nvalue = [10, 1]'),\n",
       " Text(459.7119029567854, 305.25, 'X[1] <= 0.023\\ngini = 0.32\\nsamples = 5\\nvalue = [4, 1]'),\n",
       " Text(457.8316906747536, 288.75, 'gini = 0.0\\nsamples = 4\\nvalue = [4, 0]'),\n",
       " Text(461.5921152388173, 288.75, 'gini = 0.0\\nsamples = 1\\nvalue = [0, 1]'),\n",
       " Text(463.47232752084915, 305.25, 'gini = 0.0\\nsamples = 6\\nvalue = [6, 0]'),\n",
       " Text(467.2327520849128, 338.25, 'X[2] <= -0.004\\ngini = 0.48\\nsamples = 10\\nvalue = [6, 4]'),\n",
       " Text(465.352539802881, 321.75, 'gini = 0.0\\nsamples = 3\\nvalue = [0, 3]'),\n",
       " Text(469.11296436694465, 321.75, 'X[2] <= -0.002\\ngini = 0.245\\nsamples = 7\\nvalue = [6, 1]'),\n",
       " Text(467.2327520849128, 305.25, 'gini = 0.0\\nsamples = 5\\nvalue = [5, 0]'),\n",
       " Text(470.9931766489765, 305.25, 'X[2] <= -0.001\\ngini = 0.5\\nsamples = 2\\nvalue = [1, 1]'),\n",
       " Text(469.11296436694465, 288.75, 'gini = 0.0\\nsamples = 1\\nvalue = [0, 1]'),\n",
       " Text(472.8733889310083, 288.75, 'gini = 0.0\\nsamples = 1\\nvalue = [1, 0]'),\n",
       " Text(466.2926459438969, 354.75, 'gini = 0.0\\nsamples = 2\\nvalue = [0, 2]'),\n",
       " Text(726.7249988153904, 437.25, 'X[2] <= 0.01\\ngini = 0.415\\nsamples = 1104\\nvalue = [779, 325]'),\n",
       " Text(616.7922550227445, 420.75, 'X[0] <= -0.001\\ngini = 0.483\\nsamples = 503\\nvalue = [298, 205]'),\n",
       " Text(541.5598938589841, 404.25, 'X[0] <= -0.003\\ngini = 0.5\\nsamples = 280\\nvalue = [139, 141]'),\n",
       " Text(497.3161485974223, 387.75, 'X[0] <= -0.008\\ngini = 0.479\\nsamples = 93\\nvalue = [37, 56]'),\n",
       " Text(495.43593631539045, 371.25, 'gini = 0.0\\nsamples = 5\\nvalue = [0, 5]'),\n",
       " Text(499.1963608794541, 371.25, 'X[0] <= -0.004\\ngini = 0.487\\nsamples = 88\\nvalue = [37, 51]'),\n",
       " Text(488.85519332827903, 354.75, 'X[0] <= -0.005\\ngini = 0.49\\nsamples = 35\\nvalue = [20, 15]'),\n",
       " Text(484.1546626231994, 338.25, 'X[0] <= -0.006\\ngini = 0.457\\nsamples = 17\\nvalue = [6, 11]'),\n",
       " Text(480.3942380591357, 321.75, 'X[1] <= 0.035\\ngini = 0.469\\nsamples = 8\\nvalue = [5, 3]'),\n",
       " Text(478.5140257771039, 305.25, 'X[1] <= 0.024\\ngini = 0.375\\nsamples = 4\\nvalue = [1, 3]'),\n",
       " Text(476.63381349507205, 288.75, 'gini = 0.0\\nsamples = 1\\nvalue = [1, 0]'),\n",
       " Text(480.3942380591357, 288.75, 'gini = 0.0\\nsamples = 3\\nvalue = [0, 3]'),\n",
       " Text(482.27445034116755, 305.25, 'gini = 0.0\\nsamples = 4\\nvalue = [4, 0]'),\n",
       " Text(487.91508718726305, 321.75, 'X[1] <= 0.014\\ngini = 0.198\\nsamples = 9\\nvalue = [1, 8]'),\n",
       " Text(486.0348749052312, 305.25, 'gini = 0.0\\nsamples = 1\\nvalue = [1, 0]'),\n",
       " Text(489.79529946929495, 305.25, 'gini = 0.0\\nsamples = 8\\nvalue = [0, 8]'),\n",
       " Text(493.5557240333586, 338.25, 'X[0] <= -0.005\\ngini = 0.346\\nsamples = 18\\nvalue = [14, 4]'),\n",
       " Text(491.6755117513268, 321.75, 'gini = 0.0\\nsamples = 9\\nvalue = [9, 0]'),\n",
       " Text(495.43593631539045, 321.75, 'X[1] <= 0.035\\ngini = 0.494\\nsamples = 9\\nvalue = [5, 4]'),\n",
       " Text(493.5557240333586, 305.25, 'X[2] <= 0.006\\ngini = 0.408\\nsamples = 7\\nvalue = [5, 2]'),\n",
       " Text(491.6755117513268, 288.75, 'gini = 0.0\\nsamples = 2\\nvalue = [2, 0]'),\n",
       " Text(495.43593631539045, 288.75, 'X[2] <= 0.008\\ngini = 0.48\\nsamples = 5\\nvalue = [3, 2]'),\n",
       " Text(493.5557240333586, 272.25, 'X[0] <= -0.005\\ngini = 0.444\\nsamples = 3\\nvalue = [1, 2]'),\n",
       " Text(491.6755117513268, 255.75, 'gini = 0.0\\nsamples = 1\\nvalue = [1, 0]'),\n",
       " Text(495.43593631539045, 255.75, 'gini = 0.0\\nsamples = 2\\nvalue = [0, 2]'),\n",
       " Text(497.3161485974223, 272.25, 'gini = 0.0\\nsamples = 2\\nvalue = [2, 0]'),\n",
       " Text(497.3161485974223, 305.25, 'gini = 0.0\\nsamples = 2\\nvalue = [0, 2]'),\n",
       " Text(509.53752843062927, 354.75, 'X[2] <= 0.002\\ngini = 0.436\\nsamples = 53\\nvalue = [17, 36]'),\n",
       " Text(507.65731614859743, 338.25, 'gini = 0.0\\nsamples = 9\\nvalue = [0, 9]'),\n",
       " Text(511.4177407126611, 338.25, 'X[2] <= 0.005\\ngini = 0.474\\nsamples = 44\\nvalue = [17, 27]'),\n",
       " Text(506.7172100075815, 321.75, 'X[1] <= 0.024\\ngini = 0.408\\nsamples = 7\\nvalue = [5, 2]'),\n",
       " Text(504.8369977255497, 305.25, 'X[2] <= 0.004\\ngini = 0.444\\nsamples = 3\\nvalue = [1, 2]'),\n",
       " Text(502.95678544351784, 288.75, 'gini = 0.0\\nsamples = 2\\nvalue = [0, 2]'),\n",
       " Text(506.7172100075815, 288.75, 'gini = 0.0\\nsamples = 1\\nvalue = [1, 0]'),\n",
       " Text(508.59742228961335, 305.25, 'gini = 0.0\\nsamples = 4\\nvalue = [4, 0]'),\n",
       " Text(516.1182714177407, 321.75, 'X[0] <= -0.003\\ngini = 0.438\\nsamples = 37\\nvalue = [12, 25]'),\n",
       " Text(512.3578468536771, 305.25, 'X[0] <= -0.004\\ngini = 0.483\\nsamples = 27\\nvalue = [11, 16]'),\n",
       " Text(510.4776345716452, 288.75, 'X[2] <= 0.008\\ngini = 0.444\\nsamples = 24\\nvalue = [8, 16]'),\n",
       " Text(504.8369977255497, 272.25, 'X[0] <= -0.004\\ngini = 0.36\\nsamples = 17\\nvalue = [4, 13]'),\n",
       " Text(499.1963608794541, 255.75, 'X[0] <= -0.004\\ngini = 0.5\\nsamples = 6\\nvalue = [3, 3]'),\n",
       " Text(497.3161485974223, 239.25, 'gini = 0.0\\nsamples = 2\\nvalue = [0, 2]'),\n",
       " Text(501.07657316148595, 239.25, 'X[1] <= 0.009\\ngini = 0.375\\nsamples = 4\\nvalue = [3, 1]'),\n",
       " Text(499.1963608794541, 222.75, 'gini = 0.0\\nsamples = 1\\nvalue = [0, 1]'),\n",
       " Text(502.95678544351784, 222.75, 'gini = 0.0\\nsamples = 3\\nvalue = [3, 0]'),\n",
       " Text(510.4776345716452, 255.75, 'X[2] <= 0.006\\ngini = 0.165\\nsamples = 11\\nvalue = [1, 10]'),\n",
       " Text(508.59742228961335, 239.25, 'X[2] <= 0.006\\ngini = 0.375\\nsamples = 4\\nvalue = [1, 3]'),\n",
       " Text(506.7172100075815, 222.75, 'gini = 0.0\\nsamples = 3\\nvalue = [0, 3]'),\n",
       " Text(510.4776345716452, 222.75, 'gini = 0.0\\nsamples = 1\\nvalue = [1, 0]'),\n",
       " Text(512.3578468536771, 239.25, 'gini = 0.0\\nsamples = 7\\nvalue = [0, 7]'),\n",
       " Text(516.1182714177407, 272.25, 'X[0] <= -0.004\\ngini = 0.49\\nsamples = 7\\nvalue = [4, 3]'),\n",
       " Text(514.2380591357089, 255.75, 'gini = 0.0\\nsamples = 3\\nvalue = [0, 3]'),\n",
       " Text(517.9984836997726, 255.75, 'gini = 0.0\\nsamples = 4\\nvalue = [4, 0]'),\n",
       " Text(514.2380591357089, 288.75, 'gini = 0.0\\nsamples = 3\\nvalue = [3, 0]'),\n",
       " Text(519.8786959818044, 305.25, 'X[0] <= -0.003\\ngini = 0.18\\nsamples = 10\\nvalue = [1, 9]'),\n",
       " Text(517.9984836997726, 288.75, 'gini = 0.0\\nsamples = 7\\nvalue = [0, 7]'),\n",
       " Text(521.7589082638362, 288.75, 'X[0] <= -0.003\\ngini = 0.444\\nsamples = 3\\nvalue = [1, 2]'),\n",
       " Text(519.8786959818044, 272.25, 'gini = 0.0\\nsamples = 1\\nvalue = [1, 0]'),\n",
       " Text(523.6391205458681, 272.25, 'gini = 0.0\\nsamples = 2\\nvalue = [0, 2]'),\n",
       " Text(585.8036391205459, 387.75, 'X[0] <= -0.002\\ngini = 0.496\\nsamples = 187\\nvalue = [102, 85]'),\n",
       " Text(565.7088703563305, 371.25, 'X[0] <= -0.002\\ngini = 0.472\\nsamples = 123\\nvalue = [76, 47]'),\n",
       " Text(543.8514025777104, 354.75, 'X[0] <= -0.003\\ngini = 0.486\\nsamples = 106\\nvalue = [62, 44]'),\n",
       " Text(529.2797573919636, 338.25, 'X[1] <= 0.013\\ngini = 0.219\\nsamples = 8\\nvalue = [7, 1]'),\n",
       " Text(527.3995451099318, 321.75, 'X[0] <= -0.003\\ngini = 0.5\\nsamples = 2\\nvalue = [1, 1]'),\n",
       " Text(525.5193328278999, 305.25, 'gini = 0.0\\nsamples = 1\\nvalue = [0, 1]'),\n",
       " Text(529.2797573919636, 305.25, 'gini = 0.0\\nsamples = 1\\nvalue = [1, 0]'),\n",
       " Text(531.1599696739954, 321.75, 'gini = 0.0\\nsamples = 6\\nvalue = [6, 0]'),\n",
       " Text(558.4230477634571, 338.25, 'X[1] <= 0.012\\ngini = 0.493\\nsamples = 98\\nvalue = [55, 43]'),\n",
       " Text(539.1508718726308, 321.75, 'X[2] <= 0.006\\ngini = 0.432\\nsamples = 38\\nvalue = [26, 12]'),\n",
       " Text(533.0401819560273, 305.25, 'X[2] <= 0.006\\ngini = 0.498\\nsamples = 15\\nvalue = [7, 8]'),\n",
       " Text(531.1599696739954, 288.75, 'X[2] <= 0.003\\ngini = 0.486\\nsamples = 12\\nvalue = [7, 5]'),\n",
       " Text(527.3995451099318, 272.25, 'X[1] <= 0.011\\ngini = 0.375\\nsamples = 4\\nvalue = [1, 3]'),\n",
       " Text(525.5193328278999, 255.75, 'gini = 0.0\\nsamples = 3\\nvalue = [0, 3]'),\n",
       " Text(529.2797573919636, 255.75, 'gini = 0.0\\nsamples = 1\\nvalue = [1, 0]'),\n",
       " Text(534.9203942380591, 272.25, 'X[1] <= 0.007\\ngini = 0.375\\nsamples = 8\\nvalue = [6, 2]'),\n",
       " Text(533.0401819560273, 255.75, 'X[1] <= 0.004\\ngini = 0.5\\nsamples = 4\\nvalue = [2, 2]'),\n",
       " Text(531.1599696739954, 239.25, 'gini = 0.0\\nsamples = 1\\nvalue = [1, 0]'),\n",
       " Text(534.9203942380591, 239.25, 'X[2] <= 0.004\\ngini = 0.444\\nsamples = 3\\nvalue = [1, 2]'),\n",
       " Text(533.0401819560273, 222.75, 'gini = 0.0\\nsamples = 1\\nvalue = [0, 1]'),\n",
       " Text(536.800606520091, 222.75, 'X[0] <= -0.002\\ngini = 0.5\\nsamples = 2\\nvalue = [1, 1]'),\n",
       " Text(534.9203942380591, 206.25, 'gini = 0.0\\nsamples = 1\\nvalue = [1, 0]'),\n",
       " Text(538.6808188021229, 206.25, 'gini = 0.0\\nsamples = 1\\nvalue = [0, 1]'),\n",
       " Text(536.800606520091, 255.75, 'gini = 0.0\\nsamples = 4\\nvalue = [4, 0]'),\n",
       " Text(534.9203942380591, 288.75, 'gini = 0.0\\nsamples = 3\\nvalue = [0, 3]'),\n",
       " Text(545.2615617892343, 305.25, 'X[0] <= -0.003\\ngini = 0.287\\nsamples = 23\\nvalue = [19, 4]'),\n",
       " Text(540.5610310841547, 288.75, 'X[1] <= 0.005\\ngini = 0.444\\nsamples = 3\\nvalue = [1, 2]'),\n",
       " Text(538.6808188021229, 272.25, 'gini = 0.0\\nsamples = 1\\nvalue = [1, 0]'),\n",
       " Text(542.4412433661865, 272.25, 'gini = 0.0\\nsamples = 2\\nvalue = [0, 2]'),\n",
       " Text(549.9620924943139, 288.75, 'X[2] <= 0.009\\ngini = 0.18\\nsamples = 20\\nvalue = [18, 2]'),\n",
       " Text(546.2016679302502, 272.25, 'X[0] <= -0.002\\ngini = 0.111\\nsamples = 17\\nvalue = [16, 1]'),\n",
       " Text(544.3214556482184, 255.75, 'gini = 0.0\\nsamples = 14\\nvalue = [14, 0]'),\n",
       " Text(548.081880212282, 255.75, 'X[0] <= -0.002\\ngini = 0.444\\nsamples = 3\\nvalue = [2, 1]'),\n",
       " Text(546.2016679302502, 239.25, 'gini = 0.0\\nsamples = 1\\nvalue = [0, 1]'),\n",
       " Text(549.9620924943139, 239.25, 'gini = 0.0\\nsamples = 2\\nvalue = [2, 0]'),\n",
       " Text(553.7225170583775, 272.25, 'X[2] <= 0.009\\ngini = 0.444\\nsamples = 3\\nvalue = [2, 1]'),\n",
       " Text(551.8423047763457, 255.75, 'gini = 0.0\\nsamples = 1\\nvalue = [0, 1]'),\n",
       " Text(555.6027293404094, 255.75, 'gini = 0.0\\nsamples = 2\\nvalue = [2, 0]'),\n",
       " Text(577.6952236542836, 321.75, 'X[1] <= 0.074\\ngini = 0.499\\nsamples = 60\\nvalue = [29, 31]'),\n",
       " Text(569.7043214556483, 305.25, 'X[0] <= -0.003\\ngini = 0.48\\nsamples = 45\\nvalue = [18, 27]'),\n",
       " Text(565.0037907505687, 288.75, 'X[0] <= -0.003\\ngini = 0.475\\nsamples = 18\\nvalue = [11, 7]'),\n",
       " Text(563.1235784685367, 272.25, 'X[1] <= 0.019\\ngini = 0.463\\nsamples = 11\\nvalue = [4, 7]'),\n",
       " Text(559.363153904473, 255.75, 'X[1] <= 0.017\\ngini = 0.444\\nsamples = 3\\nvalue = [2, 1]'),\n",
       " Text(557.4829416224412, 239.25, 'gini = 0.0\\nsamples = 1\\nvalue = [0, 1]'),\n",
       " Text(561.2433661865049, 239.25, 'gini = 0.0\\nsamples = 2\\nvalue = [2, 0]'),\n",
       " Text(566.8840030326005, 255.75, 'X[2] <= 0.009\\ngini = 0.375\\nsamples = 8\\nvalue = [2, 6]'),\n",
       " Text(565.0037907505687, 239.25, 'X[0] <= -0.003\\ngini = 0.245\\nsamples = 7\\nvalue = [1, 6]'),\n",
       " Text(563.1235784685367, 222.75, 'X[0] <= -0.003\\ngini = 0.5\\nsamples = 2\\nvalue = [1, 1]'),\n",
       " Text(561.2433661865049, 206.25, 'gini = 0.0\\nsamples = 1\\nvalue = [0, 1]'),\n",
       " Text(565.0037907505687, 206.25, 'gini = 0.0\\nsamples = 1\\nvalue = [1, 0]'),\n",
       " Text(566.8840030326005, 222.75, 'gini = 0.0\\nsamples = 5\\nvalue = [0, 5]'),\n",
       " Text(568.7642153146323, 239.25, 'gini = 0.0\\nsamples = 1\\nvalue = [1, 0]'),\n",
       " Text(566.8840030326005, 272.25, 'gini = 0.0\\nsamples = 7\\nvalue = [7, 0]'),\n",
       " Text(574.4048521607278, 288.75, 'X[0] <= -0.002\\ngini = 0.384\\nsamples = 27\\nvalue = [7, 20]'),\n",
       " Text(572.524639878696, 272.25, 'X[0] <= -0.003\\ngini = 0.444\\nsamples = 21\\nvalue = [7, 14]'),\n",
       " Text(570.6444275966642, 255.75, 'gini = 0.0\\nsamples = 5\\nvalue = [0, 5]'),\n",
       " Text(574.4048521607278, 255.75, 'X[0] <= -0.002\\ngini = 0.492\\nsamples = 16\\nvalue = [7, 9]'),\n",
       " Text(572.524639878696, 239.25, 'gini = 0.0\\nsamples = 2\\nvalue = [2, 0]'),\n",
       " Text(576.2850644427597, 239.25, 'X[0] <= -0.002\\ngini = 0.459\\nsamples = 14\\nvalue = [5, 9]'),\n",
       " Text(574.4048521607278, 222.75, 'X[2] <= 0.003\\ngini = 0.426\\nsamples = 13\\nvalue = [4, 9]'),\n",
       " Text(570.6444275966642, 206.25, 'X[2] <= 0.001\\ngini = 0.444\\nsamples = 3\\nvalue = [2, 1]'),\n",
       " Text(568.7642153146323, 189.75, 'gini = 0.0\\nsamples = 1\\nvalue = [0, 1]'),\n",
       " Text(572.524639878696, 189.75, 'gini = 0.0\\nsamples = 2\\nvalue = [2, 0]'),\n",
       " Text(578.1652767247915, 206.25, 'X[2] <= 0.007\\ngini = 0.32\\nsamples = 10\\nvalue = [2, 8]'),\n",
       " Text(576.2850644427597, 189.75, 'gini = 0.0\\nsamples = 6\\nvalue = [0, 6]'),\n",
       " Text(580.0454890068233, 189.75, 'X[0] <= -0.002\\ngini = 0.5\\nsamples = 4\\nvalue = [2, 2]'),\n",
       " Text(578.1652767247915, 173.25, 'gini = 0.0\\nsamples = 2\\nvalue = [0, 2]'),\n",
       " Text(581.9257012888552, 173.25, 'gini = 0.0\\nsamples = 2\\nvalue = [2, 0]'),\n",
       " Text(578.1652767247915, 222.75, 'gini = 0.0\\nsamples = 1\\nvalue = [1, 0]'),\n",
       " Text(576.2850644427597, 272.25, 'gini = 0.0\\nsamples = 6\\nvalue = [0, 6]'),\n",
       " Text(585.6861258529188, 305.25, 'X[2] <= 0.008\\ngini = 0.391\\nsamples = 15\\nvalue = [11, 4]'),\n",
       " Text(581.9257012888552, 288.75, 'X[1] <= 0.126\\ngini = 0.18\\nsamples = 10\\nvalue = [9, 1]'),\n",
       " Text(580.0454890068233, 272.25, 'gini = 0.0\\nsamples = 9\\nvalue = [9, 0]'),\n",
       " Text(583.805913570887, 272.25, 'gini = 0.0\\nsamples = 1\\nvalue = [0, 1]'),\n",
       " Text(589.4465504169825, 288.75, 'X[0] <= -0.003\\ngini = 0.48\\nsamples = 5\\nvalue = [2, 3]'),\n",
       " Text(587.5663381349507, 272.25, 'gini = 0.0\\nsamples = 1\\nvalue = [1, 0]'),\n",
       " Text(591.3267626990144, 272.25, 'X[0] <= -0.002\\ngini = 0.375\\nsamples = 4\\nvalue = [1, 3]'),\n",
       " Text(589.4465504169825, 255.75, 'gini = 0.0\\nsamples = 3\\nvalue = [0, 3]'),\n",
       " Text(593.2069749810463, 255.75, 'gini = 0.0\\nsamples = 1\\nvalue = [1, 0]'),\n",
       " Text(587.5663381349507, 354.75, 'X[0] <= -0.002\\ngini = 0.291\\nsamples = 17\\nvalue = [14, 3]'),\n",
       " Text(585.6861258529188, 338.25, 'gini = 0.0\\nsamples = 7\\nvalue = [7, 0]'),\n",
       " Text(589.4465504169825, 338.25, 'X[0] <= -0.002\\ngini = 0.42\\nsamples = 10\\nvalue = [7, 3]'),\n",
       " Text(587.5663381349507, 321.75, 'gini = 0.0\\nsamples = 2\\nvalue = [0, 2]'),\n",
       " Text(591.3267626990144, 321.75, 'X[1] <= 0.01\\ngini = 0.219\\nsamples = 8\\nvalue = [7, 1]'),\n",
       " Text(589.4465504169825, 305.25, 'gini = 0.0\\nsamples = 1\\nvalue = [0, 1]'),\n",
       " Text(593.2069749810463, 305.25, 'gini = 0.0\\nsamples = 7\\nvalue = [7, 0]'),\n",
       " Text(605.8984078847612, 371.25, 'X[0] <= -0.001\\ngini = 0.482\\nsamples = 64\\nvalue = [26, 38]'),\n",
       " Text(596.96739954511, 354.75, 'X[1] <= 0.391\\ngini = 0.153\\nsamples = 12\\nvalue = [1, 11]'),\n",
       " Text(595.0871872630781, 338.25, 'gini = 0.0\\nsamples = 11\\nvalue = [0, 11]'),\n",
       " Text(598.8476118271418, 338.25, 'gini = 0.0\\nsamples = 1\\nvalue = [1, 0]'),\n",
       " Text(614.8294162244124, 354.75, 'X[2] <= 0.003\\ngini = 0.499\\nsamples = 52\\nvalue = [25, 27]'),\n",
       " Text(602.6080363912055, 338.25, 'X[2] <= 0.001\\ngini = 0.375\\nsamples = 12\\nvalue = [3, 9]'),\n",
       " Text(598.8476118271418, 321.75, 'X[2] <= 0.001\\ngini = 0.5\\nsamples = 4\\nvalue = [2, 2]'),\n",
       " Text(596.96739954511, 305.25, 'gini = 0.0\\nsamples = 2\\nvalue = [0, 2]'),\n",
       " Text(600.7278241091736, 305.25, 'gini = 0.0\\nsamples = 2\\nvalue = [2, 0]'),\n",
       " Text(606.3684609552691, 321.75, 'X[1] <= 0.178\\ngini = 0.219\\nsamples = 8\\nvalue = [1, 7]'),\n",
       " Text(604.4882486732373, 305.25, 'gini = 0.0\\nsamples = 6\\nvalue = [0, 6]'),\n",
       " Text(608.248673237301, 305.25, 'X[1] <= 0.378\\ngini = 0.5\\nsamples = 2\\nvalue = [1, 1]'),\n",
       " Text(606.3684609552691, 288.75, 'gini = 0.0\\nsamples = 1\\nvalue = [1, 0]'),\n",
       " Text(610.1288855193328, 288.75, 'gini = 0.0\\nsamples = 1\\nvalue = [0, 1]'),\n",
       " Text(627.0507960576194, 338.25, 'X[0] <= -0.001\\ngini = 0.495\\nsamples = 40\\nvalue = [22, 18]'),\n",
       " Text(619.5299469294921, 321.75, 'X[0] <= -0.001\\ngini = 0.469\\nsamples = 16\\nvalue = [6, 10]'),\n",
       " Text(615.7695223654283, 305.25, 'X[1] <= 0.017\\ngini = 0.375\\nsamples = 4\\nvalue = [3, 1]'),\n",
       " Text(613.8893100833965, 288.75, 'gini = 0.0\\nsamples = 1\\nvalue = [0, 1]'),\n",
       " Text(617.6497346474601, 288.75, 'gini = 0.0\\nsamples = 3\\nvalue = [3, 0]'),\n",
       " Text(623.2903714935558, 305.25, 'X[1] <= 1.188\\ngini = 0.375\\nsamples = 12\\nvalue = [3, 9]'),\n",
       " Text(621.4101592115239, 288.75, 'X[1] <= 0.041\\ngini = 0.298\\nsamples = 11\\nvalue = [2, 9]'),\n",
       " Text(619.5299469294921, 272.25, 'X[2] <= 0.008\\ngini = 0.444\\nsamples = 6\\nvalue = [2, 4]'),\n",
       " Text(617.6497346474601, 255.75, 'X[0] <= -0.001\\ngini = 0.32\\nsamples = 5\\nvalue = [1, 4]'),\n",
       " Text(615.7695223654283, 239.25, 'X[2] <= 0.006\\ngini = 0.5\\nsamples = 2\\nvalue = [1, 1]'),\n",
       " Text(613.8893100833965, 222.75, 'gini = 0.0\\nsamples = 1\\nvalue = [1, 0]'),\n",
       " Text(617.6497346474601, 222.75, 'gini = 0.0\\nsamples = 1\\nvalue = [0, 1]'),\n",
       " Text(619.5299469294921, 239.25, 'gini = 0.0\\nsamples = 3\\nvalue = [0, 3]'),\n",
       " Text(621.4101592115239, 255.75, 'gini = 0.0\\nsamples = 1\\nvalue = [1, 0]'),\n",
       " Text(623.2903714935558, 272.25, 'gini = 0.0\\nsamples = 5\\nvalue = [0, 5]'),\n",
       " Text(625.1705837755876, 288.75, 'gini = 0.0\\nsamples = 1\\nvalue = [1, 0]'),\n",
       " Text(634.5716451857468, 321.75, 'X[1] <= 0.138\\ngini = 0.444\\nsamples = 24\\nvalue = [16, 8]'),\n",
       " Text(630.8112206216831, 305.25, 'X[0] <= -0.001\\ngini = 0.332\\nsamples = 19\\nvalue = [15, 4]'),\n",
       " Text(628.9310083396513, 288.75, 'X[1] <= 0.022\\ngini = 0.278\\nsamples = 18\\nvalue = [15, 3]'),\n",
       " Text(627.0507960576194, 272.25, 'X[1] <= 0.016\\ngini = 0.49\\nsamples = 7\\nvalue = [4, 3]'),\n",
       " Text(625.1705837755876, 255.75, 'X[0] <= -0.001\\ngini = 0.32\\nsamples = 5\\nvalue = [4, 1]'),\n",
       " Text(623.2903714935558, 239.25, 'gini = 0.0\\nsamples = 4\\nvalue = [4, 0]'),\n",
       " Text(627.0507960576194, 239.25, 'gini = 0.0\\nsamples = 1\\nvalue = [0, 1]'),\n",
       " Text(628.9310083396513, 255.75, 'gini = 0.0\\nsamples = 2\\nvalue = [0, 2]'),\n",
       " Text(630.8112206216831, 272.25, 'gini = 0.0\\nsamples = 11\\nvalue = [11, 0]'),\n",
       " Text(632.6914329037149, 288.75, 'gini = 0.0\\nsamples = 1\\nvalue = [0, 1]'),\n",
       " Text(638.3320697498104, 305.25, 'X[2] <= 0.005\\ngini = 0.32\\nsamples = 5\\nvalue = [1, 4]'),\n",
       " Text(636.4518574677786, 288.75, 'gini = 0.0\\nsamples = 1\\nvalue = [1, 0]'),\n",
       " Text(640.2122820318423, 288.75, 'gini = 0.0\\nsamples = 4\\nvalue = [0, 4]'),\n",
       " Text(692.0246161865049, 404.25, 'X[2] <= 0.007\\ngini = 0.409\\nsamples = 223\\nvalue = [159, 64]'),\n",
       " Text(673.0939632297195, 387.75, 'X[2] <= 0.007\\ngini = 0.435\\nsamples = 188\\nvalue = [128, 60]'),\n",
       " Text(656.5025587566338, 371.25, 'X[1] <= 0.035\\ngini = 0.417\\nsamples = 179\\nvalue = [126, 53]'),\n",
       " Text(643.972706595906, 354.75, 'X[2] <= 0.002\\ngini = 0.263\\nsamples = 45\\nvalue = [38, 7]'),\n",
       " Text(642.0924943138741, 338.25, 'gini = 0.0\\nsamples = 19\\nvalue = [19, 0]'),\n",
       " Text(645.8529188779378, 338.25, 'X[2] <= 0.002\\ngini = 0.393\\nsamples = 26\\nvalue = [19, 7]'),\n",
       " Text(643.972706595906, 321.75, 'gini = 0.0\\nsamples = 3\\nvalue = [0, 3]'),\n",
       " Text(647.7331311599697, 321.75, 'X[1] <= 0.026\\ngini = 0.287\\nsamples = 23\\nvalue = [19, 4]'),\n",
       " Text(645.8529188779378, 305.25, 'X[1] <= 0.021\\ngini = 0.463\\nsamples = 11\\nvalue = [7, 4]'),\n",
       " Text(643.972706595906, 288.75, 'X[2] <= 0.003\\ngini = 0.346\\nsamples = 9\\nvalue = [7, 2]'),\n",
       " Text(642.0924943138741, 272.25, 'X[1] <= 0.017\\ngini = 0.444\\nsamples = 3\\nvalue = [1, 2]'),\n",
       " Text(640.2122820318423, 255.75, 'gini = 0.0\\nsamples = 1\\nvalue = [1, 0]'),\n",
       " Text(643.972706595906, 255.75, 'gini = 0.0\\nsamples = 2\\nvalue = [0, 2]'),\n",
       " Text(645.8529188779378, 272.25, 'gini = 0.0\\nsamples = 6\\nvalue = [6, 0]'),\n",
       " Text(647.7331311599697, 288.75, 'gini = 0.0\\nsamples = 2\\nvalue = [0, 2]'),\n",
       " Text(649.6133434420016, 305.25, 'gini = 0.0\\nsamples = 12\\nvalue = [12, 0]'),\n",
       " Text(669.0324109173616, 354.75, 'X[0] <= -0.0\\ngini = 0.451\\nsamples = 134\\nvalue = [88, 46]'),\n",
       " Text(659.0144048521607, 338.25, 'X[0] <= -0.001\\ngini = 0.494\\nsamples = 18\\nvalue = [8, 10]'),\n",
       " Text(655.2539802880971, 321.75, 'X[1] <= 0.049\\ngini = 0.32\\nsamples = 5\\nvalue = [4, 1]'),\n",
       " Text(653.3737680060652, 305.25, 'gini = 0.0\\nsamples = 1\\nvalue = [0, 1]'),\n",
       " Text(657.1341925701289, 305.25, 'gini = 0.0\\nsamples = 4\\nvalue = [4, 0]'),\n",
       " Text(662.7748294162244, 321.75, 'X[2] <= 0.002\\ngini = 0.426\\nsamples = 13\\nvalue = [4, 9]'),\n",
       " Text(660.8946171341926, 305.25, 'X[2] <= 0.002\\ngini = 0.49\\nsamples = 7\\nvalue = [4, 3]'),\n",
       " Text(659.0144048521607, 288.75, 'X[1] <= 0.129\\ngini = 0.48\\nsamples = 5\\nvalue = [2, 3]'),\n",
       " Text(657.1341925701289, 272.25, 'gini = 0.0\\nsamples = 2\\nvalue = [0, 2]'),\n",
       " Text(660.8946171341926, 272.25, 'X[1] <= 0.28\\ngini = 0.444\\nsamples = 3\\nvalue = [2, 1]'),\n",
       " Text(659.0144048521607, 255.75, 'gini = 0.0\\nsamples = 2\\nvalue = [2, 0]'),\n",
       " Text(662.7748294162244, 255.75, 'gini = 0.0\\nsamples = 1\\nvalue = [0, 1]'),\n",
       " Text(662.7748294162244, 288.75, 'gini = 0.0\\nsamples = 2\\nvalue = [2, 0]'),\n",
       " Text(664.6550416982562, 305.25, 'gini = 0.0\\nsamples = 6\\nvalue = [0, 6]'),\n",
       " Text(679.0504169825625, 338.25, 'X[1] <= 0.037\\ngini = 0.428\\nsamples = 116\\nvalue = [80, 36]'),\n",
       " Text(670.2956785443517, 321.75, 'X[0] <= 0.0\\ngini = 0.469\\nsamples = 8\\nvalue = [3, 5]'),\n",
       " Text(668.4154662623199, 305.25, 'gini = 0.0\\nsamples = 1\\nvalue = [1, 0]'),\n",
       " Text(672.1758908263836, 305.25, 'X[1] <= 0.036\\ngini = 0.408\\nsamples = 7\\nvalue = [2, 5]'),\n",
       " Text(670.2956785443517, 288.75, 'X[1] <= 0.036\\ngini = 0.444\\nsamples = 3\\nvalue = [2, 1]'),\n",
       " Text(668.4154662623199, 272.25, 'gini = 0.0\\nsamples = 1\\nvalue = [0, 1]'),\n",
       " Text(672.1758908263836, 272.25, 'gini = 0.0\\nsamples = 2\\nvalue = [2, 0]'),\n",
       " Text(674.0561031084155, 288.75, 'gini = 0.0\\nsamples = 4\\nvalue = [0, 4]'),\n",
       " Text(687.8051554207733, 321.75, 'X[2] <= 0.003\\ngini = 0.409\\nsamples = 108\\nvalue = [77, 31]'),\n",
       " Text(679.696739954511, 305.25, 'X[2] <= 0.002\\ngini = 0.334\\nsamples = 52\\nvalue = [41, 11]'),\n",
       " Text(677.8165276724792, 288.75, 'X[2] <= 0.002\\ngini = 0.375\\nsamples = 44\\nvalue = [33, 11]'),\n",
       " Text(675.9363153904474, 272.25, 'X[1] <= 0.356\\ngini = 0.357\\nsamples = 43\\nvalue = [33, 10]'),\n",
       " Text(668.180439727066, 255.75, 'X[1] <= 0.059\\ngini = 0.32\\nsamples = 40\\nvalue = [32, 8]'),\n",
       " Text(658.3093252463988, 239.25, 'X[1] <= 0.049\\ngini = 0.463\\nsamples = 11\\nvalue = [7, 4]'),\n",
       " Text(656.4291129643669, 222.75, 'gini = 0.0\\nsamples = 4\\nvalue = [4, 0]'),\n",
       " Text(660.1895375284306, 222.75, 'X[1] <= 0.052\\ngini = 0.49\\nsamples = 7\\nvalue = [3, 4]'),\n",
       " Text(658.3093252463988, 206.25, 'gini = 0.0\\nsamples = 2\\nvalue = [0, 2]'),\n",
       " Text(662.0697498104624, 206.25, 'X[2] <= 0.001\\ngini = 0.48\\nsamples = 5\\nvalue = [3, 2]'),\n",
       " Text(660.1895375284306, 189.75, 'gini = 0.0\\nsamples = 2\\nvalue = [2, 0]'),\n",
       " Text(663.9499620924943, 189.75, 'X[1] <= 0.053\\ngini = 0.444\\nsamples = 3\\nvalue = [1, 2]'),\n",
       " Text(662.0697498104624, 173.25, 'gini = 0.0\\nsamples = 1\\nvalue = [1, 0]'),\n",
       " Text(665.8301743745261, 173.25, 'gini = 0.0\\nsamples = 2\\nvalue = [0, 2]'),\n",
       " Text(678.0515542077331, 239.25, 'X[0] <= 0.001\\ngini = 0.238\\nsamples = 29\\nvalue = [25, 4]'),\n",
       " Text(673.3510235026536, 222.75, 'X[0] <= 0.0\\ngini = 0.397\\nsamples = 11\\nvalue = [8, 3]'),\n",
       " Text(669.5905989385899, 206.25, 'X[2] <= 0.002\\ngini = 0.219\\nsamples = 8\\nvalue = [7, 1]'),\n",
       " Text(667.7103866565581, 189.75, 'gini = 0.0\\nsamples = 5\\nvalue = [5, 0]'),\n",
       " Text(671.4708112206217, 189.75, 'X[2] <= 0.002\\ngini = 0.444\\nsamples = 3\\nvalue = [2, 1]'),\n",
       " Text(669.5905989385899, 173.25, 'gini = 0.0\\nsamples = 1\\nvalue = [0, 1]'),\n",
       " Text(673.3510235026536, 173.25, 'gini = 0.0\\nsamples = 2\\nvalue = [2, 0]'),\n",
       " Text(677.1114480667172, 206.25, 'X[1] <= 0.072\\ngini = 0.444\\nsamples = 3\\nvalue = [1, 2]'),\n",
       " Text(675.2312357846854, 189.75, 'gini = 0.0\\nsamples = 1\\nvalue = [1, 0]'),\n",
       " Text(678.9916603487491, 189.75, 'gini = 0.0\\nsamples = 2\\nvalue = [0, 2]'),\n",
       " Text(682.7520849128127, 222.75, 'X[0] <= 0.003\\ngini = 0.105\\nsamples = 18\\nvalue = [17, 1]'),\n",
       " Text(680.8718726307809, 206.25, 'gini = 0.0\\nsamples = 14\\nvalue = [14, 0]'),\n",
       " Text(684.6322971948446, 206.25, 'X[0] <= 0.004\\ngini = 0.375\\nsamples = 4\\nvalue = [3, 1]'),\n",
       " Text(682.7520849128127, 189.75, 'gini = 0.0\\nsamples = 1\\nvalue = [0, 1]'),\n",
       " Text(686.5125094768764, 189.75, 'gini = 0.0\\nsamples = 3\\nvalue = [3, 0]'),\n",
       " Text(683.6921910538287, 255.75, 'X[2] <= 0.0\\ngini = 0.444\\nsamples = 3\\nvalue = [1, 2]'),\n",
       " Text(681.8119787717968, 239.25, 'gini = 0.0\\nsamples = 1\\nvalue = [1, 0]'),\n",
       " Text(685.5724033358605, 239.25, 'gini = 0.0\\nsamples = 2\\nvalue = [0, 2]'),\n",
       " Text(679.696739954511, 272.25, 'gini = 0.0\\nsamples = 1\\nvalue = [0, 1]'),\n",
       " Text(681.5769522365429, 288.75, 'gini = 0.0\\nsamples = 8\\nvalue = [8, 0]'),\n",
       " Text(695.9135708870357, 305.25, 'X[2] <= 0.003\\ngini = 0.459\\nsamples = 56\\nvalue = [36, 20]'),\n",
       " Text(688.3927217589082, 288.75, 'X[1] <= 0.06\\ngini = 0.32\\nsamples = 5\\nvalue = [1, 4]'),\n",
       " Text(686.5125094768764, 272.25, 'gini = 0.0\\nsamples = 1\\nvalue = [1, 0]'),\n",
       " Text(690.2729340409401, 272.25, 'gini = 0.0\\nsamples = 4\\nvalue = [0, 4]'),\n",
       " Text(703.434420015163, 288.75, 'X[1] <= 0.251\\ngini = 0.431\\nsamples = 51\\nvalue = [35, 16]'),\n",
       " Text(694.0333586050037, 272.25, 'X[0] <= 0.0\\ngini = 0.368\\nsamples = 37\\nvalue = [28, 9]'),\n",
       " Text(692.1531463229719, 255.75, 'gini = 0.0\\nsamples = 11\\nvalue = [11, 0]'),\n",
       " Text(695.9135708870357, 255.75, 'X[0] <= 0.001\\ngini = 0.453\\nsamples = 26\\nvalue = [17, 9]'),\n",
       " Text(694.0333586050037, 239.25, 'gini = 0.0\\nsamples = 2\\nvalue = [0, 2]'),\n",
       " Text(697.7937831690675, 239.25, 'X[0] <= 0.004\\ngini = 0.413\\nsamples = 24\\nvalue = [17, 7]'),\n",
       " Text(695.9135708870357, 222.75, 'X[0] <= 0.003\\ngini = 0.465\\nsamples = 19\\nvalue = [12, 7]'),\n",
       " Text(692.1531463229719, 206.25, 'X[2] <= 0.005\\ngini = 0.337\\nsamples = 14\\nvalue = [11, 3]'),\n",
       " Text(690.2729340409401, 189.75, 'X[2] <= 0.004\\ngini = 0.444\\nsamples = 9\\nvalue = [6, 3]'),\n",
       " Text(688.3927217589082, 173.25, 'X[1] <= 0.103\\ngini = 0.245\\nsamples = 7\\nvalue = [6, 1]'),\n",
       " Text(686.5125094768764, 156.75, 'gini = 0.0\\nsamples = 6\\nvalue = [6, 0]'),\n",
       " Text(690.2729340409401, 156.75, 'gini = 0.0\\nsamples = 1\\nvalue = [0, 1]'),\n",
       " Text(692.1531463229719, 173.25, 'gini = 0.0\\nsamples = 2\\nvalue = [0, 2]'),\n",
       " Text(694.0333586050037, 189.75, 'gini = 0.0\\nsamples = 5\\nvalue = [5, 0]'),\n",
       " Text(699.6739954510994, 206.25, 'X[2] <= 0.004\\ngini = 0.32\\nsamples = 5\\nvalue = [1, 4]'),\n",
       " Text(697.7937831690675, 189.75, 'gini = 0.0\\nsamples = 1\\nvalue = [1, 0]'),\n",
       " Text(701.5542077331312, 189.75, 'gini = 0.0\\nsamples = 4\\nvalue = [0, 4]'),\n",
       " Text(699.6739954510994, 222.75, 'gini = 0.0\\nsamples = 5\\nvalue = [5, 0]'),\n",
       " Text(712.8354814253222, 272.25, 'X[0] <= 0.0\\ngini = 0.5\\nsamples = 14\\nvalue = [7, 7]'),\n",
       " Text(710.9552691432904, 255.75, 'X[0] <= -0.0\\ngini = 0.463\\nsamples = 11\\nvalue = [7, 4]'),\n",
       " Text(709.0750568612585, 239.25, 'X[0] <= -0.0\\ngini = 0.5\\nsamples = 8\\nvalue = [4, 4]'),\n",
       " Text(705.3146322971949, 222.75, 'X[2] <= 0.005\\ngini = 0.375\\nsamples = 4\\nvalue = [3, 1]'),\n",
       " Text(703.434420015163, 206.25, 'gini = 0.0\\nsamples = 3\\nvalue = [3, 0]'),\n",
       " Text(707.1948445792267, 206.25, 'gini = 0.0\\nsamples = 1\\nvalue = [0, 1]'),\n",
       " Text(712.8354814253222, 222.75, 'X[2] <= 0.005\\ngini = 0.375\\nsamples = 4\\nvalue = [1, 3]'),\n",
       " Text(710.9552691432904, 206.25, 'gini = 0.0\\nsamples = 3\\nvalue = [0, 3]'),\n",
       " Text(714.715693707354, 206.25, 'gini = 0.0\\nsamples = 1\\nvalue = [1, 0]'),\n",
       " Text(712.8354814253222, 239.25, 'gini = 0.0\\nsamples = 3\\nvalue = [3, 0]'),\n",
       " Text(714.715693707354, 255.75, 'gini = 0.0\\nsamples = 3\\nvalue = [0, 3]'),\n",
       " Text(689.6853677028051, 371.25, 'X[2] <= 0.007\\ngini = 0.346\\nsamples = 9\\nvalue = [2, 7]'),\n",
       " Text(687.8051554207733, 354.75, 'gini = 0.0\\nsamples = 4\\nvalue = [0, 4]'),\n",
       " Text(691.565579984837, 354.75, 'X[1] <= 0.121\\ngini = 0.48\\nsamples = 5\\nvalue = [2, 3]'),\n",
       " Text(689.6853677028051, 338.25, 'gini = 0.0\\nsamples = 2\\nvalue = [0, 2]'),\n",
       " Text(693.4457922668688, 338.25, 'X[1] <= 1.032\\ngini = 0.444\\nsamples = 3\\nvalue = [2, 1]'),\n",
       " Text(691.565579984837, 321.75, 'gini = 0.0\\nsamples = 2\\nvalue = [2, 0]'),\n",
       " Text(695.3260045489006, 321.75, 'gini = 0.0\\nsamples = 1\\nvalue = [0, 1]'),\n",
       " Text(710.9552691432904, 387.75, 'X[0] <= 0.0\\ngini = 0.202\\nsamples = 35\\nvalue = [31, 4]'),\n",
       " Text(709.0750568612585, 371.25, 'gini = 0.0\\nsamples = 18\\nvalue = [18, 0]'),\n",
       " Text(712.8354814253222, 371.25, 'X[2] <= 0.009\\ngini = 0.36\\nsamples = 17\\nvalue = [13, 4]'),\n",
       " Text(710.9552691432904, 354.75, 'X[0] <= 0.002\\ngini = 0.231\\nsamples = 15\\nvalue = [13, 2]'),\n",
       " Text(709.0750568612585, 338.25, 'X[0] <= 0.001\\ngini = 0.375\\nsamples = 8\\nvalue = [6, 2]'),\n",
       " Text(707.1948445792267, 321.75, 'X[0] <= 0.001\\ngini = 0.245\\nsamples = 7\\nvalue = [6, 1]'),\n",
       " Text(705.3146322971949, 305.25, 'gini = 0.0\\nsamples = 4\\nvalue = [4, 0]'),\n",
       " Text(709.0750568612585, 305.25, 'X[2] <= 0.008\\ngini = 0.444\\nsamples = 3\\nvalue = [2, 1]'),\n",
       " Text(707.1948445792267, 288.75, 'gini = 0.0\\nsamples = 1\\nvalue = [0, 1]'),\n",
       " Text(710.9552691432904, 288.75, 'gini = 0.0\\nsamples = 2\\nvalue = [2, 0]'),\n",
       " Text(710.9552691432904, 321.75, 'gini = 0.0\\nsamples = 1\\nvalue = [0, 1]'),\n",
       " Text(712.8354814253222, 338.25, 'gini = 0.0\\nsamples = 7\\nvalue = [7, 0]'),\n",
       " Text(714.715693707354, 354.75, 'gini = 0.0\\nsamples = 2\\nvalue = [0, 2]'),\n",
       " Text(836.6577426080364, 420.75, 'X[0] <= -0.004\\ngini = 0.32\\nsamples = 601\\nvalue = [481, 120]'),\n",
       " Text(778.8191811978772, 404.25, 'X[2] <= 0.019\\ngini = 0.384\\nsamples = 332\\nvalue = [246, 86]'),\n",
       " Text(745.3866565579984, 387.75, 'X[1] <= 0.012\\ngini = 0.492\\nsamples = 108\\nvalue = [61, 47]'),\n",
       " Text(725.0568612585292, 371.25, 'X[2] <= 0.012\\ngini = 0.368\\nsamples = 37\\nvalue = [28, 9]'),\n",
       " Text(718.4761182714177, 354.75, 'X[0] <= -0.005\\ngini = 0.444\\nsamples = 6\\nvalue = [2, 4]'),\n",
       " Text(716.5959059893859, 338.25, 'gini = 0.0\\nsamples = 3\\nvalue = [0, 3]'),\n",
       " Text(720.3563305534495, 338.25, 'X[2] <= 0.01\\ngini = 0.444\\nsamples = 3\\nvalue = [2, 1]'),\n",
       " Text(718.4761182714177, 321.75, 'gini = 0.0\\nsamples = 1\\nvalue = [0, 1]'),\n",
       " Text(722.2365428354815, 321.75, 'gini = 0.0\\nsamples = 2\\nvalue = [2, 0]'),\n",
       " Text(731.6376042456407, 354.75, 'X[2] <= 0.019\\ngini = 0.271\\nsamples = 31\\nvalue = [26, 5]'),\n",
       " Text(729.7573919636088, 338.25, 'X[1] <= 0.002\\ngini = 0.231\\nsamples = 30\\nvalue = [26, 4]'),\n",
       " Text(725.9969673995452, 321.75, 'X[2] <= 0.015\\ngini = 0.5\\nsamples = 2\\nvalue = [1, 1]'),\n",
       " Text(724.1167551175133, 305.25, 'gini = 0.0\\nsamples = 1\\nvalue = [0, 1]'),\n",
       " Text(727.877179681577, 305.25, 'gini = 0.0\\nsamples = 1\\nvalue = [1, 0]'),\n",
       " Text(733.5178165276725, 321.75, 'X[2] <= 0.018\\ngini = 0.191\\nsamples = 28\\nvalue = [25, 3]'),\n",
       " Text(731.6376042456407, 305.25, 'X[2] <= 0.018\\ngini = 0.278\\nsamples = 18\\nvalue = [15, 3]'),\n",
       " Text(729.7573919636088, 288.75, 'X[2] <= 0.012\\ngini = 0.208\\nsamples = 17\\nvalue = [15, 2]'),\n",
       " Text(725.9969673995452, 272.25, 'X[2] <= 0.012\\ngini = 0.444\\nsamples = 3\\nvalue = [2, 1]'),\n",
       " Text(724.1167551175133, 255.75, 'gini = 0.0\\nsamples = 2\\nvalue = [2, 0]'),\n",
       " Text(727.877179681577, 255.75, 'gini = 0.0\\nsamples = 1\\nvalue = [0, 1]'),\n",
       " Text(733.5178165276725, 272.25, 'X[0] <= -0.006\\ngini = 0.133\\nsamples = 14\\nvalue = [13, 1]'),\n",
       " Text(731.6376042456407, 255.75, 'X[2] <= 0.016\\ngini = 0.375\\nsamples = 4\\nvalue = [3, 1]'),\n",
       " Text(729.7573919636088, 239.25, 'gini = 0.0\\nsamples = 1\\nvalue = [0, 1]'),\n",
       " Text(733.5178165276725, 239.25, 'gini = 0.0\\nsamples = 3\\nvalue = [3, 0]'),\n",
       " Text(735.3980288097043, 255.75, 'gini = 0.0\\nsamples = 10\\nvalue = [10, 0]'),\n",
       " Text(733.5178165276725, 288.75, 'gini = 0.0\\nsamples = 1\\nvalue = [0, 1]'),\n",
       " Text(735.3980288097043, 305.25, 'gini = 0.0\\nsamples = 10\\nvalue = [10, 0]'),\n",
       " Text(733.5178165276725, 338.25, 'gini = 0.0\\nsamples = 1\\nvalue = [0, 1]'),\n",
       " Text(765.7164518574677, 371.25, 'X[0] <= -0.004\\ngini = 0.498\\nsamples = 71\\nvalue = [33, 38]'),\n",
       " Text(763.8362395754359, 354.75, 'X[2] <= 0.019\\ngini = 0.489\\nsamples = 66\\nvalue = [28, 38]'),\n",
       " Text(754.6702047005307, 338.25, 'X[1] <= 0.012\\ngini = 0.499\\nsamples = 57\\nvalue = [27, 30]'),\n",
       " Text(752.7899924184989, 321.75, 'gini = 0.0\\nsamples = 4\\nvalue = [0, 4]'),\n",
       " Text(756.5504169825625, 321.75, 'X[0] <= -0.005\\ngini = 0.5\\nsamples = 53\\nvalue = [27, 26]'),\n",
       " Text(747.6194086429113, 305.25, 'X[2] <= 0.013\\ngini = 0.475\\nsamples = 36\\nvalue = [14, 22]'),\n",
       " Text(742.9188779378317, 288.75, 'X[1] <= 0.018\\ngini = 0.153\\nsamples = 12\\nvalue = [1, 11]'),\n",
       " Text(741.0386656557998, 272.25, 'X[2] <= 0.013\\ngini = 0.444\\nsamples = 3\\nvalue = [1, 2]'),\n",
       " Text(739.158453373768, 255.75, 'gini = 0.0\\nsamples = 1\\nvalue = [1, 0]'),\n",
       " Text(742.9188779378317, 255.75, 'gini = 0.0\\nsamples = 2\\nvalue = [0, 2]'),\n",
       " Text(744.7990902198635, 272.25, 'gini = 0.0\\nsamples = 9\\nvalue = [0, 9]'),\n",
       " Text(752.319939347991, 288.75, 'X[2] <= 0.017\\ngini = 0.497\\nsamples = 24\\nvalue = [13, 11]'),\n",
       " Text(748.5595147839272, 272.25, 'X[1] <= 0.022\\ngini = 0.245\\nsamples = 7\\nvalue = [6, 1]'),\n",
       " Text(746.6793025018953, 255.75, 'X[1] <= 0.02\\ngini = 0.5\\nsamples = 2\\nvalue = [1, 1]'),\n",
       " Text(744.7990902198635, 239.25, 'gini = 0.0\\nsamples = 1\\nvalue = [1, 0]'),\n",
       " Text(748.5595147839272, 239.25, 'gini = 0.0\\nsamples = 1\\nvalue = [0, 1]'),\n",
       " Text(750.4397270659591, 255.75, 'gini = 0.0\\nsamples = 5\\nvalue = [5, 0]'),\n",
       " Text(756.0803639120546, 272.25, 'X[0] <= -0.006\\ngini = 0.484\\nsamples = 17\\nvalue = [7, 10]'),\n",
       " Text(754.2001516300228, 255.75, 'X[1] <= 0.024\\ngini = 0.5\\nsamples = 14\\nvalue = [7, 7]'),\n",
       " Text(752.319939347991, 239.25, 'gini = 0.0\\nsamples = 3\\nvalue = [3, 0]'),\n",
       " Text(756.0803639120546, 239.25, 'X[1] <= 0.043\\ngini = 0.463\\nsamples = 11\\nvalue = [4, 7]'),\n",
       " Text(752.319939347991, 222.75, 'X[2] <= 0.017\\ngini = 0.245\\nsamples = 7\\nvalue = [1, 6]'),\n",
       " Text(750.4397270659591, 206.25, 'gini = 0.0\\nsamples = 1\\nvalue = [1, 0]'),\n",
       " Text(754.2001516300228, 206.25, 'gini = 0.0\\nsamples = 6\\nvalue = [0, 6]'),\n",
       " Text(759.8407884761183, 222.75, 'X[2] <= 0.018\\ngini = 0.375\\nsamples = 4\\nvalue = [3, 1]'),\n",
       " Text(757.9605761940865, 206.25, 'gini = 0.0\\nsamples = 3\\nvalue = [3, 0]'),\n",
       " Text(761.7210007581501, 206.25, 'gini = 0.0\\nsamples = 1\\nvalue = [0, 1]'),\n",
       " Text(757.9605761940865, 255.75, 'gini = 0.0\\nsamples = 3\\nvalue = [0, 3]'),\n",
       " Text(765.4814253222138, 305.25, 'X[2] <= 0.013\\ngini = 0.36\\nsamples = 17\\nvalue = [13, 4]'),\n",
       " Text(763.601213040182, 288.75, 'gini = 0.0\\nsamples = 6\\nvalue = [6, 0]'),\n",
       " Text(767.3616376042456, 288.75, 'X[0] <= -0.005\\ngini = 0.463\\nsamples = 11\\nvalue = [7, 4]'),\n",
       " Text(763.601213040182, 272.25, 'X[0] <= -0.005\\ngini = 0.278\\nsamples = 6\\nvalue = [5, 1]'),\n",
       " Text(761.7210007581501, 255.75, 'X[0] <= -0.005\\ngini = 0.444\\nsamples = 3\\nvalue = [2, 1]'),\n",
       " Text(759.8407884761183, 239.25, 'gini = 0.0\\nsamples = 2\\nvalue = [2, 0]'),\n",
       " Text(763.601213040182, 239.25, 'gini = 0.0\\nsamples = 1\\nvalue = [0, 1]'),\n",
       " Text(765.4814253222138, 255.75, 'gini = 0.0\\nsamples = 3\\nvalue = [3, 0]'),\n",
       " Text(771.1220621683093, 272.25, 'X[1] <= 0.027\\ngini = 0.48\\nsamples = 5\\nvalue = [2, 3]'),\n",
       " Text(769.2418498862775, 255.75, 'gini = 0.0\\nsamples = 2\\nvalue = [0, 2]'),\n",
       " Text(773.0022744503411, 255.75, 'X[0] <= -0.005\\ngini = 0.444\\nsamples = 3\\nvalue = [2, 1]'),\n",
       " Text(771.1220621683093, 239.25, 'gini = 0.0\\nsamples = 1\\nvalue = [0, 1]'),\n",
       " ...]"
      ]
     },
     "execution_count": 22,
     "metadata": {},
     "output_type": "execute_result"
    },
    {
     "data": {
      "image/png": "[encoded data removed]",
      "text/plain": [
       "<Figure size 1200x600 with 1 Axes>"
      ]
     },
     "metadata": {},
     "output_type": "display_data"
    }
   ],
   "source": [
    "plt.figure(figsize=(12,6))\n",
    "tree.plot_tree(rbdTree,filled=True)"
   ]
  },
  {
   "cell_type": "markdown",
   "metadata": {
    "slideshow": {
     "slide_type": "slide"
    }
   },
   "source": [
    "## 集成学习"
   ]
  },
  {
   "cell_type": "markdown",
   "metadata": {
    "slideshow": {
     "slide_type": "fragment"
    }
   },
   "source": [
    "<dl class=\"row alert-danger\">\n",
    "    <dt class=\"col-md-3\">集成学习（ensemble learning）</dt>\n",
    "    <dd class=\"col-md-9\">通过构建并结合多个分类器来完成学习任务。</dd>\n",
    "</dl>"
   ]
  },
  {
   "cell_type": "markdown",
   "metadata": {
    "slideshow": {
     "slide_type": "fragment"
    }
   },
   "source": [
    "- 典型方法\n",
    "    - 装袋算法（bagging）与随机森林（random forest）\n",
    "    - 提升算法（boosting）"
   ]
  },
  {
   "cell_type": "markdown",
   "metadata": {
    "slideshow": {
     "slide_type": "slide"
    }
   },
   "source": [
    "### boosting算法"
   ]
  },
  {
   "cell_type": "markdown",
   "metadata": {
    "slideshow": {
     "slide_type": "fragment"
    }
   },
   "source": [
    "- 将弱分类器提升为强分类器的算法"
   ]
  },
  {
   "cell_type": "markdown",
   "metadata": {
    "slideshow": {
     "slide_type": "fragment"
    }
   },
   "source": [
    "- 通过顺次迭代的方式生成最终的分类器"
   ]
  },
  {
   "cell_type": "markdown",
   "metadata": {
    "slideshow": {
     "slide_type": "slide"
    }
   },
   "source": [
    "- 基本思想"
   ]
  },
  {
   "cell_type": "markdown",
   "metadata": {
    "slideshow": {
     "slide_type": "fragment"
    }
   },
   "source": [
    "1. 初始化，令残差等于当前的类标签，即$r_i=y_i, i=1,2,\\cdots,n$"
   ]
  },
  {
   "cell_type": "markdown",
   "metadata": {
    "slideshow": {
     "slide_type": "fragment"
    }
   },
   "source": [
    "2. 设置需要生成的分类器的数量，$B$，对于每一个$b\\in B$进行如下操作：\n",
    "    1. 在训练集上生成第$b$个分类器$\\hat{f}_b(\\boldsymbol{\\rm x})$;\n",
    "    \n",
    "    2. 更新类标签（残差），$r_i=r_i-\\alpha_b\\hat{f}_b(\\boldsymbol{\\rm x})$"
   ]
  },
  {
   "cell_type": "markdown",
   "metadata": {
    "slideshow": {
     "slide_type": "fragment"
    }
   },
   "source": [
    "3. 将单个分类器叠加得到最终的分类器\n",
    "$$\n",
    "    \\hat{f}(\\boldsymbol{\\rm x})=\\sum_{b=1}^B\\alpha_b\\hat{f}_b(\\boldsymbol{\\rm x})\n",
    "$$"
   ]
  },
  {
   "cell_type": "markdown",
   "metadata": {
    "slideshow": {
     "slide_type": "fragment"
    }
   },
   "source": [
    "- 原理：每个新的分类器都是在上次分类的残差上拟合，使得最终的分类器能够对单个分类器分类较差的区域给予改进"
   ]
  },
  {
   "cell_type": "markdown",
   "metadata": {
    "slideshow": {
     "slide_type": "fragment"
    }
   },
   "source": [
    "- 常用的提升算法\n",
    "    - AdaBoost\n",
    "    - xgboost\n",
    "    - LogitBoost"
   ]
  },
  {
   "cell_type": "markdown",
   "metadata": {
    "slideshow": {
     "slide_type": "slide"
    }
   },
   "source": [
    "## 随机森林（Random Forest）"
   ]
  },
  {
   "cell_type": "markdown",
   "metadata": {
    "slideshow": {
     "slide_type": "fragment"
    }
   },
   "source": [
    "### 装袋"
   ]
  },
  {
   "cell_type": "markdown",
   "metadata": {
    "slideshow": {
     "slide_type": "fragment"
    }
   },
   "source": [
    "<dl class=\"row alert-info\">\n",
    "    <dt class=\"col-md-3\">自助法（bootstraping）</dt>\n",
    "    <dd class=\"col-md-9\">有放回的随机采样方法。</dd>\n",
    "</dl>"
   ]
  },
  {
   "cell_type": "markdown",
   "metadata": {
    "slideshow": {
     "slide_type": "fragment"
    }
   },
   "source": [
    "- 解决金融交易中只有一条历史样本数据的问题"
   ]
  },
  {
   "cell_type": "markdown",
   "metadata": {
    "slideshow": {
     "slide_type": "fragment"
    }
   },
   "source": [
    "- 原理：如果$N$个独立同分布（$iid$）的样本，每个样本的方差为$\\sigma^2$，那么样本均值的方差为$\\frac{\\sigma^2}{N}$"
   ]
  },
  {
   "cell_type": "markdown",
   "metadata": {
    "slideshow": {
     "slide_type": "fragment"
    }
   },
   "source": [
    "- 装袋过程\n",
    "    1. 通过自助采样，生成$B$个样本；\n",
    "    2. 在每个样本上训练一个分类器$\\hat{f}_b(\\boldsymbol{\\rm x})$；\n",
    "    3. 将各个分类器合成得到最终分类器\n",
    "    $$\n",
    "        \\hat{f}_{\\text{avg}}(\\boldsymbol{\\rm x})=\\frac{1}{B}\\sum_{b=1}^B\\hat{f}_b(\\boldsymbol{\\rm x})\n",
    "    $$"
   ]
  },
  {
   "cell_type": "markdown",
   "metadata": {
    "slideshow": {
     "slide_type": "slide"
    }
   },
   "source": [
    "### 随机森林"
   ]
  },
  {
   "cell_type": "markdown",
   "metadata": {
    "slideshow": {
     "slide_type": "fragment"
    }
   },
   "source": [
    "- 特征装袋（feature bagging），降低不同决策树之间的相关性"
   ]
  },
  {
   "cell_type": "markdown",
   "metadata": {
    "slideshow": {
     "slide_type": "fragment"
    }
   },
   "source": [
    "- 组合多个决策树，通过投票的方式确定样本所属的类别，使得整体模型在抑止过度拟合的同时，获得较好的精确度"
   ]
  },
  {
   "cell_type": "markdown",
   "metadata": {
    "slideshow": {
     "slide_type": "slide"
    }
   },
   "source": [
    "<center><img src=\"./img/dataMining/randomForest.jpg\" width=100%></center>"
   ]
  },
  {
   "cell_type": "markdown",
   "metadata": {
    "slideshow": {
     "slide_type": "slide"
    }
   },
   "source": [
    "### 建立随机森林模型"
   ]
  },
  {
   "cell_type": "markdown",
   "metadata": {
    "slideshow": {
     "slide_type": "fragment"
    }
   },
   "source": [
    "```python\n",
    "from sklearn import ensemble\n",
    "ensemble.RandomForestClassifier()\n",
    "```"
   ]
  },
  {
   "cell_type": "code",
   "execution_count": 23,
   "metadata": {
    "slideshow": {
     "slide_type": "fragment"
    }
   },
   "outputs": [],
   "source": [
    "rbRandTree = ensemble.RandomForestClassifier(random_state=10)"
   ]
  },
  {
   "cell_type": "code",
   "execution_count": 24,
   "metadata": {
    "slideshow": {
     "slide_type": "fragment"
    }
   },
   "outputs": [
    {
     "data": {
      "text/plain": [
       "RandomForestClassifier(random_state=10)"
      ]
     },
     "execution_count": 24,
     "metadata": {},
     "output_type": "execute_result"
    }
   ],
   "source": [
    "rbRandTree.fit(rbdTrain.loc[:,['mf','vola','val']],rbdTrain['y'])"
   ]
  },
  {
   "cell_type": "code",
   "execution_count": 25,
   "metadata": {
    "slideshow": {
     "slide_type": "fragment"
    }
   },
   "outputs": [
    {
     "data": {
      "text/plain": [
       "{'bootstrap': True,\n",
       " 'ccp_alpha': 0.0,\n",
       " 'class_weight': None,\n",
       " 'criterion': 'gini',\n",
       " 'max_depth': None,\n",
       " 'max_features': 'auto',\n",
       " 'max_leaf_nodes': None,\n",
       " 'max_samples': None,\n",
       " 'min_impurity_decrease': 0.0,\n",
       " 'min_impurity_split': None,\n",
       " 'min_samples_leaf': 1,\n",
       " 'min_samples_split': 2,\n",
       " 'min_weight_fraction_leaf': 0.0,\n",
       " 'n_estimators': 100,\n",
       " 'n_jobs': None,\n",
       " 'oob_score': False,\n",
       " 'random_state': 10,\n",
       " 'verbose': 0,\n",
       " 'warm_start': False}"
      ]
     },
     "execution_count": 25,
     "metadata": {},
     "output_type": "execute_result"
    }
   ],
   "source": [
    "rbRandTree.get_params()"
   ]
  },
  {
   "cell_type": "markdown",
   "metadata": {
    "slideshow": {
     "slide_type": "slide"
    }
   },
   "source": [
    "### 训练集分类效果检验"
   ]
  },
  {
   "cell_type": "code",
   "execution_count": 26,
   "metadata": {
    "slideshow": {
     "slide_type": "fragment"
    }
   },
   "outputs": [],
   "source": [
    "rbRandTrainYPre = rbRandTree.predict(rbdTrain.loc[:,['mf','vola','val']])"
   ]
  },
  {
   "cell_type": "code",
   "execution_count": 27,
   "metadata": {
    "slideshow": {
     "slide_type": "fragment"
    }
   },
   "outputs": [
    {
     "name": "stdout",
     "output_type": "stream",
     "text": [
      "              precision    recall  f1-score   support\n",
      "\n",
      "          -1       1.00      1.00      1.00      1126\n",
      "           1       1.00      1.00      1.00      1167\n",
      "\n",
      "    accuracy                           1.00      2293\n",
      "   macro avg       1.00      1.00      1.00      2293\n",
      "weighted avg       1.00      1.00      1.00      2293\n",
      "\n"
     ]
    }
   ],
   "source": [
    "resRandTrain = metrics.classification_report(rbdTrain['y'],rbRandTrainYPre)\n",
    "print(resRandTrain)"
   ]
  },
  {
   "cell_type": "markdown",
   "metadata": {
    "slideshow": {
     "slide_type": "slide"
    }
   },
   "source": [
    "### 检验集分类效果检验"
   ]
  },
  {
   "cell_type": "code",
   "execution_count": 28,
   "metadata": {
    "slideshow": {
     "slide_type": "fragment"
    }
   },
   "outputs": [],
   "source": [
    "rbRandTestYPre = rbRandTree.predict(rbdTest.loc[:,['mf','vola','val']])"
   ]
  },
  {
   "cell_type": "code",
   "execution_count": 29,
   "metadata": {
    "slideshow": {
     "slide_type": "fragment"
    }
   },
   "outputs": [
    {
     "name": "stdout",
     "output_type": "stream",
     "text": [
      "              precision    recall  f1-score   support\n",
      "\n",
      "          -1       0.67      0.66      0.67       386\n",
      "           1       0.66      0.68      0.67       379\n",
      "\n",
      "    accuracy                           0.67       765\n",
      "   macro avg       0.67      0.67      0.67       765\n",
      "weighted avg       0.67      0.67      0.67       765\n",
      "\n"
     ]
    }
   ],
   "source": [
    "resRandTest = metrics.classification_report(rbdTest['y'],rbRandTestYPre)\n",
    "print(resRandTest)"
   ]
  },
  {
   "cell_type": "code",
   "execution_count": 36,
   "metadata": {
    "slideshow": {
     "slide_type": "slide"
    }
   },
   "outputs": [
    {
     "data": {
      "text/plain": [
       "<sklearn.metrics._plot.precision_recall_curve.PrecisionRecallDisplay at 0x7f52e3928780>"
      ]
     },
     "execution_count": 36,
     "metadata": {},
     "output_type": "execute_result"
    },
    {
     "data": {
      "text/plain": [
       "<sklearn.metrics._plot.precision_recall_curve.PrecisionRecallDisplay at 0x7f52e3928e80>"
      ]
     },
     "execution_count": 36,
     "metadata": {},
     "output_type": "execute_result"
    },
    {
     "data": {
      "image/png": "[encoded data removed]",
      "text/plain": [
       "<Figure size 1200x600 with 1 Axes>"
      ]
     },
     "metadata": {},
     "output_type": "display_data"
    }
   ],
   "source": [
    "fig,ax = plt.subplots(figsize=(12,6))\n",
    "metrics.plot_precision_recall_curve(rbRandTree,rbdTest.loc[:,['mf','vola','val']],rbdTest['y'],ax=ax)\n",
    "metrics.plot_precision_recall_curve(rbdTree,rbdTest.loc[:,['mf','vola','val']],rbdTest['y'],ax=ax)"
   ]
  },
  {
   "cell_type": "code",
   "execution_count": 31,
   "metadata": {
    "slideshow": {
     "slide_type": "skip"
    }
   },
   "outputs": [
    {
     "data": {
      "text/plain": [
       "array([0.65359477, 0.65849673, 0.67156863, 0.69558101, 0.67430442])"
      ]
     },
     "execution_count": 31,
     "metadata": {},
     "output_type": "execute_result"
    }
   ],
   "source": [
    "trainScores = model_selection.cross_val_score(rbRandTree,rbd.loc[:,['mf','vola','val']],rbd['y'],cv=5)\n",
    "trainScores"
   ]
  },
  {
   "cell_type": "code",
   "execution_count": 286,
   "metadata": {
    "slideshow": {
     "slide_type": "skip"
    }
   },
   "outputs": [
    {
     "data": {
      "text/plain": [
       "0.6876618401899945"
      ]
     },
     "execution_count": 286,
     "metadata": {},
     "output_type": "execute_result"
    }
   ],
   "source": [
    "trainScores.mean()"
   ]
  },
  {
   "cell_type": "markdown",
   "metadata": {
    "slideshow": {
     "slide_type": "slide"
    }
   },
   "source": [
    "# 时间序列价格预测"
   ]
  },
  {
   "cell_type": "markdown",
   "metadata": {
    "slideshow": {
     "slide_type": "fragment"
    }
   },
   "source": [
    "## 长短期记忆模型"
   ]
  },
  {
   "cell_type": "markdown",
   "metadata": {
    "slideshow": {
     "slide_type": "fragment"
    }
   },
   "source": [
    "- 长短期记忆（Long short-term memory, LSTM）:循环神经网络"
   ]
  },
  {
   "cell_type": "markdown",
   "metadata": {
    "slideshow": {
     "slide_type": "skip"
    }
   },
   "source": [
    "![](../data-mining/img/ann/recurrent.png)"
   ]
  },
  {
   "cell_type": "markdown",
   "metadata": {
    "slideshow": {
     "slide_type": "slide"
    }
   },
   "source": [
    "## 数据预处理"
   ]
  },
  {
   "cell_type": "code",
   "execution_count": 11,
   "metadata": {
    "slideshow": {
     "slide_type": "fragment"
    }
   },
   "outputs": [],
   "source": [
    "rbdCloseTrain,rbdCloseTest = model_selection.train_test_split(rbd['Close'],random_state=10)"
   ]
  },
  {
   "cell_type": "code",
   "execution_count": 20,
   "metadata": {
    "slideshow": {
     "slide_type": "fragment"
    }
   },
   "outputs": [],
   "source": [
    "scaler = preprocessing.MinMaxScaler()\n",
    "scaled_rbdCloseTrain = scaler.fit_transform(rbdCloseTrain.values.reshape(-1,1))"
   ]
  },
  {
   "cell_type": "code",
   "execution_count": 22,
   "metadata": {
    "slideshow": {
     "slide_type": "fragment"
    }
   },
   "outputs": [],
   "source": [
    "x_train = []\n",
    "y_train = []\n",
    "windowSize=20\n",
    "for i in range(windowSize, len(scaled_rbdCloseTrain)):\n",
    "    x_train.append(scaled_rbdCloseTrain[i-windowSize:i, 0])\n",
    "    y_train.append(scaled_rbdCloseTrain[i, 0])"
   ]
  },
  {
   "cell_type": "code",
   "execution_count": 26,
   "metadata": {
    "slideshow": {
     "slide_type": "fragment"
    }
   },
   "outputs": [],
   "source": [
    "x_train = np.array(x_train).reshape(-1,windowSize,1)"
   ]
  },
  {
   "cell_type": "code",
   "execution_count": 27,
   "metadata": {
    "slideshow": {
     "slide_type": "fragment"
    }
   },
   "outputs": [],
   "source": [
    "y_train = np.array(y_train)"
   ]
  },
  {
   "cell_type": "markdown",
   "metadata": {
    "slideshow": {
     "slide_type": "slide"
    }
   },
   "source": [
    "## 建立LSTM模型"
   ]
  },
  {
   "cell_type": "code",
   "execution_count": 31,
   "metadata": {
    "slideshow": {
     "slide_type": "fragment"
    }
   },
   "outputs": [],
   "source": [
    "lstModel = keras.Sequential()\n",
    "lstModel.add(keras.layers.LSTM(50,return_sequences=True,input_shape=(x_train.shape[1],1)))\n",
    "lstModel.add(keras.layers.LSTM(50, return_sequences= True))\n",
    "lstModel.add(keras.layers.LSTM(50, return_sequences= False))\n",
    "lstModel.add(keras.layers.Dense(25))\n",
    "lstModel.add(keras.layers.Dense(1))"
   ]
  },
  {
   "cell_type": "code",
   "execution_count": 32,
   "metadata": {
    "slideshow": {
     "slide_type": "fragment"
    }
   },
   "outputs": [],
   "source": [
    "lstModel.compile(optimizer='adam', loss='mean_squared_error')"
   ]
  },
  {
   "cell_type": "code",
   "execution_count": 33,
   "metadata": {
    "slideshow": {
     "slide_type": "fragment"
    }
   },
   "outputs": [
    {
     "name": "stdout",
     "output_type": "stream",
     "text": [
      "2278/2278 [==============================] - 38s 15ms/step - loss: 0.0388\n"
     ]
    },
    {
     "data": {
      "text/plain": [
       "<keras.callbacks.History at 0x7f52641f1f60>"
      ]
     },
     "execution_count": 33,
     "metadata": {},
     "output_type": "execute_result"
    }
   ],
   "source": [
    "lstModel.fit(x_train,y_train,batch_size=1,epochs=1)"
   ]
  },
  {
   "cell_type": "markdown",
   "metadata": {
    "slideshow": {
     "slide_type": "slide"
    }
   },
   "source": [
    "## 在检验集上预测"
   ]
  },
  {
   "cell_type": "code",
   "execution_count": 34,
   "metadata": {
    "slideshow": {
     "slide_type": "fragment"
    }
   },
   "outputs": [],
   "source": [
    "scaled_rbdCloseTest = scaler.fit_transform(rbdCloseTest.values.reshape(-1,1))"
   ]
  },
  {
   "cell_type": "code",
   "execution_count": 35,
   "metadata": {
    "slideshow": {
     "slide_type": "fragment"
    }
   },
   "outputs": [],
   "source": [
    "x_test=[]\n",
    "for i in range(windowSize,len(scaled_rbdCloseTest)):\n",
    "    x_test.append(scaled_rbdCloseTest[i-windowSize:i,0])\n",
    "x_test=np.array(x_test).reshape(-1,windowSize,1)"
   ]
  },
  {
   "cell_type": "code",
   "execution_count": 48,
   "metadata": {
    "slideshow": {
     "slide_type": "fragment"
    }
   },
   "outputs": [
    {
     "data": {
      "text/plain": [
       "array([[3613.014 ],\n",
       "       [3613.416 ],\n",
       "       [3613.861 ],\n",
       "       [3614.4434],\n",
       "       [3613.7283],\n",
       "       [3614.7087],\n",
       "       [3614.4988],\n",
       "       [3614.5854],\n",
       "       [3613.663 ],\n",
       "       [3613.5317],\n",
       "       [3612.5757],\n",
       "       [3611.7515],\n",
       "       [3611.1982],\n",
       "       [3611.3372],\n",
       "       [3610.8438],\n",
       "       [3609.9897],\n",
       "       [3609.1428],\n",
       "       [3608.873 ],\n",
       "       [3608.9639],\n",
       "       [3609.3926],\n",
       "       [3609.5872],\n",
       "       [3610.4263],\n",
       "       [3610.9539],\n",
       "       [3611.0437],\n",
       "       [3611.356 ],\n",
       "       [3611.1184],\n",
       "       [3612.002 ],\n",
       "       [3612.2583],\n",
       "       [3612.4973],\n",
       "       [3612.417 ],\n",
       "       [3613.7202],\n",
       "       [3615.1338],\n",
       "       [3615.1973],\n",
       "       [3614.64  ],\n",
       "       [3615.1672],\n",
       "       [3615.8416],\n",
       "       [3616.5044],\n",
       "       [3616.6301],\n",
       "       [3615.4832],\n",
       "       [3614.0815],\n",
       "       [3613.5857],\n",
       "       [3612.388 ],\n",
       "       [3612.5332],\n",
       "       [3612.5479],\n",
       "       [3611.5154],\n",
       "       [3610.649 ],\n",
       "       [3608.3738],\n",
       "       [3606.6118],\n",
       "       [3606.9688],\n",
       "       [3608.3447],\n",
       "       [3610.6816],\n",
       "       [3611.7512],\n",
       "       [3612.7659],\n",
       "       [3613.8088],\n",
       "       [3614.9468],\n",
       "       [3615.7317],\n",
       "       [3617.3613],\n",
       "       [3618.5525],\n",
       "       [3619.0693],\n",
       "       [3619.1958],\n",
       "       [3617.3228],\n",
       "       [3615.7637],\n",
       "       [3614.2793],\n",
       "       [3613.6648],\n",
       "       [3614.1992],\n",
       "       [3614.7642],\n",
       "       [3615.858 ],\n",
       "       [3616.377 ],\n",
       "       [3616.7354],\n",
       "       [3616.4778],\n",
       "       [3616.0625],\n",
       "       [3615.6724],\n",
       "       [3613.769 ],\n",
       "       [3611.849 ],\n",
       "       [3610.3452],\n",
       "       [3609.4436],\n",
       "       [3608.4983],\n",
       "       [3608.06  ],\n",
       "       [3608.1108],\n",
       "       [3608.3079],\n",
       "       [3607.6304],\n",
       "       [3606.3735],\n",
       "       [3606.2332],\n",
       "       [3606.7637],\n",
       "       [3606.9424],\n",
       "       [3606.3225],\n",
       "       [3605.6404],\n",
       "       [3606.1433],\n",
       "       [3606.7886],\n",
       "       [3608.1448],\n",
       "       [3608.1099],\n",
       "       [3608.6958],\n",
       "       [3609.5137],\n",
       "       [3610.1902],\n",
       "       [3610.8704],\n",
       "       [3611.9143],\n",
       "       [3612.7937],\n",
       "       [3613.1365],\n",
       "       [3614.081 ],\n",
       "       [3615.758 ],\n",
       "       [3617.2087],\n",
       "       [3617.805 ],\n",
       "       [3617.6567],\n",
       "       [3617.2383],\n",
       "       [3617.4995],\n",
       "       [3617.7183],\n",
       "       [3617.502 ],\n",
       "       [3618.0745],\n",
       "       [3618.6958],\n",
       "       [3619.0696],\n",
       "       [3618.9978],\n",
       "       [3619.663 ],\n",
       "       [3619.2622],\n",
       "       [3619.546 ],\n",
       "       [3620.2666],\n",
       "       [3620.9956],\n",
       "       [3622.3677],\n",
       "       [3622.1858],\n",
       "       [3621.0977],\n",
       "       [3619.731 ],\n",
       "       [3617.465 ],\n",
       "       [3614.7056],\n",
       "       [3611.7578],\n",
       "       [3609.7454],\n",
       "       [3609.0132],\n",
       "       [3609.275 ],\n",
       "       [3610.5486],\n",
       "       [3610.6235],\n",
       "       [3609.18  ],\n",
       "       [3607.7886],\n",
       "       [3607.794 ],\n",
       "       [3607.9495],\n",
       "       [3609.256 ],\n",
       "       [3609.9392],\n",
       "       [3610.6191],\n",
       "       [3611.311 ],\n",
       "       [3612.051 ],\n",
       "       [3613.2058],\n",
       "       [3613.0432],\n",
       "       [3612.7356],\n",
       "       [3612.8364],\n",
       "       [3613.031 ],\n",
       "       [3614.512 ],\n",
       "       [3615.5564],\n",
       "       [3615.4492],\n",
       "       [3615.919 ],\n",
       "       [3616.6628],\n",
       "       [3617.6204],\n",
       "       [3617.229 ],\n",
       "       [3616.236 ],\n",
       "       [3615.8833],\n",
       "       [3616.2944],\n",
       "       [3616.4817],\n",
       "       [3616.3936],\n",
       "       [3616.312 ],\n",
       "       [3615.9246],\n",
       "       [3614.4863],\n",
       "       [3613.3428],\n",
       "       [3611.6897],\n",
       "       [3610.8494],\n",
       "       [3610.311 ],\n",
       "       [3610.4626],\n",
       "       [3609.5276],\n",
       "       [3609.3625],\n",
       "       [3609.508 ],\n",
       "       [3610.5486],\n",
       "       [3611.8228],\n",
       "       [3612.5874],\n",
       "       [3613.993 ],\n",
       "       [3614.7483],\n",
       "       [3615.3083],\n",
       "       [3614.9211],\n",
       "       [3614.3953],\n",
       "       [3614.1174],\n",
       "       [3613.666 ],\n",
       "       [3614.5852],\n",
       "       [3615.847 ],\n",
       "       [3617.0034],\n",
       "       [3618.284 ],\n",
       "       [3618.1748],\n",
       "       [3616.6404],\n",
       "       [3615.2864],\n",
       "       [3615.478 ],\n",
       "       [3614.613 ],\n",
       "       [3612.8674],\n",
       "       [3611.2842],\n",
       "       [3611.9387],\n",
       "       [3613.0503],\n",
       "       [3613.6443],\n",
       "       [3614.0518],\n",
       "       [3614.445 ],\n",
       "       [3615.0784],\n",
       "       [3615.236 ],\n",
       "       [3614.177 ],\n",
       "       [3613.0935],\n",
       "       [3612.2383],\n",
       "       [3612.3904],\n",
       "       [3611.369 ],\n",
       "       [3611.6038],\n",
       "       [3612.533 ],\n",
       "       [3613.9302],\n",
       "       [3614.6562],\n",
       "       [3615.1782],\n",
       "       [3615.2754],\n",
       "       [3614.9849],\n",
       "       [3613.2957],\n",
       "       [3612.1052],\n",
       "       [3611.4285],\n",
       "       [3610.8909],\n",
       "       [3610.687 ],\n",
       "       [3610.3867],\n",
       "       [3610.2246],\n",
       "       [3611.3308],\n",
       "       [3613.205 ],\n",
       "       [3615.0132],\n",
       "       [3616.3772],\n",
       "       [3618.064 ],\n",
       "       [3619.372 ],\n",
       "       [3618.94  ],\n",
       "       [3617.1145],\n",
       "       [3615.343 ],\n",
       "       [3615.075 ],\n",
       "       [3615.6538],\n",
       "       [3616.3105],\n",
       "       [3616.8496],\n",
       "       [3618.059 ],\n",
       "       [3618.272 ],\n",
       "       [3618.03  ],\n",
       "       [3617.4363],\n",
       "       [3615.0723],\n",
       "       [3613.8708],\n",
       "       [3614.7798],\n",
       "       [3615.6753],\n",
       "       [3616.2363],\n",
       "       [3617.2346],\n",
       "       [3618.338 ],\n",
       "       [3618.3572],\n",
       "       [3616.9907],\n",
       "       [3615.8765],\n",
       "       [3613.6414],\n",
       "       [3611.0684],\n",
       "       [3608.2031],\n",
       "       [3607.2625],\n",
       "       [3607.5059],\n",
       "       [3606.615 ],\n",
       "       [3606.9067],\n",
       "       [3606.5896],\n",
       "       [3604.584 ],\n",
       "       [3601.694 ],\n",
       "       [3599.7617],\n",
       "       [3599.0015],\n",
       "       [3599.1345],\n",
       "       [3600.3286],\n",
       "       [3601.9673],\n",
       "       [3602.2908],\n",
       "       [3604.148 ],\n",
       "       [3607.2085],\n",
       "       [3611.5234],\n",
       "       [3615.1736],\n",
       "       [3618.9846],\n",
       "       [3619.7856],\n",
       "       [3618.3804],\n",
       "       [3617.0603],\n",
       "       [3615.3665],\n",
       "       [3614.2842],\n",
       "       [3613.1277],\n",
       "       [3613.0583],\n",
       "       [3612.9663],\n",
       "       [3612.8567],\n",
       "       [3612.9646],\n",
       "       [3612.926 ],\n",
       "       [3612.9888],\n",
       "       [3613.3943],\n",
       "       [3613.6382],\n",
       "       [3613.8242],\n",
       "       [3612.8943],\n",
       "       [3610.584 ],\n",
       "       [3608.7173],\n",
       "       [3607.7456],\n",
       "       [3607.5583],\n",
       "       [3609.261 ],\n",
       "       [3611.3013],\n",
       "       [3612.0876],\n",
       "       [3612.9253],\n",
       "       [3613.6292],\n",
       "       [3614.1804],\n",
       "       [3613.5244],\n",
       "       [3613.2825],\n",
       "       [3613.4497],\n",
       "       [3612.4832],\n",
       "       [3611.6733],\n",
       "       [3611.1658],\n",
       "       [3611.93  ],\n",
       "       [3613.5623],\n",
       "       [3613.528 ],\n",
       "       [3612.7402],\n",
       "       [3611.936 ],\n",
       "       [3612.4973],\n",
       "       [3613.594 ],\n",
       "       [3615.2976],\n",
       "       [3616.439 ],\n",
       "       [3617.6301],\n",
       "       [3617.4358],\n",
       "       [3617.2122],\n",
       "       [3617.874 ],\n",
       "       [3619.982 ],\n",
       "       [3621.324 ],\n",
       "       [3621.1301],\n",
       "       [3620.0085],\n",
       "       [3617.608 ],\n",
       "       [3615.3616],\n",
       "       [3613.683 ],\n",
       "       [3610.8635],\n",
       "       [3608.6719],\n",
       "       [3607.0015],\n",
       "       [3605.8848],\n",
       "       [3605.4133],\n",
       "       [3605.3652],\n",
       "       [3605.7585],\n",
       "       [3605.8345],\n",
       "       [3607.793 ],\n",
       "       [3610.5999],\n",
       "       [3613.3047],\n",
       "       [3615.2124],\n",
       "       [3617.8894],\n",
       "       [3618.5234],\n",
       "       [3617.7583],\n",
       "       [3616.9375],\n",
       "       [3616.0244],\n",
       "       [3614.8696],\n",
       "       [3613.9377],\n",
       "       [3613.7944],\n",
       "       [3613.8142],\n",
       "       [3613.0627],\n",
       "       [3612.4817],\n",
       "       [3612.5654],\n",
       "       [3612.7163],\n",
       "       [3612.7852],\n",
       "       [3611.5645],\n",
       "       [3610.5813],\n",
       "       [3610.1772],\n",
       "       [3610.502 ],\n",
       "       [3611.6514],\n",
       "       [3612.8606],\n",
       "       [3613.5923],\n",
       "       [3615.0645],\n",
       "       [3616.1182],\n",
       "       [3617.2131],\n",
       "       [3617.7908],\n",
       "       [3617.6243],\n",
       "       [3616.4678],\n",
       "       [3616.2305],\n",
       "       [3616.3452],\n",
       "       [3617.6943],\n",
       "       [3618.9666],\n",
       "       [3619.197 ],\n",
       "       [3619.0251],\n",
       "       [3617.5093],\n",
       "       [3615.9932],\n",
       "       [3614.223 ],\n",
       "       [3613.4917],\n",
       "       [3613.1042],\n",
       "       [3612.7173],\n",
       "       [3612.015 ],\n",
       "       [3612.185 ],\n",
       "       [3612.3442],\n",
       "       [3611.5183],\n",
       "       [3610.8706],\n",
       "       [3611.4648],\n",
       "       [3611.0522],\n",
       "       [3610.531 ],\n",
       "       [3610.0598],\n",
       "       [3610.2961],\n",
       "       [3609.8582],\n",
       "       [3610.6375],\n",
       "       [3611.3489],\n",
       "       [3611.8252],\n",
       "       [3611.8179],\n",
       "       [3612.1572],\n",
       "       [3613.0022],\n",
       "       [3615.3982],\n",
       "       [3617.4084],\n",
       "       [3619.521 ],\n",
       "       [3622.3374],\n",
       "       [3623.7021],\n",
       "       [3623.0703],\n",
       "       [3622.8333],\n",
       "       [3622.7214],\n",
       "       [3623.2302],\n",
       "       [3623.7102],\n",
       "       [3622.3823],\n",
       "       [3620.4749],\n",
       "       [3617.5986],\n",
       "       [3615.2808],\n",
       "       [3613.3347],\n",
       "       [3612.265 ],\n",
       "       [3612.2507],\n",
       "       [3612.6172],\n",
       "       [3612.268 ],\n",
       "       [3611.8733],\n",
       "       [3611.536 ],\n",
       "       [3611.7837],\n",
       "       [3612.0962],\n",
       "       [3611.3506],\n",
       "       [3610.9412],\n",
       "       [3611.0679],\n",
       "       [3611.5984],\n",
       "       [3612.208 ],\n",
       "       [3612.7156],\n",
       "       [3613.4058],\n",
       "       [3613.635 ],\n",
       "       [3614.7898],\n",
       "       [3616.2815],\n",
       "       [3617.3193],\n",
       "       [3618.0903],\n",
       "       [3616.9348],\n",
       "       [3615.65  ],\n",
       "       [3613.8188],\n",
       "       [3612.401 ],\n",
       "       [3611.5444],\n",
       "       [3611.9468],\n",
       "       [3613.0093],\n",
       "       [3614.739 ],\n",
       "       [3616.4705],\n",
       "       [3617.2273],\n",
       "       [3615.7493],\n",
       "       [3613.97  ],\n",
       "       [3612.6438],\n",
       "       [3611.2417],\n",
       "       [3610.1978],\n",
       "       [3609.8289],\n",
       "       [3608.5615],\n",
       "       [3607.9946],\n",
       "       [3607.8435],\n",
       "       [3607.0034],\n",
       "       [3607.7603],\n",
       "       [3608.5662],\n",
       "       [3609.8748],\n",
       "       [3610.344 ],\n",
       "       [3611.185 ],\n",
       "       [3611.6763],\n",
       "       [3611.679 ],\n",
       "       [3611.3438],\n",
       "       [3611.273 ],\n",
       "       [3611.1658],\n",
       "       [3611.4978],\n",
       "       [3611.2612],\n",
       "       [3609.9705],\n",
       "       [3609.5352],\n",
       "       [3610.5374],\n",
       "       [3612.2842],\n",
       "       [3614.3857],\n",
       "       [3616.0627],\n",
       "       [3616.0842],\n",
       "       [3614.6973],\n",
       "       [3613.1118],\n",
       "       [3613.1296],\n",
       "       [3614.3604],\n",
       "       [3616.0828],\n",
       "       [3615.597 ],\n",
       "       [3614.722 ],\n",
       "       [3613.969 ],\n",
       "       [3613.993 ],\n",
       "       [3614.2815],\n",
       "       [3613.311 ],\n",
       "       [3610.8872],\n",
       "       [3609.6064],\n",
       "       [3609.8323],\n",
       "       [3611.158 ],\n",
       "       [3612.6514],\n",
       "       [3612.4902],\n",
       "       [3613.1375],\n",
       "       [3612.8618],\n",
       "       [3613.0842],\n",
       "       [3613.4055],\n",
       "       [3614.475 ],\n",
       "       [3614.4197],\n",
       "       [3612.8684],\n",
       "       [3611.6309],\n",
       "       [3611.1174],\n",
       "       [3610.7664],\n",
       "       [3610.97  ],\n",
       "       [3611.535 ],\n",
       "       [3612.469 ],\n",
       "       [3613.8567],\n",
       "       [3613.3384],\n",
       "       [3612.7146],\n",
       "       [3612.493 ],\n",
       "       [3612.1526],\n",
       "       [3612.7454],\n",
       "       [3614.5955],\n",
       "       [3615.2102],\n",
       "       [3614.388 ],\n",
       "       [3613.1262],\n",
       "       [3612.4548],\n",
       "       [3611.9214],\n",
       "       [3612.9683],\n",
       "       [3614.0806],\n",
       "       [3616.1619],\n",
       "       [3617.7283],\n",
       "       [3618.309 ],\n",
       "       [3617.1562],\n",
       "       [3615.5503],\n",
       "       [3614.6921],\n",
       "       [3614.0562],\n",
       "       [3612.6943],\n",
       "       [3610.0808],\n",
       "       [3607.8374],\n",
       "       [3606.6758],\n",
       "       [3606.948 ],\n",
       "       [3607.4458],\n",
       "       [3608.194 ],\n",
       "       [3607.5435],\n",
       "       [3606.5002],\n",
       "       [3606.098 ],\n",
       "       [3607.2388],\n",
       "       [3606.9094],\n",
       "       [3606.661 ],\n",
       "       [3606.2896],\n",
       "       [3606.6165],\n",
       "       [3608.5857],\n",
       "       [3611.1638],\n",
       "       [3611.7053],\n",
       "       [3610.7546],\n",
       "       [3608.943 ],\n",
       "       [3607.5547],\n",
       "       [3606.9468],\n",
       "       [3607.1797],\n",
       "       [3606.8232],\n",
       "       [3606.3267],\n",
       "       [3606.404 ],\n",
       "       [3605.2146],\n",
       "       [3605.2444],\n",
       "       [3604.0505],\n",
       "       [3603.5369],\n",
       "       [3603.7   ],\n",
       "       [3605.726 ],\n",
       "       [3607.2517],\n",
       "       [3608.3298],\n",
       "       [3609.6775],\n",
       "       [3611.419 ],\n",
       "       [3612.8857],\n",
       "       [3614.5554],\n",
       "       [3616.1165],\n",
       "       [3616.2078],\n",
       "       [3615.514 ],\n",
       "       [3614.6848],\n",
       "       [3614.2483],\n",
       "       [3612.8052],\n",
       "       [3611.6   ],\n",
       "       [3609.922 ],\n",
       "       [3608.9343],\n",
       "       [3607.792 ],\n",
       "       [3606.138 ],\n",
       "       [3604.8647],\n",
       "       [3603.4326],\n",
       "       [3602.6287],\n",
       "       [3603.2576],\n",
       "       [3605.286 ],\n",
       "       [3608.424 ],\n",
       "       [3611.535 ],\n",
       "       [3613.4958],\n",
       "       [3612.8013],\n",
       "       [3611.1306],\n",
       "       [3609.7769],\n",
       "       [3608.6975],\n",
       "       [3608.04  ],\n",
       "       [3608.3992],\n",
       "       [3609.3577],\n",
       "       [3609.7842],\n",
       "       [3611.0127],\n",
       "       [3611.1018],\n",
       "       [3611.8352],\n",
       "       [3612.8013],\n",
       "       [3614.0625],\n",
       "       [3616.2131],\n",
       "       [3616.6597],\n",
       "       [3614.6553],\n",
       "       [3612.9714],\n",
       "       [3611.3345],\n",
       "       [3611.0134],\n",
       "       [3610.4011],\n",
       "       [3611.1416],\n",
       "       [3612.0452],\n",
       "       [3611.9087],\n",
       "       [3611.1755],\n",
       "       [3611.673 ],\n",
       "       [3610.8767],\n",
       "       [3609.032 ],\n",
       "       [3607.4033],\n",
       "       [3606.3728],\n",
       "       [3606.7244],\n",
       "       [3606.8296],\n",
       "       [3606.918 ],\n",
       "       [3607.4863],\n",
       "       [3608.039 ],\n",
       "       [3609.6758],\n",
       "       [3612.317 ],\n",
       "       [3612.9343],\n",
       "       [3612.4573],\n",
       "       [3610.6729],\n",
       "       [3609.2642],\n",
       "       [3607.4946],\n",
       "       [3606.768 ],\n",
       "       [3606.7888],\n",
       "       [3607.1711],\n",
       "       [3607.6006],\n",
       "       [3608.0476],\n",
       "       [3608.9128],\n",
       "       [3608.571 ],\n",
       "       [3608.714 ],\n",
       "       [3609.0388],\n",
       "       [3608.5222],\n",
       "       [3608.447 ],\n",
       "       [3608.4885],\n",
       "       [3608.9795],\n",
       "       [3610.8772],\n",
       "       [3613.2964],\n",
       "       [3616.083 ],\n",
       "       [3619.3188],\n",
       "       [3621.3604],\n",
       "       [3621.8523],\n",
       "       [3621.5605],\n",
       "       [3620.3716],\n",
       "       [3619.9907],\n",
       "       [3619.472 ],\n",
       "       [3619.1133],\n",
       "       [3619.6282],\n",
       "       [3620.327 ],\n",
       "       [3620.948 ],\n",
       "       [3622.2107],\n",
       "       [3622.2822],\n",
       "       [3621.1633],\n",
       "       [3620.2964],\n",
       "       [3619.5715],\n",
       "       [3618.3364],\n",
       "       [3615.821 ],\n",
       "       [3613.979 ],\n",
       "       [3613.1155],\n",
       "       [3612.5183],\n",
       "       [3614.1377],\n",
       "       [3615.6309],\n",
       "       [3616.9382],\n",
       "       [3618.173 ],\n",
       "       [3618.586 ],\n",
       "       [3618.54  ],\n",
       "       [3618.463 ],\n",
       "       [3617.1968],\n",
       "       [3616.2134],\n",
       "       [3615.903 ],\n",
       "       [3615.4624],\n",
       "       [3615.4585],\n",
       "       [3614.7974],\n",
       "       [3612.8818],\n",
       "       [3611.4338],\n",
       "       [3610.3586],\n",
       "       [3611.1465],\n",
       "       [3612.1543],\n",
       "       [3612.7976],\n",
       "       [3614.1577],\n",
       "       [3616.226 ],\n",
       "       [3618.0518],\n",
       "       [3618.9768],\n",
       "       [3619.188 ],\n",
       "       [3619.862 ],\n",
       "       [3619.967 ],\n",
       "       [3619.4473],\n",
       "       [3618.9358],\n",
       "       [3618.1091],\n",
       "       [3617.457 ],\n",
       "       [3617.9119],\n",
       "       [3617.931 ],\n",
       "       [3617.6582],\n",
       "       [3617.7527],\n",
       "       [3617.84  ],\n",
       "       [3617.8298],\n",
       "       [3615.7463],\n",
       "       [3614.5   ],\n",
       "       [3613.6807],\n",
       "       [3613.6062],\n",
       "       [3614.0183],\n",
       "       [3614.6096],\n",
       "       [3615.3235],\n",
       "       [3616.4866],\n",
       "       [3617.6501],\n",
       "       [3618.646 ],\n",
       "       [3617.885 ],\n",
       "       [3616.0913],\n",
       "       [3614.393 ],\n",
       "       [3613.0269],\n",
       "       [3611.0664],\n",
       "       [3609.005 ],\n",
       "       [3608.1797],\n",
       "       [3608.6372],\n",
       "       [3609.8533],\n",
       "       [3611.616 ],\n",
       "       [3614.2334],\n",
       "       [3616.6467],\n",
       "       [3618.8218],\n",
       "       [3620.3154],\n",
       "       [3620.7988],\n",
       "       [3621.0996],\n",
       "       [3619.2188],\n",
       "       [3617.1152],\n",
       "       [3615.516 ],\n",
       "       [3614.6255],\n",
       "       [3613.4285],\n",
       "       [3612.2988],\n",
       "       [3611.819 ],\n",
       "       [3611.286 ],\n",
       "       [3610.9023],\n",
       "       [3611.311 ],\n",
       "       [3610.9287],\n",
       "       [3610.389 ],\n",
       "       [3610.0784],\n",
       "       [3610.0474],\n",
       "       [3610.8208],\n",
       "       [3610.6738],\n",
       "       [3610.5337],\n",
       "       [3610.655 ],\n",
       "       [3610.8003],\n",
       "       [3611.1394],\n",
       "       [3610.5356],\n",
       "       [3609.3435],\n",
       "       [3609.1785],\n",
       "       [3609.578 ],\n",
       "       [3608.9553],\n",
       "       [3609.1306],\n",
       "       [3610.5872],\n",
       "       [3612.4502],\n",
       "       [3614.1157],\n",
       "       [3615.5205],\n",
       "       [3616.4548],\n",
       "       [3616.563 ],\n",
       "       [3616.0852],\n",
       "       [3615.3684],\n",
       "       [3615.1824],\n",
       "       [3614.5107],\n",
       "       [3612.393 ],\n",
       "       [3610.998 ],\n",
       "       [3610.4111],\n",
       "       [3610.1135],\n",
       "       [3610.2383],\n",
       "       [3611.1902],\n",
       "       [3612.449 ],\n",
       "       [3614.0525],\n",
       "       [3615.6714]], dtype=float32)"
      ]
     },
     "execution_count": 48,
     "metadata": {},
     "output_type": "execute_result"
    }
   ],
   "source": [
    "predRes = lstModel.predict(x_test)\n",
    "predRes = scaler.inverse_transform(predRes)\n",
    "predRes"
   ]
  },
  {
   "cell_type": "markdown",
   "metadata": {
    "slideshow": {
     "slide_type": "slide"
    }
   },
   "source": [
    "## 参考文献"
   ]
  },
  {
   "cell_type": "markdown",
   "metadata": {
    "slideshow": {
     "slide_type": "fragment"
    }
   },
   "source": [
    "- BANIK S, SHARMA N, MANGLA M, 等. 2022. LSTM based decision support system for swing trading in stock market[J/OL]. Knowledge-Based Systems, 239: 107994. https://doi.org/10.1016/j.knosys.2021.107994."
   ]
  },
  {
   "cell_type": "markdown",
   "metadata": {
    "slideshow": {
     "slide_type": "slide"
    }
   },
   "source": [
    "# 聚类模型"
   ]
  },
  {
   "cell_type": "markdown",
   "metadata": {
    "slideshow": {
     "slide_type": "slide"
    }
   },
   "source": [
    "## 基本概念"
   ]
  },
  {
   "cell_type": "markdown",
   "metadata": {
    "slideshow": {
     "slide_type": "fragment"
    }
   },
   "source": [
    "<dl class=\"row alert-info\">\n",
    "    <dt class=\"col-md-2\">聚类</dt>\n",
    "    <dd class=\"col-md-10\">是一种将特征相似的样本聚集到一起，从而达到区分具有不同特征的样本的目的无监督的算法</dd>\n",
    "</dl>"
   ]
  },
  {
   "cell_type": "markdown",
   "metadata": {
    "slideshow": {
     "slide_type": "fragment"
    }
   },
   "source": [
    "- 不需要事先知道类别信息"
   ]
  },
  {
   "cell_type": "markdown",
   "metadata": {
    "slideshow": {
     "slide_type": "fragment"
    }
   },
   "source": [
    "- 聚类形成的每一个组，被称为**簇（cluster）**"
   ]
  },
  {
   "cell_type": "markdown",
   "metadata": {
    "slideshow": {
     "slide_type": "fragment"
    }
   },
   "source": [
    "- 聚类的目标：簇内的样本之间尽可能相似，不同簇的样本尽可能不同"
   ]
  },
  {
   "cell_type": "markdown",
   "metadata": {
    "slideshow": {
     "slide_type": "fragment"
    }
   },
   "source": [
    "<img src=\"./img/dataMining/clustering.png\" width=50%>"
   ]
  },
  {
   "cell_type": "markdown",
   "metadata": {
    "slideshow": {
     "slide_type": "slide"
    }
   },
   "source": [
    "## K均值"
   ]
  },
  {
   "cell_type": "markdown",
   "metadata": {
    "slideshow": {
     "slide_type": "fragment"
    }
   },
   "source": [
    "- 基于划分的聚类，发现指定个数（$K$）的簇"
   ]
  },
  {
   "cell_type": "markdown",
   "metadata": {
    "slideshow": {
     "slide_type": "fragment"
    }
   },
   "source": [
    "- 基本思想：利用样本之间的距离衡量样本之间的相似性，用一组样本的质心（该组样本的均值）作为簇的中心，找到紧凑且独立的簇"
   ]
  },
  {
   "cell_type": "markdown",
   "metadata": {
    "slideshow": {
     "slide_type": "fragment"
    }
   },
   "source": [
    "- 簇之间彼此**互斥**，即每个样本**只能**分属于一个簇"
   ]
  },
  {
   "cell_type": "markdown",
   "metadata": {
    "slideshow": {
     "slide_type": "slide"
    }
   },
   "source": [
    "### 基本算法"
   ]
  },
  {
   "cell_type": "markdown",
   "metadata": {
    "slideshow": {
     "slide_type": "fragment"
    }
   },
   "source": [
    "<center><img src='./img/dataMining/kmago.svg' width=80%></center>"
   ]
  },
  {
   "cell_type": "markdown",
   "metadata": {
    "slideshow": {
     "slide_type": "slide"
    }
   },
   "source": [
    "##### $K$均值聚类过程示例\n",
    "\n",
    "<center><img src=\"./img/dataMining/kmeansProcess.gif\" width=100%></center>"
   ]
  },
  {
   "cell_type": "markdown",
   "metadata": {
    "slideshow": {
     "slide_type": "slide"
    }
   },
   "source": [
    "#### 距离的度量"
   ]
  },
  {
   "cell_type": "markdown",
   "metadata": {
    "slideshow": {
     "slide_type": "fragment"
    }
   },
   "source": [
    "- 欧式空间：欧几里得距离，$n$维空间中两个点$\\boldsymbol{x}$和$\\boldsymbol{y}$之间的欧几里得距离是:\n",
    "$$\n",
    "d(\\boldsymbol{x}, \\boldsymbol{y}) = \\sqrt{\\sum_{k=1}^n(x_k-y_k)^2}\n",
    "$$"
   ]
  },
  {
   "cell_type": "markdown",
   "metadata": {
    "slideshow": {
     "slide_type": "slide"
    }
   },
   "source": [
    "#### 目标函数"
   ]
  },
  {
   "cell_type": "markdown",
   "metadata": {
    "slideshow": {
     "slide_type": "fragment"
    }
   },
   "source": [
    "- 目标函数为每个点到最近质心的欧几里得距离的**误差平方和**（sum of the squared error, SSE）最小"
   ]
  },
  {
   "cell_type": "markdown",
   "metadata": {
    "slideshow": {
     "slide_type": "fragment"
    }
   },
   "source": [
    "$$\n",
    "\\begin{split}\n",
    "SSE &= \\sum_{i=1}^K\\sum_{\\boldsymbol{x}\\in C_i}d(\\boldsymbol{c}_i, \\boldsymbol{x})^2\\\\\n",
    "\\boldsymbol{c}_i&=\\frac{1}{m_i}\\sum_{\\boldsymbol{x}\\in C_i}\\boldsymbol{x}\n",
    "\\end{split}\n",
    "$$\n",
    "其中，$\\boldsymbol{x}$是数据点，$C_i$是第$i$个簇，$c_i$是第$i$个簇的质心，$m_i$是第$i$个簇包含的数据点的个数，$K$是簇的个数"
   ]
  },
  {
   "cell_type": "markdown",
   "metadata": {
    "slideshow": {
     "slide_type": "fragment"
    }
   },
   "source": [
    "- 簇内的误差平方和（SSE）也被称作cluster inertia"
   ]
  },
  {
   "cell_type": "markdown",
   "metadata": {
    "slideshow": {
     "slide_type": "slide"
    }
   },
   "source": [
    "### $K$均值的`Python`实现"
   ]
  },
  {
   "cell_type": "markdown",
   "metadata": {
    "slideshow": {
     "slide_type": "fragment"
    }
   },
   "source": [
    "```python\n",
    "from sklearn.cluster import KMeans\n",
    "KMeans(n_clusters=8, init=’k-means++’, max_iter=300, random_state=None, n_jobs=None)\n",
    "```\n",
    "- `n_clusters`：`int`类型，簇的个数\n",
    "- `init`：初始质心的方法，可以选择`k-means++`或`random`\n",
    "- `max_iter`：最大迭代次数\n",
    "- `random_state`：初始质心的随机生成种子\n",
    "- `n_jobs`：用多少个CPU运行"
   ]
  },
  {
   "cell_type": "markdown",
   "metadata": {
    "slideshow": {
     "slide_type": "slide"
    }
   },
   "source": [
    "#### 选择$K$值"
   ]
  },
  {
   "cell_type": "markdown",
   "metadata": {
    "slideshow": {
     "slide_type": "fragment"
    }
   },
   "source": [
    "> 随着$K$值的增大，簇内误差平方和（SSE）会降低"
   ]
  },
  {
   "cell_type": "markdown",
   "metadata": {
    "slideshow": {
     "slide_type": "fragment"
    }
   },
   "source": [
    "<dl class=\"row alert-info\">\n",
    "    <dt class=\"col-xl-4\">肘部(elbow)法则<dt>\n",
    "    <dd class=\"col-xl-8\">识别SSE<strong>开始快速增大</strong>处的$K$值</dd>\n",
    "</dl>"
   ]
  },
  {
   "cell_type": "code",
   "execution_count": 12,
   "metadata": {
    "scrolled": true,
    "slideshow": {
     "slide_type": "fragment"
    }
   },
   "outputs": [
    {
     "data": {
      "text/plain": [
       "KMeans(algorithm='auto', copy_x=True, init='k-means++', max_iter=300,\n",
       "       n_clusters=1, n_init=10, n_jobs=-1, precompute_distances='auto',\n",
       "       random_state=0, tol=0.0001, verbose=0)"
      ]
     },
     "execution_count": 12,
     "metadata": {},
     "output_type": "execute_result"
    },
    {
     "data": {
      "text/plain": [
       "KMeans(algorithm='auto', copy_x=True, init='k-means++', max_iter=300,\n",
       "       n_clusters=2, n_init=10, n_jobs=-1, precompute_distances='auto',\n",
       "       random_state=0, tol=0.0001, verbose=0)"
      ]
     },
     "execution_count": 12,
     "metadata": {},
     "output_type": "execute_result"
    },
    {
     "data": {
      "text/plain": [
       "KMeans(algorithm='auto', copy_x=True, init='k-means++', max_iter=300,\n",
       "       n_clusters=3, n_init=10, n_jobs=-1, precompute_distances='auto',\n",
       "       random_state=0, tol=0.0001, verbose=0)"
      ]
     },
     "execution_count": 12,
     "metadata": {},
     "output_type": "execute_result"
    },
    {
     "data": {
      "text/plain": [
       "KMeans(algorithm='auto', copy_x=True, init='k-means++', max_iter=300,\n",
       "       n_clusters=4, n_init=10, n_jobs=-1, precompute_distances='auto',\n",
       "       random_state=0, tol=0.0001, verbose=0)"
      ]
     },
     "execution_count": 12,
     "metadata": {},
     "output_type": "execute_result"
    },
    {
     "data": {
      "text/plain": [
       "KMeans(algorithm='auto', copy_x=True, init='k-means++', max_iter=300,\n",
       "       n_clusters=5, n_init=10, n_jobs=-1, precompute_distances='auto',\n",
       "       random_state=0, tol=0.0001, verbose=0)"
      ]
     },
     "execution_count": 12,
     "metadata": {},
     "output_type": "execute_result"
    },
    {
     "data": {
      "text/plain": [
       "KMeans(algorithm='auto', copy_x=True, init='k-means++', max_iter=300,\n",
       "       n_clusters=6, n_init=10, n_jobs=-1, precompute_distances='auto',\n",
       "       random_state=0, tol=0.0001, verbose=0)"
      ]
     },
     "execution_count": 12,
     "metadata": {},
     "output_type": "execute_result"
    },
    {
     "data": {
      "text/plain": [
       "KMeans(algorithm='auto', copy_x=True, init='k-means++', max_iter=300,\n",
       "       n_clusters=7, n_init=10, n_jobs=-1, precompute_distances='auto',\n",
       "       random_state=0, tol=0.0001, verbose=0)"
      ]
     },
     "execution_count": 12,
     "metadata": {},
     "output_type": "execute_result"
    },
    {
     "data": {
      "text/plain": [
       "KMeans(algorithm='auto', copy_x=True, init='k-means++', max_iter=300,\n",
       "       n_clusters=8, n_init=10, n_jobs=-1, precompute_distances='auto',\n",
       "       random_state=0, tol=0.0001, verbose=0)"
      ]
     },
     "execution_count": 12,
     "metadata": {},
     "output_type": "execute_result"
    },
    {
     "data": {
      "text/plain": [
       "KMeans(algorithm='auto', copy_x=True, init='k-means++', max_iter=300,\n",
       "       n_clusters=9, n_init=10, n_jobs=-1, precompute_distances='auto',\n",
       "       random_state=0, tol=0.0001, verbose=0)"
      ]
     },
     "execution_count": 12,
     "metadata": {},
     "output_type": "execute_result"
    },
    {
     "data": {
      "text/plain": [
       "KMeans(algorithm='auto', copy_x=True, init='k-means++', max_iter=300,\n",
       "       n_clusters=10, n_init=10, n_jobs=-1, precompute_distances='auto',\n",
       "       random_state=0, tol=0.0001, verbose=0)"
      ]
     },
     "execution_count": 12,
     "metadata": {},
     "output_type": "execute_result"
    },
    {
     "data": {
      "text/plain": [
       "[[Text(0, 0, '1'),\n",
       "  Text(0, 0, '2'),\n",
       "  Text(0, 0, '3'),\n",
       "  Text(0, 0, '4'),\n",
       "  Text(0, 0, '5'),\n",
       "  Text(0, 0, '6'),\n",
       "  Text(0, 0, '7'),\n",
       "  Text(0, 0, '8'),\n",
       "  Text(0, 0, '9'),\n",
       "  Text(0, 0, '10')]]"
      ]
     },
     "execution_count": 12,
     "metadata": {},
     "output_type": "execute_result"
    },
    {
     "data": {
      "image/png": "[encoded data removed]",
      "text/plain": [
       "<Figure size 864x432 with 1 Axes>"
      ]
     },
     "metadata": {
      "needs_background": "light"
     },
     "output_type": "display_data"
    }
   ],
   "source": [
    "sse = []                ###记录每个k值对应的SSE\n",
    "for k in range(1,11):\n",
    "    km = KMeans(n_clusters=k,random_state=0,n_jobs=-1)\n",
    "    km.fit(irisX)\n",
    "    sse.append(km.inertia_)\n",
    "ax = pd.Series(sse).plot(kind='line',figsize=(12,6),marker='o',grid=True,xticks=range(0,10))   #xticks：在哪些位置显示x轴刻度标签\n",
    "ax.set(xticklabels=range(1,11))        # 改变x轴标签显示，默认是从0开始"
   ]
  },
  {
   "cell_type": "markdown",
   "metadata": {
    "slideshow": {
     "slide_type": "fragment"
    }
   },
   "source": [
    "- 当$K=3$的时候，SSE**开始快速增大**，所以选择3个簇"
   ]
  },
  {
   "cell_type": "markdown",
   "metadata": {
    "slideshow": {
     "slide_type": "slide"
    }
   },
   "source": [
    "## 聚类ohlc数据"
   ]
  },
  {
   "cell_type": "markdown",
   "metadata": {
    "slideshow": {
     "slide_type": "fragment"
    }
   },
   "source": [
    "- 问题：识别市场状态（market regimes），趋势还是震荡？"
   ]
  },
  {
   "cell_type": "markdown",
   "metadata": {
    "slideshow": {
     "slide_type": "fragment"
    }
   },
   "source": [
    "### 读入数据"
   ]
  },
  {
   "cell_type": "code",
   "execution_count": 79,
   "metadata": {
    "slideshow": {
     "slide_type": "fragment"
    }
   },
   "outputs": [
    {
     "data": {
      "text/html": [
       "<div>\n",
       "<style scoped>\n",
       "    .dataframe tbody tr th:only-of-type {\n",
       "        vertical-align: middle;\n",
       "    }\n",
       "\n",
       "    .dataframe tbody tr th {\n",
       "        vertical-align: top;\n",
       "    }\n",
       "\n",
       "    .dataframe thead th {\n",
       "        text-align: right;\n",
       "    }\n",
       "</style>\n",
       "<table border=\"1\" class=\"dataframe\">\n",
       "  <thead>\n",
       "    <tr style=\"text-align: right;\">\n",
       "      <th></th>\n",
       "      <th>Date</th>\n",
       "      <th>Open</th>\n",
       "      <th>High</th>\n",
       "      <th>Low</th>\n",
       "      <th>Close</th>\n",
       "    </tr>\n",
       "  </thead>\n",
       "  <tbody>\n",
       "    <tr>\n",
       "      <th>0</th>\n",
       "      <td>2019-12-05 14:15:00</td>\n",
       "      <td>3423.0</td>\n",
       "      <td>3427.0</td>\n",
       "      <td>3422.0</td>\n",
       "      <td>3426.0</td>\n",
       "    </tr>\n",
       "    <tr>\n",
       "      <th>1</th>\n",
       "      <td>2019-12-05 14:16:00</td>\n",
       "      <td>3426.0</td>\n",
       "      <td>3428.0</td>\n",
       "      <td>3424.0</td>\n",
       "      <td>3427.0</td>\n",
       "    </tr>\n",
       "    <tr>\n",
       "      <th>2</th>\n",
       "      <td>2019-12-05 14:17:00</td>\n",
       "      <td>3428.0</td>\n",
       "      <td>3428.0</td>\n",
       "      <td>3426.0</td>\n",
       "      <td>3426.0</td>\n",
       "    </tr>\n",
       "    <tr>\n",
       "      <th>3</th>\n",
       "      <td>2019-12-05 14:18:00</td>\n",
       "      <td>3426.0</td>\n",
       "      <td>3427.0</td>\n",
       "      <td>3425.0</td>\n",
       "      <td>3427.0</td>\n",
       "    </tr>\n",
       "    <tr>\n",
       "      <th>4</th>\n",
       "      <td>2019-12-05 14:19:00</td>\n",
       "      <td>3427.0</td>\n",
       "      <td>3428.0</td>\n",
       "      <td>3426.0</td>\n",
       "      <td>3427.0</td>\n",
       "    </tr>\n",
       "  </tbody>\n",
       "</table>\n",
       "</div>"
      ],
      "text/plain": [
       "                  Date    Open    High     Low   Close\n",
       "0  2019-12-05 14:15:00  3423.0  3427.0  3422.0  3426.0\n",
       "1  2019-12-05 14:16:00  3426.0  3428.0  3424.0  3427.0\n",
       "2  2019-12-05 14:17:00  3428.0  3428.0  3426.0  3426.0\n",
       "3  2019-12-05 14:18:00  3426.0  3427.0  3425.0  3427.0\n",
       "4  2019-12-05 14:19:00  3427.0  3428.0  3426.0  3427.0"
      ]
     },
     "execution_count": 79,
     "metadata": {},
     "output_type": "execute_result"
    },
    {
     "data": {
      "text/plain": [
       "(54314, 5)"
      ]
     },
     "execution_count": 79,
     "metadata": {},
     "output_type": "execute_result"
    }
   ],
   "source": [
    "rbBar = pd.read_csv('./data/models/rbChangeContract.csv')\n",
    "rbBar.head()\n",
    "rbBar.shape"
   ]
  },
  {
   "cell_type": "code",
   "execution_count": 80,
   "metadata": {
    "slideshow": {
     "slide_type": "fragment"
    }
   },
   "outputs": [
    {
     "data": {
      "text/html": [
       "<div>\n",
       "<style scoped>\n",
       "    .dataframe tbody tr th:only-of-type {\n",
       "        vertical-align: middle;\n",
       "    }\n",
       "\n",
       "    .dataframe tbody tr th {\n",
       "        vertical-align: top;\n",
       "    }\n",
       "\n",
       "    .dataframe thead th {\n",
       "        text-align: right;\n",
       "    }\n",
       "</style>\n",
       "<table border=\"1\" class=\"dataframe\">\n",
       "  <thead>\n",
       "    <tr style=\"text-align: right;\">\n",
       "      <th></th>\n",
       "      <th>Open</th>\n",
       "      <th>High</th>\n",
       "      <th>Low</th>\n",
       "      <th>Close</th>\n",
       "    </tr>\n",
       "    <tr>\n",
       "      <th>Date</th>\n",
       "      <th></th>\n",
       "      <th></th>\n",
       "      <th></th>\n",
       "      <th></th>\n",
       "    </tr>\n",
       "  </thead>\n",
       "  <tbody>\n",
       "    <tr>\n",
       "      <th>2019-12-05 14:15:00</th>\n",
       "      <td>3423.0</td>\n",
       "      <td>3427.0</td>\n",
       "      <td>3422.0</td>\n",
       "      <td>3426.0</td>\n",
       "    </tr>\n",
       "    <tr>\n",
       "      <th>2019-12-05 14:16:00</th>\n",
       "      <td>3426.0</td>\n",
       "      <td>3428.0</td>\n",
       "      <td>3424.0</td>\n",
       "      <td>3427.0</td>\n",
       "    </tr>\n",
       "    <tr>\n",
       "      <th>2019-12-05 14:17:00</th>\n",
       "      <td>3428.0</td>\n",
       "      <td>3428.0</td>\n",
       "      <td>3426.0</td>\n",
       "      <td>3426.0</td>\n",
       "    </tr>\n",
       "    <tr>\n",
       "      <th>2019-12-05 14:18:00</th>\n",
       "      <td>3426.0</td>\n",
       "      <td>3427.0</td>\n",
       "      <td>3425.0</td>\n",
       "      <td>3427.0</td>\n",
       "    </tr>\n",
       "    <tr>\n",
       "      <th>2019-12-05 14:19:00</th>\n",
       "      <td>3427.0</td>\n",
       "      <td>3428.0</td>\n",
       "      <td>3426.0</td>\n",
       "      <td>3427.0</td>\n",
       "    </tr>\n",
       "  </tbody>\n",
       "</table>\n",
       "</div>"
      ],
      "text/plain": [
       "                       Open    High     Low   Close\n",
       "Date                                               \n",
       "2019-12-05 14:15:00  3423.0  3427.0  3422.0  3426.0\n",
       "2019-12-05 14:16:00  3426.0  3428.0  3424.0  3427.0\n",
       "2019-12-05 14:17:00  3428.0  3428.0  3426.0  3426.0\n",
       "2019-12-05 14:18:00  3426.0  3427.0  3425.0  3427.0\n",
       "2019-12-05 14:19:00  3427.0  3428.0  3426.0  3427.0"
      ]
     },
     "execution_count": 80,
     "metadata": {},
     "output_type": "execute_result"
    }
   ],
   "source": [
    "rbBar['Date'] = pd.to_datetime(rbBar['Date'],format='%Y-%m-%d %H:%M:%S')\n",
    "rbBar.set_index('Date',inplace=True)\n",
    "rbBar.head()"
   ]
  },
  {
   "cell_type": "markdown",
   "metadata": {
    "slideshow": {
     "slide_type": "slide"
    }
   },
   "source": [
    "### 归一化数据"
   ]
  },
  {
   "cell_type": "markdown",
   "metadata": {
    "slideshow": {
     "slide_type": "fragment"
    }
   },
   "source": [
    "- 目的：使得各交易时段的数据可比"
   ]
  },
  {
   "cell_type": "markdown",
   "metadata": {
    "slideshow": {
     "slide_type": "fragment"
    }
   },
   "source": [
    "- 以每个交易时段内的开盘价作为基准"
   ]
  },
  {
   "cell_type": "code",
   "execution_count": 81,
   "metadata": {
    "slideshow": {
     "slide_type": "fragment"
    }
   },
   "outputs": [
    {
     "data": {
      "text/html": [
       "<div>\n",
       "<style scoped>\n",
       "    .dataframe tbody tr th:only-of-type {\n",
       "        vertical-align: middle;\n",
       "    }\n",
       "\n",
       "    .dataframe tbody tr th {\n",
       "        vertical-align: top;\n",
       "    }\n",
       "\n",
       "    .dataframe thead th {\n",
       "        text-align: right;\n",
       "    }\n",
       "</style>\n",
       "<table border=\"1\" class=\"dataframe\">\n",
       "  <thead>\n",
       "    <tr style=\"text-align: right;\">\n",
       "      <th></th>\n",
       "      <th>Open</th>\n",
       "      <th>High</th>\n",
       "      <th>Low</th>\n",
       "      <th>Close</th>\n",
       "      <th>HO</th>\n",
       "      <th>LO</th>\n",
       "      <th>CO</th>\n",
       "    </tr>\n",
       "    <tr>\n",
       "      <th>Date</th>\n",
       "      <th></th>\n",
       "      <th></th>\n",
       "      <th></th>\n",
       "      <th></th>\n",
       "      <th></th>\n",
       "      <th></th>\n",
       "      <th></th>\n",
       "    </tr>\n",
       "  </thead>\n",
       "  <tbody>\n",
       "    <tr>\n",
       "      <th>2019-12-05 14:15:00</th>\n",
       "      <td>3423.0</td>\n",
       "      <td>3427.0</td>\n",
       "      <td>3422.0</td>\n",
       "      <td>3426.0</td>\n",
       "      <td>1.001169</td>\n",
       "      <td>0.999708</td>\n",
       "      <td>1.000876</td>\n",
       "    </tr>\n",
       "    <tr>\n",
       "      <th>2019-12-05 14:16:00</th>\n",
       "      <td>3426.0</td>\n",
       "      <td>3428.0</td>\n",
       "      <td>3424.0</td>\n",
       "      <td>3427.0</td>\n",
       "      <td>1.000584</td>\n",
       "      <td>0.999416</td>\n",
       "      <td>1.000292</td>\n",
       "    </tr>\n",
       "    <tr>\n",
       "      <th>2019-12-05 14:17:00</th>\n",
       "      <td>3428.0</td>\n",
       "      <td>3428.0</td>\n",
       "      <td>3426.0</td>\n",
       "      <td>3426.0</td>\n",
       "      <td>1.000000</td>\n",
       "      <td>0.999417</td>\n",
       "      <td>0.999417</td>\n",
       "    </tr>\n",
       "    <tr>\n",
       "      <th>2019-12-05 14:18:00</th>\n",
       "      <td>3426.0</td>\n",
       "      <td>3427.0</td>\n",
       "      <td>3425.0</td>\n",
       "      <td>3427.0</td>\n",
       "      <td>1.000292</td>\n",
       "      <td>0.999708</td>\n",
       "      <td>1.000292</td>\n",
       "    </tr>\n",
       "    <tr>\n",
       "      <th>2019-12-05 14:19:00</th>\n",
       "      <td>3427.0</td>\n",
       "      <td>3428.0</td>\n",
       "      <td>3426.0</td>\n",
       "      <td>3427.0</td>\n",
       "      <td>1.000292</td>\n",
       "      <td>0.999708</td>\n",
       "      <td>1.000000</td>\n",
       "    </tr>\n",
       "  </tbody>\n",
       "</table>\n",
       "</div>"
      ],
      "text/plain": [
       "                       Open    High     Low   Close        HO        LO  \\\n",
       "Date                                                                      \n",
       "2019-12-05 14:15:00  3423.0  3427.0  3422.0  3426.0  1.001169  0.999708   \n",
       "2019-12-05 14:16:00  3426.0  3428.0  3424.0  3427.0  1.000584  0.999416   \n",
       "2019-12-05 14:17:00  3428.0  3428.0  3426.0  3426.0  1.000000  0.999417   \n",
       "2019-12-05 14:18:00  3426.0  3427.0  3425.0  3427.0  1.000292  0.999708   \n",
       "2019-12-05 14:19:00  3427.0  3428.0  3426.0  3427.0  1.000292  0.999708   \n",
       "\n",
       "                           CO  \n",
       "Date                           \n",
       "2019-12-05 14:15:00  1.000876  \n",
       "2019-12-05 14:16:00  1.000292  \n",
       "2019-12-05 14:17:00  0.999417  \n",
       "2019-12-05 14:18:00  1.000292  \n",
       "2019-12-05 14:19:00  1.000000  "
      ]
     },
     "execution_count": 81,
     "metadata": {},
     "output_type": "execute_result"
    }
   ],
   "source": [
    "rbBar['HO'] = rbBar['High']/rbBar['Open']\n",
    "rbBar['LO'] = rbBar['Low']/rbBar['Open']\n",
    "rbBar['CO'] = rbBar['Close']/rbBar['Open']\n",
    "rbBar.head()"
   ]
  },
  {
   "cell_type": "code",
   "execution_count": 83,
   "metadata": {
    "slideshow": {
     "slide_type": "fragment"
    }
   },
   "outputs": [
    {
     "data": {
      "text/html": [
       "<div>\n",
       "<style scoped>\n",
       "    .dataframe tbody tr th:only-of-type {\n",
       "        vertical-align: middle;\n",
       "    }\n",
       "\n",
       "    .dataframe tbody tr th {\n",
       "        vertical-align: top;\n",
       "    }\n",
       "\n",
       "    .dataframe thead th {\n",
       "        text-align: right;\n",
       "    }\n",
       "</style>\n",
       "<table border=\"1\" class=\"dataframe\">\n",
       "  <thead>\n",
       "    <tr style=\"text-align: right;\">\n",
       "      <th></th>\n",
       "      <th>HO</th>\n",
       "      <th>LO</th>\n",
       "      <th>CO</th>\n",
       "    </tr>\n",
       "    <tr>\n",
       "      <th>Date</th>\n",
       "      <th></th>\n",
       "      <th></th>\n",
       "      <th></th>\n",
       "    </tr>\n",
       "  </thead>\n",
       "  <tbody>\n",
       "    <tr>\n",
       "      <th>2019-12-05 14:15:00</th>\n",
       "      <td>1.001169</td>\n",
       "      <td>0.999708</td>\n",
       "      <td>1.000876</td>\n",
       "    </tr>\n",
       "    <tr>\n",
       "      <th>2019-12-05 14:16:00</th>\n",
       "      <td>1.000584</td>\n",
       "      <td>0.999416</td>\n",
       "      <td>1.000292</td>\n",
       "    </tr>\n",
       "    <tr>\n",
       "      <th>2019-12-05 14:17:00</th>\n",
       "      <td>1.000000</td>\n",
       "      <td>0.999417</td>\n",
       "      <td>0.999417</td>\n",
       "    </tr>\n",
       "    <tr>\n",
       "      <th>2019-12-05 14:18:00</th>\n",
       "      <td>1.000292</td>\n",
       "      <td>0.999708</td>\n",
       "      <td>1.000292</td>\n",
       "    </tr>\n",
       "    <tr>\n",
       "      <th>2019-12-05 14:19:00</th>\n",
       "      <td>1.000292</td>\n",
       "      <td>0.999708</td>\n",
       "      <td>1.000000</td>\n",
       "    </tr>\n",
       "  </tbody>\n",
       "</table>\n",
       "</div>"
      ],
      "text/plain": [
       "                           HO        LO        CO\n",
       "Date                                             \n",
       "2019-12-05 14:15:00  1.001169  0.999708  1.000876\n",
       "2019-12-05 14:16:00  1.000584  0.999416  1.000292\n",
       "2019-12-05 14:17:00  1.000000  0.999417  0.999417\n",
       "2019-12-05 14:18:00  1.000292  0.999708  1.000292\n",
       "2019-12-05 14:19:00  1.000292  0.999708  1.000000"
      ]
     },
     "execution_count": 83,
     "metadata": {},
     "output_type": "execute_result"
    }
   ],
   "source": [
    "rbCluster = rbBar.loc[:,['HO','LO','CO']]\n",
    "rbCluster.head()"
   ]
  },
  {
   "cell_type": "markdown",
   "metadata": {
    "slideshow": {
     "slide_type": "slide"
    }
   },
   "source": [
    "### 选择`k`值"
   ]
  },
  {
   "cell_type": "code",
   "execution_count": 121,
   "metadata": {
    "slideshow": {
     "slide_type": "fragment"
    }
   },
   "outputs": [
    {
     "data": {
      "text/plain": [
       "KMeans(algorithm='auto', copy_x=True, init='k-means++', max_iter=300,\n",
       "       n_clusters=1, n_init=10, n_jobs=None, precompute_distances='auto',\n",
       "       random_state=10, tol=0.0001, verbose=0)"
      ]
     },
     "execution_count": 121,
     "metadata": {},
     "output_type": "execute_result"
    },
    {
     "data": {
      "text/plain": [
       "KMeans(algorithm='auto', copy_x=True, init='k-means++', max_iter=300,\n",
       "       n_clusters=2, n_init=10, n_jobs=None, precompute_distances='auto',\n",
       "       random_state=10, tol=0.0001, verbose=0)"
      ]
     },
     "execution_count": 121,
     "metadata": {},
     "output_type": "execute_result"
    },
    {
     "data": {
      "text/plain": [
       "KMeans(algorithm='auto', copy_x=True, init='k-means++', max_iter=300,\n",
       "       n_clusters=3, n_init=10, n_jobs=None, precompute_distances='auto',\n",
       "       random_state=10, tol=0.0001, verbose=0)"
      ]
     },
     "execution_count": 121,
     "metadata": {},
     "output_type": "execute_result"
    },
    {
     "data": {
      "text/plain": [
       "KMeans(algorithm='auto', copy_x=True, init='k-means++', max_iter=300,\n",
       "       n_clusters=4, n_init=10, n_jobs=None, precompute_distances='auto',\n",
       "       random_state=10, tol=0.0001, verbose=0)"
      ]
     },
     "execution_count": 121,
     "metadata": {},
     "output_type": "execute_result"
    },
    {
     "data": {
      "text/plain": [
       "KMeans(algorithm='auto', copy_x=True, init='k-means++', max_iter=300,\n",
       "       n_clusters=5, n_init=10, n_jobs=None, precompute_distances='auto',\n",
       "       random_state=10, tol=0.0001, verbose=0)"
      ]
     },
     "execution_count": 121,
     "metadata": {},
     "output_type": "execute_result"
    },
    {
     "data": {
      "text/plain": [
       "KMeans(algorithm='auto', copy_x=True, init='k-means++', max_iter=300,\n",
       "       n_clusters=6, n_init=10, n_jobs=None, precompute_distances='auto',\n",
       "       random_state=10, tol=0.0001, verbose=0)"
      ]
     },
     "execution_count": 121,
     "metadata": {},
     "output_type": "execute_result"
    },
    {
     "data": {
      "text/plain": [
       "KMeans(algorithm='auto', copy_x=True, init='k-means++', max_iter=300,\n",
       "       n_clusters=7, n_init=10, n_jobs=None, precompute_distances='auto',\n",
       "       random_state=10, tol=0.0001, verbose=0)"
      ]
     },
     "execution_count": 121,
     "metadata": {},
     "output_type": "execute_result"
    },
    {
     "data": {
      "text/plain": [
       "KMeans(algorithm='auto', copy_x=True, init='k-means++', max_iter=300,\n",
       "       n_clusters=8, n_init=10, n_jobs=None, precompute_distances='auto',\n",
       "       random_state=10, tol=0.0001, verbose=0)"
      ]
     },
     "execution_count": 121,
     "metadata": {},
     "output_type": "execute_result"
    },
    {
     "data": {
      "text/plain": [
       "KMeans(algorithm='auto', copy_x=True, init='k-means++', max_iter=300,\n",
       "       n_clusters=9, n_init=10, n_jobs=None, precompute_distances='auto',\n",
       "       random_state=10, tol=0.0001, verbose=0)"
      ]
     },
     "execution_count": 121,
     "metadata": {},
     "output_type": "execute_result"
    },
    {
     "data": {
      "text/plain": [
       "KMeans(algorithm='auto', copy_x=True, init='k-means++', max_iter=300,\n",
       "       n_clusters=10, n_init=10, n_jobs=None, precompute_distances='auto',\n",
       "       random_state=10, tol=0.0001, verbose=0)"
      ]
     },
     "execution_count": 121,
     "metadata": {},
     "output_type": "execute_result"
    },
    {
     "data": {
      "text/plain": [
       "[[Text(0, 0, '1'),\n",
       "  Text(0, 0, '2'),\n",
       "  Text(0, 0, '3'),\n",
       "  Text(0, 0, '4'),\n",
       "  Text(0, 0, '5'),\n",
       "  Text(0, 0, '6'),\n",
       "  Text(0, 0, '7'),\n",
       "  Text(0, 0, '8'),\n",
       "  Text(0, 0, '9'),\n",
       "  Text(0, 0, '10')]]"
      ]
     },
     "execution_count": 121,
     "metadata": {},
     "output_type": "execute_result"
    },
    {
     "data": {
      "image/png": "[encoded data removed]",
      "text/plain": [
       "<Figure size 864x432 with 1 Axes>"
      ]
     },
     "metadata": {
      "needs_background": "light"
     },
     "output_type": "display_data"
    }
   ],
   "source": [
    "rbSSE = []\n",
    "for i in range(1,11):\n",
    "    tmp = cluster.KMeans(n_clusters=i,random_state=10)\n",
    "    tmp.fit(rbCluster)\n",
    "    rbSSE.append(tmp.inertia_)\n",
    "axrb = pd.Series(rbSSE).plot(kind='line',figsize=(12,6),marker='o',grid=True,xticks=range(0,10))\n",
    "axrb.set(xticklabels=range(1,11))  "
   ]
  },
  {
   "cell_type": "markdown",
   "metadata": {
    "slideshow": {
     "slide_type": "fragment"
    }
   },
   "source": [
    "- 选择$k=3$"
   ]
  },
  {
   "cell_type": "markdown",
   "metadata": {
    "slideshow": {
     "slide_type": "slide"
    }
   },
   "source": [
    "### 聚类"
   ]
  },
  {
   "cell_type": "code",
   "execution_count": 113,
   "metadata": {
    "slideshow": {
     "slide_type": "fragment"
    }
   },
   "outputs": [
    {
     "data": {
      "text/plain": [
       "KMeans(algorithm='auto', copy_x=True, init='k-means++', max_iter=300,\n",
       "       n_clusters=3, n_init=10, n_jobs=None, precompute_distances='auto',\n",
       "       random_state=10, tol=0.0001, verbose=0)"
      ]
     },
     "execution_count": 113,
     "metadata": {},
     "output_type": "execute_result"
    }
   ],
   "source": [
    "rbkm = cluster.KMeans(n_clusters=3,random_state=10)\n",
    "rbkm.fit(rbCluster)"
   ]
  },
  {
   "cell_type": "code",
   "execution_count": 101,
   "metadata": {
    "slideshow": {
     "slide_type": "fragment"
    }
   },
   "outputs": [
    {
     "data": {
      "text/html": [
       "<div>\n",
       "<style scoped>\n",
       "    .dataframe tbody tr th:only-of-type {\n",
       "        vertical-align: middle;\n",
       "    }\n",
       "\n",
       "    .dataframe tbody tr th {\n",
       "        vertical-align: top;\n",
       "    }\n",
       "\n",
       "    .dataframe thead th {\n",
       "        text-align: right;\n",
       "    }\n",
       "</style>\n",
       "<table border=\"1\" class=\"dataframe\">\n",
       "  <thead>\n",
       "    <tr style=\"text-align: right;\">\n",
       "      <th></th>\n",
       "      <th>Open</th>\n",
       "      <th>High</th>\n",
       "      <th>Low</th>\n",
       "      <th>Close</th>\n",
       "      <th>HO</th>\n",
       "      <th>LO</th>\n",
       "      <th>CO</th>\n",
       "      <th>Cluster</th>\n",
       "    </tr>\n",
       "    <tr>\n",
       "      <th>Date</th>\n",
       "      <th></th>\n",
       "      <th></th>\n",
       "      <th></th>\n",
       "      <th></th>\n",
       "      <th></th>\n",
       "      <th></th>\n",
       "      <th></th>\n",
       "      <th></th>\n",
       "    </tr>\n",
       "  </thead>\n",
       "  <tbody>\n",
       "    <tr>\n",
       "      <th>2019-12-05 14:15:00</th>\n",
       "      <td>3423.0</td>\n",
       "      <td>3427.0</td>\n",
       "      <td>3422.0</td>\n",
       "      <td>3426.0</td>\n",
       "      <td>1.001169</td>\n",
       "      <td>0.999708</td>\n",
       "      <td>1.000876</td>\n",
       "      <td>2</td>\n",
       "    </tr>\n",
       "    <tr>\n",
       "      <th>2019-12-05 14:16:00</th>\n",
       "      <td>3426.0</td>\n",
       "      <td>3428.0</td>\n",
       "      <td>3424.0</td>\n",
       "      <td>3427.0</td>\n",
       "      <td>1.000584</td>\n",
       "      <td>0.999416</td>\n",
       "      <td>1.000292</td>\n",
       "      <td>0</td>\n",
       "    </tr>\n",
       "    <tr>\n",
       "      <th>2019-12-05 14:17:00</th>\n",
       "      <td>3428.0</td>\n",
       "      <td>3428.0</td>\n",
       "      <td>3426.0</td>\n",
       "      <td>3426.0</td>\n",
       "      <td>1.000000</td>\n",
       "      <td>0.999417</td>\n",
       "      <td>0.999417</td>\n",
       "      <td>1</td>\n",
       "    </tr>\n",
       "    <tr>\n",
       "      <th>2019-12-05 14:18:00</th>\n",
       "      <td>3426.0</td>\n",
       "      <td>3427.0</td>\n",
       "      <td>3425.0</td>\n",
       "      <td>3427.0</td>\n",
       "      <td>1.000292</td>\n",
       "      <td>0.999708</td>\n",
       "      <td>1.000292</td>\n",
       "      <td>0</td>\n",
       "    </tr>\n",
       "    <tr>\n",
       "      <th>2019-12-05 14:19:00</th>\n",
       "      <td>3427.0</td>\n",
       "      <td>3428.0</td>\n",
       "      <td>3426.0</td>\n",
       "      <td>3427.0</td>\n",
       "      <td>1.000292</td>\n",
       "      <td>0.999708</td>\n",
       "      <td>1.000000</td>\n",
       "      <td>0</td>\n",
       "    </tr>\n",
       "  </tbody>\n",
       "</table>\n",
       "</div>"
      ],
      "text/plain": [
       "                       Open    High     Low   Close        HO        LO  \\\n",
       "Date                                                                      \n",
       "2019-12-05 14:15:00  3423.0  3427.0  3422.0  3426.0  1.001169  0.999708   \n",
       "2019-12-05 14:16:00  3426.0  3428.0  3424.0  3427.0  1.000584  0.999416   \n",
       "2019-12-05 14:17:00  3428.0  3428.0  3426.0  3426.0  1.000000  0.999417   \n",
       "2019-12-05 14:18:00  3426.0  3427.0  3425.0  3427.0  1.000292  0.999708   \n",
       "2019-12-05 14:19:00  3427.0  3428.0  3426.0  3427.0  1.000292  0.999708   \n",
       "\n",
       "                           CO  Cluster  \n",
       "Date                                    \n",
       "2019-12-05 14:15:00  1.000876        2  \n",
       "2019-12-05 14:16:00  1.000292        0  \n",
       "2019-12-05 14:17:00  0.999417        1  \n",
       "2019-12-05 14:18:00  1.000292        0  \n",
       "2019-12-05 14:19:00  1.000000        0  "
      ]
     },
     "execution_count": 101,
     "metadata": {},
     "output_type": "execute_result"
    }
   ],
   "source": [
    "rbBar['Cluster'] = rbkm.labels_\n",
    "rbBar.head()"
   ]
  },
  {
   "cell_type": "code",
   "execution_count": 114,
   "metadata": {
    "slideshow": {
     "slide_type": "fragment"
    }
   },
   "outputs": [
    {
     "data": {
      "text/plain": [
       "0.4294822728303344"
      ]
     },
     "execution_count": 114,
     "metadata": {},
     "output_type": "execute_result"
    }
   ],
   "source": [
    "metrics.silhouette_score(rbCluster,rbkm.labels_)"
   ]
  },
  {
   "cell_type": "markdown",
   "metadata": {
    "slideshow": {
     "slide_type": "slide"
    }
   },
   "source": [
    "### 可视化展示"
   ]
  },
  {
   "cell_type": "code",
   "execution_count": 137,
   "metadata": {
    "slideshow": {
     "slide_type": "fragment"
    }
   },
   "outputs": [
    {
     "data": {
      "text/plain": [
       "<mpl_toolkits.mplot3d.art3d.Path3DCollection at 0x7f3fcedb8c18>"
      ]
     },
     "execution_count": 137,
     "metadata": {},
     "output_type": "execute_result"
    },
    {
     "data": {
      "text/plain": [
       "Text(0.5, 0, 'High/Open')"
      ]
     },
     "execution_count": 137,
     "metadata": {},
     "output_type": "execute_result"
    },
    {
     "data": {
      "text/plain": [
       "Text(0.5, 0, 'Low/Open')"
      ]
     },
     "execution_count": 137,
     "metadata": {},
     "output_type": "execute_result"
    },
    {
     "data": {
      "text/plain": [
       "Text(0.5, 0, 'Close/Open')"
      ]
     },
     "execution_count": 137,
     "metadata": {},
     "output_type": "execute_result"
    },
    {
     "data": {
      "image/png": "[encoded data removed]",
      "text/plain": [
       "<Figure size 864x648 with 1 Axes>"
      ]
     },
     "metadata": {},
     "output_type": "display_data"
    }
   ],
   "source": [
    "fig = plt.figure(figsize=(12, 9))\n",
    "ax = Axes3D(fig, elev=21, azim=-136)\n",
    "ax.scatter(\n",
    "    rbBar[\"HO\"], rbBar[\"LO\"], rbBar[\"CO\"], \n",
    "    c=rbkm.labels_.astype(np.float)\n",
    ")\n",
    "ax.set_xlabel('High/Open')\n",
    "ax.set_ylabel('Low/Open')\n",
    "ax.set_zlabel('Close/Open')\n",
    "plt.style.use('seaborn-poster')\n",
    "plt.show()"
   ]
  },
  {
   "cell_type": "markdown",
   "metadata": {
    "slideshow": {
     "slide_type": "slide"
    }
   },
   "source": [
    "# 阅读材料 "
   ]
  },
  {
   "cell_type": "markdown",
   "metadata": {
    "slideshow": {
     "slide_type": "fragment"
    }
   },
   "source": [
    "- Cavalcante, Rodolfo C., et al. [Computational Intelligence and Financial Markets: A Survey and Future Directions](https://www.sciencedirect.com/science/article/pii/S095741741630029X). Expert Systems with Applications 55 (2016): 194-211\n",
    "- SARMENTO S M, HORTA N. 2020. Enhancing a Pairs Trading strategy with the application of Machine Learning[J/OL]. Expert Systems with Applications, 158: 113490. https://doi.org/10.1016/j.eswa.2020.113490.\n"
   ]
  }
 ],
 "metadata": {
  "celltoolbar": "幻灯片",
  "hide_input": false,
  "kernelspec": {
   "display_name": "Python 3",
   "language": "python",
   "name": "python3"
  },
  "language_info": {
   "codemirror_mode": {
    "name": "ipython",
    "version": 3
   },
   "file_extension": ".py",
   "mimetype": "text/x-python",
   "name": "python",
   "nbconvert_exporter": "python",
   "pygments_lexer": "ipython3",
   "version": "3.6.8"
  },
  "toc": {
   "base_numbering": 1,
   "nav_menu": {},
   "number_sections": true,
   "sideBar": true,
   "skip_h1_title": false,
   "title_cell": "Table of Contents",
   "title_sidebar": "Contents",
   "toc_cell": false,
   "toc_position": {
    "height": "calc(100% - 180px)",
    "left": "10px",
    "top": "150px",
    "width": "245px"
   },
   "toc_section_display": true,
   "toc_window_display": true
  },
  "varInspector": {
   "cols": {
    "lenName": 16,
    "lenType": 16,
    "lenVar": 40
   },
   "kernels_config": {
    "python": {
     "delete_cmd_postfix": "",
     "delete_cmd_prefix": "del ",
     "library": "var_list.py",
     "varRefreshCmd": "print(var_dic_list())"
    },
    "r": {
     "delete_cmd_postfix": ") ",
     "delete_cmd_prefix": "rm(",
     "library": "var_list.r",
     "varRefreshCmd": "cat(var_dic_list()) "
    }
   },
   "types_to_exclude": [
    "module",
    "function",
    "builtin_function_or_method",
    "instance",
    "_Feature"
   ],
   "window_display": false
  }
 },
 "nbformat": 4,
 "nbformat_minor": 2
}
